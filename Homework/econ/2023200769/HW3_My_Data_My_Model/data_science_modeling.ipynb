{
 "cells": [
  {
   "cell_type": "markdown",
   "id": "0a431667-0ff6-4147-b7c9-3b59316803bc",
   "metadata": {},
   "source": [
    "## Modeling"
   ]
  },
  {
   "cell_type": "markdown",
   "id": "a02bc9f7-d597-43f2-8b8a-a5626f96fec9",
   "metadata": {},
   "source": [
    "### 导入依赖库"
   ]
  },
  {
   "cell_type": "code",
   "execution_count": 21,
   "id": "6e5b21d5-108d-4a2a-a118-4b35b297215d",
   "metadata": {},
   "outputs": [],
   "source": [
    "import pandas as pd\n",
    "import numpy as np\n",
    "import statsmodels.api as sm    # 用于线性回归建模\n",
    "import matplotlib.pyplot as plt\n",
    "import os\n",
    "\n",
    "# 设置中文字体（避免可视化时中文乱码）\n",
    "plt.rcParams['font.sans-serif'] = ['Microsoft YaHei']  \n",
    "plt.rcParams['axes.unicode_minus'] = False"
   ]
  },
  {
   "cell_type": "markdown",
   "id": "9c1874e6-abd9-40c5-af2b-fcfcc77eaabe",
   "metadata": {},
   "source": [
    "### 读取房价数据"
   ]
  },
  {
   "cell_type": "code",
   "execution_count": 7,
   "id": "ed311f98-fb9b-4c4f-bcaa-17e1741abddb",
   "metadata": {},
   "outputs": [
    {
     "name": "stdout",
     "output_type": "stream",
     "text": [
      "房价数据前 5 行：\n"
     ]
    },
    {
     "data": {
      "text/html": [
       "<div>\n",
       "<style scoped>\n",
       "    .dataframe tbody tr th:only-of-type {\n",
       "        vertical-align: middle;\n",
       "    }\n",
       "\n",
       "    .dataframe tbody tr th {\n",
       "        vertical-align: top;\n",
       "    }\n",
       "\n",
       "    .dataframe thead th {\n",
       "        text-align: right;\n",
       "    }\n",
       "</style>\n",
       "<table border=\"1\" class=\"dataframe\">\n",
       "  <thead>\n",
       "    <tr style=\"text-align: right;\">\n",
       "      <th></th>\n",
       "      <th>m2</th>\n",
       "      <th>price</th>\n",
       "      <th>location</th>\n",
       "      <th>data_type</th>\n",
       "      <th>price_per_m2</th>\n",
       "    </tr>\n",
       "  </thead>\n",
       "  <tbody>\n",
       "    <tr>\n",
       "      <th>0</th>\n",
       "      <td>125.54</td>\n",
       "      <td>1265.0</td>\n",
       "      <td>Qinghe</td>\n",
       "      <td>house_price</td>\n",
       "      <td>10.076470</td>\n",
       "    </tr>\n",
       "    <tr>\n",
       "      <th>1</th>\n",
       "      <td>166.00</td>\n",
       "      <td>1195.0</td>\n",
       "      <td>Qinghe</td>\n",
       "      <td>house_price</td>\n",
       "      <td>7.198795</td>\n",
       "    </tr>\n",
       "    <tr>\n",
       "      <th>2</th>\n",
       "      <td>180.00</td>\n",
       "      <td>1450.0</td>\n",
       "      <td>Qinghe</td>\n",
       "      <td>house_price</td>\n",
       "      <td>8.055556</td>\n",
       "    </tr>\n",
       "    <tr>\n",
       "      <th>3</th>\n",
       "      <td>97.68</td>\n",
       "      <td>1098.0</td>\n",
       "      <td>Qinghe</td>\n",
       "      <td>house_price</td>\n",
       "      <td>11.240786</td>\n",
       "    </tr>\n",
       "    <tr>\n",
       "      <th>4</th>\n",
       "      <td>237.70</td>\n",
       "      <td>2800.0</td>\n",
       "      <td>Qinghe</td>\n",
       "      <td>house_price</td>\n",
       "      <td>11.779554</td>\n",
       "    </tr>\n",
       "  </tbody>\n",
       "</table>\n",
       "</div>"
      ],
      "text/plain": [
       "       m2   price location    data_type  price_per_m2\n",
       "0  125.54  1265.0   Qinghe  house_price     10.076470\n",
       "1  166.00  1195.0   Qinghe  house_price      7.198795\n",
       "2  180.00  1450.0   Qinghe  house_price      8.055556\n",
       "3   97.68  1098.0   Qinghe  house_price     11.240786\n",
       "4  237.70  2800.0   Qinghe  house_price     11.779554"
      ]
     },
     "execution_count": 7,
     "metadata": {},
     "output_type": "execute_result"
    }
   ],
   "source": [
    "# 获取当前 Jupyter Lab 所在目录\n",
    "current_dir = os.getcwd()  \n",
    "\n",
    "# 定义房价数据的文件名（仅房价文件）\n",
    "price_file_names = [\n",
    "    \"Qinghe_house_price_cleaned.csv\",\n",
    "    \"Shangdi_house_price_cleaned.csv\",\n",
    "    \"Xierqi_house_price_cleaned.csv\",\n",
    "    \"Xisanqi_house_price_cleaned.csv\"\n",
    "]\n",
    "\n",
    "# 拼接“当前目录 + 房价文件名”得到完整路径\n",
    "price_file_paths = [os.path.join(current_dir, name) for name in price_file_names]\n",
    "\n",
    "# 批量读取并合并所有房价 CSV 文件\n",
    "price_df = pd.concat([pd.read_csv(path) for path in price_file_paths], ignore_index=True)\n",
    "\n",
    "# 查看房价数据前 5 行，确认格式\n",
    "print(\"房价数据前 5 行：\")\n",
    "price_df.head()"
   ]
  },
  {
   "cell_type": "markdown",
   "id": "8714a814-e28e-4102-ae82-08a2f729d6e5",
   "metadata": {},
   "source": [
    "### 读取租金数据"
   ]
  },
  {
   "cell_type": "code",
   "execution_count": 23,
   "id": "24399deb-664a-408f-9043-dee20adf695f",
   "metadata": {},
   "outputs": [
    {
     "name": "stdout",
     "output_type": "stream",
     "text": [
      "租金数据前 5 行：\n"
     ]
    },
    {
     "data": {
      "text/html": [
       "<div>\n",
       "<style scoped>\n",
       "    .dataframe tbody tr th:only-of-type {\n",
       "        vertical-align: middle;\n",
       "    }\n",
       "\n",
       "    .dataframe tbody tr th {\n",
       "        vertical-align: top;\n",
       "    }\n",
       "\n",
       "    .dataframe thead th {\n",
       "        text-align: right;\n",
       "    }\n",
       "</style>\n",
       "<table border=\"1\" class=\"dataframe\">\n",
       "  <thead>\n",
       "    <tr style=\"text-align: right;\">\n",
       "      <th></th>\n",
       "      <th>m2</th>\n",
       "      <th>price</th>\n",
       "      <th>location</th>\n",
       "      <th>data_type</th>\n",
       "      <th>rent_per_m2</th>\n",
       "    </tr>\n",
       "  </thead>\n",
       "  <tbody>\n",
       "    <tr>\n",
       "      <th>0</th>\n",
       "      <td>12.0</td>\n",
       "      <td>1700.0</td>\n",
       "      <td>Qinghe</td>\n",
       "      <td>house_rent</td>\n",
       "      <td>141.666667</td>\n",
       "    </tr>\n",
       "    <tr>\n",
       "      <th>1</th>\n",
       "      <td>85.0</td>\n",
       "      <td>6600.0</td>\n",
       "      <td>Qinghe</td>\n",
       "      <td>house_rent</td>\n",
       "      <td>77.647059</td>\n",
       "    </tr>\n",
       "    <tr>\n",
       "      <th>2</th>\n",
       "      <td>15.0</td>\n",
       "      <td>2350.0</td>\n",
       "      <td>Qinghe</td>\n",
       "      <td>house_rent</td>\n",
       "      <td>156.666667</td>\n",
       "    </tr>\n",
       "    <tr>\n",
       "      <th>3</th>\n",
       "      <td>40.0</td>\n",
       "      <td>5000.0</td>\n",
       "      <td>Qinghe</td>\n",
       "      <td>house_rent</td>\n",
       "      <td>125.000000</td>\n",
       "    </tr>\n",
       "    <tr>\n",
       "      <th>4</th>\n",
       "      <td>18.0</td>\n",
       "      <td>2000.0</td>\n",
       "      <td>Qinghe</td>\n",
       "      <td>house_rent</td>\n",
       "      <td>111.111111</td>\n",
       "    </tr>\n",
       "  </tbody>\n",
       "</table>\n",
       "</div>"
      ],
      "text/plain": [
       "     m2   price location   data_type  rent_per_m2\n",
       "0  12.0  1700.0   Qinghe  house_rent   141.666667\n",
       "1  85.0  6600.0   Qinghe  house_rent    77.647059\n",
       "2  15.0  2350.0   Qinghe  house_rent   156.666667\n",
       "3  40.0  5000.0   Qinghe  house_rent   125.000000\n",
       "4  18.0  2000.0   Qinghe  house_rent   111.111111"
      ]
     },
     "execution_count": 23,
     "metadata": {},
     "output_type": "execute_result"
    }
   ],
   "source": [
    "# 定义租金数据的文件名（仅租金文件）\n",
    "rent_file_names = [\n",
    "    \"Qinghe_house_rent_cleaned.csv\",\n",
    "    \"Shangdi_house_rent_cleaned.csv\",\n",
    "    \"Xierqi_house_rent_cleaned.csv\",\n",
    "    \"Xisanqi_house_rent_cleaned.csv\"\n",
    "]\n",
    "\n",
    "# 拼接“当前目录 + 租金文件名”得到完整路径\n",
    "rent_file_paths = [os.path.join(current_dir, name) for name in rent_file_names]\n",
    "\n",
    "# 批量读取并合并所有租金 CSV 文件\n",
    "rent_df = pd.concat([pd.read_csv(path) for path in rent_file_paths], ignore_index=True)\n",
    "\n",
    "# 查看租金数据前 5 行，确认格式\n",
    "print(\"租金数据前 5 行：\")\n",
    "rent_df.head()"
   ]
  },
  {
   "cell_type": "markdown",
   "id": "bafdd2ea-b343-4098-a226-ea61bfd1e047",
   "metadata": {},
   "source": [
    "### 房价数据 → 独热编码 + Model 1（预测每平米房价）"
   ]
  },
  {
   "cell_type": "code",
   "execution_count": 13,
   "id": "7ff69545-a992-42a0-a028-143c29441f5d",
   "metadata": {},
   "outputs": [
    {
     "name": "stdout",
     "output_type": "stream",
     "text": [
      "Model 1（预测每平米房价）的回归结果：\n",
      "                            OLS Regression Results                            \n",
      "==============================================================================\n",
      "Dep. Variable:           price_per_m2   R-squared:                       0.423\n",
      "Model:                            OLS   Adj. R-squared:                  0.422\n",
      "Method:                 Least Squares   F-statistic:                     734.1\n",
      "Date:                Thu, 16 Oct 2025   Prob (F-statistic):               0.00\n",
      "Time:                        19:26:16   Log-Likelihood:                -8848.5\n",
      "No. Observations:                4018   AIC:                         1.771e+04\n",
      "Df Residuals:                    4013   BIC:                         1.774e+04\n",
      "Df Model:                           4                                         \n",
      "Covariance Type:            nonrobust                                         \n",
      "==============================================================================\n",
      "                 coef    std err          t      P>|t|      [0.025      0.975]\n",
      "------------------------------------------------------------------------------\n",
      "const          9.0112      0.125     71.814      0.000       8.765       9.257\n",
      "m2             0.0076      0.001      9.417      0.000       0.006       0.009\n",
      "Shangdi       -0.8059      0.093     -8.641      0.000      -0.989      -0.623\n",
      "Xierqi        -3.2826      0.110    -29.925      0.000      -3.498      -3.068\n",
      "Xisanqi       -4.1856      0.098    -42.902      0.000      -4.377      -3.994\n",
      "==============================================================================\n",
      "Omnibus:                      294.901   Durbin-Watson:                   1.929\n",
      "Prob(Omnibus):                  0.000   Jarque-Bera (JB):              460.056\n",
      "Skew:                           0.578   Prob(JB):                    1.26e-100\n",
      "Kurtosis:                       4.188   Cond. No.                         599.\n",
      "==============================================================================\n",
      "\n",
      "Notes:\n",
      "[1] Standard Errors assume that the covariance matrix of the errors is correctly specified.\n"
     ]
    }
   ],
   "source": [
    "# 对房价数据的“location（街区）”做独热编码（drop_first=True 避免虚拟变量陷阱）\n",
    "price_location_dummies = pd.get_dummies(price_df['location'], drop_first=True)\n",
    "\n",
    "# 合并独热编码后的列与房价数据\n",
    "price_df_with_dummies = pd.concat([price_df, price_location_dummies], axis=1)\n",
    "\n",
    "# 布尔型转数值型\n",
    "for col in price_location_dummies.columns:\n",
    "    price_df_with_dummies[col] = price_df_with_dummies[col].astype(int)  # bool → int（True→1，False→0）\n",
    "\n",
    "# 定义 Model 1 的自变量（X_price）和因变量（y_price）\n",
    "X_price = price_df_with_dummies[['m2'] + price_location_dummies.columns.tolist()]    # 自变量：面积 + 街区独热编码\n",
    "y_price = price_df_with_dummies['price_per_m2']    # 因变量：每平米房价\n",
    "\n",
    "# 为线性回归添加常数项（statsmodels 要求显式指定截距项）\n",
    "X_price = sm.add_constant(X_price)\n",
    "\n",
    "# 初始化并拟合 OLS 线性回归模型\n",
    "model_price = sm.OLS(y_price, X_price)\n",
    "results_price = model_price.fit()\n",
    "\n",
    "# 打印 Model 1 的详细回归结果\n",
    "print(\"Model 1（预测每平米房价）的回归结果：\")\n",
    "print(results_price.summary())"
   ]
  },
  {
   "cell_type": "code",
   "execution_count": 15,
   "id": "fa42ee1b-89be-46e1-a80e-ad98db7a1a9c",
   "metadata": {},
   "outputs": [
    {
     "name": "stdout",
     "output_type": "stream",
     "text": [
      "Model 2（预测每平米租金）的回归结果：\n",
      "                            OLS Regression Results                            \n",
      "==============================================================================\n",
      "Dep. Variable:            rent_per_m2   R-squared:                       0.434\n",
      "Model:                            OLS   Adj. R-squared:                  0.433\n",
      "Method:                 Least Squares   F-statistic:                     635.1\n",
      "Date:                Thu, 16 Oct 2025   Prob (F-statistic):               0.00\n",
      "Time:                        19:26:34   Log-Likelihood:                -15438.\n",
      "No. Observations:                3322   AIC:                         3.089e+04\n",
      "Df Residuals:                    3317   BIC:                         3.092e+04\n",
      "Df Model:                           4                                         \n",
      "Covariance Type:            nonrobust                                         \n",
      "==============================================================================\n",
      "                 coef    std err          t      P>|t|      [0.025      0.975]\n",
      "------------------------------------------------------------------------------\n",
      "const        145.6676      1.169    124.625      0.000     143.376     147.959\n",
      "m2            -0.6357      0.013    -47.892      0.000      -0.662      -0.610\n",
      "Shangdi       12.1213      1.146     10.574      0.000       9.874      14.369\n",
      "Xierqi         6.6293      1.522      4.357      0.000       3.646       9.613\n",
      "Xisanqi      -15.1636      1.142    -13.278      0.000     -17.403     -12.925\n",
      "==============================================================================\n",
      "Omnibus:                     3847.988   Durbin-Watson:                   1.969\n",
      "Prob(Omnibus):                  0.000   Jarque-Bera (JB):          1834246.831\n",
      "Skew:                           5.387   Prob(JB):                         0.00\n",
      "Kurtosis:                     117.610   Cond. No.                         332.\n",
      "==============================================================================\n",
      "\n",
      "Notes:\n",
      "[1] Standard Errors assume that the covariance matrix of the errors is correctly specified.\n"
     ]
    }
   ],
   "source": [
    "# 对租金数据的“location（街区）”做独热编码（drop_first=True 避免虚拟变量陷阱）\n",
    "rent_location_dummies = pd.get_dummies(rent_df['location'], drop_first=True)\n",
    "\n",
    "# 合并独热编码后的列与租金数据\n",
    "rent_df_with_dummies = pd.concat([rent_df, rent_location_dummies], axis=1)\n",
    "\n",
    "# 布尔型转数值型\n",
    "for col in price_location_dummies.columns:\n",
    "    rent_df_with_dummies[col] = rent_df_with_dummies[col].astype(int)  # bool → int（True→1，False→0）\n",
    "\n",
    "# 定义 Model 2 的自变量（X_rent）和因变量（y_rent）\n",
    "X_rent = rent_df_with_dummies[['m2'] + rent_location_dummies.columns.tolist()]    # 自变量：面积 + 街区独热编码\n",
    "y_rent = rent_df_with_dummies['rent_per_m2']    # 因变量：每平米租金\n",
    "\n",
    "# 为线性回归添加常数项\n",
    "X_rent = sm.add_constant(X_rent)\n",
    "\n",
    "# 初始化并拟合 OLS 线性回归模型\n",
    "model_rent = sm.OLS(y_rent, X_rent)\n",
    "results_rent = model_rent.fit()\n",
    "\n",
    "# 打印 Model 2 的详细回归结果\n",
    "print(\"Model 2（预测每平米租金）的回归结果：\")\n",
    "print(results_rent.summary())"
   ]
  },
  {
   "cell_type": "markdown",
   "id": "f4cd1c57-37e7-486a-baa4-b56eb4f3467d",
   "metadata": {},
   "source": [
    "### 预测房价和租金计算租售比"
   ]
  },
  {
   "cell_type": "markdown",
   "id": "96f5fd8f-0ec5-486c-b5b8-d171f25f6581",
   "metadata": {},
   "source": [
    "#### 1. 准备全量数据的独热编码"
   ]
  },
  {
   "cell_type": "code",
   "execution_count": 65,
   "id": "5c5e1d25-e7f8-4c80-93a6-40965ca3d757",
   "metadata": {},
   "outputs": [],
   "source": [
    "# merged_df 是最开始合并的“所有房源数据”（含房价、租金）\n",
    "full_location_dummies = pd.get_dummies(merged_df['location'], drop_first=True)\n",
    "full_df_with_dummies = pd.concat([merged_df, full_location_dummies], axis=1)"
   ]
  },
  {
   "cell_type": "markdown",
   "id": "1a445aad-96a6-4eee-9f63-db6cc6fb3ff2",
   "metadata": {},
   "source": [
    "#### 2. 用 Model 1 预测全量数据的 “每平米房价”"
   ]
  },
  {
   "cell_type": "code",
   "execution_count": 69,
   "id": "0984bb8d-1396-488a-af1b-09757e65728f",
   "metadata": {},
   "outputs": [],
   "source": [
    "full_location_dummies = pd.get_dummies(merged_df['location'], drop_first=True)\n",
    "full_df_with_dummies = pd.concat([merged_df, full_location_dummies], axis=1)\n",
    "# 构造房价模型的自变量（和 Model 1 输入一致）\n",
    "X_full_price = full_df_with_dummies[['m2'] + full_location_dummies.columns.tolist()]\n",
    "X_full_price = sm.add_constant(X_full_price)    # 加常数项\n",
    "\n",
    "# 预测房价\n",
    "full_df_with_dummies['pred_price_per_m2'] = results_price.predict(X_full_price)"
   ]
  },
  {
   "cell_type": "markdown",
   "id": "90445593-9258-441d-9abf-5efcd1f81909",
   "metadata": {},
   "source": [
    "#### 3. 用Model 2 预测全量数据的 “每平米租金” "
   ]
  },
  {
   "cell_type": "code",
   "execution_count": 80,
   "id": "99fb522d-9d29-48dc-ab22-5e1e0f95b7a5",
   "metadata": {},
   "outputs": [],
   "source": [
    "# 构造租金模型的自变量（和 Model 2 输入一致）\n",
    "X_full_rent = full_df_with_dummies[['m2'] + full_location_dummies.columns.tolist()]\n",
    "X_full_rent = sm.add_constant(X_full_rent)    # 加常数项\n",
    "\n",
    "# 预测租金\n",
    "full_df_with_dummies['pred_rent_per_m2'] = results_rent.predict(X_full_rent)"
   ]
  },
  {
   "cell_type": "markdown",
   "id": "3d7903b6-8a1d-42b5-b5e4-90ed7e374089",
   "metadata": {},
   "source": [
    "#### 4.计算租售比"
   ]
  },
  {
   "cell_type": "code",
   "execution_count": 75,
   "id": "180231d2-9536-49ed-8d6a-b5dd610ff5a7",
   "metadata": {},
   "outputs": [],
   "source": [
    "# 计算租售比：房价（万元/㎡）×10000 → 元/㎡，再 ÷ 租金（元/㎡/月）\n",
    "full_df_with_dummies['price_to_rent_ratio'] = (full_df_with_dummies['pred_price_per_m2'] * 10000) / full_df_with_dummies['pred_rent_per_m2']"
   ]
  },
  {
   "cell_type": "code",
   "execution_count": 82,
   "id": "2766fcd4-e669-45fd-9661-98f6e92efbf7",
   "metadata": {},
   "outputs": [
    {
     "data": {
      "image/png": "[encoded data removed]",
      "text/plain": [
       "<Figure size 1000x600 with 1 Axes>"
      ]
     },
     "metadata": {},
     "output_type": "display_data"
    }
   ],
   "source": [
    "# 按“街区”分组，计算租售比的中位数\n",
    "median_ratio = full_df_with_dummies.groupby('location')['price_to_rent_ratio'].median()\n",
    "\n",
    "# 绘制柱状图\n",
    "plt.figure(figsize=(10, 6))\n",
    "# 绘制柱状图，同时获取图表对象（用于后续标注）\n",
    "ax = median_ratio.plot(kind='bar', color='skyblue')\n",
    "\n",
    "# 为每个柱状图标注“租售比中位值”\n",
    "for i, median_val in enumerate(median_ratio):\n",
    "    # 在柱子顶部标注数值，ha='center' 表示水平居中，va='bottom' 表示垂直靠下\n",
    "    # f'{median_val:.1f}' 表示保留1位小数（可根据需要调整精度）\n",
    "    ax.text(\n",
    "        i, \n",
    "        median_val + 10,    # 数值垂直位置（+10 是为了让标注在柱子上方，避免重叠）\n",
    "        f'{median_val:.1f}',  \n",
    "        ha='center', \n",
    "        va='bottom',\n",
    "        fontsize=9\n",
    "    )\n",
    "\n",
    "# 设置图表标题、坐标轴标签\n",
    "plt.title('rent ratio')\n",
    "plt.xlabel('block')\n",
    "plt.ylabel('median rent ratio')    # 单位为“月”，表示“租金覆盖房价所需的月数”\n",
    "plt.xticks(rotation=45)\n",
    "plt.tight_layout()    # 自动调整布局，避免标签截断\n",
    "plt.show()"
   ]
  },
  {
   "cell_type": "markdown",
   "id": "2e83dbd3-6e74-4e1d-9095-c090e2358768",
   "metadata": {},
   "source": [
    "## Modeling Pro Max"
   ]
  },
  {
   "cell_type": "markdown",
   "id": "9d568634-519e-41e5-9b08-55a2f19d6f8a",
   "metadata": {},
   "source": [
    "### 生成交互项"
   ]
  },
  {
   "cell_type": "code",
   "execution_count": 32,
   "id": "b46fe1b6-3507-4b65-ab7c-b43611db1ab9",
   "metadata": {},
   "outputs": [
    {
     "name": "stdout",
     "output_type": "stream",
     "text": [
      "房价数据的街区独热编码列： ['Shangdi', 'Xierqi', 'Xisanqi']\n"
     ]
    }
   ],
   "source": [
    "# 假设 price_location_dummies 是房价数据的街区独热编码（pd.get_dummies 结果）\n",
    "print(\"房价数据的街区独热编码列：\", price_location_dummies.columns.tolist())"
   ]
  },
  {
   "cell_type": "code",
   "execution_count": 86,
   "id": "d2d4a0e3-566b-42cb-aa4e-46aef5fb3438",
   "metadata": {},
   "outputs": [
    {
     "name": "stdout",
     "output_type": "stream",
     "text": [
      "房价数据新增的交互项列： ['m2_Shangdi', 'm2_Xierqi', 'm2_Xisanqi']\n"
     ]
    }
   ],
   "source": [
    "# 遍历每个街区独热编码列，生成交互项\n",
    "for block_col in price_location_dummies.columns:\n",
    "    interaction_col_name = f\"m2_{block_col}\"    # 交互项列名（如 m2_Shangdi）\n",
    "    price_df_with_dummies[interaction_col_name] = price_df_with_dummies['m2'] * price_df_with_dummies[block_col]\n",
    "\n",
    "# 查看生成的交互项\n",
    "print(\"房价数据新增的交互项列：\", \n",
    "      [col for col in price_df_with_dummies.columns if col.startswith(\"m2_\")])"
   ]
  },
  {
   "cell_type": "code",
   "execution_count": 36,
   "id": "8bf2065a-e527-4440-960e-775223d72745",
   "metadata": {},
   "outputs": [
    {
     "name": "stdout",
     "output_type": "stream",
     "text": [
      "租金数据新增的交互项列： ['m2_Shangdi', 'm2_Xierqi', 'm2_Xisanqi']\n"
     ]
    }
   ],
   "source": [
    "# 假设 rent_location_dummies 是租金数据的街区独热编码\n",
    "for block_col in rent_location_dummies.columns:\n",
    "    interaction_col_name = f\"m2_{block_col}\"\n",
    "    rent_df_with_dummies[interaction_col_name] = rent_df_with_dummies['m2'] * rent_df_with_dummies[block_col]\n",
    "\n",
    "print(\"租金数据新增的交互项列：\", \n",
    "      [col for col in rent_df_with_dummies.columns if col.startswith(\"m2_\")])"
   ]
  },
  {
   "cell_type": "markdown",
   "id": "ca01c8a1-2e01-41b5-afed-ef05ab2dbce4",
   "metadata": {},
   "source": [
    "### 训练增强版模型"
   ]
  },
  {
   "cell_type": "code",
   "execution_count": 88,
   "id": "7710527b-20ea-42af-8705-721f7f4d4834",
   "metadata": {},
   "outputs": [
    {
     "name": "stdout",
     "output_type": "stream",
     "text": [
      "Model 1+（含所有街区×面积交互项）的回归结果：\n",
      "                            OLS Regression Results                            \n",
      "==============================================================================\n",
      "Dep. Variable:           price_per_m2   R-squared:                       0.490\n",
      "Model:                            OLS   Adj. R-squared:                  0.489\n",
      "Method:                 Least Squares   F-statistic:                     550.6\n",
      "Date:                Thu, 16 Oct 2025   Prob (F-statistic):               0.00\n",
      "Time:                        19:34:53   Log-Likelihood:                -8598.5\n",
      "No. Observations:                4018   AIC:                         1.721e+04\n",
      "Df Residuals:                    4010   BIC:                         1.726e+04\n",
      "Df Model:                           7                                         \n",
      "Covariance Type:            nonrobust                                         \n",
      "==============================================================================\n",
      "                 coef    std err          t      P>|t|      [0.025      0.975]\n",
      "------------------------------------------------------------------------------\n",
      "const          7.3136      0.161     45.542      0.000       6.999       7.628\n",
      "m2             0.0203      0.001     18.228      0.000       0.018       0.023\n",
      "Shangdi        4.3204      0.246     17.575      0.000       3.838       4.802\n",
      "Xierqi        -2.5856      0.285     -9.075      0.000      -3.144      -2.027\n",
      "Xisanqi       -2.3190      0.246     -9.438      0.000      -2.801      -1.837\n",
      "m2_Shangdi    -0.0445      0.002    -22.522      0.000      -0.048      -0.041\n",
      "m2_Xierqi     -0.0036      0.002     -1.591      0.112      -0.008       0.001\n",
      "m2_Xisanqi    -0.0145      0.002     -6.789      0.000      -0.019      -0.010\n",
      "==============================================================================\n",
      "Omnibus:                       96.092   Durbin-Watson:                   1.971\n",
      "Prob(Omnibus):                  0.000   Jarque-Bera (JB):              144.626\n",
      "Skew:                           0.247   Prob(JB):                     3.93e-32\n",
      "Kurtosis:                       3.788   Cond. No.                     1.48e+03\n",
      "==============================================================================\n",
      "\n",
      "Notes:\n",
      "[1] Standard Errors assume that the covariance matrix of the errors is correctly specified.\n",
      "[2] The condition number is large, 1.48e+03. This might indicate that there are\n",
      "strong multicollinearity or other numerical problems.\n"
     ]
    }
   ],
   "source": [
    "# 选择自变量列：面积、街区独热编码、所有“m2_街区”交互项\n",
    "features_plus = (\n",
    "    ['m2']  # 原始面积特征\n",
    "    + price_location_dummies.columns.tolist()    # 原始街区独热编码\n",
    "    + [col for col in price_df_with_dummies.columns if col.startswith(\"m2_\")]    # 所有交互项\n",
    ")\n",
    "\n",
    "X_price_plus = price_df_with_dummies[features_plus]\n",
    "X_price_plus = sm.add_constant(X_price_plus)    # 添加截距项（statsmodels 要求）\n",
    "\n",
    "y_price = price_df_with_dummies['price_per_m2']    # 因变量：每平米房价\n",
    "\n",
    "# 训练 Model 1+\n",
    "model_price_plus = sm.OLS(y_price, X_price_plus)\n",
    "results_price_plus = model_price_plus.fit()\n",
    "\n",
    "# 查看 Model 1+ 的回归结果（重点关注 R² 变化）\n",
    "print(\"Model 1+（含所有街区×面积交互项）的回归结果：\")\n",
    "print(results_price_plus.summary())"
   ]
  },
  {
   "cell_type": "code",
   "execution_count": 84,
   "id": "d6b5b432-35bb-42db-b205-d27c948e6e05",
   "metadata": {},
   "outputs": [
    {
     "name": "stdout",
     "output_type": "stream",
     "text": [
      "Model 2+（含所有街区×面积交互项）的回归结果：\n",
      "                            OLS Regression Results                            \n",
      "==============================================================================\n",
      "Dep. Variable:            rent_per_m2   R-squared:                       0.455\n",
      "Model:                            OLS   Adj. R-squared:                  0.454\n",
      "Method:                 Least Squares   F-statistic:                     394.8\n",
      "Date:                Thu, 16 Oct 2025   Prob (F-statistic):               0.00\n",
      "Time:                        19:34:09   Log-Likelihood:                -15375.\n",
      "No. Observations:                3322   AIC:                         3.077e+04\n",
      "Df Residuals:                    3314   BIC:                         3.081e+04\n",
      "Df Model:                           7                                         \n",
      "Covariance Type:            nonrobust                                         \n",
      "==============================================================================\n",
      "                 coef    std err          t      P>|t|      [0.025      0.975]\n",
      "------------------------------------------------------------------------------\n",
      "const        153.9825      1.912     80.546      0.000     150.234     157.731\n",
      "m2            -0.7632      0.027    -28.460      0.000      -0.816      -0.711\n",
      "Shangdi       -4.8415      2.710     -1.786      0.074     -10.156       0.473\n",
      "Xierqi       -16.8022      3.414     -4.922      0.000     -23.495     -10.109\n",
      "Xisanqi      -11.6064      2.729     -4.252      0.000     -16.958      -6.255\n",
      "m2_Shangdi     0.2343      0.034      6.803      0.000       0.167       0.302\n",
      "m2_Xierqi      0.3128      0.041      7.627      0.000       0.232       0.393\n",
      "m2_Xisanqi    -0.0571      0.038     -1.487      0.137      -0.132       0.018\n",
      "==============================================================================\n",
      "Omnibus:                     3858.153   Durbin-Watson:                   1.968\n",
      "Prob(Omnibus):                  0.000   Jarque-Bera (JB):          1931688.703\n",
      "Skew:                           5.397   Prob(JB):                         0.00\n",
      "Kurtosis:                     120.640   Cond. No.                         891.\n",
      "==============================================================================\n",
      "\n",
      "Notes:\n",
      "[1] Standard Errors assume that the covariance matrix of the errors is correctly specified.\n"
     ]
    }
   ],
   "source": [
    "# 选择租金模型的自变量列\n",
    "features_rent_plus = (\n",
    "    ['m2'] \n",
    "    + rent_location_dummies.columns.tolist() \n",
    "    + [col for col in rent_df_with_dummies.columns if col.startswith(\"m2_\")]\n",
    ")\n",
    "\n",
    "X_rent_plus = rent_df_with_dummies[features_rent_plus]\n",
    "X_rent_plus = sm.add_constant(X_rent_plus)\n",
    "\n",
    "y_rent = rent_df_with_dummies['rent_per_m2']    # 因变量：每平米租金\n",
    "\n",
    "# 训练 Model 2+\n",
    "model_rent_plus = sm.OLS(y_rent, X_rent_plus)\n",
    "results_rent_plus = model_rent_plus.fit()\n",
    "\n",
    "print(\"Model 2+（含所有街区×面积交互项）的回归结果：\")\n",
    "print(results_rent_plus.summary())"
   ]
  },
  {
   "cell_type": "markdown",
   "id": "be9c09e9-b3be-40fc-8947-18ec45266b87",
   "metadata": {},
   "source": [
    "### 预测房价和租金计算租售比"
   ]
  },
  {
   "cell_type": "markdown",
   "id": "9b3640df-cc36-40ae-9421-32b22a6b21de",
   "metadata": {},
   "source": [
    "#### 1. 处理全量数据"
   ]
  },
  {
   "cell_type": "code",
   "execution_count": 49,
   "id": "f436acfb-e8dd-46c3-ab59-f76074ef27b1",
   "metadata": {},
   "outputs": [],
   "source": [
    "# 生成街区独热编码（与训练时保持 drop_first=True 逻辑）\n",
    "full_location_dummies = pd.get_dummies(merged_df['location'], drop_first=True)\n",
    "merged_df_with_dummies = pd.concat([merged_df, full_location_dummies], axis=1)\n",
    "\n",
    "# 生成所有“m2_街区”交互项\n",
    "for block_col in full_location_dummies.columns:\n",
    "    merged_df_with_dummies[f'm2_{block_col}'] = merged_df_with_dummies['m2'] * merged_df_with_dummies[block_col]"
   ]
  },
  {
   "cell_type": "markdown",
   "id": "529ee1a9-c5bd-4272-8ddc-63c57a128f1d",
   "metadata": {},
   "source": [
    "#### 2. 用 Model 1+ 预测全量数据的 “每平米房价”"
   ]
  },
  {
   "cell_type": "code",
   "execution_count": 52,
   "id": "96c98c6d-ef71-4f8e-a2e7-41eb27ce2791",
   "metadata": {},
   "outputs": [],
   "source": [
    "# 构造房价模型的自变量（与 Model 1+ 输入特征一致）\n",
    "features_price_plus = (\n",
    "    ['m2'] \n",
    "    + price_location_dummies.columns.tolist()    # 原始街区独热编码列\n",
    "    + [col for col in price_df_with_dummies.columns if col.startswith(\"m2_\")]    # 所有“m2_街区”交互项\n",
    ")\n",
    "X_full_price = merged_df_with_dummies[features_price_plus]\n",
    "X_full_price = sm.add_constant(X_full_price)    # 添加截距项（statsmodels 要求）\n",
    "\n",
    "# 预测每平米房价\n",
    "merged_df_with_dummies['pred_price_per_m2'] = results_price_plus.predict(X_full_price)"
   ]
  },
  {
   "cell_type": "markdown",
   "id": "0cd0a158-d028-4ec1-b60c-73c9ea4ef446",
   "metadata": {},
   "source": [
    "#### 3. 用 Model 2+ 预测全量数据的 “每平米租金”"
   ]
  },
  {
   "cell_type": "code",
   "execution_count": 58,
   "id": "3b1f6f18-71dc-40a0-8ae0-0f24bf53e69f",
   "metadata": {},
   "outputs": [],
   "source": [
    "# 构造租金模型的自变量（与 Model 2+ 输入特征一致）\n",
    "features_rent_plus = (\n",
    "    ['m2'] \n",
    "    + rent_location_dummies.columns.tolist()    # 原始街区独热编码列\n",
    "    + [col for col in rent_df_with_dummies.columns if col.startswith(\"m2_\")]    # 所有“m2_街区”交互项\n",
    ")\n",
    "X_full_rent = merged_df_with_dummies[features_rent_plus]\n",
    "X_full_rent = sm.add_constant(X_full_rent)    # 添加截距项\n",
    "\n",
    "# 预测每平米租金\n",
    "merged_df_with_dummies['pred_rent_per_m2'] = results_rent_plus.predict(X_full_rent)"
   ]
  },
  {
   "cell_type": "markdown",
   "id": "4ca3ed09-f34d-47a4-bab9-6a241dfbedf9",
   "metadata": {},
   "source": [
    "#### 4，计算租售比"
   ]
  },
  {
   "cell_type": "code",
   "execution_count": 61,
   "id": "22afb772-9ca4-430f-86b9-dbe4dc77311e",
   "metadata": {},
   "outputs": [],
   "source": [
    "# 计算租售比（单位转换：房价从“万元”转“元”）\n",
    "merged_df_with_dummies['price_to_rent_ratio'] = (merged_df_with_dummies['pred_price_per_m2'] * 10000) / merged_df_with_dummies['pred_rent_per_m2']"
   ]
  },
  {
   "cell_type": "code",
   "execution_count": 63,
   "id": "1e6d73bd-cf5f-484b-b0db-4a9749c396ad",
   "metadata": {},
   "outputs": [
    {
     "data": {
      "image/png": "[encoded data removed]",
      "text/plain": [
       "<Figure size 1000x600 with 1 Axes>"
      ]
     },
     "metadata": {},
     "output_type": "display_data"
    }
   ],
   "source": [
    "# 按街区分组，计算租售比的中位数\n",
    "median_ratio = merged_df_with_dummies.groupby('location')['price_to_rent_ratio'].median()\n",
    "\n",
    "# 绘制柱状图\n",
    "plt.figure(figsize=(10, 6))\n",
    "# 绘制柱状图，同时获取图表对象（用于后续标注）\n",
    "ax = median_ratio.plot(kind='bar', color='skyblue')\n",
    "\n",
    "# 为每个柱状图标注“租售比中位值”\n",
    "for i, median_val in enumerate(median_ratio):\n",
    "    # 在柱子顶部标注数值，ha='center' 表示水平居中，va='bottom' 表示垂直靠下\n",
    "    # f'{median_val:.1f}' 表示保留1位小数（可根据需要调整精度）\n",
    "    ax.text(\n",
    "        i, \n",
    "        median_val + 10,    # 数值垂直位置（+10 是为了让标注在柱子上方，避免重叠）\n",
    "        f'{median_val:.1f}',  \n",
    "        ha='center', \n",
    "        va='bottom',\n",
    "        fontsize=9\n",
    "    )\n",
    "\n",
    "# 设置图表标题、坐标轴标签\n",
    "plt.title('rent ratio')\n",
    "plt.xlabel('block')\n",
    "plt.ylabel('median rent ratio')    # 单位为“月”，表示“租金覆盖房价所需的月数”\n",
    "plt.xticks(rotation=45)\n",
    "plt.tight_layout()    # 自动调整布局，避免标签截断\n",
    "plt.show()"
   ]
  },
  {
   "cell_type": "markdown",
   "id": "fabf8683-d421-448b-8274-a6e31d264cf7",
   "metadata": {},
   "source": [
    "## Comments:"
   ]
  },
  {
   "cell_type": "markdown",
   "id": "5549a410-4ab7-4f74-b49c-01fb0bf402bc",
   "metadata": {},
   "source": [
    "### 1. 三种方法的租售比对比"
   ]
  },
  {
   "cell_type": "markdown",
   "id": "92bf236a-60cd-4453-b942-79d13a03e9f3",
   "metadata": {},
   "source": [
    "- 直接从原始数据取中位数：单纯计算观测值的中位数，完全没利用 “面积”“街区” 等特征间的关系，忽略了这些因素对房价 / 租金的联合影响。\n",
    "-  基础线性回归：仅捕捉特征间的线性关系，忽略 “面积与街区的组合作用”（如不同街区中面积对房价的影响规律差异）\n",
    "- 含交互项的非线性回归（增强模型）：纳入“面积 × 街区” 的交互作用 如面积在不同街区对房价的影响有差异），更贴合 “不同街区的地段、配套会让‘面积价值’有区别” 的逻辑。"
   ]
  },
  {
   "cell_type": "markdown",
   "id": "7573c8c6-f0c0-41db-ac1d-844a04d20d94",
   "metadata": {},
   "source": [
    "### 2. 基于样本量该信任哪种方法？"
   ]
  },
  {
   "cell_type": "markdown",
   "id": "85207263-0e3e-4471-bebb-15cd91789f49",
   "metadata": {},
   "source": [
    "- 若样本量足够大（能支撑复杂模型训练且不发生 “过拟合”），最该信任 “含交互项的非线性回归（增强模型）”。\n",
    "- 原因：它考虑了“街区与面积的联合作用” 等更真实的特征关系，对房价、租金的预测更精准，由此计算的租售比也更能反映真实的 “房价 - 租金匹配规律”。\n",
    "- 相比之下：“直接取原始中位数” 浪费了特征间的关联信息；“基础线性回归” 过于简单，没覆盖现实中存在交互效应。因此，只要样本量能支撑复杂模型，增强模型的结果最值得信任。"
   ]
  }
 ],
 "metadata": {
  "kernelspec": {
   "display_name": "Python [conda env:base] *",
   "language": "python",
   "name": "conda-base-py"
  },
  "language_info": {
   "codemirror_mode": {
    "name": "ipython",
    "version": 3
   },
   "file_extension": ".py",
   "mimetype": "text/x-python",
   "name": "python",
   "nbconvert_exporter": "python",
   "pygments_lexer": "ipython3",
   "version": "3.12.3"
  }
 },
 "nbformat": 4,
 "nbformat_minor": 5
}
