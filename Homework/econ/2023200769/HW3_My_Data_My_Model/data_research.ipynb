{
 "cells": [
  {
   "cell_type": "markdown",
   "id": "e1453fdd-6436-40cb-b7a2-14573df881a0",
   "metadata": {},
   "source": [
    "### 导入依赖库"
   ]
  },
  {
   "cell_type": "code",
   "execution_count": 10,
   "id": "8cc0ed26-5c16-452d-9820-d9109d9c33c7",
   "metadata": {},
   "outputs": [],
   "source": [
    "# 导入依赖库\n",
    "import pandas as pd\n",
    "import numpy as np\n",
    "import matplotlib.pyplot as plt\n",
    "import os\n",
    "\n",
    "# 设置中文字体（解决matplotlib中文显示问题）\n",
    "plt.rcParams['font.sans-serif'] = ['Microsoft YaHei']\n",
    "plt.rcParams['axes.unicode_minus'] = False  # 解决负号显示问题"
   ]
  },
  {
   "cell_type": "markdown",
   "id": "0cbcbc75-f432-4245-8461-7bae5559eaaa",
   "metadata": {},
   "source": [
    "### 数据读取与初步整合"
   ]
  },
  {
   "cell_type": "markdown",
   "id": "d12e2e66-8fc0-4e1f-9c9e-aa4c75c48829",
   "metadata": {},
   "source": [
    "#### 1. 定义文件路径"
   ]
  },
  {
   "cell_type": "code",
   "execution_count": 14,
   "id": "4be6140d-125c-4848-acf6-64ff2c8f4472",
   "metadata": {},
   "outputs": [],
   "source": [
    "# 定义4个街区的房价/租金文件路径（键：街区名，值：房价/租金文件名）\n",
    "file_paths = {\n",
    "    'Xisanqi': {'price': 'Xisanqi_Price.csv', 'rent': 'Xisanqi_Rent.csv'},\n",
    "    'Xierqi': {'price': 'Xierqi_Price.csv', 'rent': 'Xierqi_Rent.csv'},\n",
    "    'Shangdi': {'price': 'Shangdi_Price.csv', 'rent': 'Shangdi_Rent.csv'},\n",
    "    'Qinghe': {'price': 'Qinghe_Price.csv', 'rent': 'Qinghe_Rent.csv'}\n",
    "}"
   ]
  },
  {
   "cell_type": "markdown",
   "id": "0e0273eb-a9a3-4332-9d15-e5cc8bd20d2e",
   "metadata": {},
   "source": [
    "#### 2. 循环读取并整合数据"
   ]
  },
  {
   "cell_type": "code",
   "execution_count": 17,
   "id": "026ca55d-081b-466b-bc15-83746f6c68a0",
   "metadata": {},
   "outputs": [
    {
     "name": "stdout",
     "output_type": "stream",
     "text": [
      "原始数据读取完成：共8042行，包含字段：['m2', 'price', 'location', 'data_type']\n",
      "\n",
      "原始数据前5行预览：\n",
      "       m2   price location    data_type\n",
      "0  115.00   620.0  Xisanqi  house_price\n",
      "1  139.00   860.0  Xisanqi  house_price\n",
      "2  206.89  1638.0  Xisanqi  house_price\n",
      "3  160.12  1169.0  Xisanqi  house_price\n",
      "4   75.54   437.0  Xisanqi  house_price\n"
     ]
    }
   ],
   "source": [
    "# 初始化空列表，存储所有街区的原始数据（仅标记类型，未计算衍生指标）\n",
    "raw_data_list = []\n",
    "\n",
    "for district, files in file_paths.items():\n",
    "    # 1. 读取房价原始数据\n",
    "    price_raw = pd.read_csv(files['price'], on_bad_lines='skip')    # skip：跳过格式错误行（如不完整数据）\n",
    "    price_raw['data_type'] = 'house_price'    # 标记“房价”类型\n",
    "    price_raw['location'] = district    # 确保“街区”列值正确（避免CSV中location列异常）\n",
    "    \n",
    "    # 2. 读取租金原始数据\n",
    "    rent_raw = pd.read_csv(files['rent'], on_bad_lines='skip')\n",
    "    rent_raw['data_type'] = 'house_rent'    # 标记“租金”类型\n",
    "    rent_raw['location'] = district\n",
    "    \n",
    "    # 3. 合并当前街区的房价/租金原始数据，添加到总列表\n",
    "    district_raw = pd.concat([price_raw, rent_raw], ignore_index=True)\n",
    "    raw_data_list.append(district_raw)\n",
    "\n",
    "# 合并所有原始数据为总DataFrame\n",
    "raw_total_df = pd.concat(raw_data_list, ignore_index=True)\n",
    "\n",
    "# 基础数据有效性检查：删除面积<=0或总价/租金<=0的明显错误数据（非IQR异常值，是逻辑错误）\n",
    "invalid_idx = raw_total_df[(raw_total_df['m2'] <= 0) | (raw_total_df['price'] <= 0)].index\n",
    "if len(invalid_idx) > 0:\n",
    "    raw_total_df = raw_total_df.drop(invalid_idx)\n",
    "    print(f\"删除明显错误数据（面积/总价<=0）：{len(invalid_idx)}行\")\n",
    "\n",
    "print(f\"原始数据读取完成：共{len(raw_total_df)}行，包含字段：{raw_total_df.columns.tolist()}\")\n",
    "print(\"\\n原始数据前5行预览：\")\n",
    "print(raw_total_df[['m2', 'price', 'location', 'data_type']].head())"
   ]
  },
  {
   "cell_type": "markdown",
   "id": "7f28bbd2-8769-4815-a295-e7e38a634acd",
   "metadata": {},
   "source": [
    "### 处理基础数据异常值"
   ]
  },
  {
   "cell_type": "markdown",
   "id": "2b5688ef-1839-41b8-a85e-3875de933417",
   "metadata": {},
   "source": [
    "#### 1. 定义基础数据异常值检测函数"
   ]
  },
  {
   "cell_type": "code",
   "execution_count": 21,
   "id": "990e77ff-2ac2-4619-bdfa-b828886998d0",
   "metadata": {},
   "outputs": [],
   "source": [
    "def detect_basic_outliers(group_df, target_field, iqr_multiplier=1.5):\n",
    "    \"\"\"\n",
    "    用IQR方法检测基础数据（面积或总价/租金）的异常值\n",
    "    参数：\n",
    "        group_df：按“街区+数据类型”分组后的DataFrame\n",
    "        target_field：待检测的基础字段（'m2'表示面积，'price'表示总价/租金）\n",
    "    返回：\n",
    "        outliers_idx：异常值的索引列表\n",
    "        lower_bound/upper_bound：异常值判定边界\n",
    "    \"\"\"\n",
    "    # 计算四分位数和四分位距\n",
    "    Q1 = group_df[target_field].quantile(0.25)\n",
    "    Q3 = group_df[target_field].quantile(0.75)\n",
    "    IQR = Q3 - Q1\n",
    "    \n",
    "    # 异常值边界（1.5×IQR是行业常用阈值，兼顾灵敏度和稳健性）\n",
    "    lower_bound = Q1 - iqr_multiplier * IQR\n",
    "    upper_bound = Q3 + iqr_multiplier * IQR\n",
    "    \n",
    "    # 筛选异常值索引（排除边界外的数据）\n",
    "    outliers_idx = group_df[(group_df[target_field] < lower_bound) | (group_df[target_field] > upper_bound)].index\n",
    "    return outliers_idx, lower_bound, upper_bound"
   ]
  },
  {
   "cell_type": "code",
   "execution_count": 23,
   "id": "eb9fa86a-42c5-46fb-ac8a-6de237caa639",
   "metadata": {},
   "outputs": [
    {
     "name": "stdout",
     "output_type": "stream",
     "text": [
      "\n",
      "Qinghe - house_price：\n",
      "  面积异常值：删除35行（面积范围：-38.76~305.79 m²）\n",
      "  处理后剩余：1165行（共删除35行）\n",
      "\n",
      "Qinghe - house_rent：\n",
      "  面积异常值：删除62行（面积范围：-15.50~164.50 m²）\n",
      "  总价/租金异常值：删除103行（rent范围：1000.00~12200.00）\n",
      "  处理后剩余：1035行（共删除165行）\n",
      "\n",
      "Shangdi - house_price：\n",
      "  面积异常值：删除14行（面积范围：-6.08~229.60 m²）\n",
      "  总价/租金异常值：删除33行（price范围：99.38~1834.38）\n",
      "  处理后剩余：1153行（共删除47行）\n",
      "\n",
      "Shangdi - house_rent：\n",
      "  面积异常值：删除9行（面积范围：-28.50~199.50 m²）\n",
      "  总价/租金异常值：删除27行（rent范围：-1000.00~17400.00）\n",
      "  处理后剩余：974行（共删除36行）\n",
      "\n",
      "Xierqi - house_price：\n",
      "  面积异常值：删除58行（面积范围：-3.93~233.43 m²）\n",
      "  总价/租金异常值：删除2行（price范围：-437.50~1926.50）\n",
      "  处理后剩余：634行（共删除60行）\n",
      "\n",
      "Xierqi - house_rent：\n",
      "  面积异常值：删除31行（面积范围：-45.62~245.38 m²）\n",
      "  总价/租金异常值：删除19行（rent范围：-500.00~16300.00）\n",
      "  处理后剩余：386行（共删除50行）\n",
      "\n",
      "Xisanqi - house_price：\n",
      "  面积异常值：删除65行（面积范围：-21.74~229.04 m²）\n",
      "  总价/租金异常值：删除69行（price范围：-195.00~1257.00）\n",
      "  处理后剩余：1066行（共删除134行）\n",
      "\n",
      "Xisanqi - house_rent：\n",
      "  面积异常值：删除115行（面积范围：-7.50~148.50 m²）\n",
      "  总价/租金异常值：删除60行（rent范围：1450.00~9050.00）\n",
      "  处理后剩余：927行（共删除175行）\n",
      "\n",
      "基础数据异常值处理完成：\n",
      "  原始数据总行数（已删逻辑错误）：8042\n",
      "  基础数据处理后总行数：7340\n",
      "  累计删除基础数据异常值：702行\n"
     ]
    }
   ],
   "source": [
    "# 初始化基础数据处理后的列表\n",
    "basic_cleaned_list = []\n",
    "\n",
    "# 按“街区（location）+数据类型（data_type）”分组处理基础数据\n",
    "for (district, data_type), group in raw_total_df.groupby(['location', 'data_type']):\n",
    "    # 复制分组数据，避免修改原数据\n",
    "    group_basic_clean = group.copy()\n",
    "    initial_count = len(group_basic_clean)    # 处理前的行数\n",
    "    \n",
    "    # --------------------------\n",
    "    # 第一步：处理“面积（m²）”异常值\n",
    "    # --------------------------\n",
    "    m2_outliers_idx, m2_lower, m2_upper = detect_basic_outliers(group_basic_clean, 'm2')\n",
    "    if len(m2_outliers_idx) > 0:\n",
    "        group_basic_clean = group_basic_clean.drop(m2_outliers_idx)\n",
    "        print(f\"\\n{district} - {data_type}：\")\n",
    "        print(f\"  面积异常值：删除{len(m2_outliers_idx)}行（面积范围：{m2_lower:.2f}~{m2_upper:.2f} m²）\")\n",
    "    \n",
    "    # --------------------------\n",
    "    # 第二步：处理“总价/租金（price）”异常值\n",
    "    # --------------------------\n",
    "    price_outliers_idx, price_lower, price_upper = detect_basic_outliers(group_basic_clean, 'price')\n",
    "    if len(price_outliers_idx) > 0:\n",
    "        group_basic_clean = group_basic_clean.drop(price_outliers_idx)\n",
    "        print(f\"  总价/租金异常值：删除{len(price_outliers_idx)}行（{data_type.replace('house_', '')}范围：{price_lower:.2f}~{price_upper:.2f}）\")\n",
    "    \n",
    "    # 统计当前分组的处理结果\n",
    "    final_count = len(group_basic_clean)\n",
    "    deleted_count = initial_count - final_count\n",
    "    if deleted_count > 0:\n",
    "        print(f\"  处理后剩余：{final_count}行（共删除{deleted_count}行）\")\n",
    "    else:\n",
    "        print(f\"\\n{district} - {data_type}：未检测到基础数据异常值，保留{final_count}行\")\n",
    "    \n",
    "    # 添加到处理后列表\n",
    "    basic_cleaned_list.append(group_basic_clean)\n",
    "\n",
    "# 合并所有基础数据处理后的结果\n",
    "basic_cleaned_total_df = pd.concat(basic_cleaned_list, ignore_index=True)\n",
    "print(f\"\\n基础数据异常值处理完成：\")\n",
    "print(f\"  原始数据总行数（已删逻辑错误）：{len(raw_total_df)}\")\n",
    "print(f\"  基础数据处理后总行数：{len(basic_cleaned_total_df)}\")\n",
    "print(f\"  累计删除基础数据异常值：{len(raw_total_df) - len(basic_cleaned_total_df)}行\")"
   ]
  },
  {
   "cell_type": "markdown",
   "id": "1ca24e4b-b597-4a7b-871c-1b35d3e0c829",
   "metadata": {},
   "source": [
    "### 基于清洁后的基础数据，计算每平米指标"
   ]
  },
  {
   "cell_type": "code",
   "execution_count": 26,
   "id": "2d515c49-ca27-4518-8365-229064b7b0c7",
   "metadata": {},
   "outputs": [
    {
     "name": "stdout",
     "output_type": "stream",
     "text": [
      "\n",
      "计算每平米指标后的 dataFrame 前5行（房价数据）：\n",
      "       m2   price location  price_per_m2\n",
      "0  125.54  1265.0   Qinghe         10.08\n",
      "1  166.00  1195.0   Qinghe          7.20\n",
      "2  180.00  1450.0   Qinghe          8.06\n",
      "3   97.68  1098.0   Qinghe         11.24\n",
      "4  237.70  2800.0   Qinghe         11.78\n",
      "\n",
      "计算每平米指标后的 dataFrame 前5行（租金数据）：\n",
      "        m2   price location  rent_per_m2\n",
      "1165  12.0  1700.0   Qinghe       141.67\n",
      "1166  85.0  6600.0   Qinghe        77.65\n",
      "1167  15.0  2350.0   Qinghe       156.67\n",
      "1168  40.0  5000.0   Qinghe       125.00\n",
      "1169  18.0  2000.0   Qinghe       111.11\n"
     ]
    }
   ],
   "source": [
    "# 复制基础数据处理后的结果，避免修改原数据\n",
    "final_cleaned_df = basic_cleaned_total_df.copy()\n",
    "\n",
    "# 按数据类型计算对应的“每平米指标”\n",
    "# 1. 房价数据：计算“每平米房价（万元/m²，假设原price单位为万元，若为元可调整）”\n",
    "final_cleaned_df.loc[final_cleaned_df['data_type'] == 'house_price', 'price_per_m2'] = (\n",
    "    final_cleaned_df[final_cleaned_df['data_type'] == 'house_price']['price'] \n",
    "    / final_cleaned_df[final_cleaned_df['data_type'] == 'house_price']['m2']\n",
    ")\n",
    "\n",
    "# 2. 租金数据：计算“每平米租金（元/m²/月，假设原price单位为元/月）”\n",
    "final_cleaned_df.loc[final_cleaned_df['data_type'] == 'house_rent', 'rent_per_m2'] = (\n",
    "    final_cleaned_df[final_cleaned_df['data_type'] == 'house_rent']['price'] \n",
    "    / final_cleaned_df[final_cleaned_df['data_type'] == 'house_rent']['m2']\n",
    ")\n",
    "\n",
    "# 查看计算后的结果（重点看新增的每平米指标）\n",
    "print(\"\\n计算每平米指标后的 dataFrame 前5行（房价数据）：\")\n",
    "price_sample = final_cleaned_df[final_cleaned_df['data_type'] == 'house_price'][['m2', 'price', 'location', 'price_per_m2']].head()\n",
    "print(price_sample.round(2))    # 保留2位小数，提升可读性\n",
    "\n",
    "print(\"\\n计算每平米指标后的 dataFrame 前5行（租金数据）：\")\n",
    "rent_sample = final_cleaned_df[final_cleaned_df['data_type'] == 'house_rent'][['m2', 'price', 'location', 'rent_per_m2']].head()\n",
    "print(rent_sample.round(2))"
   ]
  },
  {
   "cell_type": "code",
   "execution_count": 28,
   "id": "38ddcca1-8de9-4141-9947-c6cb442b64e6",
   "metadata": {},
   "outputs": [
    {
     "name": "stdout",
     "output_type": "stream",
     "text": [
      "\n",
      "各街区数据描述统计（处理异常值后）：\n",
      "              m2                                                    price  \\\n",
      "           count    mean    std  min   25%    50%     75%     max   count   \n",
      "location                                                                    \n",
      "Qinghe    2200.0  101.30  55.60  7.0  60.0  88.23  139.00  286.31  2200.0   \n",
      "Shangdi   2127.0   95.54  39.36  6.0  61.0  95.32  124.50  213.16  2127.0   \n",
      "Xierqi    1020.0   99.34  43.07  8.0  69.0  91.70  126.08  231.39  1020.0   \n",
      "Xisanqi   1993.0   81.37  36.11  8.0  61.0  82.00   93.56  195.53  1993.0   \n",
      "\n",
      "                   ... price_per_m2        rent_per_m2                        \\\n",
      "             mean  ...          75%    max       count    mean    std    min   \n",
      "location           ...                                                         \n",
      "Qinghe    3640.96  ...        11.82  17.65      1035.0  104.19  37.20  15.62   \n",
      "Shangdi   4123.17  ...        10.45  17.55       974.0  106.36  31.84  18.33   \n",
      "Xierqi    3285.53  ...         8.19  12.16       386.0  100.44  28.25  14.23   \n",
      "Xisanqi   2636.58  ...         6.50  10.31       927.0   89.61  30.36  42.11   \n",
      "\n",
      "                                         \n",
      "            25%     50%     75%     max  \n",
      "location                                 \n",
      "Qinghe    85.39   96.61  111.11  760.00  \n",
      "Shangdi   87.25  101.72  122.18  283.33  \n",
      "Xierqi    85.05   94.23  104.00  287.50  \n",
      "Xisanqi   69.66   80.00   98.04  254.55  \n",
      "\n",
      "[4 rows x 32 columns]\n"
     ]
    }
   ],
   "source": [
    "# 按街区分组，对关键数值列进行描述统计\n",
    "desc_stats = final_cleaned_df.groupby('location')[['m2', 'price', 'price_per_m2', 'rent_per_m2']].describe()\n",
    "\n",
    "# 保留2位小数，提升可读性\n",
    "desc_stats = desc_stats.round(2)\n",
    "\n",
    "# 输出描述统计结果\n",
    "print(\"\\n各街区数据描述统计（处理异常值后）：\")\n",
    "print(desc_stats)\n",
    "\n",
    "# （可选）将描述统计结果保存为Excel，方便后续报告使用\n",
    "desc_stats.to_excel('各街区数据描述统计(1.5).xlsx')"
   ]
  },
  {
   "cell_type": "markdown",
   "id": "9536572d-45a3-4b59-b126-acee48f2170b",
   "metadata": {},
   "source": [
    "### 计算中位数租售比"
   ]
  },
  {
   "cell_type": "code",
   "execution_count": 31,
   "id": "fc154cf1-48e1-4e5c-bf5b-bada4e4f6848",
   "metadata": {},
   "outputs": [
    {
     "name": "stdout",
     "output_type": "stream",
     "text": [
      "\n",
      "各街区中位数租售比：\n",
      "        街区   中位数租售比\n",
      "0  Xisanqi   696.57\n",
      "1   Xierqi   667.06\n",
      "2  Shangdi   827.66\n",
      "3   Qinghe  1043.36\n"
     ]
    }
   ],
   "source": [
    "# 1. 拆分处理后的房价和租金数据\n",
    "price_clean = final_cleaned_df[final_cleaned_df['data_type'] == 'house_price'][['location', 'price_per_m2']]\n",
    "rent_clean = final_cleaned_df[final_cleaned_df['data_type'] == 'house_rent'][['location', 'rent_per_m2']]\n",
    "\n",
    "# 2. 按街区计算中位数租售比\n",
    "price_to_rent_ratio = {}\n",
    "for district in file_paths.keys():\n",
    "    # 获取当前街区的“每平米房价（中位数，单位：万元/㎡）”\n",
    "    median_price_per_m2 = price_clean[price_clean['location'] == district]['price_per_m2'].median()\n",
    "    # 转换为“元/㎡”\n",
    "    median_price_per_m2_yuan = median_price_per_m2 * 10000\n",
    "    # 获取当前街区的“每平米月租金（中位数，单位：元/㎡/月）”\n",
    "    median_rent_per_m2 = rent_clean[rent_clean['location'] == district]['rent_per_m2'].median()\n",
    "    \n",
    "    # 计算中位数租售比（保留2位小数）\n",
    "    ratio = round(median_price_per_m2_yuan / median_rent_per_m2, 2)\n",
    "    price_to_rent_ratio[district] = ratio\n",
    "\n",
    "# 转换为DataFrame，方便后续使用\n",
    "ratio_df = pd.DataFrame(list(price_to_rent_ratio.items()), columns=['街区', '中位数租售比'])\n",
    "print(\"\\n各街区中位数租售比：\")\n",
    "print(ratio_df)"
   ]
  },
  {
   "cell_type": "markdown",
   "id": "c8928ba8-d0f0-4f09-9560-a40205a41527",
   "metadata": {},
   "source": [
    "### 绘制中位数租售比柱状图"
   ]
  },
  {
   "cell_type": "code",
   "execution_count": 34,
   "id": "72d340d1-0c70-454a-b32c-878adbd5cb89",
   "metadata": {},
   "outputs": [
    {
     "data": {
      "image/png": "[encoded data removed]",
      "text/plain": [
       "<Figure size 1000x600 with 1 Axes>"
      ]
     },
     "metadata": {},
     "output_type": "display_data"
    }
   ],
   "source": [
    "# 1. 创建画布与子图\n",
    "fig, ax = plt.subplots(figsize=(10, 6))\n",
    "\n",
    "# 2. 绘制柱状图\n",
    "districts = ratio_df['街区']\n",
    "ratios = ratio_df['中位数租售比']\n",
    "bars = ax.bar(districts, ratios, color=['skyblue'], alpha=0.7)\n",
    "\n",
    "# 3. 添加全球公允值水平线（红色虚线）\n",
    "ax.axhline(y=200, color='red', linestyle='--', linewidth=2, label='global fair value≈200')\n",
    "\n",
    "# 4. 设置图表样式（标题、轴标签、图例等）\n",
    "ax.set_title('rent ratio', fontsize=14, fontweight='bold', pad=20)\n",
    "ax.set_xlabel('block', fontsize=12)\n",
    "ax.set_ylabel('median rent ratio', fontsize=12)\n",
    "ax.legend(fontsize=10)\n",
    "ax.grid(axis='y', alpha=0.3)  # 添加水平网格线，方便读数\n",
    "\n",
    "# 5. 在柱子上标注具体数值\n",
    "for bar, ratio in zip(bars, ratios):\n",
    "    height = bar.get_height()\n",
    "    ax.text(bar.get_x() + bar.get_width()/2., height + 5,\n",
    "            f'{ratio}', ha='center', va='bottom', fontsize=10)\n",
    "\n",
    "# 6. 调整布局并保存图片（可保存为png格式，方便插入报告）\n",
    "plt.tight_layout()\n",
    "plt.savefig('四街区中位数租售比柱状图.png', dpi=300, bbox_inches='tight')\n",
    "plt.show()"
   ]
  },
  {
   "cell_type": "markdown",
   "id": "edfc769e-d7d1-42d6-a2ab-c25883136a28",
   "metadata": {},
   "source": [
    "### 保存清洗后的数据"
   ]
  },
  {
   "cell_type": "code",
   "execution_count": 37,
   "id": "21fb2e69-2de6-4383-88de-c37119175977",
   "metadata": {},
   "outputs": [
    {
     "name": "stdout",
     "output_type": "stream",
     "text": [
      "数据保存文件夹已创建/确认：D:\\大学学习\\大三上\\人工智能与python （量化）\\作业代码\\homework_3\\HW3_My_Data_My_Model\\Cleaned_data\n"
     ]
    }
   ],
   "source": [
    "# 1. 定义保存文件夹名称和路径\n",
    "save_folder = \"Cleaned_data\"    # 文件夹名（可自定义，如“四街区清洁数据”）\n",
    "current_path = os.getcwd()    # 获取当前Jupyter文件的所在路径\n",
    "save_full_path = os.path.join(current_path, save_folder)    # 拼接完整保存路径\n",
    "\n",
    "# 2. 创建文件夹（exist_ok=True：若文件夹已存在，不报错）\n",
    "os.makedirs(save_full_path, exist_ok=True)\n",
    "print(f\"数据保存文件夹已创建/确认：{save_full_path}\")"
   ]
  },
  {
   "cell_type": "code",
   "execution_count": 41,
   "id": "53eb5ba8-809a-4784-9e69-cb16d18109ed",
   "metadata": {},
   "outputs": [
    {
     "name": "stdout",
     "output_type": "stream",
     "text": [
      "Qinghe - house_price 数据已保存：D:\\大学学习\\大三上\\人工智能与python （量化）\\作业代码\\homework_3\\HW3_My_Data_My_Model\\Cleaned_data\\Qinghe_house_price_cleaned.csv\n",
      "   - 数据行数：1165 行\n",
      "   - 包含列：['m2', 'price', 'location', 'data_type', 'price_per_m2']\n",
      "\n",
      "Qinghe - house_rent 数据已保存：D:\\大学学习\\大三上\\人工智能与python （量化）\\作业代码\\homework_3\\HW3_My_Data_My_Model\\Cleaned_data\\Qinghe_house_rent_cleaned.csv\n",
      "   - 数据行数：1035 行\n",
      "   - 包含列：['m2', 'price', 'location', 'data_type', 'rent_per_m2']\n",
      "\n",
      "Shangdi - house_price 数据已保存：D:\\大学学习\\大三上\\人工智能与python （量化）\\作业代码\\homework_3\\HW3_My_Data_My_Model\\Cleaned_data\\Shangdi_house_price_cleaned.csv\n",
      "   - 数据行数：1153 行\n",
      "   - 包含列：['m2', 'price', 'location', 'data_type', 'price_per_m2']\n",
      "\n",
      "Shangdi - house_rent 数据已保存：D:\\大学学习\\大三上\\人工智能与python （量化）\\作业代码\\homework_3\\HW3_My_Data_My_Model\\Cleaned_data\\Shangdi_house_rent_cleaned.csv\n",
      "   - 数据行数：974 行\n",
      "   - 包含列：['m2', 'price', 'location', 'data_type', 'rent_per_m2']\n",
      "\n",
      "Xierqi - house_price 数据已保存：D:\\大学学习\\大三上\\人工智能与python （量化）\\作业代码\\homework_3\\HW3_My_Data_My_Model\\Cleaned_data\\Xierqi_house_price_cleaned.csv\n",
      "   - 数据行数：634 行\n",
      "   - 包含列：['m2', 'price', 'location', 'data_type', 'price_per_m2']\n",
      "\n",
      "Xierqi - house_rent 数据已保存：D:\\大学学习\\大三上\\人工智能与python （量化）\\作业代码\\homework_3\\HW3_My_Data_My_Model\\Cleaned_data\\Xierqi_house_rent_cleaned.csv\n",
      "   - 数据行数：386 行\n",
      "   - 包含列：['m2', 'price', 'location', 'data_type', 'rent_per_m2']\n",
      "\n",
      "Xisanqi - house_price 数据已保存：D:\\大学学习\\大三上\\人工智能与python （量化）\\作业代码\\homework_3\\HW3_My_Data_My_Model\\Cleaned_data\\Xisanqi_house_price_cleaned.csv\n",
      "   - 数据行数：1066 行\n",
      "   - 包含列：['m2', 'price', 'location', 'data_type', 'price_per_m2']\n",
      "\n",
      "Xisanqi - house_rent 数据已保存：D:\\大学学习\\大三上\\人工智能与python （量化）\\作业代码\\homework_3\\HW3_My_Data_My_Model\\Cleaned_data\\Xisanqi_house_rent_cleaned.csv\n",
      "   - 数据行数：927 行\n",
      "   - 包含列：['m2', 'price', 'location', 'data_type', 'rent_per_m2']\n",
      "\n"
     ]
    }
   ],
   "source": [
    "# 获取所有唯一的街区名称\n",
    "districts = final_cleaned_df[\"location\"].unique()\n",
    "\n",
    "for district in districts:\n",
    "    # 提取当前街区的所有数据\n",
    "    district_data = final_cleaned_df[final_cleaned_df[\"location\"] == district].copy()\n",
    "    \n",
    "    # 按“数据类型（房价/租金）”分别处理\n",
    "    for data_type in [\"house_price\", \"house_rent\"]:\n",
    "        # 筛选当前数据类型的子集（仅房价或仅租金）\n",
    "        type_data = district_data[district_data[\"data_type\"] == data_type].copy()\n",
    "        \n",
    "        # 过滤不需要的列：房价文件删 rent_per_m2，租金文件删 price_per_m2\n",
    "        if data_type == \"house_price\":\n",
    "            type_data = type_data.drop(columns=[\"rent_per_m2\"], errors=\"ignore\")    # 列不存在时不报错\n",
    "        else:  # data_type == \"house_rent\"\n",
    "            type_data = type_data.drop(columns=[\"price_per_m2\"], errors=\"ignore\")\n",
    "        \n",
    "        # 定义保存文件名（格式：街区名_数据类型_cleaned.csv）\n",
    "        save_filename = f\"{district}_{data_type}_cleaned.csv\"\n",
    "        save_filepath = os.path.join(save_full_path, save_filename)\n",
    "        \n",
    "        # 保存为CSV（index=False：不保存行号；utf-8-sig：兼容Excel中文）\n",
    "        type_data.to_csv(save_filepath, index=False, encoding=\"utf-8-sig\")\n",
    "        \n",
    "        # 打印保存信息，确认成功\n",
    "        print(f\"{district} - {data_type} 数据已保存：{save_filepath}\")\n",
    "        print(f\"   - 数据行数：{len(type_data)} 行\")\n",
    "        print(f\"   - 包含列：{type_data.columns.tolist()}\\n\")"
   ]
  },
  {
   "cell_type": "markdown",
   "id": "fdacd82e-494d-498b-83b9-afbbea011bf9",
   "metadata": {},
   "source": [
    "### Comments:"
   ]
  },
  {
   "cell_type": "markdown",
   "id": "dff834fc-3fde-4884-8edd-944016c33718",
   "metadata": {},
   "source": [
    "- 按“街区+数据类型（房价/租金）”将数据分为8组（4个街区各对应房价、租金组），采用IQR法检测并删除异常值：先计算每组数据的第一四分位数（Q1）、第三四分位数（Q3）与四分位距（\\( IQR = Q3 - Q1 \\)），将超出\\( [Q1 - 1.5 \\times IQR, Q3 + 1.5 \\times IQR] \\)范围的数据判定为异常值并删除。\n",
    "- 清河：房价删除35条面积异常值，剩余1165行；租金删除62条面积异常值和103条租金异常值，剩余1035行。\n",
    "- 上地：房价删除14条面积异常值和33条价格异常值，剩余1153行；租金删除9条面积异常值和27条租金异常值，剩余974行。\n",
    "- 西二旗：房价删除58条面积异常值和2条价格异常值，剩余634行；租金删除31条面积异常值和19条租金异常值，剩余386行。\n",
    "- 西三旗：房价删除65条面积异常值和69条价格异常值，剩余1066行；租金删除115条面积异常值和60条租金异常值，剩余927行。\n",
    "- 原始有效数据共8042行，处理后剩余7340行，累计删除702条异常值。"
   ]
  },
  {
   "cell_type": "markdown",
   "id": "ce110f33-e0fa-40a4-b0de-d2899721d610",
   "metadata": {},
   "source": [
    "- 尽管删除了部分异常值，各街区租售比均高于全球公允值，反映区域楼市特点与合理区间有差距。"
   ]
  },
  {
   "cell_type": "code",
   "execution_count": null,
   "id": "a1156c10-55c7-47b9-9496-62c3a1b2c42c",
   "metadata": {},
   "outputs": [],
   "source": []
  }
 ],
 "metadata": {
  "kernelspec": {
   "display_name": "Python [conda env:base] *",
   "language": "python",
   "name": "conda-base-py"
  },
  "language_info": {
   "codemirror_mode": {
    "name": "ipython",
    "version": 3
   },
   "file_extension": ".py",
   "mimetype": "text/x-python",
   "name": "python",
   "nbconvert_exporter": "python",
   "pygments_lexer": "ipython3",
   "version": "3.12.3"
  }
 },
 "nbformat": 4,
 "nbformat_minor": 5
}
