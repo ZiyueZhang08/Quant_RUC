{
 "cells": [
  {
   "cell_type": "code",
   "id": "initial_id",
   "metadata": {
    "ExecuteTime": {
     "end_time": "2025-10-04T14:55:50.433701Z",
     "start_time": "2025-10-04T14:55:50.430950Z"
    }
   },
   "source": [
    "import pandas as pd\n",
    "from docxtpl import DocxTemplate\n",
    "import os"
   ],
   "outputs": [],
   "execution_count": 14
  },
  {
   "metadata": {
    "ExecuteTime": {
     "end_time": "2025-10-04T14:58:49.553069Z",
     "start_time": "2025-10-04T14:58:48.485735Z"
    }
   },
   "cell_type": "code",
   "source": [
    "\n",
    "# 数据文件\n",
    "uni_file = \"universities.xlsx\"\n",
    "field_file = \"field.xlsx\"\n",
    "template_file = \"sop.docx\"  # 需要提前准备好模板\n",
    "\n",
    "# 读取 Excel\n",
    "universities = pd.read_excel(uni_file)\n",
    "fields = pd.read_excel(field_file)\n",
    "\n",
    "# 个人固定信息\n",
    "personal_info = {\n",
    "    \"name\": \"Jiamiao Xu\",\n",
    "}\n",
    "output_dir = \".\"\n",
    "# 循环生成 Word 文档\n",
    "word_files = []\n",
    "for _, uni_row in universities.iterrows():\n",
    "    for _, field_row in fields.iterrows():\n",
    "        # 生成替换内容\n",
    "        context = {\n",
    "            \"name\": personal_info[\"name\"],\n",
    "            \"university\": uni_row[\"university\"],\n",
    "            \"research_area\": field_row[\"research_area\"],\n",
    "            \"journal1\": field_row[\"journal1\"],\n",
    "            \"journal2\": field_row[\"journal2\"],\n",
    "            \"journal3\": field_row[\"journal3\"],\n",
    "            \"skill1\": field_row[\"skill1\"],\n",
    "            \"skill2\": field_row[\"skill2\"],\n",
    "            \"skill3\": field_row[\"skill3\"]\n",
    "        }\n",
    "\n",
    "        # 模板加载与渲染\n",
    "        tpl = DocxTemplate(template_file)\n",
    "        tpl.render(context)\n",
    "\n",
    "        # 保存 Word 文件\n",
    "        filename_docx = f\"SOP_{uni_row['university'].replace(' ','_')}_{field_row['research_area']}.docx\"\n",
    "        file_path_docx = os.path.join(output_dir, filename_docx)\n",
    "        tpl.save(file_path_docx)\n",
    "        word_files.append(file_path_docx)\n"
   ],
   "id": "7003220d13370cca",
   "outputs": [],
   "execution_count": 18
  }
 ],
 "metadata": {
  "kernelspec": {
   "display_name": "Python 3",
   "language": "python",
   "name": "python3"
  },
  "language_info": {
   "codemirror_mode": {
    "name": "ipython",
    "version": 2
   },
   "file_extension": ".py",
   "mimetype": "text/x-python",
   "name": "python",
   "nbconvert_exporter": "python",
   "pygments_lexer": "ipython2",
   "version": "2.7.6"
  }
 },
 "nbformat": 4,
 "nbformat_minor": 5
}
