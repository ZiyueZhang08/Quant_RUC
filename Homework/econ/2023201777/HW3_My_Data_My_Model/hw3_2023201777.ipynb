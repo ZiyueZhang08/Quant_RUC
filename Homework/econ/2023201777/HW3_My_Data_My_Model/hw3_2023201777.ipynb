{
 "cells": [
  {
   "cell_type": "markdown",
   "id": "1d5883d6dd7bf60e",
   "metadata": {},
   "source": [
    "Intro:\n",
    "\n",
    "In the following task, we complete the workflow according to the requirements.\n",
    "\n",
    "The data cleaning method is `winsor`, which replaces the observation beyond 1st and 99th percentiles with the respective percentile values.\n",
    "\n",
    "Then as an additional task, we implement `cross-validation` to compare the three methods."
   ]
  },
  {
   "cell_type": "markdown",
   "id": "f9c47819d2238285",
   "metadata": {},
   "source": [
    "# A. Selenium"
   ]
  },
  {
   "cell_type": "markdown",
   "id": "deff028338466575",
   "metadata": {},
   "source": []
  },
  {
   "cell_type": "markdown",
   "id": "703dbb6fae642f8d",
   "metadata": {},
   "source": [
    "### Housing Rent"
   ]
  },
  {
   "cell_type": "code",
   "execution_count": 89,
   "id": "52e2e3fe-e71f-42f7-8986-ce6f5daa7c36",
   "metadata": {
    "ExecuteTime": {
     "end_time": "2025-10-16T09:18:44.318076Z",
     "start_time": "2025-10-16T09:18:44.312496Z"
    }
   },
   "outputs": [],
   "source": [
    "from selenium import webdriver\n",
    "import pandas as pd\n",
    "import numpy as np\n",
    "import matplotlib.pyplot as plt\n",
    "from bs4 import BeautifulSoup\n",
    "import re\n",
    "import statsmodels.api as sm\n",
    "from patsy.build import build_design_matrices\n",
    "from patsy.highlevel import dmatrices\n",
    "from sklearn.model_selection import KFold\n",
    "from typing import List, Dict, Tuple\n",
    "import os\n"
   ]
  },
  {
   "cell_type": "code",
   "execution_count": 24,
   "id": "11b9e03b30a0593e",
   "metadata": {},
   "outputs": [
    {
     "name": "stdout",
     "output_type": "stream",
     "text": [
      "['Solarize_Light2', '_classic_test_patch', '_mpl-gallery', '_mpl-gallery-nogrid', 'bmh', 'classic', 'dark_background', 'fast', 'fivethirtyeight', 'ggplot', 'grayscale', 'petroff10', 'seaborn-v0_8', 'seaborn-v0_8-bright', 'seaborn-v0_8-colorblind', 'seaborn-v0_8-dark', 'seaborn-v0_8-dark-palette', 'seaborn-v0_8-darkgrid', 'seaborn-v0_8-deep', 'seaborn-v0_8-muted', 'seaborn-v0_8-notebook', 'seaborn-v0_8-paper', 'seaborn-v0_8-pastel', 'seaborn-v0_8-poster', 'seaborn-v0_8-talk', 'seaborn-v0_8-ticks', 'seaborn-v0_8-white', 'seaborn-v0_8-whitegrid', 'tableau-colorblind10']\n"
     ]
    }
   ],
   "source": [
    "print(plt.style.available)\n",
    "%matplotlib inline\n",
    "driver = webdriver.Chrome()\n",
    "url='https://esf.fang.com/house-a015277-b03115/'\n",
    "driver.get(url)"
   ]
  },
  {
   "cell_type": "code",
   "execution_count": 25,
   "id": "7d652a67-e1dc-48e9-a645-87379ce55fe0",
   "metadata": {
    "ExecuteTime": {
     "end_time": "2025-10-16T06:29:10.610061Z",
     "start_time": "2025-10-16T06:28:57.984699Z"
    },
    "tags": []
   },
   "outputs": [],
   "source": [
    "from selenium.webdriver.common.by import By\n",
    "from selenium.common.exceptions import NoSuchElementException\n",
    "\n",
    "driver.get(url)\n",
    "string_list = []\n",
    "i = 0\n",
    "Num_Pages = 20\n",
    "\n",
    "while i < Num_Pages:\n",
    "    table = driver.find_element('class name', 'houseList')\n",
    "    string_list.append(table.get_attribute('outerHTML'))  # Collect raw HTML\n",
    "    try:\n",
    "        fanye_div = driver.find_element(By.CLASS_NAME, 'fanye')\n",
    "        links = fanye_div.find_elements(By.TAG_NAME, 'a')\n",
    "        for link in links:\n",
    "            if link.text.strip() == '下一页':\n",
    "                link.click()\n",
    "                break\n",
    "        i += 1\n",
    "    except NoSuchElementException:\n",
    "        break\n"
   ]
  },
  {
   "cell_type": "code",
   "execution_count": 26,
   "id": "a25844cf233db60a",
   "metadata": {
    "ExecuteTime": {
     "end_time": "2025-10-16T06:29:14.093279Z",
     "start_time": "2025-10-16T06:29:10.616829Z"
    }
   },
   "outputs": [],
   "source": [
    "# process the website of clearfix structure, using BeautifulSoup\n",
    "all_data = []\n",
    "for html in string_list:\n",
    "    soup = BeautifulSoup(html, 'html.parser')\n",
    "    infos = soup.find_all('dd', class_='info rel')\n",
    "    for info in infos:\n",
    "        all_text = info.get_text(separator=' ', strip=True)\n",
    "        all_data.append([all_text])\n",
    "\n",
    "df_full = pd.DataFrame(all_data, columns=['info'])\n",
    "\n",
    "driver.quit()"
   ]
  },
  {
   "cell_type": "code",
   "execution_count": 27,
   "id": "7593eb89e34add28",
   "metadata": {
    "ExecuteTime": {
     "end_time": "2025-10-16T06:29:14.123007Z",
     "start_time": "2025-10-16T06:29:14.110801Z"
    }
   },
   "outputs": [],
   "source": [
    "\n",
    "def extract_area(text):\n",
    "    if isinstance(text, str):\n",
    "        match = re.search(r'(\\d+\\.?\\d*)㎡', text)\n",
    "        return float(match.group(1)) if match else None\n",
    "    return None\n",
    "\n",
    "def extract_price(text):\n",
    "    if isinstance(text, str):\n",
    "        match = re.search(r'(\\d+\\.?\\d*)\\s*元/月', text)\n",
    "        return float(match.group(1)) if match else None\n",
    "    return None\n",
    "\n",
    "df_final = pd.DataFrame({\n",
    "    'area': df_full['info'].apply(extract_area),\n",
    "    'rent': df_full['info'].apply(extract_price)\n",
    "})"
   ]
  },
  {
   "cell_type": "code",
   "execution_count": 28,
   "id": "d8ada156-eb6a-45d9-b164-e1f830f1cca4",
   "metadata": {
    "ExecuteTime": {
     "end_time": "2025-10-16T06:29:15.496656Z",
     "start_time": "2025-10-16T06:29:15.455860Z"
    },
    "tags": []
   },
   "outputs": [],
   "source": [
    "df_final.describe()\n",
    "df_final.to_parquet(\"shijichengrent.parquet\", index=False)"
   ]
  },
  {
   "cell_type": "markdown",
   "id": "fee3cd8aa321a058",
   "metadata": {},
   "source": [
    "### Housing Price"
   ]
  },
  {
   "cell_type": "code",
   "execution_count": 29,
   "id": "51ad4a5f6d8025c1",
   "metadata": {
    "ExecuteTime": {
     "end_time": "2025-10-16T06:29:44.411495Z",
     "start_time": "2025-10-16T06:29:40.896908Z"
    }
   },
   "outputs": [
    {
     "name": "stdout",
     "output_type": "stream",
     "text": [
      "['Solarize_Light2', '_classic_test_patch', '_mpl-gallery', '_mpl-gallery-nogrid', 'bmh', 'classic', 'dark_background', 'fast', 'fivethirtyeight', 'ggplot', 'grayscale', 'petroff10', 'seaborn-v0_8', 'seaborn-v0_8-bright', 'seaborn-v0_8-colorblind', 'seaborn-v0_8-dark', 'seaborn-v0_8-dark-palette', 'seaborn-v0_8-darkgrid', 'seaborn-v0_8-deep', 'seaborn-v0_8-muted', 'seaborn-v0_8-notebook', 'seaborn-v0_8-paper', 'seaborn-v0_8-pastel', 'seaborn-v0_8-poster', 'seaborn-v0_8-talk', 'seaborn-v0_8-ticks', 'seaborn-v0_8-white', 'seaborn-v0_8-whitegrid', 'tableau-colorblind10']\n"
     ]
    }
   ],
   "source": [
    "\n",
    "print(plt.style.available)\n",
    "%matplotlib inline\n",
    "driver = webdriver.Chrome()\n",
    "\n",
    "url='https://esf.fang.com/house-a015277-b03115/'\n",
    "driver.get(url)\n"
   ]
  },
  {
   "cell_type": "code",
   "execution_count": 30,
   "id": "21b5e61fae578a50",
   "metadata": {
    "ExecuteTime": {
     "end_time": "2025-10-16T06:29:58.878268Z",
     "start_time": "2025-10-16T06:29:45.059611Z"
    }
   },
   "outputs": [],
   "source": [
    "driver.get(url)\n",
    "string_list = []\n",
    "i = 0\n",
    "Num_Pages = 20\n",
    "\n",
    "while i < Num_Pages:\n",
    "    table = driver.find_element('class name', 'shop_list.shop_list_4')\n",
    "    string_list.append(table.get_attribute('outerHTML'))    # Collect raw HTML\n",
    "    try:\n",
    "        next_page = driver.find_element('class name', 'last')\n",
    "        next_page.click()\n",
    "        i += 1\n",
    "    except NoSuchElementException:\n",
    "        break\n",
    "\n",
    "# process the website of clearfix structure, using BeautifulSoup\n",
    "all_data = []\n",
    "for html in string_list:\n",
    "    soup = BeautifulSoup(html, 'html.parser')\n",
    "    dls = soup.find_all('dl', class_='clearfix')\n",
    "    for dl in dls:\n",
    "        all_text = dl.get_text(separator=' ', strip=True)\n",
    "        all_data.append([all_text])\n",
    "\n",
    "df_full = pd.DataFrame(all_data, columns=['info'])\n",
    "\n",
    "driver.quit()"
   ]
  },
  {
   "cell_type": "code",
   "execution_count": 31,
   "id": "cd6bb75476e6cc1e",
   "metadata": {
    "ExecuteTime": {
     "end_time": "2025-10-16T06:29:58.938197Z",
     "start_time": "2025-10-16T06:29:58.891788Z"
    }
   },
   "outputs": [],
   "source": [
    "# Extract area and price\n",
    "def extract_area(text):\n",
    "    if isinstance(text, str):\n",
    "        match = re.search(r'(\\d+\\.?\\d*)㎡', text)\n",
    "        return float(match.group(1)) if match else None\n",
    "    return None\n",
    "\n",
    "def extract_price(text):\n",
    "    if isinstance(text, str):\n",
    "        matches = list(re.finditer(r'(\\d+\\.?\\d*)\\s*万', text))\n",
    "        if matches:\n",
    "            return float(matches[-1].group(1))\n",
    "    return None\n",
    "\n",
    "df_final = pd.DataFrame({\n",
    "    'area': df_full['info'].apply(extract_area),\n",
    "    'price': df_full['info'].apply(extract_price)\n",
    "})\n",
    "\n",
    "df_final.to_parquet(\"shijichengprice.parquet\", index=False)"
   ]
  },
  {
   "cell_type": "markdown",
   "id": "9705bd89601632f",
   "metadata": {},
   "source": [
    "# 3.3 Data Analysis"
   ]
  },
  {
   "cell_type": "markdown",
   "id": "f83813ee6581888c",
   "metadata": {},
   "source": [
    "### Data Analysis"
   ]
  },
  {
   "metadata": {},
   "cell_type": "markdown",
   "source": "",
   "id": "d9164d7407718cac"
  },
  {
   "cell_type": "code",
   "execution_count": 34,
   "id": "68173be85efd72f",
   "metadata": {
    "ExecuteTime": {
     "end_time": "2025-10-16T06:55:20.813967Z",
     "start_time": "2025-10-16T06:55:20.761161Z"
    }
   },
   "outputs": [
    {
     "name": "stdout",
     "output_type": "stream",
     "text": [
      "Rent Data Description:\n",
      "               rent         area\n",
      "count   1200.000000  1200.000000\n",
      "mean   19237.050000   157.127500\n",
      "std    10362.841955    47.598539\n",
      "min     7500.000000    57.000000\n",
      "25%    13000.000000   125.000000\n",
      "50%    16000.000000   161.000000\n",
      "75%    21000.000000   175.000000\n",
      "max    70000.000000   323.000000\n",
      "\n",
      "Price Data Description:\n",
      "             price         area\n",
      "count  1200.000000  1200.000000\n",
      "mean   1911.776667   165.542650\n",
      "std     809.624228    51.861275\n",
      "min     377.000000    56.990000\n",
      "25%    1400.000000   130.000000\n",
      "50%    1780.000000   165.000000\n",
      "75%    2200.000000   193.500000\n",
      "max    8000.000000   494.340000\n"
     ]
    }
   ],
   "source": [
    "rent_df = pd.read_parquet('shijichengrent.parquet')\n",
    "price_df = pd.read_parquet('shijichengprice.parquet')\n",
    "\n",
    "# Data description\n",
    "print(\"Rent Data Description:\")\n",
    "print(rent_df.describe())\n",
    "print(\"\\nPrice Data Description:\")\n",
    "print(price_df.describe())\n"
   ]
  },
  {
   "cell_type": "code",
   "execution_count": 36,
   "id": "c0ef37c07d210299",
   "metadata": {
    "ExecuteTime": {
     "end_time": "2025-10-16T07:03:50.338016Z",
     "start_time": "2025-10-16T07:03:50.324287Z"
    }
   },
   "outputs": [
    {
     "name": "stdout",
     "output_type": "stream",
     "text": [
      "\n",
      "Rent Outlier Counts:\n",
      "Area Z-score: 11\n",
      "Rent Z-score: 42\n",
      "\n",
      "Price Outlier Counts:\n",
      "Area Z-score: 16\n",
      "Price Z-score: 28\n"
     ]
    }
   ],
   "source": [
    "# Outlier detection functions using Z-score methods\n",
    "def zscore_outlier_mask(s, thr=3.0):    # Z-score threshold: 3 times of std\n",
    "    mu, sd = s.mean(), s.std(ddof=0)\n",
    "    z = (s - mu) / sd\n",
    "    return z.abs() > thr\n",
    "\n",
    "# Mark outliers for rent\n",
    "rent_df['area_z_outlier'] = zscore_outlier_mask(rent_df['area'])\n",
    "rent_df['rent_z_outlier'] = zscore_outlier_mask(rent_df['rent'])\n",
    "\n",
    "print(\"\\nRent Outlier Counts:\")\n",
    "print(\"Area Z-score:\", rent_df['area_z_outlier'].sum())\n",
    "print(\"Rent Z-score:\", rent_df['rent_z_outlier'].sum())\n",
    "\n",
    "# Mark outliers for price\n",
    "price_df['area_z_outlier'] = zscore_outlier_mask(price_df['area'])\n",
    "price_df['price_z_outlier'] = zscore_outlier_mask(price_df['price'])\n",
    "\n",
    "print(\"\\nPrice Outlier Counts:\")\n",
    "print(\"Area Z-score:\", price_df['area_z_outlier'].sum())\n",
    "print(\"Price Z-score:\", price_df['price_z_outlier'].sum())"
   ]
  },
  {
   "cell_type": "markdown",
   "id": "603ec16b9bb20b61",
   "metadata": {},
   "source": [
    "###  Price Rent Ratio"
   ]
  },
  {
   "cell_type": "code",
   "execution_count": 37,
   "id": "f521096a35b6119a",
   "metadata": {
    "ExecuteTime": {
     "end_time": "2025-10-16T07:08:20.494773Z",
     "start_time": "2025-10-16T07:08:20.405724Z"
    }
   },
   "outputs": [
    {
     "name": "stdout",
     "output_type": "stream",
     "text": [
      "    price    area       block  price_per_m2\n",
      "0  1546.0  172.34  shijicheng      8.970639\n",
      "1  1060.0  107.00  shijicheng      9.906542\n",
      "2  2100.0  209.00  shijicheng     10.047847\n",
      "3  1020.0   86.30  shijicheng     11.819235\n",
      "4  1350.0  166.00  shijicheng      8.132530\n",
      "   price   area             block  price_per_m2\n",
      "0  598.0  81.07  beitaipingzhuang      7.376341\n",
      "1  286.0  33.15  beitaipingzhuang      8.627451\n",
      "2  760.0  93.49  beitaipingzhuang      8.129212\n",
      "3  675.0  74.50  beitaipingzhuang      9.060403\n",
      "4  930.0  95.15  beitaipingzhuang      9.774041\n",
      "    price    area   block  price_per_m2\n",
      "0  8500.0  395.00  wanliu     21.518987\n",
      "1  2280.0  188.15  wanliu     12.117991\n",
      "2  2400.0  114.59  wanliu     20.944236\n",
      "3  4300.0  305.08  wanliu     14.094664\n",
      "4  7000.0  420.21  wanliu     16.658337\n",
      "   price   area       block  price_per_m2\n",
      "0  720.0  91.28  suzhouqiao      7.887818\n",
      "1  480.0  58.70  suzhouqiao      8.177172\n",
      "2  398.0  56.70  suzhouqiao      7.019400\n",
      "3  398.0  56.70  suzhouqiao      7.019400\n",
      "4  355.0  57.00  suzhouqiao      6.228070\n",
      "      rent   area       block  rent_per_m2\n",
      "0  22000.0  204.0  shijicheng   107.843137\n",
      "1  35000.0  250.0  shijicheng   140.000000\n",
      "2  20000.0  207.0  shijicheng    96.618357\n",
      "3  12500.0  122.0  shijicheng   102.459016\n",
      "4  13000.0  133.0  shijicheng    97.744361\n",
      "     rent  area             block  rent_per_m2\n",
      "0  2650.0  20.0  beitaipingzhuang   132.500000\n",
      "1  2550.0  20.0  beitaipingzhuang   127.500000\n",
      "2  7400.0  53.0  beitaipingzhuang   139.622642\n",
      "3  6300.0  60.0  beitaipingzhuang   105.000000\n",
      "4  2600.0  10.0  beitaipingzhuang   260.000000\n",
      "       rent   area   block  rent_per_m2\n",
      "0   80000.0  416.0  wanliu   192.307692\n",
      "1   58000.0  468.0  wanliu   123.931624\n",
      "2  120000.0  381.0  wanliu   314.960630\n",
      "3  138000.0  330.0  wanliu   418.181818\n",
      "4   68000.0  348.0  wanliu   195.402299\n",
      "      rent  area       block  rent_per_m2\n",
      "0  15000.0  74.0  suzhouqiao   202.702703\n",
      "1  12500.0  85.0  suzhouqiao   147.058824\n",
      "2   7300.0  63.0  suzhouqiao   115.873016\n",
      "3   9500.0  58.0  suzhouqiao   163.793103\n",
      "4   9500.0  58.0  suzhouqiao   163.793103\n"
     ]
    }
   ],
   "source": [
    "blocks = ['shijicheng', 'beitaipingzhuang', 'wanliu', 'suzhouqiao']\n",
    "price_files = [f'{block}price.parquet' for block in blocks]\n",
    "rent_files  = [f'{block}rent.parquet'  for block in blocks]\n",
    "\n",
    "dfs = []\n",
    "\n",
    "# Process price files\n",
    "for block, file in zip(blocks, price_files):\n",
    "    df = pd.read_parquet(file)\n",
    "    df['block'] = block\n",
    "    df['price_per_m2'] = df['price'] / df['area']\n",
    "    dfs.append(df)\n",
    "\n",
    "# Process rent files\n",
    "for block, file in zip(blocks, rent_files):\n",
    "    df = pd.read_parquet(file)\n",
    "    df['block'] = block\n",
    "    df['rent_per_m2'] = df['rent'] / df['area']\n",
    "    dfs.append(df)\n"
   ]
  },
  {
   "cell_type": "code",
   "execution_count": 66,
   "id": "a33a5a72ad132d86",
   "metadata": {
    "ExecuteTime": {
     "end_time": "2025-10-16T08:41:15.519136Z",
     "start_time": "2025-10-16T08:41:15.441282Z"
    }
   },
   "outputs": [
    {
     "name": "stdout",
     "output_type": "stream",
     "text": [
      "--- Block: shijicheng ---\n",
      "\n",
      "Price Data Description:\n",
      "             price         area\n",
      "count  1200.000000  1200.000000\n",
      "mean   1911.776667   165.542650\n",
      "std     809.624228    51.861275\n",
      "min     377.000000    56.990000\n",
      "25%    1400.000000   130.000000\n",
      "50%    1780.000000   165.000000\n",
      "75%    2200.000000   193.500000\n",
      "max    8000.000000   494.340000\n",
      "Price Data Outliers (Z-score > 3):\n",
      "  - Area: 16 outliers\n",
      "  - Price: 28 outliers\n",
      "\n",
      "Rent Data Description:\n",
      "               rent         area\n",
      "count   1200.000000  1200.000000\n",
      "mean   19237.050000   157.127500\n",
      "std    10362.841955    47.598539\n",
      "min     7500.000000    57.000000\n",
      "25%    13000.000000   125.000000\n",
      "50%    16000.000000   161.000000\n",
      "75%    21000.000000   175.000000\n",
      "max    70000.000000   323.000000\n",
      "Rent Data Outliers (Z-score > 3):\n",
      "  - Area: 11 outliers\n",
      "  - Rent: 42 outliers\n",
      "\n",
      "--- Block: beitaipingzhuang ---\n",
      "\n",
      "Price Data Description:\n",
      "             price        area\n",
      "count   452.000000  452.000000\n",
      "mean   1047.011062  128.986726\n",
      "std     753.613072   91.497687\n",
      "min     177.000000   26.500000\n",
      "25%     498.000000   63.100000\n",
      "50%     730.000000   97.650000\n",
      "75%    1500.000000  149.427500\n",
      "max    3160.000000  491.050000\n",
      "Price Data Outliers (Z-score > 3):\n",
      "  - Area: 2 outliers\n",
      "  - Price: 0 outliers\n",
      "\n",
      "Rent Data Description:\n",
      "               rent        area\n",
      "count    288.000000  288.000000\n",
      "mean    9159.170139   70.559028\n",
      "std     4882.399729   41.987430\n",
      "min     1700.000000   10.000000\n",
      "25%     6500.000000   50.000000\n",
      "50%     7300.000000   57.000000\n",
      "75%    10000.000000   81.000000\n",
      "max    45000.000000  367.000000\n",
      "Rent Data Outliers (Z-score > 3):\n",
      "  - Area: 4 outliers\n",
      "  - Rent: 4 outliers\n",
      "\n",
      "--- Block: wanliu ---\n",
      "\n",
      "Price Data Description:\n",
      "              price         area\n",
      "count   1200.000000  1200.000000\n",
      "mean    3180.131667   184.983592\n",
      "std     2459.956369    90.753825\n",
      "min      379.000000    44.170000\n",
      "25%     1650.000000   127.200000\n",
      "50%     2300.000000   155.000000\n",
      "75%     3424.500000   218.810000\n",
      "max    19400.000000   745.000000\n",
      "Price Data Outliers (Z-score > 3):\n",
      "  - Area: 5 outliers\n",
      "  - Price: 2 outliers\n",
      "\n",
      "Rent Data Description:\n",
      "                rent         area\n",
      "count    1200.000000  1200.000000\n",
      "mean    36850.816667   185.631667\n",
      "std     33930.550844   120.925839\n",
      "min      5000.000000    42.000000\n",
      "25%     14000.000000    99.000000\n",
      "50%     25000.000000   159.000000\n",
      "75%     45000.000000   248.000000\n",
      "max    160000.000000  1501.000000\n",
      "Rent Data Outliers (Z-score > 3):\n",
      "  - Area: 4 outliers\n",
      "  - Rent: 43 outliers\n",
      "\n",
      "--- Block: suzhouqiao ---\n",
      "\n",
      "Price Data Description:\n",
      "             price        area\n",
      "count   465.000000  465.000000\n",
      "mean    671.845161   86.196688\n",
      "std     453.128332   58.852079\n",
      "min     240.000000   26.800000\n",
      "25%     407.000000   51.300000\n",
      "50%     499.000000   64.820000\n",
      "75%     768.000000   91.280000\n",
      "max    3200.000000  337.400000\n",
      "Price Data Outliers (Z-score > 3):\n",
      "  - Area: 13 outliers\n",
      "  - Price: 7 outliers\n",
      "\n",
      "Rent Data Description:\n",
      "              rent         area\n",
      "count   1008.00000  1008.000000\n",
      "mean    8869.85119    68.416667\n",
      "std     2937.28537    22.408082\n",
      "min     2100.00000     8.000000\n",
      "25%     7080.00000    57.000000\n",
      "50%     7803.00000    66.000000\n",
      "75%    10000.00000    81.000000\n",
      "max    18000.00000   197.000000\n",
      "Rent Data Outliers (Z-score > 3):\n",
      "  - Area: 21 outliers\n",
      "  - Rent: 17 outliers\n",
      "\n"
     ]
    }
   ],
   "source": [
    "# 1) Data description for each block, any outliers?\n",
    "def zscore_outlier_mask(s, thr=3.0):\n",
    "    mu, sd = s.mean(), s.std(ddof=0)\n",
    "    z = (s - mu) / sd\n",
    "    return z.abs() > thr\n",
    "\n",
    "for block, pf, rf in zip(blocks, price_files, rent_files):\n",
    "    price_df = pd.read_parquet(pf)\n",
    "    rent_df  = pd.read_parquet(rf)\n",
    "\n",
    "    print(f\"--- Block: {block} ---\")\n",
    "\n",
    "    # Price Data Analysis\n",
    "    print(\"\\nPrice Data Description:\")\n",
    "    print(price_df[['price', 'area']].describe())\n",
    "\n",
    "    area_outliers = zscore_outlier_mask(price_df['area']).sum()\n",
    "    price_outliers = zscore_outlier_mask(price_df['price']).sum()\n",
    "    print(f\"Price Data Outliers (Z-score > 3):\")\n",
    "    print(f\"  - Area: {area_outliers} outliers\")\n",
    "    print(f\"  - Price: {price_outliers} outliers\")\n",
    "\n",
    "    # Rent Data Analysis\n",
    "    print(\"\\nRent Data Description:\")\n",
    "    print(rent_df[['rent', 'area']].describe())\n",
    "\n",
    "    area_outliers = zscore_outlier_mask(rent_df['area']).sum()\n",
    "    rent_outliers = zscore_outlier_mask(rent_df['rent']).sum()\n",
    "    print(f\"Rent Data Outliers (Z-score > 3):\")\n",
    "    print(f\"  - Area: {area_outliers} outliers\")\n",
    "    print(f\"  - Rent: {rent_outliers} outliers\\n\")\n"
   ]
  },
  {
   "cell_type": "code",
   "execution_count": 41,
   "id": "4630e0ae8005ec5",
   "metadata": {
    "ExecuteTime": {
     "end_time": "2025-10-16T07:18:53.921992Z",
     "start_time": "2025-10-16T07:18:53.639018Z"
    }
   },
   "outputs": [
    {
     "name": "stdout",
     "output_type": "stream",
     "text": [
      "Median Price-to-Rent Ratio (Investment Return Period in Years):\n",
      "              block  price_rent_ratio_years\n",
      "0  beitaipingzhuang               51.334644\n",
      "1        shijicheng               85.460005\n",
      "2        suzhouqiao               54.031145\n",
      "3            wanliu               80.629791\n"
     ]
    },
    {
     "data": {
      "image/png": "[encoded data removed]",
      "text/plain": [
       "<Figure size 1000x600 with 1 Axes>"
      ]
     },
     "metadata": {},
     "output_type": "display_data"
    }
   ],
   "source": [
    "# 2) Calculate median price to rent ratio for each block\n",
    "\n",
    "# --- Consolidate Data ---\n",
    "all_prices_list = []\n",
    "for block in blocks:\n",
    "    df = pd.read_parquet(f'{block}price.parquet')\n",
    "    df['block'] = block\n",
    "    all_prices_list.append(df)\n",
    "\n",
    "all_rents_list = []\n",
    "for block in blocks:\n",
    "    df = pd.read_parquet(f'{block}rent.parquet')\n",
    "    df['block'] = block\n",
    "    all_rents_list.append(df)\n",
    "\n",
    "all_prices_df = pd.concat(all_prices_list, ignore_index=True)\n",
    "all_rents_df = pd.concat(all_rents_list, ignore_index=True)\n",
    "\n",
    "# --- Calculate Price and Rent per Square Meter ---\n",
    "# Price is in 10k RMB, convert to RMB.\n",
    "all_prices_df['price_per_m2'] = all_prices_df['price'] * 10000 / all_prices_df['area']\n",
    "all_rents_df['rent_per_m2'] = all_rents_df['rent'] / all_rents_df['area']\n",
    "\n",
    "# --- Calculate Median Values for Each Block ---\n",
    "median_prices = all_prices_df.groupby('block')['price_per_m2'].median()\n",
    "median_rents = all_rents_df.groupby('block')['rent_per_m2'].median()\n",
    "\n",
    "# --- Calculate Price-to-Rent Ratio ---\n",
    "# Ratio = Price / Annual Rent. This gives the investment return period in years.\n",
    "price_rent_ratio = median_prices / (median_rents * 12)\n",
    "price_rent_ratio_df = price_rent_ratio.reset_index(name='price_rent_ratio_years')\n",
    "\n",
    "print(\"Median Price-to-Rent Ratio (Investment Return Period in Years):\")\n",
    "print(price_rent_ratio_df)\n",
    "\n",
    "# --- Figure A: Bar Plot ---\n",
    "plt.style.use('seaborn-v0_8-whitegrid')\n",
    "fig, ax = plt.subplots(figsize=(10, 6))\n",
    "\n",
    "price_rent_ratio_df.plot(kind='bar', x='block', y='price_rent_ratio_years', ax=ax,\n",
    "                         legend=False, color=['#1f77b4', '#ff7f0e', '#2ca02c', '#d62728'])\n",
    "\n",
    "# explain: the housing price can be paid off by the rent income in 200 months\n",
    "fair_value_years = 200 / 12\n",
    "ax.axhline(y=fair_value_years, color='red', linestyle='--', linewidth=2,\n",
    "           label=f'Global Fair Value (~{fair_value_years:.1f} years)')\n",
    "\n",
    "ax.set_title('Median Price-to-Rent Ratio by Block', fontsize=16)\n",
    "ax.set_xlabel('Block', fontsize=12)\n",
    "ax.set_ylabel('Price-to-Rent Ratio (Years)', fontsize=12)\n",
    "ax.tick_params(axis='x', rotation=0)\n",
    "ax.legend()\n",
    "\n",
    "plt.tight_layout()\n",
    "plt.show()"
   ]
  },
  {
   "cell_type": "markdown",
   "id": "1f0c06e11ae71091",
   "metadata": {},
   "source": [
    "# 3.4 Data Science Modeling"
   ]
  },
  {
   "metadata": {},
   "cell_type": "markdown",
   "source": "### Data Cleaning",
   "id": "5f0ac76a5447e6c7"
  },
  {
   "metadata": {
    "ExecuteTime": {
     "end_time": "2025-10-16T11:51:44.525789Z",
     "start_time": "2025-10-16T11:51:44.188118Z"
    }
   },
   "cell_type": "code",
   "source": [
    "def winsorize_columns_inplace(df, cols, p_low=0.01, p_high=0.99):\n",
    "    # Replace values outside [q_low, q_high] with the boundary quantile values\n",
    "    for col in cols:\n",
    "        if col not in df.columns:\n",
    "            continue\n",
    "        s = pd.to_numeric(df[col], errors='coerce')\n",
    "        q_low = s.quantile(p_low)\n",
    "        q_high = s.quantile(p_high)\n",
    "        df[col] = s.clip(lower=q_low, upper=q_high)\n",
    "\n",
    "def winsorize_by_group_inplace(df, group_col, cols, p_low=0.01, p_high=0.99):\n",
    "    # Group-wise winsorization so each block uses its own quantiles\n",
    "    if group_col not in df.columns:\n",
    "        winsorize_columns_inplace(df, cols, p_low, p_high)\n",
    "        return\n",
    "    for col in cols:\n",
    "        if col not in df.columns:\n",
    "            continue\n",
    "        s = pd.to_numeric(df[col], errors='coerce')\n",
    "        q_low = df.groupby(group_col)[col].transform(lambda x: pd.to_numeric(x, errors='coerce').quantile(p_low))\n",
    "        q_high = df.groupby(group_col)[col].transform(lambda x: pd.to_numeric(x, errors='coerce').quantile(p_high))\n",
    "        df[col] = s.clip(lower=q_low, upper=q_high)\n",
    "\n",
    "def _safe_div_num_per_m2(num, area):\n",
    "    # Avoid division by zero; keep NaN where area is 0/NaN\n",
    "    return num / area.replace(0, np.nan)\n",
    "\n",
    "\n",
    "# 1) Single‑block DataFrames\n",
    "# Winsorize `area` and `price`\n",
    "winsorize_columns_inplace(price_df, ['area', 'price'], 0.01, 0.99)\n",
    "price_df['price_per_m2'] = (price_df['price'] ) / price_df['area'].replace(0, np.nan)\n",
    "\n",
    "# Winsorize `area` and `rent`, then recompute rent per m².\n",
    "winsorize_columns_inplace(rent_df, ['area', 'rent'], 0.01, 0.99)\n",
    "rent_df['rent_per_m2'] = rent_df['rent'] / rent_df['area'].replace(0, np.nan)\n",
    "\n",
    "# 2) Aggregated multi‑block DataFrames\n",
    "winsorize_by_group_inplace(all_prices_df, 'block', ['area', 'price'], 0.01, 0.99)\n",
    "all_prices_df['price_per_m2'] = (all_prices_df['price']) / all_prices_df['area'].replace(0, np.nan)\n",
    "\n",
    "winsorize_by_group_inplace(all_rents_df, 'block', ['area', 'rent'], 0.01, 0.99)\n",
    "all_rents_df['rent_per_m2'] = all_rents_df['rent'] / all_rents_df['area'].replace(0, np.nan)\n",
    "\n",
    "print('Winsorized at 1%/99% in memory and recomputed per‑m² features.')"
   ],
   "id": "db50a75505c6ef50",
   "outputs": [
    {
     "name": "stdout",
     "output_type": "stream",
     "text": [
      "winsorized and saved: shijichengprice.parquet -> {'area': {'low_replaced': 1, 'high_replaced': 12}, 'price': {'low_replaced': 9, 'high_replaced': 3}}\n",
      "winsorized and saved: shijichengrent.parquet -> {'area': {'low_replaced': 0, 'high_replaced': 11}, 'rent': {'low_replaced': 0, 'high_replaced': 8}}\n",
      "winsorized and saved: beitaipingzhuangprice.parquet -> {'area': {'low_replaced': 3, 'high_replaced': 2}, 'price': {'low_replaced': 3, 'high_replaced': 5}}\n",
      "winsorized and saved: beitaipingzhuangrent.parquet -> {'area': {'low_replaced': 0, 'high_replaced': 1}, 'rent': {'low_replaced': 3, 'high_replaced': 1}}\n",
      "winsorized and saved: wanliuprice.parquet -> {'area': {'low_replaced': 9, 'high_replaced': 10}, 'price': {'low_replaced': 11, 'high_replaced': 3}}\n",
      "winsorized and saved: wanliurent.parquet -> {'area': {'low_replaced': 0, 'high_replaced': 9}, 'rent': {'low_replaced': 2, 'high_replaced': 1}}\n",
      "winsorized and saved: suzhouqiaoprice.parquet -> {'area': {'low_replaced': 5, 'high_replaced': 4}, 'price': {'low_replaced': 0, 'high_replaced': 4}}\n",
      "winsorized and saved: suzhouqiaorent.parquet -> {'area': {'low_replaced': 11, 'high_replaced': 4}, 'rent': {'low_replaced': 11, 'high_replaced': 0}}\n",
      "Winsorization (1%, 99%) completed. Original parquet files replaced.\n"
     ]
    }
   ],
   "execution_count": 90
  },
  {
   "metadata": {},
   "cell_type": "markdown",
   "source": "### Simple Models 1 & 2",
   "id": "d702fa654f821268"
  },
  {
   "metadata": {},
   "cell_type": "code",
   "outputs": [],
   "execution_count": null,
   "source": [
    "\n",
    "import statsmodels.formula.api as smf\n",
    "# --- Model 1: Price Regression ---\n",
    "# price/m2i = β0m2_i + β2location_i + epsilon_i\n",
    "price_model = smf.ols(formula='price_per_m2 ~ area + C(block)', data=all_prices_df).fit()\n",
    "print(\"--- OLS Regression Results for Price Model ---\")\n",
    "print(price_model.summary())\n",
    "\n",
    "# --- Model 2: Rent Regression ---\n",
    "# rent/m2i = β0m2_i + β2location_i + epsilon_i\n",
    "rent_model = smf.ols(formula='rent_per_m2 ~ area + C(block)', data=all_rents_df).fit()\n",
    "print(\"\\n--- OLS Regression Results for Rent Model ---\")\n",
    "print(rent_model.summary())\n"
   ],
   "id": "870596724650d26a"
  },
  {
   "cell_type": "code",
   "execution_count": 44,
   "id": "7dbd17addcff1056",
   "metadata": {
    "ExecuteTime": {
     "end_time": "2025-10-16T08:06:33.104777Z",
     "start_time": "2025-10-16T08:06:33.073656Z"
    }
   },
   "outputs": [
    {
     "name": "stdout",
     "output_type": "stream",
     "text": [
      "     area       block  predicted_price_per_m2  predicted_rent_per_m2  \\\n",
      "0  172.34  shijicheng           115570.222959             122.021417   \n",
      "1  107.00  shijicheng           102262.817051             107.990386   \n",
      "2  209.00  shijicheng           123036.545283             129.893739   \n",
      "3   86.30  shijicheng            98046.972204             103.545294   \n",
      "4  166.00  shijicheng           114278.993185             120.659973   \n",
      "\n",
      "   predicted_ratio_years  \n",
      "0              78.927554  \n",
      "1              78.913519  \n",
      "2              78.934100  \n",
      "3              78.908280  \n",
      "4              78.926335  \n"
     ]
    }
   ],
   "source": [
    "\n",
    "# --- Predict for all data ---\n",
    "# Create a unified dataframe with all unique area/block combinations for prediction\n",
    "all_data_df = pd.concat ([\n",
    "    all_prices_df[['area', 'block']],\n",
    "    all_rents_df[['area', 'block']]\n",
    "]).drop_duplicates().reset_index(drop=True)\n",
    "\n",
    "# Predict price and rent using the trained models\n",
    "all_data_df['predicted_price_per_m2'] = price_model.predict(all_data_df)\n",
    "all_data_df['predicted_rent_per_m2'] = rent_model.predict(all_data_df)\n",
    "\n",
    "# --- Calculate Price-to-Rent Ratio from Predictions ---\n",
    "# Ratio = Predicted Price / (Predicted Annual Rent)\n",
    "all_data_df['predicted_ratio_years'] = all_data_df['predicted_price_per_m2'] / (all_data_df['predicted_rent_per_m2'] * 12)\n",
    "\n",
    "print(all_data_df.head())\n"
   ]
  },
  {
   "cell_type": "code",
   "execution_count": 46,
   "id": "3b45977551324a3f",
   "metadata": {
    "ExecuteTime": {
     "end_time": "2025-10-16T08:08:43.058510Z",
     "start_time": "2025-10-16T08:08:42.806154Z"
    }
   },
   "outputs": [
    {
     "data": {
      "image/png": "[encoded data removed]",
      "text/plain": [
       "<Figure size 1000x600 with 1 Axes>"
      ]
     },
     "metadata": {},
     "output_type": "display_data"
    }
   ],
   "source": [
    "# --- Calculate Median Predicted Ratio for each Block ---\n",
    "median_predicted_ratio = all_data_df.groupby('block')['predicted_ratio_years'].median().reset_index()\n",
    "# --- Figure B: Bar Plot of Predicted Ratios ---\n",
    "plt.style.use('seaborn-v0_8-whitegrid')\n",
    "fig, ax = plt.subplots(figsize=(10, 6))\n",
    "\n",
    "median_predicted_ratio.plot(kind='bar', x='block', y='predicted_ratio_years', ax=ax,\n",
    "                            legend=False, color=['#1f77b4', '#ff7f0e', '#2ca02c', '#d62728'])\n",
    "\n",
    "ax.set_title('Figure B: Median Predicted Price-to-Rent Ratio by Block', fontsize=16)\n",
    "ax.set_xlabel('Block', fontsize=12)\n",
    "ax.set_ylabel('Predicted Price-to-Rent Ratio', fontsize=12)\n",
    "ax.tick_params(axis='x', rotation=0)\n",
    "\n",
    "plt.tight_layout()\n",
    "plt.show()"
   ]
  },
  {
   "cell_type": "markdown",
   "id": "8159ff0092c7e4fd",
   "metadata": {},
   "source": [
    "# 3.5 Data Science Modeling Pro Max"
   ]
  },
  {
   "cell_type": "code",
   "execution_count": 64,
   "id": "0bb46041",
   "metadata": {
    "ExecuteTime": {
     "end_time": "2025-10-16T08:40:24.576468Z",
     "start_time": "2025-10-16T08:40:24.530116Z"
    }
   },
   "outputs": [],
   "source": [
    "\n",
    "# --- Models 1+ & 2+: Use Piecewise Functions (B-Splines) and Interaction ---\n",
    "# includes the spline terms, block terms, and their interaction.\n",
    "formula_plus = 'price_per_m2 ~ bs(area, df=4) * C(block)'\n",
    "\n",
    "# --- Price Model ---\n",
    "y_price, X_price_plus = dmatrices(formula_plus, data=all_prices_df, return_type='dataframe')\n",
    "price_model_plus = sm.OLS(y_price, X_price_plus).fit()\n",
    "\n",
    "# --- Rent Model ---\n",
    "formula_rent_plus = formula_plus.replace('price_per_m2', 'rent_per_m2')\n",
    "y_rent, X_rent_plus = dmatrices(formula_rent_plus, data=all_rents_df, return_type='dataframe')\n",
    "rent_model_plus = sm.OLS(y_rent, X_rent_plus).fit()\n"
   ]
  },
  {
   "cell_type": "code",
   "execution_count": 51,
   "id": "c22b0a6bbeca8642",
   "metadata": {
    "ExecuteTime": {
     "end_time": "2025-10-16T08:30:44.811339Z",
     "start_time": "2025-10-16T08:30:44.805813Z"
    }
   },
   "outputs": [
    {
     "name": "stdout",
     "output_type": "stream",
     "text": [
      "--- R-squared Comparison ---\n",
      "Model 1 (Price) R-squared:           0.6254 | Adj. R-squared: 0.6250\n",
      "Model 1+ (Price Pro Max) R-squared:  0.7282 | Adj. R-squared: 0.7266\n",
      "\n",
      "Model 2 (Rent) R-squared:            0.2622 | Adj. R-squared: 0.2614\n",
      "Model 2+ (Rent Pro Max) R-squared:   0.4007 | Adj. R-squared: 0.3976\n",
      "\n",
      "Models 1+ and 2+ (with splines) may have higher R-squared because they capture non-linear relationships more flexibly than a simple quadratic term.\n"
     ]
    }
   ],
   "source": [
    "\n",
    "# --- R-squared Comparison ---\n",
    "print(\"--- R-squared Comparison ---\")\n",
    "print(f\"Model 1 (Price) R-squared:           {price_model.rsquared:.4f} | Adj. R-squared: {price_model.rsquared_adj:.4f}\")\n",
    "print(f\"Model 1+ (Price Pro Max) R-squared:  {price_model_plus.rsquared:.4f} | Adj. R-squared: {price_model_plus.rsquared_adj:.4f}\\n\")\n",
    "\n",
    "print(f\"Model 2 (Rent) R-squared:            {rent_model.rsquared:.4f} | Adj. R-squared: {rent_model.rsquared_adj:.4f}\")\n",
    "print(f\"Model 2+ (Rent Pro Max) R-squared:   {rent_model_plus.rsquared:.4f} | Adj. R-squared: {rent_model_plus.rsquared_adj:.4f}\")"
   ]
  },
  {
   "cell_type": "markdown",
   "id": "969a52f1f0c62ac0",
   "metadata": {},
   "source": [
    "Models 1+ and 2+ (with splines) may have higher R-squared because they capture non-linear relationships more flexibly than a simple quadratic term."
   ]
  },
  {
   "cell_type": "code",
   "execution_count": 80,
   "id": "9190af044d8e402f",
   "metadata": {
    "ExecuteTime": {
     "end_time": "2025-10-16T08:50:31.283722Z",
     "start_time": "2025-10-16T08:50:31.128070Z"
    }
   },
   "outputs": [
    {
     "data": {
      "image/png": "[encoded data removed]",
      "text/plain": [
       "<Figure size 1000x600 with 1 Axes>"
      ]
     },
     "metadata": {},
     "output_type": "display_data"
    }
   ],
   "source": [
    "# 1) Fit Models 1+ and 2+ with fixed spline bounds (avoid out-of-bounds at predict time)\n",
    "#    Use the global min/max of 'area' across all datasets.\n",
    "area_min = pd.concat([all_prices_df['area'], all_rents_df['area'], all_data_df['area']]).min()\n",
    "area_max = pd.concat([all_prices_df['area'], all_rents_df['area'], all_data_df['area']]).max()\n",
    "\n",
    "formula_price_plus = (\n",
    "    f\"price_per_m2 ~ bs(area, df=4, lower_bound={area_min}, upper_bound={area_max}) * C(block)\"\n",
    ")\n",
    "y_price, X_price_plus = dmatrices(formula_price_plus, data=all_prices_df, return_type='dataframe')\n",
    "price_model_plus = sm.OLS(y_price, X_price_plus).fit()\n",
    "\n",
    "# Rent Pro Max (Model 2+): same spline settings for rent\n",
    "formula_rent_plus = formula_price_plus.replace('price_per_m2', 'rent_per_m2')\n",
    "y_rent, X_rent_plus = dmatrices(formula_rent_plus, data=all_rents_df, return_type='dataframe')\n",
    "rent_model_plus = sm.OLS(y_rent, X_rent_plus).fit()\n",
    "\n",
    "# 2) Predict on the unified grid (all_data_df) using the training design_info\n",
    "#    This ensures identical spline basis (knots + bounds) during prediction.\n",
    "X_pred_price = build_design_matrices([X_price_plus.design_info], all_data_df, return_type='dataframe')[0]\n",
    "X_pred_rent  = build_design_matrices([X_rent_plus.design_info],  all_data_df, return_type='dataframe')[0]\n",
    "\n",
    "X_pred_price = X_pred_price.reindex(columns=X_price_plus.columns, fill_value=0)\n",
    "X_pred_rent  = X_pred_rent.reindex(columns=X_rent_plus.columns,  fill_value=0)\n",
    "\n",
    "# 3) Predict price/rent per m2 and compute price-to-rent ratio in years for each record\n",
    "all_data_df['predicted_price_plus'] = price_model_plus.predict(X_pred_price)\n",
    "all_data_df['predicted_rent_plus']  = rent_model_plus.predict(X_pred_rent)\n",
    "all_data_df['predicted_ratio_plus_years'] = (\n",
    "    all_data_df['predicted_price_plus'] / (all_data_df['predicted_rent_plus'] * 12.0)\n",
    ")\n",
    "\n",
    "# 4) Aggregate to median ratio by block (for Figure C)\n",
    "median_predicted_ratio_plus = (\n",
    "    all_data_df.groupby('block', as_index=False)['predicted_ratio_plus_years'].median()\n",
    ")\n",
    "\n",
    "# 5) Draw plot (Figure C) — stop here as requested\n",
    "plt.style.use('seaborn-v0_8-whitegrid')\n",
    "fig, ax = plt.subplots(figsize=(10, 6))\n",
    "median_predicted_ratio_plus.plot(\n",
    "    kind='bar', x='block', y='predicted_ratio_plus_years', ax=ax,\n",
    "    legend=False, color=['#1f77b4', '#ff7f0e', '#2ca02c', '#d62728']\n",
    ")\n",
    "ax.set_title('Figure C: Median Predicted Price-to-Rent Ratio (Complex Models)', fontsize=16)\n",
    "ax.set_xlabel('Block', fontsize=12)\n",
    "ax.set_ylabel('Predicted Price-to-Rent Ratio (Years)', fontsize=12)\n",
    "ax.tick_params(axis='x', rotation=0)\n",
    "plt.tight_layout()\n",
    "plt.show()"
   ]
  },
  {
   "cell_type": "code",
   "execution_count": 83,
   "id": "66088b683e9646a9",
   "metadata": {
    "ExecuteTime": {
     "end_time": "2025-10-16T08:51:58.554533Z",
     "start_time": "2025-10-16T08:51:58.546020Z"
    }
   },
   "outputs": [
    {
     "name": "stdout",
     "output_type": "stream",
     "text": [
      "\n",
      "--- Comparison of Price-to-Rent Ratios (Years) from Three Methods ---\n",
      "           block  Method 1 (Direct Median)  Method 2 (Simple Model)  Method 3 (Complex Model)\n",
      "beitaipingzhuang                 51.334644                43.003136                 50.424015\n",
      "      shijicheng                 85.460005                78.925802                 81.753279\n",
      "      suzhouqiao                 54.031145                46.262551                 50.716584\n",
      "          wanliu                 80.629791                72.591895                 70.878626\n"
     ]
    }
   ],
   "source": [
    "\n",
    "# --- Comparison of the Three Methods ---\n",
    "# Method 1 results (from Figure A)\n",
    "method1_results = price_rent_ratio_df.rename(columns={'price_rent_ratio_years': 'Method 1 (Direct Median)'})\n",
    "\n",
    "# Method 2 results (from Figure B)\n",
    "method2_results = median_predicted_ratio.rename(columns={'predicted_ratio_years': 'Method 2 (Simple Model)'})\n",
    "\n",
    "# Method 3 results (from Figure C)\n",
    "method3_results = median_predicted_ratio_plus.rename(columns={'predicted_ratio_plus_years': 'Method 3 (Complex Model)'})\n",
    "\n",
    "# Merge results for comparison\n",
    "comparison_df = pd.merge(method1_results, method2_results, on='block')\n",
    "comparison_df = pd.merge(comparison_df, method3_results, on='block')\n",
    "\n",
    "print(\"\\n--- Comparison of Price-to-Rent Ratios (Years) from Three Methods ---\")\n",
    "print(comparison_df.to_string(index=False))"
   ]
  },
  {
   "cell_type": "markdown",
   "id": "b10fd8e967e83158",
   "metadata": {},
   "source": [
    "### Which to trust? (Cross Validation Method)\n"
   ]
  },
  {
   "cell_type": "code",
   "execution_count": 88,
   "id": "4401eb3088c4d513",
   "metadata": {
    "ExecuteTime": {
     "end_time": "2025-10-16T09:12:25.737086Z",
     "start_time": "2025-10-16T09:12:24.941996Z"
    }
   },
   "outputs": [
    {
     "name": "stdout",
     "output_type": "stream",
     "text": [
      "\n",
      "Price per m² — Train/Test RMSE:\n",
      "    Train_RMSE  Test_RMSE\n",
      "M1   31322.879  31313.995\n",
      "M2   26338.510  26386.335\n",
      "M3   22397.668  23957.181\n",
      "\n",
      "Rent per m² — Train/Test RMSE:\n",
      "    Train_RMSE  Test_RMSE\n",
      "M1      55.884     55.836\n",
      "M2      50.025     50.129\n",
      "M3      45.083     45.260\n"
     ]
    }
   ],
   "source": [
    "# Cross-validation to compare the three methods\n",
    "def rmse(y_true, y_pred):\n",
    "    y_true = np.asarray(y_true)\n",
    "    y_pred = np.asarray(y_pred)\n",
    "    return float(np.sqrt(np.mean((y_true - y_pred) ** 2)))\n",
    "\n",
    "def pred_m1(train_df, df, ycol):\n",
    "    gmed = train_df[ycol].median()\n",
    "    bmed = train_df.groupby('block')[ycol].median()\n",
    "    return df['block'].map(bmed).fillna(gmed).values\n",
    "\n",
    "def pred_m2(train_df, df, ycol):\n",
    "    mdl = smf.ols(f\"{ycol} ~ area + C(block)\", data=train_df).fit()\n",
    "    return mdl.predict(df).values\n",
    "\n",
    "def pred_m3(train_df, df, ycol, area_min, area_max):\n",
    "    formula = f\"{ycol} ~ bs(area, df=4, lower_bound={area_min}, upper_bound={area_max}) * C(block)\"\n",
    "    y_tr, X_tr = dmatrices(formula, data=train_df, return_type='dataframe')\n",
    "    mdl = sm.OLS(y_tr, X_tr).fit()\n",
    "    X_df = build_design_matrices([X_tr.design_info], df, return_type='dataframe')[0]\n",
    "    X_df = X_df.reindex(columns=X_tr.columns, fill_value=0)\n",
    "    return mdl.predict(X_df).values\n",
    "\n",
    "def eval_target_train_test_rmse(df, ycol, kf, area_min, area_max):\n",
    "    df = df.dropna(subset=['area', ycol, 'block']).reset_index(drop=True)\n",
    "    models = {\n",
    "        'M1': lambda tr, de: pred_m1(tr, de, ycol),\n",
    "        'M2': lambda tr, de: pred_m2(tr, de, ycol),\n",
    "        'M3': lambda tr, de: pred_m3(tr, de, ycol, area_min, area_max),\n",
    "    }\n",
    "    train_rmse = {k: [] for k in models}\n",
    "    test_rmse  = {k: [] for k in models}\n",
    "\n",
    "    for tr_idx, te_idx in kf.split(df):\n",
    "        tr, te = df.iloc[tr_idx].copy(), df.iloc[te_idx].copy()\n",
    "\n",
    "        for name, fn in models.items():\n",
    "            # Calculate RMSE on train and test sets\n",
    "            y_tr_true = tr[ycol].values\n",
    "            y_tr_pred = fn(tr, tr)\n",
    "            train_rmse[name].append(rmse(y_tr_true, y_tr_pred))\n",
    "            y_te_true = te[ycol].values\n",
    "            y_te_pred = fn(tr, te)\n",
    "            test_rmse[name].append(rmse(y_te_true, y_te_pred))\n",
    "\n",
    "    out = pd.DataFrame({\n",
    "        'Train_RMSE': {k: float(np.mean(v)) if len(v) else np.nan for k, v in train_rmse.items()},\n",
    "        'Test_RMSE':  {k: float(np.mean(v)) if len(v) else np.nan for k, v in test_rmse.items()},\n",
    "    }).loc[['M1','M2','M3']]\n",
    "    return out\n",
    "\n",
    "def cross_validate_train_test_errors(all_prices_df, all_rents_df, n_splits=5, random_state=42):\n",
    "    area_min = pd.concat([all_prices_df['area'], all_rents_df['area']]).min()\n",
    "    area_max = pd.concat([all_prices_df['area'], all_rents_df['area']]).max()\n",
    "    kf = KFold(n_splits=n_splits, shuffle=True, random_state=random_state)\n",
    "\n",
    "    price_res = eval_target_train_test_rmse(all_prices_df, 'price_per_m2', kf, area_min, area_max)\n",
    "    rent_res  = eval_target_train_test_rmse(all_rents_df,  'rent_per_m2',  kf, area_min, area_max)\n",
    "\n",
    "    print(\"\\nPrice per m² — Train/Test RMSE:\")\n",
    "    print(price_res.round(3))\n",
    "    print(\"\\nRent per m² — Train/Test RMSE:\")\n",
    "    print(rent_res.round(3))\n",
    "\n",
    "cross_validate_train_test_errors(all_prices_df, all_rents_df, n_splits=5, random_state=42)"
   ]
  },
  {
   "cell_type": "markdown",
   "id": "36683c21f1457d85",
   "metadata": {},
   "source": [
    "(1) For a sufficiently large sample size, Method 3 (Complex Model) is generally more trustworthy because it provides a more nuanced model of complex real-world relationships.\n",
    "\n",
    "(2) However, if the sample size is small, the complex model risks overfitting (fitting to noise), in which case Method 2 (Simple Model) might be a more robust choice.\n",
    "\n",
    "In our cross-validation results, the third method(complex model) shows the lowest test RMSE for both price and rent predictions. So, we can trust Method 3 the most in this dataset."
   ]
  }
 ],
 "metadata": {
  "kernelspec": {
   "display_name": "Python 3 (ipykernel)",
   "language": "python",
   "name": "python3"
  },
  "language_info": {
   "codemirror_mode": {
    "name": "ipython",
    "version": 3
   },
   "file_extension": ".py",
   "mimetype": "text/x-python",
   "name": "python",
   "nbconvert_exporter": "python",
   "pygments_lexer": "ipython3",
   "version": "3.12.3"
  }
 },
 "nbformat": 4,
 "nbformat_minor": 5
}
