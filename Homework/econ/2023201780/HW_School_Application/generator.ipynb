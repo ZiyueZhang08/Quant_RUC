{
 "cells": [
  {
   "cell_type": "code",
   "execution_count": 1,
   "id": "2f29f097-c7e1-49eb-92cd-f8c4bfaceda6",
   "metadata": {},
   "outputs": [],
   "source": [
    "import pandas as pd\n",
    "from docxtpl import DocxTemplate\n",
    "import os\n",
    "from tqdm import tqdm  # 用于显示进度条"
   ]
  },
  {
   "cell_type": "code",
   "execution_count": 2,
   "id": "b6079c83-d50d-4065-b39c-209d35616b09",
   "metadata": {},
   "outputs": [],
   "source": [
    "template_path = r\"D:\\pythonai\\template.docx\"\n",
    "universities_path = r\"D:\\pythonai\\universities.xlsx\"\n",
    "areas_path = r\"D:\\pythonai\\area_journals_skills.xlsx\"\n",
    "\n",
    "# 创建输出目录\n",
    "output_dir = r\"D:\\pythonai\\generated_sops1\"\n",
    "if not os.path.exists(output_dir):\n",
    "    os.makedirs(output_dir)"
   ]
  },
  {
   "cell_type": "code",
   "execution_count": 4,
   "id": "f213252c-3981-4f07-9068-9390b4721d5b",
   "metadata": {},
   "outputs": [
    {
     "name": "stdout",
     "output_type": "stream",
     "text": [
      "成功读取 30 所大学\n"
     ]
    }
   ],
   "source": [
    "try:\n",
    "    universities_df = pd.read_excel(universities_path)\n",
    "    # 假设大学名称在第一列，跳过标题行\n",
    "    universities = universities_df.iloc[:, 0].tolist()[0:]  # 从第二行开始取数据\n",
    "    print(f\"成功读取 {len(universities)} 所大学\")\n",
    "except Exception as e:\n",
    "    print(f\"读取大学列表出错: {e}\")\n",
    "    raise"
   ]
  },
  {
   "cell_type": "code",
   "execution_count": 5,
   "id": "ad0aa97a-739c-4e86-82fc-6b982b85f2f4",
   "metadata": {},
   "outputs": [
    {
     "name": "stdout",
     "output_type": "stream",
     "text": [
      "成功读取 3 个研究领域\n"
     ]
    }
   ],
   "source": [
    "try:\n",
    "    areas_df = pd.read_excel(areas_path)\n",
    "    # 重命名列以便于访问\n",
    "    areas_df.columns = ['research_area', 'top_journals', 'skills']\n",
    "    # 转换为字典列表\n",
    "    research_areas = areas_df.to_dict('records')\n",
    "    print(f\"成功读取 {len(research_areas)} 个研究领域\")\n",
    "except Exception as e:\n",
    "    print(f\"读取研究领域数据出错: {e}\")\n",
    "    raise"
   ]
  },
  {
   "cell_type": "code",
   "execution_count": 6,
   "id": "a75cd7eb-b8aa-4751-92cb-4467023717ba",
   "metadata": {},
   "outputs": [
    {
     "name": "stdout",
     "output_type": "stream",
     "text": [
      "成功加载模板文件\n"
     ]
    }
   ],
   "source": [
    "try:\n",
    "    doc = DocxTemplate(template_path)\n",
    "    print(\"成功加载模板文件\")\n",
    "except Exception as e:\n",
    "    print(f\"加载模板文件出错: {e}\")\n",
    "    raise"
   ]
  },
  {
   "cell_type": "code",
   "execution_count": 7,
   "id": "56b4a679-bf41-45d5-b04b-2f0da8467559",
   "metadata": {},
   "outputs": [
    {
     "name": "stdout",
     "output_type": "stream",
     "text": [
      "开始生成 90 份文档...\n"
     ]
    },
    {
     "name": "stderr",
     "output_type": "stream",
     "text": [
      "处理大学列表: 100%|██████████| 30/30 [00:03<00:00,  9.01it/s]"
     ]
    },
    {
     "name": "stdout",
     "output_type": "stream",
     "text": [
      "所有文档已生成并保存到: D:\\pythonai\\generated_sops1\n",
      "共生成 90 份文档\n"
     ]
    },
    {
     "name": "stderr",
     "output_type": "stream",
     "text": [
      "\n"
     ]
    }
   ],
   "source": [
    "total_documents = len(universities) * len(research_areas)\n",
    "print(f\"开始生成 {total_documents} 份文档...\")\n",
    "\n",
    "for i, university in enumerate(tqdm(universities, desc=\"处理大学列表\")):\n",
    "    for j, area in enumerate(research_areas):\n",
    "        # 准备替换数据\n",
    "        context = {\n",
    "            'university': university,\n",
    "            'research_area': area['research_area'],\n",
    "            'top_journals': area['top_journals'],\n",
    "            'skills': area['skills']\n",
    "        }\n",
    "        \n",
    "        # 填充模板\n",
    "        doc.render(context)\n",
    "        \n",
    "        # 生成文件名（避免特殊字符）\n",
    "        safe_university = \"\".join([c for c in university if c.isalnum() or c in [' ', '-', '_']]).replace(' ', '_')\n",
    "        safe_area = \"\".join([c for c in area['research_area'] if c.isalnum() or c in [' ', '-', '_']]).replace(' ', '_')\n",
    "        output_filename = f\"{i+1}_{safe_university}_{j+1}_{safe_area}.docx\"\n",
    "        output_path = os.path.join(output_dir, output_filename)\n",
    "        \n",
    "        # 保存生成的文档\n",
    "        doc.save(output_path)\n",
    "\n",
    "print(f\"所有文档已生成并保存到: {output_dir}\")\n",
    "print(f\"共生成 {total_documents} 份文档\")"
   ]
  },
  {
   "cell_type": "code",
   "execution_count": null,
   "id": "98829c89-4d19-40d2-82a3-2164a3837af1",
   "metadata": {},
   "outputs": [],
   "source": []
  }
 ],
 "metadata": {
  "kernelspec": {
   "display_name": "Python [conda env:base] *",
   "language": "python",
   "name": "conda-base-py"
  },
  "language_info": {
   "codemirror_mode": {
    "name": "ipython",
    "version": 3
   },
   "file_extension": ".py",
   "mimetype": "text/x-python",
   "name": "python",
   "nbconvert_exporter": "python",
   "pygments_lexer": "ipython3",
   "version": "3.12.7"
  }
 },
 "nbformat": 4,
 "nbformat_minor": 5
}
