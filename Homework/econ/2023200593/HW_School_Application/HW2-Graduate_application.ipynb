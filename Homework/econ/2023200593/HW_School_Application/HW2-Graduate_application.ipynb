{
 "cells": [
  {
   "cell_type": "code",
   "execution_count": 1,
   "id": "cb1465d1-9d66-4e61-97a6-35caead45491",
   "metadata": {},
   "outputs": [
    {
     "name": "stderr",
     "output_type": "stream",
     "text": [
      "C:\\Users\\lenovo\\AppData\\Local\\Programs\\Python\\Python312\\Lib\\site-packages\\docxcompose\\properties.py:18: UserWarning: pkg_resources is deprecated as an API. See https://setuptools.pypa.io/en/latest/pkg_resources.html. The pkg_resources package is slated for removal as early as 2025-11-30. Refrain from using this package or pin to Setuptools<81.\n",
      "  import pkg_resources\n"
     ]
    }
   ],
   "source": [
    "import pandas as pd\n",
    "import requests\n",
    "import random\n",
    "from bs4 import BeautifulSoup\n",
    "from docxtpl import DocxTemplate\n",
    "import os\n",
    "from pathlib import Path\n",
    "import time"
   ]
  },
  {
   "cell_type": "code",
   "execution_count": 8,
   "id": "dcc28975-dcda-4ecb-8c05-e4a90d663df2",
   "metadata": {},
   "outputs": [],
   "source": [
    "def get_economics_universities():\n",
    "    \"\"\"从IDEAS经济学排名网站爬取大学数据，并选择30所大学\"\"\"\n",
    "    print(\"正在从IDEAS经济学排名网站爬取大学数据...\")\n",
    "    \n",
    "    try:\n",
    "        url = \"http://ideas.repec.org/top/top.econdept.html\"\n",
    "        headers = {'User-Agent': 'Mozilla/5.0 (Windows NT 10.0; Win64; x64) AppleWebKit/537.36'}\n",
    "        response = requests.get(url, headers=headers, timeout=30)\n",
    "        response.raise_for_status()\n",
    "        \n",
    "        soup = BeautifulSoup(response.content, 'html.parser')\n",
    "        universities = []\n",
    "        \n",
    "        table = soup.find('table', class_='shorttop')\n",
    "        if table:\n",
    "            rows = table.find_all('tr')[1:]  # 跳过表头\n",
    "            \n",
    "            for row in rows:\n",
    "                cells = row.find_all('td')\n",
    "                if len(cells) >= 2:\n",
    "                    institution_link = cells[1].find('a')\n",
    "                    if institution_link:\n",
    "                        university_name = institution_link.get_text(strip=True)\n",
    "                        \n",
    "                        # 清理机构名称\n",
    "                        if ',' in university_name:\n",
    "                            parts = university_name.split(',')\n",
    "                            if len(parts) > 1:\n",
    "                                university_name = parts[1].strip()\n",
    "                        \n",
    "                        # 特殊处理：Alma Mater Studiorum - Università di Bologna\n",
    "                        if university_name == \"Alma Mater Studiorum - Università di Bologna\":\n",
    "                            university_name = \"Università di Bologna\"\n",
    "\n",
    "                        if university_name and university_name not in universities:\n",
    "                            universities.append(university_name)\n",
    "                            \n",
    "                        # 收集前90所大学\n",
    "                        if len(universities) >= 90:\n",
    "                            break\n",
    "        \n",
    "        if len(universities) < 90:\n",
    "            print(f\"警告：只爬取到 {len(universities)} 所大学，不足90所\")\n",
    "            return None\n",
    "        \n",
    "        # 从三个区间各选择前10所大学\n",
    "        front_30 = universities[:30]\n",
    "        middle_30 = universities[30:60]\n",
    "        back_30 = universities[60:90]\n",
    "        \n",
    "        selected_front = front_30[0:10]\n",
    "        selected_middle = middle_30[0:10]\n",
    "        selected_back = back_30[0:10]\n",
    "        \n",
    "        selected_universities = selected_front + selected_middle + selected_back\n",
    "        \n",
    "        return selected_universities\n",
    "        \n",
    "    except Exception as e:\n",
    "        print(f\"爬取大学数据时出错: {e}\")\n",
    "        return None\n",
    "\n",
    "# something I learn from the process of crawler:\n",
    "#  try:\n",
    "#       url = \"the website we want to crawl\"\n",
    "#       # 设置请求头模仿浏览器行\n",
    "#       headers = {'User-Agent': 'Mozilla/5.0 (Windows NT 10.0; Win64; x64) AppleWebKit/537.36'}\n",
    "#       response = requests.get(url, headers=headers, timeout=30)\n",
    "#       response.raise_for_status()\n",
    "#       # ... 解析代码\n",
    "#  except Exception as e:\n",
    "#       #统一的错误处理和日志记录\n",
    "#       print(f\"爬取大学数据时出错: {e}\")\n",
    "#       return None"
   ]
  },
  {
   "cell_type": "code",
   "execution_count": 9,
   "id": "c911f427-2251-4558-a245-de4362e5622b",
   "metadata": {},
   "outputs": [],
   "source": [
    "def get_research_areas():\n",
    "    \"\"\"获取研究领域、期刊、职业和技能数据\"\"\"\n",
    "    research_data = {\n",
    "        'Research Area': ['Economics', 'Finance', 'Market'],\n",
    "        'Journals': [\n",
    "            'American Economic Review(AER), Quarterly Journal of Economics(QJE), Econometrica',\n",
    "            'Journal of Finance, Journal of Financial Economics, Review of Financial Studies',\n",
    "            'Marketing Science, Journal of Marketing, Journal of Marketing Research'\n",
    "        ],\n",
    "        'Career': ['economic analyst', 'quant developer', 'marketing manager'],\n",
    "        'Skills': [\n",
    "            'Microsoft Powerpoint, Mandarin, Power BI, Microsoft Excel, Auditing, etc',\n",
    "            'Java, C++, Python, computer networking, R, SQL, relational databases, etc',\n",
    "            'Power BI, writing skills, digital marketing, organizational skills, marketing, etc'\n",
    "        ]\n",
    "    }\n",
    "    \n",
    "    return research_data"
   ]
  },
  {
   "cell_type": "code",
   "execution_count": 10,
   "id": "a9970d56-fabc-40a1-9d17-aaf7bb78b0d2",
   "metadata": {},
   "outputs": [],
   "source": [
    "def save_data_to_csv(universities, research_data):\n",
    "    \"\"\"保存数据到CSV文件\"\"\"\n",
    "    # 保存大学列表\n",
    "    df_universities = pd.DataFrame(universities, columns=['University'])\n",
    "    csv_filename1 = \"excel_list1.csv\"\n",
    "    df_universities.to_csv(csv_filename1, index=False, encoding='utf-8-sig')\n",
    "    print(f\"大学列表已保存到: {csv_filename1}\")\n",
    "    \n",
    "    # 保存研究领域数据\n",
    "    df_research = pd.DataFrame(research_data)\n",
    "    csv_filename2 = \"excel_list2.csv\"\n",
    "    df_research.to_csv(csv_filename2, index=False, encoding='utf-8-sig')\n",
    "    print(f\"研究领域、期刊、职业和技能已保存到: {csv_filename2}\")\n",
    "# something I learn from the process of saving a csv file:\n",
    "# 创建DataFrame → 保存为CSV → 指定编码 → 不保存索引"
   ]
  },
  {
   "cell_type": "code",
   "execution_count": 5,
   "id": "5169df5c-259b-47b1-a46c-da8840daa495",
   "metadata": {},
   "outputs": [],
   "source": [
    "def generate_sop_documents(universities, research_data, personal_info, output_dir_word):\n",
    "    \"\"\"生成所有SOP Word文档\"\"\"\n",
    "    print(\"\\n开始生成Word文档...\")\n",
    "    \n",
    "    # 加载模板\n",
    "    template_path = r\"D:\\desktop\\sop_template.docx\"\n",
    "    doc = DocxTemplate(template_path)\n",
    "    print(f\"成功加载模板: {template_path}\")\n",
    "    \n",
    "    generated_files = []\n",
    "    \n",
    "    for university in universities:\n",
    "        for i, research_area in enumerate(research_data['Research Area']):\n",
    "            # 准备上下文数据\n",
    "            journals = research_data['Journals'][i].split(', ')\n",
    "            career_goal = research_data['Career'][i]\n",
    "            skills = research_data['Skills'][i]\n",
    "            \n",
    "            context = {\n",
    "                'university': university,\n",
    "                'research_area': research_area,\n",
    "                'journal1': journals[0] if len(journals) > 0 else '',\n",
    "                'journal2': journals[1] if len(journals) > 1 else '',\n",
    "                'journal3': journals[2] if len(journals) > 2 else '',\n",
    "                'career_goal': career_goal,\n",
    "                'skills': skills,\n",
    "                'name': personal_info['name']\n",
    "            }\n",
    "            \n",
    "            # 渲染模板\n",
    "            doc.render(context)\n",
    "            \n",
    "            # 保存Word文档\n",
    "            filename_base = f\"SOP_{university.replace(' ', '_')}_{research_area}\"\n",
    "            word_filename = f\"{filename_base}.docx\"\n",
    "            word_filepath = output_dir_word / word_filename\n",
    "            doc.save(word_filepath)\n",
    "            \n",
    "            generated_files.append((word_filepath, filename_base))\n",
    "            print(f\"生成Word文档: {word_filename}\")\n",
    "    \n",
    "    return generated_files"
   ]
  },
  {
   "cell_type": "code",
   "execution_count": 6,
   "id": "1d9f3ff0-0722-40a4-9e64-ce330381a889",
   "metadata": {},
   "outputs": [],
   "source": [
    "def convert_to_pdf(generated_files, output_dir_pdf):\n",
    "    \"\"\"将Word文档转换为PDF\"\"\"\n",
    "    if os.name != 'nt':  # 非Windows系统\n",
    "        print(\"PDF转换仅支持Windows系统\")\n",
    "        return 0\n",
    "    \n",
    "    print(\"\\n开始转换为PDF格式...\")\n",
    "    pdf_count = 0\n",
    "    \n",
    "    try:\n",
    "        from docx2pdf import convert\n",
    "        \n",
    "        for word_filepath, filename_base in generated_files:\n",
    "            max_retries = 3\n",
    "            retry_count = 0\n",
    "            success = False\n",
    "            \n",
    "            while retry_count < max_retries and not success:\n",
    "                try:\n",
    "                    pdf_filename = f\"{filename_base}.pdf\"\n",
    "                    pdf_filepath = output_dir_pdf / pdf_filename\n",
    "                    \n",
    "                    # 添加延迟，避免资源冲突\n",
    "                    if retry_count > 0:\n",
    "                        time.sleep(2)  # 重试时等待2秒\n",
    "                    \n",
    "                    convert(word_filepath, pdf_filepath)\n",
    "                    pdf_count += 1\n",
    "                    print(f\"转换为PDF: {pdf_filename}\")\n",
    "                    success = True\n",
    "                    \n",
    "                except Exception as pdf_error:\n",
    "                    retry_count += 1\n",
    "                    if retry_count < max_retries:\n",
    "                        print(f\"PDF转换失败 {filename_base}，第{retry_count}次重试: {pdf_error}\")\n",
    "                    else:\n",
    "                        print(f\"PDF转换失败 {filename_base}，已重试{max_retries}次: {pdf_error}\")\n",
    "        \n",
    "        return pdf_count\n",
    "        \n",
    "    except ImportError:\n",
    "        print(\"无法导入docx2pdf库，请确保已安装\")\n",
    "        return 0\n",
    "    except Exception as e:\n",
    "        print(f\"PDF转换过程中出错: {e}\")\n",
    "        return 0"
   ]
  },
  {
   "cell_type": "code",
   "execution_count": 7,
   "id": "e0d09a0f-2505-4191-82f6-7366a68ac505",
   "metadata": {},
   "outputs": [
    {
     "name": "stdout",
     "output_type": "stream",
     "text": [
      "==================================================\n",
      "大学申请信生成器\n",
      "==================================================\n",
      "正在从IDEAS经济学排名网站爬取大学数据...\n",
      "大学列表已保存到: excel_list1.csv\n",
      "研究领域、期刊、职业和技能已保存到: excel_list2.csv\n",
      "\n",
      "开始生成Word文档...\n",
      "成功加载模板: D:\\desktop\\sop_template.docx\n",
      "生成Word文档: SOP_Harvard_University_Economics.docx\n",
      "生成Word文档: SOP_Harvard_University_Finance.docx\n",
      "生成Word文档: SOP_Harvard_University_Market.docx\n",
      "生成Word文档: SOP_Massachusetts_Institute_of_Technology_(MIT)_Economics.docx\n",
      "生成Word文档: SOP_Massachusetts_Institute_of_Technology_(MIT)_Finance.docx\n",
      "生成Word文档: SOP_Massachusetts_Institute_of_Technology_(MIT)_Market.docx\n",
      "生成Word文档: SOP_University_of_California-Berkeley_Economics.docx\n",
      "生成Word文档: SOP_University_of_California-Berkeley_Finance.docx\n",
      "生成Word文档: SOP_University_of_California-Berkeley_Market.docx\n",
      "生成Word文档: SOP_University_of_Chicago_Economics.docx\n",
      "生成Word文档: SOP_University_of_Chicago_Finance.docx\n",
      "生成Word文档: SOP_University_of_Chicago_Market.docx\n",
      "生成Word文档: SOP_Paris_School_of_Economics_Economics.docx\n",
      "生成Word文档: SOP_Paris_School_of_Economics_Finance.docx\n",
      "生成Word文档: SOP_Paris_School_of_Economics_Market.docx\n",
      "生成Word文档: SOP_Princeton_University_Economics.docx\n",
      "生成Word文档: SOP_Princeton_University_Finance.docx\n",
      "生成Word文档: SOP_Princeton_University_Market.docx\n",
      "生成Word文档: SOP_Stanford_University_Economics.docx\n",
      "生成Word文档: SOP_Stanford_University_Finance.docx\n",
      "生成Word文档: SOP_Stanford_University_Market.docx\n",
      "生成Word文档: SOP_Yale_University_Economics.docx\n",
      "生成Word文档: SOP_Yale_University_Finance.docx\n",
      "生成Word文档: SOP_Yale_University_Market.docx\n",
      "生成Word文档: SOP_Toulouse_School_of_Economics_(TSE)_Economics.docx\n",
      "生成Word文档: SOP_Toulouse_School_of_Economics_(TSE)_Finance.docx\n",
      "生成Word文档: SOP_Toulouse_School_of_Economics_(TSE)_Market.docx\n",
      "生成Word文档: SOP_Oxford_University_Economics.docx\n",
      "生成Word文档: SOP_Oxford_University_Finance.docx\n",
      "生成Word文档: SOP_Oxford_University_Market.docx\n",
      "生成Word文档: SOP_Graduate_School_of_Business_Economics.docx\n",
      "生成Word文档: SOP_Graduate_School_of_Business_Finance.docx\n",
      "生成Word文档: SOP_Graduate_School_of_Business_Market.docx\n",
      "生成Word文档: SOP_University_of_Cambridge_Economics.docx\n",
      "生成Word文档: SOP_University_of_Cambridge_Finance.docx\n",
      "生成Word文档: SOP_University_of_Cambridge_Market.docx\n",
      "生成Word文档: SOP_Boston_College_Economics.docx\n",
      "生成Word文档: SOP_Boston_College_Finance.docx\n",
      "生成Word文档: SOP_Boston_College_Market.docx\n",
      "生成Word文档: SOP_University_of_Toronto_Economics.docx\n",
      "生成Word文档: SOP_University_of_Toronto_Finance.docx\n",
      "生成Word文档: SOP_University_of_Toronto_Market.docx\n",
      "生成Word文档: SOP_University_of_Warwick_Economics.docx\n",
      "生成Word文档: SOP_University_of_Warwick_Finance.docx\n",
      "生成Word文档: SOP_University_of_Warwick_Market.docx\n",
      "生成Word文档: SOP_Cornell_University_Economics.docx\n",
      "生成Word文档: SOP_Cornell_University_Finance.docx\n",
      "生成Word文档: SOP_Cornell_University_Market.docx\n",
      "生成Word文档: SOP_University_of_California-Davis_Economics.docx\n",
      "生成Word文档: SOP_University_of_California-Davis_Finance.docx\n",
      "生成Word文档: SOP_University_of_California-Davis_Market.docx\n",
      "生成Word文档: SOP_Rijksuniversiteit_Groningen_Economics.docx\n",
      "生成Word文档: SOP_Rijksuniversiteit_Groningen_Finance.docx\n",
      "生成Word文档: SOP_Rijksuniversiteit_Groningen_Market.docx\n",
      "生成Word文档: SOP_Johns_Hopkins_University_Economics.docx\n",
      "生成Word文档: SOP_Johns_Hopkins_University_Finance.docx\n",
      "生成Word文档: SOP_Johns_Hopkins_University_Market.docx\n",
      "生成Word文档: SOP_Università_di_Bologna_Economics.docx\n",
      "生成Word文档: SOP_Università_di_Bologna_Finance.docx\n",
      "生成Word文档: SOP_Università_di_Bologna_Market.docx\n",
      "生成Word文档: SOP_University_of_Virginia_Economics.docx\n",
      "生成Word文档: SOP_University_of_Virginia_Finance.docx\n",
      "生成Word文档: SOP_University_of_Virginia_Market.docx\n",
      "生成Word文档: SOP_Australian_National_University_Economics.docx\n",
      "生成Word文档: SOP_Australian_National_University_Finance.docx\n",
      "生成Word文档: SOP_Australian_National_University_Market.docx\n",
      "生成Word文档: SOP_Georgetown_University_Economics.docx\n",
      "生成Word文档: SOP_Georgetown_University_Finance.docx\n",
      "生成Word文档: SOP_Georgetown_University_Market.docx\n",
      "生成Word文档: SOP_University_of_Minnesota_Economics.docx\n",
      "生成Word文档: SOP_University_of_Minnesota_Finance.docx\n",
      "生成Word文档: SOP_University_of_Minnesota_Market.docx\n",
      "生成Word文档: SOP_Stern_School_of_Business_Economics.docx\n",
      "生成Word文档: SOP_Stern_School_of_Business_Finance.docx\n",
      "生成Word文档: SOP_Stern_School_of_Business_Market.docx\n",
      "生成Word文档: SOP_University_of_California-Santa_Barbara_(UCSB)_Economics.docx\n",
      "生成Word文档: SOP_University_of_California-Santa_Barbara_(UCSB)_Finance.docx\n",
      "生成Word文档: SOP_University_of_California-Santa_Barbara_(UCSB)_Market.docx\n",
      "生成Word文档: SOP_Pennsylvania_State_University_Economics.docx\n",
      "生成Word文档: SOP_Pennsylvania_State_University_Finance.docx\n",
      "生成Word文档: SOP_Pennsylvania_State_University_Market.docx\n",
      "生成Word文档: SOP_Washington_University_in_St._Louis_Economics.docx\n",
      "生成Word文档: SOP_Washington_University_in_St._Louis_Finance.docx\n",
      "生成Word文档: SOP_Washington_University_in_St._Louis_Market.docx\n",
      "生成Word文档: SOP_University_of_Colorado_Economics.docx\n",
      "生成Word文档: SOP_University_of_Colorado_Finance.docx\n",
      "生成Word文档: SOP_University_of_Colorado_Market.docx\n",
      "生成Word文档: SOP_Rutgers_University-New_Brunswick_Economics.docx\n",
      "生成Word文档: SOP_Rutgers_University-New_Brunswick_Finance.docx\n",
      "生成Word文档: SOP_Rutgers_University-New_Brunswick_Market.docx\n",
      "\n",
      "开始转换为PDF格式...\n"
     ]
    },
    {
     "name": "stderr",
     "output_type": "stream",
     "text": [
      "C:\\Users\\lenovo\\AppData\\Local\\Programs\\Python\\Python312\\Lib\\site-packages\\tqdm\\auto.py:21: TqdmWarning: IProgress not found. Please update jupyter and ipywidgets. See https://ipywidgets.readthedocs.io/en/stable/user_install.html\n",
      "  from .autonotebook import tqdm as notebook_tqdm\n",
      "100%|████████████████████████████████████████████████████████████████████████████████████| 1/1 [00:02<00:00,  2.32s/it]\n"
     ]
    },
    {
     "name": "stdout",
     "output_type": "stream",
     "text": [
      "转换为PDF: SOP_Harvard_University_Economics.pdf\n"
     ]
    },
    {
     "name": "stderr",
     "output_type": "stream",
     "text": [
      "100%|████████████████████████████████████████████████████████████████████████████████████| 1/1 [00:01<00:00,  1.69s/it]\n"
     ]
    },
    {
     "name": "stdout",
     "output_type": "stream",
     "text": [
      "转换为PDF: SOP_Harvard_University_Finance.pdf\n"
     ]
    },
    {
     "name": "stderr",
     "output_type": "stream",
     "text": [
      "  0%|                                                                                            | 0/1 [00:02<?, ?it/s]"
     ]
    },
    {
     "name": "stdout",
     "output_type": "stream",
     "text": [
      "PDF转换失败 SOP_Harvard_University_Market，第1次重试: Open.Close\n"
     ]
    },
    {
     "name": "stderr",
     "output_type": "stream",
     "text": [
      "\n",
      "100%|████████████████████████████████████████████████████████████████████████████████████| 1/1 [00:03<00:00,  3.30s/it]\n"
     ]
    },
    {
     "name": "stdout",
     "output_type": "stream",
     "text": [
      "转换为PDF: SOP_Harvard_University_Market.pdf\n"
     ]
    },
    {
     "name": "stderr",
     "output_type": "stream",
     "text": [
      "100%|████████████████████████████████████████████████████████████████████████████████████| 1/1 [00:01<00:00,  1.63s/it]\n"
     ]
    },
    {
     "name": "stdout",
     "output_type": "stream",
     "text": [
      "转换为PDF: SOP_Massachusetts_Institute_of_Technology_(MIT)_Economics.pdf\n"
     ]
    },
    {
     "name": "stderr",
     "output_type": "stream",
     "text": [
      "  0%|                                                                                            | 0/1 [00:01<?, ?it/s]"
     ]
    },
    {
     "name": "stdout",
     "output_type": "stream",
     "text": [
      "PDF转换失败 SOP_Massachusetts_Institute_of_Technology_(MIT)_Finance，第1次重试: Word.Application.Documents\n"
     ]
    },
    {
     "name": "stderr",
     "output_type": "stream",
     "text": [
      "\n",
      "100%|████████████████████████████████████████████████████████████████████████████████████| 1/1 [00:02<00:00,  2.59s/it]\n"
     ]
    },
    {
     "name": "stdout",
     "output_type": "stream",
     "text": [
      "转换为PDF: SOP_Massachusetts_Institute_of_Technology_(MIT)_Finance.pdf\n"
     ]
    },
    {
     "name": "stderr",
     "output_type": "stream",
     "text": [
      "100%|████████████████████████████████████████████████████████████████████████████████████| 1/1 [00:01<00:00,  1.64s/it]\n"
     ]
    },
    {
     "name": "stdout",
     "output_type": "stream",
     "text": [
      "转换为PDF: SOP_Massachusetts_Institute_of_Technology_(MIT)_Market.pdf\n"
     ]
    },
    {
     "name": "stderr",
     "output_type": "stream",
     "text": [
      "  0%|                                                                                            | 0/1 [00:01<?, ?it/s]"
     ]
    },
    {
     "name": "stdout",
     "output_type": "stream",
     "text": [
      "PDF转换失败 SOP_University_of_California-Berkeley_Economics，第1次重试: Open.SaveAs\n"
     ]
    },
    {
     "name": "stderr",
     "output_type": "stream",
     "text": [
      "\n",
      "100%|████████████████████████████████████████████████████████████████████████████████████| 1/1 [00:02<00:00,  2.30s/it]\n"
     ]
    },
    {
     "name": "stdout",
     "output_type": "stream",
     "text": [
      "转换为PDF: SOP_University_of_California-Berkeley_Economics.pdf\n"
     ]
    },
    {
     "name": "stderr",
     "output_type": "stream",
     "text": [
      "100%|████████████████████████████████████████████████████████████████████████████████████| 1/1 [00:01<00:00,  1.68s/it]\n"
     ]
    },
    {
     "name": "stdout",
     "output_type": "stream",
     "text": [
      "转换为PDF: SOP_University_of_California-Berkeley_Finance.pdf\n"
     ]
    },
    {
     "name": "stderr",
     "output_type": "stream",
     "text": [
      "  0%|                                                                                            | 0/1 [00:03<?, ?it/s]"
     ]
    },
    {
     "name": "stdout",
     "output_type": "stream",
     "text": [
      "PDF转换失败 SOP_University_of_California-Berkeley_Market，第1次重试: Open.Close\n"
     ]
    },
    {
     "name": "stderr",
     "output_type": "stream",
     "text": [
      "\n",
      "100%|████████████████████████████████████████████████████████████████████████████████████| 1/1 [00:02<00:00,  2.54s/it]\n"
     ]
    },
    {
     "name": "stdout",
     "output_type": "stream",
     "text": [
      "转换为PDF: SOP_University_of_California-Berkeley_Market.pdf\n"
     ]
    },
    {
     "name": "stderr",
     "output_type": "stream",
     "text": [
      "100%|████████████████████████████████████████████████████████████████████████████████████| 1/1 [00:01<00:00,  1.63s/it]\n"
     ]
    },
    {
     "name": "stdout",
     "output_type": "stream",
     "text": [
      "转换为PDF: SOP_University_of_Chicago_Economics.pdf\n"
     ]
    },
    {
     "name": "stderr",
     "output_type": "stream",
     "text": [
      "  0%|                                                                                            | 0/1 [00:03<?, ?it/s]"
     ]
    },
    {
     "name": "stdout",
     "output_type": "stream",
     "text": [
      "PDF转换失败 SOP_University_of_Chicago_Finance，第1次重试: Open.Close\n"
     ]
    },
    {
     "name": "stderr",
     "output_type": "stream",
     "text": [
      "\n",
      "100%|████████████████████████████████████████████████████████████████████████████████████| 1/1 [00:02<00:00,  2.34s/it]\n"
     ]
    },
    {
     "name": "stdout",
     "output_type": "stream",
     "text": [
      "转换为PDF: SOP_University_of_Chicago_Finance.pdf\n"
     ]
    },
    {
     "name": "stderr",
     "output_type": "stream",
     "text": [
      "100%|████████████████████████████████████████████████████████████████████████████████████| 1/1 [00:01<00:00,  1.69s/it]\n"
     ]
    },
    {
     "name": "stdout",
     "output_type": "stream",
     "text": [
      "转换为PDF: SOP_University_of_Chicago_Market.pdf\n"
     ]
    },
    {
     "name": "stderr",
     "output_type": "stream",
     "text": [
      "  0%|                                                                                            | 0/1 [00:03<?, ?it/s]"
     ]
    },
    {
     "name": "stdout",
     "output_type": "stream",
     "text": [
      "PDF转换失败 SOP_Paris_School_of_Economics_Economics，第1次重试: Open.SaveAs\n"
     ]
    },
    {
     "name": "stderr",
     "output_type": "stream",
     "text": [
      "\n",
      "100%|████████████████████████████████████████████████████████████████████████████████████| 1/1 [00:02<00:00,  2.49s/it]\n"
     ]
    },
    {
     "name": "stdout",
     "output_type": "stream",
     "text": [
      "转换为PDF: SOP_Paris_School_of_Economics_Economics.pdf\n"
     ]
    },
    {
     "name": "stderr",
     "output_type": "stream",
     "text": [
      "100%|████████████████████████████████████████████████████████████████████████████████████| 1/1 [00:01<00:00,  1.69s/it]\n"
     ]
    },
    {
     "name": "stdout",
     "output_type": "stream",
     "text": [
      "转换为PDF: SOP_Paris_School_of_Economics_Finance.pdf\n"
     ]
    },
    {
     "name": "stderr",
     "output_type": "stream",
     "text": [
      "  0%|                                                                                            | 0/1 [00:03<?, ?it/s]"
     ]
    },
    {
     "name": "stdout",
     "output_type": "stream",
     "text": [
      "PDF转换失败 SOP_Paris_School_of_Economics_Market，第1次重试: <unknown>.Open\n"
     ]
    },
    {
     "name": "stderr",
     "output_type": "stream",
     "text": [
      "\n",
      "100%|████████████████████████████████████████████████████████████████████████████████████| 1/1 [00:02<00:00,  2.71s/it]\n"
     ]
    },
    {
     "name": "stdout",
     "output_type": "stream",
     "text": [
      "转换为PDF: SOP_Paris_School_of_Economics_Market.pdf\n"
     ]
    },
    {
     "name": "stderr",
     "output_type": "stream",
     "text": [
      "100%|████████████████████████████████████████████████████████████████████████████████████| 1/1 [00:01<00:00,  1.65s/it]\n"
     ]
    },
    {
     "name": "stdout",
     "output_type": "stream",
     "text": [
      "转换为PDF: SOP_Princeton_University_Economics.pdf\n"
     ]
    },
    {
     "name": "stderr",
     "output_type": "stream",
     "text": [
      "  0%|                                                                                            | 0/1 [00:00<?, ?it/s]\n"
     ]
    },
    {
     "name": "stdout",
     "output_type": "stream",
     "text": [
      "PDF转换失败 SOP_Princeton_University_Finance，第1次重试: Word.Application.Documents\n"
     ]
    },
    {
     "name": "stderr",
     "output_type": "stream",
     "text": [
      "100%|████████████████████████████████████████████████████████████████████████████████████| 1/1 [00:02<00:00,  2.08s/it]\n"
     ]
    },
    {
     "name": "stdout",
     "output_type": "stream",
     "text": [
      "转换为PDF: SOP_Princeton_University_Finance.pdf\n"
     ]
    },
    {
     "name": "stderr",
     "output_type": "stream",
     "text": [
      "100%|████████████████████████████████████████████████████████████████████████████████████| 1/1 [00:01<00:00,  1.65s/it]\n"
     ]
    },
    {
     "name": "stdout",
     "output_type": "stream",
     "text": [
      "转换为PDF: SOP_Princeton_University_Market.pdf\n"
     ]
    },
    {
     "name": "stderr",
     "output_type": "stream",
     "text": [
      "  0%|                                                                                            | 0/1 [00:03<?, ?it/s]"
     ]
    },
    {
     "name": "stdout",
     "output_type": "stream",
     "text": [
      "PDF转换失败 SOP_Stanford_University_Economics，第1次重试: (-2147023170, '远程过程调用失败。', None, None)\n"
     ]
    },
    {
     "name": "stderr",
     "output_type": "stream",
     "text": [
      "\n",
      "100%|████████████████████████████████████████████████████████████████████████████████████| 1/1 [00:02<00:00,  2.61s/it]\n"
     ]
    },
    {
     "name": "stdout",
     "output_type": "stream",
     "text": [
      "转换为PDF: SOP_Stanford_University_Economics.pdf\n"
     ]
    },
    {
     "name": "stderr",
     "output_type": "stream",
     "text": [
      "100%|████████████████████████████████████████████████████████████████████████████████████| 1/1 [00:01<00:00,  1.70s/it]\n"
     ]
    },
    {
     "name": "stdout",
     "output_type": "stream",
     "text": [
      "转换为PDF: SOP_Stanford_University_Finance.pdf\n"
     ]
    },
    {
     "name": "stderr",
     "output_type": "stream",
     "text": [
      "  0%|                                                                                            | 0/1 [00:00<?, ?it/s]\n"
     ]
    },
    {
     "name": "stdout",
     "output_type": "stream",
     "text": [
      "PDF转换失败 SOP_Stanford_University_Market，第1次重试: Word.Application.Documents\n"
     ]
    },
    {
     "name": "stderr",
     "output_type": "stream",
     "text": [
      "100%|████████████████████████████████████████████████████████████████████████████████████| 1/1 [00:02<00:00,  2.19s/it]\n"
     ]
    },
    {
     "name": "stdout",
     "output_type": "stream",
     "text": [
      "转换为PDF: SOP_Stanford_University_Market.pdf\n"
     ]
    },
    {
     "name": "stderr",
     "output_type": "stream",
     "text": [
      "100%|████████████████████████████████████████████████████████████████████████████████████| 1/1 [00:01<00:00,  1.95s/it]\n"
     ]
    },
    {
     "name": "stdout",
     "output_type": "stream",
     "text": [
      "转换为PDF: SOP_Yale_University_Economics.pdf\n"
     ]
    },
    {
     "name": "stderr",
     "output_type": "stream",
     "text": [
      "  0%|                                                                                            | 0/1 [00:03<?, ?it/s]"
     ]
    },
    {
     "name": "stdout",
     "output_type": "stream",
     "text": [
      "PDF转换失败 SOP_Yale_University_Finance，第1次重试: <unknown>.Open\n"
     ]
    },
    {
     "name": "stderr",
     "output_type": "stream",
     "text": [
      "\n",
      "100%|████████████████████████████████████████████████████████████████████████████████████| 1/1 [00:02<00:00,  2.46s/it]\n"
     ]
    },
    {
     "name": "stdout",
     "output_type": "stream",
     "text": [
      "转换为PDF: SOP_Yale_University_Finance.pdf\n"
     ]
    },
    {
     "name": "stderr",
     "output_type": "stream",
     "text": [
      "100%|████████████████████████████████████████████████████████████████████████████████████| 1/1 [00:01<00:00,  1.70s/it]\n"
     ]
    },
    {
     "name": "stdout",
     "output_type": "stream",
     "text": [
      "转换为PDF: SOP_Yale_University_Market.pdf\n"
     ]
    },
    {
     "name": "stderr",
     "output_type": "stream",
     "text": [
      "  0%|                                                                                            | 0/1 [00:03<?, ?it/s]"
     ]
    },
    {
     "name": "stdout",
     "output_type": "stream",
     "text": [
      "PDF转换失败 SOP_Toulouse_School_of_Economics_(TSE)_Economics，第1次重试: Open.Close\n"
     ]
    },
    {
     "name": "stderr",
     "output_type": "stream",
     "text": [
      "\n",
      "100%|████████████████████████████████████████████████████████████████████████████████████| 1/1 [00:02<00:00,  2.25s/it]\n"
     ]
    },
    {
     "name": "stdout",
     "output_type": "stream",
     "text": [
      "转换为PDF: SOP_Toulouse_School_of_Economics_(TSE)_Economics.pdf\n"
     ]
    },
    {
     "name": "stderr",
     "output_type": "stream",
     "text": [
      "100%|████████████████████████████████████████████████████████████████████████████████████| 1/1 [00:01<00:00,  1.75s/it]\n"
     ]
    },
    {
     "name": "stdout",
     "output_type": "stream",
     "text": [
      "转换为PDF: SOP_Toulouse_School_of_Economics_(TSE)_Finance.pdf\n"
     ]
    },
    {
     "name": "stderr",
     "output_type": "stream",
     "text": [
      "  0%|                                                                                            | 0/1 [00:03<?, ?it/s]"
     ]
    },
    {
     "name": "stdout",
     "output_type": "stream",
     "text": [
      "PDF转换失败 SOP_Toulouse_School_of_Economics_(TSE)_Market，第1次重试: (-2147023170, '远程过程调用失败。', None, None)\n"
     ]
    },
    {
     "name": "stderr",
     "output_type": "stream",
     "text": [
      "\n",
      "100%|████████████████████████████████████████████████████████████████████████████████████| 1/1 [00:02<00:00,  2.38s/it]\n"
     ]
    },
    {
     "name": "stdout",
     "output_type": "stream",
     "text": [
      "转换为PDF: SOP_Toulouse_School_of_Economics_(TSE)_Market.pdf\n"
     ]
    },
    {
     "name": "stderr",
     "output_type": "stream",
     "text": [
      "100%|████████████████████████████████████████████████████████████████████████████████████| 1/1 [00:01<00:00,  1.65s/it]\n"
     ]
    },
    {
     "name": "stdout",
     "output_type": "stream",
     "text": [
      "转换为PDF: SOP_Oxford_University_Economics.pdf\n"
     ]
    },
    {
     "name": "stderr",
     "output_type": "stream",
     "text": [
      "  0%|                                                                                            | 0/1 [00:02<?, ?it/s]"
     ]
    },
    {
     "name": "stdout",
     "output_type": "stream",
     "text": [
      "PDF转换失败 SOP_Oxford_University_Finance，第1次重试: Word.Application.Documents\n"
     ]
    },
    {
     "name": "stderr",
     "output_type": "stream",
     "text": [
      "\n",
      "100%|████████████████████████████████████████████████████████████████████████████████████| 1/1 [00:02<00:00,  2.57s/it]\n"
     ]
    },
    {
     "name": "stdout",
     "output_type": "stream",
     "text": [
      "转换为PDF: SOP_Oxford_University_Finance.pdf\n"
     ]
    },
    {
     "name": "stderr",
     "output_type": "stream",
     "text": [
      "100%|████████████████████████████████████████████████████████████████████████████████████| 1/1 [00:01<00:00,  1.57s/it]\n"
     ]
    },
    {
     "name": "stdout",
     "output_type": "stream",
     "text": [
      "转换为PDF: SOP_Oxford_University_Market.pdf\n"
     ]
    },
    {
     "name": "stderr",
     "output_type": "stream",
     "text": [
      "  0%|                                                                                            | 0/1 [00:01<?, ?it/s]"
     ]
    },
    {
     "name": "stdout",
     "output_type": "stream",
     "text": [
      "PDF转换失败 SOP_Graduate_School_of_Business_Economics，第1次重试: Open.Close\n"
     ]
    },
    {
     "name": "stderr",
     "output_type": "stream",
     "text": [
      "\n",
      "100%|████████████████████████████████████████████████████████████████████████████████████| 1/1 [00:02<00:00,  2.16s/it]\n"
     ]
    },
    {
     "name": "stdout",
     "output_type": "stream",
     "text": [
      "转换为PDF: SOP_Graduate_School_of_Business_Economics.pdf\n"
     ]
    },
    {
     "name": "stderr",
     "output_type": "stream",
     "text": [
      "100%|████████████████████████████████████████████████████████████████████████████████████| 1/1 [00:01<00:00,  1.66s/it]\n"
     ]
    },
    {
     "name": "stdout",
     "output_type": "stream",
     "text": [
      "转换为PDF: SOP_Graduate_School_of_Business_Finance.pdf\n"
     ]
    },
    {
     "name": "stderr",
     "output_type": "stream",
     "text": [
      "  0%|                                                                                            | 0/1 [00:03<?, ?it/s]"
     ]
    },
    {
     "name": "stdout",
     "output_type": "stream",
     "text": [
      "PDF转换失败 SOP_Graduate_School_of_Business_Market，第1次重试: Open.Close\n"
     ]
    },
    {
     "name": "stderr",
     "output_type": "stream",
     "text": [
      "\n",
      "100%|████████████████████████████████████████████████████████████████████████████████████| 1/1 [00:02<00:00,  2.31s/it]\n"
     ]
    },
    {
     "name": "stdout",
     "output_type": "stream",
     "text": [
      "转换为PDF: SOP_Graduate_School_of_Business_Market.pdf\n"
     ]
    },
    {
     "name": "stderr",
     "output_type": "stream",
     "text": [
      "100%|████████████████████████████████████████████████████████████████████████████████████| 1/1 [00:01<00:00,  1.69s/it]\n"
     ]
    },
    {
     "name": "stdout",
     "output_type": "stream",
     "text": [
      "转换为PDF: SOP_University_of_Cambridge_Economics.pdf\n"
     ]
    },
    {
     "name": "stderr",
     "output_type": "stream",
     "text": [
      "  0%|                                                                                            | 0/1 [00:03<?, ?it/s]"
     ]
    },
    {
     "name": "stdout",
     "output_type": "stream",
     "text": [
      "PDF转换失败 SOP_University_of_Cambridge_Finance，第1次重试: Open.SaveAs\n"
     ]
    },
    {
     "name": "stderr",
     "output_type": "stream",
     "text": [
      "\n",
      "100%|████████████████████████████████████████████████████████████████████████████████████| 1/1 [00:02<00:00,  2.34s/it]\n"
     ]
    },
    {
     "name": "stdout",
     "output_type": "stream",
     "text": [
      "转换为PDF: SOP_University_of_Cambridge_Finance.pdf\n"
     ]
    },
    {
     "name": "stderr",
     "output_type": "stream",
     "text": [
      "100%|████████████████████████████████████████████████████████████████████████████████████| 1/1 [00:01<00:00,  1.66s/it]\n"
     ]
    },
    {
     "name": "stdout",
     "output_type": "stream",
     "text": [
      "转换为PDF: SOP_University_of_Cambridge_Market.pdf\n"
     ]
    },
    {
     "name": "stderr",
     "output_type": "stream",
     "text": [
      "  0%|                                                                                            | 0/1 [00:03<?, ?it/s]"
     ]
    },
    {
     "name": "stdout",
     "output_type": "stream",
     "text": [
      "PDF转换失败 SOP_Boston_College_Economics，第1次重试: (-2147023170, '远程过程调用失败。', None, None)\n"
     ]
    },
    {
     "name": "stderr",
     "output_type": "stream",
     "text": [
      "\n",
      "100%|████████████████████████████████████████████████████████████████████████████████████| 1/1 [00:02<00:00,  2.35s/it]\n"
     ]
    },
    {
     "name": "stdout",
     "output_type": "stream",
     "text": [
      "转换为PDF: SOP_Boston_College_Economics.pdf\n"
     ]
    },
    {
     "name": "stderr",
     "output_type": "stream",
     "text": [
      "100%|████████████████████████████████████████████████████████████████████████████████████| 1/1 [00:01<00:00,  1.65s/it]\n"
     ]
    },
    {
     "name": "stdout",
     "output_type": "stream",
     "text": [
      "转换为PDF: SOP_Boston_College_Finance.pdf\n"
     ]
    },
    {
     "name": "stderr",
     "output_type": "stream",
     "text": [
      "  0%|                                                                                            | 0/1 [00:03<?, ?it/s]"
     ]
    },
    {
     "name": "stdout",
     "output_type": "stream",
     "text": [
      "PDF转换失败 SOP_Boston_College_Market，第1次重试: Open.Close\n"
     ]
    },
    {
     "name": "stderr",
     "output_type": "stream",
     "text": [
      "\n",
      "100%|████████████████████████████████████████████████████████████████████████████████████| 1/1 [00:02<00:00,  2.45s/it]\n"
     ]
    },
    {
     "name": "stdout",
     "output_type": "stream",
     "text": [
      "转换为PDF: SOP_Boston_College_Market.pdf\n"
     ]
    },
    {
     "name": "stderr",
     "output_type": "stream",
     "text": [
      "100%|████████████████████████████████████████████████████████████████████████████████████| 1/1 [00:01<00:00,  1.53s/it]\n"
     ]
    },
    {
     "name": "stdout",
     "output_type": "stream",
     "text": [
      "转换为PDF: SOP_University_of_Toronto_Economics.pdf\n"
     ]
    },
    {
     "name": "stderr",
     "output_type": "stream",
     "text": [
      "  0%|                                                                                            | 0/1 [00:03<?, ?it/s]"
     ]
    },
    {
     "name": "stdout",
     "output_type": "stream",
     "text": [
      "PDF转换失败 SOP_University_of_Toronto_Finance，第1次重试: Open.SaveAs\n"
     ]
    },
    {
     "name": "stderr",
     "output_type": "stream",
     "text": [
      "\n",
      "100%|████████████████████████████████████████████████████████████████████████████████████| 1/1 [00:02<00:00,  2.57s/it]\n"
     ]
    },
    {
     "name": "stdout",
     "output_type": "stream",
     "text": [
      "转换为PDF: SOP_University_of_Toronto_Finance.pdf\n"
     ]
    },
    {
     "name": "stderr",
     "output_type": "stream",
     "text": [
      "100%|████████████████████████████████████████████████████████████████████████████████████| 1/1 [00:01<00:00,  1.76s/it]\n"
     ]
    },
    {
     "name": "stdout",
     "output_type": "stream",
     "text": [
      "转换为PDF: SOP_University_of_Toronto_Market.pdf\n"
     ]
    },
    {
     "name": "stderr",
     "output_type": "stream",
     "text": [
      "  0%|                                                                                            | 0/1 [00:03<?, ?it/s]"
     ]
    },
    {
     "name": "stdout",
     "output_type": "stream",
     "text": [
      "PDF转换失败 SOP_University_of_Warwick_Economics，第1次重试: Open.SaveAs\n"
     ]
    },
    {
     "name": "stderr",
     "output_type": "stream",
     "text": [
      "\n",
      "100%|████████████████████████████████████████████████████████████████████████████████████| 1/1 [00:02<00:00,  2.40s/it]\n"
     ]
    },
    {
     "name": "stdout",
     "output_type": "stream",
     "text": [
      "转换为PDF: SOP_University_of_Warwick_Economics.pdf\n"
     ]
    },
    {
     "name": "stderr",
     "output_type": "stream",
     "text": [
      "100%|████████████████████████████████████████████████████████████████████████████████████| 1/1 [00:01<00:00,  1.69s/it]\n"
     ]
    },
    {
     "name": "stdout",
     "output_type": "stream",
     "text": [
      "转换为PDF: SOP_University_of_Warwick_Finance.pdf\n"
     ]
    },
    {
     "name": "stderr",
     "output_type": "stream",
     "text": [
      "  0%|                                                                                            | 0/1 [00:02<?, ?it/s]"
     ]
    },
    {
     "name": "stdout",
     "output_type": "stream",
     "text": [
      "PDF转换失败 SOP_University_of_Warwick_Market，第1次重试: Word.Application.Documents\n"
     ]
    },
    {
     "name": "stderr",
     "output_type": "stream",
     "text": [
      "\n",
      "100%|████████████████████████████████████████████████████████████████████████████████████| 1/1 [00:02<00:00,  2.67s/it]\n"
     ]
    },
    {
     "name": "stdout",
     "output_type": "stream",
     "text": [
      "转换为PDF: SOP_University_of_Warwick_Market.pdf\n"
     ]
    },
    {
     "name": "stderr",
     "output_type": "stream",
     "text": [
      "100%|████████████████████████████████████████████████████████████████████████████████████| 1/1 [00:01<00:00,  1.64s/it]\n"
     ]
    },
    {
     "name": "stdout",
     "output_type": "stream",
     "text": [
      "转换为PDF: SOP_Cornell_University_Economics.pdf\n"
     ]
    },
    {
     "name": "stderr",
     "output_type": "stream",
     "text": [
      "  0%|                                                                                            | 0/1 [00:01<?, ?it/s]"
     ]
    },
    {
     "name": "stdout",
     "output_type": "stream",
     "text": [
      "PDF转换失败 SOP_Cornell_University_Finance，第1次重试: Word.Application.Documents\n"
     ]
    },
    {
     "name": "stderr",
     "output_type": "stream",
     "text": [
      "\n",
      "100%|████████████████████████████████████████████████████████████████████████████████████| 1/1 [00:02<00:00,  2.51s/it]\n"
     ]
    },
    {
     "name": "stdout",
     "output_type": "stream",
     "text": [
      "转换为PDF: SOP_Cornell_University_Finance.pdf\n"
     ]
    },
    {
     "name": "stderr",
     "output_type": "stream",
     "text": [
      "100%|████████████████████████████████████████████████████████████████████████████████████| 1/1 [00:01<00:00,  1.68s/it]\n"
     ]
    },
    {
     "name": "stdout",
     "output_type": "stream",
     "text": [
      "转换为PDF: SOP_Cornell_University_Market.pdf\n"
     ]
    },
    {
     "name": "stderr",
     "output_type": "stream",
     "text": [
      "  0%|                                                                                            | 0/1 [00:02<?, ?it/s]"
     ]
    },
    {
     "name": "stdout",
     "output_type": "stream",
     "text": [
      "PDF转换失败 SOP_University_of_California-Davis_Economics，第1次重试: Word.Application.Documents\n"
     ]
    },
    {
     "name": "stderr",
     "output_type": "stream",
     "text": [
      "\n",
      "100%|████████████████████████████████████████████████████████████████████████████████████| 1/1 [00:02<00:00,  2.16s/it]\n"
     ]
    },
    {
     "name": "stdout",
     "output_type": "stream",
     "text": [
      "转换为PDF: SOP_University_of_California-Davis_Economics.pdf\n"
     ]
    },
    {
     "name": "stderr",
     "output_type": "stream",
     "text": [
      "100%|████████████████████████████████████████████████████████████████████████████████████| 1/1 [00:01<00:00,  1.84s/it]\n"
     ]
    },
    {
     "name": "stdout",
     "output_type": "stream",
     "text": [
      "转换为PDF: SOP_University_of_California-Davis_Finance.pdf\n"
     ]
    },
    {
     "name": "stderr",
     "output_type": "stream",
     "text": [
      "  0%|                                                                                            | 0/1 [00:00<?, ?it/s]\n"
     ]
    },
    {
     "name": "stdout",
     "output_type": "stream",
     "text": [
      "PDF转换失败 SOP_University_of_California-Davis_Market，第1次重试: Word.Application.Documents\n"
     ]
    },
    {
     "name": "stderr",
     "output_type": "stream",
     "text": [
      "100%|████████████████████████████████████████████████████████████████████████████████████| 1/1 [00:02<00:00,  2.61s/it]\n"
     ]
    },
    {
     "name": "stdout",
     "output_type": "stream",
     "text": [
      "转换为PDF: SOP_University_of_California-Davis_Market.pdf\n"
     ]
    },
    {
     "name": "stderr",
     "output_type": "stream",
     "text": [
      "100%|████████████████████████████████████████████████████████████████████████████████████| 1/1 [00:01<00:00,  1.56s/it]\n"
     ]
    },
    {
     "name": "stdout",
     "output_type": "stream",
     "text": [
      "转换为PDF: SOP_Rijksuniversiteit_Groningen_Economics.pdf\n"
     ]
    },
    {
     "name": "stderr",
     "output_type": "stream",
     "text": [
      "  0%|                                                                                            | 0/1 [00:02<?, ?it/s]"
     ]
    },
    {
     "name": "stdout",
     "output_type": "stream",
     "text": [
      "PDF转换失败 SOP_Rijksuniversiteit_Groningen_Finance，第1次重试: <unknown>.Open\n"
     ]
    },
    {
     "name": "stderr",
     "output_type": "stream",
     "text": [
      "\n",
      "100%|████████████████████████████████████████████████████████████████████████████████████| 1/1 [00:02<00:00,  2.29s/it]\n"
     ]
    },
    {
     "name": "stdout",
     "output_type": "stream",
     "text": [
      "转换为PDF: SOP_Rijksuniversiteit_Groningen_Finance.pdf\n"
     ]
    },
    {
     "name": "stderr",
     "output_type": "stream",
     "text": [
      "100%|████████████████████████████████████████████████████████████████████████████████████| 1/1 [00:01<00:00,  1.63s/it]\n"
     ]
    },
    {
     "name": "stdout",
     "output_type": "stream",
     "text": [
      "转换为PDF: SOP_Rijksuniversiteit_Groningen_Market.pdf\n"
     ]
    },
    {
     "name": "stderr",
     "output_type": "stream",
     "text": [
      "  0%|                                                                                            | 0/1 [00:02<?, ?it/s]"
     ]
    },
    {
     "name": "stdout",
     "output_type": "stream",
     "text": [
      "PDF转换失败 SOP_Johns_Hopkins_University_Economics，第1次重试: <unknown>.Open\n"
     ]
    },
    {
     "name": "stderr",
     "output_type": "stream",
     "text": [
      "\n",
      "100%|████████████████████████████████████████████████████████████████████████████████████| 1/1 [00:02<00:00,  2.61s/it]\n"
     ]
    },
    {
     "name": "stdout",
     "output_type": "stream",
     "text": [
      "转换为PDF: SOP_Johns_Hopkins_University_Economics.pdf\n"
     ]
    },
    {
     "name": "stderr",
     "output_type": "stream",
     "text": [
      "100%|████████████████████████████████████████████████████████████████████████████████████| 1/1 [00:01<00:00,  1.67s/it]\n"
     ]
    },
    {
     "name": "stdout",
     "output_type": "stream",
     "text": [
      "转换为PDF: SOP_Johns_Hopkins_University_Finance.pdf\n"
     ]
    },
    {
     "name": "stderr",
     "output_type": "stream",
     "text": [
      "  0%|                                                                                            | 0/1 [00:00<?, ?it/s]\n"
     ]
    },
    {
     "name": "stdout",
     "output_type": "stream",
     "text": [
      "PDF转换失败 SOP_Johns_Hopkins_University_Market，第1次重试: Word.Application.Documents\n"
     ]
    },
    {
     "name": "stderr",
     "output_type": "stream",
     "text": [
      "100%|████████████████████████████████████████████████████████████████████████████████████| 1/1 [00:03<00:00,  3.45s/it]\n"
     ]
    },
    {
     "name": "stdout",
     "output_type": "stream",
     "text": [
      "转换为PDF: SOP_Johns_Hopkins_University_Market.pdf\n"
     ]
    },
    {
     "name": "stderr",
     "output_type": "stream",
     "text": [
      "100%|████████████████████████████████████████████████████████████████████████████████████| 1/1 [00:01<00:00,  1.62s/it]\n"
     ]
    },
    {
     "name": "stdout",
     "output_type": "stream",
     "text": [
      "转换为PDF: SOP_Università_di_Bologna_Economics.pdf\n"
     ]
    },
    {
     "name": "stderr",
     "output_type": "stream",
     "text": [
      "  0%|                                                                                            | 0/1 [00:02<?, ?it/s]"
     ]
    },
    {
     "name": "stdout",
     "output_type": "stream",
     "text": [
      "PDF转换失败 SOP_Università_di_Bologna_Finance，第1次重试: Word.Application.Documents\n"
     ]
    },
    {
     "name": "stderr",
     "output_type": "stream",
     "text": [
      "\n",
      "100%|████████████████████████████████████████████████████████████████████████████████████| 1/1 [00:02<00:00,  2.48s/it]\n"
     ]
    },
    {
     "name": "stdout",
     "output_type": "stream",
     "text": [
      "转换为PDF: SOP_Università_di_Bologna_Finance.pdf\n"
     ]
    },
    {
     "name": "stderr",
     "output_type": "stream",
     "text": [
      "100%|████████████████████████████████████████████████████████████████████████████████████| 1/1 [00:01<00:00,  1.72s/it]\n"
     ]
    },
    {
     "name": "stdout",
     "output_type": "stream",
     "text": [
      "转换为PDF: SOP_Università_di_Bologna_Market.pdf\n"
     ]
    },
    {
     "name": "stderr",
     "output_type": "stream",
     "text": [
      "  0%|                                                                                            | 0/1 [00:02<?, ?it/s]"
     ]
    },
    {
     "name": "stdout",
     "output_type": "stream",
     "text": [
      "PDF转换失败 SOP_University_of_Virginia_Economics，第1次重试: Word.Application.Documents\n"
     ]
    },
    {
     "name": "stderr",
     "output_type": "stream",
     "text": [
      "\n",
      "100%|████████████████████████████████████████████████████████████████████████████████████| 1/1 [00:02<00:00,  2.61s/it]\n"
     ]
    },
    {
     "name": "stdout",
     "output_type": "stream",
     "text": [
      "转换为PDF: SOP_University_of_Virginia_Economics.pdf\n"
     ]
    },
    {
     "name": "stderr",
     "output_type": "stream",
     "text": [
      "100%|████████████████████████████████████████████████████████████████████████████████████| 1/1 [00:01<00:00,  1.71s/it]\n"
     ]
    },
    {
     "name": "stdout",
     "output_type": "stream",
     "text": [
      "转换为PDF: SOP_University_of_Virginia_Finance.pdf\n"
     ]
    },
    {
     "name": "stderr",
     "output_type": "stream",
     "text": [
      "  0%|                                                                                            | 0/1 [00:03<?, ?it/s]"
     ]
    },
    {
     "name": "stdout",
     "output_type": "stream",
     "text": [
      "PDF转换失败 SOP_University_of_Virginia_Market，第1次重试: Open.SaveAs\n"
     ]
    },
    {
     "name": "stderr",
     "output_type": "stream",
     "text": [
      "\n",
      "100%|████████████████████████████████████████████████████████████████████████████████████| 1/1 [00:02<00:00,  2.13s/it]\n"
     ]
    },
    {
     "name": "stdout",
     "output_type": "stream",
     "text": [
      "转换为PDF: SOP_University_of_Virginia_Market.pdf\n"
     ]
    },
    {
     "name": "stderr",
     "output_type": "stream",
     "text": [
      "100%|████████████████████████████████████████████████████████████████████████████████████| 1/1 [00:01<00:00,  1.63s/it]\n"
     ]
    },
    {
     "name": "stdout",
     "output_type": "stream",
     "text": [
      "转换为PDF: SOP_Australian_National_University_Economics.pdf\n"
     ]
    },
    {
     "name": "stderr",
     "output_type": "stream",
     "text": [
      "  0%|                                                                                            | 0/1 [00:03<?, ?it/s]"
     ]
    },
    {
     "name": "stdout",
     "output_type": "stream",
     "text": [
      "PDF转换失败 SOP_Australian_National_University_Finance，第1次重试: <unknown>.Open\n"
     ]
    },
    {
     "name": "stderr",
     "output_type": "stream",
     "text": [
      "\n",
      "100%|████████████████████████████████████████████████████████████████████████████████████| 1/1 [00:02<00:00,  2.87s/it]\n"
     ]
    },
    {
     "name": "stdout",
     "output_type": "stream",
     "text": [
      "转换为PDF: SOP_Australian_National_University_Finance.pdf\n"
     ]
    },
    {
     "name": "stderr",
     "output_type": "stream",
     "text": [
      "100%|████████████████████████████████████████████████████████████████████████████████████| 1/1 [00:01<00:00,  1.81s/it]\n"
     ]
    },
    {
     "name": "stdout",
     "output_type": "stream",
     "text": [
      "转换为PDF: SOP_Australian_National_University_Market.pdf\n"
     ]
    },
    {
     "name": "stderr",
     "output_type": "stream",
     "text": [
      "  0%|                                                                                            | 0/1 [00:03<?, ?it/s]"
     ]
    },
    {
     "name": "stdout",
     "output_type": "stream",
     "text": [
      "PDF转换失败 SOP_Georgetown_University_Economics，第1次重试: Word.Application.Documents\n"
     ]
    },
    {
     "name": "stderr",
     "output_type": "stream",
     "text": [
      "\n",
      "100%|████████████████████████████████████████████████████████████████████████████████████| 1/1 [00:01<00:00,  1.88s/it]\n"
     ]
    },
    {
     "name": "stdout",
     "output_type": "stream",
     "text": [
      "转换为PDF: SOP_Georgetown_University_Economics.pdf\n"
     ]
    },
    {
     "name": "stderr",
     "output_type": "stream",
     "text": [
      "100%|████████████████████████████████████████████████████████████████████████████████████| 1/1 [00:01<00:00,  1.66s/it]\n"
     ]
    },
    {
     "name": "stdout",
     "output_type": "stream",
     "text": [
      "转换为PDF: SOP_Georgetown_University_Finance.pdf\n"
     ]
    },
    {
     "name": "stderr",
     "output_type": "stream",
     "text": [
      "  0%|                                                                                            | 0/1 [00:00<?, ?it/s]\n"
     ]
    },
    {
     "name": "stdout",
     "output_type": "stream",
     "text": [
      "PDF转换失败 SOP_Georgetown_University_Market，第1次重试: Word.Application.Documents\n"
     ]
    },
    {
     "name": "stderr",
     "output_type": "stream",
     "text": [
      "100%|████████████████████████████████████████████████████████████████████████████████████| 1/1 [00:02<00:00,  2.35s/it]\n"
     ]
    },
    {
     "name": "stdout",
     "output_type": "stream",
     "text": [
      "转换为PDF: SOP_Georgetown_University_Market.pdf\n"
     ]
    },
    {
     "name": "stderr",
     "output_type": "stream",
     "text": [
      "  0%|                                                                                            | 0/1 [00:00<?, ?it/s]"
     ]
    },
    {
     "name": "stdout",
     "output_type": "stream",
     "text": [
      "PDF转换失败 SOP_University_of_Minnesota_Economics，第1次重试: (-2147417848, '被调用的对象已与其客户端断开连接。', None, None)\n"
     ]
    },
    {
     "name": "stderr",
     "output_type": "stream",
     "text": [
      "  0%|                                                                                            | 0/1 [00:04<?, ?it/s]\n",
      "100%|████████████████████████████████████████████████████████████████████████████████████| 1/1 [00:03<00:00,  3.66s/it]\n"
     ]
    },
    {
     "name": "stdout",
     "output_type": "stream",
     "text": [
      "转换为PDF: SOP_University_of_Minnesota_Economics.pdf\n"
     ]
    },
    {
     "name": "stderr",
     "output_type": "stream",
     "text": [
      "100%|████████████████████████████████████████████████████████████████████████████████████| 1/1 [00:01<00:00,  1.64s/it]\n"
     ]
    },
    {
     "name": "stdout",
     "output_type": "stream",
     "text": [
      "转换为PDF: SOP_University_of_Minnesota_Finance.pdf\n"
     ]
    },
    {
     "name": "stderr",
     "output_type": "stream",
     "text": [
      "  0%|                                                                                            | 0/1 [00:01<?, ?it/s]"
     ]
    },
    {
     "name": "stdout",
     "output_type": "stream",
     "text": [
      "PDF转换失败 SOP_University_of_Minnesota_Market，第1次重试: Open.Close\n"
     ]
    },
    {
     "name": "stderr",
     "output_type": "stream",
     "text": [
      "\n",
      "100%|████████████████████████████████████████████████████████████████████████████████████| 1/1 [00:04<00:00,  4.37s/it]\n"
     ]
    },
    {
     "name": "stdout",
     "output_type": "stream",
     "text": [
      "转换为PDF: SOP_University_of_Minnesota_Market.pdf\n"
     ]
    },
    {
     "name": "stderr",
     "output_type": "stream",
     "text": [
      "100%|████████████████████████████████████████████████████████████████████████████████████| 1/1 [00:01<00:00,  1.67s/it]\n"
     ]
    },
    {
     "name": "stdout",
     "output_type": "stream",
     "text": [
      "转换为PDF: SOP_Stern_School_of_Business_Economics.pdf\n"
     ]
    },
    {
     "name": "stderr",
     "output_type": "stream",
     "text": [
      "  0%|                                                                                            | 0/1 [00:01<?, ?it/s]"
     ]
    },
    {
     "name": "stdout",
     "output_type": "stream",
     "text": [
      "PDF转换失败 SOP_Stern_School_of_Business_Finance，第1次重试: Word.Application.Documents\n"
     ]
    },
    {
     "name": "stderr",
     "output_type": "stream",
     "text": [
      "\n",
      "100%|████████████████████████████████████████████████████████████████████████████████████| 1/1 [00:02<00:00,  2.53s/it]\n"
     ]
    },
    {
     "name": "stdout",
     "output_type": "stream",
     "text": [
      "转换为PDF: SOP_Stern_School_of_Business_Finance.pdf\n"
     ]
    },
    {
     "name": "stderr",
     "output_type": "stream",
     "text": [
      "100%|████████████████████████████████████████████████████████████████████████████████████| 1/1 [00:01<00:00,  1.73s/it]\n"
     ]
    },
    {
     "name": "stdout",
     "output_type": "stream",
     "text": [
      "转换为PDF: SOP_Stern_School_of_Business_Market.pdf\n"
     ]
    },
    {
     "name": "stderr",
     "output_type": "stream",
     "text": [
      "  0%|                                                                                            | 0/1 [00:01<?, ?it/s]"
     ]
    },
    {
     "name": "stdout",
     "output_type": "stream",
     "text": [
      "PDF转换失败 SOP_University_of_California-Santa_Barbara_(UCSB)_Economics，第1次重试: Word.Application.Documents\n"
     ]
    },
    {
     "name": "stderr",
     "output_type": "stream",
     "text": [
      "\n",
      "100%|████████████████████████████████████████████████████████████████████████████████████| 1/1 [00:02<00:00,  2.70s/it]\n"
     ]
    },
    {
     "name": "stdout",
     "output_type": "stream",
     "text": [
      "转换为PDF: SOP_University_of_California-Santa_Barbara_(UCSB)_Economics.pdf\n"
     ]
    },
    {
     "name": "stderr",
     "output_type": "stream",
     "text": [
      "100%|████████████████████████████████████████████████████████████████████████████████████| 1/1 [00:01<00:00,  1.67s/it]\n"
     ]
    },
    {
     "name": "stdout",
     "output_type": "stream",
     "text": [
      "转换为PDF: SOP_University_of_California-Santa_Barbara_(UCSB)_Finance.pdf\n"
     ]
    },
    {
     "name": "stderr",
     "output_type": "stream",
     "text": [
      "  0%|                                                                                            | 0/1 [00:01<?, ?it/s]"
     ]
    },
    {
     "name": "stdout",
     "output_type": "stream",
     "text": [
      "PDF转换失败 SOP_University_of_California-Santa_Barbara_(UCSB)_Market，第1次重试: Open.SaveAs\n"
     ]
    },
    {
     "name": "stderr",
     "output_type": "stream",
     "text": [
      "\n",
      "100%|████████████████████████████████████████████████████████████████████████████████████| 1/1 [00:01<00:00,  1.96s/it]\n"
     ]
    },
    {
     "name": "stdout",
     "output_type": "stream",
     "text": [
      "转换为PDF: SOP_University_of_California-Santa_Barbara_(UCSB)_Market.pdf\n"
     ]
    },
    {
     "name": "stderr",
     "output_type": "stream",
     "text": [
      "100%|████████████████████████████████████████████████████████████████████████████████████| 1/1 [00:01<00:00,  1.62s/it]\n"
     ]
    },
    {
     "name": "stdout",
     "output_type": "stream",
     "text": [
      "转换为PDF: SOP_Pennsylvania_State_University_Economics.pdf\n"
     ]
    },
    {
     "name": "stderr",
     "output_type": "stream",
     "text": [
      "  0%|                                                                                            | 0/1 [00:02<?, ?it/s]"
     ]
    },
    {
     "name": "stdout",
     "output_type": "stream",
     "text": [
      "PDF转换失败 SOP_Pennsylvania_State_University_Finance，第1次重试: <unknown>.Open\n"
     ]
    },
    {
     "name": "stderr",
     "output_type": "stream",
     "text": [
      "\n",
      "100%|████████████████████████████████████████████████████████████████████████████████████| 1/1 [00:02<00:00,  2.95s/it]\n"
     ]
    },
    {
     "name": "stdout",
     "output_type": "stream",
     "text": [
      "转换为PDF: SOP_Pennsylvania_State_University_Finance.pdf\n"
     ]
    },
    {
     "name": "stderr",
     "output_type": "stream",
     "text": [
      "100%|████████████████████████████████████████████████████████████████████████████████████| 1/1 [00:01<00:00,  1.70s/it]\n"
     ]
    },
    {
     "name": "stdout",
     "output_type": "stream",
     "text": [
      "转换为PDF: SOP_Pennsylvania_State_University_Market.pdf\n"
     ]
    },
    {
     "name": "stderr",
     "output_type": "stream",
     "text": [
      "  0%|                                                                                            | 0/1 [00:01<?, ?it/s]"
     ]
    },
    {
     "name": "stdout",
     "output_type": "stream",
     "text": [
      "PDF转换失败 SOP_Washington_University_in_St._Louis_Economics，第1次重试: Open.SaveAs\n"
     ]
    },
    {
     "name": "stderr",
     "output_type": "stream",
     "text": [
      "\n",
      "100%|████████████████████████████████████████████████████████████████████████████████████| 1/1 [00:02<00:00,  2.42s/it]\n"
     ]
    },
    {
     "name": "stdout",
     "output_type": "stream",
     "text": [
      "转换为PDF: SOP_Washington_University_in_St._Louis_Economics.pdf\n"
     ]
    },
    {
     "name": "stderr",
     "output_type": "stream",
     "text": [
      "100%|████████████████████████████████████████████████████████████████████████████████████| 1/1 [00:01<00:00,  1.68s/it]\n"
     ]
    },
    {
     "name": "stdout",
     "output_type": "stream",
     "text": [
      "转换为PDF: SOP_Washington_University_in_St._Louis_Finance.pdf\n"
     ]
    },
    {
     "name": "stderr",
     "output_type": "stream",
     "text": [
      "  0%|                                                                                            | 0/1 [00:01<?, ?it/s]"
     ]
    },
    {
     "name": "stdout",
     "output_type": "stream",
     "text": [
      "PDF转换失败 SOP_Washington_University_in_St._Louis_Market，第1次重试: Open.SaveAs\n"
     ]
    },
    {
     "name": "stderr",
     "output_type": "stream",
     "text": [
      "\n",
      "100%|████████████████████████████████████████████████████████████████████████████████████| 1/1 [00:02<00:00,  2.65s/it]\n"
     ]
    },
    {
     "name": "stdout",
     "output_type": "stream",
     "text": [
      "转换为PDF: SOP_Washington_University_in_St._Louis_Market.pdf\n"
     ]
    },
    {
     "name": "stderr",
     "output_type": "stream",
     "text": [
      "100%|████████████████████████████████████████████████████████████████████████████████████| 1/1 [00:01<00:00,  1.62s/it]\n"
     ]
    },
    {
     "name": "stdout",
     "output_type": "stream",
     "text": [
      "转换为PDF: SOP_University_of_Colorado_Economics.pdf\n"
     ]
    },
    {
     "name": "stderr",
     "output_type": "stream",
     "text": [
      "  0%|                                                                                            | 0/1 [00:02<?, ?it/s]"
     ]
    },
    {
     "name": "stdout",
     "output_type": "stream",
     "text": [
      "PDF转换失败 SOP_University_of_Colorado_Finance，第1次重试: (-2147023174, 'RPC 服务器不可用。', None, None)\n"
     ]
    },
    {
     "name": "stderr",
     "output_type": "stream",
     "text": [
      "\n",
      "100%|████████████████████████████████████████████████████████████████████████████████████| 1/1 [00:02<00:00,  2.25s/it]\n"
     ]
    },
    {
     "name": "stdout",
     "output_type": "stream",
     "text": [
      "转换为PDF: SOP_University_of_Colorado_Finance.pdf\n"
     ]
    },
    {
     "name": "stderr",
     "output_type": "stream",
     "text": [
      "100%|████████████████████████████████████████████████████████████████████████████████████| 1/1 [00:01<00:00,  1.68s/it]\n"
     ]
    },
    {
     "name": "stdout",
     "output_type": "stream",
     "text": [
      "转换为PDF: SOP_University_of_Colorado_Market.pdf\n"
     ]
    },
    {
     "name": "stderr",
     "output_type": "stream",
     "text": [
      "  0%|                                                                                            | 0/1 [00:02<?, ?it/s]"
     ]
    },
    {
     "name": "stdout",
     "output_type": "stream",
     "text": [
      "PDF转换失败 SOP_Rutgers_University-New_Brunswick_Economics，第1次重试: Word.Application.Documents\n"
     ]
    },
    {
     "name": "stderr",
     "output_type": "stream",
     "text": [
      "\n",
      "100%|████████████████████████████████████████████████████████████████████████████████████| 1/1 [00:02<00:00,  2.33s/it]\n"
     ]
    },
    {
     "name": "stdout",
     "output_type": "stream",
     "text": [
      "转换为PDF: SOP_Rutgers_University-New_Brunswick_Economics.pdf\n"
     ]
    },
    {
     "name": "stderr",
     "output_type": "stream",
     "text": [
      "100%|████████████████████████████████████████████████████████████████████████████████████| 1/1 [00:01<00:00,  1.66s/it]\n"
     ]
    },
    {
     "name": "stdout",
     "output_type": "stream",
     "text": [
      "转换为PDF: SOP_Rutgers_University-New_Brunswick_Finance.pdf\n"
     ]
    },
    {
     "name": "stderr",
     "output_type": "stream",
     "text": [
      "  0%|                                                                                            | 0/1 [00:02<?, ?it/s]"
     ]
    },
    {
     "name": "stdout",
     "output_type": "stream",
     "text": [
      "PDF转换失败 SOP_Rutgers_University-New_Brunswick_Market，第1次重试: Word.Application.Documents\n"
     ]
    },
    {
     "name": "stderr",
     "output_type": "stream",
     "text": [
      "\n",
      "100%|████████████████████████████████████████████████████████████████████████████████████| 1/1 [00:02<00:00,  2.62s/it]"
     ]
    },
    {
     "name": "stdout",
     "output_type": "stream",
     "text": [
      "转换为PDF: SOP_Rutgers_University-New_Brunswick_Market.pdf\n",
      "\n",
      "==================================================\n",
      "生成完成!\n",
      "==================================================\n",
      "成功生成 90 个Word文档\n",
      "成功转换 90 个PDF文档\n",
      "Word文档保存在: C:\\Users\\lenovo\\HW_School_Application\\word_documents\n",
      "PDF文档保存在: C:\\Users\\lenovo\\HW_School_Application\\pdf_documents\n",
      "\n",
      "部分生成的文档:\n",
      "1. SOP_Harvard_University_Economics\n",
      "2. SOP_Harvard_University_Finance\n",
      "3. SOP_Harvard_University_Market\n",
      "4. SOP_Massachusetts_Institute_of_Technology_(MIT)_Economics\n",
      "5. SOP_Massachusetts_Institute_of_Technology_(MIT)_Finance\n"
     ]
    },
    {
     "name": "stderr",
     "output_type": "stream",
     "text": [
      "\n"
     ]
    }
   ],
   "source": [
    "def main():\n",
    "    \"\"\"主函数：生成90份申请信\"\"\"\n",
    "    # 步骤10: 创建输出目录\n",
    "    home_dir = Path.home()\n",
    "    output_dir = home_dir / \"HW_School_Application\"\n",
    "    output_dir.mkdir(exist_ok=True)\n",
    "    \n",
    "    # 子目录\n",
    "    word_dir = output_dir / \"word_documents\"\n",
    "    pdf_dir = output_dir / \"pdf_documents\"\n",
    "    word_dir.mkdir(exist_ok=True)\n",
    "    pdf_dir.mkdir(exist_ok=True)\n",
    "    \n",
    "    # 个人信息\n",
    "    personal_info = {\n",
    "        'name': \"ZHAO WEI\", \n",
    "    }\n",
    "    \n",
    "    print(\"=\" * 50)\n",
    "    print(\"留学申请信自动生成器\")\n",
    "    print(\"=\" * 50)\n",
    "    \n",
    "    # 获取数据\n",
    "    universities = get_economics_universities()   \n",
    "    research_data = get_research_areas()\n",
    "\n",
    "    # 保存数据到CSV\n",
    "    save_data_to_csv(universities, research_data)\n",
    "    \n",
    "    # 生成所有Word文档\n",
    "    generated_files = generate_sop_documents(universities, research_data, personal_info, word_dir)\n",
    "    \n",
    "    # 转换为PDF\n",
    "    pdf_count = convert_to_pdf(generated_files, pdf_dir)\n",
    "    \n",
    "    # 结果汇总\n",
    "    print(\"\\n\" + \"=\" * 50)\n",
    "    print(\"生成完成!\")\n",
    "    print(\"=\" * 50)\n",
    "    print(f\"成功生成 {len(generated_files)} 个Word文档\")\n",
    "    print(f\"成功转换 {pdf_count} 个PDF文档\")\n",
    "    print(f\"Word文档保存在: {word_dir}\")\n",
    "    print(f\"PDF文档保存在: {pdf_dir}\")\n",
    "    \n",
    "    # 显示部分生成的文档作为示例\n",
    "    print(\"\\n部分生成的文档:\")\n",
    "    for i, (_, filename_base) in enumerate(generated_files[:5]):\n",
    "        print(f\"{i+1}. {filename_base}\")\n",
    "\n",
    "if __name__ == \"__main__\":\n",
    "    main()"
   ]
  },
  {
   "cell_type": "code",
   "execution_count": null,
   "id": "39332ce6-abc2-44bb-8c54-6a06a5fd0f6d",
   "metadata": {},
   "outputs": [],
   "source": []
  }
 ],
 "metadata": {
  "kernelspec": {
   "display_name": "Python 3 (ipykernel)",
   "language": "python",
   "name": "python3"
  },
  "language_info": {
   "codemirror_mode": {
    "name": "ipython",
    "version": 3
   },
   "file_extension": ".py",
   "mimetype": "text/x-python",
   "name": "python",
   "nbconvert_exporter": "python",
   "pygments_lexer": "ipython3",
   "version": "3.12.5"
  }
 },
 "nbformat": 4,
 "nbformat_minor": 5
}
