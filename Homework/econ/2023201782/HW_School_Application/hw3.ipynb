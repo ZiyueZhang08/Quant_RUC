{
 "cells": [
  {
   "cell_type": "code",
   "execution_count": 2,
   "id": "a6cc6c81-1d82-46ce-8e89-e899138065c1",
   "metadata": {},
   "outputs": [
    {
     "name": "stdout",
     "output_type": "stream",
     "text": [
      "==================================================\n",
      "开始执行申请信生成程序\n",
      "==================================================\n",
      "开始创建大学列表Excel文件...\n",
      "大学列表Excel文件已创建: excellist1.xlsx\n",
      "开始创建研究领域Excel文件...\n",
      "研究领域Excel文件已创建: excellist2.xlsx\n",
      "\n",
      "==================================================\n",
      "开始生成申请信\n",
      "==================================================\n",
      "开始读取Excel文件...\n",
      "Excel文件读取成功！\n",
      "处理大学数据...\n",
      "总共找到 30 所大学\n",
      "处理研究领域数据...\n",
      "找到 3 个研究领域\n",
      "开始生成申请信...\n",
      "PDF转换功能已启用\n",
      "✓ 已生成: Application_001_Harvard University_Economics.docx\n"
     ]
    },
    {
     "data": {
      "application/vnd.jupyter.widget-view+json": {
       "model_id": "5441668ea1154afdae658530ba3dbaf2",
       "version_major": 2,
       "version_minor": 0
      },
      "text/plain": [
       "  0%|          | 0/1 [00:00<?, ?it/s]"
      ]
     },
     "metadata": {},
     "output_type": "display_data"
    },
    {
     "name": "stdout",
     "output_type": "stream",
     "text": [
      "  ↳ PDF已生成: Application_001_Harvard University_Economics.pdf\n",
      "✓ 已生成: Application_002_Harvard University_Finance.docx\n"
     ]
    },
    {
     "data": {
      "application/vnd.jupyter.widget-view+json": {
       "model_id": "9d6026a061934e97a7b29b9abb353300",
       "version_major": 2,
       "version_minor": 0
      },
      "text/plain": [
       "  0%|          | 0/1 [00:00<?, ?it/s]"
      ]
     },
     "metadata": {},
     "output_type": "display_data"
    },
    {
     "name": "stdout",
     "output_type": "stream",
     "text": [
      "  ⚠ PDF转换失败: Word.Application.Quit\n",
      "✓ 已生成: Application_003_Harvard University_Information_Management.docx\n"
     ]
    },
    {
     "data": {
      "application/vnd.jupyter.widget-view+json": {
       "model_id": "e9c02feb642240c8af85a737fe534e8f",
       "version_major": 2,
       "version_minor": 0
      },
      "text/plain": [
       "  0%|          | 0/1 [00:00<?, ?it/s]"
      ]
     },
     "metadata": {},
     "output_type": "display_data"
    },
    {
     "name": "stdout",
     "output_type": "stream",
     "text": [
      "  ↳ PDF已生成: Application_003_Harvard University_Information_Management.pdf\n",
      "✓ 已生成: Application_004_Massachusetts Institute of Technology MIT_Economics.docx\n"
     ]
    },
    {
     "data": {
      "application/vnd.jupyter.widget-view+json": {
       "model_id": "041ecd4eba8f4a19a0007187adfbcd73",
       "version_major": 2,
       "version_minor": 0
      },
      "text/plain": [
       "  0%|          | 0/1 [00:00<?, ?it/s]"
      ]
     },
     "metadata": {},
     "output_type": "display_data"
    },
    {
     "name": "stdout",
     "output_type": "stream",
     "text": [
      "  ⚠ PDF转换失败: (-2147023170, '远程过程调用失败。', None, None)\n",
      "✓ 已生成: Application_005_Massachusetts Institute of Technology MIT_Finance.docx\n"
     ]
    },
    {
     "data": {
      "application/vnd.jupyter.widget-view+json": {
       "model_id": "b3f8a3f6835a44a68ff8adde0d86ff63",
       "version_major": 2,
       "version_minor": 0
      },
      "text/plain": [
       "  0%|          | 0/1 [00:00<?, ?it/s]"
      ]
     },
     "metadata": {},
     "output_type": "display_data"
    },
    {
     "name": "stdout",
     "output_type": "stream",
     "text": [
      "  ↳ PDF已生成: Application_005_Massachusetts Institute of Technology MIT_Finance.pdf\n",
      "✓ 已生成: Application_006_Massachusetts Institute of Technology MIT_Information_Management.docx\n"
     ]
    },
    {
     "data": {
      "application/vnd.jupyter.widget-view+json": {
       "model_id": "1cc934098cd5426daf2a11bbb06a2413",
       "version_major": 2,
       "version_minor": 0
      },
      "text/plain": [
       "  0%|          | 0/1 [00:00<?, ?it/s]"
      ]
     },
     "metadata": {},
     "output_type": "display_data"
    },
    {
     "name": "stdout",
     "output_type": "stream",
     "text": [
      "  ⚠ PDF转换失败: Word.Application.Quit\n",
      "✓ 已生成: Application_007_University of California-Berkeley_Economics.docx\n"
     ]
    },
    {
     "data": {
      "application/vnd.jupyter.widget-view+json": {
       "model_id": "de346a6a80744badb8f32a1da72db84e",
       "version_major": 2,
       "version_minor": 0
      },
      "text/plain": [
       "  0%|          | 0/1 [00:00<?, ?it/s]"
      ]
     },
     "metadata": {},
     "output_type": "display_data"
    },
    {
     "name": "stdout",
     "output_type": "stream",
     "text": [
      "  ↳ PDF已生成: Application_007_University of California-Berkeley_Economics.pdf\n",
      "✓ 已生成: Application_008_University of California-Berkeley_Finance.docx\n"
     ]
    },
    {
     "data": {
      "application/vnd.jupyter.widget-view+json": {
       "model_id": "3415ca8152264fb2a68f834648e75b91",
       "version_major": 2,
       "version_minor": 0
      },
      "text/plain": [
       "  0%|          | 0/1 [00:00<?, ?it/s]"
      ]
     },
     "metadata": {},
     "output_type": "display_data"
    },
    {
     "name": "stdout",
     "output_type": "stream",
     "text": [
      "  ⚠ PDF转换失败: Word.Application.Quit\n",
      "✓ 已生成: Application_009_University of California-Berkeley_Information_Management.docx\n"
     ]
    },
    {
     "data": {
      "application/vnd.jupyter.widget-view+json": {
       "model_id": "9c0bfb248da94a3485597edbbd2737bd",
       "version_major": 2,
       "version_minor": 0
      },
      "text/plain": [
       "  0%|          | 0/1 [00:00<?, ?it/s]"
      ]
     },
     "metadata": {},
     "output_type": "display_data"
    },
    {
     "name": "stdout",
     "output_type": "stream",
     "text": [
      "  ↳ PDF已生成: Application_009_University of California-Berkeley_Information_Management.pdf\n",
      "✓ 已生成: Application_010_University of Chicago_Economics.docx\n"
     ]
    },
    {
     "data": {
      "application/vnd.jupyter.widget-view+json": {
       "model_id": "68fba2132af24622b1744b56e8c608b3",
       "version_major": 2,
       "version_minor": 0
      },
      "text/plain": [
       "  0%|          | 0/1 [00:00<?, ?it/s]"
      ]
     },
     "metadata": {},
     "output_type": "display_data"
    },
    {
     "name": "stdout",
     "output_type": "stream",
     "text": [
      "  ⚠ PDF转换失败: Word.Application.Quit\n",
      "✓ 已生成: Application_011_University of Chicago_Finance.docx\n"
     ]
    },
    {
     "data": {
      "application/vnd.jupyter.widget-view+json": {
       "model_id": "8c01dd0e943446c7a515aa6c1f13e515",
       "version_major": 2,
       "version_minor": 0
      },
      "text/plain": [
       "  0%|          | 0/1 [00:00<?, ?it/s]"
      ]
     },
     "metadata": {},
     "output_type": "display_data"
    },
    {
     "name": "stdout",
     "output_type": "stream",
     "text": [
      "  ↳ PDF已生成: Application_011_University of Chicago_Finance.pdf\n",
      "✓ 已生成: Application_012_University of Chicago_Information_Management.docx\n"
     ]
    },
    {
     "data": {
      "application/vnd.jupyter.widget-view+json": {
       "model_id": "6bf3a9cc629742109b0f8a61351b0a58",
       "version_major": 2,
       "version_minor": 0
      },
      "text/plain": [
       "  0%|          | 0/1 [00:00<?, ?it/s]"
      ]
     },
     "metadata": {},
     "output_type": "display_data"
    },
    {
     "name": "stdout",
     "output_type": "stream",
     "text": [
      "  ⚠ PDF转换失败: Word.Application.Quit\n",
      "✓ 已生成: Application_013_Paris School of Economics_Economics.docx\n"
     ]
    },
    {
     "data": {
      "application/vnd.jupyter.widget-view+json": {
       "model_id": "f4821ba739a6466f9f388e7a8262ef60",
       "version_major": 2,
       "version_minor": 0
      },
      "text/plain": [
       "  0%|          | 0/1 [00:00<?, ?it/s]"
      ]
     },
     "metadata": {},
     "output_type": "display_data"
    },
    {
     "name": "stdout",
     "output_type": "stream",
     "text": [
      "  ↳ PDF已生成: Application_013_Paris School of Economics_Economics.pdf\n",
      "✓ 已生成: Application_014_Paris School of Economics_Finance.docx\n"
     ]
    },
    {
     "data": {
      "application/vnd.jupyter.widget-view+json": {
       "model_id": "609887b303c842fc9a1efdf53b991065",
       "version_major": 2,
       "version_minor": 0
      },
      "text/plain": [
       "  0%|          | 0/1 [00:00<?, ?it/s]"
      ]
     },
     "metadata": {},
     "output_type": "display_data"
    },
    {
     "name": "stdout",
     "output_type": "stream",
     "text": [
      "  ⚠ PDF转换失败: Word.Application.Quit\n",
      "✓ 已生成: Application_015_Paris School of Economics_Information_Management.docx\n"
     ]
    },
    {
     "data": {
      "application/vnd.jupyter.widget-view+json": {
       "model_id": "94a35aa53e3e4ee08b3e5e93570e93d4",
       "version_major": 2,
       "version_minor": 0
      },
      "text/plain": [
       "  0%|          | 0/1 [00:00<?, ?it/s]"
      ]
     },
     "metadata": {},
     "output_type": "display_data"
    },
    {
     "name": "stdout",
     "output_type": "stream",
     "text": [
      "  ↳ PDF已生成: Application_015_Paris School of Economics_Information_Management.pdf\n",
      "✓ 已生成: Application_016_Princeton University_Economics.docx\n"
     ]
    },
    {
     "data": {
      "application/vnd.jupyter.widget-view+json": {
       "model_id": "90ea68260a5f4a48848fbffb9c3d0374",
       "version_major": 2,
       "version_minor": 0
      },
      "text/plain": [
       "  0%|          | 0/1 [00:00<?, ?it/s]"
      ]
     },
     "metadata": {},
     "output_type": "display_data"
    },
    {
     "name": "stdout",
     "output_type": "stream",
     "text": [
      "  ↳ PDF已生成: Application_016_Princeton University_Economics.pdf\n",
      "✓ 已生成: Application_017_Princeton University_Finance.docx\n"
     ]
    },
    {
     "data": {
      "application/vnd.jupyter.widget-view+json": {
       "model_id": "db70d378bf0642f2b0dde2174595b362",
       "version_major": 2,
       "version_minor": 0
      },
      "text/plain": [
       "  0%|          | 0/1 [00:00<?, ?it/s]"
      ]
     },
     "metadata": {},
     "output_type": "display_data"
    },
    {
     "name": "stdout",
     "output_type": "stream",
     "text": [
      "  ⚠ PDF转换失败: Word.Application.Documents\n",
      "✓ 已生成: Application_018_Princeton University_Information_Management.docx\n"
     ]
    },
    {
     "data": {
      "application/vnd.jupyter.widget-view+json": {
       "model_id": "ca5982df3d0b490db4e9350c5e8ca5ba",
       "version_major": 2,
       "version_minor": 0
      },
      "text/plain": [
       "  0%|          | 0/1 [00:00<?, ?it/s]"
      ]
     },
     "metadata": {},
     "output_type": "display_data"
    },
    {
     "name": "stdout",
     "output_type": "stream",
     "text": [
      "  ↳ PDF已生成: Application_018_Princeton University_Information_Management.pdf\n",
      "✓ 已生成: Application_019_Stanford University_Economics.docx\n"
     ]
    },
    {
     "data": {
      "application/vnd.jupyter.widget-view+json": {
       "model_id": "308157062d5c4cb6b0d4bdbe159faa2c",
       "version_major": 2,
       "version_minor": 0
      },
      "text/plain": [
       "  0%|          | 0/1 [00:00<?, ?it/s]"
      ]
     },
     "metadata": {},
     "output_type": "display_data"
    },
    {
     "name": "stdout",
     "output_type": "stream",
     "text": [
      "  ↳ PDF已生成: Application_019_Stanford University_Economics.pdf\n",
      "✓ 已生成: Application_020_Stanford University_Finance.docx\n"
     ]
    },
    {
     "data": {
      "application/vnd.jupyter.widget-view+json": {
       "model_id": "ba5a6f1d67544341928a65869500dcc7",
       "version_major": 2,
       "version_minor": 0
      },
      "text/plain": [
       "  0%|          | 0/1 [00:00<?, ?it/s]"
      ]
     },
     "metadata": {},
     "output_type": "display_data"
    },
    {
     "name": "stdout",
     "output_type": "stream",
     "text": [
      "  ⚠ PDF转换失败: Word.Application.Documents\n",
      "✓ 已生成: Application_021_Stanford University_Information_Management.docx\n"
     ]
    },
    {
     "data": {
      "application/vnd.jupyter.widget-view+json": {
       "model_id": "79306210f54f467aa5b22b7f10c2a8b1",
       "version_major": 2,
       "version_minor": 0
      },
      "text/plain": [
       "  0%|          | 0/1 [00:00<?, ?it/s]"
      ]
     },
     "metadata": {},
     "output_type": "display_data"
    },
    {
     "name": "stdout",
     "output_type": "stream",
     "text": [
      "  ↳ PDF已生成: Application_021_Stanford University_Information_Management.pdf\n",
      "✓ 已生成: Application_022_Yale University_Economics.docx\n"
     ]
    },
    {
     "data": {
      "application/vnd.jupyter.widget-view+json": {
       "model_id": "47cefddf81d54f00b1ca350288efb7e1",
       "version_major": 2,
       "version_minor": 0
      },
      "text/plain": [
       "  0%|          | 0/1 [00:00<?, ?it/s]"
      ]
     },
     "metadata": {},
     "output_type": "display_data"
    },
    {
     "name": "stdout",
     "output_type": "stream",
     "text": [
      "  ⚠ PDF转换失败: Word.Application.Quit\n",
      "✓ 已生成: Application_023_Yale University_Finance.docx\n"
     ]
    },
    {
     "data": {
      "application/vnd.jupyter.widget-view+json": {
       "model_id": "ff7ab9dfddbb4cebba9c12cf1cf821f8",
       "version_major": 2,
       "version_minor": 0
      },
      "text/plain": [
       "  0%|          | 0/1 [00:00<?, ?it/s]"
      ]
     },
     "metadata": {},
     "output_type": "display_data"
    },
    {
     "name": "stdout",
     "output_type": "stream",
     "text": [
      "  ↳ PDF已生成: Application_023_Yale University_Finance.pdf\n",
      "✓ 已生成: Application_024_Yale University_Information_Management.docx\n"
     ]
    },
    {
     "data": {
      "application/vnd.jupyter.widget-view+json": {
       "model_id": "206c6dbbb60146efa3900619e1d08636",
       "version_major": 2,
       "version_minor": 0
      },
      "text/plain": [
       "  0%|          | 0/1 [00:00<?, ?it/s]"
      ]
     },
     "metadata": {},
     "output_type": "display_data"
    },
    {
     "name": "stdout",
     "output_type": "stream",
     "text": [
      "  ⚠ PDF转换失败: Word.Application.Quit\n",
      "✓ 已生成: Application_025_Toulouse School of Economics TSE_Economics.docx\n"
     ]
    },
    {
     "data": {
      "application/vnd.jupyter.widget-view+json": {
       "model_id": "e0fda1973148482b8c34fdec8b16b502",
       "version_major": 2,
       "version_minor": 0
      },
      "text/plain": [
       "  0%|          | 0/1 [00:00<?, ?it/s]"
      ]
     },
     "metadata": {},
     "output_type": "display_data"
    },
    {
     "name": "stdout",
     "output_type": "stream",
     "text": [
      "  ↳ PDF已生成: Application_025_Toulouse School of Economics TSE_Economics.pdf\n",
      "✓ 已生成: Application_026_Toulouse School of Economics TSE_Finance.docx\n"
     ]
    },
    {
     "data": {
      "application/vnd.jupyter.widget-view+json": {
       "model_id": "2559011ef04e4191b7e5200962e0130b",
       "version_major": 2,
       "version_minor": 0
      },
      "text/plain": [
       "  0%|          | 0/1 [00:00<?, ?it/s]"
      ]
     },
     "metadata": {},
     "output_type": "display_data"
    },
    {
     "name": "stdout",
     "output_type": "stream",
     "text": [
      "  ⚠ PDF转换失败: Word.Application.Quit\n",
      "✓ 已生成: Application_027_Toulouse School of Economics TSE_Information_Management.docx\n"
     ]
    },
    {
     "data": {
      "application/vnd.jupyter.widget-view+json": {
       "model_id": "8bde2a62227b490a96b265e2d0c60fa3",
       "version_major": 2,
       "version_minor": 0
      },
      "text/plain": [
       "  0%|          | 0/1 [00:00<?, ?it/s]"
      ]
     },
     "metadata": {},
     "output_type": "display_data"
    },
    {
     "name": "stdout",
     "output_type": "stream",
     "text": [
      "  ↳ PDF已生成: Application_027_Toulouse School of Economics TSE_Information_Management.pdf\n",
      "✓ 已生成: Application_028_Oxford University_Economics.docx\n"
     ]
    },
    {
     "data": {
      "application/vnd.jupyter.widget-view+json": {
       "model_id": "417a449ff93643349892fb4e9871725a",
       "version_major": 2,
       "version_minor": 0
      },
      "text/plain": [
       "  0%|          | 0/1 [00:00<?, ?it/s]"
      ]
     },
     "metadata": {},
     "output_type": "display_data"
    },
    {
     "name": "stdout",
     "output_type": "stream",
     "text": [
      "  ⚠ PDF转换失败: Word.Application.Quit\n",
      "✓ 已生成: Application_029_Oxford University_Finance.docx\n"
     ]
    },
    {
     "data": {
      "application/vnd.jupyter.widget-view+json": {
       "model_id": "795427c22fd54f5dbb10e8d1c01087aa",
       "version_major": 2,
       "version_minor": 0
      },
      "text/plain": [
       "  0%|          | 0/1 [00:00<?, ?it/s]"
      ]
     },
     "metadata": {},
     "output_type": "display_data"
    },
    {
     "name": "stdout",
     "output_type": "stream",
     "text": [
      "  ↳ PDF已生成: Application_029_Oxford University_Finance.pdf\n",
      "✓ 已生成: Application_030_Oxford University_Information_Management.docx\n"
     ]
    },
    {
     "data": {
      "application/vnd.jupyter.widget-view+json": {
       "model_id": "f7e139622ca349b78725aef925e52122",
       "version_major": 2,
       "version_minor": 0
      },
      "text/plain": [
       "  0%|          | 0/1 [00:00<?, ?it/s]"
      ]
     },
     "metadata": {},
     "output_type": "display_data"
    },
    {
     "name": "stdout",
     "output_type": "stream",
     "text": [
      "  ⚠ PDF转换失败: Word.Application.Quit\n",
      "✓ 已生成: Application_031_Columbia University_Economics.docx\n"
     ]
    },
    {
     "data": {
      "application/vnd.jupyter.widget-view+json": {
       "model_id": "712b3d49555645e38db7daabcfeb3590",
       "version_major": 2,
       "version_minor": 0
      },
      "text/plain": [
       "  0%|          | 0/1 [00:00<?, ?it/s]"
      ]
     },
     "metadata": {},
     "output_type": "display_data"
    },
    {
     "name": "stdout",
     "output_type": "stream",
     "text": [
      "  ↳ PDF已生成: Application_031_Columbia University_Economics.pdf\n",
      "✓ 已生成: Application_032_Columbia University_Finance.docx\n"
     ]
    },
    {
     "data": {
      "application/vnd.jupyter.widget-view+json": {
       "model_id": "f03985b8810e42988511243147f2a8b8",
       "version_major": 2,
       "version_minor": 0
      },
      "text/plain": [
       "  0%|          | 0/1 [00:00<?, ?it/s]"
      ]
     },
     "metadata": {},
     "output_type": "display_data"
    },
    {
     "name": "stdout",
     "output_type": "stream",
     "text": [
      "  ⚠ PDF转换失败: Word.Application.Quit\n",
      "✓ 已生成: Application_033_Columbia University_Information_Management.docx\n"
     ]
    },
    {
     "data": {
      "application/vnd.jupyter.widget-view+json": {
       "model_id": "d9aa098367f54222bc3b9330216e9aee",
       "version_major": 2,
       "version_minor": 0
      },
      "text/plain": [
       "  0%|          | 0/1 [00:00<?, ?it/s]"
      ]
     },
     "metadata": {},
     "output_type": "display_data"
    },
    {
     "name": "stdout",
     "output_type": "stream",
     "text": [
      "  ↳ PDF已生成: Application_033_Columbia University_Information_Management.pdf\n",
      "✓ 已生成: Application_034_Barcelona School of Economics BSE_Economics.docx\n"
     ]
    },
    {
     "data": {
      "application/vnd.jupyter.widget-view+json": {
       "model_id": "69822776b0624192ba6b487f6f62a070",
       "version_major": 2,
       "version_minor": 0
      },
      "text/plain": [
       "  0%|          | 0/1 [00:00<?, ?it/s]"
      ]
     },
     "metadata": {},
     "output_type": "display_data"
    },
    {
     "name": "stdout",
     "output_type": "stream",
     "text": [
      "  ↳ PDF已生成: Application_034_Barcelona School of Economics BSE_Economics.pdf\n",
      "✓ 已生成: Application_035_Barcelona School of Economics BSE_Finance.docx\n"
     ]
    },
    {
     "data": {
      "application/vnd.jupyter.widget-view+json": {
       "model_id": "ccb747b2e70c4c8284f79729da4c926b",
       "version_major": 2,
       "version_minor": 0
      },
      "text/plain": [
       "  0%|          | 0/1 [00:00<?, ?it/s]"
      ]
     },
     "metadata": {},
     "output_type": "display_data"
    },
    {
     "name": "stdout",
     "output_type": "stream",
     "text": [
      "  ↳ PDF已生成: Application_035_Barcelona School of Economics BSE_Finance.pdf\n",
      "✓ 已生成: Application_036_Barcelona School of Economics BSE_Information_Management.docx\n"
     ]
    },
    {
     "data": {
      "application/vnd.jupyter.widget-view+json": {
       "model_id": "e90512973a664f0aa8cf520178f3c06e",
       "version_major": 2,
       "version_minor": 0
      },
      "text/plain": [
       "  0%|          | 0/1 [00:00<?, ?it/s]"
      ]
     },
     "metadata": {},
     "output_type": "display_data"
    },
    {
     "name": "stdout",
     "output_type": "stream",
     "text": [
      "  ↳ PDF已生成: Application_036_Barcelona School of Economics BSE_Information_Management.pdf\n",
      "✓ 已生成: Application_037_New York University NYU_Economics.docx\n"
     ]
    },
    {
     "data": {
      "application/vnd.jupyter.widget-view+json": {
       "model_id": "bcd2897ccf594dfaa054d0dc9b835656",
       "version_major": 2,
       "version_minor": 0
      },
      "text/plain": [
       "  0%|          | 0/1 [00:00<?, ?it/s]"
      ]
     },
     "metadata": {},
     "output_type": "display_data"
    },
    {
     "name": "stdout",
     "output_type": "stream",
     "text": [
      "  ⚠ PDF转换失败: Word.Application.Documents\n",
      "✓ 已生成: Application_038_New York University NYU_Finance.docx\n"
     ]
    },
    {
     "data": {
      "application/vnd.jupyter.widget-view+json": {
       "model_id": "c731e49af44743f586729cd1017ce138",
       "version_major": 2,
       "version_minor": 0
      },
      "text/plain": [
       "  0%|          | 0/1 [00:00<?, ?it/s]"
      ]
     },
     "metadata": {},
     "output_type": "display_data"
    },
    {
     "name": "stdout",
     "output_type": "stream",
     "text": [
      "  ↳ PDF已生成: Application_038_New York University NYU_Finance.pdf\n",
      "✓ 已生成: Application_039_New York University NYU_Information_Management.docx\n"
     ]
    },
    {
     "data": {
      "application/vnd.jupyter.widget-view+json": {
       "model_id": "a53f3b1820eb42d685863e2062f22be1",
       "version_major": 2,
       "version_minor": 0
      },
      "text/plain": [
       "  0%|          | 0/1 [00:00<?, ?it/s]"
      ]
     },
     "metadata": {},
     "output_type": "display_data"
    },
    {
     "name": "stdout",
     "output_type": "stream",
     "text": [
      "  ⚠ PDF转换失败: Word.Application.Quit\n",
      "✓ 已生成: Application_040_Brown University_Economics.docx\n"
     ]
    },
    {
     "data": {
      "application/vnd.jupyter.widget-view+json": {
       "model_id": "2f22764e850e4ec58fd060669441f9ff",
       "version_major": 2,
       "version_minor": 0
      },
      "text/plain": [
       "  0%|          | 0/1 [00:00<?, ?it/s]"
      ]
     },
     "metadata": {},
     "output_type": "display_data"
    },
    {
     "name": "stdout",
     "output_type": "stream",
     "text": [
      "  ↳ PDF已生成: Application_040_Brown University_Economics.pdf\n",
      "✓ 已生成: Application_041_Brown University_Finance.docx\n"
     ]
    },
    {
     "data": {
      "application/vnd.jupyter.widget-view+json": {
       "model_id": "48889e82d96340b9a1f4b55313834765",
       "version_major": 2,
       "version_minor": 0
      },
      "text/plain": [
       "  0%|          | 0/1 [00:00<?, ?it/s]"
      ]
     },
     "metadata": {},
     "output_type": "display_data"
    },
    {
     "name": "stdout",
     "output_type": "stream",
     "text": [
      "  ⚠ PDF转换失败: Word.Application.Quit\n",
      "✓ 已生成: Application_042_Brown University_Information_Management.docx\n"
     ]
    },
    {
     "data": {
      "application/vnd.jupyter.widget-view+json": {
       "model_id": "56c976a2ad08474c9567cc32db1e93c6",
       "version_major": 2,
       "version_minor": 0
      },
      "text/plain": [
       "  0%|          | 0/1 [00:00<?, ?it/s]"
      ]
     },
     "metadata": {},
     "output_type": "display_data"
    },
    {
     "name": "stdout",
     "output_type": "stream",
     "text": [
      "  ↳ PDF已生成: Application_042_Brown University_Information_Management.pdf\n",
      "✓ 已生成: Application_043_University of Pennsylvania_Economics.docx\n"
     ]
    },
    {
     "data": {
      "application/vnd.jupyter.widget-view+json": {
       "model_id": "781ce890fb3740a28181c06687dee27a",
       "version_major": 2,
       "version_minor": 0
      },
      "text/plain": [
       "  0%|          | 0/1 [00:00<?, ?it/s]"
      ]
     },
     "metadata": {},
     "output_type": "display_data"
    },
    {
     "name": "stdout",
     "output_type": "stream",
     "text": [
      "  ⚠ PDF转换失败: Word.Application.Quit\n",
      "✓ 已生成: Application_044_University of Pennsylvania_Finance.docx\n"
     ]
    },
    {
     "data": {
      "application/vnd.jupyter.widget-view+json": {
       "model_id": "a7bd61d645534113aafdfe1e04f6c263",
       "version_major": 2,
       "version_minor": 0
      },
      "text/plain": [
       "  0%|          | 0/1 [00:00<?, ?it/s]"
      ]
     },
     "metadata": {},
     "output_type": "display_data"
    },
    {
     "name": "stdout",
     "output_type": "stream",
     "text": [
      "  ↳ PDF已生成: Application_044_University of Pennsylvania_Finance.pdf\n",
      "✓ 已生成: Application_045_University of Pennsylvania_Information_Management.docx\n"
     ]
    },
    {
     "data": {
      "application/vnd.jupyter.widget-view+json": {
       "model_id": "3c37a3ac50564abaaaa87fd459c59c22",
       "version_major": 2,
       "version_minor": 0
      },
      "text/plain": [
       "  0%|          | 0/1 [00:00<?, ?it/s]"
      ]
     },
     "metadata": {},
     "output_type": "display_data"
    },
    {
     "name": "stdout",
     "output_type": "stream",
     "text": [
      "  ↳ PDF已生成: Application_045_University of Pennsylvania_Information_Management.pdf\n",
      "✓ 已生成: Application_046_London School of Economics LSE_Economics.docx\n"
     ]
    },
    {
     "data": {
      "application/vnd.jupyter.widget-view+json": {
       "model_id": "9852f7daa2934ec09c149a0a19763479",
       "version_major": 2,
       "version_minor": 0
      },
      "text/plain": [
       "  0%|          | 0/1 [00:00<?, ?it/s]"
      ]
     },
     "metadata": {},
     "output_type": "display_data"
    },
    {
     "name": "stdout",
     "output_type": "stream",
     "text": [
      "  ⚠ PDF转换失败: Word.Application.Documents\n",
      "✓ 已生成: Application_047_London School of Economics LSE_Finance.docx\n"
     ]
    },
    {
     "data": {
      "application/vnd.jupyter.widget-view+json": {
       "model_id": "95949a3e8dee46e78c392e1e8b32b7ca",
       "version_major": 2,
       "version_minor": 0
      },
      "text/plain": [
       "  0%|          | 0/1 [00:00<?, ?it/s]"
      ]
     },
     "metadata": {},
     "output_type": "display_data"
    },
    {
     "name": "stdout",
     "output_type": "stream",
     "text": [
      "  ↳ PDF已生成: Application_047_London School of Economics LSE_Finance.pdf\n",
      "✓ 已生成: Application_048_London School of Economics LSE_Information_Management.docx\n"
     ]
    },
    {
     "data": {
      "application/vnd.jupyter.widget-view+json": {
       "model_id": "76b79424588b4b6f8742e72b7ef4e75e",
       "version_major": 2,
       "version_minor": 0
      },
      "text/plain": [
       "  0%|          | 0/1 [00:00<?, ?it/s]"
      ]
     },
     "metadata": {},
     "output_type": "display_data"
    },
    {
     "name": "stdout",
     "output_type": "stream",
     "text": [
      "  ⚠ PDF转换失败: Word.Application.Quit\n",
      "✓ 已生成: Application_049_Boston University_Economics.docx\n"
     ]
    },
    {
     "data": {
      "application/vnd.jupyter.widget-view+json": {
       "model_id": "22adaac73ca0430a8bb98c3c1b8b182a",
       "version_major": 2,
       "version_minor": 0
      },
      "text/plain": [
       "  0%|          | 0/1 [00:00<?, ?it/s]"
      ]
     },
     "metadata": {},
     "output_type": "display_data"
    },
    {
     "name": "stdout",
     "output_type": "stream",
     "text": [
      "  ↳ PDF已生成: Application_049_Boston University_Economics.pdf\n",
      "✓ 已生成: Application_050_Boston University_Finance.docx\n"
     ]
    },
    {
     "data": {
      "application/vnd.jupyter.widget-view+json": {
       "model_id": "eeaf00c0bedf4cf0993c5b48a3964563",
       "version_major": 2,
       "version_minor": 0
      },
      "text/plain": [
       "  0%|          | 0/1 [00:00<?, ?it/s]"
      ]
     },
     "metadata": {},
     "output_type": "display_data"
    },
    {
     "name": "stdout",
     "output_type": "stream",
     "text": [
      "  ⚠ PDF转换失败: Word.Application.Quit\n",
      "✓ 已生成: Application_051_Boston University_Information_Management.docx\n"
     ]
    },
    {
     "data": {
      "application/vnd.jupyter.widget-view+json": {
       "model_id": "0b15ab3f09c34ecbb196be7606e1d1fd",
       "version_major": 2,
       "version_minor": 0
      },
      "text/plain": [
       "  0%|          | 0/1 [00:00<?, ?it/s]"
      ]
     },
     "metadata": {},
     "output_type": "display_data"
    },
    {
     "name": "stdout",
     "output_type": "stream",
     "text": [
      "  ↳ PDF已生成: Application_051_Boston University_Information_Management.pdf\n",
      "✓ 已生成: Application_052_University College London UCL_Economics.docx\n"
     ]
    },
    {
     "data": {
      "application/vnd.jupyter.widget-view+json": {
       "model_id": "86ba3af44d7e47b9a24e628a763249dc",
       "version_major": 2,
       "version_minor": 0
      },
      "text/plain": [
       "  0%|          | 0/1 [00:00<?, ?it/s]"
      ]
     },
     "metadata": {},
     "output_type": "display_data"
    },
    {
     "name": "stdout",
     "output_type": "stream",
     "text": [
      "  ⚠ PDF转换失败: Word.Application.Quit\n",
      "✓ 已生成: Application_053_University College London UCL_Finance.docx\n"
     ]
    },
    {
     "data": {
      "application/vnd.jupyter.widget-view+json": {
       "model_id": "19a309167b574638aa8a766b488e00ed",
       "version_major": 2,
       "version_minor": 0
      },
      "text/plain": [
       "  0%|          | 0/1 [00:00<?, ?it/s]"
      ]
     },
     "metadata": {},
     "output_type": "display_data"
    },
    {
     "name": "stdout",
     "output_type": "stream",
     "text": [
      "  ↳ PDF已生成: Application_053_University College London UCL_Finance.pdf\n",
      "✓ 已生成: Application_054_University College London UCL_Information_Management.docx\n"
     ]
    },
    {
     "data": {
      "application/vnd.jupyter.widget-view+json": {
       "model_id": "fdc4e2eaa5a04e73a9e51a44857ed84c",
       "version_major": 2,
       "version_minor": 0
      },
      "text/plain": [
       "  0%|          | 0/1 [00:00<?, ?it/s]"
      ]
     },
     "metadata": {},
     "output_type": "display_data"
    },
    {
     "name": "stdout",
     "output_type": "stream",
     "text": [
      "  ⚠ PDF转换失败: Word.Application.Quit\n",
      "✓ 已生成: Application_055_University of California-San Diego UCSD_Economics.docx\n"
     ]
    },
    {
     "data": {
      "application/vnd.jupyter.widget-view+json": {
       "model_id": "1790aaf6f70048f7ab9582b3055deea5",
       "version_major": 2,
       "version_minor": 0
      },
      "text/plain": [
       "  0%|          | 0/1 [00:00<?, ?it/s]"
      ]
     },
     "metadata": {},
     "output_type": "display_data"
    },
    {
     "name": "stdout",
     "output_type": "stream",
     "text": [
      "  ↳ PDF已生成: Application_055_University of California-San Diego UCSD_Economics.pdf\n",
      "✓ 已生成: Application_056_University of California-San Diego UCSD_Finance.docx\n"
     ]
    },
    {
     "data": {
      "application/vnd.jupyter.widget-view+json": {
       "model_id": "9dc018591d1a496f98375211ecdc1b9f",
       "version_major": 2,
       "version_minor": 0
      },
      "text/plain": [
       "  0%|          | 0/1 [00:00<?, ?it/s]"
      ]
     },
     "metadata": {},
     "output_type": "display_data"
    },
    {
     "name": "stdout",
     "output_type": "stream",
     "text": [
      "  ↳ PDF已生成: Application_056_University of California-San Diego UCSD_Finance.pdf\n",
      "✓ 已生成: Application_057_University of California-San Diego UCSD_Information_Management.docx\n"
     ]
    },
    {
     "data": {
      "application/vnd.jupyter.widget-view+json": {
       "model_id": "732db12085a347a1a011ad786823dfcc",
       "version_major": 2,
       "version_minor": 0
      },
      "text/plain": [
       "  0%|          | 0/1 [00:00<?, ?it/s]"
      ]
     },
     "metadata": {},
     "output_type": "display_data"
    },
    {
     "name": "stdout",
     "output_type": "stream",
     "text": [
      "  ⚠ PDF转换失败: Word.Application.Documents\n",
      "✓ 已生成: Application_058_University of Michigan_Economics.docx\n"
     ]
    },
    {
     "data": {
      "application/vnd.jupyter.widget-view+json": {
       "model_id": "01cc8d87e4fd43288409cf5bbc12f389",
       "version_major": 2,
       "version_minor": 0
      },
      "text/plain": [
       "  0%|          | 0/1 [00:00<?, ?it/s]"
      ]
     },
     "metadata": {},
     "output_type": "display_data"
    },
    {
     "name": "stdout",
     "output_type": "stream",
     "text": [
      "  ↳ PDF已生成: Application_058_University of Michigan_Economics.pdf\n",
      "✓ 已生成: Application_059_University of Michigan_Finance.docx\n"
     ]
    },
    {
     "data": {
      "application/vnd.jupyter.widget-view+json": {
       "model_id": "17bf00c5d1de4a33a97a02bf13c05dc4",
       "version_major": 2,
       "version_minor": 0
      },
      "text/plain": [
       "  0%|          | 0/1 [00:00<?, ?it/s]"
      ]
     },
     "metadata": {},
     "output_type": "display_data"
    },
    {
     "name": "stdout",
     "output_type": "stream",
     "text": [
      "  ⚠ PDF转换失败: Word.Application.Quit\n",
      "✓ 已生成: Application_060_University of Michigan_Information_Management.docx\n"
     ]
    },
    {
     "data": {
      "application/vnd.jupyter.widget-view+json": {
       "model_id": "f2b004399ce64a82917855ad9f029401",
       "version_major": 2,
       "version_minor": 0
      },
      "text/plain": [
       "  0%|          | 0/1 [00:00<?, ?it/s]"
      ]
     },
     "metadata": {},
     "output_type": "display_data"
    },
    {
     "name": "stdout",
     "output_type": "stream",
     "text": [
      "  ↳ PDF已生成: Application_060_University of Michigan_Information_Management.pdf\n",
      "✓ 已生成: Application_061_University of Queensland_Economics.docx\n"
     ]
    },
    {
     "data": {
      "application/vnd.jupyter.widget-view+json": {
       "model_id": "0568a222f7c2411abd17d5f51870e3e5",
       "version_major": 2,
       "version_minor": 0
      },
      "text/plain": [
       "  0%|          | 0/1 [00:00<?, ?it/s]"
      ]
     },
     "metadata": {},
     "output_type": "display_data"
    },
    {
     "name": "stdout",
     "output_type": "stream",
     "text": [
      "  ↳ PDF已生成: Application_061_University of Queensland_Economics.pdf\n",
      "✓ 已生成: Application_062_University of Queensland_Finance.docx\n"
     ]
    },
    {
     "data": {
      "application/vnd.jupyter.widget-view+json": {
       "model_id": "5e9aaa9a662a45c2b0efa2c5e86f228b",
       "version_major": 2,
       "version_minor": 0
      },
      "text/plain": [
       "  0%|          | 0/1 [00:00<?, ?it/s]"
      ]
     },
     "metadata": {},
     "output_type": "display_data"
    },
    {
     "name": "stdout",
     "output_type": "stream",
     "text": [
      "  ↳ PDF已生成: Application_062_University of Queensland_Finance.pdf\n",
      "✓ 已生成: Application_063_University of Queensland_Information_Management.docx\n"
     ]
    },
    {
     "data": {
      "application/vnd.jupyter.widget-view+json": {
       "model_id": "f77687c8767248da93cf356ebd78996c",
       "version_major": 2,
       "version_minor": 0
      },
      "text/plain": [
       "  0%|          | 0/1 [00:00<?, ?it/s]"
      ]
     },
     "metadata": {},
     "output_type": "display_data"
    },
    {
     "name": "stdout",
     "output_type": "stream",
     "text": [
      "  ⚠ PDF转换失败: Word.Application.Quit\n",
      "✓ 已生成: Application_064_University of Virginia_Economics.docx\n"
     ]
    },
    {
     "data": {
      "application/vnd.jupyter.widget-view+json": {
       "model_id": "f3e2c3533958431f93157bc52a5f40bf",
       "version_major": 2,
       "version_minor": 0
      },
      "text/plain": [
       "  0%|          | 0/1 [00:00<?, ?it/s]"
      ]
     },
     "metadata": {},
     "output_type": "display_data"
    },
    {
     "name": "stdout",
     "output_type": "stream",
     "text": [
      "  ↳ PDF已生成: Application_064_University of Virginia_Economics.pdf\n",
      "✓ 已生成: Application_065_University of Virginia_Finance.docx\n"
     ]
    },
    {
     "data": {
      "application/vnd.jupyter.widget-view+json": {
       "model_id": "4370cf223398464b9fb7603b73e5adcd",
       "version_major": 2,
       "version_minor": 0
      },
      "text/plain": [
       "  0%|          | 0/1 [00:00<?, ?it/s]"
      ]
     },
     "metadata": {},
     "output_type": "display_data"
    },
    {
     "name": "stdout",
     "output_type": "stream",
     "text": [
      "  ⚠ PDF转换失败: Word.Application.Quit\n",
      "✓ 已生成: Application_066_University of Virginia_Information_Management.docx\n"
     ]
    },
    {
     "data": {
      "application/vnd.jupyter.widget-view+json": {
       "model_id": "85d63effe81041aaa21726afe92e135c",
       "version_major": 2,
       "version_minor": 0
      },
      "text/plain": [
       "  0%|          | 0/1 [00:00<?, ?it/s]"
      ]
     },
     "metadata": {},
     "output_type": "display_data"
    },
    {
     "name": "stdout",
     "output_type": "stream",
     "text": [
      "  ↳ PDF已生成: Application_066_University of Virginia_Information_Management.pdf\n",
      "✓ 已生成: Application_067_Georgetown University_Economics.docx\n"
     ]
    },
    {
     "data": {
      "application/vnd.jupyter.widget-view+json": {
       "model_id": "757263787c254b8489f336ef863acc53",
       "version_major": 2,
       "version_minor": 0
      },
      "text/plain": [
       "  0%|          | 0/1 [00:00<?, ?it/s]"
      ]
     },
     "metadata": {},
     "output_type": "display_data"
    },
    {
     "name": "stdout",
     "output_type": "stream",
     "text": [
      "  ⚠ PDF转换失败: Word.Application.Quit\n",
      "✓ 已生成: Application_068_Georgetown University_Finance.docx\n"
     ]
    },
    {
     "data": {
      "application/vnd.jupyter.widget-view+json": {
       "model_id": "e769c4a4b79e4bcca64e669eb929a208",
       "version_major": 2,
       "version_minor": 0
      },
      "text/plain": [
       "  0%|          | 0/1 [00:00<?, ?it/s]"
      ]
     },
     "metadata": {},
     "output_type": "display_data"
    },
    {
     "name": "stdout",
     "output_type": "stream",
     "text": [
      "  ↳ PDF已生成: Application_068_Georgetown University_Finance.pdf\n",
      "✓ 已生成: Application_069_Georgetown University_Information_Management.docx\n"
     ]
    },
    {
     "data": {
      "application/vnd.jupyter.widget-view+json": {
       "model_id": "ec69ac62696c4493974f47dc300fb553",
       "version_major": 2,
       "version_minor": 0
      },
      "text/plain": [
       "  0%|          | 0/1 [00:00<?, ?it/s]"
      ]
     },
     "metadata": {},
     "output_type": "display_data"
    },
    {
     "name": "stdout",
     "output_type": "stream",
     "text": [
      "  ⚠ PDF转换失败: Word.Application.Quit\n",
      "✓ 已生成: Application_070_University of Minnesota_Economics.docx\n"
     ]
    },
    {
     "data": {
      "application/vnd.jupyter.widget-view+json": {
       "model_id": "cb33f86f92a0422db3f19cc0f54f1f5f",
       "version_major": 2,
       "version_minor": 0
      },
      "text/plain": [
       "  0%|          | 0/1 [00:00<?, ?it/s]"
      ]
     },
     "metadata": {},
     "output_type": "display_data"
    },
    {
     "name": "stdout",
     "output_type": "stream",
     "text": [
      "  ↳ PDF已生成: Application_070_University of Minnesota_Economics.pdf\n",
      "✓ 已生成: Application_071_University of Minnesota_Finance.docx\n"
     ]
    },
    {
     "data": {
      "application/vnd.jupyter.widget-view+json": {
       "model_id": "718cd742ee2346c99466b87a26e604c3",
       "version_major": 2,
       "version_minor": 0
      },
      "text/plain": [
       "  0%|          | 0/1 [00:00<?, ?it/s]"
      ]
     },
     "metadata": {},
     "output_type": "display_data"
    },
    {
     "name": "stdout",
     "output_type": "stream",
     "text": [
      "  ⚠ PDF转换失败: Word.Application.Quit\n",
      "✓ 已生成: Application_072_University of Minnesota_Information_Management.docx\n"
     ]
    },
    {
     "data": {
      "application/vnd.jupyter.widget-view+json": {
       "model_id": "d2d1c6bd0ece41eb9022948c13218ba8",
       "version_major": 2,
       "version_minor": 0
      },
      "text/plain": [
       "  0%|          | 0/1 [00:00<?, ?it/s]"
      ]
     },
     "metadata": {},
     "output_type": "display_data"
    },
    {
     "name": "stdout",
     "output_type": "stream",
     "text": [
      "  ↳ PDF已生成: Application_072_University of Minnesota_Information_Management.pdf\n",
      "✓ 已生成: Application_073_New York University NYU - Stern School of Business_Economics.docx\n"
     ]
    },
    {
     "data": {
      "application/vnd.jupyter.widget-view+json": {
       "model_id": "66ba52213927464ba9abb86795ce63cd",
       "version_major": 2,
       "version_minor": 0
      },
      "text/plain": [
       "  0%|          | 0/1 [00:00<?, ?it/s]"
      ]
     },
     "metadata": {},
     "output_type": "display_data"
    },
    {
     "name": "stdout",
     "output_type": "stream",
     "text": [
      "  ⚠ PDF转换失败: Word.Application.Quit\n",
      "✓ 已生成: Application_074_New York University NYU - Stern School of Business_Finance.docx\n"
     ]
    },
    {
     "data": {
      "application/vnd.jupyter.widget-view+json": {
       "model_id": "bf43c72af0b242d39e80350009b19584",
       "version_major": 2,
       "version_minor": 0
      },
      "text/plain": [
       "  0%|          | 0/1 [00:00<?, ?it/s]"
      ]
     },
     "metadata": {},
     "output_type": "display_data"
    },
    {
     "name": "stdout",
     "output_type": "stream",
     "text": [
      "  ↳ PDF已生成: Application_074_New York University NYU - Stern School of Business_Finance.pdf\n",
      "✓ 已生成: Application_075_New York University NYU - Stern School of Business_Information_Management.docx\n"
     ]
    },
    {
     "data": {
      "application/vnd.jupyter.widget-view+json": {
       "model_id": "4125a7f2e2774cc88f3401d726230cae",
       "version_major": 2,
       "version_minor": 0
      },
      "text/plain": [
       "  0%|          | 0/1 [00:00<?, ?it/s]"
      ]
     },
     "metadata": {},
     "output_type": "display_data"
    },
    {
     "name": "stdout",
     "output_type": "stream",
     "text": [
      "  ↳ PDF已生成: Application_075_New York University NYU - Stern School of Business_Information_Management.pdf\n",
      "✓ 已生成: Application_076_University of California-Santa Barbara UCSB_Economics.docx\n"
     ]
    },
    {
     "data": {
      "application/vnd.jupyter.widget-view+json": {
       "model_id": "84b4028d59ea4af8afd57f425393a66a",
       "version_major": 2,
       "version_minor": 0
      },
      "text/plain": [
       "  0%|          | 0/1 [00:00<?, ?it/s]"
      ]
     },
     "metadata": {},
     "output_type": "display_data"
    },
    {
     "name": "stdout",
     "output_type": "stream",
     "text": [
      "  ⚠ PDF转换失败: Word.Application.Documents\n",
      "✓ 已生成: Application_077_University of California-Santa Barbara UCSB_Finance.docx\n"
     ]
    },
    {
     "data": {
      "application/vnd.jupyter.widget-view+json": {
       "model_id": "7e040e96d7724942ab5119c6f7077f7c",
       "version_major": 2,
       "version_minor": 0
      },
      "text/plain": [
       "  0%|          | 0/1 [00:00<?, ?it/s]"
      ]
     },
     "metadata": {},
     "output_type": "display_data"
    },
    {
     "name": "stdout",
     "output_type": "stream",
     "text": [
      "  ↳ PDF已生成: Application_077_University of California-Santa Barbara UCSB_Finance.pdf\n",
      "✓ 已生成: Application_078_University of California-Santa Barbara UCSB_Information_Management.docx\n"
     ]
    },
    {
     "data": {
      "application/vnd.jupyter.widget-view+json": {
       "model_id": "ab36ac420258484faff738ea25a8b5d2",
       "version_major": 2,
       "version_minor": 0
      },
      "text/plain": [
       "  0%|          | 0/1 [00:00<?, ?it/s]"
      ]
     },
     "metadata": {},
     "output_type": "display_data"
    },
    {
     "name": "stdout",
     "output_type": "stream",
     "text": [
      "  ⚠ PDF转换失败: Word.Application.Quit\n",
      "✓ 已生成: Application_079_Washington University in St Louis_Economics.docx\n"
     ]
    },
    {
     "data": {
      "application/vnd.jupyter.widget-view+json": {
       "model_id": "210c1442f9cf4302bb4b0539ad5979bc",
       "version_major": 2,
       "version_minor": 0
      },
      "text/plain": [
       "  0%|          | 0/1 [00:00<?, ?it/s]"
      ]
     },
     "metadata": {},
     "output_type": "display_data"
    },
    {
     "name": "stdout",
     "output_type": "stream",
     "text": [
      "  ↳ PDF已生成: Application_079_Washington University in St Louis_Economics.pdf\n",
      "✓ 已生成: Application_080_Washington University in St Louis_Finance.docx\n"
     ]
    },
    {
     "data": {
      "application/vnd.jupyter.widget-view+json": {
       "model_id": "001c5e7715d64c3a8b8597dbcf979437",
       "version_major": 2,
       "version_minor": 0
      },
      "text/plain": [
       "  0%|          | 0/1 [00:00<?, ?it/s]"
      ]
     },
     "metadata": {},
     "output_type": "display_data"
    },
    {
     "name": "stdout",
     "output_type": "stream",
     "text": [
      "  ⚠ PDF转换失败: Word.Application.Quit\n",
      "✓ 已生成: Application_081_Washington University in St Louis_Information_Management.docx\n"
     ]
    },
    {
     "data": {
      "application/vnd.jupyter.widget-view+json": {
       "model_id": "572f322b18e342eaaccdbf066673de0d",
       "version_major": 2,
       "version_minor": 0
      },
      "text/plain": [
       "  0%|          | 0/1 [00:00<?, ?it/s]"
      ]
     },
     "metadata": {},
     "output_type": "display_data"
    },
    {
     "name": "stdout",
     "output_type": "stream",
     "text": [
      "  ↳ PDF已生成: Application_081_Washington University in St Louis_Information_Management.pdf\n",
      "✓ 已生成: Application_082_Pennsylvania State University_Economics.docx\n"
     ]
    },
    {
     "data": {
      "application/vnd.jupyter.widget-view+json": {
       "model_id": "2d63cf786f744f7e955d9208a2ebe1ea",
       "version_major": 2,
       "version_minor": 0
      },
      "text/plain": [
       "  0%|          | 0/1 [00:00<?, ?it/s]"
      ]
     },
     "metadata": {},
     "output_type": "display_data"
    },
    {
     "name": "stdout",
     "output_type": "stream",
     "text": [
      "  ⚠ PDF转换失败: Word.Application.Quit\n",
      "✓ 已生成: Application_083_Pennsylvania State University_Finance.docx\n"
     ]
    },
    {
     "data": {
      "application/vnd.jupyter.widget-view+json": {
       "model_id": "4bb68031cacf441e88d6f05e7ce492d8",
       "version_major": 2,
       "version_minor": 0
      },
      "text/plain": [
       "  0%|          | 0/1 [00:00<?, ?it/s]"
      ]
     },
     "metadata": {},
     "output_type": "display_data"
    },
    {
     "name": "stdout",
     "output_type": "stream",
     "text": [
      "  ↳ PDF已生成: Application_083_Pennsylvania State University_Finance.pdf\n",
      "✓ 已生成: Application_084_Pennsylvania State University_Information_Management.docx\n"
     ]
    },
    {
     "data": {
      "application/vnd.jupyter.widget-view+json": {
       "model_id": "5cad113642474a24a9be14042e88fd9b",
       "version_major": 2,
       "version_minor": 0
      },
      "text/plain": [
       "  0%|          | 0/1 [00:00<?, ?it/s]"
      ]
     },
     "metadata": {},
     "output_type": "display_data"
    },
    {
     "name": "stdout",
     "output_type": "stream",
     "text": [
      "  ⚠ PDF转换失败: Word.Application.Quit\n",
      "✓ 已生成: Application_085_University of Colorado_Economics.docx\n"
     ]
    },
    {
     "data": {
      "application/vnd.jupyter.widget-view+json": {
       "model_id": "388b03038e0f403bb8a1e5f4541e6e98",
       "version_major": 2,
       "version_minor": 0
      },
      "text/plain": [
       "  0%|          | 0/1 [00:00<?, ?it/s]"
      ]
     },
     "metadata": {},
     "output_type": "display_data"
    },
    {
     "name": "stdout",
     "output_type": "stream",
     "text": [
      "  ↳ PDF已生成: Application_085_University of Colorado_Economics.pdf\n",
      "✓ 已生成: Application_086_University of Colorado_Finance.docx\n"
     ]
    },
    {
     "data": {
      "application/vnd.jupyter.widget-view+json": {
       "model_id": "00f7fdadc9bf4656a2224641f46ba25e",
       "version_major": 2,
       "version_minor": 0
      },
      "text/plain": [
       "  0%|          | 0/1 [00:00<?, ?it/s]"
      ]
     },
     "metadata": {},
     "output_type": "display_data"
    },
    {
     "name": "stdout",
     "output_type": "stream",
     "text": [
      "  ⚠ PDF转换失败: Word.Application.Quit\n",
      "✓ 已生成: Application_087_University of Colorado_Information_Management.docx\n"
     ]
    },
    {
     "data": {
      "application/vnd.jupyter.widget-view+json": {
       "model_id": "729692ef3d4c4ae9aeacfc35cfbf383b",
       "version_major": 2,
       "version_minor": 0
      },
      "text/plain": [
       "  0%|          | 0/1 [00:00<?, ?it/s]"
      ]
     },
     "metadata": {},
     "output_type": "display_data"
    },
    {
     "name": "stdout",
     "output_type": "stream",
     "text": [
      "  ↳ PDF已生成: Application_087_University of Colorado_Information_Management.pdf\n",
      "✓ 已生成: Application_088_University of California-Santa Cruz UCSC_Economics.docx\n"
     ]
    },
    {
     "data": {
      "application/vnd.jupyter.widget-view+json": {
       "model_id": "94bc30fb24314e4cbbe20b0b48c30738",
       "version_major": 2,
       "version_minor": 0
      },
      "text/plain": [
       "  0%|          | 0/1 [00:00<?, ?it/s]"
      ]
     },
     "metadata": {},
     "output_type": "display_data"
    },
    {
     "name": "stdout",
     "output_type": "stream",
     "text": [
      "  ⚠ PDF转换失败: Word.Application.Quit\n",
      "✓ 已生成: Application_089_University of California-Santa Cruz UCSC_Finance.docx\n"
     ]
    },
    {
     "data": {
      "application/vnd.jupyter.widget-view+json": {
       "model_id": "632f211655a1453d8f26a3d4862ec771",
       "version_major": 2,
       "version_minor": 0
      },
      "text/plain": [
       "  0%|          | 0/1 [00:00<?, ?it/s]"
      ]
     },
     "metadata": {},
     "output_type": "display_data"
    },
    {
     "name": "stdout",
     "output_type": "stream",
     "text": [
      "  ↳ PDF已生成: Application_089_University of California-Santa Cruz UCSC_Finance.pdf\n",
      "✓ 已生成: Application_090_University of California-Santa Cruz UCSC_Information_Management.docx\n"
     ]
    },
    {
     "data": {
      "application/vnd.jupyter.widget-view+json": {
       "model_id": "a91bf551e11043f2858aa3e3fd00677a",
       "version_major": 2,
       "version_minor": 0
      },
      "text/plain": [
       "  0%|          | 0/1 [00:00<?, ?it/s]"
      ]
     },
     "metadata": {},
     "output_type": "display_data"
    },
    {
     "name": "stdout",
     "output_type": "stream",
     "text": [
      "  ⚠ PDF转换失败: Word.Application.Quit\n",
      "\n",
      "🎉 完成！\n",
      "总共处理了 30 所大学 × 3 个研究领域 = 90 封申请信\n",
      "生成的文件保存在 'HW_School_Application' 目录中\n",
      "\n",
      "📊 生成统计:\n",
      "  - Word文档: 90 个\n",
      "  - PDF文档: 50 个\n",
      "  - 总计: 140 个文件\n",
      "\n",
      "==================================================\n",
      "程序执行完毕\n",
      "==================================================\n"
     ]
    }
   ],
   "source": [
    "# 安装必要的库（如果在Jupyter中运行，取消下面行的注释）\n",
    "# !pip install pandas openpyxl python-docx docxtpl docx2pdf requests beautifulsoup4\n",
    "\n",
    "import pandas as pd\n",
    "import os\n",
    "import platform\n",
    "from docxtpl import DocxTemplate\n",
    "\n",
    "def create_university_excel():\n",
    "    \"\"\"\n",
    "    创建大学列表Excel文件 - 根据您提供的附件格式\n",
    "    \"\"\"\n",
    "    print(\"开始创建大学列表Excel文件...\")\n",
    "    \n",
    "    # 使用您提供的大学数据\n",
    "    universities_data = {\n",
    "        'Rank': [\n",
    "            'Top30', '', '', '', '', '', '', '', '', '',\n",
    "            'Top31~60', '', '', '', '', '', '', '', '', '',\n",
    "            'Top61~90', '', '', '', '', '', '', '', '', ''\n",
    "        ],\n",
    "        'University Name': [\n",
    "            'Harvard University',\n",
    "            'Massachusetts Institute of Technology (MIT)',\n",
    "            'University of California-Berkeley',\n",
    "            'University of Chicago',\n",
    "            'Paris School of Economics',\n",
    "            'Princeton University',\n",
    "            'Stanford University',\n",
    "            'Yale University',\n",
    "            'Toulouse School of Economics (TSE)',\n",
    "            'Oxford University',\n",
    "            'Columbia University',\n",
    "            'Barcelona School of Economics (BSE)',\n",
    "            'New York University (NYU)',\n",
    "            'Brown University',\n",
    "            'University of Pennsylvania',\n",
    "            'London School of Economics (LSE)',\n",
    "            'Boston University',\n",
    "            'University College London (UCL)',\n",
    "            'University of California-San Diego (UCSD)',\n",
    "            'University of Michigan',\n",
    "            'University of Queensland',\n",
    "            'University of Virginia',\n",
    "            'Georgetown University',\n",
    "            'University of Minnesota',\n",
    "            'New York University (NYU) - Stern School of Business',\n",
    "            'University of California-Santa Barbara (UCSB)',\n",
    "            'Washington University in St. Louis',\n",
    "            'Pennsylvania State University',\n",
    "            'University of Colorado',\n",
    "            'University of California-Santa Cruz (UCSC)'\n",
    "        ]\n",
    "    }\n",
    "    \n",
    "    # 创建DataFrame\n",
    "    df_universities = pd.DataFrame(universities_data)\n",
    "    \n",
    "    # 保存为Excel文件\n",
    "    df_universities.to_excel('excellist1.xlsx', index=False)\n",
    "    print(\"大学列表Excel文件已创建: excellist1.xlsx\")\n",
    "    \n",
    "    return df_universities\n",
    "\n",
    "def create_research_areas_excel():\n",
    "    \"\"\"\n",
    "    创建研究领域、期刊和技能的Excel文件 - 根据您提供的附件格式\n",
    "    \"\"\"\n",
    "    print(\"开始创建研究领域Excel文件...\")\n",
    "    \n",
    "    # 使用您提供的研究领域数据\n",
    "    research_areas_data = {\n",
    "        'Research Area': ['Economics', 'Finance', 'Information Management'],\n",
    "        'Top Journal 1': ['American Economic Review', 'Journal of Finance', 'MIS Quarterly'],\n",
    "        'Top Journal 2': ['Econometrica', 'Journal of Financial Economics', 'Information Systems Research'],\n",
    "        'Top Journal 3': ['Journal of Political Economy', 'Review of Financial Studies', 'Journal of the Association for Information Systems'],\n",
    "        'Required Skill 1': ['Econometrics', 'Financial Modeling', 'Database Management'],\n",
    "        'Required Skill 2': ['Data Analysis', 'Risk Management', 'Systems Analysis'],\n",
    "        'Required Skill 3': ['Statistical Modeling', 'Investment Analysis', 'Project Management'],\n",
    "        'Required Skill 4': ['Economic Theory', 'Financial Analysis', 'SQL'],\n",
    "        'Required Skill 5': ['Policy Analysis', 'Python Programming', 'Business Process Optimization']\n",
    "    }\n",
    "    \n",
    "    # 创建DataFrame\n",
    "    df_research_areas = pd.DataFrame(research_areas_data)\n",
    "    \n",
    "    # 保存为Excel文件\n",
    "    df_research_areas.to_excel('excellist2.xlsx', index=False)\n",
    "    print(\"研究领域Excel文件已创建: excellist2.xlsx\")\n",
    "    \n",
    "    return df_research_areas\n",
    "\n",
    "def generate_application_letters():\n",
    "    \"\"\"\n",
    "    生成申请信的主函数 - 修改为每所大学生成所有研究领域的申请信\n",
    "    \"\"\"\n",
    "    # 创建输出目录\n",
    "    output_dir = \"HW_School_Application\"\n",
    "    os.makedirs(output_dir, exist_ok=True)\n",
    "    \n",
    "    print(\"开始读取Excel文件...\")\n",
    "    \n",
    "    try:\n",
    "        # 读取Excel文件\n",
    "        df_universities = pd.read_excel('excellist1.xlsx')\n",
    "        df_research_areas = pd.read_excel('excellist2.xlsx')\n",
    "        \n",
    "        print(\"Excel文件读取成功！\")\n",
    "        \n",
    "    except FileNotFoundError as e:\n",
    "        print(f\"错误：找不到Excel文件 - {e}\")\n",
    "        print(\"将自动创建Excel文件...\")\n",
    "        df_universities = create_university_excel()\n",
    "        df_research_areas = create_research_areas_excel()\n",
    "    \n",
    "    # 处理大学数据\n",
    "    print(\"处理大学数据...\")\n",
    "    \n",
    "    # 使用前向填充处理Rank列，确保每个大学都有正确的排名分类\n",
    "    df_universities['Rank'] = df_universities['Rank'].ffill()\n",
    "    \n",
    "    # 获取各分组的大学\n",
    "    universities_top30 = df_universities[df_universities['Rank'] == 'Top30']['University Name'].dropna().tolist()[:10]\n",
    "    universities_top60 = df_universities[df_universities['Rank'] == 'Top31~60']['University Name'].dropna().tolist()[:10]\n",
    "    universities_top90 = df_universities[df_universities['Rank'] == 'Top61~90']['University Name'].dropna().tolist()[:10]\n",
    "\n",
    "    # 合并所有大学\n",
    "    all_universities = universities_top30 + universities_top60 + universities_top90\n",
    "    print(f\"总共找到 {len(all_universities)} 所大学\")\n",
    "\n",
    "    # 准备研究领域数据\n",
    "    print(\"处理研究领域数据...\")\n",
    "    research_areas_data = []\n",
    "    for _, row in df_research_areas.iterrows():\n",
    "        # 检查并处理可能的空值\n",
    "        skills_dict = {}\n",
    "        for i in range(1, 6):\n",
    "            skill_col = f'Required Skill {i}'\n",
    "            if skill_col in row and pd.notna(row[skill_col]):\n",
    "                # 使用下划线替换空格，使变量名符合Jinja2语法\n",
    "                skills_dict[f'Required_Skill_{i}'] = row[skill_col]\n",
    "            else:\n",
    "                skills_dict[f'Required_Skill_{i}'] = \"\"\n",
    "        \n",
    "        area_data = {\n",
    "            'research_area': row['Research Area'],\n",
    "            'journals': [\n",
    "                row['Top Journal 1'], \n",
    "                row['Top Journal 2'], \n",
    "                row['Top Journal 3']\n",
    "            ],\n",
    "            'skills': skills_dict\n",
    "        }\n",
    "        research_areas_data.append(area_data)\n",
    "    \n",
    "    print(f\"找到 {len(research_areas_data)} 个研究领域\")\n",
    "\n",
    "    # 职业目标映射\n",
    "    career_goals = {\n",
    "        'Economics': 'economic researcher',\n",
    "        'Finance': 'financial analyst', \n",
    "        'Information Management': 'information systems manager'\n",
    "    }\n",
    "\n",
    "    print(\"开始生成申请信...\")\n",
    "    \n",
    "    # 循环生成申请信 - 修改为每所大学对应所有研究领域\n",
    "    generated_files = []\n",
    "    application_count = 0\n",
    "    \n",
    "    # Windows系统PDF转换设置\n",
    "    pdf_enabled = True\n",
    "    try:\n",
    "        from docx2pdf import convert\n",
    "        print(\"PDF转换功能已启用\")\n",
    "    except ImportError:\n",
    "        print(\"警告: 无法导入docx2pdf，将仅生成Word文档\")\n",
    "        pdf_enabled = False\n",
    "    \n",
    "    # 对每所大学，生成所有研究领域的申请信\n",
    "    for i, university in enumerate(all_universities):\n",
    "        for j, research_area_data in enumerate(research_areas_data):\n",
    "            application_count += 1\n",
    "            \n",
    "            # 准备模板上下文 - 修复变量名，使用下划线代替空格\n",
    "            context = {\n",
    "                'research_area': research_area_data['research_area'],\n",
    "                'university': university,\n",
    "                'journals': research_area_data['journals'],\n",
    "                'career_goal': career_goals.get(research_area_data['research_area'], 'researcher'),\n",
    "                'Required_Skill_1': research_area_data['skills']['Required_Skill_1'],\n",
    "                'Required_Skill_2': research_area_data['skills']['Required_Skill_2'],\n",
    "                'Required_Skill_3': research_area_data['skills']['Required_Skill_3'],\n",
    "                'Required_Skill_4': research_area_data['skills']['Required_Skill_4'],\n",
    "                'Required_Skill_5': research_area_data['skills']['Required_Skill_5']\n",
    "            }\n",
    "            \n",
    "            try:\n",
    "                # 加载模板\n",
    "                doc = DocxTemplate(\"MS word template.docx\")\n",
    "                \n",
    "                # 渲染模板\n",
    "                doc.render(context)\n",
    "                \n",
    "                # 生成文件名（移除特殊字符）\n",
    "                safe_university_name = \"\".join(c for c in str(university) if c.isalnum() or c in (' ', '-', '_')).rstrip()\n",
    "                safe_research_area = research_area_data['research_area'].replace(' ', '_')\n",
    "                \n",
    "                # 保存Word文档\n",
    "                output_filename = f\"Application_{application_count:03d}_{safe_university_name}_{safe_research_area}.docx\"\n",
    "                output_path = os.path.join(output_dir, output_filename)\n",
    "                doc.save(output_path)\n",
    "                \n",
    "                generated_files.append(output_path)\n",
    "                print(f\"✓ 已生成: {output_filename}\")\n",
    "                \n",
    "                # Windows系统PDF转换\n",
    "                if pdf_enabled:\n",
    "                    try:\n",
    "                        pdf_output_path = output_path.replace('.docx', '.pdf')\n",
    "                        convert(output_path, pdf_output_path)\n",
    "                        generated_files.append(pdf_output_path)\n",
    "                        print(f\"  ↳ PDF已生成: {output_filename.replace('.docx', '.pdf')}\")\n",
    "                    except Exception as e:\n",
    "                        print(f\"  ⚠ PDF转换失败: {e}\")\n",
    "                else:\n",
    "                    print(f\"  ℹ PDF转换未启用\")\n",
    "                    \n",
    "            except Exception as e:\n",
    "                print(f\"✗ 生成 {university} - {research_area_data['research_area']} 的申请信时出错: {e}\")\n",
    "                continue\n",
    "\n",
    "    print(f\"\\n🎉 完成！\")\n",
    "    print(f\"总共处理了 {len(all_universities)} 所大学 × {len(research_areas_data)} 个研究领域 = {application_count} 封申请信\")\n",
    "    print(f\"生成的文件保存在 '{output_dir}' 目录中\")\n",
    "    \n",
    "    # 显示生成的文件统计\n",
    "    word_files = [f for f in generated_files if f.endswith('.docx')]\n",
    "    pdf_files = [f for f in generated_files if f.endswith('.pdf')]\n",
    "    \n",
    "    print(f\"\\n📊 生成统计:\")\n",
    "    print(f\"  - Word文档: {len(word_files)} 个\")\n",
    "    print(f\"  - PDF文档: {len(pdf_files)} 个\")\n",
    "    print(f\"  - 总计: {len(generated_files)} 个文件\")\n",
    "    \n",
    "    return generated_files\n",
    "\n",
    "# 主程序\n",
    "if __name__ == \"__main__\":\n",
    "    # 首先创建Excel文件\n",
    "    print(\"=\" * 50) \n",
    "    print(\"开始执行申请信生成程序\")\n",
    "    print(\"=\" * 50)  \n",
    "    \n",
    "    # 创建Excel文件\n",
    "    create_university_excel()\n",
    "    create_research_areas_excel()\n",
    "    \n",
    "    print(\"\\n\" + \"=\" * 50)  \n",
    "    print(\"开始生成申请信\")\n",
    "    print(\"=\" * 50)  \n",
    "    \n",
    "    # 生成申请信\n",
    "    generated_files = generate_application_letters()\n",
    "    \n",
    "    print(\"\\n\" + \"=\" * 50)  \n",
    "    print(\"程序执行完毕\")\n",
    "    print(\"=\" * 50)  "
   ]
  },
  {
   "cell_type": "code",
   "execution_count": null,
   "id": "0cbb8421-10c3-4444-bfb4-fe0000a1c139",
   "metadata": {},
   "outputs": [],
   "source": []
  }
 ],
 "metadata": {
  "kernelspec": {
   "display_name": "Python 3 (ipykernel)",
   "language": "python",
   "name": "python3"
  },
  "language_info": {
   "codemirror_mode": {
    "name": "ipython",
    "version": 3
   },
   "file_extension": ".py",
   "mimetype": "text/x-python",
   "name": "python",
   "nbconvert_exporter": "python",
   "pygments_lexer": "ipython3",
   "version": "3.9.23"
  }
 },
 "nbformat": 4,
 "nbformat_minor": 5
}
