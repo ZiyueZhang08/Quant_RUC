{
 "cells": [
  {
   "cell_type": "markdown",
   "id": "72396fa5",
   "metadata": {},
   "source": [
    "## homework 3-3: Data Research"
   ]
  },
  {
   "cell_type": "markdown",
   "id": "5c3dd948",
   "metadata": {},
   "source": [
    "### load data"
   ]
  },
  {
   "cell_type": "code",
   "execution_count": null,
   "id": "31074d4d-d443-400a-a822-923f8b16f945",
   "metadata": {},
   "outputs": [],
   "source": [
    "%pip install pandas matplotlib numpy\n",
    "import pandas as pd\n",
    "import numpy as np\n",
    "import matplotlib.pyplot as plt\n",
    "import os"
   ]
  },
  {
   "cell_type": "markdown",
   "id": "c8324736",
   "metadata": {},
   "source": [
    "Please make sure folder contains:\n",
    "- dachang_rent.csv\n",
    "- dachang_sell.csv\n",
    "- majiaoqiao_rent.csv\n",
    "- majiaoqiao_sell.csv\n",
    "- yanjiao_rent.csv\n",
    "- yanjiao_sell.csv\n",
    "- yizhuang_rent.csv\n",
    "- yizhuang_sell.csv\n",
    "\n",
    "Though get_file_name(data_type,place) function can handle slightly different file name, it is still recommended to do so."
   ]
  },
  {
   "cell_type": "code",
   "execution_count": null,
   "id": "0fba964f-ea2c-4d73-99f8-fa3fe635e824",
   "metadata": {},
   "outputs": [],
   "source": [
    "place = [\"dachang\",\"yanjiao\",\"majiaoqiao\",\"yizhuang\"]\n",
    "data_type = [\"sell\",\"rent\"]\n",
    "\n",
    "def get_file_name(data_type,place):\n",
    "    \"\"\"\n",
    "    This function is used to match specific fiile by matching sub-string, \n",
    "    so that if group member offer different file_name, this code can still match file.\n",
    "    \"\"\"\n",
    "    try:\n",
    "        all_files = os.listdir()\n",
    "    except Exception as e:\n",
    "        print(f\"Error reading directory: {e}\")\n",
    "        return \"\"\n",
    "\n",
    "    matches = []\n",
    "    for filename in all_files:\n",
    "        # match file file: csv or txt\n",
    "        if not (filename.endswith('.csv') or filename.endswith('.txt')):\n",
    "            continue\n",
    "        # match place and type(sell or rent)\n",
    "        filename_lower = filename.lower()\n",
    "        if (data_type.lower() in filename_lower and \n",
    "            place.lower() in filename_lower):\n",
    "            matches.append(filename)\n",
    "    \n",
    "    return matches[0] if matches else \"\"\n",
    "\n",
    "# load .csv file to data[][]\n",
    "data = [[pd.DataFrame() for _ in range(len(place))] for _ in range(len(data_type))]\n",
    "\n",
    "for i in range(len(data_type)):\n",
    "    for j in range(len(place)):\n",
    "        # fill in the list\n",
    "        file_name = get_file_name(data_type[i],place[j])\n",
    "        data[i][j] = pd.read_csv(file_name)\n",
    "        print(f\"Loaded: {file_name} - Shape: {data[i][j].shape}\")\n",
    "\n",
    "        # check whether exist missing data\n",
    "        print(\"Missing data check:\")\n",
    "        # if in a row, even just one is missing, the row will be deleted\n",
    "        rows_with_any_missing = data[i][j].isnull().any(axis=1)\n",
    "        num_incomplete_rows = rows_with_any_missing.sum()\n",
    "        ratio_incomplete = num_incomplete_rows / len(data[i][j])\n",
    "        # if there exist too many missing data\n",
    "        if ratio_incomplete > 0.10:\n",
    "            print(f\"Warning: {ratio_incomplete:.1%} rows have missing data\")\n",
    "            print(\"Decision: Removing all incomplete rows despite high ratio, \" \n",
    "                \"as dataset only contains two critical columns (area and price/rent)\")\n",
    "            data[i][j] = data[i][j].dropna()\n",
    "        elif num_incomplete_rows > 0:    # if just few missing data\n",
    "            print(f\"Info: {num_incomplete_rows} rows contain missing data\")\n",
    "            print(\"Action: Removing incomplete rows to ensure data integrity\")\n",
    "            data[i][j] = data[i][j].dropna()\n",
    "        else:    # no data is missing\n",
    "            print(\"Info: No missing data found\")\n"
   ]
  },
  {
   "cell_type": "markdown",
   "id": "d5c16712",
   "metadata": {},
   "source": [
    "### raw data description: without moving outlier"
   ]
  },
  {
   "cell_type": "code",
   "execution_count": 3,
   "id": "664e9a7e",
   "metadata": {},
   "outputs": [],
   "source": [
    "# data description:\n",
    "def data_description(data):\n",
    "    print(f\"Sample size: {len(data)}\")\n",
    "    print(f\"Mean: {data.mean():.2f}\")\n",
    "    print(f\"Std:  {data.std():.2f}\")\n",
    "    print(f\"Min:  {data.min():.2f}\")\n",
    "    print(f\"25%:  {data.quantile(0.25):.2f}\")\n",
    "    print(f\"50%:  {data.median():.2f}\")\n",
    "    print(f\"75%:  {data.quantile(0.75):.2f}\")\n",
    "    print(f\"Max:  {data.max():.2f}\")"
   ]
  },
  {
   "cell_type": "code",
   "execution_count": null,
   "id": "60db2bb3",
   "metadata": {},
   "outputs": [],
   "source": [
    "\n",
    "for i in range(len(data_type)):\n",
    "    for j in range(len(place)):\n",
    "        current_type=data_type[i]\n",
    "        current_place=place[j]\n",
    "        # if data is rent, we need to calculate rent price per square\n",
    "        # also, we make sure price column is the same name\n",
    "        if current_type == \"rent\":\n",
    "            data[i][j]['price_per_m2'] = data[i][j]['rent_yuan_per_month'] / data[i][j]['area_sqm']\n",
    "        else:\n",
    "            data[i][j]['price_per_m2'] = data[i][j]['unit_price_yuan_per_sqm']\n",
    "\n",
    "        # house size data description:\n",
    "        print(f\"\\n{place[j]} {data_type[i]} house size description:\")\n",
    "        data_description(data[i][j]['area_sqm'])\n",
    "        \n",
    "        # price_per_m2 data description:\n",
    "        print(f\"\\n{place[j]} {data_type[i]} Price per m2 description:\")\n",
    "        data_description(data[i][j]['price_per_m2'])\n",
    "\n"
   ]
  },
  {
   "cell_type": "markdown",
   "id": "f2123f6b",
   "metadata": {},
   "source": [
    "### remove outlier\n",
    "adopt 3-sigma method to define outlier and remove it."
   ]
  },
  {
   "cell_type": "code",
   "execution_count": null,
   "id": "2324583a",
   "metadata": {},
   "outputs": [],
   "source": [
    "for i in range(len(data_type)):\n",
    "    for j in range(len(place)):\n",
    "        print(f\"process outlier {data_type[i]}_{place[j]}\")\n",
    "        \n",
    "        original_size = len(data[i][j])\n",
    "        # use 3-sigma rule in area_sqm\n",
    "        area_mean = data[i][j]['area_sqm'].mean()\n",
    "        area_std = data[i][j]['area_sqm'].std()\n",
    "        area_lower = area_mean - 3 * area_std\n",
    "        area_upper = area_mean + 3 * area_std\n",
    "        area_outliers = (data[i][j]['area_sqm'] < area_lower) | (data[i][j]['area_sqm'] > area_upper)\n",
    "\n",
    "        # use 3-sigma rule in price_per_m2\n",
    "        price_mean = data[i][j]['price_per_m2'].mean()\n",
    "        price_std = data[i][j]['price_per_m2'].std()\n",
    "        price_lower = price_mean - 3 * price_std\n",
    "        price_upper = price_mean + 3 * price_std\n",
    "        price_outliers = (data[i][j]['price_per_m2'] < price_lower) | (data[i][j]['price_per_m2'] > price_upper)\n",
    "\n",
    "        # area or price is outlier -> remove\n",
    "        outlier_mask = area_outliers | price_outliers\n",
    "        data[i][j] = data[i][j][~outlier_mask]\n",
    "        \n",
    "        # report how many data is removed\n",
    "        removed_count = original_size - len(data[i][j])\n",
    "        print(f\"Remaining data: {len(data[i][j])} rows\")\n",
    "        print(f\"Removal percentage: {removed_count/original_size:.1%}\")\n",
    "        print()"
   ]
  },
  {
   "cell_type": "markdown",
   "id": "6f791f06",
   "metadata": {},
   "source": [
    "### data description: after remove outlier"
   ]
  },
  {
   "cell_type": "code",
   "execution_count": null,
   "id": "6c3095ce",
   "metadata": {},
   "outputs": [],
   "source": [
    "for i in range(len(data_type)):\n",
    "    for j in range(len(place)):\n",
    "        current_place=place[j]\n",
    "        current_type=data_type[i]\n",
    "\n",
    "        # house size data description:\n",
    "        print(f\"\\n{place[j]} {data_type[i]} house size description:\")\n",
    "        data_description(data[i][j]['area_sqm'])\n",
    "        \n",
    "        # price_per_m2 data description:\n",
    "        print(f\"\\n{place[j]} {data_type[i]} Price per m2 description:\")\n",
    "        data_description(data[i][j]['price_per_m2'])"
   ]
  },
  {
   "cell_type": "markdown",
   "id": "9481e546",
   "metadata": {},
   "source": [
    "### calculate ratio"
   ]
  },
  {
   "cell_type": "code",
   "execution_count": null,
   "id": "2d51e887-f7c6-4dd2-8f44-d446f8f30fad",
   "metadata": {},
   "outputs": [],
   "source": [
    "ratios = []\n",
    "for j in range(4):\n",
    "    ratios.append(data[0][j]['price_per_m2'].median() / data[1][j]['price_per_m2'].median())"
   ]
  },
  {
   "cell_type": "markdown",
   "id": "d6887472-f6f0-4c76-857c-468902c10a17",
   "metadata": {},
   "source": [
    "#### draw images"
   ]
  },
  {
   "cell_type": "code",
   "execution_count": null,
   "id": "7e7daaa2-d738-40ed-a03a-b1bb2a6b5798",
   "metadata": {},
   "outputs": [],
   "source": [
    "def draw_ratio(ratios, title, place):\n",
    "    plt.figure(figsize=(8, 5))\n",
    "    bars = plt.bar(place, ratios)\n",
    "\n",
    "    plt.axhline(y=200, color='red', linestyle='--', label='Global Fair Value (200)')\n",
    "\n",
    "    plt.title(title)\n",
    "    plt.xlabel('Block')\n",
    "    plt.ylabel('Price to Rent Ratio')\n",
    "\n",
    "    for bar, ratio in zip(bars, ratios):\n",
    "        plt.text(bar.get_x() + bar.get_width()/2, bar.get_height() + 5, f'{ratio:.1f}', ha='center')\n",
    "\n",
    "    plt.legend()\n",
    "    plt.show()"
   ]
  },
  {
   "cell_type": "code",
   "execution_count": null,
   "id": "6d805b0a-8a33-4908-85d8-afdbd05558a1",
   "metadata": {},
   "outputs": [],
   "source": [
    "draw_ratio(ratios,'Figure A: Median Price to Rent Ratio for Each Block',place) "
   ]
  },
  {
   "cell_type": "markdown",
   "id": "19078032",
   "metadata": {},
   "source": [
    "## 3-4 Data Science Modeling (including plus model)"
   ]
  },
  {
   "cell_type": "markdown",
   "id": "4b17164e-4a86-4ae5-b4e6-ab0045617cec",
   "metadata": {},
   "source": [
    "ordinary model: sell/rent_beta=[area_sqm,place[0],place[1],place[2],place[3]]\n",
    "plus model: sell/rend_beta_plus=[area_sqm,area_sqm^2,place[0],place[1],place[2],place[3]"
   ]
  },
  {
   "cell_type": "code",
   "execution_count": null,
   "id": "01b0310b",
   "metadata": {},
   "outputs": [],
   "source": [
    "# ----- SELL -----\n",
    "sell_X      = np.empty((0,0))\n",
    "sell_X_plus = np.empty((0,0))\n",
    "sell_Y      = np.empty((0,1))\n",
    "n = len(data[0])\n",
    "\n",
    "for j in range(n):\n",
    "    area = data[0][j]['area_sqm'].to_numpy().reshape(-1,1)    # convert vector to matrix\n",
    "    area2 = area**2\n",
    "    rows = area.shape[0]\n",
    "    \n",
    "    sell_dummy = np.tile([1 if k==j else 0 for k in range(n)], (rows,1))\n",
    "\n",
    "    # basic model\n",
    "    D = np.hstack([area, sell_dummy])    # because cannot connect empty matrix\n",
    "    if sell_X.size == 0:\n",
    "        sell_X = D\n",
    "    else:\n",
    "        sell_X = np.vstack([sell_X, D])\n",
    "\n",
    "    # plus model\n",
    "    D_plus = np.hstack([area, area2, sell_dummy])\n",
    "    if sell_X_plus.size == 0:\n",
    "        sell_X_plus = D_plus\n",
    "    else:\n",
    "        sell_X_plus = np.vstack([sell_X_plus, D_plus])\n",
    "\n",
    "    # Y\n",
    "    Y = data[0][j]['price_per_m2'].to_numpy().reshape(-1,1)\n",
    "    if sell_Y.size == 0:\n",
    "        sell_Y = Y\n",
    "    else:\n",
    "        sell_Y = np.vstack([sell_Y, Y])\n",
    "\n",
    "# ----- RENT -----\n",
    "rent_X      = np.empty((0,0))\n",
    "rent_X_plus = np.empty((0,0))\n",
    "rent_Y      = np.empty((0,1))\n",
    "m = len(data[1])\n",
    "\n",
    "for j in range(m):\n",
    "    area = data[1][j]['area_sqm'].to_numpy().reshape(-1,1)\n",
    "    area2 = area**2\n",
    "    rows = area.shape[0]\n",
    "\n",
    "    rent_dummy = np.tile([1 if k==j else 0 for k in range(m)], (rows,1))\n",
    "\n",
    "    # basic model\n",
    "    D = np.hstack([area, rent_dummy])\n",
    "    if rent_X.size == 0:\n",
    "        rent_X = D\n",
    "    else:\n",
    "        rent_X = np.vstack([rent_X, D])\n",
    "\n",
    "    # plus model\n",
    "    D_plus = np.hstack([area, area2, rent_dummy])\n",
    "    if rent_X_plus.size == 0:\n",
    "        rent_X_plus = D_plus\n",
    "    else:\n",
    "        rent_X_plus = np.vstack([rent_X_plus, D_plus])\n",
    "\n",
    "    # Y\n",
    "    Y = data[1][j]['price_per_m2'].to_numpy().reshape(-1,1)\n",
    "    if rent_Y.size == 0:\n",
    "        rent_Y = Y\n",
    "    else:\n",
    "        rent_Y = np.vstack([rent_Y, Y])\n"
   ]
  },
  {
   "cell_type": "code",
   "execution_count": null,
   "id": "603cb456",
   "metadata": {},
   "outputs": [],
   "source": [
    "# OLS: directly use result (X'X)^(-1)X'Y\n",
    "sell_beta      = np.linalg.inv(sell_X.T @ sell_X) @ sell_X.T @ sell_Y\n",
    "sell_beta_plus = np.linalg.inv(sell_X_plus.T @ sell_X_plus) @ sell_X_plus.T @ sell_Y\n",
    "\n",
    "rent_beta      = np.linalg.inv(rent_X.T @ rent_X) @ rent_X.T @ rent_Y\n",
    "rent_beta_plus = np.linalg.inv(rent_X_plus.T @ rent_X_plus) @ rent_X_plus.T @ rent_Y\n",
    "\n",
    "print(\"sell beta:\", sell_beta)\n",
    "print(\"sell beta plus:\", sell_beta_plus)\n",
    "print(\"rent beta:\", rent_beta)\n",
    "print(\"rent beta plus:\", rent_beta_plus)"
   ]
  },
  {
   "cell_type": "markdown",
   "id": "7a383697-1dc5-4748-a4fa-3d06b6f81fef",
   "metadata": {},
   "source": [
    "## homework 3-5: comparison"
   ]
  },
  {
   "cell_type": "markdown",
   "id": "bc5e7ca5-b0a9-4e22-ba42-82663cb0aab5",
   "metadata": {},
   "source": [
    "1. according to econometrics theory, adding any independent variable (here is area^2), will always leads to higher R-square. Therefore, plus model of rent or sell has definitely higher R-square, but it's unknown whether plus model has higher adjusted R-square."
   ]
  },
  {
   "cell_type": "code",
   "execution_count": null,
   "id": "834e2d61-6863-4aff-a773-308249560bfa",
   "metadata": {},
   "outputs": [],
   "source": [
    "# calculate fitted value\n",
    "sell_hat      = (sell_X @ sell_beta).flatten()    # convert matrix to vector\n",
    "rent_hat      = (rent_X @ rent_beta).flatten()\n",
    "sell_hat_plus = (sell_X_plus @ sell_beta_plus).flatten()\n",
    "rent_hat_plus = (rent_X_plus @ rent_beta_plus).flatten()\n",
    "\n",
    "n = len(data[0])\n",
    "ratios_hat = np.full((n,), np.nan, dtype=float)\n",
    "ratios_hat_plus = np.full((n,), np.nan, dtype=float)\n",
    "sell_counts = np.zeros((n,), dtype=int)\n",
    "rent_counts = np.zeros((n,), dtype=int)\n",
    "\n",
    "# data structure:\n",
    "# rent/sell_X: [area, dummy_0, dummy_1, ...] -> dummy_offset = 1\n",
    "# rent/sell_X_plus: [area, area^2, dummy_0, dummy_1, ...] -> dummy_offset_plus = 2\n",
    "\n",
    "for j in range(n):\n",
    "    # basic sell model\n",
    "    sell_median = np.nan\n",
    "    if j < n:\n",
    "        col = 1 + j\n",
    "        if col < sell_X.shape[1]:\n",
    "            # 找到该 dummy 列为1的行索引（连续区间）\n",
    "            idxs = np.where(sell_X[:, col] == 1)[0]\n",
    "            if idxs.size > 0:\n",
    "                start = idxs[0]\n",
    "                end = idxs[-1] + 1  # 闭开区间 [start, end)\n",
    "                vals = sell_hat[start:end]\n",
    "                if vals.size > 0:\n",
    "                    sell_median = np.median(vals)\n",
    "                    sell_counts[j] = vals.size\n",
    "\n",
    "    # basic rent model\n",
    "    rent_median = np.nan\n",
    "    if j < n:\n",
    "        col_r = 1 + j\n",
    "        if col_r < rent_X.shape[1]:\n",
    "            idxs_r = np.where(rent_X[:, col_r] == 1)[0]\n",
    "            if idxs_r.size > 0:\n",
    "                start_r = idxs_r[0]\n",
    "                end_r = idxs_r[-1] + 1\n",
    "                vals_r = rent_hat[start_r:end_r]\n",
    "                if vals_r.size > 0:\n",
    "                    rent_median = np.median(vals_r)\n",
    "                    rent_counts[j] = vals_r.size\n",
    "\n",
    "    # calculate rations_hat\n",
    "    if (not np.isnan(sell_median)) and (not np.isnan(rent_median)) and (rent_median != 0):\n",
    "        ratios_hat[j] = sell_median / rent_median\n",
    "    else:\n",
    "        ratios_hat[j] = np.nan\n",
    "\n",
    "    # plus model\n",
    "    sell_median_p = np.nan\n",
    "    if j < n:\n",
    "        col_p = 2 + j\n",
    "        if col_p < sell_X_plus.shape[1]:\n",
    "            idxs_p = np.where(sell_X_plus[:, col_p] == 1)[0]\n",
    "            if idxs_p.size > 0:\n",
    "                start_p = idxs_p[0]\n",
    "                end_p = idxs_p[-1] + 1\n",
    "                vals_p = sell_hat_plus[start_p:end_p]\n",
    "                if vals_p.size > 0:\n",
    "                    sell_median_p = np.median(vals_p)\n",
    "\n",
    "    rent_median_p = np.nan\n",
    "    if j < n:\n",
    "        col_rp = 2 + j\n",
    "        if col_rp < rent_X_plus.shape[1]:\n",
    "            idxs_rp = np.where(rent_X_plus[:, col_rp] == 1)[0]\n",
    "            if idxs_rp.size > 0:\n",
    "                start_rp = idxs_rp[0]\n",
    "                end_rp = idxs_rp[-1] + 1\n",
    "                vals_rp = rent_hat_plus[start_rp:end_rp]\n",
    "                if vals_rp.size > 0:\n",
    "                    rent_median_p = np.median(vals_rp)\n",
    "\n",
    "    if (not np.isnan(sell_median_p)) and (not np.isnan(rent_median_p)) and (rent_median_p != 0):\n",
    "        ratios_hat_plus[j] = sell_median_p / rent_median_p\n",
    "    else:\n",
    "        ratios_hat_plus[j] = np.nan\n",
    "\n",
    "\n",
    "print(\"ratios_hat (base model)   :\", ratios_hat)\n",
    "print(\"ratios_hat_plus (plus model):\", ratios_hat_plus)"
   ]
  },
  {
   "cell_type": "code",
   "execution_count": null,
   "id": "0535d06d-306c-4fae-b1a2-a9db0fe6349b",
   "metadata": {},
   "outputs": [],
   "source": [
    "# draw Figure B\n",
    "draw_ratio(ratios_hat,'Figure B: Median Price to Rent Ratio with Basic Model',place)"
   ]
  },
  {
   "cell_type": "code",
   "execution_count": null,
   "id": "766fa3c7-30e3-4a6d-8d19-727712c864d7",
   "metadata": {},
   "outputs": [],
   "source": [
    "# draw Figure C\n",
    "draw_ratio(ratios_hat,'Figure C: Median Price to Rent Ratio with Plus Model',place)"
   ]
  },
  {
   "cell_type": "code",
   "execution_count": null,
   "id": "8ab4d042-6aa2-4d39-b415-7e29fb71dfac",
   "metadata": {},
   "outputs": [],
   "source": [
    "# error rete compareson\n",
    "error_base = np.sum(np.abs(ratios - ratios_hat))\n",
    "error_plus = np.sum(np.abs(ratios - ratios_hat_plus))\n",
    "\n",
    "print(\"Total absolute error (base model) :\", error_base)\n",
    "print(\"Total absolute error (plus model) :\", error_plus)\n",
    "\n",
    "if error_base < error_plus:\n",
    "    print(\"I prefer model 1/2 (base model)\")\n",
    "elif error_plus < error_base:\n",
    "    print(\"I prefer model 1+/2+ (plus model)\")\n",
    "else:\n",
    "    print(\"Both models perform equally\")\n"
   ]
  }
 ],
 "metadata": {
  "kernelspec": {
   "display_name": "Python 3 (ipykernel)",
   "language": "python",
   "name": "python3"
  },
  "language_info": {
   "codemirror_mode": {
    "name": "ipython",
    "version": 3
   },
   "file_extension": ".py",
   "mimetype": "text/x-python",
   "name": "python",
   "nbconvert_exporter": "python",
   "pygments_lexer": "ipython3",
   "version": "3.12.8"
  }
 },
 "nbformat": 4,
 "nbformat_minor": 5
}
