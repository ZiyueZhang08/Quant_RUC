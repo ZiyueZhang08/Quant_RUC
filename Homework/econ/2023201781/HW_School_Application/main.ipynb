{
 "cells": [
  {
   "cell_type": "code",
   "execution_count": 10,
   "id": "6eaa32bc-8c4d-4fb3-8a49-0ebb7a3a5be7",
   "metadata": {
    "scrolled": true
   },
   "outputs": [
    {
     "name": "stdout",
     "output_type": "stream",
     "text": [
      "Requirement already satisfied: pandas in c:\\users\\31616\\anaconda3\\lib\\site-packages (2.1.4)\n",
      "Requirement already satisfied: openpyxl in c:\\users\\31616\\anaconda3\\lib\\site-packages (3.0.10)\n",
      "Requirement already satisfied: docxtpl in c:\\users\\31616\\anaconda3\\lib\\site-packages (0.20.1)\n",
      "Requirement already satisfied: docx2pdf in c:\\users\\31616\\anaconda3\\lib\\site-packages (0.1.8)\n",
      "Requirement already satisfied: numpy<2,>=1.23.2 in c:\\users\\31616\\anaconda3\\lib\\site-packages (from pandas) (1.26.4)\n",
      "Requirement already satisfied: python-dateutil>=2.8.2 in c:\\users\\31616\\anaconda3\\lib\\site-packages (from pandas) (2.8.2)\n",
      "Requirement already satisfied: pytz>=2020.1 in c:\\users\\31616\\anaconda3\\lib\\site-packages (from pandas) (2023.3.post1)\n",
      "Requirement already satisfied: tzdata>=2022.1 in c:\\users\\31616\\anaconda3\\lib\\site-packages (from pandas) (2023.3)\n",
      "Requirement already satisfied: et_xmlfile in c:\\users\\31616\\anaconda3\\lib\\site-packages (from openpyxl) (1.1.0)\n",
      "Requirement already satisfied: python-docx>=1.1.1 in c:\\users\\31616\\anaconda3\\lib\\site-packages (from docxtpl) (1.2.0)\n",
      "Requirement already satisfied: docxcompose in c:\\users\\31616\\anaconda3\\lib\\site-packages (from docxtpl) (1.4.0)\n",
      "Requirement already satisfied: jinja2 in c:\\users\\31616\\anaconda3\\lib\\site-packages (from docxtpl) (3.1.3)\n",
      "Requirement already satisfied: lxml in c:\\users\\31616\\anaconda3\\lib\\site-packages (from docxtpl) (4.9.3)\n",
      "Requirement already satisfied: pywin32>=227 in c:\\users\\31616\\anaconda3\\lib\\site-packages (from docx2pdf) (305.1)\n",
      "Requirement already satisfied: tqdm>=4.41.0 in c:\\users\\31616\\anaconda3\\lib\\site-packages (from docx2pdf) (4.65.0)\n",
      "Requirement already satisfied: six>=1.5 in c:\\users\\31616\\anaconda3\\lib\\site-packages (from python-dateutil>=2.8.2->pandas) (1.16.0)\n",
      "Requirement already satisfied: typing_extensions>=4.9.0 in c:\\users\\31616\\anaconda3\\lib\\site-packages (from python-docx>=1.1.1->docxtpl) (4.9.0)\n",
      "Requirement already satisfied: colorama in c:\\users\\31616\\anaconda3\\lib\\site-packages (from tqdm>=4.41.0->docx2pdf) (0.4.6)\n",
      "Requirement already satisfied: setuptools in c:\\users\\31616\\anaconda3\\lib\\site-packages (from docxcompose->docxtpl) (68.2.2)\n",
      "Requirement already satisfied: babel in c:\\users\\31616\\anaconda3\\lib\\site-packages (from docxcompose->docxtpl) (2.11.0)\n",
      "Requirement already satisfied: MarkupSafe>=2.0 in c:\\users\\31616\\anaconda3\\lib\\site-packages (from jinja2->docxtpl) (2.1.3)\n",
      "Note: you may need to restart the kernel to use updated packages.\n"
     ]
    }
   ],
   "source": [
    "pip install pandas openpyxl docxtpl docx2pdf"
   ]
  },
  {
   "cell_type": "code",
   "execution_count": 11,
   "id": "0ff952a9-b508-4f97-b48d-28151a946996",
   "metadata": {},
   "outputs": [],
   "source": [
    "from docx2pdf import convert"
   ]
  },
  {
   "cell_type": "code",
   "execution_count": 12,
   "id": "37eaa27c-e9a1-4fe5-9feb-ffacb0da31cc",
   "metadata": {},
   "outputs": [
    {
     "name": "stdout",
     "output_type": "stream",
     "text": [
      "C:\\Users\\31616\\zPython_econ\\Grad_Application_Generator\\HW_School_Application\n"
     ]
    }
   ],
   "source": [
    "import os\n",
    "print(os.getcwd())"
   ]
  },
  {
   "cell_type": "code",
   "execution_count": 13,
   "id": "a9911738-58d2-435e-910c-2b00cbd1574b",
   "metadata": {},
   "outputs": [],
   "source": [
    "# 导入我们需要的库\n",
    "import pandas as pd\n",
    "from docxtpl import DocxTemplate\n",
    "import os\n",
    "import time"
   ]
  },
  {
   "cell_type": "code",
   "execution_count": 14,
   "id": "ed71223d-db37-4d6f-996f-8ef0123a836a",
   "metadata": {},
   "outputs": [],
   "source": [
    "# --- 1. 定义一些基本信息和文件路径 ---\n",
    "# 你的个人信息\n",
    "MY_NAME = \"Jackson\"\n",
    "CAREER_GOAL = \"quant researcher\" # 你的职业目标\n",
    "\n",
    "# 文件和目录路径\n",
    "TEMPLATE_PATH = \"template.docx\"\n",
    "DATA_PATH = \"data.xlsx\"\n",
    "OUTPUT_DIR = \"HW_School_Application\"\n",
    "\n",
    "# 创建输出文件夹 (如果它不存在的话)\n",
    "os.makedirs(OUTPUT_DIR, exist_ok=True)"
   ]
  },
  {
   "cell_type": "code",
   "execution_count": 15,
   "id": "97bb8ffd-58dc-4727-af8c-e85fa2058888",
   "metadata": {},
   "outputs": [],
   "source": [
    "# --- 2. 读取 Excel 数据 ---\n",
    "# 使用 pandas 读取 Universities 工作表\n",
    "df_unis = pd.read_excel(DATA_PATH, sheet_name=\"Universities\")\n",
    "\n",
    "# 读取 ResearchInterests 工作表\n",
    "df_research = pd.read_excel(DATA_PATH, sheet_name=\"ResearchInterests\")\n"
   ]
  },
  {
   "cell_type": "code",
   "execution_count": 18,
   "id": "da330bab-21ea-4001-aa04-f64a8258bcb5",
   "metadata": {},
   "outputs": [
    {
     "name": "stdout",
     "output_type": "stream",
     "text": [
      "成功生成: HW_School_Application/SOP_Department_of_Economics,_Harvard_UniversityCambridge,_Massachusetts_(USA)_Finance.docx\n"
     ]
    },
    {
     "data": {
      "application/vnd.jupyter.widget-view+json": {
       "model_id": "18a6b728681247e4b97542e4f467affc",
       "version_major": 2,
       "version_minor": 0
      },
      "text/plain": [
       "  0%|          | 0/1 [00:00<?, ?it/s]"
      ]
     },
     "metadata": {},
     "output_type": "display_data"
    },
    {
     "name": "stdout",
     "output_type": "stream",
     "text": [
      "成功转换为 PDF: HW_School_Application/SOP_Department_of_Economics,_Harvard_UniversityCambridge,_Massachusetts_(USA)_Finance.pdf\n",
      "成功生成: HW_School_Application/SOP_Department_of_Economics,_Harvard_UniversityCambridge,_Massachusetts_(USA)_Economics.docx\n"
     ]
    },
    {
     "data": {
      "application/vnd.jupyter.widget-view+json": {
       "model_id": "1a7d473107e24b1cb29a6ba80f173ae7",
       "version_major": 2,
       "version_minor": 0
      },
      "text/plain": [
       "  0%|          | 0/1 [00:00<?, ?it/s]"
      ]
     },
     "metadata": {},
     "output_type": "display_data"
    },
    {
     "name": "stdout",
     "output_type": "stream",
     "text": [
      "成功转换为 PDF: HW_School_Application/SOP_Department_of_Economics,_Harvard_UniversityCambridge,_Massachusetts_(USA)_Economics.pdf\n",
      "成功生成: HW_School_Application/SOP_Department_of_Economics,_Harvard_UniversityCambridge,_Massachusetts_(USA)_Account.docx\n"
     ]
    },
    {
     "data": {
      "application/vnd.jupyter.widget-view+json": {
       "model_id": "28e302b984cd47238688d413d8cdfc3c",
       "version_major": 2,
       "version_minor": 0
      },
      "text/plain": [
       "  0%|          | 0/1 [00:00<?, ?it/s]"
      ]
     },
     "metadata": {},
     "output_type": "display_data"
    },
    {
     "name": "stdout",
     "output_type": "stream",
     "text": [
      "成功转换为 PDF: HW_School_Application/SOP_Department_of_Economics,_Harvard_UniversityCambridge,_Massachusetts_(USA)_Account.pdf\n",
      "成功生成: HW_School_Application/SOP_Economics_Department,_Massachusetts_Institute_of_Technology_(MIT)Cambridge,_Massachusetts_(USA)_Finance.docx\n"
     ]
    },
    {
     "data": {
      "application/vnd.jupyter.widget-view+json": {
       "model_id": "50c29059f1244f6e8bf4ed3c12ce811f",
       "version_major": 2,
       "version_minor": 0
      },
      "text/plain": [
       "  0%|          | 0/1 [00:00<?, ?it/s]"
      ]
     },
     "metadata": {},
     "output_type": "display_data"
    },
    {
     "name": "stdout",
     "output_type": "stream",
     "text": [
      "成功转换为 PDF: HW_School_Application/SOP_Economics_Department,_Massachusetts_Institute_of_Technology_(MIT)Cambridge,_Massachusetts_(USA)_Finance.pdf\n",
      "成功生成: HW_School_Application/SOP_Economics_Department,_Massachusetts_Institute_of_Technology_(MIT)Cambridge,_Massachusetts_(USA)_Economics.docx\n"
     ]
    },
    {
     "data": {
      "application/vnd.jupyter.widget-view+json": {
       "model_id": "69d8b78e31044832b81ff68bfe48f155",
       "version_major": 2,
       "version_minor": 0
      },
      "text/plain": [
       "  0%|          | 0/1 [00:00<?, ?it/s]"
      ]
     },
     "metadata": {},
     "output_type": "display_data"
    },
    {
     "name": "stdout",
     "output_type": "stream",
     "text": [
      "成功转换为 PDF: HW_School_Application/SOP_Economics_Department,_Massachusetts_Institute_of_Technology_(MIT)Cambridge,_Massachusetts_(USA)_Economics.pdf\n",
      "成功生成: HW_School_Application/SOP_Economics_Department,_Massachusetts_Institute_of_Technology_(MIT)Cambridge,_Massachusetts_(USA)_Account.docx\n"
     ]
    },
    {
     "data": {
      "application/vnd.jupyter.widget-view+json": {
       "model_id": "388e31fd393e47e6b29dd63bb9317595",
       "version_major": 2,
       "version_minor": 0
      },
      "text/plain": [
       "  0%|          | 0/1 [00:00<?, ?it/s]"
      ]
     },
     "metadata": {},
     "output_type": "display_data"
    },
    {
     "name": "stdout",
     "output_type": "stream",
     "text": [
      "成功转换为 PDF: HW_School_Application/SOP_Economics_Department,_Massachusetts_Institute_of_Technology_(MIT)Cambridge,_Massachusetts_(USA)_Account.pdf\n",
      "成功生成: HW_School_Application/SOP_Department_of_Economics,_University_of_California-BerkeleyBerkeley,_California_(USA)_Finance.docx\n"
     ]
    },
    {
     "data": {
      "application/vnd.jupyter.widget-view+json": {
       "model_id": "ab9219e975c84e7cb3307d5387438a57",
       "version_major": 2,
       "version_minor": 0
      },
      "text/plain": [
       "  0%|          | 0/1 [00:00<?, ?it/s]"
      ]
     },
     "metadata": {},
     "output_type": "display_data"
    },
    {
     "name": "stdout",
     "output_type": "stream",
     "text": [
      "成功转换为 PDF: HW_School_Application/SOP_Department_of_Economics,_University_of_California-BerkeleyBerkeley,_California_(USA)_Finance.pdf\n",
      "成功生成: HW_School_Application/SOP_Department_of_Economics,_University_of_California-BerkeleyBerkeley,_California_(USA)_Economics.docx\n"
     ]
    },
    {
     "data": {
      "application/vnd.jupyter.widget-view+json": {
       "model_id": "5124803324074145838ab6e117262342",
       "version_major": 2,
       "version_minor": 0
      },
      "text/plain": [
       "  0%|          | 0/1 [00:00<?, ?it/s]"
      ]
     },
     "metadata": {},
     "output_type": "display_data"
    },
    {
     "name": "stdout",
     "output_type": "stream",
     "text": [
      "成功转换为 PDF: HW_School_Application/SOP_Department_of_Economics,_University_of_California-BerkeleyBerkeley,_California_(USA)_Economics.pdf\n",
      "成功生成: HW_School_Application/SOP_Department_of_Economics,_University_of_California-BerkeleyBerkeley,_California_(USA)_Account.docx\n"
     ]
    },
    {
     "data": {
      "application/vnd.jupyter.widget-view+json": {
       "model_id": "78d09fa63c484d2688a2d195142563e5",
       "version_major": 2,
       "version_minor": 0
      },
      "text/plain": [
       "  0%|          | 0/1 [00:00<?, ?it/s]"
      ]
     },
     "metadata": {},
     "output_type": "display_data"
    },
    {
     "name": "stdout",
     "output_type": "stream",
     "text": [
      "成功转换为 PDF: HW_School_Application/SOP_Department_of_Economics,_University_of_California-BerkeleyBerkeley,_California_(USA)_Account.pdf\n",
      "成功生成: HW_School_Application/SOP_Department_of_Economics,_University_of_ChicagoChicago,_Illinois_(USA)_Finance.docx\n"
     ]
    },
    {
     "data": {
      "application/vnd.jupyter.widget-view+json": {
       "model_id": "fed61ebf873447f6bb837f106e1e8363",
       "version_major": 2,
       "version_minor": 0
      },
      "text/plain": [
       "  0%|          | 0/1 [00:00<?, ?it/s]"
      ]
     },
     "metadata": {},
     "output_type": "display_data"
    },
    {
     "name": "stdout",
     "output_type": "stream",
     "text": [
      "成功转换为 PDF: HW_School_Application/SOP_Department_of_Economics,_University_of_ChicagoChicago,_Illinois_(USA)_Finance.pdf\n",
      "成功生成: HW_School_Application/SOP_Department_of_Economics,_University_of_ChicagoChicago,_Illinois_(USA)_Economics.docx\n"
     ]
    },
    {
     "data": {
      "application/vnd.jupyter.widget-view+json": {
       "model_id": "78919bfdcaff47b094a077147421e7d7",
       "version_major": 2,
       "version_minor": 0
      },
      "text/plain": [
       "  0%|          | 0/1 [00:00<?, ?it/s]"
      ]
     },
     "metadata": {},
     "output_type": "display_data"
    },
    {
     "name": "stdout",
     "output_type": "stream",
     "text": [
      "成功转换为 PDF: HW_School_Application/SOP_Department_of_Economics,_University_of_ChicagoChicago,_Illinois_(USA)_Economics.pdf\n",
      "成功生成: HW_School_Application/SOP_Department_of_Economics,_University_of_ChicagoChicago,_Illinois_(USA)_Account.docx\n"
     ]
    },
    {
     "data": {
      "application/vnd.jupyter.widget-view+json": {
       "model_id": "4ecd64d70e7a4cb484bfd59f553a7b04",
       "version_major": 2,
       "version_minor": 0
      },
      "text/plain": [
       "  0%|          | 0/1 [00:00<?, ?it/s]"
      ]
     },
     "metadata": {},
     "output_type": "display_data"
    },
    {
     "name": "stdout",
     "output_type": "stream",
     "text": [
      "成功转换为 PDF: HW_School_Application/SOP_Department_of_Economics,_University_of_ChicagoChicago,_Illinois_(USA)_Account.pdf\n",
      "成功生成: HW_School_Application/SOP_Paris_School_of_EconomicsParis,_France_Finance.docx\n"
     ]
    },
    {
     "data": {
      "application/vnd.jupyter.widget-view+json": {
       "model_id": "4ede36ea3c9c40b4a3da7729c3564176",
       "version_major": 2,
       "version_minor": 0
      },
      "text/plain": [
       "  0%|          | 0/1 [00:00<?, ?it/s]"
      ]
     },
     "metadata": {},
     "output_type": "display_data"
    },
    {
     "name": "stdout",
     "output_type": "stream",
     "text": [
      "成功转换为 PDF: HW_School_Application/SOP_Paris_School_of_EconomicsParis,_France_Finance.pdf\n",
      "成功生成: HW_School_Application/SOP_Paris_School_of_EconomicsParis,_France_Economics.docx\n"
     ]
    },
    {
     "data": {
      "application/vnd.jupyter.widget-view+json": {
       "model_id": "2df0bf6f43b74b12ab6a4e71a14ffea5",
       "version_major": 2,
       "version_minor": 0
      },
      "text/plain": [
       "  0%|          | 0/1 [00:00<?, ?it/s]"
      ]
     },
     "metadata": {},
     "output_type": "display_data"
    },
    {
     "name": "stdout",
     "output_type": "stream",
     "text": [
      "成功转换为 PDF: HW_School_Application/SOP_Paris_School_of_EconomicsParis,_France_Economics.pdf\n",
      "成功生成: HW_School_Application/SOP_Paris_School_of_EconomicsParis,_France_Account.docx\n"
     ]
    },
    {
     "data": {
      "application/vnd.jupyter.widget-view+json": {
       "model_id": "ec502786056a4fab94f6bde54edc2766",
       "version_major": 2,
       "version_minor": 0
      },
      "text/plain": [
       "  0%|          | 0/1 [00:00<?, ?it/s]"
      ]
     },
     "metadata": {},
     "output_type": "display_data"
    },
    {
     "name": "stdout",
     "output_type": "stream",
     "text": [
      "成功转换为 PDF: HW_School_Application/SOP_Paris_School_of_EconomicsParis,_France_Account.pdf\n",
      "成功生成: HW_School_Application/SOP_Department_of_Economics,_Princeton_UniversityPrinceton,_New_Jersey_(USA)_Finance.docx\n"
     ]
    },
    {
     "data": {
      "application/vnd.jupyter.widget-view+json": {
       "model_id": "b2d03c0df80641c8a5dba4046811c396",
       "version_major": 2,
       "version_minor": 0
      },
      "text/plain": [
       "  0%|          | 0/1 [00:00<?, ?it/s]"
      ]
     },
     "metadata": {},
     "output_type": "display_data"
    },
    {
     "name": "stdout",
     "output_type": "stream",
     "text": [
      "成功转换为 PDF: HW_School_Application/SOP_Department_of_Economics,_Princeton_UniversityPrinceton,_New_Jersey_(USA)_Finance.pdf\n",
      "成功生成: HW_School_Application/SOP_Department_of_Economics,_Princeton_UniversityPrinceton,_New_Jersey_(USA)_Economics.docx\n"
     ]
    },
    {
     "data": {
      "application/vnd.jupyter.widget-view+json": {
       "model_id": "518bac5c03c549b4842a1d8ceb6e4c6c",
       "version_major": 2,
       "version_minor": 0
      },
      "text/plain": [
       "  0%|          | 0/1 [00:00<?, ?it/s]"
      ]
     },
     "metadata": {},
     "output_type": "display_data"
    },
    {
     "name": "stdout",
     "output_type": "stream",
     "text": [
      "成功转换为 PDF: HW_School_Application/SOP_Department_of_Economics,_Princeton_UniversityPrinceton,_New_Jersey_(USA)_Economics.pdf\n",
      "成功生成: HW_School_Application/SOP_Department_of_Economics,_Princeton_UniversityPrinceton,_New_Jersey_(USA)_Account.docx\n"
     ]
    },
    {
     "data": {
      "application/vnd.jupyter.widget-view+json": {
       "model_id": "fd15d30d36804f76af404fa1525b146d",
       "version_major": 2,
       "version_minor": 0
      },
      "text/plain": [
       "  0%|          | 0/1 [00:00<?, ?it/s]"
      ]
     },
     "metadata": {},
     "output_type": "display_data"
    },
    {
     "name": "stdout",
     "output_type": "stream",
     "text": [
      "成功转换为 PDF: HW_School_Application/SOP_Department_of_Economics,_Princeton_UniversityPrinceton,_New_Jersey_(USA)_Account.pdf\n",
      "成功生成: HW_School_Application/SOP_Department_of_Economics,_Stanford_UniversityStanford,_California_(USA)_Finance.docx\n"
     ]
    },
    {
     "data": {
      "application/vnd.jupyter.widget-view+json": {
       "model_id": "c6341c3ec5ee4f02b3eb69c02c8a065f",
       "version_major": 2,
       "version_minor": 0
      },
      "text/plain": [
       "  0%|          | 0/1 [00:00<?, ?it/s]"
      ]
     },
     "metadata": {},
     "output_type": "display_data"
    },
    {
     "name": "stdout",
     "output_type": "stream",
     "text": [
      "成功转换为 PDF: HW_School_Application/SOP_Department_of_Economics,_Stanford_UniversityStanford,_California_(USA)_Finance.pdf\n",
      "成功生成: HW_School_Application/SOP_Department_of_Economics,_Stanford_UniversityStanford,_California_(USA)_Economics.docx\n"
     ]
    },
    {
     "data": {
      "application/vnd.jupyter.widget-view+json": {
       "model_id": "94a96186e3a443a58cf40f5315cef3de",
       "version_major": 2,
       "version_minor": 0
      },
      "text/plain": [
       "  0%|          | 0/1 [00:00<?, ?it/s]"
      ]
     },
     "metadata": {},
     "output_type": "display_data"
    },
    {
     "name": "stdout",
     "output_type": "stream",
     "text": [
      "成功转换为 PDF: HW_School_Application/SOP_Department_of_Economics,_Stanford_UniversityStanford,_California_(USA)_Economics.pdf\n",
      "成功生成: HW_School_Application/SOP_Department_of_Economics,_Stanford_UniversityStanford,_California_(USA)_Account.docx\n"
     ]
    },
    {
     "data": {
      "application/vnd.jupyter.widget-view+json": {
       "model_id": "4e7865a8a15946318fbbe0b0c1bcb1a5",
       "version_major": 2,
       "version_minor": 0
      },
      "text/plain": [
       "  0%|          | 0/1 [00:00<?, ?it/s]"
      ]
     },
     "metadata": {},
     "output_type": "display_data"
    },
    {
     "name": "stdout",
     "output_type": "stream",
     "text": [
      "成功转换为 PDF: HW_School_Application/SOP_Department_of_Economics,_Stanford_UniversityStanford,_California_(USA)_Account.pdf\n",
      "成功生成: HW_School_Application/SOP_Economics_Department,_Yale_UniversityNew_Haven,_Connecticut_(USA)_Finance.docx\n"
     ]
    },
    {
     "data": {
      "application/vnd.jupyter.widget-view+json": {
       "model_id": "dc745f6c4109428b9b2d870a33e9f2ac",
       "version_major": 2,
       "version_minor": 0
      },
      "text/plain": [
       "  0%|          | 0/1 [00:00<?, ?it/s]"
      ]
     },
     "metadata": {},
     "output_type": "display_data"
    },
    {
     "name": "stdout",
     "output_type": "stream",
     "text": [
      "成功转换为 PDF: HW_School_Application/SOP_Economics_Department,_Yale_UniversityNew_Haven,_Connecticut_(USA)_Finance.pdf\n",
      "成功生成: HW_School_Application/SOP_Economics_Department,_Yale_UniversityNew_Haven,_Connecticut_(USA)_Economics.docx\n"
     ]
    },
    {
     "data": {
      "application/vnd.jupyter.widget-view+json": {
       "model_id": "870ba1660ce54bb893667308c7f229d8",
       "version_major": 2,
       "version_minor": 0
      },
      "text/plain": [
       "  0%|          | 0/1 [00:00<?, ?it/s]"
      ]
     },
     "metadata": {},
     "output_type": "display_data"
    },
    {
     "name": "stdout",
     "output_type": "stream",
     "text": [
      "成功转换为 PDF: HW_School_Application/SOP_Economics_Department,_Yale_UniversityNew_Haven,_Connecticut_(USA)_Economics.pdf\n",
      "成功生成: HW_School_Application/SOP_Economics_Department,_Yale_UniversityNew_Haven,_Connecticut_(USA)_Account.docx\n"
     ]
    },
    {
     "data": {
      "application/vnd.jupyter.widget-view+json": {
       "model_id": "c3e9fc5b8d434c60ac1a922b33a6163e",
       "version_major": 2,
       "version_minor": 0
      },
      "text/plain": [
       "  0%|          | 0/1 [00:00<?, ?it/s]"
      ]
     },
     "metadata": {},
     "output_type": "display_data"
    },
    {
     "name": "stdout",
     "output_type": "stream",
     "text": [
      "成功转换为 PDF: HW_School_Application/SOP_Economics_Department,_Yale_UniversityNew_Haven,_Connecticut_(USA)_Account.pdf\n",
      "成功生成: HW_School_Application/SOP_Toulouse_School_of_Economics_(TSE)Toulouse,_France_Finance.docx\n"
     ]
    },
    {
     "data": {
      "application/vnd.jupyter.widget-view+json": {
       "model_id": "72e92ac64d814849a65f5515e7fd57b2",
       "version_major": 2,
       "version_minor": 0
      },
      "text/plain": [
       "  0%|          | 0/1 [00:00<?, ?it/s]"
      ]
     },
     "metadata": {},
     "output_type": "display_data"
    },
    {
     "name": "stdout",
     "output_type": "stream",
     "text": [
      "成功转换为 PDF: HW_School_Application/SOP_Toulouse_School_of_Economics_(TSE)Toulouse,_France_Finance.pdf\n",
      "成功生成: HW_School_Application/SOP_Toulouse_School_of_Economics_(TSE)Toulouse,_France_Economics.docx\n"
     ]
    },
    {
     "data": {
      "application/vnd.jupyter.widget-view+json": {
       "model_id": "122ccfceb7f448a6b0feeeee9b4180cb",
       "version_major": 2,
       "version_minor": 0
      },
      "text/plain": [
       "  0%|          | 0/1 [00:00<?, ?it/s]"
      ]
     },
     "metadata": {},
     "output_type": "display_data"
    },
    {
     "name": "stdout",
     "output_type": "stream",
     "text": [
      "成功转换为 PDF: HW_School_Application/SOP_Toulouse_School_of_Economics_(TSE)Toulouse,_France_Economics.pdf\n",
      "成功生成: HW_School_Application/SOP_Toulouse_School_of_Economics_(TSE)Toulouse,_France_Account.docx\n"
     ]
    },
    {
     "data": {
      "application/vnd.jupyter.widget-view+json": {
       "model_id": "6a21416830ad4117b54d5404db15e171",
       "version_major": 2,
       "version_minor": 0
      },
      "text/plain": [
       "  0%|          | 0/1 [00:00<?, ?it/s]"
      ]
     },
     "metadata": {},
     "output_type": "display_data"
    },
    {
     "name": "stdout",
     "output_type": "stream",
     "text": [
      "成功转换为 PDF: HW_School_Application/SOP_Toulouse_School_of_Economics_(TSE)Toulouse,_France_Account.pdf\n",
      "成功生成: HW_School_Application/SOP_Department_of_Economics,_Oxford_UniversityOxford,_United_Kingdom_Finance.docx\n"
     ]
    },
    {
     "data": {
      "application/vnd.jupyter.widget-view+json": {
       "model_id": "4388aa58676b4e31b63394ae74374d46",
       "version_major": 2,
       "version_minor": 0
      },
      "text/plain": [
       "  0%|          | 0/1 [00:00<?, ?it/s]"
      ]
     },
     "metadata": {},
     "output_type": "display_data"
    },
    {
     "name": "stdout",
     "output_type": "stream",
     "text": [
      "成功转换为 PDF: HW_School_Application/SOP_Department_of_Economics,_Oxford_UniversityOxford,_United_Kingdom_Finance.pdf\n",
      "成功生成: HW_School_Application/SOP_Department_of_Economics,_Oxford_UniversityOxford,_United_Kingdom_Economics.docx\n"
     ]
    },
    {
     "data": {
      "application/vnd.jupyter.widget-view+json": {
       "model_id": "a47b1adf54f243379fddb1d7f878e562",
       "version_major": 2,
       "version_minor": 0
      },
      "text/plain": [
       "  0%|          | 0/1 [00:00<?, ?it/s]"
      ]
     },
     "metadata": {},
     "output_type": "display_data"
    },
    {
     "name": "stdout",
     "output_type": "stream",
     "text": [
      "成功转换为 PDF: HW_School_Application/SOP_Department_of_Economics,_Oxford_UniversityOxford,_United_Kingdom_Economics.pdf\n",
      "成功生成: HW_School_Application/SOP_Department_of_Economics,_Oxford_UniversityOxford,_United_Kingdom_Account.docx\n"
     ]
    },
    {
     "data": {
      "application/vnd.jupyter.widget-view+json": {
       "model_id": "b6c7313d0ef648e48d13f3537b9309db",
       "version_major": 2,
       "version_minor": 0
      },
      "text/plain": [
       "  0%|          | 0/1 [00:00<?, ?it/s]"
      ]
     },
     "metadata": {},
     "output_type": "display_data"
    },
    {
     "name": "stdout",
     "output_type": "stream",
     "text": [
      "成功转换为 PDF: HW_School_Application/SOP_Department_of_Economics,_Oxford_UniversityOxford,_United_Kingdom_Account.pdf\n",
      "成功生成: HW_School_Application/SOP_Finance_and_Economics_Department,_Graduate_School_of_Business,_Columbia_UniversityNew_York_City,_New_York_(USA)_Finance.docx\n"
     ]
    },
    {
     "data": {
      "application/vnd.jupyter.widget-view+json": {
       "model_id": "a84d17158b3e47debc6113c4def8ccce",
       "version_major": 2,
       "version_minor": 0
      },
      "text/plain": [
       "  0%|          | 0/1 [00:00<?, ?it/s]"
      ]
     },
     "metadata": {},
     "output_type": "display_data"
    },
    {
     "name": "stdout",
     "output_type": "stream",
     "text": [
      "成功转换为 PDF: HW_School_Application/SOP_Finance_and_Economics_Department,_Graduate_School_of_Business,_Columbia_UniversityNew_York_City,_New_York_(USA)_Finance.pdf\n",
      "成功生成: HW_School_Application/SOP_Finance_and_Economics_Department,_Graduate_School_of_Business,_Columbia_UniversityNew_York_City,_New_York_(USA)_Economics.docx\n"
     ]
    },
    {
     "data": {
      "application/vnd.jupyter.widget-view+json": {
       "model_id": "ce06f591134441d8bac3d60e7ad018d1",
       "version_major": 2,
       "version_minor": 0
      },
      "text/plain": [
       "  0%|          | 0/1 [00:00<?, ?it/s]"
      ]
     },
     "metadata": {},
     "output_type": "display_data"
    },
    {
     "name": "stdout",
     "output_type": "stream",
     "text": [
      "成功转换为 PDF: HW_School_Application/SOP_Finance_and_Economics_Department,_Graduate_School_of_Business,_Columbia_UniversityNew_York_City,_New_York_(USA)_Economics.pdf\n",
      "成功生成: HW_School_Application/SOP_Finance_and_Economics_Department,_Graduate_School_of_Business,_Columbia_UniversityNew_York_City,_New_York_(USA)_Account.docx\n"
     ]
    },
    {
     "data": {
      "application/vnd.jupyter.widget-view+json": {
       "model_id": "ab8514a094464fc797d7a46400bbd955",
       "version_major": 2,
       "version_minor": 0
      },
      "text/plain": [
       "  0%|          | 0/1 [00:00<?, ?it/s]"
      ]
     },
     "metadata": {},
     "output_type": "display_data"
    },
    {
     "name": "stdout",
     "output_type": "stream",
     "text": [
      "成功转换为 PDF: HW_School_Application/SOP_Finance_and_Economics_Department,_Graduate_School_of_Business,_Columbia_UniversityNew_York_City,_New_York_(USA)_Account.pdf\n",
      "成功生成: HW_School_Application/SOP_Faculty_of_Economics,_University_of_CambridgeCambridge,_United_Kingdom_Finance.docx\n"
     ]
    },
    {
     "data": {
      "application/vnd.jupyter.widget-view+json": {
       "model_id": "fdc12cd8524940de9165b70a698ec873",
       "version_major": 2,
       "version_minor": 0
      },
      "text/plain": [
       "  0%|          | 0/1 [00:00<?, ?it/s]"
      ]
     },
     "metadata": {},
     "output_type": "display_data"
    },
    {
     "name": "stdout",
     "output_type": "stream",
     "text": [
      "成功转换为 PDF: HW_School_Application/SOP_Faculty_of_Economics,_University_of_CambridgeCambridge,_United_Kingdom_Finance.pdf\n",
      "成功生成: HW_School_Application/SOP_Faculty_of_Economics,_University_of_CambridgeCambridge,_United_Kingdom_Economics.docx\n"
     ]
    },
    {
     "data": {
      "application/vnd.jupyter.widget-view+json": {
       "model_id": "3c69000cc9b6475c920c6f8be848b13a",
       "version_major": 2,
       "version_minor": 0
      },
      "text/plain": [
       "  0%|          | 0/1 [00:00<?, ?it/s]"
      ]
     },
     "metadata": {},
     "output_type": "display_data"
    },
    {
     "name": "stdout",
     "output_type": "stream",
     "text": [
      "成功转换为 PDF: HW_School_Application/SOP_Faculty_of_Economics,_University_of_CambridgeCambridge,_United_Kingdom_Economics.pdf\n",
      "成功生成: HW_School_Application/SOP_Faculty_of_Economics,_University_of_CambridgeCambridge,_United_Kingdom_Account.docx\n"
     ]
    },
    {
     "data": {
      "application/vnd.jupyter.widget-view+json": {
       "model_id": "b375e2c9869c423ebd97020d3c937e9c",
       "version_major": 2,
       "version_minor": 0
      },
      "text/plain": [
       "  0%|          | 0/1 [00:00<?, ?it/s]"
      ]
     },
     "metadata": {},
     "output_type": "display_data"
    },
    {
     "name": "stdout",
     "output_type": "stream",
     "text": [
      "成功转换为 PDF: HW_School_Application/SOP_Faculty_of_Economics,_University_of_CambridgeCambridge,_United_Kingdom_Account.pdf\n",
      "成功生成: HW_School_Application/SOP_Department_of_Economics,_Boston_CollegeChestnut_Hill,_Massachusetts_(USA)_Finance.docx\n"
     ]
    },
    {
     "data": {
      "application/vnd.jupyter.widget-view+json": {
       "model_id": "7aa00fdf47ef446f9398326ea2616189",
       "version_major": 2,
       "version_minor": 0
      },
      "text/plain": [
       "  0%|          | 0/1 [00:00<?, ?it/s]"
      ]
     },
     "metadata": {},
     "output_type": "display_data"
    },
    {
     "name": "stdout",
     "output_type": "stream",
     "text": [
      "成功转换为 PDF: HW_School_Application/SOP_Department_of_Economics,_Boston_CollegeChestnut_Hill,_Massachusetts_(USA)_Finance.pdf\n",
      "成功生成: HW_School_Application/SOP_Department_of_Economics,_Boston_CollegeChestnut_Hill,_Massachusetts_(USA)_Economics.docx\n"
     ]
    },
    {
     "data": {
      "application/vnd.jupyter.widget-view+json": {
       "model_id": "c66a1e5c2c9b4f95ae6ecd456ab6e028",
       "version_major": 2,
       "version_minor": 0
      },
      "text/plain": [
       "  0%|          | 0/1 [00:00<?, ?it/s]"
      ]
     },
     "metadata": {},
     "output_type": "display_data"
    },
    {
     "name": "stdout",
     "output_type": "stream",
     "text": [
      "成功转换为 PDF: HW_School_Application/SOP_Department_of_Economics,_Boston_CollegeChestnut_Hill,_Massachusetts_(USA)_Economics.pdf\n",
      "成功生成: HW_School_Application/SOP_Department_of_Economics,_Boston_CollegeChestnut_Hill,_Massachusetts_(USA)_Account.docx\n"
     ]
    },
    {
     "data": {
      "application/vnd.jupyter.widget-view+json": {
       "model_id": "5aa8b25e9a634823ad1e3b88fd6b42c8",
       "version_major": 2,
       "version_minor": 0
      },
      "text/plain": [
       "  0%|          | 0/1 [00:00<?, ?it/s]"
      ]
     },
     "metadata": {},
     "output_type": "display_data"
    },
    {
     "name": "stdout",
     "output_type": "stream",
     "text": [
      "成功转换为 PDF: HW_School_Application/SOP_Department_of_Economics,_Boston_CollegeChestnut_Hill,_Massachusetts_(USA)_Account.pdf\n",
      "成功生成: HW_School_Application/SOP_Department_of_Economics,_University_of_TorontoToronto,_Canada_Finance.docx\n"
     ]
    },
    {
     "data": {
      "application/vnd.jupyter.widget-view+json": {
       "model_id": "93f43e243dd8435eb50ae58c1b3b1652",
       "version_major": 2,
       "version_minor": 0
      },
      "text/plain": [
       "  0%|          | 0/1 [00:00<?, ?it/s]"
      ]
     },
     "metadata": {},
     "output_type": "display_data"
    },
    {
     "name": "stdout",
     "output_type": "stream",
     "text": [
      "成功转换为 PDF: HW_School_Application/SOP_Department_of_Economics,_University_of_TorontoToronto,_Canada_Finance.pdf\n",
      "成功生成: HW_School_Application/SOP_Department_of_Economics,_University_of_TorontoToronto,_Canada_Economics.docx\n"
     ]
    },
    {
     "data": {
      "application/vnd.jupyter.widget-view+json": {
       "model_id": "9315c0cfdf75454ab9acadbbbb01d942",
       "version_major": 2,
       "version_minor": 0
      },
      "text/plain": [
       "  0%|          | 0/1 [00:00<?, ?it/s]"
      ]
     },
     "metadata": {},
     "output_type": "display_data"
    },
    {
     "name": "stdout",
     "output_type": "stream",
     "text": [
      "成功转换为 PDF: HW_School_Application/SOP_Department_of_Economics,_University_of_TorontoToronto,_Canada_Economics.pdf\n",
      "成功生成: HW_School_Application/SOP_Department_of_Economics,_University_of_TorontoToronto,_Canada_Account.docx\n"
     ]
    },
    {
     "data": {
      "application/vnd.jupyter.widget-view+json": {
       "model_id": "63f62294690f4ea991c57b3e2079c2e7",
       "version_major": 2,
       "version_minor": 0
      },
      "text/plain": [
       "  0%|          | 0/1 [00:00<?, ?it/s]"
      ]
     },
     "metadata": {},
     "output_type": "display_data"
    },
    {
     "name": "stdout",
     "output_type": "stream",
     "text": [
      "成功转换为 PDF: HW_School_Application/SOP_Department_of_Economics,_University_of_TorontoToronto,_Canada_Account.pdf\n",
      "成功生成: HW_School_Application/SOP_Department_of_Economics,_University_of_WarwickCoventry,_United_Kingdom_Finance.docx\n"
     ]
    },
    {
     "data": {
      "application/vnd.jupyter.widget-view+json": {
       "model_id": "6e055602dd2d40afacd50e948c6033ce",
       "version_major": 2,
       "version_minor": 0
      },
      "text/plain": [
       "  0%|          | 0/1 [00:00<?, ?it/s]"
      ]
     },
     "metadata": {},
     "output_type": "display_data"
    },
    {
     "name": "stdout",
     "output_type": "stream",
     "text": [
      "成功转换为 PDF: HW_School_Application/SOP_Department_of_Economics,_University_of_WarwickCoventry,_United_Kingdom_Finance.pdf\n",
      "成功生成: HW_School_Application/SOP_Department_of_Economics,_University_of_WarwickCoventry,_United_Kingdom_Economics.docx\n"
     ]
    },
    {
     "data": {
      "application/vnd.jupyter.widget-view+json": {
       "model_id": "713601996d4c4bd59d240b0c356dc9aa",
       "version_major": 2,
       "version_minor": 0
      },
      "text/plain": [
       "  0%|          | 0/1 [00:00<?, ?it/s]"
      ]
     },
     "metadata": {},
     "output_type": "display_data"
    },
    {
     "name": "stdout",
     "output_type": "stream",
     "text": [
      "成功转换为 PDF: HW_School_Application/SOP_Department_of_Economics,_University_of_WarwickCoventry,_United_Kingdom_Economics.pdf\n",
      "成功生成: HW_School_Application/SOP_Department_of_Economics,_University_of_WarwickCoventry,_United_Kingdom_Account.docx\n"
     ]
    },
    {
     "data": {
      "application/vnd.jupyter.widget-view+json": {
       "model_id": "c875b59a2b6345e787f0187da297c8cf",
       "version_major": 2,
       "version_minor": 0
      },
      "text/plain": [
       "  0%|          | 0/1 [00:00<?, ?it/s]"
      ]
     },
     "metadata": {},
     "output_type": "display_data"
    },
    {
     "name": "stdout",
     "output_type": "stream",
     "text": [
      "成功转换为 PDF: HW_School_Application/SOP_Department_of_Economics,_University_of_WarwickCoventry,_United_Kingdom_Account.pdf\n",
      "成功生成: HW_School_Application/SOP_Department_of_Economics,_Cornell_UniversityIthaca,_New_York_(USA)_Finance.docx\n"
     ]
    },
    {
     "data": {
      "application/vnd.jupyter.widget-view+json": {
       "model_id": "72ed1bde24f54550b4e7fd56d7b8ddd9",
       "version_major": 2,
       "version_minor": 0
      },
      "text/plain": [
       "  0%|          | 0/1 [00:00<?, ?it/s]"
      ]
     },
     "metadata": {},
     "output_type": "display_data"
    },
    {
     "name": "stdout",
     "output_type": "stream",
     "text": [
      "成功转换为 PDF: HW_School_Application/SOP_Department_of_Economics,_Cornell_UniversityIthaca,_New_York_(USA)_Finance.pdf\n",
      "成功生成: HW_School_Application/SOP_Department_of_Economics,_Cornell_UniversityIthaca,_New_York_(USA)_Economics.docx\n"
     ]
    },
    {
     "data": {
      "application/vnd.jupyter.widget-view+json": {
       "model_id": "0311eab7ef9e49b78b45a8ec112993b6",
       "version_major": 2,
       "version_minor": 0
      },
      "text/plain": [
       "  0%|          | 0/1 [00:00<?, ?it/s]"
      ]
     },
     "metadata": {},
     "output_type": "display_data"
    },
    {
     "name": "stdout",
     "output_type": "stream",
     "text": [
      "成功转换为 PDF: HW_School_Application/SOP_Department_of_Economics,_Cornell_UniversityIthaca,_New_York_(USA)_Economics.pdf\n",
      "成功生成: HW_School_Application/SOP_Department_of_Economics,_Cornell_UniversityIthaca,_New_York_(USA)_Account.docx\n"
     ]
    },
    {
     "data": {
      "application/vnd.jupyter.widget-view+json": {
       "model_id": "830cfd7c9ef8403599468c4be5b2f288",
       "version_major": 2,
       "version_minor": 0
      },
      "text/plain": [
       "  0%|          | 0/1 [00:00<?, ?it/s]"
      ]
     },
     "metadata": {},
     "output_type": "display_data"
    },
    {
     "name": "stdout",
     "output_type": "stream",
     "text": [
      "成功转换为 PDF: HW_School_Application/SOP_Department_of_Economics,_Cornell_UniversityIthaca,_New_York_(USA)_Account.pdf\n",
      "成功生成: HW_School_Application/SOP_Economics_Department,_University_of_California-DavisDavis,_California_(USA)_Finance.docx\n"
     ]
    },
    {
     "data": {
      "application/vnd.jupyter.widget-view+json": {
       "model_id": "21e5ab0dafc54aa78886c28dd853f927",
       "version_major": 2,
       "version_minor": 0
      },
      "text/plain": [
       "  0%|          | 0/1 [00:00<?, ?it/s]"
      ]
     },
     "metadata": {},
     "output_type": "display_data"
    },
    {
     "name": "stdout",
     "output_type": "stream",
     "text": [
      "成功转换为 PDF: HW_School_Application/SOP_Economics_Department,_University_of_California-DavisDavis,_California_(USA)_Finance.pdf\n",
      "成功生成: HW_School_Application/SOP_Economics_Department,_University_of_California-DavisDavis,_California_(USA)_Economics.docx\n"
     ]
    },
    {
     "data": {
      "application/vnd.jupyter.widget-view+json": {
       "model_id": "b35a53aa58ab4e24861ceb9b4704dfba",
       "version_major": 2,
       "version_minor": 0
      },
      "text/plain": [
       "  0%|          | 0/1 [00:00<?, ?it/s]"
      ]
     },
     "metadata": {},
     "output_type": "display_data"
    },
    {
     "name": "stdout",
     "output_type": "stream",
     "text": [
      "成功转换为 PDF: HW_School_Application/SOP_Economics_Department,_University_of_California-DavisDavis,_California_(USA)_Economics.pdf\n",
      "成功生成: HW_School_Application/SOP_Economics_Department,_University_of_California-DavisDavis,_California_(USA)_Account.docx\n"
     ]
    },
    {
     "data": {
      "application/vnd.jupyter.widget-view+json": {
       "model_id": "80ae75e86f0641a1bab344ed8e3e3aa8",
       "version_major": 2,
       "version_minor": 0
      },
      "text/plain": [
       "  0%|          | 0/1 [00:00<?, ?it/s]"
      ]
     },
     "metadata": {},
     "output_type": "display_data"
    },
    {
     "name": "stdout",
     "output_type": "stream",
     "text": [
      "成功转换为 PDF: HW_School_Application/SOP_Economics_Department,_University_of_California-DavisDavis,_California_(USA)_Account.pdf\n",
      "成功生成: HW_School_Application/SOP_Faculteit_Economie_en_Bedrijfskunde,_Rijksuniversiteit_GroningenGroningen,_Netherlands_Finance.docx\n"
     ]
    },
    {
     "data": {
      "application/vnd.jupyter.widget-view+json": {
       "model_id": "c444c91aee94407081fb6627e44c51f4",
       "version_major": 2,
       "version_minor": 0
      },
      "text/plain": [
       "  0%|          | 0/1 [00:00<?, ?it/s]"
      ]
     },
     "metadata": {},
     "output_type": "display_data"
    },
    {
     "name": "stdout",
     "output_type": "stream",
     "text": [
      "成功转换为 PDF: HW_School_Application/SOP_Faculteit_Economie_en_Bedrijfskunde,_Rijksuniversiteit_GroningenGroningen,_Netherlands_Finance.pdf\n",
      "成功生成: HW_School_Application/SOP_Faculteit_Economie_en_Bedrijfskunde,_Rijksuniversiteit_GroningenGroningen,_Netherlands_Economics.docx\n"
     ]
    },
    {
     "data": {
      "application/vnd.jupyter.widget-view+json": {
       "model_id": "d344e7069bb84d29b82a9be6737ae8d0",
       "version_major": 2,
       "version_minor": 0
      },
      "text/plain": [
       "  0%|          | 0/1 [00:00<?, ?it/s]"
      ]
     },
     "metadata": {},
     "output_type": "display_data"
    },
    {
     "name": "stdout",
     "output_type": "stream",
     "text": [
      "成功转换为 PDF: HW_School_Application/SOP_Faculteit_Economie_en_Bedrijfskunde,_Rijksuniversiteit_GroningenGroningen,_Netherlands_Economics.pdf\n",
      "成功生成: HW_School_Application/SOP_Faculteit_Economie_en_Bedrijfskunde,_Rijksuniversiteit_GroningenGroningen,_Netherlands_Account.docx\n"
     ]
    },
    {
     "data": {
      "application/vnd.jupyter.widget-view+json": {
       "model_id": "eeee5719cedf4a5088b355262583ab11",
       "version_major": 2,
       "version_minor": 0
      },
      "text/plain": [
       "  0%|          | 0/1 [00:00<?, ?it/s]"
      ]
     },
     "metadata": {},
     "output_type": "display_data"
    },
    {
     "name": "stdout",
     "output_type": "stream",
     "text": [
      "成功转换为 PDF: HW_School_Application/SOP_Faculteit_Economie_en_Bedrijfskunde,_Rijksuniversiteit_GroningenGroningen,_Netherlands_Account.pdf\n",
      "成功生成: HW_School_Application/SOP_Department_of_Economics,_Johns_Hopkins_UniversityBaltimore,_Maryland_(USA)_Finance.docx\n"
     ]
    },
    {
     "data": {
      "application/vnd.jupyter.widget-view+json": {
       "model_id": "0c581315358849349ec5df9d57bbc78b",
       "version_major": 2,
       "version_minor": 0
      },
      "text/plain": [
       "  0%|          | 0/1 [00:00<?, ?it/s]"
      ]
     },
     "metadata": {},
     "output_type": "display_data"
    },
    {
     "name": "stdout",
     "output_type": "stream",
     "text": [
      "成功转换为 PDF: HW_School_Application/SOP_Department_of_Economics,_Johns_Hopkins_UniversityBaltimore,_Maryland_(USA)_Finance.pdf\n",
      "成功生成: HW_School_Application/SOP_Department_of_Economics,_Johns_Hopkins_UniversityBaltimore,_Maryland_(USA)_Economics.docx\n"
     ]
    },
    {
     "data": {
      "application/vnd.jupyter.widget-view+json": {
       "model_id": "24a3bcffd5994b088107e106accf474e",
       "version_major": 2,
       "version_minor": 0
      },
      "text/plain": [
       "  0%|          | 0/1 [00:00<?, ?it/s]"
      ]
     },
     "metadata": {},
     "output_type": "display_data"
    },
    {
     "name": "stdout",
     "output_type": "stream",
     "text": [
      "成功转换为 PDF: HW_School_Application/SOP_Department_of_Economics,_Johns_Hopkins_UniversityBaltimore,_Maryland_(USA)_Economics.pdf\n",
      "成功生成: HW_School_Application/SOP_Department_of_Economics,_Johns_Hopkins_UniversityBaltimore,_Maryland_(USA)_Account.docx\n"
     ]
    },
    {
     "data": {
      "application/vnd.jupyter.widget-view+json": {
       "model_id": "b3750d4c66fa4a9b86356c820a389f2d",
       "version_major": 2,
       "version_minor": 0
      },
      "text/plain": [
       "  0%|          | 0/1 [00:00<?, ?it/s]"
      ]
     },
     "metadata": {},
     "output_type": "display_data"
    },
    {
     "name": "stdout",
     "output_type": "stream",
     "text": [
      "成功转换为 PDF: HW_School_Application/SOP_Department_of_Economics,_Johns_Hopkins_UniversityBaltimore,_Maryland_(USA)_Account.pdf\n",
      "成功生成: HW_School_Application/SOP_Dipartimento_di_Scienze_Economiche,_Alma_Mater_Studiorum_Finance.docx\n"
     ]
    },
    {
     "data": {
      "application/vnd.jupyter.widget-view+json": {
       "model_id": "88e8d22f082442558d849fd60d7b9a61",
       "version_major": 2,
       "version_minor": 0
      },
      "text/plain": [
       "  0%|          | 0/1 [00:00<?, ?it/s]"
      ]
     },
     "metadata": {},
     "output_type": "display_data"
    },
    {
     "name": "stdout",
     "output_type": "stream",
     "text": [
      "成功转换为 PDF: HW_School_Application/SOP_Dipartimento_di_Scienze_Economiche,_Alma_Mater_Studiorum_Finance.pdf\n",
      "成功生成: HW_School_Application/SOP_Dipartimento_di_Scienze_Economiche,_Alma_Mater_Studiorum_Economics.docx\n"
     ]
    },
    {
     "data": {
      "application/vnd.jupyter.widget-view+json": {
       "model_id": "13b6f3d8730e44f48b4ccd64304846b4",
       "version_major": 2,
       "version_minor": 0
      },
      "text/plain": [
       "  0%|          | 0/1 [00:00<?, ?it/s]"
      ]
     },
     "metadata": {},
     "output_type": "display_data"
    },
    {
     "name": "stdout",
     "output_type": "stream",
     "text": [
      "成功转换为 PDF: HW_School_Application/SOP_Dipartimento_di_Scienze_Economiche,_Alma_Mater_Studiorum_Economics.pdf\n",
      "成功生成: HW_School_Application/SOP_Dipartimento_di_Scienze_Economiche,_Alma_Mater_Studiorum_Account.docx\n"
     ]
    },
    {
     "data": {
      "application/vnd.jupyter.widget-view+json": {
       "model_id": "cf6c259c001e4f5aa62f8f3cd72101ac",
       "version_major": 2,
       "version_minor": 0
      },
      "text/plain": [
       "  0%|          | 0/1 [00:00<?, ?it/s]"
      ]
     },
     "metadata": {},
     "output_type": "display_data"
    },
    {
     "name": "stdout",
     "output_type": "stream",
     "text": [
      "成功转换为 PDF: HW_School_Application/SOP_Dipartimento_di_Scienze_Economiche,_Alma_Mater_Studiorum_Account.pdf\n",
      "成功生成: HW_School_Application/SOP_Department_of_Economics,_University_of_VirginiaCharlottesville,_Virginia_(USA)_Finance.docx\n"
     ]
    },
    {
     "data": {
      "application/vnd.jupyter.widget-view+json": {
       "model_id": "530e1d598be84cdeb9bea6c57a9dbf78",
       "version_major": 2,
       "version_minor": 0
      },
      "text/plain": [
       "  0%|          | 0/1 [00:00<?, ?it/s]"
      ]
     },
     "metadata": {},
     "output_type": "display_data"
    },
    {
     "name": "stdout",
     "output_type": "stream",
     "text": [
      "成功转换为 PDF: HW_School_Application/SOP_Department_of_Economics,_University_of_VirginiaCharlottesville,_Virginia_(USA)_Finance.pdf\n",
      "成功生成: HW_School_Application/SOP_Department_of_Economics,_University_of_VirginiaCharlottesville,_Virginia_(USA)_Economics.docx\n"
     ]
    },
    {
     "data": {
      "application/vnd.jupyter.widget-view+json": {
       "model_id": "434e3742110046818b3533d073a8e966",
       "version_major": 2,
       "version_minor": 0
      },
      "text/plain": [
       "  0%|          | 0/1 [00:00<?, ?it/s]"
      ]
     },
     "metadata": {},
     "output_type": "display_data"
    },
    {
     "name": "stdout",
     "output_type": "stream",
     "text": [
      "成功转换为 PDF: HW_School_Application/SOP_Department_of_Economics,_University_of_VirginiaCharlottesville,_Virginia_(USA)_Economics.pdf\n",
      "成功生成: HW_School_Application/SOP_Department_of_Economics,_University_of_VirginiaCharlottesville,_Virginia_(USA)_Account.docx\n"
     ]
    },
    {
     "data": {
      "application/vnd.jupyter.widget-view+json": {
       "model_id": "ba1f31e7187f45b4a49d3ddd8a1e1c9c",
       "version_major": 2,
       "version_minor": 0
      },
      "text/plain": [
       "  0%|          | 0/1 [00:00<?, ?it/s]"
      ]
     },
     "metadata": {},
     "output_type": "display_data"
    },
    {
     "name": "stdout",
     "output_type": "stream",
     "text": [
      "成功转换为 PDF: HW_School_Application/SOP_Department_of_Economics,_University_of_VirginiaCharlottesville,_Virginia_(USA)_Account.pdf\n",
      "成功生成: HW_School_Application/SOP_College_of_Business_and_Economics,_Australian_National_UniversityCanberra,_Australia_Finance.docx\n"
     ]
    },
    {
     "data": {
      "application/vnd.jupyter.widget-view+json": {
       "model_id": "a8dec48f9a754beaa65a2eac0d20ff29",
       "version_major": 2,
       "version_minor": 0
      },
      "text/plain": [
       "  0%|          | 0/1 [00:00<?, ?it/s]"
      ]
     },
     "metadata": {},
     "output_type": "display_data"
    },
    {
     "name": "stdout",
     "output_type": "stream",
     "text": [
      "成功转换为 PDF: HW_School_Application/SOP_College_of_Business_and_Economics,_Australian_National_UniversityCanberra,_Australia_Finance.pdf\n",
      "成功生成: HW_School_Application/SOP_College_of_Business_and_Economics,_Australian_National_UniversityCanberra,_Australia_Economics.docx\n"
     ]
    },
    {
     "data": {
      "application/vnd.jupyter.widget-view+json": {
       "model_id": "3d14b96e2e8a48858e242365f2c75512",
       "version_major": 2,
       "version_minor": 0
      },
      "text/plain": [
       "  0%|          | 0/1 [00:00<?, ?it/s]"
      ]
     },
     "metadata": {},
     "output_type": "display_data"
    },
    {
     "name": "stdout",
     "output_type": "stream",
     "text": [
      "成功转换为 PDF: HW_School_Application/SOP_College_of_Business_and_Economics,_Australian_National_UniversityCanberra,_Australia_Economics.pdf\n",
      "成功生成: HW_School_Application/SOP_College_of_Business_and_Economics,_Australian_National_UniversityCanberra,_Australia_Account.docx\n"
     ]
    },
    {
     "data": {
      "application/vnd.jupyter.widget-view+json": {
       "model_id": "194e4be6fcf0404da403f35a5fcd71e3",
       "version_major": 2,
       "version_minor": 0
      },
      "text/plain": [
       "  0%|          | 0/1 [00:00<?, ?it/s]"
      ]
     },
     "metadata": {},
     "output_type": "display_data"
    },
    {
     "name": "stdout",
     "output_type": "stream",
     "text": [
      "成功转换为 PDF: HW_School_Application/SOP_College_of_Business_and_Economics,_Australian_National_UniversityCanberra,_Australia_Account.pdf\n",
      "成功生成: HW_School_Application/SOP_Economics_Department,_Georgetown_UniversityWashington,_District_of_Columbia_(USA)_Finance.docx\n"
     ]
    },
    {
     "data": {
      "application/vnd.jupyter.widget-view+json": {
       "model_id": "fa632cb2502f40f0a65ee474ed5704ab",
       "version_major": 2,
       "version_minor": 0
      },
      "text/plain": [
       "  0%|          | 0/1 [00:00<?, ?it/s]"
      ]
     },
     "metadata": {},
     "output_type": "display_data"
    },
    {
     "name": "stdout",
     "output_type": "stream",
     "text": [
      "成功转换为 PDF: HW_School_Application/SOP_Economics_Department,_Georgetown_UniversityWashington,_District_of_Columbia_(USA)_Finance.pdf\n",
      "成功生成: HW_School_Application/SOP_Economics_Department,_Georgetown_UniversityWashington,_District_of_Columbia_(USA)_Economics.docx\n"
     ]
    },
    {
     "data": {
      "application/vnd.jupyter.widget-view+json": {
       "model_id": "34cf620eef704add87dd1d50bd88b285",
       "version_major": 2,
       "version_minor": 0
      },
      "text/plain": [
       "  0%|          | 0/1 [00:00<?, ?it/s]"
      ]
     },
     "metadata": {},
     "output_type": "display_data"
    },
    {
     "name": "stdout",
     "output_type": "stream",
     "text": [
      "成功转换为 PDF: HW_School_Application/SOP_Economics_Department,_Georgetown_UniversityWashington,_District_of_Columbia_(USA)_Economics.pdf\n",
      "成功生成: HW_School_Application/SOP_Economics_Department,_Georgetown_UniversityWashington,_District_of_Columbia_(USA)_Account.docx\n"
     ]
    },
    {
     "data": {
      "application/vnd.jupyter.widget-view+json": {
       "model_id": "61534a57c026422c98051f4b066fc7cb",
       "version_major": 2,
       "version_minor": 0
      },
      "text/plain": [
       "  0%|          | 0/1 [00:00<?, ?it/s]"
      ]
     },
     "metadata": {},
     "output_type": "display_data"
    },
    {
     "name": "stdout",
     "output_type": "stream",
     "text": [
      "成功转换为 PDF: HW_School_Application/SOP_Economics_Department,_Georgetown_UniversityWashington,_District_of_Columbia_(USA)_Account.pdf\n",
      "成功生成: HW_School_Application/SOP_Department_of_Economics,_University_of_MinnesotaMinneapolis,_Minnesota_(USA)_Finance.docx\n"
     ]
    },
    {
     "data": {
      "application/vnd.jupyter.widget-view+json": {
       "model_id": "92ed4a8563ea45a49cb18959350ecca4",
       "version_major": 2,
       "version_minor": 0
      },
      "text/plain": [
       "  0%|          | 0/1 [00:00<?, ?it/s]"
      ]
     },
     "metadata": {},
     "output_type": "display_data"
    },
    {
     "name": "stdout",
     "output_type": "stream",
     "text": [
      "成功转换为 PDF: HW_School_Application/SOP_Department_of_Economics,_University_of_MinnesotaMinneapolis,_Minnesota_(USA)_Finance.pdf\n",
      "成功生成: HW_School_Application/SOP_Department_of_Economics,_University_of_MinnesotaMinneapolis,_Minnesota_(USA)_Economics.docx\n"
     ]
    },
    {
     "data": {
      "application/vnd.jupyter.widget-view+json": {
       "model_id": "e70c2fd6d6a84a50ae5f3b04194322bb",
       "version_major": 2,
       "version_minor": 0
      },
      "text/plain": [
       "  0%|          | 0/1 [00:00<?, ?it/s]"
      ]
     },
     "metadata": {},
     "output_type": "display_data"
    },
    {
     "name": "stdout",
     "output_type": "stream",
     "text": [
      "成功转换为 PDF: HW_School_Application/SOP_Department_of_Economics,_University_of_MinnesotaMinneapolis,_Minnesota_(USA)_Economics.pdf\n",
      "成功生成: HW_School_Application/SOP_Department_of_Economics,_University_of_MinnesotaMinneapolis,_Minnesota_(USA)_Account.docx\n"
     ]
    },
    {
     "data": {
      "application/vnd.jupyter.widget-view+json": {
       "model_id": "bad09a2659bb4b85a6061311b2d9e896",
       "version_major": 2,
       "version_minor": 0
      },
      "text/plain": [
       "  0%|          | 0/1 [00:00<?, ?it/s]"
      ]
     },
     "metadata": {},
     "output_type": "display_data"
    },
    {
     "name": "stdout",
     "output_type": "stream",
     "text": [
      "成功转换为 PDF: HW_School_Application/SOP_Department_of_Economics,_University_of_MinnesotaMinneapolis,_Minnesota_(USA)_Account.pdf\n",
      "成功生成: HW_School_Application/SOP_Economics_Department,_Stern_School_of_Business,_New_York_University_(NYU)New_York_City,_New_York_(USA)_Finance.docx\n"
     ]
    },
    {
     "data": {
      "application/vnd.jupyter.widget-view+json": {
       "model_id": "99e926c68702465a9314f7646d4a26e0",
       "version_major": 2,
       "version_minor": 0
      },
      "text/plain": [
       "  0%|          | 0/1 [00:00<?, ?it/s]"
      ]
     },
     "metadata": {},
     "output_type": "display_data"
    },
    {
     "name": "stdout",
     "output_type": "stream",
     "text": [
      "成功转换为 PDF: HW_School_Application/SOP_Economics_Department,_Stern_School_of_Business,_New_York_University_(NYU)New_York_City,_New_York_(USA)_Finance.pdf\n",
      "成功生成: HW_School_Application/SOP_Economics_Department,_Stern_School_of_Business,_New_York_University_(NYU)New_York_City,_New_York_(USA)_Economics.docx\n"
     ]
    },
    {
     "data": {
      "application/vnd.jupyter.widget-view+json": {
       "model_id": "9220d5f24aa440b796082d6e0e4cb93d",
       "version_major": 2,
       "version_minor": 0
      },
      "text/plain": [
       "  0%|          | 0/1 [00:00<?, ?it/s]"
      ]
     },
     "metadata": {},
     "output_type": "display_data"
    },
    {
     "name": "stdout",
     "output_type": "stream",
     "text": [
      "成功转换为 PDF: HW_School_Application/SOP_Economics_Department,_Stern_School_of_Business,_New_York_University_(NYU)New_York_City,_New_York_(USA)_Economics.pdf\n",
      "成功生成: HW_School_Application/SOP_Economics_Department,_Stern_School_of_Business,_New_York_University_(NYU)New_York_City,_New_York_(USA)_Account.docx\n"
     ]
    },
    {
     "data": {
      "application/vnd.jupyter.widget-view+json": {
       "model_id": "73bc136f3efd4c2493743b81f276d159",
       "version_major": 2,
       "version_minor": 0
      },
      "text/plain": [
       "  0%|          | 0/1 [00:00<?, ?it/s]"
      ]
     },
     "metadata": {},
     "output_type": "display_data"
    },
    {
     "name": "stdout",
     "output_type": "stream",
     "text": [
      "成功转换为 PDF: HW_School_Application/SOP_Economics_Department,_Stern_School_of_Business,_New_York_University_(NYU)New_York_City,_New_York_(USA)_Account.pdf\n",
      "成功生成: HW_School_Application/SOP_Department_of_Economics,_University_of_California-Santa_Barbara_(UCSB)Santa_Barbara,_California_(USA)_Finance.docx\n"
     ]
    },
    {
     "data": {
      "application/vnd.jupyter.widget-view+json": {
       "model_id": "aa1d867144cf4987b8efa80bbe672f28",
       "version_major": 2,
       "version_minor": 0
      },
      "text/plain": [
       "  0%|          | 0/1 [00:00<?, ?it/s]"
      ]
     },
     "metadata": {},
     "output_type": "display_data"
    },
    {
     "name": "stdout",
     "output_type": "stream",
     "text": [
      "成功转换为 PDF: HW_School_Application/SOP_Department_of_Economics,_University_of_California-Santa_Barbara_(UCSB)Santa_Barbara,_California_(USA)_Finance.pdf\n",
      "成功生成: HW_School_Application/SOP_Department_of_Economics,_University_of_California-Santa_Barbara_(UCSB)Santa_Barbara,_California_(USA)_Economics.docx\n"
     ]
    },
    {
     "data": {
      "application/vnd.jupyter.widget-view+json": {
       "model_id": "9de547e9d6c449e0872e6d3821593caf",
       "version_major": 2,
       "version_minor": 0
      },
      "text/plain": [
       "  0%|          | 0/1 [00:00<?, ?it/s]"
      ]
     },
     "metadata": {},
     "output_type": "display_data"
    },
    {
     "name": "stdout",
     "output_type": "stream",
     "text": [
      "成功转换为 PDF: HW_School_Application/SOP_Department_of_Economics,_University_of_California-Santa_Barbara_(UCSB)Santa_Barbara,_California_(USA)_Economics.pdf\n",
      "成功生成: HW_School_Application/SOP_Department_of_Economics,_University_of_California-Santa_Barbara_(UCSB)Santa_Barbara,_California_(USA)_Account.docx\n"
     ]
    },
    {
     "data": {
      "application/vnd.jupyter.widget-view+json": {
       "model_id": "39828a9bf7804a4a882cce3934a17785",
       "version_major": 2,
       "version_minor": 0
      },
      "text/plain": [
       "  0%|          | 0/1 [00:00<?, ?it/s]"
      ]
     },
     "metadata": {},
     "output_type": "display_data"
    },
    {
     "name": "stdout",
     "output_type": "stream",
     "text": [
      "成功转换为 PDF: HW_School_Application/SOP_Department_of_Economics,_University_of_California-Santa_Barbara_(UCSB)Santa_Barbara,_California_(USA)_Account.pdf\n",
      "成功生成: HW_School_Application/SOP_Department_of_Economics,_Pennsylvania_State_UniversityState_College,_Pennsylvania_(USA)_Finance.docx\n"
     ]
    },
    {
     "data": {
      "application/vnd.jupyter.widget-view+json": {
       "model_id": "3344c26dfdc44ab8b49fa97f1e93f211",
       "version_major": 2,
       "version_minor": 0
      },
      "text/plain": [
       "  0%|          | 0/1 [00:00<?, ?it/s]"
      ]
     },
     "metadata": {},
     "output_type": "display_data"
    },
    {
     "name": "stdout",
     "output_type": "stream",
     "text": [
      "成功转换为 PDF: HW_School_Application/SOP_Department_of_Economics,_Pennsylvania_State_UniversityState_College,_Pennsylvania_(USA)_Finance.pdf\n",
      "成功生成: HW_School_Application/SOP_Department_of_Economics,_Pennsylvania_State_UniversityState_College,_Pennsylvania_(USA)_Economics.docx\n"
     ]
    },
    {
     "data": {
      "application/vnd.jupyter.widget-view+json": {
       "model_id": "30152cbf8b4a4688923e1f3d5d3f6a48",
       "version_major": 2,
       "version_minor": 0
      },
      "text/plain": [
       "  0%|          | 0/1 [00:00<?, ?it/s]"
      ]
     },
     "metadata": {},
     "output_type": "display_data"
    },
    {
     "name": "stdout",
     "output_type": "stream",
     "text": [
      "成功转换为 PDF: HW_School_Application/SOP_Department_of_Economics,_Pennsylvania_State_UniversityState_College,_Pennsylvania_(USA)_Economics.pdf\n",
      "成功生成: HW_School_Application/SOP_Department_of_Economics,_Pennsylvania_State_UniversityState_College,_Pennsylvania_(USA)_Account.docx\n"
     ]
    },
    {
     "data": {
      "application/vnd.jupyter.widget-view+json": {
       "model_id": "1fda0a9825ca46af9529ce08dc673c27",
       "version_major": 2,
       "version_minor": 0
      },
      "text/plain": [
       "  0%|          | 0/1 [00:00<?, ?it/s]"
      ]
     },
     "metadata": {},
     "output_type": "display_data"
    },
    {
     "name": "stdout",
     "output_type": "stream",
     "text": [
      "成功转换为 PDF: HW_School_Application/SOP_Department_of_Economics,_Pennsylvania_State_UniversityState_College,_Pennsylvania_(USA)_Account.pdf\n",
      "成功生成: HW_School_Application/SOP_Department_of_Economics,_Washington_University_in_St._LouisSt._Louis,_Missouri_(USA)_Finance.docx\n"
     ]
    },
    {
     "data": {
      "application/vnd.jupyter.widget-view+json": {
       "model_id": "4b8ef67c7657493b9975df49455dcc34",
       "version_major": 2,
       "version_minor": 0
      },
      "text/plain": [
       "  0%|          | 0/1 [00:00<?, ?it/s]"
      ]
     },
     "metadata": {},
     "output_type": "display_data"
    },
    {
     "name": "stdout",
     "output_type": "stream",
     "text": [
      "成功转换为 PDF: HW_School_Application/SOP_Department_of_Economics,_Washington_University_in_St._LouisSt._Louis,_Missouri_(USA)_Finance.pdf\n",
      "成功生成: HW_School_Application/SOP_Department_of_Economics,_Washington_University_in_St._LouisSt._Louis,_Missouri_(USA)_Economics.docx\n"
     ]
    },
    {
     "data": {
      "application/vnd.jupyter.widget-view+json": {
       "model_id": "eff3e636982b48c3a716c8d03bc454cd",
       "version_major": 2,
       "version_minor": 0
      },
      "text/plain": [
       "  0%|          | 0/1 [00:00<?, ?it/s]"
      ]
     },
     "metadata": {},
     "output_type": "display_data"
    },
    {
     "name": "stdout",
     "output_type": "stream",
     "text": [
      "成功转换为 PDF: HW_School_Application/SOP_Department_of_Economics,_Washington_University_in_St._LouisSt._Louis,_Missouri_(USA)_Economics.pdf\n",
      "成功生成: HW_School_Application/SOP_Department_of_Economics,_Washington_University_in_St._LouisSt._Louis,_Missouri_(USA)_Account.docx\n"
     ]
    },
    {
     "data": {
      "application/vnd.jupyter.widget-view+json": {
       "model_id": "aa1a5d3f784c40bdb4a797faa811458e",
       "version_major": 2,
       "version_minor": 0
      },
      "text/plain": [
       "  0%|          | 0/1 [00:00<?, ?it/s]"
      ]
     },
     "metadata": {},
     "output_type": "display_data"
    },
    {
     "name": "stdout",
     "output_type": "stream",
     "text": [
      "成功转换为 PDF: HW_School_Application/SOP_Department_of_Economics,_Washington_University_in_St._LouisSt._Louis,_Missouri_(USA)_Account.pdf\n",
      "成功生成: HW_School_Application/SOP_Department_of_Economics,_University_of_ColoradoBoulder,_Colorado_(USA)_Finance.docx\n"
     ]
    },
    {
     "data": {
      "application/vnd.jupyter.widget-view+json": {
       "model_id": "eebbabf7f6084893aa874a9e65707354",
       "version_major": 2,
       "version_minor": 0
      },
      "text/plain": [
       "  0%|          | 0/1 [00:00<?, ?it/s]"
      ]
     },
     "metadata": {},
     "output_type": "display_data"
    },
    {
     "name": "stdout",
     "output_type": "stream",
     "text": [
      "成功转换为 PDF: HW_School_Application/SOP_Department_of_Economics,_University_of_ColoradoBoulder,_Colorado_(USA)_Finance.pdf\n",
      "成功生成: HW_School_Application/SOP_Department_of_Economics,_University_of_ColoradoBoulder,_Colorado_(USA)_Economics.docx\n"
     ]
    },
    {
     "data": {
      "application/vnd.jupyter.widget-view+json": {
       "model_id": "26900eb278c442d9b45eff9107e4aca2",
       "version_major": 2,
       "version_minor": 0
      },
      "text/plain": [
       "  0%|          | 0/1 [00:00<?, ?it/s]"
      ]
     },
     "metadata": {},
     "output_type": "display_data"
    },
    {
     "name": "stdout",
     "output_type": "stream",
     "text": [
      "成功转换为 PDF: HW_School_Application/SOP_Department_of_Economics,_University_of_ColoradoBoulder,_Colorado_(USA)_Economics.pdf\n",
      "成功生成: HW_School_Application/SOP_Department_of_Economics,_University_of_ColoradoBoulder,_Colorado_(USA)_Account.docx\n"
     ]
    },
    {
     "data": {
      "application/vnd.jupyter.widget-view+json": {
       "model_id": "da4f291667d4440cb69914b51d225303",
       "version_major": 2,
       "version_minor": 0
      },
      "text/plain": [
       "  0%|          | 0/1 [00:00<?, ?it/s]"
      ]
     },
     "metadata": {},
     "output_type": "display_data"
    },
    {
     "name": "stdout",
     "output_type": "stream",
     "text": [
      "成功转换为 PDF: HW_School_Application/SOP_Department_of_Economics,_University_of_ColoradoBoulder,_Colorado_(USA)_Account.pdf\n",
      "成功生成: HW_School_Application/SOP_Department_of_Economics,_Rutgers_University-New_BrunswickNew_Brunswick,_New_Jersey_(USA)_Finance.docx\n"
     ]
    },
    {
     "data": {
      "application/vnd.jupyter.widget-view+json": {
       "model_id": "adf4ae5be37b4ffe96f7886e042a4968",
       "version_major": 2,
       "version_minor": 0
      },
      "text/plain": [
       "  0%|          | 0/1 [00:00<?, ?it/s]"
      ]
     },
     "metadata": {},
     "output_type": "display_data"
    },
    {
     "name": "stdout",
     "output_type": "stream",
     "text": [
      "成功转换为 PDF: HW_School_Application/SOP_Department_of_Economics,_Rutgers_University-New_BrunswickNew_Brunswick,_New_Jersey_(USA)_Finance.pdf\n",
      "成功生成: HW_School_Application/SOP_Department_of_Economics,_Rutgers_University-New_BrunswickNew_Brunswick,_New_Jersey_(USA)_Economics.docx\n"
     ]
    },
    {
     "data": {
      "application/vnd.jupyter.widget-view+json": {
       "model_id": "a47029df113d4f558323c7ddf7365778",
       "version_major": 2,
       "version_minor": 0
      },
      "text/plain": [
       "  0%|          | 0/1 [00:00<?, ?it/s]"
      ]
     },
     "metadata": {},
     "output_type": "display_data"
    },
    {
     "name": "stdout",
     "output_type": "stream",
     "text": [
      "成功转换为 PDF: HW_School_Application/SOP_Department_of_Economics,_Rutgers_University-New_BrunswickNew_Brunswick,_New_Jersey_(USA)_Economics.pdf\n",
      "成功生成: HW_School_Application/SOP_Department_of_Economics,_Rutgers_University-New_BrunswickNew_Brunswick,_New_Jersey_(USA)_Account.docx\n"
     ]
    },
    {
     "data": {
      "application/vnd.jupyter.widget-view+json": {
       "model_id": "016ac03678884facb47d779473cc991a",
       "version_major": 2,
       "version_minor": 0
      },
      "text/plain": [
       "  0%|          | 0/1 [00:00<?, ?it/s]"
      ]
     },
     "metadata": {},
     "output_type": "display_data"
    },
    {
     "name": "stdout",
     "output_type": "stream",
     "text": [
      "成功转换为 PDF: HW_School_Application/SOP_Department_of_Economics,_Rutgers_University-New_BrunswickNew_Brunswick,_New_Jersey_(USA)_Account.pdf\n",
      "\n",
      "🎉 全部90份文件生成完毕！\n"
     ]
    }
   ],
   "source": [
    "# --- 3. 循环生成文件 ---\n",
    "# 这是整个程序的核心逻辑！\n",
    "# 我们需要一个循环嵌套另一个循环，这样才能组合出 30 * 3 = 90 份文件\n",
    "\n",
    "# 外层循环：遍历每一所大学\n",
    "for index_uni, uni_row in df_unis.iterrows():\n",
    "    # 从大学数据中获取大学名称\n",
    "    university_name = uni_row['UniversityName']\n",
    "\n",
    "    # 内层循环：遍历每一个研究方向\n",
    "    for index_research, research_row in df_research.iterrows():\n",
    "        \n",
    "        # --- 4. 准备填充到模板里的数据 (context) ---\n",
    "        # 创建一个字典，key 必须和 Word 模板里的占位符 {{...}} 完全一样\n",
    "        context = {\n",
    "            'my_name': MY_NAME,\n",
    "            'university_name': university_name,\n",
    "            'program_name': research_row['ProgramName'],\n",
    "            'research_area': research_row['Area'],\n",
    "            'journal_1': research_row['Journal1'],\n",
    "            'journal_2': research_row['Journal2'],\n",
    "            'journal_3': research_row['Journal3'],\n",
    "            'career_goal': CAREER_GOAL,\n",
    "            'skill_1': research_row['Skill1'],\n",
    "            'skill_2': research_row['Skill2'],\n",
    "            'skill_3': research_row['Skill3'],\n",
    "        }\n",
    "\n",
    "        # --- 5. 加载模板并渲染 ---\n",
    "        # 加载 Word 模板\n",
    "        doc = DocxTemplate(TEMPLATE_PATH)\n",
    "        \n",
    "        # 使用我们的 context 数据来填充模板\n",
    "        doc.render(context)\n",
    "\n",
    "        # --- 6. 保存生成的文件 ---\n",
    "        # 创建一个清晰明了的文件名\n",
    "        # 为了避免文件名中出现非法字符，可以做一些简单的替换\n",
    "        safe_uni_name = university_name.replace(\" \", \"_\").replace(\"/\", \"_\")\n",
    "        safe_area_name = research_row['Area'].replace(\" \", \"_\")\n",
    "        \n",
    "        output_filename_docx = f\"{OUTPUT_DIR}/SOP_{safe_uni_name}_{safe_area_name}.docx\"\n",
    "        \n",
    "        # 保存为 Word 文档\n",
    "        doc.save(output_filename_docx)\n",
    "\n",
    "        print(f\"成功生成: {output_filename_docx}\")\n",
    "\n",
    "        time.sleep(0.5)\n",
    "\n",
    "        # 定义 PDF 输出路径\n",
    "        output_filename_pdf = f\"{OUTPUT_DIR}/SOP_{safe_uni_name}_{safe_area_name}.pdf\"\n",
    "        \n",
    "        # 转换并保存为 PDF\n",
    "        try:\n",
    "            time.sleep(0.5) \n",
    "            \n",
    "            convert(output_filename_docx, output_filename_pdf)\n",
    "            print(f\"成功转换为 PDF: {output_filename_pdf}\")\n",
    "\n",
    "            time.sleep(0.7)\n",
    "        except Exception as e:\n",
    "            print(f\"文件 {output_filename_docx} 处理失败，错误: {e}\")\n",
    "            \n",
    "print(\"\\n🎉 全部90份文件生成完毕！\")"
   ]
  },
  {
   "cell_type": "code",
   "execution_count": null,
   "id": "af13ad2b-eb39-4bd6-9833-ac67a352e4fb",
   "metadata": {},
   "outputs": [],
   "source": []
  }
 ],
 "metadata": {
  "kernelspec": {
   "display_name": "Python 3 (ipykernel)",
   "language": "python",
   "name": "python3"
  },
  "language_info": {
   "codemirror_mode": {
    "name": "ipython",
    "version": 3
   },
   "file_extension": ".py",
   "mimetype": "text/x-python",
   "name": "python",
   "nbconvert_exporter": "python",
   "pygments_lexer": "ipython3",
   "version": "3.11.7"
  }
 },
 "nbformat": 4,
 "nbformat_minor": 5
}
