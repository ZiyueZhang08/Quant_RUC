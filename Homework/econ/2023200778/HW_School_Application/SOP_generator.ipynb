{
 "cells": [
  {
   "cell_type": "code",
   "execution_count": 4,
   "metadata": {},
   "outputs": [
    {
     "name": "stdout",
     "output_type": "stream",
     "text": [
      "\n",
      "成功生成 90 封申请信！\n",
      "Word文档保存在 'word_output' 文件夹中\n"
     ]
    }
   ],
   "source": [
    "import pandas as pd\n",
    "from docxtpl import DocxTemplate\n",
    "import os\n",
    "\n",
    "def generate_application_letters():\n",
    "    # 创建输出目录\n",
    "    os.makedirs('word_output', exist_ok=True)\n",
    "    os.makedirs('pdf_output', exist_ok=True)\n",
    "    \n",
    "    # 加载数据\n",
    "    research_df = pd.read_excel('research_areas_journals_skills.xlsx')\n",
    "    universities_df = pd.read_excel('selected_30_universities.xlsx')\n",
    "    \n",
    "    # 加载模板\n",
    "    template = DocxTemplate('word_template.docx')\n",
    "    \n",
    "    # 用于跟踪生成文件数量的计数器\n",
    "    file_count = 0\n",
    "    \n",
    "    # 遍历每个研究领域和大学的组合\n",
    "    for _, research_row in research_df.iterrows():\n",
    "        research_area = research_row['research_area']\n",
    "        journals = research_row['journal']\n",
    "        skills = research_row['skill']\n",
    "        \n",
    "        for _, university_row in universities_df.iterrows():\n",
    "            university = university_row['university']\n",
    "            \n",
    "            # 创建用于模板替换的上下文\n",
    "            context = {\n",
    "                'research_area': research_area,\n",
    "                'university': university,\n",
    "                'journals': journals,\n",
    "                'skills': skills\n",
    "            }\n",
    "            \n",
    "            # 渲染模板\n",
    "            template.render(context)\n",
    "            \n",
    "            # 创建文件名（移除特殊字符以确保安全）\n",
    "            safe_university = ''.join(c if c.isalnum() else '_' for c in university)\n",
    "            safe_research = ''.join(c if c.isalnum() else '_' for c in research_area)\n",
    "            filename = f\"{safe_research}_{safe_university}\"\n",
    "            \n",
    "            # 保存Word文档\n",
    "            word_output_path = f\"word_output/{filename}.docx\"\n",
    "            template.save(word_output_path)\n",
    "            \n",
    "            file_count += 1\n",
    "    \n",
    "    print(f\"\\n成功生成 {file_count} 封申请信！\")\n",
    "    print(\"Word文档保存在 'word_output' 文件夹中\")\n",
    "\n",
    "if __name__ == \"__main__\":\n",
    "    generate_application_letters()"
   ]
  },
  {
   "cell_type": "code",
   "execution_count": 5,
   "metadata": {},
   "outputs": [
    {
     "data": {
      "application/vnd.jupyter.widget-view+json": {
       "model_id": "3938be7751b542a2b921a1209f1c8094",
       "version_major": 2,
       "version_minor": 0
      },
      "text/plain": [
       "  0%|          | 0/90 [00:00<?, ?it/s]"
      ]
     },
     "metadata": {},
     "output_type": "display_data"
    },
    {
     "name": "stdout",
     "output_type": "stream",
     "text": [
      "所有文档已成功转换为PDF！\n",
      "PDF文件保存在 'pdf_output' 文件夹中\n"
     ]
    }
   ],
   "source": [
    "# convert_to_pdf.py\n",
    "from docx2pdf import convert\n",
    "import os\n",
    "\n",
    "def convert_docx_to_pdf():\n",
    "    try:\n",
    "        # 将所有Word文档转换为PDF\n",
    "        convert(\"word_output/\", \"pdf_output/\")\n",
    "        print(\"所有文档已成功转换为PDF！\")\n",
    "        print(\"PDF文件保存在 'pdf_output' 文件夹中\")\n",
    "    except Exception as e:\n",
    "        print(f\"PDF转换过程中出错：{e}\")\n",
    "        print(\"请确保已安装Microsoft Word，或尝试其他转换方法\")\n",
    "\n",
    "if __name__ == \"__main__\":\n",
    "    convert_docx_to_pdf()"
   ]
  }
 ],
 "metadata": {
  "kernelspec": {
   "display_name": "base",
   "language": "python",
   "name": "python3"
  },
  "language_info": {
   "codemirror_mode": {
    "name": "ipython",
    "version": 3
   },
   "file_extension": ".py",
   "mimetype": "text/x-python",
   "name": "python",
   "nbconvert_exporter": "python",
   "pygments_lexer": "ipython3",
   "version": "3.13.5"
  }
 },
 "nbformat": 4,
 "nbformat_minor": 2
}
