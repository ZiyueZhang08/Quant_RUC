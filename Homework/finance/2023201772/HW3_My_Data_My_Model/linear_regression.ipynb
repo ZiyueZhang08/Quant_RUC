{
 "cells": [
  {
   "cell_type": "code",
   "execution_count": 1,
   "id": "0cb9a8f2-62a5-4824-a8cf-da1a487ff958",
   "metadata": {},
   "outputs": [],
   "source": [
    "import pandas as pd\n",
    "import numpy as np\n",
    "from sklearn.linear_model import LinearRegression\n",
    "from sklearn.metrics import r2_score\n",
    "import statsmodels.api as sm"
   ]
  },
  {
   "cell_type": "code",
   "execution_count": 2,
   "id": "208c1b6f-450d-4c70-b5b3-d93560501dfb",
   "metadata": {},
   "outputs": [
    {
     "data": {
      "text/plain": [
       "LinearRegression()"
      ]
     },
     "execution_count": 2,
     "metadata": {},
     "output_type": "execute_result"
    }
   ],
   "source": [
    "# 读取CSV文件\n",
    "# data_batch = \"Price\"\n",
    "data = pd.read_csv(f\"{data_batch}_all_data.csv\")\n",
    "\n",
    "# 准备特征变量和目标变量\n",
    "X = data[['space', 'location']]  # 自变量：房屋面积和所在地区\n",
    "y = data[data_batch]  # 因变量：房屋价格\n",
    "\n",
    "# 添加常数项（用于计算截距）\n",
    "X_with_const = sm.add_constant(X)\n",
    "\n",
    "# 使用statsmodels进行线性回归（可以获取详细统计信息包括p值）\n",
    "model_sm = sm.OLS(y, X_with_const).fit()\n",
    "\n",
    "# 使用sklearn进行线性回归（用于预测）\n",
    "model_sk = LinearRegression()\n",
    "model_sk.fit(X, y)"
   ]
  },
  {
   "cell_type": "code",
   "execution_count": 3,
   "id": "2598f44d-c745-4337-8315-ff2230434699",
   "metadata": {},
   "outputs": [],
   "source": [
    "# 进行预测\n",
    "predictions = model_sk.predict(X)\n",
    "\n",
    "# 将预测值添加到原始DataFrame中\n",
    "data[f\"pre_{data_batch}\"] = predictions"
   ]
  },
  {
   "cell_type": "code",
   "execution_count": 4,
   "id": "ec21cb7a-f4fa-4a55-812c-43130e8b5cd8",
   "metadata": {},
   "outputs": [],
   "source": [
    "# 保存结果到新的CSV文件\n",
    "data.to_csv(f\"{data_batch}_linear_result.csv\", index=False)"
   ]
  },
  {
   "cell_type": "code",
   "execution_count": 5,
   "id": "450e4623-2cd7-466d-a488-d4adc5dfe807",
   "metadata": {},
   "outputs": [
    {
     "name": "stdout",
     "output_type": "stream",
     "text": [
      "==================================================\n",
      "线性回归模型评估结果\n",
      "==================================================\n",
      "R方 (R²): 0.7537\n",
      "调整后R方 (Adjusted R²): 0.7536\n",
      "\n",
      "系数估计和显著性检验:\n",
      "                            OLS Regression Results                            \n",
      "==============================================================================\n",
      "Dep. Variable:                  price   R-squared:                       0.754\n",
      "Model:                            OLS   Adj. R-squared:                  0.754\n",
      "Method:                 Least Squares   F-statistic:                     4314.\n",
      "Date:                Wed, 15 Oct 2025   Prob (F-statistic):               0.00\n",
      "Time:                        19:09:29   Log-Likelihood:                -46155.\n",
      "No. Observations:                2822   AIC:                         9.232e+04\n",
      "Df Residuals:                    2819   BIC:                         9.233e+04\n",
      "Df Model:                           2                                         \n",
      "Covariance Type:            nonrobust                                         \n",
      "==============================================================================\n",
      "                 coef    std err          t      P>|t|      [0.025      0.975]\n",
      "------------------------------------------------------------------------------\n",
      "const       9.446e+05   2.41e+05      3.912      0.000    4.71e+05    1.42e+06\n",
      "space       6.582e+04    928.313     70.907      0.000     6.4e+04    6.76e+04\n",
      "location   -2.128e+06   9.07e+04    -23.457      0.000   -2.31e+06   -1.95e+06\n",
      "==============================================================================\n",
      "Omnibus:                     2891.796   Durbin-Watson:                   1.768\n",
      "Prob(Omnibus):                  0.000   Jarque-Bera (JB):           612900.905\n",
      "Skew:                           4.520   Prob(JB):                         0.00\n",
      "Kurtosis:                      74.629   Cond. No.                         643.\n",
      "==============================================================================\n",
      "\n",
      "Notes:\n",
      "[1] Standard Errors assume that the covariance matrix of the errors is correctly specified.\n"
     ]
    }
   ],
   "source": [
    "# 打印模型准确度指标\n",
    "print(\"=\" * 50)\n",
    "print(\"线性回归模型评估结果\")\n",
    "print(\"=\" * 50)\n",
    "print(f\"R方 (R²): {model_sm.rsquared:.4f}\")\n",
    "print(f\"调整后R方 (Adjusted R²): {model_sm.rsquared_adj:.4f}\")\n",
    "print(\"\\n系数估计和显著性检验:\")\n",
    "print(model_sm.summary())"
   ]
  },
  {
   "cell_type": "code",
   "execution_count": 6,
   "id": "c3a1f473-bfcf-4fcc-9935-2917fed3fac0",
   "metadata": {},
   "outputs": [
    {
     "name": "stdout",
     "output_type": "stream",
     "text": [
      "\n",
      "各个特征的p值:\n",
      "常数项 (截距): p值 = 0.000094\n",
      "space: p值 = 0.000000\n",
      "location: p值 = 0.000000\n"
     ]
    }
   ],
   "source": [
    "# 提取并格式化p值信息\n",
    "print(\"\\n各个特征的p值:\")\n",
    "for i, feature in enumerate(X_with_const.columns):\n",
    "    if i == 0:\n",
    "        print(f\"常数项 (截距): p值 = {model_sm.pvalues[i]:.6f}\")\n",
    "    else:\n",
    "        print(f\"{feature}: p值 = {model_sm.pvalues[i]:.6f}\")"
   ]
  },
  {
   "cell_type": "code",
   "execution_count": 7,
   "id": "7c14a792-498d-4fb5-a3a9-aba59b772f88",
   "metadata": {},
   "outputs": [
    {
     "name": "stdout",
     "output_type": "stream",
     "text": [
      "\n",
      "Sklearn计算的R方 (验证): 0.7537\n"
     ]
    }
   ],
   "source": [
    "# 使用sklearn计算R方作为验证\n",
    "r2_sklearn = r2_score(y, predictions)\n",
    "print(f\"\\nSklearn计算的R方 (验证): {r2_sklearn:.4f}\")"
   ]
  },
  {
   "cell_type": "code",
   "execution_count": null,
   "id": "19142093-f87b-4cf2-9500-e90c63293d70",
   "metadata": {},
   "outputs": [],
   "source": []
  }
 ],
 "metadata": {
  "kernelspec": {
   "display_name": "myconda",
   "language": "python",
   "name": "myconda"
  },
  "language_info": {
   "codemirror_mode": {
    "name": "ipython",
    "version": 3
   },
   "file_extension": ".py",
   "mimetype": "text/x-python",
   "name": "python",
   "nbconvert_exporter": "python",
   "pygments_lexer": "ipython3",
   "version": "3.8.12"
  }
 },
 "nbformat": 4,
 "nbformat_minor": 5
}
