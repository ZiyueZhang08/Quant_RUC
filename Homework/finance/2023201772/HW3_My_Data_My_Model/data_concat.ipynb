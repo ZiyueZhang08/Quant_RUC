{
 "cells": [
  {
   "cell_type": "code",
   "execution_count": 27,
   "id": "02e8a234-e153-4f42-ab2b-affde4be5aff",
   "metadata": {},
   "outputs": [],
   "source": [
    "import pandas as pd\n",
    "import os"
   ]
  },
  {
   "cell_type": "code",
   "execution_count": 28,
   "id": "166955e3-5f61-4eb8-b27a-fc72853fb944",
   "metadata": {},
   "outputs": [],
   "source": [
    "data_batch = \"Price\"\n",
    "# 存储数据的地区名\n",
    "block_lst = [\"YiZhuang\", \"MaJuQiao\", \"YanJiao\"]\n",
    "# 存储所有处理后的DataFrame\n",
    "all_dfs = []"
   ]
  },
  {
   "cell_type": "code",
   "execution_count": 29,
   "id": "681323c0-160a-4729-9fc2-350be4dabf49",
   "metadata": {},
   "outputs": [
    {
     "name": "stdout",
     "output_type": "stream",
     "text": [
      "成功处理地区YiZhuang (地区编号: 1)，数据行数: 1200\n",
      "成功处理地区MaJuQiao (地区编号: 2)，数据行数: 1200\n",
      "成功处理地区YanJiao (地区编号: 3)，数据行数: 422\n"
     ]
    }
   ],
   "source": [
    "# 遍历每个地区\n",
    "for i, block in enumerate(block_lst):\n",
    "    # 构建文件名\n",
    "    filename = f\"{data_batch}_{block}_processed.csv\"\n",
    "    \n",
    "    # 检查文件是否存在\n",
    "    if not os.path.exists(filename):\n",
    "        print(f\"{block}地区数据文件不存在，跳过该地区\")\n",
    "        continue\n",
    "\n",
    "    # 载入数据\n",
    "    df = pd.read_csv(filename)\n",
    "\n",
    "    # 选取price和space列，并添加location列\n",
    "    selected_df = df[['price', 'space']].copy()\n",
    "    selected_df['location'] = i + 1  # 添加地区索引作为location\n",
    "    \n",
    "    selected_df = selected_df.rename(columns={selected_df.columns[0]: data_batch})\n",
    "\n",
    "    # 将处理后的DataFrame添加到列表\n",
    "    all_dfs.append(selected_df)\n",
    "    print(f\"成功处理地区{block} (地区编号: {i+1})，数据行数: {len(selected_df)}\")"
   ]
  },
  {
   "cell_type": "code",
   "execution_count": 30,
   "id": "ef312ef7-2819-442e-92f2-db6d26793610",
   "metadata": {},
   "outputs": [
    {
     "name": "stdout",
     "output_type": "stream",
     "text": [
      "合并完成\n",
      "总共处理3个地区\n",
      "合并后的数据行数为2822\n"
     ]
    }
   ],
   "source": [
    "# 合并所有DataFrame\n",
    "combined_df = pd.concat(all_dfs, ignore_index=True)\n",
    "# 保存为新的CSV文件\n",
    "combined_df.to_csv(f\"{data_batch}_all_data.csv\", index=False)\n",
    "\n",
    "print(f\"合并完成\")\n",
    "print(f\"总共处理{len(all_dfs)}个地区\")\n",
    "print(f\"合并后的数据行数为{len(combined_df)}\")"
   ]
  },
  {
   "cell_type": "code",
   "execution_count": null,
   "id": "5fb9b586-3e90-4d32-9068-6c78741200c1",
   "metadata": {},
   "outputs": [],
   "source": []
  }
 ],
 "metadata": {
  "kernelspec": {
   "display_name": "myconda",
   "language": "python",
   "name": "myconda"
  },
  "language_info": {
   "codemirror_mode": {
    "name": "ipython",
    "version": 3
   },
   "file_extension": ".py",
   "mimetype": "text/x-python",
   "name": "python",
   "nbconvert_exporter": "python",
   "pygments_lexer": "ipython3",
   "version": "3.8.12"
  }
 },
 "nbformat": 4,
 "nbformat_minor": 5
}
