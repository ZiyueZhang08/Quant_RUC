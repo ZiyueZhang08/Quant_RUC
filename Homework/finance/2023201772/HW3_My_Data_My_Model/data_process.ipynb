{
 "cells": [
  {
   "cell_type": "code",
   "execution_count": 1,
   "id": "df086f94-9964-4710-a71e-53cbc40be477",
   "metadata": {},
   "outputs": [],
   "source": [
    "import pandas as pd\n",
    "import numpy as np"
   ]
  },
  {
   "cell_type": "code",
   "execution_count": 2,
   "id": "38d66923-9433-45be-b8c3-c6fe1b15a62a",
   "metadata": {},
   "outputs": [],
   "source": [
    "# data_batch = \"Rent\"\n",
    "# block_name = \"YanJiao\"\n",
    "file_path = f\"{data_batch}_{block_name}\"\n",
    "df = pd.read_csv(f\"{file_path}.csv\")"
   ]
  },
  {
   "cell_type": "code",
   "execution_count": 4,
   "id": "e9b4b078-ce33-4694-a6c5-ed42eb025c09",
   "metadata": {},
   "outputs": [
    {
     "name": "stdout",
     "output_type": "stream",
     "text": [
      "YanJiao地区Rent数据异常行数：0\n"
     ]
    }
   ],
   "source": [
    "# 提取所需的price和space列，并转换为数值类型\n",
    "# 使用pd.to_numeric将非数值转换为NaN，然后删除包含NaN的行\n",
    "processed_df = pd.DataFrame()\n",
    "\n",
    "price = \"总价\" if data_batch == \"Price\" else \"月租金\"\n",
    "space = \"面积\"\n",
    "\n",
    "processed_df['price'] = df[price].str.extract(r'(\\d+\\.?\\d*)', expand=False).astype(float)\n",
    "processed_df['space'] = df['面积'].str.extract(r'(\\d+\\.?\\d*)', expand=False).astype(float)\n",
    "if data_batch == \"Price\":\n",
    "    processed_df[\"price\"] = processed_df[\"price\"] * 10000\n",
    "\n",
    "# 删除包含NaN值的行\n",
    "processed_df = processed_df.dropna()\n",
    "print(f\"{block_name}地区{data_batch}共有{df.shape[0]}条数据，异常行数{df.shape[0]-processed_df.shape[0]}条\")"
   ]
  },
  {
   "cell_type": "code",
   "execution_count": 5,
   "id": "bcd7cf71-0f15-466d-8981-75130058e10b",
   "metadata": {},
   "outputs": [],
   "source": [
    "# 计算solo_price（price/space）并保留两位小数\n",
    "processed_df['solo_price'] = (processed_df['price'] / processed_df['space']).round(2)\n",
    "\n",
    "# 计算z-score（该值距离平均值为几个标准差）\n",
    "mean_solo = processed_df['solo_price'].mean()\n",
    "std_solo = processed_df['solo_price'].std()\n",
    "\n",
    "# 避免除零错误\n",
    "if std_solo == 0:\n",
    "    print(\"数据标准差为0，请检查数据。\")\n",
    "    processed_df['z_score'] = 0\n",
    "else:\n",
    "    processed_df['z_score'] = (processed_df['solo_price'] - mean_solo) / std_solo"
   ]
  },
  {
   "cell_type": "code",
   "execution_count": 6,
   "id": "dae71f1a-d962-4190-8405-331b792d0a23",
   "metadata": {},
   "outputs": [],
   "source": [
    "# 添加异常值标注列OOD\n",
    "processed_df['OOD'] = '-'\n",
    "\n",
    "# 根据z-score的绝对值标注异常点\n",
    "mask_3sigma = np.abs(processed_df['z_score']) > 3\n",
    "mask_2sigma = (np.abs(processed_df['z_score']) > 2) & (np.abs(processed_df['z_score']) <= 3)\n",
    "\n",
    "processed_df.loc[mask_2sigma, 'OOD'] = '2sigma异常点'\n",
    "processed_df.loc[mask_3sigma, 'OOD'] = '3sigma异常点'"
   ]
  },
  {
   "cell_type": "code",
   "execution_count": 9,
   "id": "09ae45cb-a1e2-4585-81c7-aa9ad23fb7e4",
   "metadata": {},
   "outputs": [
    {
     "name": "stdout",
     "output_type": "stream",
     "text": [
      "YanJiao地区Rent数据共有205条\n",
      "其中有0个2sigma异常点，7个3sigma异常点\n"
     ]
    }
   ],
   "source": [
    "OOD_2 = (processed_df[\"OOD\"] == '2sigma异常点').sum()\n",
    "OOD_3 = (processed_df[\"OOD\"] == '3sigma异常点').sum()\n",
    "\n",
    "# print(f\"{block_name}地区{data_batch}数据共有{processed_df.shape[0]}条\")\n",
    "print(f\"其中有{OOD_2}个2sigma异常点，{OOD_3}个3sigma异常点\")"
   ]
  },
  {
   "cell_type": "code",
   "execution_count": null,
   "id": "5c1a4e07-5589-4f99-8736-50d747a5c086",
   "metadata": {},
   "outputs": [],
   "source": []
  }
 ],
 "metadata": {
  "kernelspec": {
   "display_name": "myconda",
   "language": "python",
   "name": "myconda"
  },
  "language_info": {
   "codemirror_mode": {
    "name": "ipython",
    "version": 3
   },
   "file_extension": ".py",
   "mimetype": "text/x-python",
   "name": "python",
   "nbconvert_exporter": "python",
   "pygments_lexer": "ipython3",
   "version": "3.8.12"
  }
 },
 "nbformat": 4,
 "nbformat_minor": 5
}
