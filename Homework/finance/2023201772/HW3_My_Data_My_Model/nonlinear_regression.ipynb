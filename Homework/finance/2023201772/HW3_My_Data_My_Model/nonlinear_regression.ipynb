{
 "cells": [
  {
   "cell_type": "code",
   "execution_count": 1,
   "id": "e88c6af3-c75d-49ba-8193-ddfa73f49901",
   "metadata": {},
   "outputs": [],
   "source": [
    "import pandas as pd\n",
    "import numpy as np\n",
    "from sklearn.preprocessing import PolynomialFeatures\n",
    "from sklearn.linear_model import LinearRegression\n",
    "from sklearn.metrics import r2_score\n",
    "import scipy.stats as stats\n",
    "import statsmodels.api as sm"
   ]
  },
  {
   "cell_type": "code",
   "execution_count": 2,
   "id": "d6f524bf-f00a-468d-8fea-69806fa4746d",
   "metadata": {},
   "outputs": [],
   "source": [
    "# 读取CSV文件\n",
    "# data_batch = \"Rent\"\n",
    "# 请将下面的路径替换为您的实际文件路径\n",
    "df = pd.read_csv(f\"{data_batch}_all_data.csv\")  # 替换为您的CSV文件路径\n",
    "\n",
    "# 准备数据\n",
    "X = df[['space', 'location']]\n",
    "y = df[data_batch]"
   ]
  },
  {
   "cell_type": "code",
   "execution_count": 3,
   "id": "bd891293-6cae-43e7-8359-256f89985697",
   "metadata": {},
   "outputs": [
    {
     "name": "stdout",
     "output_type": "stream",
     "text": [
      "生成的特征项: ['space' 'location' 'space^2' 'space location' 'location^2']\n"
     ]
    },
    {
     "data": {
      "text/plain": [
       "LinearRegression()"
      ]
     },
     "execution_count": 3,
     "metadata": {},
     "output_type": "execute_result"
    }
   ],
   "source": [
    "# 生成多项式特征和交互项（包括平方项和交叉项）\n",
    "poly = PolynomialFeatures(degree=2, include_bias=False, interaction_only=False)\n",
    "X_poly = poly.fit_transform(X)\n",
    "\n",
    "# 获取特征名称\n",
    "feature_names = poly.get_feature_names_out(['space', 'location'])\n",
    "print(\"生成的特征项:\", feature_names)\n",
    "\n",
    "# 创建并训练线性回归模型（在扩展后的特征空间中是线性的，但能捕捉原始特征的非线性关系）\n",
    "model = LinearRegression()\n",
    "model.fit(X_poly, y)"
   ]
  },
  {
   "cell_type": "code",
   "execution_count": 4,
   "id": "45688d56-050c-4ca4-91d3-9ad367460e79",
   "metadata": {},
   "outputs": [],
   "source": [
    "# 进行预测\n",
    "y_pred = model.predict(X_poly)\n",
    "\n",
    "# 将预测结果添加到原始DataFrame中\n",
    "df[f\"pre_{data_batch}\"] = y_pred\n",
    "\n",
    "# 创建包含四列结果的新DataFrame\n",
    "result_df = df[[data_batch, \"space\", \"location\", f\"pre_{data_batch}\"]]\n",
    "\n",
    "# 保存结果为新的CSV文件\n",
    "result_df.to_csv(f\"{data_batch}_nonlinear_result.csv\", index=False)"
   ]
  },
  {
   "cell_type": "code",
   "execution_count": 5,
   "id": "3d264ad5-bec8-491a-bfaf-c858cbd49d4f",
   "metadata": {},
   "outputs": [],
   "source": [
    "# 使用statsmodels进行详细的统计评估（可以获取p值）\n",
    "X_with_const = sm.add_constant(X_poly)  # 添加常数项\n",
    "model_sm = sm.OLS(y, X_with_const).fit()\n",
    "\n",
    "# 计算R方和其他指标\n",
    "r_squared = r2_score(y, y_pred)\n",
    "n = len(y)  # 样本数量\n",
    "p = X_poly.shape[1]  # 特征数量（不包括常数项）\n",
    "\n",
    "# 计算调整R方\n",
    "adj_r_squared = 1 - (1 - r_squared) * (n - 1) / (n - p - 1)\n",
    "\n",
    "# 计算RMSE\n",
    "rmse = np.sqrt(np.mean((y - y_pred) ** 2))"
   ]
  },
  {
   "cell_type": "code",
   "execution_count": 6,
   "id": "dabb8974-7e6c-45dc-b814-b07e9e7f0078",
   "metadata": {},
   "outputs": [
    {
     "name": "stdout",
     "output_type": "stream",
     "text": [
      "\n",
      "==================================================\n",
      "模型评估指标\n",
      "==================================================\n",
      "R方 (R-squared): 0.970007\n",
      "调整R方 (Adjusted R-squared): 0.969936\n",
      "均方根误差 (RMSE): 7152.601716\n",
      "样本数量: 2119\n",
      "特征数量: 5\n"
     ]
    }
   ],
   "source": [
    "# 输出模型准确度指标\n",
    "print(\"\\n\" + \"=\"*50)\n",
    "print(\"模型评估指标\")\n",
    "print(\"=\"*50)\n",
    "print(f\"R方 (R-squared): {r_squared:.6f}\")\n",
    "print(f\"调整R方 (Adjusted R-squared): {adj_r_squared:.6f}\")\n",
    "print(f\"均方根误差 (RMSE): {rmse:.6f}\")\n",
    "print(f\"样本数量: {n}\")\n",
    "print(f\"特征数量: {p}\")"
   ]
  },
  {
   "cell_type": "code",
   "execution_count": 7,
   "id": "6f9f41bc-1172-40d3-b78d-278eef3f6bb7",
   "metadata": {},
   "outputs": [
    {
     "name": "stdout",
     "output_type": "stream",
     "text": [
      "\n",
      "==================================================\n",
      "详细统计摘要\n",
      "==================================================\n",
      "                            OLS Regression Results                            \n",
      "==============================================================================\n",
      "Dep. Variable:                   Rent   R-squared:                       0.970\n",
      "Model:                            OLS   Adj. R-squared:                  0.970\n",
      "Method:                 Least Squares   F-statistic:                 1.367e+04\n",
      "Date:                Wed, 15 Oct 2025   Prob (F-statistic):               0.00\n",
      "Time:                        20:05:30   Log-Likelihood:                -21813.\n",
      "No. Observations:                2119   AIC:                         4.364e+04\n",
      "Df Residuals:                    2113   BIC:                         4.367e+04\n",
      "Df Model:                           5                                         \n",
      "Covariance Type:            nonrobust                                         \n",
      "==============================================================================\n",
      "                 coef    std err          t      P>|t|      [0.025      0.975]\n",
      "------------------------------------------------------------------------------\n",
      "const      -8649.2999   1434.848     -6.028      0.000   -1.15e+04   -5835.438\n",
      "x1           177.3630      4.061     43.672      0.000     169.399     185.327\n",
      "x2          5461.4438   1511.174      3.614      0.000    2497.900    8424.987\n",
      "x3             0.0134      0.001     21.228      0.000       0.012       0.015\n",
      "x4           -65.5696      1.984    -33.054      0.000     -69.460     -61.679\n",
      "x5          -516.2291    390.813     -1.321      0.187   -1282.648     250.190\n",
      "==============================================================================\n",
      "Omnibus:                     2129.308   Durbin-Watson:                   1.956\n",
      "Prob(Omnibus):                  0.000   Jarque-Bera (JB):           142715.122\n",
      "Skew:                           4.785   Prob(JB):                         0.00\n",
      "Kurtosis:                      42.049   Cond. No.                     1.36e+07\n",
      "==============================================================================\n",
      "\n",
      "Notes:\n",
      "[1] Standard Errors assume that the covariance matrix of the errors is correctly specified.\n",
      "[2] The condition number is large, 1.36e+07. This might indicate that there are\n",
      "strong multicollinearity or other numerical problems.\n"
     ]
    }
   ],
   "source": [
    "# 输出详细的统计摘要（包含每个特征的p值）\n",
    "print(\"\\n\" + \"=\"*50)\n",
    "print(\"详细统计摘要\")\n",
    "print(\"=\"*50)\n",
    "print(model_sm.summary())"
   ]
  },
  {
   "cell_type": "code",
   "execution_count": 8,
   "id": "529f348a-c50b-407d-a716-56e4da5b3b05",
   "metadata": {},
   "outputs": [
    {
     "name": "stdout",
     "output_type": "stream",
     "text": [
      "\n",
      "==================================================\n",
      "特征系数\n",
      "==================================================\n",
      "常数项            : -8649.299869 (p值: 0.000000) ***\n",
      "space          : 177.363015 (p值: 0.000000) ***\n",
      "location       : 5461.443754 (p值: 0.000309) ***\n",
      "space^2        :   0.013370 (p值: 0.000000) ***\n",
      "space location : -65.569608 (p值: 0.000000) ***\n",
      "location^2     : -516.229146 (p值: 0.186674) \n"
     ]
    }
   ],
   "source": [
    "# 输出特征系数\n",
    "print(\"\\n\" + \"=\"*50)\n",
    "print(\"特征系数\")\n",
    "print(\"=\"*50)\n",
    "for i, name in enumerate(['常数项'] + list(feature_names)):\n",
    "    coef = model_sm.params[i]\n",
    "    p_value = model_sm.pvalues[i]\n",
    "    significance = \"***\" if p_value < 0.001 else \"**\" if p_value < 0.01 else \"*\" if p_value < 0.05 else \"\"\n",
    "    print(f\"{name:15}: {coef:10.6f} (p值: {p_value:.6f}) {significance}\")"
   ]
  },
  {
   "cell_type": "code",
   "execution_count": 9,
   "id": "8aa0ba89-cb5e-4083-b252-ba497b63b9ee",
   "metadata": {},
   "outputs": [
    {
     "name": "stdout",
     "output_type": "stream",
     "text": [
      "原始数据形状: (2119, 4)\n",
      "结果数据形状: (2119, 4)\n"
     ]
    }
   ],
   "source": [
    "print(f\"原始数据形状: {df.shape}\")\n",
    "print(f\"结果数据形状: {result_df.shape}\")"
   ]
  },
  {
   "cell_type": "code",
   "execution_count": null,
   "id": "e1651efd-d013-429e-9051-02ebcabbe648",
   "metadata": {},
   "outputs": [],
   "source": []
  }
 ],
 "metadata": {
  "kernelspec": {
   "display_name": "myconda",
   "language": "python",
   "name": "myconda"
  },
  "language_info": {
   "codemirror_mode": {
    "name": "ipython",
    "version": 3
   },
   "file_extension": ".py",
   "mimetype": "text/x-python",
   "name": "python",
   "nbconvert_exporter": "python",
   "pygments_lexer": "ipython3",
   "version": "3.8.12"
  }
 },
 "nbformat": 4,
 "nbformat_minor": 5
}
