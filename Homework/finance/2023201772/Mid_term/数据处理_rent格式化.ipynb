{
 "cells": [
  {
   "cell_type": "code",
   "execution_count": 1,
   "id": "17175fa9-de6c-443a-97e1-a0f5cdc3a0bb",
   "metadata": {},
   "outputs": [],
   "source": [
    "import pandas as pd\n",
    "import re\n",
    "from datetime import datetime"
   ]
  },
  {
   "cell_type": "code",
   "execution_count": 2,
   "id": "a263ca9a-cdd8-4a41-b7d7-e928554145bb",
   "metadata": {},
   "outputs": [
    {
     "name": "stdout",
     "output_type": "stream",
     "text": [
      "数据维度：(9773, 46)\n"
     ]
    }
   ],
   "source": [
    "# 读入数据\n",
    "data_batch = \"test\"\n",
    "data_target = \"rent\"\n",
    "path = f\"ori_data//ruc_Class25Q2_{data_batch}_{data_target}.csv\"\n",
    "df = pd.read_csv(path)\n",
    "print(f\"数据维度：{df.shape}\")"
   ]
  },
  {
   "cell_type": "code",
   "execution_count": 3,
   "id": "c8814340-67e1-4484-aced-3d8b0d4f5eea",
   "metadata": {},
   "outputs": [],
   "source": [
    "# 处理“房屋户型”：“2室1厅1厨1卫”\n",
    "def extract_room_shape(text):\n",
    "    \"\"\"\n",
    "    参数:\n",
    "    text: str - 户型字符串，如\"2室1厅1厨1卫\"\n",
    "    \n",
    "    返回:\n",
    "    tuple - (室数, 厅数, 厨房数, 卫数)\n",
    "    \"\"\"\n",
    "    # 初始化默认值\n",
    "    if text == \"\":\n",
    "        return -1,-1,-1,-1\n",
    "    room = hall = kitchen = bathroom = 0\n",
    "    \n",
    "    # 使用正则表达式匹配数字和对应的单位\n",
    "    pattern = r'(\\d+)(室|厅|厨|卫)'\n",
    "    matches = re.findall(pattern, text)\n",
    "    \n",
    "    # 将匹配结果分配到对应的变量\n",
    "    for value, unit in matches:\n",
    "        value = int(value)\n",
    "        if unit == '室':\n",
    "            room = value\n",
    "        elif unit == '厅':\n",
    "            hall = value\n",
    "        elif unit == '厨':\n",
    "            kitchen = value\n",
    "        elif unit == '卫':\n",
    "            bathroom = value\n",
    "    \n",
    "    return room, hall, kitchen, bathroom"
   ]
  },
  {
   "cell_type": "code",
   "execution_count": 4,
   "id": "6b892963-6139-4289-b26e-72917cdba8e9",
   "metadata": {},
   "outputs": [
    {
     "name": "stdout",
     "output_type": "stream",
     "text": [
      "0\n",
      "Index(['ID', '城市', '户型', '装修', '楼层', '面积', '朝向', '交易时间', '付款方式', '租赁方式', '电梯',\n",
      "       '车位', '用水', '用电', '燃气', '采暖', '租期', '配套设施', 'lon', 'lat', '年份', '区县',\n",
      "       '板块', '环线位置', '物业类别', '建筑年代', '开发商', '房屋总数', '楼栋总数', '物业公司', '绿 化 率',\n",
      "       '容 积 率', '物 业 费', '建筑结构', '物业办公电话', '产权描述', '供水', '供暖', '供电', '燃气费',\n",
      "       '供热费', '停车位', '停车费用', 'coord_x', 'coord_y', '客户反馈', '室数', '厅数', '厨房数',\n",
      "       '卫数'],\n",
      "      dtype='object')\n",
      "数据维度：(9773, 50)\n"
     ]
    }
   ],
   "source": [
    "# 检查缺失值\n",
    "print(df['户型'].isnull().sum())\n",
    "# 填充缺失值为空字符串\n",
    "df['户型'] = df['户型'].fillna('')\n",
    "# 应用提取函数并创建新列\n",
    "df[['室数', '厅数', '厨房数', '卫数']] = df['户型'].apply(lambda x: pd.Series(extract_room_shape(x)))\n",
    "\n",
    "print(df.columns)\n",
    "# print(df.head())\n",
    "print(f\"数据维度：{df.shape}\")"
   ]
  },
  {
   "cell_type": "code",
   "execution_count": 5,
   "id": "11a4cb48-3988-40ae-b481-e76bba813fb1",
   "metadata": {},
   "outputs": [
    {
     "name": "stdout",
     "output_type": "stream",
     "text": [
      "数据维度：(9773, 49)\n"
     ]
    }
   ],
   "source": [
    "df = df.drop(\"户型\", axis=1)\n",
    "print(f\"数据维度：{df.shape}\")"
   ]
  },
  {
   "cell_type": "code",
   "execution_count": 6,
   "id": "610d0d04-6343-4746-bac7-81ca041cb828",
   "metadata": {},
   "outputs": [],
   "source": [
    "# 处理装修\n",
    "def extract_fitment(text):\n",
    "    \"\"\"\n",
    "    是否有精装修\n",
    "    \"\"\"\n",
    "    if text == \"精装修\":\n",
    "        return 1\n",
    "    \n",
    "    return 0"
   ]
  },
  {
   "cell_type": "code",
   "execution_count": 7,
   "id": "9b30c9b5-f3e3-4f13-9f0f-d7bd031a7662",
   "metadata": {},
   "outputs": [
    {
     "name": "stdout",
     "output_type": "stream",
     "text": [
      "2682\n",
      "Index(['ID', '城市', '装修', '楼层', '面积', '朝向', '交易时间', '付款方式', '租赁方式', '电梯', '车位',\n",
      "       '用水', '用电', '燃气', '采暖', '租期', '配套设施', 'lon', 'lat', '年份', '区县', '板块',\n",
      "       '环线位置', '物业类别', '建筑年代', '开发商', '房屋总数', '楼栋总数', '物业公司', '绿 化 率', '容 积 率',\n",
      "       '物 业 费', '建筑结构', '物业办公电话', '产权描述', '供水', '供暖', '供电', '燃气费', '供热费',\n",
      "       '停车位', '停车费用', 'coord_x', 'coord_y', '客户反馈', '室数', '厅数', '厨房数', '卫数',\n",
      "       '精装修'],\n",
      "      dtype='object')\n",
      "        ID  城市   装修       楼层       面积   朝向        交易时间 付款方式 租赁方式 电梯  ...  \\\n",
      "0  2000000   1  精装修  低楼层/18层   86.94㎡  南 北  2025-08-01  NaN   整租  有  ...   \n",
      "1  2000001  10  精装修   低楼层/8层   72.60㎡    南  2025-05-23  月付价   整租  有  ...   \n",
      "2  2000002   3  精装修  中楼层/20层   98.00㎡    南  2025-02-18  NaN   整租  有  ...   \n",
      "3  2000003   0  精装修  高楼层/12层   98.97㎡  东 西  2025-02-17  季付价   整租  有  ...   \n",
      "4  2000004   3  精装修  中楼层/23层  170.53㎡    南  2025-03-24  季付价   整租  有  ...   \n",
      "\n",
      "      停车位  停车费用     coord_x    coord_y                       客户反馈 室数 厅数  厨房数  \\\n",
      "0  1600.0   100  117.345687  40.447235           电费按表计量，治安堪忧，拎包入住  2  2    0   \n",
      "1   200.0   800  114.279469  24.158183       简单来说，交通方便，体感上还好，邻居和善  2  1    0   \n",
      "2     NaN   NaN  121.684578  32.198660              公用设施正常，绿化分布均匀  2  2    0   \n",
      "3  2317.0  1200  117.323901  40.935338        总的来说，地面平整，广义上讲，配套齐全  2  1    0   \n",
      "4     NaN   NaN  121.718296  32.335562  视觉上感觉，产权清晰，印象中，装修好，楼道照明正常  3  2    0   \n",
      "\n",
      "   卫数  精装修  \n",
      "0   1    1  \n",
      "1   1    1  \n",
      "2   1    1  \n",
      "3   1    1  \n",
      "4   2    1  \n",
      "\n",
      "[5 rows x 50 columns]\n",
      "数据维度：(9773, 50)\n"
     ]
    }
   ],
   "source": [
    "# 检查缺失值\n",
    "target_column = \"装修\"\n",
    "print(df[target_column].isnull().sum())\n",
    "# 填充缺失值为空字符串\n",
    "df[target_column] = df[target_column].fillna('')\n",
    "# 应用提取函数并创建新列\n",
    "df[['精装修']] = df[target_column].apply(lambda x: pd.Series(extract_fitment(x)))\n",
    "\n",
    "print(df.columns)\n",
    "print(df.head())\n",
    "print(f\"数据维度：{df.shape}\")"
   ]
  },
  {
   "cell_type": "code",
   "execution_count": 8,
   "id": "377fccb2-3349-4c9d-b0b5-9e78bc5c28dc",
   "metadata": {},
   "outputs": [
    {
     "name": "stdout",
     "output_type": "stream",
     "text": [
      "数据维度：(9773, 49)\n"
     ]
    }
   ],
   "source": [
    "df = df.drop(\"装修\", axis=1)\n",
    "print(f\"数据维度：{df.shape}\")"
   ]
  },
  {
   "cell_type": "code",
   "execution_count": 9,
   "id": "c732fe1f-2a92-4923-829a-68ea4ae7d8e7",
   "metadata": {},
   "outputs": [],
   "source": [
    "def extract_floor_info(text):\n",
    "    \"\"\"\n",
    "    参数:\n",
    "    text: str - 楼层字符串，如\"中楼层/7层\"、\"低楼层/13层\"、\"30/45层\"\n",
    "    \n",
    "    返回:\n",
    "    tuple - (是否为底层, 是否为低层, 是否为中层, 是否为高层, 是否为顶层, 总楼层)\n",
    "    \"\"\"\n",
    "    # 初始化默认值\n",
    "    is_bottom = 0\n",
    "    is_low = 0\n",
    "    is_middle = 0\n",
    "    is_high = 0\n",
    "    is_top = 0\n",
    "    total_floors = 0\n",
    "    current_floor = 0\n",
    "    \n",
    "    # 提取总楼层数\n",
    "    total_match = re.search(r'/(\\d+)层', text)\n",
    "    if total_match:\n",
    "        total_floors = int(total_match.group(1))\n",
    "    \n",
    "    # 检查是否为\"数字/数字层\"格式（如\"30/45层\"）\n",
    "    specific_floor_match = re.search(r'(\\d+)/(\\d+)层', text)\n",
    "    \n",
    "    if specific_floor_match:\n",
    "        # 处理特殊情况：具体楼层/总楼层格式\n",
    "        current_floor = int(specific_floor_match.group(1))\n",
    "        total_floors = int(specific_floor_match.group(2))\n",
    "        \n",
    "        # 判断是否底层（1楼）\n",
    "        if current_floor == 1:\n",
    "            is_bottom = 1\n",
    "        # 判断是否顶层（当前楼层等于总楼层）\n",
    "        elif current_floor == total_floors:\n",
    "            is_top = 1\n",
    "        else:\n",
    "            # 按三分之一划分楼层区域\n",
    "            third = total_floors / 3\n",
    "            \n",
    "            if current_floor <= third:\n",
    "                is_low = 1\n",
    "            elif current_floor <= 2 * third:\n",
    "                is_middle = 1\n",
    "            else:\n",
    "                is_high = 1\n",
    "    else:\n",
    "        # 原有逻辑：处理文字描述格式\n",
    "        if '底层' in text:\n",
    "            is_bottom = 1\n",
    "        elif '低楼层' in text:\n",
    "            is_low = 1\n",
    "        elif '中楼层' in text:\n",
    "            is_middle = 1\n",
    "        elif '高楼层' in text:\n",
    "            is_high = 1\n",
    "        elif '顶层' in text:\n",
    "            is_top = 1\n",
    "    \n",
    "    return is_bottom, is_low, is_middle, is_high, is_top, total_floors"
   ]
  },
  {
   "cell_type": "code",
   "execution_count": 10,
   "id": "f3d632de-d224-466e-80be-70f0a5ddcacd",
   "metadata": {},
   "outputs": [
    {
     "name": "stdout",
     "output_type": "stream",
     "text": [
      "0\n",
      "        ID  城市       楼层       面积   朝向        交易时间 付款方式 租赁方式 电梯    车位  ... 厅数  \\\n",
      "0  2000000   1  低楼层/18层   86.94㎡  南 北  2025-08-01  NaN   整租  有   NaN  ...  2   \n",
      "1  2000001  10   低楼层/8层   72.60㎡    南  2025-05-23  月付价   整租  有   NaN  ...  1   \n",
      "2  2000002   3  中楼层/20层   98.00㎡    南  2025-02-18  NaN   整租  有  租用车位  ...  2   \n",
      "3  2000003   0  高楼层/12层   98.97㎡  东 西  2025-02-17  季付价   整租  有   NaN  ...  1   \n",
      "4  2000004   3  中楼层/23层  170.53㎡    南  2025-03-24  季付价   整租  有  租用车位  ...  2   \n",
      "5  2000005   2   30/45层   86.77㎡    南  2025-05-13  季付价   整租  有   NaN  ...  2   \n",
      "6  2000006   9  中楼层/34层  135.00㎡  南 北  2025-04-14  NaN   整租  有   NaN  ...  2   \n",
      "7  2000007   4   中楼层/6层   52.09㎡    南  2025-04-29  季付价   整租  无   NaN  ...  1   \n",
      "8  2000008   9  高楼层/32层  106.50㎡    南  2025-09-20  NaN   整租  无   NaN  ...  1   \n",
      "9  2000009   1   中楼层/9层   63.00㎡    南  2025-05-09  季付价   整租  有   NaN  ...  1   \n",
      "\n",
      "  厨房数 卫数 精装修 是否为底层 是否为低层  是否为中层  是否为高层  是否为顶层  总楼层  \n",
      "0   0  1   1     0     1      0      0      0   18  \n",
      "1   0  1   1     0     1      0      0      0    8  \n",
      "2   0  1   1     0     0      1      0      0   20  \n",
      "3   0  1   1     0     0      0      1      0   12  \n",
      "4   0  2   1     0     0      1      0      0   23  \n",
      "5   0  1   1     0     0      1      0      0   45  \n",
      "6   0  2   0     0     0      1      0      0   34  \n",
      "7   0  1   1     0     0      1      0      0    6  \n",
      "8   0  1   0     0     0      0      1      0   32  \n",
      "9   0  1   1     0     0      1      0      0    9  \n",
      "\n",
      "[10 rows x 55 columns]\n",
      "数据维度：(9773, 55)\n"
     ]
    }
   ],
   "source": [
    "# 检查缺失值\n",
    "print(df['楼层'].isnull().sum())\n",
    "# 填充缺失值为空字符串\n",
    "df['楼层'] = df['楼层'].fillna('')\n",
    "# 应用提取函数并创建新列\n",
    "df[['是否为底层', '是否为低层', '是否为中层', '是否为高层', '是否为顶层', '总楼层']] = df['楼层'].apply(\n",
    "    lambda x: pd.Series(extract_floor_info(x))\n",
    ")\n",
    "\n",
    "# print(df.columns)\n",
    "print(df.head(10))\n",
    "print(f\"数据维度：{df.shape}\")"
   ]
  },
  {
   "cell_type": "code",
   "execution_count": 11,
   "id": "532ee227-17ee-4ae3-af83-4e86984a3085",
   "metadata": {},
   "outputs": [
    {
     "name": "stdout",
     "output_type": "stream",
     "text": [
      "数据维度：(9773, 54)\n"
     ]
    }
   ],
   "source": [
    "df = df.drop(\"楼层\", axis=1)\n",
    "print(f\"数据维度：{df.shape}\")"
   ]
  },
  {
   "cell_type": "code",
   "execution_count": 12,
   "id": "934e56e6-0623-49bc-805b-68b8619a653e",
   "metadata": {},
   "outputs": [],
   "source": [
    "# 处理建筑面积\n",
    "def extract_area_value(text):\n",
    "    \"\"\"    \n",
    "    参数:\n",
    "    text: str - 建筑面积字符串，如\"$ 282.02m^{2} $\"\n",
    "    \n",
    "    返回:\n",
    "    float - 提取出的面积数值\n",
    "    \"\"\"\n",
    "    match = re.search(r\"(\\d+\\.?\\d*)\", text)\n",
    "    \n",
    "    if match:\n",
    "        return float(match.group(1))\n",
    "    else:\n",
    "        return 0  # 如果没有匹配到数字，返回0"
   ]
  },
  {
   "cell_type": "code",
   "execution_count": 13,
   "id": "12730dfe-d071-4233-a86c-54dedbb3fa9e",
   "metadata": {},
   "outputs": [
    {
     "name": "stdout",
     "output_type": "stream",
     "text": [
      "Index(['ID', '城市', '面积', '朝向', '交易时间', '付款方式', '租赁方式', '电梯', '车位', '用水', '用电',\n",
      "       '燃气', '采暖', '租期', '配套设施', 'lon', 'lat', '年份', '区县', '板块', '环线位置',\n",
      "       '物业类别', '建筑年代', '开发商', '房屋总数', '楼栋总数', '物业公司', '绿 化 率', '容 积 率',\n",
      "       '物 业 费', '建筑结构', '物业办公电话', '产权描述', '供水', '供暖', '供电', '燃气费', '供热费',\n",
      "       '停车位', '停车费用', 'coord_x', 'coord_y', '客户反馈', '室数', '厅数', '厨房数', '卫数',\n",
      "       '精装修', '是否为底层', '是否为低层', '是否为中层', '是否为高层', '是否为顶层', '总楼层', '建筑面积值'],\n",
      "      dtype='object')\n",
      "        ID  城市       面积   朝向        交易时间 付款方式 租赁方式 电梯    车位   用水  ... 厨房数 卫数  \\\n",
      "0  2000000   1   86.94㎡  南 北  2025-08-01  NaN   整租  有   NaN   民水  ...   0  1   \n",
      "1  2000001  10   72.60㎡    南  2025-05-23  月付价   整租  有   NaN   民水  ...   0  1   \n",
      "2  2000002   3   98.00㎡    南  2025-02-18  NaN   整租  有  租用车位  NaN  ...   0  1   \n",
      "3  2000003   0   98.97㎡  东 西  2025-02-17  季付价   整租  有   NaN   民水  ...   0  1   \n",
      "4  2000004   3  170.53㎡    南  2025-03-24  季付价   整租  有  租用车位   民水  ...   0  2   \n",
      "\n",
      "  精装修 是否为底层 是否为低层  是否为中层  是否为高层  是否为顶层  总楼层   建筑面积值  \n",
      "0   1     0     1      0      0      0   18   86.94  \n",
      "1   1     0     1      0      0      0    8   72.60  \n",
      "2   1     0     0      1      0      0   20   98.00  \n",
      "3   1     0     0      0      1      0   12   98.97  \n",
      "4   1     0     0      1      0      0   23  170.53  \n",
      "\n",
      "[5 rows x 55 columns]\n",
      "数据维度：(9773, 55)\n"
     ]
    }
   ],
   "source": [
    "df['建筑面积值'] = df['面积'].apply(extract_area_value)\n",
    "\n",
    "print(df.columns)\n",
    "print(df.head())\n",
    "print(f\"数据维度：{df.shape}\")"
   ]
  },
  {
   "cell_type": "code",
   "execution_count": 14,
   "id": "7ada40f3-7c98-47be-bfed-029381c78764",
   "metadata": {},
   "outputs": [
    {
     "name": "stdout",
     "output_type": "stream",
     "text": [
      "数据维度：(9773, 54)\n"
     ]
    }
   ],
   "source": [
    "df = df.drop(\"面积\", axis=1)\n",
    "print(f\"数据维度：{df.shape}\")"
   ]
  },
  {
   "cell_type": "code",
   "execution_count": 15,
   "id": "84fcb923-7edc-4dc3-8ca2-170ea5103253",
   "metadata": {},
   "outputs": [],
   "source": [
    "# 处理房屋朝向\n",
    "def extract_room_direction(text):\n",
    "    south = north = west = east = 0\n",
    "    \n",
    "    if \"南\" in text:\n",
    "        south = 1\n",
    "    if \"北\" in text:\n",
    "        north = 1\n",
    "    if \"西\" in text:\n",
    "        west = 1\n",
    "    if \"东\" in text:\n",
    "        east = 1\n",
    "    \n",
    "    return south, north, west, east"
   ]
  },
  {
   "cell_type": "code",
   "execution_count": 16,
   "id": "1b58aff9-02a3-42a5-ae81-a8763e803432",
   "metadata": {},
   "outputs": [
    {
     "name": "stdout",
     "output_type": "stream",
     "text": [
      "0\n",
      "Index(['ID', '城市', '朝向', '交易时间', '付款方式', '租赁方式', '电梯', '车位', '用水', '用电', '燃气',\n",
      "       '采暖', '租期', '配套设施', 'lon', 'lat', '年份', '区县', '板块', '环线位置', '物业类别',\n",
      "       '建筑年代', '开发商', '房屋总数', '楼栋总数', '物业公司', '绿 化 率', '容 积 率', '物 业 费',\n",
      "       '建筑结构', '物业办公电话', '产权描述', '供水', '供暖', '供电', '燃气费', '供热费', '停车位', '停车费用',\n",
      "       'coord_x', 'coord_y', '客户反馈', '室数', '厅数', '厨房数', '卫数', '精装修', '是否为底层',\n",
      "       '是否为低层', '是否为中层', '是否为高层', '是否为顶层', '总楼层', '建筑面积值', '向南', '向北', '向西',\n",
      "       '向东'],\n",
      "      dtype='object')\n",
      "        ID  城市   朝向        交易时间 付款方式 租赁方式 电梯    车位   用水   用电  ... 是否为低层 是否为中层  \\\n",
      "0  2000000   1  南 北  2025-08-01  NaN   整租  有   NaN   民水   民电  ...     1     0   \n",
      "1  2000001  10    南  2025-05-23  月付价   整租  有   NaN   民水   民电  ...     1     0   \n",
      "2  2000002   3    南  2025-02-18  NaN   整租  有  租用车位  NaN  NaN  ...     0     1   \n",
      "3  2000003   0  东 西  2025-02-17  季付价   整租  有   NaN   民水   民电  ...     0     0   \n",
      "4  2000004   3    南  2025-03-24  季付价   整租  有  租用车位   民水   民电  ...     0     1   \n",
      "\n",
      "  是否为高层 是否为顶层  总楼层   建筑面积值  向南  向北  向西 向东  \n",
      "0     0     0   18   86.94   1   1   0  0  \n",
      "1     0     0    8   72.60   1   0   0  0  \n",
      "2     0     0   20   98.00   1   0   0  0  \n",
      "3     1     0   12   98.97   0   0   1  1  \n",
      "4     0     0   23  170.53   1   0   0  0  \n",
      "\n",
      "[5 rows x 58 columns]\n",
      "数据维度：(9773, 58)\n"
     ]
    }
   ],
   "source": [
    "# 检查缺失值\n",
    "print(df['朝向'].isnull().sum())\n",
    "# 填充缺失值为空字符串\n",
    "df['朝向'] = df['朝向'].fillna('')\n",
    "# 应用提取函数并创建新列\n",
    "df[['向南', '向北', '向西', '向东']] = df['朝向'].apply(\n",
    "    lambda x: pd.Series(extract_room_direction(x))\n",
    ")\n",
    "\n",
    "print(df.columns)\n",
    "print(df.head())\n",
    "print(f\"数据维度：{df.shape}\")"
   ]
  },
  {
   "cell_type": "code",
   "execution_count": 17,
   "id": "11c47c41-90a5-4b4c-b9b4-0885edd3458c",
   "metadata": {},
   "outputs": [
    {
     "name": "stdout",
     "output_type": "stream",
     "text": [
      "数据维度：(9773, 57)\n"
     ]
    }
   ],
   "source": [
    "df = df.drop(\"朝向\", axis=1)\n",
    "print(f\"数据维度：{df.shape}\")"
   ]
  },
  {
   "cell_type": "code",
   "execution_count": 18,
   "id": "38eee046-ecd0-4ef8-8332-c2f601dfda54",
   "metadata": {},
   "outputs": [
    {
     "name": "stdout",
     "output_type": "stream",
     "text": [
      "0\n",
      "Index(['ID', '城市', '交易时间', '付款方式', '租赁方式', '电梯', '车位', '用水', '用电', '燃气', '采暖',\n",
      "       '租期', '配套设施', 'lon', 'lat', '年份', '区县', '板块', '环线位置', '物业类别', '建筑年代',\n",
      "       '开发商', '房屋总数', '楼栋总数', '物业公司', '绿 化 率', '容 积 率', '物 业 费', '建筑结构',\n",
      "       '物业办公电话', '产权描述', '供水', '供暖', '供电', '燃气费', '供热费', '停车位', '停车费用',\n",
      "       'coord_x', 'coord_y', '客户反馈', '室数', '厅数', '厨房数', '卫数', '精装修', '是否为底层',\n",
      "       '是否为低层', '是否为中层', '是否为高层', '是否为顶层', '总楼层', '建筑面积值', '向南', '向北', '向西',\n",
      "       '向东', '交易时间dt', '交易距今'],\n",
      "      dtype='object')\n",
      "        ID  城市        交易时间 付款方式 租赁方式 电梯    车位   用水   用电 燃气  ... 是否为高层 是否为顶层  \\\n",
      "0  2000000   1  2025-08-01  NaN   整租  有   NaN   民水   民电  有  ...     0     0   \n",
      "1  2000001  10  2025-05-23  月付价   整租  有   NaN   民水   民电  有  ...     0     0   \n",
      "2  2000002   3  2025-02-18  NaN   整租  有  租用车位  NaN  NaN  有  ...     0     0   \n",
      "3  2000003   0  2025-02-17  季付价   整租  有   NaN   民水   民电  有  ...     1     0   \n",
      "4  2000004   3  2025-03-24  季付价   整租  有  租用车位   民水   民电  有  ...     0     0   \n",
      "\n",
      "  总楼层   建筑面积值  向南  向北  向西  向东     交易时间dt 交易距今  \n",
      "0  18   86.94   1   1   0   0 2025-08-01  152  \n",
      "1   8   72.60   1   0   0   0 2025-05-23  222  \n",
      "2  20   98.00   1   0   0   0 2025-02-18  316  \n",
      "3  12   98.97   0   0   1   1 2025-02-17  317  \n",
      "4  23  170.53   1   0   0   0 2025-03-24  282  \n",
      "\n",
      "[5 rows x 59 columns]\n",
      "数据维度：(9773, 59)\n"
     ]
    }
   ],
   "source": [
    "# 检查缺失值\n",
    "target_column = \"交易时间\"\n",
    "print(df[target_column].isnull().sum())\n",
    "# 填充缺失值为空字符串\n",
    "df[target_column] = df[target_column].fillna('')\n",
    "\n",
    "# 将\"交易时间\"列转换为datetime类型\n",
    "df['交易时间dt'] = pd.to_datetime(df[target_column])\n",
    "# 设置参考日期为2025年12月31日\n",
    "reference_date = datetime(2025, 12, 31)\n",
    "# 计算每个交易日期距离参考日期的天数\n",
    "df['交易距今'] = (reference_date - df['交易时间dt']).dt.days\n",
    "\n",
    "print(df.columns)\n",
    "print(df.head())\n",
    "print(f\"数据维度：{df.shape}\")"
   ]
  },
  {
   "cell_type": "code",
   "execution_count": 19,
   "id": "be948ac4-609a-4b28-97f0-ead45d177ff8",
   "metadata": {},
   "outputs": [
    {
     "name": "stdout",
     "output_type": "stream",
     "text": [
      "数据维度：(9773, 57)\n"
     ]
    }
   ],
   "source": [
    "df = df.drop(\"交易时间\", axis=1)\n",
    "df = df.drop(\"交易时间dt\", axis=1)\n",
    "print(f\"数据维度：{df.shape}\")"
   ]
  },
  {
   "cell_type": "code",
   "execution_count": 20,
   "id": "6b5dbf3f-7326-4ec0-83a9-ffb773c46267",
   "metadata": {},
   "outputs": [],
   "source": [
    "# 处理付款方式\n",
    "def extract_pay_way(text):\n",
    "    jifu = shuangyuefu = yuefu = bannianfu = nianfu = 0\n",
    "    \n",
    "    if \"季付价\" in text:\n",
    "        jifu = 1\n",
    "    if \"双月付价\" in text:\n",
    "        shuangyuefu = 1\n",
    "    elif \"月付价\" in text:\n",
    "        yuefu = 1\n",
    "    if \"半年付价\" in text:\n",
    "        bannianfu = 1\n",
    "    elif \"年付价\" in text:\n",
    "        nianfu = 1\n",
    "    \n",
    "    return jifu, shuangyuefu, yuefu, bannianfu, nianfu"
   ]
  },
  {
   "cell_type": "code",
   "execution_count": 21,
   "id": "852f2eef-d466-4ce3-94c7-d9aa3442ecf2",
   "metadata": {},
   "outputs": [
    {
     "name": "stdout",
     "output_type": "stream",
     "text": [
      "2387\n",
      "Index(['ID', '城市', '付款方式', '租赁方式', '电梯', '车位', '用水', '用电', '燃气', '采暖', '租期',\n",
      "       '配套设施', 'lon', 'lat', '年份', '区县', '板块', '环线位置', '物业类别', '建筑年代', '开发商',\n",
      "       '房屋总数', '楼栋总数', '物业公司', '绿 化 率', '容 积 率', '物 业 费', '建筑结构', '物业办公电话',\n",
      "       '产权描述', '供水', '供暖', '供电', '燃气费', '供热费', '停车位', '停车费用', 'coord_x',\n",
      "       'coord_y', '客户反馈', '室数', '厅数', '厨房数', '卫数', '精装修', '是否为底层', '是否为低层',\n",
      "       '是否为中层', '是否为高层', '是否为顶层', '总楼层', '建筑面积值', '向南', '向北', '向西', '向东',\n",
      "       '交易距今', '季付', '双月付', '月付', '半年付价', '年付'],\n",
      "      dtype='object')\n",
      "        ID  城市 付款方式 租赁方式 电梯    车位   用水   用电 燃气    采暖  ... 向南 向北  向西  向东  交易距今  \\\n",
      "0  2000000   1        整租  有   NaN   民水   民电  有   自采暖  ...  1  1   0   0   152   \n",
      "1  2000001  10  月付价   整租  有   NaN   民水   民电  有   NaN  ...  1  0   0   0   222   \n",
      "2  2000002   3        整租  有  租用车位  NaN  NaN  有   NaN  ...  1  0   0   0   316   \n",
      "3  2000003   0  季付价   整租  有   NaN   民水   民电  有  集中供暖  ...  0  0   1   1   317   \n",
      "4  2000004   3  季付价   整租  有  租用车位   民水   民电  有   NaN  ...  1  0   0   0   282   \n",
      "\n",
      "   季付  双月付 月付 半年付价 年付  \n",
      "0   0    0  0    0  0  \n",
      "1   0    0  1    0  0  \n",
      "2   0    0  0    0  0  \n",
      "3   1    0  0    0  0  \n",
      "4   1    0  0    0  0  \n",
      "\n",
      "[5 rows x 62 columns]\n",
      "数据维度：(9773, 62)\n"
     ]
    }
   ],
   "source": [
    "# 检查缺失值\n",
    "print(df['付款方式'].isnull().sum())\n",
    "# 填充缺失值为空字符串\n",
    "df['付款方式'] = df['付款方式'].fillna('')\n",
    "# 应用提取函数并创建新列\n",
    "df[['季付', '双月付', '月付', '半年付价', '年付']] = df['付款方式'].apply(\n",
    "    lambda x: pd.Series(extract_pay_way(x))\n",
    ")\n",
    "\n",
    "print(df.columns)\n",
    "print(df.head())\n",
    "print(f\"数据维度：{df.shape}\")"
   ]
  },
  {
   "cell_type": "code",
   "execution_count": 22,
   "id": "c8d5e571-cd62-4209-a987-1c832a07b604",
   "metadata": {},
   "outputs": [
    {
     "name": "stdout",
     "output_type": "stream",
     "text": [
      "数据维度：(9773, 61)\n"
     ]
    }
   ],
   "source": [
    "df = df.drop(\"付款方式\", axis=1)\n",
    "print(f\"数据维度：{df.shape}\")"
   ]
  },
  {
   "cell_type": "code",
   "execution_count": 23,
   "id": "2f60a413-b80b-4a49-b73f-4e650604e688",
   "metadata": {},
   "outputs": [],
   "source": [
    "# 处理租赁方式\n",
    "def extract_rent_way(text):\n",
    "    zhengzu = hezu = 0\n",
    "    \n",
    "    if \"整租\" in text:\n",
    "        zhengzu = 1\n",
    "    if \"合租\" in text:\n",
    "        hezu = 1\n",
    "    \n",
    "    return zhengzu, hezu"
   ]
  },
  {
   "cell_type": "code",
   "execution_count": 24,
   "id": "44f0c95f-3509-4d7b-99dc-79c2d617f2bd",
   "metadata": {},
   "outputs": [
    {
     "name": "stdout",
     "output_type": "stream",
     "text": [
      "0\n",
      "Index(['ID', '城市', '租赁方式', '电梯', '车位', '用水', '用电', '燃气', '采暖', '租期', '配套设施',\n",
      "       'lon', 'lat', '年份', '区县', '板块', '环线位置', '物业类别', '建筑年代', '开发商', '房屋总数',\n",
      "       '楼栋总数', '物业公司', '绿 化 率', '容 积 率', '物 业 费', '建筑结构', '物业办公电话', '产权描述',\n",
      "       '供水', '供暖', '供电', '燃气费', '供热费', '停车位', '停车费用', 'coord_x', 'coord_y',\n",
      "       '客户反馈', '室数', '厅数', '厨房数', '卫数', '精装修', '是否为底层', '是否为低层', '是否为中层',\n",
      "       '是否为高层', '是否为顶层', '总楼层', '建筑面积值', '向南', '向北', '向西', '向东', '交易距今', '季付',\n",
      "       '双月付', '月付', '半年付价', '年付', '整租', '合租'],\n",
      "      dtype='object')\n",
      "        ID  城市 租赁方式 电梯    车位   用水   用电 燃气    采暖    租期  ... 向西  向东  交易距今  季付  \\\n",
      "0  2000000   1   整租  有   NaN   民水   民电  有   自采暖   NaN  ...  0   0   152   0   \n",
      "1  2000001  10   整租  有   NaN   民水   民电  有   NaN   NaN  ...  0   0   222   0   \n",
      "2  2000002   3   整租  有  租用车位  NaN  NaN  有   NaN  1年以内  ...  0   0   316   0   \n",
      "3  2000003   0   整租  有   NaN   民水   民电  有  集中供暖   NaN  ...  1   1   317   1   \n",
      "4  2000004   3   整租  有  租用车位   民水   民电  有   NaN   NaN  ...  0   0   282   1   \n",
      "\n",
      "   双月付  月付 半年付价 年付 整租 合租  \n",
      "0    0   0    0  0  1  0  \n",
      "1    0   1    0  0  1  0  \n",
      "2    0   0    0  0  1  0  \n",
      "3    0   0    0  0  1  0  \n",
      "4    0   0    0  0  1  0  \n",
      "\n",
      "[5 rows x 63 columns]\n",
      "数据维度：(9773, 63)\n"
     ]
    }
   ],
   "source": [
    "# 检查缺失值\n",
    "print(df['租赁方式'].isnull().sum())\n",
    "# 填充缺失值为空字符串\n",
    "df['租赁方式'] = df['租赁方式'].fillna('')\n",
    "# 应用提取函数并创建新列\n",
    "df[['整租', '合租']] = df['租赁方式'].apply(\n",
    "    lambda x: pd.Series(extract_rent_way(x))\n",
    ")\n",
    "\n",
    "print(df.columns)\n",
    "print(df.head())\n",
    "print(f\"数据维度：{df.shape}\")"
   ]
  },
  {
   "cell_type": "code",
   "execution_count": 25,
   "id": "78c86e86-2c33-4cc6-b287-91ed44ba4b85",
   "metadata": {},
   "outputs": [
    {
     "name": "stdout",
     "output_type": "stream",
     "text": [
      "数据维度：(9773, 62)\n"
     ]
    }
   ],
   "source": [
    "df = df.drop(\"租赁方式\", axis=1)\n",
    "print(f\"数据维度：{df.shape}\")"
   ]
  },
  {
   "cell_type": "code",
   "execution_count": 26,
   "id": "63db128c-c6e3-4158-9c08-ebfea7cc625c",
   "metadata": {},
   "outputs": [],
   "source": [
    "# 处理电梯\n",
    "def extract_ele(text):\n",
    "    is_elev = -1\n",
    "    \n",
    "    if \"有\" in text:\n",
    "        is_elev = 1\n",
    "    if \"无\" in text:\n",
    "        is_elev = 0\n",
    "    \n",
    "    return is_elev"
   ]
  },
  {
   "cell_type": "code",
   "execution_count": 27,
   "id": "f09cdc7a-8e18-45f9-997b-b0a416b9029e",
   "metadata": {},
   "outputs": [
    {
     "name": "stdout",
     "output_type": "stream",
     "text": [
      "0\n",
      "Index(['ID', '城市', '电梯', '车位', '用水', '用电', '燃气', '采暖', '租期', '配套设施', 'lon',\n",
      "       'lat', '年份', '区县', '板块', '环线位置', '物业类别', '建筑年代', '开发商', '房屋总数', '楼栋总数',\n",
      "       '物业公司', '绿 化 率', '容 积 率', '物 业 费', '建筑结构', '物业办公电话', '产权描述', '供水', '供暖',\n",
      "       '供电', '燃气费', '供热费', '停车位', '停车费用', 'coord_x', 'coord_y', '客户反馈', '室数',\n",
      "       '厅数', '厨房数', '卫数', '精装修', '是否为底层', '是否为低层', '是否为中层', '是否为高层', '是否为顶层',\n",
      "       '总楼层', '建筑面积值', '向南', '向北', '向西', '向东', '交易距今', '季付', '双月付', '月付',\n",
      "       '半年付价', '年付', '整租', '合租', '是否有电梯'],\n",
      "      dtype='object')\n",
      "        ID  城市 电梯    车位   用水   用电 燃气    采暖    租期  \\\n",
      "0  2000000   1  有   NaN   民水   民电  有   自采暖   NaN   \n",
      "1  2000001  10  有   NaN   民水   民电  有   NaN   NaN   \n",
      "2  2000002   3  有  租用车位  NaN  NaN  有   NaN  1年以内   \n",
      "3  2000003   0  有   NaN   民水   民电  有  集中供暖   NaN   \n",
      "4  2000004   3  有  租用车位   民水   民电  有   NaN   NaN   \n",
      "\n",
      "                             配套设施  ...  向东  交易距今  季付  双月付  月付 半年付价 年付 整租 合租  \\\n",
      "0  洗衣机、空调、衣柜、电视、冰箱、热水器、床、暖气、宽带、天然  ...   0   152   0    0   0    0  0  1  0   \n",
      "1              洗衣机、空调、衣柜、冰箱、热水器、床  ...   0   222   0    0   1    0  0  1  0   \n",
      "2       洗衣机、空调、衣柜、电视、冰箱、热水器、床、天然气  ...   0   316   0    0   0    0  0  1  0   \n",
      "3                             NaN  ...   1   317   1    0   0    0  0  1  0   \n",
      "4       洗衣机、空调、衣柜、电视、冰箱、热水器、床、天然气  ...   0   282   1    0   0    0  0  1  0   \n",
      "\n",
      "  是否有电梯  \n",
      "0     1  \n",
      "1     1  \n",
      "2     1  \n",
      "3     1  \n",
      "4     1  \n",
      "\n",
      "[5 rows x 63 columns]\n",
      "数据维度：(9773, 63)\n"
     ]
    }
   ],
   "source": [
    "# 检查缺失值\n",
    "print(df['电梯'].isnull().sum())\n",
    "# 填充缺失值为空字符串\n",
    "df['电梯'] = df['电梯'].fillna('')\n",
    "# 应用提取函数并创建新列\n",
    "df[['是否有电梯']] = df['电梯'].apply(\n",
    "    lambda x: pd.Series(extract_ele(x))\n",
    ")\n",
    "\n",
    "print(df.columns)\n",
    "print(df.head())\n",
    "print(f\"数据维度：{df.shape}\")"
   ]
  },
  {
   "cell_type": "code",
   "execution_count": 28,
   "id": "ca638af0-4c75-4c48-8ef9-94b258d95048",
   "metadata": {},
   "outputs": [
    {
     "name": "stdout",
     "output_type": "stream",
     "text": [
      "数据维度：(9773, 62)\n"
     ]
    }
   ],
   "source": [
    "df = df.drop(\"电梯\", axis=1)\n",
    "print(f\"数据维度：{df.shape}\")"
   ]
  },
  {
   "cell_type": "code",
   "execution_count": 29,
   "id": "b891ab9a-8325-44d6-99d5-478f25c19d2a",
   "metadata": {},
   "outputs": [],
   "source": [
    "# 处理车位\n",
    "def extract_park_where(text):\n",
    "    zuyong = mianfei = 0\n",
    "    \n",
    "    if \"租用车位\" in text:\n",
    "        zuyong = 1\n",
    "    if \"免费使用\" in text:\n",
    "        mianfei = 1\n",
    "    \n",
    "    return zuyong, mianfei"
   ]
  },
  {
   "cell_type": "code",
   "execution_count": 30,
   "id": "e3b33c8d-4d00-4c8a-8ca9-9fa48f904ded",
   "metadata": {},
   "outputs": [
    {
     "name": "stdout",
     "output_type": "stream",
     "text": [
      "7611\n",
      "Index(['ID', '城市', '车位', '用水', '用电', '燃气', '采暖', '租期', '配套设施', 'lon', 'lat',\n",
      "       '年份', '区县', '板块', '环线位置', '物业类别', '建筑年代', '开发商', '房屋总数', '楼栋总数', '物业公司',\n",
      "       '绿 化 率', '容 积 率', '物 业 费', '建筑结构', '物业办公电话', '产权描述', '供水', '供暖', '供电',\n",
      "       '燃气费', '供热费', '停车位', '停车费用', 'coord_x', 'coord_y', '客户反馈', '室数', '厅数',\n",
      "       '厨房数', '卫数', '精装修', '是否为底层', '是否为低层', '是否为中层', '是否为高层', '是否为顶层', '总楼层',\n",
      "       '建筑面积值', '向南', '向北', '向西', '向东', '交易距今', '季付', '双月付', '月付', '半年付价',\n",
      "       '年付', '整租', '合租', '是否有电梯', '租用车位', '免费使用'],\n",
      "      dtype='object')\n",
      "        ID  城市    车位   用水   用电 燃气    采暖    租期                            配套设施  \\\n",
      "0  2000000   1         民水   民电  有   自采暖   NaN  洗衣机、空调、衣柜、电视、冰箱、热水器、床、暖气、宽带、天然   \n",
      "1  2000001  10         民水   民电  有   NaN   NaN              洗衣机、空调、衣柜、冰箱、热水器、床   \n",
      "2  2000002   3  租用车位  NaN  NaN  有   NaN  1年以内       洗衣机、空调、衣柜、电视、冰箱、热水器、床、天然气   \n",
      "3  2000003   0         民水   民电  有  集中供暖   NaN                             NaN   \n",
      "4  2000004   3  租用车位   民水   民电  有   NaN   NaN       洗衣机、空调、衣柜、电视、冰箱、热水器、床、天然气   \n",
      "\n",
      "          lon  ...  季付  双月付  月付  半年付价 年付 整租 合租 是否有电梯 租用车位 免费使用  \n",
      "0  117.345687  ...   0    0   0     0  0  1  0     1    0    0  \n",
      "1  114.279469  ...   0    0   1     0  0  1  0     1    0    0  \n",
      "2  121.684578  ...   0    0   0     0  0  1  0     1    1    0  \n",
      "3  117.323901  ...   1    0   0     0  0  1  0     1    0    0  \n",
      "4  121.718296  ...   1    0   0     0  0  1  0     1    1    0  \n",
      "\n",
      "[5 rows x 64 columns]\n",
      "数据维度：(9773, 64)\n"
     ]
    }
   ],
   "source": [
    "# 检查缺失值\n",
    "print(df['车位'].isnull().sum())\n",
    "# 填充缺失值为空字符串\n",
    "df['车位'] = df['车位'].fillna('')\n",
    "# 应用提取函数并创建新列\n",
    "df[['租用车位', '免费使用']] = df['车位'].apply(\n",
    "    lambda x: pd.Series(extract_park_where(x))\n",
    ")\n",
    "\n",
    "print(df.columns)\n",
    "print(df.head())\n",
    "print(f\"数据维度：{df.shape}\")"
   ]
  },
  {
   "cell_type": "code",
   "execution_count": 31,
   "id": "65274e5b-99f4-442c-8ed2-7bf44aa70a3f",
   "metadata": {},
   "outputs": [
    {
     "name": "stdout",
     "output_type": "stream",
     "text": [
      "数据维度：(9773, 63)\n"
     ]
    }
   ],
   "source": [
    "df = df.drop(\"车位\", axis=1)\n",
    "print(f\"数据维度：{df.shape}\")"
   ]
  },
  {
   "cell_type": "code",
   "execution_count": 32,
   "id": "22e5c95e-dd58-46cb-8ece-b47b4662455d",
   "metadata": {},
   "outputs": [],
   "source": [
    "# 处理供水\n",
    "def extract_water_giving(text):\n",
    "    minshui = shangshui = 0\n",
    "    if \"民水\" in text:\n",
    "        minshui = 1\n",
    "    if \"商水\" in text:\n",
    "        shangshui = 1\n",
    "    \n",
    "    return minshui, shangshui"
   ]
  },
  {
   "cell_type": "code",
   "execution_count": 33,
   "id": "096917ce-e451-45c7-b628-7f4b8af9a9e5",
   "metadata": {},
   "outputs": [
    {
     "name": "stdout",
     "output_type": "stream",
     "text": [
      "2273\n",
      "Index(['ID', '城市', '用水', '用电', '燃气', '采暖', '租期', '配套设施', 'lon', 'lat', '年份',\n",
      "       '区县', '板块', '环线位置', '物业类别', '建筑年代', '开发商', '房屋总数', '楼栋总数', '物业公司',\n",
      "       '绿 化 率', '容 积 率', '物 业 费', '建筑结构', '物业办公电话', '产权描述', '供水', '供暖', '供电',\n",
      "       '燃气费', '供热费', '停车位', '停车费用', 'coord_x', 'coord_y', '客户反馈', '室数', '厅数',\n",
      "       '厨房数', '卫数', '精装修', '是否为底层', '是否为低层', '是否为中层', '是否为高层', '是否为顶层', '总楼层',\n",
      "       '建筑面积值', '向南', '向北', '向西', '向东', '交易距今', '季付', '双月付', '月付', '半年付价',\n",
      "       '年付', '整租', '合租', '是否有电梯', '租用车位', '免费使用', '民水供水1', '商水供水1'],\n",
      "      dtype='object')\n",
      "        ID  城市  用水   用电 燃气    采暖    租期                            配套设施  \\\n",
      "0  2000000   1  民水   民电  有   自采暖   NaN  洗衣机、空调、衣柜、电视、冰箱、热水器、床、暖气、宽带、天然   \n",
      "1  2000001  10  民水   民电  有   NaN   NaN              洗衣机、空调、衣柜、冰箱、热水器、床   \n",
      "2  2000002   3      NaN  有   NaN  1年以内       洗衣机、空调、衣柜、电视、冰箱、热水器、床、天然气   \n",
      "3  2000003   0  民水   民电  有  集中供暖   NaN                             NaN   \n",
      "4  2000004   3  民水   民电  有   NaN   NaN       洗衣机、空调、衣柜、电视、冰箱、热水器、床、天然气   \n",
      "\n",
      "          lon        lat  ...  月付  半年付价  年付 整租 合租 是否有电梯 租用车位 免费使用 民水供水1 商水供水1  \n",
      "0  117.345687  40.447235  ...   0     0   0  1  0     1    0    0     1     0  \n",
      "1  114.279469  24.158183  ...   1     0   0  1  0     1    0    0     1     0  \n",
      "2  121.684578  32.198660  ...   0     0   0  1  0     1    1    0     0     0  \n",
      "3  117.323901  40.935338  ...   0     0   0  1  0     1    0    0     1     0  \n",
      "4  121.718296  32.335562  ...   0     0   0  1  0     1    1    0     1     0  \n",
      "\n",
      "[5 rows x 65 columns]\n",
      "数据维度：(9773, 65)\n"
     ]
    }
   ],
   "source": [
    "# 检查缺失值\n",
    "target_column = \"用水\"\n",
    "print(df[target_column].isnull().sum())\n",
    "# 填充缺失值为空字符串\n",
    "df[target_column] = df[target_column].fillna('')\n",
    "# 应用提取函数并创建新列\n",
    "df[['民水供水1', '商水供水1']] = df[target_column].apply(\n",
    "    lambda x: pd.Series(extract_water_giving(x))\n",
    ")\n",
    "\n",
    "print(df.columns)\n",
    "print(df.head())\n",
    "print(f\"数据维度：{df.shape}\")"
   ]
  },
  {
   "cell_type": "code",
   "execution_count": 34,
   "id": "23ee227f-038d-4e09-9399-d3efdd3c2026",
   "metadata": {},
   "outputs": [
    {
     "name": "stdout",
     "output_type": "stream",
     "text": [
      "数据维度：(9773, 64)\n"
     ]
    }
   ],
   "source": [
    "df = df.drop(\"用水\", axis=1)\n",
    "print(f\"数据维度：{df.shape}\")"
   ]
  },
  {
   "cell_type": "code",
   "execution_count": 35,
   "id": "034b74cd-aabc-477f-aca9-ea4774176b13",
   "metadata": {},
   "outputs": [],
   "source": [
    "# 处理供电\n",
    "def extract_elec_giving(text):\n",
    "    mindian = shangdian = 0\n",
    "    if \"民电\" in text:\n",
    "        mindian = 1\n",
    "    if \"商电\" in text:\n",
    "        shangdian = 1\n",
    "    \n",
    "    return mindian, shangdian"
   ]
  },
  {
   "cell_type": "code",
   "execution_count": 36,
   "id": "7ce3b4cc-44a9-4b2a-9de3-b75a8dc22bec",
   "metadata": {},
   "outputs": [
    {
     "name": "stdout",
     "output_type": "stream",
     "text": [
      "2227\n",
      "Index(['ID', '城市', '用电', '燃气', '采暖', '租期', '配套设施', 'lon', 'lat', '年份', '区县',\n",
      "       '板块', '环线位置', '物业类别', '建筑年代', '开发商', '房屋总数', '楼栋总数', '物业公司', '绿 化 率',\n",
      "       '容 积 率', '物 业 费', '建筑结构', '物业办公电话', '产权描述', '供水', '供暖', '供电', '燃气费',\n",
      "       '供热费', '停车位', '停车费用', 'coord_x', 'coord_y', '客户反馈', '室数', '厅数', '厨房数',\n",
      "       '卫数', '精装修', '是否为底层', '是否为低层', '是否为中层', '是否为高层', '是否为顶层', '总楼层',\n",
      "       '建筑面积值', '向南', '向北', '向西', '向东', '交易距今', '季付', '双月付', '月付', '半年付价',\n",
      "       '年付', '整租', '合租', '是否有电梯', '租用车位', '免费使用', '民水供水1', '商水供水1', '民电供电1',\n",
      "       '商电供电1'],\n",
      "      dtype='object')\n",
      "        ID  城市  用电 燃气    采暖    租期                            配套设施         lon  \\\n",
      "0  2000000   1  民电  有   自采暖   NaN  洗衣机、空调、衣柜、电视、冰箱、热水器、床、暖气、宽带、天然  117.345687   \n",
      "1  2000001  10  民电  有   NaN   NaN              洗衣机、空调、衣柜、冰箱、热水器、床  114.279469   \n",
      "2  2000002   3      有   NaN  1年以内       洗衣机、空调、衣柜、电视、冰箱、热水器、床、天然气  121.684578   \n",
      "3  2000003   0  民电  有  集中供暖   NaN                             NaN  117.323901   \n",
      "4  2000004   3  民电  有   NaN   NaN       洗衣机、空调、衣柜、电视、冰箱、热水器、床、天然气  121.718296   \n",
      "\n",
      "         lat      年份  ...  年付  整租 合租 是否有电梯 租用车位 免费使用 民水供水1 商水供水1 民电供电1 商电供电1  \n",
      "0  40.447235  2023.0  ...   0   1  0     1    0    0     1     0     0     0  \n",
      "1  24.158183  2022.0  ...   0   1  0     1    0    0     1     0     0     0  \n",
      "2  32.198660  2022.0  ...   0   1  0     1    1    0     0     0     0     0  \n",
      "3  40.935338  2022.0  ...   0   1  0     1    0    0     1     0     0     0  \n",
      "4  32.335562  2022.0  ...   0   1  0     1    1    0     1     0     0     0  \n",
      "\n",
      "[5 rows x 66 columns]\n",
      "数据维度：(9773, 66)\n"
     ]
    }
   ],
   "source": [
    "# 检查缺失值\n",
    "target_column = \"用电\"\n",
    "print(df[target_column].isnull().sum())\n",
    "# 填充缺失值为空字符串\n",
    "df[target_column] = df[target_column].fillna('')\n",
    "# 应用提取函数并创建新列\n",
    "df[['民电供电1', '商电供电1']] = df[target_column].apply(\n",
    "    lambda x: pd.Series(extract_water_giving(x))\n",
    ")\n",
    "\n",
    "print(df.columns)\n",
    "print(df.head())\n",
    "print(f\"数据维度：{df.shape}\")"
   ]
  },
  {
   "cell_type": "code",
   "execution_count": 37,
   "id": "2516e3fa-a4c1-437f-9075-227958a4648a",
   "metadata": {},
   "outputs": [
    {
     "name": "stdout",
     "output_type": "stream",
     "text": [
      "数据维度：(9773, 65)\n"
     ]
    }
   ],
   "source": [
    "df = df.drop(\"用电\", axis=1)\n",
    "print(f\"数据维度：{df.shape}\")"
   ]
  },
  {
   "cell_type": "code",
   "execution_count": 38,
   "id": "3fcf0ac9-c9bb-4bca-9889-7e62676164ab",
   "metadata": {},
   "outputs": [],
   "source": [
    "# 处理燃气\n",
    "def extract_burn(text):\n",
    "    is_elev = -1\n",
    "    \n",
    "    if \"有\" in text:\n",
    "        is_elev = 1\n",
    "    if \"无\" in text:\n",
    "        is_elev = 0\n",
    "    \n",
    "    return is_elev"
   ]
  },
  {
   "cell_type": "code",
   "execution_count": 39,
   "id": "e45a7e03-c0de-4f70-8da3-4077b8f1f687",
   "metadata": {},
   "outputs": [
    {
     "name": "stdout",
     "output_type": "stream",
     "text": [
      "591\n",
      "Index(['ID', '城市', '燃气', '采暖', '租期', '配套设施', 'lon', 'lat', '年份', '区县', '板块',\n",
      "       '环线位置', '物业类别', '建筑年代', '开发商', '房屋总数', '楼栋总数', '物业公司', '绿 化 率', '容 积 率',\n",
      "       '物 业 费', '建筑结构', '物业办公电话', '产权描述', '供水', '供暖', '供电', '燃气费', '供热费',\n",
      "       '停车位', '停车费用', 'coord_x', 'coord_y', '客户反馈', '室数', '厅数', '厨房数', '卫数',\n",
      "       '精装修', '是否为底层', '是否为低层', '是否为中层', '是否为高层', '是否为顶层', '总楼层', '建筑面积值',\n",
      "       '向南', '向北', '向西', '向东', '交易距今', '季付', '双月付', '月付', '半年付价', '年付', '整租',\n",
      "       '合租', '是否有电梯', '租用车位', '免费使用', '民水供水1', '商水供水1', '民电供电1', '商电供电1',\n",
      "       '是否有燃气'],\n",
      "      dtype='object')\n",
      "        ID  城市 燃气    采暖    租期                            配套设施         lon  \\\n",
      "0  2000000   1  有   自采暖   NaN  洗衣机、空调、衣柜、电视、冰箱、热水器、床、暖气、宽带、天然  117.345687   \n",
      "1  2000001  10  有   NaN   NaN              洗衣机、空调、衣柜、冰箱、热水器、床  114.279469   \n",
      "2  2000002   3  有   NaN  1年以内       洗衣机、空调、衣柜、电视、冰箱、热水器、床、天然气  121.684578   \n",
      "3  2000003   0  有  集中供暖   NaN                             NaN  117.323901   \n",
      "4  2000004   3  有   NaN   NaN       洗衣机、空调、衣柜、电视、冰箱、热水器、床、天然气  121.718296   \n",
      "\n",
      "         lat      年份     区县  ...  整租 合租 是否有电梯 租用车位 免费使用 民水供水1 商水供水1 民电供电1  \\\n",
      "0  40.447235  2023.0   24.0  ...   1  0     1    0    0     1     0     0   \n",
      "1  24.158183  2022.0  105.0  ...   1  0     1    0    0     1     0     0   \n",
      "2  32.198660  2022.0   21.0  ...   1  0     1    1    0     0     0     0   \n",
      "3  40.935338  2022.0   81.0  ...   1  0     1    0    0     1     0     0   \n",
      "4  32.335562  2022.0   49.0  ...   1  0     1    1    0     1     0     0   \n",
      "\n",
      "  商电供电1  是否有燃气  \n",
      "0     0      1  \n",
      "1     0      1  \n",
      "2     0      1  \n",
      "3     0      1  \n",
      "4     0      1  \n",
      "\n",
      "[5 rows x 66 columns]\n",
      "数据维度：(9773, 66)\n"
     ]
    }
   ],
   "source": [
    "# 检查缺失值\n",
    "print(df['燃气'].isnull().sum())\n",
    "# 填充缺失值为空字符串\n",
    "df['燃气'] = df['燃气'].fillna('')\n",
    "# 应用提取函数并创建新列\n",
    "df[['是否有燃气']] = df['燃气'].apply(\n",
    "    lambda x: pd.Series(extract_burn(x))\n",
    ")\n",
    "\n",
    "print(df.columns)\n",
    "print(df.head())\n",
    "print(f\"数据维度：{df.shape}\")"
   ]
  },
  {
   "cell_type": "code",
   "execution_count": 40,
   "id": "7e5edd05-f6d6-406d-9901-621a9d197080",
   "metadata": {},
   "outputs": [
    {
     "name": "stdout",
     "output_type": "stream",
     "text": [
      "数据维度：(9773, 65)\n"
     ]
    }
   ],
   "source": [
    "df = df.drop(\"燃气\", axis=1)\n",
    "print(f\"数据维度：{df.shape}\")"
   ]
  },
  {
   "cell_type": "code",
   "execution_count": 41,
   "id": "c9772ef4-71d4-4bab-9b86-e7ca2a905fe2",
   "metadata": {},
   "outputs": [],
   "source": [
    "# 处理供暖\n",
    "def extract_warm_giving(text):\n",
    "    jizhong = zi = 0\n",
    "    if \"集中供暖\" in text:\n",
    "        jizhong = 1\n",
    "    if \"自采暖\" in text:\n",
    "        zi = 1\n",
    "    \n",
    "    return jizhong, zi"
   ]
  },
  {
   "cell_type": "code",
   "execution_count": 42,
   "id": "3c484d85-4aca-42d8-9223-bacf78d27682",
   "metadata": {},
   "outputs": [
    {
     "name": "stdout",
     "output_type": "stream",
     "text": [
      "6560\n",
      "Index(['ID', '城市', '采暖', '租期', '配套设施', 'lon', 'lat', '年份', '区县', '板块', '环线位置',\n",
      "       '物业类别', '建筑年代', '开发商', '房屋总数', '楼栋总数', '物业公司', '绿 化 率', '容 积 率',\n",
      "       '物 业 费', '建筑结构', '物业办公电话', '产权描述', '供水', '供暖', '供电', '燃气费', '供热费',\n",
      "       '停车位', '停车费用', 'coord_x', 'coord_y', '客户反馈', '室数', '厅数', '厨房数', '卫数',\n",
      "       '精装修', '是否为底层', '是否为低层', '是否为中层', '是否为高层', '是否为顶层', '总楼层', '建筑面积值',\n",
      "       '向南', '向北', '向西', '向东', '交易距今', '季付', '双月付', '月付', '半年付价', '年付', '整租',\n",
      "       '合租', '是否有电梯', '租用车位', '免费使用', '民水供水1', '商水供水1', '民电供电1', '商电供电1',\n",
      "       '是否有燃气', '集中供暖1', '自采暖1'],\n",
      "      dtype='object')\n",
      "        ID  城市    采暖    租期                            配套设施         lon  \\\n",
      "0  2000000   1   自采暖   NaN  洗衣机、空调、衣柜、电视、冰箱、热水器、床、暖气、宽带、天然  117.345687   \n",
      "1  2000001  10         NaN              洗衣机、空调、衣柜、冰箱、热水器、床  114.279469   \n",
      "2  2000002   3        1年以内       洗衣机、空调、衣柜、电视、冰箱、热水器、床、天然气  121.684578   \n",
      "3  2000003   0  集中供暖   NaN                             NaN  117.323901   \n",
      "4  2000004   3         NaN       洗衣机、空调、衣柜、电视、冰箱、热水器、床、天然气  121.718296   \n",
      "\n",
      "         lat      年份     区县     板块  ... 是否有电梯 租用车位 免费使用 民水供水1 商水供水1 民电供电1  \\\n",
      "0  40.447235  2023.0   24.0  303.0  ...     1    0    0     1     0     0   \n",
      "1  24.158183  2022.0  105.0  985.0  ...     1    0    0     1     0     0   \n",
      "2  32.198660  2022.0   21.0  387.0  ...     1    1    0     0     0     0   \n",
      "3  40.935338  2022.0   81.0  111.0  ...     1    0    0     1     0     0   \n",
      "4  32.335562  2022.0   49.0  732.0  ...     1    1    0     1     0     0   \n",
      "\n",
      "  商电供电1 是否有燃气  集中供暖1 自采暖1  \n",
      "0     0     1      0    1  \n",
      "1     0     1      0    0  \n",
      "2     0     1      0    0  \n",
      "3     0     1      1    0  \n",
      "4     0     1      0    0  \n",
      "\n",
      "[5 rows x 67 columns]\n",
      "数据维度：(9773, 67)\n"
     ]
    }
   ],
   "source": [
    "# 检查缺失值\n",
    "target_column = \"采暖\"\n",
    "print(df[target_column].isnull().sum())\n",
    "# 填充缺失值为空字符串\n",
    "df[target_column] = df[target_column].fillna('')\n",
    "# 应用提取函数并创建新列\n",
    "df[['集中供暖1', '自采暖1']] = df[target_column].apply(\n",
    "    lambda x: pd.Series(extract_warm_giving(x))\n",
    ")\n",
    "\n",
    "print(df.columns)\n",
    "print(df.head())\n",
    "print(f\"数据维度：{df.shape}\")"
   ]
  },
  {
   "cell_type": "code",
   "execution_count": 43,
   "id": "32ecc8c3-c8b4-461c-844f-9382c3eeccf7",
   "metadata": {},
   "outputs": [
    {
     "name": "stdout",
     "output_type": "stream",
     "text": [
      "数据维度：(9773, 66)\n"
     ]
    }
   ],
   "source": [
    "df = df.drop(\"采暖\", axis=1)\n",
    "print(f\"数据维度：{df.shape}\")"
   ]
  },
  {
   "cell_type": "code",
   "execution_count": 44,
   "id": "d7e09b35-badb-4317-8cf4-7d53009675f5",
   "metadata": {},
   "outputs": [],
   "source": [
    "def calculate_lease_months(time_desc):\n",
    "    \"\"\"\n",
    "    从时间描述计算租赁月份数\n",
    "    \n",
    "    参数:\n",
    "    time_desc: str - 时间描述字符串\n",
    "    \n",
    "    返回:\n",
    "    float - 计算的月份数\n",
    "    \"\"\"\n",
    "    # 检查是否为空值\n",
    "    if pd.isna(time_desc):\n",
    "        return -1.0\n",
    "    \n",
    "    # 转换为字符串并去除前后空格\n",
    "    desc = str(time_desc).strip()\n",
    "    \n",
    "    try:\n",
    "        # 处理\"以内\"情况 - 时间乘以0.75\n",
    "        if '以内' in desc:\n",
    "            # 提取数字\n",
    "            match = re.search(r'(\\d+(?:\\.\\d+)?)', desc)\n",
    "            if match:\n",
    "                num = float(match.group(1))\n",
    "                # 检查单位是年还是月\n",
    "                if '年' in desc:\n",
    "                    return num * 12 * 0.75\n",
    "                else:  # 默认是月\n",
    "                    return num * 0.75\n",
    "        \n",
    "        # 处理\"以上\"情况 - 时间乘以1.5\n",
    "        elif '以上' in desc:\n",
    "            # 提取数字\n",
    "            match = re.search(r'(\\d+(?:\\.\\d+)?)', desc)\n",
    "            if match:\n",
    "                num = float(match.group(1))\n",
    "                # 检查单位是年还是月\n",
    "                if '年' in desc:\n",
    "                    return num * 12 * 1.5\n",
    "                else:  # 默认是月\n",
    "                    return num * 1.5\n",
    "        \n",
    "        # 处理范围情况\"~\" - 取平均值\n",
    "        elif '~' in desc:\n",
    "            # 提取两个数字\n",
    "            matches = re.findall(r'(\\d+(?:\\.\\d+)?)', desc)\n",
    "            if len(matches) == 2:\n",
    "                num1 = float(matches[0])\n",
    "                num2 = float(matches[1])\n",
    "                avg = (num1 + num2) / 2\n",
    "                \n",
    "                # 检查单位是年还是月\n",
    "                if '年' in desc:\n",
    "                    return avg * 12\n",
    "                else:  # 默认是月\n",
    "                    return avg\n",
    "        \n",
    "        # 处理单个数字情况\n",
    "        else:\n",
    "            # 提取数字\n",
    "            match = re.search(r'(\\d+(?:\\.\\d+)?)', desc)\n",
    "            if match:\n",
    "                num = float(match.group(1))\n",
    "                # 检查单位是年还是月\n",
    "                if '年' in desc:\n",
    "                    return num * 12\n",
    "                else:  # 默认是月\n",
    "                    return num\n",
    "        \n",
    "        # 如果以上都不匹配，返回-1\n",
    "        return -1.0\n",
    "    \n",
    "    except (ValueError, IndexError, AttributeError):\n",
    "        return -1.0"
   ]
  },
  {
   "cell_type": "code",
   "execution_count": 45,
   "id": "40c8c07d-c2ac-47ac-9969-2e691e4a14da",
   "metadata": {},
   "outputs": [
    {
     "name": "stdout",
     "output_type": "stream",
     "text": [
      "5175\n",
      "Index(['ID', '城市', '租期', '配套设施', 'lon', 'lat', '年份', '区县', '板块', '环线位置',\n",
      "       '物业类别', '建筑年代', '开发商', '房屋总数', '楼栋总数', '物业公司', '绿 化 率', '容 积 率',\n",
      "       '物 业 费', '建筑结构', '物业办公电话', '产权描述', '供水', '供暖', '供电', '燃气费', '供热费',\n",
      "       '停车位', '停车费用', 'coord_x', 'coord_y', '客户反馈', '室数', '厅数', '厨房数', '卫数',\n",
      "       '精装修', '是否为底层', '是否为低层', '是否为中层', '是否为高层', '是否为顶层', '总楼层', '建筑面积值',\n",
      "       '向南', '向北', '向西', '向东', '交易距今', '季付', '双月付', '月付', '半年付价', '年付', '整租',\n",
      "       '合租', '是否有电梯', '租用车位', '免费使用', '民水供水1', '商水供水1', '民电供电1', '商电供电1',\n",
      "       '是否有燃气', '集中供暖1', '自采暖1', '租赁时间'],\n",
      "      dtype='object')\n",
      "        ID  城市    租期                            配套设施         lon        lat  \\\n",
      "0  2000000   1        洗衣机、空调、衣柜、电视、冰箱、热水器、床、暖气、宽带、天然  117.345687  40.447235   \n",
      "1  2000001  10                    洗衣机、空调、衣柜、冰箱、热水器、床  114.279469  24.158183   \n",
      "2  2000002   3  1年以内       洗衣机、空调、衣柜、电视、冰箱、热水器、床、天然气  121.684578  32.198660   \n",
      "3  2000003   0                                   NaN  117.323901  40.935338   \n",
      "4  2000004   3             洗衣机、空调、衣柜、电视、冰箱、热水器、床、天然气  121.718296  32.335562   \n",
      "\n",
      "       年份     区县     板块  环线位置  ... 租用车位 免费使用 民水供水1 商水供水1 民电供电1 商电供电1 是否有燃气  \\\n",
      "0  2023.0   24.0  303.0   NaN  ...    0    0     1     0     0     0     1   \n",
      "1  2022.0  105.0  985.0   NaN  ...    0    0     1     0     0     0     1   \n",
      "2  2022.0   21.0  387.0   NaN  ...    1    0     0     0     0     0     1   \n",
      "3  2022.0   81.0  111.0  三至四环  ...    0    0     1     0     0     0     1   \n",
      "4  2022.0   49.0  732.0   NaN  ...    1    0     1     0     0     0     1   \n",
      "\n",
      "   集中供暖1 自采暖1 租赁时间  \n",
      "0      0    1 -1.0  \n",
      "1      0    0 -1.0  \n",
      "2      0    0  9.0  \n",
      "3      1    0 -1.0  \n",
      "4      0    0 -1.0  \n",
      "\n",
      "[5 rows x 67 columns]\n",
      "数据维度：(9773, 67)\n"
     ]
    }
   ],
   "source": [
    "# 检查缺失值\n",
    "target_column = \"租期\"\n",
    "print(df[target_column].isnull().sum())\n",
    "# 填充缺失值为空字符串\n",
    "df[target_column] = df[target_column].fillna('')\n",
    "# 应用提取函数并创建新列\n",
    "df[['租赁时间']] = df[target_column].apply(\n",
    "    lambda x: pd.Series(calculate_lease_months(x))\n",
    ")\n",
    "\n",
    "print(df.columns)\n",
    "print(df.head())\n",
    "print(f\"数据维度：{df.shape}\")"
   ]
  },
  {
   "cell_type": "code",
   "execution_count": 46,
   "id": "c2aedc00-e52b-4da0-b636-32957c7ae641",
   "metadata": {},
   "outputs": [
    {
     "name": "stdout",
     "output_type": "stream",
     "text": [
      "数据维度：(9773, 66)\n"
     ]
    }
   ],
   "source": [
    "df = df.drop(\"租期\", axis=1)\n",
    "print(f\"数据维度：{df.shape}\")"
   ]
  },
  {
   "cell_type": "code",
   "execution_count": 47,
   "id": "4c019161-ca56-4322-87d8-51e4dd982cd6",
   "metadata": {},
   "outputs": [],
   "source": [
    "# 处理配套设施\n",
    "def extract_equipment(text):\n",
    "    if text == \"\":\n",
    "        return 0\n",
    "    else:\n",
    "        return len(text.split(\"、\"))"
   ]
  },
  {
   "cell_type": "code",
   "execution_count": 48,
   "id": "b027234f-45ad-4660-a45f-07acb962dfb9",
   "metadata": {},
   "outputs": [
    {
     "name": "stdout",
     "output_type": "stream",
     "text": [
      "3694\n",
      "Index(['ID', '城市', '配套设施', 'lon', 'lat', '年份', '区县', '板块', '环线位置', '物业类别',\n",
      "       '建筑年代', '开发商', '房屋总数', '楼栋总数', '物业公司', '绿 化 率', '容 积 率', '物 业 费',\n",
      "       '建筑结构', '物业办公电话', '产权描述', '供水', '供暖', '供电', '燃气费', '供热费', '停车位', '停车费用',\n",
      "       'coord_x', 'coord_y', '客户反馈', '室数', '厅数', '厨房数', '卫数', '精装修', '是否为底层',\n",
      "       '是否为低层', '是否为中层', '是否为高层', '是否为顶层', '总楼层', '建筑面积值', '向南', '向北', '向西',\n",
      "       '向东', '交易距今', '季付', '双月付', '月付', '半年付价', '年付', '整租', '合租', '是否有电梯',\n",
      "       '租用车位', '免费使用', '民水供水1', '商水供水1', '民电供电1', '商电供电1', '是否有燃气', '集中供暖1',\n",
      "       '自采暖1', '租赁时间', '设施情况'],\n",
      "      dtype='object')\n",
      "        ID  城市                            配套设施         lon        lat      年份  \\\n",
      "0  2000000   1  洗衣机、空调、衣柜、电视、冰箱、热水器、床、暖气、宽带、天然  117.345687  40.447235  2023.0   \n",
      "1  2000001  10              洗衣机、空调、衣柜、冰箱、热水器、床  114.279469  24.158183  2022.0   \n",
      "2  2000002   3       洗衣机、空调、衣柜、电视、冰箱、热水器、床、天然气  121.684578  32.198660  2022.0   \n",
      "3  2000003   0                                  117.323901  40.935338  2022.0   \n",
      "4  2000004   3       洗衣机、空调、衣柜、电视、冰箱、热水器、床、天然气  121.718296  32.335562  2022.0   \n",
      "\n",
      "      区县     板块  环线位置                 物业类别  ... 免费使用 民水供水1 商水供水1 民电供电1 商电供电1  \\\n",
      "0   24.0  303.0   NaN                 普通住宅  ...    0     1     0     0     0   \n",
      "1  105.0  985.0   NaN                 普通住宅  ...    0     1     0     0     0   \n",
      "2   21.0  387.0   NaN                  NaN  ...    0     0     0     0     0   \n",
      "3   81.0  111.0  三至四环  车库/普通住宅/商业/底商/商业办公类  ...    0     1     0     0     0   \n",
      "4   49.0  732.0   NaN                  NaN  ...    0     1     0     0     0   \n",
      "\n",
      "  是否有燃气  集中供暖1 自采暖1 租赁时间 设施情况  \n",
      "0     1      0    1 -1.0   10  \n",
      "1     1      0    0 -1.0    6  \n",
      "2     1      0    0  9.0    8  \n",
      "3     1      1    0 -1.0    0  \n",
      "4     1      0    0 -1.0    8  \n",
      "\n",
      "[5 rows x 67 columns]\n",
      "数据维度：(9773, 67)\n"
     ]
    }
   ],
   "source": [
    "# 检查缺失值\n",
    "target_column = \"配套设施\"\n",
    "print(df[target_column].isnull().sum())\n",
    "# 填充缺失值为空字符串\n",
    "df[target_column] = df[target_column].fillna('')\n",
    "# 应用提取函数并创建新列\n",
    "df[['设施情况']] = df[target_column].apply(\n",
    "    lambda x: pd.Series(extract_equipment(x))\n",
    ")\n",
    "\n",
    "print(df.columns)\n",
    "print(df.head())\n",
    "print(f\"数据维度：{df.shape}\")"
   ]
  },
  {
   "cell_type": "code",
   "execution_count": 49,
   "id": "0cacdf7f-ff3e-40bb-ac62-4e23fb01e04e",
   "metadata": {},
   "outputs": [
    {
     "name": "stdout",
     "output_type": "stream",
     "text": [
      "数据维度：(9773, 66)\n"
     ]
    }
   ],
   "source": [
    "df = df.drop(\"配套设施\", axis=1)\n",
    "print(f\"数据维度：{df.shape}\")"
   ]
  },
  {
   "cell_type": "code",
   "execution_count": 50,
   "id": "8046cf4a-4ed1-48f8-ac0a-268a060318a6",
   "metadata": {},
   "outputs": [],
   "source": [
    "def extract_building_year(building_year):\n",
    "    \"\"\"\n",
    "    参数:\n",
    "    building_year: str - 建筑年代字符串\n",
    "    \n",
    "    返回:\n",
    "    float - 处理后的年份值\n",
    "    \"\"\"    \n",
    "    # 转换为字符串类型\n",
    "    building_year = str(building_year)\n",
    "    \n",
    "    # 2002-2006年\n",
    "    if '-' in building_year:\n",
    "        # 使用正则表达式提取两个年份\n",
    "        years = re.findall(r'\\d+', building_year)\n",
    "        start_year = int(years[0])\n",
    "        end_year = int(years[1])\n",
    "        return (start_year + end_year) / 2\n",
    "    \n",
    "    # 2004年\n",
    "    elif '年' in building_year:\n",
    "        # 提取年份数字\n",
    "        year_match = re.search(r'\\d+', building_year)\n",
    "        return float(year_match.group())"
   ]
  },
  {
   "cell_type": "code",
   "execution_count": 51,
   "id": "a9a18f53-c66a-4cec-a2e0-aadf214cad5d",
   "metadata": {},
   "outputs": [
    {
     "name": "stdout",
     "output_type": "stream",
     "text": [
      "3381\n",
      "Index(['ID', '城市', 'lon', 'lat', '年份', '区县', '板块', '环线位置', '物业类别', '建筑年代',\n",
      "       '开发商', '房屋总数', '楼栋总数', '物业公司', '绿 化 率', '容 积 率', '物 业 费', '建筑结构',\n",
      "       '物业办公电话', '产权描述', '供水', '供暖', '供电', '燃气费', '供热费', '停车位', '停车费用',\n",
      "       'coord_x', 'coord_y', '客户反馈', '室数', '厅数', '厨房数', '卫数', '精装修', '是否为底层',\n",
      "       '是否为低层', '是否为中层', '是否为高层', '是否为顶层', '总楼层', '建筑面积值', '向南', '向北', '向西',\n",
      "       '向东', '交易距今', '季付', '双月付', '月付', '半年付价', '年付', '整租', '合租', '是否有电梯',\n",
      "       '租用车位', '免费使用', '民水供水1', '商水供水1', '民电供电1', '商电供电1', '是否有燃气', '集中供暖1',\n",
      "       '自采暖1', '租赁时间', '设施情况', '房屋年份'],\n",
      "      dtype='object')\n",
      "        ID  城市         lon        lat      年份     区县     板块  环线位置  \\\n",
      "0  2000000   1  117.345687  40.447235  2023.0   24.0  303.0   NaN   \n",
      "1  2000001  10  114.279469  24.158183  2022.0  105.0  985.0   NaN   \n",
      "2  2000002   3  121.684578  32.198660  2022.0   21.0  387.0   NaN   \n",
      "3  2000003   0  117.323901  40.935338  2022.0   81.0  111.0  三至四环   \n",
      "4  2000004   3  121.718296  32.335562  2022.0   49.0  732.0   NaN   \n",
      "\n",
      "                  物业类别        建筑年代  ... 民水供水1 商水供水1 民电供电1 商电供电1 是否有燃气  集中供暖1  \\\n",
      "0                 普通住宅  2011-2019年  ...     1     0     0     0     1      0   \n",
      "1                 普通住宅  1985-2008年  ...     1     0     0     0     1      0   \n",
      "2                  NaN              ...     0     0     0     0     1      0   \n",
      "3  车库/普通住宅/商业/底商/商业办公类  2004-2009年  ...     1     0     0     0     1      1   \n",
      "4                  NaN              ...     1     0     0     0     1      0   \n",
      "\n",
      "  自采暖1 租赁时间 设施情况    房屋年份  \n",
      "0    1 -1.0   10  2015.0  \n",
      "1    0 -1.0    6  1996.5  \n",
      "2    0  9.0    8     NaN  \n",
      "3    0 -1.0    0  2006.5  \n",
      "4    0 -1.0    8     NaN  \n",
      "\n",
      "[5 rows x 67 columns]\n",
      "数据维度：(9773, 67)\n"
     ]
    }
   ],
   "source": [
    "# 检查缺失值\n",
    "target_column = \"建筑年代\"\n",
    "print(df[target_column].isnull().sum())\n",
    "# 填充缺失值为空字符串\n",
    "df[target_column] = df[target_column].fillna('')\n",
    "# 应用提取函数并创建新列\n",
    "df[[\"房屋年份\"]] = df[target_column].apply(\n",
    "    lambda x: pd.Series(extract_building_year(x), dtype='object')\n",
    ")\n",
    "\n",
    "print(df.columns)\n",
    "print(df.head())\n",
    "print(f\"数据维度：{df.shape}\")"
   ]
  },
  {
   "cell_type": "code",
   "execution_count": 52,
   "id": "1be13c47-c9a6-4895-a797-98206dfac695",
   "metadata": {},
   "outputs": [
    {
     "name": "stdout",
     "output_type": "stream",
     "text": [
      "数据维度：(9773, 66)\n"
     ]
    }
   ],
   "source": [
    "df = df.drop(\"建筑年代\", axis=1)\n",
    "print(f\"数据维度：{df.shape}\")"
   ]
  },
  {
   "cell_type": "code",
   "execution_count": 53,
   "id": "05cf5cb8-af35-450d-8127-ac882151e34f",
   "metadata": {},
   "outputs": [
    {
     "name": "stdout",
     "output_type": "stream",
     "text": [
      "923\n",
      "Index(['ID', '城市', 'lon', 'lat', '年份', '区县', '板块', '环线位置', '物业类别', '开发商',\n",
      "       '房屋总数', '楼栋总数', '物业公司', '绿 化 率', '容 积 率', '物 业 费', '建筑结构', '物业办公电话',\n",
      "       '产权描述', '供水', '供暖', '供电', '燃气费', '供热费', '停车位', '停车费用', 'coord_x',\n",
      "       'coord_y', '客户反馈', '室数', '厅数', '厨房数', '卫数', '精装修', '是否为底层', '是否为低层',\n",
      "       '是否为中层', '是否为高层', '是否为顶层', '总楼层', '建筑面积值', '向南', '向北', '向西', '向东',\n",
      "       '交易距今', '季付', '双月付', '月付', '半年付价', '年付', '整租', '合租', '是否有电梯', '租用车位',\n",
      "       '免费使用', '民水供水1', '商水供水1', '民电供电1', '商电供电1', '是否有燃气', '集中供暖1', '自采暖1',\n",
      "       '租赁时间', '设施情况', '房屋年份', '总户数'],\n",
      "      dtype='object')\n",
      "        ID  城市         lon        lat      年份     区县     板块  环线位置  \\\n",
      "0  2000000   1  117.345687  40.447235  2023.0   24.0  303.0   NaN   \n",
      "1  2000001  10  114.279469  24.158183  2022.0  105.0  985.0   NaN   \n",
      "2  2000002   3  121.684578  32.198660  2022.0   21.0  387.0   NaN   \n",
      "3  2000003   0  117.323901  40.935338  2022.0   81.0  111.0  三至四环   \n",
      "4  2000004   3  121.718296  32.335562  2022.0   49.0  732.0   NaN   \n",
      "\n",
      "                  物业类别             开发商  ... 商水供水1 民电供电1 商电供电1 是否有燃气  集中供暖1  \\\n",
      "0                 普通住宅  固安县兴源房地产开发有限公司  ...     0     0     0     1      0   \n",
      "1                 普通住宅            无开发商  ...     0     0     0     1      0   \n",
      "2                  NaN             NaN  ...     0     0     0     1      0   \n",
      "3  车库/普通住宅/商业/底商/商业办公类   北京澳林房地产开发有限公司  ...     0     0     0     1      1   \n",
      "4                  NaN             NaN  ...     0     0     0     1      0   \n",
      "\n",
      "  自采暖1 租赁时间 设施情况    房屋年份   总户数  \n",
      "0    1 -1.0   10  2015.0   992  \n",
      "1    0 -1.0    6  1996.5   806  \n",
      "2    0  9.0    8     NaN  1327  \n",
      "3    0 -1.0    0  2006.5  2660  \n",
      "4    0 -1.0    8     NaN  1196  \n",
      "\n",
      "[5 rows x 67 columns]\n",
      "数据维度：(9773, 67)\n"
     ]
    }
   ],
   "source": [
    "# 检查缺失值\n",
    "target_column = \"房屋总数\"\n",
    "print(df[target_column].isnull().sum())\n",
    "# 填充缺失值为空字符串\n",
    "df[target_column] = df[target_column].fillna('-1户')\n",
    "# 使用正则表达式提取数字\n",
    "df['总户数'] = df[target_column].str.extract(r'(\\d+)').astype(int)\n",
    "\n",
    "print(df.columns)\n",
    "print(df.head())\n",
    "print(f\"数据维度：{df.shape}\")"
   ]
  },
  {
   "cell_type": "code",
   "execution_count": 54,
   "id": "102eefcb-173c-4bc7-911a-5250df203f9f",
   "metadata": {},
   "outputs": [
    {
     "name": "stdout",
     "output_type": "stream",
     "text": [
      "数据维度：(9773, 66)\n"
     ]
    }
   ],
   "source": [
    "df = df.drop(\"房屋总数\", axis=1)\n",
    "print(f\"数据维度：{df.shape}\")"
   ]
  },
  {
   "cell_type": "code",
   "execution_count": 55,
   "id": "7712c45e-c5cb-4650-b9f3-d89050ed139e",
   "metadata": {},
   "outputs": [
    {
     "name": "stdout",
     "output_type": "stream",
     "text": [
      "923\n",
      "Index(['ID', '城市', 'lon', 'lat', '年份', '区县', '板块', '环线位置', '物业类别', '开发商',\n",
      "       '楼栋总数', '物业公司', '绿 化 率', '容 积 率', '物 业 费', '建筑结构', '物业办公电话', '产权描述',\n",
      "       '供水', '供暖', '供电', '燃气费', '供热费', '停车位', '停车费用', 'coord_x', 'coord_y',\n",
      "       '客户反馈', '室数', '厅数', '厨房数', '卫数', '精装修', '是否为底层', '是否为低层', '是否为中层',\n",
      "       '是否为高层', '是否为顶层', '总楼层', '建筑面积值', '向南', '向北', '向西', '向东', '交易距今', '季付',\n",
      "       '双月付', '月付', '半年付价', '年付', '整租', '合租', '是否有电梯', '租用车位', '免费使用', '民水供水1',\n",
      "       '商水供水1', '民电供电1', '商电供电1', '是否有燃气', '集中供暖1', '自采暖1', '租赁时间', '设施情况',\n",
      "       '房屋年份', '总户数', '总楼数'],\n",
      "      dtype='object')\n",
      "        ID  城市         lon        lat      年份     区县     板块  环线位置  \\\n",
      "0  2000000   1  117.345687  40.447235  2023.0   24.0  303.0   NaN   \n",
      "1  2000001  10  114.279469  24.158183  2022.0  105.0  985.0   NaN   \n",
      "2  2000002   3  121.684578  32.198660  2022.0   21.0  387.0   NaN   \n",
      "3  2000003   0  117.323901  40.935338  2022.0   81.0  111.0  三至四环   \n",
      "4  2000004   3  121.718296  32.335562  2022.0   49.0  732.0   NaN   \n",
      "\n",
      "                  物业类别             开发商  ... 民电供电1 商电供电1 是否有燃气  集中供暖1 自采暖1  \\\n",
      "0                 普通住宅  固安县兴源房地产开发有限公司  ...     0     0     1      0    1   \n",
      "1                 普通住宅            无开发商  ...     0     0     1      0    0   \n",
      "2                  NaN             NaN  ...     0     0     1      0    0   \n",
      "3  车库/普通住宅/商业/底商/商业办公类   北京澳林房地产开发有限公司  ...     0     0     1      1    0   \n",
      "4                  NaN             NaN  ...     0     0     1      0    0   \n",
      "\n",
      "  租赁时间 设施情况    房屋年份   总户数 总楼数  \n",
      "0 -1.0   10  2015.0   992  12  \n",
      "1 -1.0    6  1996.5   806  15  \n",
      "2  9.0    8     NaN  1327  13  \n",
      "3 -1.0    0  2006.5  2660  19  \n",
      "4 -1.0    8     NaN  1196  20  \n",
      "\n",
      "[5 rows x 67 columns]\n",
      "数据维度：(9773, 67)\n"
     ]
    }
   ],
   "source": [
    "# 检查缺失值\n",
    "target_column = \"楼栋总数\"\n",
    "print(df[target_column].isnull().sum())\n",
    "# 填充缺失值为空字符串\n",
    "df[target_column] = df[target_column].fillna('-1栋')\n",
    "# 使用正则表达式提取数字\n",
    "df['总楼数'] = df[target_column].str.extract(r'(\\d+)').astype(int)\n",
    "\n",
    "print(df.columns)\n",
    "print(df.head())\n",
    "print(f\"数据维度：{df.shape}\")"
   ]
  },
  {
   "cell_type": "code",
   "execution_count": 56,
   "id": "43e5c245-722f-44d1-8d24-54db01367e91",
   "metadata": {},
   "outputs": [
    {
     "name": "stdout",
     "output_type": "stream",
     "text": [
      "数据维度：(9773, 66)\n"
     ]
    }
   ],
   "source": [
    "df = df.drop(\"楼栋总数\", axis=1)\n",
    "print(f\"数据维度：{df.shape}\")"
   ]
  },
  {
   "cell_type": "code",
   "execution_count": 57,
   "id": "36a05d7f-98a5-4bee-91b9-f669d78b16a9",
   "metadata": {},
   "outputs": [
    {
     "name": "stdout",
     "output_type": "stream",
     "text": [
      "3019\n",
      "Index(['ID', '城市', 'lon', 'lat', '年份', '区县', '板块', '环线位置', '物业类别', '开发商',\n",
      "       '物业公司', '绿 化 率', '容 积 率', '物 业 费', '建筑结构', '物业办公电话', '产权描述', '供水', '供暖',\n",
      "       '供电', '燃气费', '供热费', '停车位', '停车费用', 'coord_x', 'coord_y', '客户反馈', '室数',\n",
      "       '厅数', '厨房数', '卫数', '精装修', '是否为底层', '是否为低层', '是否为中层', '是否为高层', '是否为顶层',\n",
      "       '总楼层', '建筑面积值', '向南', '向北', '向西', '向东', '交易距今', '季付', '双月付', '月付',\n",
      "       '半年付价', '年付', '整租', '合租', '是否有电梯', '租用车位', '免费使用', '民水供水1', '商水供水1',\n",
      "       '民电供电1', '商电供电1', '是否有燃气', '集中供暖1', '自采暖1', '租赁时间', '设施情况', '房屋年份',\n",
      "       '总户数', '总楼数', '绿化率'],\n",
      "      dtype='object')\n",
      "        ID  城市         lon        lat      年份     区县     板块  环线位置  \\\n",
      "0  2000000   1  117.345687  40.447235  2023.0   24.0  303.0   NaN   \n",
      "1  2000001  10  114.279469  24.158183  2022.0  105.0  985.0   NaN   \n",
      "2  2000002   3  121.684578  32.198660  2022.0   21.0  387.0   NaN   \n",
      "3  2000003   0  117.323901  40.935338  2022.0   81.0  111.0  三至四环   \n",
      "4  2000004   3  121.718296  32.335562  2022.0   49.0  732.0   NaN   \n",
      "\n",
      "                  物业类别             开发商  ... 商电供电1 是否有燃气  集中供暖1 自采暖1 租赁时间 设施情况  \\\n",
      "0                 普通住宅  固安县兴源房地产开发有限公司  ...     0     1      0    1 -1.0   10   \n",
      "1                 普通住宅            无开发商  ...     0     1      0    0 -1.0    6   \n",
      "2                  NaN             NaN  ...     0     1      0    0  9.0    8   \n",
      "3  车库/普通住宅/商业/底商/商业办公类   北京澳林房地产开发有限公司  ...     0     1      1    0 -1.0    0   \n",
      "4                  NaN             NaN  ...     0     1      0    0 -1.0    8   \n",
      "\n",
      "     房屋年份   总户数 总楼数   绿化率  \n",
      "0  2015.0   992  12  40.0  \n",
      "1  1996.5   806  15  25.0  \n",
      "2     NaN  1327  13   0.0  \n",
      "3  2006.5  2660  19  35.0  \n",
      "4     NaN  1196  20   0.0  \n",
      "\n",
      "[5 rows x 67 columns]\n",
      "数据维度：(9773, 67)\n"
     ]
    }
   ],
   "source": [
    "# 检查缺失值\n",
    "target_column = \"绿 化 率\"\n",
    "print(df[target_column].isnull().sum())\n",
    "# 填充缺失值为空字符串\n",
    "df[target_column] = df[target_column].fillna('0.0')\n",
    "# 提取数字\n",
    "df['绿化率'] = df[target_column].str.rstrip('%').astype(float)\n",
    "\n",
    "print(df.columns)\n",
    "print(df.head())\n",
    "print(f\"数据维度：{df.shape}\")"
   ]
  },
  {
   "cell_type": "code",
   "execution_count": 58,
   "id": "befc5131-bc03-4f60-a396-a62ec2ea513c",
   "metadata": {},
   "outputs": [
    {
     "name": "stdout",
     "output_type": "stream",
     "text": [
      "数据维度：(9773, 66)\n"
     ]
    }
   ],
   "source": [
    "df = df.drop(\"绿 化 率\", axis=1)\n",
    "print(f\"数据维度：{df.shape}\")"
   ]
  },
  {
   "cell_type": "code",
   "execution_count": 59,
   "id": "85aa1dfd-75c6-4bcc-8059-344ca7ea75a9",
   "metadata": {},
   "outputs": [
    {
     "name": "stdout",
     "output_type": "stream",
     "text": [
      "2988\n",
      "Index(['ID', '城市', 'lon', 'lat', '年份', '区县', '板块', '环线位置', '物业类别', '开发商',\n",
      "       '物业公司', '容 积 率', '物 业 费', '建筑结构', '物业办公电话', '产权描述', '供水', '供暖', '供电',\n",
      "       '燃气费', '供热费', '停车位', '停车费用', 'coord_x', 'coord_y', '客户反馈', '室数', '厅数',\n",
      "       '厨房数', '卫数', '精装修', '是否为底层', '是否为低层', '是否为中层', '是否为高层', '是否为顶层', '总楼层',\n",
      "       '建筑面积值', '向南', '向北', '向西', '向东', '交易距今', '季付', '双月付', '月付', '半年付价',\n",
      "       '年付', '整租', '合租', '是否有电梯', '租用车位', '免费使用', '民水供水1', '商水供水1', '民电供电1',\n",
      "       '商电供电1', '是否有燃气', '集中供暖1', '自采暖1', '租赁时间', '设施情况', '房屋年份', '总户数', '总楼数',\n",
      "       '绿化率', '容积率'],\n",
      "      dtype='object')\n",
      "        ID  城市         lon        lat      年份     区县     板块  环线位置  \\\n",
      "0  2000000   1  117.345687  40.447235  2023.0   24.0  303.0   NaN   \n",
      "1  2000001  10  114.279469  24.158183  2022.0  105.0  985.0   NaN   \n",
      "2  2000002   3  121.684578  32.198660  2022.0   21.0  387.0   NaN   \n",
      "3  2000003   0  117.323901  40.935338  2022.0   81.0  111.0  三至四环   \n",
      "4  2000004   3  121.718296  32.335562  2022.0   49.0  732.0   NaN   \n",
      "\n",
      "                  物业类别             开发商  ... 是否有燃气 集中供暖1 自采暖1 租赁时间 设施情况  \\\n",
      "0                 普通住宅  固安县兴源房地产开发有限公司  ...     1     0    1 -1.0   10   \n",
      "1                 普通住宅            无开发商  ...     1     0    0 -1.0    6   \n",
      "2                  NaN             NaN  ...     1     0    0  9.0    8   \n",
      "3  车库/普通住宅/商业/底商/商业办公类   北京澳林房地产开发有限公司  ...     1     1    0 -1.0    0   \n",
      "4                  NaN             NaN  ...     1     0    0 -1.0    8   \n",
      "\n",
      "     房屋年份   总户数 总楼数   绿化率  容积率  \n",
      "0  2015.0   992  12  40.0  2.5  \n",
      "1  1996.5   806  15  25.0  3.0  \n",
      "2     NaN  1327  13   0.0 -1.0  \n",
      "3  2006.5  2660  19  35.0  2.9  \n",
      "4     NaN  1196  20   0.0 -1.0  \n",
      "\n",
      "[5 rows x 67 columns]\n",
      "数据维度：(9773, 67)\n"
     ]
    }
   ],
   "source": [
    "# 检查缺失值\n",
    "target_column = \"容 积 率\"\n",
    "print(df[target_column].isnull().sum())\n",
    "# 填充缺失值为空字符串\n",
    "df[target_column] = df[target_column].fillna('-1')\n",
    "# 提取数字\n",
    "df['容积率'] = df[target_column].astype(float)\n",
    "\n",
    "print(df.columns)\n",
    "print(df.head())\n",
    "print(f\"数据维度：{df.shape}\")"
   ]
  },
  {
   "cell_type": "code",
   "execution_count": 60,
   "id": "1ca3d081-f3d6-4e8d-bd19-16574850aa31",
   "metadata": {},
   "outputs": [
    {
     "name": "stdout",
     "output_type": "stream",
     "text": [
      "数据维度：(9773, 66)\n"
     ]
    }
   ],
   "source": [
    "df = df.drop(\"容 积 率\", axis=1)\n",
    "print(f\"数据维度：{df.shape}\")"
   ]
  },
  {
   "cell_type": "code",
   "execution_count": 61,
   "id": "c407827e-c7c1-4e41-9eda-d5a0d20a7926",
   "metadata": {},
   "outputs": [],
   "source": [
    "def extract_property_fee(value):\n",
    "    \"\"\"\n",
    "    参数:\n",
    "    value: str - 物业费字符串\n",
    "    \n",
    "    返回:\n",
    "    float - 提取的物业费数值，或-1（如果无法提取）\n",
    "    \"\"\"\n",
    "    # 检查是否为空值\n",
    "    if value == \"\":\n",
    "        return -1\n",
    "    # 转换为字符串并去除前后空格\n",
    "    value_str = str(value)\n",
    "    # 检查是否以\"/月/m²\"结尾\n",
    "    if not value_str.endswith(\"元/月/㎡\"):\n",
    "        return -1\n",
    "    \n",
    "    try:\n",
    "        # 提取数字部分（可能包含范围符号\"-\"）\n",
    "        # 使用正则表达式匹配数字和可能的范围\n",
    "        pattern = r'([\\d.-]+)元/月/㎡'\n",
    "        match = re.search(pattern, value_str)\n",
    "        \n",
    "        if match:\n",
    "            num_part = match.group(1)\n",
    "            \n",
    "            # 检查是否是范围（包含\"-\"）\n",
    "            if '-' in num_part:\n",
    "                # 处理范围，取平均值\n",
    "                parts = num_part.split('-')\n",
    "                if len(parts) == 2:\n",
    "                    start = float(parts[0])\n",
    "                    end = float(parts[1])\n",
    "                    return (start + end) / 2\n",
    "                else:\n",
    "                    return -1.0\n",
    "            else:\n",
    "                # 处理单个数值\n",
    "                return float(num_part)\n",
    "        else:\n",
    "            return -1.0\n",
    "    except (ValueError, AttributeError):\n",
    "        return -1.0"
   ]
  },
  {
   "cell_type": "code",
   "execution_count": 62,
   "id": "8c4b2caf-f5c3-4231-aae1-af4b51dd75e2",
   "metadata": {},
   "outputs": [
    {
     "name": "stdout",
     "output_type": "stream",
     "text": [
      "2804\n",
      "Index(['ID', '城市', 'lon', 'lat', '年份', '区县', '板块', '环线位置', '物业类别', '开发商',\n",
      "       '物业公司', '物 业 费', '建筑结构', '物业办公电话', '产权描述', '供水', '供暖', '供电', '燃气费',\n",
      "       '供热费', '停车位', '停车费用', 'coord_x', 'coord_y', '客户反馈', '室数', '厅数', '厨房数',\n",
      "       '卫数', '精装修', '是否为底层', '是否为低层', '是否为中层', '是否为高层', '是否为顶层', '总楼层',\n",
      "       '建筑面积值', '向南', '向北', '向西', '向东', '交易距今', '季付', '双月付', '月付', '半年付价',\n",
      "       '年付', '整租', '合租', '是否有电梯', '租用车位', '免费使用', '民水供水1', '商水供水1', '民电供电1',\n",
      "       '商电供电1', '是否有燃气', '集中供暖1', '自采暖1', '租赁时间', '设施情况', '房屋年份', '总户数', '总楼数',\n",
      "       '绿化率', '容积率', '物业费'],\n",
      "      dtype='object')\n",
      "        ID  城市         lon        lat      年份     区县     板块  环线位置  \\\n",
      "0  2000000   1  117.345687  40.447235  2023.0   24.0  303.0   NaN   \n",
      "1  2000001  10  114.279469  24.158183  2022.0  105.0  985.0   NaN   \n",
      "2  2000002   3  121.684578  32.198660  2022.0   21.0  387.0   NaN   \n",
      "3  2000003   0  117.323901  40.935338  2022.0   81.0  111.0  三至四环   \n",
      "4  2000004   3  121.718296  32.335562  2022.0   49.0  732.0   NaN   \n",
      "\n",
      "                  物业类别             开发商  ... 集中供暖1 自采暖1 租赁时间 设施情况    房屋年份  \\\n",
      "0                 普通住宅  固安县兴源房地产开发有限公司  ...     0    1 -1.0   10  2015.0   \n",
      "1                 普通住宅            无开发商  ...     0    0 -1.0    6  1996.5   \n",
      "2                  NaN             NaN  ...     0    0  9.0    8     NaN   \n",
      "3  车库/普通住宅/商业/底商/商业办公类   北京澳林房地产开发有限公司  ...     1    0 -1.0    0  2006.5   \n",
      "4                  NaN             NaN  ...     0    0 -1.0    8     NaN   \n",
      "\n",
      "    总户数 总楼数   绿化率  容积率    物业费  \n",
      "0   992  12  40.0  2.5  1.745  \n",
      "1   806  15  25.0  3.0 -1.000  \n",
      "2  1327  13   0.0 -1.0 -1.000  \n",
      "3  2660  19  35.0  2.9  3.740  \n",
      "4  1196  20   0.0 -1.0 -1.000  \n",
      "\n",
      "[5 rows x 67 columns]\n",
      "数据维度：(9773, 67)\n"
     ]
    }
   ],
   "source": [
    "# 检查缺失值\n",
    "target_column = \"物 业 费\"\n",
    "print(df[target_column].isnull().sum())\n",
    "# 填充缺失值为空字符串\n",
    "df[target_column] = df[target_column].fillna('')\n",
    "# 使用正则表达式提取数字\n",
    "df[[\"物业费\"]] = df[target_column].apply(\n",
    "    lambda x: pd.Series(extract_property_fee(x), dtype='object')\n",
    ")\n",
    "\n",
    "print(df.columns)\n",
    "print(df.head())\n",
    "print(f\"数据维度：{df.shape}\")"
   ]
  },
  {
   "cell_type": "code",
   "execution_count": 63,
   "id": "003123f2-52f4-4077-a277-4b175778d027",
   "metadata": {},
   "outputs": [
    {
     "name": "stdout",
     "output_type": "stream",
     "text": [
      "数据维度：(9773, 66)\n"
     ]
    }
   ],
   "source": [
    "df = df.drop(\"物 业 费\", axis=1)\n",
    "print(f\"数据维度：{df.shape}\")"
   ]
  },
  {
   "cell_type": "code",
   "execution_count": 64,
   "id": "9cadcf79-7b3d-4fb8-8962-3082edb1b65f",
   "metadata": {},
   "outputs": [],
   "source": [
    "# 处理建筑结构\n",
    "def extract_structure(text):\n",
    "    talou = banlou = pingfang = 0\n",
    "    if \"塔楼\" in text:\n",
    "        talou = 1\n",
    "    if \"板楼\" in text:\n",
    "        banlou = 1\n",
    "    if \"平房\" in text:\n",
    "        pingfang = 1\n",
    "    if \"塔板结合\" in text:\n",
    "        talou = 1\n",
    "        banlou = 1\n",
    "        \n",
    "    return talou, banlou, pingfang"
   ]
  },
  {
   "cell_type": "code",
   "execution_count": 65,
   "id": "2622496e-c309-4c1d-aaae-710cdaeef63d",
   "metadata": {},
   "outputs": [
    {
     "name": "stdout",
     "output_type": "stream",
     "text": [
      "2699\n",
      "Index(['ID', '城市', 'lon', 'lat', '年份', '区县', '板块', '环线位置', '物业类别', '开发商',\n",
      "       '物业公司', '建筑结构', '物业办公电话', '产权描述', '供水', '供暖', '供电', '燃气费', '供热费', '停车位',\n",
      "       '停车费用', 'coord_x', 'coord_y', '客户反馈', '室数', '厅数', '厨房数', '卫数', '精装修',\n",
      "       '是否为底层', '是否为低层', '是否为中层', '是否为高层', '是否为顶层', '总楼层', '建筑面积值', '向南', '向北',\n",
      "       '向西', '向东', '交易距今', '季付', '双月付', '月付', '半年付价', '年付', '整租', '合租',\n",
      "       '是否有电梯', '租用车位', '免费使用', '民水供水1', '商水供水1', '民电供电1', '商电供电1', '是否有燃气',\n",
      "       '集中供暖1', '自采暖1', '租赁时间', '设施情况', '房屋年份', '总户数', '总楼数', '绿化率', '容积率',\n",
      "       '物业费', '塔楼', '板楼', '平房'],\n",
      "      dtype='object')\n",
      "        ID  城市         lon        lat      年份     区县     板块  环线位置  \\\n",
      "0  2000000   1  117.345687  40.447235  2023.0   24.0  303.0   NaN   \n",
      "1  2000001  10  114.279469  24.158183  2022.0  105.0  985.0   NaN   \n",
      "2  2000002   3  121.684578  32.198660  2022.0   21.0  387.0   NaN   \n",
      "3  2000003   0  117.323901  40.935338  2022.0   81.0  111.0  三至四环   \n",
      "4  2000004   3  121.718296  32.335562  2022.0   49.0  732.0   NaN   \n",
      "\n",
      "                  物业类别             开发商  ... 设施情况    房屋年份   总户数 总楼数   绿化率  容积率  \\\n",
      "0                 普通住宅  固安县兴源房地产开发有限公司  ...   10  2015.0   992  12  40.0  2.5   \n",
      "1                 普通住宅            无开发商  ...    6  1996.5   806  15  25.0  3.0   \n",
      "2                  NaN             NaN  ...    8     NaN  1327  13   0.0 -1.0   \n",
      "3  车库/普通住宅/商业/底商/商业办公类   北京澳林房地产开发有限公司  ...    0  2006.5  2660  19  35.0  2.9   \n",
      "4                  NaN             NaN  ...    8     NaN  1196  20   0.0 -1.0   \n",
      "\n",
      "     物业费 塔楼 板楼  平房  \n",
      "0  1.745  1  1   0  \n",
      "1 -1.000  1  1   0  \n",
      "2 -1.000  0  0   0  \n",
      "3  3.740  1  1   0  \n",
      "4 -1.000  0  0   0  \n",
      "\n",
      "[5 rows x 69 columns]\n",
      "数据维度：(9773, 69)\n"
     ]
    }
   ],
   "source": [
    "# 检查缺失值\n",
    "target_column = \"建筑结构\"\n",
    "print(df[target_column].isnull().sum())\n",
    "# 填充缺失值为空字符串\n",
    "df[target_column] = df[target_column].fillna('')\n",
    "# 应用提取函数并创建新列\n",
    "df[['塔楼', '板楼', '平房']] = df[target_column].apply(\n",
    "    lambda x: pd.Series(extract_structure(x))\n",
    ")\n",
    "\n",
    "print(df.columns)\n",
    "print(df.head())\n",
    "print(f\"数据维度：{df.shape}\")"
   ]
  },
  {
   "cell_type": "code",
   "execution_count": 66,
   "id": "65c77a85-3907-4825-9eb9-05c6ba3fb63e",
   "metadata": {},
   "outputs": [
    {
     "name": "stdout",
     "output_type": "stream",
     "text": [
      "数据维度：(9773, 68)\n"
     ]
    }
   ],
   "source": [
    "df = df.drop(\"建筑结构\", axis=1)\n",
    "print(f\"数据维度：{df.shape}\")"
   ]
  },
  {
   "cell_type": "code",
   "execution_count": 67,
   "id": "847d3202-6190-48ec-9425-b30a7df579b0",
   "metadata": {},
   "outputs": [],
   "source": [
    "# 处理供水\n",
    "def extract_water_giving(text):\n",
    "    minshui = shangshui = 0\n",
    "    if \"民水\" in text:\n",
    "        minshui = 1\n",
    "    if \"商水\" in text:\n",
    "        shangshui = 1\n",
    "    \n",
    "    return minshui, shangshui"
   ]
  },
  {
   "cell_type": "code",
   "execution_count": 68,
   "id": "4463fcb6-8497-4408-8ecd-6ceb6c8faf26",
   "metadata": {},
   "outputs": [
    {
     "name": "stdout",
     "output_type": "stream",
     "text": [
      "2762\n",
      "Index(['ID', '城市', 'lon', 'lat', '年份', '区县', '板块', '环线位置', '物业类别', '开发商',\n",
      "       '物业公司', '物业办公电话', '产权描述', '供水', '供暖', '供电', '燃气费', '供热费', '停车位', '停车费用',\n",
      "       'coord_x', 'coord_y', '客户反馈', '室数', '厅数', '厨房数', '卫数', '精装修', '是否为底层',\n",
      "       '是否为低层', '是否为中层', '是否为高层', '是否为顶层', '总楼层', '建筑面积值', '向南', '向北', '向西',\n",
      "       '向东', '交易距今', '季付', '双月付', '月付', '半年付价', '年付', '整租', '合租', '是否有电梯',\n",
      "       '租用车位', '免费使用', '民水供水1', '商水供水1', '民电供电1', '商电供电1', '是否有燃气', '集中供暖1',\n",
      "       '自采暖1', '租赁时间', '设施情况', '房屋年份', '总户数', '总楼数', '绿化率', '容积率', '物业费', '塔楼',\n",
      "       '板楼', '平房', '民水供水2', '商水供水2'],\n",
      "      dtype='object')\n",
      "        ID  城市         lon        lat      年份     区县     板块  环线位置  \\\n",
      "0  2000000   1  117.345687  40.447235  2023.0   24.0  303.0   NaN   \n",
      "1  2000001  10  114.279469  24.158183  2022.0  105.0  985.0   NaN   \n",
      "2  2000002   3  121.684578  32.198660  2022.0   21.0  387.0   NaN   \n",
      "3  2000003   0  117.323901  40.935338  2022.0   81.0  111.0  三至四环   \n",
      "4  2000004   3  121.718296  32.335562  2022.0   49.0  732.0   NaN   \n",
      "\n",
      "                  物业类别             开发商  ...   总户数 总楼数   绿化率  容积率    物业费 塔楼 板楼  \\\n",
      "0                 普通住宅  固安县兴源房地产开发有限公司  ...   992  12  40.0  2.5  1.745  1  1   \n",
      "1                 普通住宅            无开发商  ...   806  15  25.0  3.0 -1.000  1  1   \n",
      "2                  NaN             NaN  ...  1327  13   0.0 -1.0 -1.000  0  0   \n",
      "3  车库/普通住宅/商业/底商/商业办公类   北京澳林房地产开发有限公司  ...  2660  19  35.0  2.9  3.740  1  1   \n",
      "4                  NaN             NaN  ...  1196  20   0.0 -1.0 -1.000  0  0   \n",
      "\n",
      "  平房  民水供水2 商水供水2  \n",
      "0  0      1     0  \n",
      "1  0      1     0  \n",
      "2  0      0     0  \n",
      "3  0      1     1  \n",
      "4  0      0     0  \n",
      "\n",
      "[5 rows x 70 columns]\n",
      "数据维度：(9773, 70)\n"
     ]
    }
   ],
   "source": [
    "# 检查缺失值\n",
    "target_column = \"供水\"\n",
    "print(df[target_column].isnull().sum())\n",
    "# 填充缺失值为空字符串\n",
    "df[target_column] = df[target_column].fillna('')\n",
    "# 应用提取函数并创建新列\n",
    "df[['民水供水2', '商水供水2']] = df[target_column].apply(\n",
    "    lambda x: pd.Series(extract_water_giving(x))\n",
    ")\n",
    "\n",
    "print(df.columns)\n",
    "print(df.head())\n",
    "print(f\"数据维度：{df.shape}\")"
   ]
  },
  {
   "cell_type": "code",
   "execution_count": 69,
   "id": "1ef664d0-f046-4427-8e46-c1d0e705bd03",
   "metadata": {},
   "outputs": [],
   "source": [
    "df['民水供水'] = df.apply(lambda row: max(row[\"民水供水1\"], row[\"民水供水2\"]), axis=1)\n",
    "df['商水供水'] = df.apply(lambda row: max(row[\"商水供水1\"], row[\"商水供水2\"]), axis=1)"
   ]
  },
  {
   "cell_type": "code",
   "execution_count": 70,
   "id": "376e24fc-c263-4cb8-9723-f604a0e4ea24",
   "metadata": {},
   "outputs": [],
   "source": [
    "df = df.drop(\"民水供水1\", axis=1)\n",
    "df = df.drop(\"民水供水2\", axis=1)\n",
    "df = df.drop(\"商水供水1\", axis=1)\n",
    "df = df.drop(\"商水供水2\", axis=1)"
   ]
  },
  {
   "cell_type": "code",
   "execution_count": 71,
   "id": "2a619182-f34a-44a2-8e78-5913b6f1a2fe",
   "metadata": {},
   "outputs": [
    {
     "name": "stdout",
     "output_type": "stream",
     "text": [
      "数据维度：(9773, 67)\n"
     ]
    }
   ],
   "source": [
    "df = df.drop(\"供水\", axis=1)\n",
    "print(f\"数据维度：{df.shape}\")"
   ]
  },
  {
   "cell_type": "code",
   "execution_count": 72,
   "id": "2ceb4c2f-8ad0-480b-b5bb-d1636eaf4302",
   "metadata": {},
   "outputs": [],
   "source": [
    "# 处理供电\n",
    "def extract_elec_giving(text):\n",
    "    mindian = shangdian = 0\n",
    "    if \"民电\" in text:\n",
    "        mindian = 1\n",
    "    if \"商电\" in text:\n",
    "        shangdian = 1\n",
    "    \n",
    "    return mindian, shangdian"
   ]
  },
  {
   "cell_type": "code",
   "execution_count": 73,
   "id": "25e2531c-d336-42dc-ae90-a88e4f69b59e",
   "metadata": {},
   "outputs": [
    {
     "name": "stdout",
     "output_type": "stream",
     "text": [
      "2760\n",
      "Index(['ID', '城市', 'lon', 'lat', '年份', '区县', '板块', '环线位置', '物业类别', '开发商',\n",
      "       '物业公司', '物业办公电话', '产权描述', '供暖', '供电', '燃气费', '供热费', '停车位', '停车费用',\n",
      "       'coord_x', 'coord_y', '客户反馈', '室数', '厅数', '厨房数', '卫数', '精装修', '是否为底层',\n",
      "       '是否为低层', '是否为中层', '是否为高层', '是否为顶层', '总楼层', '建筑面积值', '向南', '向北', '向西',\n",
      "       '向东', '交易距今', '季付', '双月付', '月付', '半年付价', '年付', '整租', '合租', '是否有电梯',\n",
      "       '租用车位', '免费使用', '民电供电1', '商电供电1', '是否有燃气', '集中供暖1', '自采暖1', '租赁时间',\n",
      "       '设施情况', '房屋年份', '总户数', '总楼数', '绿化率', '容积率', '物业费', '塔楼', '板楼', '平房',\n",
      "       '民水供水', '商水供水', '民电供电2', '商电供电2'],\n",
      "      dtype='object')\n",
      "        ID  城市         lon        lat      年份     区县     板块  环线位置  \\\n",
      "0  2000000   1  117.345687  40.447235  2023.0   24.0  303.0   NaN   \n",
      "1  2000001  10  114.279469  24.158183  2022.0  105.0  985.0   NaN   \n",
      "2  2000002   3  121.684578  32.198660  2022.0   21.0  387.0   NaN   \n",
      "3  2000003   0  117.323901  40.935338  2022.0   81.0  111.0  三至四环   \n",
      "4  2000004   3  121.718296  32.335562  2022.0   49.0  732.0   NaN   \n",
      "\n",
      "                  物业类别             开发商  ...   绿化率  容积率    物业费 塔楼 板楼 平房 民水供水  \\\n",
      "0                 普通住宅  固安县兴源房地产开发有限公司  ...  40.0  2.5  1.745  1  1  0    1   \n",
      "1                 普通住宅            无开发商  ...  25.0  3.0 -1.000  1  1  0    1   \n",
      "2                  NaN             NaN  ...   0.0 -1.0 -1.000  0  0  0    0   \n",
      "3  车库/普通住宅/商业/底商/商业办公类   北京澳林房地产开发有限公司  ...  35.0  2.9  3.740  1  1  0    1   \n",
      "4                  NaN             NaN  ...   0.0 -1.0 -1.000  0  0  0    1   \n",
      "\n",
      "   商水供水 民电供电2  商电供电2  \n",
      "0     0     1      0  \n",
      "1     0     1      0  \n",
      "2     0     0      0  \n",
      "3     1     1      1  \n",
      "4     0     0      0  \n",
      "\n",
      "[5 rows x 69 columns]\n",
      "数据维度：(9773, 69)\n"
     ]
    }
   ],
   "source": [
    "# 检查缺失值\n",
    "target_column = \"供电\"\n",
    "print(df[target_column].isnull().sum())\n",
    "# 填充缺失值为空字符串\n",
    "df[target_column] = df[target_column].fillna('')\n",
    "# 应用提取函数并创建新列\n",
    "df[['民电供电2', '商电供电2']] = df[target_column].apply(\n",
    "    lambda x: pd.Series(extract_elec_giving(x))\n",
    ")\n",
    "\n",
    "print(df.columns)\n",
    "print(df.head())\n",
    "print(f\"数据维度：{df.shape}\")"
   ]
  },
  {
   "cell_type": "code",
   "execution_count": 74,
   "id": "c4dc7c7d-7da6-428f-a880-e6e5bf2a457e",
   "metadata": {},
   "outputs": [],
   "source": [
    "df['民电供电'] = df.apply(lambda row: max(row[\"民电供电1\"], row[\"民电供电2\"]), axis=1)\n",
    "df['商电供电'] = df.apply(lambda row: max(row[\"商电供电1\"], row[\"商电供电2\"]), axis=1)"
   ]
  },
  {
   "cell_type": "code",
   "execution_count": 75,
   "id": "6418b7ac-8a0e-43cf-8115-5478fdb59802",
   "metadata": {},
   "outputs": [],
   "source": [
    "df = df.drop(\"民电供电1\", axis=1)\n",
    "df = df.drop(\"民电供电2\", axis=1)\n",
    "df = df.drop(\"商电供电1\", axis=1)\n",
    "df = df.drop(\"商电供电2\", axis=1)"
   ]
  },
  {
   "cell_type": "code",
   "execution_count": 76,
   "id": "15b150f6-de65-4039-b51d-4ffe9d86c320",
   "metadata": {},
   "outputs": [
    {
     "name": "stdout",
     "output_type": "stream",
     "text": [
      "数据维度：(9773, 66)\n"
     ]
    }
   ],
   "source": [
    "df = df.drop(\"供电\", axis=1)\n",
    "print(f\"数据维度：{df.shape}\")"
   ]
  },
  {
   "cell_type": "code",
   "execution_count": 77,
   "id": "02719587-1a7c-4b59-93f8-2ee74f65e48c",
   "metadata": {},
   "outputs": [],
   "source": [
    "# 处理供暖\n",
    "def extract_warm_giving(text):\n",
    "    jizhong = zi = wu = 0\n",
    "    if \"集中供暖\" in text:\n",
    "        jizhong = 1\n",
    "    if \"自采暖\" in text:\n",
    "        zi = 1\n",
    "    if \"无供暖\" in text:\n",
    "        wu = 1\n",
    "    \n",
    "    return jizhong, zi, wu"
   ]
  },
  {
   "cell_type": "code",
   "execution_count": 78,
   "id": "28884b88-e634-4f39-9d10-c44d88708b36",
   "metadata": {},
   "outputs": [
    {
     "name": "stdout",
     "output_type": "stream",
     "text": [
      "6195\n",
      "Index(['ID', '城市', 'lon', 'lat', '年份', '区县', '板块', '环线位置', '物业类别', '开发商',\n",
      "       '物业公司', '物业办公电话', '产权描述', '供暖', '燃气费', '供热费', '停车位', '停车费用', 'coord_x',\n",
      "       'coord_y', '客户反馈', '室数', '厅数', '厨房数', '卫数', '精装修', '是否为底层', '是否为低层',\n",
      "       '是否为中层', '是否为高层', '是否为顶层', '总楼层', '建筑面积值', '向南', '向北', '向西', '向东',\n",
      "       '交易距今', '季付', '双月付', '月付', '半年付价', '年付', '整租', '合租', '是否有电梯', '租用车位',\n",
      "       '免费使用', '是否有燃气', '集中供暖1', '自采暖1', '租赁时间', '设施情况', '房屋年份', '总户数', '总楼数',\n",
      "       '绿化率', '容积率', '物业费', '塔楼', '板楼', '平房', '民水供水', '商水供水', '民电供电', '商电供电',\n",
      "       '集中供暖2', '自采暖2', '无供暖'],\n",
      "      dtype='object')\n",
      "        ID  城市         lon        lat      年份     区县     板块  环线位置  \\\n",
      "0  2000000   1  117.345687  40.447235  2023.0   24.0  303.0   NaN   \n",
      "1  2000001  10  114.279469  24.158183  2022.0  105.0  985.0   NaN   \n",
      "2  2000002   3  121.684578  32.198660  2022.0   21.0  387.0   NaN   \n",
      "3  2000003   0  117.323901  40.935338  2022.0   81.0  111.0  三至四环   \n",
      "4  2000004   3  121.718296  32.335562  2022.0   49.0  732.0   NaN   \n",
      "\n",
      "                  物业类别             开发商  ... 塔楼 板楼 平房 民水供水 商水供水 民电供电  商电供电  \\\n",
      "0                 普通住宅  固安县兴源房地产开发有限公司  ...  1  1  0    1    0    1     0   \n",
      "1                 普通住宅            无开发商  ...  1  1  0    1    0    1     0   \n",
      "2                  NaN             NaN  ...  0  0  0    0    0    0     0   \n",
      "3  车库/普通住宅/商业/底商/商业办公类   北京澳林房地产开发有限公司  ...  1  1  0    1    1    1     1   \n",
      "4                  NaN             NaN  ...  0  0  0    1    0    0     0   \n",
      "\n",
      "  集中供暖2  自采暖2  无供暖  \n",
      "0     0     1    0  \n",
      "1     0     0    0  \n",
      "2     0     0    0  \n",
      "3     1     1    0  \n",
      "4     0     0    0  \n",
      "\n",
      "[5 rows x 69 columns]\n",
      "数据维度：(9773, 69)\n"
     ]
    }
   ],
   "source": [
    "# 检查缺失值\n",
    "target_column = \"供暖\"\n",
    "print(df[target_column].isnull().sum())\n",
    "# 填充缺失值为空字符串\n",
    "df[target_column] = df[target_column].fillna('')\n",
    "# 应用提取函数并创建新列\n",
    "df[['集中供暖2', '自采暖2', '无供暖']] = df[target_column].apply(\n",
    "    lambda x: pd.Series(extract_warm_giving(x))\n",
    ")\n",
    "\n",
    "print(df.columns)\n",
    "print(df.head())\n",
    "print(f\"数据维度：{df.shape}\")"
   ]
  },
  {
   "cell_type": "code",
   "execution_count": 79,
   "id": "7cb0444b-1b82-45e9-8c4c-b8b8a88179a5",
   "metadata": {},
   "outputs": [],
   "source": [
    "df['集中供暖'] = df.apply(lambda row: max(row[\"集中供暖1\"], row[\"集中供暖2\"]), axis=1)\n",
    "df['自采暖'] = df.apply(lambda row: max(row[\"自采暖1\"], row[\"自采暖2\"]), axis=1)"
   ]
  },
  {
   "cell_type": "code",
   "execution_count": 80,
   "id": "54cf3b9a-8763-4c82-9a0f-14a53e85bd2c",
   "metadata": {},
   "outputs": [],
   "source": [
    "df = df.drop(\"集中供暖1\", axis=1)\n",
    "df = df.drop(\"集中供暖2\", axis=1)\n",
    "df = df.drop(\"自采暖1\", axis=1)\n",
    "df = df.drop(\"自采暖2\", axis=1)"
   ]
  },
  {
   "cell_type": "code",
   "execution_count": 81,
   "id": "a2eb3a5e-e1f3-4456-a68f-f3a91b6537ca",
   "metadata": {},
   "outputs": [
    {
     "name": "stdout",
     "output_type": "stream",
     "text": [
      "数据维度：(9773, 66)\n"
     ]
    }
   ],
   "source": [
    "df = df.drop(\"供暖\", axis=1)\n",
    "print(f\"数据维度：{df.shape}\")"
   ]
  },
  {
   "cell_type": "code",
   "execution_count": 82,
   "id": "39daba2e-48d7-4f21-95b2-80b01e8a9878",
   "metadata": {},
   "outputs": [],
   "source": [
    "def extract_burn_fee(value):\n",
    "    \"\"\"\n",
    "    参数:\n",
    "    value: str - 燃气费字符串\n",
    "    \n",
    "    返回:\n",
    "    float - 提取的燃气费数值，或-1（如果无法提取）\n",
    "    \"\"\"\n",
    "    # 检查是否为空值\n",
    "    if value == \"\":\n",
    "        return -1\n",
    "    # 转换为字符串并去除前后空格\n",
    "    value_str = str(value)\n",
    "    # 检查是否以\"/月/m²\"结尾\n",
    "    if not value_str.endswith(\"元/m³\"):\n",
    "        return -1\n",
    "    \n",
    "    try:\n",
    "        # 提取数字部分（可能包含范围符号\"-\"）\n",
    "        # 使用正则表达式匹配数字和可能的范围\n",
    "        pattern = r'([\\d.-]+)元/m³'\n",
    "        match = re.search(pattern, value_str)\n",
    "        \n",
    "        if match:\n",
    "            num_part = match.group(1)\n",
    "            \n",
    "            # 检查是否是范围（包含\"-\"）\n",
    "            if '-' in num_part:\n",
    "                # 处理范围，取平均值\n",
    "                parts = num_part.split('-')\n",
    "                if len(parts) == 2:\n",
    "                    start = float(parts[0])\n",
    "                    end = float(parts[1])\n",
    "                    return (start + end) / 2\n",
    "                else:\n",
    "                    return -1\n",
    "            else:\n",
    "                # 处理单个数值\n",
    "                return float(num_part)\n",
    "        else:\n",
    "            return -1\n",
    "    except (ValueError, AttributeError):\n",
    "        return -1"
   ]
  },
  {
   "cell_type": "code",
   "execution_count": 83,
   "id": "5c982a23-6c41-4b15-8348-851153a8a9e3",
   "metadata": {},
   "outputs": [
    {
     "name": "stdout",
     "output_type": "stream",
     "text": [
      "3142\n",
      "Index(['ID', '城市', 'lon', 'lat', '年份', '区县', '板块', '环线位置', '物业类别', '开发商',\n",
      "       '物业公司', '物业办公电话', '产权描述', '燃气费', '供热费', '停车位', '停车费用', 'coord_x',\n",
      "       'coord_y', '客户反馈', '室数', '厅数', '厨房数', '卫数', '精装修', '是否为底层', '是否为低层',\n",
      "       '是否为中层', '是否为高层', '是否为顶层', '总楼层', '建筑面积值', '向南', '向北', '向西', '向东',\n",
      "       '交易距今', '季付', '双月付', '月付', '半年付价', '年付', '整租', '合租', '是否有电梯', '租用车位',\n",
      "       '免费使用', '是否有燃气', '租赁时间', '设施情况', '房屋年份', '总户数', '总楼数', '绿化率', '容积率',\n",
      "       '物业费', '塔楼', '板楼', '平房', '民水供水', '商水供水', '民电供电', '商电供电', '无供暖', '集中供暖',\n",
      "       '自采暖', '燃气费数值'],\n",
      "      dtype='object')\n",
      "        ID  城市         lon        lat      年份     区县     板块  环线位置  \\\n",
      "0  2000000   1  117.345687  40.447235  2023.0   24.0  303.0   NaN   \n",
      "1  2000001  10  114.279469  24.158183  2022.0  105.0  985.0   NaN   \n",
      "2  2000002   3  121.684578  32.198660  2022.0   21.0  387.0   NaN   \n",
      "3  2000003   0  117.323901  40.935338  2022.0   81.0  111.0  三至四环   \n",
      "4  2000004   3  121.718296  32.335562  2022.0   49.0  732.0   NaN   \n",
      "\n",
      "                  物业类别             开发商  ... 板楼 平房 民水供水 商水供水 民电供电  商电供电 无供暖  \\\n",
      "0                 普通住宅  固安县兴源房地产开发有限公司  ...  1  0    1    0    1     0   0   \n",
      "1                 普通住宅            无开发商  ...  1  0    1    0    1     0   0   \n",
      "2                  NaN             NaN  ...  0  0    0    0    0     0   0   \n",
      "3  车库/普通住宅/商业/底商/商业办公类   北京澳林房地产开发有限公司  ...  1  0    1    1    1     1   0   \n",
      "4                  NaN             NaN  ...  0  0    1    0    0     0   0   \n",
      "\n",
      "   集中供暖  自采暖 燃气费数值  \n",
      "0     0    1  2.15  \n",
      "1     0    0  3.45  \n",
      "2     0    0 -1.00  \n",
      "3     1    1  2.61  \n",
      "4     0    0 -1.00  \n",
      "\n",
      "[5 rows x 67 columns]\n",
      "数据维度：(9773, 67)\n"
     ]
    }
   ],
   "source": [
    "# 检查缺失值\n",
    "target_column = \"燃气费\"\n",
    "print(df[target_column].isnull().sum())\n",
    "# 填充缺失值为空字符串\n",
    "df[target_column] = df[target_column].fillna('')\n",
    "# 使用正则表达式提取数字\n",
    "df[[\"燃气费数值\"]] = df[target_column].apply(\n",
    "    lambda x: pd.Series(extract_burn_fee(x), dtype='object')\n",
    ")\n",
    "\n",
    "print(df.columns)\n",
    "print(df.head())\n",
    "print(f\"数据维度：{df.shape}\")"
   ]
  },
  {
   "cell_type": "code",
   "execution_count": 84,
   "id": "cd01053f-2a27-4696-b021-60e69d043d02",
   "metadata": {},
   "outputs": [
    {
     "name": "stdout",
     "output_type": "stream",
     "text": [
      "数据维度：(9773, 66)\n"
     ]
    }
   ],
   "source": [
    "df = df.drop(\"燃气费\", axis=1)\n",
    "print(f\"数据维度：{df.shape}\")"
   ]
  },
  {
   "cell_type": "code",
   "execution_count": 85,
   "id": "7a87e302-55de-4a75-8b96-76684a31690f",
   "metadata": {},
   "outputs": [],
   "source": [
    "def extract_warm_fee(value):\n",
    "    \"\"\"\n",
    "    参数:\n",
    "    value: str - 燃气费字符串\n",
    "    \n",
    "    返回:\n",
    "    float - 提取的燃气费数值，或-1（如果无法提取）\n",
    "    \"\"\"\n",
    "    # 检查是否为空值\n",
    "    if value == \"\":\n",
    "        return -1\n",
    "    # 转换为字符串并去除前后空格\n",
    "    value_str = str(value)\n",
    "    # 检查是否以\"/月/m²\"结尾\n",
    "    if not value_str.endswith(\"元/㎡\"):\n",
    "        return -1\n",
    "    \n",
    "    try:\n",
    "        # 提取数字部分（可能包含范围符号\"-\"）\n",
    "        # 使用正则表达式匹配数字和可能的范围\n",
    "        pattern = r'([\\d.-]+)元/㎡'\n",
    "        match = re.search(pattern, value_str)\n",
    "        \n",
    "        if match:\n",
    "            num_part = match.group(1)\n",
    "            \n",
    "            # 检查是否是范围（包含\"-\"）\n",
    "            if '-' in num_part:\n",
    "                # 处理范围，取平均值\n",
    "                parts = num_part.split('-')\n",
    "                if len(parts) == 2:\n",
    "                    start = float(parts[0])\n",
    "                    end = float(parts[1])\n",
    "                    return (start + end) / 2\n",
    "                else:\n",
    "                    return -1\n",
    "            else:\n",
    "                # 处理单个数值\n",
    "                return float(num_part)\n",
    "        else:\n",
    "            return -1\n",
    "    except (ValueError, AttributeError):\n",
    "        return -1"
   ]
  },
  {
   "cell_type": "code",
   "execution_count": 86,
   "id": "46332602-4412-4f13-ae40-139c83b1b738",
   "metadata": {},
   "outputs": [
    {
     "name": "stdout",
     "output_type": "stream",
     "text": [
      "7054\n",
      "Index(['ID', '城市', 'lon', 'lat', '年份', '区县', '板块', '环线位置', '物业类别', '开发商',\n",
      "       '物业公司', '物业办公电话', '产权描述', '供热费', '停车位', '停车费用', 'coord_x', 'coord_y',\n",
      "       '客户反馈', '室数', '厅数', '厨房数', '卫数', '精装修', '是否为底层', '是否为低层', '是否为中层',\n",
      "       '是否为高层', '是否为顶层', '总楼层', '建筑面积值', '向南', '向北', '向西', '向东', '交易距今', '季付',\n",
      "       '双月付', '月付', '半年付价', '年付', '整租', '合租', '是否有电梯', '租用车位', '免费使用', '是否有燃气',\n",
      "       '租赁时间', '设施情况', '房屋年份', '总户数', '总楼数', '绿化率', '容积率', '物业费', '塔楼', '板楼',\n",
      "       '平房', '民水供水', '商水供水', '民电供电', '商电供电', '无供暖', '集中供暖', '自采暖', '燃气费数值',\n",
      "       '供热费数值'],\n",
      "      dtype='object')\n",
      "        ID  城市         lon        lat      年份     区县     板块  环线位置  \\\n",
      "0  2000000   1  117.345687  40.447235  2023.0   24.0  303.0   NaN   \n",
      "1  2000001  10  114.279469  24.158183  2022.0  105.0  985.0   NaN   \n",
      "2  2000002   3  121.684578  32.198660  2022.0   21.0  387.0   NaN   \n",
      "3  2000003   0  117.323901  40.935338  2022.0   81.0  111.0  三至四环   \n",
      "4  2000004   3  121.718296  32.335562  2022.0   49.0  732.0   NaN   \n",
      "\n",
      "                  物业类别             开发商  ... 平房 民水供水 商水供水 民电供电  商电供电 无供暖  集中供暖  \\\n",
      "0                 普通住宅  固安县兴源房地产开发有限公司  ...  0    1    0    1     0   0     0   \n",
      "1                 普通住宅            无开发商  ...  0    1    0    1     0   0     0   \n",
      "2                  NaN             NaN  ...  0    0    0    0     0   0     0   \n",
      "3  车库/普通住宅/商业/底商/商业办公类   北京澳林房地产开发有限公司  ...  0    1    1    1     1   0     1   \n",
      "4                  NaN             NaN  ...  0    1    0    0     0   0     0   \n",
      "\n",
      "   自采暖 燃气费数值  供热费数值  \n",
      "0    1  2.15   -1.0  \n",
      "1    0  3.45   -1.0  \n",
      "2    0 -1.00   -1.0  \n",
      "3    1  2.61   30.0  \n",
      "4    0 -1.00   -1.0  \n",
      "\n",
      "[5 rows x 67 columns]\n",
      "数据维度：(9773, 67)\n"
     ]
    }
   ],
   "source": [
    "# 检查缺失值\n",
    "target_column = \"供热费\"\n",
    "print(df[target_column].isnull().sum())\n",
    "# 填充缺失值为空字符串\n",
    "df[target_column] = df[target_column].fillna('')\n",
    "# 使用正则表达式提取数字\n",
    "df[[\"供热费数值\"]] = df[target_column].apply(\n",
    "    lambda x: pd.Series(extract_warm_fee(x), dtype='object')\n",
    ")\n",
    "\n",
    "print(df.columns)\n",
    "print(df.head())\n",
    "print(f\"数据维度：{df.shape}\")"
   ]
  },
  {
   "cell_type": "code",
   "execution_count": 87,
   "id": "92750ef3-45c3-4c03-b79b-5996447a8265",
   "metadata": {},
   "outputs": [
    {
     "name": "stdout",
     "output_type": "stream",
     "text": [
      "数据维度：(9773, 66)\n"
     ]
    }
   ],
   "source": [
    "df = df.drop(\"供热费\", axis=1)\n",
    "print(f\"数据维度：{df.shape}\")"
   ]
  },
  {
   "cell_type": "code",
   "execution_count": 88,
   "id": "1939eed7-9fa6-4090-bdfe-20fc64905126",
   "metadata": {},
   "outputs": [],
   "source": [
    "def extract_park(value):\n",
    "    \"\"\"\n",
    "    参数:\n",
    "    value: str - 停车位字符串\n",
    "    \n",
    "    返回:\n",
    "    float - 提取的停车位数值，或-1（如果无法提取）\n",
    "    \"\"\"\n",
    "    # 检查是否为空值\n",
    "    if value == '':\n",
    "        return -1.0\n",
    "    else:\n",
    "        return float(value)"
   ]
  },
  {
   "cell_type": "code",
   "execution_count": 89,
   "id": "2f4e3aa7-1ea7-4438-b399-e021f1e48cf1",
   "metadata": {},
   "outputs": [
    {
     "name": "stdout",
     "output_type": "stream",
     "text": [
      "3115\n",
      "Index(['ID', '城市', 'lon', 'lat', '年份', '区县', '板块', '环线位置', '物业类别', '开发商',\n",
      "       '物业公司', '物业办公电话', '产权描述', '停车位', '停车费用', 'coord_x', 'coord_y', '客户反馈',\n",
      "       '室数', '厅数', '厨房数', '卫数', '精装修', '是否为底层', '是否为低层', '是否为中层', '是否为高层',\n",
      "       '是否为顶层', '总楼层', '建筑面积值', '向南', '向北', '向西', '向东', '交易距今', '季付', '双月付',\n",
      "       '月付', '半年付价', '年付', '整租', '合租', '是否有电梯', '租用车位', '免费使用', '是否有燃气',\n",
      "       '租赁时间', '设施情况', '房屋年份', '总户数', '总楼数', '绿化率', '容积率', '物业费', '塔楼', '板楼',\n",
      "       '平房', '民水供水', '商水供水', '民电供电', '商电供电', '无供暖', '集中供暖', '自采暖', '燃气费数值',\n",
      "       '供热费数值', '停车位数量'],\n",
      "      dtype='object')\n",
      "        ID  城市         lon        lat      年份     区县     板块  环线位置  \\\n",
      "0  2000000   1  117.345687  40.447235  2023.0   24.0  303.0   NaN   \n",
      "1  2000001  10  114.279469  24.158183  2022.0  105.0  985.0   NaN   \n",
      "2  2000002   3  121.684578  32.198660  2022.0   21.0  387.0   NaN   \n",
      "3  2000003   0  117.323901  40.935338  2022.0   81.0  111.0  三至四环   \n",
      "4  2000004   3  121.718296  32.335562  2022.0   49.0  732.0   NaN   \n",
      "\n",
      "                  物业类别             开发商  ... 民水供水 商水供水 民电供电 商电供电 无供暖  集中供暖  \\\n",
      "0                 普通住宅  固安县兴源房地产开发有限公司  ...    1    0    1    0   0     0   \n",
      "1                 普通住宅            无开发商  ...    1    0    1    0   0     0   \n",
      "2                  NaN             NaN  ...    0    0    0    0   0     0   \n",
      "3  车库/普通住宅/商业/底商/商业办公类   北京澳林房地产开发有限公司  ...    1    1    1    1   0     1   \n",
      "4                  NaN             NaN  ...    1    0    0    0   0     0   \n",
      "\n",
      "   自采暖 燃气费数值  供热费数值   停车位数量  \n",
      "0    1  2.15   -1.0  1600.0  \n",
      "1    0  3.45   -1.0   200.0  \n",
      "2    0 -1.00   -1.0    -1.0  \n",
      "3    1  2.61   30.0  2317.0  \n",
      "4    0 -1.00   -1.0    -1.0  \n",
      "\n",
      "[5 rows x 67 columns]\n",
      "数据维度：(9773, 67)\n"
     ]
    }
   ],
   "source": [
    "# 检查缺失值\n",
    "target_column = \"停车位\"\n",
    "print(df[target_column].isnull().sum())\n",
    "# 填充缺失值为空字符串\n",
    "df[target_column] = df[target_column].fillna('')\n",
    "# 使用正则表达式提取数字\n",
    "df[[\"停车位数量\"]] = df[target_column].apply(\n",
    "    lambda x: pd.Series(extract_park(x), dtype='object')\n",
    ")\n",
    "\n",
    "print(df.columns)\n",
    "print(df.head())\n",
    "print(f\"数据维度：{df.shape}\")"
   ]
  },
  {
   "cell_type": "code",
   "execution_count": 90,
   "id": "940e625e-22df-43f5-998a-9ee7c006c1d6",
   "metadata": {},
   "outputs": [
    {
     "name": "stdout",
     "output_type": "stream",
     "text": [
      "数据维度：(9773, 66)\n"
     ]
    }
   ],
   "source": [
    "df = df.drop(\"停车位\", axis=1)\n",
    "print(f\"数据维度：{df.shape}\")"
   ]
  },
  {
   "cell_type": "code",
   "execution_count": 91,
   "id": "8066da7a-819d-45b9-9c15-3c48245a97b5",
   "metadata": {},
   "outputs": [],
   "source": [
    "def extract_parking_fee(value):\n",
    "    \"\"\"\n",
    "    参数:\n",
    "    value: str - 停车费字符串\n",
    "    \n",
    "    返回:\n",
    "    float - 提取的停车费数值，或-1.0（如果无法提取）\n",
    "    \"\"\"\n",
    "    # 检查是否为空值\n",
    "    if value == '':\n",
    "        return -1.0\n",
    "    \n",
    "    # 转换为字符串并去除前后空格\n",
    "    value_str = str(value).strip()\n",
    "    \n",
    "    # 检查是否只包含数字（整数或小数）\n",
    "    # 使用正则表达式匹配纯数字（可包含小数点）\n",
    "    pattern = r'^-?\\d*\\.?\\d+$'\n",
    "    if re.match(pattern, value_str):\n",
    "        try:\n",
    "            return float(value_str)\n",
    "        except ValueError:\n",
    "            return -1.0\n",
    "    else:\n",
    "        return -1.0"
   ]
  },
  {
   "cell_type": "code",
   "execution_count": 92,
   "id": "95114d97-307f-46e9-b326-65c6d722fcdf",
   "metadata": {},
   "outputs": [
    {
     "name": "stdout",
     "output_type": "stream",
     "text": [
      "3249\n",
      "Index(['ID', '城市', 'lon', 'lat', '年份', '区县', '板块', '环线位置', '物业类别', '开发商',\n",
      "       '物业公司', '物业办公电话', '产权描述', '停车费用', 'coord_x', 'coord_y', '客户反馈', '室数',\n",
      "       '厅数', '厨房数', '卫数', '精装修', '是否为底层', '是否为低层', '是否为中层', '是否为高层', '是否为顶层',\n",
      "       '总楼层', '建筑面积值', '向南', '向北', '向西', '向东', '交易距今', '季付', '双月付', '月付',\n",
      "       '半年付价', '年付', '整租', '合租', '是否有电梯', '租用车位', '免费使用', '是否有燃气', '租赁时间',\n",
      "       '设施情况', '房屋年份', '总户数', '总楼数', '绿化率', '容积率', '物业费', '塔楼', '板楼', '平房',\n",
      "       '民水供水', '商水供水', '民电供电', '商电供电', '无供暖', '集中供暖', '自采暖', '燃气费数值', '供热费数值',\n",
      "       '停车位数量', '停车费'],\n",
      "      dtype='object')\n",
      "        ID  城市         lon        lat      年份     区县     板块  环线位置  \\\n",
      "0  2000000   1  117.345687  40.447235  2023.0   24.0  303.0   NaN   \n",
      "1  2000001  10  114.279469  24.158183  2022.0  105.0  985.0   NaN   \n",
      "2  2000002   3  121.684578  32.198660  2022.0   21.0  387.0   NaN   \n",
      "3  2000003   0  117.323901  40.935338  2022.0   81.0  111.0  三至四环   \n",
      "4  2000004   3  121.718296  32.335562  2022.0   49.0  732.0   NaN   \n",
      "\n",
      "                  物业类别             开发商  ... 商水供水 民电供电 商电供电 无供暖  集中供暖  自采暖  \\\n",
      "0                 普通住宅  固安县兴源房地产开发有限公司  ...    0    1    0   0     0    1   \n",
      "1                 普通住宅            无开发商  ...    0    1    0   0     0    0   \n",
      "2                  NaN             NaN  ...    0    0    0   0     0    0   \n",
      "3  车库/普通住宅/商业/底商/商业办公类   北京澳林房地产开发有限公司  ...    1    1    1   0     1    1   \n",
      "4                  NaN             NaN  ...    0    0    0   0     0    0   \n",
      "\n",
      "  燃气费数值  供热费数值   停车位数量     停车费  \n",
      "0  2.15   -1.0  1600.0   100.0  \n",
      "1  3.45   -1.0   200.0   800.0  \n",
      "2 -1.00   -1.0    -1.0    -1.0  \n",
      "3  2.61   30.0  2317.0  1200.0  \n",
      "4 -1.00   -1.0    -1.0    -1.0  \n",
      "\n",
      "[5 rows x 67 columns]\n",
      "数据维度：(9773, 67)\n"
     ]
    }
   ],
   "source": [
    "# 检查缺失值\n",
    "target_column = \"停车费用\"\n",
    "print(df[target_column].isnull().sum())\n",
    "# 填充缺失值为空字符串\n",
    "df[target_column] = df[target_column].fillna('')\n",
    "# 使用正则表达式提取数字\n",
    "df[[\"停车费\"]] = df[target_column].apply(\n",
    "    lambda x: pd.Series(extract_parking_fee(x), dtype='object')\n",
    ")\n",
    "\n",
    "print(df.columns)\n",
    "print(df.head())\n",
    "print(f\"数据维度：{df.shape}\")"
   ]
  },
  {
   "cell_type": "code",
   "execution_count": 93,
   "id": "b7e4ba82-65e1-469c-924f-39b8418ad319",
   "metadata": {},
   "outputs": [
    {
     "name": "stdout",
     "output_type": "stream",
     "text": [
      "数据维度：(9773, 66)\n"
     ]
    }
   ],
   "source": [
    "df = df.drop(\"停车费用\", axis=1)\n",
    "print(f\"数据维度：{df.shape}\")"
   ]
  },
  {
   "cell_type": "code",
   "execution_count": 94,
   "id": "634330f8-1e06-4d23-9ebd-90ff1afc3edf",
   "metadata": {},
   "outputs": [],
   "source": [
    "df = df.drop(\"物业类别\", axis=1)\n",
    "df = df.drop(\"开发商\", axis=1)\n",
    "df = df.drop(\"物业公司\", axis=1)\n",
    "df = df.drop(\"物业办公电话\", axis=1)\n",
    "df = df.drop(\"产权描述\", axis=1)"
   ]
  },
  {
   "cell_type": "code",
   "execution_count": 95,
   "id": "04aba3a0-d640-4f8a-b1d3-02c7445a77a6",
   "metadata": {},
   "outputs": [],
   "source": [
    "df = df.drop(\"环线位置\", axis=1)"
   ]
  },
  {
   "cell_type": "code",
   "execution_count": null,
   "id": "218bde11-55b2-4f10-9f84-642ceeaca379",
   "metadata": {},
   "outputs": [],
   "source": []
  },
  {
   "cell_type": "code",
   "execution_count": 96,
   "id": "66f22e85-8e0f-4560-8863-b0660689bd49",
   "metadata": {},
   "outputs": [],
   "source": [
    "df.to_csv(f\"结构化数据_{data_batch}_{data_target}.csv\", index=False)"
   ]
  },
  {
   "cell_type": "code",
   "execution_count": null,
   "id": "96ac6965-709c-4706-964d-5b744337e4b9",
   "metadata": {},
   "outputs": [],
   "source": []
  }
 ],
 "metadata": {
  "kernelspec": {
   "display_name": "myconda",
   "language": "python",
   "name": "myconda"
  },
  "language_info": {
   "codemirror_mode": {
    "name": "ipython",
    "version": 3
   },
   "file_extension": ".py",
   "mimetype": "text/x-python",
   "name": "python",
   "nbconvert_exporter": "python",
   "pygments_lexer": "ipython3",
   "version": "3.8.12"
  }
 },
 "nbformat": 4,
 "nbformat_minor": 5
}
