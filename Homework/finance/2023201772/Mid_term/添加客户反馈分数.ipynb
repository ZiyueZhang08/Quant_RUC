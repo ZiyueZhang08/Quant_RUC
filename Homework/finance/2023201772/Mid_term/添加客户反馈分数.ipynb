{
 "cells": [
  {
   "cell_type": "code",
   "execution_count": 1,
   "id": "ca4ef967-bff2-4258-b3a4-3838b186d492",
   "metadata": {},
   "outputs": [],
   "source": [
    "import os\n",
    "import pandas"
   ]
  },
  {
   "cell_type": "code",
   "execution_count": 2,
   "id": "f5b33f77-1868-48a8-ab01-92f51099dda1",
   "metadata": {},
   "outputs": [],
   "source": [
    "data_batch = \"train\"\n",
    "data_target = \"rent\""
   ]
  },
  {
   "cell_type": "code",
   "execution_count": 3,
   "id": "f33a2044-294e-4432-8bd5-74543a84ad56",
   "metadata": {},
   "outputs": [],
   "source": [
    "# 获取文件夹下文件路径\n",
    "def get_csv_files(folder_path):\n",
    "    csv_files = []\n",
    "    for filename in os.listdir(folder_path):\n",
    "        # 组合完整路径\n",
    "        filepath = os.path.join(folder_path, filename)\n",
    "        # 过滤非文件类型和扩展名\n",
    "        if os.path.isfile(filepath) and filename.lower().endswith(\".csv\"):\n",
    "            csv_files.append(filepath)\n",
    "    \n",
    "    # 按编号排序\n",
    "    csv_files.sort(key=lambda x: int(''.join(filter(str.isdigit, os.path.basename(x)))))\n",
    "    return csv_files"
   ]
  },
  {
   "cell_type": "code",
   "execution_count": 4,
   "id": "8c39a634-2bef-4b7c-aeb8-42b436d0fd46",
   "metadata": {},
   "outputs": [],
   "source": [
    "folder_path = f\"batch_result//客户反馈评级//{data_batch}_{data_target}\"\n",
    "out_path = f\"客户反馈_{data_batch}_{data_target}.csv\"\n",
    "    \n",
    "path_lst = get_csv_files(folder_path)\n",
    "df_lst = [pandas.read_csv(path) for path in path_lst]\n",
    "\n",
    "# 按行拼接\n",
    "combined_df = pandas.concat(df_lst, ignore_index=True)\n",
    "\n",
    "# 按列排序\n",
    "# combined_df = combined_df.sort_values(\"feeling\")"
   ]
  },
  {
   "cell_type": "code",
   "execution_count": 5,
   "id": "5bc0cca1-eba4-4bbd-a5e8-c52475daf9c5",
   "metadata": {},
   "outputs": [],
   "source": [
    "combined_df.to_csv(out_path, index=False)"
   ]
  },
  {
   "cell_type": "code",
   "execution_count": 6,
   "id": "ab057663-4680-4b9b-a09f-3f4238d823bb",
   "metadata": {},
   "outputs": [],
   "source": [
    "# 处理房屋朝向\n",
    "def extract_comment(text):\n",
    "    henbuhao = bijiaobuhao = shizhong = bijiaohao = henhao = 0\n",
    "    \n",
    "    if \"很不好\" in text:\n",
    "        henbuhao = 1\n",
    "    if \"比较不好\" in text:\n",
    "        bijiaobuhao = 1\n",
    "    if \"适中\" in text:\n",
    "        shizhong = 1\n",
    "    if \"比较好\" in text:\n",
    "        bijiaohao = 1\n",
    "    if \"很好\" in text:\n",
    "        henhao = 1\n",
    "    \n",
    "    return henbuhao, bijiaobuhao, shizhong, bijiaohao, henhao"
   ]
  },
  {
   "cell_type": "code",
   "execution_count": 7,
   "id": "6c9cb56b-ea6c-49fc-abd4-9ac7f53c3161",
   "metadata": {},
   "outputs": [
    {
     "name": "stdout",
     "output_type": "stream",
     "text": [
      "0\n",
      "Index(['ID', '客户反馈', '客户反馈评级', '很不好', '比较不好', '适中', '比较好', '很好'], dtype='object')\n",
      "              ID                    客户反馈 客户反馈评级  很不好  比较不好  适中  比较好  很好\n",
      "0  654646.481811          潮气重，仔细一看，房屋保养好     适中    0     0   1    0   0\n",
      "1  665412.057415  服务响应中等，看起来，管线老化，消防设施齐全   比较不好    0     1   0    0   0\n",
      "2  778222.820548  差不多这样，电梯新，总的来说，宽敞，性价比高    比较好    0     0   0    1   0\n",
      "3  612084.974699       说起来也是，动静分离，社区功能齐全    比较好    0     0   0    1   0\n",
      "4  994732.124864        服务响应中等，整体中等水平，宽敞     适中    0     0   1    0   0\n",
      "数据维度：(98899, 8)\n"
     ]
    }
   ],
   "source": [
    "# 检查缺失值\n",
    "print(combined_df['客户反馈评级'].isnull().sum())\n",
    "# 填充缺失值为空字符串\n",
    "combined_df['客户反馈评级'] = combined_df['客户反馈评级'].fillna('')\n",
    "# 应用提取函数并创建新列\n",
    "combined_df[['很不好', '比较不好', '适中', '比较好', '很好']] = combined_df['客户反馈评级'].apply(\n",
    "    lambda x: pandas.Series(extract_comment(x))\n",
    ")\n",
    "\n",
    "print(combined_df.columns)\n",
    "print(combined_df.head())\n",
    "print(f\"数据维度：{combined_df.shape}\")"
   ]
  },
  {
   "cell_type": "code",
   "execution_count": 8,
   "id": "373f43ad-8e8c-46eb-9522-0f75d215c203",
   "metadata": {},
   "outputs": [],
   "source": [
    "df_all = pandas.read_csv(f\"结构化数据_{data_batch}_{data_target}.csv\")"
   ]
  },
  {
   "cell_type": "code",
   "execution_count": 9,
   "id": "d4b5603f-f7a7-430a-a28c-0566112d0ad3",
   "metadata": {},
   "outputs": [
    {
     "ename": "KeyError",
     "evalue": "'ID'",
     "output_type": "error",
     "traceback": [
      "\u001b[0;31m---------------------------------------------------------------------------\u001b[0m",
      "\u001b[0;31mKeyError\u001b[0m                                  Traceback (most recent call last)",
      "\u001b[0;32m~/miniconda3/envs/myconda/lib/python3.8/site-packages/pandas/core/indexes/base.py\u001b[0m in \u001b[0;36mget_loc\u001b[0;34m(self, key, method, tolerance)\u001b[0m\n\u001b[1;32m   3620\u001b[0m             \u001b[0;32mtry\u001b[0m\u001b[0;34m:\u001b[0m\u001b[0;34m\u001b[0m\u001b[0;34m\u001b[0m\u001b[0m\n\u001b[0;32m-> 3621\u001b[0;31m                 \u001b[0;32mreturn\u001b[0m \u001b[0mself\u001b[0m\u001b[0;34m.\u001b[0m\u001b[0m_engine\u001b[0m\u001b[0;34m.\u001b[0m\u001b[0mget_loc\u001b[0m\u001b[0;34m(\u001b[0m\u001b[0mcasted_key\u001b[0m\u001b[0;34m)\u001b[0m\u001b[0;34m\u001b[0m\u001b[0;34m\u001b[0m\u001b[0m\n\u001b[0m\u001b[1;32m   3622\u001b[0m             \u001b[0;32mexcept\u001b[0m \u001b[0mKeyError\u001b[0m \u001b[0;32mas\u001b[0m \u001b[0merr\u001b[0m\u001b[0;34m:\u001b[0m\u001b[0;34m\u001b[0m\u001b[0;34m\u001b[0m\u001b[0m\n",
      "\u001b[0;32m~/miniconda3/envs/myconda/lib/python3.8/site-packages/pandas/_libs/index.pyx\u001b[0m in \u001b[0;36mpandas._libs.index.IndexEngine.get_loc\u001b[0;34m()\u001b[0m\n",
      "\u001b[0;32m~/miniconda3/envs/myconda/lib/python3.8/site-packages/pandas/_libs/index.pyx\u001b[0m in \u001b[0;36mpandas._libs.index.IndexEngine.get_loc\u001b[0;34m()\u001b[0m\n",
      "\u001b[0;32mpandas/_libs/hashtable_class_helper.pxi\u001b[0m in \u001b[0;36mpandas._libs.hashtable.PyObjectHashTable.get_item\u001b[0;34m()\u001b[0m\n",
      "\u001b[0;32mpandas/_libs/hashtable_class_helper.pxi\u001b[0m in \u001b[0;36mpandas._libs.hashtable.PyObjectHashTable.get_item\u001b[0;34m()\u001b[0m\n",
      "\u001b[0;31mKeyError\u001b[0m: 'ID'",
      "\nThe above exception was the direct cause of the following exception:\n",
      "\u001b[0;31mKeyError\u001b[0m                                  Traceback (most recent call last)",
      "\u001b[0;32m/tmp/ipykernel_389/2803043430.py\u001b[0m in \u001b[0;36m<cell line: 2>\u001b[0;34m()\u001b[0m\n\u001b[1;32m      1\u001b[0m \u001b[0;31m# 步骤1：检验关键列是否相同\u001b[0m\u001b[0;34m\u001b[0m\u001b[0;34m\u001b[0m\u001b[0;34m\u001b[0m\u001b[0m\n\u001b[0;32m----> 2\u001b[0;31m \u001b[0;32mif\u001b[0m \u001b[0;32mnot\u001b[0m \u001b[0mdf_all\u001b[0m\u001b[0;34m[\u001b[0m\u001b[0;34m'ID'\u001b[0m\u001b[0;34m]\u001b[0m\u001b[0;34m.\u001b[0m\u001b[0mequals\u001b[0m\u001b[0;34m(\u001b[0m\u001b[0mcombined_df\u001b[0m\u001b[0;34m[\u001b[0m\u001b[0;34m'ID'\u001b[0m\u001b[0;34m]\u001b[0m\u001b[0;34m)\u001b[0m\u001b[0;34m:\u001b[0m\u001b[0;34m\u001b[0m\u001b[0;34m\u001b[0m\u001b[0m\n\u001b[0m\u001b[1;32m      3\u001b[0m     \u001b[0;31m# 如果列不完全相同，抛出异常（或根据需求调整）\u001b[0m\u001b[0;34m\u001b[0m\u001b[0;34m\u001b[0m\u001b[0;34m\u001b[0m\u001b[0m\n\u001b[1;32m      4\u001b[0m     \u001b[0;32mraise\u001b[0m \u001b[0mValueError\u001b[0m\u001b[0;34m(\u001b[0m\u001b[0;34m\"关键列内容不相同，无法拼接！\"\u001b[0m\u001b[0;34m)\u001b[0m\u001b[0;34m\u001b[0m\u001b[0;34m\u001b[0m\u001b[0m\n",
      "\u001b[0;32m~/miniconda3/envs/myconda/lib/python3.8/site-packages/pandas/core/frame.py\u001b[0m in \u001b[0;36m__getitem__\u001b[0;34m(self, key)\u001b[0m\n\u001b[1;32m   3503\u001b[0m             \u001b[0;32mif\u001b[0m \u001b[0mself\u001b[0m\u001b[0;34m.\u001b[0m\u001b[0mcolumns\u001b[0m\u001b[0;34m.\u001b[0m\u001b[0mnlevels\u001b[0m \u001b[0;34m>\u001b[0m \u001b[0;36m1\u001b[0m\u001b[0;34m:\u001b[0m\u001b[0;34m\u001b[0m\u001b[0;34m\u001b[0m\u001b[0m\n\u001b[1;32m   3504\u001b[0m                 \u001b[0;32mreturn\u001b[0m \u001b[0mself\u001b[0m\u001b[0;34m.\u001b[0m\u001b[0m_getitem_multilevel\u001b[0m\u001b[0;34m(\u001b[0m\u001b[0mkey\u001b[0m\u001b[0;34m)\u001b[0m\u001b[0;34m\u001b[0m\u001b[0;34m\u001b[0m\u001b[0m\n\u001b[0;32m-> 3505\u001b[0;31m             \u001b[0mindexer\u001b[0m \u001b[0;34m=\u001b[0m \u001b[0mself\u001b[0m\u001b[0;34m.\u001b[0m\u001b[0mcolumns\u001b[0m\u001b[0;34m.\u001b[0m\u001b[0mget_loc\u001b[0m\u001b[0;34m(\u001b[0m\u001b[0mkey\u001b[0m\u001b[0;34m)\u001b[0m\u001b[0;34m\u001b[0m\u001b[0;34m\u001b[0m\u001b[0m\n\u001b[0m\u001b[1;32m   3506\u001b[0m             \u001b[0;32mif\u001b[0m \u001b[0mis_integer\u001b[0m\u001b[0;34m(\u001b[0m\u001b[0mindexer\u001b[0m\u001b[0;34m)\u001b[0m\u001b[0;34m:\u001b[0m\u001b[0;34m\u001b[0m\u001b[0;34m\u001b[0m\u001b[0m\n\u001b[1;32m   3507\u001b[0m                 \u001b[0mindexer\u001b[0m \u001b[0;34m=\u001b[0m \u001b[0;34m[\u001b[0m\u001b[0mindexer\u001b[0m\u001b[0;34m]\u001b[0m\u001b[0;34m\u001b[0m\u001b[0;34m\u001b[0m\u001b[0m\n",
      "\u001b[0;32m~/miniconda3/envs/myconda/lib/python3.8/site-packages/pandas/core/indexes/base.py\u001b[0m in \u001b[0;36mget_loc\u001b[0;34m(self, key, method, tolerance)\u001b[0m\n\u001b[1;32m   3621\u001b[0m                 \u001b[0;32mreturn\u001b[0m \u001b[0mself\u001b[0m\u001b[0;34m.\u001b[0m\u001b[0m_engine\u001b[0m\u001b[0;34m.\u001b[0m\u001b[0mget_loc\u001b[0m\u001b[0;34m(\u001b[0m\u001b[0mcasted_key\u001b[0m\u001b[0;34m)\u001b[0m\u001b[0;34m\u001b[0m\u001b[0;34m\u001b[0m\u001b[0m\n\u001b[1;32m   3622\u001b[0m             \u001b[0;32mexcept\u001b[0m \u001b[0mKeyError\u001b[0m \u001b[0;32mas\u001b[0m \u001b[0merr\u001b[0m\u001b[0;34m:\u001b[0m\u001b[0;34m\u001b[0m\u001b[0;34m\u001b[0m\u001b[0m\n\u001b[0;32m-> 3623\u001b[0;31m                 \u001b[0;32mraise\u001b[0m \u001b[0mKeyError\u001b[0m\u001b[0;34m(\u001b[0m\u001b[0mkey\u001b[0m\u001b[0;34m)\u001b[0m \u001b[0;32mfrom\u001b[0m \u001b[0merr\u001b[0m\u001b[0;34m\u001b[0m\u001b[0;34m\u001b[0m\u001b[0m\n\u001b[0m\u001b[1;32m   3624\u001b[0m             \u001b[0;32mexcept\u001b[0m \u001b[0mTypeError\u001b[0m\u001b[0;34m:\u001b[0m\u001b[0;34m\u001b[0m\u001b[0;34m\u001b[0m\u001b[0m\n\u001b[1;32m   3625\u001b[0m                 \u001b[0;31m# If we have a listlike key, _check_indexing_error will raise\u001b[0m\u001b[0;34m\u001b[0m\u001b[0;34m\u001b[0m\u001b[0;34m\u001b[0m\u001b[0m\n",
      "\u001b[0;31mKeyError\u001b[0m: 'ID'"
     ]
    }
   ],
   "source": [
    "# 步骤1：检验关键列是否相同\n",
    "if not df_all['ID'].equals(combined_df['ID']):\n",
    "    # 如果列不完全相同，抛出异常（或根据需求调整）\n",
    "    raise ValueError(\"关键列内容不相同，无法拼接！\")"
   ]
  },
  {
   "cell_type": "code",
   "execution_count": null,
   "id": "7abad883-af04-4693-80c1-9aafc21621d1",
   "metadata": {},
   "outputs": [],
   "source": [
    "# 1. 检查基本属性\n",
    "print(\"=== 列属性对比 ===\")\n",
    "print(f\"Price列 | 长度: {len(df_all['Price'])} 类型: {df_all['Price'].dtype}\")\n",
    "print(f\"ID列   | 长度: {len(combined_df['ID'])} 类型: {combined_df['ID'].dtype}\")\n",
    "\n",
    "# 2. 找出差异行\n",
    "price_vals = df_all['Price'].reset_index(drop=True)\n",
    "id_vals = combined_df['ID'].reset_index(drop=True)\n",
    "\n",
    "diff_mask = price_vals != id_vals\n",
    "diff_indices = diff_mask[diff_mask].index\n",
    "\n",
    "# 3. 显示差异详情\n",
    "print(\"\\n=== 差异详情 ===\")\n",
    "print(f\"共有 {len(diff_indices)} 处不同\")\n",
    "if len(diff_indices) > 0:\n",
    "    sample_idx = diff_indices[:3]  # 显示前3个差异\n",
    "    for idx in sample_idx:\n",
    "        print(f\"行 {idx}:\")\n",
    "        print(f\"  Price值: {price_vals[idx]} ({type(price_vals[idx])})\")\n",
    "        print(f\"  ID值  : {id_vals[idx]} ({type(id_vals[idx])})\")\n",
    "\n",
    "# 4. 特殊检查：NaN值\n",
    "print(\"\\n=== NaN检查 ===\")\n",
    "print(f\"Price列NaN数量: {price_vals.isna().sum()}\")\n",
    "print(f\"ID列NaN数量  : {id_vals.isna().sum()}\")"
   ]
  },
  {
   "cell_type": "code",
   "execution_count": 10,
   "id": "63fec04a-5773-4342-92b9-2a9a7d707d6e",
   "metadata": {},
   "outputs": [],
   "source": [
    "# 步骤2：提取df2中需要拼接的列\n",
    "df_subset = combined_df[['很不好', '比较不好', '适中', '比较好', '很好']].copy()\n",
    "\n",
    "# 步骤3：横向拼接（注意：此处自动对齐索引）\n",
    "result_df = pandas.concat([df_all, df_subset], axis=1)"
   ]
  },
  {
   "cell_type": "code",
   "execution_count": 11,
   "id": "82e23c3c-a1f3-4002-9f47-132b70e35295",
   "metadata": {},
   "outputs": [],
   "source": [
    "result_df = result_df.drop(\"客户反馈\", axis=1)"
   ]
  },
  {
   "cell_type": "code",
   "execution_count": 12,
   "id": "47680869-f215-4b3e-9f60-6a8497cadba3",
   "metadata": {},
   "outputs": [],
   "source": [
    "result_df.to_csv(f\"结构化数据（带反馈）_{data_batch}_{data_target}.csv\", index=False)"
   ]
  },
  {
   "cell_type": "code",
   "execution_count": null,
   "id": "2e93959a-e66d-4a4e-a0e1-890a6a2c934e",
   "metadata": {},
   "outputs": [],
   "source": []
  },
  {
   "cell_type": "code",
   "execution_count": null,
   "id": "83b70770-e44b-4fdb-bc5a-abc812ae7fd0",
   "metadata": {},
   "outputs": [],
   "source": []
  }
 ],
 "metadata": {
  "kernelspec": {
   "display_name": "myconda",
   "language": "python",
   "name": "myconda"
  },
  "language_info": {
   "codemirror_mode": {
    "name": "ipython",
    "version": 3
   },
   "file_extension": ".py",
   "mimetype": "text/x-python",
   "name": "python",
   "nbconvert_exporter": "python",
   "pygments_lexer": "ipython3",
   "version": "3.8.12"
  }
 },
 "nbformat": 4,
 "nbformat_minor": 5
}
