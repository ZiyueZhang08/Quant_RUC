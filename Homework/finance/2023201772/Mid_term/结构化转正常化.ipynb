{
 "cells": [
  {
   "cell_type": "code",
   "execution_count": 1,
   "id": "d6d700df-48bc-43f5-9cbb-f5e6a80da16d",
   "metadata": {},
   "outputs": [],
   "source": [
    "import pandas as pd\n",
    "import numpy as np"
   ]
  },
  {
   "cell_type": "code",
   "execution_count": 2,
   "id": "46269f5b-edea-487a-8b8b-8ce71f513a18",
   "metadata": {},
   "outputs": [],
   "source": [
    "def analyze_dataframe(df):\n",
    "    results = []\n",
    "    for i, col_name in enumerate(df.columns):\n",
    "        col = df[col_name]\n",
    "        \n",
    "        # 获取列数据类型\n",
    "        dtype = col.dtype\n",
    "        \n",
    "        # 统计特定值\n",
    "        count_neg1 = (col == -1).sum() if dtype != object else (col.astype(str) == '-1').sum()\n",
    "        count_0 = (col == 0).sum() if dtype != object else (col.astype(str) == '0').sum()\n",
    "        count_1 = (col == 1).sum() if dtype != object else (col.astype(str) == '1').sum()\n",
    "        count_2 = (col == 2).sum() if dtype != object else (col.astype(str) == '2').sum()\n",
    "        \n",
    "        # 统计正负值（排除0）\n",
    "        if pd.api.types.is_numeric_dtype(col):\n",
    "            count_positive = (col > 0).sum()\n",
    "            count_negative = (col < 0).sum()\n",
    "        else:\n",
    "            count_positive = count_negative = 0\n",
    "        \n",
    "        # 统计空值\n",
    "        count_null = col.isna().sum()\n",
    "        \n",
    "        # 格式化输出\n",
    "        result = (\n",
    "            f\"第{i}列，{col_name}，\"\n",
    "            f\"该列元素为{dtype}类型，\"\n",
    "            f\"有{count_neg1}个值为-1，\"\n",
    "            f\"{count_0}个值为0，\"\n",
    "            f\"有{count_1}个值为1，\"\n",
    "            f\"有{count_2}个值为2，\"\n",
    "            f\"有{count_positive}个正数值，\"\n",
    "            f\"{count_negative}个负数值，\"\n",
    "            f\"{count_null}个值为空值\"\n",
    "        )\n",
    "        results.append(result)\n",
    "    \n",
    "    return results"
   ]
  },
  {
   "cell_type": "code",
   "execution_count": 3,
   "id": "0d77ab5d-2938-4a76-a45d-02c59def5993",
   "metadata": {},
   "outputs": [],
   "source": [
    "data_batch = \"train\"\n",
    "data_target = \"rent\"\n",
    "fankui = \"\"\n",
    "path = f\"结构化数据{fankui}_{data_batch}_{data_target}.csv\"\n",
    "df = pd.read_csv(path)"
   ]
  },
  {
   "cell_type": "code",
   "execution_count": 4,
   "id": "5e79f870-de39-4ab1-8250-a4dfff6ac436",
   "metadata": {},
   "outputs": [],
   "source": [
    "df = df.drop(\"客户反馈\", axis=1)"
   ]
  },
  {
   "cell_type": "code",
   "execution_count": 5,
   "id": "b52f14ba-c2b2-49ef-b9f6-6d8179bcf498",
   "metadata": {},
   "outputs": [
    {
     "name": "stdout",
     "output_type": "stream",
     "text": [
      "第0列，城市，该列元素为int64类型，有0个值为-1，14542个值为0，有7725个值为1，有12059个值为2，有84357个正数值，0个负数值，0个值为空值\n",
      "第1列，Price，该列元素为float64类型，有0个值为-1，0个值为0，有0个值为1，有0个值为2，有98899个正数值，0个负数值，0个值为空值\n",
      "第2列，lon，该列元素为float64类型，有0个值为-1，0个值为0，有0个值为1，有0个值为2，有98899个正数值，0个负数值，0个值为空值\n",
      "第3列，lat，该列元素为float64类型，有0个值为-1，0个值为0，有0个值为1，有0个值为2，有98899个正数值，0个负数值，0个值为空值\n",
      "第4列，年份，该列元素为float64类型，有0个值为-1，0个值为0，有0个值为1，有0个值为2，有98899个正数值，0个负数值，0个值为空值\n",
      "第5列，区县，该列元素为float64类型，有0个值为-1，0个值为0，有0个值为1，有0个值为2，有94222个正数值，0个负数值，4677个值为空值\n",
      "第6列，板块，该列元素为float64类型，有0个值为-1，0个值为0，有43个值为1，有23个值为2，有93755个正数值，0个负数值，5144个值为空值\n",
      "第7列，coord_x，该列元素为float64类型，有0个值为-1，0个值为0，有0个值为1，有0个值为2，有94268个正数值，0个负数值，4631个值为空值\n",
      "第8列，coord_y，该列元素为float64类型，有0个值为-1，0个值为0，有0个值为1，有0个值为2，有94268个正数值，0个负数值，4631个值为空值\n",
      "第9列，室数，该列元素为int64类型，有1个值为-1，5094个值为0，有23102个值为1，有34047个值为2，有93804个正数值，1个负数值，0个值为空值\n",
      "第10列，厅数，该列元素为int64类型，有1个值为-1，11007个值为0，有48748个值为1，有38781个值为2，有87891个正数值，1个负数值，0个值为空值\n",
      "第11列，厨房数，该列元素为int64类型，有1个值为-1，98898个值为0，有0个值为1，有0个值为2，有0个正数值，1个负数值，0个值为空值\n",
      "第12列，卫数，该列元素为int64类型，有1个值为-1，64482个值为0，有25717个值为1，有7931个值为2，有34416个正数值，1个负数值，0个值为空值\n",
      "第13列，精装修，该列元素为int64类型，有0个值为-1，73489个值为0，有25410个值为1，有0个值为2，有25410个正数值，0个负数值，0个值为空值\n",
      "第14列，是否为底层，该列元素为int64类型，有0个值为-1，98586个值为0，有313个值为1，有0个值为2，有313个正数值，0个负数值，0个值为空值\n",
      "第15列，是否为低层，该列元素为int64类型，有0个值为-1，71247个值为0，有27652个值为1，有0个值为2，有27652个正数值，0个负数值，0个值为空值\n",
      "第16列，是否为中层，该列元素为int64类型，有0个值为-1，61647个值为0，有37252个值为1，有0个值为2，有37252个正数值，0个负数值，0个值为空值\n",
      "第17列，是否为高层，该列元素为int64类型，有0个值为-1，66286个值为0，有32613个值为1，有0个值为2，有32613个正数值，0个负数值，0个值为空值\n",
      "第18列，是否为顶层，该列元素为int64类型，有0个值为-1，98094个值为0，有805个值为1，有0个值为2，有805个正数值，0个负数值，0个值为空值\n",
      "第19列，总楼层，该列元素为int64类型，有0个值为-1，69个值为0，有300个值为1，有252个值为2，有98830个正数值，0个负数值，0个值为空值\n",
      "第20列，建筑面积值，该列元素为float64类型，有0个值为-1，0个值为0，有0个值为1，有0个值为2，有98899个正数值，0个负数值，0个值为空值\n",
      "第21列，向南，该列元素为int64类型，有0个值为-1，20575个值为0，有78324个值为1，有0个值为2，有78324个正数值，0个负数值，0个值为空值\n",
      "第22列，向北，该列元素为int64类型，有0个值为-1，71298个值为0，有27601个值为1，有0个值为2，有27601个正数值，0个负数值，0个值为空值\n",
      "第23列，向西，该列元素为int64类型，有0个值为-1，88302个值为0，有10597个值为1，有0个值为2，有10597个正数值，0个负数值，0个值为空值\n",
      "第24列，向东，该列元素为int64类型，有0个值为-1，77161个值为0，有21738个值为1，有0个值为2，有21738个正数值，0个负数值，0个值为空值\n",
      "第25列，交易距今，该列元素为int64类型，有0个值为-1，0个值为0，有0个值为1，有0个值为2，有98899个正数值，0个负数值，0个值为空值\n",
      "第26列，季付，该列元素为int64类型，有0个值为-1，44369个值为0，有54530个值为1，有0个值为2，有54530个正数值，0个负数值，0个值为空值\n",
      "第27列，双月付，该列元素为int64类型，有0个值为-1，98855个值为0，有44个值为1，有0个值为2，有44个正数值，0个负数值，0个值为空值\n",
      "第28列，月付，该列元素为int64类型，有0个值为-1，77944个值为0，有20955个值为1，有0个值为2，有20955个正数值，0个负数值，0个值为空值\n",
      "第29列，半年付价，该列元素为int64类型，有0个值为-1，94705个值为0，有4194个值为1，有0个值为2，有4194个正数值，0个负数值，0个值为空值\n",
      "第30列，年付，该列元素为int64类型，有0个值为-1，98151个值为0，有748个值为1，有0个值为2，有748个正数值，0个负数值，0个值为空值\n",
      "第31列，整租，该列元素为int64类型，有0个值为-1，5890个值为0，有93009个值为1，有0个值为2，有93009个正数值，0个负数值，0个值为空值\n",
      "第32列，合租，该列元素为int64类型，有0个值为-1，93009个值为0，有5890个值为1，有0个值为2，有5890个正数值，0个负数值，0个值为空值\n",
      "第33列，是否有电梯，该列元素为int64类型，有4个值为-1，29661个值为0，有69234个值为1，有0个值为2，有69234个正数值，4个负数值，0个值为空值\n",
      "第34列，租用车位，该列元素为int64类型，有0个值为-1，78580个值为0，有20319个值为1，有0个值为2，有20319个正数值，0个负数值，0个值为空值\n",
      "第35列，免费使用，该列元素为int64类型，有0个值为-1，94454个值为0，有4445个值为1，有0个值为2，有4445个正数值，0个负数值，0个值为空值\n",
      "第36列，是否有燃气，该列元素为int64类型，有4582个值为-1，9321个值为0，有84996个值为1，有0个值为2，有84996个正数值，4582个负数值，0个值为空值\n",
      "第37列，租赁时间，该列元素为float64类型，有46933个值为-1，0个值为0，有2个值为1，有137个值为2，有51966个正数值，46933个负数值，0个值为空值\n",
      "第38列，设施情况，该列元素为int64类型，有0个值为-1，30451个值为0，有1957个值为1，有3514个值为2，有68448个正数值，0个负数值，0个值为空值\n",
      "第39列，房屋年份，该列元素为float64类型，有0个值为-1，0个值为0，有0个值为1，有0个值为2，有72750个正数值，0个负数值，26149个值为空值\n",
      "第40列，总户数，该列元素为int64类型，有0个值为-1，0个值为0，有4651个值为1，有11个值为2，有98899个正数值，0个负数值，0个值为空值\n",
      "第41列，总楼数，该列元素为int64类型，有0个值为-1，0个值为0，有8503个值为1，有5058个值为2，有98899个正数值，0个负数值，0个值为空值\n",
      "第42列，绿化率，该列元素为float64类型，有0个值为-1，24402个值为0，有235个值为1，有77个值为2，有74497个正数值，0个负数值，0个值为空值\n",
      "第43列，容积率，该列元素为float64类型，有24080个值为-1，0个值为0，有1299个值为1，有6021个值为2，有74819个正数值，24080个负数值，0个值为空值\n",
      "第44列，物业费，该列元素为float64类型，有22159个值为-1，0个值为0，有2594个值为1，有1370个值为2，有76740个正数值，22159个负数值，0个值为空值\n",
      "第45列，塔楼，该列元素为int64类型，有0个值为-1，39601个值为0，有59298个值为1，有0个值为2，有59298个正数值，0个负数值，0个值为空值\n",
      "第46列，板楼，该列元素为int64类型，有0个值为-1，40265个值为0，有58634个值为1，有0个值为2，有58634个正数值，0个负数值，0个值为空值\n",
      "第47列，平房，该列元素为int64类型，有0个值为-1，95176个值为0，有3723个值为1，有0个值为2，有3723个正数值，0个负数值，0个值为空值\n",
      "第48列，民水供水，该列元素为int64类型，有0个值为-1，12876个值为0，有86023个值为1，有0个值为2，有86023个正数值，0个负数值，0个值为空值\n",
      "第49列，商水供水，该列元素为int64类型，有0个值为-1，66677个值为0，有32222个值为1，有0个值为2，有32222个正数值，0个负数值，0个值为空值\n",
      "第50列，民电供电，该列元素为int64类型，有0个值为-1，23945个值为0，有74954个值为1，有0个值为2，有74954个正数值，0个负数值，0个值为空值\n",
      "第51列，商电供电，该列元素为int64类型，有0个值为-1，67335个值为0，有31564个值为1，有0个值为2，有31564个正数值，0个负数值，0个值为空值\n",
      "第52列，无供暖，该列元素为int64类型，有0个值为-1，96636个值为0，有2263个值为1，有0个值为2，有2263个正数值，0个负数值，0个值为空值\n",
      "第53列，集中供暖，该列元素为int64类型，有0个值为-1，75584个值为0，有23315个值为1，有0个值为2，有23315个正数值，0个负数值，0个值为空值\n",
      "第54列，自采暖，该列元素为int64类型，有0个值为-1，79059个值为0，有19840个值为1，有0个值为2，有19840个正数值，0个负数值，0个值为空值\n",
      "第55列，燃气费数值，该列元素为float64类型，有25057个值为-1，0个值为0，有61个值为1，有741个值为2，有73842个正数值，25057个负数值，0个值为空值\n",
      "第56列，供热费数值，该列元素为float64类型，有70064个值为-1，0个值为0，有4429个值为1，有392个值为2，有28835个正数值，70064个负数值，0个值为空值\n",
      "第57列，停车位数量，该列元素为float64类型，有25479个值为-1，0个值为0，有258个值为1，有109个值为2，有73420个正数值，25479个负数值，0个值为空值\n",
      "第58列，停车费，该列元素为float64类型，有34686个值为-1，0个值为0，有81个值为1，有38个值为2，有64213个正数值，34686个负数值，0个值为空值\n"
     ]
    }
   ],
   "source": [
    "# 分析并打印结果\n",
    "analysis_results = analyze_dataframe(df)\n",
    "for result in analysis_results:\n",
    "    print(result)"
   ]
  },
  {
   "cell_type": "code",
   "execution_count": 6,
   "id": "0218952b-e5a3-4f26-b1db-5dd7507e51a1",
   "metadata": {},
   "outputs": [],
   "source": [
    "def process_dataframe(df):\n",
    "    \"\"\"\n",
    "    处理DataFrame的每一列：\n",
    "    1. 如果-1占比超过20%，删除该列\n",
    "    2. 如果-1占比小于5%，用中位数填充相应值\n",
    "    \"\"\"\n",
    "    # 创建副本避免修改原始数据\n",
    "    processed_df = df.copy()\n",
    "    # 记录要删除的列\n",
    "    cols_to_drop = []\n",
    "    \n",
    "    for col in processed_df.columns:\n",
    "        # 只处理数值型列\n",
    "#         if col in fix_column:\n",
    "#             continue\n",
    "        if pd.api.types.is_numeric_dtype(processed_df[col]):\n",
    "            col_data = processed_df[col]\n",
    "            n = len(col_data)\n",
    "            \n",
    "            # 计算-1的占比\n",
    "            minus_one_count = (col_data == -1).sum()\n",
    "            minus_one_ratio = minus_one_count / n\n",
    "            \n",
    "            # 情况1：-1占比超过20%\n",
    "            if minus_one_ratio > 0.2:\n",
    "                cols_to_drop.append(col)\n",
    "                print(f\"已删去{col}列（-1占比{minus_one_ratio:.2%}）\")\n",
    "                continue\n",
    "            \n",
    "            # 计算0的占比\n",
    "            zero_count = (col_data == 0).sum()\n",
    "            zero_ratio = zero_count / n\n",
    "            \n",
    "            # 计算-1的总占比\n",
    "            invalid_ratio = (minus_one_count) / n\n",
    "            \n",
    "            # 情况2：-1中位数填充\n",
    "            if invalid_ratio > 0 and invalid_ratio < 0.05:\n",
    "                # 确定哪些值需要填充\n",
    "                to_fill = []\n",
    "                if minus_one_count > 0:\n",
    "                    to_fill.append(\"-1\")\n",
    "                \n",
    "                # 计算有效值的中位数\n",
    "                valid_values = col_data[(col_data != -1)]\n",
    "                if not valid_values.empty:\n",
    "                    median_val = valid_values.median()\n",
    "                    \n",
    "                    # 填充-1和0的位置\n",
    "                    mask = (col_data == -1)\n",
    "                    processed_df.loc[mask, col] = median_val\n",
    "                    \n",
    "                    print(f\"{col}列已对-1进行中位数填充（{minus_one_count}个-1中位数={median_val:.4f}）\")\n",
    "            \n",
    "    \n",
    "    # 删除需要删除的列\n",
    "    processed_df.drop(columns=cols_to_drop, inplace=True)\n",
    "    return processed_df"
   ]
  },
  {
   "cell_type": "code",
   "execution_count": 7,
   "id": "d555ce72-df82-4e52-b21d-4075e359d5d6",
   "metadata": {},
   "outputs": [
    {
     "name": "stdout",
     "output_type": "stream",
     "text": [
      "室数列已对-1进行中位数填充（1个-1中位数=2.0000）\n",
      "厅数列已对-1进行中位数填充（1个-1中位数=1.0000）\n",
      "厨房数列已对-1进行中位数填充（1个-1中位数=0.0000）\n",
      "卫数列已对-1进行中位数填充（1个-1中位数=0.0000）\n",
      "是否有电梯列已对-1进行中位数填充（4个-1中位数=1.0000）\n",
      "是否有燃气列已对-1进行中位数填充（4582个-1中位数=1.0000）\n",
      "已删去租赁时间列（-1占比47.46%）\n",
      "已删去容积率列（-1占比24.35%）\n",
      "已删去物业费列（-1占比22.41%）\n",
      "已删去燃气费数值列（-1占比25.34%）\n",
      "已删去供热费数值列（-1占比70.84%）\n",
      "已删去停车位数量列（-1占比25.76%）\n",
      "已删去停车费列（-1占比35.07%）\n"
     ]
    }
   ],
   "source": [
    "processed_df = process_dataframe(df)"
   ]
  },
  {
   "cell_type": "code",
   "execution_count": 8,
   "id": "8a22f4a4-ecc7-41a5-a365-3f06d1dd2fa4",
   "metadata": {},
   "outputs": [],
   "source": [
    "def fill_zero_with_median(df, column_name):\n",
    "    \"\"\"\n",
    "    将指定列中的0值替换为该列除0以外元素的中位数\n",
    "    \n",
    "    参数:\n",
    "    df -- 要处理的DataFrame\n",
    "    column_name -- 要处理的列名\n",
    "    \n",
    "    返回:\n",
    "    处理后的DataFrame副本\n",
    "    \"\"\"\n",
    "    # 创建DataFrame副本以避免修改原始数据\n",
    "    processed_df = df.copy()\n",
    "    \n",
    "    # 检查列是否存在\n",
    "    if column_name not in processed_df.columns:\n",
    "        raise ValueError(f\"列 '{column_name}' 不存在于DataFrame中\")\n",
    "    # 获取指定列的数据\n",
    "    col_data = processed_df[column_name]\n",
    "    \n",
    "    \n",
    "    # 计算0的数量\n",
    "    zero_count = (col_data == 0).sum()\n",
    "    \n",
    "    if zero_count == 0:\n",
    "        print(f\"列 '{column_name}' 中没有0值，无需处理\")\n",
    "        return processed_df\n",
    "    # 计算非零元素的中位数\n",
    "    non_zero_values = col_data[col_data != 0]\n",
    "    median_val = non_zero_values.median()\n",
    "    # 替换0值为中位数\n",
    "    processed_df.loc[col_data == 0, column_name] = median_val\n",
    "    \n",
    "    print(f\"列 '{column_name}' 已处理: {zero_count}个0值被替换为中位数 {median_val:.4f}\")\n",
    "    return processed_df"
   ]
  },
  {
   "cell_type": "code",
   "execution_count": 9,
   "id": "c6b15a77-9e89-4e40-b805-f72c52161be5",
   "metadata": {},
   "outputs": [
    {
     "name": "stdout",
     "output_type": "stream",
     "text": [
      "列 '总楼层' 已处理: 69个0值被替换为中位数 18.0000\n"
     ]
    }
   ],
   "source": [
    "proprocessed_df = fill_zero_with_median(processed_df, '总楼层')"
   ]
  },
  {
   "cell_type": "code",
   "execution_count": null,
   "id": "0500ad47-23be-4944-b3b2-a431294b4a6a",
   "metadata": {},
   "outputs": [],
   "source": []
  },
  {
   "cell_type": "code",
   "execution_count": 11,
   "id": "a2c468c9-9cb1-47c3-9aeb-1b8617b91144",
   "metadata": {},
   "outputs": [],
   "source": [
    "proprocessed_df.to_csv(f\"正常化数据{fankui}_{data_batch}_{data_target}.csv\", index=False)"
   ]
  },
  {
   "cell_type": "code",
   "execution_count": null,
   "id": "a18a99b1-dc77-496b-a64c-dcd40bbc4091",
   "metadata": {},
   "outputs": [],
   "source": []
  }
 ],
 "metadata": {
  "kernelspec": {
   "display_name": "myconda",
   "language": "python",
   "name": "myconda"
  },
  "language_info": {
   "codemirror_mode": {
    "name": "ipython",
    "version": 3
   },
   "file_extension": ".py",
   "mimetype": "text/x-python",
   "name": "python",
   "nbconvert_exporter": "python",
   "pygments_lexer": "ipython3",
   "version": "3.8.12"
  }
 },
 "nbformat": 4,
 "nbformat_minor": 5
}
