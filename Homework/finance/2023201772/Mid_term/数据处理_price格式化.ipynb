{
 "cells": [
  {
   "cell_type": "code",
   "execution_count": 1,
   "id": "d3346656-3fdc-4d26-a4a5-951ff9504c85",
   "metadata": {},
   "outputs": [],
   "source": [
    "import pandas as pd\n",
    "import re\n",
    "from datetime import datetime"
   ]
  },
  {
   "cell_type": "code",
   "execution_count": 2,
   "id": "ddbd0763-47ca-496b-a6cc-0117aa2d0a78",
   "metadata": {},
   "outputs": [
    {
     "name": "stdout",
     "output_type": "stream",
     "text": [
      "数据维度：(34017, 55)\n"
     ]
    },
    {
     "name": "stderr",
     "output_type": "stream",
     "text": [
      "/tmp/ipykernel_1090/905137227.py:5: DtypeWarning: Columns (4,32) have mixed types. Specify dtype option on import or set low_memory=False.\n",
      "  df = pd.read_csv(path)\n"
     ]
    }
   ],
   "source": [
    "# 读入数据\n",
    "data_batch = \"test\"\n",
    "data_target = \"price\"\n",
    "path = f\"ori_data//ruc_Class25Q2_{data_batch}_{data_target}.csv\"\n",
    "df = pd.read_csv(path)\n",
    "print(f\"数据维度：{df.shape}\")"
   ]
  },
  {
   "cell_type": "code",
   "execution_count": 3,
   "id": "4ffbfca8-6128-41fb-af87-c265bc0118b9",
   "metadata": {},
   "outputs": [
    {
     "name": "stdout",
     "output_type": "stream",
     "text": [
      "数据维度：(34017, 54)\n"
     ]
    }
   ],
   "source": [
    "# 处理“环线”特征：删除该列\n",
    "df = df.drop(\"环线\", axis=1)\n",
    "print(f\"数据维度：{df.shape}\")"
   ]
  },
  {
   "cell_type": "code",
   "execution_count": 4,
   "id": "52575cbd-3f5b-44a4-b3cd-21f641817de4",
   "metadata": {},
   "outputs": [],
   "source": [
    "# 处理“房屋户型”：“2室1厅1厨1卫”\n",
    "def extract_room_shape(text):\n",
    "    \"\"\"\n",
    "    参数:\n",
    "    text: str - 户型字符串，如\"2室1厅1厨1卫\"\n",
    "    \n",
    "    返回:\n",
    "    tuple - (室数, 厅数, 厨房数, 卫数)\n",
    "    \"\"\"\n",
    "    # 初始化默认值\n",
    "    if text == \"\":\n",
    "        return -1,-1,-1,-1\n",
    "    room = hall = kitchen = bathroom = 0\n",
    "    \n",
    "    # 使用正则表达式匹配数字和对应的单位\n",
    "    pattern = r'(\\d+)(室|厅|厨|卫)'\n",
    "    matches = re.findall(pattern, text)\n",
    "    \n",
    "    # 将匹配结果分配到对应的变量\n",
    "    for value, unit in matches:\n",
    "        value = int(value)\n",
    "        if unit == '室':\n",
    "            room = value\n",
    "        elif unit == '厅':\n",
    "            hall = value\n",
    "        elif unit == '厨':\n",
    "            kitchen = value\n",
    "        elif unit == '卫':\n",
    "            bathroom = value\n",
    "    \n",
    "    return room, hall, kitchen, bathroom"
   ]
  },
  {
   "cell_type": "code",
   "execution_count": 5,
   "id": "b5ea3c46-3c10-4cd4-b18d-e184dfa3ef72",
   "metadata": {},
   "outputs": [
    {
     "name": "stdout",
     "output_type": "stream",
     "text": [
      "14\n",
      "Index(['ID', '城市', '区域', '板块', '房屋户型', '所在楼层', '建筑面积', '套内面积', '房屋朝向', '建筑结构',\n",
      "       '装修情况', '梯户比例', '配备电梯', '别墅类型', '交易时间', '交易权属', '上次交易', '房屋用途', '房屋年限',\n",
      "       '产权所属', '抵押信息', '房屋优势', '核心卖点', '户型介绍', '周边配套', '交通出行', 'lon', 'lat',\n",
      "       '年份', '区县', '板块_comm', '环线位置', '物业类别', '建筑年代', '开发商', '房屋总数', '楼栋总数',\n",
      "       '物业公司', '绿 化 率', '容 积 率', '物 业 费', '建筑结构_comm', '物业办公电话', '产权描述', '供水',\n",
      "       '供暖', '供电', '燃气费', '供热费', '停车位', '停车费用', 'coord_x', 'coord_y', '客户反馈',\n",
      "       '室数', '厅数', '厨房数', '卫数'],\n",
      "      dtype='object')\n",
      "数据维度：(34017, 58)\n"
     ]
    }
   ],
   "source": [
    "# 检查缺失值\n",
    "print(df['房屋户型'].isnull().sum())\n",
    "# 填充缺失值为空字符串\n",
    "df['房屋户型'] = df['房屋户型'].fillna('')\n",
    "# 应用提取函数并创建新列\n",
    "df[['室数', '厅数', '厨房数', '卫数']] = df['房屋户型'].apply(lambda x: pd.Series(extract_room_shape(x)))\n",
    "\n",
    "print(df.columns)\n",
    "# print(df.head())\n",
    "print(f\"数据维度：{df.shape}\")"
   ]
  },
  {
   "cell_type": "code",
   "execution_count": 6,
   "id": "0111b9d5-d572-4d18-834c-971709e6e966",
   "metadata": {},
   "outputs": [
    {
     "name": "stdout",
     "output_type": "stream",
     "text": [
      "数据维度：(34017, 57)\n"
     ]
    }
   ],
   "source": [
    "df = df.drop(\"房屋户型\", axis=1)\n",
    "print(f\"数据维度：{df.shape}\")"
   ]
  },
  {
   "cell_type": "code",
   "execution_count": 7,
   "id": "efb7356c-5f0b-4014-9794-0279029eb1ed",
   "metadata": {},
   "outputs": [],
   "source": [
    "# 处理“所在楼层”：“低楼层（共13层）”\n",
    "def extract_floor_info(text):\n",
    "    \"\"\"\n",
    "    参数:\n",
    "    text: str - 楼层字符串，如\"中楼层（共7层）\"、\"底层（共13层）\"\n",
    "    \n",
    "    返回:\n",
    "    tuple - (是否为底层, 是否为低层, 是否为中层, 是否为高层, 是否为顶层, 总楼层)\n",
    "    \"\"\"\n",
    "    # 初始化默认值\n",
    "    is_bottom = 0\n",
    "    is_low = 0\n",
    "    is_middle = 0\n",
    "    is_high = 0\n",
    "    is_top = 0\n",
    "    total_floors = 0\n",
    "    \n",
    "    # 提取总楼层数\n",
    "    total_match = re.search(r'共(\\d+)层', text)\n",
    "    if total_match:\n",
    "        total_floors = int(total_match.group(1))\n",
    "    \n",
    "    # 根据楼层描述设置对应的标志\n",
    "    if '底层' in text:\n",
    "        is_bottom = 1\n",
    "    elif '低楼层' in text:\n",
    "        is_low = 1\n",
    "    elif '中楼层' in text:\n",
    "        is_middle = 1\n",
    "    elif '高楼层' in text:\n",
    "        is_high = 1\n",
    "    elif '顶层' in text:\n",
    "        is_top = 1\n",
    "    \n",
    "    return is_bottom, is_low, is_middle, is_high, is_top, total_floors"
   ]
  },
  {
   "cell_type": "code",
   "execution_count": 8,
   "id": "4e424723-3e5a-4f68-837f-06022e7451c7",
   "metadata": {},
   "outputs": [
    {
     "name": "stdout",
     "output_type": "stream",
     "text": [
      "0\n",
      "        ID  城市     区域      板块        所在楼层     建筑面积     套内面积 房屋朝向  建筑结构 装修情况  \\\n",
      "0  1000000   0  109.0   367.0  中楼层 (共23层)  282.02㎡      NaN  南 北  钢混结构   简装   \n",
      "1  1000001   0   28.0   606.0  中楼层 (共17层)   88.42㎡   71.78㎡  南 北  钢混结构   其他   \n",
      "2  1000002   0  123.0  1110.0  高楼层 (共12层)  175.52㎡  139.86㎡   西北  混合结构   简装   \n",
      "3  1000003   0   65.0   555.0   中楼层 (共5层)  106.13㎡      NaN  南 北  钢混结构   其他   \n",
      "4  1000004   0  109.0   990.0    顶层 (共5层)   116.8㎡      NaN  南 北  混合结构   简装   \n",
      "\n",
      "   ... 室数 厅数 厨房数 卫数 是否为底层 是否为低层 是否为中层 是否为高层 是否为顶层  总楼层  \n",
      "0  ...  3  2   1  2     0     0     1     0     0   23  \n",
      "1  ...  2  1   1  1     0     0     1     0     0   17  \n",
      "2  ...  3  1   1  2     0     0     0     1     0   12  \n",
      "3  ...  2  1   1  1     0     0     1     0     0    5  \n",
      "4  ...  3  2   1  2     0     0     0     0     1    5  \n",
      "\n",
      "[5 rows x 63 columns]\n",
      "数据维度：(34017, 63)\n"
     ]
    }
   ],
   "source": [
    "# 检查缺失值\n",
    "print(df['所在楼层'].isnull().sum())\n",
    "# 填充缺失值为空字符串\n",
    "df['所在楼层'] = df['所在楼层'].fillna('')\n",
    "# 应用提取函数并创建新列\n",
    "df[['是否为底层', '是否为低层', '是否为中层', '是否为高层', '是否为顶层', '总楼层']] = df['所在楼层'].apply(\n",
    "    lambda x: pd.Series(extract_floor_info(x))\n",
    ")\n",
    "\n",
    "# print(df.columns)\n",
    "print(df.head())\n",
    "print(f\"数据维度：{df.shape}\")"
   ]
  },
  {
   "cell_type": "code",
   "execution_count": 9,
   "id": "41e5d14d-5f39-4f7f-88ec-84b397da09dd",
   "metadata": {},
   "outputs": [
    {
     "name": "stdout",
     "output_type": "stream",
     "text": [
      "数据维度：(34017, 62)\n"
     ]
    }
   ],
   "source": [
    "df = df.drop(\"所在楼层\", axis=1)\n",
    "print(f\"数据维度：{df.shape}\")"
   ]
  },
  {
   "cell_type": "code",
   "execution_count": 10,
   "id": "4c429b2e-af60-4bf2-8bbb-08c9eff6fb1f",
   "metadata": {},
   "outputs": [],
   "source": [
    "# 处理建筑面积\n",
    "def extract_area_value(text):\n",
    "    \"\"\"    \n",
    "    参数:\n",
    "    text: str - 建筑面积字符串，如\"$ 282.02m^{2} $\"\n",
    "    \n",
    "    返回:\n",
    "    float - 提取出的面积数值\n",
    "    \"\"\"\n",
    "    match = re.search(r\"(\\d+\\.?\\d*)\", text)\n",
    "    \n",
    "    if match:\n",
    "        return float(match.group(1))\n",
    "    else:\n",
    "        return 0  # 如果没有匹配到数字，返回0"
   ]
  },
  {
   "cell_type": "code",
   "execution_count": 11,
   "id": "10397a46-488d-4bea-90a7-008bb4e4c312",
   "metadata": {},
   "outputs": [
    {
     "name": "stdout",
     "output_type": "stream",
     "text": [
      "Index(['ID', '城市', '区域', '板块', '建筑面积', '套内面积', '房屋朝向', '建筑结构', '装修情况', '梯户比例',\n",
      "       '配备电梯', '别墅类型', '交易时间', '交易权属', '上次交易', '房屋用途', '房屋年限', '产权所属', '抵押信息',\n",
      "       '房屋优势', '核心卖点', '户型介绍', '周边配套', '交通出行', 'lon', 'lat', '年份', '区县',\n",
      "       '板块_comm', '环线位置', '物业类别', '建筑年代', '开发商', '房屋总数', '楼栋总数', '物业公司',\n",
      "       '绿 化 率', '容 积 率', '物 业 费', '建筑结构_comm', '物业办公电话', '产权描述', '供水', '供暖',\n",
      "       '供电', '燃气费', '供热费', '停车位', '停车费用', 'coord_x', 'coord_y', '客户反馈', '室数',\n",
      "       '厅数', '厨房数', '卫数', '是否为底层', '是否为低层', '是否为中层', '是否为高层', '是否为顶层', '总楼层',\n",
      "       '建筑面积值'],\n",
      "      dtype='object')\n",
      "        ID  城市     区域      板块     建筑面积     套内面积 房屋朝向  建筑结构 装修情况  梯户比例  ... 厅数  \\\n",
      "0  1000000   0  109.0   367.0  282.02㎡      NaN  南 北  钢混结构   简装  两梯五户  ...  2   \n",
      "1  1000001   0   28.0   606.0   88.42㎡   71.78㎡  南 北  钢混结构   其他  一梯两户  ...  1   \n",
      "2  1000002   0  123.0  1110.0  175.52㎡  139.86㎡   西北  混合结构   简装  两梯六户  ...  1   \n",
      "3  1000003   0   65.0   555.0  106.13㎡      NaN  南 北  钢混结构   其他  一梯两户  ...  1   \n",
      "4  1000004   0  109.0   990.0   116.8㎡      NaN  南 北  混合结构   简装  一梯两户  ...  2   \n",
      "\n",
      "  厨房数 卫数 是否为底层 是否为低层 是否为中层 是否为高层 是否为顶层  总楼层   建筑面积值  \n",
      "0   1  2     0     0     1     0     0   23  282.02  \n",
      "1   1  1     0     0     1     0     0   17   88.42  \n",
      "2   1  2     0     0     0     1     0   12  175.52  \n",
      "3   1  1     0     0     1     0     0    5  106.13  \n",
      "4   1  2     0     0     0     0     1    5  116.80  \n",
      "\n",
      "[5 rows x 63 columns]\n",
      "数据维度：(34017, 63)\n"
     ]
    }
   ],
   "source": [
    "df['建筑面积值'] = df['建筑面积'].apply(extract_area_value)\n",
    "\n",
    "print(df.columns)\n",
    "print(df.head())\n",
    "print(f\"数据维度：{df.shape}\")"
   ]
  },
  {
   "cell_type": "code",
   "execution_count": 12,
   "id": "e1b049a6-b842-4d6c-aba0-df856deaf16a",
   "metadata": {},
   "outputs": [
    {
     "name": "stdout",
     "output_type": "stream",
     "text": [
      "数据维度：(34017, 62)\n"
     ]
    }
   ],
   "source": [
    "df = df.drop(\"建筑面积\", axis=1)\n",
    "print(f\"数据维度：{df.shape}\")"
   ]
  },
  {
   "cell_type": "code",
   "execution_count": 13,
   "id": "6c551d1e-c4fd-41f8-ad4e-581cb4fc31be",
   "metadata": {},
   "outputs": [
    {
     "name": "stdout",
     "output_type": "stream",
     "text": [
      "24102\n",
      "Index(['ID', '城市', '区域', '板块', '套内面积', '房屋朝向', '建筑结构', '装修情况', '梯户比例', '配备电梯',\n",
      "       '别墅类型', '交易时间', '交易权属', '上次交易', '房屋用途', '房屋年限', '产权所属', '抵押信息', '房屋优势',\n",
      "       '核心卖点', '户型介绍', '周边配套', '交通出行', 'lon', 'lat', '年份', '区县', '板块_comm',\n",
      "       '环线位置', '物业类别', '建筑年代', '开发商', '房屋总数', '楼栋总数', '物业公司', '绿 化 率', '容 积 率',\n",
      "       '物 业 费', '建筑结构_comm', '物业办公电话', '产权描述', '供水', '供暖', '供电', '燃气费', '供热费',\n",
      "       '停车位', '停车费用', 'coord_x', 'coord_y', '客户反馈', '室数', '厅数', '厨房数', '卫数',\n",
      "       '是否为底层', '是否为低层', '是否为中层', '是否为高层', '是否为顶层', '总楼层', '建筑面积值', '套内面积值'],\n",
      "      dtype='object')\n",
      "        ID  城市     区域      板块     套内面积 房屋朝向  建筑结构 装修情况  梯户比例 配备电梯  ... 厨房数 卫数  \\\n",
      "0  1000000   0  109.0   367.0           南 北  钢混结构   简装  两梯五户    有  ...   1  2   \n",
      "1  1000001   0   28.0   606.0   71.78㎡  南 北  钢混结构   其他  一梯两户    有  ...   1  1   \n",
      "2  1000002   0  123.0  1110.0  139.86㎡   西北  混合结构   简装  两梯六户    有  ...   1  2   \n",
      "3  1000003   0   65.0   555.0           南 北  钢混结构   其他  一梯两户    无  ...   1  1   \n",
      "4  1000004   0  109.0   990.0           南 北  混合结构   简装  一梯两户    无  ...   1  2   \n",
      "\n",
      "  是否为底层 是否为低层 是否为中层 是否为高层 是否为顶层  总楼层   建筑面积值   套内面积值  \n",
      "0     0     0     1     0     0   23  282.02    0.00  \n",
      "1     0     0     1     0     0   17   88.42   71.78  \n",
      "2     0     0     0     1     0   12  175.52  139.86  \n",
      "3     0     0     1     0     0    5  106.13    0.00  \n",
      "4     0     0     0     0     1    5  116.80    0.00  \n",
      "\n",
      "[5 rows x 63 columns]\n",
      "数据维度：(34017, 63)\n"
     ]
    }
   ],
   "source": [
    "# 检查缺失值\n",
    "print(df['套内面积'].isnull().sum())\n",
    "# 填充缺失值为空字符串\n",
    "df['套内面积'] = df['套内面积'].fillna('')\n",
    "df['套内面积值'] = df['套内面积'].apply(extract_area_value)\n",
    "\n",
    "print(df.columns)\n",
    "print(df.head())\n",
    "print(f\"数据维度：{df.shape}\")"
   ]
  },
  {
   "cell_type": "code",
   "execution_count": 14,
   "id": "93331ab0-7d8e-4199-a95a-00c0a7ebbc37",
   "metadata": {},
   "outputs": [
    {
     "name": "stdout",
     "output_type": "stream",
     "text": [
      "数据维度：(34017, 62)\n"
     ]
    }
   ],
   "source": [
    "df = df.drop(\"套内面积\", axis=1)\n",
    "print(f\"数据维度：{df.shape}\")"
   ]
  },
  {
   "cell_type": "code",
   "execution_count": 15,
   "id": "7d954a92-dd52-4f2e-8e07-9fe87799f732",
   "metadata": {},
   "outputs": [],
   "source": [
    "# 处理房屋朝向\n",
    "def extract_room_direction(text):\n",
    "    south = north = west = east = 0\n",
    "    \n",
    "    if \"南\" in text:\n",
    "        south = 1\n",
    "    if \"北\" in text:\n",
    "        north = 1\n",
    "    if \"西\" in text:\n",
    "        west = 1\n",
    "    if \"东\" in text:\n",
    "        east = 1\n",
    "    \n",
    "    return south, north, west, east"
   ]
  },
  {
   "cell_type": "code",
   "execution_count": 16,
   "id": "1e59ea94-f0f6-4723-a5dd-4e3a77d76d81",
   "metadata": {},
   "outputs": [
    {
     "name": "stdout",
     "output_type": "stream",
     "text": [
      "0\n",
      "Index(['ID', '城市', '区域', '板块', '房屋朝向', '建筑结构', '装修情况', '梯户比例', '配备电梯', '别墅类型',\n",
      "       '交易时间', '交易权属', '上次交易', '房屋用途', '房屋年限', '产权所属', '抵押信息', '房屋优势', '核心卖点',\n",
      "       '户型介绍', '周边配套', '交通出行', 'lon', 'lat', '年份', '区县', '板块_comm', '环线位置',\n",
      "       '物业类别', '建筑年代', '开发商', '房屋总数', '楼栋总数', '物业公司', '绿 化 率', '容 积 率',\n",
      "       '物 业 费', '建筑结构_comm', '物业办公电话', '产权描述', '供水', '供暖', '供电', '燃气费', '供热费',\n",
      "       '停车位', '停车费用', 'coord_x', 'coord_y', '客户反馈', '室数', '厅数', '厨房数', '卫数',\n",
      "       '是否为底层', '是否为低层', '是否为中层', '是否为高层', '是否为顶层', '总楼层', '建筑面积值', '套内面积值',\n",
      "       '向南', '向北', '向西', '向东'],\n",
      "      dtype='object')\n",
      "        ID  城市     区域      板块 房屋朝向  建筑结构 装修情况  梯户比例 配备电梯 别墅类型  ... 是否为中层  \\\n",
      "0  1000000   0  109.0   367.0  南 北  钢混结构   简装  两梯五户    有  NaN  ...     1   \n",
      "1  1000001   0   28.0   606.0  南 北  钢混结构   其他  一梯两户    有  NaN  ...     1   \n",
      "2  1000002   0  123.0  1110.0   西北  混合结构   简装  两梯六户    有  NaN  ...     0   \n",
      "3  1000003   0   65.0   555.0  南 北  钢混结构   其他  一梯两户    无  NaN  ...     1   \n",
      "4  1000004   0  109.0   990.0  南 北  混合结构   简装  一梯两户    无  NaN  ...     0   \n",
      "\n",
      "  是否为高层 是否为顶层 总楼层   建筑面积值   套内面积值  向南 向北 向西 向东  \n",
      "0     0     0  23  282.02    0.00   1  1  0  0  \n",
      "1     0     0  17   88.42   71.78   1  1  0  0  \n",
      "2     1     0  12  175.52  139.86   0  1  1  0  \n",
      "3     0     0   5  106.13    0.00   1  1  0  0  \n",
      "4     0     1   5  116.80    0.00   1  1  0  0  \n",
      "\n",
      "[5 rows x 66 columns]\n",
      "数据维度：(34017, 66)\n"
     ]
    }
   ],
   "source": [
    "# 检查缺失值\n",
    "print(df['房屋朝向'].isnull().sum())\n",
    "# 填充缺失值为空字符串\n",
    "df['房屋朝向'] = df['房屋朝向'].fillna('')\n",
    "# 应用提取函数并创建新列\n",
    "df[['向南', '向北', '向西', '向东']] = df['房屋朝向'].apply(\n",
    "    lambda x: pd.Series(extract_room_direction(x))\n",
    ")\n",
    "\n",
    "print(df.columns)\n",
    "print(df.head())\n",
    "print(f\"数据维度：{df.shape}\")"
   ]
  },
  {
   "cell_type": "code",
   "execution_count": 17,
   "id": "b78046df-ef10-4f08-8cc6-bd45c2ea9a87",
   "metadata": {},
   "outputs": [
    {
     "name": "stdout",
     "output_type": "stream",
     "text": [
      "数据维度：(34017, 65)\n"
     ]
    }
   ],
   "source": [
    "df = df.drop(\"房屋朝向\", axis=1)\n",
    "print(f\"数据维度：{df.shape}\")"
   ]
  },
  {
   "cell_type": "code",
   "execution_count": 18,
   "id": "89dca817-e619-4f25-adcb-3eeeb98a02a2",
   "metadata": {},
   "outputs": [],
   "source": [
    "# 处理建筑结构\n",
    "def extract_room_structure(text):\n",
    "    hunhe = zhuanhun = kuangjia = zhuanmu = ganghun = gang = 0\n",
    "    if \"混合\" in text:\n",
    "        hunhe = 1\n",
    "    if \"砖混\" in text:\n",
    "        zhuanhun = 1\n",
    "    if \"框架\" in text:\n",
    "        kuangja = 1\n",
    "    if \"砖木\" in text:\n",
    "        zhuanmu = 1\n",
    "    if \"钢混\" in text:\n",
    "        ganghun = 1\n",
    "    elif \"钢\" in text:\n",
    "        gang = 1\n",
    "    \n",
    "    return hunhe, zhuanhun, kuangjia, zhuanmu, ganghun, gang"
   ]
  },
  {
   "cell_type": "code",
   "execution_count": 19,
   "id": "c913d92d-20d0-4a40-a03b-c6ee26de8107",
   "metadata": {},
   "outputs": [
    {
     "name": "stdout",
     "output_type": "stream",
     "text": [
      "14\n",
      "Index(['ID', '城市', '区域', '板块', '建筑结构', '装修情况', '梯户比例', '配备电梯', '别墅类型', '交易时间',\n",
      "       '交易权属', '上次交易', '房屋用途', '房屋年限', '产权所属', '抵押信息', '房屋优势', '核心卖点', '户型介绍',\n",
      "       '周边配套', '交通出行', 'lon', 'lat', '年份', '区县', '板块_comm', '环线位置', '物业类别',\n",
      "       '建筑年代', '开发商', '房屋总数', '楼栋总数', '物业公司', '绿 化 率', '容 积 率', '物 业 费',\n",
      "       '建筑结构_comm', '物业办公电话', '产权描述', '供水', '供暖', '供电', '燃气费', '供热费', '停车位',\n",
      "       '停车费用', 'coord_x', 'coord_y', '客户反馈', '室数', '厅数', '厨房数', '卫数', '是否为底层',\n",
      "       '是否为低层', '是否为中层', '是否为高层', '是否为顶层', '总楼层', '建筑面积值', '套内面积值', '向南', '向北',\n",
      "       '向西', '向东', '混合', '砖混', '框架', '砖木', '钢混', '钢'],\n",
      "      dtype='object')\n",
      "        ID  城市     区域      板块  建筑结构 装修情况  梯户比例 配备电梯 别墅类型        交易时间  ... 向南  \\\n",
      "0  1000000   0  109.0   367.0  钢混结构   简装  两梯五户    有  NaN  2025-02-21  ...  1   \n",
      "1  1000001   0   28.0   606.0  钢混结构   其他  一梯两户    有  NaN  2025-01-17  ...  1   \n",
      "2  1000002   0  123.0  1110.0  混合结构   简装  两梯六户    有  NaN  2025-04-03  ...  0   \n",
      "3  1000003   0   65.0   555.0  钢混结构   其他  一梯两户    无  NaN  2025-01-31  ...  1   \n",
      "4  1000004   0  109.0   990.0  混合结构   简装  一梯两户    无  NaN  2025-01-22  ...  1   \n",
      "\n",
      "  向北 向西 向东 混合  砖混 框架 砖木 钢混  钢  \n",
      "0  1  0  0  0   0  0  0  1  0  \n",
      "1  1  0  0  0   0  0  0  1  0  \n",
      "2  1  1  0  1   0  0  0  0  0  \n",
      "3  1  0  0  0   0  0  0  1  0  \n",
      "4  1  0  0  1   0  0  0  0  0  \n",
      "\n",
      "[5 rows x 71 columns]\n",
      "数据维度：(34017, 71)\n"
     ]
    }
   ],
   "source": [
    "# 检查缺失值\n",
    "print(df['建筑结构'].isnull().sum())\n",
    "# 填充缺失值为空字符串\n",
    "df['建筑结构'] = df['建筑结构'].fillna('')\n",
    "# 应用提取函数并创建新列\n",
    "df[['混合', '砖混', '框架', '砖木', '钢混', '钢']] = df['建筑结构'].apply(\n",
    "    lambda x: pd.Series(extract_room_structure(x))\n",
    ")\n",
    "\n",
    "print(df.columns)\n",
    "print(df.head())\n",
    "print(f\"数据维度：{df.shape}\")"
   ]
  },
  {
   "cell_type": "code",
   "execution_count": 20,
   "id": "362ff547-dfc5-4040-9449-3c717e5675c0",
   "metadata": {},
   "outputs": [
    {
     "name": "stdout",
     "output_type": "stream",
     "text": [
      "数据维度：(34017, 70)\n"
     ]
    }
   ],
   "source": [
    "df = df.drop(\"建筑结构\", axis=1)\n",
    "print(f\"数据维度：{df.shape}\")"
   ]
  },
  {
   "cell_type": "code",
   "execution_count": 21,
   "id": "d07bcae9-d524-4cd9-9597-feabb528271d",
   "metadata": {},
   "outputs": [],
   "source": [
    "# 处理装修情况\n",
    "def extract_room_fitment(text):\n",
    "    jingzhuang = jianzhuang = qita = maopi = 0\n",
    "    if \"精装\" in text:\n",
    "        jingzhuang = 1\n",
    "    if \"简装\" in text:\n",
    "        jianzhuang = 1\n",
    "    if \"其他\" in text:\n",
    "        qita = 1\n",
    "    if \"毛坯\" in text:\n",
    "        maopi = 1\n",
    "\n",
    "    \n",
    "    return jingzhuang, jianzhuang, qita, maopi"
   ]
  },
  {
   "cell_type": "code",
   "execution_count": 22,
   "id": "d8570162-49f2-4936-9fc0-cb1e7fc96b63",
   "metadata": {},
   "outputs": [
    {
     "name": "stdout",
     "output_type": "stream",
     "text": [
      "14\n",
      "Index(['ID', '城市', '区域', '板块', '装修情况', '梯户比例', '配备电梯', '别墅类型', '交易时间', '交易权属',\n",
      "       '上次交易', '房屋用途', '房屋年限', '产权所属', '抵押信息', '房屋优势', '核心卖点', '户型介绍', '周边配套',\n",
      "       '交通出行', 'lon', 'lat', '年份', '区县', '板块_comm', '环线位置', '物业类别', '建筑年代',\n",
      "       '开发商', '房屋总数', '楼栋总数', '物业公司', '绿 化 率', '容 积 率', '物 业 费', '建筑结构_comm',\n",
      "       '物业办公电话', '产权描述', '供水', '供暖', '供电', '燃气费', '供热费', '停车位', '停车费用',\n",
      "       'coord_x', 'coord_y', '客户反馈', '室数', '厅数', '厨房数', '卫数', '是否为底层', '是否为低层',\n",
      "       '是否为中层', '是否为高层', '是否为顶层', '总楼层', '建筑面积值', '套内面积值', '向南', '向北', '向西',\n",
      "       '向东', '混合', '砖混', '框架', '砖木', '钢混', '钢', '精装装修', '简装装修', '其他装修',\n",
      "       '毛坯装修'],\n",
      "      dtype='object')\n",
      "        ID  城市     区域      板块 装修情况  梯户比例 配备电梯 别墅类型        交易时间  交易权属  ... 混合  \\\n",
      "0  1000000   0  109.0   367.0   简装  两梯五户    有  NaN  2025-02-21    私产  ...  0   \n",
      "1  1000001   0   28.0   606.0   其他  一梯两户    有  NaN  2025-01-17   商品房  ...  0   \n",
      "2  1000002   0  123.0  1110.0   简装  两梯六户    有  NaN  2025-04-03   商品房  ...  1   \n",
      "3  1000003   0   65.0   555.0   其他  一梯两户    无  NaN  2025-01-31   商品房  ...  0   \n",
      "4  1000004   0  109.0   990.0   简装  一梯两户    无  NaN  2025-01-22  已购公房  ...  1   \n",
      "\n",
      "  砖混 框架 砖木  钢混  钢 精装装修 简装装修 其他装修 毛坯装修  \n",
      "0  0  0  0   1  0    0    1    0    0  \n",
      "1  0  0  0   1  0    0    0    1    0  \n",
      "2  0  0  0   0  0    0    1    0    0  \n",
      "3  0  0  0   1  0    0    0    1    0  \n",
      "4  0  0  0   0  0    0    1    0    0  \n",
      "\n",
      "[5 rows x 74 columns]\n",
      "数据维度：(34017, 74)\n"
     ]
    }
   ],
   "source": [
    "# 检查缺失值\n",
    "target_column = \"装修情况\"\n",
    "print(df[target_column].isnull().sum())\n",
    "# 填充缺失值为空字符串\n",
    "df[target_column] = df[target_column].fillna('')\n",
    "# 应用提取函数并创建新列\n",
    "df[['精装装修', '简装装修', '其他装修', '毛坯装修']] = df[target_column].apply(\n",
    "    lambda x: pd.Series(extract_room_fitment(x))\n",
    ")\n",
    "\n",
    "print(df.columns)\n",
    "print(df.head())\n",
    "print(f\"数据维度：{df.shape}\")"
   ]
  },
  {
   "cell_type": "code",
   "execution_count": 23,
   "id": "5985a84c-af47-4da1-aad9-b4e79d5d90ce",
   "metadata": {},
   "outputs": [
    {
     "name": "stdout",
     "output_type": "stream",
     "text": [
      "数据维度：(34017, 73)\n"
     ]
    }
   ],
   "source": [
    "df = df.drop(\"装修情况\", axis=1)\n",
    "print(f\"数据维度：{df.shape}\")"
   ]
  },
  {
   "cell_type": "code",
   "execution_count": null,
   "id": "edb8806c-3162-4b65-a5bb-fdc8f32755c4",
   "metadata": {},
   "outputs": [],
   "source": []
  },
  {
   "cell_type": "code",
   "execution_count": 24,
   "id": "c4a0c238-7272-47dc-a307-5be6136e54a5",
   "metadata": {},
   "outputs": [],
   "source": [
    "def convert_chinese_number(chinese_num):\n",
    "    \"\"\"\n",
    "    将中文数字转换为阿拉伯数字\n",
    "    \n",
    "    参数:\n",
    "    chinese_num: str - 中文数字字符串\n",
    "    \n",
    "    返回:\n",
    "    int - 转换后的阿拉伯数字\n",
    "    \"\"\"\n",
    "    chinese_to_arabic = {\n",
    "        '一': 1, '二': 2, '三': 3, '四': 4, '五': 5,\n",
    "        '六': 6, '七': 7, '八': 8, '九': 9, '十': 10,\n",
    "        '两': 2\n",
    "    }\n",
    "    \n",
    "    # 处理十以上的数字\n",
    "    if '十' in chinese_num:\n",
    "        parts = chinese_num.split('十')\n",
    "        if len(parts) == 1:  # 十\n",
    "            return 10\n",
    "        elif len(parts) == 2:\n",
    "            if parts[0] == '' and parts[1] == '':  # 这种情况不应该发生\n",
    "                return 10\n",
    "            elif parts[0] == '':  # 十一\n",
    "                return 10 + chinese_to_arabic.get(parts[1], 0)\n",
    "            elif parts[1] == '':  # 二十\n",
    "                return chinese_to_arabic.get(parts[0], 0) * 10\n",
    "            else:  # 二十五\n",
    "                return chinese_to_arabic.get(parts[0], 0) * 10 + chinese_to_arabic.get(parts[1], 0)\n",
    "    \n",
    "    # 单个数字\n",
    "    return chinese_to_arabic.get(chinese_num, 0)"
   ]
  },
  {
   "cell_type": "code",
   "execution_count": 25,
   "id": "e39718e0-fd3b-4106-a529-f52c807fb835",
   "metadata": {},
   "outputs": [],
   "source": [
    "def extract_ratio(text):\n",
    "    \"\"\"\n",
    "    从梯户比例字符串中提取电梯数和户数，并计算梯户比\n",
    "    \n",
    "    参数:\n",
    "    text: str - 梯户比例字符串，如\"一梯三户\"、\"两梯八户\"\n",
    "    \n",
    "    返回:\n",
    "    float - 梯户比（户数/电梯数）\n",
    "    \"\"\"\n",
    "    # 使用正则表达式匹配模式：X梯Y户\n",
    "    pattern = r'(\\S+)梯(\\S+)户'\n",
    "    match = re.search(pattern, text)\n",
    "    \n",
    "    if match:\n",
    "        elevator_chinese = match.group(1)  # 电梯数的中文表示\n",
    "        household_chinese = match.group(2)  # 户数的中文表示\n",
    "        \n",
    "        # 转换为阿拉伯数字\n",
    "        elevator_num = convert_chinese_number(elevator_chinese)\n",
    "        household_num = convert_chinese_number(household_chinese)\n",
    "        \n",
    "        # 计算梯户比（户数/电梯数）\n",
    "        if elevator_num > 0:\n",
    "            return household_num / elevator_num\n",
    "        else:\n",
    "            return -1  # 避免除以零错误\n",
    "    else:\n",
    "        return -1  # 如果匹配失败，返回0"
   ]
  },
  {
   "cell_type": "code",
   "execution_count": 26,
   "id": "7c62b6cc-da94-4767-8e39-d570898712c4",
   "metadata": {},
   "outputs": [
    {
     "name": "stdout",
     "output_type": "stream",
     "text": [
      "635\n",
      "Index(['ID', '城市', '区域', '板块', '梯户比例', '配备电梯', '别墅类型', '交易时间', '交易权属', '上次交易',\n",
      "       '房屋用途', '房屋年限', '产权所属', '抵押信息', '房屋优势', '核心卖点', '户型介绍', '周边配套', '交通出行',\n",
      "       'lon', 'lat', '年份', '区县', '板块_comm', '环线位置', '物业类别', '建筑年代', '开发商',\n",
      "       '房屋总数', '楼栋总数', '物业公司', '绿 化 率', '容 积 率', '物 业 费', '建筑结构_comm',\n",
      "       '物业办公电话', '产权描述', '供水', '供暖', '供电', '燃气费', '供热费', '停车位', '停车费用',\n",
      "       'coord_x', 'coord_y', '客户反馈', '室数', '厅数', '厨房数', '卫数', '是否为底层', '是否为低层',\n",
      "       '是否为中层', '是否为高层', '是否为顶层', '总楼层', '建筑面积值', '套内面积值', '向南', '向北', '向西',\n",
      "       '向东', '混合', '砖混', '框架', '砖木', '钢混', '钢', '精装装修', '简装装修', '其他装修', '毛坯装修',\n",
      "       '梯户比'],\n",
      "      dtype='object')\n",
      "        ID  城市     区域      板块  梯户比例 配备电梯 别墅类型        交易时间  交易权属        上次交易  \\\n",
      "0  1000000   0  109.0   367.0  两梯五户    有  NaN  2025-02-21    私产  2008-02-02   \n",
      "1  1000001   0   28.0   606.0  一梯两户    有  NaN  2025-01-17   商品房  2010-12-18   \n",
      "2  1000002   0  123.0  1110.0  两梯六户    有  NaN  2025-04-03   商品房  2010-05-07   \n",
      "3  1000003   0   65.0   555.0  一梯两户    无  NaN  2025-01-31   商品房  2008-07-15   \n",
      "4  1000004   0  109.0   990.0  一梯两户    无  NaN  2025-01-22  已购公房  1999-10-26   \n",
      "\n",
      "   ... 砖混 框架 砖木  钢混  钢 精装装修 简装装修 其他装修 毛坯装修  梯户比  \n",
      "0  ...  0  0  0   1  0    0    1    0    0  2.5  \n",
      "1  ...  0  0  0   1  0    0    0    1    0  2.0  \n",
      "2  ...  0  0  0   0  0    0    1    0    0  3.0  \n",
      "3  ...  0  0  0   1  0    0    0    1    0  2.0  \n",
      "4  ...  0  0  0   0  0    0    1    0    0  2.0  \n",
      "\n",
      "[5 rows x 74 columns]\n",
      "数据维度：(34017, 74)\n"
     ]
    }
   ],
   "source": [
    "# 检查缺失值\n",
    "target_column = \"梯户比例\"\n",
    "print(df[target_column].isnull().sum())\n",
    "# 填充缺失值为空字符串\n",
    "df[target_column] = df[target_column].fillna('')\n",
    "# 应用提取函数创建新列\n",
    "df['梯户比'] = df[target_column].apply(extract_ratio)\n",
    "print(df.columns)\n",
    "print(df.head())\n",
    "print(f\"数据维度：{df.shape}\")"
   ]
  },
  {
   "cell_type": "code",
   "execution_count": 27,
   "id": "a77ac67a-68a3-4eb7-97e3-e8b19e78829c",
   "metadata": {},
   "outputs": [
    {
     "name": "stdout",
     "output_type": "stream",
     "text": [
      "数据维度：(34017, 73)\n"
     ]
    }
   ],
   "source": [
    "df = df.drop(\"梯户比例\", axis=1)\n",
    "print(f\"数据维度：{df.shape}\")"
   ]
  },
  {
   "cell_type": "code",
   "execution_count": null,
   "id": "988c69ed-4257-41aa-a179-4f23bfc39f5e",
   "metadata": {},
   "outputs": [],
   "source": []
  },
  {
   "cell_type": "code",
   "execution_count": 28,
   "id": "57ce3e1c-4e91-4ad5-bfc6-e60ed1d2d5d0",
   "metadata": {},
   "outputs": [],
   "source": [
    "# 处理电梯情况\n",
    "def extract_elevator(text):\n",
    "    is_elev = -1\n",
    "    if \"有\" in text:\n",
    "        is_elev = 1\n",
    "    if \"无\" in text:\n",
    "        is_elev = 0\n",
    "    \n",
    "    return is_elev"
   ]
  },
  {
   "cell_type": "code",
   "execution_count": 29,
   "id": "1e91e9bd-3cd6-46c4-828c-81cce729aabd",
   "metadata": {},
   "outputs": [
    {
     "name": "stdout",
     "output_type": "stream",
     "text": [
      "4092\n",
      "Index(['ID', '城市', '区域', '板块', '配备电梯', '别墅类型', '交易时间', '交易权属', '上次交易', '房屋用途',\n",
      "       '房屋年限', '产权所属', '抵押信息', '房屋优势', '核心卖点', '户型介绍', '周边配套', '交通出行', 'lon',\n",
      "       'lat', '年份', '区县', '板块_comm', '环线位置', '物业类别', '建筑年代', '开发商', '房屋总数',\n",
      "       '楼栋总数', '物业公司', '绿 化 率', '容 积 率', '物 业 费', '建筑结构_comm', '物业办公电话',\n",
      "       '产权描述', '供水', '供暖', '供电', '燃气费', '供热费', '停车位', '停车费用', 'coord_x',\n",
      "       'coord_y', '客户反馈', '室数', '厅数', '厨房数', '卫数', '是否为底层', '是否为低层', '是否为中层',\n",
      "       '是否为高层', '是否为顶层', '总楼层', '建筑面积值', '套内面积值', '向南', '向北', '向西', '向东', '混合',\n",
      "       '砖混', '框架', '砖木', '钢混', '钢', '精装装修', '简装装修', '其他装修', '毛坯装修', '梯户比',\n",
      "       '是否有电梯'],\n",
      "      dtype='object')\n",
      "        ID  城市     区域      板块 配备电梯 别墅类型        交易时间  交易权属        上次交易  房屋用途  \\\n",
      "0  1000000   0  109.0   367.0    有  NaN  2025-02-21    私产  2008-02-02  普通住宅   \n",
      "1  1000001   0   28.0   606.0    有  NaN  2025-01-17   商品房  2010-12-18  普通住宅   \n",
      "2  1000002   0  123.0  1110.0    有  NaN  2025-04-03   商品房  2010-05-07  普通住宅   \n",
      "3  1000003   0   65.0   555.0    无  NaN  2025-01-31   商品房  2008-07-15  普通住宅   \n",
      "4  1000004   0  109.0   990.0    无  NaN  2025-01-22  已购公房  1999-10-26  普通住宅   \n",
      "\n",
      "   ... 框架 砖木  钢混  钢 精装装修 简装装修 其他装修 毛坯装修  梯户比  是否有电梯  \n",
      "0  ...  0  0   1  0    0    1    0    0  2.5      1  \n",
      "1  ...  0  0   1  0    0    0    1    0  2.0      1  \n",
      "2  ...  0  0   0  0    0    1    0    0  3.0      1  \n",
      "3  ...  0  0   1  0    0    0    1    0  2.0      0  \n",
      "4  ...  0  0   0  0    0    1    0    0  2.0      0  \n",
      "\n",
      "[5 rows x 74 columns]\n",
      "数据维度：(34017, 74)\n"
     ]
    }
   ],
   "source": [
    "# 检查缺失值\n",
    "target_column = \"配备电梯\"\n",
    "print(df[target_column].isnull().sum())\n",
    "# 填充缺失值为空字符串\n",
    "df[target_column] = df[target_column].fillna('')\n",
    "# 应用提取函数并创建新列\n",
    "df[['是否有电梯']] = df[target_column].apply(\n",
    "    lambda x: pd.Series(extract_elevator(x))\n",
    ")\n",
    "\n",
    "print(df.columns)\n",
    "print(df.head())\n",
    "print(f\"数据维度：{df.shape}\")"
   ]
  },
  {
   "cell_type": "code",
   "execution_count": 30,
   "id": "ac0f8821-4749-4077-ba8e-029c16b82b33",
   "metadata": {},
   "outputs": [
    {
     "name": "stdout",
     "output_type": "stream",
     "text": [
      "数据维度：(34017, 73)\n"
     ]
    }
   ],
   "source": [
    "df = df.drop(\"配备电梯\", axis=1)\n",
    "print(f\"数据维度：{df.shape}\")"
   ]
  },
  {
   "cell_type": "code",
   "execution_count": 31,
   "id": "7e252567-3f4d-419b-8515-a605fe2d7331",
   "metadata": {},
   "outputs": [],
   "source": [
    "# 处理别墅类型\n",
    "def extract_bighouse(text):\n",
    "    is_expensive = is_cheap = 0\n",
    "    if \"独栋\" in text or \"双拼\" in text:\n",
    "        is_expensive = 1\n",
    "    if \"叠拼\" in text or \"联排\" in text:\n",
    "        is_cheap = 1\n",
    "    \n",
    "    return is_expensive, is_cheap"
   ]
  },
  {
   "cell_type": "code",
   "execution_count": 32,
   "id": "19b3f856-ee85-4716-b1c7-0cf50c4b65b9",
   "metadata": {},
   "outputs": [
    {
     "name": "stdout",
     "output_type": "stream",
     "text": [
      "33863\n",
      "Index(['ID', '城市', '区域', '板块', '别墅类型', '交易时间', '交易权属', '上次交易', '房屋用途', '房屋年限',\n",
      "       '产权所属', '抵押信息', '房屋优势', '核心卖点', '户型介绍', '周边配套', '交通出行', 'lon', 'lat',\n",
      "       '年份', '区县', '板块_comm', '环线位置', '物业类别', '建筑年代', '开发商', '房屋总数', '楼栋总数',\n",
      "       '物业公司', '绿 化 率', '容 积 率', '物 业 费', '建筑结构_comm', '物业办公电话', '产权描述', '供水',\n",
      "       '供暖', '供电', '燃气费', '供热费', '停车位', '停车费用', 'coord_x', 'coord_y', '客户反馈',\n",
      "       '室数', '厅数', '厨房数', '卫数', '是否为底层', '是否为低层', '是否为中层', '是否为高层', '是否为顶层',\n",
      "       '总楼层', '建筑面积值', '套内面积值', '向南', '向北', '向西', '向东', '混合', '砖混', '框架', '砖木',\n",
      "       '钢混', '钢', '精装装修', '简装装修', '其他装修', '毛坯装修', '梯户比', '是否有电梯', '独栋或双拼',\n",
      "       '联排或叠拼'],\n",
      "      dtype='object')\n",
      "        ID  城市     区域      板块 别墅类型        交易时间  交易权属        上次交易  房屋用途 房屋年限  \\\n",
      "0  1000000   0  109.0   367.0       2025-02-21    私产  2008-02-02  普通住宅  满五年   \n",
      "1  1000001   0   28.0   606.0       2025-01-17   商品房  2010-12-18  普通住宅  满五年   \n",
      "2  1000002   0  123.0  1110.0       2025-04-03   商品房  2010-05-07  普通住宅  满五年   \n",
      "3  1000003   0   65.0   555.0       2025-01-31   商品房  2008-07-15  普通住宅  满五年   \n",
      "4  1000004   0  109.0   990.0       2025-01-22  已购公房  1999-10-26  普通住宅  满五年   \n",
      "\n",
      "   ... 钢混  钢 精装装修 简装装修 其他装修 毛坯装修  梯户比  是否有电梯  独栋或双拼  联排或叠拼  \n",
      "0  ...  1  0    0    1    0    0  2.5      1      0      0  \n",
      "1  ...  1  0    0    0    1    0  2.0      1      0      0  \n",
      "2  ...  0  0    0    1    0    0  3.0      1      0      0  \n",
      "3  ...  1  0    0    0    1    0  2.0      0      0      0  \n",
      "4  ...  0  0    0    1    0    0  2.0      0      0      0  \n",
      "\n",
      "[5 rows x 75 columns]\n",
      "数据维度：(34017, 75)\n"
     ]
    }
   ],
   "source": [
    "# 检查缺失值\n",
    "target_column = \"别墅类型\"\n",
    "print(df[target_column].isnull().sum())\n",
    "# 填充缺失值为空字符串\n",
    "df[target_column] = df[target_column].fillna('')\n",
    "# 应用提取函数并创建新列\n",
    "df[['独栋或双拼', \"联排或叠拼\"]] = df[target_column].apply(\n",
    "    lambda x: pd.Series(extract_bighouse(x))\n",
    ")\n",
    "\n",
    "print(df.columns)\n",
    "print(df.head())\n",
    "print(f\"数据维度：{df.shape}\")"
   ]
  },
  {
   "cell_type": "code",
   "execution_count": 33,
   "id": "2807779c-2524-41ff-8322-75cd9cb97f39",
   "metadata": {},
   "outputs": [
    {
     "name": "stdout",
     "output_type": "stream",
     "text": [
      "数据维度：(34017, 74)\n"
     ]
    }
   ],
   "source": [
    "df = df.drop(\"别墅类型\", axis=1)\n",
    "print(f\"数据维度：{df.shape}\")"
   ]
  },
  {
   "cell_type": "code",
   "execution_count": null,
   "id": "85d6a58f-6ad2-47e4-bdad-7b5a20ddaa74",
   "metadata": {},
   "outputs": [],
   "source": []
  },
  {
   "cell_type": "code",
   "execution_count": 34,
   "id": "f5dbb2b3-c56d-4135-a511-d41847ff2ba3",
   "metadata": {},
   "outputs": [
    {
     "name": "stdout",
     "output_type": "stream",
     "text": [
      "0\n",
      "Index(['ID', '城市', '区域', '板块', '交易时间', '交易权属', '上次交易', '房屋用途', '房屋年限', '产权所属',\n",
      "       '抵押信息', '房屋优势', '核心卖点', '户型介绍', '周边配套', '交通出行', 'lon', 'lat', '年份',\n",
      "       '区县', '板块_comm', '环线位置', '物业类别', '建筑年代', '开发商', '房屋总数', '楼栋总数', '物业公司',\n",
      "       '绿 化 率', '容 积 率', '物 业 费', '建筑结构_comm', '物业办公电话', '产权描述', '供水', '供暖',\n",
      "       '供电', '燃气费', '供热费', '停车位', '停车费用', 'coord_x', 'coord_y', '客户反馈', '室数',\n",
      "       '厅数', '厨房数', '卫数', '是否为底层', '是否为低层', '是否为中层', '是否为高层', '是否为顶层', '总楼层',\n",
      "       '建筑面积值', '套内面积值', '向南', '向北', '向西', '向东', '混合', '砖混', '框架', '砖木', '钢混',\n",
      "       '钢', '精装装修', '简装装修', '其他装修', '毛坯装修', '梯户比', '是否有电梯', '独栋或双拼', '联排或叠拼',\n",
      "       '交易时间dt', '交易距今'],\n",
      "      dtype='object')\n",
      "        ID  城市     区域      板块        交易时间  交易权属        上次交易  房屋用途 房屋年限 产权所属  \\\n",
      "0  1000000   0  109.0   367.0  2025-02-21    私产  2008-02-02  普通住宅  满五年  非共有   \n",
      "1  1000001   0   28.0   606.0  2025-01-17   商品房  2010-12-18  普通住宅  满五年  非共有   \n",
      "2  1000002   0  123.0  1110.0  2025-04-03   商品房  2010-05-07  普通住宅  满五年  非共有   \n",
      "3  1000003   0   65.0   555.0  2025-01-31   商品房  2008-07-15  普通住宅  满五年  非共有   \n",
      "4  1000004   0  109.0   990.0  2025-01-22  已购公房  1999-10-26  普通住宅  满五年  非共有   \n",
      "\n",
      "   ...  精装装修 简装装修 其他装修 毛坯装修  梯户比 是否有电梯  独栋或双拼  联排或叠拼     交易时间dt  交易距今  \n",
      "0  ...     0    1    0    0  2.5     1      0      0 2025-02-21   313  \n",
      "1  ...     0    0    1    0  2.0     1      0      0 2025-01-17   348  \n",
      "2  ...     0    1    0    0  3.0     1      0      0 2025-04-03   272  \n",
      "3  ...     0    0    1    0  2.0     0      0      0 2025-01-31   334  \n",
      "4  ...     0    1    0    0  2.0     0      0      0 2025-01-22   343  \n",
      "\n",
      "[5 rows x 76 columns]\n",
      "数据维度：(34017, 76)\n"
     ]
    }
   ],
   "source": [
    "# 检查缺失值\n",
    "target_column = \"交易时间\"\n",
    "print(df[target_column].isnull().sum())\n",
    "# 填充缺失值为空字符串\n",
    "df[target_column] = df[target_column].fillna('')\n",
    "\n",
    "# 将\"交易时间\"列转换为datetime类型\n",
    "df['交易时间dt'] = pd.to_datetime(df[target_column])\n",
    "# 设置参考日期为2025年12月31日\n",
    "reference_date = datetime(2025, 12, 31)\n",
    "# 计算每个交易日期距离参考日期的天数\n",
    "df['交易距今'] = (reference_date - df['交易时间dt']).dt.days\n",
    "\n",
    "print(df.columns)\n",
    "print(df.head())\n",
    "print(f\"数据维度：{df.shape}\")"
   ]
  },
  {
   "cell_type": "code",
   "execution_count": 35,
   "id": "3143516e-3817-48cf-b108-748294161ad7",
   "metadata": {},
   "outputs": [
    {
     "name": "stdout",
     "output_type": "stream",
     "text": [
      "数据维度：(34017, 74)\n"
     ]
    }
   ],
   "source": [
    "df = df.drop(\"交易时间\", axis=1)\n",
    "df = df.drop(\"交易时间dt\", axis=1)\n",
    "print(f\"数据维度：{df.shape}\")"
   ]
  },
  {
   "cell_type": "code",
   "execution_count": 36,
   "id": "ebc7c107-c46d-41b6-adab-e4ecf04c8451",
   "metadata": {},
   "outputs": [],
   "source": [
    "# 先处理所有超出范围的日期\n",
    "def fix_out_of_bounds_dates(date_str):\n",
    "    \"\"\"\n",
    "    修复超出 pandas 时间范围的日期字符串\n",
    "    \"\"\"\n",
    "    try:\n",
    "        # 尝试转换为 datetime 来检查是否超出范围\n",
    "        pd.to_datetime(date_str)\n",
    "        return date_str\n",
    "    except:\n",
    "        # 提取日期部分\n",
    "        parts = date_str.split('-')\n",
    "        if len(parts) >= 3:\n",
    "            # 将年份改为在范围内的年份（例如当前年份）\n",
    "            fixed_year = '2020'  # 替换为合理的年份\n",
    "            return f\"{fixed_year}-{parts[1]}-{parts[2]}\"\n",
    "        return date_str"
   ]
  },
  {
   "cell_type": "code",
   "execution_count": 38,
   "id": "8f1ed010-65c1-435c-b76e-15ab4ac815f2",
   "metadata": {},
   "outputs": [
    {
     "name": "stdout",
     "output_type": "stream",
     "text": [
      "0\n",
      "Index(['ID', '城市', '区域', '板块', '交易权属', '上次交易', '房屋用途', '房屋年限', '产权所属', '抵押信息',\n",
      "       '房屋优势', '核心卖点', '户型介绍', '周边配套', '交通出行', 'lon', 'lat', '年份', '区县',\n",
      "       '板块_comm', '环线位置', '物业类别', '建筑年代', '开发商', '房屋总数', '楼栋总数', '物业公司',\n",
      "       '绿 化 率', '容 积 率', '物 业 费', '建筑结构_comm', '物业办公电话', '产权描述', '供水', '供暖',\n",
      "       '供电', '燃气费', '供热费', '停车位', '停车费用', 'coord_x', 'coord_y', '客户反馈', '室数',\n",
      "       '厅数', '厨房数', '卫数', '是否为底层', '是否为低层', '是否为中层', '是否为高层', '是否为顶层', '总楼层',\n",
      "       '建筑面积值', '套内面积值', '向南', '向北', '向西', '向东', '混合', '砖混', '框架', '砖木', '钢混',\n",
      "       '钢', '精装装修', '简装装修', '其他装修', '毛坯装修', '梯户比', '是否有电梯', '独栋或双拼', '联排或叠拼',\n",
      "       '交易距今', '上次交易时间dt', '上次交易距今'],\n",
      "      dtype='object')\n",
      "        ID  城市     区域      板块  交易权属        上次交易  房屋用途 房屋年限 产权所属  抵押信息  ...  \\\n",
      "0  1000000   0  109.0   367.0    私产  2008-02-02  普通住宅  满五年  非共有   NaN  ...   \n",
      "1  1000001   0   28.0   606.0   商品房  2010-12-18  普通住宅  满五年  非共有   NaN  ...   \n",
      "2  1000002   0  123.0  1110.0   商品房  2010-05-07  普通住宅  满五年  非共有   NaN  ...   \n",
      "3  1000003   0   65.0   555.0   商品房  2008-07-15  普通住宅  满五年  非共有   NaN  ...   \n",
      "4  1000004   0  109.0   990.0  已购公房  1999-10-26  普通住宅  满五年  非共有   NaN  ...   \n",
      "\n",
      "  简装装修 其他装修 毛坯装修  梯户比 是否有电梯  独栋或双拼  联排或叠拼  交易距今   上次交易时间dt  上次交易距今  \n",
      "0    1    0    0  2.5     1      0      0   313 2008-02-02  6542.0  \n",
      "1    0    1    0  2.0     1      0      0   348 2010-12-18  5492.0  \n",
      "2    1    0    0  3.0     1      0      0   272 2010-05-07  5717.0  \n",
      "3    0    1    0  2.0     0      0      0   334 2008-07-15  6378.0  \n",
      "4    1    0    0  2.0     0      0      0   343 1999-10-26  9563.0  \n",
      "\n",
      "[5 rows x 76 columns]\n",
      "数据维度：(34017, 76)\n"
     ]
    }
   ],
   "source": [
    "# 检查缺失值\n",
    "target_column = \"上次交易\"\n",
    "print(df[target_column].isnull().sum())\n",
    "# 应用修复函数\n",
    "df[target_column] = df[target_column].apply(fix_out_of_bounds_dates)\n",
    "# 填充缺失值为空字符串\n",
    "df[target_column] = df[target_column].fillna('')\n",
    "\n",
    "\n",
    "# 将\"交易时间\"列转换为datetime类型\n",
    "df['上次交易时间dt'] = pd.to_datetime(df[target_column])\n",
    "# 设置参考日期为2025年12月31日\n",
    "reference_date = datetime(2025, 12, 31)\n",
    "# 计算每个交易日期距离参考日期的天数\n",
    "df['上次交易距今'] = (reference_date - df['上次交易时间dt']).dt.days\n",
    "df['上次交易距今'] = df['上次交易距今'].fillna(-1)\n",
    "\n",
    "print(df.columns)\n",
    "print(df.head())\n",
    "print(f\"数据维度：{df.shape}\")"
   ]
  },
  {
   "cell_type": "code",
   "execution_count": 39,
   "id": "40d49b99-7d0a-4e65-b34a-9ba7db9dc64a",
   "metadata": {},
   "outputs": [
    {
     "name": "stdout",
     "output_type": "stream",
     "text": [
      "小于0的值（异常数据）数量: 7243\n"
     ]
    }
   ],
   "source": [
    "count_negative = (df['上次交易距今'] < 0).sum()\n",
    "print(\"小于0的值（异常数据）数量:\", count_negative)"
   ]
  },
  {
   "cell_type": "code",
   "execution_count": 40,
   "id": "a61953c7-65dc-498e-9805-c3246fd99ee3",
   "metadata": {},
   "outputs": [
    {
     "name": "stdout",
     "output_type": "stream",
     "text": [
      "数据维度：(34017, 74)\n"
     ]
    }
   ],
   "source": [
    "df = df.drop(\"上次交易\", axis=1)\n",
    "df = df.drop(\"上次交易时间dt\", axis=1)\n",
    "print(f\"数据维度：{df.shape}\")"
   ]
  },
  {
   "cell_type": "code",
   "execution_count": 41,
   "id": "de7a01db-bee5-4032-bd00-79d4625d56fd",
   "metadata": {},
   "outputs": [],
   "source": [
    "# 处理房屋年限\n",
    "def extract_room_year(text):\n",
    "    low_two = two_five = high_five = 0\n",
    "    if \"满五年\" in text:\n",
    "        high_five = 1\n",
    "    if \"未满两年\" in text:\n",
    "         low_two = 1\n",
    "    elif \"满两年\" in text:\n",
    "        two_five = 1\n",
    "    \n",
    "    return low_two, two_five, high_five"
   ]
  },
  {
   "cell_type": "code",
   "execution_count": 42,
   "id": "87ed8db7-31bb-4f47-98ab-75864d4b2697",
   "metadata": {},
   "outputs": [
    {
     "name": "stdout",
     "output_type": "stream",
     "text": [
      "11296\n",
      "Index(['ID', '城市', '区域', '板块', '交易权属', '房屋用途', '房屋年限', '产权所属', '抵押信息', '房屋优势',\n",
      "       '核心卖点', '户型介绍', '周边配套', '交通出行', 'lon', 'lat', '年份', '区县', '板块_comm',\n",
      "       '环线位置', '物业类别', '建筑年代', '开发商', '房屋总数', '楼栋总数', '物业公司', '绿 化 率', '容 积 率',\n",
      "       '物 业 费', '建筑结构_comm', '物业办公电话', '产权描述', '供水', '供暖', '供电', '燃气费', '供热费',\n",
      "       '停车位', '停车费用', 'coord_x', 'coord_y', '客户反馈', '室数', '厅数', '厨房数', '卫数',\n",
      "       '是否为底层', '是否为低层', '是否为中层', '是否为高层', '是否为顶层', '总楼层', '建筑面积值', '套内面积值',\n",
      "       '向南', '向北', '向西', '向东', '混合', '砖混', '框架', '砖木', '钢混', '钢', '精装装修',\n",
      "       '简装装修', '其他装修', '毛坯装修', '梯户比', '是否有电梯', '独栋或双拼', '联排或叠拼', '交易距今',\n",
      "       '上次交易距今', '房屋低于两年', '房屋二到五年', '房屋满五年'],\n",
      "      dtype='object')\n",
      "        ID  城市     区域      板块  交易权属  房屋用途 房屋年限 产权所属  抵押信息      房屋优势  ... 毛坯装修  \\\n",
      "0  1000000   0  109.0   367.0    私产  普通住宅  满五年  非共有   NaN    、房本满五年  ...    0   \n",
      "1  1000001   0   28.0   606.0   商品房  普通住宅  满五年  非共有   NaN  地铁、房本满五年  ...    0   \n",
      "2  1000002   0  123.0  1110.0   商品房  普通住宅  满五年  非共有   NaN  装修、房本满五年  ...    0   \n",
      "3  1000003   0   65.0   555.0   商品房  普通住宅  满五年  非共有   NaN    、房本满五年  ...    0   \n",
      "4  1000004   0  109.0   990.0  已购公房  普通住宅  满五年  非共有   NaN  地铁、房本满五年  ...    0   \n",
      "\n",
      "   梯户比 是否有电梯 独栋或双拼  联排或叠拼  交易距今  上次交易距今  房屋低于两年  房屋二到五年 房屋满五年  \n",
      "0  2.5     1     0      0   313  6542.0       0       0     1  \n",
      "1  2.0     1     0      0   348  5492.0       0       0     1  \n",
      "2  3.0     1     0      0   272  5717.0       0       0     1  \n",
      "3  2.0     0     0      0   334  6378.0       0       0     1  \n",
      "4  2.0     0     0      0   343  9563.0       0       0     1  \n",
      "\n",
      "[5 rows x 77 columns]\n",
      "数据维度：(34017, 77)\n"
     ]
    }
   ],
   "source": [
    "# 检查缺失值\n",
    "target_column = \"房屋年限\"\n",
    "print(df[target_column].isnull().sum())\n",
    "# 填充缺失值为空字符串\n",
    "df[target_column] = df[target_column].fillna('')\n",
    "# 应用提取函数并创建新列\n",
    "df[['房屋低于两年', \"房屋二到五年\", \"房屋满五年\"]] = df[target_column].apply(\n",
    "    lambda x: pd.Series(extract_room_year(x))\n",
    ")\n",
    "\n",
    "print(df.columns)\n",
    "print(df.head())\n",
    "print(f\"数据维度：{df.shape}\")"
   ]
  },
  {
   "cell_type": "code",
   "execution_count": 43,
   "id": "6b1870f9-fae2-4073-a4df-d21d6bc402c5",
   "metadata": {},
   "outputs": [
    {
     "name": "stdout",
     "output_type": "stream",
     "text": [
      "数据维度：(34017, 76)\n"
     ]
    }
   ],
   "source": [
    "df = df.drop(\"房屋年限\", axis=1)\n",
    "print(f\"数据维度：{df.shape}\")"
   ]
  },
  {
   "cell_type": "code",
   "execution_count": 44,
   "id": "2eed16fe-464b-468a-9ce0-f0eeec279412",
   "metadata": {},
   "outputs": [],
   "source": [
    "# 处理产权所属\n",
    "def extract_room_right(text):\n",
    "    is_shared = -1\n",
    "    if \"非\" in text:\n",
    "        is_shared = 0\n",
    "    elif \"共有\" in text:\n",
    "         is_shared = 1\n",
    "    \n",
    "    return is_shared"
   ]
  },
  {
   "cell_type": "code",
   "execution_count": 45,
   "id": "b1842345-e2ad-4875-b886-0b61ba2d3ce0",
   "metadata": {},
   "outputs": [
    {
     "name": "stdout",
     "output_type": "stream",
     "text": [
      "0\n",
      "Index(['ID', '城市', '区域', '板块', '交易权属', '房屋用途', '产权所属', '抵押信息', '房屋优势', '核心卖点',\n",
      "       '户型介绍', '周边配套', '交通出行', 'lon', 'lat', '年份', '区县', '板块_comm', '环线位置',\n",
      "       '物业类别', '建筑年代', '开发商', '房屋总数', '楼栋总数', '物业公司', '绿 化 率', '容 积 率',\n",
      "       '物 业 费', '建筑结构_comm', '物业办公电话', '产权描述', '供水', '供暖', '供电', '燃气费', '供热费',\n",
      "       '停车位', '停车费用', 'coord_x', 'coord_y', '客户反馈', '室数', '厅数', '厨房数', '卫数',\n",
      "       '是否为底层', '是否为低层', '是否为中层', '是否为高层', '是否为顶层', '总楼层', '建筑面积值', '套内面积值',\n",
      "       '向南', '向北', '向西', '向东', '混合', '砖混', '框架', '砖木', '钢混', '钢', '精装装修',\n",
      "       '简装装修', '其他装修', '毛坯装修', '梯户比', '是否有电梯', '独栋或双拼', '联排或叠拼', '交易距今',\n",
      "       '上次交易距今', '房屋低于两年', '房屋二到五年', '房屋满五年', '是否共有产权'],\n",
      "      dtype='object')\n",
      "        ID  城市     区域      板块  交易权属  房屋用途 产权所属  抵押信息      房屋优势  \\\n",
      "0  1000000   0  109.0   367.0    私产  普通住宅  非共有   NaN    、房本满五年   \n",
      "1  1000001   0   28.0   606.0   商品房  普通住宅  非共有   NaN  地铁、房本满五年   \n",
      "2  1000002   0  123.0  1110.0   商品房  普通住宅  非共有   NaN  装修、房本满五年   \n",
      "3  1000003   0   65.0   555.0   商品房  普通住宅  非共有   NaN    、房本满五年   \n",
      "4  1000004   0  109.0   990.0  已购公房  普通住宅  非共有   NaN  地铁、房本满五年   \n",
      "\n",
      "                             核心卖点  ...  梯户比 是否有电梯 独栋或双拼  联排或叠拼  交易距今  上次交易距今  \\\n",
      "0                             NaN  ...  2.5     1     0      0   313  6542.0   \n",
      "1                             NaN  ...  2.0     1     0      0   348  5492.0   \n",
      "2  此房满五年唯一，楼层好，视野好，采光明亮，大客厅，交通便利。  ...  3.0     1     0      0   272  5717.0   \n",
      "3                             NaN  ...  2.0     0     0      0   334  6378.0   \n",
      "4       此房满5年公房，南北通透格局，复式格局，前后无遮挡  ...  2.0     0     0      0   343  9563.0   \n",
      "\n",
      "   房屋低于两年  房屋二到五年 房屋满五年 是否共有产权  \n",
      "0       0       0     1      0  \n",
      "1       0       0     1      0  \n",
      "2       0       0     1      0  \n",
      "3       0       0     1      0  \n",
      "4       0       0     1      0  \n",
      "\n",
      "[5 rows x 77 columns]\n",
      "数据维度：(34017, 77)\n"
     ]
    }
   ],
   "source": [
    "# 检查缺失值\n",
    "target_column = \"产权所属\"\n",
    "print(df[target_column].isnull().sum())\n",
    "# 填充缺失值为空字符串\n",
    "df[target_column] = df[target_column].fillna('')\n",
    "# 应用提取函数并创建新列\n",
    "df[[\"是否共有产权\"]] = df[target_column].apply(\n",
    "    lambda x: pd.Series(extract_room_right(x))\n",
    ")\n",
    "\n",
    "print(df.columns)\n",
    "print(df.head())\n",
    "print(f\"数据维度：{df.shape}\")"
   ]
  },
  {
   "cell_type": "code",
   "execution_count": 46,
   "id": "c750d0de-9247-41a4-b1a4-2333a1182be9",
   "metadata": {},
   "outputs": [
    {
     "name": "stdout",
     "output_type": "stream",
     "text": [
      "数据维度：(34017, 76)\n"
     ]
    }
   ],
   "source": [
    "df = df.drop(\"产权所属\", axis=1)\n",
    "print(f\"数据维度：{df.shape}\")"
   ]
  },
  {
   "cell_type": "code",
   "execution_count": 47,
   "id": "7aab93ec-25d7-4872-9f65-b426fa51a986",
   "metadata": {},
   "outputs": [
    {
     "name": "stdout",
     "output_type": "stream",
     "text": [
      "数据维度：(34017, 75)\n"
     ]
    }
   ],
   "source": [
    "df = df.drop(\"抵押信息\", axis=1)\n",
    "print(f\"数据维度：{df.shape}\")"
   ]
  },
  {
   "cell_type": "code",
   "execution_count": 48,
   "id": "d0311720-2fbd-49d3-b9ad-6e40bfd3427e",
   "metadata": {},
   "outputs": [],
   "source": [
    "def extract_building_year(building_year):\n",
    "    \"\"\"\n",
    "    参数:\n",
    "    building_year: str - 建筑年代字符串\n",
    "    \n",
    "    返回:\n",
    "    float - 处理后的年份值\n",
    "    \"\"\"    \n",
    "    # 转换为字符串类型\n",
    "    building_year = str(building_year)\n",
    "    \n",
    "    # 2002-2006年\n",
    "    if '-' in building_year:\n",
    "        # 使用正则表达式提取两个年份\n",
    "        years = re.findall(r'\\d+', building_year)\n",
    "        start_year = int(years[0])\n",
    "        end_year = int(years[1])\n",
    "        return (start_year + end_year) / 2\n",
    "    \n",
    "    # 2004年\n",
    "    elif '年' in building_year:\n",
    "        # 提取年份数字\n",
    "        year_match = re.search(r'\\d+', building_year)\n",
    "        return float(year_match.group())\n",
    "\n",
    "    return -1"
   ]
  },
  {
   "cell_type": "code",
   "execution_count": 49,
   "id": "0cee4b31-81ec-411c-acf4-ebba7b1bad7d",
   "metadata": {},
   "outputs": [
    {
     "name": "stdout",
     "output_type": "stream",
     "text": [
      "9406\n",
      "Index(['ID', '城市', '区域', '板块', '交易权属', '房屋用途', '房屋优势', '核心卖点', '户型介绍', '周边配套',\n",
      "       '交通出行', 'lon', 'lat', '年份', '区县', '板块_comm', '环线位置', '物业类别', '建筑年代',\n",
      "       '开发商', '房屋总数', '楼栋总数', '物业公司', '绿 化 率', '容 积 率', '物 业 费', '建筑结构_comm',\n",
      "       '物业办公电话', '产权描述', '供水', '供暖', '供电', '燃气费', '供热费', '停车位', '停车费用',\n",
      "       'coord_x', 'coord_y', '客户反馈', '室数', '厅数', '厨房数', '卫数', '是否为底层', '是否为低层',\n",
      "       '是否为中层', '是否为高层', '是否为顶层', '总楼层', '建筑面积值', '套内面积值', '向南', '向北', '向西',\n",
      "       '向东', '混合', '砖混', '框架', '砖木', '钢混', '钢', '精装装修', '简装装修', '其他装修', '毛坯装修',\n",
      "       '梯户比', '是否有电梯', '独栋或双拼', '联排或叠拼', '交易距今', '上次交易距今', '房屋低于两年', '房屋二到五年',\n",
      "       '房屋满五年', '是否共有产权', '房屋年份'],\n",
      "      dtype='object')\n",
      "        ID  城市     区域      板块  交易权属  房屋用途      房屋优势  \\\n",
      "0  1000000   0  109.0   367.0    私产  普通住宅    、房本满五年   \n",
      "1  1000001   0   28.0   606.0   商品房  普通住宅  地铁、房本满五年   \n",
      "2  1000002   0  123.0  1110.0   商品房  普通住宅  装修、房本满五年   \n",
      "3  1000003   0   65.0   555.0   商品房  普通住宅    、房本满五年   \n",
      "4  1000004   0  109.0   990.0  已购公房  普通住宅  地铁、房本满五年   \n",
      "\n",
      "                             核心卖点 户型介绍  \\\n",
      "0                             NaN  NaN   \n",
      "1                             NaN  NaN   \n",
      "2  此房满五年唯一，楼层好，视野好，采光明亮，大客厅，交通便利。  NaN   \n",
      "3                             NaN  NaN   \n",
      "4       此房满5年公房，南北通透格局，复式格局，前后无遮挡  NaN   \n",
      "\n",
      "                                                周边配套  ... 是否有电梯  独栋或双拼  联排或叠拼  \\\n",
      "0                                                NaN  ...     1      0      0   \n",
      "1                                                NaN  ...     1      0      0   \n",
      "2  小区南侧就是公园，西侧就有餐饮店，饭店，酒店等，小区2002年小区，楼龄比较新，楼下就有公交...  ...     1      0      0   \n",
      "3                                                NaN  ...     0      0      0   \n",
      "4  生活配套设施齐全，东侧有物美、新华百货购物商场，西侧有凯德茂购物，南侧有西单购物商场，北侧有...  ...     0      0      0   \n",
      "\n",
      "   交易距今  上次交易距今  房屋低于两年 房屋二到五年 房屋满五年 是否共有产权    房屋年份  \n",
      "0   313  6542.0       0      0     1      0  2004.0  \n",
      "1   348  5492.0       0      0     1      0  2008.0  \n",
      "2   272  5717.0       0      0     1      0  2000.0  \n",
      "3   334  6378.0       0      0     1      0  2006.0  \n",
      "4   343  9563.0       0      0     1      0  1995.0  \n",
      "\n",
      "[5 rows x 76 columns]\n",
      "数据维度：(34017, 76)\n"
     ]
    }
   ],
   "source": [
    "# 检查缺失值\n",
    "target_column = \"建筑年代\"\n",
    "print(df[target_column].isnull().sum())\n",
    "# 填充缺失值为空字符串\n",
    "df[target_column] = df[target_column].fillna('')\n",
    "# 应用提取函数并创建新列\n",
    "df[[\"房屋年份\"]] = df[target_column].apply(\n",
    "    lambda x: pd.Series(extract_building_year(x), dtype='object')\n",
    ")\n",
    "\n",
    "print(df.columns)\n",
    "print(df.head())\n",
    "print(f\"数据维度：{df.shape}\")"
   ]
  },
  {
   "cell_type": "code",
   "execution_count": 50,
   "id": "9606893a-b786-447b-9867-c5e22fca06b0",
   "metadata": {},
   "outputs": [
    {
     "name": "stdout",
     "output_type": "stream",
     "text": [
      "数据维度：(34017, 75)\n"
     ]
    }
   ],
   "source": [
    "df = df.drop(\"建筑年代\", axis=1)\n",
    "print(f\"数据维度：{df.shape}\")"
   ]
  },
  {
   "cell_type": "code",
   "execution_count": 51,
   "id": "3f7aba96-65bf-4f0a-bbf7-71700e32cc76",
   "metadata": {},
   "outputs": [
    {
     "name": "stdout",
     "output_type": "stream",
     "text": [
      "3715\n",
      "Index(['ID', '城市', '区域', '板块', '交易权属', '房屋用途', '房屋优势', '核心卖点', '户型介绍', '周边配套',\n",
      "       '交通出行', 'lon', 'lat', '年份', '区县', '板块_comm', '环线位置', '物业类别', '开发商',\n",
      "       '房屋总数', '楼栋总数', '物业公司', '绿 化 率', '容 积 率', '物 业 费', '建筑结构_comm',\n",
      "       '物业办公电话', '产权描述', '供水', '供暖', '供电', '燃气费', '供热费', '停车位', '停车费用',\n",
      "       'coord_x', 'coord_y', '客户反馈', '室数', '厅数', '厨房数', '卫数', '是否为底层', '是否为低层',\n",
      "       '是否为中层', '是否为高层', '是否为顶层', '总楼层', '建筑面积值', '套内面积值', '向南', '向北', '向西',\n",
      "       '向东', '混合', '砖混', '框架', '砖木', '钢混', '钢', '精装装修', '简装装修', '其他装修', '毛坯装修',\n",
      "       '梯户比', '是否有电梯', '独栋或双拼', '联排或叠拼', '交易距今', '上次交易距今', '房屋低于两年', '房屋二到五年',\n",
      "       '房屋满五年', '是否共有产权', '房屋年份', '总户数'],\n",
      "      dtype='object')\n",
      "        ID  城市     区域      板块  交易权属  房屋用途      房屋优势  \\\n",
      "0  1000000   0  109.0   367.0    私产  普通住宅    、房本满五年   \n",
      "1  1000001   0   28.0   606.0   商品房  普通住宅  地铁、房本满五年   \n",
      "2  1000002   0  123.0  1110.0   商品房  普通住宅  装修、房本满五年   \n",
      "3  1000003   0   65.0   555.0   商品房  普通住宅    、房本满五年   \n",
      "4  1000004   0  109.0   990.0  已购公房  普通住宅  地铁、房本满五年   \n",
      "\n",
      "                             核心卖点 户型介绍  \\\n",
      "0                             NaN  NaN   \n",
      "1                             NaN  NaN   \n",
      "2  此房满五年唯一，楼层好，视野好，采光明亮，大客厅，交通便利。  NaN   \n",
      "3                             NaN  NaN   \n",
      "4       此房满5年公房，南北通透格局，复式格局，前后无遮挡  NaN   \n",
      "\n",
      "                                                周边配套  ... 独栋或双拼  联排或叠拼  交易距今  \\\n",
      "0                                                NaN  ...     0      0   313   \n",
      "1                                                NaN  ...     0      0   348   \n",
      "2  小区南侧就是公园，西侧就有餐饮店，饭店，酒店等，小区2002年小区，楼龄比较新，楼下就有公交...  ...     0      0   272   \n",
      "3                                                NaN  ...     0      0   334   \n",
      "4  生活配套设施齐全，东侧有物美、新华百货购物商场，西侧有凯德茂购物，南侧有西单购物商场，北侧有...  ...     0      0   343   \n",
      "\n",
      "   上次交易距今  房屋低于两年  房屋二到五年 房屋满五年 是否共有产权    房屋年份   总户数  \n",
      "0  6542.0       0       0     1      0  2004.0   458  \n",
      "1  5492.0       0       0     1      0  2008.0  3465  \n",
      "2  5717.0       0       0     1      0  2000.0   144  \n",
      "3  6378.0       0       0     1      0  2006.0   320  \n",
      "4  9563.0       0       0     1      0  1995.0   340  \n",
      "\n",
      "[5 rows x 76 columns]\n",
      "数据维度：(34017, 76)\n"
     ]
    }
   ],
   "source": [
    "# 检查缺失值\n",
    "target_column = \"房屋总数\"\n",
    "print(df[target_column].isnull().sum())\n",
    "# 填充缺失值为空字符串\n",
    "df[target_column] = df[target_column].fillna('-1户')\n",
    "# 使用正则表达式提取数字\n",
    "df['总户数'] = df[target_column].str.extract(r'(\\d+)').astype(int)\n",
    "\n",
    "print(df.columns)\n",
    "print(df.head())\n",
    "print(f\"数据维度：{df.shape}\")"
   ]
  },
  {
   "cell_type": "code",
   "execution_count": null,
   "id": "1363114b-b88c-498d-94ec-1d41240c1e42",
   "metadata": {},
   "outputs": [],
   "source": []
  },
  {
   "cell_type": "code",
   "execution_count": 52,
   "id": "0c1e8e22-f0d4-40aa-851a-657340efe18b",
   "metadata": {},
   "outputs": [
    {
     "name": "stdout",
     "output_type": "stream",
     "text": [
      "数据维度：(34017, 75)\n"
     ]
    }
   ],
   "source": [
    "df = df.drop(\"房屋总数\", axis=1)\n",
    "print(f\"数据维度：{df.shape}\")"
   ]
  },
  {
   "cell_type": "code",
   "execution_count": 53,
   "id": "44d75439-e6a3-4987-9e9b-3d63fa01773b",
   "metadata": {},
   "outputs": [
    {
     "name": "stdout",
     "output_type": "stream",
     "text": [
      "3715\n",
      "Index(['ID', '城市', '区域', '板块', '交易权属', '房屋用途', '房屋优势', '核心卖点', '户型介绍', '周边配套',\n",
      "       '交通出行', 'lon', 'lat', '年份', '区县', '板块_comm', '环线位置', '物业类别', '开发商',\n",
      "       '楼栋总数', '物业公司', '绿 化 率', '容 积 率', '物 业 费', '建筑结构_comm', '物业办公电话',\n",
      "       '产权描述', '供水', '供暖', '供电', '燃气费', '供热费', '停车位', '停车费用', 'coord_x',\n",
      "       'coord_y', '客户反馈', '室数', '厅数', '厨房数', '卫数', '是否为底层', '是否为低层', '是否为中层',\n",
      "       '是否为高层', '是否为顶层', '总楼层', '建筑面积值', '套内面积值', '向南', '向北', '向西', '向东', '混合',\n",
      "       '砖混', '框架', '砖木', '钢混', '钢', '精装装修', '简装装修', '其他装修', '毛坯装修', '梯户比',\n",
      "       '是否有电梯', '独栋或双拼', '联排或叠拼', '交易距今', '上次交易距今', '房屋低于两年', '房屋二到五年',\n",
      "       '房屋满五年', '是否共有产权', '房屋年份', '总户数', '总楼数'],\n",
      "      dtype='object')\n",
      "        ID  城市     区域      板块  交易权属  房屋用途      房屋优势  \\\n",
      "0  1000000   0  109.0   367.0    私产  普通住宅    、房本满五年   \n",
      "1  1000001   0   28.0   606.0   商品房  普通住宅  地铁、房本满五年   \n",
      "2  1000002   0  123.0  1110.0   商品房  普通住宅  装修、房本满五年   \n",
      "3  1000003   0   65.0   555.0   商品房  普通住宅    、房本满五年   \n",
      "4  1000004   0  109.0   990.0  已购公房  普通住宅  地铁、房本满五年   \n",
      "\n",
      "                             核心卖点 户型介绍  \\\n",
      "0                             NaN  NaN   \n",
      "1                             NaN  NaN   \n",
      "2  此房满五年唯一，楼层好，视野好，采光明亮，大客厅，交通便利。  NaN   \n",
      "3                             NaN  NaN   \n",
      "4       此房满5年公房，南北通透格局，复式格局，前后无遮挡  NaN   \n",
      "\n",
      "                                                周边配套  ... 联排或叠拼  交易距今  上次交易距今  \\\n",
      "0                                                NaN  ...     0   313  6542.0   \n",
      "1                                                NaN  ...     0   348  5492.0   \n",
      "2  小区南侧就是公园，西侧就有餐饮店，饭店，酒店等，小区2002年小区，楼龄比较新，楼下就有公交...  ...     0   272  5717.0   \n",
      "3                                                NaN  ...     0   334  6378.0   \n",
      "4  生活配套设施齐全，东侧有物美、新华百货购物商场，西侧有凯德茂购物，南侧有西单购物商场，北侧有...  ...     0   343  9563.0   \n",
      "\n",
      "   房屋低于两年  房屋二到五年  房屋满五年 是否共有产权    房屋年份   总户数 总楼数  \n",
      "0       0       0      1      0  2004.0   458   3  \n",
      "1       0       0      1      0  2008.0  3465  23  \n",
      "2       0       0      1      0  2000.0   144   2  \n",
      "3       0       0      1      0  2006.0   320   9  \n",
      "4       0       0      1      0  1995.0   340   9  \n",
      "\n",
      "[5 rows x 76 columns]\n",
      "数据维度：(34017, 76)\n"
     ]
    }
   ],
   "source": [
    "# 检查缺失值\n",
    "target_column = \"楼栋总数\"\n",
    "print(df[target_column].isnull().sum())\n",
    "# 填充缺失值为空字符串\n",
    "df[target_column] = df[target_column].fillna('-1栋')\n",
    "# 使用正则表达式提取数字\n",
    "df['总楼数'] = df[target_column].str.extract(r'(\\d+)').astype(int)\n",
    "\n",
    "print(df.columns)\n",
    "print(df.head())\n",
    "print(f\"数据维度：{df.shape}\")"
   ]
  },
  {
   "cell_type": "code",
   "execution_count": 54,
   "id": "77a3578c-f689-44ea-b598-59bb2e4ff5be",
   "metadata": {},
   "outputs": [
    {
     "name": "stdout",
     "output_type": "stream",
     "text": [
      "数据维度：(34017, 75)\n"
     ]
    }
   ],
   "source": [
    "df = df.drop(\"楼栋总数\", axis=1)\n",
    "print(f\"数据维度：{df.shape}\")"
   ]
  },
  {
   "cell_type": "code",
   "execution_count": 55,
   "id": "4a0cda99-a52a-4eba-ae94-1a350fcaf4ff",
   "metadata": {},
   "outputs": [
    {
     "name": "stdout",
     "output_type": "stream",
     "text": [
      "9180\n",
      "Index(['ID', '城市', '区域', '板块', '交易权属', '房屋用途', '房屋优势', '核心卖点', '户型介绍', '周边配套',\n",
      "       '交通出行', 'lon', 'lat', '年份', '区县', '板块_comm', '环线位置', '物业类别', '开发商',\n",
      "       '物业公司', '绿 化 率', '容 积 率', '物 业 费', '建筑结构_comm', '物业办公电话', '产权描述', '供水',\n",
      "       '供暖', '供电', '燃气费', '供热费', '停车位', '停车费用', 'coord_x', 'coord_y', '客户反馈',\n",
      "       '室数', '厅数', '厨房数', '卫数', '是否为底层', '是否为低层', '是否为中层', '是否为高层', '是否为顶层',\n",
      "       '总楼层', '建筑面积值', '套内面积值', '向南', '向北', '向西', '向东', '混合', '砖混', '框架', '砖木',\n",
      "       '钢混', '钢', '精装装修', '简装装修', '其他装修', '毛坯装修', '梯户比', '是否有电梯', '独栋或双拼',\n",
      "       '联排或叠拼', '交易距今', '上次交易距今', '房屋低于两年', '房屋二到五年', '房屋满五年', '是否共有产权',\n",
      "       '房屋年份', '总户数', '总楼数', '绿化率'],\n",
      "      dtype='object')\n",
      "        ID  城市     区域      板块  交易权属  房屋用途      房屋优势  \\\n",
      "0  1000000   0  109.0   367.0    私产  普通住宅    、房本满五年   \n",
      "1  1000001   0   28.0   606.0   商品房  普通住宅  地铁、房本满五年   \n",
      "2  1000002   0  123.0  1110.0   商品房  普通住宅  装修、房本满五年   \n",
      "3  1000003   0   65.0   555.0   商品房  普通住宅    、房本满五年   \n",
      "4  1000004   0  109.0   990.0  已购公房  普通住宅  地铁、房本满五年   \n",
      "\n",
      "                             核心卖点 户型介绍  \\\n",
      "0                             NaN  NaN   \n",
      "1                             NaN  NaN   \n",
      "2  此房满五年唯一，楼层好，视野好，采光明亮，大客厅，交通便利。  NaN   \n",
      "3                             NaN  NaN   \n",
      "4       此房满5年公房，南北通透格局，复式格局，前后无遮挡  NaN   \n",
      "\n",
      "                                                周边配套  ... 交易距今  上次交易距今  \\\n",
      "0                                                NaN  ...  313  6542.0   \n",
      "1                                                NaN  ...  348  5492.0   \n",
      "2  小区南侧就是公园，西侧就有餐饮店，饭店，酒店等，小区2002年小区，楼龄比较新，楼下就有公交...  ...  272  5717.0   \n",
      "3                                                NaN  ...  334  6378.0   \n",
      "4  生活配套设施齐全，东侧有物美、新华百货购物商场，西侧有凯德茂购物，南侧有西单购物商场，北侧有...  ...  343  9563.0   \n",
      "\n",
      "   房屋低于两年  房屋二到五年  房屋满五年  是否共有产权    房屋年份   总户数 总楼数    绿化率  \n",
      "0       0       0      1       0  2004.0   458   3  14.99  \n",
      "1       0       0      1       0  2008.0  3465  23  30.00  \n",
      "2       0       0      1       0  2000.0   144   2  35.00  \n",
      "3       0       0      1       0  2006.0   320   9  30.00  \n",
      "4       0       0      1       0  1995.0   340   9  30.00  \n",
      "\n",
      "[5 rows x 76 columns]\n",
      "数据维度：(34017, 76)\n"
     ]
    }
   ],
   "source": [
    "# 检查缺失值\n",
    "target_column = \"绿 化 率\"\n",
    "print(df[target_column].isnull().sum())\n",
    "# 填充缺失值为空字符串\n",
    "df[target_column] = df[target_column].fillna('0.0')\n",
    "# 提取数字\n",
    "df['绿化率'] = df[target_column].str.rstrip('%').astype(float)\n",
    "\n",
    "print(df.columns)\n",
    "print(df.head())\n",
    "print(f\"数据维度：{df.shape}\")"
   ]
  },
  {
   "cell_type": "code",
   "execution_count": 56,
   "id": "fad428d8-58cb-405f-b6b6-405cd06b5802",
   "metadata": {},
   "outputs": [
    {
     "name": "stdout",
     "output_type": "stream",
     "text": [
      "数据维度：(34017, 75)\n"
     ]
    }
   ],
   "source": [
    "df = df.drop(\"绿 化 率\", axis=1)\n",
    "print(f\"数据维度：{df.shape}\")"
   ]
  },
  {
   "cell_type": "code",
   "execution_count": 57,
   "id": "22b95d55-57f9-43f4-9db6-326805fc4e09",
   "metadata": {},
   "outputs": [
    {
     "name": "stdout",
     "output_type": "stream",
     "text": [
      "9303\n",
      "Index(['ID', '城市', '区域', '板块', '交易权属', '房屋用途', '房屋优势', '核心卖点', '户型介绍', '周边配套',\n",
      "       '交通出行', 'lon', 'lat', '年份', '区县', '板块_comm', '环线位置', '物业类别', '开发商',\n",
      "       '物业公司', '容 积 率', '物 业 费', '建筑结构_comm', '物业办公电话', '产权描述', '供水', '供暖',\n",
      "       '供电', '燃气费', '供热费', '停车位', '停车费用', 'coord_x', 'coord_y', '客户反馈', '室数',\n",
      "       '厅数', '厨房数', '卫数', '是否为底层', '是否为低层', '是否为中层', '是否为高层', '是否为顶层', '总楼层',\n",
      "       '建筑面积值', '套内面积值', '向南', '向北', '向西', '向东', '混合', '砖混', '框架', '砖木', '钢混',\n",
      "       '钢', '精装装修', '简装装修', '其他装修', '毛坯装修', '梯户比', '是否有电梯', '独栋或双拼', '联排或叠拼',\n",
      "       '交易距今', '上次交易距今', '房屋低于两年', '房屋二到五年', '房屋满五年', '是否共有产权', '房屋年份', '总户数',\n",
      "       '总楼数', '绿化率', '容积率'],\n",
      "      dtype='object')\n",
      "        ID  城市     区域      板块  交易权属  房屋用途      房屋优势  \\\n",
      "0  1000000   0  109.0   367.0    私产  普通住宅    、房本满五年   \n",
      "1  1000001   0   28.0   606.0   商品房  普通住宅  地铁、房本满五年   \n",
      "2  1000002   0  123.0  1110.0   商品房  普通住宅  装修、房本满五年   \n",
      "3  1000003   0   65.0   555.0   商品房  普通住宅    、房本满五年   \n",
      "4  1000004   0  109.0   990.0  已购公房  普通住宅  地铁、房本满五年   \n",
      "\n",
      "                             核心卖点 户型介绍  \\\n",
      "0                             NaN  NaN   \n",
      "1                             NaN  NaN   \n",
      "2  此房满五年唯一，楼层好，视野好，采光明亮，大客厅，交通便利。  NaN   \n",
      "3                             NaN  NaN   \n",
      "4       此房满5年公房，南北通透格局，复式格局，前后无遮挡  NaN   \n",
      "\n",
      "                                                周边配套  ...  上次交易距今  房屋低于两年  \\\n",
      "0                                                NaN  ...  6542.0       0   \n",
      "1                                                NaN  ...  5492.0       0   \n",
      "2  小区南侧就是公园，西侧就有餐饮店，饭店，酒店等，小区2002年小区，楼龄比较新，楼下就有公交...  ...  5717.0       0   \n",
      "3                                                NaN  ...  6378.0       0   \n",
      "4  生活配套设施齐全，东侧有物美、新华百货购物商场，西侧有凯德茂购物，南侧有西单购物商场，北侧有...  ...  9563.0       0   \n",
      "\n",
      "   房屋二到五年  房屋满五年  是否共有产权    房屋年份   总户数 总楼数    绿化率   容积率  \n",
      "0       0      1       0  2004.0   458   3  14.99  4.30  \n",
      "1       0      1       0  2008.0  3465  23  30.00  2.37  \n",
      "2       0      1       0  2000.0   144   2  35.00  1.50  \n",
      "3       0      1       0  2006.0   320   9  30.00  1.60  \n",
      "4       0      1       0  1995.0   340   9  30.00  2.50  \n",
      "\n",
      "[5 rows x 76 columns]\n",
      "数据维度：(34017, 76)\n"
     ]
    }
   ],
   "source": [
    "# 检查缺失值\n",
    "target_column = \"容 积 率\"\n",
    "print(df[target_column].isnull().sum())\n",
    "# 填充缺失值为空字符串\n",
    "df[target_column] = df[target_column].fillna('-1')\n",
    "# 提取数字\n",
    "df['容积率'] = df[target_column].astype(float)\n",
    "\n",
    "print(df.columns)\n",
    "print(df.head())\n",
    "print(f\"数据维度：{df.shape}\")"
   ]
  },
  {
   "cell_type": "code",
   "execution_count": 58,
   "id": "fc8c918f-689e-495d-a40f-e58a3d18a78d",
   "metadata": {},
   "outputs": [
    {
     "name": "stdout",
     "output_type": "stream",
     "text": [
      "数据维度：(34017, 75)\n"
     ]
    }
   ],
   "source": [
    "df = df.drop(\"容 积 率\", axis=1)\n",
    "print(f\"数据维度：{df.shape}\")"
   ]
  },
  {
   "cell_type": "code",
   "execution_count": 59,
   "id": "7b0750b6-7c80-4676-925d-e58ee16ce9fd",
   "metadata": {},
   "outputs": [],
   "source": [
    "def extract_property_fee(value):\n",
    "    \"\"\"\n",
    "    参数:\n",
    "    value: str - 物业费字符串\n",
    "    \n",
    "    返回:\n",
    "    float - 提取的物业费数值，或-1（如果无法提取）\n",
    "    \"\"\"\n",
    "    # 检查是否为空值\n",
    "    if value == \"\":\n",
    "        return -1\n",
    "    # 转换为字符串并去除前后空格\n",
    "    value_str = str(value)\n",
    "    # 检查是否以\"/月/m²\"结尾\n",
    "    if not value_str.endswith(\"元/月/㎡\"):\n",
    "        return -1\n",
    "    \n",
    "    try:\n",
    "        # 提取数字部分（可能包含范围符号\"-\"）\n",
    "        # 使用正则表达式匹配数字和可能的范围\n",
    "        pattern = r'([\\d.-]+)元/月/㎡'\n",
    "        match = re.search(pattern, value_str)\n",
    "        \n",
    "        if match:\n",
    "            num_part = match.group(1)\n",
    "            \n",
    "            # 检查是否是范围（包含\"-\"）\n",
    "            if '-' in num_part:\n",
    "                # 处理范围，取平均值\n",
    "                parts = num_part.split('-')\n",
    "                if len(parts) == 2:\n",
    "                    start = float(parts[0])\n",
    "                    end = float(parts[1])\n",
    "                    return (start + end) / 2\n",
    "                else:\n",
    "                    return -1.0\n",
    "            else:\n",
    "                # 处理单个数值\n",
    "                return float(num_part)\n",
    "        else:\n",
    "            return -1.0\n",
    "    except (ValueError, AttributeError):\n",
    "        return -1.0"
   ]
  },
  {
   "cell_type": "code",
   "execution_count": 60,
   "id": "26a78366-379a-48cc-abe9-345e3c5a6ac7",
   "metadata": {},
   "outputs": [
    {
     "name": "stdout",
     "output_type": "stream",
     "text": [
      "8489\n",
      "Index(['ID', '城市', '区域', '板块', '交易权属', '房屋用途', '房屋优势', '核心卖点', '户型介绍', '周边配套',\n",
      "       '交通出行', 'lon', 'lat', '年份', '区县', '板块_comm', '环线位置', '物业类别', '开发商',\n",
      "       '物业公司', '物 业 费', '建筑结构_comm', '物业办公电话', '产权描述', '供水', '供暖', '供电', '燃气费',\n",
      "       '供热费', '停车位', '停车费用', 'coord_x', 'coord_y', '客户反馈', '室数', '厅数', '厨房数',\n",
      "       '卫数', '是否为底层', '是否为低层', '是否为中层', '是否为高层', '是否为顶层', '总楼层', '建筑面积值',\n",
      "       '套内面积值', '向南', '向北', '向西', '向东', '混合', '砖混', '框架', '砖木', '钢混', '钢',\n",
      "       '精装装修', '简装装修', '其他装修', '毛坯装修', '梯户比', '是否有电梯', '独栋或双拼', '联排或叠拼',\n",
      "       '交易距今', '上次交易距今', '房屋低于两年', '房屋二到五年', '房屋满五年', '是否共有产权', '房屋年份', '总户数',\n",
      "       '总楼数', '绿化率', '容积率', '物业费'],\n",
      "      dtype='object')\n",
      "        ID  城市     区域      板块  交易权属  房屋用途      房屋优势  \\\n",
      "0  1000000   0  109.0   367.0    私产  普通住宅    、房本满五年   \n",
      "1  1000001   0   28.0   606.0   商品房  普通住宅  地铁、房本满五年   \n",
      "2  1000002   0  123.0  1110.0   商品房  普通住宅  装修、房本满五年   \n",
      "3  1000003   0   65.0   555.0   商品房  普通住宅    、房本满五年   \n",
      "4  1000004   0  109.0   990.0  已购公房  普通住宅  地铁、房本满五年   \n",
      "\n",
      "                             核心卖点 户型介绍  \\\n",
      "0                             NaN  NaN   \n",
      "1                             NaN  NaN   \n",
      "2  此房满五年唯一，楼层好，视野好，采光明亮，大客厅，交通便利。  NaN   \n",
      "3                             NaN  NaN   \n",
      "4       此房满5年公房，南北通透格局，复式格局，前后无遮挡  NaN   \n",
      "\n",
      "                                                周边配套  ... 房屋低于两年  房屋二到五年  \\\n",
      "0                                                NaN  ...      0       0   \n",
      "1                                                NaN  ...      0       0   \n",
      "2  小区南侧就是公园，西侧就有餐饮店，饭店，酒店等，小区2002年小区，楼龄比较新，楼下就有公交...  ...      0       0   \n",
      "3                                                NaN  ...      0       0   \n",
      "4  生活配套设施齐全，东侧有物美、新华百货购物商场，西侧有凯德茂购物，南侧有西单购物商场，北侧有...  ...      0       0   \n",
      "\n",
      "   房屋满五年  是否共有产权    房屋年份   总户数 总楼数    绿化率   容积率   物业费  \n",
      "0      1       0  2004.0   458   3  14.99  4.30  2.80  \n",
      "1      1       0  2008.0  3465  23  30.00  2.37  1.80  \n",
      "2      1       0  2000.0   144   2  35.00  1.50  1.58  \n",
      "3      1       0  2006.0   320   9  30.00  1.60  0.50  \n",
      "4      1       0  1995.0   340   9  30.00  2.50  1.61  \n",
      "\n",
      "[5 rows x 76 columns]\n",
      "数据维度：(34017, 76)\n"
     ]
    }
   ],
   "source": [
    "# 检查缺失值\n",
    "target_column = \"物 业 费\"\n",
    "print(df[target_column].isnull().sum())\n",
    "# 填充缺失值为空字符串\n",
    "df[target_column] = df[target_column].fillna('')\n",
    "# 使用正则表达式提取数字\n",
    "df[[\"物业费\"]] = df[target_column].apply(\n",
    "    lambda x: pd.Series(extract_property_fee(x), dtype='object')\n",
    ")\n",
    "\n",
    "print(df.columns)\n",
    "print(df.head())\n",
    "print(f\"数据维度：{df.shape}\")"
   ]
  },
  {
   "cell_type": "code",
   "execution_count": 61,
   "id": "4c275722-411c-4f23-a077-d18ae57f5a74",
   "metadata": {},
   "outputs": [
    {
     "name": "stdout",
     "output_type": "stream",
     "text": [
      "数据维度：(34017, 75)\n"
     ]
    }
   ],
   "source": [
    "df = df.drop(\"物 业 费\", axis=1)\n",
    "print(f\"数据维度：{df.shape}\")"
   ]
  },
  {
   "cell_type": "code",
   "execution_count": 62,
   "id": "85ea8478-1000-4478-ae66-3039ad395b01",
   "metadata": {},
   "outputs": [],
   "source": [
    "# 处理供水\n",
    "def extract_water_giving(text):\n",
    "    minshui = shangshui = 0\n",
    "    if \"民水\" in text:\n",
    "        minshui = 1\n",
    "    if \"商水\" in text:\n",
    "        shangshui = 1\n",
    "    \n",
    "    return minshui, shangshui"
   ]
  },
  {
   "cell_type": "code",
   "execution_count": 63,
   "id": "b1cfb1fb-49ea-462b-a8e8-5f67fd93cde7",
   "metadata": {},
   "outputs": [
    {
     "name": "stdout",
     "output_type": "stream",
     "text": [
      "8195\n",
      "Index(['ID', '城市', '区域', '板块', '交易权属', '房屋用途', '房屋优势', '核心卖点', '户型介绍', '周边配套',\n",
      "       '交通出行', 'lon', 'lat', '年份', '区县', '板块_comm', '环线位置', '物业类别', '开发商',\n",
      "       '物业公司', '建筑结构_comm', '物业办公电话', '产权描述', '供水', '供暖', '供电', '燃气费', '供热费',\n",
      "       '停车位', '停车费用', 'coord_x', 'coord_y', '客户反馈', '室数', '厅数', '厨房数', '卫数',\n",
      "       '是否为底层', '是否为低层', '是否为中层', '是否为高层', '是否为顶层', '总楼层', '建筑面积值', '套内面积值',\n",
      "       '向南', '向北', '向西', '向东', '混合', '砖混', '框架', '砖木', '钢混', '钢', '精装装修',\n",
      "       '简装装修', '其他装修', '毛坯装修', '梯户比', '是否有电梯', '独栋或双拼', '联排或叠拼', '交易距今',\n",
      "       '上次交易距今', '房屋低于两年', '房屋二到五年', '房屋满五年', '是否共有产权', '房屋年份', '总户数', '总楼数',\n",
      "       '绿化率', '容积率', '物业费', '民水供水', '商水供水'],\n",
      "      dtype='object')\n",
      "        ID  城市     区域      板块  交易权属  房屋用途      房屋优势  \\\n",
      "0  1000000   0  109.0   367.0    私产  普通住宅    、房本满五年   \n",
      "1  1000001   0   28.0   606.0   商品房  普通住宅  地铁、房本满五年   \n",
      "2  1000002   0  123.0  1110.0   商品房  普通住宅  装修、房本满五年   \n",
      "3  1000003   0   65.0   555.0   商品房  普通住宅    、房本满五年   \n",
      "4  1000004   0  109.0   990.0  已购公房  普通住宅  地铁、房本满五年   \n",
      "\n",
      "                             核心卖点 户型介绍  \\\n",
      "0                             NaN  NaN   \n",
      "1                             NaN  NaN   \n",
      "2  此房满五年唯一，楼层好，视野好，采光明亮，大客厅，交通便利。  NaN   \n",
      "3                             NaN  NaN   \n",
      "4       此房满5年公房，南北通透格局，复式格局，前后无遮挡  NaN   \n",
      "\n",
      "                                                周边配套  ... 房屋满五年  是否共有产权  \\\n",
      "0                                                NaN  ...     1       0   \n",
      "1                                                NaN  ...     1       0   \n",
      "2  小区南侧就是公园，西侧就有餐饮店，饭店，酒店等，小区2002年小区，楼龄比较新，楼下就有公交...  ...     1       0   \n",
      "3                                                NaN  ...     1       0   \n",
      "4  生活配套设施齐全，东侧有物美、新华百货购物商场，西侧有凯德茂购物，南侧有西单购物商场，北侧有...  ...     1       0   \n",
      "\n",
      "     房屋年份   总户数  总楼数    绿化率   容积率   物业费 民水供水 商水供水  \n",
      "0  2004.0   458    3  14.99  4.30  2.80    1    0  \n",
      "1  2008.0  3465   23  30.00  2.37  1.80    1    1  \n",
      "2  2000.0   144    2  35.00  1.50  1.58    1    0  \n",
      "3  2006.0   320    9  30.00  1.60  0.50    1    0  \n",
      "4  1995.0   340    9  30.00  2.50  1.61    1    1  \n",
      "\n",
      "[5 rows x 77 columns]\n",
      "数据维度：(34017, 77)\n"
     ]
    }
   ],
   "source": [
    "# 检查缺失值\n",
    "target_column = \"供水\"\n",
    "print(df[target_column].isnull().sum())\n",
    "# 填充缺失值为空字符串\n",
    "df[target_column] = df[target_column].fillna('')\n",
    "# 应用提取函数并创建新列\n",
    "df[['民水供水', '商水供水']] = df[target_column].apply(\n",
    "    lambda x: pd.Series(extract_water_giving(x))\n",
    ")\n",
    "\n",
    "print(df.columns)\n",
    "print(df.head())\n",
    "print(f\"数据维度：{df.shape}\")"
   ]
  },
  {
   "cell_type": "code",
   "execution_count": 64,
   "id": "1b92084d-c2d1-43cc-8d84-06b551265817",
   "metadata": {},
   "outputs": [
    {
     "name": "stdout",
     "output_type": "stream",
     "text": [
      "数据维度：(34017, 76)\n"
     ]
    }
   ],
   "source": [
    "df = df.drop(\"供水\", axis=1)\n",
    "print(f\"数据维度：{df.shape}\")"
   ]
  },
  {
   "cell_type": "code",
   "execution_count": 65,
   "id": "f6a721a6-3df4-4246-8b06-dd4ad13cc44d",
   "metadata": {},
   "outputs": [],
   "source": [
    "# 处理供暖\n",
    "def extract_warm_giving(text):\n",
    "    jizhong = zi = wu = 0\n",
    "    if \"集中供暖\" in text:\n",
    "        jizhong = 1\n",
    "    if \"自采暖\" in text:\n",
    "        zi = 1\n",
    "    if \"无供暖\" in text:\n",
    "        wu = 1\n",
    "    \n",
    "    return jizhong, zi, wu"
   ]
  },
  {
   "cell_type": "code",
   "execution_count": 66,
   "id": "9e481dce-c5c7-41de-9a80-ba00bd47762d",
   "metadata": {},
   "outputs": [
    {
     "name": "stdout",
     "output_type": "stream",
     "text": [
      "18602\n",
      "Index(['ID', '城市', '区域', '板块', '交易权属', '房屋用途', '房屋优势', '核心卖点', '户型介绍', '周边配套',\n",
      "       '交通出行', 'lon', 'lat', '年份', '区县', '板块_comm', '环线位置', '物业类别', '开发商',\n",
      "       '物业公司', '建筑结构_comm', '物业办公电话', '产权描述', '供暖', '供电', '燃气费', '供热费', '停车位',\n",
      "       '停车费用', 'coord_x', 'coord_y', '客户反馈', '室数', '厅数', '厨房数', '卫数', '是否为底层',\n",
      "       '是否为低层', '是否为中层', '是否为高层', '是否为顶层', '总楼层', '建筑面积值', '套内面积值', '向南', '向北',\n",
      "       '向西', '向东', '混合', '砖混', '框架', '砖木', '钢混', '钢', '精装装修', '简装装修', '其他装修',\n",
      "       '毛坯装修', '梯户比', '是否有电梯', '独栋或双拼', '联排或叠拼', '交易距今', '上次交易距今', '房屋低于两年',\n",
      "       '房屋二到五年', '房屋满五年', '是否共有产权', '房屋年份', '总户数', '总楼数', '绿化率', '容积率', '物业费',\n",
      "       '民水供水', '商水供水', '集中供暖', '自采暖', '无供暖'],\n",
      "      dtype='object')\n",
      "        ID  城市     区域      板块  交易权属  房屋用途      房屋优势  \\\n",
      "0  1000000   0  109.0   367.0    私产  普通住宅    、房本满五年   \n",
      "1  1000001   0   28.0   606.0   商品房  普通住宅  地铁、房本满五年   \n",
      "2  1000002   0  123.0  1110.0   商品房  普通住宅  装修、房本满五年   \n",
      "3  1000003   0   65.0   555.0   商品房  普通住宅    、房本满五年   \n",
      "4  1000004   0  109.0   990.0  已购公房  普通住宅  地铁、房本满五年   \n",
      "\n",
      "                             核心卖点 户型介绍  \\\n",
      "0                             NaN  NaN   \n",
      "1                             NaN  NaN   \n",
      "2  此房满五年唯一，楼层好，视野好，采光明亮，大客厅，交通便利。  NaN   \n",
      "3                             NaN  NaN   \n",
      "4       此房满5年公房，南北通透格局，复式格局，前后无遮挡  NaN   \n",
      "\n",
      "                                                周边配套  ...   总户数  总楼数    绿化率  \\\n",
      "0                                                NaN  ...   458    3  14.99   \n",
      "1                                                NaN  ...  3465   23  30.00   \n",
      "2  小区南侧就是公园，西侧就有餐饮店，饭店，酒店等，小区2002年小区，楼龄比较新，楼下就有公交...  ...   144    2  35.00   \n",
      "3                                                NaN  ...   320    9  30.00   \n",
      "4  生活配套设施齐全，东侧有物美、新华百货购物商场，西侧有凯德茂购物，南侧有西单购物商场，北侧有...  ...   340    9  30.00   \n",
      "\n",
      "    容积率   物业费  民水供水 商水供水 集中供暖 自采暖 无供暖  \n",
      "0  4.30  2.80     1    0    0   1   0  \n",
      "1  2.37  1.80     1    1    1   0   0  \n",
      "2  1.50  1.58     1    0    1   0   0  \n",
      "3  1.60  0.50     1    0    1   1   0  \n",
      "4  2.50  1.61     1    1    1   0   0  \n",
      "\n",
      "[5 rows x 79 columns]\n",
      "数据维度：(34017, 79)\n"
     ]
    }
   ],
   "source": [
    "# 检查缺失值\n",
    "target_column = \"供暖\"\n",
    "print(df[target_column].isnull().sum())\n",
    "# 填充缺失值为空字符串\n",
    "df[target_column] = df[target_column].fillna('')\n",
    "# 应用提取函数并创建新列\n",
    "df[['集中供暖', '自采暖', '无供暖']] = df[target_column].apply(\n",
    "    lambda x: pd.Series(extract_warm_giving(x))\n",
    ")\n",
    "\n",
    "print(df.columns)\n",
    "print(df.head())\n",
    "print(f\"数据维度：{df.shape}\")"
   ]
  },
  {
   "cell_type": "code",
   "execution_count": 67,
   "id": "b547f00e-a922-49dd-a2ee-49d35f6a4937",
   "metadata": {},
   "outputs": [
    {
     "name": "stdout",
     "output_type": "stream",
     "text": [
      "数据维度：(34017, 78)\n"
     ]
    }
   ],
   "source": [
    "df = df.drop(\"供暖\", axis=1)\n",
    "print(f\"数据维度：{df.shape}\")"
   ]
  },
  {
   "cell_type": "code",
   "execution_count": 68,
   "id": "bd648cc2-c505-4da9-9f90-60bb576ed319",
   "metadata": {},
   "outputs": [],
   "source": [
    "# 处理供电\n",
    "def extract_elec_giving(text):\n",
    "    mindian = shangdian = 0\n",
    "    if \"民电\" in text:\n",
    "        mindian = 1\n",
    "    if \"商电\" in text:\n",
    "        shangdian = 1\n",
    "    \n",
    "    return mindian, shangdian"
   ]
  },
  {
   "cell_type": "code",
   "execution_count": 69,
   "id": "c028beef-435b-4de5-b187-a08eb079f231",
   "metadata": {},
   "outputs": [
    {
     "name": "stdout",
     "output_type": "stream",
     "text": [
      "8177\n",
      "Index(['ID', '城市', '区域', '板块', '交易权属', '房屋用途', '房屋优势', '核心卖点', '户型介绍', '周边配套',\n",
      "       '交通出行', 'lon', 'lat', '年份', '区县', '板块_comm', '环线位置', '物业类别', '开发商',\n",
      "       '物业公司', '建筑结构_comm', '物业办公电话', '产权描述', '供电', '燃气费', '供热费', '停车位',\n",
      "       '停车费用', 'coord_x', 'coord_y', '客户反馈', '室数', '厅数', '厨房数', '卫数', '是否为底层',\n",
      "       '是否为低层', '是否为中层', '是否为高层', '是否为顶层', '总楼层', '建筑面积值', '套内面积值', '向南', '向北',\n",
      "       '向西', '向东', '混合', '砖混', '框架', '砖木', '钢混', '钢', '精装装修', '简装装修', '其他装修',\n",
      "       '毛坯装修', '梯户比', '是否有电梯', '独栋或双拼', '联排或叠拼', '交易距今', '上次交易距今', '房屋低于两年',\n",
      "       '房屋二到五年', '房屋满五年', '是否共有产权', '房屋年份', '总户数', '总楼数', '绿化率', '容积率', '物业费',\n",
      "       '民水供水', '商水供水', '集中供暖', '自采暖', '无供暖', '民电供电', '商电供电'],\n",
      "      dtype='object')\n",
      "        ID  城市     区域      板块  交易权属  房屋用途      房屋优势  \\\n",
      "0  1000000   0  109.0   367.0    私产  普通住宅    、房本满五年   \n",
      "1  1000001   0   28.0   606.0   商品房  普通住宅  地铁、房本满五年   \n",
      "2  1000002   0  123.0  1110.0   商品房  普通住宅  装修、房本满五年   \n",
      "3  1000003   0   65.0   555.0   商品房  普通住宅    、房本满五年   \n",
      "4  1000004   0  109.0   990.0  已购公房  普通住宅  地铁、房本满五年   \n",
      "\n",
      "                             核心卖点 户型介绍  \\\n",
      "0                             NaN  NaN   \n",
      "1                             NaN  NaN   \n",
      "2  此房满五年唯一，楼层好，视野好，采光明亮，大客厅，交通便利。  NaN   \n",
      "3                             NaN  NaN   \n",
      "4       此房满5年公房，南北通透格局，复式格局，前后无遮挡  NaN   \n",
      "\n",
      "                                                周边配套  ...    绿化率   容积率   物业费  \\\n",
      "0                                                NaN  ...  14.99  4.30  2.80   \n",
      "1                                                NaN  ...  30.00  2.37  1.80   \n",
      "2  小区南侧就是公园，西侧就有餐饮店，饭店，酒店等，小区2002年小区，楼龄比较新，楼下就有公交...  ...  35.00  1.50  1.58   \n",
      "3                                                NaN  ...  30.00  1.60  0.50   \n",
      "4  生活配套设施齐全，东侧有物美、新华百货购物商场，西侧有凯德茂购物，南侧有西单购物商场，北侧有...  ...  30.00  2.50  1.61   \n",
      "\n",
      "   民水供水  商水供水  集中供暖 自采暖 无供暖 民电供电 商电供电  \n",
      "0     1     0     0   1   0    1    0  \n",
      "1     1     1     1   0   0    1    1  \n",
      "2     1     0     1   0   0    1    0  \n",
      "3     1     0     1   1   0    1    0  \n",
      "4     1     1     1   0   0    1    0  \n",
      "\n",
      "[5 rows x 80 columns]\n",
      "数据维度：(34017, 80)\n"
     ]
    }
   ],
   "source": [
    "# 检查缺失值\n",
    "target_column = \"供电\"\n",
    "print(df[target_column].isnull().sum())\n",
    "# 填充缺失值为空字符串\n",
    "df[target_column] = df[target_column].fillna('')\n",
    "# 应用提取函数并创建新列\n",
    "df[['民电供电', '商电供电']] = df[target_column].apply(\n",
    "    lambda x: pd.Series(extract_elec_giving(x))\n",
    ")\n",
    "\n",
    "print(df.columns)\n",
    "print(df.head())\n",
    "print(f\"数据维度：{df.shape}\")"
   ]
  },
  {
   "cell_type": "code",
   "execution_count": 70,
   "id": "e14ae433-d8a4-44ac-9d85-e32dd94149ab",
   "metadata": {},
   "outputs": [
    {
     "name": "stdout",
     "output_type": "stream",
     "text": [
      "数据维度：(34017, 79)\n"
     ]
    }
   ],
   "source": [
    "df = df.drop(\"供电\", axis=1)\n",
    "print(f\"数据维度：{df.shape}\")"
   ]
  },
  {
   "cell_type": "code",
   "execution_count": 71,
   "id": "95099f9a-dfc0-4ddb-8a4e-5723691cb4f5",
   "metadata": {},
   "outputs": [],
   "source": [
    "def extract_burn_fee(value):\n",
    "    \"\"\"\n",
    "    参数:\n",
    "    value: str - 燃气费字符串\n",
    "    \n",
    "    返回:\n",
    "    float - 提取的燃气费数值，或-1（如果无法提取）\n",
    "    \"\"\"\n",
    "    # 检查是否为空值\n",
    "    if value == \"\":\n",
    "        return -1\n",
    "    # 转换为字符串并去除前后空格\n",
    "    value_str = str(value)\n",
    "    # 检查是否以\"/月/m²\"结尾\n",
    "    if not value_str.endswith(\"元/m³\"):\n",
    "        return -1\n",
    "    \n",
    "    try:\n",
    "        # 提取数字部分（可能包含范围符号\"-\"）\n",
    "        # 使用正则表达式匹配数字和可能的范围\n",
    "        pattern = r'([\\d.-]+)元/m³'\n",
    "        match = re.search(pattern, value_str)\n",
    "        \n",
    "        if match:\n",
    "            num_part = match.group(1)\n",
    "            \n",
    "            # 检查是否是范围（包含\"-\"）\n",
    "            if '-' in num_part:\n",
    "                # 处理范围，取平均值\n",
    "                parts = num_part.split('-')\n",
    "                if len(parts) == 2:\n",
    "                    start = float(parts[0])\n",
    "                    end = float(parts[1])\n",
    "                    return (start + end) / 2\n",
    "                else:\n",
    "                    return -1\n",
    "            else:\n",
    "                # 处理单个数值\n",
    "                return float(num_part)\n",
    "        else:\n",
    "            return -1\n",
    "    except (ValueError, AttributeError):\n",
    "        return -1"
   ]
  },
  {
   "cell_type": "code",
   "execution_count": 72,
   "id": "f73f6386-85ce-4d78-ab8b-9c5993576fd1",
   "metadata": {},
   "outputs": [
    {
     "name": "stdout",
     "output_type": "stream",
     "text": [
      "9157\n",
      "Index(['ID', '城市', '区域', '板块', '交易权属', '房屋用途', '房屋优势', '核心卖点', '户型介绍', '周边配套',\n",
      "       '交通出行', 'lon', 'lat', '年份', '区县', '板块_comm', '环线位置', '物业类别', '开发商',\n",
      "       '物业公司', '建筑结构_comm', '物业办公电话', '产权描述', '燃气费', '供热费', '停车位', '停车费用',\n",
      "       'coord_x', 'coord_y', '客户反馈', '室数', '厅数', '厨房数', '卫数', '是否为底层', '是否为低层',\n",
      "       '是否为中层', '是否为高层', '是否为顶层', '总楼层', '建筑面积值', '套内面积值', '向南', '向北', '向西',\n",
      "       '向东', '混合', '砖混', '框架', '砖木', '钢混', '钢', '精装装修', '简装装修', '其他装修', '毛坯装修',\n",
      "       '梯户比', '是否有电梯', '独栋或双拼', '联排或叠拼', '交易距今', '上次交易距今', '房屋低于两年', '房屋二到五年',\n",
      "       '房屋满五年', '是否共有产权', '房屋年份', '总户数', '总楼数', '绿化率', '容积率', '物业费', '民水供水',\n",
      "       '商水供水', '集中供暖', '自采暖', '无供暖', '民电供电', '商电供电', '燃气费数值'],\n",
      "      dtype='object')\n",
      "        ID  城市     区域      板块  交易权属  房屋用途      房屋优势  \\\n",
      "0  1000000   0  109.0   367.0    私产  普通住宅    、房本满五年   \n",
      "1  1000001   0   28.0   606.0   商品房  普通住宅  地铁、房本满五年   \n",
      "2  1000002   0  123.0  1110.0   商品房  普通住宅  装修、房本满五年   \n",
      "3  1000003   0   65.0   555.0   商品房  普通住宅    、房本满五年   \n",
      "4  1000004   0  109.0   990.0  已购公房  普通住宅  地铁、房本满五年   \n",
      "\n",
      "                             核心卖点 户型介绍  \\\n",
      "0                             NaN  NaN   \n",
      "1                             NaN  NaN   \n",
      "2  此房满五年唯一，楼层好，视野好，采光明亮，大客厅，交通便利。  NaN   \n",
      "3                             NaN  NaN   \n",
      "4       此房满5年公房，南北通透格局，复式格局，前后无遮挡  NaN   \n",
      "\n",
      "                                                周边配套  ...   容积率   物业费  民水供水  \\\n",
      "0                                                NaN  ...  4.30  2.80     1   \n",
      "1                                                NaN  ...  2.37  1.80     1   \n",
      "2  小区南侧就是公园，西侧就有餐饮店，饭店，酒店等，小区2002年小区，楼龄比较新，楼下就有公交...  ...  1.50  1.58     1   \n",
      "3                                                NaN  ...  1.60  0.50     1   \n",
      "4  生活配套设施齐全，东侧有物美、新华百货购物商场，西侧有凯德茂购物，南侧有西单购物商场，北侧有...  ...  2.50  1.61     1   \n",
      "\n",
      "   商水供水  集中供暖  自采暖 无供暖 民电供电 商电供电 燃气费数值  \n",
      "0     0     0    1   0    1    0  2.61  \n",
      "1     1     1    0   0    1    1  2.61  \n",
      "2     0     1    0   0    1    0  2.61  \n",
      "3     0     1    1   0    1    0  2.61  \n",
      "4     1     1    0   0    1    0  2.62  \n",
      "\n",
      "[5 rows x 80 columns]\n",
      "数据维度：(34017, 80)\n"
     ]
    }
   ],
   "source": [
    "# 检查缺失值\n",
    "target_column = \"燃气费\"\n",
    "print(df[target_column].isnull().sum())\n",
    "# 填充缺失值为空字符串\n",
    "df[target_column] = df[target_column].fillna('')\n",
    "# 使用正则表达式提取数字\n",
    "df[[\"燃气费数值\"]] = df[target_column].apply(\n",
    "    lambda x: pd.Series(extract_burn_fee(x), dtype='object')\n",
    ")\n",
    "\n",
    "print(df.columns)\n",
    "print(df.head())\n",
    "print(f\"数据维度：{df.shape}\")"
   ]
  },
  {
   "cell_type": "code",
   "execution_count": 73,
   "id": "abf7c1e2-74fd-4f2b-a8be-a92717734dc9",
   "metadata": {},
   "outputs": [
    {
     "name": "stdout",
     "output_type": "stream",
     "text": [
      "数据维度：(34017, 79)\n"
     ]
    }
   ],
   "source": [
    "df = df.drop(\"燃气费\", axis=1)\n",
    "print(f\"数据维度：{df.shape}\")"
   ]
  },
  {
   "cell_type": "code",
   "execution_count": 74,
   "id": "ca725bb0-4d5f-4b76-bcde-fd0d562f3825",
   "metadata": {},
   "outputs": [],
   "source": [
    "def extract_warm_fee(value):\n",
    "    \"\"\"\n",
    "    参数:\n",
    "    value: str - 燃气费字符串\n",
    "    \n",
    "    返回:\n",
    "    float - 提取的燃气费数值，或-1（如果无法提取）\n",
    "    \"\"\"\n",
    "    # 检查是否为空值\n",
    "    if value == \"\":\n",
    "        return -1\n",
    "    # 转换为字符串并去除前后空格\n",
    "    value_str = str(value)\n",
    "    # 检查是否以\"/月/m²\"结尾\n",
    "    if not value_str.endswith(\"元/㎡\"):\n",
    "        return -1\n",
    "    \n",
    "    try:\n",
    "        # 提取数字部分（可能包含范围符号\"-\"）\n",
    "        # 使用正则表达式匹配数字和可能的范围\n",
    "        pattern = r'([\\d.-]+)元/㎡'\n",
    "        match = re.search(pattern, value_str)\n",
    "        \n",
    "        if match:\n",
    "            num_part = match.group(1)\n",
    "            \n",
    "            # 检查是否是范围（包含\"-\"）\n",
    "            if '-' in num_part:\n",
    "                # 处理范围，取平均值\n",
    "                parts = num_part.split('-')\n",
    "                if len(parts) == 2:\n",
    "                    start = float(parts[0])\n",
    "                    end = float(parts[1])\n",
    "                    return (start + end) / 2\n",
    "                else:\n",
    "                    return -1\n",
    "            else:\n",
    "                # 处理单个数值\n",
    "                return float(num_part)\n",
    "        else:\n",
    "            return -1\n",
    "    except (ValueError, AttributeError):\n",
    "        return -1"
   ]
  },
  {
   "cell_type": "code",
   "execution_count": 75,
   "id": "703d6fb9-4eb2-44db-8eb3-2c84badd08a9",
   "metadata": {},
   "outputs": [
    {
     "name": "stdout",
     "output_type": "stream",
     "text": [
      "23028\n",
      "Index(['ID', '城市', '区域', '板块', '交易权属', '房屋用途', '房屋优势', '核心卖点', '户型介绍', '周边配套',\n",
      "       '交通出行', 'lon', 'lat', '年份', '区县', '板块_comm', '环线位置', '物业类别', '开发商',\n",
      "       '物业公司', '建筑结构_comm', '物业办公电话', '产权描述', '供热费', '停车位', '停车费用', 'coord_x',\n",
      "       'coord_y', '客户反馈', '室数', '厅数', '厨房数', '卫数', '是否为底层', '是否为低层', '是否为中层',\n",
      "       '是否为高层', '是否为顶层', '总楼层', '建筑面积值', '套内面积值', '向南', '向北', '向西', '向东', '混合',\n",
      "       '砖混', '框架', '砖木', '钢混', '钢', '精装装修', '简装装修', '其他装修', '毛坯装修', '梯户比',\n",
      "       '是否有电梯', '独栋或双拼', '联排或叠拼', '交易距今', '上次交易距今', '房屋低于两年', '房屋二到五年',\n",
      "       '房屋满五年', '是否共有产权', '房屋年份', '总户数', '总楼数', '绿化率', '容积率', '物业费', '民水供水',\n",
      "       '商水供水', '集中供暖', '自采暖', '无供暖', '民电供电', '商电供电', '燃气费数值', '供热费数值'],\n",
      "      dtype='object')\n",
      "        ID  城市     区域      板块  交易权属  房屋用途      房屋优势  \\\n",
      "0  1000000   0  109.0   367.0    私产  普通住宅    、房本满五年   \n",
      "1  1000001   0   28.0   606.0   商品房  普通住宅  地铁、房本满五年   \n",
      "2  1000002   0  123.0  1110.0   商品房  普通住宅  装修、房本满五年   \n",
      "3  1000003   0   65.0   555.0   商品房  普通住宅    、房本满五年   \n",
      "4  1000004   0  109.0   990.0  已购公房  普通住宅  地铁、房本满五年   \n",
      "\n",
      "                             核心卖点 户型介绍  \\\n",
      "0                             NaN  NaN   \n",
      "1                             NaN  NaN   \n",
      "2  此房满五年唯一，楼层好，视野好，采光明亮，大客厅，交通便利。  NaN   \n",
      "3                             NaN  NaN   \n",
      "4       此房满5年公房，南北通透格局，复式格局，前后无遮挡  NaN   \n",
      "\n",
      "                                                周边配套  ...   物业费  民水供水  商水供水  \\\n",
      "0                                                NaN  ...  2.80     1     0   \n",
      "1                                                NaN  ...  1.80     1     1   \n",
      "2  小区南侧就是公园，西侧就有餐饮店，饭店，酒店等，小区2002年小区，楼龄比较新，楼下就有公交...  ...  1.58     1     0   \n",
      "3                                                NaN  ...  0.50     1     0   \n",
      "4  生活配套设施齐全，东侧有物美、新华百货购物商场，西侧有凯德茂购物，南侧有西单购物商场，北侧有...  ...  1.61     1     1   \n",
      "\n",
      "   集中供暖  自采暖  无供暖 民电供电 商电供电 燃气费数值 供热费数值  \n",
      "0     0    1    0    1    0  2.61  -1.0  \n",
      "1     1    0    0    1    1  2.61  30.0  \n",
      "2     1    0    0    1    0  2.61  30.0  \n",
      "3     1    1    0    1    0  2.61  30.0  \n",
      "4     1    0    0    1    0  2.62  27.0  \n",
      "\n",
      "[5 rows x 80 columns]\n",
      "数据维度：(34017, 80)\n"
     ]
    }
   ],
   "source": [
    "# 检查缺失值\n",
    "target_column = \"供热费\"\n",
    "print(df[target_column].isnull().sum())\n",
    "# 填充缺失值为空字符串\n",
    "df[target_column] = df[target_column].fillna('')\n",
    "# 使用正则表达式提取数字\n",
    "df[[\"供热费数值\"]] = df[target_column].apply(\n",
    "    lambda x: pd.Series(extract_warm_fee(x), dtype='object')\n",
    ")\n",
    "\n",
    "print(df.columns)\n",
    "print(df.head())\n",
    "print(f\"数据维度：{df.shape}\")"
   ]
  },
  {
   "cell_type": "code",
   "execution_count": 76,
   "id": "1b138998-af59-493c-9f2e-246bfc0afe93",
   "metadata": {},
   "outputs": [
    {
     "name": "stdout",
     "output_type": "stream",
     "text": [
      "数据维度：(34017, 79)\n"
     ]
    }
   ],
   "source": [
    "df = df.drop(\"供热费\", axis=1)\n",
    "print(f\"数据维度：{df.shape}\")"
   ]
  },
  {
   "cell_type": "code",
   "execution_count": 77,
   "id": "a37bae3c-ccdc-47cd-a12c-e66177acef40",
   "metadata": {},
   "outputs": [],
   "source": [
    "def extract_park(value):\n",
    "    \"\"\"\n",
    "    参数:\n",
    "    value: str - 停车位字符串\n",
    "    \n",
    "    返回:\n",
    "    float - 提取的停车位数值，或-1（如果无法提取）\n",
    "    \"\"\"\n",
    "    # 检查是否为空值\n",
    "    if value == '':\n",
    "        return -1.0\n",
    "    else:\n",
    "        return float(value)"
   ]
  },
  {
   "cell_type": "code",
   "execution_count": 78,
   "id": "94f14d6f-2564-4520-8681-63c1f4b27811",
   "metadata": {},
   "outputs": [
    {
     "name": "stdout",
     "output_type": "stream",
     "text": [
      "9571\n",
      "Index(['ID', '城市', '区域', '板块', '交易权属', '房屋用途', '房屋优势', '核心卖点', '户型介绍', '周边配套',\n",
      "       '交通出行', 'lon', 'lat', '年份', '区县', '板块_comm', '环线位置', '物业类别', '开发商',\n",
      "       '物业公司', '建筑结构_comm', '物业办公电话', '产权描述', '停车位', '停车费用', 'coord_x',\n",
      "       'coord_y', '客户反馈', '室数', '厅数', '厨房数', '卫数', '是否为底层', '是否为低层', '是否为中层',\n",
      "       '是否为高层', '是否为顶层', '总楼层', '建筑面积值', '套内面积值', '向南', '向北', '向西', '向东', '混合',\n",
      "       '砖混', '框架', '砖木', '钢混', '钢', '精装装修', '简装装修', '其他装修', '毛坯装修', '梯户比',\n",
      "       '是否有电梯', '独栋或双拼', '联排或叠拼', '交易距今', '上次交易距今', '房屋低于两年', '房屋二到五年',\n",
      "       '房屋满五年', '是否共有产权', '房屋年份', '总户数', '总楼数', '绿化率', '容积率', '物业费', '民水供水',\n",
      "       '商水供水', '集中供暖', '自采暖', '无供暖', '民电供电', '商电供电', '燃气费数值', '供热费数值',\n",
      "       '停车位数量'],\n",
      "      dtype='object')\n",
      "        ID  城市     区域      板块  交易权属  房屋用途      房屋优势  \\\n",
      "0  1000000   0  109.0   367.0    私产  普通住宅    、房本满五年   \n",
      "1  1000001   0   28.0   606.0   商品房  普通住宅  地铁、房本满五年   \n",
      "2  1000002   0  123.0  1110.0   商品房  普通住宅  装修、房本满五年   \n",
      "3  1000003   0   65.0   555.0   商品房  普通住宅    、房本满五年   \n",
      "4  1000004   0  109.0   990.0  已购公房  普通住宅  地铁、房本满五年   \n",
      "\n",
      "                             核心卖点 户型介绍  \\\n",
      "0                             NaN  NaN   \n",
      "1                             NaN  NaN   \n",
      "2  此房满五年唯一，楼层好，视野好，采光明亮，大客厅，交通便利。  NaN   \n",
      "3                             NaN  NaN   \n",
      "4       此房满5年公房，南北通透格局，复式格局，前后无遮挡  NaN   \n",
      "\n",
      "                                                周边配套  ... 民水供水  商水供水  集中供暖  \\\n",
      "0                                                NaN  ...    1     0     0   \n",
      "1                                                NaN  ...    1     1     1   \n",
      "2  小区南侧就是公园，西侧就有餐饮店，饭店，酒店等，小区2002年小区，楼龄比较新，楼下就有公交...  ...    1     0     1   \n",
      "3                                                NaN  ...    1     0     1   \n",
      "4  生活配套设施齐全，东侧有物美、新华百货购物商场，西侧有凯德茂购物，南侧有西单购物商场，北侧有...  ...    1     1     1   \n",
      "\n",
      "   自采暖  无供暖  民电供电 商电供电 燃气费数值 供热费数值   停车位数量  \n",
      "0    1    0     1    0  2.61  -1.0   280.0  \n",
      "1    0    0     1    1  2.61  30.0  1340.0  \n",
      "2    0    0     1    0  2.61  30.0   300.0  \n",
      "3    1    0     1    0  2.61  30.0   500.0  \n",
      "4    0    0     1    0  2.62  27.0    80.0  \n",
      "\n",
      "[5 rows x 80 columns]\n",
      "数据维度：(34017, 80)\n"
     ]
    }
   ],
   "source": [
    "# 检查缺失值\n",
    "target_column = \"停车位\"\n",
    "print(df[target_column].isnull().sum())\n",
    "# 填充缺失值为空字符串\n",
    "df[target_column] = df[target_column].fillna('')\n",
    "# 使用正则表达式提取数字\n",
    "df[[\"停车位数量\"]] = df[target_column].apply(\n",
    "    lambda x: pd.Series(extract_park(x), dtype='object')\n",
    ")\n",
    "\n",
    "print(df.columns)\n",
    "print(df.head())\n",
    "print(f\"数据维度：{df.shape}\")"
   ]
  },
  {
   "cell_type": "code",
   "execution_count": 79,
   "id": "32a1337c-5669-4994-94da-d6e0d0d3807b",
   "metadata": {},
   "outputs": [
    {
     "name": "stdout",
     "output_type": "stream",
     "text": [
      "数据维度：(34017, 79)\n"
     ]
    }
   ],
   "source": [
    "df = df.drop(\"停车位\", axis=1)\n",
    "print(f\"数据维度：{df.shape}\")"
   ]
  },
  {
   "cell_type": "code",
   "execution_count": 80,
   "id": "1252253b-ac4f-4654-aafb-0a2fef0e1a2c",
   "metadata": {},
   "outputs": [],
   "source": [
    "def extract_parking_fee(value):\n",
    "    \"\"\"\n",
    "    参数:\n",
    "    value: str - 停车费字符串\n",
    "    \n",
    "    返回:\n",
    "    float - 提取的停车费数值，或-1.0（如果无法提取）\n",
    "    \"\"\"\n",
    "    # 检查是否为空值\n",
    "    if value == '':\n",
    "        return -1.0\n",
    "    \n",
    "    # 转换为字符串并去除前后空格\n",
    "    value_str = str(value).strip()\n",
    "    \n",
    "    # 检查是否只包含数字（整数或小数）\n",
    "    # 使用正则表达式匹配纯数字（可包含小数点）\n",
    "    pattern = r'^-?\\d*\\.?\\d+$'\n",
    "    if re.match(pattern, value_str):\n",
    "        try:\n",
    "            return float(value_str)\n",
    "        except ValueError:\n",
    "            return -1.0\n",
    "    else:\n",
    "        return -1.0"
   ]
  },
  {
   "cell_type": "code",
   "execution_count": 81,
   "id": "8d7bfa8b-9531-47a3-afda-7b563179894a",
   "metadata": {},
   "outputs": [
    {
     "name": "stdout",
     "output_type": "stream",
     "text": [
      "9922\n",
      "Index(['ID', '城市', '区域', '板块', '交易权属', '房屋用途', '房屋优势', '核心卖点', '户型介绍', '周边配套',\n",
      "       '交通出行', 'lon', 'lat', '年份', '区县', '板块_comm', '环线位置', '物业类别', '开发商',\n",
      "       '物业公司', '建筑结构_comm', '物业办公电话', '产权描述', '停车费用', 'coord_x', 'coord_y',\n",
      "       '客户反馈', '室数', '厅数', '厨房数', '卫数', '是否为底层', '是否为低层', '是否为中层', '是否为高层',\n",
      "       '是否为顶层', '总楼层', '建筑面积值', '套内面积值', '向南', '向北', '向西', '向东', '混合', '砖混',\n",
      "       '框架', '砖木', '钢混', '钢', '精装装修', '简装装修', '其他装修', '毛坯装修', '梯户比', '是否有电梯',\n",
      "       '独栋或双拼', '联排或叠拼', '交易距今', '上次交易距今', '房屋低于两年', '房屋二到五年', '房屋满五年',\n",
      "       '是否共有产权', '房屋年份', '总户数', '总楼数', '绿化率', '容积率', '物业费', '民水供水', '商水供水',\n",
      "       '集中供暖', '自采暖', '无供暖', '民电供电', '商电供电', '燃气费数值', '供热费数值', '停车位数量', '停车费'],\n",
      "      dtype='object')\n",
      "        ID  城市     区域      板块  交易权属  房屋用途      房屋优势  \\\n",
      "0  1000000   0  109.0   367.0    私产  普通住宅    、房本满五年   \n",
      "1  1000001   0   28.0   606.0   商品房  普通住宅  地铁、房本满五年   \n",
      "2  1000002   0  123.0  1110.0   商品房  普通住宅  装修、房本满五年   \n",
      "3  1000003   0   65.0   555.0   商品房  普通住宅    、房本满五年   \n",
      "4  1000004   0  109.0   990.0  已购公房  普通住宅  地铁、房本满五年   \n",
      "\n",
      "                             核心卖点 户型介绍  \\\n",
      "0                             NaN  NaN   \n",
      "1                             NaN  NaN   \n",
      "2  此房满五年唯一，楼层好，视野好，采光明亮，大客厅，交通便利。  NaN   \n",
      "3                             NaN  NaN   \n",
      "4       此房满5年公房，南北通透格局，复式格局，前后无遮挡  NaN   \n",
      "\n",
      "                                                周边配套  ... 商水供水  集中供暖  自采暖  \\\n",
      "0                                                NaN  ...    0     0    1   \n",
      "1                                                NaN  ...    1     1    0   \n",
      "2  小区南侧就是公园，西侧就有餐饮店，饭店，酒店等，小区2002年小区，楼龄比较新，楼下就有公交...  ...    0     1    0   \n",
      "3                                                NaN  ...    0     1    1   \n",
      "4  生活配套设施齐全，东侧有物美、新华百货购物商场，西侧有凯德茂购物，南侧有西单购物商场，北侧有...  ...    1     1    0   \n",
      "\n",
      "   无供暖  民电供电  商电供电 燃气费数值 供热费数值   停车位数量    停车费  \n",
      "0    0     1     0  2.61  -1.0   280.0   -1.0  \n",
      "1    0     1     1  2.61  30.0  1340.0   -1.0  \n",
      "2    0     1     0  2.61  30.0   300.0  150.0  \n",
      "3    0     1     0  2.61  30.0   500.0   -1.0  \n",
      "4    0     1     0  2.62  27.0    80.0  150.0  \n",
      "\n",
      "[5 rows x 80 columns]\n",
      "数据维度：(34017, 80)\n"
     ]
    }
   ],
   "source": [
    "# 检查缺失值\n",
    "target_column = \"停车费用\"\n",
    "print(df[target_column].isnull().sum())\n",
    "# 填充缺失值为空字符串\n",
    "df[target_column] = df[target_column].fillna('')\n",
    "# 使用正则表达式提取数字\n",
    "df[[\"停车费\"]] = df[target_column].apply(\n",
    "    lambda x: pd.Series(extract_parking_fee(x), dtype='object')\n",
    ")\n",
    "\n",
    "print(df.columns)\n",
    "print(df.head())\n",
    "print(f\"数据维度：{df.shape}\")"
   ]
  },
  {
   "cell_type": "code",
   "execution_count": 82,
   "id": "6ba428b1-0f0e-467b-a2dc-822f2c9aa50b",
   "metadata": {},
   "outputs": [
    {
     "name": "stdout",
     "output_type": "stream",
     "text": [
      "数据维度：(34017, 79)\n"
     ]
    }
   ],
   "source": [
    "df = df.drop(\"停车费用\", axis=1)\n",
    "print(f\"数据维度：{df.shape}\")"
   ]
  },
  {
   "cell_type": "code",
   "execution_count": 83,
   "id": "7f7aff81-be32-4b37-9681-c5a640d3c775",
   "metadata": {},
   "outputs": [],
   "source": [
    "def comment_len(text):\n",
    "    # 检查是否为空值\n",
    "    return len(text)"
   ]
  },
  {
   "cell_type": "code",
   "execution_count": 84,
   "id": "001b8e20-bf99-48ab-8dd1-0d52233e88fe",
   "metadata": {},
   "outputs": [
    {
     "name": "stdout",
     "output_type": "stream",
     "text": [
      "6379\n"
     ]
    }
   ],
   "source": [
    "# 检查缺失值\n",
    "target_column = \"房屋优势\"\n",
    "print(df[target_column].isnull().sum())\n",
    "# 填充缺失值为空字符串\n",
    "df[target_column] = df[target_column].fillna('')\n",
    "# 使用正则表达式提取数字\n",
    "df[[\"房屋优势分数\"]] = df[target_column].apply(\n",
    "    lambda x: pd.Series(comment_len(x), dtype='object')\n",
    ")"
   ]
  },
  {
   "cell_type": "code",
   "execution_count": 85,
   "id": "5d47de8c-b56b-42f8-8aca-bb963d8acdee",
   "metadata": {},
   "outputs": [
    {
     "name": "stdout",
     "output_type": "stream",
     "text": [
      "8048\n"
     ]
    }
   ],
   "source": [
    "# 检查缺失值\n",
    "target_column = \"核心卖点\"\n",
    "print(df[target_column].isnull().sum())\n",
    "# 填充缺失值为空字符串\n",
    "df[target_column] = df[target_column].fillna('')\n",
    "# 使用正则表达式提取数字\n",
    "df[[\"核心卖点分数\"]] = df[target_column].apply(\n",
    "    lambda x: pd.Series(comment_len(x), dtype='object')\n",
    ")"
   ]
  },
  {
   "cell_type": "code",
   "execution_count": 86,
   "id": "0a90195f-4158-419e-a0b8-62b6d2fb42f6",
   "metadata": {},
   "outputs": [
    {
     "name": "stdout",
     "output_type": "stream",
     "text": [
      "24005\n"
     ]
    }
   ],
   "source": [
    "# 检查缺失值\n",
    "target_column = \"户型介绍\"\n",
    "print(df[target_column].isnull().sum())\n",
    "# 填充缺失值为空字符串\n",
    "df[target_column] = df[target_column].fillna('')\n",
    "# 使用正则表达式提取数字\n",
    "df[[\"户型介绍分数\"]] = df[target_column].apply(\n",
    "    lambda x: pd.Series(comment_len(x), dtype='object')\n",
    ")"
   ]
  },
  {
   "cell_type": "code",
   "execution_count": 87,
   "id": "1037f15b-7500-40d1-a909-7abdc9a4a1cd",
   "metadata": {},
   "outputs": [
    {
     "name": "stdout",
     "output_type": "stream",
     "text": [
      "15031\n"
     ]
    }
   ],
   "source": [
    "# 检查缺失值\n",
    "target_column = \"周边配套\"\n",
    "print(df[target_column].isnull().sum())\n",
    "# 填充缺失值为空字符串\n",
    "df[target_column] = df[target_column].fillna('')\n",
    "# 使用正则表达式提取数字\n",
    "df[[\"周边配套分数\"]] = df[target_column].apply(\n",
    "    lambda x: pd.Series(comment_len(x), dtype='object')\n",
    ")"
   ]
  },
  {
   "cell_type": "code",
   "execution_count": 88,
   "id": "384e38fe-eb24-49bd-89d1-b49f801b1eb1",
   "metadata": {},
   "outputs": [
    {
     "name": "stdout",
     "output_type": "stream",
     "text": [
      "15358\n"
     ]
    }
   ],
   "source": [
    "# 检查缺失值\n",
    "target_column = \"交通出行\"\n",
    "print(df[target_column].isnull().sum())\n",
    "# 填充缺失值为空字符串\n",
    "df[target_column] = df[target_column].fillna('')\n",
    "# 使用正则表达式提取数字\n",
    "df[[\"交通出行分数\"]] = df[target_column].apply(\n",
    "    lambda x: pd.Series(comment_len(x), dtype='object')\n",
    ")"
   ]
  },
  {
   "cell_type": "code",
   "execution_count": 89,
   "id": "c36e739f-c207-496b-b8c4-79eda94d4b09",
   "metadata": {},
   "outputs": [
    {
     "name": "stdout",
     "output_type": "stream",
     "text": [
      "数据维度：(34017, 79)\n"
     ]
    }
   ],
   "source": [
    "df = df.drop(\"房屋优势\", axis=1)\n",
    "df = df.drop(\"核心卖点\", axis=1)\n",
    "df = df.drop(\"户型介绍\", axis=1)\n",
    "df = df.drop(\"周边配套\", axis=1)\n",
    "df = df.drop(\"交通出行\", axis=1)\n",
    "print(f\"数据维度：{df.shape}\")"
   ]
  },
  {
   "cell_type": "code",
   "execution_count": 90,
   "id": "49512e18-a76a-4497-aff7-94d897be394f",
   "metadata": {},
   "outputs": [],
   "source": [
    "def get_rights(text):\n",
    "    high_price = middle_price = low_price = 0\n",
    "    high_lst = [\"商品房\", \"央产房\", \"私产\"]\n",
    "    middle_lst = [\"已购公房\", \"房改房\", \"集资房\", \"限价商品房\", \"拆迁还建房\", \"经济适用房\", \"售后公房\"]\n",
    "    low_lst = [\"动迁安置房\", \"一类经济适用房\", \"二类经济适用房\", \"定向安置房\", \"自住型商品房\"]\n",
    "    if text in high_lst:\n",
    "        high_price = 1\n",
    "    if text in middle_lst:\n",
    "        middle_price = 1\n",
    "    if text in low_lst:\n",
    "        low_price = 1\n",
    "    return high_price, middle_price, low_price"
   ]
  },
  {
   "cell_type": "code",
   "execution_count": 91,
   "id": "949a84d1-6287-4d2d-a84c-eb23c4cab246",
   "metadata": {},
   "outputs": [
    {
     "name": "stdout",
     "output_type": "stream",
     "text": [
      "0\n",
      "Index(['ID', '城市', '区域', '板块', '交易权属', '房屋用途', 'lon', 'lat', '年份', '区县',\n",
      "       '板块_comm', '环线位置', '物业类别', '开发商', '物业公司', '建筑结构_comm', '物业办公电话', '产权描述',\n",
      "       'coord_x', 'coord_y', '客户反馈', '室数', '厅数', '厨房数', '卫数', '是否为底层', '是否为低层',\n",
      "       '是否为中层', '是否为高层', '是否为顶层', '总楼层', '建筑面积值', '套内面积值', '向南', '向北', '向西',\n",
      "       '向东', '混合', '砖混', '框架', '砖木', '钢混', '钢', '精装装修', '简装装修', '其他装修', '毛坯装修',\n",
      "       '梯户比', '是否有电梯', '独栋或双拼', '联排或叠拼', '交易距今', '上次交易距今', '房屋低于两年', '房屋二到五年',\n",
      "       '房屋满五年', '是否共有产权', '房屋年份', '总户数', '总楼数', '绿化率', '容积率', '物业费', '民水供水',\n",
      "       '商水供水', '集中供暖', '自采暖', '无供暖', '民电供电', '商电供电', '燃气费数值', '供热费数值', '停车位数量',\n",
      "       '停车费', '房屋优势分数', '核心卖点分数', '户型介绍分数', '周边配套分数', '交通出行分数', '高价交易类型',\n",
      "       '中价交易类型', '低价交易类型'],\n",
      "      dtype='object')\n",
      "        ID  城市     区域      板块  交易权属  房屋用途         lon        lat      年份  \\\n",
      "0  1000000   0  109.0   367.0    私产  普通住宅  117.389491  40.901030  2022.0   \n",
      "1  1000001   0   28.0   606.0   商品房  普通住宅  117.376625  40.767478  2022.0   \n",
      "2  1000002   0  123.0  1110.0   商品房  普通住宅  117.631276  41.063635  2022.0   \n",
      "3  1000003   0   65.0   555.0   商品房  普通住宅  117.186216  41.163738  2022.0   \n",
      "4  1000004   0  109.0   990.0  已购公房  普通住宅  117.400114  40.959679  2022.0   \n",
      "\n",
      "      区县  ...   停车位数量    停车费 房屋优势分数 核心卖点分数 户型介绍分数 周边配套分数 交通出行分数 高价交易类型  \\\n",
      "0  109.0  ...   280.0   -1.0      6      0      0      0      0      1   \n",
      "1   28.0  ...  1340.0   -1.0      8      0      0      0      0      1   \n",
      "2  123.0  ...   300.0  150.0      8     30      0     65      0      1   \n",
      "3   65.0  ...   500.0   -1.0      6      0      0      0      0      1   \n",
      "4  109.0  ...    80.0  150.0      8     25      0     68     72      0   \n",
      "\n",
      "   中价交易类型  低价交易类型  \n",
      "0       0       0  \n",
      "1       0       0  \n",
      "2       0       0  \n",
      "3       0       0  \n",
      "4       1       0  \n",
      "\n",
      "[5 rows x 82 columns]\n",
      "数据维度：(34017, 82)\n"
     ]
    }
   ],
   "source": [
    "# 检查缺失值\n",
    "target_column = \"交易权属\"\n",
    "print(df[target_column].isnull().sum())\n",
    "# 填充缺失值为空字符串\n",
    "df[target_column] = df[target_column].fillna('')\n",
    "# 应用提取函数并创建新列\n",
    "df[['高价交易类型', '中价交易类型', '低价交易类型']] = df[target_column].apply(\n",
    "    lambda x: pd.Series(get_rights(x))\n",
    ")\n",
    "\n",
    "print(df.columns)\n",
    "print(df.head())\n",
    "print(f\"数据维度：{df.shape}\")"
   ]
  },
  {
   "cell_type": "code",
   "execution_count": 92,
   "id": "20319d17-0964-4f6f-9b69-6a18a677790f",
   "metadata": {},
   "outputs": [
    {
     "name": "stdout",
     "output_type": "stream",
     "text": [
      "数据维度：(34017, 81)\n"
     ]
    }
   ],
   "source": [
    "df = df.drop(\"交易权属\", axis=1)\n",
    "print(f\"数据维度：{df.shape}\")"
   ]
  },
  {
   "cell_type": "code",
   "execution_count": 93,
   "id": "2fa81f85-00ac-4d33-adeb-58ac3c8c8e6e",
   "metadata": {},
   "outputs": [],
   "source": [
    "def get_uses(text):\n",
    "    high_price = middle_price = low_price = 0\n",
    "    high_lst = [\"别墅\", \"花园洋房\", \"新式里弄\", \"老公寓\"]\n",
    "    middle_lst = [\"普通住宅\", \"公寓\", \"公寓（住宅）\", \"公寓/住宅\", \"公寓/公寓\", \"商务公寓\", \"商务型公寓\", \"酒店式公寓\"]\n",
    "    low_lst = [\"商住两用\", \"商业办公类\", \"商业\", \"车库\"]\n",
    "    if text in high_lst:\n",
    "        high_price = 1\n",
    "    if text in middle_lst:\n",
    "        middle_price = 1\n",
    "    if text in low_lst:\n",
    "        low_price = 1\n",
    "    return high_price, middle_price, low_price"
   ]
  },
  {
   "cell_type": "code",
   "execution_count": 94,
   "id": "5fddbb10-5fa9-4050-86cc-f701b1cbc0ea",
   "metadata": {},
   "outputs": [
    {
     "name": "stdout",
     "output_type": "stream",
     "text": [
      "0\n",
      "Index(['ID', '城市', '区域', '板块', '房屋用途', 'lon', 'lat', '年份', '区县', '板块_comm',\n",
      "       '环线位置', '物业类别', '开发商', '物业公司', '建筑结构_comm', '物业办公电话', '产权描述', 'coord_x',\n",
      "       'coord_y', '客户反馈', '室数', '厅数', '厨房数', '卫数', '是否为底层', '是否为低层', '是否为中层',\n",
      "       '是否为高层', '是否为顶层', '总楼层', '建筑面积值', '套内面积值', '向南', '向北', '向西', '向东', '混合',\n",
      "       '砖混', '框架', '砖木', '钢混', '钢', '精装装修', '简装装修', '其他装修', '毛坯装修', '梯户比',\n",
      "       '是否有电梯', '独栋或双拼', '联排或叠拼', '交易距今', '上次交易距今', '房屋低于两年', '房屋二到五年',\n",
      "       '房屋满五年', '是否共有产权', '房屋年份', '总户数', '总楼数', '绿化率', '容积率', '物业费', '民水供水',\n",
      "       '商水供水', '集中供暖', '自采暖', '无供暖', '民电供电', '商电供电', '燃气费数值', '供热费数值', '停车位数量',\n",
      "       '停车费', '房屋优势分数', '核心卖点分数', '户型介绍分数', '周边配套分数', '交通出行分数', '高价交易类型',\n",
      "       '中价交易类型', '低价交易类型', '高价房屋用途', '中价房屋用途', '低价房屋用途'],\n",
      "      dtype='object')\n",
      "        ID  城市     区域      板块  房屋用途         lon        lat      年份     区县  \\\n",
      "0  1000000   0  109.0   367.0  普通住宅  117.389491  40.901030  2022.0  109.0   \n",
      "1  1000001   0   28.0   606.0  普通住宅  117.376625  40.767478  2022.0   28.0   \n",
      "2  1000002   0  123.0  1110.0  普通住宅  117.631276  41.063635  2022.0  123.0   \n",
      "3  1000003   0   65.0   555.0  普通住宅  117.186216  41.163738  2022.0   65.0   \n",
      "4  1000004   0  109.0   990.0  普通住宅  117.400114  40.959679  2022.0  109.0   \n",
      "\n",
      "   板块_comm  ... 核心卖点分数 户型介绍分数 周边配套分数 交通出行分数 高价交易类型 中价交易类型 低价交易类型  高价房屋用途  \\\n",
      "0    367.0  ...      0      0      0      0      1      0      0       0   \n",
      "1    606.0  ...      0      0      0      0      1      0      0       0   \n",
      "2   1110.0  ...     30      0     65      0      1      0      0       0   \n",
      "3    555.0  ...      0      0      0      0      1      0      0       0   \n",
      "4    990.0  ...     25      0     68     72      0      1      0       0   \n",
      "\n",
      "   中价房屋用途 低价房屋用途  \n",
      "0       1      0  \n",
      "1       1      0  \n",
      "2       1      0  \n",
      "3       1      0  \n",
      "4       1      0  \n",
      "\n",
      "[5 rows x 84 columns]\n",
      "数据维度：(34017, 84)\n"
     ]
    }
   ],
   "source": [
    "# 检查缺失值\n",
    "target_column = \"房屋用途\"\n",
    "print(df[target_column].isnull().sum())\n",
    "# 填充缺失值为空字符串\n",
    "df[target_column] = df[target_column].fillna('')\n",
    "# 应用提取函数并创建新列\n",
    "df[['高价房屋用途', '中价房屋用途', '低价房屋用途']] = df[target_column].apply(\n",
    "    lambda x: pd.Series(get_uses(x))\n",
    ")\n",
    "\n",
    "print(df.columns)\n",
    "print(df.head())\n",
    "print(f\"数据维度：{df.shape}\")"
   ]
  },
  {
   "cell_type": "code",
   "execution_count": 95,
   "id": "ec5a714c-6dd4-47a0-8286-4dd05dca868e",
   "metadata": {},
   "outputs": [
    {
     "name": "stdout",
     "output_type": "stream",
     "text": [
      "数据维度：(34017, 83)\n"
     ]
    }
   ],
   "source": [
    "df = df.drop(\"房屋用途\", axis=1)\n",
    "print(f\"数据维度：{df.shape}\")"
   ]
  },
  {
   "cell_type": "code",
   "execution_count": 96,
   "id": "e0e98b02-8de1-40e6-867d-c895a35a019e",
   "metadata": {},
   "outputs": [],
   "source": [
    "# 处理建筑结构_comm\n",
    "def extract_structure_comm(text):\n",
    "    talou = banlou = pingfang = 0\n",
    "    if \"塔楼\" in text:\n",
    "        talou = 1\n",
    "    if \"板楼\" in text:\n",
    "        banlou = 1\n",
    "    if \"平房\" in text:\n",
    "        pingfang = 1\n",
    "    if \"塔板结合\" in text:\n",
    "        talou = 1\n",
    "        banlou = 1\n",
    "        \n",
    "    return talou, banlou, pingfang"
   ]
  },
  {
   "cell_type": "code",
   "execution_count": 97,
   "id": "a978cecb-7f9a-4636-ac73-1ce0eb78f7e1",
   "metadata": {},
   "outputs": [
    {
     "name": "stdout",
     "output_type": "stream",
     "text": [
      "7834\n",
      "Index(['ID', '城市', '区域', '板块', 'lon', 'lat', '年份', '区县', '板块_comm', '环线位置',\n",
      "       '物业类别', '开发商', '物业公司', '建筑结构_comm', '物业办公电话', '产权描述', 'coord_x',\n",
      "       'coord_y', '客户反馈', '室数', '厅数', '厨房数', '卫数', '是否为底层', '是否为低层', '是否为中层',\n",
      "       '是否为高层', '是否为顶层', '总楼层', '建筑面积值', '套内面积值', '向南', '向北', '向西', '向东', '混合',\n",
      "       '砖混', '框架', '砖木', '钢混', '钢', '精装装修', '简装装修', '其他装修', '毛坯装修', '梯户比',\n",
      "       '是否有电梯', '独栋或双拼', '联排或叠拼', '交易距今', '上次交易距今', '房屋低于两年', '房屋二到五年',\n",
      "       '房屋满五年', '是否共有产权', '房屋年份', '总户数', '总楼数', '绿化率', '容积率', '物业费', '民水供水',\n",
      "       '商水供水', '集中供暖', '自采暖', '无供暖', '民电供电', '商电供电', '燃气费数值', '供热费数值', '停车位数量',\n",
      "       '停车费', '房屋优势分数', '核心卖点分数', '户型介绍分数', '周边配套分数', '交通出行分数', '高价交易类型',\n",
      "       '中价交易类型', '低价交易类型', '高价房屋用途', '中价房屋用途', '低价房屋用途', '塔楼', '板楼', '平房'],\n",
      "      dtype='object')\n",
      "        ID  城市     区域      板块         lon        lat      年份     区县  板块_comm  \\\n",
      "0  1000000   0  109.0   367.0  117.389491  40.901030  2022.0  109.0    367.0   \n",
      "1  1000001   0   28.0   606.0  117.376625  40.767478  2022.0   28.0    606.0   \n",
      "2  1000002   0  123.0  1110.0  117.631276  41.063635  2022.0  123.0   1110.0   \n",
      "3  1000003   0   65.0   555.0  117.186216  41.163738  2022.0   65.0    555.0   \n",
      "4  1000004   0  109.0   990.0  117.400114  40.959679  2022.0  109.0    990.0   \n",
      "\n",
      "   环线位置  ... 交通出行分数 高价交易类型 中价交易类型 低价交易类型 高价房屋用途 中价房屋用途  低价房屋用途  塔楼 板楼  平房  \n",
      "0  二至三环  ...      0      1      0      0      0      1       0   1  1   0  \n",
      "1  五至六环  ...      0      1      0      0      0      1       0   1  1   0  \n",
      "2  五至六环  ...      0      1      0      0      0      1       0   1  1   0  \n",
      "3   六环外  ...      0      1      0      0      0      1       0   0  1   0  \n",
      "4   二环内  ...     72      0      1      0      0      1       0   0  1   0  \n",
      "\n",
      "[5 rows x 86 columns]\n",
      "数据维度：(34017, 86)\n"
     ]
    }
   ],
   "source": [
    "# 检查缺失值\n",
    "target_column = \"建筑结构_comm\"\n",
    "print(df[target_column].isnull().sum())\n",
    "# 填充缺失值为空字符串\n",
    "df[target_column] = df[target_column].fillna('')\n",
    "# 应用提取函数并创建新列\n",
    "df[['塔楼', '板楼', '平房']] = df[target_column].apply(\n",
    "    lambda x: pd.Series(extract_structure_comm(x))\n",
    ")\n",
    "\n",
    "print(df.columns)\n",
    "print(df.head())\n",
    "print(f\"数据维度：{df.shape}\")"
   ]
  },
  {
   "cell_type": "code",
   "execution_count": 98,
   "id": "fadce1c4-9ea7-4f7d-bd33-a82f287f7e39",
   "metadata": {},
   "outputs": [
    {
     "name": "stdout",
     "output_type": "stream",
     "text": [
      "数据维度：(34017, 85)\n"
     ]
    }
   ],
   "source": [
    "df = df.drop(\"建筑结构_comm\", axis=1)\n",
    "print(f\"数据维度：{df.shape}\")"
   ]
  },
  {
   "cell_type": "code",
   "execution_count": null,
   "id": "b39b07e2-9d94-4a55-9614-e0dd0af5287d",
   "metadata": {},
   "outputs": [],
   "source": []
  },
  {
   "cell_type": "code",
   "execution_count": 99,
   "id": "20e0f658-86fc-46b5-a467-bd92e795d1d4",
   "metadata": {},
   "outputs": [],
   "source": [
    "df = df.drop(\"物业类别\", axis=1)\n",
    "df = df.drop(\"产权描述\", axis=1)"
   ]
  },
  {
   "cell_type": "code",
   "execution_count": 100,
   "id": "bdb17058-5263-47d4-b1db-1ebeabee87b3",
   "metadata": {},
   "outputs": [],
   "source": [
    "df = df.drop(\"开发商\", axis=1)\n",
    "df = df.drop(\"物业公司\", axis=1)\n",
    "df = df.drop(\"物业办公电话\", axis=1)"
   ]
  },
  {
   "cell_type": "code",
   "execution_count": 101,
   "id": "3efd5d67-8876-44e0-961d-f9a8536cca25",
   "metadata": {},
   "outputs": [],
   "source": [
    "df = df.drop(\"环线位置\", axis=1)"
   ]
  },
  {
   "cell_type": "code",
   "execution_count": null,
   "id": "cd278973-2b87-44a0-8285-4616f18d700d",
   "metadata": {},
   "outputs": [],
   "source": []
  },
  {
   "cell_type": "code",
   "execution_count": 102,
   "id": "4edbd567-4ae2-4063-9a7f-08355ada6b0e",
   "metadata": {},
   "outputs": [],
   "source": [
    "df.to_csv(f\"结构化数据_{data_batch}_{data_target}.csv\", index=False)"
   ]
  },
  {
   "cell_type": "code",
   "execution_count": null,
   "id": "34dbcb67-fb93-4940-95cf-87e051d0e7b8",
   "metadata": {},
   "outputs": [],
   "source": []
  },
  {
   "cell_type": "code",
   "execution_count": null,
   "id": "a3f2d077-fbf6-4f4d-938f-482b8068fb03",
   "metadata": {},
   "outputs": [],
   "source": []
  }
 ],
 "metadata": {
  "kernelspec": {
   "display_name": "myconda",
   "language": "python",
   "name": "myconda"
  },
  "language_info": {
   "codemirror_mode": {
    "name": "ipython",
    "version": 3
   },
   "file_extension": ".py",
   "mimetype": "text/x-python",
   "name": "python",
   "nbconvert_exporter": "python",
   "pygments_lexer": "ipython3",
   "version": "3.8.12"
  }
 },
 "nbformat": 4,
 "nbformat_minor": 5
}
