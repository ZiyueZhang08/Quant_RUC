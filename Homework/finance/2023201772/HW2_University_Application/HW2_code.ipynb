{
 "cells": [
  {
   "cell_type": "code",
   "execution_count": 9,
   "id": "6a861a10-9df1-40dd-88da-3ee73e3287e4",
   "metadata": {},
   "outputs": [
    {
     "name": "stdout",
     "output_type": "stream",
     "text": [
      "Requirement already satisfied: docxtpl in d:\\software\\anaconda\\lib\\site-packages (0.20.1)\n",
      "Requirement already satisfied: python-docx>=1.1.1 in d:\\software\\anaconda\\lib\\site-packages (from docxtpl) (1.2.0)\n",
      "Requirement already satisfied: docxcompose in d:\\software\\anaconda\\lib\\site-packages (from docxtpl) (1.4.0)\n",
      "Requirement already satisfied: jinja2 in d:\\software\\anaconda\\lib\\site-packages (from docxtpl) (3.1.4)\n",
      "Requirement already satisfied: lxml in d:\\software\\anaconda\\lib\\site-packages (from docxtpl) (5.2.1)\n",
      "Requirement already satisfied: typing_extensions>=4.9.0 in d:\\software\\anaconda\\lib\\site-packages (from python-docx>=1.1.1->docxtpl) (4.11.0)\n",
      "Requirement already satisfied: setuptools in d:\\software\\anaconda\\lib\\site-packages (from docxcompose->docxtpl) (69.5.1)\n",
      "Requirement already satisfied: six in d:\\software\\anaconda\\lib\\site-packages (from docxcompose->docxtpl) (1.16.0)\n",
      "Requirement already satisfied: babel in d:\\software\\anaconda\\lib\\site-packages (from docxcompose->docxtpl) (2.11.0)\n",
      "Requirement already satisfied: MarkupSafe>=2.0 in d:\\software\\anaconda\\lib\\site-packages (from jinja2->docxtpl) (2.1.3)\n",
      "Requirement already satisfied: pytz>=2015.7 in d:\\software\\anaconda\\lib\\site-packages (from babel->docxcompose->docxtpl) (2024.1)\n",
      "Note: you may need to restart the kernel to use updated packages.\n"
     ]
    }
   ],
   "source": [
    "pip install docxtpl"
   ]
  },
  {
   "cell_type": "code",
   "execution_count": 10,
   "id": "1057be86-7de7-4314-a1f2-f334c61dd7a3",
   "metadata": {},
   "outputs": [
    {
     "name": "stdout",
     "output_type": "stream",
     "text": [
      "Requirement already satisfied: docx2pdf in d:\\software\\anaconda\\lib\\site-packages (0.1.8)\n",
      "Requirement already satisfied: pywin32>=227 in d:\\software\\anaconda\\lib\\site-packages (from docx2pdf) (305.1)\n",
      "Requirement already satisfied: tqdm>=4.41.0 in d:\\software\\anaconda\\lib\\site-packages (from docx2pdf) (4.66.4)\n",
      "Requirement already satisfied: colorama in d:\\software\\anaconda\\lib\\site-packages (from tqdm>=4.41.0->docx2pdf) (0.4.6)\n",
      "Note: you may need to restart the kernel to use updated packages.\n"
     ]
    }
   ],
   "source": [
    "pip install docx2pdf"
   ]
  },
  {
   "cell_type": "code",
   "execution_count": 13,
   "id": "f094d307-1172-43f6-bbd1-630060a29168",
   "metadata": {},
   "outputs": [
    {
     "name": "stdout",
     "output_type": "stream",
     "text": [
      "Requirement already satisfied: pandas in d:\\software\\anaconda\\lib\\site-packages (2.2.2)\n",
      "Requirement already satisfied: numpy>=1.26.0 in d:\\software\\anaconda\\lib\\site-packages (from pandas) (1.26.4)\n",
      "Requirement already satisfied: python-dateutil>=2.8.2 in d:\\software\\anaconda\\lib\\site-packages (from pandas) (2.9.0.post0)\n",
      "Requirement already satisfied: pytz>=2020.1 in d:\\software\\anaconda\\lib\\site-packages (from pandas) (2024.1)\n",
      "Requirement already satisfied: tzdata>=2022.7 in d:\\software\\anaconda\\lib\\site-packages (from pandas) (2023.3)\n",
      "Requirement already satisfied: six>=1.5 in d:\\software\\anaconda\\lib\\site-packages (from python-dateutil>=2.8.2->pandas) (1.16.0)\n",
      "Note: you may need to restart the kernel to use updated packages.\n"
     ]
    }
   ],
   "source": [
    "pip install pandas"
   ]
  },
  {
   "cell_type": "code",
   "execution_count": 17,
   "id": "dc660952-631d-4884-ab68-57670483b60c",
   "metadata": {},
   "outputs": [],
   "source": [
    "import pandas\n",
    "from docxtpl import DocxTemplate\n",
    "from docx2pdf import convert\n",
    "import time\n",
    "import os"
   ]
  },
  {
   "cell_type": "code",
   "execution_count": 57,
   "id": "978462f7-d8b5-4bb6-8145-227cc4623bc6",
   "metadata": {},
   "outputs": [],
   "source": [
    "template_word_file = \"word_template.docx\"\n",
    "university_file = \"university.xlsx\"\n",
    "area_file = \"areas.xlsx\"\n",
    "output_dir = \"Output\""
   ]
  },
  {
   "cell_type": "code",
   "execution_count": 59,
   "id": "f36ece63-fa15-4d74-8e5e-516f6abc2bf2",
   "metadata": {},
   "outputs": [
    {
     "name": "stdout",
     "output_type": "stream",
     "text": [
      "<bound method NDFrame.head of   Research_Area                     Journal_1  \\\n",
      "0    Accounting             Accounting Review   \n",
      "1     Economics  Journal of Political Economy   \n",
      "2       Finance            Journal of Finance   \n",
      "\n",
      "                               Journal_2                            Journal_3  \\\n",
      "0  Accounting, Organizations and Society  Journal of Accounting and Economics   \n",
      "1                           Econometrica           Review of Economic Studies   \n",
      "2         Journal of Financial Economics          Review of Financial Studies   \n",
      "\n",
      "       Desirable_Career                                           Skill  \n",
      "0    Accounting Manager  Excel, Financial forecasting,Variance analysis  \n",
      "1             Economist                Stata, SAS, statistical modeling  \n",
      "2  Quantitative Analyst                   Python, SQL, machine learning  >\n"
     ]
    }
   ],
   "source": [
    "df_university = pandas.read_excel(university_file)\n",
    "df_area = pandas.read_excel(area_file)\n",
    "print(df_area.head)"
   ]
  },
  {
   "cell_type": "code",
   "execution_count": 61,
   "id": "5e26fd4a-ec23-4843-a9c1-f4b640cf69f8",
   "metadata": {},
   "outputs": [],
   "source": [
    "list_university= df_university['University_Name']"
   ]
  },
  {
   "cell_type": "code",
   "execution_count": null,
   "id": "8fefe0c1-210f-45a1-b8c9-377e95370f97",
   "metadata": {},
   "outputs": [
    {
     "data": {
      "application/vnd.jupyter.widget-view+json": {
       "model_id": "4a8a3f7bd0784f05b77282d7385ca9ed",
       "version_major": 2,
       "version_minor": 0
      },
      "text/plain": [
       "  0%|          | 0/1 [00:00<?, ?it/s]"
      ]
     },
     "metadata": {},
     "output_type": "display_data"
    },
    {
     "data": {
      "application/vnd.jupyter.widget-view+json": {
       "model_id": "36025d631f664ffc97ef2ad1201dde66",
       "version_major": 2,
       "version_minor": 0
      },
      "text/plain": [
       "  0%|          | 0/1 [00:00<?, ?it/s]"
      ]
     },
     "metadata": {},
     "output_type": "display_data"
    },
    {
     "data": {
      "application/vnd.jupyter.widget-view+json": {
       "model_id": "759470ead9d840b5853dbad9f5d7c3c9",
       "version_major": 2,
       "version_minor": 0
      },
      "text/plain": [
       "  0%|          | 0/1 [00:00<?, ?it/s]"
      ]
     },
     "metadata": {},
     "output_type": "display_data"
    }
   ],
   "source": [
    "for university_name in list_university :\n",
    "    for i, area_row in df_area.iterrows() :\n",
    "        doc = DocxTemplate(template_word_file)\n",
    "        context = {\n",
    "            'university': university_name,\n",
    "            'research_area': area_row['Research_Area'],\n",
    "            'journal1': area_row['Journal_1'],\n",
    "            'journal2': area_row['Journal_2'],\n",
    "            'journal3': area_row['Journal_3'],\n",
    "            'job': area_row['Desirable_Career'],\n",
    "            'skills': area_row['Skill']\n",
    "        }\n",
    "        doc.render(context)\n",
    "        docx_filename = f\"{university_name.replace(' ', '_')}_{area_row['Research_Area']}_Application.docx\"\n",
    "        docx_path = os.path.join(output_dir, docx_filename)\n",
    "        doc.save(docx_path)\n",
    "        pdf_path = docx_path.replace(\"docx\", \"pdf\")\n",
    "        convert(docx_path, pdf_path)\n",
    "        "
   ]
  },
  {
   "cell_type": "code",
   "execution_count": null,
   "id": "3c0cfcc9-52ed-4dd7-9749-9c6a0359b69c",
   "metadata": {},
   "outputs": [],
   "source": []
  }
 ],
 "metadata": {
  "kernelspec": {
   "display_name": "Python 3 (ipykernel)",
   "language": "python",
   "name": "python3"
  },
  "language_info": {
   "codemirror_mode": {
    "name": "ipython",
    "version": 3
   },
   "file_extension": ".py",
   "mimetype": "text/x-python",
   "name": "python",
   "nbconvert_exporter": "python",
   "pygments_lexer": "ipython3",
   "version": "3.12.4"
  }
 },
 "nbformat": 4,
 "nbformat_minor": 5
}
