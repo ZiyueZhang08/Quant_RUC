{
 "cells": [
  {
   "cell_type": "code",
   "execution_count": 7,
   "id": "5f2a989f-6d12-476d-bc02-689fda633a3f",
   "metadata": {},
   "outputs": [
    {
     "name": "stdout",
     "output_type": "stream",
     "text": [
      "Requirement already satisfied: docx2pdf in d:\\anacondaexe\\lib\\site-packages (0.1.8)\n",
      "Requirement already satisfied: pywin32>=227 in d:\\anacondaexe\\lib\\site-packages (from docx2pdf) (305.1)\n",
      "Requirement already satisfied: tqdm>=4.41.0 in d:\\anacondaexe\\lib\\site-packages (from docx2pdf) (4.66.4)\n",
      "Requirement already satisfied: colorama in d:\\anacondaexe\\lib\\site-packages (from tqdm>=4.41.0->docx2pdf) (0.4.6)\n"
     ]
    }
   ],
   "source": [
    "!pip install docx2pdf"
   ]
  },
  {
   "cell_type": "code",
   "execution_count": 9,
   "id": "0f9f2520-5125-4889-9f7f-a69b8c709902",
   "metadata": {},
   "outputs": [
    {
     "name": "stdout",
     "output_type": "stream",
     "text": [
      "Collecting docxtpl\n",
      "  Downloading docxtpl-0.20.1-py3-none-any.whl.metadata (9.4 kB)\n",
      "Collecting python-docx>=1.1.1 (from docxtpl)\n",
      "  Downloading python_docx-1.2.0-py3-none-any.whl.metadata (2.0 kB)\n",
      "Collecting docxcompose (from docxtpl)\n",
      "  Downloading docxcompose-1.4.0.tar.gz (20 kB)\n",
      "  Preparing metadata (setup.py): started\n",
      "  Preparing metadata (setup.py): finished with status 'done'\n",
      "Requirement already satisfied: jinja2 in d:\\anacondaexe\\lib\\site-packages (from docxtpl) (3.1.4)\n",
      "Requirement already satisfied: lxml in d:\\anacondaexe\\lib\\site-packages (from docxtpl) (4.9.4)\n",
      "Requirement already satisfied: typing_extensions>=4.9.0 in d:\\anacondaexe\\lib\\site-packages (from python-docx>=1.1.1->docxtpl) (4.11.0)\n",
      "Requirement already satisfied: setuptools in d:\\anacondaexe\\lib\\site-packages (from docxcompose->docxtpl) (69.5.1)\n",
      "Requirement already satisfied: six in d:\\anacondaexe\\lib\\site-packages (from docxcompose->docxtpl) (1.16.0)\n",
      "Requirement already satisfied: babel in d:\\anacondaexe\\lib\\site-packages (from docxcompose->docxtpl) (2.11.0)\n",
      "Requirement already satisfied: MarkupSafe>=2.0 in d:\\anacondaexe\\lib\\site-packages (from jinja2->docxtpl) (2.1.3)\n",
      "Requirement already satisfied: pytz>=2015.7 in d:\\anacondaexe\\lib\\site-packages (from babel->docxcompose->docxtpl) (2025.2)\n",
      "Downloading docxtpl-0.20.1-py3-none-any.whl (20 kB)\n",
      "Downloading python_docx-1.2.0-py3-none-any.whl (252 kB)\n",
      "   ---------------------------------------- 0.0/253.0 kB ? eta -:--:--\n",
      "   ------ --------------------------------- 41.0/253.0 kB 2.0 MB/s eta 0:00:01\n",
      "   ----------------- ---------------------- 112.6/253.0 kB 1.7 MB/s eta 0:00:01\n",
      "   -------------------------------------- - 245.8/253.0 kB 2.2 MB/s eta 0:00:01\n",
      "   ---------------------------------------- 253.0/253.0 kB 1.9 MB/s eta 0:00:00\n",
      "Building wheels for collected packages: docxcompose\n",
      "  Building wheel for docxcompose (setup.py): started\n",
      "  Building wheel for docxcompose (setup.py): finished with status 'done'\n",
      "  Created wheel for docxcompose: filename=docxcompose-1.4.0-py3-none-any.whl size=23300 sha256=b4f83ac88236432fcf5defd0a1dbd56c87e7b680257228186f430e5d6a16207c\n",
      "  Stored in directory: c:\\users\\rh\\appdata\\local\\pip\\cache\\wheels\\d4\\41\\77\\fea002cfe3f6bf960d7be78eb8feb1147bc6a862021c627c34\n",
      "Successfully built docxcompose\n",
      "Installing collected packages: python-docx, docxcompose, docxtpl\n",
      "Successfully installed docxcompose-1.4.0 docxtpl-0.20.1 python-docx-1.2.0\n"
     ]
    }
   ],
   "source": [
    "!pip install docxtpl"
   ]
  },
  {
   "cell_type": "code",
   "execution_count": 13,
   "id": "6837824e-43ba-4e4c-b1f8-97bc65aaa61e",
   "metadata": {},
   "outputs": [],
   "source": [
    "import pandas as pd\n",
    "from docxtpl import DocxTemplate\n",
    "import os\n",
    "from docx2pdf import convert"
   ]
  },
  {
   "cell_type": "code",
   "execution_count": 21,
   "id": "8faa44c3-9fbd-46f8-8649-3da2e8c0f7a5",
   "metadata": {},
   "outputs": [
    {
     "name": "stdout",
     "output_type": "stream",
     "text": [
      "Excel文件读取成功。\n",
      "Word模板 'sop_template.docx' 加载成功。\n"
     ]
    }
   ],
   "source": [
    "#1.基本信息和文件路径\n",
    "MY_NAME = \"Ruohan Zhao\"\n",
    "TEMPLATE_FILE = \"sop_template.docx\"\n",
    "DATA_FILE = \"application_data.xlsx\"\n",
    "OUTPUT_DIR = \"D:/ai finance/hw2/HW_School_Application\"\n",
    "\n",
    "#2.创建输出文件夹\n",
    "if not os.path.exists(OUTPUT_DIR):\n",
    "    os.makedirs(OUTPUT_DIR)\n",
    "    print(f\"文件夹 '{OUTPUT_DIR}' 已创建。\")\n",
    "\n",
    "#3.Pandas读取Excel数据\n",
    "try:\n",
    "    # 读取大学列表\n",
    "    df_unis = pd.read_excel(DATA_FILE, sheet_name=\"Universities\")\n",
    "    # 读取研究方向和相关信息\n",
    "    df_interests = pd.read_excel(DATA_FILE, sheet_name=\"ResearchInterests\")\n",
    "    print(\"Excel文件读取成功。\")\n",
    "except FileNotFoundError:\n",
    "    print(f\"错误：无法找到 '{DATA_FILE}'。请确保文件名正确且文件与脚本在同一目录下。\")\n",
    "    exit()\n",
    "except Exception as e:\n",
    "    print(f\"读取Excel文件时发生错误: {e}\")\n",
    "    exit()\n",
    "\n",
    "#4.读取Word模板\n",
    "try:\n",
    "    doc = DocxTemplate(TEMPLATE_FILE)\n",
    "    print(f\"Word模板 '{TEMPLATE_FILE}' 加载成功。\")\n",
    "except Exception as e:\n",
    "    print(f\"加载Word模板时发生错误: {e}\")\n",
    "    exit()"
   ]
  },
  {
   "cell_type": "code",
   "execution_count": 23,
   "id": "2cb97065-d7f2-408b-b5e7-4b507f58ecfc",
   "metadata": {},
   "outputs": [
    {
     "name": "stdout",
     "output_type": "stream",
     "text": [
      "\n",
      "--- 处理完成 ---\n",
      "总共生成了 90 份Word文档。\n",
      "所有文件已保存在 'D:/ai finance/hw2/HW_School_Application' 文件夹中。\n"
     ]
    }
   ],
   "source": [
    "#循环生成文档\n",
    "total_files = 0\n",
    "# 外层循环：遍历每一所大学\n",
    "for index, uni_row in df_unis.iterrows():\n",
    "    university_name = uni_row[\"UniversityName\"]\n",
    "\n",
    "    # 内层循环：遍历每一个研究方向\n",
    "    for index, interest_row in df_interests.iterrows():\n",
    "        research_area = interest_row[\"ResearchArea\"]\n",
    "        program_name = interest_row[\"ProgramName\"]\n",
    "        journal_1 = interest_row[\"Journal1\"]\n",
    "        journal_2 = interest_row[\"Journal2\"]\n",
    "        journal_3 = interest_row[\"Journal3\"]\n",
    "        career_goal = interest_row[\"CareerGoal\"]\n",
    "        skill_1 = interest_row[\"Skill1\"]\n",
    "        skill_2 = interest_row[\"Skill2\"]\n",
    "        skill_3 = interest_row[\"Skill3\"]\n",
    "\n",
    "        # 创建一个“上下文”字典，用于填充模板\n",
    "        # 字典的键 (key) 与模板中的占位符 {{...}} 完全匹配\n",
    "        context = {\n",
    "            'my_name': MY_NAME,\n",
    "            'program_name': program_name,\n",
    "            'university_name': university_name,\n",
    "            'research_area': research_area,\n",
    "            'journal_1': journal_1,\n",
    "            'journal_2': journal_2,\n",
    "            'journal_3': journal_3,\n",
    "            'career_goal': career_goal,\n",
    "            'skill_1': skill_1,\n",
    "            'skill_2': skill_2,\n",
    "            'skill_3': skill_3,\n",
    "        }\n",
    "\n",
    "        # 将占位符替换为context中的值\n",
    "        doc.render(context)\n",
    "\n",
    "        # 生成新的Word文件名，并保存在输出文件夹中\n",
    "        # 格式为SOP_Harvard_University_Finance.docx\n",
    "        safe_uni_name = university_name.replace(\" \", \"_\").replace(\"(\", \"\").replace(\")\", \"\")\n",
    "        output_filename_docx = os.path.join(OUTPUT_DIR, f\"SOP_{safe_uni_name}_{research_area}.docx\")\n",
    "        doc.save(output_filename_docx)\n",
    "        \n",
    "        total_files += 1\n",
    "\n",
    "print(f\"\\n--- 处理完成 ---\")\n",
    "print(f\"总共生成了 {total_files} 份Word文档。\")\n",
    "print(f\"所有文件已保存在 '{OUTPUT_DIR}' 文件夹中。\")\n"
   ]
  },
  {
   "cell_type": "code",
   "execution_count": 25,
   "id": "aabfd794-b83f-4c4c-9550-d2b12c80d769",
   "metadata": {},
   "outputs": [
    {
     "name": "stdout",
     "output_type": "stream",
     "text": [
      "\n",
      "开始将Word文件转换为PDF...\n"
     ]
    },
    {
     "data": {
      "application/vnd.jupyter.widget-view+json": {
       "model_id": "7080e4e4766a4b7cafeb795ca3a70a85",
       "version_major": 2,
       "version_minor": 0
      },
      "text/plain": [
       "  0%|          | 0/90 [00:00<?, ?it/s]"
      ]
     },
     "metadata": {},
     "output_type": "display_data"
    },
    {
     "name": "stdout",
     "output_type": "stream",
     "text": [
      "所有Word文件已成功转换为PDF。\n"
     ]
    }
   ],
   "source": [
    "# Word转PDF\n",
    "try:\n",
    "    print(\"\\n开始将Word文件转换为PDF...\")\n",
    "    convert(OUTPUT_DIR)\n",
    "    print(\"所有Word文件已成功转换为PDF。\")\n",
    "except NameError:\n",
    "    print(\"\\nPDF转换被跳过。\")\n",
    "except Exception as e:\n",
    "    print(f\"\\n转换PDF时发生错误: {e}\")"
   ]
  },
  {
   "cell_type": "code",
   "execution_count": null,
   "id": "8c82981b-a867-411c-a5ae-f0de8984ea0e",
   "metadata": {},
   "outputs": [],
   "source": []
  }
 ],
 "metadata": {
  "kernelspec": {
   "display_name": "Python 3 (ipykernel)",
   "language": "python",
   "name": "python3"
  },
  "language_info": {
   "codemirror_mode": {
    "name": "ipython",
    "version": 3
   },
   "file_extension": ".py",
   "mimetype": "text/x-python",
   "name": "python",
   "nbconvert_exporter": "python",
   "pygments_lexer": "ipython3",
   "version": "3.12.4"
  }
 },
 "nbformat": 4,
 "nbformat_minor": 5
}
