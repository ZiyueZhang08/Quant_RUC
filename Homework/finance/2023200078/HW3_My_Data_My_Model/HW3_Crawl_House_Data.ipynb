{
 "cells": [
  {
   "cell_type": "markdown",
   "metadata": {},
   "source": [
    "## 二手房"
   ]
  },
  {
   "cell_type": "code",
   "execution_count": 16,
   "metadata": {},
   "outputs": [],
   "source": [
    "import pandas as pd\n",
    "import time\n",
    "import re\n",
    "from selenium import webdriver\n",
    "from selenium.webdriver.common.by import By\n",
    "from selenium.webdriver.support.ui import WebDriverWait\n",
    "from selenium.webdriver.support import expected_conditions as EC\n",
    "from selenium.common.exceptions import NoSuchElementException, TimeoutException\n",
    "\n",
    "#  初始化 WebDriver \n",
    "from selenium.webdriver.chrome.service import Service\n",
    "from webdriver_manager.chrome import ChromeDriverManager\n",
    "\n",
    "driver = webdriver.Chrome()\n",
    "url1='https://zhangjiakou.esf.fang.com/house-a014962/' #桥西\n",
    "#url1 = 'https://zhangjiakou.esf.fang.com/house-a011434/' #怀来\n",
    "#url1='https://zhangjiakou.esf.fang.com/house-a014963/' #下花园\n",
    "#url1='https://zhangjiakou.esf.fang.com/house-a011426/' #张北\n",
    "driver.get(url1)"
   ]
  },
  {
   "cell_type": "code",
   "execution_count": 17,
   "metadata": {},
   "outputs": [
    {
     "name": "stdout",
     "output_type": "stream",
     "text": [
      " 开始抓取第 1 页数据 \n",
      "第 1 页抓取完成，本页60 条，累计 60 条房源。\n",
      " 开始抓取第 2 页数据 \n",
      "第 2 页抓取完成，本页60 条，累计 120 条房源。\n",
      " 开始抓取第 3 页数据 \n",
      "发现一个结构不同的条目（可能是广告），已跳过。\n",
      "发现一个结构不同的条目（可能是广告），已跳过。\n",
      "发现一个结构不同的条目（可能是广告），已跳过。\n",
      "第 3 页抓取完成，本页49 条，累计 166 条房源。\n",
      "\n",
      "未找到“下一页”按钮，所有页面抓取完毕！\n"
     ]
    }
   ],
   "source": [
    "# 存储所有二手房房源的字典 \n",
    "all_esf_data = []\n",
    "all_pages = 20\n",
    "\n",
    "# 开始循环翻页与数据抓取 \n",
    "page_num = 1\n",
    "while page_num <= all_pages:\n",
    "    try:\n",
    "        print(f\" 开始抓取第 {page_num} 页数据 \")\n",
    "        wait = WebDriverWait(driver, 10)\n",
    "        wait.until(EC.presence_of_element_located((By.XPATH, \"//div[contains(@class, 'shop_list')]/dl\")))\n",
    "        \n",
    "        # 获取当前页面所有的房源元素 <dl>\n",
    "        house_list = driver.find_elements(By.XPATH, \"//div[contains(@class, 'shop_list')]/dl\")\n",
    "\n",
    "        # 遍历\n",
    "        for house in house_list:\n",
    "            try:                              \n",
    "                # 提取总价\n",
    "                price_element = house.find_element(By.XPATH, \".//dd[@class='price_right']//span[@class='red']/b\").text\n",
    "                total_price_text = f\"{price_element}\"\n",
    "                total_price = float(total_price_text)\n",
    "                # 提取面积\n",
    "                p_tel_shop = house.find_element(By.XPATH, \".//p[@class='tel_shop']\").text\n",
    "                # 正则表达式\n",
    "                area_match = re.search(r'(\\d+\\.?\\d*)㎡', p_tel_shop)\n",
    "                area = float(area_match.group(1)) if area_match else None\n",
    "                # 提取均价\n",
    "                unit_price_text = house.find_element(By.XPATH, \".//dd[@class='price_right']/span[2]\").text\n",
    "                unit_price = int(unit_price_text.replace('元/㎡', ''))\n",
    "\n",
    "                listing_info = {\n",
    "                    '面积(㎡)': area,\n",
    "                    '总价(万)': total_price,\n",
    "                     '均价(元/㎡)': unit_price\n",
    "                }\n",
    "                \n",
    "                # 追加到总列表\n",
    "                all_esf_data.append(listing_info)\n",
    "\n",
    "            except (NoSuchElementException, AttributeError):\n",
    "                print(\"发现一个结构不同的条目（可能是广告），已跳过。\")\n",
    "                continue\n",
    "        \n",
    "        print(f\"第 {page_num} 页抓取完成，本页{len(house_list)} 条，累计 {len(all_esf_data)} 条房源。\")\n",
    "\n",
    "        # 下一页 \n",
    "        next_page_button = driver.find_element(By.LINK_TEXT, '下一页')\n",
    "        next_page_button.click()\n",
    "        \n",
    "        page_num += 1\n",
    "        time.sleep(2) \n",
    "\n",
    "    except TimeoutException:\n",
    "        print(\"\\n页面加载超时，爬虫任务终止。\")\n",
    "        break\n",
    "    except NoSuchElementException:\n",
    "        print(\"\\n未找到“下一页”按钮，所有页面抓取完毕！\")\n",
    "        break\n"
   ]
  },
  {
   "cell_type": "code",
   "execution_count": 18,
   "metadata": {},
   "outputs": [
    {
     "name": "stdout",
     "output_type": "stream",
     "text": [
      "\n",
      "数据已成功保存到文件: hebei_esf_zhangbei_data.xlsx\n",
      "    面积(㎡)  总价(万)  均价(元/㎡)\n",
      "0   90.65   43.0     4744\n",
      "1   95.28   45.0     4723\n",
      "2  109.00   28.0     2569\n",
      "3  120.00   48.0     4000\n",
      "4   79.00   27.0     3418\n"
     ]
    }
   ],
   "source": [
    "\n",
    "driver.quit()\n",
    "#保存到 Excel \n",
    "if all_esf_data:\n",
    "    df = pd.DataFrame(all_esf_data)\n",
    "    #output_filename = 'hebei_esf_qiaoxi_data.xlsx'\n",
    "    #output_filename = 'hebei_esf_huailai_data.xlsx'\n",
    "    #output_filename = 'hebei_esf_xiahuayuan_data.xlsx'\n",
    "    output_filename = 'hebei_esf_zhangbei_data.xlsx'\n",
    "    df.to_excel(output_filename, index=False)\n",
    "    \n",
    "    print(f\"\\n数据已成功保存到文件: {output_filename}\")\n",
    "    print(df.head())\n",
    "else:\n",
    "    print(\"\\n未能抓取到任何数据。\")"
   ]
  },
  {
   "cell_type": "markdown",
   "metadata": {},
   "source": [
    "## 租房"
   ]
  },
  {
   "cell_type": "code",
   "execution_count": 19,
   "metadata": {},
   "outputs": [],
   "source": [
    "import pandas as pd\n",
    "import time\n",
    "import re\n",
    "from selenium import webdriver\n",
    "from selenium.webdriver.common.by import By\n",
    "from selenium.webdriver.support.ui import WebDriverWait\n",
    "from selenium.webdriver.support import expected_conditions as EC\n",
    "from selenium.common.exceptions import NoSuchElementException, TimeoutException\n",
    "\n",
    "# 初始化 WebDriver\n",
    "from selenium.webdriver.chrome.service import Service\n",
    "from webdriver_manager.chrome import ChromeDriverManager\n",
    "\n",
    "driver = webdriver.Chrome()\n",
    "url2 = 'https://zhangjiakou.zu.fang.com/house-a014962/'#桥西\n",
    "#url2 = 'https://zhangjiakou.zu.fang.com/house-a011434/' #怀来\n",
    "#url2 = 'https://zhangjiakou.zu.fang.com/house-a014963/' #下花园\n",
    "#url2 = 'https://zhangjiakou.zu.fang.com/house-a011426/' #张北\n",
    "\n",
    "driver.get(url2)\n"
   ]
  },
  {
   "cell_type": "code",
   "execution_count": 20,
   "metadata": {},
   "outputs": [
    {
     "name": "stdout",
     "output_type": "stream",
     "text": [
      "开始抓取第 1 页数据\n",
      "第 1 页抓取完成，本页 60 条，累计 60 条房源。\n",
      "开始抓取第 2 页数据\n",
      "第 2 页抓取完成，本页 15 条，累计 75 条房源。\n",
      "\n",
      "未找到“下一页”按钮，所有页面抓取完毕！\n"
     ]
    }
   ],
   "source": [
    "#所有租房房源的字典\n",
    "all_rent_data = []\n",
    "all_pages = 20  \n",
    "\n",
    "# 循环翻页\n",
    "page_num = 1\n",
    "while page_num <= all_pages:\n",
    "    try:\n",
    "        print(f\"开始抓取第 {page_num} 页数据\")\n",
    "        wait = WebDriverWait(driver, 10)\n",
    "        wait.until(EC.presence_of_element_located((By.XPATH, \"//div[@class='houseList']/dl\")))\n",
    "        \n",
    "        # 获取当前页面所有的房源元素 <dl>\n",
    "        house_list = driver.find_elements(By.XPATH, \"//div[@class='houseList']/dl\")\n",
    "\n",
    "        # 遍历\n",
    "        for house in house_list:\n",
    "            try:\n",
    "                rent_price_text = house.find_element(By.XPATH, \".//span[@class='price']\").text\n",
    "                rent_price = int(rent_price_text)\n",
    "\n",
    "                p_info_text = house.find_element(By.XPATH, \".//p[contains(@class, 'font15')]\").text\n",
    "                # 正则表达式\n",
    "                area_match = re.search(r'(\\d+\\.?\\d*)㎡', p_info_text)\n",
    "                area = float(area_match.group(1)) if area_match else None\n",
    "\n",
    "                listing_info = {\n",
    "                    '面积(㎡)': area,\n",
    "                    '租金(元/月)': rent_price\n",
    "                }\n",
    "                \n",
    "                # 追加到总列表中\n",
    "                all_rent_data.append(listing_info)\n",
    "\n",
    "            except (NoSuchElementException, AttributeError, ValueError):\n",
    "                print(\"发现一个结构不同的条目（可能是广告或已下架），已跳过。\")\n",
    "                continue\n",
    "        \n",
    "        print(f\"第 {page_num} 页抓取完成，本页 {len(house_list)} 条，累计 {len(all_rent_data)} 条房源。\")\n",
    "\n",
    "        # 下一页\n",
    "        next_page_button = driver.find_element(By.LINK_TEXT, '下一页')\n",
    "        next_page_button.click()\n",
    "        \n",
    "        page_num += 1\n",
    "        time.sleep(2)  \n",
    "\n",
    "    except TimeoutException:\n",
    "        print(\"\\n页面加载超时，爬虫任务终止。\")\n",
    "        break\n",
    "    except NoSuchElementException:\n",
    "        print(\"\\n未找到“下一页”按钮，所有页面抓取完毕！\")\n",
    "        break\n"
   ]
  },
  {
   "cell_type": "code",
   "execution_count": 21,
   "metadata": {},
   "outputs": [
    {
     "name": "stdout",
     "output_type": "stream",
     "text": [
      "\n",
      "数据已成功保存到文件: hebei_zu_zhangbei_data.xlsx\n",
      "   面积(㎡)  租金(元/月)\n",
      "0   93.0     1100\n",
      "1   93.0     1100\n",
      "2   96.0     1000\n",
      "3   73.0     1000\n",
      "4   86.0     1083\n"
     ]
    }
   ],
   "source": [
    "driver.quit()\n",
    "\n",
    "if all_rent_data:\n",
    "    df = pd.DataFrame(all_rent_data)\n",
    "    \n",
    "    #output_filename = 'hebei_zu_qiaoxi_data.xlsx'\n",
    "    #output_filename = 'hebei_zu_huailai_data.xlsx'\n",
    "    output_filename = 'hebei_zu_zhangbei_data.xlsx'\n",
    "\n",
    "    df.to_excel(output_filename, index=False)\n",
    "    \n",
    "    print(f\"\\n数据已成功保存到文件: {output_filename}\")\n",
    "    print(df.head())\n",
    "else:\n",
    "    print(\"\\n未能抓取到任何数据。\")"
   ]
  }
 ],
 "metadata": {
  "kernelspec": {
   "display_name": "base",
   "language": "python",
   "name": "python3"
  },
  "language_info": {
   "codemirror_mode": {
    "name": "ipython",
    "version": 3
   },
   "file_extension": ".py",
   "mimetype": "text/x-python",
   "name": "python",
   "nbconvert_exporter": "python",
   "pygments_lexer": "ipython3",
   "version": "3.13.5"
  }
 },
 "nbformat": 4,
 "nbformat_minor": 2
}
