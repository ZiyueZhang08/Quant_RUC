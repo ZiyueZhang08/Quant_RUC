{
 "cells": [
  {
   "cell_type": "code",
   "execution_count": 1,
   "id": "23015724-dc0f-4bbd-bc9a-ae6db8500cf9",
   "metadata": {},
   "outputs": [],
   "source": [
    "import pandas as pd\n",
    "from docxtpl import DocxTemplate\n",
    "from docx2pdf import convert\n",
    "import os"
   ]
  },
  {
   "cell_type": "code",
   "execution_count": 2,
   "id": "96de6652-9f92-4d2d-9933-41a6ce8f1841",
   "metadata": {},
   "outputs": [
    {
     "name": "stdout",
     "output_type": "stream",
     "text": [
      "输出文件将保存到: D:/Year3/QuantEconomy/Homework/HW2_Grad_Application/SOP1\n"
     ]
    }
   ],
   "source": [
    "#创建输出目录\n",
    "output_dir = os.path.expanduser(\"D:/Year3/QuantEconomy/Homework/HW2_Grad_Application/SOP1\")\n",
    "os.makedirs(output_dir, exist_ok=True)\n",
    "print(f\"输出文件将保存到: {output_dir}\")"
   ]
  },
  {
   "cell_type": "code",
   "execution_count": 3,
   "id": "e6172b07-7382-488d-9da5-3bac5c059d27",
   "metadata": {},
   "outputs": [
    {
     "name": "stdout",
     "output_type": "stream",
     "text": [
      "已读取 30 所大学\n"
     ]
    }
   ],
   "source": [
    "#读取大学列表universities.xlsx\n",
    "universities_df = pd.read_excel(\"universities.xlsx\")\n",
    "print(f\"已读取 {len(universities_df)} 所大学\")"
   ]
  },
  {
   "cell_type": "code",
   "execution_count": 4,
   "id": "c05a85dd-eded-4663-b101-d7a5a3727946",
   "metadata": {},
   "outputs": [
    {
     "data": {
      "text/html": [
       "<div>\n",
       "<style scoped>\n",
       "    .dataframe tbody tr th:only-of-type {\n",
       "        vertical-align: middle;\n",
       "    }\n",
       "\n",
       "    .dataframe tbody tr th {\n",
       "        vertical-align: top;\n",
       "    }\n",
       "\n",
       "    .dataframe thead th {\n",
       "        text-align: right;\n",
       "    }\n",
       "</style>\n",
       "<table border=\"1\" class=\"dataframe\">\n",
       "  <thead>\n",
       "    <tr style=\"text-align: right;\">\n",
       "      <th></th>\n",
       "      <th>university_name</th>\n",
       "    </tr>\n",
       "  </thead>\n",
       "  <tbody>\n",
       "    <tr>\n",
       "      <th>0</th>\n",
       "      <td>Harvard University</td>\n",
       "    </tr>\n",
       "    <tr>\n",
       "      <th>1</th>\n",
       "      <td>Massachusetts Institute of Technology (MIT)</td>\n",
       "    </tr>\n",
       "    <tr>\n",
       "      <th>2</th>\n",
       "      <td>University of California-Berkeley</td>\n",
       "    </tr>\n",
       "    <tr>\n",
       "      <th>3</th>\n",
       "      <td>University of Chicago</td>\n",
       "    </tr>\n",
       "    <tr>\n",
       "      <th>4</th>\n",
       "      <td>Princeton University</td>\n",
       "    </tr>\n",
       "    <tr>\n",
       "      <th>5</th>\n",
       "      <td>Stanford University</td>\n",
       "    </tr>\n",
       "    <tr>\n",
       "      <th>6</th>\n",
       "      <td>Yale University</td>\n",
       "    </tr>\n",
       "    <tr>\n",
       "      <th>7</th>\n",
       "      <td>Oxford University</td>\n",
       "    </tr>\n",
       "    <tr>\n",
       "      <th>8</th>\n",
       "      <td>Columbia University</td>\n",
       "    </tr>\n",
       "    <tr>\n",
       "      <th>9</th>\n",
       "      <td>Brown University</td>\n",
       "    </tr>\n",
       "    <tr>\n",
       "      <th>10</th>\n",
       "      <td>Boston University</td>\n",
       "    </tr>\n",
       "    <tr>\n",
       "      <th>11</th>\n",
       "      <td>University College London (UCL)</td>\n",
       "    </tr>\n",
       "    <tr>\n",
       "      <th>12</th>\n",
       "      <td>University of California-San Diego (UCSD)</td>\n",
       "    </tr>\n",
       "    <tr>\n",
       "      <th>13</th>\n",
       "      <td>University of British Columbia</td>\n",
       "    </tr>\n",
       "    <tr>\n",
       "      <th>14</th>\n",
       "      <td>Dartmouth College</td>\n",
       "    </tr>\n",
       "    <tr>\n",
       "      <th>15</th>\n",
       "      <td>Paris School of Economics</td>\n",
       "    </tr>\n",
       "    <tr>\n",
       "      <th>16</th>\n",
       "      <td>Barcelona School of Economics (BSE)</td>\n",
       "    </tr>\n",
       "    <tr>\n",
       "      <th>17</th>\n",
       "      <td>New York University (NYU)</td>\n",
       "    </tr>\n",
       "    <tr>\n",
       "      <th>18</th>\n",
       "      <td>University of Pennsylvania</td>\n",
       "    </tr>\n",
       "    <tr>\n",
       "      <th>19</th>\n",
       "      <td>London School of Economics (LSE)</td>\n",
       "    </tr>\n",
       "    <tr>\n",
       "      <th>20</th>\n",
       "      <td>University of Michigan</td>\n",
       "    </tr>\n",
       "    <tr>\n",
       "      <th>21</th>\n",
       "      <td>University of British Columbia</td>\n",
       "    </tr>\n",
       "    <tr>\n",
       "      <th>22</th>\n",
       "      <td>University of California-Los Angeles (UCLA)</td>\n",
       "    </tr>\n",
       "    <tr>\n",
       "      <th>23</th>\n",
       "      <td>University of Cambridge</td>\n",
       "    </tr>\n",
       "    <tr>\n",
       "      <th>24</th>\n",
       "      <td>University of Toronto</td>\n",
       "    </tr>\n",
       "    <tr>\n",
       "      <th>25</th>\n",
       "      <td>University of Warwick</td>\n",
       "    </tr>\n",
       "    <tr>\n",
       "      <th>26</th>\n",
       "      <td>Cornell University</td>\n",
       "    </tr>\n",
       "    <tr>\n",
       "      <th>27</th>\n",
       "      <td>Johns Hopkins University</td>\n",
       "    </tr>\n",
       "    <tr>\n",
       "      <th>28</th>\n",
       "      <td>University of Nottingham</td>\n",
       "    </tr>\n",
       "    <tr>\n",
       "      <th>29</th>\n",
       "      <td>Aarhus Universitet</td>\n",
       "    </tr>\n",
       "  </tbody>\n",
       "</table>\n",
       "</div>"
      ],
      "text/plain": [
       "                                university_name\n",
       "0                            Harvard University\n",
       "1   Massachusetts Institute of Technology (MIT)\n",
       "2             University of California-Berkeley\n",
       "3                         University of Chicago\n",
       "4                          Princeton University\n",
       "5                           Stanford University\n",
       "6                               Yale University\n",
       "7                             Oxford University\n",
       "8                           Columbia University\n",
       "9                              Brown University\n",
       "10                            Boston University\n",
       "11              University College London (UCL)\n",
       "12    University of California-San Diego (UCSD)\n",
       "13               University of British Columbia\n",
       "14                            Dartmouth College\n",
       "15                    Paris School of Economics\n",
       "16          Barcelona School of Economics (BSE)\n",
       "17                    New York University (NYU)\n",
       "18                   University of Pennsylvania\n",
       "19             London School of Economics (LSE)\n",
       "20                       University of Michigan\n",
       "21               University of British Columbia\n",
       "22  University of California-Los Angeles (UCLA)\n",
       "23                      University of Cambridge\n",
       "24                        University of Toronto\n",
       "25                        University of Warwick\n",
       "26                           Cornell University\n",
       "27                     Johns Hopkins University\n",
       "28                     University of Nottingham\n",
       "29                           Aarhus Universitet"
      ]
     },
     "execution_count": 4,
     "metadata": {},
     "output_type": "execute_result"
    }
   ],
   "source": [
    "universities_df"
   ]
  },
  {
   "cell_type": "code",
   "execution_count": 5,
   "id": "b6f0d3a3-e244-4cc6-9d94-4fee58138731",
   "metadata": {},
   "outputs": [
    {
     "name": "stdout",
     "output_type": "stream",
     "text": [
      "已读取 3 个研究领域\n"
     ]
    }
   ],
   "source": [
    "#读取研究领域信息\n",
    "research_df = pd.read_excel(\"research_info.xlsx\")\n",
    "print(f\"已读取 {len(research_df)} 个研究领域\")"
   ]
  },
  {
   "cell_type": "code",
   "execution_count": 6,
   "id": "c8cd9d12-3945-4180-acd9-769baf1f6435",
   "metadata": {},
   "outputs": [
    {
     "data": {
      "text/html": [
       "<div>\n",
       "<style scoped>\n",
       "    .dataframe tbody tr th:only-of-type {\n",
       "        vertical-align: middle;\n",
       "    }\n",
       "\n",
       "    .dataframe tbody tr th {\n",
       "        vertical-align: top;\n",
       "    }\n",
       "\n",
       "    .dataframe thead th {\n",
       "        text-align: right;\n",
       "    }\n",
       "</style>\n",
       "<table border=\"1\" class=\"dataframe\">\n",
       "  <thead>\n",
       "    <tr style=\"text-align: right;\">\n",
       "      <th></th>\n",
       "      <th>research_area</th>\n",
       "      <th>journal1</th>\n",
       "      <th>journal2</th>\n",
       "      <th>journal3</th>\n",
       "      <th>job</th>\n",
       "      <th>skills</th>\n",
       "    </tr>\n",
       "  </thead>\n",
       "  <tbody>\n",
       "    <tr>\n",
       "      <th>0</th>\n",
       "      <td>finance</td>\n",
       "      <td>Journal of Finance</td>\n",
       "      <td>Review of Financial Studies</td>\n",
       "      <td>Journal of Financial Economics</td>\n",
       "      <td>Quant Researcher</td>\n",
       "      <td>Python, SQL, Math, PowerBI, Tableau</td>\n",
       "    </tr>\n",
       "    <tr>\n",
       "      <th>1</th>\n",
       "      <td>economics</td>\n",
       "      <td>American Economic Review</td>\n",
       "      <td>Econometrica</td>\n",
       "      <td>Journal of Political Economy</td>\n",
       "      <td>Economic Analyst</td>\n",
       "      <td>R, Stata, Econometrics, Data Analysis</td>\n",
       "    </tr>\n",
       "    <tr>\n",
       "      <th>2</th>\n",
       "      <td>account</td>\n",
       "      <td>Accounting Review</td>\n",
       "      <td>Journal of Accounting Research</td>\n",
       "      <td>Journal of Accounting and Economics</td>\n",
       "      <td>Financial Accountant</td>\n",
       "      <td>Excel, Financial Reporting, Tax, Auditing, GAAP</td>\n",
       "    </tr>\n",
       "  </tbody>\n",
       "</table>\n",
       "</div>"
      ],
      "text/plain": [
       "  research_area                  journal1                        journal2  \\\n",
       "0       finance        Journal of Finance     Review of Financial Studies   \n",
       "1     economics  American Economic Review                    Econometrica   \n",
       "2       account         Accounting Review  Journal of Accounting Research   \n",
       "\n",
       "                              journal3                   job  \\\n",
       "0       Journal of Financial Economics      Quant Researcher   \n",
       "1         Journal of Political Economy      Economic Analyst   \n",
       "2  Journal of Accounting and Economics  Financial Accountant   \n",
       "\n",
       "                                            skills  \n",
       "0              Python, SQL, Math, PowerBI, Tableau  \n",
       "1            R, Stata, Econometrics, Data Analysis  \n",
       "2  Excel, Financial Reporting, Tax, Auditing, GAAP  "
      ]
     },
     "execution_count": 6,
     "metadata": {},
     "output_type": "execute_result"
    }
   ],
   "source": [
    "research_df"
   ]
  },
  {
   "cell_type": "code",
   "execution_count": 7,
   "id": "61b04e13-a4ad-447e-876d-8af74ea9a69d",
   "metadata": {},
   "outputs": [],
   "source": [
    "#定义生成SOP的函数\n",
    "def generate_sop(university, research_area, job, skills, journal1, journal2, journal3, template_path=\"template.docx\"):\n",
    "    \"\"\"\n",
    "    生成个人陈述文档\n",
    "    - university: 大学名称\n",
    "    - research_area: 研究领域\n",
    "    - job: 目标职位\n",
    "    - skills: 技能列表\n",
    "    - journal1, journal2, journal3: 相关期刊\n",
    "    - template_path: 模板文件路径\n",
    "    返回:\n",
    "    - 生成的Word文档路径\n",
    "    \"\"\"\n",
    "    #加载模板\n",
    "    doc = DocxTemplate(template_path)\n",
    "    \n",
    "    #准备替换数据\n",
    "    context = {\n",
    "        'university': university,\n",
    "        'research_area': research_area,\n",
    "        'job': job,\n",
    "        'skills': skills,\n",
    "        'journal1': journal1,\n",
    "        'journal2': journal2,\n",
    "        'journal3': journal3\n",
    "    }\n",
    "    \n",
    "    #替换模板中的变量\n",
    "    doc.render(context)\n",
    "    \n",
    "    #生成文件名\n",
    "    #safe_university = university.replace(\" \", \"_\").replace(\"/\", \"_\")\n",
    "    filename = f\"SOP_{university}_{research_area}.docx\"\n",
    "    output_path = os.path.join(output_dir, filename)\n",
    "    \n",
    "    #保存生成的文档\n",
    "    doc.save(output_path)\n",
    "    return output_path"
   ]
  },
  {
   "cell_type": "code",
   "execution_count": 8,
   "id": "fcb5b666-573d-4c13-96cd-f94d434885ef",
   "metadata": {},
   "outputs": [
    {
     "name": "stdout",
     "output_type": "stream",
     "text": [
      "处理第 1/30 所大学: Harvard University\n"
     ]
    },
    {
     "data": {
      "application/vnd.jupyter.widget-view+json": {
       "model_id": "6ab1750785084447b0886c867314352f",
       "version_major": 2,
       "version_minor": 0
      },
      "text/plain": [
       "  0%|          | 0/1 [00:00<?, ?it/s]"
      ]
     },
     "metadata": {},
     "output_type": "display_data"
    },
    {
     "name": "stdout",
     "output_type": "stream",
     "text": [
      "  已生成Word并转换为PDF: SOP_Harvard University_finance.pdf \n"
     ]
    },
    {
     "data": {
      "application/vnd.jupyter.widget-view+json": {
       "model_id": "e0fc4a28a8104888a6c40224cceb43e0",
       "version_major": 2,
       "version_minor": 0
      },
      "text/plain": [
       "  0%|          | 0/1 [00:00<?, ?it/s]"
      ]
     },
     "metadata": {},
     "output_type": "display_data"
    },
    {
     "name": "stdout",
     "output_type": "stream",
     "text": [
      "  已生成Word并转换为PDF: SOP_Harvard University_economics.pdf \n"
     ]
    },
    {
     "data": {
      "application/vnd.jupyter.widget-view+json": {
       "model_id": "5ec640fb43d54ff2a2bfde861ad51dc4",
       "version_major": 2,
       "version_minor": 0
      },
      "text/plain": [
       "  0%|          | 0/1 [00:00<?, ?it/s]"
      ]
     },
     "metadata": {},
     "output_type": "display_data"
    },
    {
     "name": "stdout",
     "output_type": "stream",
     "text": [
      "  已生成Word并转换为PDF: SOP_Harvard University_account.pdf \n",
      "处理第 2/30 所大学: Massachusetts Institute of Technology (MIT)\n",
      "处理第 3/30 所大学: University of California-Berkeley\n",
      "处理第 4/30 所大学: University of Chicago\n",
      "处理第 5/30 所大学: Princeton University\n",
      "处理第 6/30 所大学: Stanford University\n",
      "处理第 7/30 所大学: Yale University\n",
      "处理第 8/30 所大学: Oxford University\n",
      "处理第 9/30 所大学: Columbia University\n",
      "处理第 10/30 所大学: Brown University\n",
      "处理第 11/30 所大学: Boston University\n",
      "处理第 12/30 所大学: University College London (UCL)\n",
      "处理第 13/30 所大学: University of California-San Diego (UCSD)\n",
      "处理第 14/30 所大学: University of British Columbia\n",
      "处理第 15/30 所大学: Dartmouth College\n",
      "处理第 16/30 所大学: Paris School of Economics\n",
      "处理第 17/30 所大学: Barcelona School of Economics (BSE)\n",
      "处理第 18/30 所大学: New York University (NYU)\n",
      "处理第 19/30 所大学: University of Pennsylvania\n",
      "处理第 20/30 所大学: London School of Economics (LSE)\n",
      "处理第 21/30 所大学: University of Michigan\n",
      "处理第 22/30 所大学: University of British Columbia\n",
      "处理第 23/30 所大学: University of California-Los Angeles (UCLA)\n",
      "处理第 24/30 所大学: University of Cambridge\n",
      "处理第 25/30 所大学: University of Toronto\n",
      "处理第 26/30 所大学: University of Warwick\n",
      "处理第 27/30 所大学: Cornell University\n",
      "处理第 28/30 所大学: Johns Hopkins University\n",
      "处理第 29/30 所大学: University of Nottingham\n",
      "处理第 30/30 所大学: Aarhus Universitet\n",
      "\n",
      "生成完成！共生成 90 份文档\n",
      "其中 3 份已转换为PDF\n",
      "所有文件已保存到: D:/Year3/QuantEconomy/Homework/HW2_Grad_Application/SOP1\n"
     ]
    }
   ],
   "source": [
    "#循环生成所有组合的SOP\n",
    "total_documents = 0\n",
    "pdf_files = []\n",
    "university_count = len(universities_df)\n",
    "\n",
    "#循环处理每所大学\n",
    "for idx, university_row in universities_df.iterrows():\n",
    "    university = university_row['university_name']\n",
    "    #显示当前处理的大学\n",
    "    print(f\"处理第 {idx+1}/{university_count} 所大学: {university}\")\n",
    "    \n",
    "    #循环处理每个研究领域\n",
    "    for _, research_row in research_df.iterrows():\n",
    "        #生成Word文档\n",
    "        word_path = generate_sop(\n",
    "            university=university,\n",
    "            research_area=research_row['research_area'],\n",
    "            job=research_row['job'],\n",
    "            skills=research_row['skills'],\n",
    "            journal1=research_row['journal1'],\n",
    "            journal2=research_row['journal2'],\n",
    "            journal3=research_row['journal3']\n",
    "        )\n",
    "\n",
    "        #仅前3个文档执行PDF转换\n",
    "        if total_documents < 3:  \n",
    "            try:\n",
    "                pdf_path = word_path.replace(\".docx\", \".pdf\")\n",
    "                convert(word_path, pdf_path)\n",
    "                pdf_files.append(pdf_path)\n",
    "                print(f\"  已生成Word并转换为PDF: {os.path.basename(pdf_path)} \")\n",
    "            except Exception as e:\n",
    "                print(f\"  转换PDF时出错 {os.path.basename(word_path)}: {str(e)}\")\n",
    "                \n",
    "        total_documents += 1\n",
    "\n",
    "\n",
    "print(f\"\\n生成完成！共生成 {total_documents} 份文档\")\n",
    "print(f\"其中 {len(pdf_files)} 份已转换为PDF\")\n",
    "print(f\"所有文件已保存到: {output_dir}\")"
   ]
  },
  {
   "cell_type": "code",
   "execution_count": null,
   "id": "981daf7b-749d-431e-ab0b-a3cf8c4987fa",
   "metadata": {},
   "outputs": [],
   "source": []
  },
  {
   "cell_type": "code",
   "execution_count": null,
   "id": "9b7511cc-ff8d-40b9-8ce3-0d4cca08621d",
   "metadata": {},
   "outputs": [],
   "source": []
  }
 ],
 "metadata": {
  "kernelspec": {
   "display_name": "Python 3 (ipykernel)",
   "language": "python",
   "name": "python3"
  },
  "language_info": {
   "codemirror_mode": {
    "name": "ipython",
    "version": 3
   },
   "file_extension": ".py",
   "mimetype": "text/x-python",
   "name": "python",
   "nbconvert_exporter": "python",
   "pygments_lexer": "ipython3",
   "version": "3.13.5"
  }
 },
 "nbformat": 4,
 "nbformat_minor": 5
}
