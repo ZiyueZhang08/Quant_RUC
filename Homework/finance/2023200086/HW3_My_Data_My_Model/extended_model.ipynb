{
 "cells": [
  {
   "cell_type": "code",
   "execution_count": 1,
   "id": "7b9bbec2-6034-490e-8413-73de34b9f878",
   "metadata": {},
   "outputs": [],
   "source": [
    "import pandas as pd\n",
    "import numpy as np\n",
    "import matplotlib.pyplot as plt\n",
    "import statsmodels.formula.api as smf\n",
    "\n",
    "# 1. 环境与数据准备\n",
    "\n",
    "plt.rcParams['font.sans-serif'] = ['SimHei']\n",
    "plt.rcParams['axes.unicode_minus'] = False\n",
    "pd.set_option('display.unicode.east_asian_width', True)\n",
    "\n",
    "LOCATIONS = {\n",
    "    '西三旗': 'location_1',\n",
    "    '清河': 'location_2',\n",
    "    '西二旗': 'location_3',\n",
    "    '上地': 'location_4'\n",
    "}\n",
    "\n",
    "try:\n",
    "    df_esf = pd.read_excel('total_esf.xlsx')\n",
    "    df_zu = pd.read_excel('total_zu.xlsx')\n",
    "except FileNotFoundError:\n",
    "    print(\"错误：请确保 'total_esf.xlsx' 和 'total_zu.xlsx' 文件在当前目录下。\")\n",
    "    exit()\n",
    "\n",
    "df_esf['price_per_m2'] = df_esf['total'] * 10000 / df_esf['square']\n",
    "df_zu['rent_per_m2'] = df_zu['rent'] / df_zu['square']\n",
    "\n",
    "location_mapping = {col: name for name, col in LOCATIONS.items()}\n",
    "df_esf['location'] = df_esf[LOCATIONS.values()].idxmax(axis=1).map(location_mapping)\n",
    "df_zu['location'] = df_zu[LOCATIONS.values()].idxmax(axis=1).map(location_mapping)"
   ]
  },
  {
   "cell_type": "code",
   "execution_count": 3,
   "id": "fea7623b-22f2-4835-8d71-af281ae5d740",
   "metadata": {},
   "outputs": [
    {
     "name": "stdout",
     "output_type": "stream",
     "text": [
      "\n",
      "Model 1+ (房价优化模型) 回归结果摘要\n",
      "\n",
      "                            OLS Regression Results                            \n",
      "==============================================================================\n",
      "Dep. Variable:       log_price_per_m2   R-squared:                       0.435\n",
      "Model:                            OLS   Adj. R-squared:                  0.434\n",
      "Method:                 Least Squares   F-statistic:                     485.9\n",
      "Date:                Thu, 16 Oct 2025   Prob (F-statistic):               0.00\n",
      "Time:                        11:52:41   Log-Likelihood:                -398.13\n",
      "No. Observations:                4420   AIC:                             812.3\n",
      "Df Residuals:                    4412   BIC:                             863.4\n",
      "Df Model:                           7                                         \n",
      "Covariance Type:            nonrobust                                         \n",
      "=============================================================================================\n",
      "                                coef    std err          t      P>|t|      [0.025      0.975]\n",
      "---------------------------------------------------------------------------------------------\n",
      "Intercept                    11.5524      0.021    542.312      0.000      11.511      11.594\n",
      "C(location)[T.清河]            -0.1440      0.027     -5.342      0.000      -0.197      -0.091\n",
      "C(location)[T.西三旗]           -0.8310      0.027    -30.368      0.000      -0.885      -0.777\n",
      "C(location)[T.西二旗]           -0.7770      0.030    -26.070      0.000      -0.835      -0.719\n",
      "square                       -0.0015      0.000     -8.629      0.000      -0.002      -0.001\n",
      "square:C(location)[T.清河]      0.0015      0.000      7.639      0.000       0.001       0.002\n",
      "square:C(location)[T.西三旗]     0.0034      0.000     14.850      0.000       0.003       0.004\n",
      "square:C(location)[T.西二旗]     0.0037      0.000     15.819      0.000       0.003       0.004\n",
      "==============================================================================\n",
      "Omnibus:                       36.238   Durbin-Watson:                   1.943\n",
      "Prob(Omnibus):                  0.000   Jarque-Bera (JB):               36.918\n",
      "Skew:                          -0.222   Prob(JB):                     9.62e-09\n",
      "Kurtosis:                       3.059   Cond. No.                     1.83e+03\n",
      "==============================================================================\n",
      "\n",
      "Notes:\n",
      "[1] Standard Errors assume that the covariance matrix of the errors is correctly specified.\n",
      "[2] The condition number is large, 1.83e+03. This might indicate that there are\n",
      "strong multicollinearity or other numerical problems.\n"
     ]
    }
   ],
   "source": [
    "#2. 构建扩展模型\n",
    "\n",
    "# 对因变量进行对数变换，为避免log(0)错误，过滤掉价格或租金<=0的数据\n",
    "df_esf = df_esf[df_esf['price_per_m2'] > 0].copy()\n",
    "df_zu = df_zu[df_zu['rent_per_m2'] > 0].copy()\n",
    "\n",
    "df_esf['log_price_per_m2'] = np.log(df_esf['price_per_m2'])\n",
    "df_zu['log_rent_per_m2'] = np.log(df_zu['rent_per_m2'])\n",
    "\n",
    "# 定义模型公式，加入交互项 square:C(location)\n",
    "pro_formula = 'log_price_per_m2 ~ square + C(location) + square:C(location)'\n",
    "pro_formula_rent = 'log_rent_per_m2 ~ square + C(location) + square:C(location)'\n",
    "\n",
    "# 训练 Model 1+: 优化后的房价模型\n",
    "model_price_pro = smf.ols(pro_formula, data=df_esf).fit()\n",
    "\n",
    "# 训练 Model 2+: 优化后的租金模型\n",
    "model_rent_pro = smf.ols(pro_formula_rent, data=df_zu).fit()\n",
    "\n",
    "# 打印模型的摘要\n",
    "print(\"\\nModel 1+ (房价优化模型) 回归结果摘要\\n\")\n",
    "print(model_price_pro.summary())"
   ]
  },
  {
   "cell_type": "code",
   "execution_count": 5,
   "id": "119ba483-3459-4b7c-abe3-edbb547a4305",
   "metadata": {},
   "outputs": [
    {
     "name": "stdout",
     "output_type": "stream",
     "text": [
      "Model 2+ (租金优化模型) 回归结果摘要\n",
      "\n",
      "                            OLS Regression Results                            \n",
      "==============================================================================\n",
      "Dep. Variable:        log_rent_per_m2   R-squared:                       0.142\n",
      "Model:                            OLS   Adj. R-squared:                  0.140\n",
      "Method:                 Least Squares   F-statistic:                     88.44\n",
      "Date:                Thu, 16 Oct 2025   Prob (F-statistic):          1.38e-119\n",
      "Time:                        11:53:41   Log-Likelihood:                -1121.6\n",
      "No. Observations:                3750   AIC:                             2259.\n",
      "Df Residuals:                    3742   BIC:                             2309.\n",
      "Df Model:                           7                                         \n",
      "Covariance Type:            nonrobust                                         \n",
      "=============================================================================================\n",
      "                                coef    std err          t      P>|t|      [0.025      0.975]\n",
      "---------------------------------------------------------------------------------------------\n",
      "Intercept                     4.8700      0.021    229.787      0.000       4.828       4.912\n",
      "C(location)[T.清河]            -0.1666      0.027     -6.079      0.000      -0.220      -0.113\n",
      "C(location)[T.西三旗]           -0.2909      0.026    -11.281      0.000      -0.341      -0.240\n",
      "C(location)[T.西二旗]           -0.2143      0.035     -6.148      0.000      -0.283      -0.146\n",
      "square                       -0.0028      0.000    -13.116      0.000      -0.003      -0.002\n",
      "square:C(location)[T.清河]      0.0024      0.000      8.523      0.000       0.002       0.003\n",
      "square:C(location)[T.西三旗]     0.0013      0.000      5.350      0.000       0.001       0.002\n",
      "square:C(location)[T.西二旗]     0.0025      0.000      7.705      0.000       0.002       0.003\n",
      "==============================================================================\n",
      "Omnibus:                     2300.233   Durbin-Watson:                   1.921\n",
      "Prob(Omnibus):                  0.000   Jarque-Bera (JB):           117081.614\n",
      "Skew:                           2.236   Prob(JB):                         0.00\n",
      "Kurtosis:                      30.006   Cond. No.                     1.03e+03\n",
      "==============================================================================\n",
      "\n",
      "Notes:\n",
      "[1] Standard Errors assume that the covariance matrix of the errors is correctly specified.\n",
      "[2] The condition number is large, 1.03e+03. This might indicate that there are\n",
      "strong multicollinearity or other numerical problems.\n"
     ]
    }
   ],
   "source": [
    "print(\"Model 2+ (租金优化模型) 回归结果摘要\\n\")\n",
    "print(model_rent_pro.summary())"
   ]
  },
  {
   "cell_type": "code",
   "execution_count": 8,
   "id": "e012e4d1-ff92-4b2f-95bb-eaa8ee99b48b",
   "metadata": {},
   "outputs": [
    {
     "name": "stdout",
     "output_type": "stream",
     "text": [
      "模型 R-squared 对比\n",
      "\n",
      "    模型  R-squared (简单模型)  R-squared (扩展模型)\n",
      "房价模型                 0.355              0.435336\n",
      "租金模型                 0.009              0.141956\n"
     ]
    }
   ],
   "source": [
    "# --- 3. R-squared 对比与分析 ---\n",
    "\n",
    "# 这里的数值来自之前运行的结果\n",
    "r2_price_simple = 0.355\n",
    "r2_rent_simple = 0.009\n",
    "\n",
    "# 扩展模型的 R-squared\n",
    "r2_price_pro = model_price_pro.rsquared\n",
    "r2_rent_pro = model_rent_pro.rsquared\n",
    "\n",
    "# 对比表格\n",
    "r2_comparison = pd.DataFrame({\n",
    "    '模型': ['房价模型', '租金模型'],\n",
    "    'R-squared (简单模型)': [r2_price_simple, r2_rent_simple],\n",
    "    'R-squared (扩展模型)': [r2_price_pro, r2_rent_pro]\n",
    "})\n",
    "\n",
    "print(\"模型 R-squared 对比\\n\")\n",
    "print(r2_comparison.to_string(index=False))"
   ]
  },
  {
   "cell_type": "markdown",
   "id": "fa711a85-2b2d-469d-95fc-92493841bf81",
   "metadata": {
    "scrolled": true
   },
   "source": [
    "分析:\n",
    "房价模型的 R-squared 从 0.355 提升至 0.435。\n",
    "租金模型的 R-squared 从 0.009 大幅提升至 0.142。\n",
    "原因: 对因变量（价格/租金）进行对数变换，更好地捕捉了价格数据的内在分布规律，并减小了极端值的影响。同时加入的交互项也让模型能学习到更复杂的模式（如面积在不同地段有不同价值），因此新模型能解释数据中更多的变异，R方显著提高，尤其是对于之前几乎无效的租金模型，改善效果大幅提升。"
   ]
  },
  {
   "cell_type": "code",
   "execution_count": 14,
   "id": "aad0f307-b759-4b6e-979c-c092531020e9",
   "metadata": {
    "scrolled": true
   },
   "outputs": [
    {
     "data": {
      "text/html": [
       "<div>\n",
       "<style scoped>\n",
       "    .dataframe tbody tr th:only-of-type {\n",
       "        vertical-align: middle;\n",
       "    }\n",
       "\n",
       "    .dataframe tbody tr th {\n",
       "        vertical-align: top;\n",
       "    }\n",
       "\n",
       "    .dataframe thead th {\n",
       "        text-align: right;\n",
       "    }\n",
       "</style>\n",
       "<table border=\"1\" class=\"dataframe\">\n",
       "  <thead>\n",
       "    <tr style=\"text-align: right;\">\n",
       "      <th></th>\n",
       "      <th>location</th>\n",
       "      <th>pro_model_ratio</th>\n",
       "    </tr>\n",
       "  </thead>\n",
       "  <tbody>\n",
       "    <tr>\n",
       "      <th>0</th>\n",
       "      <td>清河</td>\n",
       "      <td>862.044960</td>\n",
       "    </tr>\n",
       "    <tr>\n",
       "      <th>1</th>\n",
       "      <td>清河</td>\n",
       "      <td>901.531052</td>\n",
       "    </tr>\n",
       "    <tr>\n",
       "      <th>2</th>\n",
       "      <td>清河</td>\n",
       "      <td>903.068228</td>\n",
       "    </tr>\n",
       "    <tr>\n",
       "      <th>3</th>\n",
       "      <td>清河</td>\n",
       "      <td>896.791722</td>\n",
       "    </tr>\n",
       "    <tr>\n",
       "      <th>4</th>\n",
       "      <td>清河</td>\n",
       "      <td>897.187329</td>\n",
       "    </tr>\n",
       "    <tr>\n",
       "      <th>...</th>\n",
       "      <td>...</td>\n",
       "      <td>...</td>\n",
       "    </tr>\n",
       "    <tr>\n",
       "      <th>3745</th>\n",
       "      <td>上地</td>\n",
       "      <td>937.003838</td>\n",
       "    </tr>\n",
       "    <tr>\n",
       "      <th>3746</th>\n",
       "      <td>上地</td>\n",
       "      <td>848.830495</td>\n",
       "    </tr>\n",
       "    <tr>\n",
       "      <th>3747</th>\n",
       "      <td>上地</td>\n",
       "      <td>972.705831</td>\n",
       "    </tr>\n",
       "    <tr>\n",
       "      <th>3748</th>\n",
       "      <td>上地</td>\n",
       "      <td>929.525562</td>\n",
       "    </tr>\n",
       "    <tr>\n",
       "      <th>3749</th>\n",
       "      <td>上地</td>\n",
       "      <td>864.850516</td>\n",
       "    </tr>\n",
       "  </tbody>\n",
       "</table>\n",
       "<p>8170 rows × 2 columns</p>\n",
       "</div>"
      ],
      "text/plain": [
       "     location  pro_model_ratio\n",
       "0        清河       862.044960\n",
       "1        清河       901.531052\n",
       "2        清河       903.068228\n",
       "3        清河       896.791722\n",
       "4        清河       897.187329\n",
       "...       ...              ...\n",
       "3745     上地       937.003838\n",
       "3746     上地       848.830495\n",
       "3747     上地       972.705831\n",
       "3748     上地       929.525562\n",
       "3749     上地       864.850516\n",
       "\n",
       "[8170 rows x 2 columns]"
      ]
     },
     "execution_count": 14,
     "metadata": {},
     "output_type": "execute_result"
    }
   ],
   "source": [
    "# 4. 使用扩展模型预测并计算租售比\n",
    "\n",
    "# 因为模型预测的是 log(price)，需要用 np.exp() 转换回原始价格\n",
    "df_esf['pro_predicted_price_m2'] = np.exp(model_price_pro.predict(df_esf))\n",
    "df_esf['pro_predicted_rent_m2'] = np.exp(model_rent_pro.predict(df_esf))\n",
    "\n",
    "df_zu['pro_predicted_price_m2'] = np.exp(model_price_pro.predict(df_zu))\n",
    "df_zu['pro_predicted_rent_m2'] = np.exp(model_rent_pro.predict(df_zu))\n",
    "\n",
    "# 计算 扩展模型的租售比\n",
    "df_esf['pro_model_ratio'] = df_esf['pro_predicted_price_m2'] / df_esf['pro_predicted_rent_m2']\n",
    "df_zu['pro_model_ratio'] = df_zu['pro_predicted_price_m2'] / df_zu['pro_predicted_rent_m2']\n",
    "\n",
    "# 合并数据\n",
    "pro_combined_df = pd.concat([\n",
    "    df_esf[['location', 'pro_model_ratio']],\n",
    "    df_zu[['location', 'pro_model_ratio']]\n",
    "])\n",
    "\n",
    "# 计算各区块租售比中位数\n",
    "pro_median_ratios = pro_combined_df.groupby('location')['pro_model_ratio'].median().reset_index()\n",
    "pro_combined_df"
   ]
  },
  {
   "cell_type": "code",
   "execution_count": 18,
   "id": "b490e137-59ba-42c1-92c6-97fcbef6ec25",
   "metadata": {},
   "outputs": [
    {
     "name": "stdout",
     "output_type": "stream",
     "text": [
      "各区块基于扩展模型预测的租售比中位数\n",
      "\n"
     ]
    },
    {
     "data": {
      "text/html": [
       "<div>\n",
       "<style scoped>\n",
       "    .dataframe tbody tr th:only-of-type {\n",
       "        vertical-align: middle;\n",
       "    }\n",
       "\n",
       "    .dataframe tbody tr th {\n",
       "        vertical-align: top;\n",
       "    }\n",
       "\n",
       "    .dataframe thead th {\n",
       "        text-align: right;\n",
       "    }\n",
       "</style>\n",
       "<table border=\"1\" class=\"dataframe\">\n",
       "  <thead>\n",
       "    <tr style=\"text-align: right;\">\n",
       "      <th></th>\n",
       "      <th>location</th>\n",
       "      <th>pro_model_ratio</th>\n",
       "    </tr>\n",
       "  </thead>\n",
       "  <tbody>\n",
       "    <tr>\n",
       "      <th>0</th>\n",
       "      <td>上地</td>\n",
       "      <td>911.540271</td>\n",
       "    </tr>\n",
       "    <tr>\n",
       "      <th>1</th>\n",
       "      <td>清河</td>\n",
       "      <td>851.089507</td>\n",
       "    </tr>\n",
       "    <tr>\n",
       "      <th>2</th>\n",
       "      <td>西三旗</td>\n",
       "      <td>623.293660</td>\n",
       "    </tr>\n",
       "    <tr>\n",
       "      <th>3</th>\n",
       "      <td>西二旗</td>\n",
       "      <td>581.017184</td>\n",
       "    </tr>\n",
       "  </tbody>\n",
       "</table>\n",
       "</div>"
      ],
      "text/plain": [
       "  location  pro_model_ratio\n",
       "0     上地       911.540271\n",
       "1     清河       851.089507\n",
       "2   西三旗       623.293660\n",
       "3   西二旗       581.017184"
      ]
     },
     "execution_count": 18,
     "metadata": {},
     "output_type": "execute_result"
    }
   ],
   "source": [
    "print(\"各区块基于扩展模型预测的租售比中位数\\n\")\n",
    "pro_median_ratios"
   ]
  },
  {
   "cell_type": "code",
   "execution_count": 21,
   "id": "61efcb6b-788b-4cc7-ba88-8950e1667486",
   "metadata": {},
   "outputs": [
    {
     "data": {
      "image/png": "[encoded data removed]",
      "text/plain": [
       "<Figure size 1000x600 with 1 Axes>"
      ]
     },
     "metadata": {},
     "output_type": "display_data"
    }
   ],
   "source": [
    "# --- 5. 可视化 (Figure C) ---\n",
    "plt.figure(figsize=(10, 6))\n",
    "bars = plt.bar(pro_median_ratios['location'], pro_median_ratios['pro_model_ratio'])\n",
    "\n",
    "for bar in bars:\n",
    "    yval = bar.get_height()\n",
    "    plt.text(bar.get_x() + bar.get_width()/2.0, yval, f'{yval:.0f}', va='bottom', ha='center')\n",
    "\n",
    "plt.ylabel('扩展模型预测的房价租金比 (月)')\n",
    "plt.title('Figure C: 各区块基于优化模型预测的租售比中位数')\n",
    "plt.grid(axis='y', alpha=0.3, linestyle='--')\n",
    "plt.savefig('Figure_C_Pro_Model_Price-to-Rent_Ratio.png', dpi=300)\n",
    "plt.axhline(y=200, color='red', linestyle='--', label='国际参考线 (200)')\n",
    "plt.legend() \n",
    "plt.show()"
   ]
  },
  {
   "cell_type": "code",
   "execution_count": 23,
   "id": "10823210-cdfb-4cc4-9099-12bbf795b536",
   "metadata": {},
   "outputs": [
    {
     "name": "stdout",
     "output_type": "stream",
     "text": [
      "  location  原始样本中位数比  简单模型比  扩展模型比\n",
      "0     上地        849.232506      842.54  911.540271\n",
      "1     清河        937.206581      710.20  851.089507\n",
      "2   西三旗        699.908913      631.30  623.293660\n",
      "3   西二旗        633.275677      606.56  581.017184\n"
     ]
    }
   ],
   "source": [
    "# 6. 三种方法对比与最终分析 \n",
    "\n",
    "# 方法1：基于原始样本中位数\n",
    "raw_median_price = df_esf.groupby('location')['price_per_m2'].median()\n",
    "raw_median_rent = df_zu.groupby('location')['rent_per_m2'].median()\n",
    "ratio_method1 = (raw_median_price / raw_median_rent).reset_index(name='原始样本中位数比')\n",
    "\n",
    "# 方法2：基于简单线性模型\n",
    "#数值来自你之前运行的结果\n",
    "data_method2 = {'location': ['上地', '清河', '西三旗', '西二旗'],\n",
    "                '简单模型比': [842.54, 710.20, 631.30, 606.56]}\n",
    "ratio_method2 = pd.DataFrame(data_method2)\n",
    "\n",
    "# 方法3：基于 Pro Max 模型\n",
    "ratio_method3 = pro_median_ratios.rename(columns={'pro_model_ratio': '扩展模型比'})\n",
    "\n",
    "# 合并三个结果进行对比\n",
    "final_comparison = pd.merge(ratio_method1, ratio_method2, on='location')\n",
    "final_comparison = pd.merge(final_comparison, ratio_method3, on='location')\n",
    "\n",
    "print(final_comparison)"
   ]
  },
  {
   "cell_type": "markdown",
   "id": "e29adec8-d01d-43b1-b82c-b0e00a556730",
   "metadata": {},
   "source": [
    "**最终分析：**\n",
    "1.  **方法一 (原始样本中位数比)**:\n",
    "    * **优点**: 简单直观，忠实于原始数据。\n",
    "    * **缺点**: 非常容易受到样本偏差的影响。例如，如果某个区块的二手房样本碰巧都是大户型，而租房样本都是小户型，计算出的比率就会失真。它没有控制任何混淆变量。\n",
    "\n",
    "2.  **方法二 (简单模型比)**:\n",
    "    * **优点**: 试图通过模型控制变量（如面积），实现“同质可比”。\n",
    "    * **缺点**: 模型的拟合度是关键。从之前的分析可知，其租金模型(R²=0.009)基本无效，导致结果不可靠。一个糟糕的模型比没有模型更具误导性。\n",
    "\n",
    "3.  **方法三 (扩展模型比)**:\n",
    "    * **优点**: 不仅控制了变量，而且使用了更优的建模技术（对数变换、交互项），使得房价和租金模型的拟合度 (R-squared) 都达到了较高且可靠的水平。它能更好地估算出在相同面积、相同地段下的“标准化”租售比。\n",
    "    * **缺点**: 模型相对复杂，结果的解释需要依赖于对模型的理解。\n",
    "\n",
    "**结论**:\n",
    "毫无疑问，我们最应该信任 **方法三 （扩展模型比)**。\n",
    "\n",
    "虽然样本量是所有分析的基础，但一个优秀的模型能够更有效地利用这些样本信息。方法三通过建立一个**高解释力**的房价和租金模型，有效地**剔除了**因样本中户型、面积等分布不均造成的**噪音**，为我们提供了一个在控制了关键变量后，各区块之间最接近公允比较。因此，它的结果最稳定、最值得信赖。"
   ]
  }
 ],
 "metadata": {
  "kernelspec": {
   "display_name": "Python 3 (ipykernel)",
   "language": "python",
   "name": "python3"
  },
  "language_info": {
   "codemirror_mode": {
    "name": "ipython",
    "version": 3
   },
   "file_extension": ".py",
   "mimetype": "text/x-python",
   "name": "python",
   "nbconvert_exporter": "python",
   "pygments_lexer": "ipython3",
   "version": "3.13.5"
  }
 },
 "nbformat": 4,
 "nbformat_minor": 5
}
