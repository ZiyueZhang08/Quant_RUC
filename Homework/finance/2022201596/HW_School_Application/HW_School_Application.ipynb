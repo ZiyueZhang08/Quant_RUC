{
 "cells": [
  {
   "cell_type": "code",
   "execution_count": 17,
   "id": "fe3b0bb2-a8f3-4654-b91a-1c148e3fd130",
   "metadata": {
    "scrolled": true
   },
   "outputs": [
    {
     "name": "stdout",
     "output_type": "stream",
     "text": [
      "[OK] Generated 90 DOCX file(s) in: output\n"
     ]
    },
    {
     "data": {
      "text/plain": [
       "[WindowsPath('output/SOP_Harvard_University_-_Department_of_Economics_Economics.docx'),\n",
       " WindowsPath('output/SOP_Harvard_University_-_Department_of_Economics_Management.docx'),\n",
       " WindowsPath('output/SOP_Harvard_University_-_Department_of_Economics_Information_Systems.docx'),\n",
       " WindowsPath('output/SOP_Massachusetts_Institute_of_Technology_MIT_-_Economics_Department_Economics.docx'),\n",
       " WindowsPath('output/SOP_Massachusetts_Institute_of_Technology_MIT_-_Economics_Department_Management.docx')]"
      ]
     },
     "execution_count": 17,
     "metadata": {},
     "output_type": "execute_result"
    }
   ],
   "source": [
    "import platform\n",
    "import re\n",
    "from pathlib import Path\n",
    "\n",
    "import pandas as pd\n",
    "from docxtpl import DocxTemplate\n",
    "from unidecode import unidecode\n",
    "import os\n",
    "os.chdir(r\"C:/Users/86135/HW_School_Application\")\n",
    "\n",
    "# -----------------------------\n",
    "# 个人信息\n",
    "# -----------------------------\n",
    "CONFIG = {\n",
    "    \"applicant_name\": \"Zhang Ziyue\",\n",
    "    \"program_name\": \"Master of Science in {Economics, Management, Information Systems}\",\n",
    "    \"sample_topics_by_area\": {\n",
    "        \"Economics\": \"industrial organization, applied econometrics, digital economy\",\n",
    "        \"Management\": \"organization design, innovation strategy, operations analytics\",\n",
    "        \"Information Systems\": \"platform economics, algorithmic governance, causal ML in IS\"\n",
    "    }\n",
    "}\n",
    "\n",
    "# -----------------------------\n",
    "# 文件名清洗器\n",
    "# -----------------------------\n",
    "def sanitize_filename(name: str) -> str:\n",
    "    safe = re.sub(r\"[^\\w\\-\\.\\s]\", \"\", unidecode(str(name)))\n",
    "    return \"_\".join(safe.split())[:120]\n",
    "\n",
    "# -----------------------------\n",
    "# 主函数\n",
    "# -----------------------------\n",
    "def generate_sops(base_dir=\".\", convert_pdf=False):\n",
    "    BASE = Path(base_dir)   # 保持相对路径，不强制转绝对路径\n",
    "    OUTPUT = BASE / \"output\"\n",
    "    OUTPUT.mkdir(parents=True, exist_ok=True)\n",
    "\n",
    "    tmpl_path = BASE / \"sop_template.docx\"\n",
    "    univ_xlsx = BASE / \"universities.xlsx\"\n",
    "    areas_xlsx = BASE / \"research_areas.xlsx\"\n",
    "    skills_xlsx = BASE / \"skills.xlsx\"\n",
    "\n",
    "\n",
    "    for p in [tmpl_path, univ_xlsx, areas_xlsx, skills_xlsx]:\n",
    "        if not p.exists():\n",
    "            raise FileNotFoundError(f\"Required file missing: {p}\")\n",
    "\n",
    "    # 读取数据\n",
    "    df_univ = pd.read_excel(univ_xlsx)\n",
    "    df_areas = pd.read_excel(areas_xlsx)\n",
    "    df_skills = pd.read_excel(skills_xlsx)\n",
    "\n",
    "    if \"university\" not in df_univ.columns:\n",
    "        raise ValueError(\"universities.xlsx must contain a 'university' column.\")\n",
    "    for col in [\"area\", \"top_journal_1\", \"top_journal_2\", \"top_journal_3\"]:\n",
    "        if col not in df_areas.columns:\n",
    "            raise ValueError(f\"research_areas.xlsx must contain column: {col}\")\n",
    "    if \"skill\" not in df_skills.columns:\n",
    "        raise ValueError(\"skills.xlsx must contain a 'skill' column.\")\n",
    "\n",
    "    applicant_name = CONFIG[\"applicant_name\"]\n",
    "    program_name = CONFIG[\"program_name\"]\n",
    "    topics_map = CONFIG[\"sample_topics_by_area\"]\n",
    "\n",
    "    count = 0\n",
    "    generated_files = []\n",
    "\n",
    "    for _, urow in df_univ.iterrows():\n",
    "        university = urow[\"university\"]\n",
    "        for _, arow in df_areas.iterrows():\n",
    "            area = arow[\"area\"]\n",
    "            journals = [arow[\"top_journal_1\"], arow[\"top_journal_2\"], arow[\"top_journal_3\"]]\n",
    "            sample_topics = topics_map.get(area, \"applied analytics and policy evaluation\")\n",
    "            skills_list = df_skills[\"skill\"].dropna().astype(str).tolist()\n",
    "\n",
    "            ctx = {\n",
    "                \"applicant_name\": applicant_name,\n",
    "                \"target_school\": university,\n",
    "                \"program_name\": program_name,\n",
    "                \"research_area\": area,\n",
    "                \"journals\": journals,\n",
    "                \"skills\": skills_list,\n",
    "                \"sample_topics\": sample_topics,\n",
    "            }\n",
    "\n",
    "            tpl = DocxTemplate(str(tmpl_path))\n",
    "            tpl.render(ctx)\n",
    "            out_docx = OUTPUT / f\"SOP_{sanitize_filename(university)}_{sanitize_filename(area)}.docx\"\n",
    "            tpl.save(out_docx)\n",
    "            generated_files.append(out_docx)\n",
    "            count += 1\n",
    "\n",
    "    print(f\"[OK] Generated {count} DOCX file(s) in: {OUTPUT}\")\n",
    "\n",
    "\n",
    "    return generated_files\n",
    "\n",
    "# -----------------------------\n",
    "# Notebook 里直接运行\n",
    "# -----------------------------\n",
    "files = generate_sops(\".\")\n",
    "files[:5]  # 看前5个生成的文件路径\n"
   ]
  },
  {
   "cell_type": "code",
   "execution_count": null,
   "id": "57864e8e-a813-467a-a2b6-911eaaf76933",
   "metadata": {},
   "outputs": [],
   "source": []
  },
  {
   "cell_type": "code",
   "execution_count": null,
   "id": "9b4db5df-1bcc-43bf-8c15-2a0bc9239ab7",
   "metadata": {},
   "outputs": [],
   "source": []
  }
 ],
 "metadata": {
  "kernelspec": {
   "display_name": "Python 3 (ipykernel)",
   "language": "python",
   "name": "python3"
  },
  "language_info": {
   "codemirror_mode": {
    "name": "ipython",
    "version": 3
   },
   "file_extension": ".py",
   "mimetype": "text/x-python",
   "name": "python",
   "nbconvert_exporter": "python",
   "pygments_lexer": "ipython3",
   "version": "3.11.7"
  }
 },
 "nbformat": 4,
 "nbformat_minor": 5
}
