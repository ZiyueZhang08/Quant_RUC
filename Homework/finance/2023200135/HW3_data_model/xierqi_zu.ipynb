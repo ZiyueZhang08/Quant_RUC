{
 "cells": [
  {
   "cell_type": "code",
   "execution_count": 1,
   "id": "2d919429-b773-4ade-b967-243ec145acda",
   "metadata": {},
   "outputs": [
    {
     "name": "stdout",
     "output_type": "stream",
     "text": [
      "Requirement already satisfied: html5lib in c:\\users\\34424\\anaconda3\\lib\\site-packages (1.1)\n",
      "Requirement already satisfied: six>=1.9 in c:\\users\\34424\\anaconda3\\lib\\site-packages (from html5lib) (1.17.0)\n",
      "Requirement already satisfied: webencodings in c:\\users\\34424\\anaconda3\\lib\\site-packages (from html5lib) (0.5.1)\n",
      "Note: you may need to restart the kernel to use updated packages.\n",
      "Requirement already satisfied: webdriver-manager in c:\\users\\34424\\anaconda3\\lib\\site-packages (4.0.2)\n",
      "Requirement already satisfied: requests in c:\\users\\34424\\anaconda3\\lib\\site-packages (from webdriver-manager) (2.32.3)\n",
      "Requirement already satisfied: python-dotenv in c:\\users\\34424\\anaconda3\\lib\\site-packages (from webdriver-manager) (1.1.0)\n",
      "Requirement already satisfied: packaging in c:\\users\\34424\\anaconda3\\lib\\site-packages (from webdriver-manager) (24.2)\n",
      "Requirement already satisfied: charset-normalizer<4,>=2 in c:\\users\\34424\\anaconda3\\lib\\site-packages (from requests->webdriver-manager) (3.3.2)\n",
      "Requirement already satisfied: idna<4,>=2.5 in c:\\users\\34424\\anaconda3\\lib\\site-packages (from requests->webdriver-manager) (3.7)\n",
      "Requirement already satisfied: urllib3<3,>=1.21.1 in c:\\users\\34424\\anaconda3\\lib\\site-packages (from requests->webdriver-manager) (2.5.0)\n",
      "Requirement already satisfied: certifi>=2017.4.17 in c:\\users\\34424\\anaconda3\\lib\\site-packages (from requests->webdriver-manager) (2025.10.5)\n",
      "Note: you may need to restart the kernel to use updated packages.\n",
      "Requirement already satisfied: selenium in c:\\users\\34424\\anaconda3\\lib\\site-packages (4.36.0)\n",
      "Requirement already satisfied: urllib3<3.0,>=2.5.0 in c:\\users\\34424\\anaconda3\\lib\\site-packages (from urllib3[socks]<3.0,>=2.5.0->selenium) (2.5.0)\n",
      "Requirement already satisfied: trio<1.0,>=0.30.0 in c:\\users\\34424\\anaconda3\\lib\\site-packages (from selenium) (0.31.0)\n",
      "Requirement already satisfied: trio-websocket<1.0,>=0.12.2 in c:\\users\\34424\\anaconda3\\lib\\site-packages (from selenium) (0.12.2)\n",
      "Requirement already satisfied: certifi>=2025.6.15 in c:\\users\\34424\\anaconda3\\lib\\site-packages (from selenium) (2025.10.5)\n",
      "Requirement already satisfied: typing_extensions<5.0,>=4.14.0 in c:\\users\\34424\\anaconda3\\lib\\site-packages (from selenium) (4.15.0)\n",
      "Requirement already satisfied: websocket-client<2.0,>=1.8.0 in c:\\users\\34424\\anaconda3\\lib\\site-packages (from selenium) (1.8.0)\n",
      "Requirement already satisfied: attrs>=23.2.0 in c:\\users\\34424\\anaconda3\\lib\\site-packages (from trio<1.0,>=0.30.0->selenium) (24.3.0)\n",
      "Requirement already satisfied: sortedcontainers in c:\\users\\34424\\anaconda3\\lib\\site-packages (from trio<1.0,>=0.30.0->selenium) (2.4.0)\n",
      "Requirement already satisfied: idna in c:\\users\\34424\\anaconda3\\lib\\site-packages (from trio<1.0,>=0.30.0->selenium) (3.7)\n",
      "Requirement already satisfied: outcome in c:\\users\\34424\\anaconda3\\lib\\site-packages (from trio<1.0,>=0.30.0->selenium) (1.3.0.post0)\n",
      "Requirement already satisfied: sniffio>=1.3.0 in c:\\users\\34424\\anaconda3\\lib\\site-packages (from trio<1.0,>=0.30.0->selenium) (1.3.0)\n",
      "Requirement already satisfied: cffi>=1.14 in c:\\users\\34424\\anaconda3\\lib\\site-packages (from trio<1.0,>=0.30.0->selenium) (1.17.1)\n",
      "Requirement already satisfied: wsproto>=0.14 in c:\\users\\34424\\anaconda3\\lib\\site-packages (from trio-websocket<1.0,>=0.12.2->selenium) (1.2.0)\n",
      "Requirement already satisfied: pysocks!=1.5.7,<2.0,>=1.5.6 in c:\\users\\34424\\anaconda3\\lib\\site-packages (from urllib3[socks]<3.0,>=2.5.0->selenium) (1.7.1)\n",
      "Requirement already satisfied: pycparser in c:\\users\\34424\\anaconda3\\lib\\site-packages (from cffi>=1.14->trio<1.0,>=0.30.0->selenium) (2.21)\n",
      "Requirement already satisfied: h11<1,>=0.9.0 in c:\\users\\34424\\anaconda3\\lib\\site-packages (from wsproto>=0.14->trio-websocket<1.0,>=0.12.2->selenium) (0.16.0)\n",
      "Note: you may need to restart the kernel to use updated packages.\n"
     ]
    }
   ],
   "source": [
    "%pip install html5lib\n",
    "%pip install webdriver-manager\n",
    "%pip install selenium\n"
   ]
  },
  {
   "cell_type": "code",
   "execution_count": 2,
   "id": "50a10ecb-0c54-4bb7-b5ce-5b83ccb5b176",
   "metadata": {},
   "outputs": [
    {
     "name": "stdout",
     "output_type": "stream",
     "text": [
      "['Solarize_Light2', '_classic_test_patch', '_mpl-gallery', '_mpl-gallery-nogrid', 'bmh', 'classic', 'dark_background', 'fast', 'fivethirtyeight', 'ggplot', 'grayscale', 'petroff10', 'seaborn-v0_8', 'seaborn-v0_8-bright', 'seaborn-v0_8-colorblind', 'seaborn-v0_8-dark', 'seaborn-v0_8-dark-palette', 'seaborn-v0_8-darkgrid', 'seaborn-v0_8-deep', 'seaborn-v0_8-muted', 'seaborn-v0_8-notebook', 'seaborn-v0_8-paper', 'seaborn-v0_8-pastel', 'seaborn-v0_8-poster', 'seaborn-v0_8-talk', 'seaborn-v0_8-ticks', 'seaborn-v0_8-white', 'seaborn-v0_8-whitegrid', 'tableau-colorblind10']\n"
     ]
    }
   ],
   "source": [
    "from selenium import webdriver\n",
    "from selenium.webdriver.chrome.service import Service\n",
    "from time import sleep\n",
    "import pandas as pd\n",
    "from io import StringIO\n",
    "from functools import partial\n",
    "import matplotlib.pyplot as plt\n",
    "from selenium.webdriver.support import expected_conditions as EC\n",
    "from selenium.webdriver.common.by import By\n",
    "from selenium.common import NoSuchElementException,StaleElementReferenceException\n",
    "from matplotlib import style\n",
    "from webdriver_manager.chrome import ChromeDriverManager\n",
    "\n",
    "\n",
    "\n",
    "\n",
    "print(plt.style.available)\n",
    "%matplotlib inline\n",
    "driver = webdriver.Chrome()\n",
    "\n",
    "url='https://zu.fang.com/house-a015277-b07195/'\n",
    "driver.get(url)"
   ]
  },
  {
   "cell_type": "code",
   "execution_count": 3,
   "id": "5581d3b7-7ae0-4e43-baa8-8aa852459096",
   "metadata": {},
   "outputs": [
    {
     "name": "stdout",
     "output_type": "stream",
     "text": [
      "已爬取第1页，累计60条数据\n",
      "已爬取第2页，累计120条数据\n",
      "已爬取第3页，累计180条数据\n",
      "已爬取第4页，累计240条数据\n",
      "已爬取第5页，累计300条数据\n",
      "已爬取第6页，累计360条数据\n",
      "已爬取第7页，累计420条数据\n",
      "已爬取第8页，累计424条数据\n",
      "未找到元素：Message: no such element: Unable to locate element: {\"method\":\"xpath\",\"selector\":\"//a[text()='下一页']\"}\n",
      "  (Session info: chrome=141.0.7390.77); For documentation on this error, please visit: https://www.selenium.dev/documentation/webdriver/troubleshooting/errors#nosuchelementexception\n",
      "Stacktrace:\n",
      "\tGetHandleVerifier [0x0x7ff63f70e955+80021]\n",
      "\tGetHandleVerifier [0x0x7ff63f70e9b0+80112]\n",
      "\t(No symbol) [0x0x7ff63f49060f]\n",
      "\t(No symbol) [0x0x7ff63f4e8854]\n",
      "\t(No symbol) [0x0x7ff63f4e8b1c]\n",
      "\t(No symbol) [0x0x7ff63f53c927]\n",
      "\t(No symbol) [0x0x7ff63f51126f]\n",
      "\t(No symbol) [0x0x7ff63f53968a]\n",
      "\t(No symbol) [0x0x7ff63f511003]\n",
      "\t(No symbol) [0x0x7ff63f4d95d1]\n",
      "\t(No symbol) [0x0x7ff63f4da3f3]\n",
      "\tGetHandleVerifier [0x0x7ff63f9cdd0d+2960461]\n",
      "\tGetHandleVerifier [0x0x7ff63f9c7fca+2936586]\n",
      "\tGetHandleVerifier [0x0x7ff63f9e8a07+3070279]\n",
      "\tGetHandleVerifier [0x0x7ff63f72843e+185214]\n",
      "\tGetHandleVerifier [0x0x7ff63f72fe8f+216527]\n",
      "\tGetHandleVerifier [0x0x7ff63f717b94+117460]\n",
      "\tGetHandleVerifier [0x0x7ff63f717d4f+117903]\n",
      "\tGetHandleVerifier [0x0x7ff63f6fdc28+11112]\n",
      "\tBaseThreadInitThunk [0x0x7ffb3554e8d7+23]\n",
      "\tRtlUserThreadStart [0x0x7ffb36e48d9c+44]\n",
      "，可能已到最后一页\n",
      "爬取完成，数据预览：\n",
      "           tel_shop price_right\n",
      "0  合租主卧|3户合租|18㎡|朝南     2300元/月\n",
      "1  合租次卧|2户合租|16㎡|朝南     2100元/月\n",
      "2  整租|3室2厅|122㎡|朝南北    12000元/月\n",
      "3  整租|3室2厅|122㎡|朝南北    12000元/月\n",
      "4   整租|5室3厅|233㎡|朝南    28000元/月\n"
     ]
    }
   ],
   "source": [
    "from selenium import webdriver\n",
    "from selenium.webdriver.common.by import By\n",
    "from selenium.common.exceptions import NoSuchElementException\n",
    "import pandas as pd\n",
    "\n",
    "# 初始化浏览器驱动\n",
    "driver = webdriver.Chrome()  # 需确保已配置ChromeDriver\n",
    "url ='https://zu.fang.com/house-a015277-b07195/'\n",
    "driver.get(url)\n",
    "\n",
    "# 初始化存储所有页数据的列表\n",
    "all_data = []\n",
    "Num_Pages = 20  # 最大爬取页数\n",
    "current_page = 0\n",
    "\n",
    "while current_page < Num_Pages:\n",
    "    try:\n",
    "        # 定位表格容器\n",
    "        table = driver.find_element('class name', 'houseList')\n",
    "        # 提取行（dl标签）\n",
    "        rows = table.find_elements(By.TAG_NAME, 'dl')\n",
    "        \n",
    "        # 提取当前页的每行数据\n",
    "        page_data = []\n",
    "        for row in rows:\n",
    "            # 提取p.tel_shop\n",
    "            try:\n",
    "                tel_shop = row.find_element('class name', 'font15').text\n",
    "            except NoSuchElementException:\n",
    "                tel_shop = None\n",
    "            \n",
    "            # 提取dd.price_right\n",
    "            try:\n",
    "                price_right = row.find_element('class name', 'moreInfo').text\n",
    "            except NoSuchElementException:\n",
    "                price_right = None\n",
    "            \n",
    "            # 添加非空行\n",
    "            if tel_shop or price_right:\n",
    "                page_data.append([tel_shop, price_right])\n",
    "        \n",
    "        # 将当前页数据添加到总列表\n",
    "        all_data.extend(page_data)\n",
    "        print(f\"已爬取第{current_page + 1}页，累计{len(all_data)}条数据\")\n",
    "        \n",
    "        # 点击下一页\n",
    "        # 更推荐的写法\n",
    "        next_page = driver.find_element(By.XPATH, \"//a[text()='下一页']\")\n",
    "        next_page.click()\n",
    "        current_page += 1\n",
    "        \n",
    "    except NoSuchElementException as e:\n",
    "        print(f\"未找到元素：{e}，可能已到最后一页\")\n",
    "        break\n",
    "    except Exception as e:\n",
    "        print(f\"爬取出错：{e}\")\n",
    "        break\n",
    "\n",
    "# 关闭浏览器\n",
    "\n",
    "# 生成最终DataFrame\n",
    "df = pd.DataFrame(all_data, columns=['tel_shop', 'price_right'])\n",
    "print(\"爬取完成，数据预览：\")\n",
    "print(df.head())\n",
    "\n",
    "# 可选：保存为CSV\n",
    "# df.to_csv('爬取结果.csv', index=False, encoding='utf-8-sig')\n",
    "    "
   ]
  },
  {
   "cell_type": "code",
   "execution_count": 4,
   "id": "3a9e56b8-c2c1-41c2-8bab-d5ba4691fac5",
   "metadata": {},
   "outputs": [
    {
     "name": "stdout",
     "output_type": "stream",
     "text": [
      "        m2  rent_month\n",
      "0     18.0      2300.0\n",
      "1     16.0      2100.0\n",
      "2    122.0     12000.0\n",
      "3    122.0     12000.0\n",
      "4    233.0     28000.0\n",
      "..     ...         ...\n",
      "419   99.0      8600.0\n",
      "420   88.0      5700.0\n",
      "421   58.0      5990.0\n",
      "422  233.0     30000.0\n",
      "423  152.0     14500.0\n",
      "\n",
      "[424 rows x 2 columns]\n"
     ]
    }
   ],
   "source": [
    "import pandas as pd\n",
    "import re\n",
    "\n",
    "\n",
    "pattern_m2 = r'(\\d+(\\.\\d+)?)㎡'       # 匹配 xx㎡ 或 xx.x㎡\n",
    "pattern_yuan = r'(\\d+(\\.\\d+)?)元/月'  # 匹配 xx元/月\n",
    "\n",
    "# 提取数据并转换为数值类型（方便后续计算）\n",
    "df['m2'] = df['tel_shop'].str.extract(pattern_m2)[0].astype(float)\n",
    "df['rent_month'] = df['price_right'].str.extract(pattern_yuan)[0].astype(float)\n",
    "\n",
    "# 只保留目标三列\n",
    "result_df = df[['m2',  'rent_month']]\n",
    "print(result_df)"
   ]
  },
  {
   "cell_type": "code",
   "execution_count": 6,
   "id": "f670452f-9f42-4132-a2af-5372de4df99e",
   "metadata": {},
   "outputs": [
    {
     "name": "stdout",
     "output_type": "stream",
     "text": [
      "Requirement already satisfied: openpyxl in c:\\users\\34424\\anaconda3\\lib\\site-packages (3.1.5)\n",
      "Requirement already satisfied: et-xmlfile in c:\\users\\34424\\anaconda3\\lib\\site-packages (from openpyxl) (1.1.0)\n"
     ]
    }
   ],
   "source": [
    "!pip install openpyxl\n"
   ]
  },
  {
   "cell_type": "code",
   "execution_count": 7,
   "id": "7cce6dcd-6fd3-4aba-88ba-fc26950eb45f",
   "metadata": {},
   "outputs": [],
   "source": [
    "result_df.to_excel('xierqi_zu.xlsx', index=False, engine='openpyxl')"
   ]
  },
  {
   "cell_type": "code",
   "execution_count": null,
   "id": "09997778-a26e-40b1-9b19-ea012500bcd6",
   "metadata": {},
   "outputs": [],
   "source": []
  }
 ],
 "metadata": {
  "kernelspec": {
   "display_name": "Python [conda env:base] *",
   "language": "python",
   "name": "conda-base-py"
  },
  "language_info": {
   "codemirror_mode": {
    "name": "ipython",
    "version": 3
   },
   "file_extension": ".py",
   "mimetype": "text/x-python",
   "name": "python",
   "nbconvert_exporter": "python",
   "pygments_lexer": "ipython3",
   "version": "3.13.5"
  }
 },
 "nbformat": 4,
 "nbformat_minor": 5
}
