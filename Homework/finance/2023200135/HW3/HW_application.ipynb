{
 "cells": [
  {
   "cell_type": "markdown",
   "id": "b09ea7cd",
   "metadata": {},
   "source": [
    "# Tips:\n",
    "\n",
    "\n",
    "- Nice try to use `pd.merge`\n",
    "\n",
    "- The third cell can be split into multiple cells (multiple cells can be executed independently and easily debugged).\n",
    "\n",
    "- The function `read_excel_data` could be rewirten as follows (more general):\n",
    "\n",
    "```python\n",
    "def read_excel_data(file_path):\n",
    "    \"\"\"\n",
    "    Read excel data from file_path.\n",
    "    \"\"\"\n",
    "    df = pd.read_excel(file_path)\n",
    "    return df\n",
    "```\n"
   ]
  },
  {
   "cell_type": "code",
   "execution_count": 4,
   "id": "08357f87-bf82-49ee-95c0-249ddf8fea0d",
   "metadata": {},
   "outputs": [],
   "source": [
    "# 完整代码：大学申请文书生成器\n",
    "import pandas as pd\n",
    "import os\n",
    "from docxtpl import DocxTemplate\n",
    "import time"
   ]
  },
  {
   "cell_type": "code",
   "execution_count": 2,
   "id": "ba8b861e-af46-432c-bf1c-47f489495da4",
   "metadata": {},
   "outputs": [
    {
     "name": "stdout",
     "output_type": "stream",
     "text": [
      "Collecting docxtpl\n",
      "  Downloading docxtpl-0.20.1-py3-none-any.whl.metadata (9.4 kB)\n",
      "Collecting python-docx>=1.1.1 (from docxtpl)\n",
      "  Downloading python_docx-1.2.0-py3-none-any.whl.metadata (2.0 kB)\n",
      "Collecting docxcompose (from docxtpl)\n",
      "  Downloading docxcompose-1.4.0.tar.gz (20 kB)\n",
      "  Preparing metadata (setup.py) ... \u001b[?25ldone\n",
      "\u001b[?25hRequirement already satisfied: jinja2 in /opt/anaconda3/lib/python3.13/site-packages (from docxtpl) (3.1.6)\n",
      "Requirement already satisfied: lxml in /opt/anaconda3/lib/python3.13/site-packages (from docxtpl) (5.3.0)\n",
      "Requirement already satisfied: typing_extensions>=4.9.0 in /opt/anaconda3/lib/python3.13/site-packages (from python-docx>=1.1.1->docxtpl) (4.12.2)\n",
      "Requirement already satisfied: setuptools in /opt/anaconda3/lib/python3.13/site-packages (from docxcompose->docxtpl) (72.1.0)\n",
      "Requirement already satisfied: six in /opt/anaconda3/lib/python3.13/site-packages (from docxcompose->docxtpl) (1.17.0)\n",
      "Requirement already satisfied: babel in /opt/anaconda3/lib/python3.13/site-packages (from docxcompose->docxtpl) (2.16.0)\n",
      "Requirement already satisfied: MarkupSafe>=2.0 in /opt/anaconda3/lib/python3.13/site-packages (from jinja2->docxtpl) (3.0.2)\n",
      "Downloading docxtpl-0.20.1-py3-none-any.whl (20 kB)\n",
      "Downloading python_docx-1.2.0-py3-none-any.whl (252 kB)\n",
      "Building wheels for collected packages: docxcompose\n",
      "\u001b[33m  DEPRECATION: Building 'docxcompose' using the legacy setup.py bdist_wheel mechanism, which will be removed in a future version. pip 25.3 will enforce this behaviour change. A possible replacement is to use the standardized build interface by setting the `--use-pep517` option, (possibly combined with `--no-build-isolation`), or adding a `pyproject.toml` file to the source tree of 'docxcompose'. Discussion can be found at https://github.com/pypa/pip/issues/6334\u001b[0m\u001b[33m\n",
      "  Building wheel for docxcompose (setup.py) ... \u001b[?25done\n",
      "\u001b[?25h  Created wheel for docxcompose: filename=docxcompose-1.4.0-py3-none-any.whl size=23265 sha256=6760f1185d857eb5e94d8c59df60a18707ae3385b34048de2f8d4476678538c9\n",
      "  Stored in directory: /Users/chen/Library/Caches/pip/wheels/85/55/3a/fd2d62be91ca244b338415d6e6e96b4c0d85056130790f9feb\n",
      "Successfully built docxcompose\n",
      "Installing collected packages: python-docx, docxcompose, docxtpl\n",
      "\u001b[2K   \u001b[90m━━━━━━━━━━━━━━━━━━━━━━━━━━━━━━━━━━━━━━━━\u001b[0m \u001b[32m3/3\u001b[0m [docxtpl]m2/3\u001b[0m [docxtpl]\n",
      "Successfully installed docxcompose-1.4.0 docxtpl-0.20.1 python-docx-1.2.0\n",
      "Note: you may need to restart the kernel to use updated packages.\n"
     ]
    }
   ],
   "source": [
    "pip install docxtpl"
   ]
  },
  {
   "cell_type": "code",
   "execution_count": 5,
   "id": "6d3e3d7b-3678-42af-8d6b-b299f84803d3",
   "metadata": {},
   "outputs": [],
   "source": [
    "# ---------------------- 步骤1：读取Excel数据 ----------------------\n",
    "def read_excel_data(uni_excel_path, research_excel_path):\n",
    "    \"\"\"读取大学列表和研究领域数据\"\"\"\n",
    "    uni_df = pd.read_excel(uni_excel_path, engine=\"openpyxl\")\n",
    "    research_df = pd.read_excel(research_excel_path, engine=\"openpyxl\")\n",
    "    return uni_df, research_df\n",
    "\n",
    "# ---------------------- 步骤2：生成Word文档（增加模式参数） ----------------------\n",
    "def generate_word_documents(uni_df, research_df, template_path, output_dir, generate_mode=\"batch\"):\n",
    "    \"\"\"\n",
    "    生成Word文档\n",
    "    generate_mode: \"batch\" 生成全部组合, \"single\" 只生成第一份\n",
    "    \"\"\"\n",
    "    # 创建笛卡尔积组合\n",
    "    uni_df[\"temp_key\"] = 1\n",
    "    research_df[\"temp_key\"] = 1\n",
    "    combined_df = pd.merge(uni_df, research_df, on=\"temp_key\").drop(\"temp_key\", axis=1)\n",
    "    \n",
    "    # 如果是 single 模式，只保留第一行\n",
    "    if generate_mode == \"single\":\n",
    "        combined_df = combined_df.iloc[[0]]\n",
    "    \n",
    "    # 读取模板\n",
    "    template = DocxTemplate(template_path)\n",
    "    \n",
    "    # 创建输出目录\n",
    "    os.makedirs(output_dir, exist_ok=True)\n",
    "    \n",
    "    # 循环生成Word\n",
    "    for idx, row in combined_df.iterrows():\n",
    "        context = {\n",
    "            \"university_name\": row[\"university_name\"],\n",
    "            \"program_name\": row[\"program_name\"],\n",
    "            \"research_area\": row[\"research_area\"],\n",
    "            \"journal1\": row[\"journal1\"],\n",
    "            \"journal2\": row[\"journal2\"],\n",
    "            \"journal3\": row[\"journal3\"],\n",
    "            \"career_goal\": row[\"career_goal\"],\n",
    "            \"skills\": row[\"skills\"]\n",
    "        }\n",
    "        template.render(context)\n",
    "        file_name = f\"SOP_{row['university_name'].replace(' ', '_')}_{row['research_area']}.docx\"\n",
    "        file_path = os.path.join(output_dir, file_name)\n",
    "        template.save(file_path)\n",
    "        print(f\"生成Word：{file_name}\")\n",
    "    \n",
    "    return len(combined_df), output_dir\n"
   ]
  },
  {
   "cell_type": "code",
   "execution_count": null,
   "id": "4ed16eff-3c1e-480f-902a-aa9c217f1ce3",
   "metadata": {},
   "outputs": [],
   "source": []
  },
  {
   "cell_type": "code",
   "execution_count": 15,
   "id": "8cb12e71-bc99-4c2b-b087-367fdfeff1d5",
   "metadata": {},
   "outputs": [],
   "source": [
    "def main():\n",
    "    # 生成模式：\"batch\" 生成全部，\"single\" 只生成第一份\n",
    "    generate_mode = \"single\"  # 在这里切换模式\n",
    "    \n",
    "    # 1. 配置文件路径（替换为你的实际路径）\n",
    "    uni_excel_path = \"excel_list1.xlsx\"\n",
    "    research_excel_path = \"excel_list2.xlsx\"\n",
    "    template_path = \"SOP_template.docx\"\n",
    "    \n",
    "    # 2. 配置输出目录\n",
    "    base_dir = os.path.expanduser(\"~/HW_School_Application\")\n",
    "    word_output_dir = os.path.join(base_dir, \"Word_Files\")\n",
    "    sample_pdf_path = os.path.join(base_dir, \"Sample_SOP.pdf\")\n",
    "    \n",
    "    # 3. 执行流程\n",
    "    print(\"=== 步骤1：读取Excel数据 ===\")\n",
    "    uni_df, research_df = read_excel_data(uni_excel_path, research_excel_path)\n",
    "    \n",
    "    print(\"\\n=== 步骤2：生成Word文档 ===\")\n",
    "    doc_count, word_dir = generate_word_documents(uni_df, research_df, template_path, word_output_dir, generate_mode)\n",
    "    print(f\"共生成 {doc_count} 份Word文档\")\n",
    "    \n",
    "    "
   ]
  },
  {
   "cell_type": "code",
   "execution_count": 13,
   "id": "264e7d3b-6b87-4488-84cb-a3f2a17192da",
   "metadata": {
    "scrolled": true
   },
   "outputs": [
    {
     "name": "stdout",
     "output_type": "stream",
     "text": [
      "=== 步骤1：读取Excel数据 ===\n",
      "\n",
      "=== 步骤2：生成Word文档 ===\n",
      "生成Word：SOP_Harvard_University_economics.docx\n",
      "共生成 1 份Word文档\n"
     ]
    }
   ],
   "source": [
    "# 运行主函数\n",
    "if __name__ == \"__main__\":\n",
    "    main()"
   ]
  },
  {
   "cell_type": "code",
   "execution_count": null,
   "id": "46eb3690-69e6-4369-af86-911321045cb4",
   "metadata": {},
   "outputs": [],
   "source": []
  }
 ],
 "metadata": {
  "kernelspec": {
   "display_name": "Python [conda env:base] *",
   "language": "python",
   "name": "conda-base-py"
  },
  "language_info": {
   "codemirror_mode": {
    "name": "ipython",
    "version": 3
   },
   "file_extension": ".py",
   "mimetype": "text/x-python",
   "name": "python",
   "nbconvert_exporter": "python",
   "pygments_lexer": "ipython3",
   "version": "3.13.5"
  }
 },
 "nbformat": 4,
 "nbformat_minor": 5
}
