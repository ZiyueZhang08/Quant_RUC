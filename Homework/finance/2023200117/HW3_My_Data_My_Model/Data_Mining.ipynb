{
 "cells": [
  {
   "cell_type": "code",
   "execution_count": 1,
   "id": "0fd53f81-a318-4c7d-9129-9869883af04c",
   "metadata": {},
   "outputs": [],
   "source": [
    "from selenium import webdriver\n",
    "from selenium.webdriver.chrome.service import Service\n",
    "from time import sleep\n",
    "import pandas as pd\n",
    "from io import StringIO\n",
    "from functools import partial\n",
    "import matplotlib.pyplot as plt\n",
    "from selenium.webdriver.support import expected_conditions as EC\n",
    "from selenium.webdriver.common.by import By\n",
    "from selenium.common import NoSuchElementException,StaleElementReferenceException\n",
    "from matplotlib import style\n",
    "from webdriver_manager.chrome import ChromeDriverManager\n",
    "import re"
   ]
  },
  {
   "cell_type": "markdown",
   "id": "27596aed-a841-4931-b580-727794f95816",
   "metadata": {
    "jp-MarkdownHeadingCollapsed": true
   },
   "source": [
    "# 二手房"
   ]
  },
  {
   "cell_type": "code",
   "execution_count": 2,
   "id": "5be10f73-47d6-445d-9aa2-040b1e3eb562",
   "metadata": {},
   "outputs": [],
   "source": [
    "driver = webdriver.Chrome()\n",
    "url='https://esf.fang.com/house-a015277-b02655/'\n",
    "driver.get(url)"
   ]
  },
  {
   "cell_type": "code",
   "execution_count": 3,
   "id": "8ad1dfd3-4d39-4e2a-baad-9d744de26d63",
   "metadata": {},
   "outputs": [
    {
     "name": "stdout",
     "output_type": "stream",
     "text": [
      "5\n"
     ]
    }
   ],
   "source": [
    "results_1 = []\n",
    "i = 0\n",
    "Num_Pages = 20\n",
    "\n",
    "while i < Num_Pages:\n",
    "    house_list = driver.find_elements(By.CSS_SELECTOR, \"dl.clearfix\")\n",
    "    for item in house_list:\n",
    "        # 提取面积\n",
    "        area_text = item.find_element(By.CSS_SELECTOR, \"p.tel_shop\").text\n",
    "        # 使用正则表达式匹配面积\n",
    "        area_match = re.search(r'(\\d+(\\.\\d+)?)㎡', area_text)\n",
    "        area = float(area_match.group(1)) if area_match else None\n",
    "        \n",
    "        # 提取总价\n",
    "        total_price_text = item.find_element(By.CSS_SELECTOR, \"dd.price_right span.red\").text\n",
    "        # 使用正则表达式匹配总价\n",
    "        total_price_match = re.search(r'(\\d+(\\.\\d+)?)万', total_price_text)\n",
    "        total_price = float(total_price_match.group(1)) if total_price_match else None\n",
    "        \n",
    "        # 提取单价\n",
    "        unit_price_text = item.find_element(By.CSS_SELECTOR, \"dd.price_right span:nth-child(2)\").text\n",
    "        # 使用正则表达式匹配单价\n",
    "        unit_price_match = re.search(r'(\\d+(\\.\\d+)?)元/㎡', unit_price_text)\n",
    "        unit_price = float(unit_price_match.group(1)) if unit_price_match else None\n",
    "        \n",
    "        # 将提取的结果添加到列表\n",
    "        results_1.append({\n",
    "            '面积(㎡)': area,\n",
    "            '总价(元)': total_price,\n",
    "            '单价(元/㎡)': unit_price\n",
    "        })\n",
    "\n",
    "    # 翻页\n",
    "    try:\n",
    "        next_page = driver.find_element('link text', '下一页')\n",
    "        next_page.click()\n",
    "        i += 1\n",
    "    except NoSuchElementException:\n",
    "        print(i)\n",
    "        break"
   ]
  },
  {
   "cell_type": "code",
   "execution_count": 4,
   "id": "369c9ecd-1c76-4257-8f08-01ffd5c506e9",
   "metadata": {},
   "outputs": [
    {
     "name": "stdout",
     "output_type": "stream",
     "text": [
      "      面积(㎡)       总价(元)  单价(元/㎡)\n",
      "0     91.28   7200000.0  78878.0\n",
      "1     57.00   3550000.0  62280.0\n",
      "2     58.70   4800000.0  81771.0\n",
      "3     56.70   3980000.0  70194.0\n",
      "4    254.00  12550000.0  49409.0\n",
      "..      ...         ...      ...\n",
      "306   66.85   5200000.0  77786.0\n",
      "307   67.90   5260000.0  77467.0\n",
      "308   53.76   4400000.0  81846.0\n",
      "309   56.70   3900000.0  68784.0\n",
      "310   44.80   2400000.0  53570.0\n",
      "\n",
      "[311 rows x 3 columns]\n"
     ]
    }
   ],
   "source": [
    "# 转化为Dataframe\n",
    "df_1 = pd.DataFrame(results_1)\n",
    "df_1['总价(元)'] = df_1['总价(元)']*10000\n",
    "print(df_1)"
   ]
  },
  {
   "cell_type": "code",
   "execution_count": 5,
   "id": "57b6e94f-b917-409a-8cef-7b77ed8e663b",
   "metadata": {},
   "outputs": [],
   "source": [
    "# 输出文件\n",
    "df_1.to_csv('Beijing_Suzhouqiao_Sales.csv', index=False, encoding='utf-8')"
   ]
  },
  {
   "cell_type": "markdown",
   "id": "378cf2a8-0059-4962-84ea-c583da2bf116",
   "metadata": {
    "jp-MarkdownHeadingCollapsed": true
   },
   "source": [
    "# 租房"
   ]
  },
  {
   "cell_type": "code",
   "execution_count": 6,
   "id": "cd501d12-7afc-4395-9f91-a4edd9862434",
   "metadata": {},
   "outputs": [],
   "source": [
    "driver = webdriver.Chrome()\n",
    "url='https://zu.fang.com/house-a015277-b02655/'\n",
    "driver.get(url)"
   ]
  },
  {
   "cell_type": "code",
   "execution_count": 7,
   "id": "0117dc2e-905a-4669-8e13-a09815a44dd8",
   "metadata": {},
   "outputs": [
    {
     "name": "stdout",
     "output_type": "stream",
     "text": [
      "5\n"
     ]
    }
   ],
   "source": [
    "results_2 = []\n",
    "i = 0\n",
    "Num_Pages = 20\n",
    "\n",
    "while i < Num_Pages:\n",
    "    house_list = driver.find_elements(By.CSS_SELECTOR, \"dl.list.hiddenMap.rel\")\n",
    "    for item in house_list:\n",
    "        # 提取面积\n",
    "        area_text = item.find_element(By.CSS_SELECTOR, \"p.font15.mt12.bold\").text\n",
    "        # 使用正则表达式匹配面积\n",
    "        area_match = re.search(r'(\\d+(\\.\\d+)?)㎡', area_text)\n",
    "        area = float(area_match.group(1)) if area_match else None\n",
    "        \n",
    "        # 提取总价\n",
    "        price_text = item.find_element(By.CSS_SELECTOR, \"span.price\").text\n",
    "        # 提取数字\n",
    "        price = float(price_text)\n",
    "        \n",
    "        # 将提取的结果添加到列表\n",
    "        results_2.append({\n",
    "            '面积(㎡)': area,\n",
    "            '总价(元/月)': price,\n",
    "        })\n",
    "\n",
    "    # 翻页\n",
    "    try:\n",
    "        next_page = driver.find_element('link text', '下一页')\n",
    "        next_page.click()\n",
    "        i += 1\n",
    "    except NoSuchElementException:\n",
    "        print(i)\n",
    "        break"
   ]
  },
  {
   "cell_type": "code",
   "execution_count": 8,
   "id": "e7a03beb-078c-423c-b918-761084b78c6c",
   "metadata": {},
   "outputs": [
    {
     "name": "stdout",
     "output_type": "stream",
     "text": [
      "     面积(㎡)  总价(元/月)\n",
      "0     66.0  10200.0\n",
      "1     74.0  15000.0\n",
      "2     85.0  12500.0\n",
      "3     63.0   7300.0\n",
      "4     18.0   4260.0\n",
      "..     ...      ...\n",
      "300   66.0   7800.0\n",
      "301   61.0   7803.0\n",
      "302   56.0  11500.0\n",
      "303   56.0   2700.0\n",
      "304   60.0   7800.0\n",
      "\n",
      "[305 rows x 2 columns]\n"
     ]
    }
   ],
   "source": [
    "# 转化为Dataframe\n",
    "df_2 = pd.DataFrame(results_2)\n",
    "print(df_2)"
   ]
  },
  {
   "cell_type": "code",
   "execution_count": 9,
   "id": "54db3ab6-3203-43cf-a6f4-ba13a3d988f6",
   "metadata": {},
   "outputs": [],
   "source": [
    "# 输出文件\n",
    "df_2.to_csv('Beijing_Suzhouqiao_Rent.csv', index=False, encoding='utf-8')"
   ]
  }
 ],
 "metadata": {
  "kernelspec": {
   "display_name": "Python 3 (ipykernel)",
   "language": "python",
   "name": "python3"
  },
  "language_info": {
   "codemirror_mode": {
    "name": "ipython",
    "version": 3
   },
   "file_extension": ".py",
   "mimetype": "text/x-python",
   "name": "python",
   "nbconvert_exporter": "python",
   "pygments_lexer": "ipython3",
   "version": "3.12.3"
  }
 },
 "nbformat": 4,
 "nbformat_minor": 5
}
