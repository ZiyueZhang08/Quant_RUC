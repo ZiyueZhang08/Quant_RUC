{
 "cells": [
  {
   "cell_type": "code",
   "execution_count": 1,
   "id": "411d48f5-fe2e-45e9-a981-eddae23de67a",
   "metadata": {},
   "outputs": [],
   "source": [
    "import pandas as pd\n",
    "import numpy as np\n",
    "import matplotlib.pyplot as plt\n",
    "from sklearn.preprocessing import OneHotEncoder\n",
    "import statsmodels.api as sm"
   ]
  },
  {
   "cell_type": "markdown",
   "id": "3c4c5f73-c24a-4404-ae90-66e4f62b5985",
   "metadata": {
    "jp-MarkdownHeadingCollapsed": true
   },
   "source": [
    "# 数据融合"
   ]
  },
  {
   "cell_type": "code",
   "execution_count": 2,
   "id": "327c0c9c-04e5-4471-be16-8a322b65700d",
   "metadata": {},
   "outputs": [],
   "source": [
    "blocks = [\"Suzhouqiao\", \"Wanliu\", \"Beitaipingzhuang\", \"Shijicheng\"]\n",
    "dfs_sales = []\n",
    "dfs_rent = []"
   ]
  },
  {
   "cell_type": "code",
   "execution_count": 3,
   "id": "4ce79f38-1348-4af7-9e72-9a0f0bdbf141",
   "metadata": {},
   "outputs": [
    {
     "name": "stdout",
     "output_type": "stream",
     "text": [
      "成功读取并处理文件: Beijing_Suzhouqiao_Sales.csv\n",
      "成功读取并处理文件: Beijing_Wanliu_Sales.csv\n",
      "成功读取并处理文件: Beijing_Beitaipingzhuang_Sales.csv\n",
      "成功读取并处理文件: Beijing_Shijicheng_Sales.csv\n",
      "二手房数据合并完成，总记录数: 2880\n"
     ]
    }
   ],
   "source": [
    "# 读取每个文件\n",
    "for block in blocks:\n",
    "    filename = f\"Beijing_{block}_Sales.csv\"\n",
    "    try:\n",
    "        df = pd.read_csv(filename)\n",
    "        df['unit_price'] = df['total_price']/df['area']\n",
    "        df['block'] = block\n",
    "        dfs_sales.append(df)\n",
    "        print(f\"成功读取并处理文件: {filename}\")\n",
    "    except FileNotFoundError:\n",
    "        print(f\"错误: 文件 {filename} 未找到\")\n",
    "    except Exception as e:\n",
    "        print(f\"处理文件 {filename} 时发生错误: {str(e)}\")\n",
    "\n",
    "# 拼接数据\n",
    "if dfs_sales:\n",
    "    sales = pd.concat(dfs_sales, ignore_index=True)\n",
    "    print(f\"二手房数据合并完成，总记录数: {len(sales)}\")\n",
    "else:\n",
    "    print(\"没有成功读取任何数据，无法进行合并\")\n",
    "    combined_df = None"
   ]
  },
  {
   "cell_type": "code",
   "execution_count": 4,
   "id": "8aa1050f-c600-4464-886f-97a7b12dac6c",
   "metadata": {},
   "outputs": [
    {
     "name": "stdout",
     "output_type": "stream",
     "text": [
      "成功读取并处理文件: Beijing_Suzhouqiao_Rent.csv\n",
      "成功读取并处理文件: Beijing_Wanliu_Rent.csv\n",
      "成功读取并处理文件: Beijing_Beitaipingzhuang_Rent.csv\n",
      "成功读取并处理文件: Beijing_Shijicheng_Rent.csv\n",
      "租房数据合并完成，总记录数: 4154\n"
     ]
    }
   ],
   "source": [
    "# 读取每个文件\n",
    "for block in blocks:\n",
    "    filename = f\"Beijing_{block}_Rent.csv\"\n",
    "    try:\n",
    "        df = pd.read_csv(filename)\n",
    "        df['unit_price'] = df['total_price']/df['area']\n",
    "        df['block'] = block\n",
    "        dfs_rent.append(df)\n",
    "        print(f\"成功读取并处理文件: {filename}\")\n",
    "    except FileNotFoundError:\n",
    "        print(f\"错误: 文件 {filename} 未找到\")\n",
    "    except Exception as e:\n",
    "        print(f\"处理文件 {filename} 时发生错误: {str(e)}\")\n",
    "\n",
    "# 拼接数据\n",
    "if dfs_rent:\n",
    "    rent = pd.concat(dfs_rent, ignore_index=True)\n",
    "    print(f\"租房数据合并完成，总记录数: {len(rent)}\")\n",
    "else:\n",
    "    print(\"没有成功读取任何数据，无法进行合并\")\n",
    "    combined_df = None"
   ]
  },
  {
   "cell_type": "code",
   "execution_count": 5,
   "id": "0fd1ffdc-efd2-4ec5-a86e-2a5810c3a9b3",
   "metadata": {},
   "outputs": [
    {
     "name": "stdout",
     "output_type": "stream",
     "text": [
      "        area  total_price     unit_price       block\n",
      "0      91.28      7200000   78878.177038  Suzhouqiao\n",
      "1      57.00      3550000   62280.701754  Suzhouqiao\n",
      "2      58.70      4800000   81771.720613  Suzhouqiao\n",
      "3      56.70      3980000   70194.003527  Suzhouqiao\n",
      "4     254.00     12550000   49409.448819  Suzhouqiao\n",
      "...      ...          ...            ...         ...\n",
      "2875  156.47     12600000   80526.618521  Shijicheng\n",
      "2876  173.00     17000000   98265.895954  Shijicheng\n",
      "2877  161.00     17700000  109937.888199  Shijicheng\n",
      "2878  209.00     21000000  100478.468900  Shijicheng\n",
      "2879  186.00     19500000  104838.709677  Shijicheng\n",
      "\n",
      "[2880 rows x 4 columns]\n"
     ]
    }
   ],
   "source": [
    "print(sales)"
   ]
  },
  {
   "cell_type": "code",
   "execution_count": 6,
   "id": "ea3b7b22-065f-4a5f-a715-79d7304dc038",
   "metadata": {},
   "outputs": [
    {
     "name": "stdout",
     "output_type": "stream",
     "text": [
      "      area  total_price  unit_price       block\n",
      "0       66        10200  154.545455  Suzhouqiao\n",
      "1       74        15000  202.702703  Suzhouqiao\n",
      "2       85        12500  147.058824  Suzhouqiao\n",
      "3       63         7300  115.873016  Suzhouqiao\n",
      "4       18         4260  236.666667  Suzhouqiao\n",
      "...    ...          ...         ...         ...\n",
      "4149   161        19000  118.012422  Shijicheng\n",
      "4150   195        22000  112.820513  Shijicheng\n",
      "4151   172        18500  107.558140  Shijicheng\n",
      "4152   125        17000  136.000000  Shijicheng\n",
      "4153   184        17000   92.391304  Shijicheng\n",
      "\n",
      "[4154 rows x 4 columns]\n"
     ]
    }
   ],
   "source": [
    "print(rent)"
   ]
  },
  {
   "cell_type": "markdown",
   "id": "813439bc-e6a5-4f8f-aafb-dd205bff7ec8",
   "metadata": {
    "jp-MarkdownHeadingCollapsed": true
   },
   "source": [
    "# 描述性统计与预处理"
   ]
  },
  {
   "cell_type": "markdown",
   "id": "42637d83-802a-49cf-bd5b-2d7a5ac29481",
   "metadata": {},
   "source": [
    "## 描述性统计和异常值处理"
   ]
  },
  {
   "cell_type": "code",
   "execution_count": 7,
   "id": "40cdf553-5db3-4f30-bf3e-abcfa5917eb2",
   "metadata": {},
   "outputs": [],
   "source": [
    "def process_data(df, data_name):\n",
    "    # 存储处理后的数据\n",
    "    processed_dfs = []\n",
    "    \n",
    "    for block in blocks:\n",
    "        # 筛选当前block的数据\n",
    "        block_data = df[df['block'] == block].copy()\n",
    "        print(f\"\\n处理block: {block}, type: {data_name} 原始数据行数: {len(block_data)}\")\n",
    "        \n",
    "        # 描述性统计\n",
    "        stats = block_data.describe()\n",
    "        print(f\"\\n{block}的{data_name}数据描述性统计:\")\n",
    "        print(stats)\n",
    "        \n",
    "        # 对每个数值列应用3σ原则检测异常值\n",
    "        numeric_cols = block_data.select_dtypes(include=[np.number]).columns\n",
    "        outlier_mask = pd.Series(False, index=block_data.index)\n",
    "        \n",
    "        for col in numeric_cols:\n",
    "            # 计算均值和标准差\n",
    "            mean = block_data[col].mean()\n",
    "            std = block_data[col].std()\n",
    "            \n",
    "            # 3σ原则：超出[mean-3*std, mean+3*std]范围的值为异常值\n",
    "            col_outliers = (block_data[col] < (mean - 3 * std)) | (block_data[col] > (mean + 3 * std))\n",
    "            outlier_mask = outlier_mask | col_outliers\n",
    "            \n",
    "            # 统计当前列的异常值数量\n",
    "            col_outlier_count = col_outliers.sum()\n",
    "            if col_outlier_count > 0:\n",
    "                print(f\"列'{col}'中检测到{col_outlier_count}个异常值\")\n",
    "        \n",
    "        # 剔除异常值\n",
    "        cleaned_data = block_data[~outlier_mask]\n",
    "        outlier_count = len(block_data) - len(cleaned_data)\n",
    "        print(f\"共检测到{outlier_count}个异常值，剔除后剩余{len(cleaned_data)}行数据\")\n",
    "        \n",
    "        # 添加到处理后的数据列表\n",
    "        processed_dfs.append(cleaned_data)\n",
    "        \n",
    "    # 合并所有处理后的block数据\n",
    "    result_df = pd.concat(processed_dfs, ignore_index=True)\n",
    "    print(f\"\\n{data_name}数据处理完成，原始总数据行数: {len(df)}, 处理后总数据行数: {len(result_df)}\")\n",
    "    \n",
    "    return result_df"
   ]
  },
  {
   "cell_type": "code",
   "execution_count": 8,
   "id": "796f6a94-9644-4c8a-9cd2-8489d9583f6b",
   "metadata": {},
   "outputs": [
    {
     "name": "stdout",
     "output_type": "stream",
     "text": [
      "\n",
      "处理block: Suzhouqiao, type: 二手房 原始数据行数: 311\n",
      "\n",
      "Suzhouqiao的二手房数据描述性统计:\n",
      "             area   total_price     unit_price\n",
      "count  311.000000  3.110000e+02     311.000000\n",
      "mean    89.096334  6.891672e+06   79486.606641\n",
      "std     61.586908  4.477599e+06   12908.368936\n",
      "min     26.800000  2.400000e+06   49333.333333\n",
      "25%     56.000000  4.335000e+06   70782.774209\n",
      "50%     66.910000  5.300000e+06   78669.482577\n",
      "75%     92.200000  7.680000e+06   86338.932806\n",
      "max    337.400000  3.200000e+07  152985.074627\n",
      "列'area'中检测到9个异常值\n",
      "列'total_price'中检测到6个异常值\n",
      "列'unit_price'中检测到2个异常值\n",
      "共检测到14个异常值，剔除后剩余297行数据\n",
      "\n",
      "处理block: Wanliu, type: 二手房 原始数据行数: 1175\n",
      "\n",
      "Wanliu的二手房数据描述性统计:\n",
      "              area   total_price     unit_price\n",
      "count  1175.000000  1.175000e+03    1175.000000\n",
      "mean    186.761821  3.166600e+07  154790.899279\n",
      "std      90.679777  2.417384e+07   44992.552987\n",
      "min      44.170000  2.380000e+06   43709.825528\n",
      "25%     127.200000  1.650000e+07  127131.782946\n",
      "50%     160.000000  2.380000e+07  141983.398864\n",
      "75%     230.010000  3.500000e+07  167700.821734\n",
      "max     745.000000  1.940000e+08  290155.440415\n",
      "列'area'中检测到5个异常值\n",
      "列'total_price'中检测到3个异常值\n",
      "列'unit_price'中检测到2个异常值\n",
      "共检测到8个异常值，剔除后剩余1167行数据\n",
      "\n",
      "处理block: Beitaipingzhuang, type: 二手房 原始数据行数: 194\n",
      "\n",
      "Beitaipingzhuang的二手房数据描述性统计:\n",
      "             area   total_price     unit_price\n",
      "count  194.000000  1.940000e+02     194.000000\n",
      "mean   124.145258  1.112804e+07   86937.724065\n",
      "std     82.450821  7.745650e+06   22907.282927\n",
      "min     33.150000  1.750000e+06   32025.908600\n",
      "25%     70.690000  5.645000e+06   76906.621029\n",
      "50%     93.405000  7.600000e+06   89639.991430\n",
      "75%    148.800000  1.538500e+07   99005.990276\n",
      "max    491.050000  3.160000e+07  145405.819296\n",
      "列'area'中检测到2个异常值\n",
      "共检测到2个异常值，剔除后剩余192行数据\n",
      "\n",
      "处理block: Shijicheng, type: 二手房 原始数据行数: 1200\n",
      "\n",
      "Shijicheng的二手房数据描述性统计:\n",
      "              area   total_price     unit_price\n",
      "count  1200.000000  1.200000e+03    1200.000000\n",
      "mean    168.830108  1.946842e+07  113945.483250\n",
      "std      51.840582  8.333729e+06   18859.746486\n",
      "min      56.990000  3.770000e+06   64885.496183\n",
      "25%     134.000000  1.480000e+07  101522.136294\n",
      "50%     165.000000  1.800000e+07  110303.030303\n",
      "75%     202.000000  2.250000e+07  125853.658537\n",
      "max     494.340000  8.000000e+07  183346.594251\n",
      "列'area'中检测到15个异常值\n",
      "列'total_price'中检测到26个异常值\n",
      "列'unit_price'中检测到12个异常值\n",
      "共检测到27个异常值，剔除后剩余1173行数据\n",
      "\n",
      "二手房数据处理完成，原始总数据行数: 2880, 处理后总数据行数: 2829\n",
      "\n",
      "处理block: Suzhouqiao, type: 租房 原始数据行数: 305\n",
      "\n",
      "Suzhouqiao的租房数据描述性统计:\n",
      "             area   total_price  unit_price\n",
      "count  305.000000    305.000000  305.000000\n",
      "mean    65.990164   8363.573770  133.585357\n",
      "std     26.238843   2962.786612   37.644073\n",
      "min      8.000000   2100.000000   40.579710\n",
      "25%     56.000000   6700.000000  111.111111\n",
      "50%     63.000000   7600.000000  125.000000\n",
      "75%     75.000000   9500.000000  152.941176\n",
      "max    197.000000  18000.000000  327.272727\n",
      "列'area'中检测到8个异常值\n",
      "列'total_price'中检测到1个异常值\n",
      "列'unit_price'中检测到5个异常值\n",
      "共检测到13个异常值，剔除后剩余292行数据\n",
      "\n",
      "处理block: Wanliu, type: 租房 原始数据行数: 2400\n",
      "\n",
      "Wanliu的租房数据描述性统计:\n",
      "              area    total_price   unit_price\n",
      "count  2400.000000    2400.000000  2400.000000\n",
      "mean    189.105833   37454.641667   178.127109\n",
      "std     123.364666   34229.627709    76.339066\n",
      "min      42.000000    5000.000000    86.608927\n",
      "25%      99.000000   14000.000000   132.352941\n",
      "50%     159.000000   25000.000000   151.898734\n",
      "75%     248.000000   45000.000000   188.679245\n",
      "max    1501.000000  160000.000000   448.916409\n",
      "列'area'中检测到6个异常值\n",
      "列'total_price'中检测到82个异常值\n",
      "列'unit_price'中检测到106个异常值\n",
      "共检测到112个异常值，剔除后剩余2288行数据\n",
      "\n",
      "处理block: Beitaipingzhuang, type: 租房 原始数据行数: 249\n",
      "\n",
      "Beitaipingzhuang的租房数据描述性统计:\n",
      "             area   total_price  unit_price\n",
      "count  249.000000    249.000000  249.000000\n",
      "mean    70.481928   9297.301205  140.267889\n",
      "std     47.390969   5741.178784   32.936136\n",
      "min     10.000000   1700.000000   88.495575\n",
      "25%     50.000000   6500.000000  118.181818\n",
      "50%     56.000000   7300.000000  132.075472\n",
      "75%     81.000000  10000.000000  151.912281\n",
      "max    367.000000  45000.000000  291.666667\n",
      "列'area'中检测到2个异常值\n",
      "列'total_price'中检测到2个异常值\n",
      "列'unit_price'中检测到5个异常值\n",
      "共检测到7个异常值，剔除后剩余242行数据\n",
      "\n",
      "处理block: Shijicheng, type: 租房 原始数据行数: 1200\n",
      "\n",
      "Shijicheng的租房数据描述性统计:\n",
      "              area   total_price   unit_price\n",
      "count  1200.000000   1200.000000  1200.000000\n",
      "mean    157.100000  19517.616667   120.343626\n",
      "std      50.385735  10807.359059    33.344278\n",
      "min      57.000000   7500.000000    79.754601\n",
      "25%     124.000000  13000.000000    99.137931\n",
      "50%     161.000000  16000.000000   108.843537\n",
      "75%     175.000000  21000.000000   133.891213\n",
      "max     323.000000  70000.000000   372.340426\n",
      "列'area'中检测到14个异常值\n",
      "列'total_price'中检测到52个异常值\n",
      "列'unit_price'中检测到9个异常值\n",
      "共检测到53个异常值，剔除后剩余1147行数据\n",
      "\n",
      "租房数据处理完成，原始总数据行数: 4154, 处理后总数据行数: 3969\n"
     ]
    }
   ],
   "source": [
    "processed_sales = process_data(sales, \"二手房\")\n",
    "processed_rent = process_data(rent, \"租房\")"
   ]
  },
  {
   "cell_type": "markdown",
   "id": "dc22bee2-5374-4911-ab10-0689d26a561e",
   "metadata": {},
   "source": [
    "## 计算price to rent ratio与绘图"
   ]
  },
  {
   "cell_type": "code",
   "execution_count": 9,
   "id": "b289588f-607a-4902-aa55-1ac26ed709db",
   "metadata": {},
   "outputs": [],
   "source": [
    "# 计算中位数\n",
    "median_list=[]\n",
    "for block in blocks:\n",
    "    sales_median = processed_sales[processed_sales['block']==block]['unit_price'].median()\n",
    "    rent_median = processed_rent[processed_rent['block']==block]['unit_price'].median()\n",
    "    ratio_median = sales_median/rent_median\n",
    "    median_list.append({\n",
    "        \"block\":block,\n",
    "        \"sales_median\":sales_median,\n",
    "        \"rent_median\":rent_median,\n",
    "        \"ratio_median\":ratio_median\n",
    "    })\n",
    "result_median = pd.DataFrame(median_list)"
   ]
  },
  {
   "cell_type": "code",
   "execution_count": 10,
   "id": "203adb8c-7cac-408d-a445-de02fab3fed6",
   "metadata": {},
   "outputs": [],
   "source": [
    "def draw_bar_plot(df):\n",
    "    \n",
    "    # 绘制柱状图\n",
    "    plt.rcParams[\"font.family\"] = [\"SimHei\"]\n",
    "    plt.figure(figsize=(12, 6))\n",
    "    bars = plt.bar(df['block'], df['ratio_median'], color='skyblue')\n",
    "\n",
    "    # 添加标题和轴标签\n",
    "    plt.title('各街区房价租金比中位数', fontsize=15)\n",
    "    plt.xlabel('街区', fontsize=12)\n",
    "    plt.ylabel('房价租金比中位数', fontsize=12)\n",
    "\n",
    "    # 旋转x轴标签以防重叠\n",
    "    plt.xticks(rotation=45, ha='right')\n",
    "\n",
    "    # 添加数值标签\n",
    "    for bar in bars:\n",
    "        height = bar.get_height()\n",
    "        plt.text(bar.get_x() + bar.get_width()/2., height, f'{height:.2f}',ha='center', va='bottom', rotation=0)\n",
    "\n",
    "    # 添加参考线\n",
    "    plt.axhline(y=200, color='red', linestyle='--', label='Global Fair Value')\n",
    "\n",
    "    # 调整布局\n",
    "    plt.tight_layout()\n",
    "\n",
    "    # 显示图例\n",
    "    plt.legend()\n",
    "\n",
    "    return plt"
   ]
  },
  {
   "cell_type": "code",
   "execution_count": 11,
   "id": "493add4d-8f3c-472f-82df-e03987d9a427",
   "metadata": {},
   "outputs": [
    {
     "name": "stdout",
     "output_type": "stream",
     "text": [
      "              block   sales_median  rent_median  ratio_median\n",
      "0        Suzhouqiao   78431.372549   126.036683    622.290042\n",
      "1            Wanliu  141921.397380   148.888889    953.203415\n",
      "2  Beitaipingzhuang   89942.528736   131.827210    682.275905\n",
      "3        Shijicheng  109854.014599   108.433735   1013.098135\n"
     ]
    },
    {
     "data": {
      "image/png": "[encoded data removed]",
      "text/plain": [
       "<Figure size 1200x600 with 1 Axes>"
      ]
     },
     "metadata": {},
     "output_type": "display_data"
    }
   ],
   "source": [
    "print(result_median)\n",
    "draw_bar_plot(result_median).show()"
   ]
  },
  {
   "cell_type": "markdown",
   "id": "bde853fd-14ad-4061-a519-5262c9cb5019",
   "metadata": {
    "jp-MarkdownHeadingCollapsed": true
   },
   "source": [
    "# 线性回归：Model 1 & Model 2"
   ]
  },
  {
   "cell_type": "markdown",
   "id": "d7282aa1-eff5-432a-a23c-6599b36a998c",
   "metadata": {
    "jp-MarkdownHeadingCollapsed": true
   },
   "source": [
    "## Model 1"
   ]
  },
  {
   "cell_type": "code",
   "execution_count": 12,
   "id": "ea690fd5-4aef-447e-8172-4be8efd25d78",
   "metadata": {},
   "outputs": [],
   "source": [
    "# 数据处理：对block独热编码 + 拆分回归X和Y\n",
    "# 独热编码\n",
    "encoder = OneHotEncoder(sparse_output=False, drop='first')\n",
    "block_encoded_1 = encoder.fit_transform(processed_sales[['block']])\n",
    "block_dummies_1 = pd.DataFrame(block_encoded_1, columns=encoder.get_feature_names_out(['block']),index=processed_sales.index)\n",
    "\n",
    "# 获取X和Y\n",
    "X_1 = pd.concat([processed_sales['area'], block_dummies_1], axis=1)\n",
    "X_1 = sm.add_constant(X_1)\n",
    "Y_1 = processed_sales['unit_price']"
   ]
  },
  {
   "cell_type": "code",
   "execution_count": 13,
   "id": "3da495b4-bda4-4bcb-9500-1bb58858d969",
   "metadata": {
    "scrolled": true
   },
   "outputs": [
    {
     "name": "stdout",
     "output_type": "stream",
     "text": [
      "                            OLS Regression Results                            \n",
      "==============================================================================\n",
      "Dep. Variable:             unit_price   R-squared:                       0.597\n",
      "Model:                            OLS   Adj. R-squared:                  0.597\n",
      "Method:                 Least Squares   F-statistic:                     1047.\n",
      "Date:                Thu, 16 Oct 2025   Prob (F-statistic):               0.00\n",
      "Time:                        01:12:38   Log-Likelihood:                -32807.\n",
      "No. Observations:                2829   AIC:                         6.562e+04\n",
      "Df Residuals:                    2824   BIC:                         6.565e+04\n",
      "Df Model:                           4                                         \n",
      "Covariance Type:            nonrobust                                         \n",
      "====================================================================================\n",
      "                       coef    std err          t      P>|t|      [0.025      0.975]\n",
      "------------------------------------------------------------------------------------\n",
      "const             5.618e+04   2099.999     26.752      0.000    5.21e+04    6.03e+04\n",
      "area               257.9690      7.423     34.754      0.000     243.415     272.523\n",
      "block_Shijicheng  1.436e+04   2076.321      6.914      0.000    1.03e+04    1.84e+04\n",
      "block_Suzhouqiao  2166.5008   2456.343      0.882      0.378   -2649.908    6982.909\n",
      "block_Wanliu      5.037e+04   2106.453     23.912      0.000    4.62e+04    5.45e+04\n",
      "==============================================================================\n",
      "Omnibus:                      193.680   Durbin-Watson:                   1.940\n",
      "Prob(Omnibus):                  0.000   Jarque-Bera (JB):              377.508\n",
      "Skew:                           0.475   Prob(JB):                     1.06e-82\n",
      "Kurtosis:                       4.517   Cond. No.                     1.41e+03\n",
      "==============================================================================\n",
      "\n",
      "Notes:\n",
      "[1] Standard Errors assume that the covariance matrix of the errors is correctly specified.\n",
      "[2] The condition number is large, 1.41e+03. This might indicate that there are\n",
      "strong multicollinearity or other numerical problems.\n"
     ]
    }
   ],
   "source": [
    "# 执行OLS回归\n",
    "model_1 = sm.OLS(Y_1, X_1).fit()\n",
    "print(model_1.summary())"
   ]
  },
  {
   "cell_type": "markdown",
   "id": "35d4fa86-a8e6-41d5-8c05-bb773f07eb42",
   "metadata": {
    "jp-MarkdownHeadingCollapsed": true
   },
   "source": [
    "## Model 2"
   ]
  },
  {
   "cell_type": "code",
   "execution_count": 14,
   "id": "61b8a589-73e2-4c52-a795-1a18d7a39e69",
   "metadata": {},
   "outputs": [],
   "source": [
    "# 数据处理：对block独热编码 + 拆分回归X和Y\n",
    "# 独热编码\n",
    "encoder = OneHotEncoder(sparse_output=False, drop='first')\n",
    "block_encoded_2 = encoder.fit_transform(processed_rent[['block']])\n",
    "block_dummies_2 = pd.DataFrame(block_encoded_2, columns=encoder.get_feature_names_out(['block']),index=processed_rent.index)\n",
    "\n",
    "# 获取X和Y\n",
    "X_2 = pd.concat([processed_rent['area'], block_dummies_2], axis=1)\n",
    "X_2 = sm.add_constant(X_2)\n",
    "Y_2 = processed_rent['unit_price']"
   ]
  },
  {
   "cell_type": "code",
   "execution_count": 15,
   "id": "a0d49eae-c102-4b94-b626-771f3d47f6e6",
   "metadata": {},
   "outputs": [
    {
     "name": "stdout",
     "output_type": "stream",
     "text": [
      "                            OLS Regression Results                            \n",
      "==============================================================================\n",
      "Dep. Variable:             unit_price   R-squared:                       0.336\n",
      "Model:                            OLS   Adj. R-squared:                  0.335\n",
      "Method:                 Least Squares   F-statistic:                     501.0\n",
      "Date:                Thu, 16 Oct 2025   Prob (F-statistic):               0.00\n",
      "Time:                        01:12:38   Log-Likelihood:                -20248.\n",
      "No. Observations:                3969   AIC:                         4.051e+04\n",
      "Df Residuals:                    3964   BIC:                         4.054e+04\n",
      "Df Model:                           4                                         \n",
      "Covariance Type:            nonrobust                                         \n",
      "====================================================================================\n",
      "                       coef    std err          t      P>|t|      [0.025      0.975]\n",
      "------------------------------------------------------------------------------------\n",
      "const              124.3457      2.605     47.727      0.000     119.238     129.454\n",
      "area                 0.1949      0.007     26.906      0.000       0.181       0.209\n",
      "block_Shijicheng   -37.9613      2.877    -13.197      0.000     -43.601     -32.322\n",
      "block_Suzhouqiao    -4.4679      3.458     -1.292      0.196     -11.247       2.312\n",
      "block_Wanliu         6.5372      2.808      2.328      0.020       1.032      12.042\n",
      "==============================================================================\n",
      "Omnibus:                     1936.062   Durbin-Watson:                   1.949\n",
      "Prob(Omnibus):                  0.000   Jarque-Bera (JB):            16594.024\n",
      "Skew:                           2.148   Prob(JB):                         0.00\n",
      "Kurtosis:                      12.050   Cond. No.                     1.55e+03\n",
      "==============================================================================\n",
      "\n",
      "Notes:\n",
      "[1] Standard Errors assume that the covariance matrix of the errors is correctly specified.\n",
      "[2] The condition number is large, 1.55e+03. This might indicate that there are\n",
      "strong multicollinearity or other numerical problems.\n"
     ]
    }
   ],
   "source": [
    "# 执行OLS回归\n",
    "model_2 = sm.OLS(Y_2, X_2).fit()\n",
    "print(model_2.summary())"
   ]
  },
  {
   "cell_type": "markdown",
   "id": "efcef940-b4e2-4b12-ba22-5a3bad3f74e1",
   "metadata": {
    "jp-MarkdownHeadingCollapsed": true
   },
   "source": [
    "## 模型应用"
   ]
  },
  {
   "cell_type": "code",
   "execution_count": 16,
   "id": "25d55d66-4183-4c8d-bbed-75d5e6162826",
   "metadata": {},
   "outputs": [],
   "source": [
    "# 创建sales_price列：processed_sales['unit_price'] + model_1.predict(X_2)\n",
    "sales_price = pd.concat([\n",
    "    processed_sales['unit_price'], \n",
    "    pd.Series(model_1.predict(X_2), name='unit_price')  # 确保列名一致\n",
    "], ignore_index=True)\n",
    "\n",
    "# 创建rent_price列：model_2.predict(X_1) + processed_rent['unit_price']\n",
    "rent_price = pd.concat([\n",
    "    pd.Series(model_2.predict(X_1), name='unit_price'),  # 确保列名一致\n",
    "    processed_rent['unit_price']\n",
    "], ignore_index=True)\n",
    "\n",
    "# 创建block列：processed_sales['block'] + processed_rent['block']\n",
    "block = pd.concat([\n",
    "    processed_sales['block'], \n",
    "    processed_rent['block']\n",
    "], ignore_index=True)\n",
    "\n",
    "# 创建新的DataFrame\n",
    "all_house_1 = pd.DataFrame({\n",
    "    'sales_price': sales_price,\n",
    "    'rent_price': rent_price,\n",
    "    'block': block\n",
    "})\n",
    "all_house_1['ratio'] = all_house_1['sales_price']/all_house_1['rent_price']"
   ]
  },
  {
   "cell_type": "code",
   "execution_count": 17,
   "id": "522333d4-0b4e-40b9-a2ad-3039da8bf17e",
   "metadata": {},
   "outputs": [
    {
     "name": "stdout",
     "output_type": "stream",
     "text": [
      "新DataFrame的形状: (6798, 4)\n",
      "    sales_price  rent_price       block       ratio\n",
      "0  78878.177038  137.665080  Suzhouqiao  572.971569\n",
      "1  62280.701754  130.985097  Suzhouqiao  475.479296\n",
      "2  81771.720613  131.316368  Suzhouqiao  622.707754\n",
      "3  70194.003527  130.926637  Suzhouqiao  536.132333\n",
      "4  49409.448819  169.373565  Suzhouqiao  291.718774\n"
     ]
    }
   ],
   "source": [
    "print(\"新DataFrame的形状:\", all_house_1.shape)\n",
    "print(all_house_1.head())"
   ]
  },
  {
   "cell_type": "code",
   "execution_count": 18,
   "id": "3f81537c-6c90-4048-8d5d-4c373a611c5d",
   "metadata": {},
   "outputs": [],
   "source": [
    "# 计算每个block的price to rent ratio中位数\n",
    "median_list_1 = []\n",
    "for block in blocks:\n",
    "    block_data = all_house_1[all_house_1['block'] == block]\n",
    "    ratio_median = block_data['ratio'].median()\n",
    "    median_list_1.append({\n",
    "        \"block\":block,\n",
    "        \"ratio_median\":ratio_median\n",
    "    })\n",
    "result_median_1 = pd.DataFrame(median_list_1)"
   ]
  },
  {
   "cell_type": "code",
   "execution_count": 19,
   "id": "b1a9a85a-a448-407c-8a67-8a1efb5a5e54",
   "metadata": {},
   "outputs": [
    {
     "data": {
      "image/png": "[encoded data removed]",
      "text/plain": [
       "<Figure size 1200x600 with 1 Axes>"
      ]
     },
     "metadata": {},
     "output_type": "display_data"
    }
   ],
   "source": [
    "draw_bar_plot(result_median_1).show()"
   ]
  },
  {
   "cell_type": "markdown",
   "id": "a185acfb-2fdc-4e60-8395-bca9591eab5e",
   "metadata": {
    "jp-MarkdownHeadingCollapsed": true
   },
   "source": [
    "# 线性回归：Model 1+ & Model 2+"
   ]
  },
  {
   "cell_type": "markdown",
   "id": "8a389025-9e6a-4df7-bf41-c92b711732a1",
   "metadata": {
    "jp-MarkdownHeadingCollapsed": true
   },
   "source": [
    "## Model 1+"
   ]
  },
  {
   "cell_type": "code",
   "execution_count": 20,
   "id": "096302df-93a8-4dc3-8f4b-4728eac7af8d",
   "metadata": {},
   "outputs": [],
   "source": [
    "# 数据处理：对block独热编码 + 引入非线性项&交叉项 + 拆分回归X和Y\n",
    "# 独热编码\n",
    "encoder = OneHotEncoder(sparse_output=False, drop='first')\n",
    "block_encoded_3 = encoder.fit_transform(processed_sales[['block']])\n",
    "block_dummies_3 = pd.DataFrame(block_encoded_3, columns=encoder.get_feature_names_out(['block']),index=processed_sales.index)\n",
    "\n",
    "# 获取X和Y\n",
    "X_3 = pd.concat([processed_sales['area'], block_dummies_3], axis=1)\n",
    "X_3['area2'] = X_3['area']**2\n",
    "X_3['area x Shijicheng'] = X_3['area']*X_3['block_Shijicheng']\n",
    "X_3['area x Suzhouqiao'] = X_3['area']*X_3['block_Suzhouqiao']\n",
    "X_3['area x Wanliu'] = X_3['area']*X_3['block_Wanliu']\n",
    "X_3 = sm.add_constant(X_3)\n",
    "Y_3 = processed_sales['unit_price']"
   ]
  },
  {
   "cell_type": "code",
   "execution_count": 21,
   "id": "4ad400f2-bcdd-43ce-903f-2595a33e2c2f",
   "metadata": {
    "scrolled": true
   },
   "outputs": [
    {
     "name": "stdout",
     "output_type": "stream",
     "text": [
      "                            OLS Regression Results                            \n",
      "==============================================================================\n",
      "Dep. Variable:             unit_price   R-squared:                       0.655\n",
      "Model:                            OLS   Adj. R-squared:                  0.654\n",
      "Method:                 Least Squares   F-statistic:                     668.4\n",
      "Date:                Thu, 16 Oct 2025   Prob (F-statistic):               0.00\n",
      "Time:                        01:12:39   Log-Likelihood:                -32589.\n",
      "No. Observations:                2829   AIC:                         6.520e+04\n",
      "Df Residuals:                    2820   BIC:                         6.525e+04\n",
      "Df Model:                           8                                         \n",
      "Covariance Type:            nonrobust                                         \n",
      "=====================================================================================\n",
      "                        coef    std err          t      P>|t|      [0.025      0.975]\n",
      "-------------------------------------------------------------------------------------\n",
      "const              8.449e+04   3792.932     22.275      0.000    7.71e+04    9.19e+04\n",
      "area                -26.9665     35.692     -0.756      0.450     -96.951      43.018\n",
      "block_Shijicheng   3.023e+04   4436.294      6.814      0.000    2.15e+04    3.89e+04\n",
      "block_Suzhouqiao   3313.4742   4565.399      0.726      0.468   -5638.385    1.23e+04\n",
      "block_Wanliu        1.72e+04   3980.034      4.321      0.000    9393.456     2.5e+04\n",
      "area2                 0.3004      0.073      4.105      0.000       0.157       0.444\n",
      "area x Shijicheng   -36.2967     29.333     -1.237      0.216     -93.814      21.220\n",
      "area x Suzhouqiao  -111.1520     40.788     -2.725      0.006    -191.130     -31.174\n",
      "area x Wanliu       243.3023     26.076      9.330      0.000     192.172     294.432\n",
      "==============================================================================\n",
      "Omnibus:                      264.325   Durbin-Watson:                   1.952\n",
      "Prob(Omnibus):                  0.000   Jarque-Bera (JB):              825.509\n",
      "Skew:                           0.472   Prob(JB):                    5.53e-180\n",
      "Kurtosis:                       5.472   Cond. No.                     6.82e+05\n",
      "==============================================================================\n",
      "\n",
      "Notes:\n",
      "[1] Standard Errors assume that the covariance matrix of the errors is correctly specified.\n",
      "[2] The condition number is large, 6.82e+05. This might indicate that there are\n",
      "strong multicollinearity or other numerical problems.\n"
     ]
    }
   ],
   "source": [
    "# 执行OLS回归\n",
    "model_3 = sm.OLS(Y_3, X_3).fit()\n",
    "print(model_3.summary())"
   ]
  },
  {
   "cell_type": "markdown",
   "id": "a40c09b5-6bf1-434e-87b5-c064ed10d1f2",
   "metadata": {
    "jp-MarkdownHeadingCollapsed": true
   },
   "source": [
    "## Model 2+"
   ]
  },
  {
   "cell_type": "code",
   "execution_count": 22,
   "id": "5cd8108c-e85c-48d1-9b32-871b7f84acc0",
   "metadata": {},
   "outputs": [],
   "source": [
    "# 数据处理：对block独热编码 + 引入非线性项&交叉项 + 拆分回归X和Y\n",
    "# 独热编码\n",
    "encoder = OneHotEncoder(sparse_output=False, drop='first')\n",
    "block_encoded_4 = encoder.fit_transform(processed_rent[['block']])\n",
    "block_dummies_4 = pd.DataFrame(block_encoded_4, columns=encoder.get_feature_names_out(['block']),index=processed_rent.index)\n",
    "\n",
    "# 获取X和Y\n",
    "X_4 = pd.concat([processed_rent['area'], block_dummies_4], axis=1)\n",
    "X_4['area2'] = X_4['area']**2\n",
    "X_4['area x Shijicheng'] = X_4['area']*X_4['block_Shijicheng']\n",
    "X_4['area x Suzhouqiao'] = X_4['area']*X_4['block_Suzhouqiao']\n",
    "X_4['area x Wanliu'] = X_4['area']*X_4['block_Wanliu']\n",
    "X_4 = sm.add_constant(X_4)\n",
    "Y_4 = processed_rent['unit_price']"
   ]
  },
  {
   "cell_type": "code",
   "execution_count": 23,
   "id": "7112afaa-cf46-4d63-930c-8881be855879",
   "metadata": {},
   "outputs": [
    {
     "name": "stdout",
     "output_type": "stream",
     "text": [
      "                            OLS Regression Results                            \n",
      "==============================================================================\n",
      "Dep. Variable:             unit_price   R-squared:                       0.361\n",
      "Model:                            OLS   Adj. R-squared:                  0.360\n",
      "Method:                 Least Squares   F-statistic:                     279.8\n",
      "Date:                Thu, 16 Oct 2025   Prob (F-statistic):               0.00\n",
      "Time:                        01:12:39   Log-Likelihood:                -20171.\n",
      "No. Observations:                3969   AIC:                         4.036e+04\n",
      "Df Residuals:                    3960   BIC:                         4.042e+04\n",
      "Df Model:                           8                                         \n",
      "Covariance Type:            nonrobust                                         \n",
      "=====================================================================================\n",
      "                        coef    std err          t      P>|t|      [0.025      0.975]\n",
      "-------------------------------------------------------------------------------------\n",
      "const               154.1607      5.141     29.985      0.000     144.081     164.240\n",
      "area                 -0.1970      0.066     -2.989      0.003      -0.326      -0.068\n",
      "block_Shijicheng    -67.0658      6.686    -10.031      0.000     -80.173     -53.958\n",
      "block_Suzhouqiao     19.4127      9.730      1.995      0.046       0.336      38.489\n",
      "block_Wanliu        -42.1960      5.707     -7.393      0.000     -53.385     -31.007\n",
      "area2                -0.0004   6.69e-05     -6.504      0.000      -0.001      -0.000\n",
      "area x Shijicheng     0.4586      0.070      6.537      0.000       0.321       0.596\n",
      "area x Suzhouqiao    -0.4183      0.140     -2.982      0.003      -0.693      -0.143\n",
      "area x Wanliu         0.6042      0.067      9.005      0.000       0.473       0.736\n",
      "==============================================================================\n",
      "Omnibus:                     1810.262   Durbin-Watson:                   1.948\n",
      "Prob(Omnibus):                  0.000   Jarque-Bera (JB):            14514.785\n",
      "Skew:                           1.996   Prob(JB):                         0.00\n",
      "Kurtosis:                      11.475   Cond. No.                     1.02e+06\n",
      "==============================================================================\n",
      "\n",
      "Notes:\n",
      "[1] Standard Errors assume that the covariance matrix of the errors is correctly specified.\n",
      "[2] The condition number is large, 1.02e+06. This might indicate that there are\n",
      "strong multicollinearity or other numerical problems.\n"
     ]
    }
   ],
   "source": [
    "# 执行OLS回归\n",
    "model_4 = sm.OLS(Y_4, X_4).fit()\n",
    "print(model_4.summary())"
   ]
  },
  {
   "cell_type": "markdown",
   "id": "f9242cb1-10db-4f37-ad43-1a138110c1ca",
   "metadata": {
    "jp-MarkdownHeadingCollapsed": true
   },
   "source": [
    "## 模型应用"
   ]
  },
  {
   "cell_type": "code",
   "execution_count": 24,
   "id": "de1849cc-8b96-4946-80c5-3512af715628",
   "metadata": {},
   "outputs": [],
   "source": [
    "# 创建sales_price列：processed_sales['unit_price'] + model_3.predict(X_4)\n",
    "sales_price = pd.concat([\n",
    "    processed_sales['unit_price'], \n",
    "    pd.Series(model_3.predict(X_4), name='unit_price')  # 确保列名一致\n",
    "], ignore_index=True)\n",
    "\n",
    "# 创建rent_price列：model_4.predict(X_3) + processed_rent['unit_price']\n",
    "rent_price = pd.concat([\n",
    "    pd.Series(model_4.predict(X_3), name='unit_price'),  # 确保列名一致\n",
    "    processed_rent['unit_price']\n",
    "], ignore_index=True)\n",
    "\n",
    "# 创建block列：processed_sales['block'] + processed_rent['block']\n",
    "block = pd.concat([\n",
    "    processed_sales['block'], \n",
    "    processed_rent['block']\n",
    "], ignore_index=True)\n",
    "\n",
    "# 创建新的DataFrame\n",
    "all_house_2 = pd.DataFrame({\n",
    "    'sales_price': sales_price,\n",
    "    'rent_price': rent_price,\n",
    "    'block': block\n",
    "})\n",
    "all_house_2['ratio'] = all_house_2['sales_price']/all_house_2['rent_price']"
   ]
  },
  {
   "cell_type": "code",
   "execution_count": 25,
   "id": "ee90fbbe-028d-47d2-940e-bf09e720a86d",
   "metadata": {},
   "outputs": [
    {
     "name": "stdout",
     "output_type": "stream",
     "text": [
      "新DataFrame的形状: (6798, 4)\n",
      "    sales_price  rent_price       block        ratio\n",
      "0  78878.177038  113.784401  Suzhouqiao   693.224876\n",
      "1  62280.701754  137.088318  Suzhouqiao   454.310787\n",
      "2  81771.720613  135.956742  Suzhouqiao   601.453956\n",
      "3  70194.003527  137.287747  Suzhouqiao   511.291103\n",
      "4  49409.448819  -10.784383  Suzhouqiao -4581.574189\n"
     ]
    }
   ],
   "source": [
    "print(\"新DataFrame的形状:\", all_house_2.shape)\n",
    "print(all_house_2.head())"
   ]
  },
  {
   "cell_type": "code",
   "execution_count": 26,
   "id": "9553b017-b0f5-4cc4-b836-1332f07247de",
   "metadata": {},
   "outputs": [],
   "source": [
    "# 计算每个block的price to rent ratio中位数\n",
    "median_list_2 = []\n",
    "for block in blocks:\n",
    "    block_data = all_house_2[all_house_2['block'] == block]\n",
    "    ratio_median = block_data['ratio'].median()\n",
    "    median_list_2.append({\n",
    "        \"block\":block,\n",
    "        \"ratio_median\":ratio_median\n",
    "    })\n",
    "result_median_2 = pd.DataFrame(median_list_2)"
   ]
  },
  {
   "cell_type": "code",
   "execution_count": 27,
   "id": "add6c1b2-931a-4b36-90de-64ee79390621",
   "metadata": {},
   "outputs": [
    {
     "data": {
      "image/png": "[encoded data removed]",
      "text/plain": [
       "<Figure size 1200x600 with 1 Axes>"
      ]
     },
     "metadata": {},
     "output_type": "display_data"
    }
   ],
   "source": [
    "draw_bar_plot(result_median_2).show()"
   ]
  },
  {
   "cell_type": "markdown",
   "id": "1d6311f7-a936-46f6-ad64-eee0150c598f",
   "metadata": {
    "jp-MarkdownHeadingCollapsed": true
   },
   "source": [
    "# 比较模型"
   ]
  },
  {
   "cell_type": "markdown",
   "id": "34d1c67e-e432-41ff-a5aa-350a14029cf5",
   "metadata": {},
   "source": [
    "我认为第三个模型（Model 1+/2+）所得的房价租金比更可信。第一个模型虽然基于实际观测值，但由于无法获得同一个房屋的房价和租金，是采用若干房屋的房价中位数除以若干房屋的租金中位数得到的比值，这种做法在一定程度上忽略了房屋的个体差异性，所得值的可信度有待商榷。第二、三个模型都通过线性回归模型预测的方法，得到所有房屋的房价和租金，然后计算每个房屋的房价租金比，取中位数。相比于第二个模型，第三个模型引入了非线性项（如平方项）、交叉项（如block独热编码和房屋面积的交叉项），使得预测模型能够考虑到更多影响单价的因素，如面积对单价影响的边际效应（通过面积和面积的平方项）、不同block中面积对单价的不同影响（通过交叉项）等，能够更好的拟合。同时考虑到二手房和租房的样本量均较大，更多自变量的引入不会显著的改变模型的过拟合程度。因此，我认为第三个模型（Model 1+/2+）所得的房价租金比更可信。"
   ]
  }
 ],
 "metadata": {
  "kernelspec": {
   "display_name": "Python 3 (ipykernel)",
   "language": "python",
   "name": "python3"
  },
  "language_info": {
   "codemirror_mode": {
    "name": "ipython",
    "version": 3
   },
   "file_extension": ".py",
   "mimetype": "text/x-python",
   "name": "python",
   "nbconvert_exporter": "python",
   "pygments_lexer": "ipython3",
   "version": "3.12.3"
  }
 },
 "nbformat": 4,
 "nbformat_minor": 5
}
