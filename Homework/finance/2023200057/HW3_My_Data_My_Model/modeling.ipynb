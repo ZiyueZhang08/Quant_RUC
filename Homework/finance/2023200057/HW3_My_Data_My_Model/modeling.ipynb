{
 "cells": [
  {
   "cell_type": "code",
   "execution_count": 1,
   "id": "2e3fd15a",
   "metadata": {},
   "outputs": [],
   "source": [
    "import pandas as pd\n",
    "import numpy as np\n",
    "import matplotlib.pyplot as plt\n",
    "import statsmodels.api as sm"
   ]
  },
  {
   "cell_type": "markdown",
   "id": "51d4ff42",
   "metadata": {},
   "source": [
    "# 一、数据导入"
   ]
  },
  {
   "cell_type": "code",
   "execution_count": 2,
   "id": "a708a7ba",
   "metadata": {},
   "outputs": [],
   "source": [
    "# 文件列表\n",
    "files_info = [\n",
    "    {'name': 'Tianjin_Balitai_esf_data.xlsx', 'block': 'Balitai', 'type': 'esf'},\n",
    "    {'name': 'Tianjin_Balitai_zu_data.xlsx', 'block': 'Balitai', 'type': 'zu'},\n",
    "    {'name': 'Tianjin_Quanyechang_esf_data.xlsx', 'block': 'Quanyechang', 'type': 'esf'},\n",
    "    {'name': 'Tianjin_Quanyechang_zu_data.xlsx', 'block': 'Quanyechang', 'type': 'zu'},\n",
    "    {'name': 'Tianjin_Wuqing_esf_data.xlsx', 'block': 'Wuqing', 'type': 'esf'},\n",
    "    {'name': 'Tianjin_Wuqing_zu_data.xlsx', 'block': 'Wuqing', 'type': 'zu'},\n",
    "    {'name': 'Tianjin_Zhongxin_esf_data.xlsx', 'block': 'Zhongxin', 'type': 'esf'},\n",
    "    {'name': 'Tianjin_Zhongxin_zu_data.xlsx', 'block': 'Zhongxin', 'type': 'zu'}\n",
    "]"
   ]
  },
  {
   "cell_type": "code",
   "execution_count": 3,
   "id": "4d39e715",
   "metadata": {},
   "outputs": [
    {
     "name": "stdout",
     "output_type": "stream",
     "text": [
      "成功导入二手房数据: Tianjin_Balitai_esf_data.xlsx - 形状: (1200, 4)\n",
      "成功导入租房数据: Tianjin_Balitai_zu_data.xlsx - 形状: (614, 3)\n",
      "成功导入二手房数据: Tianjin_Quanyechang_esf_data.xlsx - 形状: (1200, 4)\n",
      "成功导入租房数据: Tianjin_Quanyechang_zu_data.xlsx - 形状: (1167, 3)\n",
      "成功导入二手房数据: Tianjin_Wuqing_esf_data.xlsx - 形状: (1200, 4)\n",
      "成功导入租房数据: Tianjin_Wuqing_zu_data.xlsx - 形状: (1200, 3)\n",
      "成功导入二手房数据: Tianjin_Zhongxin_esf_data.xlsx - 形状: (1200, 4)\n",
      "成功导入租房数据: Tianjin_Zhongxin_zu_data.xlsx - 形状: (1200, 3)\n"
     ]
    }
   ],
   "source": [
    "esf_data_frames = []  # 二手房数据\n",
    "zu_data_frames = []   # 租房数据\n",
    "\n",
    "# 导入所有数据文件并分别存储\n",
    "for file_info in files_info:\n",
    "    try:\n",
    "        # 读取Excel文件\n",
    "        df = pd.read_excel(file_info['name'])\n",
    "        \n",
    "        # 添加区块列\n",
    "        df['block'] = file_info['block']\n",
    "        \n",
    "        # 根据类型分别存储\n",
    "        if file_info['type'] == 'esf':\n",
    "            esf_data_frames.append(df)\n",
    "            print(f\"成功导入二手房数据: {file_info['name']} - 形状: {df.shape}\")\n",
    "        else: \n",
    "            zu_data_frames.append(df)\n",
    "            print(f\"成功导入租房数据: {file_info['name']} - 形状: {df.shape}\")\n",
    "        \n",
    "    except Exception as e:\n",
    "        print(f\"导入失败: {file_info['name']} - 错误: {e}\")"
   ]
  },
  {
   "cell_type": "code",
   "execution_count": 4,
   "id": "24c261ff",
   "metadata": {},
   "outputs": [
    {
     "name": "stdout",
     "output_type": "stream",
     "text": [
      "二手房数据合并后形状: (4800, 4)\n",
      "二手房区块分布:\n",
      "block\n",
      "Balitai        1200\n",
      "Quanyechang    1200\n",
      "Wuqing         1200\n",
      "Zhongxin       1200\n",
      "Name: count, dtype: int64\n",
      "二手房数据列: ['面积(㎡)', '总价(万)', '单价(元/㎡)', 'block']\n"
     ]
    }
   ],
   "source": [
    "# 合并二手房数据\n",
    "if esf_data_frames:\n",
    "    esf_combined_df = pd.concat(esf_data_frames, ignore_index=True)\n",
    "    print(f\"二手房数据合并后形状: {esf_combined_df.shape}\")\n",
    "    print(f\"二手房区块分布:\")\n",
    "    print(esf_combined_df['block'].value_counts())\n",
    "    print(f\"二手房数据列: {esf_combined_df.columns.tolist()}\")\n",
    "else:\n",
    "    print(\"没有成功导入任何二手房数据文件\")\n",
    "    esf_combined_df = pd.DataFrame()"
   ]
  },
  {
   "cell_type": "code",
   "execution_count": 5,
   "id": "cc9e4804",
   "metadata": {},
   "outputs": [
    {
     "name": "stdout",
     "output_type": "stream",
     "text": [
      "租房数据合并后形状: (4181, 3)\n",
      "租房区块分布:\n",
      "block\n",
      "Zhongxin       1200\n",
      "Wuqing         1200\n",
      "Quanyechang    1167\n",
      "Balitai         614\n",
      "Name: count, dtype: int64\n",
      "租房数据列: ['面积(㎡)', '租金(元/月)', 'block']\n"
     ]
    }
   ],
   "source": [
    "# 合并租房数据\n",
    "if zu_data_frames:\n",
    "    zu_combined_df = pd.concat(zu_data_frames, ignore_index=True)\n",
    "    print(f\"租房数据合并后形状: {zu_combined_df.shape}\")\n",
    "    print(f\"租房区块分布:\")\n",
    "    print(zu_combined_df['block'].value_counts())\n",
    "    print(f\"租房数据列: {zu_combined_df.columns.tolist()}\")\n",
    "else:\n",
    "    print(\"没有成功导入任何租房数据文件\")\n",
    "    zu_combined_df = pd.DataFrame()"
   ]
  },
  {
   "cell_type": "code",
   "execution_count": 6,
   "id": "2c4b5343",
   "metadata": {},
   "outputs": [
    {
     "data": {
      "text/html": [
       "<div>\n",
       "<style scoped>\n",
       "    .dataframe tbody tr th:only-of-type {\n",
       "        vertical-align: middle;\n",
       "    }\n",
       "\n",
       "    .dataframe tbody tr th {\n",
       "        vertical-align: top;\n",
       "    }\n",
       "\n",
       "    .dataframe thead th {\n",
       "        text-align: right;\n",
       "    }\n",
       "</style>\n",
       "<table border=\"1\" class=\"dataframe\">\n",
       "  <thead>\n",
       "    <tr style=\"text-align: right;\">\n",
       "      <th></th>\n",
       "      <th>面积(㎡)</th>\n",
       "      <th>总价(万)</th>\n",
       "      <th>单价(元/㎡)</th>\n",
       "      <th>block</th>\n",
       "    </tr>\n",
       "  </thead>\n",
       "  <tbody>\n",
       "    <tr>\n",
       "      <th>0</th>\n",
       "      <td>145.67</td>\n",
       "      <td>430.0</td>\n",
       "      <td>29518</td>\n",
       "      <td>Balitai</td>\n",
       "    </tr>\n",
       "    <tr>\n",
       "      <th>1</th>\n",
       "      <td>57.15</td>\n",
       "      <td>119.0</td>\n",
       "      <td>20822</td>\n",
       "      <td>Balitai</td>\n",
       "    </tr>\n",
       "    <tr>\n",
       "      <th>2</th>\n",
       "      <td>50.42</td>\n",
       "      <td>130.0</td>\n",
       "      <td>25783</td>\n",
       "      <td>Balitai</td>\n",
       "    </tr>\n",
       "    <tr>\n",
       "      <th>3</th>\n",
       "      <td>141.61</td>\n",
       "      <td>515.0</td>\n",
       "      <td>36367</td>\n",
       "      <td>Balitai</td>\n",
       "    </tr>\n",
       "    <tr>\n",
       "      <th>4</th>\n",
       "      <td>103.66</td>\n",
       "      <td>406.0</td>\n",
       "      <td>39166</td>\n",
       "      <td>Balitai</td>\n",
       "    </tr>\n",
       "  </tbody>\n",
       "</table>\n",
       "</div>"
      ],
      "text/plain": [
       "    面积(㎡)  总价(万)  单价(元/㎡)    block\n",
       "0  145.67  430.0    29518  Balitai\n",
       "1   57.15  119.0    20822  Balitai\n",
       "2   50.42  130.0    25783  Balitai\n",
       "3  141.61  515.0    36367  Balitai\n",
       "4  103.66  406.0    39166  Balitai"
      ]
     },
     "execution_count": 6,
     "metadata": {},
     "output_type": "execute_result"
    }
   ],
   "source": [
    "esf_combined_df.head()"
   ]
  },
  {
   "cell_type": "code",
   "execution_count": 7,
   "id": "8da99e7a",
   "metadata": {},
   "outputs": [
    {
     "data": {
      "text/html": [
       "<div>\n",
       "<style scoped>\n",
       "    .dataframe tbody tr th:only-of-type {\n",
       "        vertical-align: middle;\n",
       "    }\n",
       "\n",
       "    .dataframe tbody tr th {\n",
       "        vertical-align: top;\n",
       "    }\n",
       "\n",
       "    .dataframe thead th {\n",
       "        text-align: right;\n",
       "    }\n",
       "</style>\n",
       "<table border=\"1\" class=\"dataframe\">\n",
       "  <thead>\n",
       "    <tr style=\"text-align: right;\">\n",
       "      <th></th>\n",
       "      <th>面积(㎡)</th>\n",
       "      <th>租金(元/月)</th>\n",
       "      <th>block</th>\n",
       "    </tr>\n",
       "  </thead>\n",
       "  <tbody>\n",
       "    <tr>\n",
       "      <th>0</th>\n",
       "      <td>400</td>\n",
       "      <td>29000</td>\n",
       "      <td>Balitai</td>\n",
       "    </tr>\n",
       "    <tr>\n",
       "      <th>1</th>\n",
       "      <td>80</td>\n",
       "      <td>3600</td>\n",
       "      <td>Balitai</td>\n",
       "    </tr>\n",
       "    <tr>\n",
       "      <th>2</th>\n",
       "      <td>49</td>\n",
       "      <td>1700</td>\n",
       "      <td>Balitai</td>\n",
       "    </tr>\n",
       "    <tr>\n",
       "      <th>3</th>\n",
       "      <td>380</td>\n",
       "      <td>30000</td>\n",
       "      <td>Balitai</td>\n",
       "    </tr>\n",
       "    <tr>\n",
       "      <th>4</th>\n",
       "      <td>38</td>\n",
       "      <td>2000</td>\n",
       "      <td>Balitai</td>\n",
       "    </tr>\n",
       "  </tbody>\n",
       "</table>\n",
       "</div>"
      ],
      "text/plain": [
       "   面积(㎡)  租金(元/月)    block\n",
       "0    400    29000  Balitai\n",
       "1     80     3600  Balitai\n",
       "2     49     1700  Balitai\n",
       "3    380    30000  Balitai\n",
       "4     38     2000  Balitai"
      ]
     },
     "execution_count": 7,
     "metadata": {},
     "output_type": "execute_result"
    }
   ],
   "source": [
    "zu_combined_df.head()"
   ]
  },
  {
   "cell_type": "markdown",
   "id": "885e43e8",
   "metadata": {},
   "source": [
    "# 二、数据预处理"
   ]
  },
  {
   "cell_type": "markdown",
   "id": "3c1f17a0",
   "metadata": {},
   "source": [
    "## 1、空值检查"
   ]
  },
  {
   "cell_type": "code",
   "execution_count": 8,
   "id": "5fbb712c",
   "metadata": {},
   "outputs": [],
   "source": [
    "# 空值检查函数\n",
    "def simple_check_missing(df, df_name):\n",
    "    print(f\"{df_name}空值检查:\")\n",
    "    print(\"列名\\t\\t空值数量\")\n",
    "    print(\"-\" * 30)\n",
    "    \n",
    "    for col in df.columns:\n",
    "        missing_count = df[col].isnull().sum()\n",
    "        print(f\"{col}\\t\\t{missing_count}\")"
   ]
  },
  {
   "cell_type": "code",
   "execution_count": 9,
   "id": "968c647e",
   "metadata": {},
   "outputs": [
    {
     "name": "stdout",
     "output_type": "stream",
     "text": [
      "二手房数据空值检查:\n",
      "列名\t\t空值数量\n",
      "------------------------------\n",
      "面积(㎡)\t\t0\n",
      "总价(万)\t\t0\n",
      "单价(元/㎡)\t\t0\n",
      "block\t\t0\n"
     ]
    }
   ],
   "source": [
    "simple_check_missing(esf_combined_df, \"二手房数据\")"
   ]
  },
  {
   "cell_type": "code",
   "execution_count": 10,
   "id": "bb2b8627",
   "metadata": {},
   "outputs": [
    {
     "name": "stdout",
     "output_type": "stream",
     "text": [
      "租房数据空值检查:\n",
      "列名\t\t空值数量\n",
      "------------------------------\n",
      "面积(㎡)\t\t0\n",
      "租金(元/月)\t\t0\n",
      "block\t\t0\n"
     ]
    }
   ],
   "source": [
    "simple_check_missing(zu_combined_df, \"租房数据\")"
   ]
  },
  {
   "cell_type": "markdown",
   "id": "1134f1c9",
   "metadata": {},
   "source": [
    "## 2、描述性统计"
   ]
  },
  {
   "cell_type": "code",
   "execution_count": 11,
   "id": "fdc1fa08",
   "metadata": {},
   "outputs": [
    {
     "name": "stdout",
     "output_type": "stream",
     "text": [
      "二手房数据描述性统计:\n",
      "             面积(㎡)        总价(万)        单价(元/㎡)\n",
      "count  4800.000000  4800.000000    4800.000000\n",
      "mean    104.900298   245.870313   26875.315625\n",
      "std      56.281000   241.200861   20556.231393\n",
      "min       9.220000    33.000000    3633.000000\n",
      "25%      73.427500   110.000000   11963.250000\n",
      "50%      99.000000   169.000000   19777.500000\n",
      "75%     129.000000   290.000000   36443.500000\n",
      "max     595.120000  2550.000000  170731.000000\n"
     ]
    }
   ],
   "source": [
    "print(\"二手房数据描述性统计:\")\n",
    "print(esf_combined_df.describe())"
   ]
  },
  {
   "cell_type": "code",
   "execution_count": 12,
   "id": "8528ac8c",
   "metadata": {},
   "outputs": [
    {
     "name": "stdout",
     "output_type": "stream",
     "text": [
      "租房数据描述性统计:\n",
      "             面积(㎡)       租金(元/月)\n",
      "count  4181.000000   4181.000000\n",
      "mean     89.062425   2983.596747\n",
      "std      50.839194   3321.277515\n",
      "min       7.000000    300.000000\n",
      "25%      58.000000   1550.000000\n",
      "50%      87.000000   2300.000000\n",
      "75%     106.000000   3000.000000\n",
      "max     469.000000  40000.000000\n"
     ]
    }
   ],
   "source": [
    "print(\"租房数据描述性统计:\")\n",
    "print(zu_combined_df.describe())"
   ]
  },
  {
   "cell_type": "markdown",
   "id": "48057ee7",
   "metadata": {},
   "source": [
    "## 3、离群值检查（整体）"
   ]
  },
  {
   "cell_type": "code",
   "execution_count": 13,
   "id": "0713feff",
   "metadata": {},
   "outputs": [],
   "source": [
    "# 离群值检查函数\n",
    "def simple_sigma_check(df, df_name):\n",
    "    print(f\"{df_name}离群值检查:\")\n",
    "\n",
    "    for col in df.select_dtypes(include=[np.number]).columns:\n",
    "        mean = df[col].mean()\n",
    "        std = df[col].std()\n",
    "        lower = mean - 3 * std\n",
    "        upper = mean + 3 * std\n",
    "        \n",
    "        outliers = df[(df[col] < lower) | (df[col] > upper)]\n",
    "        col_outliers = len(outliers)\n",
    "        \n",
    "        print(f\"{col}: {col_outliers} 个离群值\")"
   ]
  },
  {
   "cell_type": "code",
   "execution_count": 14,
   "id": "0e619a09",
   "metadata": {},
   "outputs": [
    {
     "name": "stdout",
     "output_type": "stream",
     "text": [
      "二手房数据离群值检查:\n",
      "面积(㎡): 89 个离群值\n",
      "总价(万): 126 个离群值\n",
      "单价(元/㎡): 77 个离群值\n"
     ]
    }
   ],
   "source": [
    "simple_sigma_check(esf_combined_df, \"二手房数据\")"
   ]
  },
  {
   "cell_type": "code",
   "execution_count": 15,
   "id": "4ee9955b",
   "metadata": {},
   "outputs": [
    {
     "name": "stdout",
     "output_type": "stream",
     "text": [
      "租房数据离群值检查:\n",
      "面积(㎡): 88 个离群值\n",
      "租金(元/月): 89 个离群值\n"
     ]
    }
   ],
   "source": [
    "simple_sigma_check(zu_combined_df, \"租房数据\")"
   ]
  },
  {
   "cell_type": "markdown",
   "id": "21a4da6a",
   "metadata": {},
   "source": [
    "## 4、计算每平方米租金"
   ]
  },
  {
   "cell_type": "code",
   "execution_count": 16,
   "id": "d0913292",
   "metadata": {},
   "outputs": [
    {
     "data": {
      "text/html": [
       "<div>\n",
       "<style scoped>\n",
       "    .dataframe tbody tr th:only-of-type {\n",
       "        vertical-align: middle;\n",
       "    }\n",
       "\n",
       "    .dataframe tbody tr th {\n",
       "        vertical-align: top;\n",
       "    }\n",
       "\n",
       "    .dataframe thead th {\n",
       "        text-align: right;\n",
       "    }\n",
       "</style>\n",
       "<table border=\"1\" class=\"dataframe\">\n",
       "  <thead>\n",
       "    <tr style=\"text-align: right;\">\n",
       "      <th></th>\n",
       "      <th>面积(㎡)</th>\n",
       "      <th>租金(元/月)</th>\n",
       "      <th>block</th>\n",
       "      <th>单价(元/㎡)</th>\n",
       "    </tr>\n",
       "  </thead>\n",
       "  <tbody>\n",
       "    <tr>\n",
       "      <th>0</th>\n",
       "      <td>400</td>\n",
       "      <td>29000</td>\n",
       "      <td>Balitai</td>\n",
       "      <td>72.500000</td>\n",
       "    </tr>\n",
       "    <tr>\n",
       "      <th>1</th>\n",
       "      <td>80</td>\n",
       "      <td>3600</td>\n",
       "      <td>Balitai</td>\n",
       "      <td>45.000000</td>\n",
       "    </tr>\n",
       "    <tr>\n",
       "      <th>2</th>\n",
       "      <td>49</td>\n",
       "      <td>1700</td>\n",
       "      <td>Balitai</td>\n",
       "      <td>34.693878</td>\n",
       "    </tr>\n",
       "    <tr>\n",
       "      <th>3</th>\n",
       "      <td>380</td>\n",
       "      <td>30000</td>\n",
       "      <td>Balitai</td>\n",
       "      <td>78.947368</td>\n",
       "    </tr>\n",
       "    <tr>\n",
       "      <th>4</th>\n",
       "      <td>38</td>\n",
       "      <td>2000</td>\n",
       "      <td>Balitai</td>\n",
       "      <td>52.631579</td>\n",
       "    </tr>\n",
       "  </tbody>\n",
       "</table>\n",
       "</div>"
      ],
      "text/plain": [
       "   面积(㎡)  租金(元/月)    block    单价(元/㎡)\n",
       "0    400    29000  Balitai  72.500000\n",
       "1     80     3600  Balitai  45.000000\n",
       "2     49     1700  Balitai  34.693878\n",
       "3    380    30000  Balitai  78.947368\n",
       "4     38     2000  Balitai  52.631579"
      ]
     },
     "execution_count": 16,
     "metadata": {},
     "output_type": "execute_result"
    }
   ],
   "source": [
    "zu_combined_df['单价(元/㎡)'] = zu_combined_df['租金(元/月)'] / zu_combined_df['面积(㎡)']\n",
    "zu_combined_df.head()"
   ]
  },
  {
   "cell_type": "markdown",
   "id": "a18a9fce",
   "metadata": {},
   "source": [
    "## 5、离群值检查（按Blcok）"
   ]
  },
  {
   "cell_type": "code",
   "execution_count": 17,
   "id": "2adb6fe3",
   "metadata": {},
   "outputs": [],
   "source": [
    "# 按block检查离群值函数\n",
    "def block_sigma_check(df, df_name):\n",
    "    # 获取数值列\n",
    "    numeric_cols = df.select_dtypes(include=[np.number]).columns\n",
    "    \n",
    "    for block in df['block'].unique():\n",
    "        print(f\"\\n{block} 区:\")\n",
    "        block_data = df[df['block'] == block]\n",
    "\n",
    "        for col in numeric_cols:\n",
    "            mean = block_data[col].mean()\n",
    "            std = block_data[col].std()\n",
    "            lower = mean - 3 * std\n",
    "            upper = mean + 3 * std\n",
    "            \n",
    "            outliers = block_data[(block_data[col] < lower) | (block_data[col] > upper)]\n",
    "            col_outliers = len(outliers)\n",
    "            \n",
    "            print(f\"  {col}: {col_outliers} 个离群值\")"
   ]
  },
  {
   "cell_type": "code",
   "execution_count": 18,
   "id": "bce697d6",
   "metadata": {},
   "outputs": [
    {
     "name": "stdout",
     "output_type": "stream",
     "text": [
      "\n",
      "Balitai 区:\n",
      "  面积(㎡): 7 个离群值\n",
      "  总价(万): 30 个离群值\n",
      "  单价(元/㎡): 35 个离群值\n",
      "\n",
      "Quanyechang 区:\n",
      "  面积(㎡): 34 个离群值\n",
      "  总价(万): 27 个离群值\n",
      "  单价(元/㎡): 13 个离群值\n",
      "\n",
      "Wuqing 区:\n",
      "  面积(㎡): 21 个离群值\n",
      "  总价(万): 23 个离群值\n",
      "  单价(元/㎡): 14 个离群值\n",
      "\n",
      "Zhongxin 区:\n",
      "  面积(㎡): 38 个离群值\n",
      "  总价(万): 22 个离群值\n",
      "  单价(元/㎡): 7 个离群值\n"
     ]
    }
   ],
   "source": [
    "# 检查二手房数据各区块离群值\n",
    "block_sigma_check(esf_combined_df, \"二手房数据\")"
   ]
  },
  {
   "cell_type": "code",
   "execution_count": 19,
   "id": "b02f132c",
   "metadata": {},
   "outputs": [
    {
     "name": "stdout",
     "output_type": "stream",
     "text": [
      "\n",
      "Balitai 区:\n",
      "  面积(㎡): 18 个离群值\n",
      "  租金(元/月): 20 个离群值\n",
      "  单价(元/㎡): 14 个离群值\n",
      "\n",
      "Quanyechang 区:\n",
      "  面积(㎡): 30 个离群值\n",
      "  租金(元/月): 28 个离群值\n",
      "  单价(元/㎡): 22 个离群值\n",
      "\n",
      "Wuqing 区:\n",
      "  面积(㎡): 27 个离群值\n",
      "  租金(元/月): 28 个离群值\n",
      "  单价(元/㎡): 10 个离群值\n",
      "\n",
      "Zhongxin 区:\n",
      "  面积(㎡): 11 个离群值\n",
      "  租金(元/月): 16 个离群值\n",
      "  单价(元/㎡): 12 个离群值\n"
     ]
    }
   ],
   "source": [
    "# 检查租房数据各区块离群值\n",
    "block_sigma_check(zu_combined_df, \"租房数据\")"
   ]
  },
  {
   "cell_type": "markdown",
   "id": "1b97b3d3",
   "metadata": {},
   "source": [
    "## 6、计算每个Block的房价租金比中位数"
   ]
  },
  {
   "cell_type": "code",
   "execution_count": 20,
   "id": "e4bc3125",
   "metadata": {},
   "outputs": [
    {
     "name": "stdout",
     "output_type": "stream",
     "text": [
      "各区块房价租金比中位数:\n",
      "Balitai: 604.13\n",
      "Quanyechang: 768.41\n",
      "Wuqing: 733.52\n",
      "Zhongxin: 516.02\n"
     ]
    }
   ],
   "source": [
    "# 计算各区块房价租金比中位数\n",
    "block_ratios = {}\n",
    "\n",
    "print(\"各区块房价租金比中位数:\")\n",
    "\n",
    "for block in esf_combined_df['block'].unique():\n",
    "    # 获取该区块的二手房单价中位数\n",
    "    esf_median_price = esf_combined_df[esf_combined_df['block'] == block]['单价(元/㎡)'].median()\n",
    "    \n",
    "    # 获取该区块的租房单价中位数\n",
    "    zu_median_rent = zu_combined_df[zu_combined_df['block'] == block]['单价(元/㎡)'].median()\n",
    "    \n",
    "    # 计算房价租金比（房价单价 / 租金单价）\n",
    "    price_rent_ratio = esf_median_price / zu_median_rent\n",
    "    \n",
    "    block_ratios[block] = price_rent_ratio\n",
    "    print(f\"{block}: {price_rent_ratio:.2f}\")"
   ]
  },
  {
   "cell_type": "code",
   "execution_count": 21,
   "id": "5f0a1f51",
   "metadata": {},
   "outputs": [
    {
     "data": {
      "image/png": "[encoded data removed]",
      "text/plain": [
       "<Figure size 800x500 with 1 Axes>"
      ]
     },
     "metadata": {},
     "output_type": "display_data"
    }
   ],
   "source": [
    "# 画图（图A）\n",
    "plt.rcParams['font.family'] = 'Times New Roman'\n",
    "plt.figure(figsize=(8, 5))\n",
    "bars = plt.bar(block_ratios.keys(), block_ratios.values(), width=0.5) \n",
    "\n",
    "# 在每个柱子上显示具体值\n",
    "for bar, value in zip(bars, block_ratios.values()):\n",
    "    plt.text(bar.get_x() + bar.get_width()/2, bar.get_height() + 0.1, \n",
    "             f'{value:.1f}', ha='center', va='bottom')\n",
    "\n",
    "plt.title('Figure A: the Median Price to Rent Ratio for Each Block')\n",
    "plt.ylabel('Ratio')\n",
    "plt.show()"
   ]
  },
  {
   "cell_type": "markdown",
   "id": "5727b64e",
   "metadata": {},
   "source": [
    "# 三、建模"
   ]
  },
  {
   "cell_type": "markdown",
   "id": "d50acc44",
   "metadata": {},
   "source": [
    "## 1、模型1和模型2"
   ]
  },
  {
   "cell_type": "code",
   "execution_count": 22,
   "id": "2d58d92c",
   "metadata": {},
   "outputs": [
    {
     "name": "stdout",
     "output_type": "stream",
     "text": [
      "Model 1 R-squared: 0.6340473985383592\n"
     ]
    }
   ],
   "source": [
    "# Model 1: price/m2i = β0 + β1*m2i + β2*locationi + ϵi\n",
    "# 创建虚拟变量\n",
    "block_dummies = pd.get_dummies(esf_combined_df['block'], prefix='block')\n",
    "X1 = pd.concat([esf_combined_df[['面积(㎡)']], block_dummies], axis=1)\n",
    "X1 = sm.add_constant(X1)\n",
    "\n",
    "# 转换为numpy数组\n",
    "X1_array = X1.astype(float).values\n",
    "y1_array = esf_combined_df['单价(元/㎡)'].astype(float).values\n",
    "\n",
    "# 拟合模型\n",
    "model1 = sm.OLS(y1_array, X1_array).fit()\n",
    "print(\"Model 1 R-squared:\", model1.rsquared)\n",
    "\n",
    "# 预测房价并添加新列\n",
    "esf_combined_df['预测单价_1'] = model1.predict(X1_array)"
   ]
  },
  {
   "cell_type": "code",
   "execution_count": 23,
   "id": "ba95f354",
   "metadata": {},
   "outputs": [
    {
     "data": {
      "text/html": [
       "<div>\n",
       "<style scoped>\n",
       "    .dataframe tbody tr th:only-of-type {\n",
       "        vertical-align: middle;\n",
       "    }\n",
       "\n",
       "    .dataframe tbody tr th {\n",
       "        vertical-align: top;\n",
       "    }\n",
       "\n",
       "    .dataframe thead th {\n",
       "        text-align: right;\n",
       "    }\n",
       "</style>\n",
       "<table border=\"1\" class=\"dataframe\">\n",
       "  <thead>\n",
       "    <tr style=\"text-align: right;\">\n",
       "      <th></th>\n",
       "      <th>面积(㎡)</th>\n",
       "      <th>总价(万)</th>\n",
       "      <th>单价(元/㎡)</th>\n",
       "      <th>block</th>\n",
       "      <th>预测单价_1</th>\n",
       "    </tr>\n",
       "  </thead>\n",
       "  <tbody>\n",
       "    <tr>\n",
       "      <th>0</th>\n",
       "      <td>145.67</td>\n",
       "      <td>430.0</td>\n",
       "      <td>29518</td>\n",
       "      <td>Balitai</td>\n",
       "      <td>29549.187922</td>\n",
       "    </tr>\n",
       "    <tr>\n",
       "      <th>1</th>\n",
       "      <td>57.15</td>\n",
       "      <td>119.0</td>\n",
       "      <td>20822</td>\n",
       "      <td>Balitai</td>\n",
       "      <td>29254.476094</td>\n",
       "    </tr>\n",
       "    <tr>\n",
       "      <th>2</th>\n",
       "      <td>50.42</td>\n",
       "      <td>130.0</td>\n",
       "      <td>25783</td>\n",
       "      <td>Balitai</td>\n",
       "      <td>29232.069738</td>\n",
       "    </tr>\n",
       "    <tr>\n",
       "      <th>3</th>\n",
       "      <td>141.61</td>\n",
       "      <td>515.0</td>\n",
       "      <td>36367</td>\n",
       "      <td>Balitai</td>\n",
       "      <td>29535.670863</td>\n",
       "    </tr>\n",
       "    <tr>\n",
       "      <th>4</th>\n",
       "      <td>103.66</td>\n",
       "      <td>406.0</td>\n",
       "      <td>39166</td>\n",
       "      <td>Balitai</td>\n",
       "      <td>29409.322988</td>\n",
       "    </tr>\n",
       "  </tbody>\n",
       "</table>\n",
       "</div>"
      ],
      "text/plain": [
       "    面积(㎡)  总价(万)  单价(元/㎡)    block        预测单价_1\n",
       "0  145.67  430.0    29518  Balitai  29549.187922\n",
       "1   57.15  119.0    20822  Balitai  29254.476094\n",
       "2   50.42  130.0    25783  Balitai  29232.069738\n",
       "3  141.61  515.0    36367  Balitai  29535.670863\n",
       "4  103.66  406.0    39166  Balitai  29409.322988"
      ]
     },
     "execution_count": 23,
     "metadata": {},
     "output_type": "execute_result"
    }
   ],
   "source": [
    "esf_combined_df.head()"
   ]
  },
  {
   "cell_type": "code",
   "execution_count": 24,
   "id": "de63a51a",
   "metadata": {},
   "outputs": [
    {
     "name": "stdout",
     "output_type": "stream",
     "text": [
      "Model 2 R-squared: 0.5836862829523739\n"
     ]
    }
   ],
   "source": [
    "# Model 2: rent/m2i = β0 + β1*m2i + β2*locationi + ϵi\n",
    "# 创建虚拟变量\n",
    "block_dummies2 = pd.get_dummies(zu_combined_df['block'], prefix='block')\n",
    "X2 = pd.concat([zu_combined_df[['面积(㎡)']], block_dummies2], axis=1)\n",
    "X2 = sm.add_constant(X2)\n",
    "\n",
    "# 转换为numpy数组\n",
    "X2_array = X2.astype(float).values\n",
    "y2_array = zu_combined_df['单价(元/㎡)'].astype(float).values\n",
    "\n",
    "# 拟合模型\n",
    "model2 = sm.OLS(y2_array, X2_array).fit()\n",
    "print(\"Model 2 R-squared:\", model2.rsquared)\n",
    "\n",
    "# 预测租金并添加新列\n",
    "zu_combined_df['预测单价_1'] = model2.predict(X2_array)"
   ]
  },
  {
   "cell_type": "code",
   "execution_count": 25,
   "id": "12f947e2",
   "metadata": {},
   "outputs": [
    {
     "data": {
      "text/html": [
       "<div>\n",
       "<style scoped>\n",
       "    .dataframe tbody tr th:only-of-type {\n",
       "        vertical-align: middle;\n",
       "    }\n",
       "\n",
       "    .dataframe tbody tr th {\n",
       "        vertical-align: top;\n",
       "    }\n",
       "\n",
       "    .dataframe thead th {\n",
       "        text-align: right;\n",
       "    }\n",
       "</style>\n",
       "<table border=\"1\" class=\"dataframe\">\n",
       "  <thead>\n",
       "    <tr style=\"text-align: right;\">\n",
       "      <th></th>\n",
       "      <th>面积(㎡)</th>\n",
       "      <th>租金(元/月)</th>\n",
       "      <th>block</th>\n",
       "      <th>单价(元/㎡)</th>\n",
       "      <th>预测单价_1</th>\n",
       "    </tr>\n",
       "  </thead>\n",
       "  <tbody>\n",
       "    <tr>\n",
       "      <th>0</th>\n",
       "      <td>400</td>\n",
       "      <td>29000</td>\n",
       "      <td>Balitai</td>\n",
       "      <td>72.500000</td>\n",
       "      <td>43.620684</td>\n",
       "    </tr>\n",
       "    <tr>\n",
       "      <th>1</th>\n",
       "      <td>80</td>\n",
       "      <td>3600</td>\n",
       "      <td>Balitai</td>\n",
       "      <td>45.000000</td>\n",
       "      <td>46.275154</td>\n",
       "    </tr>\n",
       "    <tr>\n",
       "      <th>2</th>\n",
       "      <td>49</td>\n",
       "      <td>1700</td>\n",
       "      <td>Balitai</td>\n",
       "      <td>34.693878</td>\n",
       "      <td>46.532306</td>\n",
       "    </tr>\n",
       "    <tr>\n",
       "      <th>3</th>\n",
       "      <td>380</td>\n",
       "      <td>30000</td>\n",
       "      <td>Balitai</td>\n",
       "      <td>78.947368</td>\n",
       "      <td>43.786588</td>\n",
       "    </tr>\n",
       "    <tr>\n",
       "      <th>4</th>\n",
       "      <td>38</td>\n",
       "      <td>2000</td>\n",
       "      <td>Balitai</td>\n",
       "      <td>52.631579</td>\n",
       "      <td>46.623554</td>\n",
       "    </tr>\n",
       "  </tbody>\n",
       "</table>\n",
       "</div>"
      ],
      "text/plain": [
       "   面积(㎡)  租金(元/月)    block    单价(元/㎡)     预测单价_1\n",
       "0    400    29000  Balitai  72.500000  43.620684\n",
       "1     80     3600  Balitai  45.000000  46.275154\n",
       "2     49     1700  Balitai  34.693878  46.532306\n",
       "3    380    30000  Balitai  78.947368  43.786588\n",
       "4     38     2000  Balitai  52.631579  46.623554"
      ]
     },
     "execution_count": 25,
     "metadata": {},
     "output_type": "execute_result"
    }
   ],
   "source": [
    "zu_combined_df.head()"
   ]
  },
  {
   "cell_type": "markdown",
   "id": "7391dfb2",
   "metadata": {},
   "source": [
    "### 计算每个Block的房价租金比中位数"
   ]
  },
  {
   "cell_type": "code",
   "execution_count": 26,
   "id": "e5f89edb",
   "metadata": {},
   "outputs": [
    {
     "name": "stdout",
     "output_type": "stream",
     "text": [
      "各区块模型预测的房价租金比中位数:\n",
      "Balitai: 633.89\n",
      "Quanyechang: 758.45\n",
      "Wuqing: 762.69\n",
      "Zhongxin: 520.71\n"
     ]
    }
   ],
   "source": [
    "# 计算各区块模型预测的房价租金比中位数\n",
    "block_ratios_model = {}\n",
    "\n",
    "print(\"各区块模型预测的房价租金比中位数:\")\n",
    "\n",
    "for block in esf_combined_df['block'].unique():\n",
    "    # 获取该区块的预测房价单价中位数\n",
    "    esf_median_pred_price = esf_combined_df[esf_combined_df['block'] == block]['预测单价_1'].median()\n",
    "    \n",
    "    # 获取该区块的预测租金单价中位数\n",
    "    zu_median_pred_rent = zu_combined_df[zu_combined_df['block'] == block]['预测单价_1'].median()\n",
    "    \n",
    "    # 计算预测房价租金比\n",
    "    pred_price_rent_ratio = esf_median_pred_price / zu_median_pred_rent\n",
    "    \n",
    "    block_ratios_model[block] = pred_price_rent_ratio\n",
    "    print(f\"{block}: {pred_price_rent_ratio:.2f}\")"
   ]
  },
  {
   "cell_type": "code",
   "execution_count": 27,
   "id": "70954742",
   "metadata": {},
   "outputs": [
    {
     "data": {
      "image/png": "[encoded data removed]",
      "text/plain": [
       "<Figure size 800x500 with 1 Axes>"
      ]
     },
     "metadata": {},
     "output_type": "display_data"
    }
   ],
   "source": [
    "# 画图（图B）\n",
    "plt.rcParams['font.family'] = 'Times New Roman'\n",
    "plt.figure(figsize=(8, 5))\n",
    "bars = plt.bar(block_ratios_model.keys(), block_ratios_model.values(), width=0.5) \n",
    "\n",
    "# 在每个柱子上显示具体值\n",
    "for bar, value in zip(bars, block_ratios_model.values()):\n",
    "    plt.text(bar.get_x() + bar.get_width()/2, bar.get_height() + 0.1, \n",
    "             f'{value:.1f}', ha='center', va='bottom')\n",
    "\n",
    "plt.title('Figure B: the Median Price to Rent Ratio for Each Block (Model Prediction)')\n",
    "plt.ylabel('Ratio')\n",
    "plt.show()"
   ]
  },
  {
   "cell_type": "markdown",
   "id": "f78657c5",
   "metadata": {},
   "source": [
    "## 2、模型1+和模型2+"
   ]
  },
  {
   "cell_type": "code",
   "execution_count": 28,
   "id": "d1d23f93",
   "metadata": {},
   "outputs": [
    {
     "name": "stdout",
     "output_type": "stream",
     "text": [
      "Model 1+ R-squared: 0.6961211667039231\n"
     ]
    }
   ],
   "source": [
    "# Model 1+\n",
    "# 创建特征：面积平方和交互项\n",
    "X1_plus = esf_combined_df[['面积(㎡)', 'block']].copy()\n",
    "X1_plus['面积平方'] = X1_plus['面积(㎡)'] ** 2\n",
    "\n",
    "# 创建虚拟变量\n",
    "block_dummies = pd.get_dummies(X1_plus['block'], prefix='block')\n",
    "X1_plus = pd.concat([X1_plus[['面积(㎡)', '面积平方']], block_dummies], axis=1)\n",
    "\n",
    "# 添加交互项（面积×每个区块）\n",
    "for block_col in block_dummies.columns:\n",
    "    X1_plus[f'{block_col}_交互'] = X1_plus['面积(㎡)'] * X1_plus[block_col]\n",
    "\n",
    "# 添加常数项\n",
    "X1_plus = sm.add_constant(X1_plus)\n",
    "\n",
    "# 转换为numpy数组\n",
    "X1_plus_array = X1_plus.astype(float).values\n",
    "y1_array = esf_combined_df['单价(元/㎡)'].astype(float).values\n",
    "\n",
    "# 拟合增强模型\n",
    "model1_plus = sm.OLS(y1_array, X1_plus_array).fit()\n",
    "print(\"Model 1+ R-squared:\", model1_plus.rsquared)\n",
    "\n",
    "# 预测房价并添加新列\"预测单价_2\"\n",
    "esf_combined_df['预测单价_2'] = model1_plus.predict(X1_plus_array)"
   ]
  },
  {
   "cell_type": "code",
   "execution_count": 29,
   "id": "cd54a5f9",
   "metadata": {},
   "outputs": [
    {
     "data": {
      "text/html": [
       "<div>\n",
       "<style scoped>\n",
       "    .dataframe tbody tr th:only-of-type {\n",
       "        vertical-align: middle;\n",
       "    }\n",
       "\n",
       "    .dataframe tbody tr th {\n",
       "        vertical-align: top;\n",
       "    }\n",
       "\n",
       "    .dataframe thead th {\n",
       "        text-align: right;\n",
       "    }\n",
       "</style>\n",
       "<table border=\"1\" class=\"dataframe\">\n",
       "  <thead>\n",
       "    <tr style=\"text-align: right;\">\n",
       "      <th></th>\n",
       "      <th>面积(㎡)</th>\n",
       "      <th>总价(万)</th>\n",
       "      <th>单价(元/㎡)</th>\n",
       "      <th>block</th>\n",
       "      <th>预测单价_1</th>\n",
       "      <th>预测单价_2</th>\n",
       "    </tr>\n",
       "  </thead>\n",
       "  <tbody>\n",
       "    <tr>\n",
       "      <th>0</th>\n",
       "      <td>145.67</td>\n",
       "      <td>430.0</td>\n",
       "      <td>29518</td>\n",
       "      <td>Balitai</td>\n",
       "      <td>29549.187922</td>\n",
       "      <td>32209.507805</td>\n",
       "    </tr>\n",
       "    <tr>\n",
       "      <th>1</th>\n",
       "      <td>57.15</td>\n",
       "      <td>119.0</td>\n",
       "      <td>20822</td>\n",
       "      <td>Balitai</td>\n",
       "      <td>29254.476094</td>\n",
       "      <td>22851.092029</td>\n",
       "    </tr>\n",
       "    <tr>\n",
       "      <th>2</th>\n",
       "      <td>50.42</td>\n",
       "      <td>130.0</td>\n",
       "      <td>25783</td>\n",
       "      <td>Balitai</td>\n",
       "      <td>29232.069738</td>\n",
       "      <td>22314.160678</td>\n",
       "    </tr>\n",
       "    <tr>\n",
       "      <th>3</th>\n",
       "      <td>141.61</td>\n",
       "      <td>515.0</td>\n",
       "      <td>36367</td>\n",
       "      <td>Balitai</td>\n",
       "      <td>29535.670863</td>\n",
       "      <td>31686.897886</td>\n",
       "    </tr>\n",
       "    <tr>\n",
       "      <th>4</th>\n",
       "      <td>103.66</td>\n",
       "      <td>406.0</td>\n",
       "      <td>39166</td>\n",
       "      <td>Balitai</td>\n",
       "      <td>29409.322988</td>\n",
       "      <td>27236.076385</td>\n",
       "    </tr>\n",
       "  </tbody>\n",
       "</table>\n",
       "</div>"
      ],
      "text/plain": [
       "    面积(㎡)  总价(万)  单价(元/㎡)    block        预测单价_1        预测单价_2\n",
       "0  145.67  430.0    29518  Balitai  29549.187922  32209.507805\n",
       "1   57.15  119.0    20822  Balitai  29254.476094  22851.092029\n",
       "2   50.42  130.0    25783  Balitai  29232.069738  22314.160678\n",
       "3  141.61  515.0    36367  Balitai  29535.670863  31686.897886\n",
       "4  103.66  406.0    39166  Balitai  29409.322988  27236.076385"
      ]
     },
     "execution_count": 29,
     "metadata": {},
     "output_type": "execute_result"
    }
   ],
   "source": [
    "esf_combined_df.head()"
   ]
  },
  {
   "cell_type": "code",
   "execution_count": 30,
   "id": "4d1539dc",
   "metadata": {},
   "outputs": [
    {
     "name": "stdout",
     "output_type": "stream",
     "text": [
      "Model 2+ R-squared: 0.5978636488302957\n"
     ]
    }
   ],
   "source": [
    "# Model 2+\n",
    "# 创建特征：面积平方和交互项\n",
    "X2_plus = zu_combined_df[['面积(㎡)', 'block']].copy()\n",
    "X2_plus['面积平方'] = X2_plus['面积(㎡)'] ** 2\n",
    "\n",
    "# 创建虚拟变量\n",
    "block_dummies2 = pd.get_dummies(X2_plus['block'], prefix='block')\n",
    "X2_plus = pd.concat([X2_plus[['面积(㎡)', '面积平方']], block_dummies2], axis=1)\n",
    "\n",
    "# 添加交互项（面积×每个区块）\n",
    "for block_col in block_dummies2.columns:\n",
    "    X2_plus[f'{block_col}_交互'] = X2_plus['面积(㎡)'] * X2_plus[block_col]\n",
    "\n",
    "# 添加常数项\n",
    "X2_plus = sm.add_constant(X2_plus)\n",
    "\n",
    "# 转换为numpy数组\n",
    "X2_plus_array = X2_plus.astype(float).values\n",
    "y2_array = zu_combined_df['单价(元/㎡)'].astype(float).values\n",
    "\n",
    "# 拟合增强模型\n",
    "model2_plus = sm.OLS(y2_array, X2_plus_array).fit()\n",
    "print(\"Model 2+ R-squared:\", model2_plus.rsquared)\n",
    "\n",
    "# 预测租金并添加新列\"预测单价_2\"\n",
    "zu_combined_df['预测单价_2'] = model2_plus.predict(X2_plus_array)"
   ]
  },
  {
   "cell_type": "code",
   "execution_count": 31,
   "id": "e39c44e5",
   "metadata": {},
   "outputs": [
    {
     "data": {
      "text/html": [
       "<div>\n",
       "<style scoped>\n",
       "    .dataframe tbody tr th:only-of-type {\n",
       "        vertical-align: middle;\n",
       "    }\n",
       "\n",
       "    .dataframe tbody tr th {\n",
       "        vertical-align: top;\n",
       "    }\n",
       "\n",
       "    .dataframe thead th {\n",
       "        text-align: right;\n",
       "    }\n",
       "</style>\n",
       "<table border=\"1\" class=\"dataframe\">\n",
       "  <thead>\n",
       "    <tr style=\"text-align: right;\">\n",
       "      <th></th>\n",
       "      <th>面积(㎡)</th>\n",
       "      <th>租金(元/月)</th>\n",
       "      <th>block</th>\n",
       "      <th>单价(元/㎡)</th>\n",
       "      <th>预测单价_1</th>\n",
       "      <th>预测单价_2</th>\n",
       "    </tr>\n",
       "  </thead>\n",
       "  <tbody>\n",
       "    <tr>\n",
       "      <th>0</th>\n",
       "      <td>400</td>\n",
       "      <td>29000</td>\n",
       "      <td>Balitai</td>\n",
       "      <td>72.500000</td>\n",
       "      <td>43.620684</td>\n",
       "      <td>77.295179</td>\n",
       "    </tr>\n",
       "    <tr>\n",
       "      <th>1</th>\n",
       "      <td>80</td>\n",
       "      <td>3600</td>\n",
       "      <td>Balitai</td>\n",
       "      <td>45.000000</td>\n",
       "      <td>46.275154</td>\n",
       "      <td>43.820349</td>\n",
       "    </tr>\n",
       "    <tr>\n",
       "      <th>2</th>\n",
       "      <td>49</td>\n",
       "      <td>1700</td>\n",
       "      <td>Balitai</td>\n",
       "      <td>34.693878</td>\n",
       "      <td>46.532306</td>\n",
       "      <td>46.703046</td>\n",
       "    </tr>\n",
       "    <tr>\n",
       "      <th>3</th>\n",
       "      <td>380</td>\n",
       "      <td>30000</td>\n",
       "      <td>Balitai</td>\n",
       "      <td>78.947368</td>\n",
       "      <td>43.786588</td>\n",
       "      <td>71.825240</td>\n",
       "    </tr>\n",
       "    <tr>\n",
       "      <th>4</th>\n",
       "      <td>38</td>\n",
       "      <td>2000</td>\n",
       "      <td>Balitai</td>\n",
       "      <td>52.631579</td>\n",
       "      <td>46.623554</td>\n",
       "      <td>47.986026</td>\n",
       "    </tr>\n",
       "  </tbody>\n",
       "</table>\n",
       "</div>"
      ],
      "text/plain": [
       "   面积(㎡)  租金(元/月)    block    单价(元/㎡)     预测单价_1     预测单价_2\n",
       "0    400    29000  Balitai  72.500000  43.620684  77.295179\n",
       "1     80     3600  Balitai  45.000000  46.275154  43.820349\n",
       "2     49     1700  Balitai  34.693878  46.532306  46.703046\n",
       "3    380    30000  Balitai  78.947368  43.786588  71.825240\n",
       "4     38     2000  Balitai  52.631579  46.623554  47.986026"
      ]
     },
     "execution_count": 31,
     "metadata": {},
     "output_type": "execute_result"
    }
   ],
   "source": [
    "zu_combined_df.head()"
   ]
  },
  {
   "cell_type": "markdown",
   "id": "378c63c8",
   "metadata": {},
   "source": [
    "#### Model1+和Model2+的R^2值均高于Model1和Model2。\n",
    "#### 原因：非线性特征（平方项）捕捉了房价/租金与面积的曲线关系，交互项捕捉了不同Block中面积对价格影响的差异；并且，更多特征让模型能更好地拟合数据的复杂模式"
   ]
  },
  {
   "cell_type": "markdown",
   "id": "33bf659c",
   "metadata": {},
   "source": [
    "### 计算每个Block的房价租金比中位数"
   ]
  },
  {
   "cell_type": "code",
   "execution_count": 32,
   "id": "54b1078d",
   "metadata": {},
   "outputs": [
    {
     "name": "stdout",
     "output_type": "stream",
     "text": [
      "各区块增强模型预测的房价租金比中位数:\n",
      "Balitai: 618.05\n",
      "Quanyechang: 773.24\n",
      "Wuqing: 736.03\n",
      "Zhongxin: 511.20\n"
     ]
    }
   ],
   "source": [
    "# 计算各区块增强模型预测的房价租金比中位数\n",
    "block_ratios_model2 = {}\n",
    "\n",
    "print(\"各区块增强模型预测的房价租金比中位数:\")\n",
    "\n",
    "for block in esf_combined_df['block'].unique():\n",
    "    # 获取该区块的增强模型预测房价单价中位数\n",
    "    esf_median_pred_price2 = esf_combined_df[esf_combined_df['block'] == block]['预测单价_2'].median()\n",
    "    \n",
    "    # 获取该区块的增强模型预测租金单价中位数\n",
    "    zu_median_pred_rent2 = zu_combined_df[zu_combined_df['block'] == block]['预测单价_2'].median()\n",
    "    \n",
    "    # 计算增强模型预测房价租金比\n",
    "    pred_price_rent_ratio2 = esf_median_pred_price2 / zu_median_pred_rent2\n",
    "    \n",
    "    block_ratios_model2[block] = pred_price_rent_ratio2\n",
    "    print(f\"{block}: {pred_price_rent_ratio2:.2f}\")"
   ]
  },
  {
   "cell_type": "code",
   "execution_count": 33,
   "id": "7c260457",
   "metadata": {},
   "outputs": [
    {
     "data": {
      "image/png": "[encoded data removed]",
      "text/plain": [
       "<Figure size 800x500 with 1 Axes>"
      ]
     },
     "metadata": {},
     "output_type": "display_data"
    }
   ],
   "source": [
    "# 画图（图C）\n",
    "plt.rcParams['font.family'] = 'Times New Roman'\n",
    "plt.figure(figsize=(8, 5))\n",
    "bars = plt.bar(block_ratios_model2.keys(), block_ratios_model2.values(), width=0.5) \n",
    "\n",
    "# 在每个柱子上显示具体值\n",
    "for bar, value in zip(bars, block_ratios_model2.values()):\n",
    "    plt.text(bar.get_x() + bar.get_width()/2, bar.get_height() + 0.1, \n",
    "             f'{value:.1f}', ha='center', va='bottom')\n",
    "\n",
    "plt.title('Figure C: the Median Price to Rent Ratio for Each Block (Model+ Prediction)')\n",
    "plt.ylabel('Ratio')\n",
    "plt.show()"
   ]
  },
  {
   "cell_type": "markdown",
   "id": "71b12393-7c24-4532-b619-180f625eba1b",
   "metadata": {},
   "source": [
    "#### 结论：我认为图A中基于实际观测值的价格租金比更可信。因为样本量比较充足，二手房数据有4800条，且分布均匀，租房数据也有4181条，可以代表总体特征。且对于房价和租金而言，虽然模型R²较高，但仍然是基于统计假设的估计，模型无法完全捕捉市场的所有复杂因素。因此，实际观测值的中位数比模型预测更稳健。"
   ]
  }
 ],
 "metadata": {
  "kernelspec": {
   "display_name": "Python 3 (ipykernel)",
   "language": "python",
   "name": "python3"
  },
  "language_info": {
   "codemirror_mode": {
    "name": "ipython",
    "version": 3
   },
   "file_extension": ".py",
   "mimetype": "text/x-python",
   "name": "python",
   "nbconvert_exporter": "python",
   "pygments_lexer": "ipython3",
   "version": "3.12.3"
  }
 },
 "nbformat": 4,
 "nbformat_minor": 5
}
