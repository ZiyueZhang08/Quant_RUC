{
 "cells": [
  {
   "cell_type": "code",
   "execution_count": 1,
   "id": "7f4b25ab",
   "metadata": {},
   "outputs": [
    {
     "name": "stdout",
     "output_type": "stream",
     "text": [
      "['Solarize_Light2', '_classic_test_patch', '_mpl-gallery', '_mpl-gallery-nogrid', 'bmh', 'classic', 'dark_background', 'fast', 'fivethirtyeight', 'ggplot', 'grayscale', 'petroff10', 'seaborn-v0_8', 'seaborn-v0_8-bright', 'seaborn-v0_8-colorblind', 'seaborn-v0_8-dark', 'seaborn-v0_8-dark-palette', 'seaborn-v0_8-darkgrid', 'seaborn-v0_8-deep', 'seaborn-v0_8-muted', 'seaborn-v0_8-notebook', 'seaborn-v0_8-paper', 'seaborn-v0_8-pastel', 'seaborn-v0_8-poster', 'seaborn-v0_8-talk', 'seaborn-v0_8-ticks', 'seaborn-v0_8-white', 'seaborn-v0_8-whitegrid', 'tableau-colorblind10']\n"
     ]
    }
   ],
   "source": [
    "from selenium import webdriver\n",
    "from selenium.webdriver.chrome.service import Service\n",
    "from time import sleep\n",
    "import pandas as pd\n",
    "from io import StringIO\n",
    "from functools import partial\n",
    "import matplotlib.pyplot as plt\n",
    "from selenium.webdriver.support import expected_conditions as EC\n",
    "from selenium.webdriver.common.by import By\n",
    "from selenium.common import NoSuchElementException,StaleElementReferenceException\n",
    "from matplotlib import style\n",
    "from webdriver_manager.chrome import ChromeDriverManager\n",
    "\n",
    "print(plt.style.available)\n",
    "%matplotlib inline\n",
    "driver = webdriver.Chrome()"
   ]
  },
  {
   "cell_type": "markdown",
   "id": "c1576e42",
   "metadata": {},
   "source": [
    "# 一、二手房网站"
   ]
  },
  {
   "cell_type": "code",
   "execution_count": 3,
   "id": "8e635082",
   "metadata": {},
   "outputs": [],
   "source": [
    "# 爬取二手房数据\n",
    "esf_data = []\n",
    "url = 'https://tj.esf.fang.com/house-a052/'\n",
    "driver.get(url)\n",
    "sleep(5)"
   ]
  },
  {
   "cell_type": "code",
   "execution_count": 4,
   "id": "e77d50c1",
   "metadata": {},
   "outputs": [
    {
     "name": "stdout",
     "output_type": "stream",
     "text": [
      "第1页成功提取 60 条数据\n",
      "第2页成功提取 60 条数据\n",
      "第3页成功提取 60 条数据\n",
      "第4页成功提取 60 条数据\n",
      "第5页成功提取 60 条数据\n",
      "第6页成功提取 60 条数据\n",
      "第7页成功提取 60 条数据\n",
      "第8页成功提取 60 条数据\n",
      "第9页成功提取 60 条数据\n",
      "第10页成功提取 60 条数据\n",
      "第11页成功提取 60 条数据\n",
      "第12页成功提取 60 条数据\n",
      "第13页成功提取 60 条数据\n",
      "第14页成功提取 60 条数据\n",
      "第15页成功提取 60 条数据\n",
      "第16页成功提取 60 条数据\n",
      "第17页成功提取 60 条数据\n",
      "第18页成功提取 60 条数据\n",
      "第19页成功提取 60 条数据\n",
      "第20页成功提取 60 条数据\n",
      "总共收集到 1200 条数据\n"
     ]
    }
   ],
   "source": [
    "i = 0\n",
    "Num_Pages = 20\n",
    "while i < Num_Pages:\n",
    "    try:\n",
    "        # 等待页面完全加载\n",
    "        sleep(5)\n",
    "        houses = driver.find_elements(By.CSS_SELECTOR, \".shop_list > dl\")\n",
    "        page_data = []  # 临时存储当前页数据\n",
    "        \n",
    "        for house in houses:\n",
    "            try:\n",
    "                tel_shop_elements = house.find_elements(By.CLASS_NAME, \"tel_shop\")\n",
    "                price_elements = house.find_elements(By.CSS_SELECTOR, \".price_right .red b\")\n",
    "                unit_price_elements = house.find_elements(By.CSS_SELECTOR, \".price_right span:not(.red)\")\n",
    "                \n",
    "                if tel_shop_elements and price_elements and unit_price_elements:\n",
    "                    tel_text = tel_shop_elements[0].text\n",
    "                    price_text = price_elements[0].text\n",
    "                    unit_price_text = unit_price_elements[0].text\n",
    "                    \n",
    "                    import re\n",
    "                    area_match = re.search(r'(\\d+\\.?\\d*)㎡', tel_text)\n",
    "                    \n",
    "                    if area_match:\n",
    "                        area_text = area_match.group(1)\n",
    "                        \n",
    "                        page_data.append({\n",
    "                            '面积(㎡)': float(area_text),\n",
    "                            '总价(万)': float(price_text),\n",
    "                            '单价(元/㎡)': int(unit_price_text.replace(\"元/㎡\", \"\").replace(\",\", \"\"))\n",
    "                        })\n",
    "            except Exception as e:\n",
    "                continue\n",
    "        \n",
    "        # 将当前页数据添加到总数据中\n",
    "        esf_data.extend(page_data)\n",
    "        print(f\"第{i+1}页成功提取 {len(page_data)} 条数据\")\n",
    "        \n",
    "        # 翻页\n",
    "        next_page = driver.find_element(By.CSS_SELECTOR, \"p.last a\")\n",
    "        next_page.click()\n",
    "        sleep(3)\n",
    "        i += 1\n",
    "        \n",
    "    except Exception as e:\n",
    "        print(f\"错误: {e}\")\n",
    "        break\n",
    "\n",
    "print(f\"总共收集到 {len(esf_data)} 条数据\")"
   ]
  },
  {
   "cell_type": "code",
   "execution_count": 5,
   "id": "afb71e5b",
   "metadata": {},
   "outputs": [],
   "source": [
    "df_esf = pd.DataFrame(esf_data)\n",
    "df_esf.to_excel(\"Tianjin_Wuqing_esf_data.xlsx\", index=False)"
   ]
  },
  {
   "cell_type": "markdown",
   "id": "afb65604",
   "metadata": {},
   "source": [
    "# 二、租房网站"
   ]
  },
  {
   "cell_type": "code",
   "execution_count": 7,
   "id": "e1dc02c1",
   "metadata": {},
   "outputs": [],
   "source": [
    "# 爬取租房数据\n",
    "zu_data = []\n",
    "url = 'https://tj.zu.fang.com/house-a052/'\n",
    "driver.get(url)\n",
    "sleep(5)"
   ]
  },
  {
   "cell_type": "code",
   "execution_count": 8,
   "id": "7a1b8d00",
   "metadata": {},
   "outputs": [
    {
     "name": "stdout",
     "output_type": "stream",
     "text": [
      "第1页成功提取 60 条数据\n",
      "第2页成功提取 60 条数据\n",
      "第3页成功提取 60 条数据\n",
      "第4页成功提取 60 条数据\n",
      "第5页成功提取 60 条数据\n",
      "第6页成功提取 60 条数据\n",
      "第7页成功提取 60 条数据\n",
      "第8页成功提取 60 条数据\n",
      "第9页成功提取 60 条数据\n",
      "第10页成功提取 60 条数据\n",
      "第11页成功提取 60 条数据\n",
      "第12页成功提取 60 条数据\n",
      "第13页成功提取 60 条数据\n",
      "第14页成功提取 60 条数据\n",
      "第15页成功提取 60 条数据\n",
      "第16页成功提取 60 条数据\n",
      "第17页成功提取 60 条数据\n",
      "第18页成功提取 60 条数据\n",
      "第19页成功提取 60 条数据\n",
      "第20页成功提取 60 条数据\n",
      "租房数据总共收集到 1200 条数据\n"
     ]
    }
   ],
   "source": [
    "j = 0\n",
    "Zu_Pages = 20\n",
    "while j < Zu_Pages:\n",
    "    try:\n",
    "        # 等待页面完全加载\n",
    "        sleep(3) \n",
    "        houses = driver.find_elements(By.CSS_SELECTOR, \"dd.info.rel\")\n",
    "        page_data = []  # 临时存储当前页数据\n",
    "        \n",
    "        for house in houses:\n",
    "            try:\n",
    "                area_elements = house.find_elements(By.CSS_SELECTOR, \".font15.mt12.bold\")\n",
    "                price_elements = house.find_elements(By.CSS_SELECTOR, \".price\")\n",
    "                \n",
    "                if area_elements and price_elements:\n",
    "                    area_text = area_elements[0].text\n",
    "                    price_text = price_elements[0].text\n",
    "                    \n",
    "                    import re\n",
    "                    area_match = re.search(r'(\\d+)㎡', area_text)\n",
    "                    \n",
    "                    if area_match:\n",
    "                        area_value = int(area_match.group(1))\n",
    "                        price_value = int(price_text)\n",
    "                        \n",
    "                        page_data.append({\n",
    "                            '面积(㎡)': area_value,\n",
    "                            '租金(元/月)': price_value\n",
    "                        })\n",
    "            except Exception as e:\n",
    "                continue\n",
    "        \n",
    "        # 将当前页数据添加到总数据中\n",
    "        zu_data.extend(page_data)\n",
    "        print(f\"第{j+1}页成功提取 {len(page_data)} 条数据\")\n",
    "        \n",
    "        # 翻页\n",
    "        next_page = driver.find_element(By.XPATH, \"//a[contains(text(),'下一页')]\")\n",
    "        next_page.click()\n",
    "        sleep(3)\n",
    "        j += 1\n",
    "        \n",
    "    except Exception as e:\n",
    "        print(f\"错误: {e}\")\n",
    "        break\n",
    "\n",
    "print(f\"租房数据总共收集到 {len(zu_data)} 条数据\")"
   ]
  },
  {
   "cell_type": "code",
   "execution_count": 9,
   "id": "21c29954",
   "metadata": {},
   "outputs": [],
   "source": [
    "df_zu = pd.DataFrame(zu_data)\n",
    "df_zu.to_excel(\"Tianjin_Wuqing_zu_data.xlsx\", index=False)"
   ]
  },
  {
   "cell_type": "code",
   "execution_count": null,
   "id": "b6439f45",
   "metadata": {},
   "outputs": [],
   "source": []
  }
 ],
 "metadata": {
  "kernelspec": {
   "display_name": "Python 3 (ipykernel)",
   "language": "python",
   "name": "python3"
  },
  "language_info": {
   "codemirror_mode": {
    "name": "ipython",
    "version": 3
   },
   "file_extension": ".py",
   "mimetype": "text/x-python",
   "name": "python",
   "nbconvert_exporter": "python",
   "pygments_lexer": "ipython3",
   "version": "3.12.3"
  }
 },
 "nbformat": 4,
 "nbformat_minor": 5
}
