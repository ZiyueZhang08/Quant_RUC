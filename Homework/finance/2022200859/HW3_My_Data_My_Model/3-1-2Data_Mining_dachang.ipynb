{
 "cells": [
  {
   "cell_type": "code",
   "execution_count": 33,
   "id": "76c1f182-1769-4dc2-9e6f-2a58acd428c7",
   "metadata": {},
   "outputs": [],
   "source": [
    "from selenium import webdriver\n",
    "from selenium.webdriver.chrome.service import Service\n",
    "from selenium.webdriver.common.by import By\n",
    "from selenium.webdriver.support.ui import WebDriverWait\n",
    "from selenium.webdriver.support import expected_conditions as EC\n",
    "from selenium.common.exceptions import NoSuchElementException, TimeoutException, StaleElementReferenceException\n",
    "from webdriver_manager.chrome import ChromeDriverManager\n",
    "from bs4 import BeautifulSoup\n",
    "import pandas as pd\n",
    "import time\n",
    "import re"
   ]
  },
  {
   "cell_type": "markdown",
   "id": "bf2e4a45-3785-40f0-b938-862097ae83dd",
   "metadata": {},
   "source": [
    "### 抓取所有Html信息\n"
   ]
  },
  {
   "cell_type": "code",
   "execution_count": 34,
   "id": "f4d0fd55-8808-4cc8-b4eb-f815ce852dfb",
   "metadata": {
    "scrolled": true
   },
   "outputs": [
    {
     "name": "stdout",
     "output_type": "stream",
     "text": [
      "第 1 页抓取完成，共 60 套房源\n",
      "第 2 页抓取完成，共 60 套房源\n",
      "第 3 页抓取完成，共 60 套房源\n",
      "第 4 页抓取完成，共 60 套房源\n",
      "第 5 页抓取完成，共 60 套房源\n",
      "第 6 页抓取完成，共 60 套房源\n",
      "第 7 页抓取完成，共 60 套房源\n",
      "第 8 页抓取完成，共 60 套房源\n",
      "第 9 页抓取完成，共 60 套房源\n",
      "第 10 页抓取完成，共 60 套房源\n",
      "第 11 页抓取完成，共 60 套房源\n",
      "第 12 页抓取完成，共 60 套房源\n",
      "第 13 页抓取完成，共 60 套房源\n",
      "第 14 页抓取完成，共 60 套房源\n",
      "第 15 页抓取完成，共 60 套房源\n",
      "第 16 页抓取完成，共 60 套房源\n",
      "第 17 页抓取完成，共 60 套房源\n",
      "第 18 页抓取完成，共 60 套房源\n",
      "第 19 页抓取完成，共 60 套房源\n",
      "第 20 页抓取完成，共 60 套房源\n"
     ]
    }
   ],
   "source": [
    "driver = webdriver.Chrome()\n",
    "\n",
    "url='https://lf.esf.fang.com/house-a010278/'\n",
    "driver.get(url)\n",
    "\n",
    "html_list = []\n",
    "i = 0\n",
    "Num_Pages = 20\n",
    "\n",
    "\n",
    "while i < Num_Pages:\n",
    "    try:\n",
    "        # 获取当前页所有房源的 dl 列表\n",
    "        house_items = driver.find_elements(By.CSS_SELECTOR, \".shop_list dl\")\n",
    "        for item in house_items:\n",
    "            html_list.append(item.get_attribute('outerHTML'))\n",
    "        \n",
    "        print(f\"第 {i+1} 页抓取完成，共 {len(house_items)} 套房源\")\n",
    "\n",
    "        # 查找“下一页”按钮\n",
    "        next_page = driver.find_element('class name', 'last')\n",
    "        next_page.click()\n",
    "        i += 1\n",
    "    except NoSuchElementException:\n",
    "        break\n"
   ]
  },
  {
   "cell_type": "markdown",
   "id": "95bb748b-1196-4b24-a754-1dd6ea2484fe",
   "metadata": {},
   "source": [
    "### 解析HTML列表\n",
    "\n"
   ]
  },
  {
   "cell_type": "code",
   "execution_count": 35,
   "id": "57248b3c-05e4-4325-aa71-1965a2e509c0",
   "metadata": {},
   "outputs": [],
   "source": [
    "all_properties = []\n",
    "\n",
    "for html in html_list:\n",
    "    soup = BeautifulSoup(html, 'html.parser')\n",
    "    property_info = {}\n",
    "\n",
    "    # 总价 \n",
    "    price_b = soup.find('span', class_='red').find('b') if soup.find('span', class_='red') else None\n",
    "    price_unit = soup.find('span', class_='red').get_text(strip=True) if soup.find('span', class_='red') else \"\"\n",
    "\n",
    "    if price_b:\n",
    "        total_price_text = price_b.get_text(strip=True) + '万'  # 如 \"242万\"\n",
    "    elif '万' in price_unit:\n",
    "        match = re.search(r'(\\d+\\.?\\d*)万', price_unit)  # 支持小数如 \"242.5万\"\n",
    "        total_price_text = match.group(1) + '万' if match else None\n",
    "    else:\n",
    "        total_price_text = None\n",
    "\n",
    "    if total_price_text and total_price_text != \"未知\":\n",
    "        try:\n",
    "            # 提取数字部分（去掉“万”字）\n",
    "            num_str = total_price_text.replace('万', '')\n",
    "            total_price = int(float(num_str) * 10000)\n",
    "        except ValueError:\n",
    "            total_price = None\n",
    "    else:\n",
    "        total_price = None  # 或者用 \"未知\"，但推荐 None 更利于后续处理\n",
    "\n",
    "    property_info['总价'] = total_price  # 已是整数，如 2420000\n",
    "\n",
    "    # 单价 \n",
    "    unit_price_span = soup.find('dd', class_='price_right').find('span', string=re.compile(r'元/㎡'))\n",
    "    \n",
    "    if unit_price_span:\n",
    "        raw_text = unit_price_span.get_text(strip=True)\n",
    "        # 提取数字\n",
    "        num_match = re.search(r'(\\d+\\.?\\d*)', raw_text)\n",
    "        property_info['单价'] = float(num_match.group(1)) if num_match else None\n",
    "    else:\n",
    "        property_info['单价'] = None  # 表示缺失\n",
    "\n",
    "\n",
    "    # --- 解析 <p class=\"tel_shop\"> 中的详细信息 ---\n",
    "    tel_shop = soup.find('p', class_='tel_shop')\n",
    "    if tel_shop:\n",
    "        # 移除 <a> 和 <span> 标签\n",
    "        for tag in tel_shop.find_all(['a', 'span']):\n",
    "            tag.extract()\n",
    "\n",
    "        text = tel_shop.get_text(strip=True)\n",
    "        parts = [part.strip() for part in text.split('|')]\n",
    "\n",
    "        # 从 parts 中提取面积：通常第一个是 \"xx㎡\"\n",
    "        area = \"未知\"\n",
    "        for part in parts:\n",
    "            if '㎡' in part:\n",
    "                area_match = re.search(r'(\\d+\\.?\\d*)㎡', part)\n",
    "                if area_match:\n",
    "                    area = float(area_match.group(1))\n",
    "                break\n",
    "        property_info['面积'] = area\n",
    "    else:\n",
    "        property_info['面积'] = \"未知\"\n",
    "\n",
    "    all_properties.append(property_info)\n",
    "\n",
    "# 转为 DataFrame\n",
    "df = pd.DataFrame(all_properties)\n"
   ]
  },
  {
   "cell_type": "markdown",
   "id": "e1fcb2b5-c0bc-41ad-9f55-ed3df78d426d",
   "metadata": {},
   "source": [
    "### 保存到 Excel 和 CSV"
   ]
  },
  {
   "cell_type": "code",
   "execution_count": 36,
   "id": "9b2a7ce4-e4f3-4a0e-9f5b-e8c801deac37",
   "metadata": {},
   "outputs": [
    {
     "name": "stdout",
     "output_type": "stream",
     "text": [
      "成功抓取 1200 条房源数据\n",
      "        总价      单价      面积\n",
      "0   790000  8977.0   88.00\n",
      "1   780000  6702.0  116.38\n",
      "2  1600000  6451.0  248.00\n",
      "3  1500000  6818.0  220.00\n",
      "4   670000  7528.0   89.00\n"
     ]
    }
   ],
   "source": [
    "if not df.empty:\n",
    "    df.to_csv(\"DACHANG_Housing_Price.csv\", index=False, encoding='utf-8-sig')\n",
    "    print(f\"成功抓取 {len(df)} 条房源数据\")\n",
    "else:\n",
    "    print(\"未能抓取到任何数据\")\n",
    "\n",
    "# 显示前几行\n",
    "print(df.head())\n",
    "\n",
    "driver.quit()"
   ]
  },
  {
   "cell_type": "markdown",
   "id": "28e63e3a-a08f-4cee-b0aa-a03837ac26c3",
   "metadata": {},
   "source": [
    "## 爬取租房价格\n"
   ]
  },
  {
   "cell_type": "code",
   "execution_count": 37,
   "id": "8a5f130b-ede5-4cfa-ab63-4c4bac9051d5",
   "metadata": {},
   "outputs": [],
   "source": [
    "driver = webdriver.Chrome()\n",
    "\n",
    "url='https://lf.zu.fang.com/house-a010278/n31/' #只保留整租\n",
    "driver.get(url)"
   ]
  },
  {
   "cell_type": "code",
   "execution_count": 38,
   "id": "ba000d4a-f9b1-49bb-871f-9a00d5798000",
   "metadata": {
    "scrolled": true
   },
   "outputs": [
    {
     "name": "stdout",
     "output_type": "stream",
     "text": [
      "第 1 页抓取完成，共 60 套房源\n",
      "第 2 页抓取完成，共 60 套房源\n",
      "第 3 页抓取完成，共 60 套房源\n",
      "第 4 页抓取完成，共 60 套房源\n",
      "第 5 页抓取完成，共 60 套房源\n",
      "第 6 页抓取完成，共 60 套房源\n",
      "第 7 页抓取完成，共 60 套房源\n",
      "第 8 页抓取完成，共 60 套房源\n",
      "第 9 页抓取完成，共 60 套房源\n",
      "第 10 页抓取完成，共 60 套房源\n",
      "第 11 页抓取完成，共 60 套房源\n",
      "第 12 页抓取完成，共 60 套房源\n",
      "第 13 页抓取完成，共 60 套房源\n",
      "第 14 页抓取完成，共 60 套房源\n",
      "第 15 页抓取完成，共 60 套房源\n",
      "第 16 页抓取完成，共 60 套房源\n",
      "第 17 页抓取完成，共 60 套房源\n",
      "第 18 页抓取完成，共 60 套房源\n",
      "第 19 页抓取完成，共 60 套房源\n",
      "第 20 页抓取完成，共 60 套房源\n"
     ]
    }
   ],
   "source": [
    "html_list_rent = []\n",
    "i = 0\n",
    "Num_Pages = 20\n",
    "while i < Num_Pages:\n",
    "    try:\n",
    "        # 获取当前页所有房源的 dl 列表\n",
    "        rent_items = driver.find_elements(By.CSS_SELECTOR, \".houseList dl\")\n",
    "        for item in rent_items:\n",
    "            html_list_rent.append(item.get_attribute('outerHTML'))\n",
    "        \n",
    "        print(f\"第 {i+1} 页抓取完成，共 {len(rent_items)} 套房源\")\n",
    "\n",
    "        # 查找“下一页”按钮\n",
    "        next_page = driver.find_element(By.LINK_TEXT, '下一页')\n",
    "        next_page.click()\n",
    "        i += 1\n",
    "    except NoSuchElementException:\n",
    "        break"
   ]
  },
  {
   "cell_type": "markdown",
   "id": "28d67c51-a805-49d8-8041-a55d96c2b124",
   "metadata": {},
   "source": [
    "### 解析 HTML 列表"
   ]
  },
  {
   "cell_type": "code",
   "execution_count": 39,
   "id": "e5903db3-5ce2-433b-98da-fda26722de84",
   "metadata": {},
   "outputs": [
    {
     "name": "stdout",
     "output_type": "stream",
     "text": [
      "  月租    面积  每平米月租\n",
      "6200 250.0  24.80\n",
      " 700  78.0   8.97\n",
      " 600  73.0   8.22\n",
      "1400  79.0  17.72\n",
      "1000  89.0  11.24\n"
     ]
    }
   ],
   "source": [
    "all_rent_properties = []\n",
    "\n",
    "for html in html_list_rent:\n",
    "    soup = BeautifulSoup(html, 'html.parser')\n",
    "    property_info = {}\n",
    "\n",
    " # --- 1. 月租（纯数字）---\n",
    "    price_span = soup.find('span', class_='price')\n",
    "    if price_span:\n",
    "        raw_price = price_span.get_text(strip=True)\n",
    "        # 提取数字部分\n",
    "        num_match = re.search(r'(\\d+)', raw_price)\n",
    "        property_info['月租'] = int(num_match.group(1)) if num_match else None\n",
    "    else:\n",
    "        property_info['月租'] = None\n",
    "\n",
    "    # --- 2. 面积 ---\n",
    "    # 在 class=\"font15 mt12 bold\" 的 p 标签中\n",
    "    info_p = soup.find('p', class_='font15 mt12 bold')\n",
    "    if info_p:\n",
    "        text = info_p.get_text(strip=True)\n",
    "        # 使用 '|' 分割，去除空格\n",
    "        parts = [part.strip() for part in text.split('|') if part.strip()]\n",
    "\n",
    "        # 面积：找包含 '㎡' 的部分\n",
    "        area_part = None\n",
    "        for part in parts:\n",
    "            if '㎡' in part:\n",
    "                area_part = part\n",
    "                break\n",
    "\n",
    "        if area_part:\n",
    "            num_match = re.search(r'(\\d+\\.?\\d*)', area_part)  # 支持小数\n",
    "            property_info['面积'] = float(num_match.group(1)) if num_match else None\n",
    "        else:\n",
    "            property_info['面积'] = None\n",
    "       \n",
    "    # --- 4. 计算每平米月租 ---\n",
    "    if property_info['月租'] and property_info['面积']:\n",
    "        property_info['每平米月租'] = round(property_info['月租'] / property_info['面积'], 2)\n",
    "    else:\n",
    "        property_info['每平米月租'] = None\n",
    "\n",
    "    all_rent_properties.append(property_info)\n",
    "\n",
    "# 转为 DataFrame（需要 pandas）\n",
    "import pandas as pd\n",
    "df_rent = pd.DataFrame(all_rent_properties)\n",
    "\n",
    "print(df_rent.head().to_string(index=False))\n"
   ]
  },
  {
   "cell_type": "code",
   "execution_count": 40,
   "id": "63b6aa7a-3da5-47f1-938a-35dac52b35df",
   "metadata": {},
   "outputs": [
    {
     "name": "stdout",
     "output_type": "stream",
     "text": [
      "成功抓取 1200 条房源数据\n",
      "     月租     面积  每平米月租\n",
      "0  6200  250.0  24.80\n",
      "1   700   78.0   8.97\n",
      "2   600   73.0   8.22\n",
      "3  1400   79.0  17.72\n",
      "4  1000   89.0  11.24\n"
     ]
    }
   ],
   "source": [
    "if not df_rent.empty:\n",
    "    df_rent.to_csv(\"DACHANG_Rent_Price.csv\", index=False, encoding='utf-8-sig')\n",
    "    print(f\"成功抓取 {len(df_rent)} 条房源数据\")\n",
    "else:\n",
    "    print(\"未能抓取到任何数据\")\n",
    "\n",
    "# 显示前几行\n",
    "print(df_rent.head())\n",
    "\n",
    "driver.quit()"
   ]
  },
  {
   "cell_type": "code",
   "execution_count": null,
   "id": "193c6b53-cf99-47c1-a745-a499bef41828",
   "metadata": {},
   "outputs": [],
   "source": []
  },
  {
   "cell_type": "code",
   "execution_count": null,
   "id": "8ba93c7f-b90e-41cc-af0b-fab05c152250",
   "metadata": {},
   "outputs": [],
   "source": []
  }
 ],
 "metadata": {
  "kernelspec": {
   "display_name": "base",
   "language": "python",
   "name": "python3"
  },
  "language_info": {
   "codemirror_mode": {
    "name": "ipython",
    "version": 3
   },
   "file_extension": ".py",
   "mimetype": "text/x-python",
   "name": "python",
   "nbconvert_exporter": "python",
   "pygments_lexer": "ipython3",
   "version": "3.13.5"
  }
 },
 "nbformat": 4,
 "nbformat_minor": 5
}
