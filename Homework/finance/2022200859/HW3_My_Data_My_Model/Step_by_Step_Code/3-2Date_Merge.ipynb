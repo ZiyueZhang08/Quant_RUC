{
 "cells": [
  {
   "cell_type": "code",
   "execution_count": 1,
   "id": "561864cd",
   "metadata": {},
   "outputs": [],
   "source": [
    "import pandas as pd\n",
    "\n",
    "# 定义文件路径\n",
    "rent_price_files = [\n",
    "    'DACHANG_Rent_Price.csv',\n",
    "    'MAJUQIAO_Rent_Price.csv',\n",
    "    'YANJIAO_Rent_Price.csv',\n",
    "    'YIZHUANG_Rent_Price.csv'\n",
    "]\n",
    "\n",
    "housing_price_files = [\n",
    "    'DACHANG_Housing_Price.csv',\n",
    "    'MAJUQIAO_Housing_Price.csv',\n",
    "    'YANJIAO_Housing_Price.csv',\n",
    "    'YIZHUANG_Housing_Price.csv'\n",
    "]\n",
    "\n",
    "# 合并 rent price 文件\n",
    "rent_price_dfs = []\n",
    "for file in rent_price_files:\n",
    "    df = pd.read_csv(file)\n",
    "    block_name = file.split('/')[-1].split('_')[0].lower()\n",
    "    df['Block'] = block_name\n",
    "    rent_price_dfs.append(df)\n",
    "\n",
    "rent_price_combined = pd.concat(rent_price_dfs, ignore_index=True)\n",
    "\n",
    "# 合并 housing price 文件\n",
    "housing_price_dfs = []\n",
    "for file in housing_price_files:\n",
    "    df = pd.read_csv(file)\n",
    "    block_name = file.split('/')[-1].split('_')[0].lower()\n",
    "    df['Block'] = block_name\n",
    "    housing_price_dfs.append(df)\n",
    "\n",
    "housing_price_combined = pd.concat(housing_price_dfs, ignore_index=True)\n",
    "\n",
    "# 生成 Housing_Price 表格，包含总价、单价、面积、Block 四列\n",
    "Housing_Price = housing_price_combined[['总价', '单价', '面积', 'Block']]\n",
    "\n",
    "# 生成 Rent_Price 表格，包含月租，面积，每平米房租，Block 四列\n",
    "Rent_Price = rent_price_combined[['月租', '面积', '每平米月租', 'Block']]\n",
    "\n",
    "# 将结果保存为 csv 文件\n",
    "Housing_Price.to_csv('Housing_Price.csv', index=False)\n",
    "Rent_Price.to_csv('Rent_Price.csv', index=False)"
   ]
  },
  {
   "cell_type": "code",
   "execution_count": null,
   "id": "2dca9052",
   "metadata": {},
   "outputs": [],
   "source": []
  }
 ],
 "metadata": {
  "kernelspec": {
   "display_name": "base",
   "language": "python",
   "name": "python3"
  },
  "language_info": {
   "codemirror_mode": {
    "name": "ipython",
    "version": 3
   },
   "file_extension": ".py",
   "mimetype": "text/x-python",
   "name": "python",
   "nbconvert_exporter": "python",
   "pygments_lexer": "ipython3",
   "version": "3.13.5"
  }
 },
 "nbformat": 4,
 "nbformat_minor": 5
}
