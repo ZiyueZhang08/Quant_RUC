{
 "cells": [
  {
   "cell_type": "code",
   "execution_count": 5,
   "id": "8f43f095-279a-410e-b6f1-dcf78e705320",
   "metadata": {},
   "outputs": [
    {
     "name": "stdout",
     "output_type": "stream",
     "text": [
      "✅ 全部生成完成，共 90 份 → E:\\quant\\B_homework\\output_word\n"
     ]
    }
   ],
   "source": [
    "import os\n",
    "import pandas as pd\n",
    "from docxtpl import DocxTemplate\n",
    "from pathlib import Path\n",
    "\n",
    "# 1. 读取数据 --------------------------------------------------------------\n",
    "uni_df   = pd.read_excel('university.xlsx').rename(columns={'university name':'university'})\n",
    "job_df   = pd.read_excel('job.xlsx')\n",
    "\n",
    "# 去掉可能的表头重复行\n",
    "uni_df = uni_df[uni_df['university'] != 'university name'].reset_index(drop=True)\n",
    "job_df = job_df[job_df['research_area'] != 'research_area'].reset_index(drop=True)\n",
    "\n",
    "# 2. 建立输出文件夹 --------------------------------------------------------\n",
    "out_dir = Path('output_word')\n",
    "out_dir.mkdir(exist_ok=True)\n",
    "\n",
    "# 3. 加载模板 --------------------------------------------------------------\n",
    "template = DocxTemplate('template.docx')\n",
    "\n",
    "# 4. 双重循环生成 90 份 ----------------------------------------------------\n",
    "for _, uni_row in uni_df.iterrows():\n",
    "    university = uni_row['university']\n",
    "    for _, job_row in job_df.iterrows():\n",
    "        context = {\n",
    "            'university'   : university,\n",
    "            'research_area': job_row['research_area'],\n",
    "            'journals'     : job_row['journals'],\n",
    "            'skills'       : job_row['skills'],\n",
    "            'career_goal'  : job_row['career_goal']\n",
    "        }\n",
    "        # 渲染\n",
    "        template.render(context)\n",
    "        # 保存\n",
    "        file_name = f\"SOP_{university}_{job_row['research_area']}.docx\"\n",
    "        file_path = out_dir / file_name\n",
    "        template.save(file_path)\n",
    "\n",
    "print(f'✅ 全部生成完成，共 {len(uni_df)*len(job_df)} 份 → {out_dir.absolute()}')"
   ]
  },
  {
   "cell_type": "code",
   "execution_count": 7,
   "id": "66722aae-18e7-4fd7-8022-9ca283556ee3",
   "metadata": {},
   "outputs": [
    {
     "name": "stdout",
     "output_type": "stream",
     "text": [
      "docx2pdf 版本: 0.1.8\n"
     ]
    }
   ],
   "source": [
    "import docx2pdf, os, pathlib\n",
    "print('docx2pdf 版本:', docx2pdf.__version__)"
   ]
  },
  {
   "cell_type": "code",
   "execution_count": null,
   "id": "1f0dbca7-1319-47d1-b268-a5163b8a3da6",
   "metadata": {},
   "outputs": [],
   "source": [
    "from docx2pdf import convert\n",
    "import pathlib, os\n",
    "\n",
    "src_dir  = pathlib.Path('output_word')          # 放Word的目录\n",
    "dst_dir  = pathlib.Path('output_pdf')           # 即将生成的PDF目录\n",
    "dst_dir.mkdir(exist_ok=True)\n",
    "\n",
    "# 遍历所有docx\n",
    "for docx in src_dir.glob('*.docx'):\n",
    "    pdf = dst_dir / f'{docx.stem}.pdf'          # 同名只换后缀\n",
    "    print(f'转换中: {docx.name} ...')\n",
    "    convert(str(docx), str(pdf))                # 核心一行\n",
    "\n",
    "print(f'✅ 全部转换完成 → {dst_dir.absolute()}')"
   ]
  }
 ],
 "metadata": {
  "kernelspec": {
   "display_name": "Python [conda env:base] *",
   "language": "python",
   "name": "conda-base-py"
  },
  "language_info": {
   "codemirror_mode": {
    "name": "ipython",
    "version": 3
   },
   "file_extension": ".py",
   "mimetype": "text/x-python",
   "name": "python",
   "nbconvert_exporter": "python",
   "pygments_lexer": "ipython3",
   "version": "3.12.7"
  }
 },
 "nbformat": 4,
 "nbformat_minor": 5
}
