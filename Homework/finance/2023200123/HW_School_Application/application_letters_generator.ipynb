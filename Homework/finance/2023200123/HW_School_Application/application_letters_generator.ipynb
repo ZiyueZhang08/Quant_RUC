{
 "cells": [
  {
   "cell_type": "code",
   "execution_count": 7,
   "id": "1b4da318-4469-4e74-bebc-53ebea9b15b2",
   "metadata": {},
   "outputs": [
    {
     "name": "stdout",
     "output_type": "stream",
     "text": [
      "Collecting openpyxl\n",
      "  Downloading openpyxl-3.1.5-py2.py3-none-any.whl.metadata (2.5 kB)\n",
      "Collecting et-xmlfile (from openpyxl)\n",
      "  Downloading et_xmlfile-2.0.0-py3-none-any.whl.metadata (2.7 kB)\n",
      "Downloading openpyxl-3.1.5-py2.py3-none-any.whl (250 kB)\n",
      "Downloading et_xmlfile-2.0.0-py3-none-any.whl (18 kB)\n",
      "Installing collected packages: et-xmlfile, openpyxl\n",
      "\n",
      "   ---------------------------------------- 0/2 [et-xmlfile]\n",
      "   -------------------- ------------------- 1/2 [openpyxl]\n",
      "   -------------------- ------------------- 1/2 [openpyxl]\n",
      "   -------------------- ------------------- 1/2 [openpyxl]\n",
      "   -------------------- ------------------- 1/2 [openpyxl]\n",
      "   -------------------- ------------------- 1/2 [openpyxl]\n",
      "   -------------------- ------------------- 1/2 [openpyxl]\n",
      "   -------------------- ------------------- 1/2 [openpyxl]\n",
      "   -------------------- ------------------- 1/2 [openpyxl]\n",
      "   -------------------- ------------------- 1/2 [openpyxl]\n",
      "   -------------------- ------------------- 1/2 [openpyxl]\n",
      "   -------------------- ------------------- 1/2 [openpyxl]\n",
      "   -------------------- ------------------- 1/2 [openpyxl]\n",
      "   -------------------- ------------------- 1/2 [openpyxl]\n",
      "   -------------------- ------------------- 1/2 [openpyxl]\n",
      "   -------------------- ------------------- 1/2 [openpyxl]\n",
      "   -------------------- ------------------- 1/2 [openpyxl]\n",
      "   -------------------- ------------------- 1/2 [openpyxl]\n",
      "   -------------------- ------------------- 1/2 [openpyxl]\n",
      "   -------------------- ------------------- 1/2 [openpyxl]\n",
      "   -------------------- ------------------- 1/2 [openpyxl]\n",
      "   -------------------- ------------------- 1/2 [openpyxl]\n",
      "   -------------------- ------------------- 1/2 [openpyxl]\n",
      "   -------------------- ------------------- 1/2 [openpyxl]\n",
      "   -------------------- ------------------- 1/2 [openpyxl]\n",
      "   -------------------- ------------------- 1/2 [openpyxl]\n",
      "   -------------------- ------------------- 1/2 [openpyxl]\n",
      "   -------------------- ------------------- 1/2 [openpyxl]\n",
      "   -------------------- ------------------- 1/2 [openpyxl]\n",
      "   -------------------- ------------------- 1/2 [openpyxl]\n",
      "   -------------------- ------------------- 1/2 [openpyxl]\n",
      "   -------------------- ------------------- 1/2 [openpyxl]\n",
      "   -------------------- ------------------- 1/2 [openpyxl]\n",
      "   -------------------- ------------------- 1/2 [openpyxl]\n",
      "   -------------------- ------------------- 1/2 [openpyxl]\n",
      "   -------------------- ------------------- 1/2 [openpyxl]\n",
      "   -------------------- ------------------- 1/2 [openpyxl]\n",
      "   -------------------- ------------------- 1/2 [openpyxl]\n",
      "   -------------------- ------------------- 1/2 [openpyxl]\n",
      "   -------------------- ------------------- 1/2 [openpyxl]\n",
      "   -------------------- ------------------- 1/2 [openpyxl]\n",
      "   -------------------- ------------------- 1/2 [openpyxl]\n",
      "   -------------------- ------------------- 1/2 [openpyxl]\n",
      "   -------------------- ------------------- 1/2 [openpyxl]\n",
      "   ---------------------------------------- 2/2 [openpyxl]\n",
      "\n",
      "Successfully installed et-xmlfile-2.0.0 openpyxl-3.1.5\n"
     ]
    }
   ],
   "source": [
    "target_python = sys.executable\n",
    "!{target_python} -m pip install openpyxl"
   ]
  },
  {
   "cell_type": "code",
   "execution_count": 3,
   "id": "0dc02039-778d-4bed-a242-15db3b12b880",
   "metadata": {},
   "outputs": [
    {
     "name": "stdout",
     "output_type": "stream",
     "text": [
      "Collecting docx2pdf\n",
      "  Downloading docx2pdf-0.1.8-py3-none-any.whl.metadata (3.3 kB)\n",
      "Requirement already satisfied: pywin32>=227 in d:\\download\\anaconda3\\envs\\my_new_env\\lib\\site-packages (from docx2pdf) (311)\n",
      "Collecting tqdm>=4.41.0 (from docx2pdf)\n",
      "  Downloading tqdm-4.67.1-py3-none-any.whl.metadata (57 kB)\n",
      "Requirement already satisfied: colorama in d:\\download\\anaconda3\\envs\\my_new_env\\lib\\site-packages (from tqdm>=4.41.0->docx2pdf) (0.4.6)\n",
      "Downloading docx2pdf-0.1.8-py3-none-any.whl (6.7 kB)\n",
      "Downloading tqdm-4.67.1-py3-none-any.whl (78 kB)\n",
      "Installing collected packages: tqdm, docx2pdf\n",
      "\n",
      "   ---------------------------------------- 0/2 [tqdm]\n",
      "   ---------------------------------------- 0/2 [tqdm]\n",
      "   ---------------------------------------- 0/2 [tqdm]\n",
      "   ---------------------------------------- 0/2 [tqdm]\n",
      "   ---------------------------------------- 0/2 [tqdm]\n",
      "   ---------------------------------------- 0/2 [tqdm]\n",
      "   -------------------- ------------------- 1/2 [docx2pdf]\n",
      "   ---------------------------------------- 2/2 [docx2pdf]\n",
      "\n",
      "Successfully installed docx2pdf-0.1.8 tqdm-4.67.1\n"
     ]
    },
    {
     "name": "stderr",
     "output_type": "stream",
     "text": [
      "  WARNING: The script tqdm.exe is installed in 'D:\\Download\\anaconda3\\envs\\my_new_env\\Scripts' which is not on PATH.\n",
      "  Consider adding this directory to PATH or, if you prefer to suppress this warning, use --no-warn-script-location.\n",
      "  WARNING: The script docx2pdf.exe is installed in 'D:\\Download\\anaconda3\\envs\\my_new_env\\Scripts' which is not on PATH.\n",
      "  Consider adding this directory to PATH or, if you prefer to suppress this warning, use --no-warn-script-location.\n"
     ]
    }
   ],
   "source": [
    "target_python = sys.executable\n",
    "!{target_python} -m pip install docx2pdf"
   ]
  },
  {
   "cell_type": "code",
   "execution_count": 14,
   "id": "c3258129-f1c6-4aee-bd53-e32fd0946bad",
   "metadata": {},
   "outputs": [],
   "source": [
    "import pandas as pd\n",
    "from docxtpl import DocxTemplate\n",
    "import os\n",
    "from docx2pdf import convert"
   ]
  },
  {
   "cell_type": "code",
   "execution_count": 15,
   "id": "a4d923b9-3590-4365-ad4b-c117cc68c90f",
   "metadata": {},
   "outputs": [],
   "source": [
    "def generate_sop(template_path, output_dir, applicant_info, university_data, research_data):\n",
    "    \"\"\"\n",
    "    生成个性化的申请信（Statement of Purpose）。\n",
    "\n",
    "    Args:\n",
    "        template_path (str): Word模板文件的路径。\n",
    "        output_dir (str): 生成的文档保存的目录。\n",
    "        applicant_info (dict): 申请人的基本信息，例如 {\"applicant_name\": \"Lei Ge\", \"program_name\": \"Master of Finance\"}。\n",
    "        university_data (pd.DataFrame): 包含大学名称的DataFrame。\n",
    "        research_data (pd.DataFrame): 包含研究领域和期刊的DataFrame。\n",
    "        skills_data (pd.DataFrame): 包含技能的DataFrame。\n",
    "    \"\"\"\n",
    "    if not os.path.exists(output_dir):\n",
    "        os.makedirs(output_dir)\n",
    "\n",
    "    doc = DocxTemplate(template_path)\n",
    "\n",
    "    # 循环生成申请信\n",
    "    count = 0\n",
    "    for index_uni, row_uni in university_data.iterrows():\n",
    "        university_name = row_uni['University Name']\n",
    "\n",
    "        for index_res, row_res in research_data.iterrows():\n",
    "            research_area = row_res['Research Area']\n",
    "            journals = ', '.join([row_res['Journal 1'], row_res['Journal 2'], row_res['Journal 3']])\n",
    "            all_skills = ', '.join([row_res['Skill 1'], row_res['Skill 2'], row_res['Skill 3']])\n",
    "            # 构建上下文字典，用于替换模板中的占位符\n",
    "            context = {\n",
    "                'applicant_name': applicant_info['applicant_name'],\n",
    "                'program_name': applicant_info['program_name'],\n",
    "                'university_name': university_name,\n",
    "                'journals': journals,\n",
    "                'career_goal': 'quant researcher', # 你可能需要定义一个列表来随机选择职业目标，或者保持一致\n",
    "                'skills': all_skills,\n",
    "                'research_area': research_area # 如果你想在信中引用研究领域，可以添加到模板中\n",
    "            }\n",
    "\n",
    "            # 渲染模板\n",
    "            doc.render(context)\n",
    "\n",
    "            # 保存为Word文档\n",
    "            output_filename_docx = os.path.join(output_dir, f\"{applicant_info['applicant_name']}_{university_name.replace(' ', '_')}_{research_area.replace(' ', '_')}.docx\")\n",
    "            doc.save(output_filename_docx)\n",
    "            print(f\"Generated: {output_filename_docx}\")\n",
    "            count += 1\n",
    "\n",
    "            # 如果是Windows用户，可以转换为PDF\n",
    "            try:\n",
    "                 convert(output_filename_docx, output_filename_docx.replace('.docx', '.pdf'))\n",
    "                 print(f\"Converted to PDF: {output_filename_docx.replace('.docx', '.pdf')}\")\n",
    "            except Exception as e:\n",
    "                 print(f\"Error converting to PDF for {output_filename_docx}: {e}\")\n",
    "            \n",
    "    print(f\"\\nSuccessfully generated {count} Statement of Purpose documents.\")"
   ]
  },
  {
   "cell_type": "code",
   "execution_count": 16,
   "id": "8a2a1dee-051f-4691-a0ac-00f8353296d9",
   "metadata": {},
   "outputs": [],
   "source": [
    "# 定义文件路径\n",
    "template_file = 'template.docx'\n",
    "output_directory = 'HW_School_Application'\n",
    "university_excel = 'universities.xlsx'\n",
    "research_excel = 'research_areas_journals.xlsx'\n",
    "# 申请人信息 (根据你的实际情况修改)\n",
    "my_applicant_info = {\n",
    "    \"applicant_name\": \"Xuanzhen Zhu\",\n",
    "    \"program_name\": \"Master of Finance program\",\n",
    "    \"career_goal\": \"quant researcher\" # 可以根据需要修改或扩展\n",
    "}"
   ]
  },
  {
   "cell_type": "code",
   "execution_count": 17,
   "id": "bad826d5-9b16-46bf-82cd-2a71f64b0bb0",
   "metadata": {},
   "outputs": [],
   "source": [
    "# 读取Excel数据\n",
    "try:\n",
    "    universities = pd.read_excel(university_excel)\n",
    "    research_info = pd.read_excel(research_excel)\n",
    "except FileNotFoundError as e:\n",
    "    print(f\"Error: Required Excel file not found. Please ensure {e.filename} exists in the same directory.\")\n",
    "    exit()"
   ]
  },
  {
   "cell_type": "code",
   "execution_count": 18,
   "id": "1bd27416-4b98-4bae-8506-ddd011557dd9",
   "metadata": {},
   "outputs": [
    {
     "name": "stdout",
     "output_type": "stream",
     "text": [
      "Generated: HW_School_Application\\Xuanzhen Zhu_Harvard_University_economics.docx\n"
     ]
    },
    {
     "name": "stderr",
     "output_type": "stream",
     "text": [
      "100%|████████████████████████████████████████████████████████████████████████████████████| 1/1 [00:05<00:00,  5.48s/it]\n"
     ]
    },
    {
     "name": "stdout",
     "output_type": "stream",
     "text": [
      "Converted to PDF: HW_School_Application\\Xuanzhen Zhu_Harvard_University_economics.pdf\n",
      "Generated: HW_School_Application\\Xuanzhen Zhu_Harvard_University_information_management.docx\n"
     ]
    },
    {
     "name": "stderr",
     "output_type": "stream",
     "text": [
      "  0%|                                                                                            | 0/1 [00:02<?, ?it/s]"
     ]
    },
    {
     "name": "stdout",
     "output_type": "stream",
     "text": [
      "Error converting to PDF for HW_School_Application\\Xuanzhen Zhu_Harvard_University_information_management.docx: Word.Application.Documents\n",
      "Generated: HW_School_Application\\Xuanzhen Zhu_Harvard_University_finance.docx\n"
     ]
    },
    {
     "name": "stderr",
     "output_type": "stream",
     "text": [
      "\n",
      "100%|████████████████████████████████████████████████████████████████████████████████████| 1/1 [00:05<00:00,  5.85s/it]\n"
     ]
    },
    {
     "name": "stdout",
     "output_type": "stream",
     "text": [
      "Converted to PDF: HW_School_Application\\Xuanzhen Zhu_Harvard_University_finance.pdf\n",
      "Generated: HW_School_Application\\Xuanzhen Zhu_MIT_economics.docx\n"
     ]
    },
    {
     "name": "stderr",
     "output_type": "stream",
     "text": [
      "100%|████████████████████████████████████████████████████████████████████████████████████| 1/1 [00:05<00:00,  5.07s/it]"
     ]
    },
    {
     "name": "stdout",
     "output_type": "stream",
     "text": [
      "Error converting to PDF for HW_School_Application\\Xuanzhen Zhu_MIT_economics.docx: Word.Application.Quit\n",
      "Generated: HW_School_Application\\Xuanzhen Zhu_MIT_information_management.docx\n"
     ]
    },
    {
     "name": "stderr",
     "output_type": "stream",
     "text": [
      "\n",
      "100%|████████████████████████████████████████████████████████████████████████████████████| 1/1 [00:05<00:00,  5.76s/it]\n"
     ]
    },
    {
     "name": "stdout",
     "output_type": "stream",
     "text": [
      "Converted to PDF: HW_School_Application\\Xuanzhen Zhu_MIT_information_management.pdf\n",
      "Generated: HW_School_Application\\Xuanzhen Zhu_MIT_finance.docx\n"
     ]
    },
    {
     "name": "stderr",
     "output_type": "stream",
     "text": [
      "100%|████████████████████████████████████████████████████████████████████████████████████| 1/1 [00:02<00:00,  2.27s/it]\n"
     ]
    },
    {
     "name": "stdout",
     "output_type": "stream",
     "text": [
      "Converted to PDF: HW_School_Application\\Xuanzhen Zhu_MIT_finance.pdf\n",
      "Generated: HW_School_Application\\Xuanzhen Zhu_University_of_California-Berkeley_economics.docx\n"
     ]
    },
    {
     "name": "stderr",
     "output_type": "stream",
     "text": [
      "100%|████████████████████████████████████████████████████████████████████████████████████| 1/1 [00:05<00:00,  5.96s/it]\n"
     ]
    },
    {
     "name": "stdout",
     "output_type": "stream",
     "text": [
      "Converted to PDF: HW_School_Application\\Xuanzhen Zhu_University_of_California-Berkeley_economics.pdf\n",
      "Generated: HW_School_Application\\Xuanzhen Zhu_University_of_California-Berkeley_information_management.docx\n"
     ]
    },
    {
     "name": "stderr",
     "output_type": "stream",
     "text": [
      "100%|████████████████████████████████████████████████████████████████████████████████████| 1/1 [00:05<00:00,  5.09s/it]"
     ]
    },
    {
     "name": "stdout",
     "output_type": "stream",
     "text": [
      "Error converting to PDF for HW_School_Application\\Xuanzhen Zhu_University_of_California-Berkeley_information_management.docx: Word.Application.Quit\n",
      "Generated: HW_School_Application\\Xuanzhen Zhu_University_of_California-Berkeley_finance.docx\n"
     ]
    },
    {
     "name": "stderr",
     "output_type": "stream",
     "text": [
      "\n",
      "100%|████████████████████████████████████████████████████████████████████████████████████| 1/1 [00:05<00:00,  5.99s/it]\n"
     ]
    },
    {
     "name": "stdout",
     "output_type": "stream",
     "text": [
      "Converted to PDF: HW_School_Application\\Xuanzhen Zhu_University_of_California-Berkeley_finance.pdf\n",
      "Generated: HW_School_Application\\Xuanzhen Zhu_University_of_Chicago_economics.docx\n"
     ]
    },
    {
     "name": "stderr",
     "output_type": "stream",
     "text": [
      "100%|████████████████████████████████████████████████████████████████████████████████████| 1/1 [00:02<00:00,  2.23s/it]\n"
     ]
    },
    {
     "name": "stdout",
     "output_type": "stream",
     "text": [
      "Converted to PDF: HW_School_Application\\Xuanzhen Zhu_University_of_Chicago_economics.pdf\n",
      "Generated: HW_School_Application\\Xuanzhen Zhu_University_of_Chicago_information_management.docx\n"
     ]
    },
    {
     "name": "stderr",
     "output_type": "stream",
     "text": [
      "100%|████████████████████████████████████████████████████████████████████████████████████| 1/1 [00:06<00:00,  6.01s/it]\n"
     ]
    },
    {
     "name": "stdout",
     "output_type": "stream",
     "text": [
      "Converted to PDF: HW_School_Application\\Xuanzhen Zhu_University_of_Chicago_information_management.pdf\n",
      "Generated: HW_School_Application\\Xuanzhen Zhu_University_of_Chicago_finance.docx\n"
     ]
    },
    {
     "name": "stderr",
     "output_type": "stream",
     "text": [
      "100%|████████████████████████████████████████████████████████████████████████████████████| 1/1 [00:02<00:00,  2.47s/it]\n"
     ]
    },
    {
     "name": "stdout",
     "output_type": "stream",
     "text": [
      "Converted to PDF: HW_School_Application\\Xuanzhen Zhu_University_of_Chicago_finance.pdf\n",
      "Generated: HW_School_Application\\Xuanzhen Zhu_Princeton_University_economics.docx\n"
     ]
    },
    {
     "name": "stderr",
     "output_type": "stream",
     "text": [
      "100%|████████████████████████████████████████████████████████████████████████████████████| 1/1 [00:06<00:00,  6.06s/it]\n"
     ]
    },
    {
     "name": "stdout",
     "output_type": "stream",
     "text": [
      "Converted to PDF: HW_School_Application\\Xuanzhen Zhu_Princeton_University_economics.pdf\n",
      "Generated: HW_School_Application\\Xuanzhen Zhu_Princeton_University_information_management.docx\n"
     ]
    },
    {
     "name": "stderr",
     "output_type": "stream",
     "text": [
      "100%|████████████████████████████████████████████████████████████████████████████████████| 1/1 [00:04<00:00,  4.89s/it]\n"
     ]
    },
    {
     "name": "stdout",
     "output_type": "stream",
     "text": [
      "Converted to PDF: HW_School_Application\\Xuanzhen Zhu_Princeton_University_information_management.pdf\n",
      "Generated: HW_School_Application\\Xuanzhen Zhu_Princeton_University_finance.docx\n"
     ]
    },
    {
     "name": "stderr",
     "output_type": "stream",
     "text": [
      "100%|████████████████████████████████████████████████████████████████████████████████████| 1/1 [00:05<00:00,  5.91s/it]\n"
     ]
    },
    {
     "name": "stdout",
     "output_type": "stream",
     "text": [
      "Converted to PDF: HW_School_Application\\Xuanzhen Zhu_Princeton_University_finance.pdf\n",
      "Generated: HW_School_Application\\Xuanzhen Zhu_Stanford_University_economics.docx\n"
     ]
    },
    {
     "name": "stderr",
     "output_type": "stream",
     "text": [
      "100%|████████████████████████████████████████████████████████████████████████████████████| 1/1 [00:02<00:00,  2.51s/it]\n"
     ]
    },
    {
     "name": "stdout",
     "output_type": "stream",
     "text": [
      "Converted to PDF: HW_School_Application\\Xuanzhen Zhu_Stanford_University_economics.pdf\n",
      "Generated: HW_School_Application\\Xuanzhen Zhu_Stanford_University_information_management.docx\n"
     ]
    },
    {
     "name": "stderr",
     "output_type": "stream",
     "text": [
      "100%|████████████████████████████████████████████████████████████████████████████████████| 1/1 [00:05<00:00,  5.88s/it]\n"
     ]
    },
    {
     "name": "stdout",
     "output_type": "stream",
     "text": [
      "Converted to PDF: HW_School_Application\\Xuanzhen Zhu_Stanford_University_information_management.pdf\n",
      "Generated: HW_School_Application\\Xuanzhen Zhu_Stanford_University_finance.docx\n"
     ]
    },
    {
     "name": "stderr",
     "output_type": "stream",
     "text": [
      "100%|████████████████████████████████████████████████████████████████████████████████████| 1/1 [00:02<00:00,  2.47s/it]\n"
     ]
    },
    {
     "name": "stdout",
     "output_type": "stream",
     "text": [
      "Converted to PDF: HW_School_Application\\Xuanzhen Zhu_Stanford_University_finance.pdf\n",
      "Generated: HW_School_Application\\Xuanzhen Zhu_Yale_University_economics.docx\n"
     ]
    },
    {
     "name": "stderr",
     "output_type": "stream",
     "text": [
      "100%|████████████████████████████████████████████████████████████████████████████████████| 1/1 [00:05<00:00,  5.87s/it]\n"
     ]
    },
    {
     "name": "stdout",
     "output_type": "stream",
     "text": [
      "Converted to PDF: HW_School_Application\\Xuanzhen Zhu_Yale_University_economics.pdf\n",
      "Generated: HW_School_Application\\Xuanzhen Zhu_Yale_University_information_management.docx\n"
     ]
    },
    {
     "name": "stderr",
     "output_type": "stream",
     "text": [
      "100%|████████████████████████████████████████████████████████████████████████████████████| 1/1 [00:05<00:00,  5.14s/it]\n"
     ]
    },
    {
     "name": "stdout",
     "output_type": "stream",
     "text": [
      "Converted to PDF: HW_School_Application\\Xuanzhen Zhu_Yale_University_information_management.pdf\n",
      "Generated: HW_School_Application\\Xuanzhen Zhu_Yale_University_finance.docx\n"
     ]
    },
    {
     "name": "stderr",
     "output_type": "stream",
     "text": [
      "100%|████████████████████████████████████████████████████████████████████████████████████| 1/1 [00:06<00:00,  6.20s/it]\n"
     ]
    },
    {
     "name": "stdout",
     "output_type": "stream",
     "text": [
      "Converted to PDF: HW_School_Application\\Xuanzhen Zhu_Yale_University_finance.pdf\n",
      "Generated: HW_School_Application\\Xuanzhen Zhu_Oxford_University_economics.docx\n"
     ]
    },
    {
     "name": "stderr",
     "output_type": "stream",
     "text": [
      "100%|████████████████████████████████████████████████████████████████████████████████████| 1/1 [00:05<00:00,  5.04s/it]"
     ]
    },
    {
     "name": "stdout",
     "output_type": "stream",
     "text": [
      "Error converting to PDF for HW_School_Application\\Xuanzhen Zhu_Oxford_University_economics.docx: Word.Application.Quit\n",
      "Generated: HW_School_Application\\Xuanzhen Zhu_Oxford_University_information_management.docx\n"
     ]
    },
    {
     "name": "stderr",
     "output_type": "stream",
     "text": [
      "\n",
      "100%|████████████████████████████████████████████████████████████████████████████████████| 1/1 [00:05<00:00,  5.69s/it]\n"
     ]
    },
    {
     "name": "stdout",
     "output_type": "stream",
     "text": [
      "Converted to PDF: HW_School_Application\\Xuanzhen Zhu_Oxford_University_information_management.pdf\n",
      "Generated: HW_School_Application\\Xuanzhen Zhu_Oxford_University_finance.docx\n"
     ]
    },
    {
     "name": "stderr",
     "output_type": "stream",
     "text": [
      "100%|████████████████████████████████████████████████████████████████████████████████████| 1/1 [00:05<00:00,  5.15s/it]\n"
     ]
    },
    {
     "name": "stdout",
     "output_type": "stream",
     "text": [
      "Converted to PDF: HW_School_Application\\Xuanzhen Zhu_Oxford_University_finance.pdf\n",
      "Generated: HW_School_Application\\Xuanzhen Zhu_New_York_University_economics.docx\n"
     ]
    },
    {
     "name": "stderr",
     "output_type": "stream",
     "text": [
      "100%|████████████████████████████████████████████████████████████████████████████████████| 1/1 [00:05<00:00,  5.95s/it]\n"
     ]
    },
    {
     "name": "stdout",
     "output_type": "stream",
     "text": [
      "Converted to PDF: HW_School_Application\\Xuanzhen Zhu_New_York_University_economics.pdf\n",
      "Generated: HW_School_Application\\Xuanzhen Zhu_New_York_University_information_management.docx\n"
     ]
    },
    {
     "name": "stderr",
     "output_type": "stream",
     "text": [
      "100%|████████████████████████████████████████████████████████████████████████████████████| 1/1 [00:04<00:00,  4.92s/it]"
     ]
    },
    {
     "name": "stdout",
     "output_type": "stream",
     "text": [
      "Error converting to PDF for HW_School_Application\\Xuanzhen Zhu_New_York_University_information_management.docx: Word.Application.Quit\n",
      "Generated: HW_School_Application\\Xuanzhen Zhu_New_York_University_finance.docx\n"
     ]
    },
    {
     "name": "stderr",
     "output_type": "stream",
     "text": [
      "\n",
      "100%|████████████████████████████████████████████████████████████████████████████████████| 1/1 [00:06<00:00,  6.19s/it]\n"
     ]
    },
    {
     "name": "stdout",
     "output_type": "stream",
     "text": [
      "Converted to PDF: HW_School_Application\\Xuanzhen Zhu_New_York_University_finance.pdf\n",
      "Generated: HW_School_Application\\Xuanzhen Zhu_University_of_Cambridge_economics.docx\n"
     ]
    },
    {
     "name": "stderr",
     "output_type": "stream",
     "text": [
      "100%|████████████████████████████████████████████████████████████████████████████████████| 1/1 [00:04<00:00,  5.00s/it]"
     ]
    },
    {
     "name": "stdout",
     "output_type": "stream",
     "text": [
      "Error converting to PDF for HW_School_Application\\Xuanzhen Zhu_University_of_Cambridge_economics.docx: (-2147023170, '远程过程调用失败。', None, None)\n",
      "Generated: HW_School_Application\\Xuanzhen Zhu_University_of_Cambridge_information_management.docx\n"
     ]
    },
    {
     "name": "stderr",
     "output_type": "stream",
     "text": [
      "\n",
      "100%|████████████████████████████████████████████████████████████████████████████████████| 1/1 [00:06<00:00,  6.28s/it]\n"
     ]
    },
    {
     "name": "stdout",
     "output_type": "stream",
     "text": [
      "Converted to PDF: HW_School_Application\\Xuanzhen Zhu_University_of_Cambridge_information_management.pdf\n",
      "Generated: HW_School_Application\\Xuanzhen Zhu_University_of_Cambridge_finance.docx\n"
     ]
    },
    {
     "name": "stderr",
     "output_type": "stream",
     "text": [
      "100%|████████████████████████████████████████████████████████████████████████████████████| 1/1 [00:05<00:00,  5.05s/it]\n"
     ]
    },
    {
     "name": "stdout",
     "output_type": "stream",
     "text": [
      "Converted to PDF: HW_School_Application\\Xuanzhen Zhu_University_of_Cambridge_finance.pdf\n",
      "Generated: HW_School_Application\\Xuanzhen Zhu_University_of_Toronto_economics.docx\n"
     ]
    },
    {
     "name": "stderr",
     "output_type": "stream",
     "text": [
      "100%|████████████████████████████████████████████████████████████████████████████████████| 1/1 [00:06<00:00,  6.57s/it]\n"
     ]
    },
    {
     "name": "stdout",
     "output_type": "stream",
     "text": [
      "Converted to PDF: HW_School_Application\\Xuanzhen Zhu_University_of_Toronto_economics.pdf\n",
      "Generated: HW_School_Application\\Xuanzhen Zhu_University_of_Toronto_information_management.docx\n"
     ]
    },
    {
     "name": "stderr",
     "output_type": "stream",
     "text": [
      "100%|████████████████████████████████████████████████████████████████████████████████████| 1/1 [00:05<00:00,  5.20s/it]\n"
     ]
    },
    {
     "name": "stdout",
     "output_type": "stream",
     "text": [
      "Converted to PDF: HW_School_Application\\Xuanzhen Zhu_University_of_Toronto_information_management.pdf\n",
      "Generated: HW_School_Application\\Xuanzhen Zhu_University_of_Toronto_finance.docx\n"
     ]
    },
    {
     "name": "stderr",
     "output_type": "stream",
     "text": [
      "100%|████████████████████████████████████████████████████████████████████████████████████| 1/1 [00:06<00:00,  6.06s/it]\n"
     ]
    },
    {
     "name": "stdout",
     "output_type": "stream",
     "text": [
      "Converted to PDF: HW_School_Application\\Xuanzhen Zhu_University_of_Toronto_finance.pdf\n",
      "Generated: HW_School_Application\\Xuanzhen Zhu_Cornell_University_economics.docx\n"
     ]
    },
    {
     "name": "stderr",
     "output_type": "stream",
     "text": [
      "  0%|                                                                                            | 0/1 [00:04<?, ?it/s]"
     ]
    },
    {
     "name": "stdout",
     "output_type": "stream",
     "text": [
      "Error converting to PDF for HW_School_Application\\Xuanzhen Zhu_Cornell_University_economics.docx: Open.Close\n",
      "Generated: HW_School_Application\\Xuanzhen Zhu_Cornell_University_information_management.docx\n"
     ]
    },
    {
     "name": "stderr",
     "output_type": "stream",
     "text": [
      "\n",
      "100%|████████████████████████████████████████████████████████████████████████████████████| 1/1 [00:05<00:00,  5.30s/it]\n"
     ]
    },
    {
     "name": "stdout",
     "output_type": "stream",
     "text": [
      "Converted to PDF: HW_School_Application\\Xuanzhen Zhu_Cornell_University_information_management.pdf\n",
      "Generated: HW_School_Application\\Xuanzhen Zhu_Cornell_University_finance.docx\n"
     ]
    },
    {
     "name": "stderr",
     "output_type": "stream",
     "text": [
      "  0%|                                                                                            | 0/1 [00:04<?, ?it/s]"
     ]
    },
    {
     "name": "stdout",
     "output_type": "stream",
     "text": [
      "Error converting to PDF for HW_School_Application\\Xuanzhen Zhu_Cornell_University_finance.docx: (-2147417848, '被调用的对象已与其客户端断开连接。', None, None)\n",
      "Generated: HW_School_Application\\Xuanzhen Zhu_University_of_California-Davis_economics.docx\n"
     ]
    },
    {
     "name": "stderr",
     "output_type": "stream",
     "text": [
      "\n",
      "100%|████████████████████████████████████████████████████████████████████████████████████| 1/1 [00:04<00:00,  4.90s/it]\n"
     ]
    },
    {
     "name": "stdout",
     "output_type": "stream",
     "text": [
      "Converted to PDF: HW_School_Application\\Xuanzhen Zhu_University_of_California-Davis_economics.pdf\n",
      "Generated: HW_School_Application\\Xuanzhen Zhu_University_of_California-Davis_information_management.docx\n"
     ]
    },
    {
     "name": "stderr",
     "output_type": "stream",
     "text": [
      "100%|████████████████████████████████████████████████████████████████████████████████████| 1/1 [00:04<00:00,  4.37s/it]"
     ]
    },
    {
     "name": "stdout",
     "output_type": "stream",
     "text": [
      "Error converting to PDF for HW_School_Application\\Xuanzhen Zhu_University_of_California-Davis_information_management.docx: (-2147023170, '远程过程调用失败。', None, None)\n",
      "Generated: HW_School_Application\\Xuanzhen Zhu_University_of_California-Davis_finance.docx\n"
     ]
    },
    {
     "name": "stderr",
     "output_type": "stream",
     "text": [
      "\n",
      "100%|████████████████████████████████████████████████████████████████████████████████████| 1/1 [00:05<00:00,  5.21s/it]\n"
     ]
    },
    {
     "name": "stdout",
     "output_type": "stream",
     "text": [
      "Converted to PDF: HW_School_Application\\Xuanzhen Zhu_University_of_California-Davis_finance.pdf\n",
      "Generated: HW_School_Application\\Xuanzhen Zhu_University_of_Nottingham_economics.docx\n"
     ]
    },
    {
     "name": "stderr",
     "output_type": "stream",
     "text": [
      "100%|████████████████████████████████████████████████████████████████████████████████████| 1/1 [00:01<00:00,  1.85s/it]\n"
     ]
    },
    {
     "name": "stdout",
     "output_type": "stream",
     "text": [
      "Converted to PDF: HW_School_Application\\Xuanzhen Zhu_University_of_Nottingham_economics.pdf\n",
      "Generated: HW_School_Application\\Xuanzhen Zhu_University_of_Nottingham_information_management.docx\n"
     ]
    },
    {
     "name": "stderr",
     "output_type": "stream",
     "text": [
      "100%|████████████████████████████████████████████████████████████████████████████████████| 1/1 [00:05<00:00,  5.04s/it]\n"
     ]
    },
    {
     "name": "stdout",
     "output_type": "stream",
     "text": [
      "Converted to PDF: HW_School_Application\\Xuanzhen Zhu_University_of_Nottingham_information_management.pdf\n",
      "Generated: HW_School_Application\\Xuanzhen Zhu_University_of_Nottingham_finance.docx\n"
     ]
    },
    {
     "name": "stderr",
     "output_type": "stream",
     "text": [
      "  0%|                                                                                            | 0/1 [00:04<?, ?it/s]"
     ]
    },
    {
     "name": "stdout",
     "output_type": "stream",
     "text": [
      "Error converting to PDF for HW_School_Application\\Xuanzhen Zhu_University_of_Nottingham_finance.docx: Open.Close\n",
      "Generated: HW_School_Application\\Xuanzhen Zhu_Monash_University_economics.docx\n"
     ]
    },
    {
     "name": "stderr",
     "output_type": "stream",
     "text": [
      "\n",
      "100%|████████████████████████████████████████████████████████████████████████████████████| 1/1 [00:05<00:00,  5.49s/it]\n"
     ]
    },
    {
     "name": "stdout",
     "output_type": "stream",
     "text": [
      "Converted to PDF: HW_School_Application\\Xuanzhen Zhu_Monash_University_economics.pdf\n",
      "Generated: HW_School_Application\\Xuanzhen Zhu_Monash_University_information_management.docx\n"
     ]
    },
    {
     "name": "stderr",
     "output_type": "stream",
     "text": [
      "100%|████████████████████████████████████████████████████████████████████████████████████| 1/1 [00:01<00:00,  1.98s/it]\n"
     ]
    },
    {
     "name": "stdout",
     "output_type": "stream",
     "text": [
      "Converted to PDF: HW_School_Application\\Xuanzhen Zhu_Monash_University_information_management.pdf\n",
      "Generated: HW_School_Application\\Xuanzhen Zhu_Monash_University_finance.docx\n"
     ]
    },
    {
     "name": "stderr",
     "output_type": "stream",
     "text": [
      "100%|████████████████████████████████████████████████████████████████████████████████████| 1/1 [00:05<00:00,  5.96s/it]\n"
     ]
    },
    {
     "name": "stdout",
     "output_type": "stream",
     "text": [
      "Converted to PDF: HW_School_Application\\Xuanzhen Zhu_Monash_University_finance.pdf\n",
      "Generated: HW_School_Application\\Xuanzhen Zhu_University_of_Maryland_economics.docx\n"
     ]
    },
    {
     "name": "stderr",
     "output_type": "stream",
     "text": [
      "100%|████████████████████████████████████████████████████████████████████████████████████| 1/1 [00:01<00:00,  1.91s/it]\n"
     ]
    },
    {
     "name": "stdout",
     "output_type": "stream",
     "text": [
      "Converted to PDF: HW_School_Application\\Xuanzhen Zhu_University_of_Maryland_economics.pdf\n",
      "Generated: HW_School_Application\\Xuanzhen Zhu_University_of_Maryland_information_management.docx\n"
     ]
    },
    {
     "name": "stderr",
     "output_type": "stream",
     "text": [
      "100%|████████████████████████████████████████████████████████████████████████████████████| 1/1 [00:05<00:00,  5.34s/it]\n"
     ]
    },
    {
     "name": "stdout",
     "output_type": "stream",
     "text": [
      "Converted to PDF: HW_School_Application\\Xuanzhen Zhu_University_of_Maryland_information_management.pdf\n",
      "Generated: HW_School_Application\\Xuanzhen Zhu_University_of_Maryland_finance.docx\n"
     ]
    },
    {
     "name": "stderr",
     "output_type": "stream",
     "text": [
      "100%|████████████████████████████████████████████████████████████████████████████████████| 1/1 [00:01<00:00,  1.85s/it]\n"
     ]
    },
    {
     "name": "stdout",
     "output_type": "stream",
     "text": [
      "Converted to PDF: HW_School_Application\\Xuanzhen Zhu_University_of_Maryland_finance.pdf\n",
      "Generated: HW_School_Application\\Xuanzhen Zhu_Vanderbilt_University_economics.docx\n"
     ]
    },
    {
     "name": "stderr",
     "output_type": "stream",
     "text": [
      "100%|████████████████████████████████████████████████████████████████████████████████████| 1/1 [00:05<00:00,  5.41s/it]\n"
     ]
    },
    {
     "name": "stdout",
     "output_type": "stream",
     "text": [
      "Converted to PDF: HW_School_Application\\Xuanzhen Zhu_Vanderbilt_University_economics.pdf\n",
      "Generated: HW_School_Application\\Xuanzhen Zhu_Vanderbilt_University_information_management.docx\n"
     ]
    },
    {
     "name": "stderr",
     "output_type": "stream",
     "text": [
      "100%|████████████████████████████████████████████████████████████████████████████████████| 1/1 [00:04<00:00,  4.14s/it]"
     ]
    },
    {
     "name": "stdout",
     "output_type": "stream",
     "text": [
      "Error converting to PDF for HW_School_Application\\Xuanzhen Zhu_Vanderbilt_University_information_management.docx: (-2147023170, '远程过程调用失败。', None, None)\n",
      "Generated: HW_School_Application\\Xuanzhen Zhu_Vanderbilt_University_finance.docx\n"
     ]
    },
    {
     "name": "stderr",
     "output_type": "stream",
     "text": [
      "\n",
      "100%|████████████████████████████████████████████████████████████████████████████████████| 1/1 [00:05<00:00,  5.59s/it]\n"
     ]
    },
    {
     "name": "stdout",
     "output_type": "stream",
     "text": [
      "Converted to PDF: HW_School_Application\\Xuanzhen Zhu_Vanderbilt_University_finance.pdf\n",
      "Generated: HW_School_Application\\Xuanzhen Zhu_University_of_Notre_Dame_economics.docx\n"
     ]
    },
    {
     "name": "stderr",
     "output_type": "stream",
     "text": [
      "100%|████████████████████████████████████████████████████████████████████████████████████| 1/1 [00:04<00:00,  4.23s/it]"
     ]
    },
    {
     "name": "stdout",
     "output_type": "stream",
     "text": [
      "Error converting to PDF for HW_School_Application\\Xuanzhen Zhu_University_of_Notre_Dame_economics.docx: Word.Application.Quit\n",
      "Generated: HW_School_Application\\Xuanzhen Zhu_University_of_Notre_Dame_information_management.docx\n"
     ]
    },
    {
     "name": "stderr",
     "output_type": "stream",
     "text": [
      "\n",
      "100%|████████████████████████████████████████████████████████████████████████████████████| 1/1 [00:05<00:00,  5.32s/it]\n"
     ]
    },
    {
     "name": "stdout",
     "output_type": "stream",
     "text": [
      "Converted to PDF: HW_School_Application\\Xuanzhen Zhu_University_of_Notre_Dame_information_management.pdf\n",
      "Generated: HW_School_Application\\Xuanzhen Zhu_University_of_Notre_Dame_finance.docx\n"
     ]
    },
    {
     "name": "stderr",
     "output_type": "stream",
     "text": [
      "100%|████████████████████████████████████████████████████████████████████████████████████| 1/1 [00:04<00:00,  4.37s/it]"
     ]
    },
    {
     "name": "stdout",
     "output_type": "stream",
     "text": [
      "Error converting to PDF for HW_School_Application\\Xuanzhen Zhu_University_of_Notre_Dame_finance.docx: Word.Application.Quit\n",
      "Generated: HW_School_Application\\Xuanzhen Zhu_University_of_York_economics.docx\n"
     ]
    },
    {
     "name": "stderr",
     "output_type": "stream",
     "text": [
      "\n",
      "100%|████████████████████████████████████████████████████████████████████████████████████| 1/1 [00:06<00:00,  6.55s/it]\n"
     ]
    },
    {
     "name": "stdout",
     "output_type": "stream",
     "text": [
      "Converted to PDF: HW_School_Application\\Xuanzhen Zhu_University_of_York_economics.pdf\n",
      "Generated: HW_School_Application\\Xuanzhen Zhu_University_of_York_information_management.docx\n"
     ]
    },
    {
     "name": "stderr",
     "output_type": "stream",
     "text": [
      "  0%|                                                                                            | 0/1 [00:01<?, ?it/s]"
     ]
    },
    {
     "name": "stdout",
     "output_type": "stream",
     "text": [
      "Error converting to PDF for HW_School_Application\\Xuanzhen Zhu_University_of_York_information_management.docx: (-2147417848, '被调用的对象已与其客户端断开连接。', None, None)\n",
      "Generated: HW_School_Application\\Xuanzhen Zhu_University_of_York_finance.docx\n"
     ]
    },
    {
     "name": "stderr",
     "output_type": "stream",
     "text": [
      "\n",
      "100%|████████████████████████████████████████████████████████████████████████████████████| 1/1 [00:05<00:00,  5.49s/it]\n"
     ]
    },
    {
     "name": "stdout",
     "output_type": "stream",
     "text": [
      "Converted to PDF: HW_School_Application\\Xuanzhen Zhu_University_of_York_finance.pdf\n",
      "Generated: HW_School_Application\\Xuanzhen Zhu_Queen's_University_economics.docx\n"
     ]
    },
    {
     "name": "stderr",
     "output_type": "stream",
     "text": [
      "  0%|                                                                                            | 0/1 [00:04<?, ?it/s]"
     ]
    },
    {
     "name": "stdout",
     "output_type": "stream",
     "text": [
      "Error converting to PDF for HW_School_Application\\Xuanzhen Zhu_Queen's_University_economics.docx: (-2147417848, '被调用的对象已与其客户端断开连接。', None, None)\n",
      "Generated: HW_School_Application\\Xuanzhen Zhu_Queen's_University_information_management.docx\n"
     ]
    },
    {
     "name": "stderr",
     "output_type": "stream",
     "text": [
      "\n",
      "100%|████████████████████████████████████████████████████████████████████████████████████| 1/1 [00:05<00:00,  5.43s/it]\n"
     ]
    },
    {
     "name": "stdout",
     "output_type": "stream",
     "text": [
      "Converted to PDF: HW_School_Application\\Xuanzhen Zhu_Queen's_University_information_management.pdf\n",
      "Generated: HW_School_Application\\Xuanzhen Zhu_Queen's_University_finance.docx\n"
     ]
    },
    {
     "name": "stderr",
     "output_type": "stream",
     "text": [
      "  0%|                                                                                            | 0/1 [00:04<?, ?it/s]"
     ]
    },
    {
     "name": "stdout",
     "output_type": "stream",
     "text": [
      "Error converting to PDF for HW_School_Application\\Xuanzhen Zhu_Queen's_University_finance.docx: Open.Close\n",
      "Generated: HW_School_Application\\Xuanzhen Zhu_Australian_National_University_economics.docx\n"
     ]
    },
    {
     "name": "stderr",
     "output_type": "stream",
     "text": [
      "\n",
      "100%|████████████████████████████████████████████████████████████████████████████████████| 1/1 [00:06<00:00,  6.70s/it]\n"
     ]
    },
    {
     "name": "stdout",
     "output_type": "stream",
     "text": [
      "Converted to PDF: HW_School_Application\\Xuanzhen Zhu_Australian_National_University_economics.pdf\n",
      "Generated: HW_School_Application\\Xuanzhen Zhu_Australian_National_University_information_management.docx\n"
     ]
    },
    {
     "name": "stderr",
     "output_type": "stream",
     "text": [
      "100%|████████████████████████████████████████████████████████████████████████████████████| 1/1 [00:04<00:00,  4.36s/it]"
     ]
    },
    {
     "name": "stdout",
     "output_type": "stream",
     "text": [
      "Error converting to PDF for HW_School_Application\\Xuanzhen Zhu_Australian_National_University_information_management.docx: (-2147023170, '远程过程调用失败。', None, None)\n",
      "Generated: HW_School_Application\\Xuanzhen Zhu_Australian_National_University_finance.docx\n"
     ]
    },
    {
     "name": "stderr",
     "output_type": "stream",
     "text": [
      "\n",
      "100%|████████████████████████████████████████████████████████████████████████████████████| 1/1 [00:05<00:00,  5.03s/it]\n"
     ]
    },
    {
     "name": "stdout",
     "output_type": "stream",
     "text": [
      "Converted to PDF: HW_School_Application\\Xuanzhen Zhu_Australian_National_University_finance.pdf\n",
      "Generated: HW_School_Application\\Xuanzhen Zhu_Georgetown_University_economics.docx\n"
     ]
    },
    {
     "name": "stderr",
     "output_type": "stream",
     "text": [
      "100%|████████████████████████████████████████████████████████████████████████████████████| 1/1 [00:04<00:00,  4.33s/it]"
     ]
    },
    {
     "name": "stdout",
     "output_type": "stream",
     "text": [
      "Error converting to PDF for HW_School_Application\\Xuanzhen Zhu_Georgetown_University_economics.docx: Word.Application.Quit\n",
      "Generated: HW_School_Application\\Xuanzhen Zhu_Georgetown_University_information_management.docx\n"
     ]
    },
    {
     "name": "stderr",
     "output_type": "stream",
     "text": [
      "\n",
      "100%|████████████████████████████████████████████████████████████████████████████████████| 1/1 [00:05<00:00,  5.13s/it]\n"
     ]
    },
    {
     "name": "stdout",
     "output_type": "stream",
     "text": [
      "Converted to PDF: HW_School_Application\\Xuanzhen Zhu_Georgetown_University_information_management.pdf\n",
      "Generated: HW_School_Application\\Xuanzhen Zhu_Georgetown_University_finance.docx\n"
     ]
    },
    {
     "name": "stderr",
     "output_type": "stream",
     "text": [
      "100%|████████████████████████████████████████████████████████████████████████████████████| 1/1 [00:04<00:00,  4.27s/it]"
     ]
    },
    {
     "name": "stdout",
     "output_type": "stream",
     "text": [
      "Error converting to PDF for HW_School_Application\\Xuanzhen Zhu_Georgetown_University_finance.docx: Word.Application.Quit\n",
      "Generated: HW_School_Application\\Xuanzhen Zhu_New_York_University_economics.docx\n"
     ]
    },
    {
     "name": "stderr",
     "output_type": "stream",
     "text": [
      "\n",
      "100%|████████████████████████████████████████████████████████████████████████████████████| 1/1 [00:05<00:00,  5.11s/it]\n"
     ]
    },
    {
     "name": "stdout",
     "output_type": "stream",
     "text": [
      "Converted to PDF: HW_School_Application\\Xuanzhen Zhu_New_York_University_economics.pdf\n",
      "Generated: HW_School_Application\\Xuanzhen Zhu_New_York_University_information_management.docx\n"
     ]
    },
    {
     "name": "stderr",
     "output_type": "stream",
     "text": [
      "100%|████████████████████████████████████████████████████████████████████████████████████| 1/1 [00:01<00:00,  1.92s/it]\n"
     ]
    },
    {
     "name": "stdout",
     "output_type": "stream",
     "text": [
      "Converted to PDF: HW_School_Application\\Xuanzhen Zhu_New_York_University_information_management.pdf\n",
      "Generated: HW_School_Application\\Xuanzhen Zhu_New_York_University_finance.docx\n"
     ]
    },
    {
     "name": "stderr",
     "output_type": "stream",
     "text": [
      "100%|████████████████████████████████████████████████████████████████████████████████████| 1/1 [00:05<00:00,  5.62s/it]\n"
     ]
    },
    {
     "name": "stdout",
     "output_type": "stream",
     "text": [
      "Converted to PDF: HW_School_Application\\Xuanzhen Zhu_New_York_University_finance.pdf\n",
      "Generated: HW_School_Application\\Xuanzhen Zhu_University_of_Colorado_economics.docx\n"
     ]
    },
    {
     "name": "stderr",
     "output_type": "stream",
     "text": [
      "100%|████████████████████████████████████████████████████████████████████████████████████| 1/1 [00:04<00:00,  4.29s/it]"
     ]
    },
    {
     "name": "stdout",
     "output_type": "stream",
     "text": [
      "Error converting to PDF for HW_School_Application\\Xuanzhen Zhu_University_of_Colorado_economics.docx: Word.Application.Quit\n",
      "Generated: HW_School_Application\\Xuanzhen Zhu_University_of_Colorado_information_management.docx\n"
     ]
    },
    {
     "name": "stderr",
     "output_type": "stream",
     "text": [
      "\n",
      "100%|████████████████████████████████████████████████████████████████████████████████████| 1/1 [00:05<00:00,  5.75s/it]\n"
     ]
    },
    {
     "name": "stdout",
     "output_type": "stream",
     "text": [
      "Converted to PDF: HW_School_Application\\Xuanzhen Zhu_University_of_Colorado_information_management.pdf\n",
      "Generated: HW_School_Application\\Xuanzhen Zhu_University_of_Colorado_finance.docx\n"
     ]
    },
    {
     "name": "stderr",
     "output_type": "stream",
     "text": [
      "100%|████████████████████████████████████████████████████████████████████████████████████| 1/1 [00:04<00:00,  4.40s/it]"
     ]
    },
    {
     "name": "stdout",
     "output_type": "stream",
     "text": [
      "Error converting to PDF for HW_School_Application\\Xuanzhen Zhu_University_of_Colorado_finance.docx: Word.Application.Quit\n",
      "Generated: HW_School_Application\\Xuanzhen Zhu_Ohio_State_University_economics.docx\n"
     ]
    },
    {
     "name": "stderr",
     "output_type": "stream",
     "text": [
      "\n",
      "100%|████████████████████████████████████████████████████████████████████████████████████| 1/1 [00:05<00:00,  5.78s/it]\n"
     ]
    },
    {
     "name": "stdout",
     "output_type": "stream",
     "text": [
      "Converted to PDF: HW_School_Application\\Xuanzhen Zhu_Ohio_State_University_economics.pdf\n",
      "Generated: HW_School_Application\\Xuanzhen Zhu_Ohio_State_University_information_management.docx\n"
     ]
    },
    {
     "name": "stderr",
     "output_type": "stream",
     "text": [
      "100%|████████████████████████████████████████████████████████████████████████████████████| 1/1 [00:04<00:00,  4.23s/it]"
     ]
    },
    {
     "name": "stdout",
     "output_type": "stream",
     "text": [
      "Error converting to PDF for HW_School_Application\\Xuanzhen Zhu_Ohio_State_University_information_management.docx: (-2147023170, '远程过程调用失败。', None, None)\n",
      "Generated: HW_School_Application\\Xuanzhen Zhu_Ohio_State_University_finance.docx\n"
     ]
    },
    {
     "name": "stderr",
     "output_type": "stream",
     "text": [
      "\n",
      "100%|████████████████████████████████████████████████████████████████████████████████████| 1/1 [00:05<00:00,  5.08s/it]\n"
     ]
    },
    {
     "name": "stdout",
     "output_type": "stream",
     "text": [
      "Converted to PDF: HW_School_Application\\Xuanzhen Zhu_Ohio_State_University_finance.pdf\n",
      "Generated: HW_School_Application\\Xuanzhen Zhu_University_of_California-Santa_Cruz_economics.docx\n"
     ]
    },
    {
     "name": "stderr",
     "output_type": "stream",
     "text": [
      "100%|████████████████████████████████████████████████████████████████████████████████████| 1/1 [00:04<00:00,  4.31s/it]"
     ]
    },
    {
     "name": "stdout",
     "output_type": "stream",
     "text": [
      "Error converting to PDF for HW_School_Application\\Xuanzhen Zhu_University_of_California-Santa_Cruz_economics.docx: (-2147023170, '远程过程调用失败。', None, None)\n",
      "Generated: HW_School_Application\\Xuanzhen Zhu_University_of_California-Santa_Cruz_information_management.docx\n"
     ]
    },
    {
     "name": "stderr",
     "output_type": "stream",
     "text": [
      "\n",
      "100%|████████████████████████████████████████████████████████████████████████████████████| 1/1 [00:04<00:00,  4.28s/it]\n"
     ]
    },
    {
     "name": "stdout",
     "output_type": "stream",
     "text": [
      "Converted to PDF: HW_School_Application\\Xuanzhen Zhu_University_of_California-Santa_Cruz_information_management.pdf\n",
      "Generated: HW_School_Application\\Xuanzhen Zhu_University_of_California-Santa_Cruz_finance.docx\n"
     ]
    },
    {
     "name": "stderr",
     "output_type": "stream",
     "text": [
      "  0%|                                                                                            | 0/1 [00:04<?, ?it/s]"
     ]
    },
    {
     "name": "stdout",
     "output_type": "stream",
     "text": [
      "Error converting to PDF for HW_School_Application\\Xuanzhen Zhu_University_of_California-Santa_Cruz_finance.docx: Open.Close\n",
      "Generated: HW_School_Application\\Xuanzhen Zhu_Universitat_de_Barcelona_economics.docx\n"
     ]
    },
    {
     "name": "stderr",
     "output_type": "stream",
     "text": [
      "\n",
      "100%|████████████████████████████████████████████████████████████████████████████████████| 1/1 [00:05<00:00,  5.44s/it]\n"
     ]
    },
    {
     "name": "stdout",
     "output_type": "stream",
     "text": [
      "Converted to PDF: HW_School_Application\\Xuanzhen Zhu_Universitat_de_Barcelona_economics.pdf\n",
      "Generated: HW_School_Application\\Xuanzhen Zhu_Universitat_de_Barcelona_information_management.docx\n"
     ]
    },
    {
     "name": "stderr",
     "output_type": "stream",
     "text": [
      "  0%|                                                                                            | 0/1 [00:04<?, ?it/s]"
     ]
    },
    {
     "name": "stdout",
     "output_type": "stream",
     "text": [
      "Error converting to PDF for HW_School_Application\\Xuanzhen Zhu_Universitat_de_Barcelona_information_management.docx: (-2147417848, '被调用的对象已与其客户端断开连接。', None, None)\n",
      "Generated: HW_School_Application\\Xuanzhen Zhu_Universitat_de_Barcelona_finance.docx\n"
     ]
    },
    {
     "name": "stderr",
     "output_type": "stream",
     "text": [
      "\n",
      "100%|████████████████████████████████████████████████████████████████████████████████████| 1/1 [00:05<00:00,  5.78s/it]\n"
     ]
    },
    {
     "name": "stdout",
     "output_type": "stream",
     "text": [
      "Converted to PDF: HW_School_Application\\Xuanzhen Zhu_Universitat_de_Barcelona_finance.pdf\n",
      "Generated: HW_School_Application\\Xuanzhen Zhu_Purdue_University_economics.docx\n"
     ]
    },
    {
     "name": "stderr",
     "output_type": "stream",
     "text": [
      "100%|████████████████████████████████████████████████████████████████████████████████████| 1/1 [00:04<00:00,  4.27s/it]"
     ]
    },
    {
     "name": "stdout",
     "output_type": "stream",
     "text": [
      "Error converting to PDF for HW_School_Application\\Xuanzhen Zhu_Purdue_University_economics.docx: Word.Application.Quit\n",
      "Generated: HW_School_Application\\Xuanzhen Zhu_Purdue_University_information_management.docx\n"
     ]
    },
    {
     "name": "stderr",
     "output_type": "stream",
     "text": [
      "\n",
      "100%|████████████████████████████████████████████████████████████████████████████████████| 1/1 [00:05<00:00,  5.53s/it]\n"
     ]
    },
    {
     "name": "stdout",
     "output_type": "stream",
     "text": [
      "Converted to PDF: HW_School_Application\\Xuanzhen Zhu_Purdue_University_information_management.pdf\n",
      "Generated: HW_School_Application\\Xuanzhen Zhu_Purdue_University_finance.docx\n"
     ]
    },
    {
     "name": "stderr",
     "output_type": "stream",
     "text": [
      "100%|████████████████████████████████████████████████████████████████████████████████████| 1/1 [00:04<00:00,  4.30s/it]\n"
     ]
    },
    {
     "name": "stdout",
     "output_type": "stream",
     "text": [
      "Converted to PDF: HW_School_Application\\Xuanzhen Zhu_Purdue_University_finance.pdf\n",
      "Generated: HW_School_Application\\Xuanzhen Zhu_University_of_Sydney_economics.docx\n"
     ]
    },
    {
     "name": "stderr",
     "output_type": "stream",
     "text": [
      "100%|████████████████████████████████████████████████████████████████████████████████████| 1/1 [00:05<00:00,  5.19s/it]\n"
     ]
    },
    {
     "name": "stdout",
     "output_type": "stream",
     "text": [
      "Converted to PDF: HW_School_Application\\Xuanzhen Zhu_University_of_Sydney_economics.pdf\n",
      "Generated: HW_School_Application\\Xuanzhen Zhu_University_of_Sydney_information_management.docx\n"
     ]
    },
    {
     "name": "stderr",
     "output_type": "stream",
     "text": [
      "  0%|                                                                                            | 0/1 [00:04<?, ?it/s]"
     ]
    },
    {
     "name": "stdout",
     "output_type": "stream",
     "text": [
      "Error converting to PDF for HW_School_Application\\Xuanzhen Zhu_University_of_Sydney_information_management.docx: Open.Close\n",
      "Generated: HW_School_Application\\Xuanzhen Zhu_University_of_Sydney_finance.docx\n"
     ]
    },
    {
     "name": "stderr",
     "output_type": "stream",
     "text": [
      "\n",
      "100%|████████████████████████████████████████████████████████████████████████████████████| 1/1 [00:05<00:00,  5.64s/it]\n"
     ]
    },
    {
     "name": "stdout",
     "output_type": "stream",
     "text": [
      "Converted to PDF: HW_School_Application\\Xuanzhen Zhu_University_of_Sydney_finance.pdf\n",
      "Generated: HW_School_Application\\Xuanzhen Zhu_George_Washington_University_economics.docx\n"
     ]
    },
    {
     "name": "stderr",
     "output_type": "stream",
     "text": [
      "100%|████████████████████████████████████████████████████████████████████████████████████| 1/1 [00:04<00:00,  4.50s/it]"
     ]
    },
    {
     "name": "stdout",
     "output_type": "stream",
     "text": [
      "Error converting to PDF for HW_School_Application\\Xuanzhen Zhu_George_Washington_University_economics.docx: Word.Application.Quit\n",
      "Generated: HW_School_Application\\Xuanzhen Zhu_George_Washington_University_information_management.docx\n"
     ]
    },
    {
     "name": "stderr",
     "output_type": "stream",
     "text": [
      "\n",
      "100%|████████████████████████████████████████████████████████████████████████████████████| 1/1 [00:05<00:00,  5.58s/it]\n"
     ]
    },
    {
     "name": "stdout",
     "output_type": "stream",
     "text": [
      "Converted to PDF: HW_School_Application\\Xuanzhen Zhu_George_Washington_University_information_management.pdf\n",
      "Generated: HW_School_Application\\Xuanzhen Zhu_George_Washington_University_finance.docx\n"
     ]
    },
    {
     "name": "stderr",
     "output_type": "stream",
     "text": [
      "100%|████████████████████████████████████████████████████████████████████████████████████| 1/1 [00:04<00:00,  4.38s/it]"
     ]
    },
    {
     "name": "stdout",
     "output_type": "stream",
     "text": [
      "Error converting to PDF for HW_School_Application\\Xuanzhen Zhu_George_Washington_University_finance.docx: Word.Application.Quit\n",
      "\n",
      "Successfully generated 90 Statement of Purpose documents.\n",
      "\n",
      "Warning: Expected 90 documents, but found 87.\n"
     ]
    },
    {
     "name": "stderr",
     "output_type": "stream",
     "text": [
      "\n"
     ]
    },
    {
     "ename": "NameError",
     "evalue": "name '__file__' is not defined",
     "output_type": "error",
     "traceback": [
      "\u001b[1;31m---------------------------------------------------------------------------\u001b[0m",
      "\u001b[1;31mNameError\u001b[0m                                 Traceback (most recent call last)",
      "Cell \u001b[1;32mIn[18], line 13\u001b[0m\n\u001b[0;32m     10\u001b[0m     \u001b[38;5;28mprint\u001b[39m(\u001b[38;5;124mf\u001b[39m\u001b[38;5;124m\"\u001b[39m\u001b[38;5;130;01m\\n\u001b[39;00m\u001b[38;5;124mWarning: Expected 90 documents, but found \u001b[39m\u001b[38;5;132;01m{\u001b[39;00m\u001b[38;5;28mlen\u001b[39m(generated_files)\u001b[38;5;132;01m}\u001b[39;00m\u001b[38;5;124m.\u001b[39m\u001b[38;5;124m\"\u001b[39m)\n\u001b[0;32m     12\u001b[0m \u001b[38;5;66;03m# 步骤10：将生成的文件夹上传到GitHub\u001b[39;00m\n\u001b[1;32m---> 13\u001b[0m \u001b[38;5;28mprint\u001b[39m(\u001b[38;5;124mf\u001b[39m\u001b[38;5;124m\"\u001b[39m\u001b[38;5;130;01m\\n\u001b[39;00m\u001b[38;5;124m请将 \u001b[39m\u001b[38;5;124m'\u001b[39m\u001b[38;5;132;01m{\u001b[39;00moutput_directory\u001b[38;5;132;01m}\u001b[39;00m\u001b[38;5;124m'\u001b[39m\u001b[38;5;124m 文件夹中的所有文件，以及 \u001b[39m\u001b[38;5;124m'\u001b[39m\u001b[38;5;132;01m{\u001b[39;00mtemplate_file\u001b[38;5;132;01m}\u001b[39;00m\u001b[38;5;124m'\u001b[39m\u001b[38;5;124m, \u001b[39m\u001b[38;5;124m'\u001b[39m\u001b[38;5;132;01m{\u001b[39;00muniversity_excel\u001b[38;5;132;01m}\u001b[39;00m\u001b[38;5;124m'\u001b[39m\u001b[38;5;124m, \u001b[39m\u001b[38;5;124m'\u001b[39m\u001b[38;5;132;01m{\u001b[39;00mresearch_excel\u001b[38;5;132;01m}\u001b[39;00m\u001b[38;5;124m'\u001b[39m\u001b[38;5;124m, \u001b[39m\u001b[38;5;124m'\u001b[39m\u001b[38;5;132;01m{\u001b[39;00mskills_excel\u001b[38;5;132;01m}\u001b[39;00m\u001b[38;5;124m'\u001b[39m\u001b[38;5;124m, \u001b[39m\u001b[38;5;124m'\u001b[39m\u001b[38;5;132;01m{\u001b[39;00mos\u001b[38;5;241m.\u001b[39mpath\u001b[38;5;241m.\u001b[39mbasename(\u001b[38;5;18m__file__\u001b[39m)\u001b[38;5;132;01m}\u001b[39;00m\u001b[38;5;124m'\u001b[39m\u001b[38;5;124m 上传到你的GitHub仓库。\u001b[39m\u001b[38;5;124m\"\u001b[39m)\n",
      "\u001b[1;31mNameError\u001b[0m: name '__file__' is not defined"
     ]
    }
   ],
   "source": [
    "# 调用函数生成SOP\n",
    "generate_sop(template_file, output_directory, my_applicant_info, universities, research_info)\n",
    "\n",
    "# 检查生成的文档数量是否为90 (30大学 * 3研究领域 = 90)\n",
    "# 假设每次运行都是从头生成\n",
    "generated_files = [f for f in os.listdir(output_directory) if f.endswith('.docx')]\n",
    "if len(generated_files) == 90:\n",
    "    print(\"\\nVerification: Successfully generated 90 copies of statement of purpose!\")\n",
    "else:\n",
    "    print(f\"\\nWarning: Expected 90 documents, but found {len(generated_files)}.\")\n",
    "\n",
    "# 步骤10：将生成的文件夹上传到GitHub\n",
    "print(f\"\\n请将 '{output_directory}' 文件夹中的所有文件，以及 '{template_file}', '{university_excel}', '{research_excel}', '{skills_excel}', '{os.path.basename(__file__)}' 上传到你的GitHub仓库。\")\n"
   ]
  },
  {
   "cell_type": "code",
   "execution_count": null,
   "id": "c63cea21-28bd-4b4f-b86a-5212b246995f",
   "metadata": {},
   "outputs": [],
   "source": []
  }
 ],
 "metadata": {
  "kernelspec": {
   "display_name": "Python (MyNewEnv)",
   "language": "python",
   "name": "my_new_env"
  },
  "language_info": {
   "codemirror_mode": {
    "name": "ipython",
    "version": 3
   },
   "file_extension": ".py",
   "mimetype": "text/x-python",
   "name": "python",
   "nbconvert_exporter": "python",
   "pygments_lexer": "ipython3",
   "version": "3.9.23"
  }
 },
 "nbformat": 4,
 "nbformat_minor": 5
}
