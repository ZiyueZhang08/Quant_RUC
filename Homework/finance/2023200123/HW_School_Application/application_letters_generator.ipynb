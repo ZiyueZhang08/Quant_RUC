{
 "cells": [
  {
   "cell_type": "code",
   "execution_count": 3,
   "id": "c3258129-f1c6-4aee-bd53-e32fd0946bad",
   "metadata": {},
   "outputs": [
    {
     "name": "stderr",
     "output_type": "stream",
     "text": [
      "D:\\Download\\anaconda3\\envs\\my_new_env\\lib\\site-packages\\tqdm\\auto.py:21: TqdmWarning: IProgress not found. Please update jupyter and ipywidgets. See https://ipywidgets.readthedocs.io/en/stable/user_install.html\n",
      "  from .autonotebook import tqdm as notebook_tqdm\n"
     ]
    }
   ],
   "source": [
    "import pandas as pd\n",
    "from docxtpl import DocxTemplate\n",
    "import os\n",
    "from docx2pdf import convert"
   ]
  },
  {
   "cell_type": "code",
   "execution_count": 4,
   "id": "a4d923b9-3590-4365-ad4b-c117cc68c90f",
   "metadata": {},
   "outputs": [],
   "source": [
    "def generate_sop(template_path, output_dir, applicant_info, university_data, research_data):\n",
    "    \"\"\"\n",
    "    生成个性化的申请信（Statement of Purpose）。\n",
    "\n",
    "    Args:\n",
    "        template_path (str): Word模板文件的路径。\n",
    "        output_dir (str): 生成的文档保存的目录。\n",
    "        applicant_info (dict): 申请人的基本信息，例如 {\"applicant_name\": \"Lei Ge\", \"program_name\": \"Master of Finance\"}。\n",
    "        university_data (pd.DataFrame): 包含大学名称的DataFrame。\n",
    "        research_data (pd.DataFrame): 包含研究领域和期刊的DataFrame。\n",
    "        skills_data (pd.DataFrame): 包含技能的DataFrame。\n",
    "    \"\"\"\n",
    "    if not os.path.exists(output_dir):\n",
    "        os.makedirs(output_dir)\n",
    "\n",
    "    doc = DocxTemplate(template_path)\n",
    "\n",
    "    # 循环生成申请信\n",
    "    count = 0\n",
    "    for index_uni, row_uni in university_data.iterrows():\n",
    "        university_name = row_uni['University Name']\n",
    "\n",
    "        for index_res, row_res in research_data.iterrows():\n",
    "            research_area = row_res['Research Area']\n",
    "            journals = ', '.join([row_res['Journal 1'], row_res['Journal 2'], row_res['Journal 3']])\n",
    "            all_skills = ', '.join([row_res['Skill 1'], row_res['Skill 2'], row_res['Skill 3']])\n",
    "            # 构建上下文字典，用于替换模板中的占位符\n",
    "            context = {\n",
    "                'applicant_name': applicant_info['applicant_name'],\n",
    "                'program_name': applicant_info['program_name'],\n",
    "                'university_name': university_name,\n",
    "                'journals': journals,\n",
    "                'career_goal': 'quant researcher',\n",
    "                'skills': all_skills,\n",
    "                'research_area': research_area \n",
    "            }\n",
    "\n",
    "            # 渲染模板\n",
    "            doc.render(context)\n",
    "\n",
    "            # 保存为Word文档\n",
    "            output_filename_docx = os.path.join(output_dir, f\"{applicant_info['applicant_name']}_{university_name.replace(' ', '_')}_{research_area.replace(' ', '_')}.docx\")\n",
    "            doc.save(output_filename_docx)\n",
    "            print(f\"Generated: {output_filename_docx}\")\n",
    "            count += 1\n",
    "\n",
    "            # 如果是Windows用户，可以转换为PDF\n",
    "            try:\n",
    "                 convert(output_filename_docx, output_filename_docx.replace('.docx', '.pdf'))\n",
    "                 print(f\"Converted to PDF: {output_filename_docx.replace('.docx', '.pdf')}\")\n",
    "            except Exception as e:\n",
    "                 print(f\"Error converting to PDF for {output_filename_docx}: {e}\")\n",
    "            \n",
    "    print(f\"\\nSuccessfully generated {count} Statement of Purpose documents.\")"
   ]
  },
  {
   "cell_type": "code",
   "execution_count": 5,
   "id": "8a2a1dee-051f-4691-a0ac-00f8353296d9",
   "metadata": {},
   "outputs": [],
   "source": [
    "# 定义文件路径\n",
    "template_file = 'template.docx'\n",
    "output_directory = 'Output/'\n",
    "university_excel = 'universities.xlsx'\n",
    "research_excel = 'research_areas_journals.xlsx'\n",
    "# 申请人信息\n",
    "my_applicant_info = {\n",
    "    \"applicant_name\": \"Xuanzhen Zhu\",\n",
    "    \"program_name\": \"Master of Finance program\",\n",
    "    \"career_goal\": \"quant researcher\"\n",
    "}"
   ]
  },
  {
   "cell_type": "code",
   "execution_count": 6,
   "id": "bad826d5-9b16-46bf-82cd-2a71f64b0bb0",
   "metadata": {},
   "outputs": [],
   "source": [
    "# 读取Excel数据\n",
    "try:\n",
    "    universities = pd.read_excel(university_excel)\n",
    "    research_info = pd.read_excel(research_excel)\n",
    "except FileNotFoundError as e:\n",
    "    print(f\"Error: Required Excel file not found. Please ensure {e.filename} exists in the same directory.\")\n",
    "    exit()"
   ]
  },
  {
   "cell_type": "code",
   "execution_count": 8,
   "id": "3e1523f8-61a0-497e-82ca-4c2721a7369e",
   "metadata": {},
   "outputs": [
    {
     "data": {
      "text/html": [
       "<div>\n",
       "<style scoped>\n",
       "    .dataframe tbody tr th:only-of-type {\n",
       "        vertical-align: middle;\n",
       "    }\n",
       "\n",
       "    .dataframe tbody tr th {\n",
       "        vertical-align: top;\n",
       "    }\n",
       "\n",
       "    .dataframe thead th {\n",
       "        text-align: right;\n",
       "    }\n",
       "</style>\n",
       "<table border=\"1\" class=\"dataframe\">\n",
       "  <thead>\n",
       "    <tr style=\"text-align: right;\">\n",
       "      <th></th>\n",
       "      <th>University Name</th>\n",
       "    </tr>\n",
       "  </thead>\n",
       "  <tbody>\n",
       "    <tr>\n",
       "      <th>0</th>\n",
       "      <td>Harvard University</td>\n",
       "    </tr>\n",
       "    <tr>\n",
       "      <th>1</th>\n",
       "      <td>MIT</td>\n",
       "    </tr>\n",
       "    <tr>\n",
       "      <th>2</th>\n",
       "      <td>University of California-Berkeley</td>\n",
       "    </tr>\n",
       "    <tr>\n",
       "      <th>3</th>\n",
       "      <td>University of Chicago</td>\n",
       "    </tr>\n",
       "    <tr>\n",
       "      <th>4</th>\n",
       "      <td>Princeton University</td>\n",
       "    </tr>\n",
       "  </tbody>\n",
       "</table>\n",
       "</div>"
      ],
      "text/plain": [
       "                     University Name\n",
       "0                 Harvard University\n",
       "1                                MIT\n",
       "2  University of California-Berkeley\n",
       "3              University of Chicago\n",
       "4               Princeton University"
      ]
     },
     "execution_count": 8,
     "metadata": {},
     "output_type": "execute_result"
    }
   ],
   "source": [
    "universities.head()"
   ]
  },
  {
   "cell_type": "code",
   "execution_count": 9,
   "id": "5b360f41-a1d6-4ec9-a506-3af7d0d8b24d",
   "metadata": {},
   "outputs": [
    {
     "data": {
      "text/html": [
       "<div>\n",
       "<style scoped>\n",
       "    .dataframe tbody tr th:only-of-type {\n",
       "        vertical-align: middle;\n",
       "    }\n",
       "\n",
       "    .dataframe tbody tr th {\n",
       "        vertical-align: top;\n",
       "    }\n",
       "\n",
       "    .dataframe thead th {\n",
       "        text-align: right;\n",
       "    }\n",
       "</style>\n",
       "<table border=\"1\" class=\"dataframe\">\n",
       "  <thead>\n",
       "    <tr style=\"text-align: right;\">\n",
       "      <th></th>\n",
       "      <th>Research Area</th>\n",
       "      <th>Journal 1</th>\n",
       "      <th>Journal 2</th>\n",
       "      <th>Journal 3</th>\n",
       "      <th>Skill 1</th>\n",
       "      <th>Skill 2</th>\n",
       "      <th>Skill 3</th>\n",
       "    </tr>\n",
       "  </thead>\n",
       "  <tbody>\n",
       "    <tr>\n",
       "      <th>0</th>\n",
       "      <td>economics</td>\n",
       "      <td>Econometric Theory</td>\n",
       "      <td>Quarterly Journal of Economics</td>\n",
       "      <td>Econometrica</td>\n",
       "      <td>SQL</td>\n",
       "      <td>Math</td>\n",
       "      <td>Tableau</td>\n",
       "    </tr>\n",
       "    <tr>\n",
       "      <th>1</th>\n",
       "      <td>information management</td>\n",
       "      <td>Information Systems Research</td>\n",
       "      <td>MIS Quarterly: Management Information Systems</td>\n",
       "      <td>Journal of the Association for Information Sys...</td>\n",
       "      <td>Python</td>\n",
       "      <td>SQL</td>\n",
       "      <td>PowerBI</td>\n",
       "    </tr>\n",
       "    <tr>\n",
       "      <th>2</th>\n",
       "      <td>finance</td>\n",
       "      <td>Journal of Finance</td>\n",
       "      <td>Review of Financial Studies</td>\n",
       "      <td>Journal of Corporate Finance</td>\n",
       "      <td>Python</td>\n",
       "      <td>SQL</td>\n",
       "      <td>Tableau</td>\n",
       "    </tr>\n",
       "  </tbody>\n",
       "</table>\n",
       "</div>"
      ],
      "text/plain": [
       "            Research Area                     Journal 1  \\\n",
       "0               economics            Econometric Theory   \n",
       "1  information management  Information Systems Research   \n",
       "2                 finance            Journal of Finance   \n",
       "\n",
       "                                        Journal 2  \\\n",
       "0                  Quarterly Journal of Economics   \n",
       "1   MIS Quarterly: Management Information Systems   \n",
       "2                     Review of Financial Studies   \n",
       "\n",
       "                                           Journal 3 Skill 1 Skill 2  Skill 3  \n",
       "0                                       Econometrica     SQL    Math  Tableau  \n",
       "1  Journal of the Association for Information Sys...  Python     SQL  PowerBI  \n",
       "2                       Journal of Corporate Finance  Python     SQL  Tableau  "
      ]
     },
     "execution_count": 9,
     "metadata": {},
     "output_type": "execute_result"
    }
   ],
   "source": [
    "research_info.head()"
   ]
  },
  {
   "cell_type": "code",
   "execution_count": 10,
   "id": "1bd27416-4b98-4bae-8506-ddd011557dd9",
   "metadata": {
    "scrolled": true
   },
   "outputs": [
    {
     "name": "stdout",
     "output_type": "stream",
     "text": [
      "Generated: Output/Xuanzhen Zhu_Harvard_University_economics.docx\n"
     ]
    },
    {
     "name": "stderr",
     "output_type": "stream",
     "text": [
      "100%|████████████████████████████████████████████████████████████████████████████████████| 1/1 [00:07<00:00,  7.73s/it]\n"
     ]
    },
    {
     "name": "stdout",
     "output_type": "stream",
     "text": [
      "Converted to PDF: Output/Xuanzhen Zhu_Harvard_University_economics.pdf\n",
      "Generated: Output/Xuanzhen Zhu_Harvard_University_information_management.docx\n"
     ]
    },
    {
     "name": "stderr",
     "output_type": "stream",
     "text": [
      "100%|████████████████████████████████████████████████████████████████████████████████████| 1/1 [00:04<00:00,  4.43s/it]\n"
     ]
    },
    {
     "name": "stdout",
     "output_type": "stream",
     "text": [
      "Converted to PDF: Output/Xuanzhen Zhu_Harvard_University_information_management.pdf\n",
      "Generated: Output/Xuanzhen Zhu_Harvard_University_finance.docx\n"
     ]
    },
    {
     "name": "stderr",
     "output_type": "stream",
     "text": [
      "100%|████████████████████████████████████████████████████████████████████████████████████| 1/1 [00:08<00:00,  8.27s/it]\n"
     ]
    },
    {
     "name": "stdout",
     "output_type": "stream",
     "text": [
      "Converted to PDF: Output/Xuanzhen Zhu_Harvard_University_finance.pdf\n",
      "Generated: Output/Xuanzhen Zhu_MIT_economics.docx\n"
     ]
    },
    {
     "name": "stderr",
     "output_type": "stream",
     "text": [
      "100%|████████████████████████████████████████████████████████████████████████████████████| 1/1 [00:03<00:00,  3.87s/it]\n"
     ]
    },
    {
     "name": "stdout",
     "output_type": "stream",
     "text": [
      "Converted to PDF: Output/Xuanzhen Zhu_MIT_economics.pdf\n",
      "Generated: Output/Xuanzhen Zhu_MIT_information_management.docx\n"
     ]
    },
    {
     "name": "stderr",
     "output_type": "stream",
     "text": [
      "100%|████████████████████████████████████████████████████████████████████████████████████| 1/1 [00:03<00:00,  3.71s/it]\n"
     ]
    },
    {
     "name": "stdout",
     "output_type": "stream",
     "text": [
      "Converted to PDF: Output/Xuanzhen Zhu_MIT_information_management.pdf\n",
      "Generated: Output/Xuanzhen Zhu_MIT_finance.docx\n"
     ]
    },
    {
     "name": "stderr",
     "output_type": "stream",
     "text": [
      "100%|████████████████████████████████████████████████████████████████████████████████████| 1/1 [00:25<00:00, 25.61s/it]\n"
     ]
    },
    {
     "name": "stdout",
     "output_type": "stream",
     "text": [
      "Converted to PDF: Output/Xuanzhen Zhu_MIT_finance.pdf\n",
      "Generated: Output/Xuanzhen Zhu_University_of_California-Berkeley_economics.docx\n"
     ]
    },
    {
     "name": "stderr",
     "output_type": "stream",
     "text": [
      "100%|████████████████████████████████████████████████████████████████████████████████████| 1/1 [00:10<00:00, 10.55s/it]\n"
     ]
    },
    {
     "name": "stdout",
     "output_type": "stream",
     "text": [
      "Converted to PDF: Output/Xuanzhen Zhu_University_of_California-Berkeley_economics.pdf\n",
      "Generated: Output/Xuanzhen Zhu_University_of_California-Berkeley_information_management.docx\n"
     ]
    },
    {
     "name": "stderr",
     "output_type": "stream",
     "text": [
      "100%|████████████████████████████████████████████████████████████████████████████████████| 1/1 [00:05<00:00,  5.20s/it]"
     ]
    },
    {
     "name": "stdout",
     "output_type": "stream",
     "text": [
      "Error converting to PDF for Output/Xuanzhen Zhu_University_of_California-Berkeley_information_management.docx: Word.Application.Quit\n",
      "Generated: Output/Xuanzhen Zhu_University_of_California-Berkeley_finance.docx\n"
     ]
    },
    {
     "name": "stderr",
     "output_type": "stream",
     "text": [
      "\n",
      "100%|████████████████████████████████████████████████████████████████████████████████████| 1/1 [00:05<00:00,  5.84s/it]\n"
     ]
    },
    {
     "name": "stdout",
     "output_type": "stream",
     "text": [
      "Converted to PDF: Output/Xuanzhen Zhu_University_of_California-Berkeley_finance.pdf\n",
      "Generated: Output/Xuanzhen Zhu_University_of_Chicago_economics.docx\n"
     ]
    },
    {
     "name": "stderr",
     "output_type": "stream",
     "text": [
      "100%|████████████████████████████████████████████████████████████████████████████████████| 1/1 [00:02<00:00,  2.12s/it]\n"
     ]
    },
    {
     "name": "stdout",
     "output_type": "stream",
     "text": [
      "Converted to PDF: Output/Xuanzhen Zhu_University_of_Chicago_economics.pdf\n",
      "Generated: Output/Xuanzhen Zhu_University_of_Chicago_information_management.docx\n"
     ]
    },
    {
     "name": "stderr",
     "output_type": "stream",
     "text": [
      "100%|████████████████████████████████████████████████████████████████████████████████████| 1/1 [00:05<00:00,  5.40s/it]\n"
     ]
    },
    {
     "name": "stdout",
     "output_type": "stream",
     "text": [
      "Converted to PDF: Output/Xuanzhen Zhu_University_of_Chicago_information_management.pdf\n",
      "Generated: Output/Xuanzhen Zhu_University_of_Chicago_finance.docx\n"
     ]
    },
    {
     "name": "stderr",
     "output_type": "stream",
     "text": [
      "100%|████████████████████████████████████████████████████████████████████████████████████| 1/1 [00:04<00:00,  4.77s/it]"
     ]
    },
    {
     "name": "stdout",
     "output_type": "stream",
     "text": [
      "Error converting to PDF for Output/Xuanzhen Zhu_University_of_Chicago_finance.docx: Word.Application.Quit\n",
      "Generated: Output/Xuanzhen Zhu_Princeton_University_economics.docx\n"
     ]
    },
    {
     "name": "stderr",
     "output_type": "stream",
     "text": [
      "\n",
      "100%|████████████████████████████████████████████████████████████████████████████████████| 1/1 [00:06<00:00,  6.27s/it]\n"
     ]
    },
    {
     "name": "stdout",
     "output_type": "stream",
     "text": [
      "Converted to PDF: Output/Xuanzhen Zhu_Princeton_University_economics.pdf\n",
      "Generated: Output/Xuanzhen Zhu_Princeton_University_information_management.docx\n"
     ]
    },
    {
     "name": "stderr",
     "output_type": "stream",
     "text": [
      "100%|████████████████████████████████████████████████████████████████████████████████████| 1/1 [00:04<00:00,  4.85s/it]"
     ]
    },
    {
     "name": "stdout",
     "output_type": "stream",
     "text": [
      "Error converting to PDF for Output/Xuanzhen Zhu_Princeton_University_information_management.docx: Word.Application.Quit\n",
      "Generated: Output/Xuanzhen Zhu_Princeton_University_finance.docx\n"
     ]
    },
    {
     "name": "stderr",
     "output_type": "stream",
     "text": [
      "\n",
      "100%|████████████████████████████████████████████████████████████████████████████████████| 1/1 [00:05<00:00,  5.64s/it]\n"
     ]
    },
    {
     "name": "stdout",
     "output_type": "stream",
     "text": [
      "Converted to PDF: Output/Xuanzhen Zhu_Princeton_University_finance.pdf\n",
      "Generated: Output/Xuanzhen Zhu_Stanford_University_economics.docx\n"
     ]
    },
    {
     "name": "stderr",
     "output_type": "stream",
     "text": [
      "100%|████████████████████████████████████████████████████████████████████████████████████| 1/1 [00:04<00:00,  4.72s/it]"
     ]
    },
    {
     "name": "stdout",
     "output_type": "stream",
     "text": [
      "Error converting to PDF for Output/Xuanzhen Zhu_Stanford_University_economics.docx: Word.Application.Quit\n",
      "Generated: Output/Xuanzhen Zhu_Stanford_University_information_management.docx\n"
     ]
    },
    {
     "name": "stderr",
     "output_type": "stream",
     "text": [
      "\n",
      "100%|████████████████████████████████████████████████████████████████████████████████████| 1/1 [00:05<00:00,  5.52s/it]\n"
     ]
    },
    {
     "name": "stdout",
     "output_type": "stream",
     "text": [
      "Converted to PDF: Output/Xuanzhen Zhu_Stanford_University_information_management.pdf\n",
      "Generated: Output/Xuanzhen Zhu_Stanford_University_finance.docx\n"
     ]
    },
    {
     "name": "stderr",
     "output_type": "stream",
     "text": [
      "100%|████████████████████████████████████████████████████████████████████████████████████| 1/1 [00:04<00:00,  4.76s/it]"
     ]
    },
    {
     "name": "stdout",
     "output_type": "stream",
     "text": [
      "Error converting to PDF for Output/Xuanzhen Zhu_Stanford_University_finance.docx: Word.Application.Quit\n",
      "Generated: Output/Xuanzhen Zhu_Yale_University_economics.docx\n"
     ]
    },
    {
     "name": "stderr",
     "output_type": "stream",
     "text": [
      "\n",
      "100%|████████████████████████████████████████████████████████████████████████████████████| 1/1 [00:05<00:00,  5.61s/it]\n"
     ]
    },
    {
     "name": "stdout",
     "output_type": "stream",
     "text": [
      "Converted to PDF: Output/Xuanzhen Zhu_Yale_University_economics.pdf\n",
      "Generated: Output/Xuanzhen Zhu_Yale_University_information_management.docx\n"
     ]
    },
    {
     "name": "stderr",
     "output_type": "stream",
     "text": [
      "100%|████████████████████████████████████████████████████████████████████████████████████| 1/1 [00:04<00:00,  4.71s/it]"
     ]
    },
    {
     "name": "stdout",
     "output_type": "stream",
     "text": [
      "Error converting to PDF for Output/Xuanzhen Zhu_Yale_University_information_management.docx: Word.Application.Quit\n",
      "Generated: Output/Xuanzhen Zhu_Yale_University_finance.docx\n"
     ]
    },
    {
     "name": "stderr",
     "output_type": "stream",
     "text": [
      "\n",
      "100%|████████████████████████████████████████████████████████████████████████████████████| 1/1 [00:06<00:00,  6.14s/it]\n"
     ]
    },
    {
     "name": "stdout",
     "output_type": "stream",
     "text": [
      "Converted to PDF: Output/Xuanzhen Zhu_Yale_University_finance.pdf\n",
      "Generated: Output/Xuanzhen Zhu_Oxford_University_economics.docx\n"
     ]
    },
    {
     "name": "stderr",
     "output_type": "stream",
     "text": [
      "100%|████████████████████████████████████████████████████████████████████████████████████| 1/1 [00:04<00:00,  4.68s/it]"
     ]
    },
    {
     "name": "stdout",
     "output_type": "stream",
     "text": [
      "Error converting to PDF for Output/Xuanzhen Zhu_Oxford_University_economics.docx: Word.Application.Quit\n",
      "Generated: Output/Xuanzhen Zhu_Oxford_University_information_management.docx\n"
     ]
    },
    {
     "name": "stderr",
     "output_type": "stream",
     "text": [
      "\n",
      "100%|████████████████████████████████████████████████████████████████████████████████████| 1/1 [00:05<00:00,  5.37s/it]\n"
     ]
    },
    {
     "name": "stdout",
     "output_type": "stream",
     "text": [
      "Converted to PDF: Output/Xuanzhen Zhu_Oxford_University_information_management.pdf\n",
      "Generated: Output/Xuanzhen Zhu_Oxford_University_finance.docx\n"
     ]
    },
    {
     "name": "stderr",
     "output_type": "stream",
     "text": [
      "100%|████████████████████████████████████████████████████████████████████████████████████| 1/1 [00:04<00:00,  4.63s/it]"
     ]
    },
    {
     "name": "stdout",
     "output_type": "stream",
     "text": [
      "Error converting to PDF for Output/Xuanzhen Zhu_Oxford_University_finance.docx: Word.Application.Quit\n",
      "Generated: Output/Xuanzhen Zhu_New_York_University_economics.docx\n"
     ]
    },
    {
     "name": "stderr",
     "output_type": "stream",
     "text": [
      "\n",
      "100%|████████████████████████████████████████████████████████████████████████████████████| 1/1 [00:05<00:00,  5.52s/it]\n"
     ]
    },
    {
     "name": "stdout",
     "output_type": "stream",
     "text": [
      "Converted to PDF: Output/Xuanzhen Zhu_New_York_University_economics.pdf\n",
      "Generated: Output/Xuanzhen Zhu_New_York_University_information_management.docx\n"
     ]
    },
    {
     "name": "stderr",
     "output_type": "stream",
     "text": [
      "100%|████████████████████████████████████████████████████████████████████████████████████| 1/1 [00:04<00:00,  4.81s/it]"
     ]
    },
    {
     "name": "stdout",
     "output_type": "stream",
     "text": [
      "Error converting to PDF for Output/Xuanzhen Zhu_New_York_University_information_management.docx: (-2147023170, '远程过程调用失败。', None, None)\n",
      "Generated: Output/Xuanzhen Zhu_New_York_University_finance.docx\n"
     ]
    },
    {
     "name": "stderr",
     "output_type": "stream",
     "text": [
      "\n",
      "100%|████████████████████████████████████████████████████████████████████████████████████| 1/1 [00:05<00:00,  5.89s/it]\n"
     ]
    },
    {
     "name": "stdout",
     "output_type": "stream",
     "text": [
      "Converted to PDF: Output/Xuanzhen Zhu_New_York_University_finance.pdf\n",
      "Generated: Output/Xuanzhen Zhu_University_of_Cambridge_economics.docx\n"
     ]
    },
    {
     "name": "stderr",
     "output_type": "stream",
     "text": [
      "100%|████████████████████████████████████████████████████████████████████████████████████| 1/1 [00:04<00:00,  4.70s/it]"
     ]
    },
    {
     "name": "stdout",
     "output_type": "stream",
     "text": [
      "Error converting to PDF for Output/Xuanzhen Zhu_University_of_Cambridge_economics.docx: Word.Application.Quit\n",
      "Generated: Output/Xuanzhen Zhu_University_of_Cambridge_information_management.docx\n"
     ]
    },
    {
     "name": "stderr",
     "output_type": "stream",
     "text": [
      "\n",
      "100%|████████████████████████████████████████████████████████████████████████████████████| 1/1 [00:05<00:00,  5.58s/it]\n"
     ]
    },
    {
     "name": "stdout",
     "output_type": "stream",
     "text": [
      "Converted to PDF: Output/Xuanzhen Zhu_University_of_Cambridge_information_management.pdf\n",
      "Generated: Output/Xuanzhen Zhu_University_of_Cambridge_finance.docx\n"
     ]
    },
    {
     "name": "stderr",
     "output_type": "stream",
     "text": [
      "100%|████████████████████████████████████████████████████████████████████████████████████| 1/1 [00:04<00:00,  4.78s/it]"
     ]
    },
    {
     "name": "stdout",
     "output_type": "stream",
     "text": [
      "Error converting to PDF for Output/Xuanzhen Zhu_University_of_Cambridge_finance.docx: Word.Application.Quit\n",
      "Generated: Output/Xuanzhen Zhu_University_of_Toronto_economics.docx\n"
     ]
    },
    {
     "name": "stderr",
     "output_type": "stream",
     "text": [
      "\n",
      "100%|████████████████████████████████████████████████████████████████████████████████████| 1/1 [00:05<00:00,  5.30s/it]\n"
     ]
    },
    {
     "name": "stdout",
     "output_type": "stream",
     "text": [
      "Converted to PDF: Output/Xuanzhen Zhu_University_of_Toronto_economics.pdf\n",
      "Generated: Output/Xuanzhen Zhu_University_of_Toronto_information_management.docx\n"
     ]
    },
    {
     "name": "stderr",
     "output_type": "stream",
     "text": [
      "100%|████████████████████████████████████████████████████████████████████████████████████| 1/1 [00:04<00:00,  4.82s/it]"
     ]
    },
    {
     "name": "stdout",
     "output_type": "stream",
     "text": [
      "Error converting to PDF for Output/Xuanzhen Zhu_University_of_Toronto_information_management.docx: Word.Application.Quit\n",
      "Generated: Output/Xuanzhen Zhu_University_of_Toronto_finance.docx\n"
     ]
    },
    {
     "name": "stderr",
     "output_type": "stream",
     "text": [
      "\n",
      "100%|████████████████████████████████████████████████████████████████████████████████████| 1/1 [00:05<00:00,  5.50s/it]\n"
     ]
    },
    {
     "name": "stdout",
     "output_type": "stream",
     "text": [
      "Converted to PDF: Output/Xuanzhen Zhu_University_of_Toronto_finance.pdf\n",
      "Generated: Output/Xuanzhen Zhu_Cornell_University_economics.docx\n"
     ]
    },
    {
     "name": "stderr",
     "output_type": "stream",
     "text": [
      "100%|████████████████████████████████████████████████████████████████████████████████████| 1/1 [00:04<00:00,  4.79s/it]"
     ]
    },
    {
     "name": "stdout",
     "output_type": "stream",
     "text": [
      "Error converting to PDF for Output/Xuanzhen Zhu_Cornell_University_economics.docx: (-2147023170, '远程过程调用失败。', None, None)\n",
      "Generated: Output/Xuanzhen Zhu_Cornell_University_information_management.docx\n"
     ]
    },
    {
     "name": "stderr",
     "output_type": "stream",
     "text": [
      "\n",
      "100%|████████████████████████████████████████████████████████████████████████████████████| 1/1 [00:05<00:00,  5.75s/it]\n"
     ]
    },
    {
     "name": "stdout",
     "output_type": "stream",
     "text": [
      "Converted to PDF: Output/Xuanzhen Zhu_Cornell_University_information_management.pdf\n",
      "Generated: Output/Xuanzhen Zhu_Cornell_University_finance.docx\n"
     ]
    },
    {
     "name": "stderr",
     "output_type": "stream",
     "text": [
      "100%|████████████████████████████████████████████████████████████████████████████████████| 1/1 [00:04<00:00,  4.72s/it]"
     ]
    },
    {
     "name": "stdout",
     "output_type": "stream",
     "text": [
      "Error converting to PDF for Output/Xuanzhen Zhu_Cornell_University_finance.docx: Word.Application.Quit\n",
      "Generated: Output/Xuanzhen Zhu_University_of_California-Davis_economics.docx\n"
     ]
    },
    {
     "name": "stderr",
     "output_type": "stream",
     "text": [
      "\n",
      "100%|████████████████████████████████████████████████████████████████████████████████████| 1/1 [00:05<00:00,  5.49s/it]\n"
     ]
    },
    {
     "name": "stdout",
     "output_type": "stream",
     "text": [
      "Converted to PDF: Output/Xuanzhen Zhu_University_of_California-Davis_economics.pdf\n",
      "Generated: Output/Xuanzhen Zhu_University_of_California-Davis_information_management.docx\n"
     ]
    },
    {
     "name": "stderr",
     "output_type": "stream",
     "text": [
      "100%|████████████████████████████████████████████████████████████████████████████████████| 1/1 [00:04<00:00,  4.93s/it]"
     ]
    },
    {
     "name": "stdout",
     "output_type": "stream",
     "text": [
      "Error converting to PDF for Output/Xuanzhen Zhu_University_of_California-Davis_information_management.docx: Word.Application.Quit\n",
      "Generated: Output/Xuanzhen Zhu_University_of_California-Davis_finance.docx\n"
     ]
    },
    {
     "name": "stderr",
     "output_type": "stream",
     "text": [
      "\n",
      "100%|████████████████████████████████████████████████████████████████████████████████████| 1/1 [00:05<00:00,  5.71s/it]\n"
     ]
    },
    {
     "name": "stdout",
     "output_type": "stream",
     "text": [
      "Converted to PDF: Output/Xuanzhen Zhu_University_of_California-Davis_finance.pdf\n",
      "Generated: Output/Xuanzhen Zhu_University_of_Nottingham_economics.docx\n"
     ]
    },
    {
     "name": "stderr",
     "output_type": "stream",
     "text": [
      "100%|████████████████████████████████████████████████████████████████████████████████████| 1/1 [00:04<00:00,  4.72s/it]"
     ]
    },
    {
     "name": "stdout",
     "output_type": "stream",
     "text": [
      "Error converting to PDF for Output/Xuanzhen Zhu_University_of_Nottingham_economics.docx: Word.Application.Quit\n",
      "Generated: Output/Xuanzhen Zhu_University_of_Nottingham_information_management.docx\n"
     ]
    },
    {
     "name": "stderr",
     "output_type": "stream",
     "text": [
      "\n",
      "100%|████████████████████████████████████████████████████████████████████████████████████| 1/1 [00:05<00:00,  5.66s/it]\n"
     ]
    },
    {
     "name": "stdout",
     "output_type": "stream",
     "text": [
      "Converted to PDF: Output/Xuanzhen Zhu_University_of_Nottingham_information_management.pdf\n",
      "Generated: Output/Xuanzhen Zhu_University_of_Nottingham_finance.docx\n"
     ]
    },
    {
     "name": "stderr",
     "output_type": "stream",
     "text": [
      "100%|████████████████████████████████████████████████████████████████████████████████████| 1/1 [00:04<00:00,  5.00s/it]"
     ]
    },
    {
     "name": "stdout",
     "output_type": "stream",
     "text": [
      "Error converting to PDF for Output/Xuanzhen Zhu_University_of_Nottingham_finance.docx: Word.Application.Quit\n",
      "Generated: Output/Xuanzhen Zhu_Monash_University_economics.docx\n"
     ]
    },
    {
     "name": "stderr",
     "output_type": "stream",
     "text": [
      "\n",
      "100%|████████████████████████████████████████████████████████████████████████████████████| 1/1 [00:05<00:00,  5.54s/it]\n"
     ]
    },
    {
     "name": "stdout",
     "output_type": "stream",
     "text": [
      "Converted to PDF: Output/Xuanzhen Zhu_Monash_University_economics.pdf\n",
      "Generated: Output/Xuanzhen Zhu_Monash_University_information_management.docx\n"
     ]
    },
    {
     "name": "stderr",
     "output_type": "stream",
     "text": [
      "100%|████████████████████████████████████████████████████████████████████████████████████| 1/1 [00:04<00:00,  4.80s/it]"
     ]
    },
    {
     "name": "stdout",
     "output_type": "stream",
     "text": [
      "Error converting to PDF for Output/Xuanzhen Zhu_Monash_University_information_management.docx: Word.Application.Quit\n",
      "Generated: Output/Xuanzhen Zhu_Monash_University_finance.docx\n"
     ]
    },
    {
     "name": "stderr",
     "output_type": "stream",
     "text": [
      "\n",
      "100%|████████████████████████████████████████████████████████████████████████████████████| 1/1 [00:05<00:00,  5.45s/it]\n"
     ]
    },
    {
     "name": "stdout",
     "output_type": "stream",
     "text": [
      "Converted to PDF: Output/Xuanzhen Zhu_Monash_University_finance.pdf\n",
      "Generated: Output/Xuanzhen Zhu_University_of_Maryland_economics.docx\n"
     ]
    },
    {
     "name": "stderr",
     "output_type": "stream",
     "text": [
      "100%|████████████████████████████████████████████████████████████████████████████████████| 1/1 [00:04<00:00,  4.77s/it]"
     ]
    },
    {
     "name": "stdout",
     "output_type": "stream",
     "text": [
      "Error converting to PDF for Output/Xuanzhen Zhu_University_of_Maryland_economics.docx: Word.Application.Quit\n",
      "Generated: Output/Xuanzhen Zhu_University_of_Maryland_information_management.docx\n"
     ]
    },
    {
     "name": "stderr",
     "output_type": "stream",
     "text": [
      "\n",
      "100%|████████████████████████████████████████████████████████████████████████████████████| 1/1 [00:05<00:00,  5.44s/it]\n"
     ]
    },
    {
     "name": "stdout",
     "output_type": "stream",
     "text": [
      "Converted to PDF: Output/Xuanzhen Zhu_University_of_Maryland_information_management.pdf\n",
      "Generated: Output/Xuanzhen Zhu_University_of_Maryland_finance.docx\n"
     ]
    },
    {
     "name": "stderr",
     "output_type": "stream",
     "text": [
      "100%|████████████████████████████████████████████████████████████████████████████████████| 1/1 [00:04<00:00,  4.69s/it]"
     ]
    },
    {
     "name": "stdout",
     "output_type": "stream",
     "text": [
      "Error converting to PDF for Output/Xuanzhen Zhu_University_of_Maryland_finance.docx: Word.Application.Quit\n",
      "Generated: Output/Xuanzhen Zhu_Vanderbilt_University_economics.docx\n"
     ]
    },
    {
     "name": "stderr",
     "output_type": "stream",
     "text": [
      "\n",
      "100%|████████████████████████████████████████████████████████████████████████████████████| 1/1 [00:05<00:00,  5.48s/it]\n"
     ]
    },
    {
     "name": "stdout",
     "output_type": "stream",
     "text": [
      "Converted to PDF: Output/Xuanzhen Zhu_Vanderbilt_University_economics.pdf\n",
      "Generated: Output/Xuanzhen Zhu_Vanderbilt_University_information_management.docx\n"
     ]
    },
    {
     "name": "stderr",
     "output_type": "stream",
     "text": [
      "100%|████████████████████████████████████████████████████████████████████████████████████| 1/1 [00:04<00:00,  4.73s/it]"
     ]
    },
    {
     "name": "stdout",
     "output_type": "stream",
     "text": [
      "Error converting to PDF for Output/Xuanzhen Zhu_Vanderbilt_University_information_management.docx: Word.Application.Quit\n",
      "Generated: Output/Xuanzhen Zhu_Vanderbilt_University_finance.docx\n"
     ]
    },
    {
     "name": "stderr",
     "output_type": "stream",
     "text": [
      "\n",
      "100%|████████████████████████████████████████████████████████████████████████████████████| 1/1 [00:05<00:00,  5.54s/it]\n"
     ]
    },
    {
     "name": "stdout",
     "output_type": "stream",
     "text": [
      "Converted to PDF: Output/Xuanzhen Zhu_Vanderbilt_University_finance.pdf\n",
      "Generated: Output/Xuanzhen Zhu_University_of_Notre_Dame_economics.docx\n"
     ]
    },
    {
     "name": "stderr",
     "output_type": "stream",
     "text": [
      "100%|████████████████████████████████████████████████████████████████████████████████████| 1/1 [00:04<00:00,  4.73s/it]"
     ]
    },
    {
     "name": "stdout",
     "output_type": "stream",
     "text": [
      "Error converting to PDF for Output/Xuanzhen Zhu_University_of_Notre_Dame_economics.docx: Word.Application.Quit\n",
      "Generated: Output/Xuanzhen Zhu_University_of_Notre_Dame_information_management.docx\n"
     ]
    },
    {
     "name": "stderr",
     "output_type": "stream",
     "text": [
      "\n",
      "100%|████████████████████████████████████████████████████████████████████████████████████| 1/1 [00:05<00:00,  5.57s/it]\n"
     ]
    },
    {
     "name": "stdout",
     "output_type": "stream",
     "text": [
      "Converted to PDF: Output/Xuanzhen Zhu_University_of_Notre_Dame_information_management.pdf\n",
      "Generated: Output/Xuanzhen Zhu_University_of_Notre_Dame_finance.docx\n"
     ]
    },
    {
     "name": "stderr",
     "output_type": "stream",
     "text": [
      "100%|████████████████████████████████████████████████████████████████████████████████████| 1/1 [00:04<00:00,  4.83s/it]"
     ]
    },
    {
     "name": "stdout",
     "output_type": "stream",
     "text": [
      "Error converting to PDF for Output/Xuanzhen Zhu_University_of_Notre_Dame_finance.docx: Word.Application.Quit\n",
      "Generated: Output/Xuanzhen Zhu_University_of_York_economics.docx\n"
     ]
    },
    {
     "name": "stderr",
     "output_type": "stream",
     "text": [
      "\n",
      "100%|████████████████████████████████████████████████████████████████████████████████████| 1/1 [00:05<00:00,  5.49s/it]\n"
     ]
    },
    {
     "name": "stdout",
     "output_type": "stream",
     "text": [
      "Converted to PDF: Output/Xuanzhen Zhu_University_of_York_economics.pdf\n",
      "Generated: Output/Xuanzhen Zhu_University_of_York_information_management.docx\n"
     ]
    },
    {
     "name": "stderr",
     "output_type": "stream",
     "text": [
      "100%|████████████████████████████████████████████████████████████████████████████████████| 1/1 [00:04<00:00,  4.97s/it]"
     ]
    },
    {
     "name": "stdout",
     "output_type": "stream",
     "text": [
      "Error converting to PDF for Output/Xuanzhen Zhu_University_of_York_information_management.docx: Word.Application.Quit\n",
      "Generated: Output/Xuanzhen Zhu_University_of_York_finance.docx\n"
     ]
    },
    {
     "name": "stderr",
     "output_type": "stream",
     "text": [
      "\n",
      "100%|████████████████████████████████████████████████████████████████████████████████████| 1/1 [00:05<00:00,  5.36s/it]\n"
     ]
    },
    {
     "name": "stdout",
     "output_type": "stream",
     "text": [
      "Converted to PDF: Output/Xuanzhen Zhu_University_of_York_finance.pdf\n",
      "Generated: Output/Xuanzhen Zhu_Queen's_University_economics.docx\n"
     ]
    },
    {
     "name": "stderr",
     "output_type": "stream",
     "text": [
      "100%|████████████████████████████████████████████████████████████████████████████████████| 1/1 [00:04<00:00,  4.86s/it]"
     ]
    },
    {
     "name": "stdout",
     "output_type": "stream",
     "text": [
      "Error converting to PDF for Output/Xuanzhen Zhu_Queen's_University_economics.docx: Word.Application.Quit\n",
      "Generated: Output/Xuanzhen Zhu_Queen's_University_information_management.docx\n"
     ]
    },
    {
     "name": "stderr",
     "output_type": "stream",
     "text": [
      "\n",
      "100%|████████████████████████████████████████████████████████████████████████████████████| 1/1 [00:05<00:00,  5.35s/it]\n"
     ]
    },
    {
     "name": "stdout",
     "output_type": "stream",
     "text": [
      "Converted to PDF: Output/Xuanzhen Zhu_Queen's_University_information_management.pdf\n",
      "Generated: Output/Xuanzhen Zhu_Queen's_University_finance.docx\n"
     ]
    },
    {
     "name": "stderr",
     "output_type": "stream",
     "text": [
      "100%|████████████████████████████████████████████████████████████████████████████████████| 1/1 [00:04<00:00,  4.82s/it]"
     ]
    },
    {
     "name": "stdout",
     "output_type": "stream",
     "text": [
      "Error converting to PDF for Output/Xuanzhen Zhu_Queen's_University_finance.docx: Word.Application.Quit\n",
      "Generated: Output/Xuanzhen Zhu_Australian_National_University_economics.docx\n"
     ]
    },
    {
     "name": "stderr",
     "output_type": "stream",
     "text": [
      "\n",
      "100%|████████████████████████████████████████████████████████████████████████████████████| 1/1 [00:05<00:00,  5.51s/it]\n"
     ]
    },
    {
     "name": "stdout",
     "output_type": "stream",
     "text": [
      "Converted to PDF: Output/Xuanzhen Zhu_Australian_National_University_economics.pdf\n",
      "Generated: Output/Xuanzhen Zhu_Australian_National_University_information_management.docx\n"
     ]
    },
    {
     "name": "stderr",
     "output_type": "stream",
     "text": [
      "100%|████████████████████████████████████████████████████████████████████████████████████| 1/1 [00:04<00:00,  4.82s/it]"
     ]
    },
    {
     "name": "stdout",
     "output_type": "stream",
     "text": [
      "Error converting to PDF for Output/Xuanzhen Zhu_Australian_National_University_information_management.docx: Word.Application.Quit\n",
      "Generated: Output/Xuanzhen Zhu_Australian_National_University_finance.docx\n"
     ]
    },
    {
     "name": "stderr",
     "output_type": "stream",
     "text": [
      "\n",
      "100%|████████████████████████████████████████████████████████████████████████████████████| 1/1 [00:05<00:00,  5.56s/it]\n"
     ]
    },
    {
     "name": "stdout",
     "output_type": "stream",
     "text": [
      "Converted to PDF: Output/Xuanzhen Zhu_Australian_National_University_finance.pdf\n",
      "Generated: Output/Xuanzhen Zhu_Georgetown_University_economics.docx\n"
     ]
    },
    {
     "name": "stderr",
     "output_type": "stream",
     "text": [
      "100%|████████████████████████████████████████████████████████████████████████████████████| 1/1 [00:04<00:00,  4.84s/it]"
     ]
    },
    {
     "name": "stdout",
     "output_type": "stream",
     "text": [
      "Error converting to PDF for Output/Xuanzhen Zhu_Georgetown_University_economics.docx: (-2147023170, '远程过程调用失败。', None, None)\n",
      "Generated: Output/Xuanzhen Zhu_Georgetown_University_information_management.docx\n"
     ]
    },
    {
     "name": "stderr",
     "output_type": "stream",
     "text": [
      "\n",
      "100%|████████████████████████████████████████████████████████████████████████████████████| 1/1 [00:05<00:00,  6.00s/it]\n"
     ]
    },
    {
     "name": "stdout",
     "output_type": "stream",
     "text": [
      "Converted to PDF: Output/Xuanzhen Zhu_Georgetown_University_information_management.pdf\n",
      "Generated: Output/Xuanzhen Zhu_Georgetown_University_finance.docx\n"
     ]
    },
    {
     "name": "stderr",
     "output_type": "stream",
     "text": [
      "100%|████████████████████████████████████████████████████████████████████████████████████| 1/1 [00:06<00:00,  6.08s/it]"
     ]
    },
    {
     "name": "stdout",
     "output_type": "stream",
     "text": [
      "Error converting to PDF for Output/Xuanzhen Zhu_Georgetown_University_finance.docx: (-2147023170, '远程过程调用失败。', None, None)\n",
      "Generated: Output/Xuanzhen Zhu_New_York_University_economics.docx\n"
     ]
    },
    {
     "name": "stderr",
     "output_type": "stream",
     "text": [
      "\n",
      "100%|████████████████████████████████████████████████████████████████████████████████████| 1/1 [00:06<00:00,  6.74s/it]\n"
     ]
    },
    {
     "name": "stdout",
     "output_type": "stream",
     "text": [
      "Converted to PDF: Output/Xuanzhen Zhu_New_York_University_economics.pdf\n",
      "Generated: Output/Xuanzhen Zhu_New_York_University_information_management.docx\n"
     ]
    },
    {
     "name": "stderr",
     "output_type": "stream",
     "text": [
      "100%|████████████████████████████████████████████████████████████████████████████████████| 1/1 [00:05<00:00,  5.09s/it]"
     ]
    },
    {
     "name": "stdout",
     "output_type": "stream",
     "text": [
      "Error converting to PDF for Output/Xuanzhen Zhu_New_York_University_information_management.docx: Word.Application.Quit\n",
      "Generated: Output/Xuanzhen Zhu_New_York_University_finance.docx\n"
     ]
    },
    {
     "name": "stderr",
     "output_type": "stream",
     "text": [
      "\n",
      "100%|████████████████████████████████████████████████████████████████████████████████████| 1/1 [00:06<00:00,  6.10s/it]\n"
     ]
    },
    {
     "name": "stdout",
     "output_type": "stream",
     "text": [
      "Converted to PDF: Output/Xuanzhen Zhu_New_York_University_finance.pdf\n",
      "Generated: Output/Xuanzhen Zhu_University_of_Colorado_economics.docx\n"
     ]
    },
    {
     "name": "stderr",
     "output_type": "stream",
     "text": [
      "100%|████████████████████████████████████████████████████████████████████████████████████| 1/1 [00:04<00:00,  4.91s/it]"
     ]
    },
    {
     "name": "stdout",
     "output_type": "stream",
     "text": [
      "Error converting to PDF for Output/Xuanzhen Zhu_University_of_Colorado_economics.docx: (-2147023170, '远程过程调用失败。', None, None)\n",
      "Generated: Output/Xuanzhen Zhu_University_of_Colorado_information_management.docx\n"
     ]
    },
    {
     "name": "stderr",
     "output_type": "stream",
     "text": [
      "\n",
      "100%|████████████████████████████████████████████████████████████████████████████████████| 1/1 [00:05<00:00,  5.57s/it]\n"
     ]
    },
    {
     "name": "stdout",
     "output_type": "stream",
     "text": [
      "Converted to PDF: Output/Xuanzhen Zhu_University_of_Colorado_information_management.pdf\n",
      "Generated: Output/Xuanzhen Zhu_University_of_Colorado_finance.docx\n"
     ]
    },
    {
     "name": "stderr",
     "output_type": "stream",
     "text": [
      "100%|████████████████████████████████████████████████████████████████████████████████████| 1/1 [00:04<00:00,  4.65s/it]"
     ]
    },
    {
     "name": "stdout",
     "output_type": "stream",
     "text": [
      "Error converting to PDF for Output/Xuanzhen Zhu_University_of_Colorado_finance.docx: Word.Application.Quit\n",
      "Generated: Output/Xuanzhen Zhu_Ohio_State_University_economics.docx\n"
     ]
    },
    {
     "name": "stderr",
     "output_type": "stream",
     "text": [
      "\n",
      "100%|████████████████████████████████████████████████████████████████████████████████████| 1/1 [00:05<00:00,  5.73s/it]\n"
     ]
    },
    {
     "name": "stdout",
     "output_type": "stream",
     "text": [
      "Converted to PDF: Output/Xuanzhen Zhu_Ohio_State_University_economics.pdf\n",
      "Generated: Output/Xuanzhen Zhu_Ohio_State_University_information_management.docx\n"
     ]
    },
    {
     "name": "stderr",
     "output_type": "stream",
     "text": [
      "100%|████████████████████████████████████████████████████████████████████████████████████| 1/1 [00:04<00:00,  4.92s/it]"
     ]
    },
    {
     "name": "stdout",
     "output_type": "stream",
     "text": [
      "Error converting to PDF for Output/Xuanzhen Zhu_Ohio_State_University_information_management.docx: (-2147023170, '远程过程调用失败。', None, None)\n",
      "Generated: Output/Xuanzhen Zhu_Ohio_State_University_finance.docx\n"
     ]
    },
    {
     "name": "stderr",
     "output_type": "stream",
     "text": [
      "\n",
      "100%|████████████████████████████████████████████████████████████████████████████████████| 1/1 [00:05<00:00,  5.37s/it]\n"
     ]
    },
    {
     "name": "stdout",
     "output_type": "stream",
     "text": [
      "Converted to PDF: Output/Xuanzhen Zhu_Ohio_State_University_finance.pdf\n",
      "Generated: Output/Xuanzhen Zhu_University_of_California-Santa_Cruz_economics.docx\n"
     ]
    },
    {
     "name": "stderr",
     "output_type": "stream",
     "text": [
      "100%|████████████████████████████████████████████████████████████████████████████████████| 1/1 [00:04<00:00,  4.82s/it]"
     ]
    },
    {
     "name": "stdout",
     "output_type": "stream",
     "text": [
      "Error converting to PDF for Output/Xuanzhen Zhu_University_of_California-Santa_Cruz_economics.docx: Word.Application.Quit\n",
      "Generated: Output/Xuanzhen Zhu_University_of_California-Santa_Cruz_information_management.docx\n"
     ]
    },
    {
     "name": "stderr",
     "output_type": "stream",
     "text": [
      "\n",
      "100%|████████████████████████████████████████████████████████████████████████████████████| 1/1 [00:05<00:00,  5.34s/it]\n"
     ]
    },
    {
     "name": "stdout",
     "output_type": "stream",
     "text": [
      "Converted to PDF: Output/Xuanzhen Zhu_University_of_California-Santa_Cruz_information_management.pdf\n",
      "Generated: Output/Xuanzhen Zhu_University_of_California-Santa_Cruz_finance.docx\n"
     ]
    },
    {
     "name": "stderr",
     "output_type": "stream",
     "text": [
      "100%|████████████████████████████████████████████████████████████████████████████████████| 1/1 [00:04<00:00,  4.93s/it]"
     ]
    },
    {
     "name": "stdout",
     "output_type": "stream",
     "text": [
      "Error converting to PDF for Output/Xuanzhen Zhu_University_of_California-Santa_Cruz_finance.docx: Word.Application.Quit\n",
      "Generated: Output/Xuanzhen Zhu_Universitat_de_Barcelona_economics.docx\n"
     ]
    },
    {
     "name": "stderr",
     "output_type": "stream",
     "text": [
      "\n",
      "100%|████████████████████████████████████████████████████████████████████████████████████| 1/1 [00:05<00:00,  5.62s/it]\n"
     ]
    },
    {
     "name": "stdout",
     "output_type": "stream",
     "text": [
      "Converted to PDF: Output/Xuanzhen Zhu_Universitat_de_Barcelona_economics.pdf\n",
      "Generated: Output/Xuanzhen Zhu_Universitat_de_Barcelona_information_management.docx\n"
     ]
    },
    {
     "name": "stderr",
     "output_type": "stream",
     "text": [
      "100%|████████████████████████████████████████████████████████████████████████████████████| 1/1 [00:04<00:00,  4.73s/it]"
     ]
    },
    {
     "name": "stdout",
     "output_type": "stream",
     "text": [
      "Error converting to PDF for Output/Xuanzhen Zhu_Universitat_de_Barcelona_information_management.docx: Word.Application.Quit\n",
      "Generated: Output/Xuanzhen Zhu_Universitat_de_Barcelona_finance.docx\n"
     ]
    },
    {
     "name": "stderr",
     "output_type": "stream",
     "text": [
      "\n",
      "100%|████████████████████████████████████████████████████████████████████████████████████| 1/1 [00:05<00:00,  5.95s/it]\n"
     ]
    },
    {
     "name": "stdout",
     "output_type": "stream",
     "text": [
      "Converted to PDF: Output/Xuanzhen Zhu_Universitat_de_Barcelona_finance.pdf\n",
      "Generated: Output/Xuanzhen Zhu_Purdue_University_economics.docx\n"
     ]
    },
    {
     "name": "stderr",
     "output_type": "stream",
     "text": [
      "100%|████████████████████████████████████████████████████████████████████████████████████| 1/1 [00:04<00:00,  4.76s/it]"
     ]
    },
    {
     "name": "stdout",
     "output_type": "stream",
     "text": [
      "Error converting to PDF for Output/Xuanzhen Zhu_Purdue_University_economics.docx: Word.Application.Quit\n",
      "Generated: Output/Xuanzhen Zhu_Purdue_University_information_management.docx\n"
     ]
    },
    {
     "name": "stderr",
     "output_type": "stream",
     "text": [
      "\n",
      "100%|████████████████████████████████████████████████████████████████████████████████████| 1/1 [00:05<00:00,  5.80s/it]\n"
     ]
    },
    {
     "name": "stdout",
     "output_type": "stream",
     "text": [
      "Converted to PDF: Output/Xuanzhen Zhu_Purdue_University_information_management.pdf\n",
      "Generated: Output/Xuanzhen Zhu_Purdue_University_finance.docx\n"
     ]
    },
    {
     "name": "stderr",
     "output_type": "stream",
     "text": [
      "100%|████████████████████████████████████████████████████████████████████████████████████| 1/1 [00:02<00:00,  2.03s/it]\n"
     ]
    },
    {
     "name": "stdout",
     "output_type": "stream",
     "text": [
      "Converted to PDF: Output/Xuanzhen Zhu_Purdue_University_finance.pdf\n",
      "Generated: Output/Xuanzhen Zhu_University_of_Sydney_economics.docx\n"
     ]
    },
    {
     "name": "stderr",
     "output_type": "stream",
     "text": [
      "100%|███████████████████████████████████████████████████████████████████████████████████| 1/1 [09:13<00:00, 553.07s/it]\n"
     ]
    },
    {
     "name": "stdout",
     "output_type": "stream",
     "text": [
      "Converted to PDF: Output/Xuanzhen Zhu_University_of_Sydney_economics.pdf\n",
      "Generated: Output/Xuanzhen Zhu_University_of_Sydney_information_management.docx\n"
     ]
    },
    {
     "name": "stderr",
     "output_type": "stream",
     "text": [
      "  0%|                                                                                            | 0/1 [00:01<?, ?it/s]"
     ]
    },
    {
     "name": "stdout",
     "output_type": "stream",
     "text": [
      "Error converting to PDF for Output/Xuanzhen Zhu_University_of_Sydney_information_management.docx: Open.SaveAs\n"
     ]
    },
    {
     "name": "stderr",
     "output_type": "stream",
     "text": [
      "\n"
     ]
    },
    {
     "name": "stdout",
     "output_type": "stream",
     "text": [
      "Generated: Output/Xuanzhen Zhu_University_of_Sydney_finance.docx\n"
     ]
    },
    {
     "name": "stderr",
     "output_type": "stream",
     "text": [
      "  0%|                                                                                            | 0/1 [00:02<?, ?it/s]"
     ]
    },
    {
     "name": "stdout",
     "output_type": "stream",
     "text": [
      "Error converting to PDF for Output/Xuanzhen Zhu_University_of_Sydney_finance.docx: Open.SaveAs\n",
      "Generated: Output/Xuanzhen Zhu_George_Washington_University_economics.docx\n"
     ]
    },
    {
     "name": "stderr",
     "output_type": "stream",
     "text": [
      "\n",
      "  0%|                                                                                            | 0/1 [00:06<?, ?it/s]"
     ]
    },
    {
     "name": "stdout",
     "output_type": "stream",
     "text": [
      "Error converting to PDF for Output/Xuanzhen Zhu_George_Washington_University_economics.docx: Open.SaveAs\n",
      "Generated: Output/Xuanzhen Zhu_George_Washington_University_information_management.docx\n"
     ]
    },
    {
     "name": "stderr",
     "output_type": "stream",
     "text": [
      "\n",
      "100%|████████████████████████████████████████████████████████████████████████████████████| 1/1 [00:02<00:00,  2.18s/it]\n"
     ]
    },
    {
     "name": "stdout",
     "output_type": "stream",
     "text": [
      "Converted to PDF: Output/Xuanzhen Zhu_George_Washington_University_information_management.pdf\n",
      "Generated: Output/Xuanzhen Zhu_George_Washington_University_finance.docx\n"
     ]
    },
    {
     "name": "stderr",
     "output_type": "stream",
     "text": [
      "  0%|                                                                                            | 0/1 [00:01<?, ?it/s]"
     ]
    },
    {
     "name": "stdout",
     "output_type": "stream",
     "text": [
      "Error converting to PDF for Output/Xuanzhen Zhu_George_Washington_University_finance.docx: Open.SaveAs\n",
      "\n",
      "Successfully generated 90 Statement of Purpose documents.\n",
      "\n",
      "Warning: Expected 90 documents, but found 91.\n"
     ]
    },
    {
     "name": "stderr",
     "output_type": "stream",
     "text": [
      "\n"
     ]
    },
    {
     "ename": "NameError",
     "evalue": "name 'skills_excel' is not defined",
     "output_type": "error",
     "traceback": [
      "\u001b[1;31m---------------------------------------------------------------------------\u001b[0m",
      "\u001b[1;31mNameError\u001b[0m                                 Traceback (most recent call last)",
      "Cell \u001b[1;32mIn[10], line 13\u001b[0m\n\u001b[0;32m     10\u001b[0m     \u001b[38;5;28mprint\u001b[39m(\u001b[38;5;124mf\u001b[39m\u001b[38;5;124m\"\u001b[39m\u001b[38;5;130;01m\\n\u001b[39;00m\u001b[38;5;124mWarning: Expected 90 documents, but found \u001b[39m\u001b[38;5;132;01m{\u001b[39;00m\u001b[38;5;28mlen\u001b[39m(generated_files)\u001b[38;5;132;01m}\u001b[39;00m\u001b[38;5;124m.\u001b[39m\u001b[38;5;124m\"\u001b[39m)\n\u001b[0;32m     12\u001b[0m \u001b[38;5;66;03m# 步骤10：将生成的文件夹上传到GitHub\u001b[39;00m\n\u001b[1;32m---> 13\u001b[0m \u001b[38;5;28mprint\u001b[39m(\u001b[38;5;124mf\u001b[39m\u001b[38;5;124m\"\u001b[39m\u001b[38;5;130;01m\\n\u001b[39;00m\u001b[38;5;124m请将 \u001b[39m\u001b[38;5;124m'\u001b[39m\u001b[38;5;132;01m{\u001b[39;00moutput_directory\u001b[38;5;132;01m}\u001b[39;00m\u001b[38;5;124m'\u001b[39m\u001b[38;5;124m 文件夹中的所有文件，以及 \u001b[39m\u001b[38;5;124m'\u001b[39m\u001b[38;5;132;01m{\u001b[39;00mtemplate_file\u001b[38;5;132;01m}\u001b[39;00m\u001b[38;5;124m'\u001b[39m\u001b[38;5;124m, \u001b[39m\u001b[38;5;124m'\u001b[39m\u001b[38;5;132;01m{\u001b[39;00muniversity_excel\u001b[38;5;132;01m}\u001b[39;00m\u001b[38;5;124m'\u001b[39m\u001b[38;5;124m, \u001b[39m\u001b[38;5;124m'\u001b[39m\u001b[38;5;132;01m{\u001b[39;00mresearch_excel\u001b[38;5;132;01m}\u001b[39;00m\u001b[38;5;124m'\u001b[39m\u001b[38;5;124m, \u001b[39m\u001b[38;5;124m'\u001b[39m\u001b[38;5;132;01m{\u001b[39;00mskills_excel\u001b[38;5;132;01m}\u001b[39;00m\u001b[38;5;124m'\u001b[39m\u001b[38;5;124m, \u001b[39m\u001b[38;5;124m'\u001b[39m\u001b[38;5;132;01m{\u001b[39;00mos\u001b[38;5;241m.\u001b[39mpath\u001b[38;5;241m.\u001b[39mbasename(\u001b[38;5;18m__file__\u001b[39m)\u001b[38;5;132;01m}\u001b[39;00m\u001b[38;5;124m'\u001b[39m\u001b[38;5;124m 上传到你的GitHub仓库。\u001b[39m\u001b[38;5;124m\"\u001b[39m)\n",
      "\u001b[1;31mNameError\u001b[0m: name 'skills_excel' is not defined"
     ]
    }
   ],
   "source": [
    "# 调用函数生成SOP\n",
    "generate_sop(template_file, output_directory, my_applicant_info, universities, research_info)\n",
    "\n",
    "# 检查生成的文档数量是否为90 (30大学 * 3研究领域 = 90)\n",
    "# 假设每次运行都是从头生成\n",
    "generated_files = [f for f in os.listdir(output_directory) if f.endswith('.docx')]\n",
    "if len(generated_files) == 90:\n",
    "    print(\"\\nVerification: Successfully generated 90 copies of statement of purpose!\")\n",
    "else:\n",
    "    print(f\"\\nWarning: Expected 90 documents, but found {len(generated_files)}.\")\n",
    "\n",
    "# 步骤10：将生成的文件夹上传到GitHub\n",
    "#print(f\"\\n请将 '{output_directory}' 文件夹中的所有文件，以及 '{template_file}', '{university_excel}', '{research_excel}', '{skills_excel}', '{os.path.basename(__file__)}' 上传到你的GitHub仓库。\")\n"
   ]
  },
  {
   "cell_type": "code",
   "execution_count": null,
   "id": "c63cea21-28bd-4b4f-b86a-5212b246995f",
   "metadata": {},
   "outputs": [],
   "source": []
  }
 ],
 "metadata": {
  "kernelspec": {
   "display_name": "Python (MyNewEnv)",
   "language": "python",
   "name": "my_new_env"
  },
  "language_info": {
   "codemirror_mode": {
    "name": "ipython",
    "version": 3
   },
   "file_extension": ".py",
   "mimetype": "text/x-python",
   "name": "python",
   "nbconvert_exporter": "python",
   "pygments_lexer": "ipython3",
   "version": "3.9.23"
  }
 },
 "nbformat": 4,
 "nbformat_minor": 5
}
