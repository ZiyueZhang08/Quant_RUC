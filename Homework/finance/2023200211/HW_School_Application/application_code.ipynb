{
 "cells": [
  {
   "cell_type": "code",
   "execution_count": 1,
   "id": "38e1c944-032d-491b-9d10-2dcce2f577ff",
   "metadata": {},
   "outputs": [
    {
     "name": "stdout",
     "output_type": "stream",
     "text": [
      "Looking in indexes: https://pypi.tuna.tsinghua.edu.cn/simple\n",
      "Requirement already satisfied: docxtpl in d:\\program\\anaconda\\lib\\site-packages (0.20.1)\n",
      "Collecting docx2pdf\n",
      "  Downloading https://pypi.tuna.tsinghua.edu.cn/packages/53/4f/1155781308281e67f80b829738a29e5354e03664c62311f753056afc873b/docx2pdf-0.1.8-py3-none-any.whl (6.7 kB)\n",
      "Requirement already satisfied: python-docx in d:\\program\\anaconda\\lib\\site-packages (1.2.0)\n",
      "Requirement already satisfied: pandas in d:\\program\\anaconda\\lib\\site-packages (2.2.3)\n",
      "Requirement already satisfied: openpyxl in d:\\program\\anaconda\\lib\\site-packages (3.1.5)\n",
      "Requirement already satisfied: docxcompose in d:\\program\\anaconda\\lib\\site-packages (from docxtpl) (1.4.0)\n",
      "Requirement already satisfied: jinja2 in d:\\program\\anaconda\\lib\\site-packages (from docxtpl) (3.1.6)\n",
      "Requirement already satisfied: lxml in d:\\program\\anaconda\\lib\\site-packages (from docxtpl) (5.3.0)\n",
      "Requirement already satisfied: pywin32>=227 in d:\\program\\anaconda\\lib\\site-packages (from docx2pdf) (308)\n",
      "Requirement already satisfied: tqdm>=4.41.0 in d:\\program\\anaconda\\lib\\site-packages (from docx2pdf) (4.67.1)\n",
      "Requirement already satisfied: typing_extensions>=4.9.0 in d:\\program\\anaconda\\lib\\site-packages (from python-docx) (4.12.2)\n",
      "Requirement already satisfied: numpy>=1.26.0 in d:\\program\\anaconda\\lib\\site-packages (from pandas) (2.1.3)\n",
      "Requirement already satisfied: python-dateutil>=2.8.2 in d:\\program\\anaconda\\lib\\site-packages (from pandas) (2.9.0.post0)\n",
      "Requirement already satisfied: pytz>=2020.1 in d:\\program\\anaconda\\lib\\site-packages (from pandas) (2024.1)\n",
      "Requirement already satisfied: tzdata>=2022.7 in d:\\program\\anaconda\\lib\\site-packages (from pandas) (2025.2)\n",
      "Requirement already satisfied: et-xmlfile in d:\\program\\anaconda\\lib\\site-packages (from openpyxl) (1.1.0)\n",
      "Requirement already satisfied: six>=1.5 in d:\\program\\anaconda\\lib\\site-packages (from python-dateutil>=2.8.2->pandas) (1.17.0)\n",
      "Requirement already satisfied: colorama in d:\\program\\anaconda\\lib\\site-packages (from tqdm>=4.41.0->docx2pdf) (0.4.6)\n",
      "Requirement already satisfied: setuptools in d:\\program\\anaconda\\lib\\site-packages (from docxcompose->docxtpl) (72.1.0)\n",
      "Requirement already satisfied: babel in d:\\program\\anaconda\\lib\\site-packages (from docxcompose->docxtpl) (2.16.0)\n",
      "Requirement already satisfied: MarkupSafe>=2.0 in d:\\program\\anaconda\\lib\\site-packages (from jinja2->docxtpl) (3.0.2)\n",
      "Installing collected packages: docx2pdf\n",
      "Successfully installed docx2pdf-0.1.8\n",
      "Note: you may need to restart the kernel to use updated packages.\n"
     ]
    }
   ],
   "source": [
    "pip install docxtpl docx2pdf python-docx pandas openpyxl"
   ]
  },
  {
   "cell_type": "code",
   "execution_count": 2,
   "id": "1738555b-0a69-4405-8e0a-1129ceb3ccf3",
   "metadata": {},
   "outputs": [],
   "source": [
    "from docxtpl import DocxTemplate\n",
    "from docx2pdf import convert\n",
    "import pandas as pd\n",
    "import os"
   ]
  },
  {
   "cell_type": "code",
   "execution_count": 3,
   "id": "669d4a67-8238-4c3c-b526-08634a5b1b39",
   "metadata": {},
   "outputs": [],
   "source": [
    "# 读取Excel数据\n",
    "# 读取研究领域详情（research_area/journals/skills/job）\n",
    "detail_df = pd.read_excel(\"detaillist.xlsx\")\n",
    "# 读取大学列表（university）\n",
    "university_df = pd.read_excel(\"universitylist.xlsx\")"
   ]
  },
  {
   "cell_type": "code",
   "execution_count": 4,
   "id": "573d4bb2-6b91-4f2c-96a2-e304112cc945",
   "metadata": {},
   "outputs": [],
   "source": [
    "# 转换为字典列表（便于遍历）\n",
    "detail_list = detail_df.to_dict(\"records\")  # 3个研究领域的字典列表\n",
    "university_list = university_df[\"university\"].tolist()  # 30所大学的字符串列表"
   ]
  },
  {
   "cell_type": "code",
   "execution_count": 5,
   "id": "d8c86592-e542-4338-b371-3c4430464c7d",
   "metadata": {},
   "outputs": [
    {
     "data": {
      "text/plain": [
       "[{'research_area': 'economics',\n",
       "  'journals': 'American Economic Review, Annals of Statistics and Econometrica',\n",
       "  'job': 'quant researcher',\n",
       "  'skills': 'Python, SQL, Math, PowerBI, Tableau'},\n",
       " {'research_area': 'finance',\n",
       "  'journals': 'Journal of Finance, Journal of Financial Economics and Review of Financial Studies',\n",
       "  'job': 'financial analyst',\n",
       "  'skills': 'auditing, accounting, English'},\n",
       " {'research_area': 'accounting',\n",
       "  'journals': 'Accounting Review, Journal of Accounting and Economics and Journal of Accounting Research',\n",
       "  'job': 'accountant',\n",
       "  'skills': 'project management, financial analysis, financial reporting'}]"
      ]
     },
     "execution_count": 5,
     "metadata": {},
     "output_type": "execute_result"
    }
   ],
   "source": [
    "detail_list"
   ]
  },
  {
   "cell_type": "code",
   "execution_count": 6,
   "id": "a53e92fb-815a-4ed1-98b3-379673dfbf32",
   "metadata": {},
   "outputs": [
    {
     "data": {
      "text/plain": [
       "['Harvard University',\n",
       " 'Massachusetts Institute of Technology',\n",
       " 'University of California-Berkeley',\n",
       " 'University of Chicago',\n",
       " 'Paris School of Economics',\n",
       " 'Princeton University',\n",
       " 'Stanford University',\n",
       " 'Yale University',\n",
       " 'Toulouse School of Economics',\n",
       " 'Oxford University',\n",
       " 'Columbia University',\n",
       " 'University of Cambridge',\n",
       " 'Boston College',\n",
       " 'University of Toronto',\n",
       " 'University of Warwick',\n",
       " 'Cornell University',\n",
       " 'University of California-Davis',\n",
       " 'University of Nottingham',\n",
       " 'Johns Hopkins University',\n",
       " 'University of California-Irvine',\n",
       " 'University of Queensland',\n",
       " 'University of Virginia',\n",
       " 'Georgetown University',\n",
       " 'University of Minnesota',\n",
       " 'New York University',\n",
       " 'University of California-Santa Barbara',\n",
       " 'Washington University in St. Louis',\n",
       " 'Pennsylvania State University',\n",
       " 'University of Colorado',\n",
       " 'University of California-Santa Cruz']"
      ]
     },
     "execution_count": 6,
     "metadata": {},
     "output_type": "execute_result"
    }
   ],
   "source": [
    "university_list"
   ]
  },
  {
   "cell_type": "code",
   "execution_count": 7,
   "id": "ad207ce9-6423-4361-8cc3-1aee74a90c34",
   "metadata": {},
   "outputs": [],
   "source": [
    "# 加载Word模板（仅加载1次，提升效率）\n",
    "doc = DocxTemplate(\"template.docx\")"
   ]
  },
  {
   "cell_type": "code",
   "execution_count": 12,
   "id": "798c9f76-abe7-494c-a85a-a192f10ecdfe",
   "metadata": {
    "scrolled": true
   },
   "outputs": [
    {
     "name": "stdout",
     "output_type": "stream",
     "text": [
      "已生成 1/30 | 研究领域：economics | 大学：Harvard University | 路径：E:\\aifianceHW2\\economics\\Harvard_University_economics.docx\n",
      "已生成 2/30 | 研究领域：economics | 大学：Massachusetts Institute of Technology | 路径：E:\\aifianceHW2\\economics\\Massachusetts_Institute_of_Technology_economics.docx\n",
      "已生成 3/30 | 研究领域：economics | 大学：University of California-Berkeley | 路径：E:\\aifianceHW2\\economics\\University_of_California-Berkeley_economics.docx\n",
      "已生成 4/30 | 研究领域：economics | 大学：University of Chicago | 路径：E:\\aifianceHW2\\economics\\University_of_Chicago_economics.docx\n",
      "已生成 5/30 | 研究领域：economics | 大学：Paris School of Economics | 路径：E:\\aifianceHW2\\economics\\Paris_School_of_Economics_economics.docx\n",
      "已生成 6/30 | 研究领域：economics | 大学：Princeton University | 路径：E:\\aifianceHW2\\economics\\Princeton_University_economics.docx\n",
      "已生成 7/30 | 研究领域：economics | 大学：Stanford University | 路径：E:\\aifianceHW2\\economics\\Stanford_University_economics.docx\n",
      "已生成 8/30 | 研究领域：economics | 大学：Yale University | 路径：E:\\aifianceHW2\\economics\\Yale_University_economics.docx\n",
      "已生成 9/30 | 研究领域：economics | 大学：Toulouse School of Economics | 路径：E:\\aifianceHW2\\economics\\Toulouse_School_of_Economics_economics.docx\n",
      "已生成 10/30 | 研究领域：economics | 大学：Oxford University | 路径：E:\\aifianceHW2\\economics\\Oxford_University_economics.docx\n",
      "已生成 11/30 | 研究领域：economics | 大学：Columbia University | 路径：E:\\aifianceHW2\\economics\\Columbia_University_economics.docx\n",
      "已生成 12/30 | 研究领域：economics | 大学：University of Cambridge | 路径：E:\\aifianceHW2\\economics\\University_of_Cambridge_economics.docx\n",
      "已生成 13/30 | 研究领域：economics | 大学：Boston College | 路径：E:\\aifianceHW2\\economics\\Boston_College_economics.docx\n",
      "已生成 14/30 | 研究领域：economics | 大学：University of Toronto | 路径：E:\\aifianceHW2\\economics\\University_of_Toronto_economics.docx\n",
      "已生成 15/30 | 研究领域：economics | 大学：University of Warwick | 路径：E:\\aifianceHW2\\economics\\University_of_Warwick_economics.docx\n",
      "已生成 16/30 | 研究领域：economics | 大学：Cornell University | 路径：E:\\aifianceHW2\\economics\\Cornell_University_economics.docx\n",
      "已生成 17/30 | 研究领域：economics | 大学：University of California-Davis | 路径：E:\\aifianceHW2\\economics\\University_of_California-Davis_economics.docx\n",
      "已生成 18/30 | 研究领域：economics | 大学：University of Nottingham | 路径：E:\\aifianceHW2\\economics\\University_of_Nottingham_economics.docx\n",
      "已生成 19/30 | 研究领域：economics | 大学：Johns Hopkins University | 路径：E:\\aifianceHW2\\economics\\Johns_Hopkins_University_economics.docx\n",
      "已生成 20/30 | 研究领域：economics | 大学：University of California-Irvine | 路径：E:\\aifianceHW2\\economics\\University_of_California-Irvine_economics.docx\n",
      "已生成 21/30 | 研究领域：economics | 大学：University of Queensland | 路径：E:\\aifianceHW2\\economics\\University_of_Queensland_economics.docx\n",
      "已生成 22/30 | 研究领域：economics | 大学：University of Virginia | 路径：E:\\aifianceHW2\\economics\\University_of_Virginia_economics.docx\n",
      "已生成 23/30 | 研究领域：economics | 大学：Georgetown University | 路径：E:\\aifianceHW2\\economics\\Georgetown_University_economics.docx\n",
      "已生成 24/30 | 研究领域：economics | 大学：University of Minnesota | 路径：E:\\aifianceHW2\\economics\\University_of_Minnesota_economics.docx\n",
      "已生成 25/30 | 研究领域：economics | 大学：New York University | 路径：E:\\aifianceHW2\\economics\\New_York_University_economics.docx\n",
      "已生成 26/30 | 研究领域：economics | 大学：University of California-Santa Barbara | 路径：E:\\aifianceHW2\\economics\\University_of_California-Santa_Barbara_economics.docx\n",
      "已生成 27/30 | 研究领域：economics | 大学：Washington University in St. Louis | 路径：E:\\aifianceHW2\\economics\\Washington_University_in_St._Louis_economics.docx\n",
      "已生成 28/30 | 研究领域：economics | 大学：Pennsylvania State University | 路径：E:\\aifianceHW2\\economics\\Pennsylvania_State_University_economics.docx\n",
      "已生成 29/30 | 研究领域：economics | 大学：University of Colorado | 路径：E:\\aifianceHW2\\economics\\University_of_Colorado_economics.docx\n",
      "已生成 30/30 | 研究领域：economics | 大学：University of California-Santa Cruz | 路径：E:\\aifianceHW2\\economics\\University_of_California-Santa_Cruz_economics.docx\n",
      "已生成 1/30 | 研究领域：finance | 大学：Harvard University | 路径：E:\\aifianceHW2\\finance\\Harvard_University_finance.docx\n",
      "已生成 2/30 | 研究领域：finance | 大学：Massachusetts Institute of Technology | 路径：E:\\aifianceHW2\\finance\\Massachusetts_Institute_of_Technology_finance.docx\n",
      "已生成 3/30 | 研究领域：finance | 大学：University of California-Berkeley | 路径：E:\\aifianceHW2\\finance\\University_of_California-Berkeley_finance.docx\n",
      "已生成 4/30 | 研究领域：finance | 大学：University of Chicago | 路径：E:\\aifianceHW2\\finance\\University_of_Chicago_finance.docx\n",
      "已生成 5/30 | 研究领域：finance | 大学：Paris School of Economics | 路径：E:\\aifianceHW2\\finance\\Paris_School_of_Economics_finance.docx\n",
      "已生成 6/30 | 研究领域：finance | 大学：Princeton University | 路径：E:\\aifianceHW2\\finance\\Princeton_University_finance.docx\n",
      "已生成 7/30 | 研究领域：finance | 大学：Stanford University | 路径：E:\\aifianceHW2\\finance\\Stanford_University_finance.docx\n",
      "已生成 8/30 | 研究领域：finance | 大学：Yale University | 路径：E:\\aifianceHW2\\finance\\Yale_University_finance.docx\n",
      "已生成 9/30 | 研究领域：finance | 大学：Toulouse School of Economics | 路径：E:\\aifianceHW2\\finance\\Toulouse_School_of_Economics_finance.docx\n",
      "已生成 10/30 | 研究领域：finance | 大学：Oxford University | 路径：E:\\aifianceHW2\\finance\\Oxford_University_finance.docx\n",
      "已生成 11/30 | 研究领域：finance | 大学：Columbia University | 路径：E:\\aifianceHW2\\finance\\Columbia_University_finance.docx\n",
      "已生成 12/30 | 研究领域：finance | 大学：University of Cambridge | 路径：E:\\aifianceHW2\\finance\\University_of_Cambridge_finance.docx\n",
      "已生成 13/30 | 研究领域：finance | 大学：Boston College | 路径：E:\\aifianceHW2\\finance\\Boston_College_finance.docx\n",
      "已生成 14/30 | 研究领域：finance | 大学：University of Toronto | 路径：E:\\aifianceHW2\\finance\\University_of_Toronto_finance.docx\n",
      "已生成 15/30 | 研究领域：finance | 大学：University of Warwick | 路径：E:\\aifianceHW2\\finance\\University_of_Warwick_finance.docx\n",
      "已生成 16/30 | 研究领域：finance | 大学：Cornell University | 路径：E:\\aifianceHW2\\finance\\Cornell_University_finance.docx\n",
      "已生成 17/30 | 研究领域：finance | 大学：University of California-Davis | 路径：E:\\aifianceHW2\\finance\\University_of_California-Davis_finance.docx\n",
      "已生成 18/30 | 研究领域：finance | 大学：University of Nottingham | 路径：E:\\aifianceHW2\\finance\\University_of_Nottingham_finance.docx\n",
      "已生成 19/30 | 研究领域：finance | 大学：Johns Hopkins University | 路径：E:\\aifianceHW2\\finance\\Johns_Hopkins_University_finance.docx\n",
      "已生成 20/30 | 研究领域：finance | 大学：University of California-Irvine | 路径：E:\\aifianceHW2\\finance\\University_of_California-Irvine_finance.docx\n",
      "已生成 21/30 | 研究领域：finance | 大学：University of Queensland | 路径：E:\\aifianceHW2\\finance\\University_of_Queensland_finance.docx\n",
      "已生成 22/30 | 研究领域：finance | 大学：University of Virginia | 路径：E:\\aifianceHW2\\finance\\University_of_Virginia_finance.docx\n",
      "已生成 23/30 | 研究领域：finance | 大学：Georgetown University | 路径：E:\\aifianceHW2\\finance\\Georgetown_University_finance.docx\n",
      "已生成 24/30 | 研究领域：finance | 大学：University of Minnesota | 路径：E:\\aifianceHW2\\finance\\University_of_Minnesota_finance.docx\n",
      "已生成 25/30 | 研究领域：finance | 大学：New York University | 路径：E:\\aifianceHW2\\finance\\New_York_University_finance.docx\n",
      "已生成 26/30 | 研究领域：finance | 大学：University of California-Santa Barbara | 路径：E:\\aifianceHW2\\finance\\University_of_California-Santa_Barbara_finance.docx\n",
      "已生成 27/30 | 研究领域：finance | 大学：Washington University in St. Louis | 路径：E:\\aifianceHW2\\finance\\Washington_University_in_St._Louis_finance.docx\n",
      "已生成 28/30 | 研究领域：finance | 大学：Pennsylvania State University | 路径：E:\\aifianceHW2\\finance\\Pennsylvania_State_University_finance.docx\n",
      "已生成 29/30 | 研究领域：finance | 大学：University of Colorado | 路径：E:\\aifianceHW2\\finance\\University_of_Colorado_finance.docx\n",
      "已生成 30/30 | 研究领域：finance | 大学：University of California-Santa Cruz | 路径：E:\\aifianceHW2\\finance\\University_of_California-Santa_Cruz_finance.docx\n",
      "已生成 1/30 | 研究领域：accounting | 大学：Harvard University | 路径：E:\\aifianceHW2\\accounting\\Harvard_University_accounting.docx\n",
      "已生成 2/30 | 研究领域：accounting | 大学：Massachusetts Institute of Technology | 路径：E:\\aifianceHW2\\accounting\\Massachusetts_Institute_of_Technology_accounting.docx\n",
      "已生成 3/30 | 研究领域：accounting | 大学：University of California-Berkeley | 路径：E:\\aifianceHW2\\accounting\\University_of_California-Berkeley_accounting.docx\n",
      "已生成 4/30 | 研究领域：accounting | 大学：University of Chicago | 路径：E:\\aifianceHW2\\accounting\\University_of_Chicago_accounting.docx\n",
      "已生成 5/30 | 研究领域：accounting | 大学：Paris School of Economics | 路径：E:\\aifianceHW2\\accounting\\Paris_School_of_Economics_accounting.docx\n",
      "已生成 6/30 | 研究领域：accounting | 大学：Princeton University | 路径：E:\\aifianceHW2\\accounting\\Princeton_University_accounting.docx\n",
      "已生成 7/30 | 研究领域：accounting | 大学：Stanford University | 路径：E:\\aifianceHW2\\accounting\\Stanford_University_accounting.docx\n",
      "已生成 8/30 | 研究领域：accounting | 大学：Yale University | 路径：E:\\aifianceHW2\\accounting\\Yale_University_accounting.docx\n",
      "已生成 9/30 | 研究领域：accounting | 大学：Toulouse School of Economics | 路径：E:\\aifianceHW2\\accounting\\Toulouse_School_of_Economics_accounting.docx\n",
      "已生成 10/30 | 研究领域：accounting | 大学：Oxford University | 路径：E:\\aifianceHW2\\accounting\\Oxford_University_accounting.docx\n",
      "已生成 11/30 | 研究领域：accounting | 大学：Columbia University | 路径：E:\\aifianceHW2\\accounting\\Columbia_University_accounting.docx\n",
      "已生成 12/30 | 研究领域：accounting | 大学：University of Cambridge | 路径：E:\\aifianceHW2\\accounting\\University_of_Cambridge_accounting.docx\n",
      "已生成 13/30 | 研究领域：accounting | 大学：Boston College | 路径：E:\\aifianceHW2\\accounting\\Boston_College_accounting.docx\n",
      "已生成 14/30 | 研究领域：accounting | 大学：University of Toronto | 路径：E:\\aifianceHW2\\accounting\\University_of_Toronto_accounting.docx\n",
      "已生成 15/30 | 研究领域：accounting | 大学：University of Warwick | 路径：E:\\aifianceHW2\\accounting\\University_of_Warwick_accounting.docx\n",
      "已生成 16/30 | 研究领域：accounting | 大学：Cornell University | 路径：E:\\aifianceHW2\\accounting\\Cornell_University_accounting.docx\n",
      "已生成 17/30 | 研究领域：accounting | 大学：University of California-Davis | 路径：E:\\aifianceHW2\\accounting\\University_of_California-Davis_accounting.docx\n",
      "已生成 18/30 | 研究领域：accounting | 大学：University of Nottingham | 路径：E:\\aifianceHW2\\accounting\\University_of_Nottingham_accounting.docx\n",
      "已生成 19/30 | 研究领域：accounting | 大学：Johns Hopkins University | 路径：E:\\aifianceHW2\\accounting\\Johns_Hopkins_University_accounting.docx\n",
      "已生成 20/30 | 研究领域：accounting | 大学：University of California-Irvine | 路径：E:\\aifianceHW2\\accounting\\University_of_California-Irvine_accounting.docx\n",
      "已生成 21/30 | 研究领域：accounting | 大学：University of Queensland | 路径：E:\\aifianceHW2\\accounting\\University_of_Queensland_accounting.docx\n",
      "已生成 22/30 | 研究领域：accounting | 大学：University of Virginia | 路径：E:\\aifianceHW2\\accounting\\University_of_Virginia_accounting.docx\n",
      "已生成 23/30 | 研究领域：accounting | 大学：Georgetown University | 路径：E:\\aifianceHW2\\accounting\\Georgetown_University_accounting.docx\n",
      "已生成 24/30 | 研究领域：accounting | 大学：University of Minnesota | 路径：E:\\aifianceHW2\\accounting\\University_of_Minnesota_accounting.docx\n",
      "已生成 25/30 | 研究领域：accounting | 大学：New York University | 路径：E:\\aifianceHW2\\accounting\\New_York_University_accounting.docx\n",
      "已生成 26/30 | 研究领域：accounting | 大学：University of California-Santa Barbara | 路径：E:\\aifianceHW2\\accounting\\University_of_California-Santa_Barbara_accounting.docx\n",
      "已生成 27/30 | 研究领域：accounting | 大学：Washington University in St. Louis | 路径：E:\\aifianceHW2\\accounting\\Washington_University_in_St._Louis_accounting.docx\n",
      "已生成 28/30 | 研究领域：accounting | 大学：Pennsylvania State University | 路径：E:\\aifianceHW2\\accounting\\Pennsylvania_State_University_accounting.docx\n",
      "已生成 29/30 | 研究领域：accounting | 大学：University of Colorado | 路径：E:\\aifianceHW2\\accounting\\University_of_Colorado_accounting.docx\n",
      "已生成 30/30 | 研究领域：accounting | 大学：University of California-Santa Cruz | 路径：E:\\aifianceHW2\\accounting\\University_of_California-Santa_Cruz_accounting.docx\n",
      "\n",
      "批量生成完成！共生成 90 份文书，保存路径：E:\u0007ifianceHW2\n"
     ]
    }
   ],
   "source": [
    "# 双重遍历：先遍历研究领域，再遍历每所大学\n",
    "for detail in detail_list:\n",
    "    # 提取当前研究领域的关键信息\n",
    "    current_area = detail[\"research_area\"]\n",
    "    current_journals = detail[\"journals\"]\n",
    "    current_skills = detail[\"skills\"]\n",
    "    current_job = detail[\"job\"]\n",
    "\n",
    "    # 为每个研究领域创建单独的文件夹（避免文件混乱）\n",
    "    area_output_dir = os.path.join(r\"E:\\aifianceHW2\", current_area)\n",
    "    os.makedirs(area_output_dir, exist_ok=True)  # 文件夹不存在则创建\n",
    "\n",
    "    # 遍历每所大学，生成对应文书\n",
    "    for idx, university in enumerate(university_list, 1):\n",
    "        # 定义当前文书的替换变量（与模板{{变量名}}完全对应）\n",
    "        context = {\n",
    "            \"research_area\": current_area,\n",
    "            \"university\": university,\n",
    "            \"journals\": current_journals,\n",
    "            \"skills\": current_skills,\n",
    "            \"job\": current_job\n",
    "        }\n",
    "\n",
    "        # 4. 渲染模板（替换变量）并保存\n",
    "        doc.render(context)  # 替换当前文书的变量\n",
    "        # 定义输出文件名（格式：大学名称-研究领域.docx，避免重名）\n",
    "        output_filename = f\"{university.replace(' ', '_')}_{current_area}.docx\"\n",
    "        output_path = os.path.join(area_output_dir, output_filename)\n",
    "        # 保存文书\n",
    "        doc.save(output_path)     \n",
    "        #word转PDF\n",
    "        pdf_output_path = output_path.replace(\".docx\", \".pdf\")\n",
    "        convert(output_path, pdf_output_path)\n",
    "\n",
    "        # 打印进度（方便查看生成状态）\n",
    "        print(f\"已生成 {idx}/30 | 研究领域：{current_area} | 大学：{university} | 路径：{output_path}\")\n",
    "\n",
    "print(f\"\\n批量生成完成！共生成 {len(detail_list) * len(university_list)} 份文书，保存路径：E:\\aifianceHW2\")"
   ]
  },
  {
   "cell_type": "code",
   "execution_count": null,
   "id": "b8158723-b5a3-471c-bc48-af42ebf1aeec",
   "metadata": {},
   "outputs": [],
   "source": []
  }
 ],
 "metadata": {
  "kernelspec": {
   "display_name": "Python 3 (ipykernel)",
   "language": "python",
   "name": "python3"
  },
  "language_info": {
   "codemirror_mode": {
    "name": "ipython",
    "version": 3
   },
   "file_extension": ".py",
   "mimetype": "text/x-python",
   "name": "python",
   "nbconvert_exporter": "python",
   "pygments_lexer": "ipython3",
   "version": "3.13.5"
  }
 },
 "nbformat": 4,
 "nbformat_minor": 5
}
