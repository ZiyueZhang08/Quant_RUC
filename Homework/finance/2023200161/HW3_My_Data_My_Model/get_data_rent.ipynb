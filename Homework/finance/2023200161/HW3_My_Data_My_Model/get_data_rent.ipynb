{
 "cells": [
  {
   "cell_type": "code",
   "execution_count": 1,
   "id": "46f1b440-0e64-4026-a820-046fc3e4f62c",
   "metadata": {},
   "outputs": [],
   "source": [
    "from selenium import webdriver\n",
    "from selenium.webdriver.chrome.service import Service\n",
    "from selenium.webdriver.common.by import By\n",
    "from selenium.webdriver.support.ui import WebDriverWait\n",
    "from selenium.webdriver.support import expected_conditions as EC\n",
    "import time\n",
    "import pandas as pd\n",
    "import os\n",
    "from webdriver_manager.chrome import ChromeDriverManager\n",
    "\n",
    "#Resolve issues related to different versions of Google\n",
    "service = Service(ChromeDriverManager().install())\n",
    "driver = webdriver.Chrome(service=service)\n",
    "#adress\n",
    "url = \"https://sh.zu.fang.com/house-a019/\"\n",
    "driver.get(url)"
   ]
  },
  {
   "cell_type": "code",
   "execution_count": 2,
   "id": "2e4d404c-f6c4-4cd7-b24d-28d76298b12e",
   "metadata": {},
   "outputs": [
    {
     "name": "stdout",
     "output_type": "stream",
     "text": [
      "page1\n",
      "page2\n",
      "page3\n",
      "page4\n",
      "page5\n",
      "page6\n",
      "page7\n",
      "page8\n",
      "page9\n",
      "page10\n",
      "page11\n",
      "page12\n",
      "page13\n",
      "page14\n",
      "page15\n",
      "page16\n",
      "page17\n",
      "page18\n",
      "page19\n",
      "page20\n",
      "successfully savedC:\\Users\\Administrator\\Desktop\\徐家汇租房.xlsx\n"
     ]
    }
   ],
   "source": [
    "data_list = []\n",
    "\n",
    "desktop_path = os.path.join(os.path.expanduser(\"~\"), \"Desktop\")\n",
    "os.makedirs(desktop_path, exist_ok=True)\n",
    "file_path = os.path.join(desktop_path, \"徐家汇租房.xlsx\")\n",
    "\n",
    "for page in range(20):\n",
    "    print(f\"page{page+1}\")\n",
    "    WebDriverWait(driver, 15).until(\n",
    "        EC.presence_of_element_located((By.CLASS_NAME, \"houseList\"))\n",
    "    )\n",
    "    time.sleep(2)\n",
    "    houses = driver.find_elements(By.CSS_SELECTOR, \"div.houseList > dl.list.hiddenMap.rel\")\n",
    "    for house in houses:\n",
    "        try:\n",
    "            area_elem = house.find_element(By.CSS_SELECTOR, \"p.font15.mt12.bold\")\n",
    "            area_parts = area_elem.text.split('|')\n",
    "            area = area_parts[2].strip()\n",
    "            \n",
    "            address_elem = house.find_element(By.CSS_SELECTOR, \"p.gray6.mt12\")\n",
    "            address = address_elem.text\n",
    "            \n",
    "            price_elem = house.find_element(By.CSS_SELECTOR, \"p.mt5.alingC\")\n",
    "            price = price_elem.text\n",
    "            \n",
    "            data_list.append({\n",
    "                \"面积\": area,\n",
    "                \"地址\": address,\n",
    "                \"价格\": price\n",
    "            })\n",
    "        except Exception as e:\n",
    "            print(f\"error: {e}\")\n",
    "            continue\n",
    "    \n",
    "    if page < 19:\n",
    "        try:\n",
    "            next_page = WebDriverWait(driver, 10).until(\n",
    "                EC.element_to_be_clickable((By.XPATH, \"//div[@class='fanye']/a[text()='下一页']\"))\n",
    "            )\n",
    "            next_page.click()\n",
    "            time.sleep(3)\n",
    "        except Exception as e:\n",
    "            print(f\"error: {e}\")\n",
    "            break\n",
    "\n",
    "df = pd.DataFrame(data_list)\n",
    "df.to_excel(file_path, index=False, engine='openpyxl')\n",
    "print(f\"successfully saved{file_path}\")\n",
    "driver.quit()"
   ]
  },
  {
   "cell_type": "code",
   "execution_count": null,
   "id": "b9fb406f-c251-4961-82dc-80ecbd0bf73a",
   "metadata": {},
   "outputs": [],
   "source": []
  }
 ],
 "metadata": {
  "kernelspec": {
   "display_name": "Python [conda env:base] *",
   "language": "python",
   "name": "conda-base-py"
  },
  "language_info": {
   "codemirror_mode": {
    "name": "ipython",
    "version": 3
   },
   "file_extension": ".py",
   "mimetype": "text/x-python",
   "name": "python",
   "nbconvert_exporter": "python",
   "pygments_lexer": "ipython3",
   "version": "3.12.7"
  }
 },
 "nbformat": 4,
 "nbformat_minor": 5
}
