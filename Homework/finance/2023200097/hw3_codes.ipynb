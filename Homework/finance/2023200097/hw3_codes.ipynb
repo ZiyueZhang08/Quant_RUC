{
 "cells": [
  {
   "cell_type": "code",
   "execution_count": 73,
   "id": "4b411218-5c76-48cb-98f0-1fddf04850f9",
   "metadata": {
    "scrolled": true
   },
   "outputs": [
    {
     "name": "stdout",
     "output_type": "stream",
     "text": [
      "Requirement already satisfied: docxtpl in d:\\anaconda2025.4.20\\lib\\site-packages (0.20.1)\n",
      "Requirement already satisfied: doc2pdf in d:\\anaconda2025.4.20\\lib\\site-packages (0.2.0)\n",
      "Requirement already satisfied: requests in d:\\anaconda2025.4.20\\lib\\site-packages (2.32.3)\n",
      "Requirement already satisfied: beautifulsoup4 in d:\\anaconda2025.4.20\\lib\\site-packages (4.12.3)\n",
      "Requirement already satisfied: pandas in d:\\anaconda2025.4.20\\lib\\site-packages (2.2.2)\n",
      "Requirement already satisfied: openpyxl in d:\\anaconda2025.4.20\\lib\\site-packages (3.1.5)\n",
      "Requirement already satisfied: python-docx>=1.1.1 in d:\\anaconda2025.4.20\\lib\\site-packages (from docxtpl) (1.2.0)\n",
      "Requirement already satisfied: docxcompose in d:\\anaconda2025.4.20\\lib\\site-packages (from docxtpl) (1.4.0)\n",
      "Requirement already satisfied: jinja2 in d:\\anaconda2025.4.20\\lib\\site-packages (from docxtpl) (3.1.4)\n",
      "Requirement already satisfied: lxml in d:\\anaconda2025.4.20\\lib\\site-packages (from docxtpl) (5.2.1)\n",
      "Requirement already satisfied: charset-normalizer<4,>=2 in d:\\anaconda2025.4.20\\lib\\site-packages (from requests) (3.3.2)\n",
      "Requirement already satisfied: idna<4,>=2.5 in d:\\anaconda2025.4.20\\lib\\site-packages (from requests) (3.7)\n",
      "Requirement already satisfied: urllib3<3,>=1.21.1 in d:\\anaconda2025.4.20\\lib\\site-packages (from requests) (2.5.0)\n",
      "Requirement already satisfied: certifi>=2017.4.17 in d:\\anaconda2025.4.20\\lib\\site-packages (from requests) (2025.10.5)\n",
      "Requirement already satisfied: soupsieve>1.2 in d:\\anaconda2025.4.20\\lib\\site-packages (from beautifulsoup4) (2.5)\n",
      "Requirement already satisfied: numpy>=1.26.0 in d:\\anaconda2025.4.20\\lib\\site-packages (from pandas) (1.26.4)\n",
      "Requirement already satisfied: python-dateutil>=2.8.2 in d:\\anaconda2025.4.20\\lib\\site-packages (from pandas) (2.9.0.post0)\n",
      "Requirement already satisfied: pytz>=2020.1 in d:\\anaconda2025.4.20\\lib\\site-packages (from pandas) (2024.1)\n",
      "Requirement already satisfied: tzdata>=2022.7 in d:\\anaconda2025.4.20\\lib\\site-packages (from pandas) (2023.3)\n",
      "Requirement already satisfied: et-xmlfile in d:\\anaconda2025.4.20\\lib\\site-packages (from openpyxl) (1.1.0)\n",
      "Requirement already satisfied: six>=1.5 in d:\\anaconda2025.4.20\\lib\\site-packages (from python-dateutil>=2.8.2->pandas) (1.16.0)\n",
      "Requirement already satisfied: typing_extensions>=4.9.0 in d:\\anaconda2025.4.20\\lib\\site-packages (from python-docx>=1.1.1->docxtpl) (4.15.0)\n",
      "Requirement already satisfied: setuptools in d:\\anaconda2025.4.20\\lib\\site-packages (from docxcompose->docxtpl) (75.1.0)\n",
      "Requirement already satisfied: babel in d:\\anaconda2025.4.20\\lib\\site-packages (from docxcompose->docxtpl) (2.11.0)\n",
      "Requirement already satisfied: MarkupSafe>=2.0 in d:\\anaconda2025.4.20\\lib\\site-packages (from jinja2->docxtpl) (2.1.3)\n",
      "Note: you may need to restart the kernel to use updated packages.\n"
     ]
    }
   ],
   "source": [
    "pip install docxtpl doc2pdf requests beautifulsoup4 pandas openpyxl"
   ]
  },
  {
   "cell_type": "code",
   "execution_count": 175,
   "id": "3092afcb-267c-4259-b485-c7cb81eae580",
   "metadata": {},
   "outputs": [],
   "source": [
    "from docxtpl import DocxTemplate\n",
    "import os"
   ]
  },
  {
   "cell_type": "code",
   "execution_count": 38,
   "id": "ada02490-ddf0-4fe0-ae02-6d68f68da3e3",
   "metadata": {},
   "outputs": [],
   "source": [
    "doc=DocxTemplate(r\"D:\\HuaweiMoveData\\Users\\24522\\Desktop\\application letter.docx\")"
   ]
  },
  {
   "cell_type": "code",
   "execution_count": 40,
   "id": "4cfe5656-93ba-4946-96ef-2b9fade43dc1",
   "metadata": {},
   "outputs": [],
   "source": [
    "context={\n",
    "    'name':'Hanyue Cao',\n",
    "    'major':'finance',\n",
    "    'school':'RUC'\n",
    "}"
   ]
  },
  {
   "cell_type": "code",
   "execution_count": 42,
   "id": "8de1f475-2a6c-4420-b525-fc9fff741d5c",
   "metadata": {},
   "outputs": [],
   "source": [
    "doc.render(context)\n",
    "doc.save(\"output.docx\")"
   ]
  },
  {
   "cell_type": "code",
   "execution_count": 121,
   "id": "5cd59e10-4d54-4475-8eaf-24f924c65b70",
   "metadata": {},
   "outputs": [],
   "source": [
    "import requests\n",
    "from bs4 import BeautifulSoup\n",
    "import pandas as pd\n",
    "import numpy as np\n",
    "import random\n",
    "import itertools\n",
    "import time\n"
   ]
  },
  {
   "cell_type": "markdown",
   "id": "5aaadf21-1b87-4815-afe6-13e024543598",
   "metadata": {},
   "source": [
    "# 步骤三 下载大学排名"
   ]
  },
  {
   "cell_type": "code",
   "execution_count": 137,
   "id": "f8226c71-546e-4f41-a57d-588b2b3b8f27",
   "metadata": {},
   "outputs": [],
   "source": [
    "def scrape_rankings(url):\n",
    "    # 1. 发送请求获取网页\n",
    "    headers = {\n",
    "       \"User-Agent\": \"Mozilla/5.0 (Windows NT 10.0; Win64; x64) AppleWebKit/537.36\"\n",
    "     }\n",
    "    response = requests.get(url, headers=headers, timeout=20)\n",
    "    response.raise_for_status()  # 检查请求是否成功\n",
    "        \n",
    "     # 2. 解析 HTML\n",
    "    soup = BeautifulSoup(response.text, \"html.parser\")\n",
    "        \n",
    "     # 3. 提取数据\n",
    "    rankings_data = []\n",
    "\n",
    "    \"\"\"\n",
    "     <H2>The rankings</H2> \n",
    "     <H3>Top 12.5% Economics Departments, all authors, all publication years</H3>\n",
    "     <TABLE class=\"shorttop\">\n",
    "     <THEAD>\n",
    "         <TR>\n",
    "              <TH class=\"rank\">Rank</TH>\n",
    "              <TH class=\"author\">Institution</TH>\n",
    "              <TH class=\"score\">Score</TH>\n",
    "               <TH class=\"score\">Authors</TH>\n",
    "               <TH class=\"score\">Author shares</TH>\n",
    "          </TR>\n",
    "     </THEAD>\n",
    "     <TR> \n",
    "        <TD><A NAME=\"deharus\"></A>1</TD>\n",
    "        <TD><A HREF=\"http://edirc.repec.org/data/deharus.html\">Department of Economics, Harvard University</A><P>Cambridge, Massachusetts (USA)</P></TD>\n",
    "        <TD>1.47</TD>\n",
    "        <TD>72</TD>\n",
    "        <TD>59.86</TD>\n",
    "     </TR>\n",
    "     \"\"\"\n",
    "     # 4.查找排名表格\n",
    "    rankings_heading=soup.find(\"h2\",string=\"The rankings\")#why not H2\n",
    "    rankings_table=rankings_heading.find_next(\"table\")\n",
    "    table_rows=rankings_table.find_all(\"tr\")\n",
    "\n",
    "    \"\"\"\n",
    "        tr 行\n",
    "        th 表头格\n",
    "        td 格\n",
    "    \"\"\"\n",
    "    #5摘取数据\n",
    "    for row in table_rows[1:]:\n",
    "        try:\n",
    "            #1) 处理第一列rank\n",
    "            element=row.find_all(\"td\")\n",
    "            rank=element[0].get_text(strip=True)#只保留排名数字\n",
    "            #2) 处理第二列uni_name\n",
    "            uni_name_tag=element[1].find(\"a\")\n",
    "            if uni_name_tag:\n",
    "                uni_name=uni_name_tag.get_text(strip=True)\n",
    "            else:\n",
    "                uni_name=uni_name_tag.get_text(strip=True)\n",
    "            #3) 检查不符合要求的行\n",
    "            if not rank or not uni_name:\n",
    "                print(f\"{row} is empty\")\n",
    "                continue\n",
    "            #4）若符合要求，加到最后\n",
    "            rankings_data.append({\n",
    "                \"Rank\":rank,\n",
    "                \"Institution\":uni_name\n",
    "            })\n",
    "        except exception as error:\n",
    "            print(f\"error:{str(error)}\")\n",
    "            continue\n",
    "    return rankings_data        \n"
   ]
  },
  {
   "cell_type": "code",
   "execution_count": 145,
   "id": "7ca9c5dd-06df-41d9-8e45-c92e7cc189fd",
   "metadata": {},
   "outputs": [],
   "source": [
    "def save_to_excel(data,excel_filename=\"university rank.xlsx\"):\n",
    "    df=pd.DataFrame(data)\n",
    "    df.to_excel(excel_filename,index=False,engine=\"openpyxl\")#不保留行索引，openpyxl:创建excel的引擎\n",
    "    print(f\"数据已保存为university rank.xlsx\")\n",
    "    "
   ]
  },
  {
   "cell_type": "code",
   "execution_count": 147,
   "id": "a3f186c7-ed0a-456d-bf7a-0f39fa66c2e0",
   "metadata": {},
   "outputs": [
    {
     "name": "stdout",
     "output_type": "stream",
     "text": [
      "数据已保存为university rank.xlsx\n"
     ]
    }
   ],
   "source": [
    "if __name__==\"__main__\":\n",
    "    target_url=\"https://ideas.repec.org/top/top.econdept.html\"\n",
    "    data=scrape_rankings(target_url)\n",
    "    if data:\n",
    "        save_to_excel(data)\n",
    "        "
   ]
  },
  {
   "cell_type": "markdown",
   "id": "579279b7-0281-45cb-b4c5-ff14e7304d0f",
   "metadata": {},
   "source": [
    "# 选择30个大学"
   ]
  },
  {
   "cell_type": "code",
   "execution_count": 160,
   "id": "92d0eac3-62d2-46a3-a1c6-ba872d975249",
   "metadata": {},
   "outputs": [
    {
     "name": "stdout",
     "output_type": "stream",
     "text": [
      "    Rank                                        Institution\n",
      "0      1        Department of Economics, Harvard University\n",
      "1      2  Economics Department, Massachusetts Institute ...\n",
      "2      3  Department of Economics, University of Califor...\n",
      "3      4     Department of Economics, University of Chicago\n",
      "4      5                          Paris School of Economics\n",
      "..   ...                                                ...\n",
      "85    86  Department of Economics, George Washington Uni...\n",
      "86    87  Department of Economics, Mitch Daniels School ...\n",
      "87    88  School of Economics, Faculty of Arts and Socia...\n",
      "88    89         Department of Economics, McGill University\n",
      "89    90  Department of Economics, University of Washington\n",
      "\n",
      "[90 rows x 2 columns]\n"
     ]
    }
   ],
   "source": [
    "df1 = pd.read_excel(r\"C:\\Users\\24522\\python25\\university rank.xlsx\")\n",
    "print(df1[:90])"
   ]
  },
  {
   "cell_type": "code",
   "execution_count": 170,
   "id": "89b74b65-159a-497c-bea3-cfd0485438c2",
   "metadata": {},
   "outputs": [],
   "source": [
    "population1=list(range(1,31))\n",
    "population2=list(range(31,61))\n",
    "population3=list(range(61,91))\n",
    "nums1=random.sample(population1,10)\n",
    "nums2=random.sample(population2,10)\n",
    "nums3=random.sample(population3,10)\n",
    "nums=nums1+nums2+nums3\n",
    "df2=df1[df1[\"Rank\"].isin(nums)]\n",
    "df3=pd.DataFrame(df2)\n",
    "df3.to_excel(\"chosen_universities.xlsx\",index=False,engine=\"openpyxl\")"
   ]
  },
  {
   "cell_type": "markdown",
   "id": "7bc4bf73-5bf1-4cd7-96ff-b133ad626919",
   "metadata": {},
   "source": [
    "# 步骤四"
   ]
  },
  {
   "cell_type": "code",
   "execution_count": 182,
   "id": "7a3871fc-e1e0-4df9-a160-db09326e1402",
   "metadata": {},
   "outputs": [
    {
     "ename": "SyntaxError",
     "evalue": "incomplete input (363401936.py, line 17)",
     "output_type": "error",
     "traceback": [
      "\u001b[1;36m  Cell \u001b[1;32mIn[182], line 17\u001b[1;36m\u001b[0m\n\u001b[1;33m    \u001b[0m\n\u001b[1;37m    ^\u001b[0m\n\u001b[1;31mSyntaxError\u001b[0m\u001b[1;31m:\u001b[0m incomplete input\n"
     ]
    }
   ],
   "source": [
    "class TemplateProcessor:\n",
    "    def __init__(self,template_file,universities_file,area_file):\n",
    "        self.template_file=template_file\n",
    "        self.universities_file=universities_file\n",
    "        self.area_file=area_file\n",
    "        self.universities_df=None\n",
    "        self.area_df=None\n",
    "        self.template=None\n",
    "    def load_data(self):\n",
    "        self.universities_df=pd.read_excel(self.universities_file)\n",
    "        self.area_df=pd.read.excel(self.area_file)\n",
    "        self.template=DocxTemplate(self.template_file)\n",
    "    def replace_and_save_document(self,university,area_data,output_dir=\"output\"):\n",
    "        if not os.path.exists(output_dir):\n",
    "            os.makedirs(output_dir)\n",
    "        "
   ]
  },
  {
   "cell_type": "code",
   "execution_count": null,
   "id": "08a73ef2-5d58-4505-b537-5c6338bc81de",
   "metadata": {},
   "outputs": [],
   "source": []
  }
 ],
 "metadata": {
  "kernelspec": {
   "display_name": "Python [conda env:base] *",
   "language": "python",
   "name": "conda-base-py"
  },
  "language_info": {
   "codemirror_mode": {
    "name": "ipython",
    "version": 3
   },
   "file_extension": ".py",
   "mimetype": "text/x-python",
   "name": "python",
   "nbconvert_exporter": "python",
   "pygments_lexer": "ipython3",
   "version": "3.12.7"
  }
 },
 "nbformat": 4,
 "nbformat_minor": 5
}
