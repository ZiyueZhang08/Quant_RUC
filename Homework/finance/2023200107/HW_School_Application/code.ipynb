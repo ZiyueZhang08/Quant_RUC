{
 "cells": [
  {
   "cell_type": "code",
   "execution_count": null,
   "id": "8ceea2d7",
   "metadata": {},
   "outputs": [],
   "source": [
    "import pandas as pd\n",
    "from pathlib import Path\n",
    "from docxtpl import DocxTemplate\n",
    "from docx2pdf import convert\n",
    "\n",
    "#Step1：设置路径，读取文件\n",
    "base_path = Path.cwd()  # 让程序自动找到当前文件所在目录\n",
    "\n",
    "template_path = base_path / \"Word template.docx\"      # Word 模板\n",
    "output_folder = base_path / \"output_letters\"          # 输出文件夹\n",
    "universities_path = base_path / \"list_1 university.xlsx\" #大学信息\n",
    "list2_path = base_path / \"list_2.xlsx\"                #研究方向，top期刊，skill\n",
    "\n",
    "#读取excel文件\n",
    "universities = pd.read_excel(universities_path)\n",
    "list2 = pd.read_excel(list2_path)\n",
    "\n",
    "#若输出文件夹不存在则创建\n",
    "output_folder.mkdir(exist_ok=True)"
   ]
  },
  {
   "cell_type": "code",
   "execution_count": null,
   "id": "69fc904f",
   "metadata": {},
   "outputs": [],
   "source": [
    "\n",
    "#step2：依次遍历大学与研究方向\n",
    "#外层循环：遍历30所大学\n",
    "for i in range(len(universities)):\n",
    "    uni = str(universities.iloc[i, 0])  \n",
    "    # 内层循环：为每所大学匹配3个研究方向，以及研究方向对应的期刊，skill\n",
    "    for j in range(len(list2)):\n",
    "        research = str(list2.iloc[j, 0])\n",
    "        top1 = str(list2.iloc[j, 1])\n",
    "        top2 = str(list2.iloc[j, 2])\n",
    "        top3 = str(list2.iloc[j, 3])\n",
    "        skill = str(list2.iloc[j, 4])\n",
    "\n",
    "#Step3：生成Word模板所需的替换内容\n",
    "        context = {\n",
    "            'University': uni,\n",
    "            'research': research,\n",
    "            'top_jouranl_1': top1,\n",
    "            'top_jouranl_2': top2,\n",
    "            'top_jouranl_3': top3,\n",
    "            'skill': skill\n",
    "        }\n",
    "#Step4：渲染Word模板\n",
    "        #载入模版并替换context内容\n",
    "        doc = DocxTemplate(template_path)\n",
    "        doc.render(context)\n",
    "        #生成文件名，拼接输出路径\n",
    "        filename =f\"{i+1:02d}_{uni}_{research}.docx\"\n",
    "        file_path = output_folder/filename\n",
    "        #保存成word文件\n",
    "        doc.save(file_path)\n",
    "\n",
    "#step5：将word转换为pdf\n",
    "        try:\n",
    "            convert(file_path)\n",
    "        except Exception as e:\n",
    "            print(\"sad：\", e)\n",
    "print(\"okk\")#程序完成提示\n",
    "\n"
   ]
  }
 ],
 "metadata": {
  "kernelspec": {
   "display_name": "Python 3",
   "language": "python",
   "name": "python3"
  },
  "language_info": {
   "codemirror_mode": {
    "name": "ipython",
    "version": 3
   },
   "file_extension": ".py",
   "mimetype": "text/x-python",
   "name": "python",
   "nbconvert_exporter": "python",
   "pygments_lexer": "ipython3",
   "version": "3.12.7"
  }
 },
 "nbformat": 4,
 "nbformat_minor": 5
}
