{
 "cells": [
  {
   "cell_type": "code",
   "execution_count": 1,
   "metadata": {},
   "outputs": [],
   "source": [
    "# 导入库\n",
    "from docxtpl import DocxTemplate\n",
    "import pandas as pd\n",
    "from docx2pdf import convert"
   ]
  },
  {
   "cell_type": "code",
   "execution_count": 2,
   "metadata": {},
   "outputs": [],
   "source": [
    "# 载入模板和Excel\n",
    "template = DocxTemplate(\"ApplicationLetterTemplate.docx\")\n",
    "excel_path = \"SubstituteList.xlsx\""
   ]
  },
  {
   "cell_type": "code",
   "execution_count": 3,
   "metadata": {},
   "outputs": [],
   "source": [
    "# 读取表格信息\n",
    "univ_df = pd.read_excel(excel_path, sheet_name=\"Univ\")\n",
    "journal_df = pd.read_excel(excel_path, sheet_name=\"Journal\")"
   ]
  },
  {
   "cell_type": "code",
   "execution_count": 4,
   "metadata": {},
   "outputs": [],
   "source": [
    "# 选择大学和期刊\n",
    "selected_univ = univ_df.iloc[0, 1]  # 默认选第一个\n",
    "selected_journals = journal_df.iloc[0:3, 2].tolist()  # 默认取前三篇"
   ]
  },
  {
   "cell_type": "code",
   "execution_count": 5,
   "metadata": {},
   "outputs": [],
   "source": [
    "# 定义其余变量\n",
    "context = {\n",
    "    \"NAME\": \"Haodi WANG\",\n",
    "    \"PROGRAM\": \"Master of Financial Engineering\",\n",
    "    \"TAR_UNIV\": selected_univ,\n",
    "    \"MY_MAJOR\": \"finance\",\n",
    "    \"MY_UNIV\": \"Renmin University of China\",\n",
    "    \"JOURNAL_1\": selected_journals[0],\n",
    "    \"JOURNAL_2\": selected_journals[1],\n",
    "    \"JOURNAL_3\": selected_journals[2],\n",
    "    \"DR_NAME\": \"Dr. John Smith\",\n",
    "    \"DR_TOPIC\": \"quantitative trading strategies\",\n",
    "    \"FIELD\": \"financial data analysis\",\n",
    "}"
   ]
  },
  {
   "cell_type": "code",
   "execution_count": 6,
   "metadata": {},
   "outputs": [
    {
     "data": {
      "application/vnd.jupyter.widget-view+json": {
       "model_id": "5d61560dbd21495c9b6a84f84f2297b2",
       "version_major": 2,
       "version_minor": 0
      },
      "text/plain": [
       "  0%|          | 0/1 [00:00<?, ?it/s]"
      ]
     },
     "metadata": {},
     "output_type": "display_data"
    }
   ],
   "source": [
    "# 渲染并保存例子模板\n",
    "template.render(context)\n",
    "template.save('GeneratedApplicationLetter.docx')\n",
    "convert('GeneratedApplicationLetter.docx')"
   ]
  },
  {
   "cell_type": "code",
   "execution_count": 7,
   "metadata": {},
   "outputs": [
    {
     "name": "stdout",
     "output_type": "stream",
     "text": [
      "90封申请信已生成\n"
     ]
    }
   ],
   "source": [
    "# 生成90个申请信\n",
    "# 保存路径\n",
    "output_path = './FinalResults/Letter'\n",
    "\n",
    "# 生成申请信\n",
    "totalCnt = 1\n",
    "for univCnt in range(30):\n",
    "    for jnlCnt in range(3):\n",
    "        # 按顺序选择大学和期刊\n",
    "        selected_univ = univ_df.iloc[univCnt, 1]\n",
    "        selected_journals = journal_df.iloc[jnlCnt:(jnlCnt+3), 2].tolist()\n",
    "        \n",
    "        context['TAR_UNIV'] = selected_univ\n",
    "        context['JOURNAL_1'] = selected_journals[0]\n",
    "        context['JOURNAL_2'] = selected_journals[1]\n",
    "        context['JOURNAL_3'] = selected_journals[2]\n",
    "        \n",
    "        # 渲染模板\n",
    "        template.render(context)\n",
    "\n",
    "        # 保存新文档\n",
    "        template.save(output_path + str(totalCnt) + '.docx')\n",
    "\n",
    "        totalCnt += 1\n",
    "\n",
    "print(\"90封申请信已生成\")"
   ]
  }
 ],
 "metadata": {
  "kernelspec": {
   "display_name": "Python 3",
   "language": "python",
   "name": "python3"
  },
  "language_info": {
   "codemirror_mode": {
    "name": "ipython",
    "version": 3
   },
   "file_extension": ".py",
   "mimetype": "text/x-python",
   "name": "python",
   "nbconvert_exporter": "python",
   "pygments_lexer": "ipython3",
   "version": "3.11.9"
  },
  "orig_nbformat": 4
 },
 "nbformat": 4,
 "nbformat_minor": 2
}
