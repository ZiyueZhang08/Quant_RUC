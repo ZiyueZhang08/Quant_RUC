{
 "cells": [
  {
   "cell_type": "code",
   "execution_count": 1,
   "metadata": {},
   "outputs": [],
   "source": [
    "from selenium import webdriver\n",
    "from selenium.webdriver.chrome.service import Service\n",
    "from selenium.webdriver.common.by import By\n",
    "from selenium.webdriver.chrome.options import Options\n",
    "import pandas as pd\n",
    "import re\n",
    "import time\n",
    "import ipywidgets as widgets\n",
    "from IPython.display import display\n",
    "import os"
   ]
  },
  {
   "cell_type": "code",
   "execution_count": 2,
   "metadata": {},
   "outputs": [],
   "source": [
    "def get_page():\n",
    "    # 爬取信息\n",
    "    folder_path = \"house_rent\"\n",
    "\n",
    "    # 检查文件夹是否存在\n",
    "    if not os.path.exists(folder_path):\n",
    "        os.makedirs(folder_path)  # 递归创建文件夹\n",
    "        \n",
    "    global driver\n",
    "    \n",
    "    # 找到所有房源 dl 标签（class=\"list hiddenMap rel\"）\n",
    "    house_list_xpath = '/html/body/div[4]/div[4]/div[1]/div[4]'\n",
    "    house_list_container = driver.find_element(By.XPATH, house_list_xpath)\n",
    "    house_elements = house_list_container.find_elements(By.XPATH, './dl[@class=\"list hiddenMap rel\"]')\n",
    "\n",
    "    data = []\n",
    "    for house in house_elements:\n",
    "        try:\n",
    "        \n",
    "            # 房屋标题\n",
    "            title = house.find_element(By.XPATH, './/p[@class=\"title\"]/a').text.strip()\n",
    "        \n",
    "            # 房屋面积\n",
    "            detail_text = house.find_element(By.XPATH, './/p[contains(@class, \"font15\")]').text\n",
    "            size = \"\"\n",
    "            for part in detail_text.split(\"|\"):\n",
    "                if \"㎡\" in part:\n",
    "                    size = part.strip()\n",
    "                    break\n",
    "            \n",
    "            # 房屋价格\n",
    "            price = house.find_element(By.XPATH, './/span[@class=\"price\"]').text.strip()\n",
    "            \n",
    "            data.append({\n",
    "                'title': title,\n",
    "                'area': size,\n",
    "                'total_price': price\n",
    "            })\n",
    "        except Exception as e:\n",
    "            print(\"某条房源解析失败：\", e)\n",
    "            continue\n",
    "    \n",
    "    return data"
   ]
  },
  {
   "cell_type": "code",
   "execution_count": 3,
   "metadata": {},
   "outputs": [],
   "source": [
    "def scrape_info(area):\n",
    "    global driver\n",
    "    all_data = []\n",
    "    page_cnt = 0\n",
    "    label = widgets.Label(value=\"正在开始解析...\")\n",
    "    display(label)\n",
    "                    \n",
    "    while True:\n",
    "        try:\n",
    "            data = get_page()\n",
    "            all_data.extend(data)\n",
    "            page_cnt += 1\n",
    "            label.value = f\"第 {page_cnt} 页信息已经解析。\"\n",
    "                \n",
    "            # 查找“下一页”按钮\n",
    "            next_button = driver.find_element(By.XPATH, '//div[@class=\"houseList\"]/following-sibling::div//a[text()=\"下一页\"]')\n",
    "            # 为了能够按到“下一页”的按钮进行缩放\n",
    "            driver.execute_script(\"document.body.style.zoom='0.25'\")\n",
    "            # 滚动到按钮处，防止被遮挡\n",
    "            driver.execute_script(\"arguments[0].scrollIntoView();\", next_button)\n",
    "            time.sleep(0.2)\n",
    "\n",
    "            # 点击“下一页”\n",
    "            next_button.click()\n",
    "            \n",
    "        except:\n",
    "            print(f\"于第 {page_cnt} 页解析失败，已经解析到末尾。\")\n",
    "            break\n",
    "\n",
    "    print(f\"一共解析了 {page_cnt} 页。\")\n",
    "    \n",
    "    # 输出 CSV 文件\n",
    "    df = pd.DataFrame(all_data)\n",
    "    df.to_csv(\"./house_rent/rent_price_\" + area + \".csv\", index=False, encoding=\"utf-8-sig\")\n",
    "    print(f\"已成功保存 {len(df)} 条房源信息.\")"
   ]
  },
  {
   "cell_type": "code",
   "execution_count": 4,
   "metadata": {},
   "outputs": [],
   "source": [
    "service = Service('./chromedriver.exe')\n",
    "driver = webdriver.Chrome(service=service)"
   ]
  },
  {
   "cell_type": "code",
   "execution_count": 5,
   "metadata": {},
   "outputs": [
    {
     "data": {
      "application/vnd.jupyter.widget-view+json": {
       "model_id": "974c23d143a04a37948a08a81f918564",
       "version_major": 2,
       "version_minor": 0
      },
      "text/plain": [
       "Label(value='正在开始解析...')"
      ]
     },
     "metadata": {},
     "output_type": "display_data"
    },
    {
     "name": "stdout",
     "output_type": "stream",
     "text": [
      "于第 36 页解析失败，已经解析到末尾。\n",
      "一共解析了 36 页。\n",
      "已成功保存 2126 条房源信息.\n"
     ]
    }
   ],
   "source": [
    "# 沙河\n",
    "url = 'https://zu.fang.com/house-a012-b02698/s31/'\n",
    "driver.get(url)\n",
    "# 注意：运行时若出现验证码或滑动验证需要在sleep结束前手动解除\n",
    "time.sleep(5)\n",
    "scrape_info(\"shahe\")"
   ]
  },
  {
   "cell_type": "code",
   "execution_count": 6,
   "metadata": {},
   "outputs": [
    {
     "data": {
      "application/vnd.jupyter.widget-view+json": {
       "model_id": "3bddae80552b421e8297f874bc8c6132",
       "version_major": 2,
       "version_minor": 0
      },
      "text/plain": [
       "Label(value='正在开始解析...')"
      ]
     },
     "metadata": {},
     "output_type": "display_data"
    },
    {
     "name": "stdout",
     "output_type": "stream",
     "text": [
      "于第 11 页解析失败，已经解析到末尾。\n",
      "一共解析了 11 页。\n",
      "已成功保存 642 条房源信息.\n"
     ]
    }
   ],
   "source": [
    "# 霍营\n",
    "url = \"https://zu.fang.com/house-a012-b02697/s31/\"\n",
    "driver.get(url)\n",
    "# 注意：运行时若出现验证码或滑动验证需要在sleep结束前手动解除\n",
    "time.sleep(5)\n",
    "scrape_info(\"huoying\")"
   ]
  },
  {
   "cell_type": "code",
   "execution_count": 7,
   "metadata": {},
   "outputs": [
    {
     "data": {
      "application/vnd.jupyter.widget-view+json": {
       "model_id": "4091a443584b4ecabfb43c4fbfb9e898",
       "version_major": 2,
       "version_minor": 0
      },
      "text/plain": [
       "Label(value='正在开始解析...')"
      ]
     },
     "metadata": {},
     "output_type": "display_data"
    },
    {
     "name": "stdout",
     "output_type": "stream",
     "text": [
      "于第 24 页解析失败，已经解析到末尾。\n",
      "一共解析了 24 页。\n",
      "已成功保存 1440 条房源信息.\n"
     ]
    }
   ],
   "source": [
    "# 回龙观\n",
    "url = \"https://zu.fang.com/house-a012-b01182/s31/\"\n",
    "driver.get(url)\n",
    "# 注意：运行时若出现验证码或滑动验证需要在sleep结束前手动解除\n",
    "time.sleep(5)\n",
    "scrape_info(\"huilongguan\")"
   ]
  },
  {
   "cell_type": "code",
   "execution_count": 9,
   "metadata": {},
   "outputs": [
    {
     "data": {
      "application/vnd.jupyter.widget-view+json": {
       "model_id": "5dabea8ae5e14071b48837e3ab4c15b2",
       "version_major": 2,
       "version_minor": 0
      },
      "text/plain": [
       "Label(value='正在开始解析...')"
      ]
     },
     "metadata": {},
     "output_type": "display_data"
    },
    {
     "name": "stdout",
     "output_type": "stream",
     "text": [
      "于第 29 页解析失败，已经解析到末尾。\n",
      "一共解析了 29 页。\n",
      "已成功保存 1704 条房源信息.\n"
     ]
    }
   ],
   "source": [
    "# 天通苑\n",
    "url = \"https://zu.fang.com/house-a012-b01183/s31/\"\n",
    "driver.get(url)\n",
    "# 注意：运行时若出现验证码或滑动验证需要在sleep结束前手动解除\n",
    "time.sleep(5)\n",
    "scrape_info(\"tiantongyuan\")"
   ]
  }
 ],
 "metadata": {
  "kernelspec": {
   "display_name": "Python 3",
   "language": "python",
   "name": "python3"
  },
  "language_info": {
   "codemirror_mode": {
    "name": "ipython",
    "version": 3
   },
   "file_extension": ".py",
   "mimetype": "text/x-python",
   "name": "python",
   "nbconvert_exporter": "python",
   "pygments_lexer": "ipython3",
   "version": "3.11.9"
  },
  "orig_nbformat": 4
 },
 "nbformat": 4,
 "nbformat_minor": 2
}
