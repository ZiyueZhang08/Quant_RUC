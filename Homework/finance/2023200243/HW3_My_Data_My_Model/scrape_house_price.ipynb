{
 "cells": [
  {
   "cell_type": "code",
   "execution_count": 1,
   "metadata": {},
   "outputs": [],
   "source": [
    "from selenium import webdriver\n",
    "from selenium.webdriver.chrome.service import Service\n",
    "from selenium.webdriver.common.by import By\n",
    "from selenium.webdriver.chrome.options import Options\n",
    "import pandas as pd\n",
    "import re\n",
    "import time\n",
    "import ipywidgets as widgets\n",
    "from IPython.display import display\n",
    "import os"
   ]
  },
  {
   "cell_type": "code",
   "execution_count": 2,
   "metadata": {},
   "outputs": [],
   "source": [
    "def get_page():\n",
    "    global driver\n",
    "    \n",
    "    # 找到所有房源容器\n",
    "    house_list = driver.find_elements(By.XPATH, '//div[@class=\"shop_list shop_list_4\"]/dl[@class=\"clearfix\"]')\n",
    "    data = []\n",
    "\n",
    "    for house in house_list:\n",
    "        try:\n",
    "            # 房屋标题\n",
    "            img_tag = house.find_element(By.XPATH, './/dt/a/img')\n",
    "            alt = img_tag.get_attribute('alt')\n",
    "\n",
    "            # 房屋面积\n",
    "            tel_info = house.find_element(By.XPATH, './/p[@class=\"tel_shop\"]').text\n",
    "            size = tel_info.split('|')[1].strip() if '|' in tel_info else \"\"\n",
    "\n",
    "            # 房屋总价\n",
    "            price_dd = house.find_element(By.XPATH, './/dd[@class=\"price_right\"]')\n",
    "            spans = price_dd.find_elements(By.TAG_NAME, 'span')\n",
    "\n",
    "            price_text = spans[0].text.strip() if len(spans) > 0 else \"\"\n",
    "            unit_price_text = spans[1].text.strip() if len(spans) > 1 else \"\"\n",
    "            \n",
    "            # 房屋单价\n",
    "            unit_price_match = re.search(r'(\\d+)', unit_price_text)\n",
    "            unit_price = unit_price_match.group(1) if unit_price_match else \"\"\n",
    "            data.append({\n",
    "                \"tag\": alt,\n",
    "                \"area\": size,\n",
    "                \"total_price\": price_text,\n",
    "                \"unit_price\": unit_price\n",
    "            })\n",
    "        except Exception as e:\n",
    "            print(\"某条房源解析失败：\", e)\n",
    "            continue\n",
    "    \n",
    "    return data\n"
   ]
  },
  {
   "cell_type": "code",
   "execution_count": 3,
   "metadata": {},
   "outputs": [],
   "source": [
    "def scrape_info(area):\n",
    "    # 爬取信息\n",
    "    folder_path = \"house_price\"\n",
    "\n",
    "    # 检查文件夹是否存在\n",
    "    if not os.path.exists(folder_path):\n",
    "        os.makedirs(folder_path)  # 递归创建文件夹\n",
    "        \n",
    "\n",
    "    global driver\n",
    "    all_data = []\n",
    "    page_cnt = 0\n",
    "    label = widgets.Label(value=\"正在开始解析...\")\n",
    "    display(label)\n",
    "                    \n",
    "    while True:\n",
    "        try:\n",
    "            data = get_page()\n",
    "            all_data.extend(data)\n",
    "            page_cnt += 1\n",
    "            label.value = f\"第 {page_cnt} 页信息已经解析。\"\n",
    "                \n",
    "            # 查找“下一页”按钮\n",
    "            next_button = driver.find_element(By.XPATH, '//p[@class=\"last\"]/a[contains(text(),\"下一页\")]')\n",
    "            # 为了能够按到“下一页”的按钮进行缩放\n",
    "            driver.execute_script(\"document.body.style.zoom='0.25'\")\n",
    "            # 滚动到按钮处，防止被遮挡\n",
    "            driver.execute_script(\"arguments[0].scrollIntoView();\", next_button)\n",
    "            time.sleep(0.2)\n",
    "\n",
    "            # 点击“下一页”\n",
    "            next_button.click()\n",
    "            \n",
    "        except:\n",
    "            print(f\"于第 {page_cnt} 页解析失败，已经解析到末尾。\")\n",
    "            break\n",
    "\n",
    "    print(f\"一共解析了 {page_cnt} 页。\")\n",
    "    \n",
    "    # 输出 CSV 文件\n",
    "    df = pd.DataFrame(all_data)\n",
    "    df.to_csv(\"./house_price/house_price_\" + area + \".csv\", index=False, encoding=\"utf-8-sig\")\n",
    "    print(f\"已成功保存 {len(df)} 条房源信息.\")"
   ]
  },
  {
   "cell_type": "code",
   "execution_count": 4,
   "metadata": {},
   "outputs": [],
   "source": [
    "# driver初始化\n",
    "driver = webdriver.Chrome()"
   ]
  },
  {
   "cell_type": "code",
   "execution_count": 5,
   "metadata": {},
   "outputs": [
    {
     "data": {
      "application/vnd.jupyter.widget-view+json": {
       "model_id": "dc355dd2f9194d7aa7099d4a6fa6b6b6",
       "version_major": 2,
       "version_minor": 0
      },
      "text/plain": [
       "Label(value='正在开始解析...')"
      ]
     },
     "metadata": {},
     "output_type": "display_data"
    },
    {
     "name": "stdout",
     "output_type": "stream",
     "text": [
      "于第 42 页解析失败，已经解析到末尾。\n",
      "一共解析了 42 页。\n",
      "已成功保存 2513 条房源信息.\n"
     ]
    }
   ],
   "source": [
    "# 沙河\n",
    "url = \"https://esf.fang.com/house-a012-b02698/i31/\"\n",
    "driver.get(url)\n",
    "# 注意：运行时若出现验证码或滑动验证需要在sleep结束前手动解除\n",
    "time.sleep(5)\n",
    "scrape_info(\"shahe\")"
   ]
  },
  {
   "cell_type": "code",
   "execution_count": 6,
   "metadata": {},
   "outputs": [
    {
     "data": {
      "application/vnd.jupyter.widget-view+json": {
       "model_id": "da065cb0639f4781a96893a6dd1df0d3",
       "version_major": 2,
       "version_minor": 0
      },
      "text/plain": [
       "Label(value='正在开始解析...')"
      ]
     },
     "metadata": {},
     "output_type": "display_data"
    },
    {
     "name": "stdout",
     "output_type": "stream",
     "text": [
      "于第 8 页解析失败，已经解析到末尾。\n",
      "一共解析了 8 页。\n",
      "已成功保存 458 条房源信息.\n"
     ]
    }
   ],
   "source": [
    "# 霍营\n",
    "url = \"https://esf.fang.com/house-a012-b02697/i31/\"\n",
    "driver.get(url)\n",
    "# 注意：运行时若出现验证码或滑动验证需要在sleep结束前手动解除\n",
    "time.sleep(5)\n",
    "scrape_info(\"huoying\")"
   ]
  },
  {
   "cell_type": "code",
   "execution_count": 7,
   "metadata": {},
   "outputs": [
    {
     "data": {
      "application/vnd.jupyter.widget-view+json": {
       "model_id": "ec2e0e8d78154fa982e0990e51b518b3",
       "version_major": 2,
       "version_minor": 0
      },
      "text/plain": [
       "Label(value='正在开始解析...')"
      ]
     },
     "metadata": {},
     "output_type": "display_data"
    },
    {
     "name": "stdout",
     "output_type": "stream",
     "text": [
      "于第 50 页解析失败，已经解析到末尾。\n",
      "一共解析了 50 页。\n",
      "已成功保存 2985 条房源信息.\n"
     ]
    }
   ],
   "source": [
    "# 回龙观\n",
    "url = \"https://esf.fang.com/house-a012-b01182/i31/\"\n",
    "driver.get(url)\n",
    "# 注意：运行时若出现验证码或滑动验证需要在sleep结束前手动解除\n",
    "time.sleep(5)\n",
    "scrape_info(\"huilongguan\")"
   ]
  },
  {
   "cell_type": "code",
   "execution_count": 8,
   "metadata": {},
   "outputs": [
    {
     "data": {
      "application/vnd.jupyter.widget-view+json": {
       "model_id": "834ce3648d5545cfaf0925194626f759",
       "version_major": 2,
       "version_minor": 0
      },
      "text/plain": [
       "Label(value='正在开始解析...')"
      ]
     },
     "metadata": {},
     "output_type": "display_data"
    },
    {
     "name": "stdout",
     "output_type": "stream",
     "text": [
      "于第 43 页解析失败，已经解析到末尾。\n",
      "一共解析了 43 页。\n",
      "已成功保存 2530 条房源信息.\n"
     ]
    }
   ],
   "source": [
    "# 天通苑\n",
    "url = \"https://esf.fang.com/house-a012-b01183/i31/\"\n",
    "driver.get(url)\n",
    "# 注意：运行时若出现验证码或滑动验证需要在sleep结束前手动解除\n",
    "time.sleep(5)\n",
    "scrape_info(\"tiantongyuan\")"
   ]
  }
 ],
 "metadata": {
  "kernelspec": {
   "display_name": "Python 3",
   "language": "python",
   "name": "python3"
  },
  "language_info": {
   "codemirror_mode": {
    "name": "ipython",
    "version": 3
   },
   "file_extension": ".py",
   "mimetype": "text/x-python",
   "name": "python",
   "nbconvert_exporter": "python",
   "pygments_lexer": "ipython3",
   "version": "3.11.9"
  },
  "orig_nbformat": 4
 },
 "nbformat": 4,
 "nbformat_minor": 2
}
