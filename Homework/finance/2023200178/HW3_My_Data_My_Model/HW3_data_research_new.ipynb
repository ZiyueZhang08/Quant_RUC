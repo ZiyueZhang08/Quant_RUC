{
 "cells": [
  {
   "cell_type": "code",
   "execution_count": 18,
   "id": "bf376325-0f0f-45bb-b9e1-0585c3be5610",
   "metadata": {},
   "outputs": [],
   "source": [
    "import pandas as pd\n",
    "import matplotlib.pyplot as plt\n",
    "import seaborn as sns\n",
    "from scipy import stats\n",
    "import numpy as np\n",
    "import matplotlib.font_manager as fm"
   ]
  },
  {
   "cell_type": "code",
   "execution_count": 19,
   "id": "21caf24c-2ab3-4f43-8388-25de6afd6d2c",
   "metadata": {},
   "outputs": [],
   "source": [
    "#load files\n",
    "df_qinghe_esf= pd.read_excel('data/qinghe_esf.xlsx')\n",
    "df_qinghe_zu=pd.read_excel('data/qinghe_zu.xlsx',names=['square','rent'],header=0)\n",
    "df_xierqi_esf= pd.read_excel('data/xierqi_esf.xlsx',names=['square','total','unit'],header=0)\n",
    "df_xierqi_zu= pd.read_excel('data/xierqi_zu.xlsx',names=['square','rent'],header=0)\n",
    "df_xisanqi_esf= pd.read_excel('data/xisanqi_esf.xlsx',names=['square','total','unit'],header=0)\n",
    "df_xisanqi_zu= pd.read_excel('data/xisanqi_zu.xlsx',names=['square','rent'],header=0)\n",
    "df_shangdi_esf = pd.read_excel('data/df_esf_shangdi.xlsx',names=['location','community','square','total','unit'],header=0)\n",
    "df_shangdi_zu = pd.read_excel('data/df_rent_shangdi.xlsx',names=['location','community','square','rent'],header=0)"
   ]
  },
  {
   "cell_type": "code",
   "execution_count": 11,
   "id": "ed7eebc9-bd98-4911-8882-f8f25305008f",
   "metadata": {},
   "outputs": [],
   "source": [
    "df_qinghe_esf.insert(1, 'location', '清河')\n",
    "df_qinghe_zu.insert(1, 'location', '清河')\n",
    "df_xierqi_esf.insert(1, 'location', '西二旗')\n",
    "df_xierqi_zu.insert(1, 'location', '西二旗')\n",
    "df_xisanqi_esf.insert(1, 'location', '西三旗')\n",
    "df_xisanqi_zu.insert(1, 'location', '西三旗')\n",
    "del df_shangdi_esf['community']\n",
    "del df_shangdi_zu['community']\n",
    "df_shangdi_esf['total']=df_shangdi_esf['total']/10000"
   ]
  },
  {
   "cell_type": "code",
   "execution_count": 12,
   "id": "30d8fad8-5f95-421d-a2e1-47cb39938d30",
   "metadata": {},
   "outputs": [],
   "source": [
    "#Convert all data formats to floating point numbers\n",
    "cols_to_fix = ['square', 'total', 'unit']\n",
    "\n",
    "for col in cols_to_fix:\n",
    "    df_qinghe_esf[col] = df_qinghe_esf[col].astype(float)\n",
    "    df_xierqi_esf[col] = df_xierqi_esf[col].astype(float)\n",
    "    df_xisanqi_esf[col] = df_xisanqi_esf[col].astype(float)\n",
    "    df_shangdi_esf[col] = df_shangdi_esf[col].astype(float)"
   ]
  },
  {
   "cell_type": "code",
   "execution_count": 13,
   "id": "1e94bf62-90d7-4f1d-aaa8-1ecdcce5c5e3",
   "metadata": {},
   "outputs": [],
   "source": [
    "#Convert all data formats to floating point numbers\n",
    "cols_to_fix = ['square', 'rent']\n",
    "\n",
    "for col in cols_to_fix:\n",
    "    df_qinghe_zu[col] = df_qinghe_zu[col].astype(float)\n",
    "    df_xierqi_zu[col] = df_xierqi_zu[col].astype(float)\n",
    "    df_xisanqi_zu[col] = df_xisanqi_zu[col].astype(float)\n",
    "    df_shangdi_zu[col] = df_shangdi_zu[col].astype(float)"
   ]
  },
  {
   "cell_type": "code",
   "execution_count": 14,
   "id": "fbcc69b6-e2f2-430b-96f2-1dcacb29c7a6",
   "metadata": {},
   "outputs": [],
   "source": [
    "#Merge the information of second-hand houses together\n",
    "df_esf = (\n",
    "df_qinghe_esf.merge(df_xierqi_esf, on=['location','square','total','unit'], how='outer')\n",
    ".merge(df_xisanqi_esf, on=['location','square','total','unit'], how='outer')\n",
    ".merge(df_shangdi_esf, on=['location','square','total','unit'], how='outer')\n",
    ")"
   ]
  },
  {
   "cell_type": "code",
   "execution_count": 15,
   "id": "3cc6428f-db5a-4114-bab4-a07f22a56aac",
   "metadata": {},
   "outputs": [],
   "source": [
    "#Merge the information of renting houses together\n",
    "df_zu = (\n",
    "df_qinghe_zu.merge(df_xierqi_zu, on=['location','square','rent'], how='outer')\n",
    ".merge(df_xisanqi_zu, on=['location','square','rent'], how='outer')\n",
    ".merge(df_shangdi_zu, on=['location','square','rent'], how='outer')\n",
    ")"
   ]
  },
  {
   "cell_type": "code",
   "execution_count": 16,
   "id": "c7e8b4b2-7aeb-456b-805a-cb85f4831ea3",
   "metadata": {},
   "outputs": [
    {
     "name": "stdout",
     "output_type": "stream",
     "text": [
      "data description for all blocks\n",
      "          square                                                         \\\n",
      "           count        mean        std    min      25%     50%     75%   \n",
      "location                                                                  \n",
      "上地        1200.0  114.519133  44.086540  36.69  85.5000  111.57  144.45   \n",
      "清河        1200.0  158.592917  82.843804  40.23  93.4325  143.80  201.64   \n",
      "西三旗       1200.0  108.676017  56.849491  37.91  73.3225   89.76  131.28   \n",
      "西二旗        704.0  120.160611  59.048629  36.32  82.8300  103.66  142.51   \n",
      "\n",
      "                   total               ...                    unit  \\\n",
      "             max   count         mean  ...     75%     max   count   \n",
      "location                               ...                           \n",
      "上地        314.71  1200.0  1007.516583  ...  1200.0  2980.0  1200.0   \n",
      "清河        562.00  1200.0  1496.898333  ...  2050.0  4300.0  1200.0   \n",
      "西三旗       638.28  1200.0   667.599583  ...   785.0  4050.0  1200.0   \n",
      "西二旗       371.03   704.0   852.769886  ...  1105.0  3480.0   704.0   \n",
      "\n",
      "                                                                            \\\n",
      "                  mean           std      min       25%      50%       75%   \n",
      "location                                                                     \n",
      "上地        90615.886667  24127.347420  35668.0  72454.75  86789.0  105452.0   \n",
      "清河        94274.158333  27863.694750  34306.0  73743.75  93720.0  115510.0   \n",
      "西三旗       58478.351667  15212.901276  19833.0  46680.75  59000.0   68146.0   \n",
      "西二旗       66795.630682  17987.475402  27183.0  50770.00  65347.0   83392.0   \n",
      "\n",
      "                    \n",
      "               max  \n",
      "location            \n",
      "上地        175519.0  \n",
      "清河        176525.0  \n",
      "西三旗       146603.0  \n",
      "西二旗       121592.0  \n",
      "\n",
      "[4 rows x 24 columns]\n"
     ]
    }
   ],
   "source": [
    "# original second hand house data description by block\n",
    "esf_description_by_block = df_esf.groupby('location')[['square', 'total', 'unit']].describe()\n",
    "print(\"data description for all blocks\")\n",
    "print(esf_description_by_block)"
   ]
  },
  {
   "cell_type": "code",
   "execution_count": 21,
   "id": "1ac29a3a-73ae-44c0-8f33-35e0fa0927a2",
   "metadata": {},
   "outputs": [
    {
     "name": "stdout",
     "output_type": "stream",
     "text": [
      "data description for all blocks\n",
      "          square                                                         rent  \\\n",
      "           count       mean        std  min   25%   50%    75%    max   count   \n",
      "location                                                                        \n",
      "上地         957.0  84.791014  44.776154  6.0  57.0  85.0  114.0  314.0   957.0   \n",
      "清河        1200.0  80.440000  51.960751  6.0  52.0  70.0   99.0  428.0  1200.0   \n",
      "西三旗       1100.0  86.133636  65.329120  6.0  51.0  77.0   90.0  346.0  1100.0   \n",
      "西二旗        424.0  99.775943  68.357524  8.0  60.0  83.0  137.0  305.0   424.0   \n",
      "\n",
      "                                                                       \\\n",
      "                  mean           std     min     25%     50%      75%   \n",
      "location                                                                \n",
      "上地         8396.042842   4014.942343  1000.0  5900.0  7500.0  11000.0   \n",
      "清河        11983.403333  51572.665759  1000.0  5200.0  6500.0   8800.0   \n",
      "西三旗        7349.247273   8252.885550  1000.0  4600.0  5787.5   6600.0   \n",
      "西二旗       10481.806604   9887.082396  1300.0  5990.0  6925.0  12000.0   \n",
      "\n",
      "                    \n",
      "               max  \n",
      "location            \n",
      "上地         25500.0  \n",
      "清河        800000.0  \n",
      "西三旗        58333.0  \n",
      "西二旗        48000.0  \n"
     ]
    }
   ],
   "source": [
    "# original rent house data description by block\n",
    "zu_description_by_block = df_zu.groupby('location')[['square', 'rent']].describe()\n",
    "print(\"data description for all blocks\")\n",
    "print(zu_description_by_block)"
   ]
  },
  {
   "cell_type": "code",
   "execution_count": 22,
   "id": "be23d6bc-8e9a-4ae0-917c-77eb403ef6fc",
   "metadata": {},
   "outputs": [],
   "source": [
    "#remove outliners for each block\n",
    "def remove_outliers_iqr(df,blocks,columns):\n",
    "    cleaned_blocks = []\n",
    "    outlier_stats = {}\n",
    "    \n",
    "    for block in blocks:\n",
    "        block_data = df[df['location']==block].copy()\n",
    "        original_count = len(block_data)\n",
    "        outlier_stats[block] = {}\n",
    "        \n",
    "        for column in columns:\n",
    "            Q1 = block_data[column].quantile(0.25)\n",
    "            Q3 = block_data[column].quantile(0.75)\n",
    "            IQR = Q3 - Q1\n",
    "            lower_bound = Q1 - 1.5 * IQR\n",
    "            upper_bound = Q3 + 1.5 * IQR\n",
    "\n",
    "            before = len(block_data)\n",
    "            block_data = block_data[\n",
    "                (block_data[column] >= lower_bound) & \n",
    "                (block_data[column] <= upper_bound)\n",
    "            ]\n",
    "            after = len(block_data)\n",
    "            outlier_stats[block][column] = before - after\n",
    "        cleaned_blocks.append(block_data)\n",
    "    return pd.concat(cleaned_blocks, ignore_index=True),outlier_stats\n"
   ]
  },
  {
   "cell_type": "code",
   "execution_count": 23,
   "id": "4d5b4113-67d6-4510-b74b-f5126bad311c",
   "metadata": {},
   "outputs": [],
   "source": [
    "df_cleaned_esf,outlier_stats_esf=remove_outliers_iqr(df_esf,['清河','西二旗','西三旗','上地'],['square','total','unit'])\n",
    "df_cleaned_zu,outlier_stats_zu=remove_outliers_iqr(df_zu,['清河','西二旗','西三旗','上地'],['square','rent'])"
   ]
  },
  {
   "cell_type": "code",
   "execution_count": 24,
   "id": "a20848c9-0176-4c16-b537-0f59c4ad3729",
   "metadata": {},
   "outputs": [
    {
     "name": "stdout",
     "output_type": "stream",
     "text": [
      "second-hand house data description after cleaning for all blocks\n",
      "          square                                                          \\\n",
      "           count        mean        std    min     25%     50%       75%   \n",
      "location                                                                   \n",
      "上地        1117.0  111.778371  37.340794  36.69  86.590  111.57  141.2200   \n",
      "清河        1156.0  149.516808  69.053199  40.23  91.185  142.00  193.8875   \n",
      "西三旗       1057.0   94.017067  31.933433  37.91  70.100   88.98  111.2600   \n",
      "西二旗        645.0  106.077969  36.468386  36.32  80.760   98.69  130.1100   \n",
      "\n",
      "                   total               ...                    unit  \\\n",
      "             max   count         mean  ...     75%     max   count   \n",
      "location                               ...                           \n",
      "上地        213.16  1117.0   947.853894  ...  1150.0  1720.0  1117.0   \n",
      "清河        315.50  1156.0  1442.982699  ...  1980.0  3390.0  1156.0   \n",
      "西三旗       205.19  1057.0   526.903974  ...   655.0  1169.0  1057.0   \n",
      "西二旗       231.39   645.0   715.403101  ...   899.0  1600.0   645.0   \n",
      "\n",
      "                                                                            \\\n",
      "                  mean           std      min       25%      50%       75%   \n",
      "location                                                                     \n",
      "上地        86899.147717  20926.833451  35668.0  71692.00  82382.0   98722.0   \n",
      "清河        94936.715398  27439.911804  34306.0  74207.75  94239.5  115510.0   \n",
      "西三旗       55566.545885  12582.306888  19833.0  45008.00  55725.0   65124.0   \n",
      "西二旗       65052.333333  17333.493453  27183.0  50000.00  61993.0   81878.0   \n",
      "\n",
      "                    \n",
      "               max  \n",
      "location            \n",
      "上地        145882.0  \n",
      "清河        176525.0  \n",
      "西三旗        95087.0  \n",
      "西二旗       121592.0  \n",
      "\n",
      "[4 rows x 24 columns]\n"
     ]
    }
   ],
   "source": [
    "# cleaned esf data description by block\n",
    "esf_cleaned_description_by_block = df_cleaned_esf.groupby('location')[['square', 'total', 'unit']].describe()\n",
    "print(\"second-hand house data description after cleaning for all blocks\")\n",
    "print(esf_cleaned_description_by_block)"
   ]
  },
  {
   "cell_type": "code",
   "execution_count": 25,
   "id": "250cecdd-0e25-4a99-8ea9-bff1a571aba2",
   "metadata": {},
   "outputs": [
    {
     "data": {
      "text/plain": [
       "{'清河': {'square': 32, 'total': 12, 'unit': 0},\n",
       " '西二旗': {'square': 49, 'total': 10, 'unit': 0},\n",
       " '西三旗': {'square': 62, 'total': 72, 'unit': 9},\n",
       " '上地': {'square': 11, 'total': 40, 'unit': 32}}"
      ]
     },
     "execution_count": 25,
     "metadata": {},
     "output_type": "execute_result"
    }
   ],
   "source": [
    "# check outliers for second-hand house data\n",
    "outlier_stats_esf"
   ]
  },
  {
   "cell_type": "code",
   "execution_count": 26,
   "id": "b46bc4f4-d342-44a2-ae5d-39e1684a8802",
   "metadata": {},
   "outputs": [
    {
     "name": "stdout",
     "output_type": "stream",
     "text": [
      "rent house data description after cleaning for all blocks\n",
      "          square                                                         rent  \\\n",
      "           count       mean        std  min   25%   50%    75%    max   count   \n",
      "location                                                                        \n",
      "上地         917.0  80.336968  36.945978  6.0  53.0  80.0  111.0  188.0   917.0   \n",
      "清河        1036.0  66.083977  30.464864  6.0  48.0  64.0   85.0  162.0  1036.0   \n",
      "西三旗        908.0  67.281938  28.643261  8.0  51.0  70.0   89.0  140.0   908.0   \n",
      "西二旗        381.0  81.314961  41.839612  8.0  58.0  71.0  107.0  187.0   381.0   \n",
      "\n",
      "                                                                              \n",
      "                 mean          std     min     25%     50%      75%      max  \n",
      "location                                                                      \n",
      "上地        7894.888768  3226.768923  1000.0  5830.0  7500.0  10500.0  17000.0  \n",
      "清河        6256.451737  2401.723967  1000.0  5000.0  6000.0   7500.0  12800.0  \n",
      "西三旗       5212.726872  1595.837516  1800.0  4600.0  5500.0   6200.0   9000.0  \n",
      "西二旗       7478.440945  3371.334164  1300.0  5700.0  6800.0   9500.0  15900.0  \n"
     ]
    }
   ],
   "source": [
    "# cleaned rent data description by block\n",
    "zu_cleaned_description_by_block = df_cleaned_zu.groupby('location')[['square', 'rent']].describe()\n",
    "print(\"rent house data description after cleaning for all blocks\")\n",
    "print(zu_cleaned_description_by_block)"
   ]
  },
  {
   "cell_type": "code",
   "execution_count": 27,
   "id": "c58d884d-8246-46a4-866a-618609c092e2",
   "metadata": {},
   "outputs": [
    {
     "data": {
      "text/plain": [
       "{'清河': {'square': 58, 'rent': 106},\n",
       " '西二旗': {'square': 30, 'rent': 13},\n",
       " '西三旗': {'square': 113, 'rent': 79},\n",
       " '上地': {'square': 13, 'rent': 27}}"
      ]
     },
     "execution_count": 27,
     "metadata": {},
     "output_type": "execute_result"
    }
   ],
   "source": [
    "# check outliers for renting house data\n",
    "outlier_stats_zu"
   ]
  },
  {
   "cell_type": "code",
   "execution_count": 28,
   "id": "f6a763cf-e7a4-48b9-a776-b19efba56a4e",
   "metadata": {},
   "outputs": [],
   "source": [
    "#calculate medianp price rent ratio\n",
    "#calculate'rent_per_m2' and remove the new outliers\n",
    "df_cleaned_zu['rent_per_m2'] = df_cleaned_zu['rent'] / df_cleaned_zu['square']\n",
    "df_cleaned_zu,outlier_stats_zu2=remove_outliers_iqr(df_cleaned_zu,['清河','西二旗','西三旗','上地'],['rent_per_m2'])"
   ]
  },
  {
   "cell_type": "code",
   "execution_count": 29,
   "id": "b89d723d-5b8e-4c94-814d-0bdadcecc48e",
   "metadata": {},
   "outputs": [
    {
     "name": "stdout",
     "output_type": "stream",
     "text": [
      "rent house data description after cleaning for all blocks\n",
      "         square                                                         rent  \\\n",
      "          count       mean        std   min   25%   50%    75%    max  count   \n",
      "location                                                                       \n",
      "上地        888.0  82.040541  36.019075  10.0  57.0  84.0  113.0  188.0  888.0   \n",
      "清河        950.0  70.184211  27.533498  10.0  54.0  67.0   87.0  162.0  950.0   \n",
      "西三旗       858.0  70.257576  26.399588  15.0  54.0  73.0   89.0  140.0  858.0   \n",
      "西二旗       332.0  89.674699  37.064852  13.0  66.0  83.0  120.0  187.0  332.0   \n",
      "\n",
      "                                                                               \n",
      "                 mean          std     min      25%     50%      75%      max  \n",
      "location                                                                       \n",
      "上地        8034.778153  3113.864316  1000.0  5900.00  7500.0  10500.0  17000.0  \n",
      "清河        6564.418947  2204.659243  1000.0  5250.75  6300.0   7600.0  12800.0  \n",
      "西三旗       5374.849650  1484.744378  1800.0  4800.00  5600.0   6200.0   9000.0  \n",
      "西二旗       8108.695783  3105.552633  1500.0  6200.00  7000.0  10150.0  15900.0  \n"
     ]
    }
   ],
   "source": [
    "zu_cleaned_description_by_block2 = df_cleaned_zu.groupby('location')[['square', 'rent']].describe()\n",
    "print(\"rent house data description after cleaning for all blocks\")\n",
    "print(zu_cleaned_description_by_block2)"
   ]
  },
  {
   "cell_type": "code",
   "execution_count": 30,
   "id": "c6d2f0c9-7fb0-451f-bf4b-f76d7cf4807e",
   "metadata": {},
   "outputs": [
    {
     "data": {
      "text/plain": [
       "{'清河': {'rent_per_m2': 86},\n",
       " '西二旗': {'rent_per_m2': 49},\n",
       " '西三旗': {'rent_per_m2': 50},\n",
       " '上地': {'rent_per_m2': 29}}"
      ]
     },
     "execution_count": 30,
     "metadata": {},
     "output_type": "execute_result"
    }
   ],
   "source": [
    "# check outliers for renting house data after calculation\n",
    "outlier_stats_zu2"
   ]
  },
  {
   "cell_type": "code",
   "execution_count": 31,
   "id": "f5bbdf01-186a-4008-9f2e-4e1733c38dde",
   "metadata": {},
   "outputs": [
    {
     "name": "stdout",
     "output_type": "stream",
     "text": [
      "=== price rent ratio medium by_block ===\n",
      "上地: 816.23\n",
      "清河: 985.89\n",
      "西三旗: 728.71\n",
      "西二旗: 677.01\n"
     ]
    }
   ],
   "source": [
    "# Calculate the median house price and median rent for each block\n",
    "esf_median_by_block = df_cleaned_esf.groupby('location')['unit'].median()\n",
    "zu_median_by_block = df_cleaned_zu.groupby('location')['rent_per_m2'].median()\n",
    "\n",
    "# Keep only the blocks that exist in both datasets\n",
    "common_blocks = esf_median_by_block.index.intersection(zu_median_by_block.index)\n",
    "esf_common = esf_median_by_block[common_blocks]\n",
    "zu_common = zu_median_by_block[common_blocks]\n",
    "\n",
    "# Calculate the median rent-to-price ratio\n",
    "price_rent_ratio_by_block = esf_common / zu_common\n",
    "\n",
    "print(\"=== price rent ratio medium by_block ===\")\n",
    "for block, ratio in price_rent_ratio_by_block.items():\n",
    "    print(f\"{block}: {ratio:.2f}\")\n"
   ]
  },
  {
   "cell_type": "code",
   "execution_count": 32,
   "id": "c4c2db7a-e433-4673-af67-9c30be46f3a1",
   "metadata": {},
   "outputs": [
    {
     "data": {
      "image/png": "[encoded data removed]",
      "text/plain": [
       "<Figure size 1000x600 with 1 Axes>"
      ]
     },
     "metadata": {},
     "output_type": "display_data"
    }
   ],
   "source": [
    "#Bar Plot the median price to rent ratio for each block\n",
    "global_fair_value = 200\n",
    "\n",
    "df_ratios = pd.DataFrame({\n",
    "    'Block': ['Shangdi','Qinghe','Xisanqi','Xierqi'],\n",
    "    'Median Price to Rent Ratio': price_rent_ratio_by_block.values\n",
    "})\n",
    "df_ratios = df_ratios.sort_values('Median Price to Rent Ratio', ascending=False)\n",
    "fig, ax = plt.subplots(figsize=(10, 6))\n",
    "\n",
    "# Use seaborn style\n",
    "sns.set_style(\"whitegrid\")\n",
    "\n",
    "# Create a bar chart using different colors based on whether it is above the fair value.\n",
    "colors = ['#d62728' if ratio > global_fair_value else '#2ca02c' \n",
    "          for ratio in df_ratios['Median Price to Rent Ratio']]\n",
    "\n",
    "bars = ax.bar(df_ratios['Block'], df_ratios['Median Price to Rent Ratio'], \n",
    "              color=colors, alpha=0.8, edgecolor='black', linewidth=0.5)\n",
    "\n",
    "# Add global fair value reference line\n",
    "ax.axhline(y=global_fair_value, color='blue', linestyle='--', linewidth=2, \n",
    "           label=f'Global Fair Value ({global_fair_value})')\n",
    "\n",
    "# Add numeric labels\n",
    "for i, (block, ratio) in enumerate(zip(df_ratios['Block'], df_ratios['Median Price to Rent Ratio'])):\n",
    "    # Percentage difference from fair value\n",
    "    diff_percent = ((ratio - global_fair_value) / global_fair_value) * 100\n",
    "    \n",
    "    # Add numeric labels\n",
    "    ax.text(i, ratio + max(df_ratios['Median Price to Rent Ratio']) * 0.02, \n",
    "            f'{ratio:.0f}\\n({diff_percent:+.1f}%)', \n",
    "            ha='center', va='bottom', fontsize=10, fontweight='bold')\n",
    "\n",
    "# Set title and tags\n",
    "ax.set_title('Median Price to Rent Ratio by Block\\n(Compared to Global Fair Value ≈ 200)', \n",
    "             fontsize=14, fontweight='bold', pad=20)\n",
    "ax.set_xlabel('Block', fontsize=12)\n",
    "ax.set_ylabel('Price to Rent Ratio', fontsize=12)\n",
    "\n",
    "# Set the Y-axis range\n",
    "ax.set_ylim(0, max(df_ratios['Median Price to Rent Ratio']) * 1.2)\n",
    "\n",
    "# add legend\n",
    "ax.legend(loc='upper right')\n",
    "\n",
    "# Add explanatory text\n",
    "ax.text(0.5, -0.15, \n",
    "        f\"Above the blue line ({global_fair_value}) indicates that housing prices may be high relative to rent.\", \n",
    "        transform=ax.transAxes, ha='center', fontsize=10, style='italic')\n",
    "\n",
    "# Beautify the chart\n",
    "sns.despine(left=True, bottom=True)\n",
    "plt.xticks(fontsize=11)\n",
    "plt.tight_layout()\n",
    "\n",
    "# Show the chart\n",
    "plt.show()"
   ]
  },
  {
   "cell_type": "code",
   "execution_count": 33,
   "id": "cea995c6-a554-46ad-aad3-65b458439233",
   "metadata": {},
   "outputs": [],
   "source": [
    "#save cleaned data for modeling\n",
    "df_cleaned_esf.to_excel('df_cleaned_esf.xlsx', index=False)\n",
    "df_cleaned_zu.to_excel('df_cleaned_zu.xlsx', index=False)"
   ]
  },
  {
   "cell_type": "code",
   "execution_count": null,
   "id": "0e0fb747-b769-4c0f-bef9-a3d906f5396e",
   "metadata": {},
   "outputs": [],
   "source": []
  }
 ],
 "metadata": {
  "kernelspec": {
   "display_name": "Python [conda env:base] *",
   "language": "python",
   "name": "conda-base-py"
  },
  "language_info": {
   "codemirror_mode": {
    "name": "ipython",
    "version": 3
   },
   "file_extension": ".py",
   "mimetype": "text/x-python",
   "name": "python",
   "nbconvert_exporter": "python",
   "pygments_lexer": "ipython3",
   "version": "3.12.7"
  }
 },
 "nbformat": 4,
 "nbformat_minor": 5
}
