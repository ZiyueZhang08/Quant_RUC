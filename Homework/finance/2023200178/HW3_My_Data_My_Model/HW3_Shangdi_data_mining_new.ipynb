{
 "cells": [
  {
   "cell_type": "code",
   "execution_count": 46,
   "id": "228c5022-d8f3-4032-9894-ea1ca4926264",
   "metadata": {},
   "outputs": [],
   "source": [
    "from selenium import webdriver\n",
    "from selenium.webdriver.chrome.service import Service\n",
    "from time import sleep\n",
    "import pandas as pd\n",
    "from io import StringIO\n",
    "from functools import partial\n",
    "import matplotlib.pyplot as plt\n",
    "from selenium.webdriver.support import expected_conditions as EC\n",
    "from selenium.webdriver.common.by import By\n",
    "from selenium.common import NoSuchElementException,StaleElementReferenceException\n",
    "from matplotlib import style\n",
    "from webdriver_manager.chrome import ChromeDriverManager\n",
    "from selenium.webdriver.chrome.options import Options\n",
    "from selenium.webdriver.support.ui import WebDriverWait\n",
    "import os"
   ]
  },
  {
   "cell_type": "code",
   "execution_count": 23,
   "id": "9c2fa23b-f5f3-4cf2-a2a4-a2487cc87808",
   "metadata": {},
   "outputs": [
    {
     "name": "stdout",
     "output_type": "stream",
     "text": [
      "['Solarize_Light2', '_classic_test_patch', '_mpl-gallery', '_mpl-gallery-nogrid', 'bmh', 'classic', 'dark_background', 'fast', 'fivethirtyeight', 'ggplot', 'grayscale', 'seaborn-v0_8', 'seaborn-v0_8-bright', 'seaborn-v0_8-colorblind', 'seaborn-v0_8-dark', 'seaborn-v0_8-dark-palette', 'seaborn-v0_8-darkgrid', 'seaborn-v0_8-deep', 'seaborn-v0_8-muted', 'seaborn-v0_8-notebook', 'seaborn-v0_8-paper', 'seaborn-v0_8-pastel', 'seaborn-v0_8-poster', 'seaborn-v0_8-talk', 'seaborn-v0_8-ticks', 'seaborn-v0_8-white', 'seaborn-v0_8-whitegrid', 'tableau-colorblind10']\n"
     ]
    }
   ],
   "source": [
    "print(plt.style.available)\n",
    "%matplotlib inline\n",
    "chrome_options = Options()\n",
    "chrome_options.page_load_strategy = 'eager'  # 设置加载策略为 eager\n",
    "driver = webdriver.Chrome(options=chrome_options)"
   ]
  },
  {
   "cell_type": "code",
   "execution_count": 24,
   "id": "fb3e0253-d28b-4f74-8ca5-d7cdfb9f85ea",
   "metadata": {},
   "outputs": [],
   "source": [
    "url_esf='https://esf.fang.com/'\n",
    "driver.get(url_esf)"
   ]
  },
  {
   "cell_type": "code",
   "execution_count": 25,
   "id": "b71d5634-56e3-4d8f-a904-5a627551da6a",
   "metadata": {},
   "outputs": [],
   "source": [
    "Haidian_esf=driver.find_element(By.XPATH,'/html/body/div[4]/div[3]/div[2]/div[1]/ul/li[1]/ul/li[2]/a')\n",
    "Haidian_esf.click()"
   ]
  },
  {
   "cell_type": "code",
   "execution_count": 26,
   "id": "0484fc27-67b3-4e3e-9d5b-9fc86e5e1684",
   "metadata": {},
   "outputs": [],
   "source": [
    "Shangdi_esf=driver.find_element(By.XPATH,'/html/body/div[4]/div[3]/div[2]/div[1]/ul/li[2]/ul/li[17]/a')\n",
    "driver.execute_script(\"arguments[0].click();\", Shangdi_esf)"
   ]
  },
  {
   "cell_type": "code",
   "execution_count": 27,
   "id": "b00680a7-ab88-4a48-9e4b-f8aa309a77ba",
   "metadata": {},
   "outputs": [],
   "source": [
    "#mine data on esf website in 20 pages\n",
    "i = 0\n",
    "Num_Pages = 20\n",
    "house_esf_data=[]\n",
    "while i < Num_Pages:\n",
    "    location='上地'\n",
    "    house_items=driver.find_elements(By.CSS_SELECTOR, \"div.shop_list dl.clearfix\")\n",
    "    for item in house_items:\n",
    "        try:\n",
    "            area_element = item.find_element('class name','tel_shop')\n",
    "            area_text = area_element.text\n",
    "            import re\n",
    "            area_match = re.search(r'(\\d+\\.?\\d*)\\s*㎡', area_text)\n",
    "            area = area_match.group(1) if area_match else None\n",
    "            \n",
    "            community_element = item.find_element(By.CSS_SELECTOR, \"p.add_shop a[title]\")\n",
    "            community_name = community_element.get_attribute('title') if community_element else None\n",
    "        \n",
    "\n",
    "            price_element = item.find_element(By.CSS_SELECTOR, \"dd.price_right span:not(.red)\")\n",
    "            unit_price = price_element.text if price_element else None\n",
    "            price_match1 = re.search(r'(\\d+\\.?\\d*)\\s*元/㎡', unit_price)\n",
    "            unit_price = price_match1.group(1) if price_match1 else None\n",
    "\n",
    "            total_price_element = item.find_element(By.CSS_SELECTOR, \"dd.price_right span.red b\")\n",
    "            total_price = total_price_element.text if total_price_element else None\n",
    "            price_match2 = re.search(r'(\\d+\\.?\\d*)\\s*', total_price)\n",
    "            total_price = float(price_match2.group(1)) if price_match2 else None\n",
    "            total_price=float(total_price)*10000\n",
    "            \n",
    "            house_esf_data.append({\n",
    "                    'location': location,\n",
    "                    'community':community_name,\n",
    "                    'square': area,\n",
    "                    'total':total_price,\n",
    "                    'unit': unit_price\n",
    "\n",
    "                })\n",
    "        except Exception as e:\n",
    "                print(f\"fail extracting information: {e}\")\n",
    "                continue\n",
    "    try:\n",
    "        next_page = driver.find_element(By.LINK_TEXT, '下一页')\n",
    "        driver.execute_script(\"arguments[0].click();\", next_page)\n",
    "        i += 1\n",
    "    except NoSuchElementException:\n",
    "        break\n",
    "\n",
    "df_esf = pd.DataFrame(house_esf_data)"
   ]
  },
  {
   "cell_type": "code",
   "execution_count": 28,
   "id": "f10a6b90-6ae9-414a-8f56-dabea13454bb",
   "metadata": {},
   "outputs": [
    {
     "data": {
      "text/html": [
       "<div>\n",
       "<style scoped>\n",
       "    .dataframe tbody tr th:only-of-type {\n",
       "        vertical-align: middle;\n",
       "    }\n",
       "\n",
       "    .dataframe tbody tr th {\n",
       "        vertical-align: top;\n",
       "    }\n",
       "\n",
       "    .dataframe thead th {\n",
       "        text-align: right;\n",
       "    }\n",
       "</style>\n",
       "<table border=\"1\" class=\"dataframe\">\n",
       "  <thead>\n",
       "    <tr style=\"text-align: right;\">\n",
       "      <th></th>\n",
       "      <th>location</th>\n",
       "      <th>community</th>\n",
       "      <th>square</th>\n",
       "      <th>total</th>\n",
       "      <th>unit</th>\n",
       "    </tr>\n",
       "  </thead>\n",
       "  <tbody>\n",
       "    <tr>\n",
       "      <th>0</th>\n",
       "      <td>上地</td>\n",
       "      <td>上地西里</td>\n",
       "      <td>125.3</td>\n",
       "      <td>10990000.0</td>\n",
       "      <td>87709</td>\n",
       "    </tr>\n",
       "    <tr>\n",
       "      <th>1</th>\n",
       "      <td>上地</td>\n",
       "      <td>上第MOMA</td>\n",
       "      <td>191</td>\n",
       "      <td>12600000.0</td>\n",
       "      <td>65968</td>\n",
       "    </tr>\n",
       "    <tr>\n",
       "      <th>2</th>\n",
       "      <td>上地</td>\n",
       "      <td>上地佳园</td>\n",
       "      <td>149.73</td>\n",
       "      <td>19500000.0</td>\n",
       "      <td>130234</td>\n",
       "    </tr>\n",
       "    <tr>\n",
       "      <th>3</th>\n",
       "      <td>上地</td>\n",
       "      <td>上第MOMA</td>\n",
       "      <td>108.82</td>\n",
       "      <td>6980000.0</td>\n",
       "      <td>64142</td>\n",
       "    </tr>\n",
       "    <tr>\n",
       "      <th>4</th>\n",
       "      <td>上地</td>\n",
       "      <td>上第MOMA</td>\n",
       "      <td>146.25</td>\n",
       "      <td>10680000.0</td>\n",
       "      <td>73025</td>\n",
       "    </tr>\n",
       "  </tbody>\n",
       "</table>\n",
       "</div>"
      ],
      "text/plain": [
       "  location community  square       total    unit\n",
       "0       上地      上地西里   125.3  10990000.0   87709\n",
       "1       上地    上第MOMA     191  12600000.0   65968\n",
       "2       上地      上地佳园  149.73  19500000.0  130234\n",
       "3       上地    上第MOMA  108.82   6980000.0   64142\n",
       "4       上地    上第MOMA  146.25  10680000.0   73025"
      ]
     },
     "execution_count": 28,
     "metadata": {},
     "output_type": "execute_result"
    }
   ],
   "source": [
    "df_esf.head()"
   ]
  },
  {
   "cell_type": "code",
   "execution_count": 29,
   "id": "05f8a2a7-2eff-4830-b458-02814b4d2a00",
   "metadata": {},
   "outputs": [
    {
     "data": {
      "text/html": [
       "<div>\n",
       "<style scoped>\n",
       "    .dataframe tbody tr th:only-of-type {\n",
       "        vertical-align: middle;\n",
       "    }\n",
       "\n",
       "    .dataframe tbody tr th {\n",
       "        vertical-align: top;\n",
       "    }\n",
       "\n",
       "    .dataframe thead th {\n",
       "        text-align: right;\n",
       "    }\n",
       "</style>\n",
       "<table border=\"1\" class=\"dataframe\">\n",
       "  <thead>\n",
       "    <tr style=\"text-align: right;\">\n",
       "      <th></th>\n",
       "      <th>total</th>\n",
       "    </tr>\n",
       "  </thead>\n",
       "  <tbody>\n",
       "    <tr>\n",
       "      <th>count</th>\n",
       "      <td>1.200000e+03</td>\n",
       "    </tr>\n",
       "    <tr>\n",
       "      <th>mean</th>\n",
       "      <td>9.835546e+06</td>\n",
       "    </tr>\n",
       "    <tr>\n",
       "      <th>std</th>\n",
       "      <td>3.752118e+06</td>\n",
       "    </tr>\n",
       "    <tr>\n",
       "      <th>min</th>\n",
       "      <td>2.450000e+06</td>\n",
       "    </tr>\n",
       "    <tr>\n",
       "      <th>25%</th>\n",
       "      <td>7.500000e+06</td>\n",
       "    </tr>\n",
       "    <tr>\n",
       "      <th>50%</th>\n",
       "      <td>9.025000e+06</td>\n",
       "    </tr>\n",
       "    <tr>\n",
       "      <th>75%</th>\n",
       "      <td>1.188000e+07</td>\n",
       "    </tr>\n",
       "    <tr>\n",
       "      <th>max</th>\n",
       "      <td>2.980000e+07</td>\n",
       "    </tr>\n",
       "  </tbody>\n",
       "</table>\n",
       "</div>"
      ],
      "text/plain": [
       "              total\n",
       "count  1.200000e+03\n",
       "mean   9.835546e+06\n",
       "std    3.752118e+06\n",
       "min    2.450000e+06\n",
       "25%    7.500000e+06\n",
       "50%    9.025000e+06\n",
       "75%    1.188000e+07\n",
       "max    2.980000e+07"
      ]
     },
     "execution_count": 29,
     "metadata": {},
     "output_type": "execute_result"
    }
   ],
   "source": [
    "df_esf.describe()"
   ]
  },
  {
   "cell_type": "code",
   "execution_count": 30,
   "id": "d2dcfd9d-adcd-4ca6-8e40-bdaae8794a76",
   "metadata": {},
   "outputs": [
    {
     "data": {
      "text/html": [
       "<div>\n",
       "<style scoped>\n",
       "    .dataframe tbody tr th:only-of-type {\n",
       "        vertical-align: middle;\n",
       "    }\n",
       "\n",
       "    .dataframe tbody tr th {\n",
       "        vertical-align: top;\n",
       "    }\n",
       "\n",
       "    .dataframe thead th {\n",
       "        text-align: right;\n",
       "    }\n",
       "</style>\n",
       "<table border=\"1\" class=\"dataframe\">\n",
       "  <thead>\n",
       "    <tr style=\"text-align: right;\">\n",
       "      <th></th>\n",
       "      <th>square</th>\n",
       "      <th>unit</th>\n",
       "    </tr>\n",
       "  </thead>\n",
       "  <tbody>\n",
       "    <tr>\n",
       "      <th>count</th>\n",
       "      <td>1200</td>\n",
       "      <td>1200</td>\n",
       "    </tr>\n",
       "    <tr>\n",
       "      <th>unique</th>\n",
       "      <td>283</td>\n",
       "      <td>459</td>\n",
       "    </tr>\n",
       "    <tr>\n",
       "      <th>top</th>\n",
       "      <td>111.57</td>\n",
       "      <td>69176</td>\n",
       "    </tr>\n",
       "    <tr>\n",
       "      <th>freq</th>\n",
       "      <td>24</td>\n",
       "      <td>14</td>\n",
       "    </tr>\n",
       "  </tbody>\n",
       "</table>\n",
       "</div>"
      ],
      "text/plain": [
       "        square   unit\n",
       "count     1200   1200\n",
       "unique     283    459\n",
       "top     111.57  69176\n",
       "freq        24     14"
      ]
     },
     "execution_count": 30,
     "metadata": {},
     "output_type": "execute_result"
    }
   ],
   "source": [
    "df_esf[['square','unit']].describe()"
   ]
  },
  {
   "cell_type": "code",
   "execution_count": 31,
   "id": "179ce621-aba3-41da-bee3-dc097557a003",
   "metadata": {},
   "outputs": [],
   "source": [
    "#open renting house website\n",
    "url_rent='https://zu.fang.com'\n",
    "driver.get(url_rent)"
   ]
  },
  {
   "cell_type": "code",
   "execution_count": 32,
   "id": "de42fa52-77e4-41af-9183-7da158747454",
   "metadata": {},
   "outputs": [],
   "source": [
    "Haidian_rent=driver.find_element(By.XPATH,'/html/body/div[4]/div[2]/div[2]/div/dl[1]/dd/a[3]')\n",
    "driver.execute_script(\"arguments[0].click();\", Haidian_rent)"
   ]
  },
  {
   "cell_type": "code",
   "execution_count": 33,
   "id": "35d61bf6-2ee4-4c1a-b5e3-31bb029e3c0c",
   "metadata": {},
   "outputs": [],
   "source": [
    "Shangdi_rent=driver.find_element(By.XPATH,'//*[@id=\"rentid_D04_08\"]/a[20]')\n",
    "driver.execute_script(\"arguments[0].click();\", Shangdi_rent)"
   ]
  },
  {
   "cell_type": "code",
   "execution_count": 34,
   "id": "7d25e232-3585-4bfe-97ba-7d12dc46b689",
   "metadata": {},
   "outputs": [],
   "source": [
    "# mine data on rent website in 20 pages\n",
    "j = 0\n",
    "Num_Pages = 20\n",
    "house_rent_data=[]\n",
    "while j < Num_Pages:\n",
    "    location='上地'\n",
    "    house_items=driver.find_elements(By.CSS_SELECTOR, \"div.houseList dl.list.hiddenMap.rel\")\n",
    "    for item in house_items:\n",
    "        try:\n",
    "            area_element = item.find_element(By.CSS_SELECTOR,'p.font15.mt12.bold')\n",
    "            area_text = area_element.text\n",
    "            import re\n",
    "            area_match = re.search(r'(\\d+\\.?\\d*)\\s*㎡', area_text)\n",
    "            area = area_match.group(1) if area_match else None\n",
    "\n",
    "            community_element = item.find_element(By.CSS_SELECTOR, \"span\")\n",
    "            community_name = community_element.text if community_element else None\n",
    "            \n",
    "            price_element = item.find_element('class name', \"price\")\n",
    "            price_permonth = price_element.text if price_element else None\n",
    "\n",
    "            house_rent_data.append({\n",
    "                    'location': location,\n",
    "                    'community':community_name,\n",
    "                    'square': area,\n",
    "                    'rent': price_permonth\n",
    "                })\n",
    "        except Exception as e:\n",
    "                print(f\"fail extracting information: {e}\")\n",
    "                continue\n",
    "    try:\n",
    "        next_page = driver.find_element(By.LINK_TEXT, '下一页')\n",
    "        driver.execute_script(\"arguments[0].click();\", next_page)\n",
    "        j += 1\n",
    "    except NoSuchElementException:\n",
    "        break\n",
    "\n",
    "df_rent = pd.DataFrame(house_rent_data)"
   ]
  },
  {
   "cell_type": "code",
   "execution_count": 35,
   "id": "2da3acba-f23e-4cf6-b1e0-1d3b16480025",
   "metadata": {},
   "outputs": [
    {
     "data": {
      "text/html": [
       "<div>\n",
       "<style scoped>\n",
       "    .dataframe tbody tr th:only-of-type {\n",
       "        vertical-align: middle;\n",
       "    }\n",
       "\n",
       "    .dataframe tbody tr th {\n",
       "        vertical-align: top;\n",
       "    }\n",
       "\n",
       "    .dataframe thead th {\n",
       "        text-align: right;\n",
       "    }\n",
       "</style>\n",
       "<table border=\"1\" class=\"dataframe\">\n",
       "  <thead>\n",
       "    <tr style=\"text-align: right;\">\n",
       "      <th></th>\n",
       "      <th>location</th>\n",
       "      <th>community</th>\n",
       "      <th>square</th>\n",
       "      <th>rent</th>\n",
       "    </tr>\n",
       "  </thead>\n",
       "  <tbody>\n",
       "    <tr>\n",
       "      <th>0</th>\n",
       "      <td>上地</td>\n",
       "      <td>|</td>\n",
       "      <td>314</td>\n",
       "      <td>25500</td>\n",
       "    </tr>\n",
       "    <tr>\n",
       "      <th>1</th>\n",
       "      <td>上地</td>\n",
       "      <td>|</td>\n",
       "      <td>114</td>\n",
       "      <td>10500</td>\n",
       "    </tr>\n",
       "    <tr>\n",
       "      <th>2</th>\n",
       "      <td>上地</td>\n",
       "      <td>|</td>\n",
       "      <td>125</td>\n",
       "      <td>11000</td>\n",
       "    </tr>\n",
       "    <tr>\n",
       "      <th>3</th>\n",
       "      <td>上地</td>\n",
       "      <td>|</td>\n",
       "      <td>106</td>\n",
       "      <td>12000</td>\n",
       "    </tr>\n",
       "    <tr>\n",
       "      <th>4</th>\n",
       "      <td>上地</td>\n",
       "      <td>|</td>\n",
       "      <td>136</td>\n",
       "      <td>12900</td>\n",
       "    </tr>\n",
       "  </tbody>\n",
       "</table>\n",
       "</div>"
      ],
      "text/plain": [
       "  location community square   rent\n",
       "0       上地         |    314  25500\n",
       "1       上地         |    114  10500\n",
       "2       上地         |    125  11000\n",
       "3       上地         |    106  12000\n",
       "4       上地         |    136  12900"
      ]
     },
     "execution_count": 35,
     "metadata": {},
     "output_type": "execute_result"
    }
   ],
   "source": [
    "df_rent.head()"
   ]
  },
  {
   "cell_type": "code",
   "execution_count": 36,
   "id": "a35347b0-9956-4c9c-894e-a81d0452eda2",
   "metadata": {},
   "outputs": [
    {
     "data": {
      "text/html": [
       "<div>\n",
       "<style scoped>\n",
       "    .dataframe tbody tr th:only-of-type {\n",
       "        vertical-align: middle;\n",
       "    }\n",
       "\n",
       "    .dataframe tbody tr th {\n",
       "        vertical-align: top;\n",
       "    }\n",
       "\n",
       "    .dataframe thead th {\n",
       "        text-align: right;\n",
       "    }\n",
       "</style>\n",
       "<table border=\"1\" class=\"dataframe\">\n",
       "  <thead>\n",
       "    <tr style=\"text-align: right;\">\n",
       "      <th></th>\n",
       "      <th>location</th>\n",
       "      <th>community</th>\n",
       "      <th>square</th>\n",
       "      <th>rent</th>\n",
       "    </tr>\n",
       "  </thead>\n",
       "  <tbody>\n",
       "    <tr>\n",
       "      <th>count</th>\n",
       "      <td>950</td>\n",
       "      <td>950</td>\n",
       "      <td>950</td>\n",
       "      <td>950</td>\n",
       "    </tr>\n",
       "    <tr>\n",
       "      <th>unique</th>\n",
       "      <td>1</td>\n",
       "      <td>2</td>\n",
       "      <td>131</td>\n",
       "      <td>166</td>\n",
       "    </tr>\n",
       "    <tr>\n",
       "      <th>top</th>\n",
       "      <td>上地</td>\n",
       "      <td>|</td>\n",
       "      <td>59</td>\n",
       "      <td>12000</td>\n",
       "    </tr>\n",
       "    <tr>\n",
       "      <th>freq</th>\n",
       "      <td>950</td>\n",
       "      <td>734</td>\n",
       "      <td>32</td>\n",
       "      <td>50</td>\n",
       "    </tr>\n",
       "  </tbody>\n",
       "</table>\n",
       "</div>"
      ],
      "text/plain": [
       "       location community square   rent\n",
       "count       950       950    950    950\n",
       "unique        1         2    131    166\n",
       "top          上地         |     59  12000\n",
       "freq        950       734     32     50"
      ]
     },
     "execution_count": 36,
     "metadata": {},
     "output_type": "execute_result"
    }
   ],
   "source": [
    "df_rent.describe()"
   ]
  },
  {
   "cell_type": "code",
   "execution_count": 47,
   "id": "87aeb190-b0a2-4072-b457-bfbd2e671583",
   "metadata": {},
   "outputs": [],
   "source": [
    "if not os.path.exists('data'):\n",
    "    os.makedirs('data')"
   ]
  },
  {
   "cell_type": "code",
   "execution_count": 48,
   "id": "a409b580-e21d-4527-b734-5414d36568ed",
   "metadata": {},
   "outputs": [],
   "source": [
    "df_esf.to_excel('data/df_esf_Shangdi.xlsx', index=False)\n",
    "df_rent.to_excel('data/df_rent_Shangdi.xlsx', index=False)"
   ]
  },
  {
   "cell_type": "code",
   "execution_count": 49,
   "id": "7e7c232a-8c4d-400f-9314-eff032372ba9",
   "metadata": {},
   "outputs": [],
   "source": [
    "df_esf.to_csv('data/df_esf_Shangdi.csv', index=False)\n",
    "df_rent.to_csv('data/df_rent_Shangdi.csv', index=False)"
   ]
  },
  {
   "cell_type": "code",
   "execution_count": null,
   "id": "25500810-de1c-47f2-93e8-e22bc0e4f9c5",
   "metadata": {},
   "outputs": [],
   "source": []
  }
 ],
 "metadata": {
  "kernelspec": {
   "display_name": "Python [conda env:base] *",
   "language": "python",
   "name": "conda-base-py"
  },
  "language_info": {
   "codemirror_mode": {
    "name": "ipython",
    "version": 3
   },
   "file_extension": ".py",
   "mimetype": "text/x-python",
   "name": "python",
   "nbconvert_exporter": "python",
   "pygments_lexer": "ipython3",
   "version": "3.12.7"
  }
 },
 "nbformat": 4,
 "nbformat_minor": 5
}
