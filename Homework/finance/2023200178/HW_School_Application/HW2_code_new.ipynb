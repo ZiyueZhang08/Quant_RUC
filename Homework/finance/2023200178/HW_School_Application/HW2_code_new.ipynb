{
 "cells": [
  {
   "cell_type": "code",
   "execution_count": 19,
   "id": "28abb446-9c47-42b1-896b-a866972581e5",
   "metadata": {},
   "outputs": [],
   "source": [
    "import pandas as pd\n",
    "from docxtpl import DocxTemplate\n",
    "from docx2pdf import convert\n",
    "import os\n",
    "import string"
   ]
  },
  {
   "cell_type": "code",
   "execution_count": 20,
   "id": "dc0c0848-8b9e-4ba8-8731-66afc2b2aed0",
   "metadata": {},
   "outputs": [],
   "source": [
    "template_path=r'C:\\Users\\oasis\\code\\HW2\\template.docx'"
   ]
  },
  {
   "cell_type": "code",
   "execution_count": 21,
   "id": "05f8e9f8-7747-41e2-a082-6ba93f72ed9c",
   "metadata": {},
   "outputs": [],
   "source": [
    "def read_template(template_path):\n",
    "    \"\"\"read word template\"\"\"\n",
    "    doc = DocxTemplate(template_path)\n",
    "    return doc"
   ]
  },
  {
   "cell_type": "code",
   "execution_count": 22,
   "id": "d4f5d12e-62bf-4534-a84b-b8d65d9748ab",
   "metadata": {},
   "outputs": [],
   "source": [
    "template_doc=read_template(template_path)"
   ]
  },
  {
   "cell_type": "code",
   "execution_count": 23,
   "id": "14ee7d99-6340-4c83-83a0-fa474714957a",
   "metadata": {},
   "outputs": [],
   "source": [
    "school_path=r'C:\\Users\\oasis\\code\\HW2\\school.xlsx'"
   ]
  },
  {
   "cell_type": "code",
   "execution_count": 24,
   "id": "e0f2a3d9-442c-43dc-bc91-422d9826d464",
   "metadata": {},
   "outputs": [],
   "source": [
    "def read_schools(school_path):\n",
    "    \"\"\"read school list\"\"\"\n",
    "    df = pd.read_excel(school_path)\n",
    "    schools = df['school'].tolist()\n",
    "    return schools"
   ]
  },
  {
   "cell_type": "code",
   "execution_count": 25,
   "id": "76078d0e-4dac-4d8c-b003-a4f658264e99",
   "metadata": {},
   "outputs": [],
   "source": [
    "schools=read_schools(school_path)"
   ]
  },
  {
   "cell_type": "code",
   "execution_count": 26,
   "id": "195c5cdf-2070-4a22-bb29-30c99536b900",
   "metadata": {},
   "outputs": [],
   "source": [
    "journal_path=r'C:\\Users\\oasis\\code\\HW2\\journal.xlsx'"
   ]
  },
  {
   "cell_type": "code",
   "execution_count": 27,
   "id": "5d25f027-a46c-4d90-87aa-1c1c3d4dc23d",
   "metadata": {},
   "outputs": [],
   "source": [
    "def read_journals_dict(journal_path):\n",
    "    df = pd.read_excel(journal_path)\n",
    "    journals_by_area = df.groupby('area')['journal'].apply(list).to_dict()\n",
    "    return journals_by_area"
   ]
  },
  {
   "cell_type": "code",
   "execution_count": 28,
   "id": "5c4e71f2-405c-47c0-a36c-d9738a98108a",
   "metadata": {},
   "outputs": [],
   "source": [
    "journals_by_area=read_journals_dict(journal_path)"
   ]
  },
  {
   "cell_type": "code",
   "execution_count": 11,
   "id": "6e7a0a40-dc60-48a1-9234-e58f62c9956c",
   "metadata": {},
   "outputs": [
    {
     "data": {
      "text/plain": [
       "{'economics': ['American Economic Review',\n",
       "  'Annals of Statistics',\n",
       "  'Review of Economic Studies'],\n",
       " 'finance': ['Journal of Finance',\n",
       "  'Journal of Financial Economics',\n",
       "  'Review of Financial Studies'],\n",
       " 'information management': ['Information Systems Research',\n",
       "  'Journal of the Association for Information Systems',\n",
       "  'Journal of Information Technology']}"
      ]
     },
     "execution_count": 11,
     "metadata": {},
     "output_type": "execute_result"
    }
   ],
   "source": [
    "journals_by_area"
   ]
  },
  {
   "cell_type": "code",
   "execution_count": 35,
   "id": "2b4322f7-3ea9-4047-982b-0154a083e490",
   "metadata": {},
   "outputs": [],
   "source": [
    "skill_path=r'C:\\Users\\oasis\\code\\HW2\\skill.xlsx'"
   ]
  },
  {
   "cell_type": "code",
   "execution_count": 36,
   "id": "901d3585-6a06-4531-b404-cf4ffe78f9c2",
   "metadata": {},
   "outputs": [],
   "source": [
    "def read_skill_dict(skill_path):\n",
    "    df = pd.read_excel(skill_path)\n",
    "    skills_by_area = df.groupby('area')['skill'].apply(list).to_dict()\n",
    "    return skills_by_area"
   ]
  },
  {
   "cell_type": "code",
   "execution_count": 38,
   "id": "94974a83-1324-4c25-ae11-ca2a097ee6b1",
   "metadata": {},
   "outputs": [],
   "source": [
    "skills_by_area=read_skill_dict(skill_path)"
   ]
  },
  {
   "cell_type": "code",
   "execution_count": 39,
   "id": "59f122b9-5b9d-433a-b53e-f664d1967ed7",
   "metadata": {},
   "outputs": [],
   "source": [
    "'''generate individual application letters'''\n",
    "output_dir = r'C:\\Users\\oasis\\code\\HW2\\output_letters'\n",
    "if not os.path.exists(output_dir):\n",
    "    os.makedirs(output_dir)"
   ]
  },
  {
   "cell_type": "code",
   "execution_count": 40,
   "id": "8e5317d2-8651-41ad-8ee1-22e51eefbdf8",
   "metadata": {},
   "outputs": [],
   "source": [
    "def convert_all_docx(output_dir):\n",
    "    try:\n",
    "        convert(output_dir)\n",
    "        return True\n",
    "    except Exception as e:\n",
    "        print(f\"error: {e}\")\n",
    "        return False"
   ]
  },
  {
   "cell_type": "code",
   "execution_count": 43,
   "id": "f3bd1db5-1f06-4ce4-a61f-390620061bc9",
   "metadata": {},
   "outputs": [],
   "source": [
    "def generate_application_letter(template_path, schools, journals_by_area):        \n",
    "    letter_count = 0\n",
    "    area_keys=list(journals_by_area.keys())\n",
    "    \n",
    "    for i in range(len(schools)):\n",
    "            for j in range(len(area_keys)):\n",
    "                current_area=area_keys[j]\n",
    "                current_journals=journals_by_area[current_area]\n",
    "                last_journal = current_journals[-1]\n",
    "                front_journals = current_journals[:-1]\n",
    "                front_str = ', '.join(front_journals)\n",
    "                journal_str = front_str + \" and \" + last_journal\n",
    "                current_skills=skills_by_area[current_area]\n",
    "                skill_str=', '.join(current_skills)\n",
    "\n",
    "                context = {\n",
    "                'name':'Li Bingying',\n",
    "                'school': schools[i],\n",
    "                'area': string.capwords(current_area),\n",
    "                'area_lower':current_area,\n",
    "                'journals': journal_str,\n",
    "                'job': 'quant researcher',\n",
    "                'skill': skill_str,\n",
    "                }\n",
    "                #create document\n",
    "                doc = DocxTemplate(template_path)\n",
    "                doc.render(context)\n",
    "\n",
    "                filename_word=f\"{schools[i]}_{current_area}_application.docx\"\n",
    "                filepath_word=os.path.join(output_dir, filename_word)\n",
    "                doc.save(filepath_word)\n",
    "                letter_count += 1\n",
    "    if convert_all_docx(output_dir):\n",
    "        print(f\"successfully transfer PDF\")\n",
    "    else:\n",
    "        print(f\"fail transferring\")\n",
    "    print(f\"successfully generated{letter_count} application letters to {output_dir}\")\n",
    "    return letter_count"
   ]
  },
  {
   "cell_type": "code",
   "execution_count": 44,
   "id": "c9cee9a8-9cb1-4fb6-87a1-e7d2fe62ce4d",
   "metadata": {},
   "outputs": [
    {
     "data": {
      "application/vnd.jupyter.widget-view+json": {
       "model_id": "ef8c3f365a7943958ad9048060ab9cb2",
       "version_major": 2,
       "version_minor": 0
      },
      "text/plain": [
       "  0%|          | 0/90 [00:00<?, ?it/s]"
      ]
     },
     "metadata": {},
     "output_type": "display_data"
    },
    {
     "name": "stdout",
     "output_type": "stream",
     "text": [
      "successfully transfer PDF\n",
      "successfully generated90 application letters to C:\\Users\\oasis\\code\\HW2\\output_letters\n"
     ]
    },
    {
     "data": {
      "text/plain": [
       "90"
      ]
     },
     "execution_count": 44,
     "metadata": {},
     "output_type": "execute_result"
    }
   ],
   "source": [
    "generate_application_letter(template_path, schools, journals_by_area)"
   ]
  },
  {
   "cell_type": "code",
   "execution_count": null,
   "id": "5ae43058-5a52-484e-965c-1d59f3c53cfa",
   "metadata": {},
   "outputs": [],
   "source": []
  }
 ],
 "metadata": {
  "kernelspec": {
   "display_name": "Python [conda env:base] *",
   "language": "python",
   "name": "conda-base-py"
  },
  "language_info": {
   "codemirror_mode": {
    "name": "ipython",
    "version": 3
   },
   "file_extension": ".py",
   "mimetype": "text/x-python",
   "name": "python",
   "nbconvert_exporter": "python",
   "pygments_lexer": "ipython3",
   "version": "3.12.7"
  }
 },
 "nbformat": 4,
 "nbformat_minor": 5
}
