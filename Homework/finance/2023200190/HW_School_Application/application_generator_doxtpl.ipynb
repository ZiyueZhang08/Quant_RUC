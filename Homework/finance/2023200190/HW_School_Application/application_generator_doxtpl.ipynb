{
 "cells": [
  {
   "cell_type": "code",
   "execution_count": null,
   "id": "bf5d205b",
   "metadata": {},
   "outputs": [],
   "source": [
    "# Coded by 2023200190, with the assistance of Doubao AI\n",
    "# \"docxtpl\" is exactly much better than \"python-docx\" to complete this task. This is what I learn after being tortured by \"python-docx\".\n",
    "\n",
    "# Import the required packages\n",
    "import pandas as pd\n",
    "from docxtpl import DocxTemplate\n",
    "import os"
   ]
  },
  {
   "cell_type": "code",
   "execution_count": 2,
   "id": "1494ca54",
   "metadata": {},
   "outputs": [],
   "source": [
    "# Read the data from two excel list\n",
    "df_universities = pd.read_excel(\"universities_30.xlsx\")\n",
    "df_information = pd.read_excel(\"areas_journals_skills.xlsx\")"
   ]
  },
  {
   "cell_type": "code",
   "execution_count": null,
   "id": "c9a5ed89",
   "metadata": {},
   "outputs": [],
   "source": [
    "def application_generator(df_universities,df_information,template):\n",
    "    '''\n",
    "    This function is used to generate application letter with specific format of information\n",
    "    '''\n",
    "    \n",
    "    # Store the data in a dictionary, which contains all of the substitution for one peice of letter\n",
    "    # Then store those dictionaries in to a list, which contains 90 items\n",
    "    information_bank = []\n",
    "    for university in df_universities[\"UNIVERSITIES\"]:\n",
    "        for number in range(0,(len(df_information[\"column0\"])-1)):\n",
    "            template_fill = {\"university_names\":university,\"interested_research_areas\":df_information[\"column0\"][number],\"top_journals\":df_information[\"column1\"][number],\"skills\":df_information[\"column1\"][3]}\n",
    "            information_bank.append(template_fill)\n",
    "    script_dir = os.path.dirname(os.path.abspath(os.getcwd())) # Locate the path of the work folder\n",
    "    subfolder_name = \"application_letters_90_1\" # Name the subfolder to store our letters\n",
    "    subfolder_path = os.path.join(script_dir, subfolder_name) # join the full name of the path\n",
    "    os.makedirs(subfolder_path, exist_ok=True) # Determin whether the folder is already existed or not, if not then create a new one\n",
    "    for bundle in information_bank:\n",
    "        template.render(bundle)\n",
    "        university_name = bundle[\"university_names\"] # Give each letter a name with university\n",
    "        interested_research_area = bundle[\"interested_research_areas\"] # Give each letter a name with area\n",
    "        output_filename = f\"{university_name}_{interested_research_area}_application_letter.docx\" # Generate the full name\n",
    "        save_path = os.path.join(subfolder_path, output_filename) # Generate the full path\n",
    "        template.save(save_path) # Create one letter for every dictionary\n",
    "    print(f\"The application letters are saved at: {subfolder_path}\") # When the whole generation is finished, print where the folder is"
   ]
  },
  {
   "cell_type": "code",
   "execution_count": null,
   "id": "a80aed34",
   "metadata": {},
   "outputs": [
    {
     "name": "stdout",
     "output_type": "stream",
     "text": [
      "The application letters are saved at: d:\\programming_station\\application_letters_90_1\n"
     ]
    }
   ],
   "source": [
    "# Read the data from two excel list and template\n",
    "df_universities = pd.read_excel(\"universities_30.xlsx\")\n",
    "df_information = pd.read_excel(\"areas_journals_skills.xlsx\")\n",
    "template = DocxTemplate(\"application_letter_template _doxtpl.docx\")\n",
    "\n",
    "# Use the function to generate application letter\n",
    "application_generator(df_universities,df_information,template)\n"
   ]
  }
 ],
 "metadata": {
  "kernelspec": {
   "display_name": "tf_env",
   "language": "python",
   "name": "python3"
  },
  "language_info": {
   "codemirror_mode": {
    "name": "ipython",
    "version": 3
   },
   "file_extension": ".py",
   "mimetype": "text/x-python",
   "name": "python",
   "nbconvert_exporter": "python",
   "pygments_lexer": "ipython3",
   "version": "3.12.11"
  }
 },
 "nbformat": 4,
 "nbformat_minor": 5
}
