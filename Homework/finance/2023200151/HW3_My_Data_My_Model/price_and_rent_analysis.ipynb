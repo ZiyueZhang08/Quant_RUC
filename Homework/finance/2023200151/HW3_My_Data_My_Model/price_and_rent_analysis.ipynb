{
 "cells": [
  {
   "cell_type": "code",
   "execution_count": 2,
   "id": "712ed295-6929-47e9-9735-b62dfbaf52b0",
   "metadata": {},
   "outputs": [],
   "source": [
    "from selenium import webdriver\n",
    "from selenium.webdriver.chrome.service import Service\n",
    "from time import sleep\n",
    "import pandas as pd\n",
    "from io import StringIO\n",
    "from functools import partial\n",
    "import matplotlib.pyplot as plt\n",
    "from selenium.webdriver.support import expected_conditions as EC\n",
    "from selenium.webdriver.common.by import By\n",
    "from selenium.common import NoSuchElementException,StaleElementReferenceException\n",
    "from matplotlib import style"
   ]
  },
  {
   "cell_type": "code",
   "execution_count": 3,
   "id": "c3579301-9f59-4445-88c8-2aac02006d24",
   "metadata": {},
   "outputs": [],
   "source": [
    "df_konggang_price = pd.read_parquet(\"konggang_housing_price.parquet\")"
   ]
  },
  {
   "cell_type": "code",
   "execution_count": 4,
   "id": "42eca1e1-32fe-43b5-911c-805d395a694e",
   "metadata": {},
   "outputs": [],
   "source": [
    "df_konggang_rent = pd.read_parquet(\"konggang_housing_rent.parquet\")"
   ]
  },
  {
   "cell_type": "code",
   "execution_count": 5,
   "id": "2270f809-13e0-4939-a201-1266be20299a",
   "metadata": {},
   "outputs": [],
   "source": [
    "df_longtousi_price = pd.read_parquet(\"Longtousi_sale_data_20pages(2).parquet\")"
   ]
  },
  {
   "cell_type": "code",
   "execution_count": 6,
   "id": "4f51e8a4-66f0-4232-b4f0-e45b1759cffc",
   "metadata": {},
   "outputs": [],
   "source": [
    "df_longtousi_rent = pd.read_parquet(\"Longtousi_rental_data_20pages(2).parquet\")"
   ]
  },
  {
   "cell_type": "code",
   "execution_count": 7,
   "id": "b58af607-4bfa-4ace-9cce-672cc199cae4",
   "metadata": {},
   "outputs": [],
   "source": [
    "df_dazhulin_price = pd.read_parquet(\"dazhulin_sale.parquet\")"
   ]
  },
  {
   "cell_type": "code",
   "execution_count": 8,
   "id": "adbd67f6-321b-4ede-bf4b-13b98f6c530c",
   "metadata": {},
   "outputs": [],
   "source": [
    "df_dazhulin_rent = pd.read_parquet(\"dazhulin_rent.parquet\")"
   ]
  },
  {
   "cell_type": "code",
   "execution_count": 9,
   "id": "8f0bb905-6105-4bef-bbf1-df128cecb60d",
   "metadata": {},
   "outputs": [],
   "source": [
    "df_centralpark_price = pd.read_parquet(\"CentralPark_sale_data.parquet\")"
   ]
  },
  {
   "cell_type": "code",
   "execution_count": 10,
   "id": "da480767-35d8-4fa9-8028-4923e63e5bbe",
   "metadata": {},
   "outputs": [],
   "source": [
    "df_centralpark_rent = pd.read_parquet(\"CentralPark_rent_data.parquet\")"
   ]
  },
  {
   "cell_type": "markdown",
   "id": "2031a277-60fd-4dc5-8009-a648e980afdd",
   "metadata": {},
   "source": [
    "接下来是处理然后合并数据，首先是price"
   ]
  },
  {
   "cell_type": "code",
   "execution_count": 11,
   "id": "fcbb16e7-15c9-4ad2-9aee-e62c8ed67ed9",
   "metadata": {
    "jupyter": {
     "source_hidden": true
    }
   },
   "outputs": [],
   "source": [
    "df_konggang_price[[\"Area\",\"Total_price\",\"Block\"]] = df_konggang_price[['面积（㎡）','价格（元）','block']]\n",
    "\n",
    "df_konggang_price = df_konggang_price[[\"Area\",\"Total_price\",\"Block\"]].copy()\n",
    "\n",
    "df_longtousi_price[\"Block\"] = \"龙头寺\"\n",
    "df_longtousi_price[\"Total_price\"] = df_longtousi_price['Price'].astype(float)*10000\n",
    "df_longtousi_price = df_longtousi_price[[\"Area\",\"Total_price\",\"Block\"]].copy()\n",
    "\n",
    "df_dazhulin_price[[\"Area\",\"Total_price\",\"Block\"]] = df_dazhulin_price[['面积','总价','区域']]\n",
    "df_dazhulin_price = df_dazhulin_price[[\"Area\",\"Total_price\",\"Block\"]].copy()\n",
    "\n",
    "df_centralpark_price[\"Block\"] = \"中央公园\"\n",
    "df_centralpark_price[\"Total_price\"] = df_centralpark_price['Price'].astype(float)*10000\n",
    "df_centralpark_price = df_centralpark_price[[\"Area\",\"Total_price\",\"Block\"]].copy()\n",
    "\n",
    "df_konggang_price['id'] = df_konggang_price.index\n",
    "df_centralpark_price['id'] = df_centralpark_price.index\n",
    "df_longtousi_price['id'] = df_longtousi_price.index\n",
    "df_dazhulin_price['id'] = df_dazhulin_price.index\n",
    "\n",
    "df_concatenated_price = pd.concat([df_konggang_price, df_centralpark_price, df_longtousi_price, df_dazhulin_price], ignore_index=True)\n",
    "df_concatenated_price[[\"Area\", \"Total_price\"]] = df_concatenated_price[[\"Area\", \"Total_price\"]].astype(float)"
   ]
  },
  {
   "cell_type": "markdown",
   "id": "6cdf867b-a2ea-4954-80cd-5c7997bd4d33",
   "metadata": {},
   "source": [
    "接下来是rent数据的合并"
   ]
  },
  {
   "cell_type": "code",
   "execution_count": 12,
   "id": "9da97114-4584-4dad-ac3e-f08c6abab66c",
   "metadata": {
    "scrolled": true
   },
   "outputs": [],
   "source": [
    "df_konggang_rent[[\"Area\",\"Total_rent\",\"Block\"]] = df_konggang_rent[['面积（㎡）','价格（元/月）','block']]\n",
    "\n",
    "df_konggang_rent = df_konggang_rent[[\"Area\",\"Total_rent\",\"Block\"]].copy()\n",
    "\n",
    "df_longtousi_rent[\"Block\"] = \"龙头寺\"\n",
    "df_longtousi_rent[\"Total_rent\"] = df_longtousi_rent['Rent']\n",
    "df_longtousi_rent = df_longtousi_rent[[\"Area\",\"Total_rent\",\"Block\"]].copy()\n",
    "\n",
    "df_dazhulin_rent[\"Block\"] = \"大竹林\"\n",
    "df_dazhulin_rent[[\"Area\",\"Total_rent\"]] = df_dazhulin_rent[['面积','月租金']]\n",
    "df_dazhulin_rent = df_dazhulin_rent[[\"Area\",\"Total_rent\",\"Block\"]].copy()\n",
    "\n",
    "df_centralpark_rent[\"Block\"] = \"中央公园\"\n",
    "df_centralpark_rent[\"Total_rent\"] = df_centralpark_rent['Rent']\n",
    "df_centralpark_rent = df_centralpark_rent[[\"Area\",\"Total_rent\",\"Block\"]].copy()\n",
    "\n",
    "df_konggang_rent['id'] = df_konggang_rent.index\n",
    "df_centralpark_rent['id'] = df_centralpark_rent.index\n",
    "df_longtousi_rent['id'] = df_longtousi_rent.index\n",
    "df_dazhulin_rent['id'] = df_dazhulin_rent.index\n",
    "\n",
    "df_concatenated_rent = pd.concat([df_konggang_rent, df_centralpark_rent, df_longtousi_rent, df_dazhulin_rent], ignore_index=True)\n",
    "df_concatenated_rent[[\"Area\", \"Total_rent\"]] = df_concatenated_rent[[\"Area\", \"Total_rent\"]].astype(float)"
   ]
  },
  {
   "cell_type": "code",
   "execution_count": 13,
   "id": "589f662a-b119-464b-aa25-89682fbf0141",
   "metadata": {},
   "outputs": [
    {
     "data": {
      "text/html": [
       "<div>\n",
       "<style scoped>\n",
       "    .dataframe tbody tr th:only-of-type {\n",
       "        vertical-align: middle;\n",
       "    }\n",
       "\n",
       "    .dataframe tbody tr th {\n",
       "        vertical-align: top;\n",
       "    }\n",
       "\n",
       "    .dataframe thead th {\n",
       "        text-align: right;\n",
       "    }\n",
       "</style>\n",
       "<table border=\"1\" class=\"dataframe\">\n",
       "  <thead>\n",
       "    <tr style=\"text-align: right;\">\n",
       "      <th></th>\n",
       "      <th>Area</th>\n",
       "      <th>Total_rent</th>\n",
       "      <th>Block</th>\n",
       "      <th>id</th>\n",
       "    </tr>\n",
       "  </thead>\n",
       "  <tbody>\n",
       "    <tr>\n",
       "      <th>0</th>\n",
       "      <td>37.0</td>\n",
       "      <td>1300.0</td>\n",
       "      <td>空港</td>\n",
       "      <td>0</td>\n",
       "    </tr>\n",
       "    <tr>\n",
       "      <th>1</th>\n",
       "      <td>21.0</td>\n",
       "      <td>600.0</td>\n",
       "      <td>空港</td>\n",
       "      <td>1</td>\n",
       "    </tr>\n",
       "    <tr>\n",
       "      <th>2</th>\n",
       "      <td>130.0</td>\n",
       "      <td>1600.0</td>\n",
       "      <td>空港</td>\n",
       "      <td>2</td>\n",
       "    </tr>\n",
       "    <tr>\n",
       "      <th>3</th>\n",
       "      <td>283.0</td>\n",
       "      <td>2800.0</td>\n",
       "      <td>空港</td>\n",
       "      <td>3</td>\n",
       "    </tr>\n",
       "    <tr>\n",
       "      <th>4</th>\n",
       "      <td>105.0</td>\n",
       "      <td>1900.0</td>\n",
       "      <td>空港</td>\n",
       "      <td>4</td>\n",
       "    </tr>\n",
       "    <tr>\n",
       "      <th>...</th>\n",
       "      <td>...</td>\n",
       "      <td>...</td>\n",
       "      <td>...</td>\n",
       "      <td>...</td>\n",
       "    </tr>\n",
       "    <tr>\n",
       "      <th>3309</th>\n",
       "      <td>250.0</td>\n",
       "      <td>10000.0</td>\n",
       "      <td>大竹林</td>\n",
       "      <td>410</td>\n",
       "    </tr>\n",
       "    <tr>\n",
       "      <th>3310</th>\n",
       "      <td>150.0</td>\n",
       "      <td>780.0</td>\n",
       "      <td>大竹林</td>\n",
       "      <td>411</td>\n",
       "    </tr>\n",
       "    <tr>\n",
       "      <th>3311</th>\n",
       "      <td>141.0</td>\n",
       "      <td>3200.0</td>\n",
       "      <td>大竹林</td>\n",
       "      <td>412</td>\n",
       "    </tr>\n",
       "    <tr>\n",
       "      <th>3312</th>\n",
       "      <td>230.0</td>\n",
       "      <td>16000.0</td>\n",
       "      <td>大竹林</td>\n",
       "      <td>413</td>\n",
       "    </tr>\n",
       "    <tr>\n",
       "      <th>3313</th>\n",
       "      <td>110.0</td>\n",
       "      <td>2800.0</td>\n",
       "      <td>大竹林</td>\n",
       "      <td>414</td>\n",
       "    </tr>\n",
       "  </tbody>\n",
       "</table>\n",
       "<p>3314 rows × 4 columns</p>\n",
       "</div>"
      ],
      "text/plain": [
       "       Area  Total_rent Block   id\n",
       "0      37.0      1300.0    空港    0\n",
       "1      21.0       600.0    空港    1\n",
       "2     130.0      1600.0    空港    2\n",
       "3     283.0      2800.0    空港    3\n",
       "4     105.0      1900.0    空港    4\n",
       "...     ...         ...   ...  ...\n",
       "3309  250.0     10000.0   大竹林  410\n",
       "3310  150.0       780.0   大竹林  411\n",
       "3311  141.0      3200.0   大竹林  412\n",
       "3312  230.0     16000.0   大竹林  413\n",
       "3313  110.0      2800.0   大竹林  414\n",
       "\n",
       "[3314 rows x 4 columns]"
      ]
     },
     "execution_count": 13,
     "metadata": {},
     "output_type": "execute_result"
    }
   ],
   "source": [
    "df_concatenated_rent"
   ]
  },
  {
   "cell_type": "code",
   "execution_count": 14,
   "id": "088ef0b2-4ce3-4a8c-a1bd-22a0da42c495",
   "metadata": {},
   "outputs": [
    {
     "data": {
      "text/html": [
       "<div>\n",
       "<style scoped>\n",
       "    .dataframe tbody tr th:only-of-type {\n",
       "        vertical-align: middle;\n",
       "    }\n",
       "\n",
       "    .dataframe tbody tr th {\n",
       "        vertical-align: top;\n",
       "    }\n",
       "\n",
       "    .dataframe thead th {\n",
       "        text-align: right;\n",
       "    }\n",
       "</style>\n",
       "<table border=\"1\" class=\"dataframe\">\n",
       "  <thead>\n",
       "    <tr style=\"text-align: right;\">\n",
       "      <th></th>\n",
       "      <th>Area</th>\n",
       "      <th>Total_price</th>\n",
       "      <th>Block</th>\n",
       "      <th>id</th>\n",
       "    </tr>\n",
       "  </thead>\n",
       "  <tbody>\n",
       "    <tr>\n",
       "      <th>0</th>\n",
       "      <td>90.000000</td>\n",
       "      <td>680000.0</td>\n",
       "      <td>空港</td>\n",
       "      <td>0</td>\n",
       "    </tr>\n",
       "    <tr>\n",
       "      <th>1</th>\n",
       "      <td>96.430000</td>\n",
       "      <td>670000.0</td>\n",
       "      <td>空港</td>\n",
       "      <td>1</td>\n",
       "    </tr>\n",
       "    <tr>\n",
       "      <th>2</th>\n",
       "      <td>90.000000</td>\n",
       "      <td>700000.0</td>\n",
       "      <td>空港</td>\n",
       "      <td>2</td>\n",
       "    </tr>\n",
       "    <tr>\n",
       "      <th>3</th>\n",
       "      <td>81.000000</td>\n",
       "      <td>470000.0</td>\n",
       "      <td>空港</td>\n",
       "      <td>3</td>\n",
       "    </tr>\n",
       "    <tr>\n",
       "      <th>4</th>\n",
       "      <td>80.000000</td>\n",
       "      <td>480000.0</td>\n",
       "      <td>空港</td>\n",
       "      <td>4</td>\n",
       "    </tr>\n",
       "    <tr>\n",
       "      <th>...</th>\n",
       "      <td>...</td>\n",
       "      <td>...</td>\n",
       "      <td>...</td>\n",
       "      <td>...</td>\n",
       "    </tr>\n",
       "    <tr>\n",
       "      <th>4795</th>\n",
       "      <td>148.879605</td>\n",
       "      <td>1960000.0</td>\n",
       "      <td>大竹林</td>\n",
       "      <td>1195</td>\n",
       "    </tr>\n",
       "    <tr>\n",
       "      <th>4796</th>\n",
       "      <td>239.991830</td>\n",
       "      <td>4700000.0</td>\n",
       "      <td>大竹林</td>\n",
       "      <td>1196</td>\n",
       "    </tr>\n",
       "    <tr>\n",
       "      <th>4797</th>\n",
       "      <td>216.999399</td>\n",
       "      <td>6500000.0</td>\n",
       "      <td>大竹林</td>\n",
       "      <td>1197</td>\n",
       "    </tr>\n",
       "    <tr>\n",
       "      <th>4798</th>\n",
       "      <td>264.185072</td>\n",
       "      <td>5550000.0</td>\n",
       "      <td>大竹林</td>\n",
       "      <td>1198</td>\n",
       "    </tr>\n",
       "    <tr>\n",
       "      <th>4799</th>\n",
       "      <td>153.968978</td>\n",
       "      <td>2700000.0</td>\n",
       "      <td>大竹林</td>\n",
       "      <td>1199</td>\n",
       "    </tr>\n",
       "  </tbody>\n",
       "</table>\n",
       "<p>4800 rows × 4 columns</p>\n",
       "</div>"
      ],
      "text/plain": [
       "            Area  Total_price Block    id\n",
       "0      90.000000     680000.0    空港     0\n",
       "1      96.430000     670000.0    空港     1\n",
       "2      90.000000     700000.0    空港     2\n",
       "3      81.000000     470000.0    空港     3\n",
       "4      80.000000     480000.0    空港     4\n",
       "...          ...          ...   ...   ...\n",
       "4795  148.879605    1960000.0   大竹林  1195\n",
       "4796  239.991830    4700000.0   大竹林  1196\n",
       "4797  216.999399    6500000.0   大竹林  1197\n",
       "4798  264.185072    5550000.0   大竹林  1198\n",
       "4799  153.968978    2700000.0   大竹林  1199\n",
       "\n",
       "[4800 rows x 4 columns]"
      ]
     },
     "execution_count": 14,
     "metadata": {},
     "output_type": "execute_result"
    }
   ],
   "source": [
    "df_concatenated_price"
   ]
  },
  {
   "cell_type": "markdown",
   "id": "01b04148-e39c-4872-8d6e-98d8ab0417e0",
   "metadata": {},
   "source": [
    "接下来是数据描述与异常值检验"
   ]
  },
  {
   "cell_type": "code",
   "execution_count": 15,
   "id": "0f255c9a-4b33-4bd9-bad0-517778957b90",
   "metadata": {},
   "outputs": [],
   "source": [
    "import pandas as pd\n",
    "import numpy as np\n",
    "import matplotlib.pyplot as plt\n",
    "import seaborn as sns\n",
    "from sklearn.linear_model import LinearRegression\n",
    "from sklearn.preprocessing import PolynomialFeatures\n",
    "from sklearn.metrics import r2_score\n",
    "from sklearn.model_selection import train_test_split\n",
    "import warnings\n",
    "warnings.filterwarnings('ignore')\n",
    "\n",
    "# 设置中文字体\n",
    "plt.rcParams['font.sans-serif'] = ['SimHei']\n",
    "plt.rcParams['axes.unicode_minus'] = False"
   ]
  },
  {
   "cell_type": "code",
   "execution_count": 16,
   "id": "392db731-b26c-4e8b-acea-4c37b1681211",
   "metadata": {
    "scrolled": true
   },
   "outputs": [
    {
     "name": "stdout",
     "output_type": "stream",
     "text": [
      "\n",
      "房价数据描述:\n",
      "              Area   Total_price           id\n",
      "count  4799.000000  4.800000e+03  4800.000000\n",
      "mean    126.234576  1.788423e+06   599.500000\n",
      "std      72.671163  2.092911e+06   346.446131\n",
      "min      27.000000  1.850000e+05     0.000000\n",
      "25%      90.000000  8.500000e+05   299.750000\n",
      "50%     109.450000  1.325000e+06   599.500000\n",
      "75%     139.000000  2.000000e+06   899.250000\n",
      "max     864.540000  4.800000e+07  1199.000000\n",
      "\n",
      "房价数据异常值数量: 341\n",
      "\n",
      "租金数据描述:\n",
      "              Area    Total_rent           id\n",
      "count  3314.000000   3314.000000  3314.000000\n",
      "mean     99.802052   2619.651780   497.572722\n",
      "std      48.066818   2541.759391   345.343759\n",
      "min      18.000000    130.000000     0.000000\n",
      "25%      79.000000   1600.000000   207.000000\n",
      "50%      95.000000   2200.000000   414.000000\n",
      "75%     116.000000   2800.000000   785.000000\n",
      "max     600.000000  36000.000000  1199.000000\n",
      "\n",
      "租金数据异常值数量: 166\n"
     ]
    }
   ],
   "source": [
    "# 数据描述函数\n",
    "def describe_data(df, data_type):\n",
    "    print(f\"\\n{data_type}数据描述:\")\n",
    "    print(df.describe())\n",
    "    \n",
    "    # 检查异常值 (使用IQR方法)\n",
    "    Q1 = df['Area'].quantile(0.25)\n",
    "    Q3 = df['Area'].quantile(0.75)\n",
    "    IQR = Q3 - Q1\n",
    "    lower_bound = Q1 - 1.5 * IQR\n",
    "    upper_bound = Q3 + 1.5 * IQR\n",
    "    \n",
    "    outliers = df[(df['Area'] < lower_bound) | (df['Area'] > upper_bound)]\n",
    "    print(f\"\\n{data_type}数据异常值数量: {len(outliers)}\")\n",
    "    \n",
    "    return outliers\n",
    "\n",
    "# 描述房价数据\n",
    "price_outliers = describe_data(df_concatenated_price, \"房价\")\n",
    "# 描述租金数据  \n",
    "rent_outliers = describe_data(df_concatenated_rent, \"租金\")\n",
    "\n"
   ]
  },
  {
   "cell_type": "markdown",
   "id": "1e68466f-4ec8-4a79-b997-23f94b5a8df8",
   "metadata": {},
   "source": [
    "计算每个Block的单位房屋定价和租金"
   ]
  },
  {
   "cell_type": "code",
   "execution_count": 17,
   "id": "94d0d7ea-e004-4c68-9e07-cd4c3257a02b",
   "metadata": {},
   "outputs": [
    {
     "name": "stdout",
     "output_type": "stream",
     "text": [
      "每个区块的房价统计描述:\n",
      "      price_per_m2                                                    Area  \\\n",
      "             count      mean    median      std      min       max    mean   \n",
      "Block                                                                        \n",
      "中央公园          1200  14281.21  13972.60  4004.78  4059.54  62595.42  146.67   \n",
      "大竹林           1200  16023.63  15318.50  5043.61  6703.00  58462.00  144.77   \n",
      "空港            1199   7453.84   7305.49  1612.37  3337.69  14365.75   95.38   \n",
      "龙头寺           1200  13169.77  12637.36  3658.05  6339.87  33448.01  118.09   \n",
      "\n",
      "               \n",
      "       median  \n",
      "Block          \n",
      "中央公园   123.38  \n",
      "大竹林    132.73  \n",
      "空港      91.00  \n",
      "龙头寺    102.76  \n",
      "\n",
      "每个区块的租金统计描述:\n",
      "      rent_per_m2                                       Area       \n",
      "            count   mean median    std   min     max    mean median\n",
      "Block                                                              \n",
      "中央公园         1200  24.88  25.00  11.11  1.31  106.19   97.48   96.0\n",
      "大竹林           415  30.71  29.17  12.38  5.20   97.56  125.35  117.0\n",
      "空港            499  20.77  19.28   7.07  6.82   48.78   80.19   80.0\n",
      "龙头寺          1200  27.77  25.00  12.38  5.60  256.41  101.44   93.0\n"
     ]
    }
   ],
   "source": [
    "# 计算每平方米价格和租金\n",
    "df_concatenated_price['price_per_m2'] = df_concatenated_price['Total_price'] / df_concatenated_price['Area']\n",
    "df_concatenated_rent['rent_per_m2'] = df_concatenated_rent['Total_rent'] / df_concatenated_rent['Area']\n",
    "# 分别计算每个区块的房价和租金统计\n",
    "price_block_stats = df_concatenated_price.groupby('Block').agg({\n",
    "    'price_per_m2': ['count', 'mean', 'median', 'std', 'min', 'max'],\n",
    "    'Area': ['mean', 'median']\n",
    "}).round(2)\n",
    "\n",
    "rent_block_stats = df_concatenated_rent.groupby('Block').agg({\n",
    "    'rent_per_m2': ['count', 'mean', 'median', 'std', 'min', 'max'],\n",
    "    'Area': ['mean', 'median']\n",
    "}).round(2)\n",
    "\n",
    "print(\"每个区块的房价统计描述:\")\n",
    "print(price_block_stats)\n",
    "print(\"\\n每个区块的租金统计描述:\")\n",
    "print(rent_block_stats)"
   ]
  },
  {
   "cell_type": "markdown",
   "id": "180bed0d-44f5-4b88-b86e-c38354da53cf",
   "metadata": {},
   "source": [
    "检验不同Block的异常值"
   ]
  },
  {
   "cell_type": "code",
   "execution_count": 18,
   "id": "48449219-ea46-4c80-a8c7-4110f582de5d",
   "metadata": {},
   "outputs": [
    {
     "name": "stdout",
     "output_type": "stream",
     "text": [
      "=== 数据清洗 - 处理缺失值和异常值 ===\n",
      "处理缺失值...\n",
      "房价数据: 删除缺失值后 4799 行 (原 4800 行)\n",
      "租金数据: 删除缺失值后 3314 行 (原 3314 行)\n",
      "\n",
      "计算每平方米价格和租金...\n",
      "\n",
      "删除异常值...\n",
      "Area列: 删除异常值 341 个\n",
      "price_per_m2列: 删除异常值 38 个\n",
      "Area列: 删除异常值 166 个\n",
      "rent_per_m2列: 删除异常值 91 个\n",
      "\n",
      "区块级别的异常值检测:\n",
      "区块 空港: 房价异常值 36 个, 租金异常值 30 个\n",
      "区块 大竹林: 房价异常值 1 个, 租金异常值 35 个\n",
      "区块 中央公园: 房价异常值 11 个, 租金异常值 0 个\n",
      "区块 龙头寺: 房价异常值 19 个, 租金异常值 59 个\n",
      "\n",
      "最终数据量:\n",
      "房价数据: 4353 行\n",
      "租金数据: 2933 行\n"
     ]
    }
   ],
   "source": [
    "import pandas as pd\n",
    "import numpy as np\n",
    "\n",
    "print(\"=== 数据清洗 - 处理缺失值和异常值 ===\")\n",
    "\n",
    "# 1. 处理缺失值\n",
    "print(\"处理缺失值...\")\n",
    "\n",
    "# 房价数据缺失值处理\n",
    "original_len = len(df_concatenated_price)\n",
    "df_concatenated_price = df_concatenated_price.dropna(subset=['Area', 'Total_price'])\n",
    "print(f\"房价数据: 删除缺失值后 {len(df_concatenated_price)} 行 (原 {original_len} 行)\")\n",
    "\n",
    "# 租金数据缺失值处理\n",
    "original_len = len(df_concatenated_rent)\n",
    "df_concatenated_rent = df_concatenated_rent.dropna(subset=['Area', 'Total_rent'])\n",
    "print(f\"租金数据: 删除缺失值后 {len(df_concatenated_rent)} 行 (原 {original_len} 行)\")\n",
    "\n",
    "# 2. 计算每平方米价格和租金\n",
    "print(\"\\n计算每平方米价格和租金...\")\n",
    "df_concatenated_price['price_per_m2'] = df_concatenated_price['Total_price'] / df_concatenated_price['Area']\n",
    "df_concatenated_rent['rent_per_m2'] = df_concatenated_rent['Total_rent'] / df_concatenated_rent['Area']\n",
    "\n",
    "# 3. 检测和删除异常值\n",
    "def detect_and_remove_outliers(df, column):\n",
    "    \"\"\"检测并删除异常值\"\"\"\n",
    "    original_len = len(df)\n",
    "    \n",
    "    Q1 = df[column].quantile(0.25)\n",
    "    Q3 = df[column].quantile(0.75)\n",
    "    IQR = Q3 - Q1\n",
    "    lower_bound = Q1 - 1.5 * IQR\n",
    "    upper_bound = Q3 + 1.5 * IQR\n",
    "    \n",
    "    # 删除异常值\n",
    "    df = df[(df[column] >= lower_bound) & (df[column] <= upper_bound)]\n",
    "    \n",
    "    print(f\"{column}列: 删除异常值 {original_len - len(df)} 个\")\n",
    "    return df\n",
    "\n",
    "print(\"\\n删除异常值...\")\n",
    "# 处理房价异常值\n",
    "df_concatenated_price = detect_and_remove_outliers(df_concatenated_price, 'Area')\n",
    "df_concatenated_price = detect_and_remove_outliers(df_concatenated_price, 'price_per_m2')\n",
    "\n",
    "# 处理租金异常值\n",
    "df_concatenated_rent = detect_and_remove_outliers(df_concatenated_rent, 'Area')\n",
    "df_concatenated_rent = detect_and_remove_outliers(df_concatenated_rent, 'rent_per_m2')\n",
    "\n",
    "# 4. 区块级别的异常值检测和删除\n",
    "print(\"\\n区块级别的异常值检测:\")\n",
    "all_blocks = set(df_concatenated_price['Block'].unique()) | set(df_concatenated_rent['Block'].unique())\n",
    "\n",
    "def detect_block_outliers(df, column, block):\n",
    "    block_data = df[df['Block'] == block][column]\n",
    "    if len(block_data) == 0:\n",
    "        return pd.DataFrame()\n",
    "    \n",
    "    Q1 = block_data.quantile(0.25)\n",
    "    Q3 = block_data.quantile(0.75)\n",
    "    IQR = Q3 - Q1\n",
    "    lower_bound = Q1 - 1.5 * IQR\n",
    "    upper_bound = Q3 + 1.5 * IQR\n",
    "    \n",
    "    outliers = df[(df['Block'] == block) & ((df[column] < lower_bound) | (df[column] > upper_bound))]\n",
    "    return outliers\n",
    "\n",
    "# 检测并删除区块级别的异常值\n",
    "for block in all_blocks:\n",
    "    price_outliers_block = detect_block_outliers(df_concatenated_price, 'price_per_m2', block)\n",
    "    rent_outliers_block = detect_block_outliers(df_concatenated_rent, 'rent_per_m2', block)\n",
    "    print(f\"区块 {block}: 房价异常值 {len(price_outliers_block)} 个, 租金异常值 {len(rent_outliers_block)} 个\")\n",
    "    \n",
    "    # 删除检测到的异常值\n",
    "    if len(price_outliers_block) > 0:\n",
    "        df_concatenated_price = df_concatenated_price.drop(price_outliers_block.index)\n",
    "    if len(rent_outliers_block) > 0:\n",
    "        df_concatenated_rent = df_concatenated_rent.drop(rent_outliers_block.index)\n",
    "\n",
    "print(f\"\\n最终数据量:\")\n",
    "print(f\"房价数据: {len(df_concatenated_price)} 行\")\n",
    "print(f\"租金数据: {len(df_concatenated_rent)} 行\")"
   ]
  },
  {
   "cell_type": "markdown",
   "id": "b096650c-8bd2-4f05-bff3-a41416bc6b3d",
   "metadata": {},
   "source": [
    "计算不同Block的房价租金比"
   ]
  },
  {
   "cell_type": "code",
   "execution_count": 19,
   "id": "73ea7c2f-6fed-467b-a8e2-5b8e22f99653",
   "metadata": {},
   "outputs": [
    {
     "name": "stdout",
     "output_type": "stream",
     "text": [
      "各区块中位房价租金比:\n",
      "区块 中央公园: 552.19\n",
      "区块 大竹林: 525.36\n",
      "区块 龙头寺: 500.78\n",
      "区块 空港: 384.86\n"
     ]
    }
   ],
   "source": [
    "# 计算每个区块的中位房价和中位租金\n",
    "median_price_by_block = df_concatenated_price.groupby('Block')['price_per_m2'].median()\n",
    "median_rent_by_block = df_concatenated_rent.groupby('Block')['rent_per_m2'].median()\n",
    "\n",
    "# 创建包含所有区块的DataFrame - 修正部分\n",
    "# 将集合转换为排序后的列表\n",
    "all_blocks_list = sorted(list(all_blocks))\n",
    "all_blocks_df = pd.DataFrame(index=all_blocks_list)\n",
    "all_blocks_df['median_price'] = median_price_by_block\n",
    "all_blocks_df['median_rent'] = median_rent_by_block\n",
    "\n",
    "# 计算房价租金比\n",
    "all_blocks_df['price_rent_ratio'] = all_blocks_df['median_price'] / all_blocks_df['median_rent']\n",
    "\n",
    "# 移除无限大或NaN的值\n",
    "all_blocks_df = all_blocks_df.replace([np.inf, -np.inf], np.nan).dropna()\n",
    "\n",
    "print(\"各区块中位房价租金比:\")\n",
    "for block, ratio in all_blocks_df['price_rent_ratio'].sort_values(ascending=False).items():\n",
    "    print(f\"区块 {block}: {ratio:.2f}\")"
   ]
  },
  {
   "cell_type": "markdown",
   "id": "efe5df25-74be-42b3-9661-3ad55668cc48",
   "metadata": {},
   "source": [
    " Figure A: Bar Plot the median price to rent ratio for each\n",
    " block "
   ]
  },
  {
   "cell_type": "code",
   "execution_count": 20,
   "id": "369a26f7-3460-4137-a069-1004d5046a04",
   "metadata": {},
   "outputs": [
    {
     "data": {
      "image/png": "[encoded data removed]",
      "text/plain": [
       "<Figure size 1200x600 with 1 Axes>"
      ]
     },
     "metadata": {},
     "output_type": "display_data"
    }
   ],
   "source": [
    "plt.figure(figsize=(12, 6))\n",
    "sorted_ratios = all_blocks_df['price_rent_ratio'].sort_values(ascending=False)\n",
    "bars = plt.bar(sorted_ratios.index, sorted_ratios.values, color='skyblue', alpha=0.7)\n",
    "plt.axhline(y=200, color='red', linestyle='--', linewidth=2, label='全球公允价值 (200)')\n",
    "plt.xlabel('区块')\n",
    "plt.ylabel('中位房价租金比')\n",
    "plt.title('各区块中位房价租金比 (Figure A)')\n",
    "plt.xticks(rotation=45)\n",
    "plt.legend()\n",
    "\n",
    "# 在柱状图上添加数值标签\n",
    "for bar, value in zip(bars, sorted_ratios.values):\n",
    "    plt.text(bar.get_x() + bar.get_width()/2, bar.get_height() + 5, f'{value:.1f}', \n",
    "             ha='center', va='bottom', fontsize=10)\n",
    "\n",
    "plt.tight_layout()\n",
    "plt.show()"
   ]
  },
  {
   "cell_type": "markdown",
   "id": "66583dea-ed84-4738-8f89-b6714c5d76b9",
   "metadata": {},
   "source": [
    " Homework3-4: Data Science Modeling"
   ]
  },
  {
   "cell_type": "code",
   "execution_count": 21,
   "id": "288e33b0-052b-4c6b-b685-6538010d185d",
   "metadata": {},
   "outputs": [
    {
     "name": "stdout",
     "output_type": "stream",
     "text": [
      "=== Model 1: 房价预测模型 ===\n",
      "Model 1 R²: 0.5970\n",
      "\n",
      "=== Model 2: 租金预测模型 ===\n",
      "Model 2 R²: 0.2472\n"
     ]
    }
   ],
   "source": [
    "# 准备建模数据 - 分别处理房价和租金数据\n",
    "# 房价模型数据\n",
    "X_price = pd.get_dummies(df_concatenated_price[['Area', 'Block']].copy(), columns=['Block'], drop_first=True)\n",
    "y_price = df_concatenated_price['price_per_m2']\n",
    "\n",
    "# 租金模型数据\n",
    "X_rent = pd.get_dummies(df_concatenated_rent[['Area', 'Block']].copy(), columns=['Block'], drop_first=True)\n",
    "y_rent = df_concatenated_rent['rent_per_m2']\n",
    "\n",
    "# 划分训练测试集\n",
    "X_price_train, X_price_test, y_price_train, y_price_test = train_test_split(\n",
    "    X_price, y_price, test_size=0.2, random_state=42)\n",
    "X_rent_train, X_rent_test, y_rent_train, y_rent_test = train_test_split(\n",
    "    X_rent, y_rent, test_size=0.2, random_state=42)\n",
    "\n",
    "print(\"=== Model 1: 房价预测模型 ===\")\n",
    "model1 = LinearRegression()\n",
    "model1.fit(X_price_train, y_price_train)\n",
    "y_price_pred = model1.predict(X_price)\n",
    "r2_model1 = r2_score(y_price, y_price_pred)\n",
    "print(f\"Model 1 R²: {r2_model1:.4f}\")\n",
    "\n",
    "print(\"\\n=== Model 2: 租金预测模型 ===\")\n",
    "model2 = LinearRegression()\n",
    "model2.fit(X_rent_train, y_rent_train)\n",
    "y_rent_pred = model2.predict(X_rent)\n",
    "r2_model2 = r2_score(y_rent, y_rent_pred)\n",
    "print(f\"Model 2 R²: {r2_model2:.4f}\")"
   ]
  },
  {
   "cell_type": "code",
   "execution_count": 22,
   "id": "3a698d50-b200-4711-b650-35723c04e8a4",
   "metadata": {},
   "outputs": [],
   "source": [
    "# 为每个区块创建一个典型房屋（使用该区块的中位面积）\n",
    "typical_houses = []\n",
    "for block in all_blocks:\n",
    "    # 获取该区块的中位面积（优先使用房价数据，如果没有则使用租金数据）\n",
    "    price_block_data = df_concatenated_price[df_concatenated_price['Block'] == block]\n",
    "    rent_block_data = df_concatenated_rent[df_concatenated_rent['Block'] == block]\n",
    "    \n",
    "    if len(price_block_data) > 0:\n",
    "        typical_area = price_block_data['Area'].median()\n",
    "    elif len(rent_block_data) > 0:\n",
    "        typical_area = rent_block_data['Area'].median()\n",
    "    else:\n",
    "        continue  # 跳过没有数据的区块\n",
    "    \n",
    "    typical_houses.append({\n",
    "        'Block': block,\n",
    "        'Area': typical_area\n",
    "    })\n",
    "\n",
    "typical_houses_df = pd.DataFrame(typical_houses)\n",
    "\n",
    "# 为模型预测准备数据\n",
    "X_typical_price = pd.get_dummies(typical_houses_df[['Area', 'Block']].copy(), columns=['Block'], drop_first=True)\n",
    "X_typical_rent = pd.get_dummies(typical_houses_df[['Area', 'Block']].copy(), columns=['Block'], drop_first=True)\n",
    "\n",
    "# 确保特征列一致\n",
    "for col in X_price.columns:\n",
    "    if col not in X_typical_price.columns:\n",
    "        X_typical_price[col] = 0\n",
    "X_typical_price = X_typical_price[X_price.columns]\n",
    "\n",
    "for col in X_rent.columns:\n",
    "    if col not in X_typical_rent.columns:\n",
    "        X_typical_rent[col] = 0\n",
    "X_typical_rent = X_typical_rent[X_rent.columns]\n",
    "\n",
    "# 使用模型预测\n",
    "typical_houses_df['predicted_price_m2'] = model1.predict(X_typical_price)\n",
    "typical_houses_df['predicted_rent_m2'] = model2.predict(X_typical_rent)\n",
    "typical_houses_df['predicted_price_rent_ratio'] = typical_houses_df['predicted_price_m2'] / typical_houses_df['predicted_rent_m2']\n",
    "\n",
    "# 计算每个区块的中位预测房价租金比\n",
    "median_pred_ratio_by_block = typical_houses_df.groupby('Block')['predicted_price_rent_ratio'].median().sort_values(ascending=False)"
   ]
  },
  {
   "cell_type": "markdown",
   "id": "972a5afe-1df6-45d0-a652-531961132b8d",
   "metadata": {},
   "source": [
    "Bar Plot the median price to rent ratio for each block"
   ]
  },
  {
   "cell_type": "code",
   "execution_count": 23,
   "id": "4f6b9853-1b2d-4888-b3f0-260c2e1e66bd",
   "metadata": {},
   "outputs": [
    {
     "data": {
      "image/png": "[encoded data removed]",
      "text/plain": [
       "<Figure size 1200x600 with 1 Axes>"
      ]
     },
     "metadata": {},
     "output_type": "display_data"
    }
   ],
   "source": [
    "\n",
    "plt.figure(figsize=(12, 6))\n",
    "bars = plt.bar(median_pred_ratio_by_block.index, median_pred_ratio_by_block.values, color='lightgreen', alpha=0.7)\n",
    "plt.axhline(y=200, color='red', linestyle='--', linewidth=2, label='全球公允价值 (200)')\n",
    "plt.xlabel('区块')\n",
    "plt.ylabel('预测中位房价租金比')\n",
    "plt.title('模型预测的各区块中位房价租金比 (Figure B)')\n",
    "plt.xticks(rotation=45)\n",
    "plt.legend()\n",
    "\n",
    "for bar, value in zip(bars, median_pred_ratio_by_block.values):\n",
    "    plt.text(bar.get_x() + bar.get_width()/2, bar.get_height() + 5, f'{value:.1f}', \n",
    "             ha='center', va='bottom', fontsize=10)\n",
    "\n",
    "plt.tight_layout()\n",
    "plt.show()"
   ]
  },
  {
   "cell_type": "markdown",
   "id": "b813b506-71c1-4404-ac39-e47b3b9f78eb",
   "metadata": {},
   "source": [
    "Homework3-5: Data Science Modeling Pro Max"
   ]
  },
  {
   "cell_type": "code",
   "execution_count": 24,
   "id": "c3354b29-76ef-4b0c-a270-63de178a98ae",
   "metadata": {},
   "outputs": [
    {
     "name": "stdout",
     "output_type": "stream",
     "text": [
      "房价原始特征数量: 4\n",
      "房价多项式特征数量: 14\n",
      "租金原始特征数量: 4\n",
      "租金多项式特征数量: 14\n",
      "\n",
      "=== Model 1+: 带多项式特征的房价预测模型 ===\n",
      "Model 1+ R²: 0.6221\n",
      "\n",
      "=== Model 2+: 带多项式特征的租金预测模型 ===\n",
      "Model 2+ R²: 0.2773\n",
      "\n",
      "=== R² 比较 ===\n",
      "房价模型: Model 1 R² = 0.5970, Model 1+ R² = 0.6221\n",
      "租金模型: Model 2 R² = 0.2472, Model 2+ R² = 0.2773\n"
     ]
    }
   ],
   "source": [
    "# 创建多项式特征和交互项\n",
    "poly = PolynomialFeatures(degree=2, include_bias=False, interaction_only=False)\n",
    "X_price_poly = poly.fit_transform(X_price)\n",
    "X_rent_poly = poly.fit_transform(X_rent)\n",
    "\n",
    "# 获取特征名称\n",
    "feature_names_price = poly.get_feature_names_out(X_price.columns)\n",
    "feature_names_rent = poly.get_feature_names_out(X_rent.columns)\n",
    "\n",
    "print(f\"房价原始特征数量: {X_price.shape[1]}\")\n",
    "print(f\"房价多项式特征数量: {X_price_poly.shape[1]}\")\n",
    "print(f\"租金原始特征数量: {X_rent.shape[1]}\")\n",
    "print(f\"租金多项式特征数量: {X_rent_poly.shape[1]}\")\n",
    "\n",
    "# 划分训练测试集\n",
    "X_price_poly_train, X_price_poly_test, y_price_train, y_price_test = train_test_split(\n",
    "    X_price_poly, y_price, test_size=0.2, random_state=42)\n",
    "X_rent_poly_train, X_rent_poly_test, y_rent_train, y_rent_test = train_test_split(\n",
    "    X_rent_poly, y_rent, test_size=0.2, random_state=42)\n",
    "\n",
    "print(\"\\n=== Model 1+: 带多项式特征的房价预测模型 ===\")\n",
    "model1_plus = LinearRegression()\n",
    "model1_plus.fit(X_price_poly_train, y_price_train)\n",
    "y_price_pred_plus = model1_plus.predict(X_price_poly)\n",
    "r2_model1_plus = r2_score(y_price, y_price_pred_plus)\n",
    "print(f\"Model 1+ R²: {r2_model1_plus:.4f}\")\n",
    "\n",
    "print(\"\\n=== Model 2+: 带多项式特征的租金预测模型 ===\")\n",
    "model2_plus = LinearRegression()\n",
    "model2_plus.fit(X_rent_poly_train, y_rent_train)\n",
    "y_rent_pred_plus = model2_plus.predict(X_rent_poly)\n",
    "r2_model2_plus = r2_score(y_rent, y_rent_pred_plus)\n",
    "print(f\"Model 2+ R²: {r2_model2_plus:.4f}\")\n",
    "\n",
    "print(\"\\n=== R² 比较 ===\")\n",
    "print(f\"房价模型: Model 1 R² = {r2_model1:.4f}, Model 1+ R² = {r2_model1_plus:.4f}\")\n",
    "print(f\"租金模型: Model 2 R² = {r2_model2:.4f}, Model 2+ R² = {r2_model2_plus:.4f}\")\n",
    "\n"
   ]
  },
  {
   "cell_type": "code",
   "execution_count": 25,
   "id": "4694e650-e293-4764-b590-750b68655df9",
   "metadata": {},
   "outputs": [],
   "source": [
    "# 使用高级模型预测典型房屋数据\n",
    "# 为典型房屋数据创建多项式特征\n",
    "X_typical_price_poly = poly.transform(X_typical_price)\n",
    "X_typical_rent_poly = poly.transform(X_typical_rent)\n",
    "\n",
    "# 使用高级模型预测\n",
    "typical_houses_df['predicted_price_m2_plus'] = model1_plus.predict(X_typical_price_poly)\n",
    "typical_houses_df['predicted_rent_m2_plus'] = model2_plus.predict(X_typical_rent_poly)\n",
    "typical_houses_df['predicted_price_rent_ratio_plus'] = (\n",
    "    typical_houses_df['predicted_price_m2_plus'] / typical_houses_df['predicted_rent_m2_plus']\n",
    ")\n",
    "\n",
    "# 计算每个区块的中位预测房价租金比 (高级模型)\n",
    "median_pred_ratio_by_block_plus = typical_houses_df.groupby('Block')['predicted_price_rent_ratio_plus'].median().sort_values(ascending=False)"
   ]
  },
  {
   "cell_type": "markdown",
   "id": "7e449101-ba99-4d37-857a-b8af4ecaf80d",
   "metadata": {},
   "source": [
    " Figure C: Bar Plot the price to rent ratio for each block."
   ]
  },
  {
   "cell_type": "code",
   "execution_count": 26,
   "id": "3efa3c6d-afbb-41f8-88d1-4fb33b9d1a6f",
   "metadata": {},
   "outputs": [
    {
     "data": {
      "image/png": "[encoded data removed]",
      "text/plain": [
       "<Figure size 1200x600 with 1 Axes>"
      ]
     },
     "metadata": {},
     "output_type": "display_data"
    }
   ],
   "source": [
    "plt.figure(figsize=(12, 6))\n",
    "bars = plt.bar(median_pred_ratio_by_block_plus.index, median_pred_ratio_by_block_plus.values, color='orange', alpha=0.7)\n",
    "plt.axhline(y=200, color='red', linestyle='--', linewidth=2, label='全球公允价值 (200)')\n",
    "plt.xlabel('区块')\n",
    "plt.ylabel('预测房价租金比 (高级模型)')\n",
    "plt.title('高级模型预测的各区块房价租金比 (Figure C)')\n",
    "plt.xticks(rotation=45)\n",
    "plt.legend()\n",
    "\n",
    "for bar, value in zip(bars, median_pred_ratio_by_block_plus.values):\n",
    "    plt.text(bar.get_x() + bar.get_width()/2, bar.get_height() + 5, f'{value:.1f}', \n",
    "             ha='center', va='bottom', fontsize=10)\n",
    "\n",
    "plt.tight_layout()\n",
    "plt.show()"
   ]
  },
  {
   "cell_type": "markdown",
   "id": "f2625e19-0db4-40df-b39f-d423fa345fd3",
   "metadata": {},
   "source": [
    "比较三种方法"
   ]
  },
  {
   "cell_type": "code",
   "execution_count": 27,
   "id": "2473fc1a-bbca-47b0-9641-46d7c2f44bb5",
   "metadata": {},
   "outputs": [
    {
     "name": "stdout",
     "output_type": "stream",
     "text": [
      "原始数据中位房价租金比已定义\n",
      "三种方法的房价租金比比较:\n",
      "        原始数据    基础模型    高级模型\n",
      "中央公园  552.19  618.60  641.59\n",
      "大竹林   525.36  585.89  569.99\n",
      "空港    384.86  387.41  413.39\n",
      "龙头寺   500.78  493.25  507.01\n",
      "\n",
      "各区块样本量:\n",
      "      房价样本量  租金样本量\n",
      "中央公园   1036   1129\n",
      "大竹林    1055    302\n",
      "空港     1160    462\n",
      "龙头寺    1102   1040\n",
      "\n",
      "=== 基于样本量的可信度分析 ===\n",
      "建议:\n",
      "区块 中央公园: 房价样本 1036, 租金样本 1129, 可信度 高\n",
      "区块 大竹林: 房价样本 1055, 租金样本 302, 可信度 高\n",
      "区块 空港: 房价样本 1160, 租金样本 462, 可信度 高\n",
      "区块 龙头寺: 房价样本 1102, 租金样本 1040, 可信度 高\n",
      "\n",
      "总体建议:\n",
      "样本量充足，高级模型可能提供更好的预测性能\n"
     ]
    },
    {
     "data": {
      "image/png": "[encoded data removed]",
      "text/plain": [
       "<Figure size 1400x800 with 1 Axes>"
      ]
     },
     "metadata": {},
     "output_type": "display_data"
    }
   ],
   "source": [
    "# 原始数据的中位房价租金比 (Figure A部分)\n",
    "if 'all_blocks_df' in locals() and 'price_rent_ratio' in all_blocks_df.columns:\n",
    "    median_ratio_by_block = all_blocks_df['price_rent_ratio']\n",
    "    print(\"原始数据中位房价租金比已定义\")\n",
    "else:\n",
    "    print(\"警告: 原始数据中位房价租金比未定义，需要重新计算\")\n",
    "    # 重新计算原始数据的中位房价租金比\n",
    "    median_price_by_block = df_concatenated_price.groupby('Block')['price_per_m2'].median()\n",
    "    median_rent_by_block = df_concatenated_rent.groupby('Block')['rent_per_m2'].median()\n",
    "    all_blocks_list = sorted(list(set(df_concatenated_price['Block'].unique()).union(set(df_concatenated_rent['Block'].unique()))))\n",
    "    all_blocks_df = pd.DataFrame(index=all_blocks_list)\n",
    "    all_blocks_df['median_price'] = median_price_by_block\n",
    "    all_blocks_df['median_rent'] = median_rent_by_block\n",
    "    all_blocks_df['price_rent_ratio'] = all_blocks_df['median_price'] / all_blocks_df['median_rent']\n",
    "    all_blocks_df = all_blocks_df.replace([np.inf, -np.inf], np.nan).dropna()\n",
    "    median_ratio_by_block = all_blocks_df['price_rent_ratio']\n",
    "\n",
    "# 基础模型预测的中位房价租金比 (Figure B部分)\n",
    "if 'median_pred_ratio_by_block' not in locals():\n",
    "    print(\"警告: 基础模型预测的中位房价租金比未定义，需要重新计算\")\n",
    "    # 这里需要重新计算基础模型的预测\n",
    "    # 假设 typical_houses_df 和 predicted_price_rent_ratio 列已存在\n",
    "    if 'typical_houses_df' in locals() and 'predicted_price_rent_ratio' in typical_houses_df.columns:\n",
    "        median_pred_ratio_by_block = typical_houses_df.groupby('Block')['predicted_price_rent_ratio'].median()\n",
    "    else:\n",
    "        print(\"错误: 无法计算基础模型预测，需要先运行基础模型部分\")\n",
    "        # 这里可以添加基础模型的重新计算代码\n",
    "\n",
    "# 高级模型预测的中位房价租金比 (Figure C部分)\n",
    "if 'median_pred_ratio_by_block_plus' not in locals():\n",
    "    print(\"警告: 高级模型预测的中位房价租金比未定义，需要重新计算\")\n",
    "    # 这里需要重新计算高级模型的预测\n",
    "    # 假设 typical_houses_df 和 predicted_price_rent_ratio_plus 列已存在\n",
    "    if 'typical_houses_df' in locals() and 'predicted_price_rent_ratio_plus' in typical_houses_df.columns:\n",
    "        median_pred_ratio_by_block_plus = typical_houses_df.groupby('Block')['predicted_price_rent_ratio_plus'].median()\n",
    "    else:\n",
    "        print(\"错误: 无法计算高级模型预测，需要先运行高级模型部分\")\n",
    "        # 这里可以添加高级模型的重新计算代码\n",
    "\n",
    "# 创建比较DataFrame\n",
    "comparison_df = pd.DataFrame({\n",
    "    '原始数据': median_ratio_by_block,\n",
    "    '基础模型': median_pred_ratio_by_block,\n",
    "    '高级模型': median_pred_ratio_by_block_plus\n",
    "})\n",
    "\n",
    "# 只保留三个方法都有数据的区块\n",
    "comparison_df = comparison_df.dropna()\n",
    "\n",
    "print(\"三种方法的房价租金比比较:\")\n",
    "print(comparison_df.round(2))\n",
    "\n",
    "# 样本量分析 - 由于我们没有合并的数据集，需要分别考虑房价和租金的样本量\n",
    "print(f\"\\n各区块样本量:\")\n",
    "price_sample_sizes = df_concatenated_price.groupby('Block').size()\n",
    "rent_sample_sizes = df_concatenated_rent.groupby('Block').size()\n",
    "\n",
    "# 创建一个包含所有比较区块的样本量DataFrame\n",
    "sample_sizes_comparison = pd.DataFrame({\n",
    "    '房价样本量': price_sample_sizes,\n",
    "    '租金样本量': rent_sample_sizes\n",
    "})\n",
    "\n",
    "# 只保留比较数据集中存在的区块\n",
    "sample_sizes_comparison = sample_sizes_comparison.loc[comparison_df.index]\n",
    "\n",
    "print(sample_sizes_comparison)\n",
    "\n",
    "print(\"\\n=== 基于样本量的可信度分析 ===\")\n",
    "print(\"建议:\")\n",
    "for block in comparison_df.index:\n",
    "    price_n = price_sample_sizes.get(block, 0)\n",
    "    rent_n = rent_sample_sizes.get(block, 0)\n",
    "    min_n = min(price_n, rent_n)\n",
    "    \n",
    "    if min_n < 10:\n",
    "        reliability = \"很低 (样本量严重不足)\"\n",
    "    elif min_n < 30:\n",
    "        reliability = \"低\"\n",
    "    elif min_n < 100:\n",
    "        reliability = \"中等\"\n",
    "    else:\n",
    "        reliability = \"高\"\n",
    "    print(f\"区块 {block}: 房价样本 {price_n}, 租金样本 {rent_n}, 可信度 {reliability}\")\n",
    "\n",
    "print(\"\\n总体建议:\")\n",
    "total_price_samples = len(df_concatenated_price)\n",
    "total_rent_samples = len(df_concatenated_rent)\n",
    "min_total_samples = min(total_price_samples, total_rent_samples)\n",
    "\n",
    "if min_total_samples < 100:\n",
    "    print(\"总样本量较少，建议使用基础模型避免过拟合\")\n",
    "elif min_total_samples < 500:\n",
    "    print(\"样本量适中，可以尝试高级模型但需要谨慎验证\")\n",
    "else:\n",
    "    print(\"样本量充足，高级模型可能提供更好的预测性能\")\n",
    "\n",
    "# 绘制三种方法的比较图\n",
    "plt.figure(figsize=(14, 8))\n",
    "x = np.arange(len(comparison_df.index))\n",
    "width = 0.25\n",
    "\n",
    "plt.bar(x - width, comparison_df['原始数据'], width, label='原始数据', alpha=0.7)\n",
    "plt.bar(x, comparison_df['基础模型'], width, label='基础模型', alpha=0.7)\n",
    "plt.bar(x + width, comparison_df['高级模型'], width, label='高级模型', alpha=0.7)\n",
    "\n",
    "plt.axhline(y=200, color='red', linestyle='--', linewidth=2, label='全球公允价值 (200)')\n",
    "plt.xlabel('区块')\n",
    "plt.ylabel('房价租金比')\n",
    "plt.title('三种方法的房价租金比比较')\n",
    "plt.xticks(x, comparison_df.index, rotation=45)\n",
    "plt.legend()\n",
    "plt.tight_layout()\n",
    "plt.show()"
   ]
  },
  {
   "cell_type": "markdown",
   "id": "4f846952-83ce-4b5e-9ce1-c8a5856a6939",
   "metadata": {},
   "source": [
    "分析四处Block差异的现实原因："
   ]
  },
  {
   "cell_type": "markdown",
   "id": "50372b75-ce19-48b1-8c18-4a8fda1ab9dd",
   "metadata": {},
   "source": [
    "渝北这四个片区的房价租金比均显著高于全球公认的合理水平（200），呈现明显的\"高房价、低租金\"特征，这种现象深刻反映了重庆房地产市场存在的结构性失衡。中央公园片区以552.19的比值高居榜首，大竹林、龙头寺紧随其后，空港片区相对较低但仍接近合理值的两倍。中央公园、大竹林属于高端改善区域，配套完善但入住率不足；龙头寺是交通枢纽区域，商业价值高于居住价值；空港为产业园区周边，租赁需求相对稳定但房价涨幅过快。\n",
    "这种异常现象主要源于投资属性过强而居住属性弱化的市场格局：一方面，重庆作为新一线城市的快速发展吸引了大量投机性资金涌入房地产市场，购房者更关注资产升值预期而非租金回报，导致房价被过度推高；另一方面，这些新兴片区尚处于开发建设阶段，实际入住率不足，租赁市场供大于求，租金水平难以匹配房价涨幅。此外，市场结构扭曲也是重要原因，新房市场的活跃推高了房价预期，而租赁市场发展不成熟、租售不同权等问题进一步削弱了租金上涨动力。"
   ]
  }
 ],
 "metadata": {
  "kernelspec": {
   "display_name": "Python 3 (ipykernel)",
   "language": "python",
   "name": "python3"
  },
  "language_info": {
   "codemirror_mode": {
    "name": "ipython",
    "version": 3
   },
   "file_extension": ".py",
   "mimetype": "text/x-python",
   "name": "python",
   "nbconvert_exporter": "python",
   "pygments_lexer": "ipython3",
   "version": "3.13.5"
  }
 },
 "nbformat": 4,
 "nbformat_minor": 5
}
