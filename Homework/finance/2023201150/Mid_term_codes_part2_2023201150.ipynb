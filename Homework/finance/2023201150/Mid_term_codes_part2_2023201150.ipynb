{
 "cells": [
  {
   "cell_type": "code",
   "execution_count": null,
   "metadata": {
    "execution": {
     "iopub.execute_input": "2025-10-29T15:19:42.731257Z",
     "iopub.status.busy": "2025-10-29T15:19:42.730793Z",
     "iopub.status.idle": "2025-10-29T15:19:47.158522Z",
     "shell.execute_reply": "2025-10-29T15:19:47.157249Z",
     "shell.execute_reply.started": "2025-10-29T15:19:42.731229Z"
    },
    "trusted": true
   },
   "outputs": [],
   "source": [
    "!pip install snownlp"
   ]
  },
  {
   "cell_type": "markdown",
   "metadata": {},
   "source": [
    "# 自然语言情感分析"
   ]
  },
  {
   "cell_type": "code",
   "execution_count": null,
   "metadata": {
    "execution": {
     "iopub.execute_input": "2025-10-29T15:19:47.161277Z",
     "iopub.status.busy": "2025-10-29T15:19:47.160938Z",
     "iopub.status.idle": "2025-10-29T15:19:47.202963Z",
     "shell.execute_reply": "2025-10-29T15:19:47.201688Z",
     "shell.execute_reply.started": "2025-10-29T15:19:47.161246Z"
    },
    "trusted": true
   },
   "outputs": [],
   "source": [
    "import pandas as pd\n",
    "import matplotlib.pyplot as plt\n",
    "import numpy as np\n",
    "import re\n",
    "import jieba\n",
    "from sklearn.compose import ColumnTransformer, TransformedTargetRegressor\n",
    "from sklearn.pipeline import Pipeline\n",
    "from sklearn.model_selection import StratifiedShuffleSplit, cross_validate\n",
    "from sklearn.model_selection import train_test_split, GridSearchCV, cross_val_score, KFold\n",
    "from sklearn.impute import SimpleImputer, KNNImputer\n",
    "from sklearn.preprocessing import MultiLabelBinarizer, OneHotEncoder\n",
    "from sklearn.linear_model import LinearRegression, RidgeCV, LassoCV, ElasticNetCV, Lasso, Ridge, ElasticNet\n",
    "from sklearn.metrics import mean_absolute_error, r2_score, make_scorer\n",
    "from sklearn.preprocessing import StandardScaler, PolynomialFeatures\n",
    "from sentence_transformers import SentenceTransformer\n",
    "from sklearn.feature_extraction.text import TfidfVectorizer\n",
    "from itertools import combinations\n",
    "from sklearn.base import clone\n",
    "import itertools\n",
    "from itertools import chain\n",
    "from joblib import Memory\n",
    "from statsmodels.stats.outliers_influence import variance_inflation_factor\n",
    "from category_encoders import TargetEncoder\n",
    "from tqdm import tqdm\n",
    "from snownlp import SnowNLP\n",
    "from scipy.sparse import save_npz, load_npz\n",
    "\n",
    "plt.rcParams['font.sans-serif'] = ['Arial Unicode MS']  # 设置中文字体"
   ]
  },
  {
   "cell_type": "code",
   "execution_count": null,
   "metadata": {
    "execution": {
     "iopub.execute_input": "2025-10-29T15:19:47.204563Z",
     "iopub.status.busy": "2025-10-29T15:19:47.204156Z",
     "iopub.status.idle": "2025-10-29T15:19:53.246899Z",
     "shell.execute_reply": "2025-10-29T15:19:53.245532Z",
     "shell.execute_reply.started": "2025-10-29T15:19:47.204518Z"
    },
    "trusted": true
   },
   "outputs": [],
   "source": [
    "# 导入训练集与测试集，使用深度拷贝保留原数据\n",
    "rent_train_pd = pd.read_csv(\"/kaggle/input/python-ai-midterm/ruc_Class25Q2_train_rent.csv\")\n",
    "rent_train_raw = rent_train_pd.copy()\n",
    "\n",
    "price_train_pd = pd.read_csv(\"/kaggle/input/python-ai-midterm/ruc_Class25Q2_train_price.csv\")\n",
    "price_train_raw = price_train_pd.copy()\n",
    "\n",
    "rent_test_pd = pd.read_csv(\"/kaggle/input/python-ai-midterm/ruc_Class25Q2_test_rent.csv\")\n",
    "rent_test = rent_test_pd.copy()\n",
    "\n",
    "price_test_pd = pd.read_csv(\"/kaggle/input/python-ai-midterm/ruc_Class25Q2_test_price.csv\")\n",
    "price_test = price_test_pd.copy()"
   ]
  },
  {
   "cell_type": "code",
   "execution_count": null,
   "metadata": {
    "execution": {
     "iopub.execute_input": "2025-10-29T15:19:53.248048Z",
     "iopub.status.busy": "2025-10-29T15:19:53.247745Z",
     "iopub.status.idle": "2025-10-29T15:32:24.335794Z",
     "shell.execute_reply": "2025-10-29T15:32:24.333788Z",
     "shell.execute_reply.started": "2025-10-29T15:19:53.248025Z"
    },
    "trusted": true
   },
   "outputs": [],
   "source": [
    "col_emo_price = [\"客户反馈\"]\n",
    "col_emo_rent = [\"客户反馈\"]\n",
    "\n",
    "def sentiment_score(text):\n",
    "    try:\n",
    "        if pd.isna(text) or str(text).strip() == \"\":\n",
    "            return np.nan\n",
    "        s = SnowNLP(str(text))\n",
    "        return s.sentiments\n",
    "    except Exception as e:\n",
    "        print(\"Error:\", e, \" | Text:\", text)\n",
    "        return np.nan\n",
    "\n",
    "for col in col_emo_rent:\n",
    "    rent_train_raw[f\"{col}_sentiment\"] = rent_train_raw[col].apply(sentiment_score)\n",
    "    rent_test[f\"{col}_sentiment\"] = rent_test[col].apply(sentiment_score)\n",
    "\n",
    "for col in col_emo_price:\n",
    "    price_train_raw[f\"{col}_sentiment\"] = price_train_raw[col].apply(sentiment_score)\n",
    "    price_test[f\"{col}_sentiment\"] = price_test[col].apply(sentiment_score)"
   ]
  },
  {
   "cell_type": "code",
   "execution_count": null,
   "metadata": {
    "execution": {
     "iopub.execute_input": "2025-10-29T15:32:24.338330Z",
     "iopub.status.busy": "2025-10-29T15:32:24.337961Z",
     "iopub.status.idle": "2025-10-29T15:32:24.403744Z",
     "shell.execute_reply": "2025-10-29T15:32:24.402376Z",
     "shell.execute_reply.started": "2025-10-29T15:32:24.338295Z"
    },
    "trusted": true
   },
   "outputs": [],
   "source": [
    "# 提取 rent 数据的情感列\n",
    "rent_sent_cols = [c for c in rent_train.columns if \"sentiment\" in c]\n",
    "price_sent_cols = [c for c in price_train.columns if \"sentiment\" in c]\n",
    "\n",
    "rent_sent_df = rent_train[rent_sent_cols].copy()\n",
    "price_sent_df = price_train[price_sent_cols].copy()\n",
    "\n",
    "# 存成独立文件（推荐 parquet 或 csv）\n",
    "rent_sent_df.to_csv(\"rent_sentiment.csv\", index=False)\n",
    "price_sent_df.to_csv(\"price_sentiment.csv\", index=False)"
   ]
  }
 ],
 "metadata": {
  "kaggle": {
   "accelerator": "none",
   "dataSources": [
    {
     "datasetId": 8579729,
     "sourceId": 13513308,
     "sourceType": "datasetVersion"
    }
   ],
   "dockerImageVersionId": 31153,
   "isGpuEnabled": false,
   "isInternetEnabled": true,
   "language": "python",
   "sourceType": "notebook"
  },
  "kernelspec": {
   "display_name": "Python 3",
   "language": "python",
   "name": "python3"
  },
  "language_info": {
   "codemirror_mode": {
    "name": "ipython",
    "version": 3
   },
   "file_extension": ".py",
   "mimetype": "text/x-python",
   "name": "python",
   "nbconvert_exporter": "python",
   "pygments_lexer": "ipython3",
   "version": "3.11.13"
  }
 },
 "nbformat": 4,
 "nbformat_minor": 4
}
