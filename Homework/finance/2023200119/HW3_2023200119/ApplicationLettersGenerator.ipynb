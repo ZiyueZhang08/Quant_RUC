{
 "cells": [
  {
   "cell_type": "code",
   "execution_count": 1,
   "id": "027350fc-d57b-48b0-bc95-db180f58e559",
   "metadata": {},
   "outputs": [],
   "source": [
    "import pandas as pd\n",
    "from docxtpl import DocxTemplate\n",
    "import os\n",
    "from pathlib import Path"
   ]
  },
  {
   "cell_type": "code",
   "execution_count": 2,
   "id": "c7444099-6805-4c47-ba1a-da4c84d8f881",
   "metadata": {},
   "outputs": [],
   "source": [
    "home_dir = Path.home()\n",
    "output_dir = home_dir / \"HW_School_Application\"\n",
    "output_dir.mkdir(exist_ok=True)"
   ]
  },
  {
   "cell_type": "code",
   "execution_count": 3,
   "id": "9333d36d-8b82-4e09-b9ef-fb56fb877598",
   "metadata": {},
   "outputs": [],
   "source": [
    "universities_df = pd.read_excel('TopUniversities.xlsx')\n",
    "purposes_df = pd.read_excel('purposes.xlsx')"
   ]
  },
  {
   "cell_type": "code",
   "execution_count": 4,
   "id": "8e76258c-532b-49dc-af3d-27c122000857",
   "metadata": {},
   "outputs": [],
   "source": [
    "universities = universities_df.iloc[:, 0].tolist()\n",
    "research_areas = purposes_df.columns[1:].tolist()\n",
    "journals_data = {}\n",
    "skills_data = {}"
   ]
  },
  {
   "cell_type": "code",
   "execution_count": 5,
   "id": "73cb13c7-704e-4870-9887-735a2c1574c0",
   "metadata": {},
   "outputs": [],
   "source": [
    "for area in research_areas:\n",
    "    journals = purposes_df[area].iloc[0:3].tolist()\n",
    "    journals_data[area] = journals\n",
    "    skills = purposes_df[area].iloc[3:8].tolist()\n",
    "    skills_data[area] = skills"
   ]
  },
  {
   "cell_type": "code",
   "execution_count": 6,
   "id": "9e15a042-b94b-4b1e-b03a-1043e264503a",
   "metadata": {},
   "outputs": [],
   "source": [
    "personal_info = {\n",
    "    'name': 'Tianlun Xie',\n",
    "    'undergraduate_university': 'Renmin University of China',\n",
    "    'gpa': '3.7/4.0',\n",
    "}"
   ]
  },
  {
   "cell_type": "code",
   "execution_count": 7,
   "id": "f973a96d-e346-41cd-9ac2-7570b1f6f372",
   "metadata": {
    "scrolled": true
   },
   "outputs": [
    {
     "name": "stdout",
     "output_type": "stream",
     "text": [
      "Generated: SOP_Harvard_University_Finance.docx\n",
      "Generated: SOP_Harvard_University_Economics.docx\n",
      "Generated: SOP_Harvard_University_Accounting.docx\n",
      "Generated: SOP_University_of_California-Berkeley_Finance.docx\n",
      "Generated: SOP_University_of_California-Berkeley_Economics.docx\n",
      "Generated: SOP_University_of_California-Berkeley_Accounting.docx\n",
      "Generated: SOP_University_of_Chicago_Finance.docx\n",
      "Generated: SOP_University_of_Chicago_Economics.docx\n",
      "Generated: SOP_University_of_Chicago_Accounting.docx\n",
      "Generated: SOP_Princeton_University_Finance.docx\n",
      "Generated: SOP_Princeton_University_Economics.docx\n",
      "Generated: SOP_Princeton_University_Accounting.docx\n",
      "Generated: SOP_Stanford_University_Finance.docx\n",
      "Generated: SOP_Stanford_University_Economics.docx\n",
      "Generated: SOP_Stanford_University_Accounting.docx\n",
      "Generated: SOP_Yale_University_Finance.docx\n",
      "Generated: SOP_Yale_University_Economics.docx\n",
      "Generated: SOP_Yale_University_Accounting.docx\n",
      "Generated: SOP_Oxford_University_Finance.docx\n",
      "Generated: SOP_Oxford_University_Economics.docx\n",
      "Generated: SOP_Oxford_University_Accounting.docx\n",
      "Generated: SOP_Columbia_University_Finance.docx\n",
      "Generated: SOP_Columbia_University_Economics.docx\n",
      "Generated: SOP_Columbia_University_Accounting.docx\n",
      "Generated: SOP_New_York_University_(NYU)_Finance.docx\n",
      "Generated: SOP_New_York_University_(NYU)_Economics.docx\n",
      "Generated: SOP_New_York_University_(NYU)_Accounting.docx\n",
      "Generated: SOP_University_of_Pennsylvania_Finance.docx\n",
      "Generated: SOP_University_of_Pennsylvania_Economics.docx\n",
      "Generated: SOP_University_of_Pennsylvania_Accounting.docx\n",
      "Generated: SOP_Cornell_University_Finance.docx\n",
      "Generated: SOP_Cornell_University_Economics.docx\n",
      "Generated: SOP_Cornell_University_Accounting.docx\n",
      "Generated: SOP_University_of_Toronto_Finance.docx\n",
      "Generated: SOP_University_of_Toronto_Economics.docx\n",
      "Generated: SOP_University_of_Toronto_Accounting.docx\n",
      "Generated: SOP_University_of_California-Davis_Finance.docx\n",
      "Generated: SOP_University_of_California-Davis_Economics.docx\n",
      "Generated: SOP_University_of_California-Davis_Accounting.docx\n",
      "Generated: SOP_Johns_Hopkins_University_Finance.docx\n",
      "Generated: SOP_Johns_Hopkins_University_Economics.docx\n",
      "Generated: SOP_Johns_Hopkins_University_Accounting.docx\n",
      "Generated: SOP_Boston_College_Finance.docx\n",
      "Generated: SOP_Boston_College_Economics.docx\n",
      "Generated: SOP_Boston_College_Accounting.docx\n",
      "Generated: SOP_University_of_Cambridge_Finance.docx\n",
      "Generated: SOP_University_of_Cambridge_Economics.docx\n",
      "Generated: SOP_University_of_Cambridge_Accounting.docx\n",
      "Generated: SOP_University_of_Maryland_Finance.docx\n",
      "Generated: SOP_University_of_Maryland_Economics.docx\n",
      "Generated: SOP_University_of_Maryland_Accounting.docx\n",
      "Generated: SOP_Vanderbilt_University_Finance.docx\n",
      "Generated: SOP_Vanderbilt_University_Economics.docx\n",
      "Generated: SOP_Vanderbilt_University_Accounting.docx\n",
      "Generated: SOP_University_of_Notre_Dame_Finance.docx\n",
      "Generated: SOP_University_of_Notre_Dame_Economics.docx\n",
      "Generated: SOP_University_of_Notre_Dame_Accounting.docx\n",
      "Generated: SOP_University_of_Texas-Austin_Finance.docx\n",
      "Generated: SOP_University_of_Texas-Austin_Economics.docx\n",
      "Generated: SOP_University_of_Texas-Austin_Accounting.docx\n",
      "Generated: SOP_University_of_Colorado_Finance.docx\n",
      "Generated: SOP_University_of_Colorado_Economics.docx\n",
      "Generated: SOP_University_of_Colorado_Accounting.docx\n",
      "Generated: SOP_University_of_Minnesota_Finance.docx\n",
      "Generated: SOP_University_of_Minnesota_Economics.docx\n",
      "Generated: SOP_University_of_Minnesota_Accounting.docx\n",
      "Generated: SOP_Georgetown_University_Finance.docx\n",
      "Generated: SOP_Georgetown_University_Economics.docx\n",
      "Generated: SOP_Georgetown_University_Accounting.docx\n",
      "Generated: SOP_Ohio_State_University_Finance.docx\n",
      "Generated: SOP_Ohio_State_University_Economics.docx\n",
      "Generated: SOP_Ohio_State_University_Accounting.docx\n",
      "Generated: SOP_Tel_Aviv_University_Finance.docx\n",
      "Generated: SOP_Tel_Aviv_University_Economics.docx\n",
      "Generated: SOP_Tel_Aviv_University_Accounting.docx\n",
      "Generated: SOP_University_of_California-Santa_Cruz_(UCSC)_Finance.docx\n",
      "Generated: SOP_University_of_California-Santa_Cruz_(UCSC)_Economics.docx\n",
      "Generated: SOP_University_of_California-Santa_Cruz_(UCSC)_Accounting.docx\n",
      "Generated: SOP_Pennsylvania_State_University_Finance.docx\n",
      "Generated: SOP_Pennsylvania_State_University_Economics.docx\n",
      "Generated: SOP_Pennsylvania_State_University_Accounting.docx\n",
      "Generated: SOP_McGill_University_Finance.docx\n",
      "Generated: SOP_McGill_University_Economics.docx\n",
      "Generated: SOP_McGill_University_Accounting.docx\n",
      "Generated: SOP_University_of_Washington_Finance.docx\n",
      "Generated: SOP_University_of_Washington_Economics.docx\n",
      "Generated: SOP_University_of_Washington_Accounting.docx\n",
      "Generated: SOP_George_Washington_University_Finance.docx\n",
      "Generated: SOP_George_Washington_University_Economics.docx\n",
      "Generated: SOP_George_Washington_University_Accounting.docx\n",
      "All 90 Statements of Purpose have been generated in: C:\\Users\\Hanah\\HW_School_Application\n"
     ]
    }
   ],
   "source": [
    "for university in universities:\n",
    "    for area in research_areas:\n",
    "        context = {\n",
    "            **personal_info,\n",
    "            'university': university,\n",
    "            'research_area': area,\n",
    "            'journal1': journals_data[area][0],\n",
    "            'journal2': journals_data[area][1],\n",
    "            'journal3': journals_data[area][2],\n",
    "            'skill1': skills_data[area][0],\n",
    "            'skill2': skills_data[area][1],\n",
    "            'skill3': skills_data[area][2],\n",
    "            'skill4': skills_data[area][3],\n",
    "            'skill5': skills_data[area][4]\n",
    "        }\n",
    "        \n",
    "        doc = DocxTemplate(\"sop_template.docx\")\n",
    "        \n",
    "        doc.render(context)\n",
    "        \n",
    "        filename = f\"SOP_{university.replace(' ', '_').replace('/', '_')}_{area}.docx\"\n",
    "        doc.save(output_dir / filename)\n",
    "        \n",
    "        print(f\"Generated: {filename}\")\n",
    "\n",
    "        \n",
    "print(f\"All 90 Statements of Purpose have been generated in: {output_dir}\")"
   ]
  },
  {
   "cell_type": "code",
   "execution_count": null,
   "id": "29120bf1-d518-41fc-b1d1-cbbc59bc0435",
   "metadata": {},
   "outputs": [],
   "source": []
  }
 ],
 "metadata": {
  "kernelspec": {
   "display_name": "Python [conda env:base] *",
   "language": "python",
   "name": "conda-base-py"
  },
  "language_info": {
   "codemirror_mode": {
    "name": "ipython",
    "version": 3
   },
   "file_extension": ".py",
   "mimetype": "text/x-python",
   "name": "python",
   "nbconvert_exporter": "python",
   "pygments_lexer": "ipython3",
   "version": "3.12.7"
  }
 },
 "nbformat": 4,
 "nbformat_minor": 5
}
