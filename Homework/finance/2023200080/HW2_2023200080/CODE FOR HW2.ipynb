{
 "cells": [
  {
   "cell_type": "markdown",
   "id": "fdb98cd6",
   "metadata": {},
   "source": [
    "# Tips:\n",
    "\n",
    "- Good job for using advanced expressions, like `re`, `BeautifulSoup`, `itertools`, `subprocess`!\n",
    "\n",
    "- Write some comments to explain how `fetch_university_rankings` and `select_top_ranges` work.\n",
    "\n",
    "- Split the last cell into multiple cells (multiple cells can be executed independently and easily debugged)\n",
    "\n",
    "- For the last cell:\n",
    "    - Some steps in last cell are redundant, try to simplify them. For example, you have alrady install `docxtpl` in the third cell, you don't need to install it again in the last cell.\n",
    "    - The part of `automatic recognize cols` is difficlut to read, try to simplify it.\n",
    "\n",
    "    "
   ]
  },
  {
   "cell_type": "code",
   "execution_count": 5,
   "id": "b242f491-6b7f-467b-887b-5d5f32bb84bd",
   "metadata": {},
   "outputs": [
    {
     "name": "stdout",
     "output_type": "stream",
     "text": [
      "Excel 文件已保存到: D:\\FFOutput\\selected_universities.xlsx\n"
     ]
    }
   ],
   "source": [
    "import requests\n",
    "from bs4 import BeautifulSoup\n",
    "import pandas as pd\n",
    "import os\n",
    "\n",
    "def fetch_university_rankings(url=\"https://ideas.repec.org/top/top.econdept.html\"):\n",
    "    resp = requests.get(url)\n",
    "    resp.raise_for_status()\n",
    "    soup = BeautifulSoup(resp.text, \"html.parser\")\n",
    "    rows = soup.select(\"table tr\")\n",
    "    univ_list = []\n",
    "    for tr in rows:\n",
    "        link = tr.find(\"a\", href=True)\n",
    "        if link:\n",
    "            name = link.get_text(strip=True)\n",
    "            # 过滤掉异常值\n",
    "            if name.lower() == \"short\":  \n",
    "                continue\n",
    "            if len(name) < 5:  # 避免过短的无效词\n",
    "                continue\n",
    "            univ_list.append(name)\n",
    "    return univ_list\n",
    "\n",
    "def select_top_ranges(univ_list, n1=10, n2=10, n3=10):\n",
    "    if len(univ_list) < 90:\n",
    "        raise ValueError(f\"Ranking list has only {len(univ_list)} institutions, need at least 90\")\n",
    "    top30 = univ_list[:30]\n",
    "    block2 = univ_list[30:60]\n",
    "    block3 = univ_list[60:90]\n",
    "    sel1 = top30[:n1]\n",
    "    sel2 = block2[:n2]\n",
    "    sel3 = block3[:n3]\n",
    "    return sel1 + sel2 + sel3\n",
    "\n",
    "if __name__ == \"__main__\":\n",
    "    all_unis = fetch_university_rankings()\n",
    "    selected = select_top_ranges(all_unis, 10, 10, 10)\n",
    "    df = pd.DataFrame({\"university\": selected})\n",
    "\n",
    "    save_dir = r\"D:\\FFOutput\"\n",
    "    os.makedirs(save_dir, exist_ok=True)\n",
    "    save_path = os.path.join(save_dir, \"selected_universities.xlsx\")\n",
    "\n",
    "    df.to_excel(save_path, index=False)\n",
    "    print(f\"Excel 文件已保存到: {save_path}\")\n"
   ]
  },
  {
   "cell_type": "code",
   "execution_count": 7,
   "id": "11337fb7-9bee-43c5-b250-965f892d0d42",
   "metadata": {},
   "outputs": [
    {
     "name": "stdout",
     "output_type": "stream",
     "text": [
      "Excel 文件已保存到: D:\\FFOutput\\research_journals_skills.xlsx\n"
     ]
    }
   ],
   "source": [
    "import pandas as pd\n",
    "import os\n",
    "\n",
    "# Step 4: 选择研究方向\n",
    "research_areas = [\"Economics\", \"Management\", \"Finance\"]\n",
    "\n",
    "# Step 5: 每个研究方向对应的顶级期刊（这里手动举例，你也可以换成自己查到的期刊）\n",
    "top_journals = {\n",
    "    \"Economics\": [\"American Economic Review\", \"Quarterly Journal of Economics\", \"Journal of Political Economy\"],\n",
    "    \"Management\": [\"Academy of Management Journal\", \"Strategic Management Journal\", \"Journal of Management\"],\n",
    "    \"Finance\": [\"Journal of Finance\", \"Review of Financial Studies\", \"Journal of Financial Economics\"]\n",
    "}\n",
    "\n",
    "# Step 6: 技能列表（这里举例 Glassdoor 上常见的技能）\n",
    "skills = [\"Python\", \"SQL\", \"Tableau\", \"Data Analysis\", \"Machine Learning\", \"Excel\"]\n",
    "\n",
    "# 构造 DataFrame\n",
    "data = []\n",
    "for area in research_areas:\n",
    "    for journal in top_journals[area]:\n",
    "        data.append([area, journal])\n",
    "\n",
    "df_research = pd.DataFrame(data, columns=[\"Research Area\", \"Top Journal\"])\n",
    "df_skills = pd.DataFrame(skills, columns=[\"Skills\"])\n",
    "\n",
    "# 保存路径\n",
    "save_dir = r\"D:\\FFOutput\"\n",
    "os.makedirs(save_dir, exist_ok=True)\n",
    "save_path = os.path.join(save_dir, \"research_journals_skills.xlsx\")\n",
    "\n",
    "# 使用 ExcelWriter 将多个表写入一个 Excel 文件\n",
    "with pd.ExcelWriter(save_path, engine=\"openpyxl\") as writer:\n",
    "    df_research.to_excel(writer, sheet_name=\"Research & Journals\", index=False)\n",
    "    df_skills.to_excel(writer, sheet_name=\"Skills\", index=False)\n",
    "\n",
    "print(f\"Excel 文件已保存到: {save_path}\")\n"
   ]
  },
  {
   "cell_type": "code",
   "execution_count": 4,
   "id": "b7813f65-f87f-4c7c-bf0e-edf0ff9c86ba",
   "metadata": {},
   "outputs": [
    {
     "name": "stdout",
     "output_type": "stream",
     "text": [
      "Defaulting to user installation because normal site-packages is not writeable\n",
      "Looking in indexes: https://pypi.tuna.tsinghua.edu.cn/simple\n",
      "Requirement already satisfied: docxtpl in c:\\users\\29454\\appdata\\roaming\\python\\python312\\site-packages (0.20.1)\n",
      "Requirement already satisfied: python-docx>=1.1.1 in c:\\users\\29454\\appdata\\roaming\\python\\python312\\site-packages (from docxtpl) (1.2.0)\n",
      "Requirement already satisfied: docxcompose in c:\\users\\29454\\appdata\\roaming\\python\\python312\\site-packages (from docxtpl) (1.4.0)\n",
      "Requirement already satisfied: jinja2 in d:\\anaconda\\lib\\site-packages (from docxtpl) (3.1.4)\n",
      "Requirement already satisfied: lxml in d:\\anaconda\\lib\\site-packages (from docxtpl) (5.2.1)\n",
      "Requirement already satisfied: typing_extensions>=4.9.0 in d:\\anaconda\\lib\\site-packages (from python-docx>=1.1.1->docxtpl) (4.11.0)\n",
      "Requirement already satisfied: setuptools in d:\\anaconda\\lib\\site-packages (from docxcompose->docxtpl) (75.1.0)\n",
      "Requirement already satisfied: six in d:\\anaconda\\lib\\site-packages (from docxcompose->docxtpl) (1.16.0)\n",
      "Requirement already satisfied: babel in d:\\anaconda\\lib\\site-packages (from docxcompose->docxtpl) (2.11.0)\n",
      "Requirement already satisfied: MarkupSafe>=2.0 in d:\\anaconda\\lib\\site-packages (from jinja2->docxtpl) (2.1.3)\n",
      "Requirement already satisfied: pytz>=2015.7 in d:\\anaconda\\lib\\site-packages (from babel->docxcompose->docxtpl) (2024.1)\n"
     ]
    }
   ],
   "source": [
    "import sys\n",
    "!{sys.executable} -m pip install docxtpl\n"
   ]
  },
  {
   "cell_type": "code",
   "execution_count": 5,
   "id": "ee17747c-57cb-4ab0-9598-b050cc4e7d3d",
   "metadata": {},
   "outputs": [
    {
     "name": "stdout",
     "output_type": "stream",
     "text": [
      "0.20.1\n"
     ]
    }
   ],
   "source": [
    "import docxtpl\n",
    "print(docxtpl.__version__)\n"
   ]
  },
  {
   "cell_type": "code",
   "execution_count": 11,
   "id": "2c6f6bc9-9856-4d9f-85e8-89c2130ae5ab",
   "metadata": {},
   "outputs": [
    {
     "name": "stdout",
     "output_type": "stream",
     "text": [
      "docxtpl 版本: 0.20.1\n"
     ]
    },
    {
     "data": {
      "application/vnd.jupyter.widget-view+json": {
       "model_id": "ade75e1e66f64c3fb3e30253a43a45cc",
       "version_major": 2,
       "version_minor": 0
      },
      "text/plain": [
       "  0%|          | 0/1 [00:00<?, ?it/s]"
      ]
     },
     "metadata": {},
     "output_type": "display_data"
    },
    {
     "data": {
      "application/vnd.jupyter.widget-view+json": {
       "model_id": "003e0d58b6954876861b60d335035e3f",
       "version_major": 2,
       "version_minor": 0
      },
      "text/plain": [
       "  0%|          | 0/1 [00:00<?, ?it/s]"
      ]
     },
     "metadata": {},
     "output_type": "display_data"
    },
    {
     "data": {
      "application/vnd.jupyter.widget-view+json": {
       "model_id": "eac9c98addac410ea5cac531385df9a3",
       "version_major": 2,
       "version_minor": 0
      },
      "text/plain": [
       "  0%|          | 0/1 [00:00<?, ?it/s]"
      ]
     },
     "metadata": {},
     "output_type": "display_data"
    },
    {
     "name": "stdout",
     "output_type": "stream",
     "text": [
      "PDF 转换失败: Word.Application.Documents\n"
     ]
    },
    {
     "data": {
      "application/vnd.jupyter.widget-view+json": {
       "model_id": "34673d4cf57444deafd397ab28416725",
       "version_major": 2,
       "version_minor": 0
      },
      "text/plain": [
       "  0%|          | 0/1 [00:00<?, ?it/s]"
      ]
     },
     "metadata": {},
     "output_type": "display_data"
    },
    {
     "data": {
      "application/vnd.jupyter.widget-view+json": {
       "model_id": "f5a4553ca39b4068b0edd115ec07a2ff",
       "version_major": 2,
       "version_minor": 0
      },
      "text/plain": [
       "  0%|          | 0/1 [00:00<?, ?it/s]"
      ]
     },
     "metadata": {},
     "output_type": "display_data"
    },
    {
     "data": {
      "application/vnd.jupyter.widget-view+json": {
       "model_id": "e21127d3589647cdbfcb177086b1afb9",
       "version_major": 2,
       "version_minor": 0
      },
      "text/plain": [
       "  0%|          | 0/1 [00:00<?, ?it/s]"
      ]
     },
     "metadata": {},
     "output_type": "display_data"
    },
    {
     "name": "stdout",
     "output_type": "stream",
     "text": [
      "PDF 转换失败: <unknown>.Open\n"
     ]
    },
    {
     "data": {
      "application/vnd.jupyter.widget-view+json": {
       "model_id": "291ebb9aa659414ba494fb3d01b39449",
       "version_major": 2,
       "version_minor": 0
      },
      "text/plain": [
       "  0%|          | 0/1 [00:00<?, ?it/s]"
      ]
     },
     "metadata": {},
     "output_type": "display_data"
    },
    {
     "data": {
      "application/vnd.jupyter.widget-view+json": {
       "model_id": "8d9b1ad790ce4871b7f476859aa0495e",
       "version_major": 2,
       "version_minor": 0
      },
      "text/plain": [
       "  0%|          | 0/1 [00:00<?, ?it/s]"
      ]
     },
     "metadata": {},
     "output_type": "display_data"
    },
    {
     "data": {
      "application/vnd.jupyter.widget-view+json": {
       "model_id": "7367269efaf3479d99b6b8020e6d4404",
       "version_major": 2,
       "version_minor": 0
      },
      "text/plain": [
       "  0%|          | 0/1 [00:00<?, ?it/s]"
      ]
     },
     "metadata": {},
     "output_type": "display_data"
    },
    {
     "name": "stdout",
     "output_type": "stream",
     "text": [
      "PDF 转换失败: Word.Application.Documents\n"
     ]
    },
    {
     "data": {
      "application/vnd.jupyter.widget-view+json": {
       "model_id": "2d03f3bab33f4bc089a3ab108a643e77",
       "version_major": 2,
       "version_minor": 0
      },
      "text/plain": [
       "  0%|          | 0/1 [00:00<?, ?it/s]"
      ]
     },
     "metadata": {},
     "output_type": "display_data"
    },
    {
     "data": {
      "application/vnd.jupyter.widget-view+json": {
       "model_id": "e6ffda7203b5460bb68647cb5b88d3a4",
       "version_major": 2,
       "version_minor": 0
      },
      "text/plain": [
       "  0%|          | 0/1 [00:00<?, ?it/s]"
      ]
     },
     "metadata": {},
     "output_type": "display_data"
    },
    {
     "data": {
      "application/vnd.jupyter.widget-view+json": {
       "model_id": "ab5144f5d0e942689b5b68e22f626ffb",
       "version_major": 2,
       "version_minor": 0
      },
      "text/plain": [
       "  0%|          | 0/1 [00:00<?, ?it/s]"
      ]
     },
     "metadata": {},
     "output_type": "display_data"
    },
    {
     "name": "stdout",
     "output_type": "stream",
     "text": [
      "PDF 转换失败: Word.Application.Documents\n"
     ]
    },
    {
     "data": {
      "application/vnd.jupyter.widget-view+json": {
       "model_id": "f941201c58f84622b8882d12d64ea19b",
       "version_major": 2,
       "version_minor": 0
      },
      "text/plain": [
       "  0%|          | 0/1 [00:00<?, ?it/s]"
      ]
     },
     "metadata": {},
     "output_type": "display_data"
    },
    {
     "data": {
      "application/vnd.jupyter.widget-view+json": {
       "model_id": "64cb2c0da7a84044a56c031f55ceae16",
       "version_major": 2,
       "version_minor": 0
      },
      "text/plain": [
       "  0%|          | 0/1 [00:00<?, ?it/s]"
      ]
     },
     "metadata": {},
     "output_type": "display_data"
    },
    {
     "data": {
      "application/vnd.jupyter.widget-view+json": {
       "model_id": "e6fc2b0349394a6b9eac5dcce13eba66",
       "version_major": 2,
       "version_minor": 0
      },
      "text/plain": [
       "  0%|          | 0/1 [00:00<?, ?it/s]"
      ]
     },
     "metadata": {},
     "output_type": "display_data"
    },
    {
     "data": {
      "application/vnd.jupyter.widget-view+json": {
       "model_id": "b99fd2f3f2614d30ae8ecbcc684430ad",
       "version_major": 2,
       "version_minor": 0
      },
      "text/plain": [
       "  0%|          | 0/1 [00:00<?, ?it/s]"
      ]
     },
     "metadata": {},
     "output_type": "display_data"
    },
    {
     "data": {
      "application/vnd.jupyter.widget-view+json": {
       "model_id": "5836ce2af054437fa28d93bed32e4dbf",
       "version_major": 2,
       "version_minor": 0
      },
      "text/plain": [
       "  0%|          | 0/1 [00:00<?, ?it/s]"
      ]
     },
     "metadata": {},
     "output_type": "display_data"
    },
    {
     "name": "stdout",
     "output_type": "stream",
     "text": [
      "PDF 转换失败: Word.Application.Documents\n"
     ]
    },
    {
     "data": {
      "application/vnd.jupyter.widget-view+json": {
       "model_id": "5e7ec0cf14484eb09c3ed10be64a5cea",
       "version_major": 2,
       "version_minor": 0
      },
      "text/plain": [
       "  0%|          | 0/1 [00:00<?, ?it/s]"
      ]
     },
     "metadata": {},
     "output_type": "display_data"
    },
    {
     "data": {
      "application/vnd.jupyter.widget-view+json": {
       "model_id": "9035a905ed164a3882d89e55d7e79e52",
       "version_major": 2,
       "version_minor": 0
      },
      "text/plain": [
       "  0%|          | 0/1 [00:00<?, ?it/s]"
      ]
     },
     "metadata": {},
     "output_type": "display_data"
    },
    {
     "data": {
      "application/vnd.jupyter.widget-view+json": {
       "model_id": "1943f3e000114b7a84eff724c9845f9f",
       "version_major": 2,
       "version_minor": 0
      },
      "text/plain": [
       "  0%|          | 0/1 [00:00<?, ?it/s]"
      ]
     },
     "metadata": {},
     "output_type": "display_data"
    },
    {
     "name": "stdout",
     "output_type": "stream",
     "text": [
      "PDF 转换失败: Word.Application.Documents\n"
     ]
    },
    {
     "data": {
      "application/vnd.jupyter.widget-view+json": {
       "model_id": "9b7fcb07858b40d9a931291e6f83aa7a",
       "version_major": 2,
       "version_minor": 0
      },
      "text/plain": [
       "  0%|          | 0/1 [00:00<?, ?it/s]"
      ]
     },
     "metadata": {},
     "output_type": "display_data"
    },
    {
     "data": {
      "application/vnd.jupyter.widget-view+json": {
       "model_id": "2d9e5c6cb8c74a648c4c4196887e3a47",
       "version_major": 2,
       "version_minor": 0
      },
      "text/plain": [
       "  0%|          | 0/1 [00:00<?, ?it/s]"
      ]
     },
     "metadata": {},
     "output_type": "display_data"
    },
    {
     "data": {
      "application/vnd.jupyter.widget-view+json": {
       "model_id": "17fbf88591924395a0f25eccd164067c",
       "version_major": 2,
       "version_minor": 0
      },
      "text/plain": [
       "  0%|          | 0/1 [00:00<?, ?it/s]"
      ]
     },
     "metadata": {},
     "output_type": "display_data"
    },
    {
     "name": "stdout",
     "output_type": "stream",
     "text": [
      "PDF 转换失败: Word.Application.Documents\n"
     ]
    },
    {
     "data": {
      "application/vnd.jupyter.widget-view+json": {
       "model_id": "da0d2b53c9ca46548d6408cac9123f7b",
       "version_major": 2,
       "version_minor": 0
      },
      "text/plain": [
       "  0%|          | 0/1 [00:00<?, ?it/s]"
      ]
     },
     "metadata": {},
     "output_type": "display_data"
    },
    {
     "data": {
      "application/vnd.jupyter.widget-view+json": {
       "model_id": "77347c7c89964dc2826c7ddc72ee532f",
       "version_major": 2,
       "version_minor": 0
      },
      "text/plain": [
       "  0%|          | 0/1 [00:00<?, ?it/s]"
      ]
     },
     "metadata": {},
     "output_type": "display_data"
    },
    {
     "data": {
      "application/vnd.jupyter.widget-view+json": {
       "model_id": "67a3289ee4754133a8308c61e8cfcb31",
       "version_major": 2,
       "version_minor": 0
      },
      "text/plain": [
       "  0%|          | 0/1 [00:00<?, ?it/s]"
      ]
     },
     "metadata": {},
     "output_type": "display_data"
    },
    {
     "name": "stdout",
     "output_type": "stream",
     "text": [
      "PDF 转换失败: Word.Application.Documents\n"
     ]
    },
    {
     "data": {
      "application/vnd.jupyter.widget-view+json": {
       "model_id": "c36a71240c384fb08bfbd933c075015e",
       "version_major": 2,
       "version_minor": 0
      },
      "text/plain": [
       "  0%|          | 0/1 [00:00<?, ?it/s]"
      ]
     },
     "metadata": {},
     "output_type": "display_data"
    },
    {
     "data": {
      "application/vnd.jupyter.widget-view+json": {
       "model_id": "2a8c2042531147a886286d490f775719",
       "version_major": 2,
       "version_minor": 0
      },
      "text/plain": [
       "  0%|          | 0/1 [00:00<?, ?it/s]"
      ]
     },
     "metadata": {},
     "output_type": "display_data"
    },
    {
     "data": {
      "application/vnd.jupyter.widget-view+json": {
       "model_id": "f4df43346b734ffd9f9035e1cf2caa4c",
       "version_major": 2,
       "version_minor": 0
      },
      "text/plain": [
       "  0%|          | 0/1 [00:00<?, ?it/s]"
      ]
     },
     "metadata": {},
     "output_type": "display_data"
    },
    {
     "data": {
      "application/vnd.jupyter.widget-view+json": {
       "model_id": "1c144daf5b7042a3b1023cb1ad760fae",
       "version_major": 2,
       "version_minor": 0
      },
      "text/plain": [
       "  0%|          | 0/1 [00:00<?, ?it/s]"
      ]
     },
     "metadata": {},
     "output_type": "display_data"
    },
    {
     "data": {
      "application/vnd.jupyter.widget-view+json": {
       "model_id": "7c65b10d86e34e3d9672ecbc11f9c8fc",
       "version_major": 2,
       "version_minor": 0
      },
      "text/plain": [
       "  0%|          | 0/1 [00:00<?, ?it/s]"
      ]
     },
     "metadata": {},
     "output_type": "display_data"
    },
    {
     "name": "stdout",
     "output_type": "stream",
     "text": [
      "PDF 转换失败: Word.Application.Documents\n"
     ]
    },
    {
     "data": {
      "application/vnd.jupyter.widget-view+json": {
       "model_id": "50295b0ff11244e2b587d4ca181e181f",
       "version_major": 2,
       "version_minor": 0
      },
      "text/plain": [
       "  0%|          | 0/1 [00:00<?, ?it/s]"
      ]
     },
     "metadata": {},
     "output_type": "display_data"
    },
    {
     "data": {
      "application/vnd.jupyter.widget-view+json": {
       "model_id": "1edd5fb90bc84e0eb0934d6304d1f8d3",
       "version_major": 2,
       "version_minor": 0
      },
      "text/plain": [
       "  0%|          | 0/1 [00:00<?, ?it/s]"
      ]
     },
     "metadata": {},
     "output_type": "display_data"
    },
    {
     "data": {
      "application/vnd.jupyter.widget-view+json": {
       "model_id": "589795a35cd14dcb867fa367ed5a2671",
       "version_major": 2,
       "version_minor": 0
      },
      "text/plain": [
       "  0%|          | 0/1 [00:00<?, ?it/s]"
      ]
     },
     "metadata": {},
     "output_type": "display_data"
    },
    {
     "name": "stdout",
     "output_type": "stream",
     "text": [
      "PDF 转换失败: Word.Application.Documents\n"
     ]
    },
    {
     "data": {
      "application/vnd.jupyter.widget-view+json": {
       "model_id": "b76806be555540b1be7d76aced42b9a7",
       "version_major": 2,
       "version_minor": 0
      },
      "text/plain": [
       "  0%|          | 0/1 [00:00<?, ?it/s]"
      ]
     },
     "metadata": {},
     "output_type": "display_data"
    },
    {
     "data": {
      "application/vnd.jupyter.widget-view+json": {
       "model_id": "fd5b0611d913411cb222f395a65fc0a4",
       "version_major": 2,
       "version_minor": 0
      },
      "text/plain": [
       "  0%|          | 0/1 [00:00<?, ?it/s]"
      ]
     },
     "metadata": {},
     "output_type": "display_data"
    },
    {
     "data": {
      "application/vnd.jupyter.widget-view+json": {
       "model_id": "0d82c355f7f5428389829090e29d3a1c",
       "version_major": 2,
       "version_minor": 0
      },
      "text/plain": [
       "  0%|          | 0/1 [00:00<?, ?it/s]"
      ]
     },
     "metadata": {},
     "output_type": "display_data"
    },
    {
     "name": "stdout",
     "output_type": "stream",
     "text": [
      "PDF 转换失败: Word.Application.Documents\n"
     ]
    },
    {
     "data": {
      "application/vnd.jupyter.widget-view+json": {
       "model_id": "5e71d49b69574afca4cee67cae253510",
       "version_major": 2,
       "version_minor": 0
      },
      "text/plain": [
       "  0%|          | 0/1 [00:00<?, ?it/s]"
      ]
     },
     "metadata": {},
     "output_type": "display_data"
    },
    {
     "data": {
      "application/vnd.jupyter.widget-view+json": {
       "model_id": "c4b152abfdcd4ab8bb48bf36fa659c9c",
       "version_major": 2,
       "version_minor": 0
      },
      "text/plain": [
       "  0%|          | 0/1 [00:00<?, ?it/s]"
      ]
     },
     "metadata": {},
     "output_type": "display_data"
    },
    {
     "data": {
      "application/vnd.jupyter.widget-view+json": {
       "model_id": "3e6c3598bb364bfdb1dd013f734555bd",
       "version_major": 2,
       "version_minor": 0
      },
      "text/plain": [
       "  0%|          | 0/1 [00:00<?, ?it/s]"
      ]
     },
     "metadata": {},
     "output_type": "display_data"
    },
    {
     "name": "stdout",
     "output_type": "stream",
     "text": [
      "PDF 转换失败: Word.Application.Documents\n"
     ]
    },
    {
     "data": {
      "application/vnd.jupyter.widget-view+json": {
       "model_id": "af84756e2fa940129c41e006dab3e560",
       "version_major": 2,
       "version_minor": 0
      },
      "text/plain": [
       "  0%|          | 0/1 [00:00<?, ?it/s]"
      ]
     },
     "metadata": {},
     "output_type": "display_data"
    },
    {
     "data": {
      "application/vnd.jupyter.widget-view+json": {
       "model_id": "bce72851473a4e30a30f1f0491d10b31",
       "version_major": 2,
       "version_minor": 0
      },
      "text/plain": [
       "  0%|          | 0/1 [00:00<?, ?it/s]"
      ]
     },
     "metadata": {},
     "output_type": "display_data"
    },
    {
     "data": {
      "application/vnd.jupyter.widget-view+json": {
       "model_id": "87219f2fd75948e4bebd71aa3190246f",
       "version_major": 2,
       "version_minor": 0
      },
      "text/plain": [
       "  0%|          | 0/1 [00:00<?, ?it/s]"
      ]
     },
     "metadata": {},
     "output_type": "display_data"
    },
    {
     "name": "stdout",
     "output_type": "stream",
     "text": [
      "PDF 转换失败: Word.Application.Documents\n"
     ]
    },
    {
     "data": {
      "application/vnd.jupyter.widget-view+json": {
       "model_id": "e733f7b76f624ad0a04b9409f0c38e01",
       "version_major": 2,
       "version_minor": 0
      },
      "text/plain": [
       "  0%|          | 0/1 [00:00<?, ?it/s]"
      ]
     },
     "metadata": {},
     "output_type": "display_data"
    },
    {
     "data": {
      "application/vnd.jupyter.widget-view+json": {
       "model_id": "f35bb2c88dda49dca541b44cef9ec55c",
       "version_major": 2,
       "version_minor": 0
      },
      "text/plain": [
       "  0%|          | 0/1 [00:00<?, ?it/s]"
      ]
     },
     "metadata": {},
     "output_type": "display_data"
    },
    {
     "data": {
      "application/vnd.jupyter.widget-view+json": {
       "model_id": "eef17781ee834de4b5f860c027f58863",
       "version_major": 2,
       "version_minor": 0
      },
      "text/plain": [
       "  0%|          | 0/1 [00:00<?, ?it/s]"
      ]
     },
     "metadata": {},
     "output_type": "display_data"
    },
    {
     "name": "stdout",
     "output_type": "stream",
     "text": [
      "PDF 转换失败: Word.Application.Documents\n"
     ]
    },
    {
     "data": {
      "application/vnd.jupyter.widget-view+json": {
       "model_id": "ec36c1c874ba4acaa45b8e72aa9a519f",
       "version_major": 2,
       "version_minor": 0
      },
      "text/plain": [
       "  0%|          | 0/1 [00:00<?, ?it/s]"
      ]
     },
     "metadata": {},
     "output_type": "display_data"
    },
    {
     "data": {
      "application/vnd.jupyter.widget-view+json": {
       "model_id": "5d6d669c24384e52904c044139672b7b",
       "version_major": 2,
       "version_minor": 0
      },
      "text/plain": [
       "  0%|          | 0/1 [00:00<?, ?it/s]"
      ]
     },
     "metadata": {},
     "output_type": "display_data"
    },
    {
     "data": {
      "application/vnd.jupyter.widget-view+json": {
       "model_id": "3673febb4b6548678e5f2ae691e7a576",
       "version_major": 2,
       "version_minor": 0
      },
      "text/plain": [
       "  0%|          | 0/1 [00:00<?, ?it/s]"
      ]
     },
     "metadata": {},
     "output_type": "display_data"
    },
    {
     "name": "stdout",
     "output_type": "stream",
     "text": [
      "PDF 转换失败: Word.Application.Documents\n"
     ]
    },
    {
     "data": {
      "application/vnd.jupyter.widget-view+json": {
       "model_id": "5c729c5685e349dda6feed84c8487e65",
       "version_major": 2,
       "version_minor": 0
      },
      "text/plain": [
       "  0%|          | 0/1 [00:00<?, ?it/s]"
      ]
     },
     "metadata": {},
     "output_type": "display_data"
    },
    {
     "data": {
      "application/vnd.jupyter.widget-view+json": {
       "model_id": "af4e4c767f314f91bf7bf66dce4b1c04",
       "version_major": 2,
       "version_minor": 0
      },
      "text/plain": [
       "  0%|          | 0/1 [00:00<?, ?it/s]"
      ]
     },
     "metadata": {},
     "output_type": "display_data"
    },
    {
     "data": {
      "application/vnd.jupyter.widget-view+json": {
       "model_id": "ab3d6d489893433081b1f2a2b58a824f",
       "version_major": 2,
       "version_minor": 0
      },
      "text/plain": [
       "  0%|          | 0/1 [00:00<?, ?it/s]"
      ]
     },
     "metadata": {},
     "output_type": "display_data"
    },
    {
     "name": "stdout",
     "output_type": "stream",
     "text": [
      "PDF 转换失败: Word.Application.Documents\n"
     ]
    },
    {
     "data": {
      "application/vnd.jupyter.widget-view+json": {
       "model_id": "f51c8c47042f49099d08c9458d9b85ad",
       "version_major": 2,
       "version_minor": 0
      },
      "text/plain": [
       "  0%|          | 0/1 [00:00<?, ?it/s]"
      ]
     },
     "metadata": {},
     "output_type": "display_data"
    },
    {
     "data": {
      "application/vnd.jupyter.widget-view+json": {
       "model_id": "85d271e0251d4cba92e3a7900f131407",
       "version_major": 2,
       "version_minor": 0
      },
      "text/plain": [
       "  0%|          | 0/1 [00:00<?, ?it/s]"
      ]
     },
     "metadata": {},
     "output_type": "display_data"
    },
    {
     "data": {
      "application/vnd.jupyter.widget-view+json": {
       "model_id": "e89f04c4093b4a61a12e0366f93561d4",
       "version_major": 2,
       "version_minor": 0
      },
      "text/plain": [
       "  0%|          | 0/1 [00:00<?, ?it/s]"
      ]
     },
     "metadata": {},
     "output_type": "display_data"
    },
    {
     "name": "stdout",
     "output_type": "stream",
     "text": [
      "PDF 转换失败: Word.Application.Documents\n"
     ]
    },
    {
     "data": {
      "application/vnd.jupyter.widget-view+json": {
       "model_id": "5a7b14d591b04e2eb6fce58e08453a2b",
       "version_major": 2,
       "version_minor": 0
      },
      "text/plain": [
       "  0%|          | 0/1 [00:00<?, ?it/s]"
      ]
     },
     "metadata": {},
     "output_type": "display_data"
    },
    {
     "data": {
      "application/vnd.jupyter.widget-view+json": {
       "model_id": "abd08aab9ef9492cb431f387106ae904",
       "version_major": 2,
       "version_minor": 0
      },
      "text/plain": [
       "  0%|          | 0/1 [00:00<?, ?it/s]"
      ]
     },
     "metadata": {},
     "output_type": "display_data"
    },
    {
     "data": {
      "application/vnd.jupyter.widget-view+json": {
       "model_id": "eef6bf63896440ec901d90927f0216a7",
       "version_major": 2,
       "version_minor": 0
      },
      "text/plain": [
       "  0%|          | 0/1 [00:00<?, ?it/s]"
      ]
     },
     "metadata": {},
     "output_type": "display_data"
    },
    {
     "data": {
      "application/vnd.jupyter.widget-view+json": {
       "model_id": "d71023974fea4e38ba264aa9ac13d224",
       "version_major": 2,
       "version_minor": 0
      },
      "text/plain": [
       "  0%|          | 0/1 [00:00<?, ?it/s]"
      ]
     },
     "metadata": {},
     "output_type": "display_data"
    },
    {
     "data": {
      "application/vnd.jupyter.widget-view+json": {
       "model_id": "ea9d0e32957f475c8d0f5193294c6cb3",
       "version_major": 2,
       "version_minor": 0
      },
      "text/plain": [
       "  0%|          | 0/1 [00:00<?, ?it/s]"
      ]
     },
     "metadata": {},
     "output_type": "display_data"
    },
    {
     "data": {
      "application/vnd.jupyter.widget-view+json": {
       "model_id": "d2528dec5cfe4befae32a98cced10cc3",
       "version_major": 2,
       "version_minor": 0
      },
      "text/plain": [
       "  0%|          | 0/1 [00:00<?, ?it/s]"
      ]
     },
     "metadata": {},
     "output_type": "display_data"
    },
    {
     "data": {
      "application/vnd.jupyter.widget-view+json": {
       "model_id": "1bf027381ce54cff8f06cf956dc8b955",
       "version_major": 2,
       "version_minor": 0
      },
      "text/plain": [
       "  0%|          | 0/1 [00:00<?, ?it/s]"
      ]
     },
     "metadata": {},
     "output_type": "display_data"
    },
    {
     "name": "stdout",
     "output_type": "stream",
     "text": [
      "PDF 转换失败: (-2147023170, '远程过程调用失败。', None, None)\n"
     ]
    },
    {
     "data": {
      "application/vnd.jupyter.widget-view+json": {
       "model_id": "31f4ff34788448efbcce7f4c57830302",
       "version_major": 2,
       "version_minor": 0
      },
      "text/plain": [
       "  0%|          | 0/1 [00:00<?, ?it/s]"
      ]
     },
     "metadata": {},
     "output_type": "display_data"
    },
    {
     "data": {
      "application/vnd.jupyter.widget-view+json": {
       "model_id": "000eed1a5a9c4153b3aa2dd09b51afa7",
       "version_major": 2,
       "version_minor": 0
      },
      "text/plain": [
       "  0%|          | 0/1 [00:00<?, ?it/s]"
      ]
     },
     "metadata": {},
     "output_type": "display_data"
    },
    {
     "data": {
      "application/vnd.jupyter.widget-view+json": {
       "model_id": "287cbc76db8e4ef786402f03fbb4f82b",
       "version_major": 2,
       "version_minor": 0
      },
      "text/plain": [
       "  0%|          | 0/1 [00:00<?, ?it/s]"
      ]
     },
     "metadata": {},
     "output_type": "display_data"
    },
    {
     "name": "stdout",
     "output_type": "stream",
     "text": [
      "PDF 转换失败: Word.Application.Documents\n"
     ]
    },
    {
     "data": {
      "application/vnd.jupyter.widget-view+json": {
       "model_id": "fce196ae7b804ff18e54d628cd6d3c06",
       "version_major": 2,
       "version_minor": 0
      },
      "text/plain": [
       "  0%|          | 0/1 [00:00<?, ?it/s]"
      ]
     },
     "metadata": {},
     "output_type": "display_data"
    },
    {
     "data": {
      "application/vnd.jupyter.widget-view+json": {
       "model_id": "63b7cd3ed9ec421fa501b07f968ef897",
       "version_major": 2,
       "version_minor": 0
      },
      "text/plain": [
       "  0%|          | 0/1 [00:00<?, ?it/s]"
      ]
     },
     "metadata": {},
     "output_type": "display_data"
    },
    {
     "data": {
      "application/vnd.jupyter.widget-view+json": {
       "model_id": "95b0215299e04a1ab1fafe70d35ea3cf",
       "version_major": 2,
       "version_minor": 0
      },
      "text/plain": [
       "  0%|          | 0/1 [00:00<?, ?it/s]"
      ]
     },
     "metadata": {},
     "output_type": "display_data"
    },
    {
     "name": "stdout",
     "output_type": "stream",
     "text": [
      "PDF 转换失败: Word.Application.Documents\n"
     ]
    },
    {
     "data": {
      "application/vnd.jupyter.widget-view+json": {
       "model_id": "e9d7c2d4ba0d4fdc8ad3a5632d30eda6",
       "version_major": 2,
       "version_minor": 0
      },
      "text/plain": [
       "  0%|          | 0/1 [00:00<?, ?it/s]"
      ]
     },
     "metadata": {},
     "output_type": "display_data"
    },
    {
     "data": {
      "application/vnd.jupyter.widget-view+json": {
       "model_id": "3e8517d222814e439dda01c6b47de5f8",
       "version_major": 2,
       "version_minor": 0
      },
      "text/plain": [
       "  0%|          | 0/1 [00:00<?, ?it/s]"
      ]
     },
     "metadata": {},
     "output_type": "display_data"
    },
    {
     "data": {
      "application/vnd.jupyter.widget-view+json": {
       "model_id": "334610c10e944f2aa5a422d890898149",
       "version_major": 2,
       "version_minor": 0
      },
      "text/plain": [
       "  0%|          | 0/1 [00:00<?, ?it/s]"
      ]
     },
     "metadata": {},
     "output_type": "display_data"
    },
    {
     "name": "stdout",
     "output_type": "stream",
     "text": [
      "PDF 转换失败: Word.Application.Documents\n"
     ]
    },
    {
     "data": {
      "application/vnd.jupyter.widget-view+json": {
       "model_id": "fdf47622054046d8a61ed0b77339d661",
       "version_major": 2,
       "version_minor": 0
      },
      "text/plain": [
       "  0%|          | 0/1 [00:00<?, ?it/s]"
      ]
     },
     "metadata": {},
     "output_type": "display_data"
    },
    {
     "data": {
      "application/vnd.jupyter.widget-view+json": {
       "model_id": "ba9c51974266431f88fb1fe0150af308",
       "version_major": 2,
       "version_minor": 0
      },
      "text/plain": [
       "  0%|          | 0/1 [00:00<?, ?it/s]"
      ]
     },
     "metadata": {},
     "output_type": "display_data"
    },
    {
     "data": {
      "application/vnd.jupyter.widget-view+json": {
       "model_id": "d582e144c98d475184cde0e2e7cc92fc",
       "version_major": 2,
       "version_minor": 0
      },
      "text/plain": [
       "  0%|          | 0/1 [00:00<?, ?it/s]"
      ]
     },
     "metadata": {},
     "output_type": "display_data"
    },
    {
     "data": {
      "application/vnd.jupyter.widget-view+json": {
       "model_id": "1d7d65e510ca4939afc22dcb3277669a",
       "version_major": 2,
       "version_minor": 0
      },
      "text/plain": [
       "  0%|          | 0/1 [00:00<?, ?it/s]"
      ]
     },
     "metadata": {},
     "output_type": "display_data"
    },
    {
     "data": {
      "application/vnd.jupyter.widget-view+json": {
       "model_id": "a1ae3f41ad7946aca17c4b62e061ed51",
       "version_major": 2,
       "version_minor": 0
      },
      "text/plain": [
       "  0%|          | 0/1 [00:00<?, ?it/s]"
      ]
     },
     "metadata": {},
     "output_type": "display_data"
    },
    {
     "name": "stdout",
     "output_type": "stream",
     "text": [
      "PDF 转换失败: Word.Application.Documents\n"
     ]
    },
    {
     "data": {
      "application/vnd.jupyter.widget-view+json": {
       "model_id": "5c5a402d4d644cd49d84e35b9be941e4",
       "version_major": 2,
       "version_minor": 0
      },
      "text/plain": [
       "  0%|          | 0/1 [00:00<?, ?it/s]"
      ]
     },
     "metadata": {},
     "output_type": "display_data"
    },
    {
     "data": {
      "application/vnd.jupyter.widget-view+json": {
       "model_id": "af6f07066764494383c2842bdeb56a16",
       "version_major": 2,
       "version_minor": 0
      },
      "text/plain": [
       "  0%|          | 0/1 [00:00<?, ?it/s]"
      ]
     },
     "metadata": {},
     "output_type": "display_data"
    },
    {
     "data": {
      "application/vnd.jupyter.widget-view+json": {
       "model_id": "d3ad87f214b541578839c9fc465bcfad",
       "version_major": 2,
       "version_minor": 0
      },
      "text/plain": [
       "  0%|          | 0/1 [00:00<?, ?it/s]"
      ]
     },
     "metadata": {},
     "output_type": "display_data"
    },
    {
     "name": "stdout",
     "output_type": "stream",
     "text": [
      "PDF 转换失败: Word.Application.Documents\n"
     ]
    },
    {
     "data": {
      "application/vnd.jupyter.widget-view+json": {
       "model_id": "3dfd3e1b68904325a43f3fd03ce995c6",
       "version_major": 2,
       "version_minor": 0
      },
      "text/plain": [
       "  0%|          | 0/1 [00:00<?, ?it/s]"
      ]
     },
     "metadata": {},
     "output_type": "display_data"
    },
    {
     "data": {
      "application/vnd.jupyter.widget-view+json": {
       "model_id": "d64f440880f944ee9ef2ce31d9d677df",
       "version_major": 2,
       "version_minor": 0
      },
      "text/plain": [
       "  0%|          | 0/1 [00:00<?, ?it/s]"
      ]
     },
     "metadata": {},
     "output_type": "display_data"
    },
    {
     "data": {
      "application/vnd.jupyter.widget-view+json": {
       "model_id": "c2c680bb82044466b62980d6568e5057",
       "version_major": 2,
       "version_minor": 0
      },
      "text/plain": [
       "  0%|          | 0/1 [00:00<?, ?it/s]"
      ]
     },
     "metadata": {},
     "output_type": "display_data"
    },
    {
     "name": "stdout",
     "output_type": "stream",
     "text": [
      "PDF 转换失败: Word.Application.Documents\n"
     ]
    },
    {
     "data": {
      "application/vnd.jupyter.widget-view+json": {
       "model_id": "9c1fb8d3b0e845ec929800b74874ea6a",
       "version_major": 2,
       "version_minor": 0
      },
      "text/plain": [
       "  0%|          | 0/1 [00:00<?, ?it/s]"
      ]
     },
     "metadata": {},
     "output_type": "display_data"
    },
    {
     "data": {
      "application/vnd.jupyter.widget-view+json": {
       "model_id": "6fe3833fc9b5439e9112bca80977d3df",
       "version_major": 2,
       "version_minor": 0
      },
      "text/plain": [
       "  0%|          | 0/1 [00:00<?, ?it/s]"
      ]
     },
     "metadata": {},
     "output_type": "display_data"
    },
    {
     "data": {
      "application/vnd.jupyter.widget-view+json": {
       "model_id": "2977b398faad43dd8c7f01416f3547e7",
       "version_major": 2,
       "version_minor": 0
      },
      "text/plain": [
       "  0%|          | 0/1 [00:00<?, ?it/s]"
      ]
     },
     "metadata": {},
     "output_type": "display_data"
    },
    {
     "name": "stdout",
     "output_type": "stream",
     "text": [
      "PDF 转换失败: Word.Application.Documents\n"
     ]
    },
    {
     "data": {
      "application/vnd.jupyter.widget-view+json": {
       "model_id": "89ccb89548fe42bfb2da7b04564e18e4",
       "version_major": 2,
       "version_minor": 0
      },
      "text/plain": [
       "  0%|          | 0/1 [00:00<?, ?it/s]"
      ]
     },
     "metadata": {},
     "output_type": "display_data"
    },
    {
     "data": {
      "application/vnd.jupyter.widget-view+json": {
       "model_id": "e26e4123f0cd443e8be2c25081db5d07",
       "version_major": 2,
       "version_minor": 0
      },
      "text/plain": [
       "  0%|          | 0/1 [00:00<?, ?it/s]"
      ]
     },
     "metadata": {},
     "output_type": "display_data"
    },
    {
     "data": {
      "application/vnd.jupyter.widget-view+json": {
       "model_id": "ed71f252a70b468bbcb566486c69a5ea",
       "version_major": 2,
       "version_minor": 0
      },
      "text/plain": [
       "  0%|          | 0/1 [00:00<?, ?it/s]"
      ]
     },
     "metadata": {},
     "output_type": "display_data"
    },
    {
     "name": "stdout",
     "output_type": "stream",
     "text": [
      "PDF 转换失败: Word.Application.Documents\n"
     ]
    },
    {
     "data": {
      "application/vnd.jupyter.widget-view+json": {
       "model_id": "6951ceed869a40b79c7a4504da33f3d4",
       "version_major": 2,
       "version_minor": 0
      },
      "text/plain": [
       "  0%|          | 0/1 [00:00<?, ?it/s]"
      ]
     },
     "metadata": {},
     "output_type": "display_data"
    },
    {
     "data": {
      "application/vnd.jupyter.widget-view+json": {
       "model_id": "f4facec8e6b44b9185791076bd112d71",
       "version_major": 2,
       "version_minor": 0
      },
      "text/plain": [
       "  0%|          | 0/1 [00:00<?, ?it/s]"
      ]
     },
     "metadata": {},
     "output_type": "display_data"
    },
    {
     "name": "stdout",
     "output_type": "stream",
     "text": [
      "PDF 转换失败: (-2147023170, '远程过程调用失败。', None, None)\n",
      "生成完成 90 个文档，输出目录: D:\\FFOutput\n",
      "manifest 保存至: D:\\FFOutput\\manifest.csv\n"
     ]
    }
   ],
   "source": [
    "# -------------------- 完整 SOP 生成 Notebook --------------------\n",
    "import sys\n",
    "import subprocess\n",
    "from pathlib import Path\n",
    "import pandas as pd\n",
    "import itertools\n",
    "import datetime\n",
    "import csv\n",
    "import platform\n",
    "import re\n",
    "\n",
    "# ---------------- 安装依赖 ----------------\n",
    "try:\n",
    "    import docxtpl\n",
    "except ModuleNotFoundError:\n",
    "    print(\"docxtpl 未安装，正在安装...\")\n",
    "    subprocess.check_call([sys.executable, \"-m\", \"pip\", \"install\", \"docxtpl\"])\n",
    "    import docxtpl\n",
    "print(\"docxtpl 版本:\", docxtpl.__version__)\n",
    "\n",
    "try:\n",
    "    from docx2pdf import convert as docx2pdf_convert\n",
    "    DOCX2PDF_AVAILABLE = True\n",
    "except Exception:\n",
    "    DOCX2PDF_AVAILABLE = False\n",
    "\n",
    "from docxtpl import DocxTemplate\n",
    "from docx import Document\n",
    "\n",
    "# ---------------- 参数 ----------------\n",
    "INPUT_PATH = Path(r\"D:\\FFOutput\\datainput.xlsx\")\n",
    "TEMPLATE_PATH = Path(r\"D:\\FFOutput\\template.docx\")\n",
    "OUTPUT_DIR = Path(r\"D:\\FFOutput\")\n",
    "APPLICANT_NAME = \"Fangyu Zhao\"\n",
    "PROGRAM = \"Master of Finance program\"\n",
    "MAX_DOCS = 90\n",
    "DATE_STR = datetime.date.today().strftime('%Y-%m-%d')\n",
    "\n",
    "OUTPUT_DIR.mkdir(parents=True, exist_ok=True)\n",
    "\n",
    "# ---------------- 创建默认模板 ----------------\n",
    "if not TEMPLATE_PATH.exists():\n",
    "    print(\"模板不存在，创建默认模板:\", TEMPLATE_PATH)\n",
    "    doc = Document()\n",
    "    doc.add_paragraph(\n",
    "        \"Dear Admission Committee,\\n\\n\"\n",
    "        \"My name is {{ applicant_name }}, and I am pleased to apply for the {{ program }} at {{ university }}.\\n\\n\"\n",
    "        \"In my free time, I enjoy reading top-tier academic research to stay updated with the latest advancements in {{ research_area }}. \"\n",
    "        \"I occasionally study articles from journals such as {{ journals }}.\\n\\n\"\n",
    "        \"I have practical skills such as {{ skills }}.\\n\\n\"\n",
    "        \"Thank you for considering my application.\\n\\n\"\n",
    "        \"Sincerely,\\n\\n{{ applicant_name }}\\nDate: {{ date }}\"\n",
    "    )\n",
    "    doc.save(TEMPLATE_PATH)\n",
    "\n",
    "# ---------------- 读取 Excel ----------------\n",
    "if INPUT_PATH.exists():\n",
    "    try:\n",
    "        df = pd.read_excel(INPUT_PATH)\n",
    "    except Exception:\n",
    "        df = pd.read_csv(INPUT_PATH)\n",
    "else:\n",
    "    csv_path = INPUT_PATH.with_suffix('.csv')\n",
    "    if csv_path.exists():\n",
    "        df = pd.read_csv(csv_path)\n",
    "    else:\n",
    "        raise FileNotFoundError(f\"输入文件不存在: {INPUT_PATH} 或 {csv_path}\")\n",
    "\n",
    "# ---------------- 自动识别列 ----------------\n",
    "cols = {c.lower(): c for c in df.columns}\n",
    "col_univ = next((v for k,v in cols.items() if 'univers' in k or 'school' in k), None)\n",
    "col_research = next((v for k,v in cols.items() if 'research' in k or 'journal' in k), None)\n",
    "col_skills = next((v for k,v in cols.items() if 'skill' in k), None)\n",
    "\n",
    "if not col_univ: col_univ = df.columns[0]\n",
    "if not col_research and len(df.columns) > 1: col_research = df.columns[1]\n",
    "if not col_skills and len(df.columns) > 2: col_skills = df.columns[2]\n",
    "\n",
    "universities = df[col_univ].dropna().astype(str).str.strip().tolist()\n",
    "research_entries = df[col_research].dropna().astype(str).str.strip().tolist() if col_research else [\"economics\"]\n",
    "skills_entries = df[col_skills].dropna().astype(str).str.strip().tolist() if col_skills else [\"Python, SQL, Math\"]\n",
    "\n",
    "product_iter = list(itertools.product(universities, research_entries, skills_entries))\n",
    "if not product_iter:\n",
    "    raise RuntimeError(\"从输入数据生成组合失败\")\n",
    "\n",
    "# ---------------- SOP 生成 ----------------\n",
    "manifest = []\n",
    "count = 0\n",
    "\n",
    "def sanitize_filename(name):\n",
    "    return re.sub(r'[^A-Za-z0-9_-]', '_', name)\n",
    "\n",
    "for uni, research, skills in itertools.cycle(product_iter):\n",
    "    if count >= MAX_DOCS: break\n",
    "    ctx = {\n",
    "        'applicant_name': APPLICANT_NAME,\n",
    "        'program': PROGRAM,\n",
    "        'university': uni,\n",
    "        'research_area': research,\n",
    "        'journals': research,\n",
    "        'skills': skills,\n",
    "        'date': DATE_STR,\n",
    "    }\n",
    "\n",
    "    filename_base = f\"SOP_{sanitize_filename(APPLICANT_NAME)}_{sanitize_filename(uni)}_{count+1}\"\n",
    "    docx_out = OUTPUT_DIR / f\"{filename_base}.docx\"\n",
    "\n",
    "    template = DocxTemplate(str(TEMPLATE_PATH))\n",
    "    template.render(ctx)\n",
    "    template.save(str(docx_out))\n",
    "\n",
    "    pdf_out = None\n",
    "    if DOCX2PDF_AVAILABLE and platform.system() == 'Windows':\n",
    "        try:\n",
    "            pdf_out = OUTPUT_DIR / f\"{filename_base}.pdf\"\n",
    "            docx2pdf_convert(str(docx_out), str(pdf_out))\n",
    "        except Exception as e:\n",
    "            print(\"PDF 转换失败:\", e)\n",
    "\n",
    "    manifest.append({\n",
    "        'index': count+1,\n",
    "        'university': uni,\n",
    "        'research_area': research,\n",
    "        'journals': research,\n",
    "        'skills': skills,\n",
    "        'docx_path': str(docx_out),\n",
    "        'pdf_path': str(pdf_out) if pdf_out else ''\n",
    "    })\n",
    "    count += 1\n",
    "\n",
    "# ---------------- 保存 manifest ----------------\n",
    "manifest_path = OUTPUT_DIR / 'manifest.csv'\n",
    "with open(manifest_path, 'w', newline='', encoding='utf-8') as f:\n",
    "    writer = csv.DictWriter(f, fieldnames=['index','university','research_area','journals','skills','docx_path','pdf_path'])\n",
    "    writer.writeheader()\n",
    "    writer.writerows(manifest)\n",
    "\n",
    "print(f\"生成完成 {count} 个文档，输出目录: {OUTPUT_DIR}\")\n",
    "print(f\"manifest 保存至: {manifest_path}\")\n",
    "if not DOCX2PDF_AVAILABLE:\n",
    "    print(\"未安装 docx2pdf 或非 Windows 系统，PDF 未生成。\")\n"
   ]
  },
  {
   "cell_type": "code",
   "execution_count": null,
   "id": "9a436900-6be7-4c26-bdf5-9daa14a6fdcf",
   "metadata": {},
   "outputs": [],
   "source": []
  }
 ],
 "metadata": {
  "kernelspec": {
   "display_name": "Python 3 (ipykernel)",
   "language": "python",
   "name": "python3"
  },
  "language_info": {
   "codemirror_mode": {
    "name": "ipython",
    "version": 3
   },
   "file_extension": ".py",
   "mimetype": "text/x-python",
   "name": "python",
   "nbconvert_exporter": "python",
   "pygments_lexer": "ipython3",
   "version": "3.12.7"
  }
 },
 "nbformat": 4,
 "nbformat_minor": 5
}
