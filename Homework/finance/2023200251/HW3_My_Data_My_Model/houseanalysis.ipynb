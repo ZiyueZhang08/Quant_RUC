{
 "cells": [
  {
   "cell_type": "code",
   "execution_count": 2,
   "id": "f2c52bb9-bdfd-4098-b493-3bcc9016ad5f",
   "metadata": {},
   "outputs": [],
   "source": [
    "from selenium import webdriver\n",
    "from selenium.webdriver.chrome.service import Service\n",
    "from time import sleep\n",
    "import pandas as pd\n",
    "from io import StringIO\n",
    "from functools import partial\n",
    "import matplotlib.pyplot as plt\n",
    "from selenium.webdriver.support import expected_conditions as EC\n",
    "from selenium.webdriver.common.by import By\n",
    "from selenium.common import NoSuchElementException,StaleElementReferenceException\n",
    "from matplotlib import style\n",
    "from webdriver_manager.chrome import ChromeDriverManager\n",
    "import re\n",
    "from selenium.webdriver.support.ui import WebDriverWait\n",
    "from selenium.common.exceptions import TimeoutException"
   ]
  },
  {
   "cell_type": "code",
   "execution_count": null,
   "id": "5d2a805c-9e3f-4df5-be9d-e8df876edc9d",
   "metadata": {},
   "outputs": [],
   "source": [
    "all_data = pd.DataFrame(columns = ['cost','area'])\n",
    "\n",
    "driver = webdriver.Chrome()\n",
    "\n",
    "def grab_page(url):\n",
    "\n",
    "    driver.get(url)\n",
    "    data = []\n",
    "\n",
    "    table = WebDriverWait(driver, 3).until(\n",
    "        EC.visibility_of_element_located((By.CSS_SELECTOR,\".shop_list.shop_list_4\"))\n",
    "    )\n",
    "\n",
    "    table.text\n",
    "\n",
    "    rows = table.find_elements(By.TAG_NAME,'dl')\n",
    "\n",
    "\n",
    "    for row in rows:\n",
    "        price_dd = row.find_elements(By.CLASS_NAME,'price_right')\n",
    "        price_b = price_dd[0].find_elements(By.TAG_NAME,'b') if price_dd else []\n",
    "        cost = price_b[0].text if price_b else None\n",
    "\n",
    "        area_p = row.find_elements(By.CLASS_NAME,'tel_shop')\n",
    "        area_text = area_p[0].text if area_p else ''\n",
    "        area_match = re.search(r'(\\d+\\.?\\d*)㎡', area_text)\n",
    "        area = area_match.group(1) if area_match else None\n",
    "\n",
    "        data.append((cost,area))\n",
    "\n",
    "    df = pd.DataFrame(data,columns=['cost','area'])\n",
    "    return df\n",
    "\n",
    "for i in range(1,21):\n",
    "    url = f\"https://esf.fang.com/house-a015277-b02313/i3{i}/\"\n",
    "    page_df = grab_page(url)\n",
    "    all_data = pd.concat([all_data,page_df],ignore_index=True)\n",
    "\n",
    "driver.quit()\n",
    "print(all_data)"
   ]
  },
  {
   "cell_type": "code",
   "execution_count": 17,
   "id": "ee7b83a3-8884-4950-8e95-535819d6bd8d",
   "metadata": {},
   "outputs": [
    {
     "name": "stdout",
     "output_type": "stream",
     "text": [
      "        cost area\n",
      "0      58000  468\n",
      "1      80000  416\n",
      "2     138000  330\n",
      "3     120000  381\n",
      "4      58000  307\n",
      "...      ...  ...\n",
      "1195   19000  181\n",
      "1196    9000   68\n",
      "1197   13000  105\n",
      "1198   22000  177\n",
      "1199   19000  181\n",
      "\n",
      "[1200 rows x 2 columns]\n"
     ]
    }
   ],
   "source": [
    "all_data2 = pd.DataFrame(columns = ['cost','area'])\n",
    "\n",
    "driver = webdriver.Chrome()\n",
    "\n",
    "def grab_page(url):\n",
    "\n",
    "    driver.get(url)\n",
    "    data = []\n",
    "\n",
    "    table = WebDriverWait(driver, 3).until(\n",
    "        EC.visibility_of_element_located((By.CLASS_NAME,\"houseList\"))\n",
    "    )\n",
    "\n",
    "    table.text\n",
    "\n",
    "    rows = table.find_elements(By.TAG_NAME,'dl')\n",
    "\n",
    "\n",
    "    for row in rows:\n",
    "        price_dd = row.find_elements(By.CLASS_NAME,'moreInfo')\n",
    "        price_b = price_dd[0].find_elements(By.CLASS_NAME,'price') if price_dd else []\n",
    "        cost = price_b[0].text if price_b else None\n",
    "\n",
    "        area_p = row.find_elements(By.CSS_SELECTOR,'.font15.mt12.bold')\n",
    "        area_text = area_p[0].text if area_p else ''\n",
    "        area_match = re.search(r'(\\d+\\.?\\d*)㎡', area_text)\n",
    "        area = area_match.group(1) if area_match else None\n",
    "\n",
    "        data.append((cost,area))\n",
    "\n",
    "    df = pd.DataFrame(data,columns=['cost','area'])\n",
    "    return df\n",
    "\n",
    "for i in range(1,21):\n",
    "    url = f\"https://zu.fang.com/house-a015277-b02313/i3{i}/\"\n",
    "    page_df = grab_page(url)\n",
    "    all_data2 = pd.concat([all_data2,page_df],ignore_index=True)\n",
    "\n",
    "driver.quit()\n",
    "print(all_data2)"
   ]
  },
  {
   "cell_type": "code",
   "execution_count": 40,
   "id": "03202d1a-01db-4dfd-be55-0b43f48fbb68",
   "metadata": {},
   "outputs": [],
   "source": [
    "all_data2['cost'] = pd.to_numeric(all_data2['cost'],errors='coerce')\n",
    "all_data2['area'] = pd.to_numeric(all_data2['area'],errors='coerce')\n",
    "all_data2 = all_data2.dropna()\n",
    "\n",
    "csv_file = r\"C:\\Users\\lldlu\\Desktop\\wl_rent.csv\"\n",
    "all_data2.to_csv(csv_file, index=False)"
   ]
  },
  {
   "cell_type": "code",
   "execution_count": 60,
   "id": "d2abac82-df76-4223-b1c6-070c03dc1ef6",
   "metadata": {},
   "outputs": [],
   "source": [
    "wl_rent = pd.read_csv(\"wl_rent.csv\",encoding=\"gbk\")\n",
    "wl_buy = pd.read_csv(\"wl_buy.csv\",encoding=\"gbk\")\n",
    "szq_rent = pd.read_csv(\"szq_rent.csv\")\n",
    "szq_buy = pd.read_csv(\"szq_buy.csv\")\n",
    "btpz_rent = pd.read_csv(\"btpz_rent.csv\")\n",
    "btpz_buy = pd.read_csv(\"btpz_buy.csv\")\n",
    "sjc_buy = pd.read_csv(\"shijicheng_esf.csv\")\n",
    "sjc_rent = pd.read_csv(\"shijicheng_rent.csv\")"
   ]
  },
  {
   "cell_type": "code",
   "execution_count": 61,
   "id": "201e0b45-5e5b-497d-9d3d-9b99582eacce",
   "metadata": {},
   "outputs": [],
   "source": [
    "szq_buy = szq_buy.rename(columns={'总价(万元)':'price','面积':'area'})\n",
    "szq_buy['price'] = pd.to_numeric(szq_buy['price'],errors='coerce')\n",
    "szq_buy['area'] = pd.to_numeric(szq_buy['area'],errors='coerce')\n",
    "szq_buy = szq_buy[['price','area']]\n",
    "szq_rent = szq_rent.rename(columns={'总价':'cost','租赁面积':'area'})\n",
    "szq_rent['cost'] = pd.to_numeric(szq_rent['cost'],errors='coerce')\n",
    "szq_rent['area'] = pd.to_numeric(szq_rent['area'],errors='coerce')\n",
    "szq_rent = szq_rent[['cost','area']]"
   ]
  },
  {
   "cell_type": "code",
   "execution_count": 62,
   "id": "708d6d17-7402-4aae-b991-0eba6fbfca3f",
   "metadata": {},
   "outputs": [
    {
     "name": "stdout",
     "output_type": "stream",
     "text": [
      "      price    area\n",
      "0     720.0   91.28\n",
      "1     398.0   56.70\n",
      "2     480.0   58.70\n",
      "3    1255.0  254.00\n",
      "4     398.0   56.70\n",
      "..      ...     ...\n",
      "303   680.0   60.94\n",
      "304   520.0   66.85\n",
      "305   720.0   82.17\n",
      "306  1179.0  196.70\n",
      "307   240.0     NaN\n",
      "\n",
      "[308 rows x 2 columns]\n",
      "        cost   area\n",
      "0    10200.0   66.0\n",
      "1    15000.0   74.0\n",
      "2    12500.0   85.0\n",
      "3     9500.0   58.0\n",
      "4     6500.0   57.0\n",
      "..       ...    ...\n",
      "341   8100.0   67.0\n",
      "342   9000.0   72.0\n",
      "343   7600.0   60.0\n",
      "344  16500.0  197.0\n",
      "345   6500.0   53.0\n",
      "\n",
      "[346 rows x 2 columns]\n"
     ]
    }
   ],
   "source": [
    "print(szq_buy)\n",
    "print(szq_rent)"
   ]
  },
  {
   "cell_type": "code",
   "execution_count": 63,
   "id": "a7156009-3e7a-4608-81a6-f753376436f8",
   "metadata": {},
   "outputs": [],
   "source": [
    "btpz_buy = btpz_buy.rename(columns={'总价':'price','面积':'area'})\n",
    "btpz_buy['price'] = btpz_buy['price'].str.replace('万','',regex=False)\n",
    "btpz_buy['area'] = btpz_buy['area'].str.replace('㎡','',regex=False)\n",
    "btpz_buy = btpz_buy[['price','area']]"
   ]
  },
  {
   "cell_type": "code",
   "execution_count": 64,
   "id": "2eb5855f-9416-42d5-b517-708b5b0ab162",
   "metadata": {},
   "outputs": [],
   "source": [
    "btpz_buy['price'] = pd.to_numeric(btpz_buy['price'],errors='coerce')\n",
    "btpz_buy['area'] = pd.to_numeric(btpz_buy['area'],errors='coerce')"
   ]
  },
  {
   "cell_type": "code",
   "execution_count": 65,
   "id": "ee522998-e6f6-4f1d-8edc-0f06143049e5",
   "metadata": {},
   "outputs": [],
   "source": [
    "btpz_rent = btpz_rent.rename(columns={'租价':'cost','面积':'area'})\n",
    "btpz_rent['cost'] = btpz_rent['cost'].str.replace('元/月','',regex=False)\n",
    "btpz_rent['area'] = btpz_rent['area'].str.replace('㎡','',regex=False)\n",
    "btpz_rent = btpz_rent[['cost','area']]"
   ]
  },
  {
   "cell_type": "code",
   "execution_count": 66,
   "id": "525d8dcb-500e-4de0-8734-637ec45cf937",
   "metadata": {},
   "outputs": [],
   "source": [
    "btpz_rent['cost'] = pd.to_numeric(btpz_rent['cost'],errors='coerce')\n",
    "btpz_rent['area'] = pd.to_numeric(btpz_rent['area'],errors='coerce')"
   ]
  },
  {
   "cell_type": "code",
   "execution_count": 67,
   "id": "2c9d4f5a-533b-4dd0-acde-88a8145710da",
   "metadata": {},
   "outputs": [
    {
     "name": "stdout",
     "output_type": "stream",
     "text": [
      "     price    area\n",
      "0      598   81.07\n",
      "1      760   93.49\n",
      "2      299   33.15\n",
      "3      585   60.30\n",
      "4      750   85.87\n",
      "..     ...     ...\n",
      "192    970   92.12\n",
      "193   3160  269.57\n",
      "194    279   72.54\n",
      "195    179   54.58\n",
      "196   2399  317.72\n",
      "\n",
      "[197 rows x 2 columns]\n",
      "      cost  area\n",
      "0     2550    20\n",
      "1     6300    60\n",
      "2     7400    53\n",
      "3     2650    20\n",
      "4     2700    15\n",
      "..     ...   ...\n",
      "247   7500    50\n",
      "248   6300    55\n",
      "249   7700    62\n",
      "250  25000   181\n",
      "251   9500    90\n",
      "\n",
      "[252 rows x 2 columns]\n"
     ]
    }
   ],
   "source": [
    "print(btpz_buy)\n",
    "print(btpz_rent)"
   ]
  },
  {
   "cell_type": "code",
   "execution_count": 68,
   "id": "6c7d75ba-a2e3-4482-a5a7-06c8b7812b6f",
   "metadata": {},
   "outputs": [],
   "source": [
    "wl_buy = wl_buy.rename(columns={'cost':'price'})\n",
    "wl_buy = wl_buy[['price','area']]\n",
    "wl_buy['price'] = pd.to_numeric(wl_buy['price'],errors='coerce')\n",
    "wl_buy['area'] = pd.to_numeric(wl_buy['area'],errors='coerce')"
   ]
  },
  {
   "cell_type": "code",
   "execution_count": 69,
   "id": "57721798-0d6f-4bb0-af87-b02b88834ab4",
   "metadata": {},
   "outputs": [
    {
     "name": "stdout",
     "output_type": "stream",
     "text": [
      "      price    area\n",
      "0      1499  151.00\n",
      "1      1550  142.54\n",
      "2      2400  114.59\n",
      "3      1499  151.00\n",
      "4      2100  150.21\n",
      "...     ...     ...\n",
      "1195   2380  176.40\n",
      "1196   1266  117.97\n",
      "1197   1150   90.00\n",
      "1198    568   51.84\n",
      "1199   2820  160.41\n",
      "\n",
      "[1200 rows x 2 columns]\n",
      "        cost  area\n",
      "0     138000   330\n",
      "1      80000   416\n",
      "2      58000   468\n",
      "3     120000   381\n",
      "4      58000   307\n",
      "...      ...   ...\n",
      "1195    6500    52\n",
      "1196    5500    47\n",
      "1197    5600    52\n",
      "1198   14000   112\n",
      "1199   85000   389\n",
      "\n",
      "[1200 rows x 2 columns]\n"
     ]
    }
   ],
   "source": [
    "print(wl_buy)\n",
    "wl_rent['cost'] = pd.to_numeric(wl_rent['cost'],errors='coerce')\n",
    "wl_rent['area'] = pd.to_numeric(wl_rent['area'],errors='coerce')\n",
    "print(wl_rent)"
   ]
  },
  {
   "cell_type": "code",
   "execution_count": 70,
   "id": "2f44d611-0b58-4bdb-bb98-ebe42026c941",
   "metadata": {},
   "outputs": [
    {
     "name": "stdout",
     "output_type": "stream",
     "text": [
      "        area   price\n",
      "0     107.00  1060.0\n",
      "1     172.34  1546.0\n",
      "2      86.30  1020.0\n",
      "3     209.00  2100.0\n",
      "4     289.07  5300.0\n",
      "...      ...     ...\n",
      "1197  119.25  1700.0\n",
      "1198  239.00  2520.0\n",
      "1199  125.65  1466.0\n",
      "1200  156.47  1260.0\n",
      "1201  124.37  1650.0\n",
      "\n",
      "[1202 rows x 2 columns]\n",
      "       area   cost\n",
      "0     204.0  22000\n",
      "1     207.0  20000\n",
      "2     122.0  12500\n",
      "3     213.0  29000\n",
      "4     156.0  13500\n",
      "...     ...    ...\n",
      "1195  161.0  17500\n",
      "1196  172.0  18500\n",
      "1197  178.0  18500\n",
      "1198  161.0  19000\n",
      "1199  216.0  30000\n",
      "\n",
      "[1200 rows x 2 columns]\n"
     ]
    }
   ],
   "source": [
    "sjc_buy = sjc_buy.rename(columns={'total_price_wan（万元）':'price','area_sqm（平方米）':'area'})\n",
    "sjc_buy['price'] = pd.to_numeric(sjc_buy['price'],errors='coerce')\n",
    "sjc_buy['area'] = pd.to_numeric(sjc_buy['area'],errors='coerce')\n",
    "sjc_buy.drop(columns = \"unit_price（元/平方米）\", inplace=True)\n",
    "sjc_buy[\"price\"] = sjc_buy[\"price\"]/10000\n",
    "print(sjc_buy)\n",
    "sjc_rent = sjc_rent.rename(columns={'月租金(元)':'cost','面积(㎡)':'area'})\n",
    "sjc_rent['cost'] = pd.to_numeric(sjc_rent['cost'],errors='coerce')\n",
    "sjc_rent['area'] = pd.to_numeric(sjc_rent['area'],errors='coerce')\n",
    "print(sjc_rent)"
   ]
  },
  {
   "cell_type": "code",
   "execution_count": 71,
   "id": "ce67e6cc-a355-4efc-9460-1f62798e067d",
   "metadata": {},
   "outputs": [],
   "source": [
    "#删除重复\n",
    "wl_buy.drop_duplicates(inplace=True)\n",
    "wl_rent.drop_duplicates(inplace=True)\n",
    "szq_buy.drop_duplicates(inplace=True)\n",
    "szq_rent.drop_duplicates(inplace=True)\n",
    "btpz_buy.drop_duplicates(inplace=True)\n",
    "btpz_rent.drop_duplicates(inplace=True)\n",
    "sjc_buy.drop_duplicates(inplace=True)\n",
    "sjc_rent.drop_duplicates(inplace=True)"
   ]
  },
  {
   "cell_type": "code",
   "execution_count": 72,
   "id": "a77e76d9-7f36-44b5-b93c-b7d75ef1a81b",
   "metadata": {},
   "outputs": [],
   "source": [
    "wl_buy.dropna(inplace=True)\n",
    "wl_rent.dropna(inplace=True)\n",
    "szq_buy.dropna(inplace=True)\n",
    "szq_rent.dropna(inplace=True)\n",
    "btpz_buy.dropna(inplace=True)\n",
    "btpz_rent.dropna(inplace=True)\n",
    "sjc_buy.dropna(inplace=True)\n",
    "sjc_rent.dropna(inplace=True)"
   ]
  },
  {
   "cell_type": "code",
   "execution_count": 73,
   "id": "35cf64cc-0b81-4a37-b6af-dddf363dabe9",
   "metadata": {},
   "outputs": [],
   "source": [
    "wl_buy = wl_buy[(wl_buy[\"price\"] > 10) & (wl_buy[\"price\"] < 100000)]\n",
    "wl_rent = wl_rent[(wl_rent[\"cost\"] > 1000) & (wl_rent[\"cost\"] < 1000000)]\n",
    "szq_buy = szq_buy[(szq_buy[\"price\"] > 10) & (szq_buy[\"price\"] < 100000)]\n",
    "szq_rent = szq_rent[(szq_rent[\"cost\"] > 1000) & (szq_rent[\"cost\"] < 1000000)]\n",
    "btpz_buy = btpz_buy[(btpz_buy[\"price\"] > 10) & (btpz_buy[\"price\"] < 100000)]\n",
    "btpz_rent = btpz_rent[(btpz_rent[\"cost\"] > 1000) & (btpz_rent[\"cost\"] < 1000000)]\n",
    "sjc_buy = sjc_buy[(sjc_buy[\"price\"] > 10) & (sjc_buy[\"price\"] < 100000)]\n",
    "sjc_rent = sjc_rent[(sjc_rent[\"cost\"] > 1000) & (sjc_rent[\"cost\"] < 1000000)]"
   ]
  },
  {
   "cell_type": "code",
   "execution_count": 74,
   "id": "9828cd0a-ead2-43de-ab93-f8ed451cec00",
   "metadata": {},
   "outputs": [],
   "source": [
    "#比率值\n",
    "wl_buy['price-area'] = wl_buy['price']/wl_buy['area']\n",
    "wl_rent['cost-area'] = wl_rent['cost']/wl_rent['area']\n",
    "szq_buy['price-area'] = szq_buy['price']/szq_buy['area']\n",
    "szq_rent['cost-area'] = szq_rent['cost']/szq_rent['area']\n",
    "btpz_buy['price-area'] = btpz_buy['price']/btpz_buy['area']\n",
    "btpz_rent['cost-area'] = btpz_rent['cost']/btpz_rent['area']\n",
    "sjc_buy['price-area'] = sjc_buy['price']/sjc_buy['area']\n",
    "sjc_rent['cost-area'] = sjc_rent['cost']/sjc_rent['area']"
   ]
  },
  {
   "cell_type": "code",
   "execution_count": 85,
   "id": "2873bd7d-4f60-47a0-b9d5-516f4ae3a778",
   "metadata": {},
   "outputs": [
    {
     "name": "stdout",
     "output_type": "stream",
     "text": [
      "      price    area  price-area  location\n",
      "0     720.0   91.28    7.887818         1\n",
      "1     398.0   56.70    7.019400         1\n",
      "2     480.0   58.70    8.177172         1\n",
      "3    1255.0  254.00    4.940945         1\n",
      "5     580.0   66.91    8.668360         1\n",
      "..      ...     ...         ...       ...\n",
      "293   490.0   66.75    7.340824         1\n",
      "295   828.0   92.20    8.980477         1\n",
      "296   430.0   65.00    6.615385         1\n",
      "297   700.0   67.37   10.390381         1\n",
      "303   680.0   60.94   11.158517         1\n",
      "\n",
      "[160 rows x 4 columns]\n",
      "        cost   area   cost-area  location\n",
      "0    10200.0   66.0  154.545455         1\n",
      "1    15000.0   74.0  202.702703         1\n",
      "2    12500.0   85.0  147.058824         1\n",
      "3     9500.0   58.0  163.793103         1\n",
      "4     6500.0   57.0  114.035088         1\n",
      "..       ...    ...         ...       ...\n",
      "334   8290.0   69.0  120.144928         1\n",
      "337   8000.0   65.0  123.076923         1\n",
      "339   8000.0   49.0  163.265306         1\n",
      "341   8100.0   67.0  120.895522         1\n",
      "344  16500.0  197.0   83.756345         1\n",
      "\n",
      "[212 rows x 4 columns]\n",
      "     price    area  price-area  location\n",
      "0      598   81.07    7.376341         4\n",
      "1      760   93.49    8.129212         4\n",
      "2      299   33.15    9.019608         4\n",
      "3      585   60.30    9.701493         4\n",
      "4      750   85.87    8.734133         4\n",
      "..     ...     ...         ...       ...\n",
      "168    730   82.71    8.826019         4\n",
      "171   1620  126.44   12.812401         4\n",
      "175    399   47.00    8.489362         4\n",
      "181    260   26.50    9.811321         4\n",
      "184   1850  207.08    8.933745         4\n",
      "\n",
      "[114 rows x 4 columns]\n",
      "      cost  area   cost-area  location\n",
      "0     2550    20  127.500000         4\n",
      "1     6300    60  105.000000         4\n",
      "2     7400    53  139.622642         4\n",
      "3     2650    20  132.500000         4\n",
      "4     2700    15  180.000000         4\n",
      "..     ...   ...         ...       ...\n",
      "236   9500    74  128.378378         4\n",
      "237   5300    26  203.846154         4\n",
      "238   8659    57  151.912281         4\n",
      "250  25000   181  138.121547         4\n",
      "251   9500    90  105.555556         4\n",
      "\n",
      "[160 rows x 4 columns]\n",
      "      price    area  price-area  location\n",
      "0      1499  151.00    9.927152         3\n",
      "1      1550  142.54   10.874141         3\n",
      "2      2400  114.59   20.944236         3\n",
      "4      2100  150.21   13.980427         3\n",
      "5      4300  305.08   14.094664         3\n",
      "...     ...     ...         ...       ...\n",
      "1098    650   50.33   12.914763         3\n",
      "1130   1550  139.69   11.095998         3\n",
      "1141   1780  181.52    9.806082         3\n",
      "1146   3300  197.63   16.697870         3\n",
      "1166    950  109.51    8.675007         3\n",
      "\n",
      "[275 rows x 4 columns]\n",
      "       cost  area   cost-area  location\n",
      "0    138000   330  418.181818         3\n",
      "1     80000   416  192.307692         3\n",
      "2     58000   468  123.931624         3\n",
      "3    120000   381  314.960630         3\n",
      "4     58000   307  188.925081         3\n",
      "..      ...   ...         ...       ...\n",
      "675   20000   137  145.985401         3\n",
      "690   12000    67  179.104478         3\n",
      "698   10500    67  156.716418         3\n",
      "983   15000   107  140.186916         3\n",
      "988   14000   105  133.333333         3\n",
      "\n",
      "[127 rows x 4 columns]\n",
      "        area   price  price-area  location\n",
      "0     107.00  1060.0    9.906542         2\n",
      "1     172.34  1546.0    8.970639         2\n",
      "2      86.30  1020.0   11.819235         2\n",
      "3     209.00  2100.0   10.047847         2\n",
      "4     289.07  5300.0   18.334659         2\n",
      "...      ...     ...         ...       ...\n",
      "1087  173.00  2280.0   13.179191         2\n",
      "1088  175.59  2430.0   13.839057         2\n",
      "1104   83.00   710.0    8.554217         2\n",
      "1168  166.19  1690.0   10.169084         2\n",
      "1201  124.37  1650.0   13.266865         2\n",
      "\n",
      "[283 rows x 4 columns]\n",
      "       area   cost   cost-area  location\n",
      "0     204.0  22000  107.843137         2\n",
      "1     207.0  20000   96.618357         2\n",
      "2     122.0  12500  102.459016         2\n",
      "3     213.0  29000  136.150235         2\n",
      "4     156.0  13500   86.538462         2\n",
      "...     ...    ...         ...       ...\n",
      "734   105.0  12800  121.904762         2\n",
      "839   139.0  14800  106.474820         2\n",
      "1066  135.0  15000  111.111111         2\n",
      "1069   83.0  12000  144.578313         2\n",
      "1140  162.0  18500  114.197531         2\n",
      "\n",
      "[123 rows x 4 columns]\n"
     ]
    }
   ],
   "source": [
    "print(szq_buy)\n",
    "print(szq_rent)\n",
    "print(btpz_buy)\n",
    "print(btpz_rent)\n",
    "print(wl_buy)\n",
    "print(wl_rent)\n",
    "print(sjc_buy)\n",
    "print(sjc_rent)"
   ]
  },
  {
   "cell_type": "code",
   "execution_count": 84,
   "id": "b5271e81-9d44-4cd2-80df-24d54fdbbbaa",
   "metadata": {},
   "outputs": [],
   "source": [
    "szq_buy[\"location\"] = 1\n",
    "szq_rent[\"location\"] = 1\n",
    "sjc_buy[\"location\"] = 2\n",
    "sjc_rent[\"location\"] = 2\n",
    "wl_buy[\"location\"] = 3\n",
    "wl_rent[\"location\"] = 3\n",
    "btpz_buy[\"location\"] = 4\n",
    "btpz_rent[\"location\"] = 4"
   ]
  },
  {
   "cell_type": "code",
   "execution_count": 79,
   "id": "aedd9066-9dc0-49c9-a34e-f124a05f4c9a",
   "metadata": {},
   "outputs": [
    {
     "data": {
      "text/plain": [
       "count    160.000000\n",
       "mean     140.198131\n",
       "std       32.660131\n",
       "min       88.495575\n",
       "25%      117.454770\n",
       "50%      132.438998\n",
       "75%      154.293860\n",
       "max      291.666667\n",
       "Name: cost-area, dtype: float64"
      ]
     },
     "execution_count": 79,
     "metadata": {},
     "output_type": "execute_result"
    }
   ],
   "source": [
    "wl_rent['cost-area'].describe()\n",
    "szq_rent['cost-area'].describe()\n",
    "btpz_rent['cost-area'].describe()"
   ]
  },
  {
   "cell_type": "code",
   "execution_count": 104,
   "id": "f03ac848-68a1-4df4-8ff0-31fc2bc242bb",
   "metadata": {},
   "outputs": [
    {
     "data": {
      "image/png": "[encoded data removed]",
      "text/plain": [
       "<Figure size 1000x500 with 1 Axes>"
      ]
     },
     "metadata": {},
     "output_type": "display_data"
    }
   ],
   "source": [
    "# price to rent ratio\n",
    "wrm = wl_rent['cost-area'].median()\n",
    "srm = szq_rent['cost-area'].median()\n",
    "brm = btpz_rent['cost-area'].median()\n",
    "sjrm = sjc_rent['cost-area'].median()\n",
    "wbm = wl_buy['price-area'].median()\n",
    "sbm = szq_buy['price-area'].median()\n",
    "bbm = btpz_buy['price-area'].median()\n",
    "sjbm = sjc_buy['price-area'].median()\n",
    "values = [(wbm*10000)/wrm, (sbm*10000)/srm, (bbm*10000)/brm, (sjbm*10000)/sjrm]\n",
    "labels = ['万柳', '苏州桥', '北太平庄', '世纪城']\n",
    "\n",
    "plt.rcParams[\"font.family\"] = [\"SimHei\"]\n",
    "plt.figure(figsize=(10,5))\n",
    "bars = plt.bar(labels, values, color=['skyblue', 'salmon', 'lightgreen', 'purple'], edgecolor='black')\n",
    "for bar in bars:\n",
    "    height = bar.get_height()\n",
    "    plt.text(bar.get_x() + bar.get_width()/2, height+1, f'{height:.4f}', ha='center',fontsize=12)\n",
    "plt.title(\"Figure A\")\n",
    "plt.xlabel('block', fontsize=12)\n",
    "plt.ylabel('block_median',fontsize=12)\n",
    "plt.show()"
   ]
  },
  {
   "cell_type": "code",
   "execution_count": 83,
   "id": "c81fa0e9-05eb-41be-bd2f-bbcb697dac6a",
   "metadata": {},
   "outputs": [
    {
     "data": {
      "image/png": "[encoded data removed]",
      "text/plain": [
       "<Figure size 1000x500 with 2 Axes>"
      ]
     },
     "metadata": {},
     "output_type": "display_data"
    }
   ],
   "source": [
    "fig,(ax1,ax2) = plt.subplots(1,2,figsize=(10,5))\n",
    "ax1.scatter(sjc_buy[\"area\"],sjc_buy[\"price\"])\n",
    "ax1.set_title(\"sjc_buy\")\n",
    "ax1.set_xlabel(\"area\")\n",
    "ax1.set_ylabel(\"price\")\n",
    "ax2.scatter(sjc_rent[\"area\"],sjc_rent[\"cost\"])\n",
    "ax2.set_title(\"sjc_rent\")\n",
    "ax2.set_xlabel(\"area\")\n",
    "ax2.set_ylabel(\"cost\")\n",
    "plt.tight_layout()\n",
    "plt.show()"
   ]
  },
  {
   "cell_type": "code",
   "execution_count": 86,
   "id": "a2cbde94-d477-4608-aa10-e6a941ce7d86",
   "metadata": {},
   "outputs": [],
   "source": [
    "merge_buy = pd.concat(\n",
    "    [szq_buy, sjc_buy, wl_buy, btpz_buy],\n",
    "    axis=0,\n",
    "    ignore_index=True\n",
    ")\n",
    "merge_rent = pd.concat(\n",
    "    [szq_rent, sjc_rent, wl_rent, btpz_rent],\n",
    "    axis=0,\n",
    "    ignore_index=True\n",
    ")"
   ]
  },
  {
   "cell_type": "code",
   "execution_count": 88,
   "id": "82f23f96-206a-4ffa-9d2e-13e59cbbc976",
   "metadata": {},
   "outputs": [
    {
     "name": "stdout",
     "output_type": "stream",
     "text": [
      "      price    area  price-area  location\n",
      "0     720.0   91.28    7.887818         1\n",
      "1     398.0   56.70    7.019400         1\n",
      "2     480.0   58.70    8.177172         1\n",
      "3    1255.0  254.00    4.940945         1\n",
      "4     580.0   66.91    8.668360         1\n",
      "..      ...     ...         ...       ...\n",
      "827   730.0   82.71    8.826019         4\n",
      "828  1620.0  126.44   12.812401         4\n",
      "829   399.0   47.00    8.489362         4\n",
      "830   260.0   26.50    9.811321         4\n",
      "831  1850.0  207.08    8.933745         4\n",
      "\n",
      "[832 rows x 4 columns]\n",
      "        cost   area   cost-area  location\n",
      "0    10200.0   66.0  154.545455         1\n",
      "1    15000.0   74.0  202.702703         1\n",
      "2    12500.0   85.0  147.058824         1\n",
      "3     9500.0   58.0  163.793103         1\n",
      "4     6500.0   57.0  114.035088         1\n",
      "..       ...    ...         ...       ...\n",
      "617   9500.0   74.0  128.378378         4\n",
      "618   5300.0   26.0  203.846154         4\n",
      "619   8659.0   57.0  151.912281         4\n",
      "620  25000.0  181.0  138.121547         4\n",
      "621   9500.0   90.0  105.555556         4\n",
      "\n",
      "[622 rows x 4 columns]\n"
     ]
    }
   ],
   "source": [
    "print(merge_buy)\n",
    "print(merge_rent)"
   ]
  },
  {
   "cell_type": "code",
   "execution_count": 90,
   "id": "200f9839-7742-45dc-ab40-e779a20db5d2",
   "metadata": {},
   "outputs": [],
   "source": [
    "merge_buy.to_csv(\"merge_buy.csv\", index=False)\n",
    "merge_rent.to_csv(\"merge_rent.csv\", index=False)\n",
    "wl_buy.to_csv(\"wl_datab.csv\", index=False)\n",
    "wl_rent.to_csv(\"wl_datar.csv\", index=False)\n",
    "szq_buy.to_csv(\"szq_datab.csv\", index=False)\n",
    "szq_rent.to_csv(\"szq_datar.csv\", index=False)\n",
    "sjc_buy.to_csv(\"sjc_datab.csv\", index=False)\n",
    "sjc_rent.to_csv(\"sjc_datar.csv\", index=False)\n",
    "btpz_buy.to_csv(\"btpz_datab.csv\", index=False)\n",
    "btpz_rent.to_csv(\"btpz_datar.csv\", index=False)"
   ]
  },
  {
   "cell_type": "code",
   "execution_count": 99,
   "id": "8f0649d3-8e43-4c31-a1e9-a5473a74d45c",
   "metadata": {},
   "outputs": [],
   "source": [
    "from sklearn.linear_model import LinearRegression\n",
    "from sklearn.metrics import r2_score\n",
    "\n",
    "def regression1(df):\n",
    "    \n",
    "    X = df[['area','location']]\n",
    "    y = df[['price-area']]\n",
    "    model = LinearRegression()\n",
    "    model.fit(X,y)\n",
    "    r2 = model.score(X, y)\n",
    "\n",
    "    return model.coef_.flatten(), model.intercept_ , r2\n",
    "\n",
    "def regression2(df):\n",
    "    \n",
    "    X = df[['area','location']]\n",
    "    y = df[['cost-area']]\n",
    "    model = LinearRegression()\n",
    "    model.fit(X,y)\n",
    "    r2 = model.score(X, y)\n",
    "\n",
    "    return model.coef_.flatten(), model.intercept_  , r2"
   ]
  },
  {
   "cell_type": "code",
   "execution_count": 100,
   "id": "ea44f274-4900-4cf9-b09e-95a3c9ab346a",
   "metadata": {},
   "outputs": [
    {
     "name": "stdout",
     "output_type": "stream",
     "text": [
      "(array([0.02641104, 0.83273891]), array([5.67139571]), 0.35982572363936227)\n",
      "(array([0.07510961, 5.72453664]), array([121.34948778]), 0.05154688236634375)\n"
     ]
    }
   ],
   "source": [
    "print(regression1(merge_buy))\n",
    "print(regression2(merge_rent))"
   ]
  },
  {
   "cell_type": "code",
   "execution_count": 103,
   "id": "91c050aa-464c-43bb-8e54-7c95a8a4c983",
   "metadata": {},
   "outputs": [
    {
     "name": "stdout",
     "output_type": "stream",
     "text": [
      "627.2354862796029\n",
      "805.1676389543576\n",
      "802.8417943169347\n",
      "780.7356672766114\n"
     ]
    }
   ],
   "source": [
    "def re_reg_1(df):\n",
    "    \n",
    "    predict_series = 0.02641104 * df['area'] + 0.83273891 * df['location'] + 5.67139571\n",
    "    \n",
    "    return predict_series.median()\n",
    "\n",
    "def re_reg_2(df):\n",
    "    \n",
    "    predict_series = 0.07510961 * df['area'] +5.72453664 * df['location'] + 121.34948778\n",
    "    \n",
    "    return predict_series.median()\n",
    "\n",
    "szq_pre1 = (re_reg_1(szq_buy)*10000)/re_reg_2(szq_rent)\n",
    "sjc_pre1 = (re_reg_1(sjc_buy)*10000)/re_reg_2(sjc_rent)\n",
    "wl_pre1 = (re_reg_1(wl_buy)*10000)/re_reg_2(wl_rent)\n",
    "btpz_pre1 = (re_reg_1(btpz_buy)*10000)/re_reg_2(btpz_rent)\n",
    "print(szq_pre1)\n",
    "print(sjc_pre1)\n",
    "print(wl_pre1)\n",
    "print(btpz_pre1)"
   ]
  },
  {
   "cell_type": "code",
   "execution_count": 106,
   "id": "2adda52c-9284-4961-9ed8-b9b24e90808d",
   "metadata": {},
   "outputs": [
    {
     "data": {
      "image/png": "[encoded data removed]",
      "text/plain": [
       "<Figure size 1000x500 with 1 Axes>"
      ]
     },
     "metadata": {},
     "output_type": "display_data"
    }
   ],
   "source": [
    "values = [szq_pre1, sjc_pre1, wl_pre1, btpz_pre1]\n",
    "labels = ['苏州桥', '世纪城', '万柳', '北太平庄']\n",
    "\n",
    "plt.rcParams[\"font.family\"] = [\"SimHei\"]\n",
    "plt.figure(figsize=(10,5))\n",
    "bars = plt.bar(labels, values, color=['skyblue', 'salmon', 'lightgreen', 'purple'], edgecolor='black')\n",
    "for bar in bars:\n",
    "    height = bar.get_height()\n",
    "    plt.text(bar.get_x() + bar.get_width()/2, height+1, f'{height:.4f}', ha='center',fontsize=12)\n",
    "plt.title(\"Figure B\")\n",
    "plt.xlabel('block', fontsize=12)\n",
    "plt.ylabel('block_median',fontsize=12)\n",
    "plt.show()"
   ]
  },
  {
   "cell_type": "code",
   "execution_count": 109,
   "id": "26ecfdd1-34cc-42ab-8ede-86f6c32fd612",
   "metadata": {},
   "outputs": [],
   "source": [
    "def regression1_plus(df):\n",
    "    \n",
    "    df_new = df.copy()\n",
    "    df_new['area_sq'] = df_new['area']**2\n",
    "    df_new['area_loc'] = df_new['area']*df_new['location']\n",
    "    \n",
    "    X = df_new[['area','location', 'area_sq', 'area_loc']]\n",
    "    y = df_new[['price-area']]\n",
    "    \n",
    "    model = LinearRegression()\n",
    "    model.fit(X,y)\n",
    "    r2 = model.score(X, y)\n",
    "\n",
    "    return model.coef_.flatten(), model.intercept_ , r2\n",
    "\n",
    "def regression2_plus(df):\n",
    "    \n",
    "    df_new = df.copy()\n",
    "    df_new['area_sq'] = df_new['area']**2\n",
    "    df_new['area_loc'] = df_new['area']*df_new['location']\n",
    "    \n",
    "    X = df_new[['area','location', 'area_sq', 'area_loc']]\n",
    "    y = df_new[['cost-area']]\n",
    "    \n",
    "    model = LinearRegression()\n",
    "    model.fit(X,y)\n",
    "    r2 = model.score(X, y)\n",
    "\n",
    "    return model.coef_.flatten(), model.intercept_ , r2"
   ]
  },
  {
   "cell_type": "code",
   "execution_count": 110,
   "id": "aa67e481-3b71-4946-9d12-75548e2caa1f",
   "metadata": {},
   "outputs": [
    {
     "name": "stdout",
     "output_type": "stream",
     "text": [
      "(array([ 1.74971851e-02,  6.70273963e-02, -1.93661772e-05,  6.49709174e-03]), array([6.97129049]), 0.3709980011291011)\n",
      "(array([-4.66224509e-01, -1.29042358e+01, -1.83244863e-04,  2.44775969e-01]), array([161.98806178]), 0.156146004966066)\n"
     ]
    }
   ],
   "source": [
    "print(regression1_plus(merge_buy))\n",
    "print(regression2_plus(merge_rent))"
   ]
  },
  {
   "cell_type": "code",
   "execution_count": 118,
   "id": "c32d8c72-5bd0-4ea6-b16d-4fa73e9f06c5",
   "metadata": {},
   "outputs": [
    {
     "name": "stdout",
     "output_type": "stream",
     "text": [
      "636.4231696328109\n",
      "856.8324965995239\n",
      "751.3732930035947\n",
      "814.5695946782428\n"
     ]
    }
   ],
   "source": [
    "def re_reg_1plus(df):\n",
    "    predict_series = 1.74971851e-02 * df['area'] + \\\n",
    "                     6.70273963e-02 * df['location'] + \\\n",
    "                     -1.93661772e-05 * (df['area'])**2 + \\\n",
    "                     6.49709174e-03 * ((df['area'])*df['location']) + \\\n",
    "                     6.97129049\n",
    "    return predict_series.median()\n",
    "\n",
    "def re_reg_2plus(df):\n",
    "    predict_series = -4.66224509e-01 * df['area'] + \\\n",
    "                     -1.29042358e+01 * df['location'] + \\\n",
    "                     -1.83244863e-04 * (df['area'])**2 + \\\n",
    "                     2.44775969e-01 * ((df['area'])*df['location']) + \\\n",
    "                     161.98806178\n",
    "    return predict_series.median()\n",
    "\n",
    "szq_pre2 = (re_reg_1plus(szq_buy)*10000)/re_reg_2plus(szq_rent)\n",
    "sjc_pre2 = (re_reg_1plus(sjc_buy)*10000)/re_reg_2plus(sjc_rent)\n",
    "wl_pre2 = (re_reg_1plus(wl_buy)*10000)/re_reg_2plus(wl_rent)\n",
    "btpz_pre2 = (re_reg_1plus(btpz_buy)*10000)/re_reg_2plus(btpz_rent)\n",
    "print(szq_pre2)\n",
    "print(sjc_pre2)\n",
    "print(wl_pre2)\n",
    "print(btpz_pre2)"
   ]
  },
  {
   "cell_type": "code",
   "execution_count": 119,
   "id": "3f9893cb-4059-4647-ad00-c2e4988e78c3",
   "metadata": {},
   "outputs": [
    {
     "data": {
      "image/png": "[encoded data removed]",
      "text/plain": [
       "<Figure size 1000x500 with 1 Axes>"
      ]
     },
     "metadata": {},
     "output_type": "display_data"
    }
   ],
   "source": [
    "values = [szq_pre2, sjc_pre2, wl_pre2, btpz_pre2]\n",
    "labels = ['苏州桥', '世纪城', '万柳', '北太平庄']\n",
    "\n",
    "plt.rcParams[\"font.family\"] = [\"SimHei\"]\n",
    "plt.figure(figsize=(10,5))\n",
    "bars = plt.bar(labels, values, color=['skyblue', 'salmon', 'lightgreen', 'purple'], edgecolor='black')\n",
    "for bar in bars:\n",
    "    height = bar.get_height()\n",
    "    plt.text(bar.get_x() + bar.get_width()/2, height+1, f'{height:.4f}', ha='center',fontsize=12)\n",
    "plt.title(\"Figure C\")\n",
    "plt.xlabel('block', fontsize=12)\n",
    "plt.ylabel('block_median',fontsize=12)\n",
    "plt.show()"
   ]
  },
  {
   "cell_type": "markdown",
   "id": "6343d844-811e-42e9-a7ac-959602382867",
   "metadata": {},
   "source": [
    "The outcome of three methods are different.\n",
    "I would more trust the result by model1 and model2 plus, because the r2 is higher, other improved model should be tested, which can provide more imformation."
   ]
  }
 ],
 "metadata": {
  "kernelspec": {
   "display_name": "Python [conda env:ecoquant]",
   "language": "python",
   "name": "conda-env-ecoquant-py"
  },
  "language_info": {
   "codemirror_mode": {
    "name": "ipython",
    "version": 3
   },
   "file_extension": ".py",
   "mimetype": "text/x-python",
   "name": "python",
   "nbconvert_exporter": "python",
   "pygments_lexer": "ipython3",
   "version": "3.12.11"
  }
 },
 "nbformat": 4,
 "nbformat_minor": 5
}
