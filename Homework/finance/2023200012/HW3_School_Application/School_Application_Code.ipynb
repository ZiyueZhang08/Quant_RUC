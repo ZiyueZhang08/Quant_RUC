{
 "cells": [
  {
   "cell_type": "markdown",
   "id": "47f5eb51-8b38-4e76-abc4-89acac9e29b5",
   "metadata": {},
   "source": [
    "# 生成申请信"
   ]
  },
  {
   "cell_type": "markdown",
   "id": "61d8b516-d549-4342-b1df-b5cce83c8c2d",
   "metadata": {},
   "source": [
    "### 下载大学排名"
   ]
  },
  {
   "cell_type": "code",
   "execution_count": 4,
   "id": "810f97f0-b0bd-468a-89f2-148a2cd6dbad",
   "metadata": {
    "scrolled": true
   },
   "outputs": [
    {
     "name": "stdout",
     "output_type": "stream",
     "text": [
      "Requirement already satisfied: requests in c:\\users\\activ\\anaconda3\\lib\\site-packages (2.32.3)\n",
      "Requirement already satisfied: beautifulsoup4 in c:\\users\\activ\\anaconda3\\lib\\site-packages (4.12.3)\n",
      "Requirement already satisfied: pandas in c:\\users\\activ\\anaconda3\\lib\\site-packages (2.2.2)\n",
      "Requirement already satisfied: openpyxl in c:\\users\\activ\\anaconda3\\lib\\site-packages (3.1.5)\n",
      "Requirement already satisfied: charset-normalizer<4,>=2 in c:\\users\\activ\\anaconda3\\lib\\site-packages (from requests) (3.3.2)\n",
      "Requirement already satisfied: idna<4,>=2.5 in c:\\users\\activ\\anaconda3\\lib\\site-packages (from requests) (3.7)\n",
      "Requirement already satisfied: urllib3<3,>=1.21.1 in c:\\users\\activ\\anaconda3\\lib\\site-packages (from requests) (2.2.3)\n",
      "Requirement already satisfied: certifi>=2017.4.17 in c:\\users\\activ\\anaconda3\\lib\\site-packages (from requests) (2025.8.3)\n",
      "Requirement already satisfied: soupsieve>1.2 in c:\\users\\activ\\anaconda3\\lib\\site-packages (from beautifulsoup4) (2.5)\n",
      "Requirement already satisfied: numpy>=1.26.0 in c:\\users\\activ\\anaconda3\\lib\\site-packages (from pandas) (1.26.4)\n",
      "Requirement already satisfied: python-dateutil>=2.8.2 in c:\\users\\activ\\anaconda3\\lib\\site-packages (from pandas) (2.9.0.post0)\n",
      "Requirement already satisfied: pytz>=2020.1 in c:\\users\\activ\\anaconda3\\lib\\site-packages (from pandas) (2024.1)\n",
      "Requirement already satisfied: tzdata>=2022.7 in c:\\users\\activ\\anaconda3\\lib\\site-packages (from pandas) (2023.3)\n",
      "Requirement already satisfied: et-xmlfile in c:\\users\\activ\\anaconda3\\lib\\site-packages (from openpyxl) (1.1.0)\n",
      "Requirement already satisfied: six>=1.5 in c:\\users\\activ\\anaconda3\\lib\\site-packages (from python-dateutil>=2.8.2->pandas) (1.16.0)\n",
      "Note: you may need to restart the kernel to use updated packages.\n"
     ]
    }
   ],
   "source": [
    "pip install requests beautifulsoup4 pandas openpyxl"
   ]
  },
  {
   "cell_type": "code",
   "execution_count": 1,
   "id": "33c88d7e-2d0d-4d16-a7f9-01b5b3fd72ae",
   "metadata": {},
   "outputs": [],
   "source": [
    "import requests\n",
    "from bs4 import BeautifulSoup\n",
    "import pandas as pd\n",
    "import time"
   ]
  },
  {
   "cell_type": "code",
   "execution_count": 2,
   "id": "853d5f15-172b-43da-8425-a52cf387ca71",
   "metadata": {},
   "outputs": [],
   "source": [
    "def scrape_repec_rankings(target_url):\n",
    "    headers = {    #模拟真实浏览器行为，并优化连接性能\n",
    "        \"User-Agent\": \"Mozilla/5.0 (Windows NT 10.0; Win64; x64) AppleWebKit/537.36 (KHTML, like Gecko) Chrome/128.0.0.0 Safari/537.36\",\n",
    "        \"Accept\": \"text/html,application/xhtml+xml,application/xml;q=0.9,*/*;q=0.8\",\n",
    "        \"Accept-Language\": \"zh-CN,zh;q=0.9\",\n",
    "        \"Connection\": \"keep-alive\"  \n",
    "    }\n",
    "\n",
    "    response = requests.get(target_url, headers=headers, timeout=5)  \n",
    "    response.raise_for_status()  \n",
    "\n",
    "    #用BeautifulSoup提取结构化数据\n",
    "    soup = BeautifulSoup(response.text, \"html.parser\") \n",
    "    rankings_data = [] \n",
    "\n",
    "    #定位并获取\"The rankings\"下面的表格\n",
    "    rankings_heading = soup.find(\"h2\", string=\"The rankings\")\n",
    "    ranking_table = rankings_heading.find_next(\"table\")\n",
    "    table_rows = ranking_table.find_all(\"tr\")  # 获取表格所有行\n",
    "        \n",
    "    # 遍历所有数据行，并跳过表头\n",
    "    for row in table_rows[1:]:\n",
    "        try:\n",
    "            cells = row.find_all(\"td\")\n",
    "            \"\"\"\n",
    "            if len(cells) < 2: \n",
    "                print(f\"跳过无效行（单元格数量不足）：{row}\")\n",
    "                continue\n",
    "            \"\"\"    \n",
    "            rank = cells[0].get_text(strip=True) #排名列\n",
    "            \n",
    "            univ_name_tag = cells[1].find(\"a\")  #大学名称列，查找是否有链接标签\n",
    "            if univ_name_tag:\n",
    "                university_name = univ_name_tag.get_text(strip=True)\n",
    "            else:\n",
    "                university_name = cells[1].get_text(strip=True)\n",
    "\n",
    "            if not rank or not university_name:\n",
    "                print(f\"空数据行：{row}\")\n",
    "                continue\n",
    "\n",
    "            # 将数据添加到结果列表最后\n",
    "            rankings_data.append({\n",
    "                \"Ranking\": rank,\n",
    "                \"Institutions\": university_name\n",
    "            })\n",
    "\n",
    "        except Exception as row_error: #单行抓取出现错误时\n",
    "            print(f\"解析单条排名出错：{str(row_error)}，跳过\")\n",
    "            continue\n",
    "\n",
    "    # 返回抓取结果\n",
    "    return rankings_data"
   ]
  },
  {
   "cell_type": "code",
   "execution_count": 3,
   "id": "b46ef9dd-6413-4321-bd4b-59806fd91a82",
   "metadata": {},
   "outputs": [],
   "source": [
    "def save_to_excel(data, excel_filename=\"repec_university_rankings.xlsx\"):  #将结构化数据保存为Excel文件\n",
    "    # 用pandas将数据转换为DataFrame\n",
    "    df = pd.DataFrame(data)\n",
    "    df.to_excel(excel_filename, index=False, engine=\"openpyxl\") #index=False 不保留行索引\n",
    "    print(f\"数据已保存到：{excel_filename}\")"
   ]
  },
  {
   "cell_type": "code",
   "execution_count": 5,
   "id": "c56f2aa1-277f-4707-9858-18363a1c9f57",
   "metadata": {},
   "outputs": [
    {
     "name": "stdout",
     "output_type": "stream",
     "text": [
      "数据已保存到：repec_university_rankings.xlsx\n"
     ]
    }
   ],
   "source": [
    "if __name__ == \"__main__\":\n",
    "    target_ranking_url = \"https://ideas.repec.org/top/top.econdept.html\"\n",
    "    \n",
    "    ranked_universities = scrape_repec_rankings(target_ranking_url)\n",
    "\n",
    "    if ranked_universities:\n",
    "        save_to_excel(ranked_universities)"
   ]
  },
  {
   "cell_type": "markdown",
   "id": "a39b3c02-ce74-43d0-84d3-a21eafd2e8c2",
   "metadata": {},
   "source": [
    "### 筛选大学，得到list1 excel表格"
   ]
  },
  {
   "cell_type": "code",
   "execution_count": 6,
   "id": "8a8c6a55-4d4c-427e-b0b8-66483d4011ce",
   "metadata": {},
   "outputs": [],
   "source": [
    "import pandas as pd\n",
    "import random\n",
    "import itertools\n",
    "import numpy as np"
   ]
  },
  {
   "cell_type": "code",
   "execution_count": 7,
   "id": "efa909d4-e4db-4306-a80f-3f5578302ba6",
   "metadata": {},
   "outputs": [
    {
     "name": "stdout",
     "output_type": "stream",
     "text": [
      "    Ranking                                       Institutions\n",
      "0         1        Department of Economics, Harvard University\n",
      "1         2  Economics Department, Massachusetts Institute ...\n",
      "2         3  Department of Economics, University of Califor...\n",
      "3         4     Department of Economics, University of Chicago\n",
      "4         5                          Paris School of Economics\n",
      "..      ...                                                ...\n",
      "85       86  Department of Economics, Mitch Daniels School ...\n",
      "86       87  School of Economics, Faculty of Arts and Socia...\n",
      "87       88  Department of Economics, George Washington Uni...\n",
      "88       89         Department of Economics, McGill University\n",
      "89       90  Department of Economics, University of Washington\n",
      "\n",
      "[90 rows x 2 columns]\n"
     ]
    }
   ],
   "source": [
    "df1 = pd.read_excel(\"C:/Users/activ/repec_university_rankings.xlsx\")\n",
    "print(df1[:90])"
   ]
  },
  {
   "cell_type": "code",
   "execution_count": 8,
   "id": "2405cb33-0b29-42e1-be5a-cc77387be3b4",
   "metadata": {},
   "outputs": [],
   "source": [
    "population1 = list(range(1,31))\n",
    "population2 = list(range(31,61))\n",
    "population3 = list(range(61,91))\n",
    "numbers1 = random.sample(population1,10)\n",
    "numbers2 = random.sample(population2,10)\n",
    "numbers3 = random.sample(population3,10)\n",
    "numbers_all = numbers1+numbers2+numbers3\n",
    "\n",
    "df2 = df1[df1['Ranking'].isin(numbers_all)] #筛选出Ranking列在numbers_all里的所有行，保存到df2中\n",
    "df3 = pd.DataFrame(df2)\n",
    "df3.to_excel(\"template_list1.xlsx\", index=False, engine=\"openpyxl\")  #保存为excel文件"
   ]
  },
  {
   "cell_type": "markdown",
   "id": "306667a9-17e2-469a-8a4d-12482b6a4b4f",
   "metadata": {
    "jp-MarkdownHeadingCollapsed": true
   },
   "source": [
    "#### 手动得到list2 excel表格"
   ]
  },
  {
   "cell_type": "markdown",
   "id": "c089d238-c5e3-45a2-ae3e-67bb2f6d9a4e",
   "metadata": {},
   "source": [
    "### 循环生成申请信"
   ]
  },
  {
   "cell_type": "code",
   "execution_count": 96,
   "id": "02ba2339-7b8f-4e72-ae6a-440215844847",
   "metadata": {},
   "outputs": [
    {
     "name": "stdout",
     "output_type": "stream",
     "text": [
      "Requirement already satisfied: docxtpl in c:\\users\\activ\\anaconda3\\lib\\site-packages (0.20.1)\n",
      "Requirement already satisfied: python-docx>=1.1.1 in c:\\users\\activ\\anaconda3\\lib\\site-packages (from docxtpl) (1.2.0)\n",
      "Requirement already satisfied: docxcompose in c:\\users\\activ\\anaconda3\\lib\\site-packages (from docxtpl) (1.4.0)\n",
      "Requirement already satisfied: jinja2 in c:\\users\\activ\\anaconda3\\lib\\site-packages (from docxtpl) (3.1.4)\n",
      "Requirement already satisfied: lxml in c:\\users\\activ\\anaconda3\\lib\\site-packages (from docxtpl) (5.2.1)\n",
      "Requirement already satisfied: typing_extensions>=4.9.0 in c:\\users\\activ\\anaconda3\\lib\\site-packages (from python-docx>=1.1.1->docxtpl) (4.11.0)\n",
      "Requirement already satisfied: setuptools in c:\\users\\activ\\anaconda3\\lib\\site-packages (from docxcompose->docxtpl) (75.1.0)\n",
      "Requirement already satisfied: six in c:\\users\\activ\\anaconda3\\lib\\site-packages (from docxcompose->docxtpl) (1.16.0)\n",
      "Requirement already satisfied: babel in c:\\users\\activ\\anaconda3\\lib\\site-packages (from docxcompose->docxtpl) (2.11.0)\n",
      "Requirement already satisfied: MarkupSafe>=2.0 in c:\\users\\activ\\anaconda3\\lib\\site-packages (from jinja2->docxtpl) (2.1.3)\n",
      "Requirement already satisfied: pytz>=2015.7 in c:\\users\\activ\\anaconda3\\lib\\site-packages (from babel->docxcompose->docxtpl) (2024.1)\n",
      "Note: you may need to restart the kernel to use updated packages.\n"
     ]
    }
   ],
   "source": [
    "pip install docxtpl"
   ]
  },
  {
   "cell_type": "code",
   "execution_count": 12,
   "id": "89d75683-beab-443f-8271-457ac234021e",
   "metadata": {},
   "outputs": [],
   "source": [
    "import pandas as pd\n",
    "from docxtpl import DocxTemplate\n",
    "import os"
   ]
  },
  {
   "cell_type": "code",
   "execution_count": 13,
   "id": "eae337ee-1749-4983-8ac2-c091caceddef",
   "metadata": {
    "scrolled": true
   },
   "outputs": [],
   "source": [
    "class TemplateProcessor:  #定义类\n",
    "    def __init__(self, template_file, universities_file, area_file):\n",
    "        self.template_file = template_file  # 模板word文件\n",
    "        self.universities_file = universities_file  # list1大学排名\n",
    "        self.area_file = area_file  # list2领域等内容\n",
    "        self.universities_df = None\n",
    "        self.area_df = None\n",
    "        self.template = None\n",
    "\n",
    "    def load_data(self):  #加载Excel数据和word模板\n",
    "        self.universities_df = pd.read_excel(self.universities_file)\n",
    "        self.area_df = pd.read_excel(self.area_file)\n",
    "\n",
    "        self.template = DocxTemplate(self.template_file)\n",
    "    \n",
    "    def replace_and_save_document(self, university, area_data, output_dir=\"output\"):  #替换文本并保存文档\n",
    "        # 创建输出目录\n",
    "        if not os.path.exists(output_dir):\n",
    "            os.makedirs(output_dir)\n",
    "        \n",
    "        # 准备上下文数据\n",
    "        context = {\n",
    "            \"University_Name\": university,\n",
    "            \"Area\": area_data['Area'],\n",
    "            \"Journals\": area_data['Journals'],\n",
    "            \"Skills\": area_data['Skills']\n",
    "        }\n",
    "        #遍历字符，只保留字母数字或空格、连字符、下划线，rstrip()去除字符串末尾的空白字符\n",
    "        clear_university = \"\".join(c for c in university if c.isalnum() or c in (' ', '-', '_')).rstrip()\n",
    "        clear_area = area_data['Area'].replace(\" \", \"_\")\n",
    "            \n",
    "        # 生成文件名\n",
    "        filename = f\"Application_{clear_university}_{clear_area}.docx\"\n",
    "        filepath = os.path.join(output_dir, filename)\n",
    "        # 使用docxtpl渲染模板\n",
    "        self.template.render(context)\n",
    "            \n",
    "        # 保存文档\n",
    "        self.template.save(filepath)\n",
    "        print(f\"文件已生成: {filename}\")\n",
    "        return filepath\n",
    "    \n",
    "    def process_all(self, output_dir=\"output\"):\n",
    "        self.load_data()\n",
    "        \n",
    "        if self.universities_df is None or self.area_df is None:\n",
    "            print(\"数据加载失败\")\n",
    "            return\n",
    "        \n",
    "        # 统计生成的文件数量\n",
    "        generated_files = 0\n",
    "        # 遍历30所大学和3个领域的组合\n",
    "        for _, uni_row in self.universities_df.iterrows():\n",
    "            university = uni_row['Institutions']\n",
    "            \n",
    "            for _, area_row in self.area_df.iterrows():\n",
    "                area_data = {\n",
    "                    'Area': area_row['Area'],\n",
    "                    'Journals': area_row['Journals'],\n",
    "                    'Skills': area_row['Skills']\n",
    "                }\n",
    "                \n",
    "                result = self.replace_and_save_document(university, area_data, output_dir)\n",
    "                if result:\n",
    "                    generated_files += 1\n",
    "        \n",
    "        print(f\"\\n共生成 {generated_files} 个申请文件\")\n",
    "        print(f\"文件保存在 '{output_dir}' 目录中\")"
   ]
  },
  {
   "cell_type": "code",
   "execution_count": 14,
   "id": "c31a8d57-4fb8-4644-88c1-b785aa4a2c6e",
   "metadata": {},
   "outputs": [
    {
     "name": "stdout",
     "output_type": "stream",
     "text": [
      "文件已生成: Application_Economics Department Massachusetts Institute of Technology MIT_ECON.docx\n",
      "文件已生成: Application_Economics Department Massachusetts Institute of Technology MIT_FINANCE.docx\n",
      "文件已生成: Application_Economics Department Massachusetts Institute of Technology MIT_SOC_SCI.docx\n",
      "文件已生成: Application_Paris School of Economics_ECON.docx\n",
      "文件已生成: Application_Paris School of Economics_FINANCE.docx\n",
      "文件已生成: Application_Paris School of Economics_SOC_SCI.docx\n",
      "文件已生成: Application_Department of Economics Princeton University_ECON.docx\n",
      "文件已生成: Application_Department of Economics Princeton University_FINANCE.docx\n",
      "文件已生成: Application_Department of Economics Princeton University_SOC_SCI.docx\n",
      "文件已生成: Application_Economics Department Brown University_ECON.docx\n",
      "文件已生成: Application_Economics Department Brown University_FINANCE.docx\n",
      "文件已生成: Application_Economics Department Brown University_SOC_SCI.docx\n",
      "文件已生成: Application_Department of Economics University College London UCL_ECON.docx\n",
      "文件已生成: Application_Department of Economics University College London UCL_FINANCE.docx\n",
      "文件已生成: Application_Department of Economics University College London UCL_SOC_SCI.docx\n",
      "文件已生成: Application_Department of Economics University of California-San Diego UCSD_ECON.docx\n",
      "文件已生成: Application_Department of Economics University of California-San Diego UCSD_FINANCE.docx\n",
      "文件已生成: Application_Department of Economics University of California-San Diego UCSD_SOC_SCI.docx\n",
      "文件已生成: Application_Department of Economics Northwestern University_ECON.docx\n",
      "文件已生成: Application_Department of Economics Northwestern University_FINANCE.docx\n",
      "文件已生成: Application_Department of Economics Northwestern University_SOC_SCI.docx\n",
      "文件已生成: Application_School of Economics and Management Universiteit van Tilburg_ECON.docx\n",
      "文件已生成: Application_School of Economics and Management Universiteit van Tilburg_FINANCE.docx\n",
      "文件已生成: Application_School of Economics and Management Universiteit van Tilburg_SOC_SCI.docx\n",
      "文件已生成: Application_Vancouver School of Economics University of British Columbia_ECON.docx\n",
      "文件已生成: Application_Vancouver School of Economics University of British Columbia_FINANCE.docx\n",
      "文件已生成: Application_Vancouver School of Economics University of British Columbia_SOC_SCI.docx\n",
      "文件已生成: Application_Department of Economics Duke University_ECON.docx\n",
      "文件已生成: Application_Department of Economics Duke University_FINANCE.docx\n",
      "文件已生成: Application_Department of Economics Duke University_SOC_SCI.docx\n",
      "文件已生成: Application_Department of Economics Boston College_ECON.docx\n",
      "文件已生成: Application_Department of Economics Boston College_FINANCE.docx\n",
      "文件已生成: Application_Department of Economics Boston College_SOC_SCI.docx\n",
      "文件已生成: Application_Department of Economics University of Toronto_ECON.docx\n",
      "文件已生成: Application_Department of Economics University of Toronto_FINANCE.docx\n",
      "文件已生成: Application_Department of Economics University of Toronto_SOC_SCI.docx\n",
      "文件已生成: Application_Economics Department University of California-Davis_ECON.docx\n",
      "文件已生成: Application_Economics Department University of California-Davis_FINANCE.docx\n",
      "文件已生成: Application_Economics Department University of California-Davis_SOC_SCI.docx\n",
      "文件已生成: Application_Dipartimento di Scienze Economiche Alma Mater Studiorum - Università di Bologna_ECON.docx\n",
      "文件已生成: Application_Dipartimento di Scienze Economiche Alma Mater Studiorum - Università di Bologna_FINANCE.docx\n",
      "文件已生成: Application_Dipartimento di Scienze Economiche Alma Mater Studiorum - Università di Bologna_SOC_SCI.docx\n",
      "文件已生成: Application_Department of Economics Sciences économiques Sciences Po_ECON.docx\n",
      "文件已生成: Application_Department of Economics Sciences économiques Sciences Po_FINANCE.docx\n",
      "文件已生成: Application_Department of Economics Sciences économiques Sciences Po_SOC_SCI.docx\n",
      "文件已生成: Application_School of Economics University of Nottingham_ECON.docx\n",
      "文件已生成: Application_School of Economics University of Nottingham_FINANCE.docx\n",
      "文件已生成: Application_School of Economics University of Nottingham_SOC_SCI.docx\n",
      "文件已生成: Application_Department of Economics Monash Business School Monash University_ECON.docx\n",
      "文件已生成: Application_Department of Economics Monash Business School Monash University_FINANCE.docx\n",
      "文件已生成: Application_Department of Economics Monash Business School Monash University_SOC_SCI.docx\n",
      "文件已生成: Application_Økonomisk Institut Københavns Universitet_ECON.docx\n",
      "文件已生成: Application_Økonomisk Institut Københavns Universitet_FINANCE.docx\n",
      "文件已生成: Application_Økonomisk Institut Københavns Universitet_SOC_SCI.docx\n",
      "文件已生成: Application_Department of Economics University of Western Ontario_ECON.docx\n",
      "文件已生成: Application_Department of Economics University of Western Ontario_FINANCE.docx\n",
      "文件已生成: Application_Department of Economics University of Western Ontario_SOC_SCI.docx\n",
      "文件已生成: Application_School of Economics University of Queensland_ECON.docx\n",
      "文件已生成: Application_School of Economics University of Queensland_FINANCE.docx\n",
      "文件已生成: Application_School of Economics University of Queensland_SOC_SCI.docx\n",
      "文件已生成: Application_Department of Economics University of Minnesota_ECON.docx\n",
      "文件已生成: Application_Department of Economics University of Minnesota_FINANCE.docx\n",
      "文件已生成: Application_Department of Economics University of Minnesota_SOC_SCI.docx\n",
      "文件已生成: Application_Dipartimenti e Istituti di Scienze Economiche Università Cattolica del Sacro Cuore_ECON.docx\n",
      "文件已生成: Application_Dipartimenti e Istituti di Scienze Economiche Università Cattolica del Sacro Cuore_FINANCE.docx\n",
      "文件已生成: Application_Dipartimenti e Istituti di Scienze Economiche Università Cattolica del Sacro Cuore_SOC_SCI.docx\n",
      "文件已生成: Application_Fachbereich Wirtschaftswissenschaft Goethe Universität Frankfurt am Main_ECON.docx\n",
      "文件已生成: Application_Fachbereich Wirtschaftswissenschaft Goethe Universität Frankfurt am Main_FINANCE.docx\n",
      "文件已生成: Application_Fachbereich Wirtschaftswissenschaft Goethe Universität Frankfurt am Main_SOC_SCI.docx\n",
      "文件已生成: Application_Department of Economics Andrew Young School of Policy Studies Georgia State University_ECON.docx\n",
      "文件已生成: Application_Department of Economics Andrew Young School of Policy Studies Georgia State University_FINANCE.docx\n",
      "文件已生成: Application_Department of Economics Andrew Young School of Policy Studies Georgia State University_SOC_SCI.docx\n",
      "文件已生成: Application_Eitan Berglas School of Economics Tel Aviv University_ECON.docx\n",
      "文件已生成: Application_Eitan Berglas School of Economics Tel Aviv University_FINANCE.docx\n",
      "文件已生成: Application_Eitan Berglas School of Economics Tel Aviv University_SOC_SCI.docx\n",
      "文件已生成: Application_Departamento de Economía Universidad Carlos III de Madrid_ECON.docx\n",
      "文件已生成: Application_Departamento de Economía Universidad Carlos III de Madrid_FINANCE.docx\n",
      "文件已生成: Application_Departamento de Economía Universidad Carlos III de Madrid_SOC_SCI.docx\n",
      "文件已生成: Application_Økonomisk institutt Universitetet i Oslo_ECON.docx\n",
      "文件已生成: Application_Økonomisk institutt Universitetet i Oslo_FINANCE.docx\n",
      "文件已生成: Application_Økonomisk institutt Universitetet i Oslo_SOC_SCI.docx\n",
      "文件已生成: Application_Wirtschaftswissenschaftlicher Fachbereich Rheinische Friedrich-Wilhelms-Universität Bonn_ECON.docx\n",
      "文件已生成: Application_Wirtschaftswissenschaftlicher Fachbereich Rheinische Friedrich-Wilhelms-Universität Bonn_FINANCE.docx\n",
      "文件已生成: Application_Wirtschaftswissenschaftlicher Fachbereich Rheinische Friedrich-Wilhelms-Universität Bonn_SOC_SCI.docx\n",
      "文件已生成: Application_Department of Economics Mitch Daniels School of Business Purdue University_ECON.docx\n",
      "文件已生成: Application_Department of Economics Mitch Daniels School of Business Purdue University_FINANCE.docx\n",
      "文件已生成: Application_Department of Economics Mitch Daniels School of Business Purdue University_SOC_SCI.docx\n",
      "文件已生成: Application_School of Economics Faculty of Arts and Social Sciences University of Sydney_ECON.docx\n",
      "文件已生成: Application_School of Economics Faculty of Arts and Social Sciences University of Sydney_FINANCE.docx\n",
      "文件已生成: Application_School of Economics Faculty of Arts and Social Sciences University of Sydney_SOC_SCI.docx\n",
      "\n",
      "共生成 90 个申请文件\n",
      "文件保存在 'applications_output' 目录中\n"
     ]
    }
   ],
   "source": [
    "if __name__ == \"__main__\":  #使该文件既可以作为独立程序运行，也可以作为模块被其他程序导入使用\n",
    "    processor = TemplateProcessor(\n",
    "        template_file=r\"C:\\Users\\activ\\ApplicationTemplate.docx\",\n",
    "        universities_file=r\"C:\\Users\\activ\\template_list1.xlsx\", \n",
    "        area_file=r\"C:\\Users\\activ\\template_list2.xlsx\"\n",
    "    )\n",
    "    \n",
    "    # 处理所有组合并生成文件\n",
    "    processor.process_all(\"applications_output\")"
   ]
  },
  {
   "cell_type": "markdown",
   "id": "0be99e00-2362-44e5-979d-bb1f263e10f0",
   "metadata": {},
   "source": [
    "### 选择一个文件生成pdf版"
   ]
  },
  {
   "cell_type": "code",
   "execution_count": 98,
   "id": "7b0f1f92-afd5-4198-a680-c8da0e135d9e",
   "metadata": {},
   "outputs": [
    {
     "name": "stdout",
     "output_type": "stream",
     "text": [
      "Collecting docx2pdf\n",
      "  Downloading docx2pdf-0.1.8-py3-none-any.whl.metadata (3.3 kB)\n",
      "Requirement already satisfied: pywin32>=227 in c:\\users\\activ\\anaconda3\\lib\\site-packages (from docx2pdf) (305.1)\n",
      "Requirement already satisfied: tqdm>=4.41.0 in c:\\users\\activ\\anaconda3\\lib\\site-packages (from docx2pdf) (4.66.5)\n",
      "Requirement already satisfied: colorama in c:\\users\\activ\\anaconda3\\lib\\site-packages (from tqdm>=4.41.0->docx2pdf) (0.4.6)\n",
      "Downloading docx2pdf-0.1.8-py3-none-any.whl (6.7 kB)\n",
      "Installing collected packages: docx2pdf\n",
      "Successfully installed docx2pdf-0.1.8\n",
      "Note: you may need to restart the kernel to use updated packages.\n"
     ]
    }
   ],
   "source": [
    "pip install docx2pdf"
   ]
  },
  {
   "cell_type": "code",
   "execution_count": 16,
   "id": "7faeb219-f8d2-42a5-8d59-7a70b4a636fe",
   "metadata": {},
   "outputs": [
    {
     "data": {
      "application/vnd.jupyter.widget-view+json": {
       "model_id": "f4035fcdea5944dc95c1e0b6259e66c5",
       "version_major": 2,
       "version_minor": 0
      },
      "text/plain": [
       "  0%|          | 0/1 [00:00<?, ?it/s]"
      ]
     },
     "metadata": {},
     "output_type": "display_data"
    },
    {
     "name": "stdout",
     "output_type": "stream",
     "text": [
      "C:/Users/activ/applications_output/Application_Department of Economics Boston College_ECON.docx -> Application_Department of Economics Boston College_ECON_pdf.pdf\n"
     ]
    }
   ],
   "source": [
    "from docx2pdf import convert\n",
    "import os\n",
    "\n",
    "def convert_docx_to_pdf_docx2pdf(docx_path, pdf_path=None):\n",
    "    if pdf_path is None:\n",
    "        # 如果没有指定PDF路径，使用相同目录和文件名\n",
    "        pdf_path = docx_path.replace('.docx', '.pdf')\n",
    "        \n",
    "    # 转换文件\n",
    "    convert(docx_path, pdf_path)\n",
    "    print(f\"{docx_path} -> {pdf_path}\")\n",
    "    return True\n",
    "\n",
    "if __name__ == \"__main__\":\n",
    "    #这里随机使用了本次生成的一个文件，但每次循环筛选的大学不同，可能要更改文件地址\n",
    "    convert_docx_to_pdf_docx2pdf(\"C:/Users/activ/applications_output/Application_Department of Economics Boston College_ECON.docx\", \"Application_Department of Economics Boston College_ECON_pdf.pdf\")"
   ]
  },
  {
   "cell_type": "code",
   "execution_count": null,
   "id": "4a74b962-5597-4b48-8b95-e8208cde6f17",
   "metadata": {},
   "outputs": [],
   "source": []
  }
 ],
 "metadata": {
  "kernelspec": {
   "display_name": "Python [conda env:base] *",
   "language": "python",
   "name": "conda-base-py"
  },
  "language_info": {
   "codemirror_mode": {
    "name": "ipython",
    "version": 3
   },
   "file_extension": ".py",
   "mimetype": "text/x-python",
   "name": "python",
   "nbconvert_exporter": "python",
   "pygments_lexer": "ipython3",
   "version": "3.12.7"
  }
 },
 "nbformat": 4,
 "nbformat_minor": 5
}
