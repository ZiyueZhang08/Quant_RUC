{
 "cells": [
  {
   "cell_type": "markdown",
   "id": "6465e0a4-e1ec-486f-abaf-f6ecd0364b1e",
   "metadata": {},
   "source": [
    "## 3.3 Data Research"
   ]
  },
  {
   "cell_type": "markdown",
   "id": "575d4d9e-ce73-43c6-a27e-c8f85910b5c7",
   "metadata": {},
   "source": [
    "#### 3.3.1 merge data and get price(rent)_per_m2"
   ]
  },
  {
   "cell_type": "code",
   "execution_count": 1,
   "id": "3a5b3bc5-42ec-4f49-8c1e-6470e2a29ad4",
   "metadata": {},
   "outputs": [
    {
     "name": "stdout",
     "output_type": "stream",
     "text": [
      "    price    area   price_per_m2 block\n",
      "0  1499.0  151.00   99271.523179    万柳\n",
      "1  1550.0  142.54  108741.405921    万柳\n",
      "2  2400.0  114.59  209442.359717    万柳\n",
      "3  1499.0  151.00   99271.523179    万柳\n",
      "4  2100.0  150.21  139804.274016    万柳\n",
      "     rent  area block  rent_per_m2\n",
      "0  138000   330    万柳   418.181818\n",
      "1   80000   416    万柳   192.307692\n",
      "2   58000   468    万柳   123.931624\n",
      "3  120000   381    万柳   314.960630\n",
      "4   58000   307    万柳   188.925081\n"
     ]
    }
   ],
   "source": [
    "import pandas as pd\n",
    "import numpy as np\n",
    "import matplotlib.pyplot as plt\n",
    "import seaborn as sns\n",
    "\n",
    "# 设置中文字体\n",
    "plt.rcParams['font.sans-serif'] = ['SimHei']\n",
    "plt.rcParams['axes.unicode_minus'] = False \n",
    "\n",
    "# 读取并整合二手房数据\n",
    "esf_df = pd.concat(pd.read_excel('esf_data.xlsx', sheet_name=None), ignore_index=True)\n",
    "esf_df.rename(columns={'blocks': 'block'}, inplace=True) # 和rent_df统一下列名嘻嘻\n",
    "print(esf_df.head(5))\n",
    "\n",
    "# 读取并整合租金数据  \n",
    "rent_df = pd.concat(pd.read_excel('rent_data.xlsx', sheet_name=None), ignore_index=True)\n",
    "rent_df['rent_per_m2'] = rent_df['rent']/rent_df['area']\n",
    "print(rent_df.head(5))"
   ]
  },
  {
   "cell_type": "markdown",
   "id": "39f33e8e-5d5d-4881-8f39-b772b4aa1dc4",
   "metadata": {},
   "source": [
    "#### 3.3.2 describe data"
   ]
  },
  {
   "cell_type": "code",
   "execution_count": 2,
   "id": "b83948c9-2fd3-44af-851f-7a7c3bfd16f8",
   "metadata": {},
   "outputs": [
    {
     "data": {
      "text/html": [
       "<div>\n",
       "<style scoped>\n",
       "    .dataframe tbody tr th:only-of-type {\n",
       "        vertical-align: middle;\n",
       "    }\n",
       "\n",
       "    .dataframe tbody tr th {\n",
       "        vertical-align: top;\n",
       "    }\n",
       "\n",
       "    .dataframe thead th {\n",
       "        text-align: right;\n",
       "    }\n",
       "</style>\n",
       "<table border=\"1\" class=\"dataframe\">\n",
       "  <thead>\n",
       "    <tr style=\"text-align: right;\">\n",
       "      <th></th>\n",
       "      <th>price</th>\n",
       "      <th>area</th>\n",
       "      <th>price_per_m2</th>\n",
       "    </tr>\n",
       "  </thead>\n",
       "  <tbody>\n",
       "    <tr>\n",
       "      <th>count</th>\n",
       "      <td>2903.000000</td>\n",
       "      <td>2903.000000</td>\n",
       "      <td>2903.000000</td>\n",
       "    </tr>\n",
       "    <tr>\n",
       "      <th>mean</th>\n",
       "      <td>2230.192460</td>\n",
       "      <td>163.310362</td>\n",
       "      <td>125062.965584</td>\n",
       "    </tr>\n",
       "    <tr>\n",
       "      <th>std</th>\n",
       "      <td>1800.591224</td>\n",
       "      <td>76.537235</td>\n",
       "      <td>41382.392063</td>\n",
       "    </tr>\n",
       "    <tr>\n",
       "      <th>min</th>\n",
       "      <td>179.000000</td>\n",
       "      <td>26.500000</td>\n",
       "      <td>32368.896926</td>\n",
       "    </tr>\n",
       "    <tr>\n",
       "      <th>25%</th>\n",
       "      <td>1263.000000</td>\n",
       "      <td>117.570000</td>\n",
       "      <td>99340.964986</td>\n",
       "    </tr>\n",
       "    <tr>\n",
       "      <th>50%</th>\n",
       "      <td>1790.000000</td>\n",
       "      <td>155.000000</td>\n",
       "      <td>118178.658325</td>\n",
       "    </tr>\n",
       "    <tr>\n",
       "      <th>75%</th>\n",
       "      <td>2480.000000</td>\n",
       "      <td>201.640000</td>\n",
       "      <td>139816.196685</td>\n",
       "    </tr>\n",
       "    <tr>\n",
       "      <th>max</th>\n",
       "      <td>19400.000000</td>\n",
       "      <td>745.000000</td>\n",
       "      <td>312685.533347</td>\n",
       "    </tr>\n",
       "  </tbody>\n",
       "</table>\n",
       "</div>"
      ],
      "text/plain": [
       "              price         area   price_per_m2\n",
       "count   2903.000000  2903.000000    2903.000000\n",
       "mean    2230.192460   163.310362  125062.965584\n",
       "std     1800.591224    76.537235   41382.392063\n",
       "min      179.000000    26.500000   32368.896926\n",
       "25%     1263.000000   117.570000   99340.964986\n",
       "50%     1790.000000   155.000000  118178.658325\n",
       "75%     2480.000000   201.640000  139816.196685\n",
       "max    19400.000000   745.000000  312685.533347"
      ]
     },
     "execution_count": 2,
     "metadata": {},
     "output_type": "execute_result"
    }
   ],
   "source": [
    "esf_df.describe()"
   ]
  },
  {
   "cell_type": "code",
   "execution_count": 3,
   "id": "66475a9f-abce-4e40-9bce-eaf6fa0bb85f",
   "metadata": {},
   "outputs": [
    {
     "data": {
      "text/html": [
       "<div>\n",
       "<style scoped>\n",
       "    .dataframe tbody tr th:only-of-type {\n",
       "        vertical-align: middle;\n",
       "    }\n",
       "\n",
       "    .dataframe tbody tr th {\n",
       "        vertical-align: top;\n",
       "    }\n",
       "\n",
       "    .dataframe thead tr th {\n",
       "        text-align: left;\n",
       "    }\n",
       "\n",
       "    .dataframe thead tr:last-of-type th {\n",
       "        text-align: right;\n",
       "    }\n",
       "</style>\n",
       "<table border=\"1\" class=\"dataframe\">\n",
       "  <thead>\n",
       "    <tr>\n",
       "      <th></th>\n",
       "      <th colspan=\"8\" halign=\"left\">price_per_m2</th>\n",
       "    </tr>\n",
       "    <tr>\n",
       "      <th></th>\n",
       "      <th>count</th>\n",
       "      <th>mean</th>\n",
       "      <th>std</th>\n",
       "      <th>min</th>\n",
       "      <th>25%</th>\n",
       "      <th>50%</th>\n",
       "      <th>75%</th>\n",
       "      <th>max</th>\n",
       "    </tr>\n",
       "    <tr>\n",
       "      <th>block</th>\n",
       "      <th></th>\n",
       "      <th></th>\n",
       "      <th></th>\n",
       "      <th></th>\n",
       "      <th></th>\n",
       "      <th></th>\n",
       "      <th></th>\n",
       "      <th></th>\n",
       "    </tr>\n",
       "  </thead>\n",
       "  <tbody>\n",
       "    <tr>\n",
       "      <th>万柳</th>\n",
       "      <td>1200.0</td>\n",
       "      <td>153799.965957</td>\n",
       "      <td>44526.717322</td>\n",
       "      <td>61626.016260</td>\n",
       "      <td>128205.128205</td>\n",
       "      <td>141870.967742</td>\n",
       "      <td>167500.000000</td>\n",
       "      <td>312685.533347</td>\n",
       "    </tr>\n",
       "    <tr>\n",
       "      <th>世纪城</th>\n",
       "      <td>1198.0</td>\n",
       "      <td>114207.101152</td>\n",
       "      <td>18075.291011</td>\n",
       "      <td>64885.496183</td>\n",
       "      <td>102136.135988</td>\n",
       "      <td>110414.673046</td>\n",
       "      <td>125853.658537</td>\n",
       "      <td>183346.594251</td>\n",
       "    </tr>\n",
       "    <tr>\n",
       "      <th>北太平庄</th>\n",
       "      <td>197.0</td>\n",
       "      <td>88429.373414</td>\n",
       "      <td>21193.697032</td>\n",
       "      <td>32368.896926</td>\n",
       "      <td>78175.519630</td>\n",
       "      <td>87341.329917</td>\n",
       "      <td>102443.749069</td>\n",
       "      <td>145405.819296</td>\n",
       "    </tr>\n",
       "    <tr>\n",
       "      <th>苏州桥</th>\n",
       "      <td>308.0</td>\n",
       "      <td>78756.935719</td>\n",
       "      <td>13557.023020</td>\n",
       "      <td>44927.323447</td>\n",
       "      <td>70189.362295</td>\n",
       "      <td>78821.656051</td>\n",
       "      <td>85816.634137</td>\n",
       "      <td>152985.074627</td>\n",
       "    </tr>\n",
       "  </tbody>\n",
       "</table>\n",
       "</div>"
      ],
      "text/plain": [
       "      price_per_m2                                                            \\\n",
       "             count           mean           std           min            25%   \n",
       "block                                                                          \n",
       "万柳          1200.0  153799.965957  44526.717322  61626.016260  128205.128205   \n",
       "世纪城         1198.0  114207.101152  18075.291011  64885.496183  102136.135988   \n",
       "北太平庄         197.0   88429.373414  21193.697032  32368.896926   78175.519630   \n",
       "苏州桥          308.0   78756.935719  13557.023020  44927.323447   70189.362295   \n",
       "\n",
       "                                                    \n",
       "                 50%            75%            max  \n",
       "block                                               \n",
       "万柳     141870.967742  167500.000000  312685.533347  \n",
       "世纪城    110414.673046  125853.658537  183346.594251  \n",
       "北太平庄    87341.329917  102443.749069  145405.819296  \n",
       "苏州桥     78821.656051   85816.634137  152985.074627  "
      ]
     },
     "execution_count": 3,
     "metadata": {},
     "output_type": "execute_result"
    }
   ],
   "source": [
    "esf_df[['block','price_per_m2']].groupby('block').describe()"
   ]
  },
  {
   "cell_type": "code",
   "execution_count": 4,
   "id": "90310105-7006-4e22-aa12-ceea6582e87d",
   "metadata": {},
   "outputs": [
    {
     "data": {
      "text/html": [
       "<div>\n",
       "<style scoped>\n",
       "    .dataframe tbody tr th:only-of-type {\n",
       "        vertical-align: middle;\n",
       "    }\n",
       "\n",
       "    .dataframe tbody tr th {\n",
       "        vertical-align: top;\n",
       "    }\n",
       "\n",
       "    .dataframe thead th {\n",
       "        text-align: right;\n",
       "    }\n",
       "</style>\n",
       "<table border=\"1\" class=\"dataframe\">\n",
       "  <thead>\n",
       "    <tr style=\"text-align: right;\">\n",
       "      <th></th>\n",
       "      <th>rent</th>\n",
       "      <th>area</th>\n",
       "      <th>rent_per_m2</th>\n",
       "    </tr>\n",
       "  </thead>\n",
       "  <tbody>\n",
       "    <tr>\n",
       "      <th>count</th>\n",
       "      <td>3852.000000</td>\n",
       "      <td>3852.000000</td>\n",
       "      <td>3852.000000</td>\n",
       "    </tr>\n",
       "    <tr>\n",
       "      <th>mean</th>\n",
       "      <td>20332.516355</td>\n",
       "      <td>128.123572</td>\n",
       "      <td>148.103432</td>\n",
       "    </tr>\n",
       "    <tr>\n",
       "      <th>std</th>\n",
       "      <td>23255.278073</td>\n",
       "      <td>92.367234</td>\n",
       "      <td>61.350584</td>\n",
       "    </tr>\n",
       "    <tr>\n",
       "      <th>min</th>\n",
       "      <td>1700.000000</td>\n",
       "      <td>9.000000</td>\n",
       "      <td>40.579710</td>\n",
       "    </tr>\n",
       "    <tr>\n",
       "      <th>25%</th>\n",
       "      <td>7500.000000</td>\n",
       "      <td>61.000000</td>\n",
       "      <td>111.896400</td>\n",
       "    </tr>\n",
       "    <tr>\n",
       "      <th>50%</th>\n",
       "      <td>13500.000000</td>\n",
       "      <td>107.000000</td>\n",
       "      <td>132.743363</td>\n",
       "    </tr>\n",
       "    <tr>\n",
       "      <th>75%</th>\n",
       "      <td>22000.000000</td>\n",
       "      <td>171.000000</td>\n",
       "      <td>160.655738</td>\n",
       "    </tr>\n",
       "    <tr>\n",
       "      <th>max</th>\n",
       "      <td>160000.000000</td>\n",
       "      <td>1501.000000</td>\n",
       "      <td>448.916409</td>\n",
       "    </tr>\n",
       "  </tbody>\n",
       "</table>\n",
       "</div>"
      ],
      "text/plain": [
       "                rent         area  rent_per_m2\n",
       "count    3852.000000  3852.000000  3852.000000\n",
       "mean    20332.516355   128.123572   148.103432\n",
       "std     23255.278073    92.367234    61.350584\n",
       "min      1700.000000     9.000000    40.579710\n",
       "25%      7500.000000    61.000000   111.896400\n",
       "50%     13500.000000   107.000000   132.743363\n",
       "75%     22000.000000   171.000000   160.655738\n",
       "max    160000.000000  1501.000000   448.916409"
      ]
     },
     "execution_count": 4,
     "metadata": {},
     "output_type": "execute_result"
    }
   ],
   "source": [
    "rent_df.describe()"
   ]
  },
  {
   "cell_type": "code",
   "execution_count": 5,
   "id": "ba3ed33e-7c05-4827-b92c-b99b339972aa",
   "metadata": {},
   "outputs": [
    {
     "data": {
      "text/html": [
       "<div>\n",
       "<style scoped>\n",
       "    .dataframe tbody tr th:only-of-type {\n",
       "        vertical-align: middle;\n",
       "    }\n",
       "\n",
       "    .dataframe tbody tr th {\n",
       "        vertical-align: top;\n",
       "    }\n",
       "\n",
       "    .dataframe thead tr th {\n",
       "        text-align: left;\n",
       "    }\n",
       "\n",
       "    .dataframe thead tr:last-of-type th {\n",
       "        text-align: right;\n",
       "    }\n",
       "</style>\n",
       "<table border=\"1\" class=\"dataframe\">\n",
       "  <thead>\n",
       "    <tr>\n",
       "      <th></th>\n",
       "      <th colspan=\"8\" halign=\"left\">rent_per_m2</th>\n",
       "    </tr>\n",
       "    <tr>\n",
       "      <th></th>\n",
       "      <th>count</th>\n",
       "      <th>mean</th>\n",
       "      <th>std</th>\n",
       "      <th>min</th>\n",
       "      <th>25%</th>\n",
       "      <th>50%</th>\n",
       "      <th>75%</th>\n",
       "      <th>max</th>\n",
       "    </tr>\n",
       "    <tr>\n",
       "      <th>block</th>\n",
       "      <th></th>\n",
       "      <th></th>\n",
       "      <th></th>\n",
       "      <th></th>\n",
       "      <th></th>\n",
       "      <th></th>\n",
       "      <th></th>\n",
       "      <th></th>\n",
       "    </tr>\n",
       "  </thead>\n",
       "  <tbody>\n",
       "    <tr>\n",
       "      <th>万柳</th>\n",
       "      <td>1200.0</td>\n",
       "      <td>177.103331</td>\n",
       "      <td>76.223515</td>\n",
       "      <td>86.608927</td>\n",
       "      <td>130.864198</td>\n",
       "      <td>151.898734</td>\n",
       "      <td>179.487179</td>\n",
       "      <td>448.916409</td>\n",
       "    </tr>\n",
       "    <tr>\n",
       "      <th>世纪城</th>\n",
       "      <td>1200.0</td>\n",
       "      <td>119.804970</td>\n",
       "      <td>31.836083</td>\n",
       "      <td>79.754601</td>\n",
       "      <td>100.000000</td>\n",
       "      <td>108.843537</td>\n",
       "      <td>133.891213</td>\n",
       "      <td>372.340426</td>\n",
       "    </tr>\n",
       "    <tr>\n",
       "      <th>北太平庄</th>\n",
       "      <td>252.0</td>\n",
       "      <td>138.956170</td>\n",
       "      <td>31.681913</td>\n",
       "      <td>88.495575</td>\n",
       "      <td>118.181818</td>\n",
       "      <td>132.075472</td>\n",
       "      <td>150.000000</td>\n",
       "      <td>291.666667</td>\n",
       "    </tr>\n",
       "    <tr>\n",
       "      <th>苏州桥</th>\n",
       "      <td>1200.0</td>\n",
       "      <td>149.322920</td>\n",
       "      <td>58.250425</td>\n",
       "      <td>40.579710</td>\n",
       "      <td>114.035088</td>\n",
       "      <td>136.000000</td>\n",
       "      <td>166.666667</td>\n",
       "      <td>366.666667</td>\n",
       "    </tr>\n",
       "  </tbody>\n",
       "</table>\n",
       "</div>"
      ],
      "text/plain": [
       "      rent_per_m2                                                            \\\n",
       "            count        mean        std        min         25%         50%   \n",
       "block                                                                         \n",
       "万柳         1200.0  177.103331  76.223515  86.608927  130.864198  151.898734   \n",
       "世纪城        1200.0  119.804970  31.836083  79.754601  100.000000  108.843537   \n",
       "北太平庄        252.0  138.956170  31.681913  88.495575  118.181818  132.075472   \n",
       "苏州桥        1200.0  149.322920  58.250425  40.579710  114.035088  136.000000   \n",
       "\n",
       "                               \n",
       "              75%         max  \n",
       "block                          \n",
       "万柳     179.487179  448.916409  \n",
       "世纪城    133.891213  372.340426  \n",
       "北太平庄   150.000000  291.666667  \n",
       "苏州桥    166.666667  366.666667  "
      ]
     },
     "execution_count": 5,
     "metadata": {},
     "output_type": "execute_result"
    }
   ],
   "source": [
    "rent_df[['block','rent_per_m2']].groupby('block').describe()"
   ]
  },
  {
   "cell_type": "markdown",
   "id": "a0ffc9e5-0c6c-4210-86d7-e7aacab59503",
   "metadata": {},
   "source": [
    "#### 3.3.3 find outliers(IQR)"
   ]
  },
  {
   "cell_type": "code",
   "execution_count": 6,
   "id": "577d9a0f-1469-496e-b876-c53649c12d40",
   "metadata": {},
   "outputs": [
    {
     "name": "stdout",
     "output_type": "stream",
     "text": [
      "二手房数据异常值检测:\n",
      "异常值范围: [38628.12, 200529.04]\n",
      "异常值数量: 217\n",
      "异常值数据:\n",
      "       price    area   price_per_m2 block\n",
      "2     2400.0  114.59  209442.359717    万柳\n",
      "6     5900.0  266.79  221147.719180    万柳\n",
      "7     8500.0  395.00  215189.873418    万柳\n",
      "9     8950.0  395.00  226582.278481    万柳\n",
      "15    8600.0  395.00  217721.518987    万柳\n",
      "...      ...     ...            ...   ...\n",
      "1594   179.0   55.30   32368.896926  北太平庄\n",
      "1603   179.0   54.58   32795.895933  北太平庄\n",
      "1684   179.0   55.30   32368.896926  北太平庄\n",
      "1702   279.0   72.54   38461.538462  北太平庄\n",
      "1703   179.0   54.58   32795.895933  北太平庄\n",
      "\n",
      "[217 rows x 4 columns]\n",
      "\n",
      "租金数据异常值检测:\n",
      "异常值范围: [38.76, 233.79]\n",
      "异常值数量: 307\n",
      "异常值数据:\n",
      "        rent  area block  rent_per_m2\n",
      "0     138000   330    万柳   418.181818\n",
      "3     120000   381    万柳   314.960630\n",
      "5     136000   330    万柳   412.121212\n",
      "7     130000   330    万柳   393.939394\n",
      "9      88000   300    万柳   293.333333\n",
      "...      ...   ...   ...          ...\n",
      "3330   70000   188   世纪城   372.340426\n",
      "3352   70000   188   世纪城   372.340426\n",
      "3470   70000   188   世纪城   372.340426\n",
      "3528   70000   188   世纪城   372.340426\n",
      "3640   70000   188   世纪城   372.340426\n",
      "\n",
      "[307 rows x 4 columns]\n"
     ]
    }
   ],
   "source": [
    "def detect_outliers_iqr(df, column):\n",
    "    \"\"\"对数据整体使用IQR方法检测异常值\"\"\"\n",
    "    Q1 = df[column].quantile(0.25)\n",
    "    Q3 = df[column].quantile(0.75)\n",
    "    IQR = Q3 - Q1\n",
    "    lower_bound = Q1 - 1.5 * IQR\n",
    "    upper_bound = Q3 + 1.5 * IQR\n",
    "    \n",
    "    outliers = df[(df[column] < lower_bound) | (df[column] > upper_bound)]\n",
    "    return outliers, lower_bound, upper_bound\n",
    "\n",
    "print(\"二手房数据异常值检测:\")\n",
    "esf_outliers, esf_lower, esf_upper = detect_outliers_iqr(esf_df, 'price_per_m2')\n",
    "print(f\"异常值范围: [{esf_lower:.2f}, {esf_upper:.2f}]\")\n",
    "print(f\"异常值数量: {len(esf_outliers)}\")\n",
    "print(\"异常值数据:\")\n",
    "print(esf_outliers)\n",
    "\n",
    "print(\"\\n租金数据异常值检测:\")\n",
    "rent_outliers, rent_lower, rent_upper = detect_outliers_iqr(rent_df, 'rent_per_m2')\n",
    "print(f\"异常值范围: [{rent_lower:.2f}, {rent_upper:.2f}]\")\n",
    "print(f\"异常值数量: {len(rent_outliers)}\")\n",
    "print(\"异常值数据:\")\n",
    "print(rent_outliers)"
   ]
  },
  {
   "cell_type": "code",
   "execution_count": 7,
   "id": "d20f7584-d633-4a15-8366-2a78599d8427",
   "metadata": {},
   "outputs": [
    {
     "name": "stdout",
     "output_type": "stream",
     "text": [
      "二手房数据异常值检测（按区块）:\n",
      "异常值总数: 179\n",
      "\n",
      "各区块异常值信息:\n",
      "万柳: 异常值范围 [69262.82, 226442.31], 异常值数量: 131\n",
      "苏州桥: 异常值范围 [46748.45, 109257.54], 异常值数量: 8\n",
      "北太平庄: 异常值范围 [41773.18, 138846.09], 异常值数量: 13\n",
      "世纪城: 异常值范围 [66559.85, 161429.94], 异常值数量: 27\n",
      "\n",
      "异常值数据:\n",
      "       price    area   price_per_m2 block\n",
      "0     8950.0  395.00  226582.278481    万柳\n",
      "1    19400.0  745.00  260402.684564    万柳\n",
      "2    12500.0  545.64  229088.776483    万柳\n",
      "3     9300.0  381.00  244094.488189    万柳\n",
      "4     9800.0  375.00  261333.333333    万柳\n",
      "..       ...     ...            ...   ...\n",
      "174   8000.0  494.34  161831.937533   世纪城\n",
      "175   3100.0  188.08  164823.479370   世纪城\n",
      "176   1030.0  156.39   65860.988554   世纪城\n",
      "177   5300.0  289.07  183346.594251   世纪城\n",
      "178   8000.0  494.34  161831.937533   世纪城\n",
      "\n",
      "[179 rows x 4 columns]\n",
      "\n",
      "==================================================\n",
      "租金数据异常值检测（按区块）:\n",
      "异常值总数: 314\n",
      "\n",
      "各区块异常值信息:\n",
      "万柳: 异常值范围 [57.93, 252.42], 异常值数量: 119\n",
      "苏州桥: 异常值范围 [35.09, 245.61], 异常值数量: 139\n",
      "北太平庄: 异常值范围 [70.45, 197.73], 异常值数量: 16\n",
      "世纪城: 异常值范围 [49.16, 184.73], 异常值数量: 40\n",
      "\n",
      "异常值数据:\n",
      "       rent  area block  rent_per_m2\n",
      "0    138000   330    万柳   418.181818\n",
      "1    120000   381    万柳   314.960630\n",
      "2    136000   330    万柳   412.121212\n",
      "3    130000   330    万柳   393.939394\n",
      "4     88000   300    万柳   293.333333\n",
      "..      ...   ...   ...          ...\n",
      "309   55000   263   世纪城   209.125475\n",
      "310   55000   296   世纪城   185.810811\n",
      "311   55000   263   世纪城   209.125475\n",
      "312   55000   263   世纪城   209.125475\n",
      "313   38000   175   世纪城   217.142857\n",
      "\n",
      "[314 rows x 4 columns]\n"
     ]
    }
   ],
   "source": [
    "def detect_outliers_iqr_by_block(df, column, block_column):\n",
    "    \"\"\"对每个区块使用IQR方法检测异常值\"\"\"\n",
    "    outliers_list = []\n",
    "    bounds_info = {}\n",
    "    \n",
    "    # 获取所有区块\n",
    "    blocks = df[block_column].unique()\n",
    "    \n",
    "    for block in blocks:\n",
    "        block_data = df[df[block_column] == block]\n",
    "        \n",
    "        if len(block_data) < 4:  # 如果数据太少，跳过异常值检测\n",
    "            print(f\"区块 {block} 数据量不足 ({len(block_data)} 条)，跳过异常值检测\")\n",
    "            continue\n",
    "            \n",
    "        Q1 = block_data[column].quantile(0.25)\n",
    "        Q3 = block_data[column].quantile(0.75)\n",
    "        IQR = Q3 - Q1\n",
    "        \n",
    "        # 如果IQR为0，使用标准差方法\n",
    "        if IQR == 0:\n",
    "            mean = block_data[column].mean()\n",
    "            std = block_data[column].std()\n",
    "            lower_bound = mean - 2 * std\n",
    "            upper_bound = mean + 2 * std\n",
    "        else:\n",
    "            lower_bound = Q1 - 1.5 * IQR\n",
    "            upper_bound = Q3 + 1.5 * IQR\n",
    "        \n",
    "        block_outliers = block_data[(block_data[column] < lower_bound) | (block_data[column] > upper_bound)]\n",
    "        \n",
    "        if not block_outliers.empty:\n",
    "            outliers_list.append(block_outliers)\n",
    "        \n",
    "        bounds_info[block] = {\n",
    "            'lower_bound': lower_bound,\n",
    "            'upper_bound': upper_bound,\n",
    "            'outlier_count': len(block_outliers)\n",
    "        }\n",
    "    \n",
    "    # 合并所有异常值\n",
    "    if outliers_list:\n",
    "        all_outliers = pd.concat(outliers_list, ignore_index=True)\n",
    "    else:\n",
    "        all_outliers = pd.DataFrame()\n",
    "    \n",
    "    return all_outliers, bounds_info\n",
    "\n",
    "# 检测二手房数据的异常值（按区块）\n",
    "print(\"二手房数据异常值检测（按区块）:\")\n",
    "esf_outliers_by_block, esf_bounds_info = detect_outliers_iqr_by_block(esf_df, 'price_per_m2', 'block')\n",
    "\n",
    "print(f\"异常值总数: {len(esf_outliers_by_block)}\")\n",
    "print(\"\\n各区块异常值信息:\")\n",
    "for block, info in esf_bounds_info.items():\n",
    "    print(f\"{block}: 异常值范围 [{info['lower_bound']:.2f}, {info['upper_bound']:.2f}], 异常值数量: {info['outlier_count']}\")\n",
    "\n",
    "if not esf_outliers_by_block.empty:\n",
    "    print(\"\\n异常值数据:\")\n",
    "    print(esf_outliers_by_block)\n",
    "else:\n",
    "    print(\"\\n无异常值\")\n",
    "\n",
    "# 检测租金数据的异常值（按区块）\n",
    "print(\"\\n\" + \"=\" * 50)\n",
    "print(\"租金数据异常值检测（按区块）:\")\n",
    "rent_outliers_by_block, rent_bounds_info = detect_outliers_iqr_by_block(rent_df, 'rent_per_m2', 'block')\n",
    "\n",
    "print(f\"异常值总数: {len(rent_outliers_by_block)}\")\n",
    "print(\"\\n各区块异常值信息:\")\n",
    "for block, info in rent_bounds_info.items():\n",
    "    print(f\"{block}: 异常值范围 [{info['lower_bound']:.2f}, {info['upper_bound']:.2f}], 异常值数量: {info['outlier_count']}\")\n",
    "\n",
    "if not rent_outliers_by_block.empty:\n",
    "    print(\"\\n异常值数据:\")\n",
    "    print(rent_outliers_by_block)\n",
    "else:\n",
    "    print(\"\\n无异常值\")"
   ]
  },
  {
   "cell_type": "markdown",
   "id": "5cb4e6be-1781-42f8-a54c-064a709bcf2a",
   "metadata": {},
   "source": [
    "#### 3.3.4 compute price_to_rent_ratio for each block"
   ]
  },
  {
   "cell_type": "code",
   "execution_count": 8,
   "id": "150a3f25-6d50-48e6-bb3d-7909aa4b26cb",
   "metadata": {},
   "outputs": [
    {
     "name": "stdout",
     "output_type": "stream",
     "text": [
      "直接使用数据中位数\n",
      "==================================================\n",
      "各区块二手房价（元/平方）中位数:\n",
      "万柳: 141870.97\n",
      "世纪城: 110414.67\n",
      "北太平庄: 87341.33\n",
      "苏州桥: 78821.66\n",
      "==================================================\n",
      "各区块租金（元/平方）中位数:\n",
      "万柳: 151.90\n",
      "世纪城: 108.84\n",
      "北太平庄: 132.08\n",
      "苏州桥: 136.00\n",
      "==================================================\n",
      "各区块价格租金比 (月):\n",
      "万柳: 933.98\n",
      "世纪城: 1014.43\n",
      "北太平庄: 661.30\n",
      "苏州桥: 579.57\n"
     ]
    }
   ],
   "source": [
    "esf_median = esf_df.groupby('block')['price_per_m2'].median()\n",
    "rent_median = rent_df.groupby('block')['rent_per_m2'].median()\n",
    "\n",
    "price_rent_ratio = {}\n",
    "for block in esf_median.index:\n",
    "    if block in rent_median.index:\n",
    "        ratio = esf_median[block] / rent_median[block]\n",
    "        price_rent_ratio[block] = ratio\n",
    "\n",
    "print('直接使用数据中位数')\n",
    "print('='*50)\n",
    "print('各区块二手房价（元/平方）中位数:')\n",
    "for block, price in esf_median.items():\n",
    "    print(f\"{block}: {price:.2f}\")\n",
    "print('='*50)\n",
    "print('各区块租金（元/平方）中位数:')\n",
    "for block, rent in rent_median.items():\n",
    "    print(f\"{block}: {rent:.2f}\")\n",
    "print('='*50)\n",
    "print(\"各区块价格租金比 (月):\")\n",
    "for block, ratio in price_rent_ratio.items():\n",
    "    print(f\"{block}: {ratio:.2f}\")"
   ]
  },
  {
   "cell_type": "markdown",
   "id": "f24583ba-3e5b-4e46-9390-c6334ab07690",
   "metadata": {},
   "source": [
    "#### 3.3.5 Figure A"
   ]
  },
  {
   "cell_type": "code",
   "execution_count": 9,
   "id": "5ff599e2-15f7-4e51-a8c6-62b1d8e16452",
   "metadata": {
    "scrolled": true
   },
   "outputs": [],
   "source": [
    "def plot_price_rent_ratio(ratio_dict, title, color='darkblue', figsize=(5,3)):\n",
    "    \"\"\"\n",
    "    ratio_dict: 价格租金比字典\n",
    "    title: 图表标题\n",
    "    color: 柱状图颜色\n",
    "    figsize: 图表尺寸\n",
    "    \"\"\"\n",
    "    plt.figure(figsize=figsize)\n",
    "    blocks = list(ratio_dict.keys())\n",
    "    ratios = list(ratio_dict.values())\n",
    "\n",
    "    bars = plt.bar(blocks, ratios, color=color, alpha=0.7)\n",
    "    \n",
    "    # 添加数值标签\n",
    "    for bar, ratio in zip(bars, ratios):\n",
    "        plt.text(bar.get_x() + bar.get_width()/2, bar.get_height() + 5, \n",
    "                 f'{ratio:.1f}', ha='center', va='bottom')\n",
    "    \n",
    "    plt.axhline(y=200, color='red', linestyle='--', linewidth=2, label='全球公平值 (200)')\n",
    "    plt.ylabel('价格租金比 (月)', fontsize=12)\n",
    "    plt.title(title, fontsize=14, fontweight='bold')\n",
    "    plt.legend()\n",
    "    plt.tight_layout()\n",
    "    plt.show()"
   ]
  },
  {
   "cell_type": "code",
   "execution_count": 10,
   "id": "812c63a1-10af-4e16-8a53-bc1a51d3cb04",
   "metadata": {
    "scrolled": true
   },
   "outputs": [
    {
     "data": {
      "image/png": "[encoded data removed]",
      "text/plain": [
       "<Figure size 500x500 with 1 Axes>"
      ]
     },
     "metadata": {},
     "output_type": "display_data"
    }
   ],
   "source": [
    "plot_price_rent_ratio(price_rent_ratio, 'Figure A', 'darkblue', (5,5))"
   ]
  },
  {
   "cell_type": "markdown",
   "id": "37979702-88dd-4ef9-b113-5a4d67a3beda",
   "metadata": {},
   "source": [
    "## 3.4 Data Science Modeling"
   ]
  },
  {
   "cell_type": "markdown",
   "id": "f0bb9fa4-7de4-43c5-8a61-ed9a04ee8016",
   "metadata": {},
   "source": [
    "#### 3.4.1 model"
   ]
  },
  {
   "cell_type": "code",
   "execution_count": 11,
   "id": "2e2c8dd5-3fed-41f4-bf96-7fa55d603780",
   "metadata": {},
   "outputs": [
    {
     "name": "stdout",
     "output_type": "stream",
     "text": [
      "模型1: 预测 price_per_m2\n",
      "模型1 R²: 0.5337\n",
      "模型1系数: 截距=105793.80, m2=225.51, location=-20260.42\n",
      "==================================================\n",
      "模型2: 预测 rent_per_m2\n",
      "模型2 R²: 0.0580\n",
      "模型2系数: 截距=124.21, m2=0.17, location=1.49\n"
     ]
    }
   ],
   "source": [
    "from sklearn.linear_model import LinearRegression\n",
    "from sklearn.preprocessing import LabelEncoder\n",
    "from sklearn.metrics import r2_score\n",
    "\n",
    "# 将区块名称编码为数值\n",
    "le = LabelEncoder()\n",
    "\n",
    "esf_df_encoded = esf_df.copy()\n",
    "esf_df_encoded['block_encoded'] = le.fit_transform(esf_df['block'])\n",
    "\n",
    "rent_df_encoded = rent_df.copy()\n",
    "rent_df_encoded['block_encoded'] = le.fit_transform(rent_df['block'])\n",
    "\n",
    "# 建立模型1: price_per_m2 = β0 + β1*m2 + β2*location + ε\n",
    "print(\"模型1: 预测 price_per_m2\")\n",
    "X1 = esf_df_encoded[['area', 'block_encoded']]\n",
    "y1 = esf_df_encoded['price_per_m2']\n",
    "\n",
    "model1 = LinearRegression()\n",
    "model1.fit(X1, y1)\n",
    "y1_pred = model1.predict(X1)\n",
    "\n",
    "r2_1 = r2_score(y1, y1_pred)\n",
    "print(f\"模型1 R²: {r2_1:.4f}\")\n",
    "print(f\"模型1系数: 截距={model1.intercept_:.2f}, m2={model1.coef_[0]:.2f}, location={model1.coef_[1]:.2f}\")\n",
    "\n",
    "# 建立模型2: rent_per_m2 = β0 + β1*m2 + β2*location + ε\n",
    "print(\"=\" * 50)\n",
    "print(\"模型2: 预测 rent_per_m2\")\n",
    "X2 = rent_df_encoded[['area', 'block_encoded']]\n",
    "y2 = rent_df_encoded['rent_per_m2']\n",
    "\n",
    "model2 = LinearRegression()\n",
    "model2.fit(X2, y2)\n",
    "y2_pred = model2.predict(X2)\n",
    "\n",
    "r2_2 = r2_score(y2, y2_pred)\n",
    "print(f\"模型2 R²: {r2_2:.4f}\")\n",
    "print(f\"模型2系数: 截距={model2.intercept_:.2f}, m2={model2.coef_[0]:.2f}, location={model2.coef_[1]:.2f}\")"
   ]
  },
  {
   "cell_type": "markdown",
   "id": "36aaba81-7d99-4cb6-bd48-96d7ea154025",
   "metadata": {},
   "source": [
    "#### 3.4.2 prediction"
   ]
  },
  {
   "cell_type": "code",
   "execution_count": 17,
   "id": "5925eb8c-771b-474c-9d80-54f53e3cf768",
   "metadata": {},
   "outputs": [
    {
     "name": "stdout",
     "output_type": "stream",
     "text": [
      "使用简单线性模型（model 1 &2 ）\n",
      "==================================================\n",
      "预测的各区块价格租金比 (月):\n",
      "万柳: 926.33\n",
      "世纪城: 844.11\n",
      "北太平庄: 597.58\n",
      "苏州桥: 465.08\n"
     ]
    }
   ],
   "source": [
    "esf_df_encoded['linear_pred_rentperm2'] = model2.predict(X1)\n",
    "rent_df_encoded['linear_pred_priceperm2'] = model1.predict(X2)\n",
    "\n",
    "esf_df_encoded['linear_pred_pricetorent'] = esf_df_encoded['price_per_m2']/esf_df_encoded['linear_pred_rentperm2']\n",
    "rent_df_encoded['linear_pred_pricetorent'] = rent_df_encoded['linear_pred_priceperm2']/rent_df_encoded['rent_per_m2']\n",
    "\n",
    "print('使用简单线性模型（model 1 &2 ）')\n",
    "print('='*50)\n",
    "\n",
    "price_rent_ratio_pred = pd.concat([esf_df_encoded[['block','linear_pred_pricetorent']], \n",
    "                               rent_df_encoded[['block','linear_pred_pricetorent']]\n",
    "                              ]).groupby('block')['linear_pred_pricetorent'].median()\n",
    "price_rent_ratio_pred = price_rent_ratio_pred.to_dict()\n",
    "\n",
    "print('预测的各区块价格租金比 (月):')\n",
    "for block, ratio in price_rent_ratio_pred.items():\n",
    "    print(f\"{block}: {ratio:.2f}\")"
   ]
  },
  {
   "cell_type": "markdown",
   "id": "2a9502a5-d3a4-4571-ad74-7ccc1a494d7a",
   "metadata": {},
   "source": [
    "#### 3.4.3 Figure B"
   ]
  },
  {
   "cell_type": "code",
   "execution_count": 20,
   "id": "f416facb-4b7e-48b9-9d57-6cbe41579c0a",
   "metadata": {},
   "outputs": [
    {
     "data": {
      "image/png": "[encoded data removed]",
      "text/plain": [
       "<Figure size 500x500 with 1 Axes>"
      ]
     },
     "metadata": {},
     "output_type": "display_data"
    }
   ],
   "source": [
    "plot_price_rent_ratio(price_rent_ratio_pred, 'Figure B', 'purple', (5,5))"
   ]
  },
  {
   "cell_type": "markdown",
   "id": "50e1c32b-8eac-4783-8d27-2860fb7e23e9",
   "metadata": {},
   "source": [
    "## 3.5 Data Science Modeling PRO MAX"
   ]
  },
  {
   "cell_type": "markdown",
   "id": "2ea37593-ffa3-4e18-a881-ddb82338d621",
   "metadata": {},
   "source": [
    "#### 3.5.1 model PRO max"
   ]
  },
  {
   "cell_type": "code",
   "execution_count": 22,
   "id": "c33dc529-2706-4c68-a07f-7525422d9a50",
   "metadata": {},
   "outputs": [
    {
     "name": "stdout",
     "output_type": "stream",
     "text": [
      "模型1+: PRO max 预测 price_per_m2\n",
      "R²: 0.6410\n",
      "       Variable    Coefficient\n",
      "0     Intercept  113206.339258\n",
      "1          area     -21.350450\n",
      "2      location   -2675.297957\n",
      "3  area_squared       1.535667\n",
      "4    area_cubed      -0.001855\n",
      "5      interact    -156.771330\n",
      "==================================================\n",
      "模型2+: PRO max 预测 rent_per_m2\n",
      "R²: 0.3342\n",
      "       Variable   Coefficient\n",
      "0     Intercept  1.078092e+02\n",
      "1          area  3.097557e-01\n",
      "2      location  3.431377e+01\n",
      "3  area_squared  3.767621e-04\n",
      "4    area_cubed -3.975275e-07\n",
      "5      interact -4.760127e-01\n"
     ]
    }
   ],
   "source": [
    "esf_df_encoded['area**2'] = esf_df_encoded['area'] ** 2\n",
    "esf_df_encoded['area**3'] = esf_df_encoded['area'] ** 3\n",
    "esf_df_encoded['interact'] = esf_df_encoded['area'] * esf_df_encoded['block_encoded']\n",
    "\n",
    "rent_df_encoded['area**2'] = rent_df_encoded['area'] ** 2\n",
    "rent_df_encoded['area**3'] = rent_df_encoded['area'] ** 3\n",
    "rent_df_encoded['interact'] = rent_df_encoded['area'] * rent_df_encoded['block_encoded']\n",
    "\n",
    "# 建立模型1+: price_per_m2 = β0 + β1*m2 + β2*location + β3*m2^2 + β4*m2^3 + β5*m2*location + ε\n",
    "print(\"模型1+: PRO max 预测 price_per_m2\")\n",
    "X3 = esf_df_encoded[['area', 'block_encoded', 'area**2', 'area**3', 'interact']]\n",
    "# X3 = esf_df_encoded[['area', 'block_encoded', 'area**2', 'interact']]\n",
    "y3 = esf_df_encoded['price_per_m2']\n",
    "\n",
    "model3 = LinearRegression()\n",
    "model3.fit(X3, y3)\n",
    "y3_pred = model3.predict(X3)\n",
    "\n",
    "r2_3 = r2_score(y3, y3_pred)\n",
    "print(f\"R²: {r2_3:.4f}\")\n",
    "coef_df_3 = pd.DataFrame({\n",
    "    'Variable': ['Intercept', 'area', 'location', 'area_squared', 'area_cubed', 'interact'],\n",
    "    'Coefficient': [model3.intercept_] + list(model3.coef_)\n",
    "})\n",
    "print(coef_df_3)\n",
    "\n",
    "# 建立模型2+: rent_per_m2 = β0 + β1*m2 + β2*location + β3*m2^2 + β4*m2^3 + β5*m2*location + ε\n",
    "print(\"=\" * 50)\n",
    "print(\"模型2+: PRO max 预测 rent_per_m2\")\n",
    "X4 = rent_df_encoded[['area', 'block_encoded', 'area**2', 'area**3', 'interact']]\n",
    "y4 = rent_df_encoded['rent_per_m2']\n",
    "\n",
    "model4 = LinearRegression()\n",
    "model4.fit(X4, y4)\n",
    "y4_pred = model4.predict(X4)\n",
    "\n",
    "r2_4 = r2_score(y4, y4_pred)\n",
    "print(f\"R²: {r2_4:.4f}\")\n",
    "coef_df_4 = pd.DataFrame({\n",
    "    'Variable': ['Intercept', 'area', 'location', 'area_squared', 'area_cubed', 'interact'],\n",
    "    'Coefficient': [model4.intercept_] + list(model4.coef_)\n",
    "})\n",
    "print(coef_df_4)"
   ]
  },
  {
   "cell_type": "markdown",
   "id": "1e3ed89f-cf66-4bca-b7ed-7cbc77250129",
   "metadata": {},
   "source": [
    "#### 3.5.2 prediction PRO max"
   ]
  },
  {
   "cell_type": "code",
   "execution_count": 24,
   "id": "3768f982-8bb8-4c8f-bbb9-83e2a9f6cc09",
   "metadata": {},
   "outputs": [
    {
     "name": "stdout",
     "output_type": "stream",
     "text": [
      "使用加入非线性项的模型（model 1+ & 2+ ）\n",
      "==================================================\n",
      "预测的各区块价格租金比 (月):\n",
      "万柳: 898.58\n",
      "世纪城: 949.72\n",
      "北太平庄: 702.76\n",
      "苏州桥: 590.70\n"
     ]
    }
   ],
   "source": [
    "esf_df_encoded['non_linear_pred_rentperm2'] = model4.predict(X3)\n",
    "rent_df_encoded['non_linear_pred_priceperm2'] = model3.predict(X4)\n",
    "\n",
    "esf_df_encoded['non_linear_pred_pricetorent'] = esf_df_encoded['price_per_m2']/esf_df_encoded['non_linear_pred_rentperm2']\n",
    "rent_df_encoded['non_linear_pred_pricetorent'] = rent_df_encoded['non_linear_pred_priceperm2']/rent_df_encoded['rent_per_m2']\n",
    "\n",
    "print('使用加入非线性项的模型（model 1+ & 2+ ）')\n",
    "print('='*50)\n",
    "\n",
    "price_rent_ratio_pred_pro = pd.concat([esf_df_encoded[['block','non_linear_pred_pricetorent']], \n",
    "                               rent_df_encoded[['block','non_linear_pred_pricetorent']]\n",
    "                              ]).groupby('block')['non_linear_pred_pricetorent'].median()\n",
    "price_rent_ratio_pred_pro = price_rent_ratio_pred_pro.to_dict()\n",
    "\n",
    "print(\"预测的各区块价格租金比 (月):\")\n",
    "for block, ratio in price_rent_ratio_pred_pro.items():\n",
    "    print(f\"{block}: {ratio:.2f}\")"
   ]
  },
  {
   "cell_type": "markdown",
   "id": "c43c45e5-0ff9-4aa4-a083-5c26e1d01370",
   "metadata": {},
   "source": [
    "#### 3.5.3 Figure C"
   ]
  },
  {
   "cell_type": "code",
   "execution_count": 25,
   "id": "e429824e-d424-4f1b-97a9-f60d77f1a94e",
   "metadata": {},
   "outputs": [
    {
     "data": {
      "image/png": "[encoded data removed]",
      "text/plain": [
       "<Figure size 500x500 with 1 Axes>"
      ]
     },
     "metadata": {},
     "output_type": "display_data"
    }
   ],
   "source": [
    "plot_price_rent_ratio(price_rent_ratio_pred_pro, 'Figure C', 'skyblue', (5,5))"
   ]
  },
  {
   "cell_type": "markdown",
   "id": "ec6004f0-6dae-4762-8389-1c1ac48ea573",
   "metadata": {},
   "source": [
    "### Conclusion"
   ]
  },
  {
   "cell_type": "markdown",
   "id": "f2dd203e-47b7-4ec4-8e90-78a92f2fe44b",
   "metadata": {},
   "source": [
    "##### 在数据收集中，样本大小可能因区块而异（例如，某些区块的响应数据较少）。如果某个区块的样本大小较小，直接计算的中位数（方法一）可能不稳定，容易受异常值或随机波动的影响，导致估计不可靠。\n",
    "##### 而模型预测方法（方法二和方法三）利用所有数据来估计参数构建了预测模型，通过预测的单位租金、单位房价信息扩充了样本（如单位房价样本量= 原样本量 ＋ 预测样本量 = esf_df数据量 + rent_df数据量），从而提供更稳定的估计。两相比较，方法三由于加入更多的变量，拟合效果更好（R²更高），可以认为预测结果更为可靠。"
   ]
  },
  {
   "cell_type": "markdown",
   "id": "91d69cbf-b697-41db-8f01-a854d1eba068",
   "metadata": {},
   "source": [
    "##### 因此我认为本次作业中，方法三（Figure C）的价格租金比更可信。"
   ]
  }
 ],
 "metadata": {
  "kernelspec": {
   "display_name": "Python 3 (ipykernel)",
   "language": "python",
   "name": "python3"
  },
  "language_info": {
   "codemirror_mode": {
    "name": "ipython",
    "version": 3
   },
   "file_extension": ".py",
   "mimetype": "text/x-python",
   "name": "python",
   "nbconvert_exporter": "python",
   "pygments_lexer": "ipython3",
   "version": "3.13.5"
  }
 },
 "nbformat": 4,
 "nbformat_minor": 5
}
