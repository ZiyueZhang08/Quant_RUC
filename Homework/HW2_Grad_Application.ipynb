{
 "cells": [
  {
   "cell_type": "markdown",
   "id": "aff16843-958d-433c-8768-ac583b3446b1",
   "metadata": {},
   "source": [
    "# University Applications Letters Generator \n",
    "\n",
    "- Purpose: when we try to apply graduate schools, the statement of purpose will take us tremendous time. If we turn to the application agencies, they will charge tens of thousands of CNY. Also, the agencies always make ***mistakes***.\n",
    "\n",
    "- Work:  use python to generate 90 copies of state of purpose efficiently\n",
    "\n",
    "- Details:\n",
    "    - step1 : find a application letter template by using online\n",
    "    - step2 : replace the personal information with your own personal information to get a `MS Word template` (one pager)\n",
    "    - step3 : create a `excel list` of 30 universities from econ department ranking by and only keep the university names\n",
    "    (https://ideas.repec.org/top/top.econdept.html, 10 from top 30, 10 from top 60, and 10 from top 90)\n",
    "    - step4: create a `excel list` of 3 interested research areas from (https://www.scmor.com/view/10554) (economics, management, finance, information management or etc.)\n",
    "    - step5 : add the `excel list` from step4 of top journals for each research areas you selected above (3 for each area)\n",
    "    - step6 : add the `excel list` from step4 of the skills you search from (Glassdoor Job)[https://www.glassdoor.com.hk/Job/index.htm]\n",
    "    - step7 : Loop over the two lists aforementioned to fill the template.\n",
    "    - step8 : use docxtpl to generate the MS Word document\n",
    "    \n",
    "    - step9 : use docx2pdf to generate the PDF document (only for the windows users)\n",
    "    - step10 : create a subdir named \"HW_School_Application\" under your home dir and upload your `your codes, excel list, Word template and only 1 copy of PDF or WORD` to ***GitHub***  by next class "
   ]
  },
  {
   "cell_type": "markdown",
   "id": "ce1a646a",
   "metadata": {},
   "source": [
    "Example:\n",
    "    \n",
    "Dear Admission Committee,\n",
    "\n",
    "My name is `Lei Ge`, and I am pleased to apply for the `Master of Finance program` at `Renmin University of China`.\n",
    "\n",
    "In my free time, I enjoy reading top-tier academic research to stay updated with the latest advancements in `finance`. I occasionally study articles from leading ABS 4+ rated journals such as the `Review of Financial Studies (RES), Journal of Finance (JF), and Management Science (MS)`, among others. This habit not only deepens my understanding of theoretical and empirical approaches in finance but also sharpens my ability to critically analyze complex economic phenomena.\n",
    "\n",
    "I want to be a `quant researcher`. To achive my dream, I have practical skills such as `Python, SQL, Math, PowerBI, Tableau and etc`. \n",
    "\n",
    "I am particularly drawn to Renmin University of China due to its strong academic environment and research-oriented approach. \n",
    "\n",
    "Thank you for considering my application. I am eager to contribute to and benefit from the rigorous academic culture at `Renmin University of China`.\n",
    "\n",
    "Sincerely,\n",
    "\n",
    "Lei Ge\n",
    "\n",
    "\n",
    "\n",
    "\n",
    "\n",
    "\n",
    "\n",
    "- TOOLS: function, loop, docxtpl, docx2pdf\n",
    "- Results: you get a 90 copies of statement of purpose"
   ]
  },
  {
   "cell_type": "code",
   "execution_count": null,
   "id": "d0152190-007a-4e7f-8ecd-afd09bccd183",
   "metadata": {},
   "outputs": [],
   "source": []
  }
 ],
 "metadata": {
  "kernelspec": {
   "display_name": "Python 3 (ipykernel)",
   "language": "python",
   "name": "python3"
  },
  "language_info": {
   "codemirror_mode": {
    "name": "ipython",
    "version": 3
   },
   "file_extension": ".py",
   "mimetype": "text/x-python",
   "name": "python",
   "nbconvert_exporter": "python",
   "pygments_lexer": "ipython3",
   "version": "3.9.13"
  }
 },
 "nbformat": 4,
 "nbformat_minor": 5
}
