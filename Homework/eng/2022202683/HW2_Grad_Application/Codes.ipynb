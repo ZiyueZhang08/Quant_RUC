{
 "cells": [
  {
   "cell_type": "code",
   "execution_count": 13,
   "id": "ab322b19-ea81-4a52-9b40-6d36461ff5fd",
   "metadata": {},
   "outputs": [],
   "source": [
    "import pandas as pd\n",
    "from docxtpl import DocxTemplate\n",
    "from pathlib import Path\n",
    "import platform\n",
    "\n",
    "# ==== 设置路径 ====\n",
    "desktop = Path.home() / \"/Users/Peiyao_Jin\"\n",
    "tpl_path  = Path(\"/Users/Peiyao_Jin/Desktop/HW2_Grad_Application/application_letter_template.docx\")\n",
    "univ_path = Path(\"/Users/Peiyao_Jin/Desktop/HW2_Grad_Application/universities.xlsx\")\n",
    "area_path = Path(\"/Users/Peiyao_Jin/Desktop/HW2_Grad_Application/Area_journals_jobs_skills.xlsx\")\n",
    "out_dir   = Path(\"/Users/Peiyao_Jin/Desktop/HW2_Grad_Application/outputs\")\n",
    "out_dir.mkdir(exist_ok=True)\n",
    "\n",
    "# ==== 读取Excel ====\n",
    "unis  = pd.read_excel(univ_path).iloc[:,0].dropna().tolist()\n",
    "areas = pd.read_excel(area_path).to_dict(\"records\")[:3]   # 只取3个研究方向\n",
    "\n",
    "# ==== 循环生成 ====\n",
    "for u in unis:\n",
    "    for a in areas:\n",
    "        ctx = {\n",
    "            \"university_names\": u,\n",
    "            \"interested_research_areas\": a.get(\"interested_research_areas\",\"\"),\n",
    "            \"top_journals\": a.get(\"top_journals\",\"\"),\n",
    "            \"interested_jobs\": a.get(\"interested_jobs\",\"\"),\n",
    "            \"skills\": a.get(\"skills\",\"\")\n",
    "        }\n",
    "        doc = DocxTemplate(str(tpl_path))\n",
    "        doc.render(ctx)\n",
    "        fname = f\"SOP_{u.replace('/','-')}_{a.get('interested_research_areas','')}.docx\"\n",
    "        doc.save(out_dir / fname)"
   ]
  },
  {
   "cell_type": "code",
   "execution_count": 5,
   "id": "593dfaaa-a0fe-418c-bcd3-3dfad54de1e4",
   "metadata": {},
   "outputs": [
    {
     "name": "stdout",
     "output_type": "stream",
     "text": [
      "Collecting docxtpl\n",
      "  Downloading docxtpl-0.20.1-py3-none-any.whl.metadata (9.4 kB)\n",
      "Collecting python-docx>=1.1.1 (from docxtpl)\n",
      "  Downloading python_docx-1.2.0-py3-none-any.whl.metadata (2.0 kB)\n",
      "Collecting docxcompose (from docxtpl)\n",
      "  Downloading docxcompose-1.4.0.tar.gz (20 kB)\n",
      "  Preparing metadata (setup.py) ... \u001b[?25ldone\n",
      "\u001b[?25hRequirement already satisfied: jinja2 in /opt/anaconda3/lib/python3.13/site-packages (from docxtpl) (3.1.6)\n",
      "Requirement already satisfied: lxml in /opt/anaconda3/lib/python3.13/site-packages (from docxtpl) (5.3.0)\n",
      "Requirement already satisfied: typing_extensions>=4.9.0 in /opt/anaconda3/lib/python3.13/site-packages (from python-docx>=1.1.1->docxtpl) (4.12.2)\n",
      "Requirement already satisfied: setuptools in /opt/anaconda3/lib/python3.13/site-packages (from docxcompose->docxtpl) (72.1.0)\n",
      "Requirement already satisfied: six in /opt/anaconda3/lib/python3.13/site-packages (from docxcompose->docxtpl) (1.17.0)\n",
      "Requirement already satisfied: babel in /opt/anaconda3/lib/python3.13/site-packages (from docxcompose->docxtpl) (2.16.0)\n",
      "Requirement already satisfied: MarkupSafe>=2.0 in /opt/anaconda3/lib/python3.13/site-packages (from jinja2->docxtpl) (3.0.2)\n",
      "Downloading docxtpl-0.20.1-py3-none-any.whl (20 kB)\n",
      "Downloading python_docx-1.2.0-py3-none-any.whl (252 kB)\n",
      "Building wheels for collected packages: docxcompose\n",
      "\u001b[33m  DEPRECATION: Building 'docxcompose' using the legacy setup.py bdist_wheel mechanism, which will be removed in a future version. pip 25.3 will enforce this behaviour change. A possible replacement is to use the standardized build interface by setting the `--use-pep517` option, (possibly combined with `--no-build-isolation`), or adding a `pyproject.toml` file to the source tree of 'docxcompose'. Discussion can be found at https://github.com/pypa/pip/issues/6334\u001b[0m\u001b[33m\n",
      "  Building wheel for docxcompose (setup.py) ... \u001b[?25ldone\n",
      "\u001b[?25h  Created wheel for docxcompose: filename=docxcompose-1.4.0-py3-none-any.whl size=23265 sha256=78d413eb00bf0ae15441ca5608a8f89668487bef1d9f45ce387fa6a73aeba908\n",
      "  Stored in directory: /Users/Peiyao_Jin/Library/Caches/pip/wheels/85/55/3a/fd2d62be91ca244b338415d6e6e96b4c0d85056130790f9feb\n",
      "Successfully built docxcompose\n",
      "Installing collected packages: python-docx, docxcompose, docxtpl\n",
      "\u001b[2K   \u001b[90m━━━━━━━━━━━━━━━━━━━━━━━━━━━━━━━━━━━━━━━━\u001b[0m \u001b[32m3/3\u001b[0m [docxtpl]\n",
      "Successfully installed docxcompose-1.4.0 docxtpl-0.20.1 python-docx-1.2.0\n",
      "Note: you may need to restart the kernel to use updated packages.\n"
     ]
    }
   ],
   "source": [
    "pip install docxtpl"
   ]
  },
  {
   "cell_type": "code",
   "execution_count": null,
   "id": "044ab67c-ff50-491e-9501-ddddd1c4b31c",
   "metadata": {},
   "outputs": [],
   "source": []
  }
 ],
 "metadata": {
  "kernelspec": {
   "display_name": "Python [conda env:base] *",
   "language": "python",
   "name": "conda-base-py"
  },
  "language_info": {
   "codemirror_mode": {
    "name": "ipython",
    "version": 3
   },
   "file_extension": ".py",
   "mimetype": "text/x-python",
   "name": "python",
   "nbconvert_exporter": "python",
   "pygments_lexer": "ipython3",
   "version": "3.13.5"
  }
 },
 "nbformat": 4,
 "nbformat_minor": 5
}
