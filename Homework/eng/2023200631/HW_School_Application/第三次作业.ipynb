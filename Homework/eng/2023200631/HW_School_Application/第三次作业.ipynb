{
 "cells": [
  {
   "cell_type": "code",
   "execution_count": 1,
   "id": "873c0885-2827-4322-b2b5-3b6d9da10369",
   "metadata": {
    "scrolled": true
   },
   "outputs": [
    {
     "name": "stdout",
     "output_type": "stream",
     "text": [
      "90\n",
      "\n"
     ]
    }
   ],
   "source": [
    "import os, pandas as pd\n",
    "from docxtpl import DocxTemplate\n",
    "\n",
    "os.makedirs(\"output\", exist_ok=True)\n",
    "univs   = pd.read_excel(\"university.xlsx\").squeeze().tolist()\n",
    "area_df = pd.read_excel(\"research.xlsx\")\n",
    "tpl     = DocxTemplate(\"application.docx\")\n",
    "\n",
    "print( len(univs) * len(area_df))\n",
    "\n",
    "for u in univs:\n",
    "    for _, r in area_df.iterrows():\n",
    "        context = {\n",
    "            \"University\": u,\n",
    "            \"directions\":  r['directions'],\n",
    "            \"TopJournals\":   r['TopJournals'],\n",
    "            \"Skill\":     r['Skill']\n",
    "        }\n",
    "        tpl.render(context)\n",
    "        safe_name = f\"{u}_{r.directions}\".replace(\" \", \"_\")\n",
    "        tpl.save(f\"output/{safe_name}.docx\")\n",
    "\n",
    "print(\"\")"
   ]
  },
  {
   "cell_type": "code",
   "execution_count": 3,
   "id": "1214c053-b4c5-4a05-9913-b09f9285f474",
   "metadata": {},
   "outputs": [
    {
     "name": "stdout",
     "output_type": "stream",
     "text": [
      "Defaulting to user installation because normal site-packages is not writeable\n",
      "Collecting docx2pdf\n",
      "  Downloading docx2pdf-0.1.8-py3-none-any.whl.metadata (3.3 kB)\n",
      "Requirement already satisfied: pywin32>=227 in d:\\anaconda\\lib\\site-packages (from docx2pdf) (305.1)\n",
      "Requirement already satisfied: tqdm>=4.41.0 in d:\\anaconda\\lib\\site-packages (from docx2pdf) (4.66.5)\n",
      "Requirement already satisfied: colorama in d:\\anaconda\\lib\\site-packages (from tqdm>=4.41.0->docx2pdf) (0.4.6)\n",
      "Downloading docx2pdf-0.1.8-py3-none-any.whl (6.7 kB)\n",
      "Installing collected packages: docx2pdf\n",
      "Successfully installed docx2pdf-0.1.8\n",
      "Note: you may need to restart the kernel to use updated packages.\n"
     ]
    },
    {
     "name": "stderr",
     "output_type": "stream",
     "text": [
      "  WARNING: The script docx2pdf.exe is installed in 'C:\\Users\\86130\\AppData\\Roaming\\Python\\Python312\\Scripts' which is not on PATH.\n",
      "  Consider adding this directory to PATH or, if you prefer to suppress this warning, use --no-warn-script-location.\n"
     ]
    }
   ],
   "source": [
    "pip install docx2pdf"
   ]
  },
  {
   "cell_type": "code",
   "execution_count": 4,
   "id": "83875150-f923-4f3d-96ce-253cf34b4aa1",
   "metadata": {},
   "outputs": [
    {
     "data": {
      "application/vnd.jupyter.widget-view+json": {
       "model_id": "ccc80100e3bc400eb20a4fdb2af418ae",
       "version_major": 2,
       "version_minor": 0
      },
      "text/plain": [
       "  0%|          | 0/90 [00:00<?, ?it/s]"
      ]
     },
     "metadata": {},
     "output_type": "display_data"
    }
   ],
   "source": [
    "from docx2pdf import convert\n",
    "convert(\"output\")"
   ]
  },
  {
   "cell_type": "code",
   "execution_count": 7,
   "id": "b0af7f79-f1a4-4f66-9160-a5fe3de89878",
   "metadata": {},
   "outputs": [
    {
     "name": "stdout",
     "output_type": "stream",
     "text": [
      "\n"
     ]
    }
   ],
   "source": [
    "import os\n",
    "from docx2pdf import convert\n",
    "from pathlib import Path\n",
    "\n",
    "for f in Path(\"output\").glob(\"*.docx\"):\n",
    "    os.remove(f)\n",
    "\n",
    "print(\"\")"
   ]
  },
  {
   "cell_type": "code",
   "execution_count": null,
   "id": "c3a98ab7-8cd9-4787-bf09-6a67956a894d",
   "metadata": {},
   "outputs": [],
   "source": []
  }
 ],
 "metadata": {
  "kernelspec": {
   "display_name": "Python [conda env:base] *",
   "language": "python",
   "name": "conda-base-py"
  },
  "language_info": {
   "codemirror_mode": {
    "name": "ipython",
    "version": 3
   },
   "file_extension": ".py",
   "mimetype": "text/x-python",
   "name": "python",
   "nbconvert_exporter": "python",
   "pygments_lexer": "ipython3",
   "version": "3.12.7"
  }
 },
 "nbformat": 4,
 "nbformat_minor": 5
}
