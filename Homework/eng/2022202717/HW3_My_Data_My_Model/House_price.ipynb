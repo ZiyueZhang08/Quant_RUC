{
 "cells": [
  {
   "cell_type": "code",
   "execution_count": 2,
   "id": "d3db8426-da6f-442b-8f28-66467867d51e",
   "metadata": {},
   "outputs": [
    {
     "name": "stdout",
     "output_type": "stream",
     "text": [
      "正在抓取第 1 页\n",
      "第 1 页抓到 60 条房源\n",
      "正在抓取第 2 页\n",
      "第 2 页抓到 60 条房源\n",
      "正在抓取第 3 页\n",
      "第 3 页抓到 60 条房源\n",
      "正在抓取第 4 页\n",
      "第 4 页抓到 60 条房源\n",
      "正在抓取第 5 页\n",
      "第 5 页抓到 60 条房源\n",
      "正在抓取第 6 页\n",
      "第 6 页抓到 60 条房源\n",
      "正在抓取第 7 页\n",
      "第 7 页抓到 60 条房源\n",
      "正在抓取第 8 页\n",
      "第 8 页抓到 28 条房源\n",
      "完成\n"
     ]
    }
   ],
   "source": [
    "from selenium import webdriver\n",
    "from selenium.webdriver.edge.service import Service\n",
    "from selenium.webdriver.common.by import By\n",
    "import time\n",
    "import pandas as pd\n",
    "from selenium.webdriver.support.ui import WebDriverWait\n",
    "from selenium.webdriver.support import expected_conditions as EC\n",
    "\n",
    "#设置 EdgeDriver 路径\n",
    "edge_driver_path = r\"C:\\Program Files\\edgedriver_win64\\msedgedriver.exe\" \n",
    "service = Service(edge_driver_path)\n",
    "\n",
    "# 启动 Edge\n",
    "options = webdriver.EdgeOptions()\n",
    "options.add_argument(\"--disable-blink-features=AutomationControlled\")\n",
    "\n",
    "driver = webdriver.Edge(service=service, options=options)\n",
    "\n",
    "data = []\n",
    "\n",
    "# 抓取数据\n",
    "for page in range(1, 9):\n",
    "    print(f\"正在抓取第 {page} 页\")\n",
    "    driver.get(f\"https://zhangjiakou.esf.fang.com/house-a014963/i3{page}/\") \n",
    "\n",
    "    # 显式等待\n",
    "    houses = WebDriverWait(driver, 10).until(\n",
    "        EC.presence_of_all_elements_located((By.CSS_SELECTOR, \"dl.clearfix\"))\n",
    "    )\n",
    "\n",
    "    print(f\"第 {page} 页抓到 {len(houses)} 条房源\")\n",
    "\n",
    "    # 每个房源\n",
    "    for h in houses:\n",
    "        try:\n",
    "            info_area = h.find_element(By.CSS_SELECTOR, \".tel_shop\").text.strip()\n",
    "            total_price = h.find_element(By.CSS_SELECTOR, \"dd.price_right span.red\").text.strip()\n",
    "            avg_price = h.find_element(By.CSS_SELECTOR, \"dd.price_right span:nth-child(2)\").text.strip()\n",
    "\n",
    "            # 提取面积\n",
    "            area_list = [x.strip() for x in info_area.split('|') if '㎡' in x]\n",
    "            area_number = area_list[0] if area_list else None\n",
    "            data.append({\n",
    "                \"m2\": area_number,\n",
    "                \"location\":\"下花园\",\n",
    "                \"price\": total_price,\n",
    "                \"price_per_m2\":avg_price\n",
    "            })\n",
    "    \n",
    "        except Exception as e:\n",
    "            print(\"抓取出错:\", e)\n",
    "            continue\n",
    "\n",
    "# 保存数据\n",
    "df = pd.DataFrame(data)\n",
    "df.to_csv(\"xiahuayuan_housing_price.csv\", index=False)\n",
    "\n",
    "driver.quit()\n",
    "print(\"完成\")"
   ]
  },
  {
   "cell_type": "code",
   "execution_count": null,
   "id": "f566dd84-87f0-4478-b47c-b1aa17351e66",
   "metadata": {},
   "outputs": [],
   "source": []
  }
 ],
 "metadata": {
  "kernelspec": {
   "display_name": "Python [conda env:base] *",
   "language": "python",
   "name": "conda-base-py"
  },
  "language_info": {
   "codemirror_mode": {
    "name": "ipython",
    "version": 3
   },
   "file_extension": ".py",
   "mimetype": "text/x-python",
   "name": "python",
   "nbconvert_exporter": "python",
   "pygments_lexer": "ipython3",
   "version": "3.13.5"
  }
 },
 "nbformat": 4,
 "nbformat_minor": 5
}
