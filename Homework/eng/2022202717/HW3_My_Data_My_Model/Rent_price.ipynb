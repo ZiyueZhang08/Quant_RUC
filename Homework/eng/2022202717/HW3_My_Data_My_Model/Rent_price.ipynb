{
 "cells": [
  {
   "cell_type": "code",
   "execution_count": 9,
   "id": "8dd3f828-0fac-42dd-94bc-bfeb173a5bca",
   "metadata": {},
   "outputs": [
    {
     "name": "stdout",
     "output_type": "stream",
     "text": [
      "正在抓取第 1 页\n",
      "第 1 页抓到 60 条租房\n",
      "正在抓取第 2 页\n",
      "第 2 页抓到 60 条租房\n",
      "正在抓取第 3 页\n",
      "第 3 页抓到 54 条租房\n",
      "完成\n"
     ]
    }
   ],
   "source": [
    "from selenium import webdriver\n",
    "from selenium.webdriver.edge.service import Service\n",
    "from selenium.webdriver.common.by import By\n",
    "import time\n",
    "import pandas as pd\n",
    "from selenium.webdriver.support.ui import WebDriverWait\n",
    "from selenium.webdriver.support import expected_conditions as EC\n",
    "\n",
    "# 设置 EdgeDriver 路径\n",
    "edge_driver_path = r\"C:\\Program Files\\edgedriver_win64\\msedgedriver.exe\"\n",
    "service = Service(edge_driver_path)\n",
    "\n",
    "# 启动 Edge\n",
    "options = webdriver.EdgeOptions()\n",
    "options.add_argument(\"--disable-blink-features=AutomationControlled\")\n",
    "\n",
    "driver = webdriver.Edge(service=service, options=options)\n",
    "\n",
    "data = []\n",
    "\n",
    "# 抓取数据\n",
    "for page in range(1, 4):\n",
    "    print(f\"正在抓取第 {page} 页\")\n",
    "    driver.get(f\"https://zhangjiakou.zu.fang.com/house-a014963/i3{page}/\")\n",
    "\n",
    "    # 显式等待\n",
    "    WebDriverWait(driver, 10).until(\n",
    "        EC.presence_of_element_located((By.ID, \"listBox\"))\n",
    "    )\n",
    "\n",
    "    list_box = driver.find_element(By.ID, \"listBox\")\n",
    "    rents = list_box.find_elements(By.CSS_SELECTOR, \"dl\")  \n",
    "\n",
    "    print(f\"第 {page} 页抓到 {len(rents)} 条租房\")\n",
    "\n",
    "    # 每个房源\n",
    "    for r in rents:\n",
    "        try:\n",
    "            info_area = r.find_element(By.CSS_SELECTOR, \"p.font15.mt12.bold\").text.strip()\n",
    "            total_rent = r.find_element(By.CSS_SELECTOR, \"div.moreInfo p.mt5.alingC span.price\").text.strip()\n",
    "\n",
    "            # 提取面积\n",
    "            area_list = [x.strip() for x in info_area.split('|') if '㎡' in x]\n",
    "            area_number = area_list[0] if area_list else None\n",
    "            \n",
    "             # 计算平均租金\n",
    "            if area_number and total_rent:\n",
    "                area_num = float(area_number.replace(\"㎡\", \"\"))\n",
    "                rent_num = float(total_rent)\n",
    "                avg_rent = round(rent_num / area_num, 2)\n",
    "            else:\n",
    "                avg_rent = None\n",
    "                \n",
    "            data.append({\n",
    "                \"m2\": area_number,\n",
    "                \"location\": \"下花园\",\n",
    "                \"price\": total_rent,\n",
    "                \"price_per_m2\": avg_rent\n",
    "                \n",
    "            })\n",
    "\n",
    "        except Exception as e:\n",
    "            print(\"抓取出错:\", e)\n",
    "            continue\n",
    "\n",
    "# 保存数据\n",
    "df = pd.DataFrame(data)\n",
    "df.to_csv(\"xiahuayuan_rent_price.csv\", index=False)\n",
    "\n",
    "driver.quit()\n",
    "print(\"完成\")"
   ]
  },
  {
   "cell_type": "code",
   "execution_count": null,
   "id": "24f65385-cf1e-42bd-8072-d7cd92ce01e9",
   "metadata": {},
   "outputs": [],
   "source": []
  }
 ],
 "metadata": {
  "kernelspec": {
   "display_name": "Python [conda env:base] *",
   "language": "python",
   "name": "conda-base-py"
  },
  "language_info": {
   "codemirror_mode": {
    "name": "ipython",
    "version": 3
   },
   "file_extension": ".py",
   "mimetype": "text/x-python",
   "name": "python",
   "nbconvert_exporter": "python",
   "pygments_lexer": "ipython3",
   "version": "3.13.5"
  }
 },
 "nbformat": 4,
 "nbformat_minor": 5
}
