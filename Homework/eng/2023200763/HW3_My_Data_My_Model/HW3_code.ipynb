{
 "cells": [
  {
   "cell_type": "markdown",
   "id": "6bcfca46-642e-47f1-aab4-7ee3ccc45617",
   "metadata": {},
   "source": [
    "# 3.2 Data Mining"
   ]
  },
  {
   "cell_type": "code",
   "execution_count": 1,
   "id": "c5387d89-5de9-48c0-a8b6-e500aa4c7de6",
   "metadata": {},
   "outputs": [],
   "source": [
    "# 导入 Selenium 及相关模块，用于自动化浏览器操作\n",
    "from selenium import webdriver\n",
    "from selenium.webdriver.edge.service import Service\n",
    "from selenium.webdriver.support import expected_conditions as EC\n",
    "from selenium.webdriver.common.by import By\n",
    "from selenium.common import NoSuchElementException, StaleElementReferenceException\n",
    "from selenium.webdriver.support.ui import WebDriverWait\n",
    "\n",
    "# 导入其他辅助模块\n",
    "from time import sleep\n",
    "import pandas as pd\n",
    "from io import StringIO\n",
    "from functools import partial\n",
    "import matplotlib.pyplot as plt\n",
    "from matplotlib import style\n",
    "import pandas as pd\n",
    "import numpy as np\n",
    "\n",
    "# 导入 WebDriver Manager，用于自动下载和管理 Edge 浏览器驱动\n",
    "from webdriver_manager.microsoft import EdgeChromiumDriverManager\n",
    "\n",
    "# 初始化 Edge 浏览器驱动\n",
    "driver = webdriver.Edge()\n",
    "\n",
    "# 导入建模库\n",
    "from sklearn.linear_model import LinearRegression\n",
    "from sklearn.preprocessing import PolynomialFeatures"
   ]
  },
  {
   "cell_type": "markdown",
   "id": "e22419cd-b0bd-4f97-94e8-c296e43da104",
   "metadata": {},
   "source": [
    "## 苏州桥二手房信息"
   ]
  },
  {
   "cell_type": "code",
   "execution_count": 10,
   "id": "505cbe36-844a-424a-abaf-c1f1fe6e490f",
   "metadata": {},
   "outputs": [],
   "source": [
    "# 定义要访问的网页 URL\n",
    "url_1 = 'https://esf.fang.com/'\n",
    "url_2 = 'https://zu.fang.com/'"
   ]
  },
  {
   "cell_type": "code",
   "execution_count": 11,
   "id": "1ac39ec4-c9dc-4c08-b62b-ef6f77cf9340",
   "metadata": {},
   "outputs": [],
   "source": [
    "# 打开房天下二手房首页，尝试点击“海淀”-“苏州桥”区域链接\n",
    "driver.get(url_1)\n",
    "try:\n",
    "    span = driver.find_element(By.XPATH, '/html/body/div[4]/div[3]/div[2]/div[1]/ul/li[1]/ul/li[2]/a')\n",
    "    span.click()\n",
    "except NoSuchElementException:\n",
    "    print('NoSuchElementException')\n",
    "try:\n",
    "    block = driver.find_element(By.XPATH, '/html/body/div[4]/div[3]/div[2]/div[1]/ul/li[2]/ul/li[23]/a')\n",
    "    block.click()\n",
    "except NoSuchElementException:\n",
    "    print('NoSuchElementException')"
   ]
  },
  {
   "cell_type": "code",
   "execution_count": 12,
   "id": "670572f7-39f3-4d41-8d19-cea48fcd03f8",
   "metadata": {},
   "outputs": [
    {
     "name": "stdout",
     "output_type": "stream",
     "text": [
      "没有下一页了，抓取结束\n"
     ]
    },
    {
     "data": {
      "text/html": [
       "<div>\n",
       "<style scoped>\n",
       "    .dataframe tbody tr th:only-of-type {\n",
       "        vertical-align: middle;\n",
       "    }\n",
       "\n",
       "    .dataframe tbody tr th {\n",
       "        vertical-align: top;\n",
       "    }\n",
       "\n",
       "    .dataframe thead th {\n",
       "        text-align: right;\n",
       "    }\n",
       "</style>\n",
       "<table border=\"1\" class=\"dataframe\">\n",
       "  <thead>\n",
       "    <tr style=\"text-align: right;\">\n",
       "      <th></th>\n",
       "      <th>名称</th>\n",
       "      <th>面积</th>\n",
       "      <th>总价</th>\n",
       "      <th>单价</th>\n",
       "    </tr>\n",
       "  </thead>\n",
       "  <tbody>\n",
       "    <tr>\n",
       "      <th>0</th>\n",
       "      <td>苏州桥·友谊宾馆家属院不临街中间层正规三居室三条地铁环抱</td>\n",
       "      <td>91.28㎡</td>\n",
       "      <td>720万</td>\n",
       "      <td>78878元/㎡</td>\n",
       "    </tr>\n",
       "    <tr>\n",
       "      <th>1</th>\n",
       "      <td>北三环 中关村 友谊宾馆 理工大学 人民大学 业主急售</td>\n",
       "      <td>57㎡</td>\n",
       "      <td>355万</td>\n",
       "      <td>62280元/㎡</td>\n",
       "    </tr>\n",
       "    <tr>\n",
       "      <th>2</th>\n",
       "      <td>苏州桥·三义庙·理工北门楼层南北两居</td>\n",
       "      <td>56.7㎡</td>\n",
       "      <td>398万</td>\n",
       "      <td>70194元/㎡</td>\n",
       "    </tr>\n",
       "    <tr>\n",
       "      <th>3</th>\n",
       "      <td>苏州桥·三义庙·理工北门楼层南北两居</td>\n",
       "      <td>56.7㎡</td>\n",
       "      <td>398万</td>\n",
       "      <td>70194元/㎡</td>\n",
       "    </tr>\n",
       "    <tr>\n",
       "      <th>4</th>\n",
       "      <td>苏州桥人民大学南侧三线地铁南北通透明厅</td>\n",
       "      <td>58.7㎡</td>\n",
       "      <td>480万</td>\n",
       "      <td>81771元/㎡</td>\n",
       "    </tr>\n",
       "    <tr>\n",
       "      <th>...</th>\n",
       "      <td>...</td>\n",
       "      <td>...</td>\n",
       "      <td>...</td>\n",
       "      <td>...</td>\n",
       "    </tr>\n",
       "    <tr>\n",
       "      <th>305</th>\n",
       "      <td>理工大学北东南北三面采光电梯直达视野很好已做改造</td>\n",
       "      <td>81.36㎡</td>\n",
       "      <td>780万</td>\n",
       "      <td>95870元/㎡</td>\n",
       "    </tr>\n",
       "    <tr>\n",
       "      <th>306</th>\n",
       "      <td>紫金庄园 2室1厅 东 南</td>\n",
       "      <td>82.17㎡</td>\n",
       "      <td>710万</td>\n",
       "      <td>86407元/㎡</td>\n",
       "    </tr>\n",
       "    <tr>\n",
       "      <th>307</th>\n",
       "      <td>友谊社区双南向央产两居室 安静不临街 价格合理</td>\n",
       "      <td>54.36㎡</td>\n",
       "      <td>420万</td>\n",
       "      <td>77263元/㎡</td>\n",
       "    </tr>\n",
       "    <tr>\n",
       "      <th>308</th>\n",
       "      <td>紫金庄园 3室1厅 西</td>\n",
       "      <td>179.8㎡</td>\n",
       "      <td>1300万</td>\n",
       "      <td>72303元/㎡</td>\n",
       "    </tr>\n",
       "    <tr>\n",
       "      <th>309</th>\n",
       "      <td>苏州桥人民大学南侧经典两居看房方便</td>\n",
       "      <td>58.27㎡</td>\n",
       "      <td>419万</td>\n",
       "      <td>71907元/㎡</td>\n",
       "    </tr>\n",
       "  </tbody>\n",
       "</table>\n",
       "<p>310 rows × 4 columns</p>\n",
       "</div>"
      ],
      "text/plain": [
       "                               名称      面积     总价        单价\n",
       "0    苏州桥·友谊宾馆家属院不临街中间层正规三居室三条地铁环抱  91.28㎡   720万  78878元/㎡\n",
       "1     北三环 中关村 友谊宾馆 理工大学 人民大学 业主急售     57㎡   355万  62280元/㎡\n",
       "2              苏州桥·三义庙·理工北门楼层南北两居   56.7㎡   398万  70194元/㎡\n",
       "3              苏州桥·三义庙·理工北门楼层南北两居   56.7㎡   398万  70194元/㎡\n",
       "4             苏州桥人民大学南侧三线地铁南北通透明厅   58.7㎡   480万  81771元/㎡\n",
       "..                            ...     ...    ...       ...\n",
       "305      理工大学北东南北三面采光电梯直达视野很好已做改造  81.36㎡   780万  95870元/㎡\n",
       "306                 紫金庄园 2室1厅 东 南  82.17㎡   710万  86407元/㎡\n",
       "307       友谊社区双南向央产两居室 安静不临街 价格合理  54.36㎡   420万  77263元/㎡\n",
       "308                   紫金庄园 3室1厅 西  179.8㎡  1300万  72303元/㎡\n",
       "309             苏州桥人民大学南侧经典两居看房方便  58.27㎡   419万  71907元/㎡\n",
       "\n",
       "[310 rows x 4 columns]"
      ]
     },
     "execution_count": 12,
     "metadata": {},
     "output_type": "execute_result"
    }
   ],
   "source": [
    "# 抓取二手房信息：名称、面积、总价、单价\n",
    "data = []\n",
    "\n",
    "while True:\n",
    "    wait = WebDriverWait(driver, 10)\n",
    "    house_list = wait.until(EC.presence_of_all_elements_located( \n",
    "    (By.XPATH, \"//dl[@class = 'clearfix' and @dataflag = 'bg']\") \n",
    "    ))\n",
    "    # 遍历房源条目\n",
    "    for house in house_list:\n",
    "        # 名称\n",
    "        try:\n",
    "            name = house.find_element(By.XPATH, \".//span[@class = 'tit_shop']\").text.strip()\n",
    "        except:\n",
    "            name = None\n",
    "        # 面积（平米）\n",
    "        try:\n",
    "            tel_shop = house.find_element(By.XPATH, \".//p[@class = 'tel_shop']\").text.strip()\n",
    "            size = tel_shop.split('|')[1].strip() # split按 '|' 分割，取第二项并去掉空格\n",
    "        except:\n",
    "            size = None\n",
    "        # 总价（万） \n",
    "        try:\n",
    "            total_price = house.find_element(By.XPATH, \".//dd[@class = 'price_right']/span[@class = 'red']\").text.strip()\n",
    "        except:\n",
    "            total_price = None\n",
    "        # 单价（元/平米）\n",
    "        try:\n",
    "            unit_price = house.find_element(By.XPATH, \".//dd[@class = 'price_right']/span[not(@class)]\").text.strip()\n",
    "        except:\n",
    "            unit_price = None\n",
    "        data.append({\n",
    "            '名称': name,\n",
    "            '面积': size,\n",
    "            '总价': total_price,\n",
    "            '单价': unit_price\n",
    "        })\n",
    "        \n",
    "    # 尝试点击“下一页”\n",
    "    try:\n",
    "        nextp = driver.find_element(By.XPATH, \"//a[text()='下一页']\")\n",
    "        nextp.click()\n",
    "    except NoSuchElementException:\n",
    "        print(\"没有下一页了，抓取结束\")\n",
    "        break\n",
    "\n",
    "# 生产DataFrame\n",
    "df = pd.DataFrame(data)\n",
    "df"
   ]
  },
  {
   "cell_type": "markdown",
   "id": "111e07cf-01fd-4c24-8a8d-c276db4505c0",
   "metadata": {},
   "source": [
    "## 苏州桥租房信息"
   ]
  },
  {
   "cell_type": "code",
   "execution_count": 13,
   "id": "a1f29eed-87e7-45da-b3e7-a24e32512378",
   "metadata": {},
   "outputs": [],
   "source": [
    "# 打开房天下租房首页，尝试点击“海淀”-“苏州桥”区域链接\n",
    "driver.get(url_2)\n",
    "wait = WebDriverWait(driver, 10)\n",
    "try:\n",
    "    haidian = wait.until(EC.element_to_be_clickable((By.XPATH, \"//a[text()='海淀']\")))\n",
    "    haidian.click()\n",
    "except NoSuchElementException:\n",
    "    print('NoSuchElementException')\n",
    "try:\n",
    "    suzhouqiao = wait.until(EC.element_to_be_clickable((By.XPATH, \"//a[text()='苏州桥']\")))\n",
    "    suzhouqiao.click()\n",
    "except NoSuchElementException:\n",
    "    print('NoSuchElementException')"
   ]
  },
  {
   "cell_type": "code",
   "execution_count": 14,
   "id": "83e98bf1-f4c2-404b-a13d-e323c3ce98d3",
   "metadata": {},
   "outputs": [
    {
     "name": "stdout",
     "output_type": "stream",
     "text": [
      "没有下一页了，抓取结束\n"
     ]
    },
    {
     "data": {
      "text/html": [
       "<div>\n",
       "<style scoped>\n",
       "    .dataframe tbody tr th:only-of-type {\n",
       "        vertical-align: middle;\n",
       "    }\n",
       "\n",
       "    .dataframe tbody tr th {\n",
       "        vertical-align: top;\n",
       "    }\n",
       "\n",
       "    .dataframe thead th {\n",
       "        text-align: right;\n",
       "    }\n",
       "</style>\n",
       "<table border=\"1\" class=\"dataframe\">\n",
       "  <thead>\n",
       "    <tr style=\"text-align: right;\">\n",
       "      <th></th>\n",
       "      <th>名称</th>\n",
       "      <th>面积</th>\n",
       "      <th>总价</th>\n",
       "      <th>单价</th>\n",
       "    </tr>\n",
       "  </thead>\n",
       "  <tbody>\n",
       "    <tr>\n",
       "      <th>0</th>\n",
       "      <td>整租·苏州桥·人民大学静园·3室·1厅</td>\n",
       "      <td>74㎡</td>\n",
       "      <td>15000</td>\n",
       "      <td>202.70</td>\n",
       "    </tr>\n",
       "    <tr>\n",
       "      <th>1</th>\n",
       "      <td>可短签可月付北京大学新东方海淀黄庄经典通透三居随时看</td>\n",
       "      <td>85㎡</td>\n",
       "      <td>12500</td>\n",
       "      <td>147.06</td>\n",
       "    </tr>\n",
       "    <tr>\n",
       "      <th>2</th>\n",
       "      <td>苏州桥·三义庙·低楼层·2居室·主卧</td>\n",
       "      <td>18㎡</td>\n",
       "      <td>4260</td>\n",
       "      <td>236.67</td>\n",
       "    </tr>\n",
       "    <tr>\n",
       "      <th>3</th>\n",
       "      <td>整租·苏州桥·海淀区北三环西路47号·2室·1厅</td>\n",
       "      <td>57㎡</td>\n",
       "      <td>6000</td>\n",
       "      <td>105.26</td>\n",
       "    </tr>\n",
       "    <tr>\n",
       "      <th>4</th>\n",
       "      <td>整租·苏州桥·人民大学静园·2室·1厅</td>\n",
       "      <td>58㎡</td>\n",
       "      <td>9500</td>\n",
       "      <td>163.79</td>\n",
       "    </tr>\n",
       "    <tr>\n",
       "      <th>...</th>\n",
       "      <td>...</td>\n",
       "      <td>...</td>\n",
       "      <td>...</td>\n",
       "      <td>...</td>\n",
       "    </tr>\n",
       "    <tr>\n",
       "      <th>283</th>\n",
       "      <td>整租·上地·友谊家园·1室</td>\n",
       "      <td>44㎡</td>\n",
       "      <td>4500</td>\n",
       "      <td>102.27</td>\n",
       "    </tr>\n",
       "    <tr>\n",
       "      <th>284</th>\n",
       "      <td>整租·苏州桥·西颐北馆·2室</td>\n",
       "      <td>60㎡</td>\n",
       "      <td>4999</td>\n",
       "      <td>83.32</td>\n",
       "    </tr>\n",
       "    <tr>\n",
       "      <th>285</th>\n",
       "      <td>整租·上地·友谊家园·2室</td>\n",
       "      <td>74㎡</td>\n",
       "      <td>6000</td>\n",
       "      <td>81.08</td>\n",
       "    </tr>\n",
       "    <tr>\n",
       "      <th>286</th>\n",
       "      <td>整租·苏州桥·人民大学静园·1室</td>\n",
       "      <td>36㎡</td>\n",
       "      <td>7500</td>\n",
       "      <td>208.33</td>\n",
       "    </tr>\n",
       "    <tr>\n",
       "      <th>287</th>\n",
       "      <td>整租·人民大学静园 2室1厅 南</td>\n",
       "      <td>62㎡</td>\n",
       "      <td>11290</td>\n",
       "      <td>182.10</td>\n",
       "    </tr>\n",
       "  </tbody>\n",
       "</table>\n",
       "<p>288 rows × 4 columns</p>\n",
       "</div>"
      ],
      "text/plain": [
       "                             名称   面积     总价      单价\n",
       "0           整租·苏州桥·人民大学静园·3室·1厅  74㎡  15000  202.70\n",
       "1    可短签可月付北京大学新东方海淀黄庄经典通透三居随时看  85㎡  12500  147.06\n",
       "2            苏州桥·三义庙·低楼层·2居室·主卧  18㎡   4260  236.67\n",
       "3      整租·苏州桥·海淀区北三环西路47号·2室·1厅  57㎡   6000  105.26\n",
       "4           整租·苏州桥·人民大学静园·2室·1厅  58㎡   9500  163.79\n",
       "..                          ...  ...    ...     ...\n",
       "283               整租·上地·友谊家园·1室  44㎡   4500  102.27\n",
       "284              整租·苏州桥·西颐北馆·2室  60㎡   4999   83.32\n",
       "285               整租·上地·友谊家园·2室  74㎡   6000   81.08\n",
       "286            整租·苏州桥·人民大学静园·1室  36㎡   7500  208.33\n",
       "287            整租·人民大学静园 2室1厅 南  62㎡  11290  182.10\n",
       "\n",
       "[288 rows x 4 columns]"
      ]
     },
     "execution_count": 14,
     "metadata": {},
     "output_type": "execute_result"
    }
   ],
   "source": [
    "# 抓取租房信息：名称、面积、总价、单价\n",
    "data = []\n",
    "\n",
    "while True:\n",
    "    wait = WebDriverWait(driver, 10)\n",
    "    house_list = wait.until(EC.presence_of_all_elements_located((\n",
    "        By.XPATH, '//dl[@class = \"list hiddenMap rel\"]'\n",
    "    )))\n",
    "    for house in house_list:\n",
    "        try:\n",
    "            name = house.find_element(By.XPATH, './/p[@class = \"title\"]').text.strip()\n",
    "        except:\n",
    "            name = None\n",
    "        try:\n",
    "            ptext = house.find_element(By.XPATH, './/p[@class = \"font15 mt12 bold\"]').text.strip()\n",
    "            size = ptext.split('|')[2].strip()\n",
    "        except:\n",
    "            size = None\n",
    "        try:\n",
    "            total_price = house.find_element(By.XPATH, './/span[@class = \"price\"]').text.strip()\n",
    "        except:\n",
    "            total_price = None\n",
    "        size_num = float(size.replace('㎡', '').strip())\n",
    "        total_price_num = float(total_price.replace('元/月', '').strip())\n",
    "        unit_rent = round(total_price_num/size_num, 2) if total_price and size else None\n",
    "        data.append({\n",
    "        '名称': name,\n",
    "        '面积': size,\n",
    "        '总价': total_price,\n",
    "        '单价': unit_rent\n",
    "        })\n",
    "\n",
    "    try:\n",
    "        nextp = driver.find_element(By.XPATH, './/a[text()=\"下一页\"]')\n",
    "        nextp.click()\n",
    "    except NoSuchElementException:\n",
    "        print(\"没有下一页了，抓取结束\")\n",
    "        break\n",
    "\n",
    "df = pd.DataFrame(data)\n",
    "df"
   ]
  },
  {
   "cell_type": "markdown",
   "id": "1a316c1d-0ce9-4b5b-9edb-1fbb5cdc0598",
   "metadata": {},
   "source": [
    "# 3.3 Data Research"
   ]
  },
  {
   "cell_type": "markdown",
   "id": "9a7a9fd7-67fc-40ff-85d0-08a6192b9a45",
   "metadata": {},
   "source": [
    "## 数据整合"
   ]
  },
  {
   "cell_type": "code",
   "execution_count": 3,
   "id": "158a2387-ee60-44b8-ad91-e8975dae2c5d",
   "metadata": {},
   "outputs": [],
   "source": [
    "# 二手房\n",
    "## 读取各个板块的数据\n",
    "suzhouqiao_sh_df = pd.read_csv('data/苏州桥二手房.csv')\n",
    "wanliu_sh_df = pd.read_csv('data/万柳二手房.csv')\n",
    "beitaipingzhuang_sh_df = pd.read_csv('data/北太平庄二手房.csv')\n",
    "shijicheng_sh_df = pd.read_csv('data/世纪城二手房.csv')\n",
    "suzhouqiao_sh_df['location'] = '苏州桥'\n",
    "wanliu_sh_df['location'] = '万柳'\n",
    "beitaipingzhuang_sh_df['location'] = '北太平庄'\n",
    "shijicheng_sh_df['location'] = '世纪城'\n",
    "\n",
    "## 统一列名\n",
    "columns = ['name', 'size(㎡)', 'total_price(10thousand)', 'unit_price(yuan/㎡)', 'location']\n",
    "suzhouqiao_sh_df.columns = columns\n",
    "wanliu_sh_df.columns = columns\n",
    "beitaipingzhuang_sh_df.columns = columns\n",
    "shijicheng_sh_df.columns = columns\n",
    "\n",
    "## 数据整合\n",
    "sh_full_data = pd.concat([suzhouqiao_sh_df, wanliu_sh_df, beitaipingzhuang_sh_df, shijicheng_sh_df], ignore_index = True)\n",
    "\n",
    "\n",
    "# 租房\n",
    "suzhouqiao_rent_df = pd.read_csv('data/苏州桥租房.csv')\n",
    "wanliu_rent_df = pd.read_csv('data/万柳租房.csv')\n",
    "beitaipingzhuang_rent_df = pd.read_csv('data/北太平庄租房.csv')\n",
    "shijicheng_rent_df = pd.read_csv('data/世纪城租房.csv')\n",
    "suzhouqiao_rent_df['location'] = '苏州桥'\n",
    "wanliu_rent_df['location'] = '万柳'\n",
    "beitaipingzhuang_rent_df['location'] = '北太平庄'\n",
    "shijicheng_rent_df['location'] = '世纪城'\n",
    "\n",
    "## 统一列名\n",
    "columns = ['name', 'size(㎡)', 'rent(yuan/month)', 'unit_rent(yuan/㎡)', 'location']\n",
    "suzhouqiao_rent_df.columns = columns\n",
    "wanliu_rent_df.columns = columns\n",
    "beitaipingzhuang_rent_df.columns = columns\n",
    "shijicheng_rent_df.columns = columns\n",
    "\n",
    "## 数据整合\n",
    "rent_full_data = pd.concat([suzhouqiao_rent_df, wanliu_rent_df, beitaipingzhuang_rent_df, shijicheng_rent_df], ignore_index = True)"
   ]
  },
  {
   "cell_type": "markdown",
   "id": "52ef55aa-b3ab-452c-8f34-9554238c0922",
   "metadata": {},
   "source": [
    "## 数据描述"
   ]
  },
  {
   "cell_type": "code",
   "execution_count": 4,
   "id": "7e27d02e-57bd-43f2-a0f1-2808622dcf35",
   "metadata": {},
   "outputs": [
    {
     "name": "stdout",
     "output_type": "stream",
     "text": [
      "2903\n",
      "2989\n",
      "name                       0\n",
      "size(㎡)                    0\n",
      "total_price(10thousand)    0\n",
      "unit_price(yuan/㎡)         0\n",
      "location                   0\n",
      "dtype: int64\n",
      "name                 0\n",
      "size(㎡)              0\n",
      "rent(yuan/month)     0\n",
      "unit_rent(yuan/㎡)    0\n",
      "location             0\n",
      "dtype: int64\n",
      "name                        object\n",
      "size(㎡)                    float64\n",
      "total_price(10thousand)    float64\n",
      "unit_price(yuan/㎡)           int64\n",
      "location                    object\n",
      "dtype: object\n",
      "name                 object\n",
      "size(㎡)               int64\n",
      "rent(yuan/month)      int64\n",
      "unit_rent(yuan/㎡)     int64\n",
      "location             object\n",
      "dtype: object\n"
     ]
    }
   ],
   "source": [
    "print(len(sh_full_data))\n",
    "print(len(rent_full_data))\n",
    "# 海淀区二手房总共有3907个样本量，海淀区租房总共有2993个样本量\n",
    "\n",
    "print(sh_full_data.isnull().sum())\n",
    "print(rent_full_data.isnull().sum())\n",
    "# 每个数据集的列都没有缺失值\n",
    "\n",
    "print(sh_full_data.dtypes)\n",
    "print(rent_full_data.dtypes)\n",
    "# 房屋名称是字符串，二手房的面积和总价是浮动小数，二手房单价是整数；租房的面积、租金、单价都是整数"
   ]
  },
  {
   "cell_type": "markdown",
   "id": "7041d362-5b0b-4b23-a3d2-a1d4b089b842",
   "metadata": {},
   "source": [
    "## 计算关键指标"
   ]
  },
  {
   "cell_type": "code",
   "execution_count": 10,
   "id": "fccb5073-6e3f-4262-9efc-02639aa208ce",
   "metadata": {},
   "outputs": [],
   "source": [
    "# 二手房单价已直接从网页抓取，租房单价已在3.2计算"
   ]
  },
  {
   "cell_type": "markdown",
   "id": "14fd148b-1220-4688-b6c2-d82533effb86",
   "metadata": {},
   "source": [
    "### 苏州桥"
   ]
  },
  {
   "cell_type": "markdown",
   "id": "69d20726-95b2-4d28-a2d1-b80b7c7e94c9",
   "metadata": {},
   "source": [
    "#### 异常值判断"
   ]
  },
  {
   "cell_type": "code",
   "execution_count": 11,
   "id": "b67d11d1-ded4-461d-9201-ffdf401a8e17",
   "metadata": {},
   "outputs": [
    {
     "name": "stdout",
     "output_type": "stream",
     "text": [
      "                          name  size(㎡)  total_price(10thousand)  \\\n",
      "254  三义庙,已做了平改坡顶,不漏雨也不热,朝南向不临街    33.32                    430.0   \n",
      "261  三义庙 带客厅一居室,高楼层视野好,满二年购房成本    26.80                    410.0   \n",
      "\n",
      "     unit_price(yuan/㎡) location   z_score  \n",
      "254              129052      苏州桥  3.693616  \n",
      "261              152986      苏州桥  5.485260  \n",
      "2\n"
     ]
    }
   ],
   "source": [
    "# 二手房单价：有2个异常值\n",
    "mean_sh1 = suzhouqiao_sh_df['unit_price(yuan/㎡)'].mean()\n",
    "std_sh1 = suzhouqiao_sh_df['unit_price(yuan/㎡)'].std()\n",
    "suzhouqiao_sh_df['z_score'] = (suzhouqiao_sh_df['unit_price(yuan/㎡)'] - mean_sh1)/std_sh1\n",
    "outliers_sh1 = suzhouqiao_sh_df[np.abs(suzhouqiao_sh_df['z_score']) > 3]\n",
    "print(outliers_sh1)\n",
    "print(len(outliers_sh1))"
   ]
  },
  {
   "cell_type": "code",
   "execution_count": 12,
   "id": "cac93457-7eb1-4adb-b91e-d24c9e7b3ddf",
   "metadata": {},
   "outputs": [
    {
     "name": "stdout",
     "output_type": "stream",
     "text": [
      "6\n"
     ]
    }
   ],
   "source": [
    "# 租房单价：有6个异常值\n",
    "mean_rent1 = suzhouqiao_rent_df['unit_rent(yuan/㎡)'].mean()\n",
    "std_rent1 = suzhouqiao_rent_df['unit_rent(yuan/㎡)'].std()\n",
    "suzhouqiao_rent_df['z_score'] = (suzhouqiao_rent_df['unit_rent(yuan/㎡)'] - mean_rent1)/std_rent1\n",
    "outliers_rent1 = suzhouqiao_rent_df[np.abs(suzhouqiao_rent_df['z_score']) > 3]\n",
    "print(len(outliers_rent1))"
   ]
  },
  {
   "cell_type": "markdown",
   "id": "a4c2a7f7-98a9-46a5-a841-31437622fb62",
   "metadata": {},
   "source": [
    "#### 房价租金比（price-to-rent ratio）中位数"
   ]
  },
  {
   "cell_type": "code",
   "execution_count": 13,
   "id": "182cc9c7-b74f-4072-be5e-bfdd95353bde",
   "metadata": {},
   "outputs": [
    {
     "data": {
      "text/plain": [
       "52.46259842519685"
      ]
     },
     "execution_count": 13,
     "metadata": {},
     "output_type": "execute_result"
    }
   ],
   "source": [
    "median_sh1 = suzhouqiao_sh_df['unit_price(yuan/㎡)'].median()\n",
    "median_rent1 = suzhouqiao_rent_df['unit_rent(yuan/㎡)'].median()*12\n",
    "median_ptrr1 = median_sh1 / median_rent1\n",
    "median_ptrr1 \n"
   ]
  },
  {
   "cell_type": "markdown",
   "id": "3fa077fe-4b5c-4d1f-8ace-becb89ed7686",
   "metadata": {},
   "source": [
    "### 万柳"
   ]
  },
  {
   "cell_type": "markdown",
   "id": "e189c151-6e70-4465-bbae-488126e7eed5",
   "metadata": {},
   "source": [
    "#### 异常值判断"
   ]
  },
  {
   "cell_type": "code",
   "execution_count": 14,
   "id": "1ecdaf12-2cc3-4b83-a01f-6b097fca0344",
   "metadata": {},
   "outputs": [
    {
     "name": "stdout",
     "output_type": "stream",
     "text": [
      "1\n"
     ]
    }
   ],
   "source": [
    "# 二手房单价：有1个异常值\n",
    "mean_sh2 = wanliu_sh_df['unit_price(yuan/㎡)'].mean()\n",
    "std_sh2 = wanliu_sh_df['unit_price(yuan/㎡)'].std()\n",
    "wanliu_sh_df['z_score'] = (wanliu_sh_df['unit_price(yuan/㎡)'] - mean_sh2)/std_sh2\n",
    "outliers_sh2 = wanliu_sh_df[np.abs(wanliu_sh_df['z_score']) > 3]\n",
    "print(len(outliers_sh2))"
   ]
  },
  {
   "cell_type": "code",
   "execution_count": 15,
   "id": "b8ac2904-7794-41c6-af8d-7c8c35e94006",
   "metadata": {},
   "outputs": [
    {
     "name": "stdout",
     "output_type": "stream",
     "text": [
      "47\n"
     ]
    }
   ],
   "source": [
    "# 租房单价：有47个异常值\n",
    "mean_rent2 = wanliu_rent_df['unit_rent(yuan/㎡)'].mean()\n",
    "std_rent2 = wanliu_rent_df['unit_rent(yuan/㎡)'].std()\n",
    "wanliu_rent_df['z_score'] = (wanliu_rent_df['unit_rent(yuan/㎡)'] - mean_rent2)/std_rent2\n",
    "outliers_rent2 = wanliu_rent_df[np.abs(wanliu_rent_df['z_score'] > 3)]\n",
    "print(len(outliers_rent2))"
   ]
  },
  {
   "cell_type": "markdown",
   "id": "15a255a0-1440-42ac-946f-394848750651",
   "metadata": {},
   "source": [
    "#### 房价租金比中位数"
   ]
  },
  {
   "cell_type": "code",
   "execution_count": 16,
   "id": "0c38b48c-96ad-4e33-b19e-87403cd6aed5",
   "metadata": {},
   "outputs": [
    {
     "data": {
      "text/plain": [
       "79.30975877192982"
      ]
     },
     "execution_count": 16,
     "metadata": {},
     "output_type": "execute_result"
    }
   ],
   "source": [
    "median_sh2 = wanliu_sh_df['unit_price(yuan/㎡)'].median()\n",
    "median_rent2 = wanliu_rent_df['unit_rent(yuan/㎡)'].median()*12\n",
    "median_ptrr2 = median_sh2 / median_rent2\n",
    "median_ptrr2"
   ]
  },
  {
   "cell_type": "markdown",
   "id": "cc29b917-c183-4e5a-b120-8a9dde4d93ad",
   "metadata": {},
   "source": [
    "### 北太平庄"
   ]
  },
  {
   "cell_type": "markdown",
   "id": "3bb34079-390e-4f2c-81c7-2a16832cedff",
   "metadata": {},
   "source": [
    "#### 异常值判断"
   ]
  },
  {
   "cell_type": "code",
   "execution_count": 17,
   "id": "16857cf4-b33d-403d-a2e0-29dd59923171",
   "metadata": {},
   "outputs": [
    {
     "name": "stdout",
     "output_type": "stream",
     "text": [
      "0\n"
     ]
    }
   ],
   "source": [
    "# 二手房单价：有0个异常值\n",
    "mean_sh3 = beitaipingzhuang_sh_df['unit_price(yuan/㎡)'].mean()\n",
    "std_sh3 = beitaipingzhuang_sh_df['unit_price(yuan/㎡)'].std()\n",
    "beitaipingzhuang_sh_df['z_score'] = (beitaipingzhuang_sh_df['unit_price(yuan/㎡)'] - mean_sh3)/std_sh3\n",
    "outliers_sh3 = beitaipingzhuang_sh_df[np.abs(beitaipingzhuang_sh_df['z_score']) > 3]\n",
    "print(len(outliers_sh3))"
   ]
  },
  {
   "cell_type": "code",
   "execution_count": 18,
   "id": "2aadc1c7-6d01-47b4-9e9f-5efebb6a1b3d",
   "metadata": {},
   "outputs": [
    {
     "name": "stdout",
     "output_type": "stream",
     "text": [
      "4\n"
     ]
    }
   ],
   "source": [
    "# 租房单价：有4个异常值\n",
    "mean_rent3 = beitaipingzhuang_rent_df['unit_rent(yuan/㎡)'].mean()\n",
    "std_rent3 = beitaipingzhuang_rent_df['unit_rent(yuan/㎡)'].std()\n",
    "beitaipingzhuang_rent_df['z_score'] = (beitaipingzhuang_rent_df['unit_rent(yuan/㎡)'] - mean_rent3)/std_rent3\n",
    "outliers_rent3 = beitaipingzhuang_rent_df[np.abs(beitaipingzhuang_rent_df['z_score'] > 3)]\n",
    "print(len(outliers_rent3))"
   ]
  },
  {
   "cell_type": "markdown",
   "id": "2a8968c4-c894-4e36-86bb-f277f263fca8",
   "metadata": {},
   "source": [
    "#### 房价租金比中位数"
   ]
  },
  {
   "cell_type": "code",
   "execution_count": 19,
   "id": "74abc12a-daec-4e70-922e-94b2b478c698",
   "metadata": {},
   "outputs": [
    {
     "data": {
      "text/plain": [
       "55.65128205128205"
      ]
     },
     "execution_count": 19,
     "metadata": {},
     "output_type": "execute_result"
    }
   ],
   "source": [
    "median_sh3 = beitaipingzhuang_sh_df['unit_price(yuan/㎡)'].median()\n",
    "median_rent3 = beitaipingzhuang_rent_df['unit_rent(yuan/㎡)'].median()*12\n",
    "median_ptrr3 = median_sh3 / median_rent3\n",
    "median_ptrr3"
   ]
  },
  {
   "cell_type": "markdown",
   "id": "18c70d12-e1be-47ad-814d-7ff450771e53",
   "metadata": {},
   "source": [
    "### 世纪城"
   ]
  },
  {
   "cell_type": "markdown",
   "id": "39929ba7-ec33-46e1-8a3b-76a89bee774f",
   "metadata": {},
   "source": [
    "#### 异常值判断"
   ]
  },
  {
   "cell_type": "code",
   "execution_count": 31,
   "id": "c59d6b76-4196-4415-9bf0-a358bb9224e2",
   "metadata": {},
   "outputs": [
    {
     "name": "stdout",
     "output_type": "stream",
     "text": [
      "12\n"
     ]
    }
   ],
   "source": [
    "# 二手房单价：有12个异常值\n",
    "mean_sh4 = shijicheng_sh_df['unit_price(yuan/㎡)'].mean()\n",
    "std_sh4 = shijicheng_sh_df['unit_price(yuan/㎡)'].std()\n",
    "shijicheng_sh_df['z_score'] = (shijicheng_sh_df['unit_price(yuan/㎡)'] - mean_sh4)/std_sh4\n",
    "outliers_sh4 = shijicheng_sh_df[np.abs(shijicheng_sh_df['z_score']) > 3]\n",
    "print(len(outliers_sh4))"
   ]
  },
  {
   "cell_type": "code",
   "execution_count": 32,
   "id": "ff1e1414-03eb-4e7c-88ce-4e0d40ad2b09",
   "metadata": {},
   "outputs": [
    {
     "name": "stdout",
     "output_type": "stream",
     "text": [
      "22\n"
     ]
    }
   ],
   "source": [
    "# 租房单价：有22个异常值\n",
    "mean_rent4 = shijicheng_rent_df['unit_rent(yuan/㎡)'].mean()\n",
    "std_rent4 = shijicheng_rent_df['unit_rent(yuan/㎡)'].std()\n",
    "shijicheng_rent_df['z_score'] = (shijicheng_rent_df['unit_rent(yuan/㎡)'] - mean_rent4)/std_rent4\n",
    "outliers_rent4 = shijicheng_rent_df[np.abs(shijicheng_rent_df['z_score'] > 3)]\n",
    "print(len(outliers_rent4))"
   ]
  },
  {
   "cell_type": "markdown",
   "id": "af6a6f29-31d0-4c5b-a23a-20c541abe100",
   "metadata": {},
   "source": [
    "#### 房价租金比中位数"
   ]
  },
  {
   "cell_type": "code",
   "execution_count": 22,
   "id": "83c5be50-b864-420e-ba26-1e6a075ba69c",
   "metadata": {},
   "outputs": [
    {
     "data": {
      "text/plain": [
       "81.34439528023599"
      ]
     },
     "execution_count": 22,
     "metadata": {},
     "output_type": "execute_result"
    }
   ],
   "source": [
    "median_sh4 = shijicheng_sh_df['unit_price(yuan/㎡)'].median()\n",
    "median_rent4 = shijicheng_rent_df['unit_rent(yuan/㎡)'].median()*12\n",
    "median_ptrr4 = median_sh4 / median_rent4\n",
    "median_ptrr4"
   ]
  },
  {
   "cell_type": "markdown",
   "id": "a00631bf-9516-4550-a7ec-eecdb66862da",
   "metadata": {},
   "source": [
    "## 可视化FigureA"
   ]
  },
  {
   "cell_type": "code",
   "execution_count": 23,
   "id": "570a049a-9331-4de2-97ba-f8c49036548f",
   "metadata": {},
   "outputs": [
    {
     "data": {
      "image/png": "[encoded data removed]",
      "text/plain": [
       "<Figure size 640x480 with 1 Axes>"
      ]
     },
     "metadata": {},
     "output_type": "display_data"
    }
   ],
   "source": [
    "import matplotlib.pyplot as plt\n",
    "from matplotlib import rcParams\n",
    "rcParams['font.sans-serif'] = ['SimHei']  \n",
    "rcParams['axes.unicode_minus'] = False    \n",
    "\n",
    "blocks = ['苏州桥', '万柳', '北太平庄', '世纪城']\n",
    "median_ptrr = [median_ptrr1, median_ptrr2, median_ptrr3, median_ptrr4]\n",
    "plt.bar(blocks, median_ptrr, color = 'skyblue')\n",
    "plt.axhline(200, color='red', linestyle='--', label='全球合理水平')\n",
    "plt.ylabel('房价租金比')\n",
    "plt.title('海淀区各板块房价租金比')\n",
    "plt.legend()\n",
    "plt.show()"
   ]
  },
  {
   "attachments": {},
   "cell_type": "markdown",
   "id": "1ac887de-e7d5-47a9-9449-eedadcc0b4d6",
   "metadata": {},
   "source": [
    "# 3.4 Data Science Modeling"
   ]
  },
  {
   "cell_type": "markdown",
   "id": "efb05978-4b8b-44be-abb0-9e89a1effb8d",
   "metadata": {},
   "source": [
    "## 模型"
   ]
  },
  {
   "cell_type": "code",
   "execution_count": 24,
   "id": "e6035585-6980-4b05-a05d-fec2a34763c0",
   "metadata": {},
   "outputs": [
    {
     "data": {
      "text/html": [
       "<div>\n",
       "<style scoped>\n",
       "    .dataframe tbody tr th:only-of-type {\n",
       "        vertical-align: middle;\n",
       "    }\n",
       "\n",
       "    .dataframe tbody tr th {\n",
       "        vertical-align: top;\n",
       "    }\n",
       "\n",
       "    .dataframe thead th {\n",
       "        text-align: right;\n",
       "    }\n",
       "</style>\n",
       "<table border=\"1\" class=\"dataframe\">\n",
       "  <thead>\n",
       "    <tr style=\"text-align: right;\">\n",
       "      <th></th>\n",
       "      <th>location</th>\n",
       "      <th>predicted__price(yuan/㎡)</th>\n",
       "      <th>predicted__rent(yuan/㎡)</th>\n",
       "      <th>ptrr</th>\n",
       "    </tr>\n",
       "  </thead>\n",
       "  <tbody>\n",
       "    <tr>\n",
       "      <th>0</th>\n",
       "      <td>苏州桥</td>\n",
       "      <td>80923.423625</td>\n",
       "      <td>139.886322</td>\n",
       "      <td>48.207849</td>\n",
       "    </tr>\n",
       "    <tr>\n",
       "      <th>1</th>\n",
       "      <td>苏州桥</td>\n",
       "      <td>111129.146138</td>\n",
       "      <td>156.012087</td>\n",
       "      <td>59.359261</td>\n",
       "    </tr>\n",
       "    <tr>\n",
       "      <th>2</th>\n",
       "      <td>苏州桥</td>\n",
       "      <td>74504.336331</td>\n",
       "      <td>136.459399</td>\n",
       "      <td>45.498476</td>\n",
       "    </tr>\n",
       "    <tr>\n",
       "      <th>3</th>\n",
       "      <td>苏州桥</td>\n",
       "      <td>74875.596440</td>\n",
       "      <td>136.657601</td>\n",
       "      <td>45.658880</td>\n",
       "    </tr>\n",
       "    <tr>\n",
       "      <th>4</th>\n",
       "      <td>苏州桥</td>\n",
       "      <td>74727.092397</td>\n",
       "      <td>136.578320</td>\n",
       "      <td>45.594774</td>\n",
       "    </tr>\n",
       "  </tbody>\n",
       "</table>\n",
       "</div>"
      ],
      "text/plain": [
       "  location  predicted__price(yuan/㎡)  predicted__rent(yuan/㎡)       ptrr\n",
       "0      苏州桥              80923.423625               139.886322  48.207849\n",
       "1      苏州桥             111129.146138               156.012087  59.359261\n",
       "2      苏州桥              74504.336331               136.459399  45.498476\n",
       "3      苏州桥              74875.596440               136.657601  45.658880\n",
       "4      苏州桥              74727.092397               136.578320  45.594774"
      ]
     },
     "execution_count": 24,
     "metadata": {},
     "output_type": "execute_result"
    }
   ],
   "source": [
    "# 定义变量\n",
    "x_price = pd.get_dummies(sh_full_data[['size(㎡)', 'location']], drop_first=True)\n",
    "x_rent = pd.get_dummies(rent_full_data[['size(㎡)', 'location']], drop_first=True)\n",
    "y_price = sh_full_data['unit_price(yuan/㎡)']\n",
    "y_rent = rent_full_data['unit_rent(yuan/㎡)']\n",
    "\n",
    "# 模型\n",
    "model_price = LinearRegression().fit(x_price, y_price)\n",
    "model_rent = LinearRegression().fit(x_rent, y_rent)\n",
    "\n",
    "# 预期二手房单价和租金单价 \n",
    "sh_full_data['predicted_price(yuan/㎡)'] = model_price.predict(x_price)\n",
    "rent_full_data['predicted_price(yuan/㎡)'] = model_price.predict(x_rent)\n",
    "sh_full_data['predicted_rent(yuan/㎡)'] = model_rent.predict(x_price)\n",
    "rent_full_data['predicted_rent(yuan/㎡)'] = model_rent.predict(x_rent)\n",
    "\n",
    "# 整合数据\n",
    "full_pred_data = pd.DataFrame()\n",
    "full_pred_data['location'] = pd.concat([sh_full_data['location'], rent_full_data['location']], ignore_index=True)\n",
    "full_pred_data['predicted__price(yuan/㎡)'] = pd.concat([sh_full_data['predicted_price(yuan/㎡)'], rent_full_data['predicted_price(yuan/㎡)']], ignore_index=True)\n",
    "full_pred_data['predicted__rent(yuan/㎡)'] = pd.concat([sh_full_data['predicted_rent(yuan/㎡)'], rent_full_data['predicted_rent(yuan/㎡)']], ignore_index=True)\n",
    "\n",
    "# 计算每条数据的房价租金比\n",
    "full_pred_data['ptrr'] = full_pred_data['predicted__price(yuan/㎡)']/(full_pred_data['predicted__rent(yuan/㎡)'] *12)\n",
    "full_pred_data.head()\n"
   ]
  },
  {
   "cell_type": "markdown",
   "id": "16168f4a-0fd7-4aa9-a11a-434a1ab0e338",
   "metadata": {},
   "source": [
    "## 可视化FigureB"
   ]
  },
  {
   "cell_type": "code",
   "execution_count": 25,
   "id": "36a7c72c-2a7b-4b32-8d25-ea4d99cdbb3a",
   "metadata": {},
   "outputs": [
    {
     "data": {
      "image/png": "[encoded data removed]",
      "text/plain": [
       "<Figure size 640x480 with 1 Axes>"
      ]
     },
     "metadata": {},
     "output_type": "display_data"
    }
   ],
   "source": [
    "# 计算各板块的中位数房价租金比\n",
    "pred_suzhouqiao = full_pred_data[full_pred_data['location'] == '苏州桥']\n",
    "pred_wanliu = full_pred_data[full_pred_data['location'] == '万柳']\n",
    "pred_beitaipingzhuang = full_pred_data[full_pred_data['location'] == '北太平庄']\n",
    "pred_shijicheng = full_pred_data[full_pred_data['location'] == '世纪城']\n",
    "szq_median_pr = pred_suzhouqiao['ptrr'].median()\n",
    "wl_median_pr = pred_wanliu['ptrr'].median()\n",
    "btpz_median_pr = pred_beitaipingzhuang['ptrr'].median()\n",
    "sjc_median_pr = pred_shijicheng['ptrr'].median()\n",
    "\n",
    "# 绘图\n",
    "blocks = ['苏州桥', '万柳', '北太平庄', '世纪城']\n",
    "median_ptrr = [szq_median_pr, wl_median_pr, btpz_median_pr, sjc_median_pr]\n",
    "plt.bar(blocks, median_ptrr, color='skyblue')\n",
    "plt.axhline(200, color='red', linestyle='--', label='全球合理水平')\n",
    "plt.ylabel('预测中位房价租金比')\n",
    "plt.title('各板块预测中位数房价租金比 (Model 1 & 2)')\n",
    "plt.legend()\n",
    "plt.show()\n",
    "\n",
    "\n"
   ]
  },
  {
   "attachments": {},
   "cell_type": "markdown",
   "id": "bab46d1e-f4fe-4c85-8427-b6b1854860c0",
   "metadata": {},
   "source": [
    "# 3.5 Data Science Modeling Pro Max"
   ]
  },
  {
   "cell_type": "markdown",
   "id": "fa885c9c-c8de-4e51-87ea-3bfb1e8ab8fb",
   "metadata": {},
   "source": [
    "## 模型拓展"
   ]
  },
  {
   "cell_type": "code",
   "execution_count": 26,
   "id": "23f3a0a6-92ae-4fb4-aa75-0e289a0b575d",
   "metadata": {},
   "outputs": [],
   "source": [
    "# 将类别变量 'location' 转化为哑变量\n",
    "sh_full_data_encoded = pd.get_dummies(sh_full_data, columns=['location'], drop_first=True) \n",
    "rent_full_data_encoded = pd.get_dummies(rent_full_data, columns=['location'], drop_first=True)\n",
    "# 非线性项：加入面积的平方项\n",
    "poly = PolynomialFeatures(degree=2)  \n",
    "x_price_poly = poly.fit_transform(sh_full_data_encoded[['size(㎡)'] + [col for col in sh_full_data_encoded.columns if 'location_' in col]].copy()) \n",
    "x_rent_poly = poly.fit_transform(rent_full_data_encoded[['size(㎡)'] + [col for col in rent_full_data_encoded.columns if 'location_' in col]].copy())  \n",
    "\n",
    "# 获取多项式特征名称\n",
    "poly_features = poly.get_feature_names_out(['size(㎡)'] + [col for col in sh_full_data_encoded.columns if 'location_' in col])\n",
    "\n",
    "# 交互项：加入面积与地点的交互项\n",
    "x_price_interaction = pd.DataFrame(x_price_poly, columns=poly_features)\n",
    "x_rent_interaction = pd.DataFrame(x_rent_poly, columns=poly_features)\n",
    "\n",
    "# 新模型\n",
    "model_price_plus = LinearRegression().fit(x_price_interaction, y_price)\n",
    "model_rent_plus = LinearRegression().fit(x_rent_interaction, y_rent)\n"
   ]
  },
  {
   "cell_type": "markdown",
   "id": "cf52583f-d2bc-436b-8d3f-f6dd4cfc58a5",
   "metadata": {},
   "source": [
    "## 分析比较"
   ]
  },
  {
   "cell_type": "code",
   "execution_count": 27,
   "id": "ad7844e6-7cf8-40c7-a5c4-09d883d2155f",
   "metadata": {},
   "outputs": [
    {
     "name": "stdout",
     "output_type": "stream",
     "text": [
      "原始房价模型 R²: 0.5994119482872056\n",
      "原始租金模型 R²: 0.2107985131550073\n",
      "拓展房价模型 R²: 0.6686301614938226\n",
      "拓展租金模型 R²: 0.3661600605306027\n"
     ]
    }
   ],
   "source": [
    "# 计算 R²\n",
    "r2_price = model_price.score(x_price, y_price)\n",
    "r2_rent = model_rent.score(x_rent, y_rent) \n",
    "r2_price_plus = model_price_plus.score(x_price_interaction, y_price)  \n",
    "r2_rent_plus = model_rent_plus.score(x_rent_interaction, y_rent)  \n",
    "\n",
    "# 输出 R² 值\n",
    "print(f\"原始房价模型 R²: {r2_price}\")\n",
    "print(f\"原始租金模型 R²: {r2_rent}\")\n",
    "print(f\"拓展房价模型 R²: {r2_price_plus}\")\n",
    "print(f\"拓展租金模型 R²: {r2_rent_plus}\")\n",
    "# 拓展模型的R²更大，解释力更高"
   ]
  },
  {
   "cell_type": "code",
   "execution_count": 28,
   "id": "cfea6474-a2d7-42cd-a205-4f21c850f7d1",
   "metadata": {
    "scrolled": true
   },
   "outputs": [
    {
     "data": {
      "text/html": [
       "<div>\n",
       "<style scoped>\n",
       "    .dataframe tbody tr th:only-of-type {\n",
       "        vertical-align: middle;\n",
       "    }\n",
       "\n",
       "    .dataframe tbody tr th {\n",
       "        vertical-align: top;\n",
       "    }\n",
       "\n",
       "    .dataframe thead th {\n",
       "        text-align: right;\n",
       "    }\n",
       "</style>\n",
       "<table border=\"1\" class=\"dataframe\">\n",
       "  <thead>\n",
       "    <tr style=\"text-align: right;\">\n",
       "      <th></th>\n",
       "      <th>location</th>\n",
       "      <th>predicted__price(yuan/㎡)_plus</th>\n",
       "      <th>predicted__rent(yuan/㎡)_plus</th>\n",
       "      <th>ptrr_plus</th>\n",
       "    </tr>\n",
       "  </thead>\n",
       "  <tbody>\n",
       "    <tr>\n",
       "      <th>0</th>\n",
       "      <td>苏州桥</td>\n",
       "      <td>81343.858725</td>\n",
       "      <td>117.963014</td>\n",
       "      <td>57.464240</td>\n",
       "    </tr>\n",
       "    <tr>\n",
       "      <th>1</th>\n",
       "      <td>苏州桥</td>\n",
       "      <td>71316.626860</td>\n",
       "      <td>-11.465230</td>\n",
       "      <td>-518.354370</td>\n",
       "    </tr>\n",
       "    <tr>\n",
       "      <th>2</th>\n",
       "      <td>苏州桥</td>\n",
       "      <td>81545.102860</td>\n",
       "      <td>143.074036</td>\n",
       "      <td>47.495866</td>\n",
       "    </tr>\n",
       "    <tr>\n",
       "      <th>3</th>\n",
       "      <td>苏州桥</td>\n",
       "      <td>81551.892920</td>\n",
       "      <td>141.644557</td>\n",
       "      <td>47.979190</td>\n",
       "    </tr>\n",
       "    <tr>\n",
       "      <th>4</th>\n",
       "      <td>苏州桥</td>\n",
       "      <td>81549.448416</td>\n",
       "      <td>142.216686</td>\n",
       "      <td>47.784740</td>\n",
       "    </tr>\n",
       "  </tbody>\n",
       "</table>\n",
       "</div>"
      ],
      "text/plain": [
       "  location  predicted__price(yuan/㎡)_plus  predicted__rent(yuan/㎡)_plus  \\\n",
       "0      苏州桥                   81343.858725                    117.963014   \n",
       "1      苏州桥                   71316.626860                    -11.465230   \n",
       "2      苏州桥                   81545.102860                    143.074036   \n",
       "3      苏州桥                   81551.892920                    141.644557   \n",
       "4      苏州桥                   81549.448416                    142.216686   \n",
       "\n",
       "    ptrr_plus  \n",
       "0   57.464240  \n",
       "1 -518.354370  \n",
       "2   47.495866  \n",
       "3   47.979190  \n",
       "4   47.784740  "
      ]
     },
     "execution_count": 28,
     "metadata": {},
     "output_type": "execute_result"
    }
   ],
   "source": [
    "# 预期二手房单价和租金单价 \n",
    "sh_full_data['predicted_price(yuan/㎡)_plus'] = model_price_plus.predict(x_price_interaction)\n",
    "rent_full_data['predicted_price(yuan/㎡)_plus'] = model_price_plus.predict(x_rent_interaction)\n",
    "sh_full_data['predicted_rent(yuan/㎡)_plus'] = model_rent_plus.predict(x_price_interaction)\n",
    "rent_full_data['predicted_rent(yuan/㎡)_plus'] = model_rent_plus.predict(x_rent_interaction)\n",
    "\n",
    "# 整合数据\n",
    "full_pred_data_plus = pd.DataFrame()\n",
    "full_pred_data_plus['location'] = pd.concat([sh_full_data['location'], rent_full_data['location']], ignore_index=True)\n",
    "full_pred_data_plus['predicted__price(yuan/㎡)_plus'] = pd.concat([sh_full_data['predicted_price(yuan/㎡)_plus'], rent_full_data['predicted_price(yuan/㎡)_plus']], ignore_index=True)\n",
    "full_pred_data_plus['predicted__rent(yuan/㎡)_plus'] = pd.concat([sh_full_data['predicted_rent(yuan/㎡)_plus'], rent_full_data['predicted_rent(yuan/㎡)_plus']], ignore_index=True)\n",
    "\n",
    "# 计算每条数据的房价租金比\n",
    "full_pred_data_plus['ptrr_plus'] = full_pred_data_plus['predicted__price(yuan/㎡)_plus']/(full_pred_data_plus['predicted__rent(yuan/㎡)_plus'] *12)\n",
    "full_pred_data_plus.head()\n"
   ]
  },
  {
   "cell_type": "markdown",
   "id": "62a183e8-451e-4f52-ac7c-bdb44049246a",
   "metadata": {},
   "source": [
    "## 可视化"
   ]
  },
  {
   "cell_type": "code",
   "execution_count": 29,
   "id": "ee90eb07-e198-40b7-a99a-8b69ca659ae0",
   "metadata": {},
   "outputs": [
    {
     "data": {
      "image/png": "[encoded data removed]",
      "text/plain": [
       "<Figure size 640x480 with 1 Axes>"
      ]
     },
     "metadata": {},
     "output_type": "display_data"
    }
   ],
   "source": [
    "# 计算各板块的中位数房价租金比\n",
    "pred_szq_plus = full_pred_data_plus[full_pred_data_plus['location'] == '苏州桥']\n",
    "pred_wl_plus = full_pred_data_plus[full_pred_data_plus['location'] == '万柳']\n",
    "pred_btpz_plus = full_pred_data_plus[full_pred_data_plus['location'] == '北太平庄']\n",
    "pred_sjc_plus = full_pred_data_plus[full_pred_data_plus['location'] == '世纪城']\n",
    "szq_median_pr_plus = pred_szq_plus['ptrr_plus'].median()\n",
    "wl_median_pr_plus = pred_wl_plus['ptrr_plus'].median()\n",
    "btpz_median_pr_plus = pred_btpz_plus['ptrr_plus'].median()\n",
    "sjc_median_pr_plus = pred_sjc_plus['ptrr_plus'].median()\n",
    "\n",
    "# 绘图\n",
    "blocks = ['苏州桥', '万柳', '北太平庄', '世纪城']\n",
    "median_ptrr_plus = [szq_median_pr_plus, wl_median_pr_plus, btpz_median_pr_plus, sjc_median_pr_plus]\n",
    "plt.bar(blocks, median_ptrr_plus, color='skyblue')\n",
    "plt.axhline(200, color='red', linestyle='--', label='全球合理水平')\n",
    "plt.ylabel('预测中位房价租金比')\n",
    "plt.title('各板块预测中位数房价租金比 (Model 1+ & 2+)')\n",
    "plt.legend()\n",
    "plt.show()"
   ]
  },
  {
   "cell_type": "markdown",
   "id": "2a4af81c-2685-4c84-8470-5f2d255b4581",
   "metadata": {},
   "source": [
    "## 对比结论"
   ]
  },
  {
   "cell_type": "code",
   "execution_count": 30,
   "id": "6e6c7b90-9cb6-4da4-9a04-da2ddf1f7cc3",
   "metadata": {},
   "outputs": [],
   "source": [
    "# 小样本量时，3-3 提供的描述性结果最可靠，适用于初步分析，虽然其预测能力有限，但它对数据的理解较为稳健。\n",
    "\n",
    "# 大样本量时，3-5 的进阶建模结果最值得信任，因为它通过引入非线性和交互项能够更好地拟合数据，提供更高的 R²，从而提升模型的预测能力。"
   ]
  }
 ],
 "metadata": {
  "kernelspec": {
   "display_name": "Python 3 (ipykernel)",
   "language": "python",
   "name": "python3"
  },
  "language_info": {
   "codemirror_mode": {
    "name": "ipython",
    "version": 3
   },
   "file_extension": ".py",
   "mimetype": "text/x-python",
   "name": "python",
   "nbconvert_exporter": "python",
   "pygments_lexer": "ipython3",
   "version": "3.13.5"
  }
 },
 "nbformat": 4,
 "nbformat_minor": 5
}
