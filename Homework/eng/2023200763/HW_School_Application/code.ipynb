{
 "cells": [
  {
   "cell_type": "code",
   "execution_count": 3,
   "id": "11c5f502-0f88-416b-a653-496d0edb04d2",
   "metadata": {},
   "outputs": [],
   "source": [
    "# 读取excel文件\n",
    "import pandas as pd\n",
    "# 读取大学名单\n",
    "df_university = pd.read_excel(\"university.xlsx\")\n",
    "df_research = pd.read_excel(\"research.xlsx\")"
   ]
  },
  {
   "cell_type": "code",
   "execution_count": 4,
   "id": "261b23a8-8a1a-4fc3-9c81-2c73296dbe6c",
   "metadata": {},
   "outputs": [],
   "source": [
    "# 遍历每一所大学和研究方向\n",
    "applications = []\n",
    "for university in df_university[\"university\"]:\n",
    "    for i in range(len(df_research)):\n",
    "        area = df_research.loc[i, \"area\"]\n",
    "        journals = df_research.loc[i, \"journals\"]\n",
    "        skills = df_research.loc[i, \"skills\"]\n",
    "\n",
    "        applications.append({\n",
    "            \"name\": \"Lila Chen\",\n",
    "            \"date\": \"2025-10-06\",\n",
    "            \"university\": university,\n",
    "            \"area\": area,\n",
    "            \"journals\": journals,\n",
    "            \"skills\": skills\n",
    "        })"
   ]
  },
  {
   "cell_type": "code",
   "execution_count": 5,
   "id": "e7b35bbe-5d6a-4c6e-b444-b633dc571209",
   "metadata": {},
   "outputs": [],
   "source": [
    "# 用docxtpl填充Word模板\n",
    "from docxtpl import DocxTemplate\n",
    "doc = DocxTemplate(\"SOP_template.docx\")\n",
    "for idx, context in enumerate(applications, 1):\n",
    "    doc.render(context)\n",
    "    doc.save(f\"output_letter_{idx}.docx\")"
   ]
  },
  {
   "cell_type": "code",
   "execution_count": 6,
   "id": "e6b96067-ca92-4fef-87cb-955ebca07517",
   "metadata": {},
   "outputs": [
    {
     "data": {
      "application/vnd.jupyter.widget-view+json": {
       "model_id": "16558246c7c34a34bf3e993f965d3f80",
       "version_major": 2,
       "version_minor": 0
      },
      "text/plain": [
       "  0%|          | 0/1 [00:00<?, ?it/s]"
      ]
     },
     "metadata": {},
     "output_type": "display_data"
    }
   ],
   "source": [
    "# 转换成PDF\n",
    "from docx2pdf import convert\n",
    "convert(\"output_letter_1.docx\", \"output_letter_1.pdf\")"
   ]
  }
 ],
 "metadata": {
  "kernelspec": {
   "display_name": "Python 3 (ipykernel)",
   "language": "python",
   "name": "python3"
  },
  "language_info": {
   "codemirror_mode": {
    "name": "ipython",
    "version": 3
   },
   "file_extension": ".py",
   "mimetype": "text/x-python",
   "name": "python",
   "nbconvert_exporter": "python",
   "pygments_lexer": "ipython3",
   "version": "3.13.5"
  }
 },
 "nbformat": 4,
 "nbformat_minor": 5
}
