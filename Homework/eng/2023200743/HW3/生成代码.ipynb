{
 "cells": [
  {
   "cell_type": "markdown",
   "id": "b2b6f448-824c-4f28-a3ad-c9814be312ce",
   "metadata": {},
   "source": [
    "## 1、安装环境"
   ]
  },
  {
   "cell_type": "code",
   "execution_count": 2,
   "id": "a1762d72-62e8-4857-9274-b1d487365307",
   "metadata": {},
   "outputs": [
    {
     "name": "stdout",
     "output_type": "stream",
     "text": [
      "Requirement already satisfied: pandas in d:\\anaconda3\\lib\\site-packages (2.2.2)\n",
      "Collecting pandas\n",
      "  Downloading pandas-2.3.3-cp312-cp312-win_amd64.whl.metadata (19 kB)\n",
      "Requirement already satisfied: openpyxl in d:\\anaconda3\\lib\\site-packages (3.1.5)\n",
      "Collecting docxtpl\n",
      "  Downloading docxtpl-0.20.1-py3-none-any.whl.metadata (9.4 kB)\n",
      "Collecting docx2pdf\n",
      "  Downloading docx2pdf-0.1.8-py3-none-any.whl.metadata (3.3 kB)\n",
      "Requirement already satisfied: numpy>=1.26.0 in d:\\anaconda3\\lib\\site-packages (from pandas) (1.26.4)\n",
      "Requirement already satisfied: python-dateutil>=2.8.2 in d:\\anaconda3\\lib\\site-packages (from pandas) (2.9.0.post0)\n",
      "Requirement already satisfied: pytz>=2020.1 in d:\\anaconda3\\lib\\site-packages (from pandas) (2024.1)\n",
      "Requirement already satisfied: tzdata>=2022.7 in d:\\anaconda3\\lib\\site-packages (from pandas) (2023.3)\n",
      "Requirement already satisfied: et-xmlfile in d:\\anaconda3\\lib\\site-packages (from openpyxl) (1.1.0)\n",
      "Collecting python-docx>=1.1.1 (from docxtpl)\n",
      "  Downloading python_docx-1.2.0-py3-none-any.whl.metadata (2.0 kB)\n",
      "Collecting docxcompose (from docxtpl)\n",
      "  Downloading docxcompose-1.4.0.tar.gz (20 kB)\n",
      "  Preparing metadata (setup.py): started\n",
      "  Preparing metadata (setup.py): finished with status 'done'\n",
      "Requirement already satisfied: jinja2 in d:\\anaconda3\\lib\\site-packages (from docxtpl) (3.1.4)\n",
      "Requirement already satisfied: lxml in d:\\anaconda3\\lib\\site-packages (from docxtpl) (5.2.1)\n",
      "Requirement already satisfied: pywin32>=227 in d:\\anaconda3\\lib\\site-packages (from docx2pdf) (305.1)\n",
      "Requirement already satisfied: tqdm>=4.41.0 in d:\\anaconda3\\lib\\site-packages (from docx2pdf) (4.66.5)\n",
      "Requirement already satisfied: six>=1.5 in d:\\anaconda3\\lib\\site-packages (from python-dateutil>=2.8.2->pandas) (1.16.0)\n",
      "Requirement already satisfied: typing_extensions>=4.9.0 in d:\\anaconda3\\lib\\site-packages (from python-docx>=1.1.1->docxtpl) (4.11.0)\n",
      "Requirement already satisfied: colorama in d:\\anaconda3\\lib\\site-packages (from tqdm>=4.41.0->docx2pdf) (0.4.6)\n",
      "Requirement already satisfied: setuptools in d:\\anaconda3\\lib\\site-packages (from docxcompose->docxtpl) (75.1.0)\n",
      "Requirement already satisfied: babel in d:\\anaconda3\\lib\\site-packages (from docxcompose->docxtpl) (2.11.0)\n",
      "Requirement already satisfied: MarkupSafe>=2.0 in d:\\anaconda3\\lib\\site-packages (from jinja2->docxtpl) (2.1.3)\n",
      "Downloading pandas-2.3.3-cp312-cp312-win_amd64.whl (11.0 MB)\n",
      "   ---------------------------------------- 0.0/11.0 MB ? eta -:--:--\n",
      "   ---------------------------------------- 0.0/11.0 MB ? eta -:--:--\n",
      "    --------------------------------------- 0.3/11.0 MB ? eta -:--:--\n",
      "   --- ------------------------------------ 1.0/11.0 MB 3.4 MB/s eta 0:00:03\n",
      "   ----------- ---------------------------- 3.1/11.0 MB 6.0 MB/s eta 0:00:02\n",
      "   --------------- ------------------------ 4.2/11.0 MB 6.1 MB/s eta 0:00:02\n",
      "   ------------------- -------------------- 5.2/11.0 MB 5.7 MB/s eta 0:00:02\n",
      "   ---------------------- ----------------- 6.3/11.0 MB 5.5 MB/s eta 0:00:01\n",
      "   -------------------------- ------------- 7.3/11.0 MB 5.5 MB/s eta 0:00:01\n",
      "   ------------------------------- -------- 8.7/11.0 MB 5.4 MB/s eta 0:00:01\n",
      "   ----------------------------------- ---- 9.7/11.0 MB 5.4 MB/s eta 0:00:01\n",
      "   ---------------------------------------- 11.0/11.0 MB 5.4 MB/s eta 0:00:00\n",
      "Downloading docxtpl-0.20.1-py3-none-any.whl (20 kB)\n",
      "Downloading docx2pdf-0.1.8-py3-none-any.whl (6.7 kB)\n",
      "Downloading python_docx-1.2.0-py3-none-any.whl (252 kB)\n",
      "Building wheels for collected packages: docxcompose\n",
      "  Building wheel for docxcompose (setup.py): started\n",
      "  Building wheel for docxcompose (setup.py): finished with status 'done'\n",
      "  Created wheel for docxcompose: filename=docxcompose-1.4.0-py3-none-any.whl size=23300 sha256=3be2605d26bb606a53b914c63a92394567a39c3f34c56d170e6073c38a101890\n",
      "  Stored in directory: c:\\users\\周方健\\appdata\\local\\pip\\cache\\wheels\\d4\\41\\77\\fea002cfe3f6bf960d7be78eb8feb1147bc6a862021c627c34\n",
      "Successfully built docxcompose\n",
      "Installing collected packages: python-docx, pandas, docxcompose, docx2pdf, docxtpl\n",
      "  Attempting uninstall: pandas\n",
      "    Found existing installation: pandas 2.2.2\n",
      "    Uninstalling pandas-2.2.2:\n",
      "      Successfully uninstalled pandas-2.2.2\n",
      "Successfully installed docx2pdf-0.1.8 docxcompose-1.4.0 docxtpl-0.20.1 pandas-2.3.3 python-docx-1.2.0\n",
      "Note: you may need to restart the kernel to use updated packages.\n"
     ]
    },
    {
     "name": "stderr",
     "output_type": "stream",
     "text": [
      "  WARNING: Failed to remove contents in a temporary directory 'D:\\Anaconda3\\Lib\\site-packages\\~andas'.\n",
      "  You can safely remove it manually.\n"
     ]
    }
   ],
   "source": [
    "%pip install -U pandas openpyxl docxtpl docx2pdf\n"
   ]
  },
  {
   "cell_type": "markdown",
   "id": "55aea83f-adfa-4411-94b1-a37cbeb43705",
   "metadata": {},
   "source": [
    "## 2、导入库和设置路径"
   ]
  },
  {
   "cell_type": "code",
   "execution_count": 64,
   "id": "8c0fbca7-0c01-480b-b385-4756d145fa0b",
   "metadata": {},
   "outputs": [],
   "source": [
    "import os, sys, json, platform\n",
    "from datetime import datetime\n",
    "\n",
    "import pandas as pd\n",
    "from docxtpl import DocxTemplate"
   ]
  },
  {
   "cell_type": "code",
   "execution_count": 79,
   "id": "4931c6b7-22b7-443d-b297-ae94beb0c7b8",
   "metadata": {},
   "outputs": [],
   "source": [
    "BASE_DIR = \"HW_School_Application\" \n",
    "\n",
    "uni_path = os.path.join(BASE_DIR, \"universities.xlsx\")\n",
    "areas_path = os.path.join(BASE_DIR, \"research_areas.xlsx\")\n",
    "config_path = os.path.join(BASE_DIR, \"config.json\")\n",
    "template_path = os.path.join(BASE_DIR, \"sop_template.docx\")\n",
    "output_dir = os.path.join(BASE_DIR, \"output\")"
   ]
  },
  {
   "cell_type": "code",
   "execution_count": 105,
   "id": "7b008a91-d4c3-432e-8666-e74ab53dc3be",
   "metadata": {},
   "outputs": [],
   "source": [
    "os.makedirs(output_dir, exist_ok=True)"
   ]
  },
  {
   "cell_type": "code",
   "execution_count": 107,
   "id": "a7e862ee-0e5c-430b-94b9-74dfb806608e",
   "metadata": {},
   "outputs": [
    {
     "name": "stdout",
     "output_type": "stream",
     "text": [
      "工作目录： D:\\周方健\\Desktop\\大学\\计算机课\\人工智能与Python 程序设计\\作业\\第三次作业\n",
      "工程目录： D:\\周方健\\Desktop\\大学\\计算机课\\人工智能与Python 程序设计\\作业\\第三次作业\\HW_School_Application\n",
      "输出目录： D:\\周方健\\Desktop\\大学\\计算机课\\人工智能与Python 程序设计\\作业\\第三次作业\\HW_School_Application\\output\n"
     ]
    }
   ],
   "source": [
    "print(\"工作目录：\", os.getcwd())\n",
    "print(\"工程目录：\", os.path.abspath(BASE_DIR))\n",
    "print(\"输出目录：\", os.path.abspath(OUTPUT_DIR))"
   ]
  },
  {
   "cell_type": "markdown",
   "id": "15101a6d-8210-49ae-b83a-5cccb7d38ebd",
   "metadata": {},
   "source": [
    "## 3、读取文件"
   ]
  },
  {
   "cell_type": "code",
   "execution_count": 110,
   "id": "834f9214-e37f-4cda-9875-37ec4a00060f",
   "metadata": {},
   "outputs": [],
   "source": [
    "df_uni = pd.read_excel(uni_path)"
   ]
  },
  {
   "cell_type": "code",
   "execution_count": 112,
   "id": "4494887a-89d2-4e72-acd4-6a067d7557df",
   "metadata": {},
   "outputs": [],
   "source": [
    "df_area = pd.read_excel(areas_path)"
   ]
  },
  {
   "cell_type": "code",
   "execution_count": 114,
   "id": "c2214290-0aff-4bea-b6c7-33cc2ca3f306",
   "metadata": {},
   "outputs": [],
   "source": [
    "with open(config_path, \"r\", encoding=\"utf-8\") as f:\n",
    "    config = json.load(f) "
   ]
  },
  {
   "cell_type": "code",
   "execution_count": 116,
   "id": "182b0558-910d-4bfb-9285-63ea6a6ff9d9",
   "metadata": {},
   "outputs": [
    {
     "data": {
      "text/html": [
       "<div>\n",
       "<style scoped>\n",
       "    .dataframe tbody tr th:only-of-type {\n",
       "        vertical-align: middle;\n",
       "    }\n",
       "\n",
       "    .dataframe tbody tr th {\n",
       "        vertical-align: top;\n",
       "    }\n",
       "\n",
       "    .dataframe thead th {\n",
       "        text-align: right;\n",
       "    }\n",
       "</style>\n",
       "<table border=\"1\" class=\"dataframe\">\n",
       "  <thead>\n",
       "    <tr style=\"text-align: right;\">\n",
       "      <th></th>\n",
       "      <th>University</th>\n",
       "    </tr>\n",
       "  </thead>\n",
       "  <tbody>\n",
       "    <tr>\n",
       "      <th>0</th>\n",
       "      <td>Department of Economics, Harvard University</td>\n",
       "    </tr>\n",
       "    <tr>\n",
       "      <th>1</th>\n",
       "      <td>Economics Department, Massachusetts Institute ...</td>\n",
       "    </tr>\n",
       "    <tr>\n",
       "      <th>2</th>\n",
       "      <td>Department of Economics, University of Califor...</td>\n",
       "    </tr>\n",
       "    <tr>\n",
       "      <th>3</th>\n",
       "      <td>Department of Economics, University of Chicago</td>\n",
       "    </tr>\n",
       "    <tr>\n",
       "      <th>4</th>\n",
       "      <td>Paris School of Economics</td>\n",
       "    </tr>\n",
       "  </tbody>\n",
       "</table>\n",
       "</div>"
      ],
      "text/plain": [
       "                                          University\n",
       "0        Department of Economics, Harvard University\n",
       "1  Economics Department, Massachusetts Institute ...\n",
       "2  Department of Economics, University of Califor...\n",
       "3     Department of Economics, University of Chicago\n",
       "4                          Paris School of Economics"
      ]
     },
     "metadata": {},
     "output_type": "display_data"
    }
   ],
   "source": [
    "display(df_uni.head())"
   ]
  },
  {
   "cell_type": "code",
   "execution_count": 118,
   "id": "d7346d66-4b0d-409f-9460-e10a0a30c50b",
   "metadata": {},
   "outputs": [
    {
     "data": {
      "text/html": [
       "<div>\n",
       "<style scoped>\n",
       "    .dataframe tbody tr th:only-of-type {\n",
       "        vertical-align: middle;\n",
       "    }\n",
       "\n",
       "    .dataframe tbody tr th {\n",
       "        vertical-align: top;\n",
       "    }\n",
       "\n",
       "    .dataframe thead th {\n",
       "        text-align: right;\n",
       "    }\n",
       "</style>\n",
       "<table border=\"1\" class=\"dataframe\">\n",
       "  <thead>\n",
       "    <tr style=\"text-align: right;\">\n",
       "      <th></th>\n",
       "      <th>Area</th>\n",
       "      <th>TopJournal1</th>\n",
       "      <th>TopJournal2</th>\n",
       "      <th>TopJournal3</th>\n",
       "      <th>Skills</th>\n",
       "    </tr>\n",
       "  </thead>\n",
       "  <tbody>\n",
       "    <tr>\n",
       "      <th>0</th>\n",
       "      <td>Economics</td>\n",
       "      <td>American Economic Review</td>\n",
       "      <td>Econometrica</td>\n",
       "      <td>Quarterly Journal of Economics</td>\n",
       "      <td>Python, R, SQL, Statistics, Econometrics, Stat...</td>\n",
       "    </tr>\n",
       "    <tr>\n",
       "      <th>1</th>\n",
       "      <td>Finance</td>\n",
       "      <td>Journal of Finance</td>\n",
       "      <td>Journal of Financial Economics</td>\n",
       "      <td>Review of Financial Studies</td>\n",
       "      <td>Python, SQL, Risk Modeling, Time Series, Stoch...</td>\n",
       "    </tr>\n",
       "    <tr>\n",
       "      <th>2</th>\n",
       "      <td>Information Management</td>\n",
       "      <td>MIS Quarterly</td>\n",
       "      <td>Information Systems Research</td>\n",
       "      <td>Journal of the Association for Information Sys...</td>\n",
       "      <td>Python, SQL, Data Warehousing (BigQuery), API/...</td>\n",
       "    </tr>\n",
       "  </tbody>\n",
       "</table>\n",
       "</div>"
      ],
      "text/plain": [
       "                     Area               TopJournal1  \\\n",
       "0               Economics  American Economic Review   \n",
       "1                 Finance        Journal of Finance   \n",
       "2  Information Management             MIS Quarterly   \n",
       "\n",
       "                      TopJournal2  \\\n",
       "0                    Econometrica   \n",
       "1  Journal of Financial Economics   \n",
       "2    Information Systems Research   \n",
       "\n",
       "                                         TopJournal3  \\\n",
       "0                     Quarterly Journal of Economics   \n",
       "1                        Review of Financial Studies   \n",
       "2  Journal of the Association for Information Sys...   \n",
       "\n",
       "                                              Skills  \n",
       "0  Python, R, SQL, Statistics, Econometrics, Stat...  \n",
       "1  Python, SQL, Risk Modeling, Time Series, Stoch...  \n",
       "2  Python, SQL, Data Warehousing (BigQuery), API/...  "
      ]
     },
     "metadata": {},
     "output_type": "display_data"
    }
   ],
   "source": [
    "display(df_area.head())"
   ]
  },
  {
   "cell_type": "code",
   "execution_count": 120,
   "id": "3b2efd94-2b70-4a5d-8f82-a866218a4bee",
   "metadata": {},
   "outputs": [
    {
     "name": "stdout",
     "output_type": "stream",
     "text": [
      "个人信息： {'applicant_name': '周方健/James Zhou', 'email': '18807846189@163.com', 'phone': '+86-18807846189', 'undergrad_school': 'Renmin University of China', 'undergrad_major': 'Economics'}\n"
     ]
    }
   ],
   "source": [
    "print(\"个人信息：\", {k: config.get(k) for k in [\"applicant_name\",\"email\",\"phone\",\"undergrad_school\",\"undergrad_major\"]})"
   ]
  },
  {
   "cell_type": "markdown",
   "id": "75d30201-d866-47d7-871f-64b66fe59f5d",
   "metadata": {},
   "source": [
    "## 4、准备“变量上下文”构造函数"
   ]
  },
  {
   "cell_type": "code",
   "execution_count": 164,
   "id": "c4dbd70c-07a5-4003-b7bb-7a15cb292f40",
   "metadata": {},
   "outputs": [],
   "source": [
    "def build_context(university: str, area_row: dict, cfg: dict):\n",
    "\n",
    "    journal_list = f\"{area_row['TopJournal1']}, {area_row['TopJournal2']}, {area_row['TopJournal3']}\"\n",
    "    \n",
    "    skills_sentence = area_row['Skills']\n",
    "    \n",
    "    program_map = cfg.get(\"program_name_map\", {})\n",
    "    program_name = program_map.get(area_row[\"Area\"], cfg.get(\"target_degree_default\", \"Master Program\"))\n",
    "    \n",
    "    career_map = {\n",
    "        \"Economics\": \"economic research / Econometric\",\n",
    "        \"Finance\": \"quant research or financial analytics\",\n",
    "        \"Information Management\": \"data analytics and information systems\"\n",
    "    }\n",
    "    area_career = career_map.get(area_row[\"Area\"], area_row[\"Area\"])\n",
    "\n",
    "    strengths_list = cfg.get(\"personal_strengths\", [])\n",
    "    personal_strengths_bullets = \"\\n\".join(f\"• {s}\" for s in strengths_list)\n",
    "\n",
    "    hobbies = cfg.get(\"hobbies\", \"\")\n",
    "\n",
    "    return {\n",
    "        \"today\": datetime.now().strftime(\"%B %d, %Y\"),\n",
    "        \"university\": university,\n",
    "        \"area\": area_row[\"Area\"],\n",
    "\n",
    "        \"journal_list\": journal_list,\n",
    "        \"skills_sentence\": skills_sentence,\n",
    "        \"area_career\": area_career,\n",
    "\n",
    "        \"program_name\": program_name,\n",
    "\n",
    "        \"applicant_name\": cfg.get(\"applicant_name\", \"\"),\n",
    "        \"email\": cfg.get(\"email\", \"\"),\n",
    "        \"phone\": cfg.get(\"phone\", \"\"),\n",
    "        \"undergrad_school\": cfg.get(\"undergrad_school\", \"\"),\n",
    "        \"undergrad_major\": cfg.get(\"undergrad_major\", \"\"),\n",
    "\n",
    "        \"personal_strengths_bullets\": personal_strengths_bullets,\n",
    "        \"hobbies\": hobbies,\n",
    "    }"
   ]
  },
  {
   "cell_type": "markdown",
   "id": "feeef1fc-c3f6-499c-bec5-f6e363600f1c",
   "metadata": {},
   "source": [
    "## 5、用 docxtpl 渲染模板，生成 90 份 Word"
   ]
  },
  {
   "cell_type": "code",
   "execution_count": 167,
   "id": "67bc9c3e-1735-4a76-bba9-0c27ef9f3281",
   "metadata": {},
   "outputs": [],
   "source": [
    "from docxtpl import DocxTemplate\n",
    "import os"
   ]
  },
  {
   "cell_type": "code",
   "execution_count": 169,
   "id": "6a94dfb4-ddf6-4aba-ae06-4a25cfc9aec5",
   "metadata": {},
   "outputs": [],
   "source": [
    "tpl = DocxTemplate(template_path)"
   ]
  },
  {
   "cell_type": "code",
   "execution_count": 171,
   "id": "8dae7ec5-090c-4e6b-ac47-8e12fee12313",
   "metadata": {},
   "outputs": [],
   "source": [
    "def safe_name(s: str) -> str:\n",
    "    keep = []\n",
    "    for ch in s:\n",
    "        if ch.isalnum() or ch in (\" \", \"_\", \"-\", \"&\"):\n",
    "            keep.append(ch)\n",
    "    return \"\".join(keep).strip().replace(\" \", \"_\")"
   ]
  },
  {
   "cell_type": "code",
   "execution_count": 173,
   "id": "ef34d8d1-18bd-46f6-bfb0-aa6fab56559a",
   "metadata": {},
   "outputs": [],
   "source": [
    "count = 0\n",
    "index = 1\n",
    "for _, uni_row in df_uni.iterrows():\n",
    "    univ = str(uni_row[\"University\"]).strip()\n",
    "    for _, area_row in df_area.iterrows():\n",
    "        ctx = build_context(univ, area_row, config)\n",
    "        tpl.render(ctx)\n",
    "        \n",
    "        fname = f\"SOP_{index:02d}_{safe_name(univ)}_{area_row['Area'].replace(' ', '')}.docx\"\n",
    "        \n",
    "        out_path = os.path.join(output_dir, fname)\n",
    "        tpl.save(out_path)\n",
    "        \n",
    "        index += 1\n",
    "        count += 1"
   ]
  },
  {
   "cell_type": "markdown",
   "id": "030abaf4-e8fe-4b42-a1f7-10a77c9d992f",
   "metadata": {},
   "source": [
    "## 6、把其中 1 份转成 PDF"
   ]
  },
  {
   "cell_type": "code",
   "execution_count": 175,
   "id": "47a95625-3ac5-4fb5-970d-860849e0e2a3",
   "metadata": {},
   "outputs": [],
   "source": [
    "import glob, os\n",
    "from docx2pdf import convert"
   ]
  },
  {
   "cell_type": "code",
   "execution_count": 176,
   "id": "b608df93-fbad-4410-8c0c-9d9974a23e16",
   "metadata": {},
   "outputs": [],
   "source": [
    "docx_files = sorted(glob.glob(os.path.join(output_dir, \"*.docx\")))\n",
    "\n",
    "in_docx = docx_files[0]\n",
    "out_pdf = os.path.splitext(in_docx)[0] + \".pdf\"\n"
   ]
  },
  {
   "cell_type": "code",
   "execution_count": 177,
   "id": "b24a6d69-88a2-49fb-935b-d3c5aa89aeb9",
   "metadata": {},
   "outputs": [
    {
     "data": {
      "application/vnd.jupyter.widget-view+json": {
       "model_id": "7fcd9e9719a1413e8db65f544566035c",
       "version_major": 2,
       "version_minor": 0
      },
      "text/plain": [
       "  0%|          | 0/1 [00:00<?, ?it/s]"
      ]
     },
     "metadata": {},
     "output_type": "display_data"
    }
   ],
   "source": [
    "convert(in_docx, out_pdf)"
   ]
  }
 ],
 "metadata": {
  "kernelspec": {
   "display_name": "Python [conda env:base] *",
   "language": "python",
   "name": "conda-base-py"
  },
  "language_info": {
   "codemirror_mode": {
    "name": "ipython",
    "version": 3
   },
   "file_extension": ".py",
   "mimetype": "text/x-python",
   "name": "python",
   "nbconvert_exporter": "python",
   "pygments_lexer": "ipython3",
   "version": "3.12.7"
  }
 },
 "nbformat": 4,
 "nbformat_minor": 5
}
