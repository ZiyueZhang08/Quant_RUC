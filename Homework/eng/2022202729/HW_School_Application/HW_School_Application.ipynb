{
 "cells": [
  {
   "cell_type": "code",
   "execution_count": 1,
   "id": "23094551-00d7-43c4-b88c-1008ae3c2677",
   "metadata": {},
   "outputs": [
    {
     "name": "stdout",
     "output_type": "stream",
     "text": [
      "Defaulting to user installation because normal site-packages is not writeable\n",
      "Requirement already satisfied: pandas in c:\\programdata\\anaconda3\\lib\\site-packages (2.2.3)\n",
      "Requirement already satisfied: openpyxl in c:\\programdata\\anaconda3\\lib\\site-packages (3.1.5)\n",
      "Requirement already satisfied: docxtpl in c:\\users\\asus\\appdata\\roaming\\python\\python313\\site-packages (0.20.1)\n",
      "Requirement already satisfied: docx2pdf in c:\\users\\asus\\appdata\\roaming\\python\\python313\\site-packages (0.1.8)\n",
      "Requirement already satisfied: numpy>=1.26.0 in c:\\programdata\\anaconda3\\lib\\site-packages (from pandas) (2.1.3)\n",
      "Requirement already satisfied: python-dateutil>=2.8.2 in c:\\programdata\\anaconda3\\lib\\site-packages (from pandas) (2.9.0.post0)\n",
      "Requirement already satisfied: pytz>=2020.1 in c:\\programdata\\anaconda3\\lib\\site-packages (from pandas) (2024.1)\n",
      "Requirement already satisfied: tzdata>=2022.7 in c:\\programdata\\anaconda3\\lib\\site-packages (from pandas) (2025.2)\n",
      "Requirement already satisfied: et-xmlfile in c:\\programdata\\anaconda3\\lib\\site-packages (from openpyxl) (1.1.0)\n",
      "Requirement already satisfied: python-docx>=1.1.1 in c:\\users\\asus\\appdata\\roaming\\python\\python313\\site-packages (from docxtpl) (1.2.0)\n",
      "Requirement already satisfied: docxcompose in c:\\users\\asus\\appdata\\roaming\\python\\python313\\site-packages (from docxtpl) (1.4.0)\n",
      "Requirement already satisfied: jinja2 in c:\\programdata\\anaconda3\\lib\\site-packages (from docxtpl) (3.1.6)\n",
      "Requirement already satisfied: lxml in c:\\programdata\\anaconda3\\lib\\site-packages (from docxtpl) (5.3.0)\n",
      "Requirement already satisfied: pywin32>=227 in c:\\programdata\\anaconda3\\lib\\site-packages (from docx2pdf) (308)\n",
      "Requirement already satisfied: tqdm>=4.41.0 in c:\\programdata\\anaconda3\\lib\\site-packages (from docx2pdf) (4.67.1)\n",
      "Requirement already satisfied: six>=1.5 in c:\\programdata\\anaconda3\\lib\\site-packages (from python-dateutil>=2.8.2->pandas) (1.17.0)\n",
      "Requirement already satisfied: typing_extensions>=4.9.0 in c:\\programdata\\anaconda3\\lib\\site-packages (from python-docx>=1.1.1->docxtpl) (4.12.2)\n",
      "Requirement already satisfied: colorama in c:\\programdata\\anaconda3\\lib\\site-packages (from tqdm>=4.41.0->docx2pdf) (0.4.6)\n",
      "Requirement already satisfied: setuptools in c:\\programdata\\anaconda3\\lib\\site-packages (from docxcompose->docxtpl) (72.1.0)\n",
      "Requirement already satisfied: babel in c:\\programdata\\anaconda3\\lib\\site-packages (from docxcompose->docxtpl) (2.16.0)\n",
      "Requirement already satisfied: MarkupSafe>=2.0 in c:\\programdata\\anaconda3\\lib\\site-packages (from jinja2->docxtpl) (3.0.2)\n",
      "Note: you may need to restart the kernel to use updated packages.\n",
      "所有包导入成功！\n"
     ]
    }
   ],
   "source": [
    "%pip install pandas openpyxl docxtpl docx2pdf\n",
    "import pandas as pd\n",
    "import openpyxl\n",
    "from docxtpl import DocxTemplate\n",
    "from docx2pdf import convert\n",
    "import os\n",
    "import random\n",
    "\n",
    "print(\"所有包导入成功！\")"
   ]
  },
  {
   "cell_type": "code",
   "execution_count": 2,
   "id": "1d6c5d65-eb7d-4467-81dd-5407658c5698",
   "metadata": {},
   "outputs": [],
   "source": [
    "# 配置路径（统一管理，便于修改）\n",
    "base_dir = \"C:/Users/ASUS/Desktop/RUC/grade3/大三上/人工智能与Python程设/作业2\"\n",
    "universities_file = os.path.join(base_dir, \"universities.xlsx\")\n",
    "research_areas_file = os.path.join(base_dir, \"research_areas.xlsx\")\n",
    "template_file = os.path.join(base_dir, \"template.docx\")\n",
    "output_dir = os.path.join(base_dir, \"output\")\n",
    "\n",
    "# 创建输出目录\n",
    "os.makedirs(output_dir, exist_ok=True)"
   ]
  },
  {
   "cell_type": "code",
   "execution_count": 3,
   "id": "cef0d376-04cf-4365-82dd-86d5c5b164a0",
   "metadata": {},
   "outputs": [
    {
     "name": "stdout",
     "output_type": "stream",
     "text": [
      "Universities columns: ['university']\n",
      "Research areas columns: ['research_area', 'journal1', 'journal2', 'journal3', 'skills1', 'skills2', 'skills3']\n",
      "读取到 30 所大学和 3 个研究领域\n"
     ]
    }
   ],
   "source": [
    "# Step 1: 读取数据并检查列名\n",
    "try:\n",
    "    universities = pd.read_excel(universities_file)\n",
    "    research_areas = pd.read_excel(research_areas_file)\n",
    "    \n",
    "    print(\"Universities columns:\", universities.columns.tolist())\n",
    "    print(\"Research areas columns:\", research_areas.columns.tolist())\n",
    "    print(f\"读取到 {len(universities)} 所大学和 {len(research_areas)} 个研究领域\")\n",
    "    \n",
    "except Exception as e:\n",
    "    print(f\"读取Excel文件失败: {e}\")\n",
    "    exit()"
   ]
  },
  {
   "cell_type": "code",
   "execution_count": 4,
   "id": "c000e065-98fd-4a08-8e0e-5b151bb2c237",
   "metadata": {},
   "outputs": [
    {
     "name": "stdout",
     "output_type": "stream",
     "text": [
      "模板加载成功！\n",
      "开始生成推荐信...\n",
      "已生成 10 封推荐信...\n",
      "已生成 20 封推荐信...\n",
      "已生成 30 封推荐信...\n",
      "已生成 40 封推荐信...\n",
      "已生成 50 封推荐信...\n",
      "已生成 60 封推荐信...\n",
      "已生成 70 封推荐信...\n",
      "已生成 80 封推荐信...\n",
      "已生成 90 封推荐信...\n",
      "✅ 成功生成 90/90 封个性化推荐信！\n"
     ]
    }
   ],
   "source": [
    "# Step 2: 载入模板\n",
    "try:\n",
    "    template = DocxTemplate(template_file)\n",
    "    print(\"模板加载成功！\")\n",
    "except Exception as e:\n",
    "    print(f\"模板加载失败: {e}\")\n",
    "    exit()\n",
    "\n",
    "# Step 3: 定义个人信息\n",
    "personal_info = {\n",
    "    \"name\": \"Dongcheng Liang\",\n",
    "}\n",
    "\n",
    "# Step 4: 生成90封信\n",
    "print(\"开始生成推荐信...\")\n",
    "success_count = 0\n",
    "\n",
    "for i in range(90):\n",
    "    try:\n",
    "        # 随机选择大学和研究领域\n",
    "        university = random.choice(universities.iloc[:, 0])  # 第一列\n",
    "        area_row = research_areas.sample().iloc[0]\n",
    "        \n",
    "        # 构造上下文数据\n",
    "        context = {\n",
    "            \"name\": personal_info[\"name\"],\n",
    "            \"research_area\": area_row[\"research_area\"],\n",
    "            \"university\": university,\n",
    "            \"research_area\": area_row[\"research_area\"],\n",
    "            \"journal1\": area_row[\"journal1\"],\n",
    "            \"journal2\": area_row[\"journal2\"],\n",
    "            \"journal3\": area_row[\"journal3\"],\n",
    "            \"skill1\": area_row[\"skills1\"],\n",
    "            \"skill2\": area_row[\"skills2\"],\n",
    "            \"skill3\": area_row[\"skills3\"]\n",
    "        }\n",
    "        \n",
    "        # 创建新的模板实例（避免重复渲染问题）\n",
    "        doc = DocxTemplate(template_file)\n",
    "        doc.render(context)\n",
    "        \n",
    "        # 生成安全的文件名\n",
    "        safe_university_name = str(university).replace(' ', '_').replace('/', '_')\n",
    "        word_filename = f\"SOP_{i+1:03d}_{safe_university_name}.docx\"\n",
    "        word_path = os.path.join(output_dir, word_filename)\n",
    "        \n",
    "        # 保存Word文档\n",
    "        doc.save(word_path)\n",
    "        success_count += 1\n",
    "        \n",
    "        # 每生成10封信显示进度\n",
    "        if (i + 1) % 10 == 0:\n",
    "            print(f\"已生成 {i + 1} 封推荐信...\")\n",
    "            \n",
    "    except Exception as e:\n",
    "        print(f\"生成第 {i + 1} 封信时出错: {e}\")\n",
    "\n",
    "print(f\"✅ 成功生成 {success_count}/90 封个性化推荐信！\")"
   ]
  },
  {
   "cell_type": "code",
   "execution_count": 5,
   "id": "37b41c84-0d22-494e-9816-7bc51b6a3b34",
   "metadata": {},
   "outputs": [
    {
     "name": "stdout",
     "output_type": "stream",
     "text": [
      "开始转换为PDF格式...\n"
     ]
    },
    {
     "data": {
      "application/vnd.jupyter.widget-view+json": {
       "model_id": "8059dde6078b4b098d802503a2d4d5aa",
       "version_major": 2,
       "version_minor": 0
      },
      "text/plain": [
       "  0%|          | 0/90 [00:00<?, ?it/s]"
      ]
     },
     "metadata": {},
     "output_type": "display_data"
    },
    {
     "name": "stdout",
     "output_type": "stream",
     "text": [
      "✅ PDF文件成功生成！\n",
      "\n",
      "📊 生成统计:\n",
      "Word文档: 90 个\n",
      "PDF文件: 90 个\n",
      "输出目录: C:/Users/ASUS/Desktop/RUC/grade3/大三上/人工智能与Python程设/作业2\\output\n"
     ]
    }
   ],
   "source": [
    "# Step 5: 转换为PDF\n",
    "print(\"开始转换为PDF格式...\")\n",
    "try:\n",
    "    # 使用正确的convert函数\n",
    "    convert(output_dir, output_dir)  # 第一个参数是输入目录，第二个是输出目录\n",
    "    print(\"✅ PDF文件成功生成！\")\n",
    "except Exception as e:\n",
    "    print(f\"⚠️ PDF转换失败: {e}\")\n",
    "    print(\"请检查是否安装了Microsoft Word\")\n",
    "\n",
    "# 最终统计\n",
    "docx_files = [f for f in os.listdir(output_dir) if f.endswith('.docx')]\n",
    "pdf_files = [f for f in os.listdir(output_dir) if f.endswith('.pdf')]\n",
    "\n",
    "print(\"\\n📊 生成统计:\")\n",
    "print(f\"Word文档: {len(docx_files)} 个\")\n",
    "print(f\"PDF文件: {len(pdf_files)} 个\")\n",
    "print(f\"输出目录: {output_dir}\")"
   ]
  }
 ],
 "metadata": {
  "kernelspec": {
   "display_name": "Python [conda env:base] *",
   "language": "python",
   "name": "conda-base-py"
  },
  "language_info": {
   "codemirror_mode": {
    "name": "ipython",
    "version": 3
   },
   "file_extension": ".py",
   "mimetype": "text/x-python",
   "name": "python",
   "nbconvert_exporter": "python",
   "pygments_lexer": "ipython3",
   "version": "3.13.5"
  }
 },
 "nbformat": 4,
 "nbformat_minor": 5
}
