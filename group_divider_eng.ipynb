{
 "cells": [
  {
   "cell_type": "code",
   "execution_count": 1,
   "id": "1bccc1a5-490b-4e4c-b884-d16475061fb1",
   "metadata": {
    "tags": []
   },
   "outputs": [],
   "source": [
    "import pandas as pd\n",
    "import os\n",
    "\n",
    "# 获取桌面路径（适用于Windows和Mac系统）\n",
    "desktop_path = os.path.join(os.path.expanduser(\"~\"), \"Desktop\")\n",
    "\n",
    "# 完整的文件路径\n",
    "filename = os.path.join(desktop_path, 'eng_list.csv')\n",
    "\n",
    "# 读取文件\n",
    "df = pd.read_csv(filename)\n",
    "\n",
    "cond=df['序号'].notnull()\n",
    "df=df[cond]\n",
    "\n",
    "df=df.astype({'学号':int})\n",
    "\n",
    "var_list=['序号', '学号', '姓名', '班级']\n",
    "\n",
    "df=df[var_list]"
   ]
  },
  {
   "cell_type": "code",
   "execution_count": 2,
   "id": "9711e26a-53d6-4f94-adcd-2f5f83d8be29",
   "metadata": {
    "tags": []
   },
   "outputs": [
    {
     "data": {
      "text/plain": [
       "班级\n",
       "经济学类                6\n",
       "商学院本科               2\n",
       "应用经济学院经济学类          2\n",
       "经济学（中国特色经济学方向）拔尖    1\n",
       "Name: count, dtype: int64"
      ]
     },
     "execution_count": 2,
     "metadata": {},
     "output_type": "execute_result"
    }
   ],
   "source": [
    "df['班级'].replace(r'\\d\\d\\d\\d|级|\\d|班','',regex=True).value_counts()"
   ]
  },
  {
   "cell_type": "code",
   "execution_count": 3,
   "id": "ad3c71e2-20f9-4602-8d17-a0f6b421f80b",
   "metadata": {
    "tags": []
   },
   "outputs": [],
   "source": [
    "df_groups=df.sample(frac = 1,random_state=202509)\n",
    "\n",
    "df_groups['number'] = range(len(df_groups))\n",
    "\n",
    "n_members=4\n",
    "\n",
    "df_groups['group']=df_groups['number']//n_members+1"
   ]
  },
  {
   "cell_type": "code",
   "execution_count": 4,
   "id": "2823026a-d72a-42f0-9b62-9b634f19b533",
   "metadata": {
    "tags": []
   },
   "outputs": [
    {
     "data": {
      "text/html": [
       "<div>\n",
       "<style scoped>\n",
       "    .dataframe tbody tr th:only-of-type {\n",
       "        vertical-align: middle;\n",
       "    }\n",
       "\n",
       "    .dataframe tbody tr th {\n",
       "        vertical-align: top;\n",
       "    }\n",
       "\n",
       "    .dataframe thead th {\n",
       "        text-align: right;\n",
       "    }\n",
       "</style>\n",
       "<table border=\"1\" class=\"dataframe\">\n",
       "  <thead>\n",
       "    <tr style=\"text-align: right;\">\n",
       "      <th></th>\n",
       "      <th>序号</th>\n",
       "      <th>学号</th>\n",
       "      <th>姓名</th>\n",
       "      <th>班级</th>\n",
       "      <th>number</th>\n",
       "      <th>group</th>\n",
       "    </tr>\n",
       "  </thead>\n",
       "  <tbody>\n",
       "    <tr>\n",
       "      <th>11</th>\n",
       "      <td>11.0</td>\n",
       "      <td>2023200763</td>\n",
       "      <td>陈丽啦</td>\n",
       "      <td>2023经济学类3班</td>\n",
       "      <td>0</td>\n",
       "      <td>1</td>\n",
       "    </tr>\n",
       "    <tr>\n",
       "      <th>1</th>\n",
       "      <td>1.0</td>\n",
       "      <td>2022200665</td>\n",
       "      <td>章子航</td>\n",
       "      <td>2022经济学（中国特色经济学方向）拔尖班</td>\n",
       "      <td>1</td>\n",
       "      <td>1</td>\n",
       "    </tr>\n",
       "    <tr>\n",
       "      <th>4</th>\n",
       "      <td>4.0</td>\n",
       "      <td>2022201794</td>\n",
       "      <td>李春</td>\n",
       "      <td>商学院2022级本科1班</td>\n",
       "      <td>2</td>\n",
       "      <td>1</td>\n",
       "    </tr>\n",
       "    <tr>\n",
       "      <th>9</th>\n",
       "      <td>9.0</td>\n",
       "      <td>2023200631</td>\n",
       "      <td>郑融奇</td>\n",
       "      <td>2023经济学类3班</td>\n",
       "      <td>3</td>\n",
       "      <td>1</td>\n",
       "    </tr>\n",
       "    <tr>\n",
       "      <th>5</th>\n",
       "      <td>5.0</td>\n",
       "      <td>2022202573</td>\n",
       "      <td>刘子意</td>\n",
       "      <td>2022级应用经济学院经济学类2班</td>\n",
       "      <td>4</td>\n",
       "      <td>2</td>\n",
       "    </tr>\n",
       "    <tr>\n",
       "      <th>10</th>\n",
       "      <td>10.0</td>\n",
       "      <td>2023200743</td>\n",
       "      <td>周方健</td>\n",
       "      <td>2023经济学类3班</td>\n",
       "      <td>5</td>\n",
       "      <td>2</td>\n",
       "    </tr>\n",
       "    <tr>\n",
       "      <th>2</th>\n",
       "      <td>2.0</td>\n",
       "      <td>2022201745</td>\n",
       "      <td>张嘉麟</td>\n",
       "      <td>商学院2022级本科1班</td>\n",
       "      <td>6</td>\n",
       "      <td>2</td>\n",
       "    </tr>\n",
       "    <tr>\n",
       "      <th>3</th>\n",
       "      <td>3.0</td>\n",
       "      <td>2022201791</td>\n",
       "      <td>马雨翔</td>\n",
       "      <td>2022经济学类1班</td>\n",
       "      <td>7</td>\n",
       "      <td>2</td>\n",
       "    </tr>\n",
       "    <tr>\n",
       "      <th>8</th>\n",
       "      <td>8.0</td>\n",
       "      <td>2022202729</td>\n",
       "      <td>梁东成</td>\n",
       "      <td>2022级应用经济学院经济学类2班</td>\n",
       "      <td>8</td>\n",
       "      <td>3</td>\n",
       "    </tr>\n",
       "    <tr>\n",
       "      <th>7</th>\n",
       "      <td>7.0</td>\n",
       "      <td>2022202717</td>\n",
       "      <td>张凌蔚</td>\n",
       "      <td>2022经济学类1班</td>\n",
       "      <td>9</td>\n",
       "      <td>3</td>\n",
       "    </tr>\n",
       "    <tr>\n",
       "      <th>6</th>\n",
       "      <td>6.0</td>\n",
       "      <td>2022202683</td>\n",
       "      <td>靳沛峣</td>\n",
       "      <td>2022经济学类3班</td>\n",
       "      <td>10</td>\n",
       "      <td>3</td>\n",
       "    </tr>\n",
       "  </tbody>\n",
       "</table>\n",
       "</div>"
      ],
      "text/plain": [
       "      序号          学号   姓名                     班级  number  group\n",
       "11  11.0  2023200763  陈丽啦             2023经济学类3班       0      1\n",
       "1    1.0  2022200665  章子航  2022经济学（中国特色经济学方向）拔尖班       1      1\n",
       "4    4.0  2022201794   李春           商学院2022级本科1班       2      1\n",
       "9    9.0  2023200631  郑融奇             2023经济学类3班       3      1\n",
       "5    5.0  2022202573  刘子意      2022级应用经济学院经济学类2班       4      2\n",
       "10  10.0  2023200743  周方健             2023经济学类3班       5      2\n",
       "2    2.0  2022201745  张嘉麟           商学院2022级本科1班       6      2\n",
       "3    3.0  2022201791  马雨翔             2022经济学类1班       7      2\n",
       "8    8.0  2022202729  梁东成      2022级应用经济学院经济学类2班       8      3\n",
       "7    7.0  2022202717  张凌蔚             2022经济学类1班       9      3\n",
       "6    6.0  2022202683  靳沛峣             2022经济学类3班      10      3"
      ]
     },
     "execution_count": 4,
     "metadata": {},
     "output_type": "execute_result"
    }
   ],
   "source": [
    "df_groups.sort_values(by='group')"
   ]
  },
  {
   "cell_type": "code",
   "execution_count": null,
   "id": "11a807db",
   "metadata": {},
   "outputs": [],
   "source": []
  }
 ],
 "metadata": {
  "kernelspec": {
   "display_name": "Python [conda env:base] *",
   "language": "python",
   "name": "conda-base-py"
  },
  "language_info": {
   "codemirror_mode": {
    "name": "ipython",
    "version": 3
   },
   "file_extension": ".py",
   "mimetype": "text/x-python",
   "name": "python",
   "nbconvert_exporter": "python",
   "pygments_lexer": "ipython3",
   "version": "3.12.4"
  }
 },
 "nbformat": 4,
 "nbformat_minor": 5
}
